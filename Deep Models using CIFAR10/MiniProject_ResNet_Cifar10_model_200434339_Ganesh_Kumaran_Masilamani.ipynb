{
  "nbformat": 4,
  "nbformat_minor": 0,
  "metadata": {
    "colab": {
      "name": "MiniProject_ResNet_Cifar10_model_200434339_Ganesh_Kumaran_Masilamani.ipynb",
      "provenance": [],
      "collapsed_sections": [],
      "machine_shape": "hm"
    },
    "kernelspec": {
      "display_name": "Python 3",
      "name": "python3"
    },
    "accelerator": "GPU",
    "widgets": {
      "application/vnd.jupyter.widget-state+json": {
        "9eedf031185347fdbdf919fb809bb535": {
          "model_module": "@jupyter-widgets/controls",
          "model_name": "HBoxModel",
          "state": {
            "_view_name": "HBoxView",
            "_dom_classes": [],
            "_model_name": "HBoxModel",
            "_view_module": "@jupyter-widgets/controls",
            "_model_module_version": "1.5.0",
            "_view_count": null,
            "_view_module_version": "1.5.0",
            "box_style": "",
            "layout": "IPY_MODEL_36fd3a23156e4e6fa0105da52a7038aa",
            "_model_module": "@jupyter-widgets/controls",
            "children": [
              "IPY_MODEL_0fe87ba9c06b4b62ab8e2a0ddd5f6ca1",
              "IPY_MODEL_61a042651ec445a0af49c28fcce651b5"
            ]
          }
        },
        "36fd3a23156e4e6fa0105da52a7038aa": {
          "model_module": "@jupyter-widgets/base",
          "model_name": "LayoutModel",
          "state": {
            "_view_name": "LayoutView",
            "grid_template_rows": null,
            "right": null,
            "justify_content": null,
            "_view_module": "@jupyter-widgets/base",
            "overflow": null,
            "_model_module_version": "1.2.0",
            "_view_count": null,
            "flex_flow": null,
            "width": null,
            "min_width": null,
            "border": null,
            "align_items": null,
            "bottom": null,
            "_model_module": "@jupyter-widgets/base",
            "top": null,
            "grid_column": null,
            "overflow_y": null,
            "overflow_x": null,
            "grid_auto_flow": null,
            "grid_area": null,
            "grid_template_columns": null,
            "flex": null,
            "_model_name": "LayoutModel",
            "justify_items": null,
            "grid_row": null,
            "max_height": null,
            "align_content": null,
            "visibility": null,
            "align_self": null,
            "height": null,
            "min_height": null,
            "padding": null,
            "grid_auto_rows": null,
            "grid_gap": null,
            "max_width": null,
            "order": null,
            "_view_module_version": "1.2.0",
            "grid_template_areas": null,
            "object_position": null,
            "object_fit": null,
            "grid_auto_columns": null,
            "margin": null,
            "display": null,
            "left": null
          }
        },
        "0fe87ba9c06b4b62ab8e2a0ddd5f6ca1": {
          "model_module": "@jupyter-widgets/controls",
          "model_name": "FloatProgressModel",
          "state": {
            "_view_name": "ProgressView",
            "style": "IPY_MODEL_0089b4ebdf464731988f6222046c153e",
            "_dom_classes": [],
            "description": "",
            "_model_name": "FloatProgressModel",
            "bar_style": "success",
            "max": 170498071,
            "_view_module": "@jupyter-widgets/controls",
            "_model_module_version": "1.5.0",
            "value": 170498071,
            "_view_count": null,
            "_view_module_version": "1.5.0",
            "orientation": "horizontal",
            "min": 0,
            "description_tooltip": null,
            "_model_module": "@jupyter-widgets/controls",
            "layout": "IPY_MODEL_6c66c2b58df24e2ba78d410f3fbf9298"
          }
        },
        "61a042651ec445a0af49c28fcce651b5": {
          "model_module": "@jupyter-widgets/controls",
          "model_name": "HTMLModel",
          "state": {
            "_view_name": "HTMLView",
            "style": "IPY_MODEL_15ce87e4f4e44f27ba29b73c6f9aa148",
            "_dom_classes": [],
            "description": "",
            "_model_name": "HTMLModel",
            "placeholder": "​",
            "_view_module": "@jupyter-widgets/controls",
            "_model_module_version": "1.5.0",
            "value": " 170499072/? [00:08&lt;00:00, 19230671.42it/s]",
            "_view_count": null,
            "_view_module_version": "1.5.0",
            "description_tooltip": null,
            "_model_module": "@jupyter-widgets/controls",
            "layout": "IPY_MODEL_693668b57c6246b4ac98de44e0842bd1"
          }
        },
        "0089b4ebdf464731988f6222046c153e": {
          "model_module": "@jupyter-widgets/controls",
          "model_name": "ProgressStyleModel",
          "state": {
            "_view_name": "StyleView",
            "_model_name": "ProgressStyleModel",
            "description_width": "initial",
            "_view_module": "@jupyter-widgets/base",
            "_model_module_version": "1.5.0",
            "_view_count": null,
            "_view_module_version": "1.2.0",
            "bar_color": null,
            "_model_module": "@jupyter-widgets/controls"
          }
        },
        "6c66c2b58df24e2ba78d410f3fbf9298": {
          "model_module": "@jupyter-widgets/base",
          "model_name": "LayoutModel",
          "state": {
            "_view_name": "LayoutView",
            "grid_template_rows": null,
            "right": null,
            "justify_content": null,
            "_view_module": "@jupyter-widgets/base",
            "overflow": null,
            "_model_module_version": "1.2.0",
            "_view_count": null,
            "flex_flow": null,
            "width": null,
            "min_width": null,
            "border": null,
            "align_items": null,
            "bottom": null,
            "_model_module": "@jupyter-widgets/base",
            "top": null,
            "grid_column": null,
            "overflow_y": null,
            "overflow_x": null,
            "grid_auto_flow": null,
            "grid_area": null,
            "grid_template_columns": null,
            "flex": null,
            "_model_name": "LayoutModel",
            "justify_items": null,
            "grid_row": null,
            "max_height": null,
            "align_content": null,
            "visibility": null,
            "align_self": null,
            "height": null,
            "min_height": null,
            "padding": null,
            "grid_auto_rows": null,
            "grid_gap": null,
            "max_width": null,
            "order": null,
            "_view_module_version": "1.2.0",
            "grid_template_areas": null,
            "object_position": null,
            "object_fit": null,
            "grid_auto_columns": null,
            "margin": null,
            "display": null,
            "left": null
          }
        },
        "15ce87e4f4e44f27ba29b73c6f9aa148": {
          "model_module": "@jupyter-widgets/controls",
          "model_name": "DescriptionStyleModel",
          "state": {
            "_view_name": "StyleView",
            "_model_name": "DescriptionStyleModel",
            "description_width": "",
            "_view_module": "@jupyter-widgets/base",
            "_model_module_version": "1.5.0",
            "_view_count": null,
            "_view_module_version": "1.2.0",
            "_model_module": "@jupyter-widgets/controls"
          }
        },
        "693668b57c6246b4ac98de44e0842bd1": {
          "model_module": "@jupyter-widgets/base",
          "model_name": "LayoutModel",
          "state": {
            "_view_name": "LayoutView",
            "grid_template_rows": null,
            "right": null,
            "justify_content": null,
            "_view_module": "@jupyter-widgets/base",
            "overflow": null,
            "_model_module_version": "1.2.0",
            "_view_count": null,
            "flex_flow": null,
            "width": null,
            "min_width": null,
            "border": null,
            "align_items": null,
            "bottom": null,
            "_model_module": "@jupyter-widgets/base",
            "top": null,
            "grid_column": null,
            "overflow_y": null,
            "overflow_x": null,
            "grid_auto_flow": null,
            "grid_area": null,
            "grid_template_columns": null,
            "flex": null,
            "_model_name": "LayoutModel",
            "justify_items": null,
            "grid_row": null,
            "max_height": null,
            "align_content": null,
            "visibility": null,
            "align_self": null,
            "height": null,
            "min_height": null,
            "padding": null,
            "grid_auto_rows": null,
            "grid_gap": null,
            "max_width": null,
            "order": null,
            "_view_module_version": "1.2.0",
            "grid_template_areas": null,
            "object_position": null,
            "object_fit": null,
            "grid_auto_columns": null,
            "margin": null,
            "display": null,
            "left": null
          }
        },
        "f54d1f5a33714b04bbb0685cbac9ec44": {
          "model_module": "@jupyter-widgets/controls",
          "model_name": "HBoxModel",
          "state": {
            "_view_name": "HBoxView",
            "_dom_classes": [],
            "_model_name": "HBoxModel",
            "_view_module": "@jupyter-widgets/controls",
            "_model_module_version": "1.5.0",
            "_view_count": null,
            "_view_module_version": "1.5.0",
            "box_style": "",
            "layout": "IPY_MODEL_a4bf537303dc4d0cbc0941651047da2e",
            "_model_module": "@jupyter-widgets/controls",
            "children": [
              "IPY_MODEL_7b63194be9374a3ea51181af0c3b3598",
              "IPY_MODEL_b3943e03f3f74e768bf73f50aabb2f0e"
            ]
          }
        },
        "a4bf537303dc4d0cbc0941651047da2e": {
          "model_module": "@jupyter-widgets/base",
          "model_name": "LayoutModel",
          "state": {
            "_view_name": "LayoutView",
            "grid_template_rows": null,
            "right": null,
            "justify_content": null,
            "_view_module": "@jupyter-widgets/base",
            "overflow": null,
            "_model_module_version": "1.2.0",
            "_view_count": null,
            "flex_flow": null,
            "width": null,
            "min_width": null,
            "border": null,
            "align_items": null,
            "bottom": null,
            "_model_module": "@jupyter-widgets/base",
            "top": null,
            "grid_column": null,
            "overflow_y": null,
            "overflow_x": null,
            "grid_auto_flow": null,
            "grid_area": null,
            "grid_template_columns": null,
            "flex": null,
            "_model_name": "LayoutModel",
            "justify_items": null,
            "grid_row": null,
            "max_height": null,
            "align_content": null,
            "visibility": null,
            "align_self": null,
            "height": null,
            "min_height": null,
            "padding": null,
            "grid_auto_rows": null,
            "grid_gap": null,
            "max_width": null,
            "order": null,
            "_view_module_version": "1.2.0",
            "grid_template_areas": null,
            "object_position": null,
            "object_fit": null,
            "grid_auto_columns": null,
            "margin": null,
            "display": null,
            "left": null
          }
        },
        "7b63194be9374a3ea51181af0c3b3598": {
          "model_module": "@jupyter-widgets/controls",
          "model_name": "FloatProgressModel",
          "state": {
            "_view_name": "ProgressView",
            "style": "IPY_MODEL_21e7a481c54b481d8b5db3e0ea376f7e",
            "_dom_classes": [],
            "description": "",
            "_model_name": "FloatProgressModel",
            "bar_style": "success",
            "max": 170498071,
            "_view_module": "@jupyter-widgets/controls",
            "_model_module_version": "1.5.0",
            "value": 170498071,
            "_view_count": null,
            "_view_module_version": "1.5.0",
            "orientation": "horizontal",
            "min": 0,
            "description_tooltip": null,
            "_model_module": "@jupyter-widgets/controls",
            "layout": "IPY_MODEL_9cff0a0a69064faaa5c06fb6895bdf97"
          }
        },
        "b3943e03f3f74e768bf73f50aabb2f0e": {
          "model_module": "@jupyter-widgets/controls",
          "model_name": "HTMLModel",
          "state": {
            "_view_name": "HTMLView",
            "style": "IPY_MODEL_c0cdd27e3b084476b324f101885f478b",
            "_dom_classes": [],
            "description": "",
            "_model_name": "HTMLModel",
            "placeholder": "​",
            "_view_module": "@jupyter-widgets/controls",
            "_model_module_version": "1.5.0",
            "value": " 170499072/? [00:09&lt;00:00, 17442811.96it/s]",
            "_view_count": null,
            "_view_module_version": "1.5.0",
            "description_tooltip": null,
            "_model_module": "@jupyter-widgets/controls",
            "layout": "IPY_MODEL_3883584583ed4ee781e156a23e5f7713"
          }
        },
        "21e7a481c54b481d8b5db3e0ea376f7e": {
          "model_module": "@jupyter-widgets/controls",
          "model_name": "ProgressStyleModel",
          "state": {
            "_view_name": "StyleView",
            "_model_name": "ProgressStyleModel",
            "description_width": "initial",
            "_view_module": "@jupyter-widgets/base",
            "_model_module_version": "1.5.0",
            "_view_count": null,
            "_view_module_version": "1.2.0",
            "bar_color": null,
            "_model_module": "@jupyter-widgets/controls"
          }
        },
        "9cff0a0a69064faaa5c06fb6895bdf97": {
          "model_module": "@jupyter-widgets/base",
          "model_name": "LayoutModel",
          "state": {
            "_view_name": "LayoutView",
            "grid_template_rows": null,
            "right": null,
            "justify_content": null,
            "_view_module": "@jupyter-widgets/base",
            "overflow": null,
            "_model_module_version": "1.2.0",
            "_view_count": null,
            "flex_flow": null,
            "width": null,
            "min_width": null,
            "border": null,
            "align_items": null,
            "bottom": null,
            "_model_module": "@jupyter-widgets/base",
            "top": null,
            "grid_column": null,
            "overflow_y": null,
            "overflow_x": null,
            "grid_auto_flow": null,
            "grid_area": null,
            "grid_template_columns": null,
            "flex": null,
            "_model_name": "LayoutModel",
            "justify_items": null,
            "grid_row": null,
            "max_height": null,
            "align_content": null,
            "visibility": null,
            "align_self": null,
            "height": null,
            "min_height": null,
            "padding": null,
            "grid_auto_rows": null,
            "grid_gap": null,
            "max_width": null,
            "order": null,
            "_view_module_version": "1.2.0",
            "grid_template_areas": null,
            "object_position": null,
            "object_fit": null,
            "grid_auto_columns": null,
            "margin": null,
            "display": null,
            "left": null
          }
        },
        "c0cdd27e3b084476b324f101885f478b": {
          "model_module": "@jupyter-widgets/controls",
          "model_name": "DescriptionStyleModel",
          "state": {
            "_view_name": "StyleView",
            "_model_name": "DescriptionStyleModel",
            "description_width": "",
            "_view_module": "@jupyter-widgets/base",
            "_model_module_version": "1.5.0",
            "_view_count": null,
            "_view_module_version": "1.2.0",
            "_model_module": "@jupyter-widgets/controls"
          }
        },
        "3883584583ed4ee781e156a23e5f7713": {
          "model_module": "@jupyter-widgets/base",
          "model_name": "LayoutModel",
          "state": {
            "_view_name": "LayoutView",
            "grid_template_rows": null,
            "right": null,
            "justify_content": null,
            "_view_module": "@jupyter-widgets/base",
            "overflow": null,
            "_model_module_version": "1.2.0",
            "_view_count": null,
            "flex_flow": null,
            "width": null,
            "min_width": null,
            "border": null,
            "align_items": null,
            "bottom": null,
            "_model_module": "@jupyter-widgets/base",
            "top": null,
            "grid_column": null,
            "overflow_y": null,
            "overflow_x": null,
            "grid_auto_flow": null,
            "grid_area": null,
            "grid_template_columns": null,
            "flex": null,
            "_model_name": "LayoutModel",
            "justify_items": null,
            "grid_row": null,
            "max_height": null,
            "align_content": null,
            "visibility": null,
            "align_self": null,
            "height": null,
            "min_height": null,
            "padding": null,
            "grid_auto_rows": null,
            "grid_gap": null,
            "max_width": null,
            "order": null,
            "_view_module_version": "1.2.0",
            "grid_template_areas": null,
            "object_position": null,
            "object_fit": null,
            "grid_auto_columns": null,
            "margin": null,
            "display": null,
            "left": null
          }
        }
      }
    }
  },
  "cells": [
    {
      "cell_type": "markdown",
      "metadata": {
        "id": "gQ9IaIIMtFC3"
      },
      "source": [
        "#**Deep Learning and Computer Vision - Mini Project**"
      ]
    },
    {
      "cell_type": "markdown",
      "metadata": {
        "id": "RnqbItN4tFAa"
      },
      "source": [
        "**NAME** - Ganesh Kumaran Masilamani\n",
        "\n",
        "**STUDENT NUMBER** - 200434339\n",
        "\n",
        "**PROJECT TITLE** - Deep Neural Networks for Image Classification"
      ]
    },
    {
      "cell_type": "markdown",
      "metadata": {
        "id": "MelG3AdYtE-l"
      },
      "source": [
        "###**In this Notebook we will be using GoogleNet Architecture as our deep Network to do image classification in CIFAR10 dataset.**\n",
        "\n",
        "#**DEEP NETWORK MODEL-2 -->  RESNET**"
      ]
    },
    {
      "cell_type": "code",
      "metadata": {
        "id": "fMcruYVWuPXa"
      },
      "source": [
        "#Libraries Imported\n",
        "import time\n",
        "import os\n",
        "import numpy as np\n",
        "import torch\n",
        "import torch.nn as nn\n",
        "import torch.optim as optim\n",
        "import torch.nn.functional as F\n",
        "from torchvision.utils import make_grid\n",
        "import torchvision\n",
        "from torchvision import datasets\n",
        "from torchvision import transforms\n",
        "import matplotlib.pyplot as plt\n",
        "import seaborn as sns\n",
        "sns.set_style('darkgrid')\n",
        "import pickle\n",
        "from sklearn.metrics import confusion_matrix\n",
        "from sklearn.metrics import ConfusionMatrixDisplay\n",
        "from datetime import datetime\n",
        "Date_time = datetime.now()\n",
        "date = Date_time.strftime(\"%d/%m/%Y\")\n",
        "Time = Date_time.strftime(\"%H:%M:%S\")"
      ],
      "execution_count": 1,
      "outputs": []
    },
    {
      "cell_type": "markdown",
      "metadata": {
        "id": "hfush0LoJKHB"
      },
      "source": [
        "##**Loading the CIFAR-10 Dataset**"
      ]
    },
    {
      "cell_type": "code",
      "metadata": {
        "id": "wSWJZvrsmDKD",
        "colab": {
          "base_uri": "https://localhost:8080/",
          "height": 200,
          "referenced_widgets": [
            "9eedf031185347fdbdf919fb809bb535",
            "36fd3a23156e4e6fa0105da52a7038aa",
            "0fe87ba9c06b4b62ab8e2a0ddd5f6ca1",
            "61a042651ec445a0af49c28fcce651b5",
            "0089b4ebdf464731988f6222046c153e",
            "6c66c2b58df24e2ba78d410f3fbf9298",
            "15ce87e4f4e44f27ba29b73c6f9aa148",
            "693668b57c6246b4ac98de44e0842bd1",
            "f54d1f5a33714b04bbb0685cbac9ec44",
            "a4bf537303dc4d0cbc0941651047da2e",
            "7b63194be9374a3ea51181af0c3b3598",
            "b3943e03f3f74e768bf73f50aabb2f0e",
            "21e7a481c54b481d8b5db3e0ea376f7e",
            "9cff0a0a69064faaa5c06fb6895bdf97",
            "c0cdd27e3b084476b324f101885f478b",
            "3883584583ed4ee781e156a23e5f7713"
          ]
        },
        "outputId": "59396292-2b8e-4e95-f141-ede82f891d5c"
      },
      "source": [
        "#Downloading and Loading the CIFAR-10 dataset \n",
        "def Load_cifar10_data(batch_size, root=os.path.join('CIFAR10_DATASET')):\n",
        "    final_root = os.path.expanduser(root)\n",
        "    \n",
        "    #Normalizing the Dataset\n",
        "    Transform_train = transforms.Compose([transforms.RandomCrop(32, padding=4), transforms.RandomHorizontalFlip(),\n",
        "                                          transforms.ToTensor(), transforms.Normalize((0.4914, 0.4822, 0.4465), (0.2023, 0.1994, 0.2010))])\n",
        "    Transform_test = transforms.Compose([transforms.ToTensor(), transforms.Normalize((0.4914, 0.4822, 0.4465), (0.2023, 0.1994, 0.2010))])\n",
        "    \n",
        "    #Downloading the CIFAR10 dataset\n",
        "    Train_set = torchvision.datasets.CIFAR10(root=final_root, train=True, download=True, transform=Transform_train)\n",
        "    Test_set = torchvision.datasets.CIFAR10(root=final_root, train=False, download=True, transform=Transform_test)\n",
        "\n",
        "    #loading the dataset and assign it to a variable\n",
        "    Load_CIFAR_traindata =torch.utils.data.DataLoader(Train_set, batch_size, shuffle=True)\n",
        "    Load_CIFAR_testdata =torch.utils.data.DataLoader(Test_set, batch_size, shuffle=False)\n",
        "    return Load_CIFAR_traindata, Load_CIFAR_testdata\n",
        "\n",
        "Transform_test = transforms.Compose([transforms.ToTensor(), transforms.Normalize((0.4914, 0.4822, 0.4465), (0.2023, 0.1994, 0.2010))])\n",
        "CIFAR10_testdata = torchvision.datasets.CIFAR10(root='Cifar', train=False, download=True, transform=Transform_test)\n",
        "\n",
        "#load the function of the CIFAR-10 dataset to the train and test variable loader\n",
        "Traindata_Loader, Testdata_Loader = Load_cifar10_data(batch_size=128, root=os.path.join('CIFAR10_DATASET'))"
      ],
      "execution_count": 2,
      "outputs": [
        {
          "output_type": "stream",
          "text": [
            "Downloading https://www.cs.toronto.edu/~kriz/cifar-10-python.tar.gz to Cifar/cifar-10-python.tar.gz\n"
          ],
          "name": "stdout"
        },
        {
          "output_type": "display_data",
          "data": {
            "application/vnd.jupyter.widget-view+json": {
              "model_id": "9eedf031185347fdbdf919fb809bb535",
              "version_minor": 0,
              "version_major": 2
            },
            "text/plain": [
              "HBox(children=(FloatProgress(value=0.0, max=170498071.0), HTML(value='')))"
            ]
          },
          "metadata": {
            "tags": []
          }
        },
        {
          "output_type": "stream",
          "text": [
            "\n",
            "Extracting Cifar/cifar-10-python.tar.gz to Cifar\n",
            "Downloading https://www.cs.toronto.edu/~kriz/cifar-10-python.tar.gz to CIFAR10_DATASET/cifar-10-python.tar.gz\n"
          ],
          "name": "stdout"
        },
        {
          "output_type": "display_data",
          "data": {
            "application/vnd.jupyter.widget-view+json": {
              "model_id": "f54d1f5a33714b04bbb0685cbac9ec44",
              "version_minor": 0,
              "version_major": 2
            },
            "text/plain": [
              "HBox(children=(FloatProgress(value=0.0, max=170498071.0), HTML(value='')))"
            ]
          },
          "metadata": {
            "tags": []
          }
        },
        {
          "output_type": "stream",
          "text": [
            "\n",
            "Extracting CIFAR10_DATASET/cifar-10-python.tar.gz to CIFAR10_DATASET\n",
            "Files already downloaded and verified\n"
          ],
          "name": "stdout"
        }
      ]
    },
    {
      "cell_type": "markdown",
      "metadata": {
        "id": "KdBmy4wSJ2r6"
      },
      "source": [
        "##**Developing ResNet Architecture**"
      ]
    },
    {
      "cell_type": "code",
      "metadata": {
        "colab": {
          "base_uri": "https://localhost:8080/"
        },
        "id": "b203uX82z5rZ",
        "outputId": "a9af1840-a782-456b-f827-bfed765648c3"
      },
      "source": [
        "#########################################################RESNET ARCHITECTURE####################################################################\n",
        "#initialising the bottleneck of the resnet network which is used for forming the basic layer of the network\n",
        "class bottleneck_resnet(torch.nn.Module):\n",
        "    Extension_Net = 1\n",
        "    def __init__(self, Channel_In, filter_channel, stride=1):\n",
        "        super(bottleneck_resnet, self).__init__()\n",
        "        self.convolutional_layer1 = torch.nn.Conv2d(Channel_In, filter_channel, kernel_size=3, stride=stride, padding=1, bias=True)\n",
        "        self.normalization_layer1 = torch.nn.BatchNorm2d(filter_channel)\n",
        "        self.convolutional_layer2 = torch.nn.Conv2d(filter_channel, filter_channel, kernel_size=3, stride=1, padding=1, bias=True)\n",
        "        self.normalization_layer2 = torch.nn.BatchNorm2d(filter_channel)\n",
        "        self.Pass_route = torch.nn.Sequential()\n",
        "        if stride != 1 or Channel_In != self.Extension_Net * filter_channel:\n",
        "            self.Pass_route = torch.nn.Sequential(torch.nn.Conv2d(Channel_In, self.Extension_Net * filter_channel, kernel_size=1, stride=stride, bias=True),\n",
        "                                                  torch.nn.BatchNorm2d(self.Extension_Net * filter_channel))\n",
        "\n",
        "    def forward(self, out):\n",
        "        final_out = torch.nn.functional.relu(self.normalization_layer1(self.convolutional_layer1(out)))\n",
        "        final_out = self.normalization_layer2(self.convolutional_layer2(final_out))\n",
        "        final_out += self.Pass_route(out)\n",
        "        final_out = torch.nn.functional.relu(final_out)\n",
        "        return final_out\n",
        "\n",
        "#creating the architecture of the RESNET \n",
        "class ResNet(torch.nn.Module):\n",
        "    #initialise the convolutional layer to append the hyperparameters \n",
        "    def ResNet_conv_layer(self, conv_net, filter_channel, conv_net_int, stride):\n",
        "        ST = [stride] + [1]*(conv_net_int-1)\n",
        "        net_layer = []\n",
        "        for stride in ST :\n",
        "            net_layer.append(conv_net(self.Channel_In, filter_channel, stride))\n",
        "            self.Channel_In = filter_channel * conv_net.Extension_Net\n",
        "        return torch.nn.Sequential(*net_layer)\n",
        "\n",
        "    def __init__(self, conv_net, conv_net_int, num_classes=10):\n",
        "        super(ResNet, self).__init__()\n",
        "        self.Channel_In = 64\n",
        "        self.Conv_layer1 = torch.nn.Conv2d(3, 64, kernel_size=3, stride=1, padding=1, bias=True)\n",
        "        self.batchnorm_layer1 = torch.nn.BatchNorm2d(64)\n",
        "        self.Resnet_defined_layer1 = self.ResNet_conv_layer(conv_net, 64, conv_net_int[0], stride=1)\n",
        "        self.Resnet_defined_layer2 = self.ResNet_conv_layer(conv_net, 128, conv_net_int[1], stride=2)\n",
        "        self.Resnet_defined_layer3 = self.ResNet_conv_layer(conv_net, 256, conv_net_int[2], stride=2)\n",
        "        self.Resnet_defined_layer4 = self.ResNet_conv_layer(conv_net, 512, conv_net_int[3], stride=2)\n",
        "        self.final_layer = torch.nn.Linear(512 * conv_net.Extension_Net, num_classes)\n",
        "\n",
        "    def forward(self, out):\n",
        "        final_out = torch.nn.functional.relu(self.batchnorm_layer1(self.Conv_layer1(out)))\n",
        "        final_out = self.Resnet_defined_layer1(final_out)\n",
        "        final_out = self.Resnet_defined_layer2(final_out)\n",
        "        final_out = self.Resnet_defined_layer3(final_out)\n",
        "        final_out = self.Resnet_defined_layer4(final_out)\n",
        "        final_out = torch.nn.functional.avg_pool2d(final_out, 4)\n",
        "        final_out = final_out.view(out.size(0), -1)\n",
        "        final_out = self.final_layer(final_out)\n",
        "        return final_out\n",
        "\n",
        "#defining the resnet Network type\n",
        "def ResNet34_Architecture():\n",
        "    return ResNet(bottleneck_resnet, [3, 4, 6, 3])\n",
        "\n",
        "#Updating the weights of the network\n",
        "Network_arch = ResNet34_Architecture()\n",
        "#Initialize the Weights and display the Network architecture\n",
        "def Initialise_weights(layer_weight):\n",
        "    if type(layer_weight) == torch.nn.Conv2d:\n",
        "        torch.nn.init.xavier_uniform_(layer_weight.weight)\n",
        "Network_arch.apply(Initialise_weights)"
      ],
      "execution_count": 3,
      "outputs": [
        {
          "output_type": "execute_result",
          "data": {
            "text/plain": [
              "ResNet(\n",
              "  (Conv_layer1): Conv2d(3, 64, kernel_size=(3, 3), stride=(1, 1), padding=(1, 1))\n",
              "  (batchnorm_layer1): BatchNorm2d(64, eps=1e-05, momentum=0.1, affine=True, track_running_stats=True)\n",
              "  (Resnet_defined_layer1): Sequential(\n",
              "    (0): bottleneck_resnet(\n",
              "      (convolutional_layer1): Conv2d(64, 64, kernel_size=(3, 3), stride=(1, 1), padding=(1, 1))\n",
              "      (normalization_layer1): BatchNorm2d(64, eps=1e-05, momentum=0.1, affine=True, track_running_stats=True)\n",
              "      (convolutional_layer2): Conv2d(64, 64, kernel_size=(3, 3), stride=(1, 1), padding=(1, 1))\n",
              "      (normalization_layer2): BatchNorm2d(64, eps=1e-05, momentum=0.1, affine=True, track_running_stats=True)\n",
              "      (Pass_route): Sequential()\n",
              "    )\n",
              "    (1): bottleneck_resnet(\n",
              "      (convolutional_layer1): Conv2d(64, 64, kernel_size=(3, 3), stride=(1, 1), padding=(1, 1))\n",
              "      (normalization_layer1): BatchNorm2d(64, eps=1e-05, momentum=0.1, affine=True, track_running_stats=True)\n",
              "      (convolutional_layer2): Conv2d(64, 64, kernel_size=(3, 3), stride=(1, 1), padding=(1, 1))\n",
              "      (normalization_layer2): BatchNorm2d(64, eps=1e-05, momentum=0.1, affine=True, track_running_stats=True)\n",
              "      (Pass_route): Sequential()\n",
              "    )\n",
              "    (2): bottleneck_resnet(\n",
              "      (convolutional_layer1): Conv2d(64, 64, kernel_size=(3, 3), stride=(1, 1), padding=(1, 1))\n",
              "      (normalization_layer1): BatchNorm2d(64, eps=1e-05, momentum=0.1, affine=True, track_running_stats=True)\n",
              "      (convolutional_layer2): Conv2d(64, 64, kernel_size=(3, 3), stride=(1, 1), padding=(1, 1))\n",
              "      (normalization_layer2): BatchNorm2d(64, eps=1e-05, momentum=0.1, affine=True, track_running_stats=True)\n",
              "      (Pass_route): Sequential()\n",
              "    )\n",
              "  )\n",
              "  (Resnet_defined_layer2): Sequential(\n",
              "    (0): bottleneck_resnet(\n",
              "      (convolutional_layer1): Conv2d(64, 128, kernel_size=(3, 3), stride=(2, 2), padding=(1, 1))\n",
              "      (normalization_layer1): BatchNorm2d(128, eps=1e-05, momentum=0.1, affine=True, track_running_stats=True)\n",
              "      (convolutional_layer2): Conv2d(128, 128, kernel_size=(3, 3), stride=(1, 1), padding=(1, 1))\n",
              "      (normalization_layer2): BatchNorm2d(128, eps=1e-05, momentum=0.1, affine=True, track_running_stats=True)\n",
              "      (Pass_route): Sequential(\n",
              "        (0): Conv2d(64, 128, kernel_size=(1, 1), stride=(2, 2))\n",
              "        (1): BatchNorm2d(128, eps=1e-05, momentum=0.1, affine=True, track_running_stats=True)\n",
              "      )\n",
              "    )\n",
              "    (1): bottleneck_resnet(\n",
              "      (convolutional_layer1): Conv2d(128, 128, kernel_size=(3, 3), stride=(1, 1), padding=(1, 1))\n",
              "      (normalization_layer1): BatchNorm2d(128, eps=1e-05, momentum=0.1, affine=True, track_running_stats=True)\n",
              "      (convolutional_layer2): Conv2d(128, 128, kernel_size=(3, 3), stride=(1, 1), padding=(1, 1))\n",
              "      (normalization_layer2): BatchNorm2d(128, eps=1e-05, momentum=0.1, affine=True, track_running_stats=True)\n",
              "      (Pass_route): Sequential()\n",
              "    )\n",
              "    (2): bottleneck_resnet(\n",
              "      (convolutional_layer1): Conv2d(128, 128, kernel_size=(3, 3), stride=(1, 1), padding=(1, 1))\n",
              "      (normalization_layer1): BatchNorm2d(128, eps=1e-05, momentum=0.1, affine=True, track_running_stats=True)\n",
              "      (convolutional_layer2): Conv2d(128, 128, kernel_size=(3, 3), stride=(1, 1), padding=(1, 1))\n",
              "      (normalization_layer2): BatchNorm2d(128, eps=1e-05, momentum=0.1, affine=True, track_running_stats=True)\n",
              "      (Pass_route): Sequential()\n",
              "    )\n",
              "    (3): bottleneck_resnet(\n",
              "      (convolutional_layer1): Conv2d(128, 128, kernel_size=(3, 3), stride=(1, 1), padding=(1, 1))\n",
              "      (normalization_layer1): BatchNorm2d(128, eps=1e-05, momentum=0.1, affine=True, track_running_stats=True)\n",
              "      (convolutional_layer2): Conv2d(128, 128, kernel_size=(3, 3), stride=(1, 1), padding=(1, 1))\n",
              "      (normalization_layer2): BatchNorm2d(128, eps=1e-05, momentum=0.1, affine=True, track_running_stats=True)\n",
              "      (Pass_route): Sequential()\n",
              "    )\n",
              "  )\n",
              "  (Resnet_defined_layer3): Sequential(\n",
              "    (0): bottleneck_resnet(\n",
              "      (convolutional_layer1): Conv2d(128, 256, kernel_size=(3, 3), stride=(2, 2), padding=(1, 1))\n",
              "      (normalization_layer1): BatchNorm2d(256, eps=1e-05, momentum=0.1, affine=True, track_running_stats=True)\n",
              "      (convolutional_layer2): Conv2d(256, 256, kernel_size=(3, 3), stride=(1, 1), padding=(1, 1))\n",
              "      (normalization_layer2): BatchNorm2d(256, eps=1e-05, momentum=0.1, affine=True, track_running_stats=True)\n",
              "      (Pass_route): Sequential(\n",
              "        (0): Conv2d(128, 256, kernel_size=(1, 1), stride=(2, 2))\n",
              "        (1): BatchNorm2d(256, eps=1e-05, momentum=0.1, affine=True, track_running_stats=True)\n",
              "      )\n",
              "    )\n",
              "    (1): bottleneck_resnet(\n",
              "      (convolutional_layer1): Conv2d(256, 256, kernel_size=(3, 3), stride=(1, 1), padding=(1, 1))\n",
              "      (normalization_layer1): BatchNorm2d(256, eps=1e-05, momentum=0.1, affine=True, track_running_stats=True)\n",
              "      (convolutional_layer2): Conv2d(256, 256, kernel_size=(3, 3), stride=(1, 1), padding=(1, 1))\n",
              "      (normalization_layer2): BatchNorm2d(256, eps=1e-05, momentum=0.1, affine=True, track_running_stats=True)\n",
              "      (Pass_route): Sequential()\n",
              "    )\n",
              "    (2): bottleneck_resnet(\n",
              "      (convolutional_layer1): Conv2d(256, 256, kernel_size=(3, 3), stride=(1, 1), padding=(1, 1))\n",
              "      (normalization_layer1): BatchNorm2d(256, eps=1e-05, momentum=0.1, affine=True, track_running_stats=True)\n",
              "      (convolutional_layer2): Conv2d(256, 256, kernel_size=(3, 3), stride=(1, 1), padding=(1, 1))\n",
              "      (normalization_layer2): BatchNorm2d(256, eps=1e-05, momentum=0.1, affine=True, track_running_stats=True)\n",
              "      (Pass_route): Sequential()\n",
              "    )\n",
              "    (3): bottleneck_resnet(\n",
              "      (convolutional_layer1): Conv2d(256, 256, kernel_size=(3, 3), stride=(1, 1), padding=(1, 1))\n",
              "      (normalization_layer1): BatchNorm2d(256, eps=1e-05, momentum=0.1, affine=True, track_running_stats=True)\n",
              "      (convolutional_layer2): Conv2d(256, 256, kernel_size=(3, 3), stride=(1, 1), padding=(1, 1))\n",
              "      (normalization_layer2): BatchNorm2d(256, eps=1e-05, momentum=0.1, affine=True, track_running_stats=True)\n",
              "      (Pass_route): Sequential()\n",
              "    )\n",
              "    (4): bottleneck_resnet(\n",
              "      (convolutional_layer1): Conv2d(256, 256, kernel_size=(3, 3), stride=(1, 1), padding=(1, 1))\n",
              "      (normalization_layer1): BatchNorm2d(256, eps=1e-05, momentum=0.1, affine=True, track_running_stats=True)\n",
              "      (convolutional_layer2): Conv2d(256, 256, kernel_size=(3, 3), stride=(1, 1), padding=(1, 1))\n",
              "      (normalization_layer2): BatchNorm2d(256, eps=1e-05, momentum=0.1, affine=True, track_running_stats=True)\n",
              "      (Pass_route): Sequential()\n",
              "    )\n",
              "    (5): bottleneck_resnet(\n",
              "      (convolutional_layer1): Conv2d(256, 256, kernel_size=(3, 3), stride=(1, 1), padding=(1, 1))\n",
              "      (normalization_layer1): BatchNorm2d(256, eps=1e-05, momentum=0.1, affine=True, track_running_stats=True)\n",
              "      (convolutional_layer2): Conv2d(256, 256, kernel_size=(3, 3), stride=(1, 1), padding=(1, 1))\n",
              "      (normalization_layer2): BatchNorm2d(256, eps=1e-05, momentum=0.1, affine=True, track_running_stats=True)\n",
              "      (Pass_route): Sequential()\n",
              "    )\n",
              "  )\n",
              "  (Resnet_defined_layer4): Sequential(\n",
              "    (0): bottleneck_resnet(\n",
              "      (convolutional_layer1): Conv2d(256, 512, kernel_size=(3, 3), stride=(2, 2), padding=(1, 1))\n",
              "      (normalization_layer1): BatchNorm2d(512, eps=1e-05, momentum=0.1, affine=True, track_running_stats=True)\n",
              "      (convolutional_layer2): Conv2d(512, 512, kernel_size=(3, 3), stride=(1, 1), padding=(1, 1))\n",
              "      (normalization_layer2): BatchNorm2d(512, eps=1e-05, momentum=0.1, affine=True, track_running_stats=True)\n",
              "      (Pass_route): Sequential(\n",
              "        (0): Conv2d(256, 512, kernel_size=(1, 1), stride=(2, 2))\n",
              "        (1): BatchNorm2d(512, eps=1e-05, momentum=0.1, affine=True, track_running_stats=True)\n",
              "      )\n",
              "    )\n",
              "    (1): bottleneck_resnet(\n",
              "      (convolutional_layer1): Conv2d(512, 512, kernel_size=(3, 3), stride=(1, 1), padding=(1, 1))\n",
              "      (normalization_layer1): BatchNorm2d(512, eps=1e-05, momentum=0.1, affine=True, track_running_stats=True)\n",
              "      (convolutional_layer2): Conv2d(512, 512, kernel_size=(3, 3), stride=(1, 1), padding=(1, 1))\n",
              "      (normalization_layer2): BatchNorm2d(512, eps=1e-05, momentum=0.1, affine=True, track_running_stats=True)\n",
              "      (Pass_route): Sequential()\n",
              "    )\n",
              "    (2): bottleneck_resnet(\n",
              "      (convolutional_layer1): Conv2d(512, 512, kernel_size=(3, 3), stride=(1, 1), padding=(1, 1))\n",
              "      (normalization_layer1): BatchNorm2d(512, eps=1e-05, momentum=0.1, affine=True, track_running_stats=True)\n",
              "      (convolutional_layer2): Conv2d(512, 512, kernel_size=(3, 3), stride=(1, 1), padding=(1, 1))\n",
              "      (normalization_layer2): BatchNorm2d(512, eps=1e-05, momentum=0.1, affine=True, track_running_stats=True)\n",
              "      (Pass_route): Sequential()\n",
              "    )\n",
              "  )\n",
              "  (final_layer): Linear(in_features=512, out_features=10, bias=True)\n",
              ")"
            ]
          },
          "metadata": {
            "tags": []
          },
          "execution_count": 3
        }
      ]
    },
    {
      "cell_type": "code",
      "metadata": {
        "colab": {
          "base_uri": "https://localhost:8080/"
        },
        "id": "--delmYHz9A1",
        "outputId": "21a67b07-1bf0-40b6-91a6-35066359546a"
      },
      "source": [
        "#enumerating testdata with batch index of source and the target\n",
        "testdata_ex = enumerate(Testdata_Loader)\n",
        "batch_idx, (Val_ex_data, Val_ex_targets) = next(testdata_ex)\n",
        "#printing the shape of the indexed data\n",
        "print(Val_ex_data.shape)"
      ],
      "execution_count": 4,
      "outputs": [
        {
          "output_type": "stream",
          "text": [
            "torch.Size([128, 3, 32, 32])\n"
          ],
          "name": "stdout"
        }
      ]
    },
    {
      "cell_type": "markdown",
      "metadata": {
        "id": "ItC5LmH7LtyN"
      },
      "source": [
        "##**Setting Hyperparameters**"
      ]
    },
    {
      "cell_type": "code",
      "metadata": {
        "id": "j4l9WyqDwVoS"
      },
      "source": [
        "#Initialization of Hyperparameters\n",
        "#Number of epochs\n",
        "EPOCHS = 40\n",
        "#Batch size and the learning rate\n",
        "batch_size= 32\n",
        "Learning_rate= 0.1\n",
        "#Loss Function\n",
        "Loss_criterion_function = torch.nn.CrossEntropyLoss()\n",
        "device =torch.device('cuda' if torch.cuda.is_available() else 'cpu')"
      ],
      "execution_count": 5,
      "outputs": []
    },
    {
      "cell_type": "code",
      "metadata": {
        "id": "Y22TMbheV4xV"
      },
      "source": [
        "#For storing the generated train and test accuracy and plotting\n",
        "def show_train_hist(hist, show=False, save=False, path='Train_hist.png'):\n",
        "    x = range(len(hist['train_accuracy']))\n",
        "    y1 = hist['train_accuracy']\n",
        "    y2 = hist['test_accuracy']\n",
        "    #plotting\n",
        "    plt.plot(x, y1, label='train_accuracy')\n",
        "    plt.plot(x, y2, label='test_accuracy')\n",
        "    plt.xlabel('Epoch')\n",
        "    plt.ylabel('Accuracy')\n",
        "    plt.legend(loc=4)\n",
        "    plt.grid(True)\n",
        "    plt.tight_layout()\n",
        "    #saving the generated outputs\n",
        "    if save:\n",
        "        plt.savefig(path)\n",
        "    if show:\n",
        "        plt.show()\n",
        "    else:\n",
        "        plt.close()"
      ],
      "execution_count": 6,
      "outputs": []
    },
    {
      "cell_type": "markdown",
      "metadata": {
        "id": "jSIhmTKjMC6e"
      },
      "source": [
        "##**Evaluation --> Training and Testing**"
      ]
    },
    {
      "cell_type": "code",
      "metadata": {
        "id": "dn0vWKVBW7wA"
      },
      "source": [
        "#Test Accuracy and loss Evaluation\n",
        "def Evaluate_Accuracy(dataset_eval_iteration, Network_arch, Loss_criterion_function, device=device): \n",
        "  #Evaluate accuracy of a model on the testset\n",
        "  #In evaluation mode, we will be using the dropout and normalization layers\n",
        "  testset_initial=len(dataset_eval_iteration.dataset)\n",
        "  test_loss=0\n",
        "  test_accuracy=0\n",
        "  Network_arch.eval()\n",
        "  with torch.no_grad():\n",
        "    for X, y in dataset_eval_iteration:\n",
        "        #transfer the produced data to the device\n",
        "        X = X.to(device)\n",
        "        y = y.to(device)   \n",
        "        outputs = Network_arch(X)\n",
        "        #calculating the test accuracy and loss and appending it                                                   \n",
        "        test_loss += Loss_criterion_function(outputs,y).item()                 \n",
        "        test_accuracy += (outputs.argmax(1) == y).type(torch.float).sum().item()  \n",
        "  test_accuracy = test_accuracy/testset_initial  \n",
        "  test_loss /= testset_initial\n",
        "  return test_accuracy, test_loss"
      ],
      "execution_count": 7,
      "outputs": []
    },
    {
      "cell_type": "code",
      "metadata": {
        "id": "jhGZLrgw4wI-"
      },
      "source": [
        "#Cross validating the predicted values for plotting the confusion matrix and predict the correct and incorrect samples\n",
        "def Cross_validate_predicted_data(Network_arch, dataset_eval_iteration):\n",
        "    Data_pics_label = []\n",
        "    Data_pics_val = []\n",
        "    Network_arch.eval()\n",
        "    for X, y in dataset_eval_iteration:\n",
        "      X = X.to(device)\n",
        "      y = y.to(device)\n",
        "      prediction = Network_arch(X)\n",
        "      with torch.no_grad():\n",
        "            Final_predict = F.softmax(prediction, dim = -1)\n",
        "            Data_pics_label.append(y.cpu())\n",
        "            Data_pics_val.append(Final_predict.cpu())\n",
        "    out1 = torch.cat(Data_pics_label)\n",
        "    out2 = torch.cat(Data_pics_val)\n",
        "    return out1, out2"
      ],
      "execution_count": 8,
      "outputs": []
    },
    {
      "cell_type": "code",
      "metadata": {
        "colab": {
          "base_uri": "https://localhost:8080/"
        },
        "id": "vlxliRglwkbt",
        "outputId": "03ed9641-7b87-4b2e-a530-b4d5affc068f"
      },
      "source": [
        "#Training and Evaluating the model \n",
        "#Training is performed on the train dataset\n",
        "#Testing (Evaluation) is performed in the test dataset\n",
        "#Train and evaluate the model using the device GPU or else with CPU\n",
        "def training(Network_arch, Load_CIFAR10_traindata, Load_CIFAR10_testdata, Loss_criterion_function, EPOCHS, batch_size, device, Learning_rate=None):    \n",
        "    print(\"---------------------------------------------------\")\n",
        "    print(\"Model Training and Testing Start date:\", date)\n",
        "    print(\"Model Training and Testing starting time:\", Time)\n",
        "    print(\"---------------------------------------------------\")\n",
        "    print('ResNet Architecture Training and Testing Begins!')\n",
        "    Network_arch.to(device)\n",
        "    #Initialization of the optimizer\n",
        "    optimizer = optim.SGD(Network_arch.parameters(), lr=Learning_rate)\n",
        "    #FOR CALCULATING THE EPOCHS\n",
        "    for Epoch in range(EPOCHS):\n",
        "        #Network is trained on the training mode\n",
        "        Network_arch.train()\n",
        "        cv = 0\n",
        "        ep_start = time.time()\n",
        "        Sum_training_Loss = torch.tensor([0.0], device=device)\n",
        "        Sum_training_Accuracy = torch.tensor([0.0], device=device)\n",
        "        #FOR CALCULATING THE TRAIN LOSS AND TRAIN ACCURACY\n",
        "        for X, y in Load_CIFAR10_traindata:\n",
        "            optimizer.zero_grad()\n",
        "            X = X.to(device) \n",
        "            y = y.to(device)\n",
        "            conv_y = Network_arch(X)\n",
        "            final_end_loss = Loss_criterion_function(conv_y, y)\n",
        "            final_end_loss.backward()\n",
        "            optimizer.step()\n",
        "            with torch.no_grad():\n",
        "                y = y.long()\n",
        "                Sum_training_Loss += final_end_loss.float()\n",
        "                Sum_training_Accuracy += (torch.sum((torch.argmax(conv_y, dim=1) == y))).float()\n",
        "                cv += y.shape[0]\n",
        "                final_loss = Sum_training_Loss/cv\n",
        "                final_train_accuracy = Sum_training_Accuracy/cv\n",
        "                #final_train_accuracy_out =final_train_accuracy.to('cpu').numpy()\n",
        "        #FOR CALCULATING THE TEST ACCURACY and loss\n",
        "        final_test_accuracy, final_test_loss = Evaluate_Accuracy(Load_CIFAR10_testdata, Network_arch, Loss_criterion_function, device) \n",
        "        Start_Time=datetime.now()\n",
        "        train_test_Start_Time = Start_Time.strftime(\"%H:%M:%S\")\n",
        "        print(\"-------------------------------------------------------------------------------------------------------------------------------------------\")\n",
        "        #print(f'Epoch_start_time: {train_test_Start_Time}')\n",
        "        print('Epoch--> %d\\t Train_Loss: %.4f\\t Train_Accuracy: %.2f\\t    Test_Loss: %.4f\\t  Test_Accuracy: %.2f\\t  Time_Duration: %.1f sec\\t' % (Epoch + 1, final_loss, final_train_accuracy*100, final_test_loss, final_test_accuracy*100, time.time() - ep_start))\n",
        "        print(\"-------------------------------------------------------------------------------------------------------------------------------------------\")\n",
        "        save_dir = './CV_miniproject_results/'\n",
        "        #Creating a folder to store the results\n",
        "        if not os.path.exists(save_dir):\n",
        "          os.mkdir(save_dir)\n",
        "        #Storing and tracking the outputs and plotting\n",
        "        train_hist = {}\n",
        "        train_hist['train_accuracy'] = []\n",
        "        train_hist['test_accuracy'] = []\n",
        "        train_hist['train_accuracy'].append(final_train_accuracy)\n",
        "        train_hist['test_accuracy'].append(final_test_accuracy)\n",
        "        #saving outputs to the created directory\n",
        "        with open(save_dir + '/train_hist.pkl', 'wb') as f:\n",
        "          pickle.dump(train_hist, f)\n",
        "        show_train_hist(train_hist, save=True, path=save_dir + '/CV_miniproject_Train_hist.png')\n",
        "\n",
        "#Training and evaluating the Network model \n",
        "ResNet_History = training(Network_arch, Traindata_Loader, Testdata_Loader, Loss_criterion_function, EPOCHS, batch_size, device, Learning_rate)\n",
        "End_Time=datetime.now()\n",
        "end_date = End_Time.strftime(\"%d/%m/%Y\")\n",
        "end_time = End_Time.strftime(\"%H:%M:%S\")\n",
        "print('ResNet Architecture Training and Testing Completed!')\n",
        "print(\"--------------------------------------------------\")\n",
        "print(\"Model Training and Testing End date:\", end_date)\n",
        "print(\"Model Training and Testing End time:\", end_time)\n",
        "print(\"--------------------------------------------------\")"
      ],
      "execution_count": 9,
      "outputs": [
        {
          "output_type": "stream",
          "text": [
            "---------------------------------------------------\n",
            "Model Training and Testing Start date: 17/05/2021\n",
            "Model Training and Testing starting time: 06:48:54\n",
            "---------------------------------------------------\n",
            "ResNet Architecture Training and Testing Begins!\n",
            "-------------------------------------------------------------------------------------------------------------------------------------------\n",
            "Epoch--> 1\t Train_Loss: 0.0142\t Train_Accuracy: 33.88\t    Test_Loss: 0.0122\t  Test_Accuracy: 42.26\t  Time_Duration: 60.5 sec\t\n",
            "-------------------------------------------------------------------------------------------------------------------------------------------\n",
            "-------------------------------------------------------------------------------------------------------------------------------------------\n",
            "Epoch--> 2\t Train_Loss: 0.0100\t Train_Accuracy: 53.31\t    Test_Loss: 0.0173\t  Test_Accuracy: 42.03\t  Time_Duration: 60.6 sec\t\n",
            "-------------------------------------------------------------------------------------------------------------------------------------------\n",
            "-------------------------------------------------------------------------------------------------------------------------------------------\n",
            "Epoch--> 3\t Train_Loss: 0.0076\t Train_Accuracy: 65.56\t    Test_Loss: 0.0084\t  Test_Accuracy: 63.39\t  Time_Duration: 60.6 sec\t\n",
            "-------------------------------------------------------------------------------------------------------------------------------------------\n",
            "-------------------------------------------------------------------------------------------------------------------------------------------\n",
            "Epoch--> 4\t Train_Loss: 0.0060\t Train_Accuracy: 73.37\t    Test_Loss: 0.0079\t  Test_Accuracy: 66.02\t  Time_Duration: 60.6 sec\t\n",
            "-------------------------------------------------------------------------------------------------------------------------------------------\n",
            "-------------------------------------------------------------------------------------------------------------------------------------------\n",
            "Epoch--> 5\t Train_Loss: 0.0050\t Train_Accuracy: 77.94\t    Test_Loss: 0.0098\t  Test_Accuracy: 60.78\t  Time_Duration: 60.5 sec\t\n",
            "-------------------------------------------------------------------------------------------------------------------------------------------\n",
            "-------------------------------------------------------------------------------------------------------------------------------------------\n",
            "Epoch--> 6\t Train_Loss: 0.0044\t Train_Accuracy: 80.68\t    Test_Loss: 0.0057\t  Test_Accuracy: 76.24\t  Time_Duration: 60.6 sec\t\n",
            "-------------------------------------------------------------------------------------------------------------------------------------------\n",
            "-------------------------------------------------------------------------------------------------------------------------------------------\n",
            "Epoch--> 7\t Train_Loss: 0.0039\t Train_Accuracy: 82.90\t    Test_Loss: 0.0044\t  Test_Accuracy: 81.48\t  Time_Duration: 60.7 sec\t\n",
            "-------------------------------------------------------------------------------------------------------------------------------------------\n",
            "-------------------------------------------------------------------------------------------------------------------------------------------\n",
            "Epoch--> 8\t Train_Loss: 0.0035\t Train_Accuracy: 84.50\t    Test_Loss: 0.0046\t  Test_Accuracy: 81.10\t  Time_Duration: 60.6 sec\t\n",
            "-------------------------------------------------------------------------------------------------------------------------------------------\n",
            "-------------------------------------------------------------------------------------------------------------------------------------------\n",
            "Epoch--> 9\t Train_Loss: 0.0032\t Train_Accuracy: 85.95\t    Test_Loss: 0.0050\t  Test_Accuracy: 79.58\t  Time_Duration: 60.6 sec\t\n",
            "-------------------------------------------------------------------------------------------------------------------------------------------\n",
            "-------------------------------------------------------------------------------------------------------------------------------------------\n",
            "Epoch--> 10\t Train_Loss: 0.0029\t Train_Accuracy: 87.11\t    Test_Loss: 0.0050\t  Test_Accuracy: 80.37\t  Time_Duration: 60.6 sec\t\n",
            "-------------------------------------------------------------------------------------------------------------------------------------------\n",
            "-------------------------------------------------------------------------------------------------------------------------------------------\n",
            "Epoch--> 11\t Train_Loss: 0.0027\t Train_Accuracy: 88.10\t    Test_Loss: 0.0043\t  Test_Accuracy: 82.54\t  Time_Duration: 60.6 sec\t\n",
            "-------------------------------------------------------------------------------------------------------------------------------------------\n",
            "-------------------------------------------------------------------------------------------------------------------------------------------\n",
            "Epoch--> 12\t Train_Loss: 0.0025\t Train_Accuracy: 89.12\t    Test_Loss: 0.0040\t  Test_Accuracy: 83.99\t  Time_Duration: 60.6 sec\t\n",
            "-------------------------------------------------------------------------------------------------------------------------------------------\n",
            "-------------------------------------------------------------------------------------------------------------------------------------------\n",
            "Epoch--> 13\t Train_Loss: 0.0023\t Train_Accuracy: 89.79\t    Test_Loss: 0.0033\t  Test_Accuracy: 86.26\t  Time_Duration: 60.6 sec\t\n",
            "-------------------------------------------------------------------------------------------------------------------------------------------\n",
            "-------------------------------------------------------------------------------------------------------------------------------------------\n",
            "Epoch--> 14\t Train_Loss: 0.0021\t Train_Accuracy: 90.67\t    Test_Loss: 0.0036\t  Test_Accuracy: 85.16\t  Time_Duration: 60.6 sec\t\n",
            "-------------------------------------------------------------------------------------------------------------------------------------------\n",
            "-------------------------------------------------------------------------------------------------------------------------------------------\n",
            "Epoch--> 15\t Train_Loss: 0.0020\t Train_Accuracy: 90.95\t    Test_Loss: 0.0039\t  Test_Accuracy: 85.22\t  Time_Duration: 60.6 sec\t\n",
            "-------------------------------------------------------------------------------------------------------------------------------------------\n",
            "-------------------------------------------------------------------------------------------------------------------------------------------\n",
            "Epoch--> 16\t Train_Loss: 0.0019\t Train_Accuracy: 91.73\t    Test_Loss: 0.0040\t  Test_Accuracy: 83.94\t  Time_Duration: 60.6 sec\t\n",
            "-------------------------------------------------------------------------------------------------------------------------------------------\n",
            "-------------------------------------------------------------------------------------------------------------------------------------------\n",
            "Epoch--> 17\t Train_Loss: 0.0017\t Train_Accuracy: 92.27\t    Test_Loss: 0.0052\t  Test_Accuracy: 81.18\t  Time_Duration: 60.7 sec\t\n",
            "-------------------------------------------------------------------------------------------------------------------------------------------\n",
            "-------------------------------------------------------------------------------------------------------------------------------------------\n",
            "Epoch--> 18\t Train_Loss: 0.0016\t Train_Accuracy: 92.78\t    Test_Loss: 0.0050\t  Test_Accuracy: 82.40\t  Time_Duration: 60.6 sec\t\n",
            "-------------------------------------------------------------------------------------------------------------------------------------------\n",
            "-------------------------------------------------------------------------------------------------------------------------------------------\n",
            "Epoch--> 19\t Train_Loss: 0.0015\t Train_Accuracy: 93.10\t    Test_Loss: 0.0031\t  Test_Accuracy: 88.46\t  Time_Duration: 60.6 sec\t\n",
            "-------------------------------------------------------------------------------------------------------------------------------------------\n",
            "-------------------------------------------------------------------------------------------------------------------------------------------\n",
            "Epoch--> 20\t Train_Loss: 0.0014\t Train_Accuracy: 93.42\t    Test_Loss: 0.0043\t  Test_Accuracy: 84.79\t  Time_Duration: 60.6 sec\t\n",
            "-------------------------------------------------------------------------------------------------------------------------------------------\n",
            "-------------------------------------------------------------------------------------------------------------------------------------------\n",
            "Epoch--> 21\t Train_Loss: 0.0013\t Train_Accuracy: 94.19\t    Test_Loss: 0.0044\t  Test_Accuracy: 84.54\t  Time_Duration: 60.6 sec\t\n",
            "-------------------------------------------------------------------------------------------------------------------------------------------\n",
            "-------------------------------------------------------------------------------------------------------------------------------------------\n",
            "Epoch--> 22\t Train_Loss: 0.0013\t Train_Accuracy: 94.42\t    Test_Loss: 0.0039\t  Test_Accuracy: 85.96\t  Time_Duration: 60.6 sec\t\n",
            "-------------------------------------------------------------------------------------------------------------------------------------------\n",
            "-------------------------------------------------------------------------------------------------------------------------------------------\n",
            "Epoch--> 23\t Train_Loss: 0.0012\t Train_Accuracy: 94.63\t    Test_Loss: 0.0038\t  Test_Accuracy: 86.33\t  Time_Duration: 60.6 sec\t\n",
            "-------------------------------------------------------------------------------------------------------------------------------------------\n",
            "-------------------------------------------------------------------------------------------------------------------------------------------\n",
            "Epoch--> 24\t Train_Loss: 0.0012\t Train_Accuracy: 94.85\t    Test_Loss: 0.0037\t  Test_Accuracy: 86.36\t  Time_Duration: 60.6 sec\t\n",
            "-------------------------------------------------------------------------------------------------------------------------------------------\n",
            "-------------------------------------------------------------------------------------------------------------------------------------------\n",
            "Epoch--> 25\t Train_Loss: 0.0010\t Train_Accuracy: 95.34\t    Test_Loss: 0.0033\t  Test_Accuracy: 88.66\t  Time_Duration: 60.6 sec\t\n",
            "-------------------------------------------------------------------------------------------------------------------------------------------\n",
            "-------------------------------------------------------------------------------------------------------------------------------------------\n",
            "Epoch--> 26\t Train_Loss: 0.0010\t Train_Accuracy: 95.64\t    Test_Loss: 0.0033\t  Test_Accuracy: 89.14\t  Time_Duration: 60.6 sec\t\n",
            "-------------------------------------------------------------------------------------------------------------------------------------------\n",
            "-------------------------------------------------------------------------------------------------------------------------------------------\n",
            "Epoch--> 27\t Train_Loss: 0.0009\t Train_Accuracy: 95.79\t    Test_Loss: 0.0036\t  Test_Accuracy: 87.96\t  Time_Duration: 60.6 sec\t\n",
            "-------------------------------------------------------------------------------------------------------------------------------------------\n",
            "-------------------------------------------------------------------------------------------------------------------------------------------\n",
            "Epoch--> 28\t Train_Loss: 0.0009\t Train_Accuracy: 95.89\t    Test_Loss: 0.0039\t  Test_Accuracy: 87.14\t  Time_Duration: 60.6 sec\t\n",
            "-------------------------------------------------------------------------------------------------------------------------------------------\n",
            "-------------------------------------------------------------------------------------------------------------------------------------------\n",
            "Epoch--> 29\t Train_Loss: 0.0008\t Train_Accuracy: 96.18\t    Test_Loss: 0.0039\t  Test_Accuracy: 87.13\t  Time_Duration: 60.6 sec\t\n",
            "-------------------------------------------------------------------------------------------------------------------------------------------\n",
            "-------------------------------------------------------------------------------------------------------------------------------------------\n",
            "Epoch--> 30\t Train_Loss: 0.0008\t Train_Accuracy: 96.41\t    Test_Loss: 0.0033\t  Test_Accuracy: 89.50\t  Time_Duration: 60.6 sec\t\n",
            "-------------------------------------------------------------------------------------------------------------------------------------------\n",
            "-------------------------------------------------------------------------------------------------------------------------------------------\n",
            "Epoch--> 31\t Train_Loss: 0.0007\t Train_Accuracy: 96.68\t    Test_Loss: 0.0034\t  Test_Accuracy: 89.29\t  Time_Duration: 60.6 sec\t\n",
            "-------------------------------------------------------------------------------------------------------------------------------------------\n",
            "-------------------------------------------------------------------------------------------------------------------------------------------\n",
            "Epoch--> 32\t Train_Loss: 0.0007\t Train_Accuracy: 96.92\t    Test_Loss: 0.0035\t  Test_Accuracy: 89.50\t  Time_Duration: 60.6 sec\t\n",
            "-------------------------------------------------------------------------------------------------------------------------------------------\n",
            "-------------------------------------------------------------------------------------------------------------------------------------------\n",
            "Epoch--> 33\t Train_Loss: 0.0007\t Train_Accuracy: 96.89\t    Test_Loss: 0.0035\t  Test_Accuracy: 88.68\t  Time_Duration: 60.6 sec\t\n",
            "-------------------------------------------------------------------------------------------------------------------------------------------\n",
            "-------------------------------------------------------------------------------------------------------------------------------------------\n",
            "Epoch--> 34\t Train_Loss: 0.0006\t Train_Accuracy: 97.29\t    Test_Loss: 0.0031\t  Test_Accuracy: 90.35\t  Time_Duration: 60.6 sec\t\n",
            "-------------------------------------------------------------------------------------------------------------------------------------------\n",
            "-------------------------------------------------------------------------------------------------------------------------------------------\n",
            "Epoch--> 35\t Train_Loss: 0.0006\t Train_Accuracy: 97.32\t    Test_Loss: 0.0037\t  Test_Accuracy: 89.02\t  Time_Duration: 60.6 sec\t\n",
            "-------------------------------------------------------------------------------------------------------------------------------------------\n",
            "-------------------------------------------------------------------------------------------------------------------------------------------\n",
            "Epoch--> 36\t Train_Loss: 0.0006\t Train_Accuracy: 97.32\t    Test_Loss: 0.0031\t  Test_Accuracy: 90.07\t  Time_Duration: 60.7 sec\t\n",
            "-------------------------------------------------------------------------------------------------------------------------------------------\n",
            "-------------------------------------------------------------------------------------------------------------------------------------------\n",
            "Epoch--> 37\t Train_Loss: 0.0006\t Train_Accuracy: 97.44\t    Test_Loss: 0.0034\t  Test_Accuracy: 89.32\t  Time_Duration: 60.6 sec\t\n",
            "-------------------------------------------------------------------------------------------------------------------------------------------\n",
            "-------------------------------------------------------------------------------------------------------------------------------------------\n",
            "Epoch--> 38\t Train_Loss: 0.0005\t Train_Accuracy: 97.62\t    Test_Loss: 0.0039\t  Test_Accuracy: 88.84\t  Time_Duration: 60.6 sec\t\n",
            "-------------------------------------------------------------------------------------------------------------------------------------------\n",
            "-------------------------------------------------------------------------------------------------------------------------------------------\n",
            "Epoch--> 39\t Train_Loss: 0.0005\t Train_Accuracy: 97.87\t    Test_Loss: 0.0050\t  Test_Accuracy: 87.19\t  Time_Duration: 60.7 sec\t\n",
            "-------------------------------------------------------------------------------------------------------------------------------------------\n",
            "-------------------------------------------------------------------------------------------------------------------------------------------\n",
            "Epoch--> 40\t Train_Loss: 0.0005\t Train_Accuracy: 97.93\t    Test_Loss: 0.0034\t  Test_Accuracy: 90.70\t  Time_Duration: 60.6 sec\t\n",
            "-------------------------------------------------------------------------------------------------------------------------------------------\n",
            "ResNet Architecture Training and Testing Completed!\n",
            "--------------------------------------------------\n",
            "Model Training and Testing End date: 17/05/2021\n",
            "Model Training and Testing End time: 07:29:57\n",
            "--------------------------------------------------\n"
          ],
          "name": "stdout"
        }
      ]
    },
    {
      "cell_type": "code",
      "metadata": {
        "id": "QI34R54P93QY",
        "colab": {
          "base_uri": "https://localhost:8080/"
        },
        "outputId": "0ae129e1-88fe-4dfd-88f8-5aa9b7bd2ea6"
      },
      "source": [
        "#getting the output of the tensor(weights)\n",
        "with torch.no_grad():\n",
        "  Network_arch.to('cpu')\n",
        "  final_tensor_output = Network_arch(Val_ex_data)\n",
        "#printing the output\n",
        "print(final_tensor_output)"
      ],
      "execution_count": 10,
      "outputs": [
        {
          "output_type": "stream",
          "text": [
            "tensor([[ 3.1954, -1.6552, -4.9784,  ..., -3.7950, -3.8999, -2.9394],\n",
            "        [15.1662,  9.7758, -4.7906,  ..., -9.9909, 22.7120, -2.4195],\n",
            "        [ 9.6426,  4.8536, -0.5388,  ..., -6.2546, 20.3790,  0.2559],\n",
            "        ...,\n",
            "        [ 9.4777,  2.2601,  1.2171,  ..., -5.3393,  2.0499,  3.7763],\n",
            "        [ 0.2563,  1.4931, -4.3565,  ..., -9.6437, 26.6489,  6.9227],\n",
            "        [-4.8084, -4.3362,  0.6430,  ...,  2.1692, -0.3929, -4.4875]])\n"
          ],
          "name": "stdout"
        }
      ]
    },
    {
      "cell_type": "code",
      "metadata": {
        "id": "FpD3P8EPJjQy",
        "colab": {
          "base_uri": "https://localhost:8080/",
          "height": 337
        },
        "outputId": "33991e80-771f-4dcd-f5ec-7c3a2e52db96"
      },
      "source": [
        "#histogram for the tensor values\n",
        "sns.distplot(final_tensor_output)"
      ],
      "execution_count": 11,
      "outputs": [
        {
          "output_type": "stream",
          "text": [
            "/usr/local/lib/python3.7/dist-packages/seaborn/distributions.py:2557: FutureWarning: `distplot` is a deprecated function and will be removed in a future version. Please adapt your code to use either `displot` (a figure-level function with similar flexibility) or `histplot` (an axes-level function for histograms).\n",
            "  warnings.warn(msg, FutureWarning)\n"
          ],
          "name": "stderr"
        },
        {
          "output_type": "execute_result",
          "data": {
            "text/plain": [
              "<matplotlib.axes._subplots.AxesSubplot at 0x7fac1b3fed90>"
            ]
          },
          "metadata": {
            "tags": []
          },
          "execution_count": 11
        },
        {
          "output_type": "display_data",
          "data": {
            "image/png": "[encoded data removed]",
            "text/plain": [
              "<Figure size 432x288 with 1 Axes>"
            ]
          },
          "metadata": {
            "tags": [],
            "needs_background": "light"
          }
        }
      ]
    },
    {
      "cell_type": "markdown",
      "metadata": {
        "id": "ocEgVYanNOqs"
      },
      "source": [
        "##**Verification --> How well our Network predicts the data accurately**"
      ]
    },
    {
      "cell_type": "code",
      "metadata": {
        "id": "wt-1pB8ncjUB",
        "colab": {
          "base_uri": "https://localhost:8080/",
          "height": 137
        },
        "outputId": "cdbc8b93-c046-495d-8b83-afb573400a63"
      },
      "source": [
        "#for testing our model after training, we have printed the classes of cifar-10 data for the groundtruth image \n",
        "#In the evaluation phase we printed the classes of cifar-10 data with their predicted class\n",
        "#we compare how correctly it predicted the classes between orginal and the predicted data\n",
        "CIFAR10_Class = ('plane', 'car', 'bird', 'cat', 'deer','dog', 'frog', 'horse', 'ship', 'truck')\n",
        "device =torch.device('cpu')\n",
        "for X, y in Testdata_Loader:\n",
        "  X = X[:6]\n",
        "  y = y[:6] \n",
        "  def imshow(figure):\n",
        "    figure = figure/2+0.1+0.1+0.2\n",
        "    plt.xticks([])\n",
        "    plt.yticks([])\n",
        "    plt.tight_layout()\n",
        "    plt.imshow(np.transpose(figure.numpy(), (1,2,0)))\n",
        "    plt.show()\n",
        "#Plotting the Groundtruth image\n",
        "center = \"GROUNDTRUTH IMAGE\"\n",
        "print(\"{center:^10}\".format(center=center))\n",
        "imshow(make_grid(X))"
      ],
      "execution_count": 12,
      "outputs": [
        {
          "output_type": "stream",
          "text": [
            "Clipping input data to the valid range for imshow with RGB data ([0..1] for floats or [0..255] for integers).\n"
          ],
          "name": "stderr"
        },
        {
          "output_type": "stream",
          "text": [
            "GROUNDTRUTH IMAGE\n"
          ],
          "name": "stdout"
        },
        {
          "output_type": "display_data",
          "data": {
            "image/png": "[encoded data removed]",
            "text/plain": [
              "<Figure size 432x288 with 1 Axes>"
            ]
          },
          "metadata": {
            "tags": []
          }
        }
      ]
    },
    {
      "cell_type": "code",
      "metadata": {
        "colab": {
          "base_uri": "https://localhost:8080/"
        },
        "id": "9kHcCVUCJdCs",
        "outputId": "cf595607-2cff-4a4b-cadd-2af51b0ea350"
      },
      "source": [
        "#Getting the predicted classes\n",
        "Final_Out = Network_arch(X)\n",
        "_, prediction = torch.max(Final_Out, 1)\n",
        "#printing the classes of groundtruth data\n",
        "print(\"----------------------------------------------------------\")\n",
        "print('Orginal images classes: ',' '.join(CIFAR10_Class[y[GT_data_out]] for GT_data_out in range(6)))\n",
        "print(\"----------------------------------------------------------\")\n",
        "#printing the classes of prediction data\n",
        "print('Predicted images classes: ',' '.join(CIFAR10_Class[prediction[Pred_data_out]] for Pred_data_out in range(6)))\n",
        "print(\"----------------------------------------------------------\")"
      ],
      "execution_count": 13,
      "outputs": [
        {
          "output_type": "stream",
          "text": [
            "----------------------------------------------------------\n",
            "Orginal images classes:  horse dog ship plane ship bird\n",
            "----------------------------------------------------------\n",
            "Predicted images classes:  horse dog ship plane ship deer\n",
            "----------------------------------------------------------\n"
          ],
          "name": "stdout"
        }
      ]
    },
    {
      "cell_type": "code",
      "metadata": {
        "colab": {
          "base_uri": "https://localhost:8080/"
        },
        "id": "zZF6QJG8D9uQ",
        "outputId": "05c20b1a-1220-4e66-98a2-06bada6ba840"
      },
      "source": [
        "#Calculating the induvidual accuracy of Each classes defined\n",
        "accurate_class_pred = list(range(10))\n",
        "Combined_class_accurate = list(range(10))\n",
        "with torch.no_grad():\n",
        "    for X, y in Testdata_Loader:\n",
        "      X = X.to(device) \n",
        "      y = y.to(device)\n",
        "      Final_Out = Network_arch(X)\n",
        "      _, Induvidual_class_prediction = torch.max(Final_Out, 1)\n",
        "      CIF_out = (Induvidual_class_prediction == y)\n",
        "      for Induvidual_out in range(6):\n",
        "        accurate_class_pred[y[Induvidual_out]] += CIF_out[Induvidual_out].item()\n",
        "        Combined_class_accurate[y[Induvidual_out]] += 1 \n",
        "#Printing the accuracy of Each classes       \n",
        "for Induvidual_class_accuracy in range(10):\n",
        "  print(\"---------------------------\")\n",
        "  print('Accuracy of %5s : %d %%' % (CIFAR10_Class[Induvidual_class_accuracy], accurate_class_pred[Induvidual_class_accuracy] / Combined_class_accurate[Induvidual_class_accuracy] *100))\n",
        "  print(\"---------------------------\")"
      ],
      "execution_count": 14,
      "outputs": [
        {
          "output_type": "stream",
          "text": [
            "---------------------------\n",
            "Accuracy of plane : 95 %\n",
            "---------------------------\n",
            "---------------------------\n",
            "Accuracy of   car : 100 %\n",
            "---------------------------\n",
            "---------------------------\n",
            "Accuracy of  bird : 83 %\n",
            "---------------------------\n",
            "---------------------------\n",
            "Accuracy of   cat : 71 %\n",
            "---------------------------\n",
            "---------------------------\n",
            "Accuracy of  deer : 95 %\n",
            "---------------------------\n",
            "---------------------------\n",
            "Accuracy of   dog : 81 %\n",
            "---------------------------\n",
            "---------------------------\n",
            "Accuracy of  frog : 95 %\n",
            "---------------------------\n",
            "---------------------------\n",
            "Accuracy of horse : 95 %\n",
            "---------------------------\n",
            "---------------------------\n",
            "Accuracy of  ship : 96 %\n",
            "---------------------------\n",
            "---------------------------\n",
            "Accuracy of truck : 95 %\n",
            "---------------------------\n"
          ],
          "name": "stdout"
        }
      ]
    },
    {
      "cell_type": "code",
      "metadata": {
        "id": "BKR5omHe46dy"
      },
      "source": [
        "#Seperating the correct and incorrect predictions and appending it to a seperate list\n",
        "Correct_Data = []\n",
        "Incorrect_Data = []\n",
        "Label_for_pic, Prediction = Cross_validate_predicted_data(Network_arch, Testdata_Loader)\n",
        "Predicted_label = torch.argmax(Prediction, 1)\n",
        "CIFAR10_Classes = CIFAR10_testdata.classes\n",
        "Accurate_prediction = torch.eq(Label_for_pic, Predicted_label)\n",
        "for i, j, Correct_data_prediction in zip(Label_for_pic, Prediction, Accurate_prediction):\n",
        "    if Correct_data_prediction:\n",
        "      Correct_Data.append((i, j))\n",
        "    else:\n",
        "      Incorrect_Data.append((i, j))\n",
        "#Randomly sorting the samples\n",
        "Correct_Data.sort(key = lambda Correct_samples: torch.max(Correct_samples[1], -1).values)\n",
        "Incorrect_Data.sort(key = lambda Incorrect_samples: torch.max(Incorrect_samples[1], -1).values)"
      ],
      "execution_count": 15,
      "outputs": []
    },
    {
      "cell_type": "markdown",
      "metadata": {
        "id": "TC8HDxkvAHbC"
      },
      "source": [
        "**Examples of Correct Predictions**"
      ]
    },
    {
      "cell_type": "code",
      "metadata": {
        "colab": {
          "base_uri": "https://localhost:8080/"
        },
        "id": "Ck9eAaOb46Y_",
        "outputId": "8fb32000-ce3a-4118-c80c-96db2546e822"
      },
      "source": [
        "#Examples of Correct Prediction\n",
        "def Correct_Prediction(Correct_label_predict, CIFAR10_Classes):\n",
        "    for Sample in range(1*5):\n",
        "        Correct_Label, Prediction = Correct_label_predict[Sample]\n",
        "        Correct_pred, Correctly_predicted_label = torch.max(Prediction, -1)\n",
        "        Original_class = CIFAR10_Classes[Correct_Label]\n",
        "        Correctly_Predicted_class = CIFAR10_Classes[Correctly_predicted_label ]\n",
        "        print(\"---------------------------------------\")\n",
        "        print(f'Orginal images class     :  {Original_class}')\n",
        "        print(\"---------------------------------------\")\n",
        "        print(f'Predicted images class   :  {Correctly_Predicted_class}')\n",
        "        print(\"---------------------------------------\")\n",
        "Correct_Prediction(Correct_Data, CIFAR10_Classes)"
      ],
      "execution_count": 20,
      "outputs": [
        {
          "output_type": "stream",
          "text": [
            "---------------------------------------\n",
            "Orginal images class     :  cat\n",
            "---------------------------------------\n",
            "Predicted images class   :  cat\n",
            "---------------------------------------\n",
            "---------------------------------------\n",
            "Orginal images class     :  frog\n",
            "---------------------------------------\n",
            "Predicted images class   :  frog\n",
            "---------------------------------------\n",
            "---------------------------------------\n",
            "Orginal images class     :  cat\n",
            "---------------------------------------\n",
            "Predicted images class   :  cat\n",
            "---------------------------------------\n",
            "---------------------------------------\n",
            "Orginal images class     :  cat\n",
            "---------------------------------------\n",
            "Predicted images class   :  cat\n",
            "---------------------------------------\n",
            "---------------------------------------\n",
            "Orginal images class     :  cat\n",
            "---------------------------------------\n",
            "Predicted images class   :  cat\n",
            "---------------------------------------\n"
          ],
          "name": "stdout"
        }
      ]
    },
    {
      "cell_type": "markdown",
      "metadata": {
        "id": "T4YDG4SWACYF"
      },
      "source": [
        "**Examples of Incorrect Predictions**"
      ]
    },
    {
      "cell_type": "code",
      "metadata": {
        "colab": {
          "base_uri": "https://localhost:8080/"
        },
        "id": "_UETExL446UT",
        "outputId": "c0f45831-7001-4622-f104-2e57e8166225"
      },
      "source": [
        "#Examples of Incorrect Prediction\n",
        "def Incorrect_Prediction(Incorrect_label_predict, CIFAR10_Classes):\n",
        "    for Sample in range(1*5):\n",
        "        Incorrect_Label, Prediction = Incorrect_label_predict[Sample]\n",
        "        Incorrect_pred, Incorrectly_predicted_label = torch.max(Prediction, -1)\n",
        "        Original_class = CIFAR10_Classes[Incorrect_Label]\n",
        "        Incorrectly_Predicted_class = CIFAR10_Classes[Incorrectly_predicted_label ]\n",
        "        print(\"---------------------------------------\")\n",
        "        print(f'Orginal images class     :  {Original_class}')\n",
        "        print(\"---------------------------------------\")\n",
        "        print(f'Predicted images class   :  {Incorrectly_Predicted_class}')\n",
        "        print(\"---------------------------------------\")\n",
        "Correct_Prediction(Incorrect_Data, CIFAR10_Classes)"
      ],
      "execution_count": 21,
      "outputs": [
        {
          "output_type": "stream",
          "text": [
            "---------------------------------------\n",
            "Orginal images class     :  horse\n",
            "---------------------------------------\n",
            "Predicted images class   :  automobile\n",
            "---------------------------------------\n",
            "---------------------------------------\n",
            "Orginal images class     :  cat\n",
            "---------------------------------------\n",
            "Predicted images class   :  ship\n",
            "---------------------------------------\n",
            "---------------------------------------\n",
            "Orginal images class     :  horse\n",
            "---------------------------------------\n",
            "Predicted images class   :  cat\n",
            "---------------------------------------\n",
            "---------------------------------------\n",
            "Orginal images class     :  dog\n",
            "---------------------------------------\n",
            "Predicted images class   :  airplane\n",
            "---------------------------------------\n",
            "---------------------------------------\n",
            "Orginal images class     :  deer\n",
            "---------------------------------------\n",
            "Predicted images class   :  cat\n",
            "---------------------------------------\n"
          ],
          "name": "stdout"
        }
      ]
    },
    {
      "cell_type": "markdown",
      "metadata": {
        "id": "4UHaPNwo___A"
      },
      "source": [
        "**Confusion Matrix**"
      ]
    },
    {
      "cell_type": "code",
      "metadata": {
        "colab": {
          "base_uri": "https://localhost:8080/",
          "height": 689
        },
        "id": "a5Dlr3ih46OJ",
        "outputId": "37a2b471-dfa9-4a4e-e56b-b85b8ccc246a"
      },
      "source": [
        "#Plotting the confusion matrix\n",
        "Figure = plt.figure(figsize=(12, 12))\n",
        "Axis = Figure.add_subplot(1, 1, 1)\n",
        "Confusion_Matrix = confusion_matrix(Label_for_pic, Predicted_label)\n",
        "Confusion_Heatmap_display = ConfusionMatrixDisplay(Confusion_Matrix, CIFAR10_Classes)\n",
        "Final_Heatmap_for_Predicted_data = Confusion_Heatmap_display.plot(ax=Axis, values_format='d', cmap = 'Greens')"
      ],
      "execution_count": 18,
      "outputs": [
        {
          "output_type": "display_data",
          "data": {
            "image/png": "[encoded data removed]",
            "text/plain": [
              "<Figure size 864x864 with 2 Axes>"
            ]
          },
          "metadata": {
            "tags": [],
            "needs_background": "light"
          }
        }
      ]
    },
    {
      "cell_type": "code",
      "metadata": {
        "colab": {
          "base_uri": "https://localhost:8080/"
        },
        "id": "qMPbrBieqD8D",
        "outputId": "2940b3e8-4f49-46f5-d878-dc4f9c5ba26a"
      },
      "source": [
        "#I have Executed the code in Google Colab pro. so that, I have printed the usage of gpu provided\n",
        "GPU_Usage_data = !nvidia-smi\n",
        "GPU_Usage_data  = '\\n'.join(GPU_Usage_data )\n",
        "if GPU_Usage_data .find('failed') >= 0:\n",
        "  print('Select the Runtime > \"Change runtime type\" menu to enable a GPU accelerator, ')\n",
        "  print('and then re-execute this cell.')\n",
        "else:\n",
        "  print(GPU_Usage_data )"
      ],
      "execution_count": 19,
      "outputs": [
        {
          "output_type": "stream",
          "text": [
            "Mon May 17 07:38:22 2021       \n",
            "+-----------------------------------------------------------------------------+\n",
            "| NVIDIA-SMI 465.19.01    Driver Version: 460.32.03    CUDA Version: 11.2     |\n",
            "|-------------------------------+----------------------+----------------------+\n",
            "| GPU  Name        Persistence-M| Bus-Id        Disp.A | Volatile Uncorr. ECC |\n",
            "| Fan  Temp  Perf  Pwr:Usage/Cap|         Memory-Usage | GPU-Util  Compute M. |\n",
            "|                               |                      |               MIG M. |\n",
            "|===============================+======================+======================|\n",
            "|   0  Tesla P100-PCIE...  Off  | 00000000:00:04.0 Off |                    0 |\n",
            "| N/A   53C    P0    37W / 250W |   2979MiB / 16280MiB |      0%      Default |\n",
            "|                               |                      |                  N/A |\n",
            "+-------------------------------+----------------------+----------------------+\n",
            "                                                                               \n",
            "+-----------------------------------------------------------------------------+\n",
            "| Processes:                                                                  |\n",
            "|  GPU   GI   CI        PID   Type   Process name                  GPU Memory |\n",
            "|        ID   ID                                                   Usage      |\n",
            "|=============================================================================|\n",
            "+-----------------------------------------------------------------------------+\n"
          ],
          "name": "stdout"
        }
      ]
    }
  ]
}