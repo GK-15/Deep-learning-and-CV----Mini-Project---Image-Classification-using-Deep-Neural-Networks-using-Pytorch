{
  "nbformat": 4,
  "nbformat_minor": 0,
  "metadata": {
    "colab": {
      "name": "MiniProject_GoogleNet_Cifar10_model_200434339_Ganesh_Kumaran_Masilamani.ipynb",
      "provenance": [],
      "collapsed_sections": [],
      "machine_shape": "hm"
    },
    "kernelspec": {
      "display_name": "Python 3",
      "name": "python3"
    },
    "accelerator": "GPU",
    "widgets": {
      "application/vnd.jupyter.widget-state+json": {
        "4507b07c0f054b419e4a9ff028bf5c9e": {
          "model_module": "@jupyter-widgets/controls",
          "model_name": "HBoxModel",
          "state": {
            "_view_name": "HBoxView",
            "_dom_classes": [],
            "_model_name": "HBoxModel",
            "_view_module": "@jupyter-widgets/controls",
            "_model_module_version": "1.5.0",
            "_view_count": null,
            "_view_module_version": "1.5.0",
            "box_style": "",
            "layout": "IPY_MODEL_eb0d6b578a4148148e0869dbe7b0bbfd",
            "_model_module": "@jupyter-widgets/controls",
            "children": [
              "IPY_MODEL_7a5ba9a141cb49efb234dca898745019",
              "IPY_MODEL_243b1aa283fd456b9fa2558ecfea0529"
            ]
          }
        },
        "eb0d6b578a4148148e0869dbe7b0bbfd": {
          "model_module": "@jupyter-widgets/base",
          "model_name": "LayoutModel",
          "state": {
            "_view_name": "LayoutView",
            "grid_template_rows": null,
            "right": null,
            "justify_content": null,
            "_view_module": "@jupyter-widgets/base",
            "overflow": null,
            "_model_module_version": "1.2.0",
            "_view_count": null,
            "flex_flow": null,
            "width": null,
            "min_width": null,
            "border": null,
            "align_items": null,
            "bottom": null,
            "_model_module": "@jupyter-widgets/base",
            "top": null,
            "grid_column": null,
            "overflow_y": null,
            "overflow_x": null,
            "grid_auto_flow": null,
            "grid_area": null,
            "grid_template_columns": null,
            "flex": null,
            "_model_name": "LayoutModel",
            "justify_items": null,
            "grid_row": null,
            "max_height": null,
            "align_content": null,
            "visibility": null,
            "align_self": null,
            "height": null,
            "min_height": null,
            "padding": null,
            "grid_auto_rows": null,
            "grid_gap": null,
            "max_width": null,
            "order": null,
            "_view_module_version": "1.2.0",
            "grid_template_areas": null,
            "object_position": null,
            "object_fit": null,
            "grid_auto_columns": null,
            "margin": null,
            "display": null,
            "left": null
          }
        },
        "7a5ba9a141cb49efb234dca898745019": {
          "model_module": "@jupyter-widgets/controls",
          "model_name": "FloatProgressModel",
          "state": {
            "_view_name": "ProgressView",
            "style": "IPY_MODEL_6776ed1410dc4b1187abb5a9681021cc",
            "_dom_classes": [],
            "description": "",
            "_model_name": "FloatProgressModel",
            "bar_style": "success",
            "max": 170498071,
            "_view_module": "@jupyter-widgets/controls",
            "_model_module_version": "1.5.0",
            "value": 170498071,
            "_view_count": null,
            "_view_module_version": "1.5.0",
            "orientation": "horizontal",
            "min": 0,
            "description_tooltip": null,
            "_model_module": "@jupyter-widgets/controls",
            "layout": "IPY_MODEL_9a49269c185b485ba0ba780c9c7bc994"
          }
        },
        "243b1aa283fd456b9fa2558ecfea0529": {
          "model_module": "@jupyter-widgets/controls",
          "model_name": "HTMLModel",
          "state": {
            "_view_name": "HTMLView",
            "style": "IPY_MODEL_a5ff08fe859d43d1816fcf3570ef680c",
            "_dom_classes": [],
            "description": "",
            "_model_name": "HTMLModel",
            "placeholder": "​",
            "_view_module": "@jupyter-widgets/controls",
            "_model_module_version": "1.5.0",
            "value": " 170499072/? [00:08&lt;00:00, 19887418.49it/s]",
            "_view_count": null,
            "_view_module_version": "1.5.0",
            "description_tooltip": null,
            "_model_module": "@jupyter-widgets/controls",
            "layout": "IPY_MODEL_499c60df35124fcc801ce3ea94eec0c3"
          }
        },
        "6776ed1410dc4b1187abb5a9681021cc": {
          "model_module": "@jupyter-widgets/controls",
          "model_name": "ProgressStyleModel",
          "state": {
            "_view_name": "StyleView",
            "_model_name": "ProgressStyleModel",
            "description_width": "initial",
            "_view_module": "@jupyter-widgets/base",
            "_model_module_version": "1.5.0",
            "_view_count": null,
            "_view_module_version": "1.2.0",
            "bar_color": null,
            "_model_module": "@jupyter-widgets/controls"
          }
        },
        "9a49269c185b485ba0ba780c9c7bc994": {
          "model_module": "@jupyter-widgets/base",
          "model_name": "LayoutModel",
          "state": {
            "_view_name": "LayoutView",
            "grid_template_rows": null,
            "right": null,
            "justify_content": null,
            "_view_module": "@jupyter-widgets/base",
            "overflow": null,
            "_model_module_version": "1.2.0",
            "_view_count": null,
            "flex_flow": null,
            "width": null,
            "min_width": null,
            "border": null,
            "align_items": null,
            "bottom": null,
            "_model_module": "@jupyter-widgets/base",
            "top": null,
            "grid_column": null,
            "overflow_y": null,
            "overflow_x": null,
            "grid_auto_flow": null,
            "grid_area": null,
            "grid_template_columns": null,
            "flex": null,
            "_model_name": "LayoutModel",
            "justify_items": null,
            "grid_row": null,
            "max_height": null,
            "align_content": null,
            "visibility": null,
            "align_self": null,
            "height": null,
            "min_height": null,
            "padding": null,
            "grid_auto_rows": null,
            "grid_gap": null,
            "max_width": null,
            "order": null,
            "_view_module_version": "1.2.0",
            "grid_template_areas": null,
            "object_position": null,
            "object_fit": null,
            "grid_auto_columns": null,
            "margin": null,
            "display": null,
            "left": null
          }
        },
        "a5ff08fe859d43d1816fcf3570ef680c": {
          "model_module": "@jupyter-widgets/controls",
          "model_name": "DescriptionStyleModel",
          "state": {
            "_view_name": "StyleView",
            "_model_name": "DescriptionStyleModel",
            "description_width": "",
            "_view_module": "@jupyter-widgets/base",
            "_model_module_version": "1.5.0",
            "_view_count": null,
            "_view_module_version": "1.2.0",
            "_model_module": "@jupyter-widgets/controls"
          }
        },
        "499c60df35124fcc801ce3ea94eec0c3": {
          "model_module": "@jupyter-widgets/base",
          "model_name": "LayoutModel",
          "state": {
            "_view_name": "LayoutView",
            "grid_template_rows": null,
            "right": null,
            "justify_content": null,
            "_view_module": "@jupyter-widgets/base",
            "overflow": null,
            "_model_module_version": "1.2.0",
            "_view_count": null,
            "flex_flow": null,
            "width": null,
            "min_width": null,
            "border": null,
            "align_items": null,
            "bottom": null,
            "_model_module": "@jupyter-widgets/base",
            "top": null,
            "grid_column": null,
            "overflow_y": null,
            "overflow_x": null,
            "grid_auto_flow": null,
            "grid_area": null,
            "grid_template_columns": null,
            "flex": null,
            "_model_name": "LayoutModel",
            "justify_items": null,
            "grid_row": null,
            "max_height": null,
            "align_content": null,
            "visibility": null,
            "align_self": null,
            "height": null,
            "min_height": null,
            "padding": null,
            "grid_auto_rows": null,
            "grid_gap": null,
            "max_width": null,
            "order": null,
            "_view_module_version": "1.2.0",
            "grid_template_areas": null,
            "object_position": null,
            "object_fit": null,
            "grid_auto_columns": null,
            "margin": null,
            "display": null,
            "left": null
          }
        },
        "00ca2adf35674825bedc02bdbd719ccf": {
          "model_module": "@jupyter-widgets/controls",
          "model_name": "HBoxModel",
          "state": {
            "_view_name": "HBoxView",
            "_dom_classes": [],
            "_model_name": "HBoxModel",
            "_view_module": "@jupyter-widgets/controls",
            "_model_module_version": "1.5.0",
            "_view_count": null,
            "_view_module_version": "1.5.0",
            "box_style": "",
            "layout": "IPY_MODEL_f826a24640784230b4c75acc92524a73",
            "_model_module": "@jupyter-widgets/controls",
            "children": [
              "IPY_MODEL_3cbcfef3e1a443568ece34d1c3f48021",
              "IPY_MODEL_9a926929f2cd45b5a17498f7fd042b6e"
            ]
          }
        },
        "f826a24640784230b4c75acc92524a73": {
          "model_module": "@jupyter-widgets/base",
          "model_name": "LayoutModel",
          "state": {
            "_view_name": "LayoutView",
            "grid_template_rows": null,
            "right": null,
            "justify_content": null,
            "_view_module": "@jupyter-widgets/base",
            "overflow": null,
            "_model_module_version": "1.2.0",
            "_view_count": null,
            "flex_flow": null,
            "width": null,
            "min_width": null,
            "border": null,
            "align_items": null,
            "bottom": null,
            "_model_module": "@jupyter-widgets/base",
            "top": null,
            "grid_column": null,
            "overflow_y": null,
            "overflow_x": null,
            "grid_auto_flow": null,
            "grid_area": null,
            "grid_template_columns": null,
            "flex": null,
            "_model_name": "LayoutModel",
            "justify_items": null,
            "grid_row": null,
            "max_height": null,
            "align_content": null,
            "visibility": null,
            "align_self": null,
            "height": null,
            "min_height": null,
            "padding": null,
            "grid_auto_rows": null,
            "grid_gap": null,
            "max_width": null,
            "order": null,
            "_view_module_version": "1.2.0",
            "grid_template_areas": null,
            "object_position": null,
            "object_fit": null,
            "grid_auto_columns": null,
            "margin": null,
            "display": null,
            "left": null
          }
        },
        "3cbcfef3e1a443568ece34d1c3f48021": {
          "model_module": "@jupyter-widgets/controls",
          "model_name": "FloatProgressModel",
          "state": {
            "_view_name": "ProgressView",
            "style": "IPY_MODEL_7eae1e38aff84719a0f7073a3d4c307b",
            "_dom_classes": [],
            "description": "",
            "_model_name": "FloatProgressModel",
            "bar_style": "success",
            "max": 170498071,
            "_view_module": "@jupyter-widgets/controls",
            "_model_module_version": "1.5.0",
            "value": 170498071,
            "_view_count": null,
            "_view_module_version": "1.5.0",
            "orientation": "horizontal",
            "min": 0,
            "description_tooltip": null,
            "_model_module": "@jupyter-widgets/controls",
            "layout": "IPY_MODEL_3276821e93e146f88ec6137968a7a508"
          }
        },
        "9a926929f2cd45b5a17498f7fd042b6e": {
          "model_module": "@jupyter-widgets/controls",
          "model_name": "HTMLModel",
          "state": {
            "_view_name": "HTMLView",
            "style": "IPY_MODEL_cfd70b70e14f4a5ab1e7abe006470f9d",
            "_dom_classes": [],
            "description": "",
            "_model_name": "HTMLModel",
            "placeholder": "​",
            "_view_module": "@jupyter-widgets/controls",
            "_model_module_version": "1.5.0",
            "value": " 170499072/? [00:09&lt;00:00, 17947136.06it/s]",
            "_view_count": null,
            "_view_module_version": "1.5.0",
            "description_tooltip": null,
            "_model_module": "@jupyter-widgets/controls",
            "layout": "IPY_MODEL_48ef59946a264ea0b8de075ec746a22c"
          }
        },
        "7eae1e38aff84719a0f7073a3d4c307b": {
          "model_module": "@jupyter-widgets/controls",
          "model_name": "ProgressStyleModel",
          "state": {
            "_view_name": "StyleView",
            "_model_name": "ProgressStyleModel",
            "description_width": "initial",
            "_view_module": "@jupyter-widgets/base",
            "_model_module_version": "1.5.0",
            "_view_count": null,
            "_view_module_version": "1.2.0",
            "bar_color": null,
            "_model_module": "@jupyter-widgets/controls"
          }
        },
        "3276821e93e146f88ec6137968a7a508": {
          "model_module": "@jupyter-widgets/base",
          "model_name": "LayoutModel",
          "state": {
            "_view_name": "LayoutView",
            "grid_template_rows": null,
            "right": null,
            "justify_content": null,
            "_view_module": "@jupyter-widgets/base",
            "overflow": null,
            "_model_module_version": "1.2.0",
            "_view_count": null,
            "flex_flow": null,
            "width": null,
            "min_width": null,
            "border": null,
            "align_items": null,
            "bottom": null,
            "_model_module": "@jupyter-widgets/base",
            "top": null,
            "grid_column": null,
            "overflow_y": null,
            "overflow_x": null,
            "grid_auto_flow": null,
            "grid_area": null,
            "grid_template_columns": null,
            "flex": null,
            "_model_name": "LayoutModel",
            "justify_items": null,
            "grid_row": null,
            "max_height": null,
            "align_content": null,
            "visibility": null,
            "align_self": null,
            "height": null,
            "min_height": null,
            "padding": null,
            "grid_auto_rows": null,
            "grid_gap": null,
            "max_width": null,
            "order": null,
            "_view_module_version": "1.2.0",
            "grid_template_areas": null,
            "object_position": null,
            "object_fit": null,
            "grid_auto_columns": null,
            "margin": null,
            "display": null,
            "left": null
          }
        },
        "cfd70b70e14f4a5ab1e7abe006470f9d": {
          "model_module": "@jupyter-widgets/controls",
          "model_name": "DescriptionStyleModel",
          "state": {
            "_view_name": "StyleView",
            "_model_name": "DescriptionStyleModel",
            "description_width": "",
            "_view_module": "@jupyter-widgets/base",
            "_model_module_version": "1.5.0",
            "_view_count": null,
            "_view_module_version": "1.2.0",
            "_model_module": "@jupyter-widgets/controls"
          }
        },
        "48ef59946a264ea0b8de075ec746a22c": {
          "model_module": "@jupyter-widgets/base",
          "model_name": "LayoutModel",
          "state": {
            "_view_name": "LayoutView",
            "grid_template_rows": null,
            "right": null,
            "justify_content": null,
            "_view_module": "@jupyter-widgets/base",
            "overflow": null,
            "_model_module_version": "1.2.0",
            "_view_count": null,
            "flex_flow": null,
            "width": null,
            "min_width": null,
            "border": null,
            "align_items": null,
            "bottom": null,
            "_model_module": "@jupyter-widgets/base",
            "top": null,
            "grid_column": null,
            "overflow_y": null,
            "overflow_x": null,
            "grid_auto_flow": null,
            "grid_area": null,
            "grid_template_columns": null,
            "flex": null,
            "_model_name": "LayoutModel",
            "justify_items": null,
            "grid_row": null,
            "max_height": null,
            "align_content": null,
            "visibility": null,
            "align_self": null,
            "height": null,
            "min_height": null,
            "padding": null,
            "grid_auto_rows": null,
            "grid_gap": null,
            "max_width": null,
            "order": null,
            "_view_module_version": "1.2.0",
            "grid_template_areas": null,
            "object_position": null,
            "object_fit": null,
            "grid_auto_columns": null,
            "margin": null,
            "display": null,
            "left": null
          }
        }
      }
    }
  },
  "cells": [
    {
      "cell_type": "markdown",
      "metadata": {
        "id": "gQ9IaIIMtFC3"
      },
      "source": [
        "#**Deep Learning and Computer Vision - Mini Project**"
      ]
    },
    {
      "cell_type": "markdown",
      "metadata": {
        "id": "RnqbItN4tFAa"
      },
      "source": [
        "**NAME** - Ganesh Kumaran Masilamani\n",
        "\n",
        "**STUDENT NUMBER** - 200434339\n",
        "\n",
        "**PROJECT TITLE** - Deep Neural Networks for Image Classification"
      ]
    },
    {
      "cell_type": "markdown",
      "metadata": {
        "id": "MelG3AdYtE-l"
      },
      "source": [
        "###**In this Notebook we will be using GoogleNet Architecture as our deep Network to do image classification in CIFAR10 dataset.**\n",
        "\n",
        "#**DEEP NETWORK MODEL-3 --> GOOGLENET**"
      ]
    },
    {
      "cell_type": "code",
      "metadata": {
        "id": "fMcruYVWuPXa"
      },
      "source": [
        "#Libraries Imported\n",
        "import time\n",
        "import os\n",
        "import numpy as np\n",
        "import torch\n",
        "import torch.nn as nn\n",
        "import torch.optim as optim\n",
        "import torch.nn.functional as F\n",
        "from torchvision.utils import make_grid\n",
        "import torchvision\n",
        "from torchvision import datasets\n",
        "from torchvision import transforms\n",
        "import matplotlib.pyplot as plt\n",
        "import seaborn as sns\n",
        "sns.set_style('darkgrid')\n",
        "import pickle\n",
        "from sklearn.metrics import confusion_matrix\n",
        "from sklearn.metrics import ConfusionMatrixDisplay\n",
        "from datetime import datetime\n",
        "Date_time = datetime.now()\n",
        "date = Date_time.strftime(\"%d/%m/%Y\")\n",
        "Time = Date_time.strftime(\"%H:%M:%S\")"
      ],
      "execution_count": 1,
      "outputs": []
    },
    {
      "cell_type": "markdown",
      "metadata": {
        "id": "SAAaA-rEJMCe"
      },
      "source": [
        "##**Loading the CIFAR-10 Dataset**"
      ]
    },
    {
      "cell_type": "code",
      "metadata": {
        "id": "wSWJZvrsmDKD",
        "colab": {
          "base_uri": "https://localhost:8080/",
          "height": 200,
          "referenced_widgets": [
            "4507b07c0f054b419e4a9ff028bf5c9e",
            "eb0d6b578a4148148e0869dbe7b0bbfd",
            "7a5ba9a141cb49efb234dca898745019",
            "243b1aa283fd456b9fa2558ecfea0529",
            "6776ed1410dc4b1187abb5a9681021cc",
            "9a49269c185b485ba0ba780c9c7bc994",
            "a5ff08fe859d43d1816fcf3570ef680c",
            "499c60df35124fcc801ce3ea94eec0c3",
            "00ca2adf35674825bedc02bdbd719ccf",
            "f826a24640784230b4c75acc92524a73",
            "3cbcfef3e1a443568ece34d1c3f48021",
            "9a926929f2cd45b5a17498f7fd042b6e",
            "7eae1e38aff84719a0f7073a3d4c307b",
            "3276821e93e146f88ec6137968a7a508",
            "cfd70b70e14f4a5ab1e7abe006470f9d",
            "48ef59946a264ea0b8de075ec746a22c"
          ]
        },
        "outputId": "4eb6f44d-4827-420f-b213-ef5fdeed4e1f"
      },
      "source": [
        "#Downloading and Loading the CIFAR-10 dataset \n",
        "def Load_cifar10_data(batch_size, root=os.path.join('CIFAR10_DATASET')):\n",
        "    final_root = os.path.expanduser(root)\n",
        "\n",
        "    #Normalizing the Dataset\n",
        "    Transform_train = transforms.Compose([transforms.RandomCrop(32, padding=4), transforms.RandomHorizontalFlip(),\n",
        "                                          transforms.ToTensor(), transforms.Normalize((0.4914, 0.4822, 0.4465), (0.2023, 0.1994, 0.2010))])\n",
        "    Transform_test = transforms.Compose([transforms.ToTensor(), transforms.Normalize((0.4914, 0.4822, 0.4465), (0.2023, 0.1994, 0.2010))])\n",
        "    \n",
        "    #Downloading the CIFAR10 dataset\n",
        "    Train_set = torchvision.datasets.CIFAR10(root=final_root, train=True, download=True, transform=Transform_train)\n",
        "    Test_set = torchvision.datasets.CIFAR10(root=final_root, train=False, download=True, transform=Transform_test)\n",
        "\n",
        "    #loading the dataset and assign it to a variable\n",
        "    Load_CIFAR_traindata =torch.utils.data.DataLoader(Train_set, batch_size, shuffle=True)\n",
        "    Load_CIFAR_testdata =torch.utils.data.DataLoader(Test_set, batch_size, shuffle=False)\n",
        "    return Load_CIFAR_traindata, Load_CIFAR_testdata\n",
        "\n",
        "Transform_test = transforms.Compose([transforms.ToTensor(), transforms.Normalize((0.4914, 0.4822, 0.4465), (0.2023, 0.1994, 0.2010))])\n",
        "CIFAR10_testdata = torchvision.datasets.CIFAR10(root='Cifar', train=False, download=True, transform=Transform_test)\n",
        "\n",
        "#load the function of the CIFAR-10 dataset to the train and test variable loader\n",
        "Traindata_Loader, Testdata_Loader = Load_cifar10_data(batch_size=128, root=os.path.join('CIFAR10_DATASET'))\n"
      ],
      "execution_count": 2,
      "outputs": [
        {
          "output_type": "stream",
          "text": [
            "Downloading https://www.cs.toronto.edu/~kriz/cifar-10-python.tar.gz to Cifar/cifar-10-python.tar.gz\n"
          ],
          "name": "stdout"
        },
        {
          "output_type": "display_data",
          "data": {
            "application/vnd.jupyter.widget-view+json": {
              "model_id": "4507b07c0f054b419e4a9ff028bf5c9e",
              "version_minor": 0,
              "version_major": 2
            },
            "text/plain": [
              "HBox(children=(FloatProgress(value=0.0, max=170498071.0), HTML(value='')))"
            ]
          },
          "metadata": {
            "tags": []
          }
        },
        {
          "output_type": "stream",
          "text": [
            "\n",
            "Extracting Cifar/cifar-10-python.tar.gz to Cifar\n",
            "Downloading https://www.cs.toronto.edu/~kriz/cifar-10-python.tar.gz to CIFAR10_DATASET/cifar-10-python.tar.gz\n"
          ],
          "name": "stdout"
        },
        {
          "output_type": "display_data",
          "data": {
            "application/vnd.jupyter.widget-view+json": {
              "model_id": "00ca2adf35674825bedc02bdbd719ccf",
              "version_minor": 0,
              "version_major": 2
            },
            "text/plain": [
              "HBox(children=(FloatProgress(value=0.0, max=170498071.0), HTML(value='')))"
            ]
          },
          "metadata": {
            "tags": []
          }
        },
        {
          "output_type": "stream",
          "text": [
            "\n",
            "Extracting CIFAR10_DATASET/cifar-10-python.tar.gz to CIFAR10_DATASET\n",
            "Files already downloaded and verified\n"
          ],
          "name": "stdout"
        }
      ]
    },
    {
      "cell_type": "markdown",
      "metadata": {
        "id": "n-FYnHr8J5fq"
      },
      "source": [
        "##**Developing GoogleNet Architecture**"
      ]
    },
    {
      "cell_type": "code",
      "metadata": {
        "id": "ROpbL15lvYJQ",
        "colab": {
          "base_uri": "https://localhost:8080/"
        },
        "outputId": "5da0e33f-ef4e-4e5d-d480-19fd674d2b98"
      },
      "source": [
        "#########################################################GOOGLENET ARCHITECTURE####################################################################\n",
        "class Convolutional_2d(nn.Module):\n",
        "    def __init__(self, in_channels, out_channels, **kwargs):\n",
        "        super(Convolutional_2d, self).__init__()\n",
        "        self.convlayer = nn.Sequential(nn.Conv2d(in_channels, out_channels, **kwargs), nn.ReLU())\n",
        "    def forward(self, out):\n",
        "        return self.convlayer(out)\n",
        "\n",
        "class Inception(torch.nn.Module):\n",
        "    def __init__(self, Channel_In, channel1, channel2, channel3, channel4, channel5, incep_pooling):\n",
        "        super(Inception, self).__init__()\n",
        "        #Inception layer1 has the single 1x1 kernel size convolutional layer\n",
        "        self.inception1 = Convolutional_2d(Channel_In, channel1, kernel_size=1)\n",
        "        #Inception layer2 has the 1x1 kernel size convolutional layer and a 3x3 convolutional layer\n",
        "        self.inception2 = torch.nn.Sequential(Convolutional_2d(Channel_In, channel2, kernel_size=1), Convolutional_2d(channel2, channel3, kernel_size=3, padding=1))\n",
        "        #Inception layer3 has the 1x1 kernel size convolutional layer and a 5x5 convolutional layer\n",
        "        self.inception3 = torch.nn.Sequential(Convolutional_2d(Channel_In, channel4, kernel_size=1), Convolutional_2d(channel4, channel5, kernel_size=5, padding=2))\n",
        "        #Inception layer4 has the 3x3 maximum pooling layer and a 1x1 convolutional layer\n",
        "        self.inception4 = torch.nn.Sequential(torch.nn.MaxPool2d(kernel_size=3, stride=1, padding=1), Convolutional_2d(Channel_In, incep_pooling, kernel_size=1))\n",
        "\n",
        "    def forward(self, out):\n",
        "        inception1 = self.inception1(out)\n",
        "        inception2 = self.inception2(out)\n",
        "        inception3 = self.inception3(out)\n",
        "        inception4 = self.inception4(out)\n",
        "        return torch.cat([inception1, inception2, inception3, inception4], 1)\n",
        "\n",
        "#GOOGLENET NETWORK\n",
        "#creating the googlenet convolutional layers with inception\n",
        "class GoogleNet(torch.nn.Module):\n",
        "    def __init__(self):\n",
        "        super(GoogleNet, self).__init__() \n",
        "        self.Gnet_convlayer1 = Convolutional_2d(3, 64, kernel_size=7, padding=3)\n",
        "        self.Gnet_convlayer2 = Convolutional_2d(64, 64, kernel_size=1)\n",
        "        self.Gnet_convlayer3 = Convolutional_2d(64, 192, kernel_size=5)\n",
        "        self.inception_3a = Inception(192, 64, 96, 128, 16, 32, 32) \n",
        "        self.inception_3b = Inception(256, 128, 128, 192, 32, 96, 64)\n",
        "        self.pooling_3 = torch.nn.MaxPool2d(3, stride=2)\n",
        "        self.inception_4a = Inception(480, 192, 96, 208, 16, 48, 64)\n",
        "        self.inception_4b = Inception(512, 160, 112, 224, 24, 64, 64)\n",
        "        self.inception_4c = Inception(512, 128, 128, 256, 24, 64, 64)\n",
        "        self.inception_4d = Inception(512, 112, 144, 288, 32, 64, 64)\n",
        "        self.inception_4e = Inception(528, 256, 160, 320, 32, 128, 128)\n",
        "        self.pooling_4 = torch.nn.MaxPool2d(2, stride=2)\n",
        "        self.inception_5a = Inception(832, 256, 160, 320, 32, 128, 128)\n",
        "        self.inception_5b = Inception(832, 384, 192, 384, 48, 128, 128)\n",
        "        self.avgpooling = torch.nn.AdaptiveAvgPool2d((1, 1))\n",
        "        self.dropout = torch.nn.Dropout(0.4)\n",
        "        self.out = torch.nn.Linear(1024, 10)\n",
        "      \n",
        "    def forward(self, final_out):\n",
        "        final_out = self.Gnet_convlayer1(final_out)\n",
        "        final_out = self.Gnet_convlayer2(final_out)\n",
        "        final_out = self.Gnet_convlayer3(final_out)\n",
        "        final_out = self.inception_3a(final_out)\n",
        "        final_out = self.inception_3b(final_out)\n",
        "        final_out = self.pooling_3(final_out)\n",
        "        final_out = self.inception_4a(final_out)\n",
        "        final_out = self.inception_4b(final_out)\n",
        "        final_out = self.inception_4c(final_out)\n",
        "        final_out = self.inception_4d(final_out)\n",
        "        final_out = self.inception_4e(final_out)\n",
        "        final_out = self.pooling_4(final_out)\n",
        "        final_out = self.inception_5a(final_out)\n",
        "        final_out = self.inception_5b(final_out)\n",
        "        final_out = self.avgpooling(final_out)\n",
        "        final_out = torch.flatten(final_out, 1)\n",
        "        final_out = self.dropout(final_out)\n",
        "        final_out = self.out(final_out)\n",
        "        return final_out\n",
        "\n",
        "#Updating the weights of the network\n",
        "Network_arch = GoogleNet()\n",
        "#Initialize the Weights and display the Network architecture\n",
        "def Initialise_weights(layer_weight):\n",
        "    if type(layer_weight) == torch.nn.Conv2d:\n",
        "        torch.nn.init.xavier_uniform_(layer_weight.weight)\n",
        "Network_arch.apply(Initialise_weights)"
      ],
      "execution_count": 3,
      "outputs": [
        {
          "output_type": "execute_result",
          "data": {
            "text/plain": [
              "GoogleNet(\n",
              "  (Gnet_convlayer1): Convolutional_2d(\n",
              "    (convlayer): Sequential(\n",
              "      (0): Conv2d(3, 64, kernel_size=(7, 7), stride=(1, 1), padding=(3, 3))\n",
              "      (1): ReLU()\n",
              "    )\n",
              "  )\n",
              "  (Gnet_convlayer2): Convolutional_2d(\n",
              "    (convlayer): Sequential(\n",
              "      (0): Conv2d(64, 64, kernel_size=(1, 1), stride=(1, 1))\n",
              "      (1): ReLU()\n",
              "    )\n",
              "  )\n",
              "  (Gnet_convlayer3): Convolutional_2d(\n",
              "    (convlayer): Sequential(\n",
              "      (0): Conv2d(64, 192, kernel_size=(5, 5), stride=(1, 1))\n",
              "      (1): ReLU()\n",
              "    )\n",
              "  )\n",
              "  (inception_3a): Inception(\n",
              "    (inception1): Convolutional_2d(\n",
              "      (convlayer): Sequential(\n",
              "        (0): Conv2d(192, 64, kernel_size=(1, 1), stride=(1, 1))\n",
              "        (1): ReLU()\n",
              "      )\n",
              "    )\n",
              "    (inception2): Sequential(\n",
              "      (0): Convolutional_2d(\n",
              "        (convlayer): Sequential(\n",
              "          (0): Conv2d(192, 96, kernel_size=(1, 1), stride=(1, 1))\n",
              "          (1): ReLU()\n",
              "        )\n",
              "      )\n",
              "      (1): Convolutional_2d(\n",
              "        (convlayer): Sequential(\n",
              "          (0): Conv2d(96, 128, kernel_size=(3, 3), stride=(1, 1), padding=(1, 1))\n",
              "          (1): ReLU()\n",
              "        )\n",
              "      )\n",
              "    )\n",
              "    (inception3): Sequential(\n",
              "      (0): Convolutional_2d(\n",
              "        (convlayer): Sequential(\n",
              "          (0): Conv2d(192, 16, kernel_size=(1, 1), stride=(1, 1))\n",
              "          (1): ReLU()\n",
              "        )\n",
              "      )\n",
              "      (1): Convolutional_2d(\n",
              "        (convlayer): Sequential(\n",
              "          (0): Conv2d(16, 32, kernel_size=(5, 5), stride=(1, 1), padding=(2, 2))\n",
              "          (1): ReLU()\n",
              "        )\n",
              "      )\n",
              "    )\n",
              "    (inception4): Sequential(\n",
              "      (0): MaxPool2d(kernel_size=3, stride=1, padding=1, dilation=1, ceil_mode=False)\n",
              "      (1): Convolutional_2d(\n",
              "        (convlayer): Sequential(\n",
              "          (0): Conv2d(192, 32, kernel_size=(1, 1), stride=(1, 1))\n",
              "          (1): ReLU()\n",
              "        )\n",
              "      )\n",
              "    )\n",
              "  )\n",
              "  (inception_3b): Inception(\n",
              "    (inception1): Convolutional_2d(\n",
              "      (convlayer): Sequential(\n",
              "        (0): Conv2d(256, 128, kernel_size=(1, 1), stride=(1, 1))\n",
              "        (1): ReLU()\n",
              "      )\n",
              "    )\n",
              "    (inception2): Sequential(\n",
              "      (0): Convolutional_2d(\n",
              "        (convlayer): Sequential(\n",
              "          (0): Conv2d(256, 128, kernel_size=(1, 1), stride=(1, 1))\n",
              "          (1): ReLU()\n",
              "        )\n",
              "      )\n",
              "      (1): Convolutional_2d(\n",
              "        (convlayer): Sequential(\n",
              "          (0): Conv2d(128, 192, kernel_size=(3, 3), stride=(1, 1), padding=(1, 1))\n",
              "          (1): ReLU()\n",
              "        )\n",
              "      )\n",
              "    )\n",
              "    (inception3): Sequential(\n",
              "      (0): Convolutional_2d(\n",
              "        (convlayer): Sequential(\n",
              "          (0): Conv2d(256, 32, kernel_size=(1, 1), stride=(1, 1))\n",
              "          (1): ReLU()\n",
              "        )\n",
              "      )\n",
              "      (1): Convolutional_2d(\n",
              "        (convlayer): Sequential(\n",
              "          (0): Conv2d(32, 96, kernel_size=(5, 5), stride=(1, 1), padding=(2, 2))\n",
              "          (1): ReLU()\n",
              "        )\n",
              "      )\n",
              "    )\n",
              "    (inception4): Sequential(\n",
              "      (0): MaxPool2d(kernel_size=3, stride=1, padding=1, dilation=1, ceil_mode=False)\n",
              "      (1): Convolutional_2d(\n",
              "        (convlayer): Sequential(\n",
              "          (0): Conv2d(256, 64, kernel_size=(1, 1), stride=(1, 1))\n",
              "          (1): ReLU()\n",
              "        )\n",
              "      )\n",
              "    )\n",
              "  )\n",
              "  (pooling_3): MaxPool2d(kernel_size=3, stride=2, padding=0, dilation=1, ceil_mode=False)\n",
              "  (inception_4a): Inception(\n",
              "    (inception1): Convolutional_2d(\n",
              "      (convlayer): Sequential(\n",
              "        (0): Conv2d(480, 192, kernel_size=(1, 1), stride=(1, 1))\n",
              "        (1): ReLU()\n",
              "      )\n",
              "    )\n",
              "    (inception2): Sequential(\n",
              "      (0): Convolutional_2d(\n",
              "        (convlayer): Sequential(\n",
              "          (0): Conv2d(480, 96, kernel_size=(1, 1), stride=(1, 1))\n",
              "          (1): ReLU()\n",
              "        )\n",
              "      )\n",
              "      (1): Convolutional_2d(\n",
              "        (convlayer): Sequential(\n",
              "          (0): Conv2d(96, 208, kernel_size=(3, 3), stride=(1, 1), padding=(1, 1))\n",
              "          (1): ReLU()\n",
              "        )\n",
              "      )\n",
              "    )\n",
              "    (inception3): Sequential(\n",
              "      (0): Convolutional_2d(\n",
              "        (convlayer): Sequential(\n",
              "          (0): Conv2d(480, 16, kernel_size=(1, 1), stride=(1, 1))\n",
              "          (1): ReLU()\n",
              "        )\n",
              "      )\n",
              "      (1): Convolutional_2d(\n",
              "        (convlayer): Sequential(\n",
              "          (0): Conv2d(16, 48, kernel_size=(5, 5), stride=(1, 1), padding=(2, 2))\n",
              "          (1): ReLU()\n",
              "        )\n",
              "      )\n",
              "    )\n",
              "    (inception4): Sequential(\n",
              "      (0): MaxPool2d(kernel_size=3, stride=1, padding=1, dilation=1, ceil_mode=False)\n",
              "      (1): Convolutional_2d(\n",
              "        (convlayer): Sequential(\n",
              "          (0): Conv2d(480, 64, kernel_size=(1, 1), stride=(1, 1))\n",
              "          (1): ReLU()\n",
              "        )\n",
              "      )\n",
              "    )\n",
              "  )\n",
              "  (inception_4b): Inception(\n",
              "    (inception1): Convolutional_2d(\n",
              "      (convlayer): Sequential(\n",
              "        (0): Conv2d(512, 160, kernel_size=(1, 1), stride=(1, 1))\n",
              "        (1): ReLU()\n",
              "      )\n",
              "    )\n",
              "    (inception2): Sequential(\n",
              "      (0): Convolutional_2d(\n",
              "        (convlayer): Sequential(\n",
              "          (0): Conv2d(512, 112, kernel_size=(1, 1), stride=(1, 1))\n",
              "          (1): ReLU()\n",
              "        )\n",
              "      )\n",
              "      (1): Convolutional_2d(\n",
              "        (convlayer): Sequential(\n",
              "          (0): Conv2d(112, 224, kernel_size=(3, 3), stride=(1, 1), padding=(1, 1))\n",
              "          (1): ReLU()\n",
              "        )\n",
              "      )\n",
              "    )\n",
              "    (inception3): Sequential(\n",
              "      (0): Convolutional_2d(\n",
              "        (convlayer): Sequential(\n",
              "          (0): Conv2d(512, 24, kernel_size=(1, 1), stride=(1, 1))\n",
              "          (1): ReLU()\n",
              "        )\n",
              "      )\n",
              "      (1): Convolutional_2d(\n",
              "        (convlayer): Sequential(\n",
              "          (0): Conv2d(24, 64, kernel_size=(5, 5), stride=(1, 1), padding=(2, 2))\n",
              "          (1): ReLU()\n",
              "        )\n",
              "      )\n",
              "    )\n",
              "    (inception4): Sequential(\n",
              "      (0): MaxPool2d(kernel_size=3, stride=1, padding=1, dilation=1, ceil_mode=False)\n",
              "      (1): Convolutional_2d(\n",
              "        (convlayer): Sequential(\n",
              "          (0): Conv2d(512, 64, kernel_size=(1, 1), stride=(1, 1))\n",
              "          (1): ReLU()\n",
              "        )\n",
              "      )\n",
              "    )\n",
              "  )\n",
              "  (inception_4c): Inception(\n",
              "    (inception1): Convolutional_2d(\n",
              "      (convlayer): Sequential(\n",
              "        (0): Conv2d(512, 128, kernel_size=(1, 1), stride=(1, 1))\n",
              "        (1): ReLU()\n",
              "      )\n",
              "    )\n",
              "    (inception2): Sequential(\n",
              "      (0): Convolutional_2d(\n",
              "        (convlayer): Sequential(\n",
              "          (0): Conv2d(512, 128, kernel_size=(1, 1), stride=(1, 1))\n",
              "          (1): ReLU()\n",
              "        )\n",
              "      )\n",
              "      (1): Convolutional_2d(\n",
              "        (convlayer): Sequential(\n",
              "          (0): Conv2d(128, 256, kernel_size=(3, 3), stride=(1, 1), padding=(1, 1))\n",
              "          (1): ReLU()\n",
              "        )\n",
              "      )\n",
              "    )\n",
              "    (inception3): Sequential(\n",
              "      (0): Convolutional_2d(\n",
              "        (convlayer): Sequential(\n",
              "          (0): Conv2d(512, 24, kernel_size=(1, 1), stride=(1, 1))\n",
              "          (1): ReLU()\n",
              "        )\n",
              "      )\n",
              "      (1): Convolutional_2d(\n",
              "        (convlayer): Sequential(\n",
              "          (0): Conv2d(24, 64, kernel_size=(5, 5), stride=(1, 1), padding=(2, 2))\n",
              "          (1): ReLU()\n",
              "        )\n",
              "      )\n",
              "    )\n",
              "    (inception4): Sequential(\n",
              "      (0): MaxPool2d(kernel_size=3, stride=1, padding=1, dilation=1, ceil_mode=False)\n",
              "      (1): Convolutional_2d(\n",
              "        (convlayer): Sequential(\n",
              "          (0): Conv2d(512, 64, kernel_size=(1, 1), stride=(1, 1))\n",
              "          (1): ReLU()\n",
              "        )\n",
              "      )\n",
              "    )\n",
              "  )\n",
              "  (inception_4d): Inception(\n",
              "    (inception1): Convolutional_2d(\n",
              "      (convlayer): Sequential(\n",
              "        (0): Conv2d(512, 112, kernel_size=(1, 1), stride=(1, 1))\n",
              "        (1): ReLU()\n",
              "      )\n",
              "    )\n",
              "    (inception2): Sequential(\n",
              "      (0): Convolutional_2d(\n",
              "        (convlayer): Sequential(\n",
              "          (0): Conv2d(512, 144, kernel_size=(1, 1), stride=(1, 1))\n",
              "          (1): ReLU()\n",
              "        )\n",
              "      )\n",
              "      (1): Convolutional_2d(\n",
              "        (convlayer): Sequential(\n",
              "          (0): Conv2d(144, 288, kernel_size=(3, 3), stride=(1, 1), padding=(1, 1))\n",
              "          (1): ReLU()\n",
              "        )\n",
              "      )\n",
              "    )\n",
              "    (inception3): Sequential(\n",
              "      (0): Convolutional_2d(\n",
              "        (convlayer): Sequential(\n",
              "          (0): Conv2d(512, 32, kernel_size=(1, 1), stride=(1, 1))\n",
              "          (1): ReLU()\n",
              "        )\n",
              "      )\n",
              "      (1): Convolutional_2d(\n",
              "        (convlayer): Sequential(\n",
              "          (0): Conv2d(32, 64, kernel_size=(5, 5), stride=(1, 1), padding=(2, 2))\n",
              "          (1): ReLU()\n",
              "        )\n",
              "      )\n",
              "    )\n",
              "    (inception4): Sequential(\n",
              "      (0): MaxPool2d(kernel_size=3, stride=1, padding=1, dilation=1, ceil_mode=False)\n",
              "      (1): Convolutional_2d(\n",
              "        (convlayer): Sequential(\n",
              "          (0): Conv2d(512, 64, kernel_size=(1, 1), stride=(1, 1))\n",
              "          (1): ReLU()\n",
              "        )\n",
              "      )\n",
              "    )\n",
              "  )\n",
              "  (inception_4e): Inception(\n",
              "    (inception1): Convolutional_2d(\n",
              "      (convlayer): Sequential(\n",
              "        (0): Conv2d(528, 256, kernel_size=(1, 1), stride=(1, 1))\n",
              "        (1): ReLU()\n",
              "      )\n",
              "    )\n",
              "    (inception2): Sequential(\n",
              "      (0): Convolutional_2d(\n",
              "        (convlayer): Sequential(\n",
              "          (0): Conv2d(528, 160, kernel_size=(1, 1), stride=(1, 1))\n",
              "          (1): ReLU()\n",
              "        )\n",
              "      )\n",
              "      (1): Convolutional_2d(\n",
              "        (convlayer): Sequential(\n",
              "          (0): Conv2d(160, 320, kernel_size=(3, 3), stride=(1, 1), padding=(1, 1))\n",
              "          (1): ReLU()\n",
              "        )\n",
              "      )\n",
              "    )\n",
              "    (inception3): Sequential(\n",
              "      (0): Convolutional_2d(\n",
              "        (convlayer): Sequential(\n",
              "          (0): Conv2d(528, 32, kernel_size=(1, 1), stride=(1, 1))\n",
              "          (1): ReLU()\n",
              "        )\n",
              "      )\n",
              "      (1): Convolutional_2d(\n",
              "        (convlayer): Sequential(\n",
              "          (0): Conv2d(32, 128, kernel_size=(5, 5), stride=(1, 1), padding=(2, 2))\n",
              "          (1): ReLU()\n",
              "        )\n",
              "      )\n",
              "    )\n",
              "    (inception4): Sequential(\n",
              "      (0): MaxPool2d(kernel_size=3, stride=1, padding=1, dilation=1, ceil_mode=False)\n",
              "      (1): Convolutional_2d(\n",
              "        (convlayer): Sequential(\n",
              "          (0): Conv2d(528, 128, kernel_size=(1, 1), stride=(1, 1))\n",
              "          (1): ReLU()\n",
              "        )\n",
              "      )\n",
              "    )\n",
              "  )\n",
              "  (pooling_4): MaxPool2d(kernel_size=2, stride=2, padding=0, dilation=1, ceil_mode=False)\n",
              "  (inception_5a): Inception(\n",
              "    (inception1): Convolutional_2d(\n",
              "      (convlayer): Sequential(\n",
              "        (0): Conv2d(832, 256, kernel_size=(1, 1), stride=(1, 1))\n",
              "        (1): ReLU()\n",
              "      )\n",
              "    )\n",
              "    (inception2): Sequential(\n",
              "      (0): Convolutional_2d(\n",
              "        (convlayer): Sequential(\n",
              "          (0): Conv2d(832, 160, kernel_size=(1, 1), stride=(1, 1))\n",
              "          (1): ReLU()\n",
              "        )\n",
              "      )\n",
              "      (1): Convolutional_2d(\n",
              "        (convlayer): Sequential(\n",
              "          (0): Conv2d(160, 320, kernel_size=(3, 3), stride=(1, 1), padding=(1, 1))\n",
              "          (1): ReLU()\n",
              "        )\n",
              "      )\n",
              "    )\n",
              "    (inception3): Sequential(\n",
              "      (0): Convolutional_2d(\n",
              "        (convlayer): Sequential(\n",
              "          (0): Conv2d(832, 32, kernel_size=(1, 1), stride=(1, 1))\n",
              "          (1): ReLU()\n",
              "        )\n",
              "      )\n",
              "      (1): Convolutional_2d(\n",
              "        (convlayer): Sequential(\n",
              "          (0): Conv2d(32, 128, kernel_size=(5, 5), stride=(1, 1), padding=(2, 2))\n",
              "          (1): ReLU()\n",
              "        )\n",
              "      )\n",
              "    )\n",
              "    (inception4): Sequential(\n",
              "      (0): MaxPool2d(kernel_size=3, stride=1, padding=1, dilation=1, ceil_mode=False)\n",
              "      (1): Convolutional_2d(\n",
              "        (convlayer): Sequential(\n",
              "          (0): Conv2d(832, 128, kernel_size=(1, 1), stride=(1, 1))\n",
              "          (1): ReLU()\n",
              "        )\n",
              "      )\n",
              "    )\n",
              "  )\n",
              "  (inception_5b): Inception(\n",
              "    (inception1): Convolutional_2d(\n",
              "      (convlayer): Sequential(\n",
              "        (0): Conv2d(832, 384, kernel_size=(1, 1), stride=(1, 1))\n",
              "        (1): ReLU()\n",
              "      )\n",
              "    )\n",
              "    (inception2): Sequential(\n",
              "      (0): Convolutional_2d(\n",
              "        (convlayer): Sequential(\n",
              "          (0): Conv2d(832, 192, kernel_size=(1, 1), stride=(1, 1))\n",
              "          (1): ReLU()\n",
              "        )\n",
              "      )\n",
              "      (1): Convolutional_2d(\n",
              "        (convlayer): Sequential(\n",
              "          (0): Conv2d(192, 384, kernel_size=(3, 3), stride=(1, 1), padding=(1, 1))\n",
              "          (1): ReLU()\n",
              "        )\n",
              "      )\n",
              "    )\n",
              "    (inception3): Sequential(\n",
              "      (0): Convolutional_2d(\n",
              "        (convlayer): Sequential(\n",
              "          (0): Conv2d(832, 48, kernel_size=(1, 1), stride=(1, 1))\n",
              "          (1): ReLU()\n",
              "        )\n",
              "      )\n",
              "      (1): Convolutional_2d(\n",
              "        (convlayer): Sequential(\n",
              "          (0): Conv2d(48, 128, kernel_size=(5, 5), stride=(1, 1), padding=(2, 2))\n",
              "          (1): ReLU()\n",
              "        )\n",
              "      )\n",
              "    )\n",
              "    (inception4): Sequential(\n",
              "      (0): MaxPool2d(kernel_size=3, stride=1, padding=1, dilation=1, ceil_mode=False)\n",
              "      (1): Convolutional_2d(\n",
              "        (convlayer): Sequential(\n",
              "          (0): Conv2d(832, 128, kernel_size=(1, 1), stride=(1, 1))\n",
              "          (1): ReLU()\n",
              "        )\n",
              "      )\n",
              "    )\n",
              "  )\n",
              "  (avgpooling): AdaptiveAvgPool2d(output_size=(1, 1))\n",
              "  (dropout): Dropout(p=0.4, inplace=False)\n",
              "  (out): Linear(in_features=1024, out_features=10, bias=True)\n",
              ")"
            ]
          },
          "metadata": {
            "tags": []
          },
          "execution_count": 3
        }
      ]
    },
    {
      "cell_type": "code",
      "metadata": {
        "colab": {
          "base_uri": "https://localhost:8080/"
        },
        "id": "--delmYHz9A1",
        "outputId": "8959cb57-5468-4b2f-9beb-50b609386b5f"
      },
      "source": [
        "#enumerating testdata with batch index of source and the target\n",
        "testdata_ex = enumerate(Testdata_Loader)\n",
        "batch_idx, (Val_ex_data, Val_ex_targets) = next(testdata_ex)\n",
        "#printing the shape of the indexed data\n",
        "print(Val_ex_data.shape)"
      ],
      "execution_count": 4,
      "outputs": [
        {
          "output_type": "stream",
          "text": [
            "torch.Size([128, 3, 32, 32])\n"
          ],
          "name": "stdout"
        }
      ]
    },
    {
      "cell_type": "markdown",
      "metadata": {
        "id": "zZFyNRW8Lwux"
      },
      "source": [
        "##**Setting Hyperparameters**"
      ]
    },
    {
      "cell_type": "code",
      "metadata": {
        "id": "j4l9WyqDwVoS"
      },
      "source": [
        "#Initialization of Hyperparameters\n",
        "#Number of epochs\n",
        "EPOCHS = 40\n",
        "#Batch size and the learning rate\n",
        "batch_size= 32\n",
        "Learning_rate= 0.1\n",
        "#Loss Function\n",
        "Loss_criterion_function = torch.nn.CrossEntropyLoss()\n",
        "device =torch.device('cuda' if torch.cuda.is_available() else 'cpu')"
      ],
      "execution_count": 5,
      "outputs": []
    },
    {
      "cell_type": "code",
      "metadata": {
        "id": "Y22TMbheV4xV"
      },
      "source": [
        "#For storing the generated train and test accuracy and plotting\n",
        "def show_train_hist(hist, show=False, save=False, path='Train_hist.png'):\n",
        "    x = range(len(hist['train_accuracy']))\n",
        "    y1 = hist['train_accuracy']\n",
        "    y2 = hist['test_accuracy']\n",
        "    #plotting\n",
        "    plt.plot(x, y1, label='train_accuracy')\n",
        "    plt.plot(x, y2, label='test_accuracy')\n",
        "    plt.xlabel('Epoch')\n",
        "    plt.ylabel('Accuracy')\n",
        "    plt.legend(loc=4)\n",
        "    plt.grid(True)\n",
        "    plt.tight_layout()\n",
        "    #saving the generated outputs\n",
        "    if save:\n",
        "        plt.savefig(path)\n",
        "    if show:\n",
        "        plt.show()\n",
        "    else:\n",
        "        plt.close()"
      ],
      "execution_count": 6,
      "outputs": []
    },
    {
      "cell_type": "markdown",
      "metadata": {
        "id": "awSb7L83MET4"
      },
      "source": [
        "##**Evaluation --> Training and Testing**"
      ]
    },
    {
      "cell_type": "code",
      "metadata": {
        "id": "dn0vWKVBW7wA"
      },
      "source": [
        "#Test Accuracy and loss Evaluation\n",
        "def Evaluate_Accuracy(dataset_eval_iteration, Network_arch, Loss_criterion_function, device=device): \n",
        "  #Evaluate accuracy of a model on the testset\n",
        "  #In evaluation mode, we will be using the dropout and normalization layers\n",
        "  testset_initial=len(dataset_eval_iteration.dataset)\n",
        "  test_loss=0\n",
        "  test_accuracy=0\n",
        "  Network_arch.eval()\n",
        "  with torch.no_grad():\n",
        "    for X, y in dataset_eval_iteration:\n",
        "        #transfer the produced data to the device\n",
        "        X = X.to(device)\n",
        "        y = y.to(device)   \n",
        "        outputs = Network_arch(X)\n",
        "        #calculating the test accuracy and loss and appending it                                                   \n",
        "        test_loss += Loss_criterion_function(outputs,y).item()                 \n",
        "        test_accuracy += (outputs.argmax(1) == y).type(torch.float).sum().item()  \n",
        "  test_accuracy = test_accuracy/testset_initial  \n",
        "  test_loss /= testset_initial\n",
        "  return test_accuracy, test_loss"
      ],
      "execution_count": 7,
      "outputs": []
    },
    {
      "cell_type": "code",
      "metadata": {
        "id": "RoKK6K8i4yI9"
      },
      "source": [
        "#Cross validating the predicted values for plotting the confusion matrix and predict the correct and incorrect samples\n",
        "def Cross_validate_predicted_data(Network_arch, dataset_eval_iteration):\n",
        "    Data_pics_label = []\n",
        "    Data_pics_val = []\n",
        "    Network_arch.eval()\n",
        "    for X, y in dataset_eval_iteration:\n",
        "      X = X.to(device)\n",
        "      y = y.to(device)\n",
        "      prediction = Network_arch(X)\n",
        "      with torch.no_grad():\n",
        "            Final_predict = F.softmax(prediction, dim = -1)\n",
        "            Data_pics_label.append(y.cpu())\n",
        "            Data_pics_val.append(Final_predict.cpu())\n",
        "    out1 = torch.cat(Data_pics_label)\n",
        "    out2 = torch.cat(Data_pics_val)\n",
        "    return out1, out2"
      ],
      "execution_count": 8,
      "outputs": []
    },
    {
      "cell_type": "code",
      "metadata": {
        "colab": {
          "base_uri": "https://localhost:8080/"
        },
        "id": "vlxliRglwkbt",
        "outputId": "ef7baec9-e012-41a7-91c3-d1df29f55699"
      },
      "source": [
        "#Training and Evaluating the model \n",
        "#Training is performed on the train dataset\n",
        "#Testing (Evaluation) is performed in the test dataset\n",
        "#Train and evaluate the model using the device GPU or else with CPU\n",
        "def training(Network_arch, Load_CIFAR10_traindata, Load_CIFAR10_testdata, Loss_criterion_function, EPOCHS, batch_size, device, Learning_rate=None):    \n",
        "    print(\"---------------------------------------------------\")\n",
        "    print(\"Model Training and Testing Start date:\", date)\n",
        "    print(\"Model Training and Testing starting time:\", Time)\n",
        "    print(\"---------------------------------------------------\")\n",
        "    print('GoogleNet Architecture Training and Testing Begins!')\n",
        "    Network_arch.to(device)\n",
        "    #Initialization of the optimizer\n",
        "    optimizer = optim.SGD(Network_arch.parameters(), lr=Learning_rate)\n",
        "    #FOR CALCULATING THE EPOCHS\n",
        "    for Epoch in range(EPOCHS):\n",
        "        #Network is trained on the training mode\n",
        "        Network_arch.train()\n",
        "        cv = 0\n",
        "        ep_start = time.time()\n",
        "        Sum_training_Loss = torch.tensor([0.0], device=device)\n",
        "        Sum_training_Accuracy = torch.tensor([0.0], device=device)\n",
        "        #FOR CALCULATING THE TRAIN LOSS AND TRAIN ACCURACY\n",
        "        for X, y in Load_CIFAR10_traindata:\n",
        "            optimizer.zero_grad()\n",
        "            X = X.to(device) \n",
        "            y = y.to(device)\n",
        "            conv_y = Network_arch(X)\n",
        "            final_end_loss = Loss_criterion_function(conv_y, y)\n",
        "            final_end_loss.backward()\n",
        "            optimizer.step()\n",
        "            with torch.no_grad():\n",
        "                y = y.long()\n",
        "                Sum_training_Loss += final_end_loss.float()\n",
        "                Sum_training_Accuracy += (torch.sum((torch.argmax(conv_y, dim=1) == y))).float()\n",
        "                cv += y.shape[0]\n",
        "                final_loss = Sum_training_Loss/cv\n",
        "                final_train_accuracy = Sum_training_Accuracy/cv\n",
        "                #final_train_accuracy_out =final_train_accuracy.to('cpu').numpy()\n",
        "        #FOR CALCULATING THE TEST ACCURACY and loss\n",
        "        final_test_accuracy, final_test_loss = Evaluate_Accuracy(Load_CIFAR10_testdata, Network_arch, Loss_criterion_function, device) \n",
        "        Start_Time=datetime.now()\n",
        "        train_test_Start_Time = Start_Time.strftime(\"%H:%M:%S\")\n",
        "        print(\"-------------------------------------------------------------------------------------------------------------------------------------------\")\n",
        "        #print(f'Epoch_start_time: {train_test_Start_Time}')\n",
        "        print('Epoch--> %d\\t Train_Loss: %.4f\\t Train_Accuracy: %.2f\\t    Test_Loss: %.4f\\t  Test_Accuracy: %.2f\\t  Time_Duration: %.1f sec\\t' % (Epoch + 1, final_loss, final_train_accuracy*100, final_test_loss, final_test_accuracy*100, time.time() - ep_start))\n",
        "        print(\"-------------------------------------------------------------------------------------------------------------------------------------------\")\n",
        "        save_dir = './CV_miniproject_results/'\n",
        "        #Creating a folder to store the results\n",
        "        if not os.path.exists(save_dir):\n",
        "          os.mkdir(save_dir)\n",
        "        #Storing and tracking the outputs and plotting\n",
        "        train_hist = {}\n",
        "        train_hist['train_accuracy'] = []\n",
        "        train_hist['test_accuracy'] = []\n",
        "        train_hist['train_accuracy'].append(final_train_accuracy)\n",
        "        train_hist['test_accuracy'].append(final_test_accuracy)\n",
        "        #saving outputs to the created directory\n",
        "        with open(save_dir + '/train_hist.pkl', 'wb') as f:\n",
        "          pickle.dump(train_hist, f)\n",
        "        show_train_hist(train_hist, save=True, path=save_dir + '/CV_miniproject_Train_hist.png')\n",
        "\n",
        "#Training and evaluating the Network model \n",
        "GoogleNet_History = training(Network_arch, Traindata_Loader, Testdata_Loader, Loss_criterion_function, EPOCHS, batch_size, device, Learning_rate)\n",
        "End_Time=datetime.now()\n",
        "end_date = End_Time.strftime(\"%d/%m/%Y\")\n",
        "end_time = End_Time.strftime(\"%H:%M:%S\")\n",
        "print('GoogleNet Architecture Training and Testing Completed!')\n",
        "print(\"--------------------------------------------------\")\n",
        "print(\"Model Training and Testing End date:\", end_date)\n",
        "print(\"Model Training and Testing End time:\", end_time)\n",
        "print(\"--------------------------------------------------\")"
      ],
      "execution_count": 9,
      "outputs": [
        {
          "output_type": "stream",
          "text": [
            "---------------------------------------------------\n",
            "Model Training and Testing Start date: 17/05/2021\n",
            "Model Training and Testing starting time: 06:48:48\n",
            "---------------------------------------------------\n",
            "GoogleNet Architecture Training and Testing Begins!\n",
            "-------------------------------------------------------------------------------------------------------------------------------------------\n",
            "Epoch--> 1\t Train_Loss: 0.0174\t Train_Accuracy: 14.71\t    Test_Loss: 0.0158\t  Test_Accuracy: 22.69\t  Time_Duration: 42.0 sec\t\n",
            "-------------------------------------------------------------------------------------------------------------------------------------------\n",
            "-------------------------------------------------------------------------------------------------------------------------------------------\n",
            "Epoch--> 2\t Train_Loss: 0.0155\t Train_Accuracy: 24.76\t    Test_Loss: 0.0150\t  Test_Accuracy: 28.18\t  Time_Duration: 41.8 sec\t\n",
            "-------------------------------------------------------------------------------------------------------------------------------------------\n",
            "-------------------------------------------------------------------------------------------------------------------------------------------\n",
            "Epoch--> 3\t Train_Loss: 0.0143\t Train_Accuracy: 30.37\t    Test_Loss: 0.0142\t  Test_Accuracy: 33.47\t  Time_Duration: 41.7 sec\t\n",
            "-------------------------------------------------------------------------------------------------------------------------------------------\n",
            "-------------------------------------------------------------------------------------------------------------------------------------------\n",
            "Epoch--> 4\t Train_Loss: 0.0136\t Train_Accuracy: 33.93\t    Test_Loss: 0.0134\t  Test_Accuracy: 33.46\t  Time_Duration: 41.7 sec\t\n",
            "-------------------------------------------------------------------------------------------------------------------------------------------\n",
            "-------------------------------------------------------------------------------------------------------------------------------------------\n",
            "Epoch--> 5\t Train_Loss: 0.0129\t Train_Accuracy: 37.80\t    Test_Loss: 0.0120\t  Test_Accuracy: 43.60\t  Time_Duration: 41.7 sec\t\n",
            "-------------------------------------------------------------------------------------------------------------------------------------------\n",
            "-------------------------------------------------------------------------------------------------------------------------------------------\n",
            "Epoch--> 6\t Train_Loss: 0.0124\t Train_Accuracy: 40.71\t    Test_Loss: 0.0120\t  Test_Accuracy: 44.08\t  Time_Duration: 41.8 sec\t\n",
            "-------------------------------------------------------------------------------------------------------------------------------------------\n",
            "-------------------------------------------------------------------------------------------------------------------------------------------\n",
            "Epoch--> 7\t Train_Loss: 0.0118\t Train_Accuracy: 44.19\t    Test_Loss: 0.0109\t  Test_Accuracy: 48.59\t  Time_Duration: 41.8 sec\t\n",
            "-------------------------------------------------------------------------------------------------------------------------------------------\n",
            "-------------------------------------------------------------------------------------------------------------------------------------------\n",
            "Epoch--> 8\t Train_Loss: 0.0114\t Train_Accuracy: 47.01\t    Test_Loss: 0.0111\t  Test_Accuracy: 48.48\t  Time_Duration: 41.7 sec\t\n",
            "-------------------------------------------------------------------------------------------------------------------------------------------\n",
            "-------------------------------------------------------------------------------------------------------------------------------------------\n",
            "Epoch--> 9\t Train_Loss: 0.0108\t Train_Accuracy: 49.68\t    Test_Loss: 0.0117\t  Test_Accuracy: 46.86\t  Time_Duration: 41.8 sec\t\n",
            "-------------------------------------------------------------------------------------------------------------------------------------------\n",
            "-------------------------------------------------------------------------------------------------------------------------------------------\n",
            "Epoch--> 10\t Train_Loss: 0.0103\t Train_Accuracy: 52.74\t    Test_Loss: 0.0096\t  Test_Accuracy: 56.17\t  Time_Duration: 41.8 sec\t\n",
            "-------------------------------------------------------------------------------------------------------------------------------------------\n",
            "-------------------------------------------------------------------------------------------------------------------------------------------\n",
            "Epoch--> 11\t Train_Loss: 0.0098\t Train_Accuracy: 55.25\t    Test_Loss: 0.0097\t  Test_Accuracy: 56.57\t  Time_Duration: 41.8 sec\t\n",
            "-------------------------------------------------------------------------------------------------------------------------------------------\n",
            "-------------------------------------------------------------------------------------------------------------------------------------------\n",
            "Epoch--> 12\t Train_Loss: 0.0093\t Train_Accuracy: 57.68\t    Test_Loss: 0.0104\t  Test_Accuracy: 56.01\t  Time_Duration: 41.8 sec\t\n",
            "-------------------------------------------------------------------------------------------------------------------------------------------\n",
            "-------------------------------------------------------------------------------------------------------------------------------------------\n",
            "Epoch--> 13\t Train_Loss: 0.0088\t Train_Accuracy: 59.83\t    Test_Loss: 0.0104\t  Test_Accuracy: 55.00\t  Time_Duration: 41.8 sec\t\n",
            "-------------------------------------------------------------------------------------------------------------------------------------------\n",
            "-------------------------------------------------------------------------------------------------------------------------------------------\n",
            "Epoch--> 14\t Train_Loss: 0.0084\t Train_Accuracy: 62.07\t    Test_Loss: 0.0083\t  Test_Accuracy: 62.05\t  Time_Duration: 41.8 sec\t\n",
            "-------------------------------------------------------------------------------------------------------------------------------------------\n",
            "-------------------------------------------------------------------------------------------------------------------------------------------\n",
            "Epoch--> 15\t Train_Loss: 0.0079\t Train_Accuracy: 64.25\t    Test_Loss: 0.0085\t  Test_Accuracy: 63.09\t  Time_Duration: 41.8 sec\t\n",
            "-------------------------------------------------------------------------------------------------------------------------------------------\n",
            "-------------------------------------------------------------------------------------------------------------------------------------------\n",
            "Epoch--> 16\t Train_Loss: 0.0076\t Train_Accuracy: 65.99\t    Test_Loss: 0.0070\t  Test_Accuracy: 68.04\t  Time_Duration: 41.8 sec\t\n",
            "-------------------------------------------------------------------------------------------------------------------------------------------\n",
            "-------------------------------------------------------------------------------------------------------------------------------------------\n",
            "Epoch--> 17\t Train_Loss: 0.0071\t Train_Accuracy: 68.18\t    Test_Loss: 0.0069\t  Test_Accuracy: 70.25\t  Time_Duration: 41.8 sec\t\n",
            "-------------------------------------------------------------------------------------------------------------------------------------------\n",
            "-------------------------------------------------------------------------------------------------------------------------------------------\n",
            "Epoch--> 18\t Train_Loss: 0.0068\t Train_Accuracy: 69.59\t    Test_Loss: 0.0084\t  Test_Accuracy: 64.42\t  Time_Duration: 41.8 sec\t\n",
            "-------------------------------------------------------------------------------------------------------------------------------------------\n",
            "-------------------------------------------------------------------------------------------------------------------------------------------\n",
            "Epoch--> 19\t Train_Loss: 0.0065\t Train_Accuracy: 71.09\t    Test_Loss: 0.0070\t  Test_Accuracy: 68.41\t  Time_Duration: 41.8 sec\t\n",
            "-------------------------------------------------------------------------------------------------------------------------------------------\n",
            "-------------------------------------------------------------------------------------------------------------------------------------------\n",
            "Epoch--> 20\t Train_Loss: 0.0062\t Train_Accuracy: 72.53\t    Test_Loss: 0.0061\t  Test_Accuracy: 73.51\t  Time_Duration: 41.8 sec\t\n",
            "-------------------------------------------------------------------------------------------------------------------------------------------\n",
            "-------------------------------------------------------------------------------------------------------------------------------------------\n",
            "Epoch--> 21\t Train_Loss: 0.0059\t Train_Accuracy: 73.76\t    Test_Loss: 0.0063\t  Test_Accuracy: 71.63\t  Time_Duration: 41.8 sec\t\n",
            "-------------------------------------------------------------------------------------------------------------------------------------------\n",
            "-------------------------------------------------------------------------------------------------------------------------------------------\n",
            "Epoch--> 22\t Train_Loss: 0.0055\t Train_Accuracy: 75.39\t    Test_Loss: 0.0063\t  Test_Accuracy: 72.93\t  Time_Duration: 41.8 sec\t\n",
            "-------------------------------------------------------------------------------------------------------------------------------------------\n",
            "-------------------------------------------------------------------------------------------------------------------------------------------\n",
            "Epoch--> 23\t Train_Loss: 0.0053\t Train_Accuracy: 76.54\t    Test_Loss: 0.0065\t  Test_Accuracy: 71.70\t  Time_Duration: 41.8 sec\t\n",
            "-------------------------------------------------------------------------------------------------------------------------------------------\n",
            "-------------------------------------------------------------------------------------------------------------------------------------------\n",
            "Epoch--> 24\t Train_Loss: 0.0050\t Train_Accuracy: 77.82\t    Test_Loss: 0.0055\t  Test_Accuracy: 75.82\t  Time_Duration: 41.8 sec\t\n",
            "-------------------------------------------------------------------------------------------------------------------------------------------\n",
            "-------------------------------------------------------------------------------------------------------------------------------------------\n",
            "Epoch--> 25\t Train_Loss: 0.0048\t Train_Accuracy: 78.28\t    Test_Loss: 0.0052\t  Test_Accuracy: 77.86\t  Time_Duration: 41.8 sec\t\n",
            "-------------------------------------------------------------------------------------------------------------------------------------------\n",
            "-------------------------------------------------------------------------------------------------------------------------------------------\n",
            "Epoch--> 26\t Train_Loss: 0.0046\t Train_Accuracy: 79.75\t    Test_Loss: 0.0054\t  Test_Accuracy: 78.03\t  Time_Duration: 41.9 sec\t\n",
            "-------------------------------------------------------------------------------------------------------------------------------------------\n",
            "-------------------------------------------------------------------------------------------------------------------------------------------\n",
            "Epoch--> 27\t Train_Loss: 0.0044\t Train_Accuracy: 80.59\t    Test_Loss: 0.0059\t  Test_Accuracy: 75.39\t  Time_Duration: 41.8 sec\t\n",
            "-------------------------------------------------------------------------------------------------------------------------------------------\n",
            "-------------------------------------------------------------------------------------------------------------------------------------------\n",
            "Epoch--> 28\t Train_Loss: 0.0042\t Train_Accuracy: 81.15\t    Test_Loss: 0.0050\t  Test_Accuracy: 78.31\t  Time_Duration: 41.8 sec\t\n",
            "-------------------------------------------------------------------------------------------------------------------------------------------\n",
            "-------------------------------------------------------------------------------------------------------------------------------------------\n",
            "Epoch--> 29\t Train_Loss: 0.0041\t Train_Accuracy: 81.91\t    Test_Loss: 0.0050\t  Test_Accuracy: 79.27\t  Time_Duration: 41.8 sec\t\n",
            "-------------------------------------------------------------------------------------------------------------------------------------------\n",
            "-------------------------------------------------------------------------------------------------------------------------------------------\n",
            "Epoch--> 30\t Train_Loss: 0.0038\t Train_Accuracy: 83.02\t    Test_Loss: 0.0060\t  Test_Accuracy: 75.96\t  Time_Duration: 41.8 sec\t\n",
            "-------------------------------------------------------------------------------------------------------------------------------------------\n",
            "-------------------------------------------------------------------------------------------------------------------------------------------\n",
            "Epoch--> 31\t Train_Loss: 0.0037\t Train_Accuracy: 83.57\t    Test_Loss: 0.0050\t  Test_Accuracy: 79.26\t  Time_Duration: 41.9 sec\t\n",
            "-------------------------------------------------------------------------------------------------------------------------------------------\n",
            "-------------------------------------------------------------------------------------------------------------------------------------------\n",
            "Epoch--> 32\t Train_Loss: 0.0036\t Train_Accuracy: 84.36\t    Test_Loss: 0.0052\t  Test_Accuracy: 78.52\t  Time_Duration: 41.8 sec\t\n",
            "-------------------------------------------------------------------------------------------------------------------------------------------\n",
            "-------------------------------------------------------------------------------------------------------------------------------------------\n",
            "Epoch--> 33\t Train_Loss: 0.0035\t Train_Accuracy: 84.79\t    Test_Loss: 0.0054\t  Test_Accuracy: 78.25\t  Time_Duration: 41.8 sec\t\n",
            "-------------------------------------------------------------------------------------------------------------------------------------------\n",
            "-------------------------------------------------------------------------------------------------------------------------------------------\n",
            "Epoch--> 34\t Train_Loss: 0.0033\t Train_Accuracy: 85.62\t    Test_Loss: 0.0052\t  Test_Accuracy: 80.07\t  Time_Duration: 41.8 sec\t\n",
            "-------------------------------------------------------------------------------------------------------------------------------------------\n",
            "-------------------------------------------------------------------------------------------------------------------------------------------\n",
            "Epoch--> 35\t Train_Loss: 0.0031\t Train_Accuracy: 86.35\t    Test_Loss: 0.0049\t  Test_Accuracy: 80.32\t  Time_Duration: 41.8 sec\t\n",
            "-------------------------------------------------------------------------------------------------------------------------------------------\n",
            "-------------------------------------------------------------------------------------------------------------------------------------------\n",
            "Epoch--> 36\t Train_Loss: 0.0031\t Train_Accuracy: 86.44\t    Test_Loss: 0.0051\t  Test_Accuracy: 79.52\t  Time_Duration: 41.9 sec\t\n",
            "-------------------------------------------------------------------------------------------------------------------------------------------\n",
            "-------------------------------------------------------------------------------------------------------------------------------------------\n",
            "Epoch--> 37\t Train_Loss: 0.0030\t Train_Accuracy: 86.94\t    Test_Loss: 0.0044\t  Test_Accuracy: 81.96\t  Time_Duration: 41.8 sec\t\n",
            "-------------------------------------------------------------------------------------------------------------------------------------------\n",
            "-------------------------------------------------------------------------------------------------------------------------------------------\n",
            "Epoch--> 38\t Train_Loss: 0.0028\t Train_Accuracy: 87.71\t    Test_Loss: 0.0046\t  Test_Accuracy: 81.14\t  Time_Duration: 41.9 sec\t\n",
            "-------------------------------------------------------------------------------------------------------------------------------------------\n",
            "-------------------------------------------------------------------------------------------------------------------------------------------\n",
            "Epoch--> 39\t Train_Loss: 0.0027\t Train_Accuracy: 88.11\t    Test_Loss: 0.0055\t  Test_Accuracy: 79.06\t  Time_Duration: 41.9 sec\t\n",
            "-------------------------------------------------------------------------------------------------------------------------------------------\n",
            "-------------------------------------------------------------------------------------------------------------------------------------------\n",
            "Epoch--> 40\t Train_Loss: 0.0026\t Train_Accuracy: 88.44\t    Test_Loss: 0.0049\t  Test_Accuracy: 81.27\t  Time_Duration: 41.9 sec\t\n",
            "-------------------------------------------------------------------------------------------------------------------------------------------\n",
            "GoogleNet Architecture Training and Testing Completed!\n",
            "--------------------------------------------------\n",
            "Model Training and Testing End date: 17/05/2021\n",
            "Model Training and Testing End time: 07:17:16\n",
            "--------------------------------------------------\n"
          ],
          "name": "stdout"
        }
      ]
    },
    {
      "cell_type": "code",
      "metadata": {
        "id": "QI34R54P93QY",
        "colab": {
          "base_uri": "https://localhost:8080/"
        },
        "outputId": "796e060f-a867-499e-9755-6abda94f2b65"
      },
      "source": [
        "#getting the output of the tensor(weights)\n",
        "with torch.no_grad():\n",
        "  Network_arch.to('cpu')\n",
        "  final_tensor_output = Network_arch(Val_ex_data)\n",
        "#printing the output\n",
        "print(final_tensor_output)"
      ],
      "execution_count": 10,
      "outputs": [
        {
          "output_type": "stream",
          "text": [
            "tensor([[-3.7047, -3.6288,  1.2617,  ..., -1.0894, -4.1299, -4.0723],\n",
            "        [ 5.2962, 10.3850, -2.7855,  ..., -9.5213, 18.7603,  2.9502],\n",
            "        [ 2.8480,  4.4357, -2.9162,  ..., -4.7569, 14.1500,  2.6152],\n",
            "        ...,\n",
            "        [ 3.4842,  1.3097,  6.1916,  ..., -4.4294,  2.4685,  0.2595],\n",
            "        [ 1.5099,  1.1365,  0.7358,  ..., -3.5572,  9.5668,  0.0775],\n",
            "        [-4.9989, -3.7687,  1.0560,  ...,  0.6723, -4.5904, -4.1497]])\n"
          ],
          "name": "stdout"
        }
      ]
    },
    {
      "cell_type": "code",
      "metadata": {
        "colab": {
          "base_uri": "https://localhost:8080/",
          "height": 336
        },
        "id": "FpD3P8EPJjQy",
        "outputId": "f3d365fe-9a8f-4847-8d38-9b6fb25e9fb6"
      },
      "source": [
        "#histogram for the tensor values\n",
        "sns.distplot(final_tensor_output)"
      ],
      "execution_count": 11,
      "outputs": [
        {
          "output_type": "stream",
          "text": [
            "/usr/local/lib/python3.7/dist-packages/seaborn/distributions.py:2557: FutureWarning: `distplot` is a deprecated function and will be removed in a future version. Please adapt your code to use either `displot` (a figure-level function with similar flexibility) or `histplot` (an axes-level function for histograms).\n",
            "  warnings.warn(msg, FutureWarning)\n"
          ],
          "name": "stderr"
        },
        {
          "output_type": "execute_result",
          "data": {
            "text/plain": [
              "<matplotlib.axes._subplots.AxesSubplot at 0x7f972ae54110>"
            ]
          },
          "metadata": {
            "tags": []
          },
          "execution_count": 11
        },
        {
          "output_type": "display_data",
          "data": {
            "image/png": "[encoded data removed]",
            "text/plain": [
              "<Figure size 432x288 with 1 Axes>"
            ]
          },
          "metadata": {
            "tags": [],
            "needs_background": "light"
          }
        }
      ]
    },
    {
      "cell_type": "markdown",
      "metadata": {
        "id": "ntlFFn-xNUS4"
      },
      "source": [
        "##**Verification --> How well our Network predicts the data accurately**"
      ]
    },
    {
      "cell_type": "code",
      "metadata": {
        "colab": {
          "base_uri": "https://localhost:8080/",
          "height": 137
        },
        "id": "wt-1pB8ncjUB",
        "outputId": "d2462ab3-a6be-4cf4-81e8-9be977a3596b"
      },
      "source": [
        "#for testing our model after training, we have printed the classes of cifar-10 data for the groundtruth image \n",
        "#In the evaluation phase we printed the classes of cifar-10 data with their predicted class\n",
        "#we compare how correctly it predicted the classes between orginal and the predicted data\n",
        "CIFAR10_Class = ('plane', 'car', 'bird', 'cat', 'deer','dog', 'frog', 'horse', 'ship', 'truck')\n",
        "device =torch.device('cpu')\n",
        "for X, y in Testdata_Loader:\n",
        "  X = X[:6]\n",
        "  y = y[:6] \n",
        "  def imshow(figure):\n",
        "    figure = figure/2+0.1+0.1+0.2\n",
        "    plt.xticks([])\n",
        "    plt.yticks([])\n",
        "    plt.tight_layout()\n",
        "    plt.imshow(np.transpose(figure.numpy(), (1,2,0)))\n",
        "    plt.show()\n",
        "#Plotting the Groundtruth image\n",
        "center = \"GROUNDTRUTH IMAGE\"\n",
        "print(\"{center:^10}\".format(center=center))\n",
        "imshow(make_grid(X))"
      ],
      "execution_count": 12,
      "outputs": [
        {
          "output_type": "stream",
          "text": [
            "Clipping input data to the valid range for imshow with RGB data ([0..1] for floats or [0..255] for integers).\n"
          ],
          "name": "stderr"
        },
        {
          "output_type": "stream",
          "text": [
            "GROUNDTRUTH IMAGE\n"
          ],
          "name": "stdout"
        },
        {
          "output_type": "display_data",
          "data": {
            "image/png": "[encoded data removed]",
            "text/plain": [
              "<Figure size 432x288 with 1 Axes>"
            ]
          },
          "metadata": {
            "tags": []
          }
        }
      ]
    },
    {
      "cell_type": "code",
      "metadata": {
        "colab": {
          "base_uri": "https://localhost:8080/"
        },
        "id": "7cnr8IurJpA9",
        "outputId": "e0d95b26-2b61-404c-b9e8-7ff6e2216122"
      },
      "source": [
        "#Getting the predicted classes\n",
        "Final_Out = Network_arch(X)\n",
        "_, prediction = torch.max(Final_Out, 1)\n",
        "#printing the classes of groundtruth data\n",
        "print(\"----------------------------------------------------------\")\n",
        "print('Orginal images classes: ',' '.join(CIFAR10_Class[y[GT_data_out]] for GT_data_out in range(6)))\n",
        "print(\"----------------------------------------------------------\")\n",
        "#printing the classes of prediction data\n",
        "print('Predicted images classes: ',' '.join(CIFAR10_Class[prediction[Pred_data_out]] for Pred_data_out in range(6)))\n",
        "print(\"----------------------------------------------------------\")"
      ],
      "execution_count": 13,
      "outputs": [
        {
          "output_type": "stream",
          "text": [
            "----------------------------------------------------------\n",
            "Orginal images classes:  horse dog ship plane ship bird\n",
            "----------------------------------------------------------\n",
            "Predicted images classes:  horse dog ship plane ship deer\n",
            "----------------------------------------------------------\n"
          ],
          "name": "stdout"
        }
      ]
    },
    {
      "cell_type": "code",
      "metadata": {
        "colab": {
          "base_uri": "https://localhost:8080/"
        },
        "id": "tYx4VtMVcjQz",
        "outputId": "9b7995c2-8c88-47f6-a106-2800de2cbb0b"
      },
      "source": [
        "#Calculating the induvidual accuracy of Each classes defined\n",
        "accurate_class_pred = list(range(10))\n",
        "Combined_class_accurate = list(range(10))\n",
        "with torch.no_grad():\n",
        "    for X, y in Testdata_Loader:\n",
        "      X = X.to(device) \n",
        "      y = y.to(device)\n",
        "      Final_Out = Network_arch(X)\n",
        "      _, Induvidual_class_prediction = torch.max(Final_Out, 1)\n",
        "      CIF_out = (Induvidual_class_prediction == y)\n",
        "      for Induvidual_out in range(6):\n",
        "        accurate_class_pred[y[Induvidual_out]] += CIF_out[Induvidual_out].item()\n",
        "        Combined_class_accurate[y[Induvidual_out]] += 1 \n",
        "#Printing the accuracy of Each classes       \n",
        "for Induvidual_class_accuracy in range(10):\n",
        "  print(\"---------------------------\")\n",
        "  print('Accuracy of %5s : %d %%' % (CIFAR10_Class[Induvidual_class_accuracy], accurate_class_pred[Induvidual_class_accuracy] / Combined_class_accurate[Induvidual_class_accuracy] *100))\n",
        "  print(\"---------------------------\")"
      ],
      "execution_count": 14,
      "outputs": [
        {
          "output_type": "stream",
          "text": [
            "---------------------------\n",
            "Accuracy of plane : 76 %\n",
            "---------------------------\n",
            "---------------------------\n",
            "Accuracy of   car : 89 %\n",
            "---------------------------\n",
            "---------------------------\n",
            "Accuracy of  bird : 79 %\n",
            "---------------------------\n",
            "---------------------------\n",
            "Accuracy of   cat : 58 %\n",
            "---------------------------\n",
            "---------------------------\n",
            "Accuracy of  deer : 80 %\n",
            "---------------------------\n",
            "---------------------------\n",
            "Accuracy of   dog : 77 %\n",
            "---------------------------\n",
            "---------------------------\n",
            "Accuracy of  frog : 93 %\n",
            "---------------------------\n",
            "---------------------------\n",
            "Accuracy of horse : 75 %\n",
            "---------------------------\n",
            "---------------------------\n",
            "Accuracy of  ship : 94 %\n",
            "---------------------------\n",
            "---------------------------\n",
            "Accuracy of truck : 87 %\n",
            "---------------------------\n"
          ],
          "name": "stdout"
        }
      ]
    },
    {
      "cell_type": "code",
      "metadata": {
        "id": "GKrcsneF48cc"
      },
      "source": [
        "#Seperating the correct and incorrect predictions and appending it to a seperate list\n",
        "Correct_Data = []\n",
        "Incorrect_Data = []\n",
        "Label_for_pic, Prediction = Cross_validate_predicted_data(Network_arch, Testdata_Loader)\n",
        "Predicted_label = torch.argmax(Prediction, 1)\n",
        "CIFAR10_Classes = CIFAR10_testdata.classes\n",
        "Accurate_prediction = torch.eq(Label_for_pic, Predicted_label)\n",
        "for i, j, Correct_data_prediction in zip(Label_for_pic, Prediction, Accurate_prediction):\n",
        "    if Correct_data_prediction:\n",
        "      Correct_Data.append((i, j))\n",
        "    else:\n",
        "      Incorrect_Data.append((i, j))\n",
        "#Randomly sorting the samples\n",
        "Correct_Data.sort(key = lambda Correct_samples: torch.max(Correct_samples[1], -1).values)\n",
        "Incorrect_Data.sort(key = lambda Incorrect_samples: torch.max(Incorrect_samples[1], -1).values)"
      ],
      "execution_count": 15,
      "outputs": []
    },
    {
      "cell_type": "markdown",
      "metadata": {
        "id": "5leSHEzCAEyx"
      },
      "source": [
        "**Examples of Correct Predictions**"
      ]
    },
    {
      "cell_type": "code",
      "metadata": {
        "colab": {
          "base_uri": "https://localhost:8080/"
        },
        "id": "7PR6dXy8P0J-",
        "outputId": "211a2af5-3203-44fa-ce6b-25a94ba21c21"
      },
      "source": [
        "#Examples of Correct Prediction\n",
        "def Correct_Prediction(Correct_label_predict, CIFAR10_Classes):\n",
        "    for Sample in range(1*5):\n",
        "        Correct_Label, Prediction = Correct_label_predict[Sample]\n",
        "        Correct_pred, Correctly_predicted_label = torch.max(Prediction, -1)\n",
        "        Original_class = CIFAR10_Classes[Correct_Label]\n",
        "        Correctly_Predicted_class = CIFAR10_Classes[Correctly_predicted_label ]\n",
        "        print(\"---------------------------------------\")\n",
        "        print(f'Orginal images class     :  {Original_class}')\n",
        "        print(\"---------------------------------------\")\n",
        "        print(f'Predicted images class   :  {Correctly_Predicted_class}')\n",
        "        print(\"---------------------------------------\")\n",
        "Correct_Prediction(Correct_Data, CIFAR10_Classes)"
      ],
      "execution_count": 24,
      "outputs": [
        {
          "output_type": "stream",
          "text": [
            "---------------------------------------\n",
            "Orginal images class     :  horse\n",
            "---------------------------------------\n",
            "Predicted images class   :  horse\n",
            "---------------------------------------\n",
            "---------------------------------------\n",
            "Orginal images class     :  deer\n",
            "---------------------------------------\n",
            "Predicted images class   :  deer\n",
            "---------------------------------------\n",
            "---------------------------------------\n",
            "Orginal images class     :  cat\n",
            "---------------------------------------\n",
            "Predicted images class   :  cat\n",
            "---------------------------------------\n",
            "---------------------------------------\n",
            "Orginal images class     :  horse\n",
            "---------------------------------------\n",
            "Predicted images class   :  horse\n",
            "---------------------------------------\n",
            "---------------------------------------\n",
            "Orginal images class     :  airplane\n",
            "---------------------------------------\n",
            "Predicted images class   :  airplane\n",
            "---------------------------------------\n"
          ],
          "name": "stdout"
        }
      ]
    },
    {
      "cell_type": "markdown",
      "metadata": {
        "id": "9zaOcnu5ADs9"
      },
      "source": [
        "**Examples of Incorrect Predictions**"
      ]
    },
    {
      "cell_type": "code",
      "metadata": {
        "colab": {
          "base_uri": "https://localhost:8080/"
        },
        "id": "an_2at9A48I7",
        "outputId": "16748568-38fd-4b77-e656-aaa2b1e4a4c0"
      },
      "source": [
        "#Examples of Incorrect Prediction\n",
        "def Incorrect_Prediction(Incorrect_label_predict, CIFAR10_Classes):\n",
        "    for Sample in range(1*5):\n",
        "        Incorrect_Label, Prediction = Incorrect_label_predict[Sample]\n",
        "        Incorrect_pred, Incorrectly_predicted_label = torch.max(Prediction, -1)\n",
        "        Original_class = CIFAR10_Classes[Incorrect_Label]\n",
        "        Incorrectly_Predicted_class = CIFAR10_Classes[Incorrectly_predicted_label ]\n",
        "        print(\"---------------------------------------\")\n",
        "        print(f'Orginal images class     :  {Original_class}')\n",
        "        print(\"---------------------------------------\")\n",
        "        print(f'Predicted images class   :  {Incorrectly_Predicted_class}')\n",
        "        print(\"---------------------------------------\")\n",
        "Correct_Prediction(Incorrect_Data, CIFAR10_Classes)"
      ],
      "execution_count": 25,
      "outputs": [
        {
          "output_type": "stream",
          "text": [
            "---------------------------------------\n",
            "Orginal images class     :  horse\n",
            "---------------------------------------\n",
            "Predicted images class   :  bird\n",
            "---------------------------------------\n",
            "---------------------------------------\n",
            "Orginal images class     :  automobile\n",
            "---------------------------------------\n",
            "Predicted images class   :  ship\n",
            "---------------------------------------\n",
            "---------------------------------------\n",
            "Orginal images class     :  horse\n",
            "---------------------------------------\n",
            "Predicted images class   :  bird\n",
            "---------------------------------------\n",
            "---------------------------------------\n",
            "Orginal images class     :  horse\n",
            "---------------------------------------\n",
            "Predicted images class   :  dog\n",
            "---------------------------------------\n",
            "---------------------------------------\n",
            "Orginal images class     :  cat\n",
            "---------------------------------------\n",
            "Predicted images class   :  frog\n",
            "---------------------------------------\n"
          ],
          "name": "stdout"
        }
      ]
    },
    {
      "cell_type": "markdown",
      "metadata": {
        "id": "LjbfseqE_-zk"
      },
      "source": [
        "**Confusion Matrix**"
      ]
    },
    {
      "cell_type": "code",
      "metadata": {
        "colab": {
          "base_uri": "https://localhost:8080/",
          "height": 689
        },
        "id": "nC9DP7FH48Ft",
        "outputId": "80ea6e01-4734-4e61-b601-65a5a9b7e10c"
      },
      "source": [
        "#Plotting the confusion matrix\n",
        "Figure = plt.figure(figsize=(12, 12))\n",
        "Axis = Figure.add_subplot(1, 1, 1)\n",
        "Confusion_Matrix = confusion_matrix(Label_for_pic, Predicted_label)\n",
        "Confusion_Heatmap_display = ConfusionMatrixDisplay(Confusion_Matrix, CIFAR10_Classes)\n",
        "Final_Heatmap_for_Predicted_data = Confusion_Heatmap_display.plot(ax=Axis, values_format='d', cmap = 'Greens')"
      ],
      "execution_count": 18,
      "outputs": [
        {
          "output_type": "display_data",
          "data": {
            "image/png": "[encoded data removed]",
            "text/plain": [
              "<Figure size 864x864 with 2 Axes>"
            ]
          },
          "metadata": {
            "tags": [],
            "needs_background": "light"
          }
        }
      ]
    },
    {
      "cell_type": "code",
      "metadata": {
        "colab": {
          "base_uri": "https://localhost:8080/"
        },
        "id": "ikthJ0q0qFn4",
        "outputId": "a3a66e91-86ad-4aef-d680-a9d13a32a574"
      },
      "source": [
        "#I have Executed the code in Google Colab pro. so that, I have printed the usage of gpu provided\n",
        "GPU_Usage_data = !nvidia-smi\n",
        "GPU_Usage_data  = '\\n'.join(GPU_Usage_data )\n",
        "if GPU_Usage_data .find('failed') >= 0:\n",
        "  print('Select the Runtime > \"Change runtime type\" menu to enable a GPU accelerator, ')\n",
        "  print('and then re-execute this cell.')\n",
        "else:\n",
        "  print(GPU_Usage_data )"
      ],
      "execution_count": 19,
      "outputs": [
        {
          "output_type": "stream",
          "text": [
            "Mon May 17 07:27:25 2021       \n",
            "+-----------------------------------------------------------------------------+\n",
            "| NVIDIA-SMI 465.19.01    Driver Version: 460.32.03    CUDA Version: 11.2     |\n",
            "|-------------------------------+----------------------+----------------------+\n",
            "| GPU  Name        Persistence-M| Bus-Id        Disp.A | Volatile Uncorr. ECC |\n",
            "| Fan  Temp  Perf  Pwr:Usage/Cap|         Memory-Usage | GPU-Util  Compute M. |\n",
            "|                               |                      |               MIG M. |\n",
            "|===============================+======================+======================|\n",
            "|   0  Tesla V100-SXM2...  Off  | 00000000:00:04.0 Off |                    0 |\n",
            "| N/A   37C    P0    38W / 300W |   5069MiB / 16160MiB |      0%      Default |\n",
            "|                               |                      |                  N/A |\n",
            "+-------------------------------+----------------------+----------------------+\n",
            "                                                                               \n",
            "+-----------------------------------------------------------------------------+\n",
            "| Processes:                                                                  |\n",
            "|  GPU   GI   CI        PID   Type   Process name                  GPU Memory |\n",
            "|        ID   ID                                                   Usage      |\n",
            "|=============================================================================|\n",
            "+-----------------------------------------------------------------------------+\n"
          ],
          "name": "stdout"
        }
      ]
    }
  ]
}