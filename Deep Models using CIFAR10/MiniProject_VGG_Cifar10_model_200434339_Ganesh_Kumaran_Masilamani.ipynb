{
  "nbformat": 4,
  "nbformat_minor": 0,
  "metadata": {
    "colab": {
      "name": "MiniProject_VGG_Cifar10_model_200434339_Ganesh_Kumaran_Masilamani.ipynb",
      "provenance": [],
      "collapsed_sections": [],
      "machine_shape": "hm"
    },
    "kernelspec": {
      "name": "python3",
      "display_name": "Python 3"
    },
    "accelerator": "GPU",
    "widgets": {
      "application/vnd.jupyter.widget-state+json": {
        "5f811a29ee144212a4a00d52f041a71a": {
          "model_module": "@jupyter-widgets/controls",
          "model_name": "HBoxModel",
          "state": {
            "_view_name": "HBoxView",
            "_dom_classes": [],
            "_model_name": "HBoxModel",
            "_view_module": "@jupyter-widgets/controls",
            "_model_module_version": "1.5.0",
            "_view_count": null,
            "_view_module_version": "1.5.0",
            "box_style": "",
            "layout": "IPY_MODEL_a55074c1c8dd4381be6ca04a5a4ef6b6",
            "_model_module": "@jupyter-widgets/controls",
            "children": [
              "IPY_MODEL_3aa46406030640fa86daaafe0c05c5b3",
              "IPY_MODEL_32a215a66aad431d855ce364693c3010"
            ]
          }
        },
        "a55074c1c8dd4381be6ca04a5a4ef6b6": {
          "model_module": "@jupyter-widgets/base",
          "model_name": "LayoutModel",
          "state": {
            "_view_name": "LayoutView",
            "grid_template_rows": null,
            "right": null,
            "justify_content": null,
            "_view_module": "@jupyter-widgets/base",
            "overflow": null,
            "_model_module_version": "1.2.0",
            "_view_count": null,
            "flex_flow": null,
            "width": null,
            "min_width": null,
            "border": null,
            "align_items": null,
            "bottom": null,
            "_model_module": "@jupyter-widgets/base",
            "top": null,
            "grid_column": null,
            "overflow_y": null,
            "overflow_x": null,
            "grid_auto_flow": null,
            "grid_area": null,
            "grid_template_columns": null,
            "flex": null,
            "_model_name": "LayoutModel",
            "justify_items": null,
            "grid_row": null,
            "max_height": null,
            "align_content": null,
            "visibility": null,
            "align_self": null,
            "height": null,
            "min_height": null,
            "padding": null,
            "grid_auto_rows": null,
            "grid_gap": null,
            "max_width": null,
            "order": null,
            "_view_module_version": "1.2.0",
            "grid_template_areas": null,
            "object_position": null,
            "object_fit": null,
            "grid_auto_columns": null,
            "margin": null,
            "display": null,
            "left": null
          }
        },
        "3aa46406030640fa86daaafe0c05c5b3": {
          "model_module": "@jupyter-widgets/controls",
          "model_name": "FloatProgressModel",
          "state": {
            "_view_name": "ProgressView",
            "style": "IPY_MODEL_c330b762564847fc85321a3df54ba36f",
            "_dom_classes": [],
            "description": "",
            "_model_name": "FloatProgressModel",
            "bar_style": "success",
            "max": 170498071,
            "_view_module": "@jupyter-widgets/controls",
            "_model_module_version": "1.5.0",
            "value": 170498071,
            "_view_count": null,
            "_view_module_version": "1.5.0",
            "orientation": "horizontal",
            "min": 0,
            "description_tooltip": null,
            "_model_module": "@jupyter-widgets/controls",
            "layout": "IPY_MODEL_2127f2daab49448093d33fce5d2c2b20"
          }
        },
        "32a215a66aad431d855ce364693c3010": {
          "model_module": "@jupyter-widgets/controls",
          "model_name": "HTMLModel",
          "state": {
            "_view_name": "HTMLView",
            "style": "IPY_MODEL_bbbc010236f5436ca7ae83b3799aec16",
            "_dom_classes": [],
            "description": "",
            "_model_name": "HTMLModel",
            "placeholder": "​",
            "_view_module": "@jupyter-widgets/controls",
            "_model_module_version": "1.5.0",
            "value": " 170499072/? [00:44&lt;00:00, 3791505.82it/s]",
            "_view_count": null,
            "_view_module_version": "1.5.0",
            "description_tooltip": null,
            "_model_module": "@jupyter-widgets/controls",
            "layout": "IPY_MODEL_db1ca9741b974c14a24b0f4f6eda9486"
          }
        },
        "c330b762564847fc85321a3df54ba36f": {
          "model_module": "@jupyter-widgets/controls",
          "model_name": "ProgressStyleModel",
          "state": {
            "_view_name": "StyleView",
            "_model_name": "ProgressStyleModel",
            "description_width": "initial",
            "_view_module": "@jupyter-widgets/base",
            "_model_module_version": "1.5.0",
            "_view_count": null,
            "_view_module_version": "1.2.0",
            "bar_color": null,
            "_model_module": "@jupyter-widgets/controls"
          }
        },
        "2127f2daab49448093d33fce5d2c2b20": {
          "model_module": "@jupyter-widgets/base",
          "model_name": "LayoutModel",
          "state": {
            "_view_name": "LayoutView",
            "grid_template_rows": null,
            "right": null,
            "justify_content": null,
            "_view_module": "@jupyter-widgets/base",
            "overflow": null,
            "_model_module_version": "1.2.0",
            "_view_count": null,
            "flex_flow": null,
            "width": null,
            "min_width": null,
            "border": null,
            "align_items": null,
            "bottom": null,
            "_model_module": "@jupyter-widgets/base",
            "top": null,
            "grid_column": null,
            "overflow_y": null,
            "overflow_x": null,
            "grid_auto_flow": null,
            "grid_area": null,
            "grid_template_columns": null,
            "flex": null,
            "_model_name": "LayoutModel",
            "justify_items": null,
            "grid_row": null,
            "max_height": null,
            "align_content": null,
            "visibility": null,
            "align_self": null,
            "height": null,
            "min_height": null,
            "padding": null,
            "grid_auto_rows": null,
            "grid_gap": null,
            "max_width": null,
            "order": null,
            "_view_module_version": "1.2.0",
            "grid_template_areas": null,
            "object_position": null,
            "object_fit": null,
            "grid_auto_columns": null,
            "margin": null,
            "display": null,
            "left": null
          }
        },
        "bbbc010236f5436ca7ae83b3799aec16": {
          "model_module": "@jupyter-widgets/controls",
          "model_name": "DescriptionStyleModel",
          "state": {
            "_view_name": "StyleView",
            "_model_name": "DescriptionStyleModel",
            "description_width": "",
            "_view_module": "@jupyter-widgets/base",
            "_model_module_version": "1.5.0",
            "_view_count": null,
            "_view_module_version": "1.2.0",
            "_model_module": "@jupyter-widgets/controls"
          }
        },
        "db1ca9741b974c14a24b0f4f6eda9486": {
          "model_module": "@jupyter-widgets/base",
          "model_name": "LayoutModel",
          "state": {
            "_view_name": "LayoutView",
            "grid_template_rows": null,
            "right": null,
            "justify_content": null,
            "_view_module": "@jupyter-widgets/base",
            "overflow": null,
            "_model_module_version": "1.2.0",
            "_view_count": null,
            "flex_flow": null,
            "width": null,
            "min_width": null,
            "border": null,
            "align_items": null,
            "bottom": null,
            "_model_module": "@jupyter-widgets/base",
            "top": null,
            "grid_column": null,
            "overflow_y": null,
            "overflow_x": null,
            "grid_auto_flow": null,
            "grid_area": null,
            "grid_template_columns": null,
            "flex": null,
            "_model_name": "LayoutModel",
            "justify_items": null,
            "grid_row": null,
            "max_height": null,
            "align_content": null,
            "visibility": null,
            "align_self": null,
            "height": null,
            "min_height": null,
            "padding": null,
            "grid_auto_rows": null,
            "grid_gap": null,
            "max_width": null,
            "order": null,
            "_view_module_version": "1.2.0",
            "grid_template_areas": null,
            "object_position": null,
            "object_fit": null,
            "grid_auto_columns": null,
            "margin": null,
            "display": null,
            "left": null
          }
        },
        "64aa528f05a7470c953cadc92dc45966": {
          "model_module": "@jupyter-widgets/controls",
          "model_name": "HBoxModel",
          "state": {
            "_view_name": "HBoxView",
            "_dom_classes": [],
            "_model_name": "HBoxModel",
            "_view_module": "@jupyter-widgets/controls",
            "_model_module_version": "1.5.0",
            "_view_count": null,
            "_view_module_version": "1.5.0",
            "box_style": "",
            "layout": "IPY_MODEL_7cb4faac5fa1424fba629cf6bc0cc6de",
            "_model_module": "@jupyter-widgets/controls",
            "children": [
              "IPY_MODEL_ab66a0a29e074246bb6f92eb6a63a034",
              "IPY_MODEL_09af186d4cd24597b9607a855c3bcde9"
            ]
          }
        },
        "7cb4faac5fa1424fba629cf6bc0cc6de": {
          "model_module": "@jupyter-widgets/base",
          "model_name": "LayoutModel",
          "state": {
            "_view_name": "LayoutView",
            "grid_template_rows": null,
            "right": null,
            "justify_content": null,
            "_view_module": "@jupyter-widgets/base",
            "overflow": null,
            "_model_module_version": "1.2.0",
            "_view_count": null,
            "flex_flow": null,
            "width": null,
            "min_width": null,
            "border": null,
            "align_items": null,
            "bottom": null,
            "_model_module": "@jupyter-widgets/base",
            "top": null,
            "grid_column": null,
            "overflow_y": null,
            "overflow_x": null,
            "grid_auto_flow": null,
            "grid_area": null,
            "grid_template_columns": null,
            "flex": null,
            "_model_name": "LayoutModel",
            "justify_items": null,
            "grid_row": null,
            "max_height": null,
            "align_content": null,
            "visibility": null,
            "align_self": null,
            "height": null,
            "min_height": null,
            "padding": null,
            "grid_auto_rows": null,
            "grid_gap": null,
            "max_width": null,
            "order": null,
            "_view_module_version": "1.2.0",
            "grid_template_areas": null,
            "object_position": null,
            "object_fit": null,
            "grid_auto_columns": null,
            "margin": null,
            "display": null,
            "left": null
          }
        },
        "ab66a0a29e074246bb6f92eb6a63a034": {
          "model_module": "@jupyter-widgets/controls",
          "model_name": "FloatProgressModel",
          "state": {
            "_view_name": "ProgressView",
            "style": "IPY_MODEL_5a92b3d0eede4f59a96d81f0fca044f3",
            "_dom_classes": [],
            "description": "",
            "_model_name": "FloatProgressModel",
            "bar_style": "success",
            "max": 170498071,
            "_view_module": "@jupyter-widgets/controls",
            "_model_module_version": "1.5.0",
            "value": 170498071,
            "_view_count": null,
            "_view_module_version": "1.5.0",
            "orientation": "horizontal",
            "min": 0,
            "description_tooltip": null,
            "_model_module": "@jupyter-widgets/controls",
            "layout": "IPY_MODEL_8ab362731ab8409995a733915d1c0f9c"
          }
        },
        "09af186d4cd24597b9607a855c3bcde9": {
          "model_module": "@jupyter-widgets/controls",
          "model_name": "HTMLModel",
          "state": {
            "_view_name": "HTMLView",
            "style": "IPY_MODEL_40a3136c30644b4c997a5e9e3254ed48",
            "_dom_classes": [],
            "description": "",
            "_model_name": "HTMLModel",
            "placeholder": "​",
            "_view_module": "@jupyter-widgets/controls",
            "_model_module_version": "1.5.0",
            "value": " 170499072/? [00:07&lt;00:00, 22430243.22it/s]",
            "_view_count": null,
            "_view_module_version": "1.5.0",
            "description_tooltip": null,
            "_model_module": "@jupyter-widgets/controls",
            "layout": "IPY_MODEL_42a54c84653842898cfcd47e6d87cd76"
          }
        },
        "5a92b3d0eede4f59a96d81f0fca044f3": {
          "model_module": "@jupyter-widgets/controls",
          "model_name": "ProgressStyleModel",
          "state": {
            "_view_name": "StyleView",
            "_model_name": "ProgressStyleModel",
            "description_width": "initial",
            "_view_module": "@jupyter-widgets/base",
            "_model_module_version": "1.5.0",
            "_view_count": null,
            "_view_module_version": "1.2.0",
            "bar_color": null,
            "_model_module": "@jupyter-widgets/controls"
          }
        },
        "8ab362731ab8409995a733915d1c0f9c": {
          "model_module": "@jupyter-widgets/base",
          "model_name": "LayoutModel",
          "state": {
            "_view_name": "LayoutView",
            "grid_template_rows": null,
            "right": null,
            "justify_content": null,
            "_view_module": "@jupyter-widgets/base",
            "overflow": null,
            "_model_module_version": "1.2.0",
            "_view_count": null,
            "flex_flow": null,
            "width": null,
            "min_width": null,
            "border": null,
            "align_items": null,
            "bottom": null,
            "_model_module": "@jupyter-widgets/base",
            "top": null,
            "grid_column": null,
            "overflow_y": null,
            "overflow_x": null,
            "grid_auto_flow": null,
            "grid_area": null,
            "grid_template_columns": null,
            "flex": null,
            "_model_name": "LayoutModel",
            "justify_items": null,
            "grid_row": null,
            "max_height": null,
            "align_content": null,
            "visibility": null,
            "align_self": null,
            "height": null,
            "min_height": null,
            "padding": null,
            "grid_auto_rows": null,
            "grid_gap": null,
            "max_width": null,
            "order": null,
            "_view_module_version": "1.2.0",
            "grid_template_areas": null,
            "object_position": null,
            "object_fit": null,
            "grid_auto_columns": null,
            "margin": null,
            "display": null,
            "left": null
          }
        },
        "40a3136c30644b4c997a5e9e3254ed48": {
          "model_module": "@jupyter-widgets/controls",
          "model_name": "DescriptionStyleModel",
          "state": {
            "_view_name": "StyleView",
            "_model_name": "DescriptionStyleModel",
            "description_width": "",
            "_view_module": "@jupyter-widgets/base",
            "_model_module_version": "1.5.0",
            "_view_count": null,
            "_view_module_version": "1.2.0",
            "_model_module": "@jupyter-widgets/controls"
          }
        },
        "42a54c84653842898cfcd47e6d87cd76": {
          "model_module": "@jupyter-widgets/base",
          "model_name": "LayoutModel",
          "state": {
            "_view_name": "LayoutView",
            "grid_template_rows": null,
            "right": null,
            "justify_content": null,
            "_view_module": "@jupyter-widgets/base",
            "overflow": null,
            "_model_module_version": "1.2.0",
            "_view_count": null,
            "flex_flow": null,
            "width": null,
            "min_width": null,
            "border": null,
            "align_items": null,
            "bottom": null,
            "_model_module": "@jupyter-widgets/base",
            "top": null,
            "grid_column": null,
            "overflow_y": null,
            "overflow_x": null,
            "grid_auto_flow": null,
            "grid_area": null,
            "grid_template_columns": null,
            "flex": null,
            "_model_name": "LayoutModel",
            "justify_items": null,
            "grid_row": null,
            "max_height": null,
            "align_content": null,
            "visibility": null,
            "align_self": null,
            "height": null,
            "min_height": null,
            "padding": null,
            "grid_auto_rows": null,
            "grid_gap": null,
            "max_width": null,
            "order": null,
            "_view_module_version": "1.2.0",
            "grid_template_areas": null,
            "object_position": null,
            "object_fit": null,
            "grid_auto_columns": null,
            "margin": null,
            "display": null,
            "left": null
          }
        }
      }
    }
  },
  "cells": [
    {
      "cell_type": "markdown",
      "metadata": {
        "id": "3iOKbAnCq7qp"
      },
      "source": [
        "#**Deep Learning and Computer Vision - Mini Project**"
      ]
    },
    {
      "cell_type": "markdown",
      "metadata": {
        "id": "yIpUVnq0rt2g"
      },
      "source": [
        "**NAME** - Ganesh Kumaran Masilamani\n",
        "\n",
        "**STUDENT NUMBER** - 200434339\n",
        "\n",
        "**PROJECT TITLE** - Deep Neural Networks for Image Classification"
      ]
    },
    {
      "cell_type": "markdown",
      "metadata": {
        "id": "HXQvDFwKsMUC"
      },
      "source": [
        "###**In this Notebook we will be using VGG16 Architecture as our deep Network to do image classification in CIFAR10 dataset.**\n",
        "\n",
        "#**DEEP NETWORK MODEL-1 --> VGG16**"
      ]
    },
    {
      "cell_type": "code",
      "metadata": {
        "id": "fMcruYVWuPXa"
      },
      "source": [
        "#Libraries Imported\n",
        "import time\n",
        "import os\n",
        "import numpy as np\n",
        "import torch\n",
        "import torch.nn as nn\n",
        "import torch.optim as optim\n",
        "import torch.nn.functional as F\n",
        "from torchvision.utils import make_grid\n",
        "import torchvision\n",
        "from torchvision import datasets\n",
        "from torchvision import transforms\n",
        "import matplotlib.pyplot as plt\n",
        "import seaborn as sns\n",
        "sns.set_style('darkgrid')\n",
        "import pickle\n",
        "from sklearn.metrics import confusion_matrix\n",
        "from sklearn.metrics import ConfusionMatrixDisplay\n",
        "from datetime import datetime\n",
        "Date_time = datetime.now()\n",
        "date = Date_time.strftime(\"%d/%m/%Y\")\n",
        "Time = Date_time.strftime(\"%H:%M:%S\")"
      ],
      "execution_count": 1,
      "outputs": []
    },
    {
      "cell_type": "markdown",
      "metadata": {
        "id": "1f6dXML3JFsk"
      },
      "source": [
        "##**Loading the CIFAR-10 Dataset**"
      ]
    },
    {
      "cell_type": "code",
      "metadata": {
        "id": "wSWJZvrsmDKD",
        "colab": {
          "base_uri": "https://localhost:8080/",
          "height": 200,
          "referenced_widgets": [
            "5f811a29ee144212a4a00d52f041a71a",
            "a55074c1c8dd4381be6ca04a5a4ef6b6",
            "3aa46406030640fa86daaafe0c05c5b3",
            "32a215a66aad431d855ce364693c3010",
            "c330b762564847fc85321a3df54ba36f",
            "2127f2daab49448093d33fce5d2c2b20",
            "bbbc010236f5436ca7ae83b3799aec16",
            "db1ca9741b974c14a24b0f4f6eda9486",
            "64aa528f05a7470c953cadc92dc45966",
            "7cb4faac5fa1424fba629cf6bc0cc6de",
            "ab66a0a29e074246bb6f92eb6a63a034",
            "09af186d4cd24597b9607a855c3bcde9",
            "5a92b3d0eede4f59a96d81f0fca044f3",
            "8ab362731ab8409995a733915d1c0f9c",
            "40a3136c30644b4c997a5e9e3254ed48",
            "42a54c84653842898cfcd47e6d87cd76"
          ]
        },
        "outputId": "4cebbd0e-e194-4a8e-d960-701a7c76bc9d"
      },
      "source": [
        "#Downloading and Loading the CIFAR-10 dataset \n",
        "def Load_cifar10_data(batch_size, root=os.path.join('CIFAR10_DATASET')):\n",
        "    final_root = os.path.expanduser(root)\n",
        "\n",
        "    #Normalizing the Dataset\n",
        "    Transform_train = transforms.Compose([transforms.RandomCrop(32, padding=4), transforms.RandomHorizontalFlip(),\n",
        "                                          transforms.ToTensor(), transforms.Normalize((0.4914, 0.4822, 0.4465), (0.2023, 0.1994, 0.2010))])\n",
        "    Transform_test = transforms.Compose([transforms.ToTensor(), transforms.Normalize((0.4914, 0.4822, 0.4465), (0.2023, 0.1994, 0.2010))])\n",
        "    \n",
        "    #Downloading the CIFAR10 dataset\n",
        "    Train_set = torchvision.datasets.CIFAR10(root=final_root, train=True, download=True, transform=Transform_train)\n",
        "    Test_set = torchvision.datasets.CIFAR10(root=final_root, train=False, download=True, transform=Transform_test)\n",
        "\n",
        "    #loading the dataset and assign it to a variable\n",
        "    Load_CIFAR_traindata =torch.utils.data.DataLoader(Train_set, batch_size, shuffle=True)\n",
        "    Load_CIFAR_testdata =torch.utils.data.DataLoader(Test_set, batch_size, shuffle=False)\n",
        "    return Load_CIFAR_traindata, Load_CIFAR_testdata\n",
        "\n",
        "Transform_test = transforms.Compose([transforms.ToTensor(), transforms.Normalize((0.4914, 0.4822, 0.4465), (0.2023, 0.1994, 0.2010))])\n",
        "CIFAR10_testdata = torchvision.datasets.CIFAR10(root='Cifar', train=False, download=True, transform=Transform_test)\n",
        "\n",
        "#load the function of the CIFAR-10 dataset to the train and test variable loader\n",
        "Traindata_Loader, Testdata_Loader = Load_cifar10_data(batch_size=128, root=os.path.join('CIFAR10_DATASET'))"
      ],
      "execution_count": 2,
      "outputs": [
        {
          "output_type": "stream",
          "text": [
            "Downloading https://www.cs.toronto.edu/~kriz/cifar-10-python.tar.gz to Cifar/cifar-10-python.tar.gz\n"
          ],
          "name": "stdout"
        },
        {
          "output_type": "display_data",
          "data": {
            "application/vnd.jupyter.widget-view+json": {
              "model_id": "5f811a29ee144212a4a00d52f041a71a",
              "version_minor": 0,
              "version_major": 2
            },
            "text/plain": [
              "HBox(children=(FloatProgress(value=0.0, max=170498071.0), HTML(value='')))"
            ]
          },
          "metadata": {
            "tags": []
          }
        },
        {
          "output_type": "stream",
          "text": [
            "\n",
            "Extracting Cifar/cifar-10-python.tar.gz to Cifar\n",
            "Downloading https://www.cs.toronto.edu/~kriz/cifar-10-python.tar.gz to CIFAR10_DATASET/cifar-10-python.tar.gz\n"
          ],
          "name": "stdout"
        },
        {
          "output_type": "display_data",
          "data": {
            "application/vnd.jupyter.widget-view+json": {
              "model_id": "64aa528f05a7470c953cadc92dc45966",
              "version_minor": 0,
              "version_major": 2
            },
            "text/plain": [
              "HBox(children=(FloatProgress(value=0.0, max=170498071.0), HTML(value='')))"
            ]
          },
          "metadata": {
            "tags": []
          }
        },
        {
          "output_type": "stream",
          "text": [
            "\n",
            "Extracting CIFAR10_DATASET/cifar-10-python.tar.gz to CIFAR10_DATASET\n",
            "Files already downloaded and verified\n"
          ],
          "name": "stdout"
        }
      ]
    },
    {
      "cell_type": "markdown",
      "metadata": {
        "id": "M5QvCZWRJ0nj"
      },
      "source": [
        "##**Developing VGG-16 Architecture**"
      ]
    },
    {
      "cell_type": "code",
      "metadata": {
        "id": "ROpbL15lvYJQ",
        "colab": {
          "base_uri": "https://localhost:8080/"
        },
        "outputId": "40ba8e03-d558-428e-eecc-7bb72acf35fd"
      },
      "source": [
        "#########################################################VGG16 ARCHITECTURE####################################################################\n",
        "#Initialising the VGG network and updating its weights\n",
        "class VGG16(torch.nn.Module) :\n",
        "    def __init__(self) :\n",
        "        super(VGG16, self).__init__()\n",
        "        self.conv_layer1 = torch.nn.Sequential(torch.nn.Conv2d(3, 64, kernel_size=3, padding=1), torch.nn.ReLU(), \n",
        "                                               torch.nn.MaxPool2d(kernel_size=2, stride=2))\n",
        "        self.conv_layer2 = torch.nn.Sequential(torch.nn.Conv2d(64, 128, kernel_size=3, padding=1), torch.nn.ReLU(), \n",
        "                                               torch.nn.MaxPool2d(kernel_size=2, stride=2))\n",
        "        self.conv_layer3 = torch.nn.Sequential(torch.nn.Conv2d(128, 256, kernel_size=3, padding=1), torch.nn.ReLU(), \n",
        "                                               torch.nn.Conv2d(256, 256, kernel_size=3, padding=1), torch.nn.ReLU(), \n",
        "                                               torch.nn.MaxPool2d(kernel_size=2, stride=2)           )\n",
        "        self.conv_layer4 = torch.nn.Sequential(torch.nn.Conv2d(256, 512, kernel_size=3, padding=1), torch.nn.ReLU(), \n",
        "                                               torch.nn.Conv2d(512, 512, kernel_size=3, padding=1), torch.nn.ReLU(), \n",
        "                                               torch.nn.MaxPool2d(kernel_size=2, stride=2))\n",
        "        self.fc_layer1 = torch.nn.Sequential(torch.nn.Dropout(0.2), torch.nn.Linear(1024*2, 4096), torch.nn.ReLU())\n",
        "        self.fc_layer2 = torch.nn.Sequential(torch.nn.Dropout(0.2), torch.nn.Linear(4096, 4096), torch.nn.ReLU())\n",
        "        self.fc_layer3 = torch.nn.Sequential(torch.nn.Linear(4096, 10))\n",
        "        \n",
        "    def forward(self, out) :\n",
        "        final_out = self.conv_layer1(out)\n",
        "        final_out = self.conv_layer2(final_out)\n",
        "        final_out = self.conv_layer3(final_out)\n",
        "        final_out = self.conv_layer4(final_out)\n",
        "        final_out = final_out.view(-1, 1024*2)\n",
        "        final_out = self.fc_layer1(final_out)\n",
        "        final_out = self.fc_layer2(final_out)\n",
        "        final_out = self.fc_layer3(final_out)\n",
        "        return final_out\n",
        "\n",
        "#Updating the weights of the network\n",
        "Network_arch = VGG16()\n",
        "#Initialize the Weights and display the Network architecture\n",
        "def Initialise_weights(layer_weight):\n",
        "    if type(layer_weight) == torch.nn.Conv2d:\n",
        "        torch.nn.init.xavier_uniform_(layer_weight.weight)\n",
        "Network_arch.apply(Initialise_weights)"
      ],
      "execution_count": 3,
      "outputs": [
        {
          "output_type": "execute_result",
          "data": {
            "text/plain": [
              "VGG16(\n",
              "  (conv_layer1): Sequential(\n",
              "    (0): Conv2d(3, 64, kernel_size=(3, 3), stride=(1, 1), padding=(1, 1))\n",
              "    (1): ReLU()\n",
              "    (2): MaxPool2d(kernel_size=2, stride=2, padding=0, dilation=1, ceil_mode=False)\n",
              "  )\n",
              "  (conv_layer2): Sequential(\n",
              "    (0): Conv2d(64, 128, kernel_size=(3, 3), stride=(1, 1), padding=(1, 1))\n",
              "    (1): ReLU()\n",
              "    (2): MaxPool2d(kernel_size=2, stride=2, padding=0, dilation=1, ceil_mode=False)\n",
              "  )\n",
              "  (conv_layer3): Sequential(\n",
              "    (0): Conv2d(128, 256, kernel_size=(3, 3), stride=(1, 1), padding=(1, 1))\n",
              "    (1): ReLU()\n",
              "    (2): Conv2d(256, 256, kernel_size=(3, 3), stride=(1, 1), padding=(1, 1))\n",
              "    (3): ReLU()\n",
              "    (4): MaxPool2d(kernel_size=2, stride=2, padding=0, dilation=1, ceil_mode=False)\n",
              "  )\n",
              "  (conv_layer4): Sequential(\n",
              "    (0): Conv2d(256, 512, kernel_size=(3, 3), stride=(1, 1), padding=(1, 1))\n",
              "    (1): ReLU()\n",
              "    (2): Conv2d(512, 512, kernel_size=(3, 3), stride=(1, 1), padding=(1, 1))\n",
              "    (3): ReLU()\n",
              "    (4): MaxPool2d(kernel_size=2, stride=2, padding=0, dilation=1, ceil_mode=False)\n",
              "  )\n",
              "  (fc_layer1): Sequential(\n",
              "    (0): Dropout(p=0.2, inplace=False)\n",
              "    (1): Linear(in_features=2048, out_features=4096, bias=True)\n",
              "    (2): ReLU()\n",
              "  )\n",
              "  (fc_layer2): Sequential(\n",
              "    (0): Dropout(p=0.2, inplace=False)\n",
              "    (1): Linear(in_features=4096, out_features=4096, bias=True)\n",
              "    (2): ReLU()\n",
              "  )\n",
              "  (fc_layer3): Sequential(\n",
              "    (0): Linear(in_features=4096, out_features=10, bias=True)\n",
              "  )\n",
              ")"
            ]
          },
          "metadata": {
            "tags": []
          },
          "execution_count": 3
        }
      ]
    },
    {
      "cell_type": "code",
      "metadata": {
        "colab": {
          "base_uri": "https://localhost:8080/"
        },
        "id": "--delmYHz9A1",
        "outputId": "15fe10b1-dc88-4edb-b5d5-f4a977fdd810"
      },
      "source": [
        "#enumerating testdata with batch index of source and the target\n",
        "testdata_ex = enumerate(Testdata_Loader)\n",
        "batch_idx, (Val_ex_data, Val_ex_targets) = next(testdata_ex)\n",
        "#printing the shape of the indexed data\n",
        "print(Val_ex_data.shape)"
      ],
      "execution_count": 4,
      "outputs": [
        {
          "output_type": "stream",
          "text": [
            "torch.Size([128, 3, 32, 32])\n"
          ],
          "name": "stdout"
        }
      ]
    },
    {
      "cell_type": "markdown",
      "metadata": {
        "id": "wr0HjKGWLpXZ"
      },
      "source": [
        "##**Setting Hyperparameters**"
      ]
    },
    {
      "cell_type": "code",
      "metadata": {
        "id": "j4l9WyqDwVoS"
      },
      "source": [
        "#Initialization of Hyperparameters\n",
        "#Number of epochs\n",
        "EPOCHS = 40\n",
        "#Batch size and the learning rate\n",
        "batch_size= 32\n",
        "Learning_rate= 0.1\n",
        "#Loss Function\n",
        "Loss_criterion_function = torch.nn.CrossEntropyLoss()\n",
        "device =torch.device('cuda' if torch.cuda.is_available() else 'cpu')"
      ],
      "execution_count": 5,
      "outputs": []
    },
    {
      "cell_type": "code",
      "metadata": {
        "id": "qRgk9152a6eq"
      },
      "source": [
        "#For storing the generated train and test accuracy and plotting\n",
        "def show_train_hist(hist, show=False, save=False, path='Train_hist.png'):\n",
        "    x = range(len(hist['train_accuracy']))\n",
        "    y1 = hist['train_accuracy']\n",
        "    y2 = hist['test_accuracy']\n",
        "    #plotting\n",
        "    plt.plot(x, y1, label='train_accuracy')\n",
        "    plt.plot(x, y2, label='test_accuracy')\n",
        "    plt.xlabel('Epoch')\n",
        "    plt.ylabel('Accuracy')\n",
        "    plt.legend(loc=4)\n",
        "    plt.grid(True)\n",
        "    plt.tight_layout()\n",
        "    #saving the generated outputs\n",
        "    if save:\n",
        "        plt.savefig(path)\n",
        "    if show:\n",
        "        plt.show()\n",
        "    else:\n",
        "        plt.close()"
      ],
      "execution_count": 6,
      "outputs": []
    },
    {
      "cell_type": "markdown",
      "metadata": {
        "id": "lcfNyRUrMBkU"
      },
      "source": [
        "##**Evaluation --> Training and Testing**"
      ]
    },
    {
      "cell_type": "code",
      "metadata": {
        "id": "0ObTQVjTa-gq"
      },
      "source": [
        "#Test Accuracy and loss Evaluation\n",
        "def Evaluate_Accuracy(dataset_eval_iteration, Network_arch, Loss_criterion_function, device=device): \n",
        "  #Evaluate accuracy of a model on the testset\n",
        "  #In evaluation mode, we will be using the dropout and normalization layers\n",
        "  testset_initial=len(dataset_eval_iteration.dataset)\n",
        "  test_loss=0\n",
        "  test_accuracy=0\n",
        "  Network_arch.eval()\n",
        "  with torch.no_grad():\n",
        "    for X, y in dataset_eval_iteration:\n",
        "        #transfer the produced data to the device\n",
        "        X = X.to(device)\n",
        "        y = y.to(device)   \n",
        "        outputs = Network_arch(X)\n",
        "        #calculating the test accuracy and loss and appending it                                                   \n",
        "        test_loss += Loss_criterion_function(outputs,y).item()                 \n",
        "        test_accuracy += (outputs.argmax(1) == y).type(torch.float).sum().item()  \n",
        "  test_accuracy = test_accuracy/testset_initial  \n",
        "  test_loss /= testset_initial\n",
        "  return test_accuracy, test_loss"
      ],
      "execution_count": 7,
      "outputs": []
    },
    {
      "cell_type": "code",
      "metadata": {
        "id": "IDax3wIO4uSj"
      },
      "source": [
        "#Cross validating the predicted values for plotting the confusion matrix and predict the correct and incorrect samples\n",
        "def Cross_validate_predicted_data(Network_arch, dataset_eval_iteration):\n",
        "    Data_pics_label = []\n",
        "    Data_pics_val = []\n",
        "    Network_arch.eval()\n",
        "    for X, y in dataset_eval_iteration:\n",
        "      X = X.to(device)\n",
        "      y = y.to(device)\n",
        "      prediction = Network_arch(X)\n",
        "      with torch.no_grad():\n",
        "            Final_predict = F.softmax(prediction, dim = -1)\n",
        "            Data_pics_label.append(y.cpu())\n",
        "            Data_pics_val.append(Final_predict.cpu())\n",
        "    out1 = torch.cat(Data_pics_label)\n",
        "    out2 = torch.cat(Data_pics_val)\n",
        "    return out1, out2"
      ],
      "execution_count": 8,
      "outputs": []
    },
    {
      "cell_type": "code",
      "metadata": {
        "id": "vlxliRglwkbt",
        "colab": {
          "base_uri": "https://localhost:8080/"
        },
        "outputId": "929cc792-b331-42c1-a043-f7aaa2f97f76"
      },
      "source": [
        "#Training and Evaluating the model \n",
        "#Training is performed on the train dataset\n",
        "#Testing (Evaluation) is performed in the test dataset\n",
        "#Train and evaluate the model using the device GPU or else with CPU\n",
        "def training(Network_arch, Load_CIFAR10_traindata, Load_CIFAR10_testdata, Loss_criterion_function, EPOCHS, batch_size, device, Learning_rate=None):    \n",
        "    print(\"---------------------------------------------------\")\n",
        "    print(\"Model Training and Testing Start date:\", date)\n",
        "    print(\"Model Training and Testing starting time:\", Time)\n",
        "    print(\"---------------------------------------------------\")\n",
        "    print('VGG16 Architecture Training and Testing Begins!')\n",
        "    Network_arch.to(device)\n",
        "    #Initialization of the optimizer\n",
        "    optimizer = optim.SGD(Network_arch.parameters(), lr=Learning_rate)\n",
        "    #FOR CALCULATING THE EPOCHS\n",
        "    for Epoch in range(EPOCHS):\n",
        "        #Network is trained on the training mode\n",
        "        Network_arch.train()\n",
        "        cv = 0\n",
        "        ep_start = time.time()\n",
        "        Sum_training_Loss = torch.tensor([0.0], device=device)\n",
        "        Sum_training_Accuracy = torch.tensor([0.0], device=device)\n",
        "        #FOR CALCULATING THE TRAIN LOSS AND TRAIN ACCURACY\n",
        "        for X, y in Load_CIFAR10_traindata:\n",
        "            optimizer.zero_grad()\n",
        "            X = X.to(device) \n",
        "            y = y.to(device)\n",
        "            conv_y = Network_arch(X)\n",
        "            final_end_loss = Loss_criterion_function(conv_y, y)\n",
        "            final_end_loss.backward()\n",
        "            optimizer.step()\n",
        "            with torch.no_grad():\n",
        "                y = y.long()\n",
        "                Sum_training_Loss += final_end_loss.float()\n",
        "                Sum_training_Accuracy += (torch.sum((torch.argmax(conv_y, dim=1) == y))).float()\n",
        "                cv += y.shape[0]\n",
        "                final_loss = Sum_training_Loss/cv\n",
        "                final_train_accuracy = Sum_training_Accuracy/cv\n",
        "                #final_train_accuracy_out =final_train_accuracy.to('cpu').numpy()\n",
        "        #FOR CALCULATING THE TEST ACCURACY and loss\n",
        "        final_test_accuracy, final_test_loss = Evaluate_Accuracy(Load_CIFAR10_testdata, Network_arch, Loss_criterion_function, device) \n",
        "        Start_Time=datetime.now()\n",
        "        train_test_Start_Time = Start_Time.strftime(\"%H:%M:%S\")\n",
        "        print(\"-------------------------------------------------------------------------------------------------------------------------------------------\")\n",
        "        #print(f'Epoch_start_time: {train_test_Start_Time}')\n",
        "        print('Epoch--> %d\\t Train_Loss: %.4f\\t Train_Accuracy: %.2f\\t    Test_Loss: %.4f\\t  Test_Accuracy: %.2f\\t  Time_Duration: %.1f sec\\t' % (Epoch + 1, final_loss, final_train_accuracy*100, final_test_loss, final_test_accuracy*100, time.time() - ep_start))\n",
        "        print(\"-------------------------------------------------------------------------------------------------------------------------------------------\")\n",
        "        save_dir = './CV_miniproject_results/'\n",
        "        #Creating a folder to store the results\n",
        "        if not os.path.exists(save_dir):\n",
        "          os.mkdir(save_dir)\n",
        "        #Storing and tracking the outputs and plotting\n",
        "        train_hist = {}\n",
        "        train_hist['train_accuracy'] = []\n",
        "        train_hist['test_accuracy'] = []\n",
        "        train_hist['train_accuracy'].append(final_train_accuracy)\n",
        "        train_hist['test_accuracy'].append(final_test_accuracy)\n",
        "        #saving outputs to the created directory\n",
        "        with open(save_dir + '/train_hist.pkl', 'wb') as f:\n",
        "          pickle.dump(train_hist, f)\n",
        "        show_train_hist(train_hist, save=True, path=save_dir + '/CV_miniproject_Train_hist.png')\n",
        "\n",
        "#Training and evaluating the Network model \n",
        "VGG16_History = training(Network_arch, Traindata_Loader, Testdata_Loader, Loss_criterion_function, EPOCHS, batch_size, device, Learning_rate)\n",
        "End_Time=datetime.now()\n",
        "end_date = End_Time.strftime(\"%d/%m/%Y\")\n",
        "end_time = End_Time.strftime(\"%H:%M:%S\")\n",
        "print('VGG16 Architecture Training and Testing Completed!')\n",
        "print(\"--------------------------------------------------\")\n",
        "print(\"Model Training and Testing End date:\", end_date)\n",
        "print(\"Model Training and Testing End time:\", end_time)\n",
        "print(\"--------------------------------------------------\")"
      ],
      "execution_count": 9,
      "outputs": [
        {
          "output_type": "stream",
          "text": [
            "---------------------------------------------------\n",
            "Model Training and Testing Start date: 17/05/2021\n",
            "Model Training and Testing starting time: 07:37:22\n",
            "---------------------------------------------------\n",
            "VGG16 Architecture Training and Testing Begins!\n",
            "-------------------------------------------------------------------------------------------------------------------------------------------\n",
            "Epoch--> 1\t Train_Loss: 0.0165\t Train_Accuracy: 19.76\t    Test_Loss: 0.0148\t  Test_Accuracy: 28.43\t  Time_Duration: 23.9 sec\t\n",
            "-------------------------------------------------------------------------------------------------------------------------------------------\n",
            "-------------------------------------------------------------------------------------------------------------------------------------------\n",
            "Epoch--> 2\t Train_Loss: 0.0140\t Train_Accuracy: 33.67\t    Test_Loss: 0.0121\t  Test_Accuracy: 42.77\t  Time_Duration: 23.8 sec\t\n",
            "-------------------------------------------------------------------------------------------------------------------------------------------\n",
            "-------------------------------------------------------------------------------------------------------------------------------------------\n",
            "Epoch--> 3\t Train_Loss: 0.0122\t Train_Accuracy: 42.54\t    Test_Loss: 0.0125\t  Test_Accuracy: 43.87\t  Time_Duration: 24.0 sec\t\n",
            "-------------------------------------------------------------------------------------------------------------------------------------------\n",
            "-------------------------------------------------------------------------------------------------------------------------------------------\n",
            "Epoch--> 4\t Train_Loss: 0.0108\t Train_Accuracy: 49.68\t    Test_Loss: 0.0099\t  Test_Accuracy: 54.91\t  Time_Duration: 23.8 sec\t\n",
            "-------------------------------------------------------------------------------------------------------------------------------------------\n",
            "-------------------------------------------------------------------------------------------------------------------------------------------\n",
            "Epoch--> 5\t Train_Loss: 0.0095\t Train_Accuracy: 56.03\t    Test_Loss: 0.0086\t  Test_Accuracy: 61.65\t  Time_Duration: 23.9 sec\t\n",
            "-------------------------------------------------------------------------------------------------------------------------------------------\n",
            "-------------------------------------------------------------------------------------------------------------------------------------------\n",
            "Epoch--> 6\t Train_Loss: 0.0084\t Train_Accuracy: 61.57\t    Test_Loss: 0.0077\t  Test_Accuracy: 65.77\t  Time_Duration: 24.1 sec\t\n",
            "-------------------------------------------------------------------------------------------------------------------------------------------\n",
            "-------------------------------------------------------------------------------------------------------------------------------------------\n",
            "Epoch--> 7\t Train_Loss: 0.0075\t Train_Accuracy: 66.32\t    Test_Loss: 0.0075\t  Test_Accuracy: 66.39\t  Time_Duration: 24.0 sec\t\n",
            "-------------------------------------------------------------------------------------------------------------------------------------------\n",
            "-------------------------------------------------------------------------------------------------------------------------------------------\n",
            "Epoch--> 8\t Train_Loss: 0.0067\t Train_Accuracy: 69.96\t    Test_Loss: 0.0072\t  Test_Accuracy: 69.20\t  Time_Duration: 24.0 sec\t\n",
            "-------------------------------------------------------------------------------------------------------------------------------------------\n",
            "-------------------------------------------------------------------------------------------------------------------------------------------\n",
            "Epoch--> 9\t Train_Loss: 0.0061\t Train_Accuracy: 72.77\t    Test_Loss: 0.0060\t  Test_Accuracy: 73.40\t  Time_Duration: 24.0 sec\t\n",
            "-------------------------------------------------------------------------------------------------------------------------------------------\n",
            "-------------------------------------------------------------------------------------------------------------------------------------------\n",
            "Epoch--> 10\t Train_Loss: 0.0056\t Train_Accuracy: 75.12\t    Test_Loss: 0.0055\t  Test_Accuracy: 75.40\t  Time_Duration: 24.1 sec\t\n",
            "-------------------------------------------------------------------------------------------------------------------------------------------\n",
            "-------------------------------------------------------------------------------------------------------------------------------------------\n",
            "Epoch--> 11\t Train_Loss: 0.0051\t Train_Accuracy: 76.98\t    Test_Loss: 0.0059\t  Test_Accuracy: 74.02\t  Time_Duration: 24.2 sec\t\n",
            "-------------------------------------------------------------------------------------------------------------------------------------------\n",
            "-------------------------------------------------------------------------------------------------------------------------------------------\n",
            "Epoch--> 12\t Train_Loss: 0.0048\t Train_Accuracy: 78.69\t    Test_Loss: 0.0050\t  Test_Accuracy: 78.41\t  Time_Duration: 23.8 sec\t\n",
            "-------------------------------------------------------------------------------------------------------------------------------------------\n",
            "-------------------------------------------------------------------------------------------------------------------------------------------\n",
            "Epoch--> 13\t Train_Loss: 0.0045\t Train_Accuracy: 80.10\t    Test_Loss: 0.0049\t  Test_Accuracy: 78.68\t  Time_Duration: 24.1 sec\t\n",
            "-------------------------------------------------------------------------------------------------------------------------------------------\n",
            "-------------------------------------------------------------------------------------------------------------------------------------------\n",
            "Epoch--> 14\t Train_Loss: 0.0041\t Train_Accuracy: 81.71\t    Test_Loss: 0.0046\t  Test_Accuracy: 79.50\t  Time_Duration: 24.1 sec\t\n",
            "-------------------------------------------------------------------------------------------------------------------------------------------\n",
            "-------------------------------------------------------------------------------------------------------------------------------------------\n",
            "Epoch--> 15\t Train_Loss: 0.0040\t Train_Accuracy: 82.44\t    Test_Loss: 0.0043\t  Test_Accuracy: 81.73\t  Time_Duration: 23.9 sec\t\n",
            "-------------------------------------------------------------------------------------------------------------------------------------------\n",
            "-------------------------------------------------------------------------------------------------------------------------------------------\n",
            "Epoch--> 16\t Train_Loss: 0.0037\t Train_Accuracy: 83.38\t    Test_Loss: 0.0046\t  Test_Accuracy: 80.31\t  Time_Duration: 24.2 sec\t\n",
            "-------------------------------------------------------------------------------------------------------------------------------------------\n",
            "-------------------------------------------------------------------------------------------------------------------------------------------\n",
            "Epoch--> 17\t Train_Loss: 0.0035\t Train_Accuracy: 84.26\t    Test_Loss: 0.0045\t  Test_Accuracy: 80.98\t  Time_Duration: 24.1 sec\t\n",
            "-------------------------------------------------------------------------------------------------------------------------------------------\n",
            "-------------------------------------------------------------------------------------------------------------------------------------------\n",
            "Epoch--> 18\t Train_Loss: 0.0033\t Train_Accuracy: 85.09\t    Test_Loss: 0.0043\t  Test_Accuracy: 81.50\t  Time_Duration: 24.1 sec\t\n",
            "-------------------------------------------------------------------------------------------------------------------------------------------\n",
            "-------------------------------------------------------------------------------------------------------------------------------------------\n",
            "Epoch--> 19\t Train_Loss: 0.0032\t Train_Accuracy: 85.72\t    Test_Loss: 0.0055\t  Test_Accuracy: 77.62\t  Time_Duration: 23.9 sec\t\n",
            "-------------------------------------------------------------------------------------------------------------------------------------------\n",
            "-------------------------------------------------------------------------------------------------------------------------------------------\n",
            "Epoch--> 20\t Train_Loss: 0.0030\t Train_Accuracy: 86.69\t    Test_Loss: 0.0045\t  Test_Accuracy: 81.72\t  Time_Duration: 23.9 sec\t\n",
            "-------------------------------------------------------------------------------------------------------------------------------------------\n",
            "-------------------------------------------------------------------------------------------------------------------------------------------\n",
            "Epoch--> 21\t Train_Loss: 0.0029\t Train_Accuracy: 87.20\t    Test_Loss: 0.0040\t  Test_Accuracy: 83.46\t  Time_Duration: 24.2 sec\t\n",
            "-------------------------------------------------------------------------------------------------------------------------------------------\n",
            "-------------------------------------------------------------------------------------------------------------------------------------------\n",
            "Epoch--> 22\t Train_Loss: 0.0027\t Train_Accuracy: 87.89\t    Test_Loss: 0.0048\t  Test_Accuracy: 81.12\t  Time_Duration: 24.0 sec\t\n",
            "-------------------------------------------------------------------------------------------------------------------------------------------\n",
            "-------------------------------------------------------------------------------------------------------------------------------------------\n",
            "Epoch--> 23\t Train_Loss: 0.0026\t Train_Accuracy: 88.21\t    Test_Loss: 0.0044\t  Test_Accuracy: 82.85\t  Time_Duration: 24.0 sec\t\n",
            "-------------------------------------------------------------------------------------------------------------------------------------------\n",
            "-------------------------------------------------------------------------------------------------------------------------------------------\n",
            "Epoch--> 24\t Train_Loss: 0.0025\t Train_Accuracy: 88.77\t    Test_Loss: 0.0040\t  Test_Accuracy: 83.42\t  Time_Duration: 24.2 sec\t\n",
            "-------------------------------------------------------------------------------------------------------------------------------------------\n",
            "-------------------------------------------------------------------------------------------------------------------------------------------\n",
            "Epoch--> 25\t Train_Loss: 0.0024\t Train_Accuracy: 89.40\t    Test_Loss: 0.0052\t  Test_Accuracy: 80.03\t  Time_Duration: 24.1 sec\t\n",
            "-------------------------------------------------------------------------------------------------------------------------------------------\n",
            "-------------------------------------------------------------------------------------------------------------------------------------------\n",
            "Epoch--> 26\t Train_Loss: 0.0023\t Train_Accuracy: 89.90\t    Test_Loss: 0.0037\t  Test_Accuracy: 85.38\t  Time_Duration: 24.2 sec\t\n",
            "-------------------------------------------------------------------------------------------------------------------------------------------\n",
            "-------------------------------------------------------------------------------------------------------------------------------------------\n",
            "Epoch--> 27\t Train_Loss: 0.0022\t Train_Accuracy: 90.29\t    Test_Loss: 0.0035\t  Test_Accuracy: 85.96\t  Time_Duration: 24.2 sec\t\n",
            "-------------------------------------------------------------------------------------------------------------------------------------------\n",
            "-------------------------------------------------------------------------------------------------------------------------------------------\n",
            "Epoch--> 28\t Train_Loss: 0.0021\t Train_Accuracy: 90.87\t    Test_Loss: 0.0041\t  Test_Accuracy: 84.52\t  Time_Duration: 24.2 sec\t\n",
            "-------------------------------------------------------------------------------------------------------------------------------------------\n",
            "-------------------------------------------------------------------------------------------------------------------------------------------\n",
            "Epoch--> 29\t Train_Loss: 0.0020\t Train_Accuracy: 91.08\t    Test_Loss: 0.0039\t  Test_Accuracy: 85.32\t  Time_Duration: 24.3 sec\t\n",
            "-------------------------------------------------------------------------------------------------------------------------------------------\n",
            "-------------------------------------------------------------------------------------------------------------------------------------------\n",
            "Epoch--> 30\t Train_Loss: 0.0019\t Train_Accuracy: 91.46\t    Test_Loss: 0.0038\t  Test_Accuracy: 85.53\t  Time_Duration: 24.2 sec\t\n",
            "-------------------------------------------------------------------------------------------------------------------------------------------\n",
            "-------------------------------------------------------------------------------------------------------------------------------------------\n",
            "Epoch--> 31\t Train_Loss: 0.0018\t Train_Accuracy: 91.76\t    Test_Loss: 0.0045\t  Test_Accuracy: 83.17\t  Time_Duration: 24.3 sec\t\n",
            "-------------------------------------------------------------------------------------------------------------------------------------------\n",
            "-------------------------------------------------------------------------------------------------------------------------------------------\n",
            "Epoch--> 32\t Train_Loss: 0.0017\t Train_Accuracy: 92.09\t    Test_Loss: 0.0043\t  Test_Accuracy: 84.36\t  Time_Duration: 24.2 sec\t\n",
            "-------------------------------------------------------------------------------------------------------------------------------------------\n",
            "-------------------------------------------------------------------------------------------------------------------------------------------\n",
            "Epoch--> 33\t Train_Loss: 0.0017\t Train_Accuracy: 92.43\t    Test_Loss: 0.0038\t  Test_Accuracy: 85.81\t  Time_Duration: 24.0 sec\t\n",
            "-------------------------------------------------------------------------------------------------------------------------------------------\n",
            "-------------------------------------------------------------------------------------------------------------------------------------------\n",
            "Epoch--> 34\t Train_Loss: 0.0016\t Train_Accuracy: 92.53\t    Test_Loss: 0.0040\t  Test_Accuracy: 85.35\t  Time_Duration: 23.9 sec\t\n",
            "-------------------------------------------------------------------------------------------------------------------------------------------\n",
            "-------------------------------------------------------------------------------------------------------------------------------------------\n",
            "Epoch--> 35\t Train_Loss: 0.0015\t Train_Accuracy: 93.12\t    Test_Loss: 0.0048\t  Test_Accuracy: 83.80\t  Time_Duration: 24.2 sec\t\n",
            "-------------------------------------------------------------------------------------------------------------------------------------------\n",
            "-------------------------------------------------------------------------------------------------------------------------------------------\n",
            "Epoch--> 36\t Train_Loss: 0.0015\t Train_Accuracy: 93.40\t    Test_Loss: 0.0040\t  Test_Accuracy: 86.09\t  Time_Duration: 24.1 sec\t\n",
            "-------------------------------------------------------------------------------------------------------------------------------------------\n",
            "-------------------------------------------------------------------------------------------------------------------------------------------\n",
            "Epoch--> 37\t Train_Loss: 0.0014\t Train_Accuracy: 93.48\t    Test_Loss: 0.0045\t  Test_Accuracy: 84.56\t  Time_Duration: 24.0 sec\t\n",
            "-------------------------------------------------------------------------------------------------------------------------------------------\n",
            "-------------------------------------------------------------------------------------------------------------------------------------------\n",
            "Epoch--> 38\t Train_Loss: 0.0014\t Train_Accuracy: 93.83\t    Test_Loss: 0.0039\t  Test_Accuracy: 85.72\t  Time_Duration: 23.9 sec\t\n",
            "-------------------------------------------------------------------------------------------------------------------------------------------\n",
            "-------------------------------------------------------------------------------------------------------------------------------------------\n",
            "Epoch--> 39\t Train_Loss: 0.0013\t Train_Accuracy: 94.24\t    Test_Loss: 0.0043\t  Test_Accuracy: 86.09\t  Time_Duration: 24.0 sec\t\n",
            "-------------------------------------------------------------------------------------------------------------------------------------------\n",
            "-------------------------------------------------------------------------------------------------------------------------------------------\n",
            "Epoch--> 40\t Train_Loss: 0.0013\t Train_Accuracy: 94.17\t    Test_Loss: 0.0044\t  Test_Accuracy: 85.01\t  Time_Duration: 23.9 sec\t\n",
            "-------------------------------------------------------------------------------------------------------------------------------------------\n",
            "VGG16 Architecture Training and Testing Completed!\n",
            "--------------------------------------------------\n",
            "Model Training and Testing End date: 17/05/2021\n",
            "Model Training and Testing End time: 07:53:57\n",
            "--------------------------------------------------\n"
          ],
          "name": "stdout"
        }
      ]
    },
    {
      "cell_type": "code",
      "metadata": {
        "id": "bpWvkAoAbOnt",
        "colab": {
          "base_uri": "https://localhost:8080/"
        },
        "outputId": "8b18b06d-754f-4e78-9dc6-034a5b677b84"
      },
      "source": [
        "#getting the output of the tensor(weights)\n",
        "with torch.no_grad():\n",
        "  Network_arch.to('cpu')\n",
        "  final_tensor_output = Network_arch(Val_ex_data)\n",
        "#printing the output\n",
        "print(final_tensor_output)"
      ],
      "execution_count": 10,
      "outputs": [
        {
          "output_type": "stream",
          "text": [
            "tensor([[-2.3313e+00, -1.1424e+00, -2.3654e+00,  ..., -1.2822e-03,\n",
            "         -2.9892e+00, -1.2375e+00],\n",
            "        [ 7.4839e+00,  1.0201e+01, -4.1318e+00,  ..., -8.3289e+00,\n",
            "          1.6083e+01,  1.7644e+00],\n",
            "        [ 5.0096e+00,  6.3800e+00, -2.9097e+00,  ..., -4.8366e+00,\n",
            "          1.0813e+01,  4.9985e-01],\n",
            "        ...,\n",
            "        [ 6.5792e+00, -4.8337e+00,  1.1436e+01,  ..., -4.0042e+00,\n",
            "         -1.0947e+00, -4.4329e+00],\n",
            "        [ 3.5904e+00, -1.2084e+00,  5.0141e-01,  ..., -4.4603e+00,\n",
            "          1.4247e+01,  1.5834e+00],\n",
            "        [-4.1849e+00, -4.1953e+00,  3.0435e-01,  ...,  1.3281e+00,\n",
            "         -4.6124e+00, -2.4371e+00]])\n"
          ],
          "name": "stdout"
        }
      ]
    },
    {
      "cell_type": "code",
      "metadata": {
        "colab": {
          "base_uri": "https://localhost:8080/",
          "height": 336
        },
        "id": "HiG2BNphbbPY",
        "outputId": "3128735c-29e5-430e-9b68-6dc276a8cf2d"
      },
      "source": [
        "#histogram for the tensor values\n",
        "sns.distplot(final_tensor_output)"
      ],
      "execution_count": 11,
      "outputs": [
        {
          "output_type": "stream",
          "text": [
            "/usr/local/lib/python3.7/dist-packages/seaborn/distributions.py:2557: FutureWarning: `distplot` is a deprecated function and will be removed in a future version. Please adapt your code to use either `displot` (a figure-level function with similar flexibility) or `histplot` (an axes-level function for histograms).\n",
            "  warnings.warn(msg, FutureWarning)\n"
          ],
          "name": "stderr"
        },
        {
          "output_type": "execute_result",
          "data": {
            "text/plain": [
              "<matplotlib.axes._subplots.AxesSubplot at 0x7f1fd072e5d0>"
            ]
          },
          "metadata": {
            "tags": []
          },
          "execution_count": 11
        },
        {
          "output_type": "display_data",
          "data": {
            "image/png": "[encoded data removed]",
            "text/plain": [
              "<Figure size 432x288 with 1 Axes>"
            ]
          },
          "metadata": {
            "tags": [],
            "needs_background": "light"
          }
        }
      ]
    },
    {
      "cell_type": "markdown",
      "metadata": {
        "id": "2PmdAql9NFzL"
      },
      "source": [
        "##**Verification --> How well our Network predicts the data accurately**"
      ]
    },
    {
      "cell_type": "code",
      "metadata": {
        "colab": {
          "base_uri": "https://localhost:8080/",
          "height": 137
        },
        "id": "bIWh1kXlbbMp",
        "outputId": "157391d7-1dc4-4ac1-f278-04f852d28e2d"
      },
      "source": [
        "#for testing our model after training, we have printed the classes of cifar-10 data for the groundtruth image \n",
        "#In the evaluation phase we printed the classes of cifar-10 data with their predicted class\n",
        "#we compare how correctly it predicted the classes between orginal and the predicted data\n",
        "CIFAR10_Class = ('plane', 'car', 'bird', 'cat', 'deer','dog', 'frog', 'horse', 'ship', 'truck')\n",
        "device =torch.device('cpu')\n",
        "for X, y in Testdata_Loader:\n",
        "  X = X[:6]\n",
        "  y = y[:6] \n",
        "  def imshow(figure):\n",
        "    figure = figure/2+0.1+0.1+0.2\n",
        "    plt.xticks([])\n",
        "    plt.yticks([])\n",
        "    plt.tight_layout()\n",
        "    plt.imshow(np.transpose(figure.numpy(), (1,2,0)))\n",
        "    plt.show()\n",
        "#Plotting the Groundtruth image\n",
        "center = \"GROUNDTRUTH IMAGE\"\n",
        "print(\"{center:^10}\".format(center=center))\n",
        "imshow(make_grid(X))"
      ],
      "execution_count": 12,
      "outputs": [
        {
          "output_type": "stream",
          "text": [
            "Clipping input data to the valid range for imshow with RGB data ([0..1] for floats or [0..255] for integers).\n"
          ],
          "name": "stderr"
        },
        {
          "output_type": "stream",
          "text": [
            "GROUNDTRUTH IMAGE\n"
          ],
          "name": "stdout"
        },
        {
          "output_type": "display_data",
          "data": {
            "image/png": "[encoded data removed]",
            "text/plain": [
              "<Figure size 432x288 with 1 Axes>"
            ]
          },
          "metadata": {
            "tags": []
          }
        }
      ]
    },
    {
      "cell_type": "code",
      "metadata": {
        "colab": {
          "base_uri": "https://localhost:8080/"
        },
        "id": "lUJLgPYDJmou",
        "outputId": "ccaf5507-3cea-4869-8742-2a3b51a8e8d9"
      },
      "source": [
        "#Getting the predicted classes\n",
        "Final_Out = Network_arch(X)\n",
        "_, prediction = torch.max(Final_Out, 1)\n",
        "#printing the classes of groundtruth data\n",
        "print(\"----------------------------------------------------------\")\n",
        "print('Orginal images classes: ',' '.join(CIFAR10_Class[y[GT_data_out]] for GT_data_out in range(6)))\n",
        "print(\"----------------------------------------------------------\")\n",
        "#printing the classes of prediction data\n",
        "print('Predicted images classes: ',' '.join(CIFAR10_Class[prediction[Pred_data_out]] for Pred_data_out in range(6)))\n",
        "print(\"----------------------------------------------------------\")"
      ],
      "execution_count": 13,
      "outputs": [
        {
          "output_type": "stream",
          "text": [
            "----------------------------------------------------------\n",
            "Orginal images classes:  horse dog ship plane ship bird\n",
            "----------------------------------------------------------\n",
            "Predicted images classes:  horse cat ship plane ship deer\n",
            "----------------------------------------------------------\n"
          ],
          "name": "stdout"
        }
      ]
    },
    {
      "cell_type": "code",
      "metadata": {
        "colab": {
          "base_uri": "https://localhost:8080/"
        },
        "id": "sp6KiXZKuUxs",
        "outputId": "48d99dba-6470-40a9-dce0-0f4901120708"
      },
      "source": [
        "#Calculating the induvidual accuracy of Each classes defined\n",
        "accurate_class_pred = list(range(10))\n",
        "Combined_class_accurate = list(range(10))\n",
        "with torch.no_grad():\n",
        "    for X, y in Testdata_Loader:\n",
        "      X = X.to(device) \n",
        "      y = y.to(device)\n",
        "      Final_Out = Network_arch(X)\n",
        "      _, Induvidual_class_prediction = torch.max(Final_Out, 1)\n",
        "      CIF_out = (Induvidual_class_prediction == y)\n",
        "      for Induvidual_out in range(6):\n",
        "        accurate_class_pred[y[Induvidual_out]] += CIF_out[Induvidual_out].item()\n",
        "        Combined_class_accurate[y[Induvidual_out]] += 1 \n",
        "#Printing the accuracy of Each classes       \n",
        "for Induvidual_class_accuracy in range(10):\n",
        "  print(\"---------------------------\")\n",
        "  print('Accuracy of %5s : %d %%' % (CIFAR10_Class[Induvidual_class_accuracy], accurate_class_pred[Induvidual_class_accuracy] / Combined_class_accurate[Induvidual_class_accuracy] *100))\n",
        "  print(\"---------------------------\")"
      ],
      "execution_count": 14,
      "outputs": [
        {
          "output_type": "stream",
          "text": [
            "---------------------------\n",
            "Accuracy of plane : 83 %\n",
            "---------------------------\n",
            "---------------------------\n",
            "Accuracy of   car : 97 %\n",
            "---------------------------\n",
            "---------------------------\n",
            "Accuracy of  bird : 85 %\n",
            "---------------------------\n",
            "---------------------------\n",
            "Accuracy of   cat : 69 %\n",
            "---------------------------\n",
            "---------------------------\n",
            "Accuracy of  deer : 85 %\n",
            "---------------------------\n",
            "---------------------------\n",
            "Accuracy of   dog : 71 %\n",
            "---------------------------\n",
            "---------------------------\n",
            "Accuracy of  frog : 90 %\n",
            "---------------------------\n",
            "---------------------------\n",
            "Accuracy of horse : 89 %\n",
            "---------------------------\n",
            "---------------------------\n",
            "Accuracy of  ship : 98 %\n",
            "---------------------------\n",
            "---------------------------\n",
            "Accuracy of truck : 90 %\n",
            "---------------------------\n"
          ],
          "name": "stdout"
        }
      ]
    },
    {
      "cell_type": "code",
      "metadata": {
        "id": "RBQqnk1s44hq"
      },
      "source": [
        "#Seperating the correct and incorrect predictions and appending it to a seperate list\n",
        "Correct_Data = []\n",
        "Incorrect_Data = []\n",
        "Label_for_pic, Prediction = Cross_validate_predicted_data(Network_arch, Testdata_Loader)\n",
        "Predicted_label = torch.argmax(Prediction, 1)\n",
        "CIFAR10_Classes = CIFAR10_testdata.classes\n",
        "Accurate_prediction = torch.eq(Label_for_pic, Predicted_label)\n",
        "for i, j, Correct_data_prediction in zip(Label_for_pic, Prediction, Accurate_prediction):\n",
        "    if Correct_data_prediction:\n",
        "      Correct_Data.append((i, j))\n",
        "    else:\n",
        "      Incorrect_Data.append((i, j))\n",
        "#Randomly sorting the samples\n",
        "Correct_Data.sort(key = lambda Correct_samples: torch.max(Correct_samples[1], -1).values)\n",
        "Incorrect_Data.sort(key = lambda Incorrect_samples: torch.max(Incorrect_samples[1], -1).values)"
      ],
      "execution_count": 15,
      "outputs": []
    },
    {
      "cell_type": "markdown",
      "metadata": {
        "id": "0a98gsFP5fYP"
      },
      "source": [
        "**Examples of Correct Predictions**"
      ]
    },
    {
      "cell_type": "code",
      "metadata": {
        "colab": {
          "base_uri": "https://localhost:8080/"
        },
        "id": "TzW_xY8k44bT",
        "outputId": "80ad0ea4-c4f3-4e72-d75e-d26e1de313e1"
      },
      "source": [
        "#Examples of Correct Prediction\n",
        "def Correct_Prediction(Correct_label_predict, CIFAR10_Classes):\n",
        "    for Sample in range(1*5):\n",
        "        Correct_Label, Prediction = Correct_label_predict[Sample]\n",
        "        Correct_pred, Correctly_predicted_label = torch.max(Prediction, -1)\n",
        "        Original_class = CIFAR10_Classes[Correct_Label]\n",
        "        Correctly_Predicted_class = CIFAR10_Classes[Correctly_predicted_label ]\n",
        "        print(\"---------------------------------------\")\n",
        "        print(f'Orginal images class     :  {Original_class}')\n",
        "        print(\"---------------------------------------\")\n",
        "        print(f'Predicted images class   :  {Correctly_Predicted_class}')\n",
        "        print(\"---------------------------------------\")\n",
        "Correct_Prediction(Correct_Data, CIFAR10_Classes)"
      ],
      "execution_count": 16,
      "outputs": [
        {
          "output_type": "stream",
          "text": [
            "---------------------------------------\n",
            "Orginal images class     :  frog\n",
            "---------------------------------------\n",
            "Predicted images class   :  frog\n",
            "---------------------------------------\n",
            "---------------------------------------\n",
            "Orginal images class     :  deer\n",
            "---------------------------------------\n",
            "Predicted images class   :  deer\n",
            "---------------------------------------\n",
            "---------------------------------------\n",
            "Orginal images class     :  bird\n",
            "---------------------------------------\n",
            "Predicted images class   :  bird\n",
            "---------------------------------------\n",
            "---------------------------------------\n",
            "Orginal images class     :  bird\n",
            "---------------------------------------\n",
            "Predicted images class   :  bird\n",
            "---------------------------------------\n",
            "---------------------------------------\n",
            "Orginal images class     :  cat\n",
            "---------------------------------------\n",
            "Predicted images class   :  cat\n",
            "---------------------------------------\n"
          ],
          "name": "stdout"
        }
      ]
    },
    {
      "cell_type": "markdown",
      "metadata": {
        "id": "Xy9WuZi55ev2"
      },
      "source": [
        "**Examples of Incorrect Predictions**"
      ]
    },
    {
      "cell_type": "code",
      "metadata": {
        "colab": {
          "base_uri": "https://localhost:8080/"
        },
        "id": "9V4MUu9944Ut",
        "outputId": "5c6fecbe-107d-435d-a95d-5ba455b1236c"
      },
      "source": [
        "#Examples of Incorrect Prediction\n",
        "def Incorrect_Prediction(Incorrect_label_predict, CIFAR10_Classes):\n",
        "    for i in range(1*5):\n",
        "        Incorrect_Label, Prediction = Incorrect_label_predict[i]\n",
        "        Incorrect_pred, Incorrectly_predicted_label = torch.max(Prediction, -1)\n",
        "        Original_class = CIFAR10_Classes[Incorrect_Label]\n",
        "        Incorrectly_Predicted_class = CIFAR10_Classes[Incorrectly_predicted_label ]\n",
        "        print(\"---------------------------------------\")\n",
        "        print(f'Orginal images class     :  {Original_class}')\n",
        "        print(\"---------------------------------------\")\n",
        "        print(f'Predicted images class   :  {Incorrectly_Predicted_class}')\n",
        "        print(\"---------------------------------------\")\n",
        "Correct_Prediction(Incorrect_Data, CIFAR10_Classes)"
      ],
      "execution_count": 17,
      "outputs": [
        {
          "output_type": "stream",
          "text": [
            "---------------------------------------\n",
            "Orginal images class     :  frog\n",
            "---------------------------------------\n",
            "Predicted images class   :  truck\n",
            "---------------------------------------\n",
            "---------------------------------------\n",
            "Orginal images class     :  frog\n",
            "---------------------------------------\n",
            "Predicted images class   :  bird\n",
            "---------------------------------------\n",
            "---------------------------------------\n",
            "Orginal images class     :  cat\n",
            "---------------------------------------\n",
            "Predicted images class   :  dog\n",
            "---------------------------------------\n",
            "---------------------------------------\n",
            "Orginal images class     :  cat\n",
            "---------------------------------------\n",
            "Predicted images class   :  dog\n",
            "---------------------------------------\n",
            "---------------------------------------\n",
            "Orginal images class     :  bird\n",
            "---------------------------------------\n",
            "Predicted images class   :  ship\n",
            "---------------------------------------\n"
          ],
          "name": "stdout"
        }
      ]
    },
    {
      "cell_type": "markdown",
      "metadata": {
        "id": "-d-sJDe85baf"
      },
      "source": [
        "**Confusion Matrix**"
      ]
    },
    {
      "cell_type": "code",
      "metadata": {
        "colab": {
          "base_uri": "https://localhost:8080/",
          "height": 689
        },
        "id": "ZFRxcC1M44Pr",
        "outputId": "30324edd-e545-4a21-c547-7fd99d932732"
      },
      "source": [
        "#Plotting the confusion matrix\n",
        "Figure = plt.figure(figsize=(12, 12))\n",
        "Axis = Figure.add_subplot(1, 1, 1)\n",
        "Confusion_Matrix = confusion_matrix(Label_for_pic, Predicted_label)\n",
        "Confusion_Heatmap_display = ConfusionMatrixDisplay(Confusion_Matrix, CIFAR10_Classes)\n",
        "Final_Heatmap_for_Predicted_data = Confusion_Heatmap_display.plot(ax=Axis, values_format='d', cmap = 'Greens')"
      ],
      "execution_count": 18,
      "outputs": [
        {
          "output_type": "display_data",
          "data": {
            "image/png": "[encoded data removed]",
            "text/plain": [
              "<Figure size 864x864 with 2 Axes>"
            ]
          },
          "metadata": {
            "tags": [],
            "needs_background": "light"
          }
        }
      ]
    },
    {
      "cell_type": "code",
      "metadata": {
        "colab": {
          "base_uri": "https://localhost:8080/"
        },
        "id": "5lbHIxqaqA7n",
        "outputId": "39f023ba-199f-4d8f-9776-f49e57e3e62e"
      },
      "source": [
        "#I have Executed the code in Google Colab pro. so that, I have printed the usage of gpu provided\n",
        "GPU_Usage_data = !nvidia-smi\n",
        "GPU_Usage_data  = '\\n'.join(GPU_Usage_data )\n",
        "if GPU_Usage_data .find('failed') >= 0:\n",
        "  print('Select the Runtime > \"Change runtime type\" menu to enable a GPU accelerator, ')\n",
        "  print('and then re-execute this cell.')\n",
        "else:\n",
        "  print(GPU_Usage_data )"
      ],
      "execution_count": 19,
      "outputs": [
        {
          "output_type": "stream",
          "text": [
            "Mon May 17 07:55:19 2021       \n",
            "+-----------------------------------------------------------------------------+\n",
            "| NVIDIA-SMI 465.19.01    Driver Version: 460.32.03    CUDA Version: 11.2     |\n",
            "|-------------------------------+----------------------+----------------------+\n",
            "| GPU  Name        Persistence-M| Bus-Id        Disp.A | Volatile Uncorr. ECC |\n",
            "| Fan  Temp  Perf  Pwr:Usage/Cap|         Memory-Usage | GPU-Util  Compute M. |\n",
            "|                               |                      |               MIG M. |\n",
            "|===============================+======================+======================|\n",
            "|   0  Tesla P100-PCIE...  Off  | 00000000:00:04.0 Off |                    0 |\n",
            "| N/A   63C    P0    39W / 250W |   1587MiB / 16280MiB |      0%      Default |\n",
            "|                               |                      |                  N/A |\n",
            "+-------------------------------+----------------------+----------------------+\n",
            "                                                                               \n",
            "+-----------------------------------------------------------------------------+\n",
            "| Processes:                                                                  |\n",
            "|  GPU   GI   CI        PID   Type   Process name                  GPU Memory |\n",
            "|        ID   ID                                                   Usage      |\n",
            "|=============================================================================|\n",
            "+-----------------------------------------------------------------------------+\n"
          ],
          "name": "stdout"
        }
      ]
    }
  ]
}