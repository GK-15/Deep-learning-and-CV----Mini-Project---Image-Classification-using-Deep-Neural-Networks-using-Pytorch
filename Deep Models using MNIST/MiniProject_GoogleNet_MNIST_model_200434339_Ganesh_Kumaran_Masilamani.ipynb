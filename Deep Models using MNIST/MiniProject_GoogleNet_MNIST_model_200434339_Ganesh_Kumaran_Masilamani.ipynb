{
  "nbformat": 4,
  "nbformat_minor": 0,
  "metadata": {
    "colab": {
      "name": "MiniProject_GoogleNet_MNIST_model_200434339_Ganesh_Kumaran_Masilamani.ipynb",
      "provenance": [],
      "machine_shape": "hm"
    },
    "kernelspec": {
      "name": "python3",
      "display_name": "Python 3"
    },
    "accelerator": "GPU",
    "widgets": {
      "application/vnd.jupyter.widget-state+json": {
        "da47a24337614c95b201dca23cd10042": {
          "model_module": "@jupyter-widgets/controls",
          "model_name": "HBoxModel",
          "state": {
            "_view_name": "HBoxView",
            "_dom_classes": [],
            "_model_name": "HBoxModel",
            "_view_module": "@jupyter-widgets/controls",
            "_model_module_version": "1.5.0",
            "_view_count": null,
            "_view_module_version": "1.5.0",
            "box_style": "",
            "layout": "IPY_MODEL_09b567ac36fd434f98b5e4c2fc89c855",
            "_model_module": "@jupyter-widgets/controls",
            "children": [
              "IPY_MODEL_9373f9040c394fe1b4aeb25b12bc21bc",
              "IPY_MODEL_dce3fe27cba348f2bcb42c6e7c27ff08"
            ]
          }
        },
        "09b567ac36fd434f98b5e4c2fc89c855": {
          "model_module": "@jupyter-widgets/base",
          "model_name": "LayoutModel",
          "state": {
            "_view_name": "LayoutView",
            "grid_template_rows": null,
            "right": null,
            "justify_content": null,
            "_view_module": "@jupyter-widgets/base",
            "overflow": null,
            "_model_module_version": "1.2.0",
            "_view_count": null,
            "flex_flow": null,
            "width": null,
            "min_width": null,
            "border": null,
            "align_items": null,
            "bottom": null,
            "_model_module": "@jupyter-widgets/base",
            "top": null,
            "grid_column": null,
            "overflow_y": null,
            "overflow_x": null,
            "grid_auto_flow": null,
            "grid_area": null,
            "grid_template_columns": null,
            "flex": null,
            "_model_name": "LayoutModel",
            "justify_items": null,
            "grid_row": null,
            "max_height": null,
            "align_content": null,
            "visibility": null,
            "align_self": null,
            "height": null,
            "min_height": null,
            "padding": null,
            "grid_auto_rows": null,
            "grid_gap": null,
            "max_width": null,
            "order": null,
            "_view_module_version": "1.2.0",
            "grid_template_areas": null,
            "object_position": null,
            "object_fit": null,
            "grid_auto_columns": null,
            "margin": null,
            "display": null,
            "left": null
          }
        },
        "9373f9040c394fe1b4aeb25b12bc21bc": {
          "model_module": "@jupyter-widgets/controls",
          "model_name": "FloatProgressModel",
          "state": {
            "_view_name": "ProgressView",
            "style": "IPY_MODEL_cbf1c8f6249d44efb1203909b6f370d7",
            "_dom_classes": [],
            "description": "",
            "_model_name": "FloatProgressModel",
            "bar_style": "success",
            "max": 9912422,
            "_view_module": "@jupyter-widgets/controls",
            "_model_module_version": "1.5.0",
            "value": 9912422,
            "_view_count": null,
            "_view_module_version": "1.5.0",
            "orientation": "horizontal",
            "min": 0,
            "description_tooltip": null,
            "_model_module": "@jupyter-widgets/controls",
            "layout": "IPY_MODEL_d28e1f7a23a24e19badce94a90c6e761"
          }
        },
        "dce3fe27cba348f2bcb42c6e7c27ff08": {
          "model_module": "@jupyter-widgets/controls",
          "model_name": "HTMLModel",
          "state": {
            "_view_name": "HTMLView",
            "style": "IPY_MODEL_9acfd43da8f04a64a5a23f6110dc6151",
            "_dom_classes": [],
            "description": "",
            "_model_name": "HTMLModel",
            "placeholder": "​",
            "_view_module": "@jupyter-widgets/controls",
            "_model_module_version": "1.5.0",
            "value": " 9913344/? [00:09&lt;00:00, 1043115.49it/s]",
            "_view_count": null,
            "_view_module_version": "1.5.0",
            "description_tooltip": null,
            "_model_module": "@jupyter-widgets/controls",
            "layout": "IPY_MODEL_64e67ce490304bb6884477b5e549e6e4"
          }
        },
        "cbf1c8f6249d44efb1203909b6f370d7": {
          "model_module": "@jupyter-widgets/controls",
          "model_name": "ProgressStyleModel",
          "state": {
            "_view_name": "StyleView",
            "_model_name": "ProgressStyleModel",
            "description_width": "initial",
            "_view_module": "@jupyter-widgets/base",
            "_model_module_version": "1.5.0",
            "_view_count": null,
            "_view_module_version": "1.2.0",
            "bar_color": null,
            "_model_module": "@jupyter-widgets/controls"
          }
        },
        "d28e1f7a23a24e19badce94a90c6e761": {
          "model_module": "@jupyter-widgets/base",
          "model_name": "LayoutModel",
          "state": {
            "_view_name": "LayoutView",
            "grid_template_rows": null,
            "right": null,
            "justify_content": null,
            "_view_module": "@jupyter-widgets/base",
            "overflow": null,
            "_model_module_version": "1.2.0",
            "_view_count": null,
            "flex_flow": null,
            "width": null,
            "min_width": null,
            "border": null,
            "align_items": null,
            "bottom": null,
            "_model_module": "@jupyter-widgets/base",
            "top": null,
            "grid_column": null,
            "overflow_y": null,
            "overflow_x": null,
            "grid_auto_flow": null,
            "grid_area": null,
            "grid_template_columns": null,
            "flex": null,
            "_model_name": "LayoutModel",
            "justify_items": null,
            "grid_row": null,
            "max_height": null,
            "align_content": null,
            "visibility": null,
            "align_self": null,
            "height": null,
            "min_height": null,
            "padding": null,
            "grid_auto_rows": null,
            "grid_gap": null,
            "max_width": null,
            "order": null,
            "_view_module_version": "1.2.0",
            "grid_template_areas": null,
            "object_position": null,
            "object_fit": null,
            "grid_auto_columns": null,
            "margin": null,
            "display": null,
            "left": null
          }
        },
        "9acfd43da8f04a64a5a23f6110dc6151": {
          "model_module": "@jupyter-widgets/controls",
          "model_name": "DescriptionStyleModel",
          "state": {
            "_view_name": "StyleView",
            "_model_name": "DescriptionStyleModel",
            "description_width": "",
            "_view_module": "@jupyter-widgets/base",
            "_model_module_version": "1.5.0",
            "_view_count": null,
            "_view_module_version": "1.2.0",
            "_model_module": "@jupyter-widgets/controls"
          }
        },
        "64e67ce490304bb6884477b5e549e6e4": {
          "model_module": "@jupyter-widgets/base",
          "model_name": "LayoutModel",
          "state": {
            "_view_name": "LayoutView",
            "grid_template_rows": null,
            "right": null,
            "justify_content": null,
            "_view_module": "@jupyter-widgets/base",
            "overflow": null,
            "_model_module_version": "1.2.0",
            "_view_count": null,
            "flex_flow": null,
            "width": null,
            "min_width": null,
            "border": null,
            "align_items": null,
            "bottom": null,
            "_model_module": "@jupyter-widgets/base",
            "top": null,
            "grid_column": null,
            "overflow_y": null,
            "overflow_x": null,
            "grid_auto_flow": null,
            "grid_area": null,
            "grid_template_columns": null,
            "flex": null,
            "_model_name": "LayoutModel",
            "justify_items": null,
            "grid_row": null,
            "max_height": null,
            "align_content": null,
            "visibility": null,
            "align_self": null,
            "height": null,
            "min_height": null,
            "padding": null,
            "grid_auto_rows": null,
            "grid_gap": null,
            "max_width": null,
            "order": null,
            "_view_module_version": "1.2.0",
            "grid_template_areas": null,
            "object_position": null,
            "object_fit": null,
            "grid_auto_columns": null,
            "margin": null,
            "display": null,
            "left": null
          }
        },
        "ce943347be994b939271dfe464f6b72e": {
          "model_module": "@jupyter-widgets/controls",
          "model_name": "HBoxModel",
          "state": {
            "_view_name": "HBoxView",
            "_dom_classes": [],
            "_model_name": "HBoxModel",
            "_view_module": "@jupyter-widgets/controls",
            "_model_module_version": "1.5.0",
            "_view_count": null,
            "_view_module_version": "1.5.0",
            "box_style": "",
            "layout": "IPY_MODEL_20ac26fa6fbb4143ba65f050b62bddd8",
            "_model_module": "@jupyter-widgets/controls",
            "children": [
              "IPY_MODEL_5c9f66c1ed9640cf889053b9c98a16b2",
              "IPY_MODEL_01409a92aeb742dcae2ef44256899d67"
            ]
          }
        },
        "20ac26fa6fbb4143ba65f050b62bddd8": {
          "model_module": "@jupyter-widgets/base",
          "model_name": "LayoutModel",
          "state": {
            "_view_name": "LayoutView",
            "grid_template_rows": null,
            "right": null,
            "justify_content": null,
            "_view_module": "@jupyter-widgets/base",
            "overflow": null,
            "_model_module_version": "1.2.0",
            "_view_count": null,
            "flex_flow": null,
            "width": null,
            "min_width": null,
            "border": null,
            "align_items": null,
            "bottom": null,
            "_model_module": "@jupyter-widgets/base",
            "top": null,
            "grid_column": null,
            "overflow_y": null,
            "overflow_x": null,
            "grid_auto_flow": null,
            "grid_area": null,
            "grid_template_columns": null,
            "flex": null,
            "_model_name": "LayoutModel",
            "justify_items": null,
            "grid_row": null,
            "max_height": null,
            "align_content": null,
            "visibility": null,
            "align_self": null,
            "height": null,
            "min_height": null,
            "padding": null,
            "grid_auto_rows": null,
            "grid_gap": null,
            "max_width": null,
            "order": null,
            "_view_module_version": "1.2.0",
            "grid_template_areas": null,
            "object_position": null,
            "object_fit": null,
            "grid_auto_columns": null,
            "margin": null,
            "display": null,
            "left": null
          }
        },
        "5c9f66c1ed9640cf889053b9c98a16b2": {
          "model_module": "@jupyter-widgets/controls",
          "model_name": "FloatProgressModel",
          "state": {
            "_view_name": "ProgressView",
            "style": "IPY_MODEL_cf30ba2fc68e4929bccbd5cdb51474c8",
            "_dom_classes": [],
            "description": "",
            "_model_name": "FloatProgressModel",
            "bar_style": "success",
            "max": 28881,
            "_view_module": "@jupyter-widgets/controls",
            "_model_module_version": "1.5.0",
            "value": 28881,
            "_view_count": null,
            "_view_module_version": "1.5.0",
            "orientation": "horizontal",
            "min": 0,
            "description_tooltip": null,
            "_model_module": "@jupyter-widgets/controls",
            "layout": "IPY_MODEL_a917384e78644fd0bd64ee7ef4e21434"
          }
        },
        "01409a92aeb742dcae2ef44256899d67": {
          "model_module": "@jupyter-widgets/controls",
          "model_name": "HTMLModel",
          "state": {
            "_view_name": "HTMLView",
            "style": "IPY_MODEL_af3785a8f7384913bcd8eba3412cf2cb",
            "_dom_classes": [],
            "description": "",
            "_model_name": "HTMLModel",
            "placeholder": "​",
            "_view_module": "@jupyter-widgets/controls",
            "_model_module_version": "1.5.0",
            "value": " 29696/? [00:02&lt;00:00, 14403.41it/s]",
            "_view_count": null,
            "_view_module_version": "1.5.0",
            "description_tooltip": null,
            "_model_module": "@jupyter-widgets/controls",
            "layout": "IPY_MODEL_a1a772eb88f24fd09e1c5f243265d75f"
          }
        },
        "cf30ba2fc68e4929bccbd5cdb51474c8": {
          "model_module": "@jupyter-widgets/controls",
          "model_name": "ProgressStyleModel",
          "state": {
            "_view_name": "StyleView",
            "_model_name": "ProgressStyleModel",
            "description_width": "initial",
            "_view_module": "@jupyter-widgets/base",
            "_model_module_version": "1.5.0",
            "_view_count": null,
            "_view_module_version": "1.2.0",
            "bar_color": null,
            "_model_module": "@jupyter-widgets/controls"
          }
        },
        "a917384e78644fd0bd64ee7ef4e21434": {
          "model_module": "@jupyter-widgets/base",
          "model_name": "LayoutModel",
          "state": {
            "_view_name": "LayoutView",
            "grid_template_rows": null,
            "right": null,
            "justify_content": null,
            "_view_module": "@jupyter-widgets/base",
            "overflow": null,
            "_model_module_version": "1.2.0",
            "_view_count": null,
            "flex_flow": null,
            "width": null,
            "min_width": null,
            "border": null,
            "align_items": null,
            "bottom": null,
            "_model_module": "@jupyter-widgets/base",
            "top": null,
            "grid_column": null,
            "overflow_y": null,
            "overflow_x": null,
            "grid_auto_flow": null,
            "grid_area": null,
            "grid_template_columns": null,
            "flex": null,
            "_model_name": "LayoutModel",
            "justify_items": null,
            "grid_row": null,
            "max_height": null,
            "align_content": null,
            "visibility": null,
            "align_self": null,
            "height": null,
            "min_height": null,
            "padding": null,
            "grid_auto_rows": null,
            "grid_gap": null,
            "max_width": null,
            "order": null,
            "_view_module_version": "1.2.0",
            "grid_template_areas": null,
            "object_position": null,
            "object_fit": null,
            "grid_auto_columns": null,
            "margin": null,
            "display": null,
            "left": null
          }
        },
        "af3785a8f7384913bcd8eba3412cf2cb": {
          "model_module": "@jupyter-widgets/controls",
          "model_name": "DescriptionStyleModel",
          "state": {
            "_view_name": "StyleView",
            "_model_name": "DescriptionStyleModel",
            "description_width": "",
            "_view_module": "@jupyter-widgets/base",
            "_model_module_version": "1.5.0",
            "_view_count": null,
            "_view_module_version": "1.2.0",
            "_model_module": "@jupyter-widgets/controls"
          }
        },
        "a1a772eb88f24fd09e1c5f243265d75f": {
          "model_module": "@jupyter-widgets/base",
          "model_name": "LayoutModel",
          "state": {
            "_view_name": "LayoutView",
            "grid_template_rows": null,
            "right": null,
            "justify_content": null,
            "_view_module": "@jupyter-widgets/base",
            "overflow": null,
            "_model_module_version": "1.2.0",
            "_view_count": null,
            "flex_flow": null,
            "width": null,
            "min_width": null,
            "border": null,
            "align_items": null,
            "bottom": null,
            "_model_module": "@jupyter-widgets/base",
            "top": null,
            "grid_column": null,
            "overflow_y": null,
            "overflow_x": null,
            "grid_auto_flow": null,
            "grid_area": null,
            "grid_template_columns": null,
            "flex": null,
            "_model_name": "LayoutModel",
            "justify_items": null,
            "grid_row": null,
            "max_height": null,
            "align_content": null,
            "visibility": null,
            "align_self": null,
            "height": null,
            "min_height": null,
            "padding": null,
            "grid_auto_rows": null,
            "grid_gap": null,
            "max_width": null,
            "order": null,
            "_view_module_version": "1.2.0",
            "grid_template_areas": null,
            "object_position": null,
            "object_fit": null,
            "grid_auto_columns": null,
            "margin": null,
            "display": null,
            "left": null
          }
        },
        "cecd727ed3214844b5c700a052b8c568": {
          "model_module": "@jupyter-widgets/controls",
          "model_name": "HBoxModel",
          "state": {
            "_view_name": "HBoxView",
            "_dom_classes": [],
            "_model_name": "HBoxModel",
            "_view_module": "@jupyter-widgets/controls",
            "_model_module_version": "1.5.0",
            "_view_count": null,
            "_view_module_version": "1.5.0",
            "box_style": "",
            "layout": "IPY_MODEL_01dff85494f544e1a1a51f434c0f0054",
            "_model_module": "@jupyter-widgets/controls",
            "children": [
              "IPY_MODEL_8007a801460f43abbc79245e8a594779",
              "IPY_MODEL_27bc5720f83f41249509e4fd0460a478"
            ]
          }
        },
        "01dff85494f544e1a1a51f434c0f0054": {
          "model_module": "@jupyter-widgets/base",
          "model_name": "LayoutModel",
          "state": {
            "_view_name": "LayoutView",
            "grid_template_rows": null,
            "right": null,
            "justify_content": null,
            "_view_module": "@jupyter-widgets/base",
            "overflow": null,
            "_model_module_version": "1.2.0",
            "_view_count": null,
            "flex_flow": null,
            "width": null,
            "min_width": null,
            "border": null,
            "align_items": null,
            "bottom": null,
            "_model_module": "@jupyter-widgets/base",
            "top": null,
            "grid_column": null,
            "overflow_y": null,
            "overflow_x": null,
            "grid_auto_flow": null,
            "grid_area": null,
            "grid_template_columns": null,
            "flex": null,
            "_model_name": "LayoutModel",
            "justify_items": null,
            "grid_row": null,
            "max_height": null,
            "align_content": null,
            "visibility": null,
            "align_self": null,
            "height": null,
            "min_height": null,
            "padding": null,
            "grid_auto_rows": null,
            "grid_gap": null,
            "max_width": null,
            "order": null,
            "_view_module_version": "1.2.0",
            "grid_template_areas": null,
            "object_position": null,
            "object_fit": null,
            "grid_auto_columns": null,
            "margin": null,
            "display": null,
            "left": null
          }
        },
        "8007a801460f43abbc79245e8a594779": {
          "model_module": "@jupyter-widgets/controls",
          "model_name": "FloatProgressModel",
          "state": {
            "_view_name": "ProgressView",
            "style": "IPY_MODEL_e13758af0e2a4a5595b76741c946b132",
            "_dom_classes": [],
            "description": "",
            "_model_name": "FloatProgressModel",
            "bar_style": "success",
            "max": 1648877,
            "_view_module": "@jupyter-widgets/controls",
            "_model_module_version": "1.5.0",
            "value": 1648877,
            "_view_count": null,
            "_view_module_version": "1.5.0",
            "orientation": "horizontal",
            "min": 0,
            "description_tooltip": null,
            "_model_module": "@jupyter-widgets/controls",
            "layout": "IPY_MODEL_f161e12326454fe084dd652e6e8310d9"
          }
        },
        "27bc5720f83f41249509e4fd0460a478": {
          "model_module": "@jupyter-widgets/controls",
          "model_name": "HTMLModel",
          "state": {
            "_view_name": "HTMLView",
            "style": "IPY_MODEL_88841040e64e43928f9c9d4e49c02453",
            "_dom_classes": [],
            "description": "",
            "_model_name": "HTMLModel",
            "placeholder": "​",
            "_view_module": "@jupyter-widgets/controls",
            "_model_module_version": "1.5.0",
            "value": " 1649664/? [00:01&lt;00:00, 1300611.79it/s]",
            "_view_count": null,
            "_view_module_version": "1.5.0",
            "description_tooltip": null,
            "_model_module": "@jupyter-widgets/controls",
            "layout": "IPY_MODEL_d64093b0dbda432f9c8591409d55e50d"
          }
        },
        "e13758af0e2a4a5595b76741c946b132": {
          "model_module": "@jupyter-widgets/controls",
          "model_name": "ProgressStyleModel",
          "state": {
            "_view_name": "StyleView",
            "_model_name": "ProgressStyleModel",
            "description_width": "initial",
            "_view_module": "@jupyter-widgets/base",
            "_model_module_version": "1.5.0",
            "_view_count": null,
            "_view_module_version": "1.2.0",
            "bar_color": null,
            "_model_module": "@jupyter-widgets/controls"
          }
        },
        "f161e12326454fe084dd652e6e8310d9": {
          "model_module": "@jupyter-widgets/base",
          "model_name": "LayoutModel",
          "state": {
            "_view_name": "LayoutView",
            "grid_template_rows": null,
            "right": null,
            "justify_content": null,
            "_view_module": "@jupyter-widgets/base",
            "overflow": null,
            "_model_module_version": "1.2.0",
            "_view_count": null,
            "flex_flow": null,
            "width": null,
            "min_width": null,
            "border": null,
            "align_items": null,
            "bottom": null,
            "_model_module": "@jupyter-widgets/base",
            "top": null,
            "grid_column": null,
            "overflow_y": null,
            "overflow_x": null,
            "grid_auto_flow": null,
            "grid_area": null,
            "grid_template_columns": null,
            "flex": null,
            "_model_name": "LayoutModel",
            "justify_items": null,
            "grid_row": null,
            "max_height": null,
            "align_content": null,
            "visibility": null,
            "align_self": null,
            "height": null,
            "min_height": null,
            "padding": null,
            "grid_auto_rows": null,
            "grid_gap": null,
            "max_width": null,
            "order": null,
            "_view_module_version": "1.2.0",
            "grid_template_areas": null,
            "object_position": null,
            "object_fit": null,
            "grid_auto_columns": null,
            "margin": null,
            "display": null,
            "left": null
          }
        },
        "88841040e64e43928f9c9d4e49c02453": {
          "model_module": "@jupyter-widgets/controls",
          "model_name": "DescriptionStyleModel",
          "state": {
            "_view_name": "StyleView",
            "_model_name": "DescriptionStyleModel",
            "description_width": "",
            "_view_module": "@jupyter-widgets/base",
            "_model_module_version": "1.5.0",
            "_view_count": null,
            "_view_module_version": "1.2.0",
            "_model_module": "@jupyter-widgets/controls"
          }
        },
        "d64093b0dbda432f9c8591409d55e50d": {
          "model_module": "@jupyter-widgets/base",
          "model_name": "LayoutModel",
          "state": {
            "_view_name": "LayoutView",
            "grid_template_rows": null,
            "right": null,
            "justify_content": null,
            "_view_module": "@jupyter-widgets/base",
            "overflow": null,
            "_model_module_version": "1.2.0",
            "_view_count": null,
            "flex_flow": null,
            "width": null,
            "min_width": null,
            "border": null,
            "align_items": null,
            "bottom": null,
            "_model_module": "@jupyter-widgets/base",
            "top": null,
            "grid_column": null,
            "overflow_y": null,
            "overflow_x": null,
            "grid_auto_flow": null,
            "grid_area": null,
            "grid_template_columns": null,
            "flex": null,
            "_model_name": "LayoutModel",
            "justify_items": null,
            "grid_row": null,
            "max_height": null,
            "align_content": null,
            "visibility": null,
            "align_self": null,
            "height": null,
            "min_height": null,
            "padding": null,
            "grid_auto_rows": null,
            "grid_gap": null,
            "max_width": null,
            "order": null,
            "_view_module_version": "1.2.0",
            "grid_template_areas": null,
            "object_position": null,
            "object_fit": null,
            "grid_auto_columns": null,
            "margin": null,
            "display": null,
            "left": null
          }
        },
        "272bd1891ee84682b6bd1a873bd34a2f": {
          "model_module": "@jupyter-widgets/controls",
          "model_name": "HBoxModel",
          "state": {
            "_view_name": "HBoxView",
            "_dom_classes": [],
            "_model_name": "HBoxModel",
            "_view_module": "@jupyter-widgets/controls",
            "_model_module_version": "1.5.0",
            "_view_count": null,
            "_view_module_version": "1.5.0",
            "box_style": "",
            "layout": "IPY_MODEL_d0dc9565708b42f39f6eecbccd00aa2d",
            "_model_module": "@jupyter-widgets/controls",
            "children": [
              "IPY_MODEL_3b3bb969bf3a4e06a1b745e8274c53af",
              "IPY_MODEL_97659c837b214aec8b5603a9eaead4c6"
            ]
          }
        },
        "d0dc9565708b42f39f6eecbccd00aa2d": {
          "model_module": "@jupyter-widgets/base",
          "model_name": "LayoutModel",
          "state": {
            "_view_name": "LayoutView",
            "grid_template_rows": null,
            "right": null,
            "justify_content": null,
            "_view_module": "@jupyter-widgets/base",
            "overflow": null,
            "_model_module_version": "1.2.0",
            "_view_count": null,
            "flex_flow": null,
            "width": null,
            "min_width": null,
            "border": null,
            "align_items": null,
            "bottom": null,
            "_model_module": "@jupyter-widgets/base",
            "top": null,
            "grid_column": null,
            "overflow_y": null,
            "overflow_x": null,
            "grid_auto_flow": null,
            "grid_area": null,
            "grid_template_columns": null,
            "flex": null,
            "_model_name": "LayoutModel",
            "justify_items": null,
            "grid_row": null,
            "max_height": null,
            "align_content": null,
            "visibility": null,
            "align_self": null,
            "height": null,
            "min_height": null,
            "padding": null,
            "grid_auto_rows": null,
            "grid_gap": null,
            "max_width": null,
            "order": null,
            "_view_module_version": "1.2.0",
            "grid_template_areas": null,
            "object_position": null,
            "object_fit": null,
            "grid_auto_columns": null,
            "margin": null,
            "display": null,
            "left": null
          }
        },
        "3b3bb969bf3a4e06a1b745e8274c53af": {
          "model_module": "@jupyter-widgets/controls",
          "model_name": "FloatProgressModel",
          "state": {
            "_view_name": "ProgressView",
            "style": "IPY_MODEL_812d3789b611402cbd1d03f5ff0be150",
            "_dom_classes": [],
            "description": "",
            "_model_name": "FloatProgressModel",
            "bar_style": "success",
            "max": 4542,
            "_view_module": "@jupyter-widgets/controls",
            "_model_module_version": "1.5.0",
            "value": 4542,
            "_view_count": null,
            "_view_module_version": "1.5.0",
            "orientation": "horizontal",
            "min": 0,
            "description_tooltip": null,
            "_model_module": "@jupyter-widgets/controls",
            "layout": "IPY_MODEL_c9588a0bfa0e43739ee3c1a80b34f050"
          }
        },
        "97659c837b214aec8b5603a9eaead4c6": {
          "model_module": "@jupyter-widgets/controls",
          "model_name": "HTMLModel",
          "state": {
            "_view_name": "HTMLView",
            "style": "IPY_MODEL_82627ce477844a8cb8207243b4717a15",
            "_dom_classes": [],
            "description": "",
            "_model_name": "HTMLModel",
            "placeholder": "​",
            "_view_module": "@jupyter-widgets/controls",
            "_model_module_version": "1.5.0",
            "value": " 5120/? [00:05&lt;00:00, 907.45it/s]",
            "_view_count": null,
            "_view_module_version": "1.5.0",
            "description_tooltip": null,
            "_model_module": "@jupyter-widgets/controls",
            "layout": "IPY_MODEL_c770f108706d42aca0b59d22329b57f6"
          }
        },
        "812d3789b611402cbd1d03f5ff0be150": {
          "model_module": "@jupyter-widgets/controls",
          "model_name": "ProgressStyleModel",
          "state": {
            "_view_name": "StyleView",
            "_model_name": "ProgressStyleModel",
            "description_width": "initial",
            "_view_module": "@jupyter-widgets/base",
            "_model_module_version": "1.5.0",
            "_view_count": null,
            "_view_module_version": "1.2.0",
            "bar_color": null,
            "_model_module": "@jupyter-widgets/controls"
          }
        },
        "c9588a0bfa0e43739ee3c1a80b34f050": {
          "model_module": "@jupyter-widgets/base",
          "model_name": "LayoutModel",
          "state": {
            "_view_name": "LayoutView",
            "grid_template_rows": null,
            "right": null,
            "justify_content": null,
            "_view_module": "@jupyter-widgets/base",
            "overflow": null,
            "_model_module_version": "1.2.0",
            "_view_count": null,
            "flex_flow": null,
            "width": null,
            "min_width": null,
            "border": null,
            "align_items": null,
            "bottom": null,
            "_model_module": "@jupyter-widgets/base",
            "top": null,
            "grid_column": null,
            "overflow_y": null,
            "overflow_x": null,
            "grid_auto_flow": null,
            "grid_area": null,
            "grid_template_columns": null,
            "flex": null,
            "_model_name": "LayoutModel",
            "justify_items": null,
            "grid_row": null,
            "max_height": null,
            "align_content": null,
            "visibility": null,
            "align_self": null,
            "height": null,
            "min_height": null,
            "padding": null,
            "grid_auto_rows": null,
            "grid_gap": null,
            "max_width": null,
            "order": null,
            "_view_module_version": "1.2.0",
            "grid_template_areas": null,
            "object_position": null,
            "object_fit": null,
            "grid_auto_columns": null,
            "margin": null,
            "display": null,
            "left": null
          }
        },
        "82627ce477844a8cb8207243b4717a15": {
          "model_module": "@jupyter-widgets/controls",
          "model_name": "DescriptionStyleModel",
          "state": {
            "_view_name": "StyleView",
            "_model_name": "DescriptionStyleModel",
            "description_width": "",
            "_view_module": "@jupyter-widgets/base",
            "_model_module_version": "1.5.0",
            "_view_count": null,
            "_view_module_version": "1.2.0",
            "_model_module": "@jupyter-widgets/controls"
          }
        },
        "c770f108706d42aca0b59d22329b57f6": {
          "model_module": "@jupyter-widgets/base",
          "model_name": "LayoutModel",
          "state": {
            "_view_name": "LayoutView",
            "grid_template_rows": null,
            "right": null,
            "justify_content": null,
            "_view_module": "@jupyter-widgets/base",
            "overflow": null,
            "_model_module_version": "1.2.0",
            "_view_count": null,
            "flex_flow": null,
            "width": null,
            "min_width": null,
            "border": null,
            "align_items": null,
            "bottom": null,
            "_model_module": "@jupyter-widgets/base",
            "top": null,
            "grid_column": null,
            "overflow_y": null,
            "overflow_x": null,
            "grid_auto_flow": null,
            "grid_area": null,
            "grid_template_columns": null,
            "flex": null,
            "_model_name": "LayoutModel",
            "justify_items": null,
            "grid_row": null,
            "max_height": null,
            "align_content": null,
            "visibility": null,
            "align_self": null,
            "height": null,
            "min_height": null,
            "padding": null,
            "grid_auto_rows": null,
            "grid_gap": null,
            "max_width": null,
            "order": null,
            "_view_module_version": "1.2.0",
            "grid_template_areas": null,
            "object_position": null,
            "object_fit": null,
            "grid_auto_columns": null,
            "margin": null,
            "display": null,
            "left": null
          }
        },
        "08d2068822eb4fb5897728b2fb6dd41f": {
          "model_module": "@jupyter-widgets/controls",
          "model_name": "HBoxModel",
          "state": {
            "_view_name": "HBoxView",
            "_dom_classes": [],
            "_model_name": "HBoxModel",
            "_view_module": "@jupyter-widgets/controls",
            "_model_module_version": "1.5.0",
            "_view_count": null,
            "_view_module_version": "1.5.0",
            "box_style": "",
            "layout": "IPY_MODEL_38a60fa9745a47db8838bd2d63c89996",
            "_model_module": "@jupyter-widgets/controls",
            "children": [
              "IPY_MODEL_75b89fdd102347b4b0271bef52da93df",
              "IPY_MODEL_3271af2c307e4eb39c2899d44447bbcf"
            ]
          }
        },
        "38a60fa9745a47db8838bd2d63c89996": {
          "model_module": "@jupyter-widgets/base",
          "model_name": "LayoutModel",
          "state": {
            "_view_name": "LayoutView",
            "grid_template_rows": null,
            "right": null,
            "justify_content": null,
            "_view_module": "@jupyter-widgets/base",
            "overflow": null,
            "_model_module_version": "1.2.0",
            "_view_count": null,
            "flex_flow": null,
            "width": null,
            "min_width": null,
            "border": null,
            "align_items": null,
            "bottom": null,
            "_model_module": "@jupyter-widgets/base",
            "top": null,
            "grid_column": null,
            "overflow_y": null,
            "overflow_x": null,
            "grid_auto_flow": null,
            "grid_area": null,
            "grid_template_columns": null,
            "flex": null,
            "_model_name": "LayoutModel",
            "justify_items": null,
            "grid_row": null,
            "max_height": null,
            "align_content": null,
            "visibility": null,
            "align_self": null,
            "height": null,
            "min_height": null,
            "padding": null,
            "grid_auto_rows": null,
            "grid_gap": null,
            "max_width": null,
            "order": null,
            "_view_module_version": "1.2.0",
            "grid_template_areas": null,
            "object_position": null,
            "object_fit": null,
            "grid_auto_columns": null,
            "margin": null,
            "display": null,
            "left": null
          }
        },
        "75b89fdd102347b4b0271bef52da93df": {
          "model_module": "@jupyter-widgets/controls",
          "model_name": "FloatProgressModel",
          "state": {
            "_view_name": "ProgressView",
            "style": "IPY_MODEL_82edcc0aad144b7f98b41c5ecb5f4137",
            "_dom_classes": [],
            "description": "",
            "_model_name": "FloatProgressModel",
            "bar_style": "success",
            "max": 9912422,
            "_view_module": "@jupyter-widgets/controls",
            "_model_module_version": "1.5.0",
            "value": 9912422,
            "_view_count": null,
            "_view_module_version": "1.5.0",
            "orientation": "horizontal",
            "min": 0,
            "description_tooltip": null,
            "_model_module": "@jupyter-widgets/controls",
            "layout": "IPY_MODEL_da811bb011754b2eb26eebf2f2680522"
          }
        },
        "3271af2c307e4eb39c2899d44447bbcf": {
          "model_module": "@jupyter-widgets/controls",
          "model_name": "HTMLModel",
          "state": {
            "_view_name": "HTMLView",
            "style": "IPY_MODEL_37b9fad3e5294959bb24cda3a64b8ce6",
            "_dom_classes": [],
            "description": "",
            "_model_name": "HTMLModel",
            "placeholder": "​",
            "_view_module": "@jupyter-widgets/controls",
            "_model_module_version": "1.5.0",
            "value": " 9913344/? [00:02&lt;00:00, 3748400.14it/s]",
            "_view_count": null,
            "_view_module_version": "1.5.0",
            "description_tooltip": null,
            "_model_module": "@jupyter-widgets/controls",
            "layout": "IPY_MODEL_a7daae3c754a4c319cfea99d983c3b28"
          }
        },
        "82edcc0aad144b7f98b41c5ecb5f4137": {
          "model_module": "@jupyter-widgets/controls",
          "model_name": "ProgressStyleModel",
          "state": {
            "_view_name": "StyleView",
            "_model_name": "ProgressStyleModel",
            "description_width": "initial",
            "_view_module": "@jupyter-widgets/base",
            "_model_module_version": "1.5.0",
            "_view_count": null,
            "_view_module_version": "1.2.0",
            "bar_color": null,
            "_model_module": "@jupyter-widgets/controls"
          }
        },
        "da811bb011754b2eb26eebf2f2680522": {
          "model_module": "@jupyter-widgets/base",
          "model_name": "LayoutModel",
          "state": {
            "_view_name": "LayoutView",
            "grid_template_rows": null,
            "right": null,
            "justify_content": null,
            "_view_module": "@jupyter-widgets/base",
            "overflow": null,
            "_model_module_version": "1.2.0",
            "_view_count": null,
            "flex_flow": null,
            "width": null,
            "min_width": null,
            "border": null,
            "align_items": null,
            "bottom": null,
            "_model_module": "@jupyter-widgets/base",
            "top": null,
            "grid_column": null,
            "overflow_y": null,
            "overflow_x": null,
            "grid_auto_flow": null,
            "grid_area": null,
            "grid_template_columns": null,
            "flex": null,
            "_model_name": "LayoutModel",
            "justify_items": null,
            "grid_row": null,
            "max_height": null,
            "align_content": null,
            "visibility": null,
            "align_self": null,
            "height": null,
            "min_height": null,
            "padding": null,
            "grid_auto_rows": null,
            "grid_gap": null,
            "max_width": null,
            "order": null,
            "_view_module_version": "1.2.0",
            "grid_template_areas": null,
            "object_position": null,
            "object_fit": null,
            "grid_auto_columns": null,
            "margin": null,
            "display": null,
            "left": null
          }
        },
        "37b9fad3e5294959bb24cda3a64b8ce6": {
          "model_module": "@jupyter-widgets/controls",
          "model_name": "DescriptionStyleModel",
          "state": {
            "_view_name": "StyleView",
            "_model_name": "DescriptionStyleModel",
            "description_width": "",
            "_view_module": "@jupyter-widgets/base",
            "_model_module_version": "1.5.0",
            "_view_count": null,
            "_view_module_version": "1.2.0",
            "_model_module": "@jupyter-widgets/controls"
          }
        },
        "a7daae3c754a4c319cfea99d983c3b28": {
          "model_module": "@jupyter-widgets/base",
          "model_name": "LayoutModel",
          "state": {
            "_view_name": "LayoutView",
            "grid_template_rows": null,
            "right": null,
            "justify_content": null,
            "_view_module": "@jupyter-widgets/base",
            "overflow": null,
            "_model_module_version": "1.2.0",
            "_view_count": null,
            "flex_flow": null,
            "width": null,
            "min_width": null,
            "border": null,
            "align_items": null,
            "bottom": null,
            "_model_module": "@jupyter-widgets/base",
            "top": null,
            "grid_column": null,
            "overflow_y": null,
            "overflow_x": null,
            "grid_auto_flow": null,
            "grid_area": null,
            "grid_template_columns": null,
            "flex": null,
            "_model_name": "LayoutModel",
            "justify_items": null,
            "grid_row": null,
            "max_height": null,
            "align_content": null,
            "visibility": null,
            "align_self": null,
            "height": null,
            "min_height": null,
            "padding": null,
            "grid_auto_rows": null,
            "grid_gap": null,
            "max_width": null,
            "order": null,
            "_view_module_version": "1.2.0",
            "grid_template_areas": null,
            "object_position": null,
            "object_fit": null,
            "grid_auto_columns": null,
            "margin": null,
            "display": null,
            "left": null
          }
        },
        "e1258d0062594bd6903f2523855bb844": {
          "model_module": "@jupyter-widgets/controls",
          "model_name": "HBoxModel",
          "state": {
            "_view_name": "HBoxView",
            "_dom_classes": [],
            "_model_name": "HBoxModel",
            "_view_module": "@jupyter-widgets/controls",
            "_model_module_version": "1.5.0",
            "_view_count": null,
            "_view_module_version": "1.5.0",
            "box_style": "",
            "layout": "IPY_MODEL_38b30747d14d4c3899d38f09494bfd19",
            "_model_module": "@jupyter-widgets/controls",
            "children": [
              "IPY_MODEL_12e768e219ad4b57a0c0a26264c93084",
              "IPY_MODEL_b9c466d11d9f49fa81a158fa5b22d9a5"
            ]
          }
        },
        "38b30747d14d4c3899d38f09494bfd19": {
          "model_module": "@jupyter-widgets/base",
          "model_name": "LayoutModel",
          "state": {
            "_view_name": "LayoutView",
            "grid_template_rows": null,
            "right": null,
            "justify_content": null,
            "_view_module": "@jupyter-widgets/base",
            "overflow": null,
            "_model_module_version": "1.2.0",
            "_view_count": null,
            "flex_flow": null,
            "width": null,
            "min_width": null,
            "border": null,
            "align_items": null,
            "bottom": null,
            "_model_module": "@jupyter-widgets/base",
            "top": null,
            "grid_column": null,
            "overflow_y": null,
            "overflow_x": null,
            "grid_auto_flow": null,
            "grid_area": null,
            "grid_template_columns": null,
            "flex": null,
            "_model_name": "LayoutModel",
            "justify_items": null,
            "grid_row": null,
            "max_height": null,
            "align_content": null,
            "visibility": null,
            "align_self": null,
            "height": null,
            "min_height": null,
            "padding": null,
            "grid_auto_rows": null,
            "grid_gap": null,
            "max_width": null,
            "order": null,
            "_view_module_version": "1.2.0",
            "grid_template_areas": null,
            "object_position": null,
            "object_fit": null,
            "grid_auto_columns": null,
            "margin": null,
            "display": null,
            "left": null
          }
        },
        "12e768e219ad4b57a0c0a26264c93084": {
          "model_module": "@jupyter-widgets/controls",
          "model_name": "FloatProgressModel",
          "state": {
            "_view_name": "ProgressView",
            "style": "IPY_MODEL_9535d8401d6141d1a93de656814c0a3b",
            "_dom_classes": [],
            "description": "",
            "_model_name": "FloatProgressModel",
            "bar_style": "success",
            "max": 28881,
            "_view_module": "@jupyter-widgets/controls",
            "_model_module_version": "1.5.0",
            "value": 28881,
            "_view_count": null,
            "_view_module_version": "1.5.0",
            "orientation": "horizontal",
            "min": 0,
            "description_tooltip": null,
            "_model_module": "@jupyter-widgets/controls",
            "layout": "IPY_MODEL_0dc061cb9e444139a2c93eeb9fef8c91"
          }
        },
        "b9c466d11d9f49fa81a158fa5b22d9a5": {
          "model_module": "@jupyter-widgets/controls",
          "model_name": "HTMLModel",
          "state": {
            "_view_name": "HTMLView",
            "style": "IPY_MODEL_ca15021159e244148afd124d5c9803e9",
            "_dom_classes": [],
            "description": "",
            "_model_name": "HTMLModel",
            "placeholder": "​",
            "_view_module": "@jupyter-widgets/controls",
            "_model_module_version": "1.5.0",
            "value": " 29696/? [00:00&lt;00:00, 34374.89it/s]",
            "_view_count": null,
            "_view_module_version": "1.5.0",
            "description_tooltip": null,
            "_model_module": "@jupyter-widgets/controls",
            "layout": "IPY_MODEL_6751e971fa1442c696d37dc23eea47a2"
          }
        },
        "9535d8401d6141d1a93de656814c0a3b": {
          "model_module": "@jupyter-widgets/controls",
          "model_name": "ProgressStyleModel",
          "state": {
            "_view_name": "StyleView",
            "_model_name": "ProgressStyleModel",
            "description_width": "initial",
            "_view_module": "@jupyter-widgets/base",
            "_model_module_version": "1.5.0",
            "_view_count": null,
            "_view_module_version": "1.2.0",
            "bar_color": null,
            "_model_module": "@jupyter-widgets/controls"
          }
        },
        "0dc061cb9e444139a2c93eeb9fef8c91": {
          "model_module": "@jupyter-widgets/base",
          "model_name": "LayoutModel",
          "state": {
            "_view_name": "LayoutView",
            "grid_template_rows": null,
            "right": null,
            "justify_content": null,
            "_view_module": "@jupyter-widgets/base",
            "overflow": null,
            "_model_module_version": "1.2.0",
            "_view_count": null,
            "flex_flow": null,
            "width": null,
            "min_width": null,
            "border": null,
            "align_items": null,
            "bottom": null,
            "_model_module": "@jupyter-widgets/base",
            "top": null,
            "grid_column": null,
            "overflow_y": null,
            "overflow_x": null,
            "grid_auto_flow": null,
            "grid_area": null,
            "grid_template_columns": null,
            "flex": null,
            "_model_name": "LayoutModel",
            "justify_items": null,
            "grid_row": null,
            "max_height": null,
            "align_content": null,
            "visibility": null,
            "align_self": null,
            "height": null,
            "min_height": null,
            "padding": null,
            "grid_auto_rows": null,
            "grid_gap": null,
            "max_width": null,
            "order": null,
            "_view_module_version": "1.2.0",
            "grid_template_areas": null,
            "object_position": null,
            "object_fit": null,
            "grid_auto_columns": null,
            "margin": null,
            "display": null,
            "left": null
          }
        },
        "ca15021159e244148afd124d5c9803e9": {
          "model_module": "@jupyter-widgets/controls",
          "model_name": "DescriptionStyleModel",
          "state": {
            "_view_name": "StyleView",
            "_model_name": "DescriptionStyleModel",
            "description_width": "",
            "_view_module": "@jupyter-widgets/base",
            "_model_module_version": "1.5.0",
            "_view_count": null,
            "_view_module_version": "1.2.0",
            "_model_module": "@jupyter-widgets/controls"
          }
        },
        "6751e971fa1442c696d37dc23eea47a2": {
          "model_module": "@jupyter-widgets/base",
          "model_name": "LayoutModel",
          "state": {
            "_view_name": "LayoutView",
            "grid_template_rows": null,
            "right": null,
            "justify_content": null,
            "_view_module": "@jupyter-widgets/base",
            "overflow": null,
            "_model_module_version": "1.2.0",
            "_view_count": null,
            "flex_flow": null,
            "width": null,
            "min_width": null,
            "border": null,
            "align_items": null,
            "bottom": null,
            "_model_module": "@jupyter-widgets/base",
            "top": null,
            "grid_column": null,
            "overflow_y": null,
            "overflow_x": null,
            "grid_auto_flow": null,
            "grid_area": null,
            "grid_template_columns": null,
            "flex": null,
            "_model_name": "LayoutModel",
            "justify_items": null,
            "grid_row": null,
            "max_height": null,
            "align_content": null,
            "visibility": null,
            "align_self": null,
            "height": null,
            "min_height": null,
            "padding": null,
            "grid_auto_rows": null,
            "grid_gap": null,
            "max_width": null,
            "order": null,
            "_view_module_version": "1.2.0",
            "grid_template_areas": null,
            "object_position": null,
            "object_fit": null,
            "grid_auto_columns": null,
            "margin": null,
            "display": null,
            "left": null
          }
        },
        "502bfe77c32347f3a967558422d0828c": {
          "model_module": "@jupyter-widgets/controls",
          "model_name": "HBoxModel",
          "state": {
            "_view_name": "HBoxView",
            "_dom_classes": [],
            "_model_name": "HBoxModel",
            "_view_module": "@jupyter-widgets/controls",
            "_model_module_version": "1.5.0",
            "_view_count": null,
            "_view_module_version": "1.5.0",
            "box_style": "",
            "layout": "IPY_MODEL_74a835c0266e483f930ed32f43172a70",
            "_model_module": "@jupyter-widgets/controls",
            "children": [
              "IPY_MODEL_54e958c256a04b578dcf6528705e997d",
              "IPY_MODEL_738a8ebbabe84860b0d7151a27774560"
            ]
          }
        },
        "74a835c0266e483f930ed32f43172a70": {
          "model_module": "@jupyter-widgets/base",
          "model_name": "LayoutModel",
          "state": {
            "_view_name": "LayoutView",
            "grid_template_rows": null,
            "right": null,
            "justify_content": null,
            "_view_module": "@jupyter-widgets/base",
            "overflow": null,
            "_model_module_version": "1.2.0",
            "_view_count": null,
            "flex_flow": null,
            "width": null,
            "min_width": null,
            "border": null,
            "align_items": null,
            "bottom": null,
            "_model_module": "@jupyter-widgets/base",
            "top": null,
            "grid_column": null,
            "overflow_y": null,
            "overflow_x": null,
            "grid_auto_flow": null,
            "grid_area": null,
            "grid_template_columns": null,
            "flex": null,
            "_model_name": "LayoutModel",
            "justify_items": null,
            "grid_row": null,
            "max_height": null,
            "align_content": null,
            "visibility": null,
            "align_self": null,
            "height": null,
            "min_height": null,
            "padding": null,
            "grid_auto_rows": null,
            "grid_gap": null,
            "max_width": null,
            "order": null,
            "_view_module_version": "1.2.0",
            "grid_template_areas": null,
            "object_position": null,
            "object_fit": null,
            "grid_auto_columns": null,
            "margin": null,
            "display": null,
            "left": null
          }
        },
        "54e958c256a04b578dcf6528705e997d": {
          "model_module": "@jupyter-widgets/controls",
          "model_name": "FloatProgressModel",
          "state": {
            "_view_name": "ProgressView",
            "style": "IPY_MODEL_d1d074553c6e4590a64f2b3af76133f9",
            "_dom_classes": [],
            "description": "",
            "_model_name": "FloatProgressModel",
            "bar_style": "success",
            "max": 1648877,
            "_view_module": "@jupyter-widgets/controls",
            "_model_module_version": "1.5.0",
            "value": 1648877,
            "_view_count": null,
            "_view_module_version": "1.5.0",
            "orientation": "horizontal",
            "min": 0,
            "description_tooltip": null,
            "_model_module": "@jupyter-widgets/controls",
            "layout": "IPY_MODEL_e2eac48297274e988f728eb8a679a837"
          }
        },
        "738a8ebbabe84860b0d7151a27774560": {
          "model_module": "@jupyter-widgets/controls",
          "model_name": "HTMLModel",
          "state": {
            "_view_name": "HTMLView",
            "style": "IPY_MODEL_a5ec551355374114bc9c120e3b2dc3c8",
            "_dom_classes": [],
            "description": "",
            "_model_name": "HTMLModel",
            "placeholder": "​",
            "_view_module": "@jupyter-widgets/controls",
            "_model_module_version": "1.5.0",
            "value": " 1649664/? [00:01&lt;00:00, 832750.70it/s]",
            "_view_count": null,
            "_view_module_version": "1.5.0",
            "description_tooltip": null,
            "_model_module": "@jupyter-widgets/controls",
            "layout": "IPY_MODEL_2e9d72b69bdd4149b93f1e7006906e8f"
          }
        },
        "d1d074553c6e4590a64f2b3af76133f9": {
          "model_module": "@jupyter-widgets/controls",
          "model_name": "ProgressStyleModel",
          "state": {
            "_view_name": "StyleView",
            "_model_name": "ProgressStyleModel",
            "description_width": "initial",
            "_view_module": "@jupyter-widgets/base",
            "_model_module_version": "1.5.0",
            "_view_count": null,
            "_view_module_version": "1.2.0",
            "bar_color": null,
            "_model_module": "@jupyter-widgets/controls"
          }
        },
        "e2eac48297274e988f728eb8a679a837": {
          "model_module": "@jupyter-widgets/base",
          "model_name": "LayoutModel",
          "state": {
            "_view_name": "LayoutView",
            "grid_template_rows": null,
            "right": null,
            "justify_content": null,
            "_view_module": "@jupyter-widgets/base",
            "overflow": null,
            "_model_module_version": "1.2.0",
            "_view_count": null,
            "flex_flow": null,
            "width": null,
            "min_width": null,
            "border": null,
            "align_items": null,
            "bottom": null,
            "_model_module": "@jupyter-widgets/base",
            "top": null,
            "grid_column": null,
            "overflow_y": null,
            "overflow_x": null,
            "grid_auto_flow": null,
            "grid_area": null,
            "grid_template_columns": null,
            "flex": null,
            "_model_name": "LayoutModel",
            "justify_items": null,
            "grid_row": null,
            "max_height": null,
            "align_content": null,
            "visibility": null,
            "align_self": null,
            "height": null,
            "min_height": null,
            "padding": null,
            "grid_auto_rows": null,
            "grid_gap": null,
            "max_width": null,
            "order": null,
            "_view_module_version": "1.2.0",
            "grid_template_areas": null,
            "object_position": null,
            "object_fit": null,
            "grid_auto_columns": null,
            "margin": null,
            "display": null,
            "left": null
          }
        },
        "a5ec551355374114bc9c120e3b2dc3c8": {
          "model_module": "@jupyter-widgets/controls",
          "model_name": "DescriptionStyleModel",
          "state": {
            "_view_name": "StyleView",
            "_model_name": "DescriptionStyleModel",
            "description_width": "",
            "_view_module": "@jupyter-widgets/base",
            "_model_module_version": "1.5.0",
            "_view_count": null,
            "_view_module_version": "1.2.0",
            "_model_module": "@jupyter-widgets/controls"
          }
        },
        "2e9d72b69bdd4149b93f1e7006906e8f": {
          "model_module": "@jupyter-widgets/base",
          "model_name": "LayoutModel",
          "state": {
            "_view_name": "LayoutView",
            "grid_template_rows": null,
            "right": null,
            "justify_content": null,
            "_view_module": "@jupyter-widgets/base",
            "overflow": null,
            "_model_module_version": "1.2.0",
            "_view_count": null,
            "flex_flow": null,
            "width": null,
            "min_width": null,
            "border": null,
            "align_items": null,
            "bottom": null,
            "_model_module": "@jupyter-widgets/base",
            "top": null,
            "grid_column": null,
            "overflow_y": null,
            "overflow_x": null,
            "grid_auto_flow": null,
            "grid_area": null,
            "grid_template_columns": null,
            "flex": null,
            "_model_name": "LayoutModel",
            "justify_items": null,
            "grid_row": null,
            "max_height": null,
            "align_content": null,
            "visibility": null,
            "align_self": null,
            "height": null,
            "min_height": null,
            "padding": null,
            "grid_auto_rows": null,
            "grid_gap": null,
            "max_width": null,
            "order": null,
            "_view_module_version": "1.2.0",
            "grid_template_areas": null,
            "object_position": null,
            "object_fit": null,
            "grid_auto_columns": null,
            "margin": null,
            "display": null,
            "left": null
          }
        },
        "db3ae823f39a42728bc30e89e99281cf": {
          "model_module": "@jupyter-widgets/controls",
          "model_name": "HBoxModel",
          "state": {
            "_view_name": "HBoxView",
            "_dom_classes": [],
            "_model_name": "HBoxModel",
            "_view_module": "@jupyter-widgets/controls",
            "_model_module_version": "1.5.0",
            "_view_count": null,
            "_view_module_version": "1.5.0",
            "box_style": "",
            "layout": "IPY_MODEL_62e481fe4b384d16a55ac1a2950bf213",
            "_model_module": "@jupyter-widgets/controls",
            "children": [
              "IPY_MODEL_98d24d25f76b4ef1a66dc7d24c8962e9",
              "IPY_MODEL_fccffc1df3bf4a6cb2b6a44695a8a862"
            ]
          }
        },
        "62e481fe4b384d16a55ac1a2950bf213": {
          "model_module": "@jupyter-widgets/base",
          "model_name": "LayoutModel",
          "state": {
            "_view_name": "LayoutView",
            "grid_template_rows": null,
            "right": null,
            "justify_content": null,
            "_view_module": "@jupyter-widgets/base",
            "overflow": null,
            "_model_module_version": "1.2.0",
            "_view_count": null,
            "flex_flow": null,
            "width": null,
            "min_width": null,
            "border": null,
            "align_items": null,
            "bottom": null,
            "_model_module": "@jupyter-widgets/base",
            "top": null,
            "grid_column": null,
            "overflow_y": null,
            "overflow_x": null,
            "grid_auto_flow": null,
            "grid_area": null,
            "grid_template_columns": null,
            "flex": null,
            "_model_name": "LayoutModel",
            "justify_items": null,
            "grid_row": null,
            "max_height": null,
            "align_content": null,
            "visibility": null,
            "align_self": null,
            "height": null,
            "min_height": null,
            "padding": null,
            "grid_auto_rows": null,
            "grid_gap": null,
            "max_width": null,
            "order": null,
            "_view_module_version": "1.2.0",
            "grid_template_areas": null,
            "object_position": null,
            "object_fit": null,
            "grid_auto_columns": null,
            "margin": null,
            "display": null,
            "left": null
          }
        },
        "98d24d25f76b4ef1a66dc7d24c8962e9": {
          "model_module": "@jupyter-widgets/controls",
          "model_name": "FloatProgressModel",
          "state": {
            "_view_name": "ProgressView",
            "style": "IPY_MODEL_4f60de56f7164926a94838d59fe2cd35",
            "_dom_classes": [],
            "description": "",
            "_model_name": "FloatProgressModel",
            "bar_style": "success",
            "max": 4542,
            "_view_module": "@jupyter-widgets/controls",
            "_model_module_version": "1.5.0",
            "value": 4542,
            "_view_count": null,
            "_view_module_version": "1.5.0",
            "orientation": "horizontal",
            "min": 0,
            "description_tooltip": null,
            "_model_module": "@jupyter-widgets/controls",
            "layout": "IPY_MODEL_e15e9b67a60241979924fb8d5d342311"
          }
        },
        "fccffc1df3bf4a6cb2b6a44695a8a862": {
          "model_module": "@jupyter-widgets/controls",
          "model_name": "HTMLModel",
          "state": {
            "_view_name": "HTMLView",
            "style": "IPY_MODEL_f850ca63dfe34a6ca7dffd8fb5479804",
            "_dom_classes": [],
            "description": "",
            "_model_name": "HTMLModel",
            "placeholder": "​",
            "_view_module": "@jupyter-widgets/controls",
            "_model_module_version": "1.5.0",
            "value": " 5120/? [00:00&lt;00:00, 26041.66it/s]",
            "_view_count": null,
            "_view_module_version": "1.5.0",
            "description_tooltip": null,
            "_model_module": "@jupyter-widgets/controls",
            "layout": "IPY_MODEL_f64f552b4a6a498085645656f0886012"
          }
        },
        "4f60de56f7164926a94838d59fe2cd35": {
          "model_module": "@jupyter-widgets/controls",
          "model_name": "ProgressStyleModel",
          "state": {
            "_view_name": "StyleView",
            "_model_name": "ProgressStyleModel",
            "description_width": "initial",
            "_view_module": "@jupyter-widgets/base",
            "_model_module_version": "1.5.0",
            "_view_count": null,
            "_view_module_version": "1.2.0",
            "bar_color": null,
            "_model_module": "@jupyter-widgets/controls"
          }
        },
        "e15e9b67a60241979924fb8d5d342311": {
          "model_module": "@jupyter-widgets/base",
          "model_name": "LayoutModel",
          "state": {
            "_view_name": "LayoutView",
            "grid_template_rows": null,
            "right": null,
            "justify_content": null,
            "_view_module": "@jupyter-widgets/base",
            "overflow": null,
            "_model_module_version": "1.2.0",
            "_view_count": null,
            "flex_flow": null,
            "width": null,
            "min_width": null,
            "border": null,
            "align_items": null,
            "bottom": null,
            "_model_module": "@jupyter-widgets/base",
            "top": null,
            "grid_column": null,
            "overflow_y": null,
            "overflow_x": null,
            "grid_auto_flow": null,
            "grid_area": null,
            "grid_template_columns": null,
            "flex": null,
            "_model_name": "LayoutModel",
            "justify_items": null,
            "grid_row": null,
            "max_height": null,
            "align_content": null,
            "visibility": null,
            "align_self": null,
            "height": null,
            "min_height": null,
            "padding": null,
            "grid_auto_rows": null,
            "grid_gap": null,
            "max_width": null,
            "order": null,
            "_view_module_version": "1.2.0",
            "grid_template_areas": null,
            "object_position": null,
            "object_fit": null,
            "grid_auto_columns": null,
            "margin": null,
            "display": null,
            "left": null
          }
        },
        "f850ca63dfe34a6ca7dffd8fb5479804": {
          "model_module": "@jupyter-widgets/controls",
          "model_name": "DescriptionStyleModel",
          "state": {
            "_view_name": "StyleView",
            "_model_name": "DescriptionStyleModel",
            "description_width": "",
            "_view_module": "@jupyter-widgets/base",
            "_model_module_version": "1.5.0",
            "_view_count": null,
            "_view_module_version": "1.2.0",
            "_model_module": "@jupyter-widgets/controls"
          }
        },
        "f64f552b4a6a498085645656f0886012": {
          "model_module": "@jupyter-widgets/base",
          "model_name": "LayoutModel",
          "state": {
            "_view_name": "LayoutView",
            "grid_template_rows": null,
            "right": null,
            "justify_content": null,
            "_view_module": "@jupyter-widgets/base",
            "overflow": null,
            "_model_module_version": "1.2.0",
            "_view_count": null,
            "flex_flow": null,
            "width": null,
            "min_width": null,
            "border": null,
            "align_items": null,
            "bottom": null,
            "_model_module": "@jupyter-widgets/base",
            "top": null,
            "grid_column": null,
            "overflow_y": null,
            "overflow_x": null,
            "grid_auto_flow": null,
            "grid_area": null,
            "grid_template_columns": null,
            "flex": null,
            "_model_name": "LayoutModel",
            "justify_items": null,
            "grid_row": null,
            "max_height": null,
            "align_content": null,
            "visibility": null,
            "align_self": null,
            "height": null,
            "min_height": null,
            "padding": null,
            "grid_auto_rows": null,
            "grid_gap": null,
            "max_width": null,
            "order": null,
            "_view_module_version": "1.2.0",
            "grid_template_areas": null,
            "object_position": null,
            "object_fit": null,
            "grid_auto_columns": null,
            "margin": null,
            "display": null,
            "left": null
          }
        }
      }
    }
  },
  "cells": [
    {
      "cell_type": "markdown",
      "metadata": {
        "id": "Oi_RpkTGtADR"
      },
      "source": [
        "#**Deep Learning and Computer Vision - Mini Project**"
      ]
    },
    {
      "cell_type": "markdown",
      "metadata": {
        "id": "4kahfS5PtABQ"
      },
      "source": [
        "**NAME** - Ganesh Kumaran Masilamani\n",
        "\n",
        "**STUDENT NUMBER** - 200434339\n",
        "\n",
        "**PROJECT TITLE** - Deep Neural Networks for Image Classification"
      ]
    },
    {
      "cell_type": "markdown",
      "metadata": {
        "id": "8znYao0Hs__G"
      },
      "source": [
        "###**In this Notebook we will be using GoogleNet Architecture as our deep Network to do image classification in MNIST dataset.**\n",
        "\n",
        "#**DEEP NETWORK MODEL-3 --> GOOGLENET**"
      ]
    },
    {
      "cell_type": "code",
      "metadata": {
        "id": "fMcruYVWuPXa",
        "colab": {
          "base_uri": "https://localhost:8080/"
        },
        "outputId": "e4c46202-5998-44d1-ab2d-8db17b60f2cc"
      },
      "source": [
        "#Libraries Imported\n",
        "import time\n",
        "import os\n",
        "import numpy as np\n",
        "import torch\n",
        "import torch.nn as nn\n",
        "import torch.optim as optim\n",
        "import torch.nn.functional as F\n",
        "from torchvision.utils import make_grid\n",
        "import torchvision\n",
        "from torchvision import datasets\n",
        "from torchvision import transforms\n",
        "import matplotlib.pyplot as plt\n",
        "import seaborn as sns\n",
        "sns.set_style('darkgrid')\n",
        "import pickle\n",
        "%pip install torchviz\n",
        "from sklearn.metrics import confusion_matrix\n",
        "from sklearn.metrics import ConfusionMatrixDisplay\n",
        "from torchviz import make_dot\n",
        "from datetime import datetime\n",
        "Date_time = datetime.now()\n",
        "date = Date_time.strftime(\"%d/%m/%Y\")\n",
        "Time = Date_time.strftime(\"%H:%M:%S\")"
      ],
      "execution_count": null,
      "outputs": [
        {
          "output_type": "stream",
          "text": [
            "Collecting torchviz\n",
            "  Downloading https://files.pythonhosted.org/packages/79/e7/643808913211d6c1fc96a3a4333bf4c9276858fab00bcafaf98ea58a97be/torchviz-0.0.2.tar.gz\n",
            "Requirement already satisfied: torch in /usr/local/lib/python3.7/dist-packages (from torchviz) (1.8.1+cu101)\n",
            "Requirement already satisfied: graphviz in /usr/local/lib/python3.7/dist-packages (from torchviz) (0.10.1)\n",
            "Requirement already satisfied: typing-extensions in /usr/local/lib/python3.7/dist-packages (from torch->torchviz) (3.7.4.3)\n",
            "Requirement already satisfied: numpy in /usr/local/lib/python3.7/dist-packages (from torch->torchviz) (1.19.5)\n",
            "Building wheels for collected packages: torchviz\n",
            "  Building wheel for torchviz (setup.py) ... \u001b[?25l\u001b[?25hdone\n",
            "  Created wheel for torchviz: filename=torchviz-0.0.2-cp37-none-any.whl size=4152 sha256=d07e05fe72093a0d5e5a32272cca6eafa014bed64ba666ddfcb1c011abb58fcb\n",
            "  Stored in directory: /root/.cache/pip/wheels/01/26/58/026ffd533dbe8b3972eb423da9c7949beca68d1c98ed9e8624\n",
            "Successfully built torchviz\n",
            "Installing collected packages: torchviz\n",
            "Successfully installed torchviz-0.0.2\n"
          ],
          "name": "stdout"
        }
      ]
    },
    {
      "cell_type": "markdown",
      "metadata": {
        "id": "JYKDarL2I6vB"
      },
      "source": [
        "##**Loading the MNIST Dataset**"
      ]
    },
    {
      "cell_type": "code",
      "metadata": {
        "id": "wSWJZvrsmDKD",
        "colab": {
          "base_uri": "https://localhost:8080/",
          "height": 1000,
          "referenced_widgets": [
            "da47a24337614c95b201dca23cd10042",
            "09b567ac36fd434f98b5e4c2fc89c855",
            "9373f9040c394fe1b4aeb25b12bc21bc",
            "dce3fe27cba348f2bcb42c6e7c27ff08",
            "cbf1c8f6249d44efb1203909b6f370d7",
            "d28e1f7a23a24e19badce94a90c6e761",
            "9acfd43da8f04a64a5a23f6110dc6151",
            "64e67ce490304bb6884477b5e549e6e4",
            "ce943347be994b939271dfe464f6b72e",
            "20ac26fa6fbb4143ba65f050b62bddd8",
            "5c9f66c1ed9640cf889053b9c98a16b2",
            "01409a92aeb742dcae2ef44256899d67",
            "cf30ba2fc68e4929bccbd5cdb51474c8",
            "a917384e78644fd0bd64ee7ef4e21434",
            "af3785a8f7384913bcd8eba3412cf2cb",
            "a1a772eb88f24fd09e1c5f243265d75f",
            "cecd727ed3214844b5c700a052b8c568",
            "01dff85494f544e1a1a51f434c0f0054",
            "8007a801460f43abbc79245e8a594779",
            "27bc5720f83f41249509e4fd0460a478",
            "e13758af0e2a4a5595b76741c946b132",
            "f161e12326454fe084dd652e6e8310d9",
            "88841040e64e43928f9c9d4e49c02453",
            "d64093b0dbda432f9c8591409d55e50d",
            "272bd1891ee84682b6bd1a873bd34a2f",
            "d0dc9565708b42f39f6eecbccd00aa2d",
            "3b3bb969bf3a4e06a1b745e8274c53af",
            "97659c837b214aec8b5603a9eaead4c6",
            "812d3789b611402cbd1d03f5ff0be150",
            "c9588a0bfa0e43739ee3c1a80b34f050",
            "82627ce477844a8cb8207243b4717a15",
            "c770f108706d42aca0b59d22329b57f6",
            "08d2068822eb4fb5897728b2fb6dd41f",
            "38a60fa9745a47db8838bd2d63c89996",
            "75b89fdd102347b4b0271bef52da93df",
            "3271af2c307e4eb39c2899d44447bbcf",
            "82edcc0aad144b7f98b41c5ecb5f4137",
            "da811bb011754b2eb26eebf2f2680522",
            "37b9fad3e5294959bb24cda3a64b8ce6",
            "a7daae3c754a4c319cfea99d983c3b28",
            "e1258d0062594bd6903f2523855bb844",
            "38b30747d14d4c3899d38f09494bfd19",
            "12e768e219ad4b57a0c0a26264c93084",
            "b9c466d11d9f49fa81a158fa5b22d9a5",
            "9535d8401d6141d1a93de656814c0a3b",
            "0dc061cb9e444139a2c93eeb9fef8c91",
            "ca15021159e244148afd124d5c9803e9",
            "6751e971fa1442c696d37dc23eea47a2",
            "502bfe77c32347f3a967558422d0828c",
            "74a835c0266e483f930ed32f43172a70",
            "54e958c256a04b578dcf6528705e997d",
            "738a8ebbabe84860b0d7151a27774560",
            "d1d074553c6e4590a64f2b3af76133f9",
            "e2eac48297274e988f728eb8a679a837",
            "a5ec551355374114bc9c120e3b2dc3c8",
            "2e9d72b69bdd4149b93f1e7006906e8f",
            "db3ae823f39a42728bc30e89e99281cf",
            "62e481fe4b384d16a55ac1a2950bf213",
            "98d24d25f76b4ef1a66dc7d24c8962e9",
            "fccffc1df3bf4a6cb2b6a44695a8a862",
            "4f60de56f7164926a94838d59fe2cd35",
            "e15e9b67a60241979924fb8d5d342311",
            "f850ca63dfe34a6ca7dffd8fb5479804",
            "f64f552b4a6a498085645656f0886012"
          ]
        },
        "outputId": "64f7eb51-b767-4044-bee4-b0a429010da3"
      },
      "source": [
        "#Downloading and Loading the MNIST dataset \n",
        "def Load_mnist_data(batch_size, resize=None, root=os.path.join('MNIST_DATASET')):\n",
        "    final_root = os.path.expanduser(root)\n",
        "    Convolutional_Transformer = []\n",
        "\n",
        "    #resizing the dataset to fit the Network architecture\n",
        "    if resize:\n",
        "        Convolutional_Transformer += [transforms.Resize(resize)]\n",
        "    Convolutional_Transformer += [transforms.ToTensor()]\n",
        "    Convolutional_Transformer = transforms.Compose(Convolutional_Transformer)\n",
        "\n",
        "    #Downloading the MNIST dataset\n",
        "    MNIST_traindata = torchvision.datasets.MNIST(root=final_root, train=True, transform=Convolutional_Transformer, download=True)\n",
        "    MNIST_testdata = torchvision.datasets.MNIST(root=final_root, train=False, transform=Convolutional_Transformer, download=True)\n",
        "\n",
        "    #loading the dataset and assign it to a variable\n",
        "    Load_MNIST_traindata =torch.utils.data.DataLoader(MNIST_traindata, batch_size, shuffle=True)\n",
        "    Load_MNIST_testdata =torch.utils.data.DataLoader(MNIST_testdata, batch_size, shuffle=False)\n",
        "    return Load_MNIST_traindata, Load_MNIST_testdata\n",
        "\n",
        "Convolutional_Transformer = transforms.Compose([transforms.Resize((32,32)), transforms.RandomHorizontalFlip(), transforms.ToTensor()])\n",
        "MNIST_testdata = torchvision.datasets.MNIST(root='Mnist', train=False, transform=Convolutional_Transformer, download=True)\n",
        "\n",
        "#load the function of the MNIST dataset to the train and test variable loader\n",
        "Traindata_Loader, Testdata_Loader = Load_mnist_data(batch_size=32, resize=96, root=os.path.join('MNIST_DATASET'))"
      ],
      "execution_count": null,
      "outputs": [
        {
          "output_type": "stream",
          "text": [
            "Downloading http://yann.lecun.com/exdb/mnist/train-images-idx3-ubyte.gz\n",
            "Failed to download (trying next):\n",
            "HTTP Error 503: Service Unavailable\n",
            "\n",
            "Downloading https://ossci-datasets.s3.amazonaws.com/mnist/train-images-idx3-ubyte.gz\n",
            "Downloading https://ossci-datasets.s3.amazonaws.com/mnist/train-images-idx3-ubyte.gz to Mnist/MNIST/raw/train-images-idx3-ubyte.gz\n"
          ],
          "name": "stdout"
        },
        {
          "output_type": "display_data",
          "data": {
            "application/vnd.jupyter.widget-view+json": {
              "model_id": "da47a24337614c95b201dca23cd10042",
              "version_minor": 0,
              "version_major": 2
            },
            "text/plain": [
              "HBox(children=(FloatProgress(value=0.0, max=9912422.0), HTML(value='')))"
            ]
          },
          "metadata": {
            "tags": []
          }
        },
        {
          "output_type": "stream",
          "text": [
            "\n",
            "Extracting Mnist/MNIST/raw/train-images-idx3-ubyte.gz to Mnist/MNIST/raw\n",
            "\n",
            "Downloading http://yann.lecun.com/exdb/mnist/train-labels-idx1-ubyte.gz\n",
            "Failed to download (trying next):\n",
            "HTTP Error 503: Service Unavailable\n",
            "\n",
            "Downloading https://ossci-datasets.s3.amazonaws.com/mnist/train-labels-idx1-ubyte.gz\n",
            "Downloading https://ossci-datasets.s3.amazonaws.com/mnist/train-labels-idx1-ubyte.gz to Mnist/MNIST/raw/train-labels-idx1-ubyte.gz\n"
          ],
          "name": "stdout"
        },
        {
          "output_type": "display_data",
          "data": {
            "application/vnd.jupyter.widget-view+json": {
              "model_id": "ce943347be994b939271dfe464f6b72e",
              "version_minor": 0,
              "version_major": 2
            },
            "text/plain": [
              "HBox(children=(FloatProgress(value=0.0, max=28881.0), HTML(value='')))"
            ]
          },
          "metadata": {
            "tags": []
          }
        },
        {
          "output_type": "stream",
          "text": [
            "\n",
            "Extracting Mnist/MNIST/raw/train-labels-idx1-ubyte.gz to Mnist/MNIST/raw\n",
            "\n",
            "Downloading http://yann.lecun.com/exdb/mnist/t10k-images-idx3-ubyte.gz\n",
            "Failed to download (trying next):\n",
            "HTTP Error 503: Service Unavailable\n",
            "\n",
            "Downloading https://ossci-datasets.s3.amazonaws.com/mnist/t10k-images-idx3-ubyte.gz\n",
            "Downloading https://ossci-datasets.s3.amazonaws.com/mnist/t10k-images-idx3-ubyte.gz to Mnist/MNIST/raw/t10k-images-idx3-ubyte.gz\n"
          ],
          "name": "stdout"
        },
        {
          "output_type": "display_data",
          "data": {
            "application/vnd.jupyter.widget-view+json": {
              "model_id": "cecd727ed3214844b5c700a052b8c568",
              "version_minor": 0,
              "version_major": 2
            },
            "text/plain": [
              "HBox(children=(FloatProgress(value=0.0, max=1648877.0), HTML(value='')))"
            ]
          },
          "metadata": {
            "tags": []
          }
        },
        {
          "output_type": "stream",
          "text": [
            "\n",
            "Extracting Mnist/MNIST/raw/t10k-images-idx3-ubyte.gz to Mnist/MNIST/raw\n",
            "\n",
            "Downloading http://yann.lecun.com/exdb/mnist/t10k-labels-idx1-ubyte.gz\n",
            "Failed to download (trying next):\n",
            "HTTP Error 503: Service Unavailable\n",
            "\n",
            "Downloading https://ossci-datasets.s3.amazonaws.com/mnist/t10k-labels-idx1-ubyte.gz\n",
            "Downloading https://ossci-datasets.s3.amazonaws.com/mnist/t10k-labels-idx1-ubyte.gz to Mnist/MNIST/raw/t10k-labels-idx1-ubyte.gz\n"
          ],
          "name": "stdout"
        },
        {
          "output_type": "display_data",
          "data": {
            "application/vnd.jupyter.widget-view+json": {
              "model_id": "272bd1891ee84682b6bd1a873bd34a2f",
              "version_minor": 0,
              "version_major": 2
            },
            "text/plain": [
              "HBox(children=(FloatProgress(value=0.0, max=4542.0), HTML(value='')))"
            ]
          },
          "metadata": {
            "tags": []
          }
        },
        {
          "output_type": "stream",
          "text": [
            "\n",
            "Extracting Mnist/MNIST/raw/t10k-labels-idx1-ubyte.gz to Mnist/MNIST/raw\n",
            "\n",
            "Processing...\n",
            "Done!\n",
            "Downloading http://yann.lecun.com/exdb/mnist/train-images-idx3-ubyte.gz\n"
          ],
          "name": "stdout"
        },
        {
          "output_type": "stream",
          "text": [
            "/usr/local/lib/python3.7/dist-packages/torchvision/datasets/mnist.py:502: UserWarning: The given NumPy array is not writeable, and PyTorch does not support non-writeable tensors. This means you can write to the underlying (supposedly non-writeable) NumPy array using the tensor. You may want to copy the array to protect its data or make it writeable before converting it to a tensor. This type of warning will be suppressed for the rest of this program. (Triggered internally at  /pytorch/torch/csrc/utils/tensor_numpy.cpp:143.)\n",
            "  return torch.from_numpy(parsed.astype(m[2], copy=False)).view(*s)\n"
          ],
          "name": "stderr"
        },
        {
          "output_type": "stream",
          "text": [
            "Failed to download (trying next):\n",
            "HTTP Error 503: Service Unavailable\n",
            "\n",
            "Downloading https://ossci-datasets.s3.amazonaws.com/mnist/train-images-idx3-ubyte.gz\n",
            "Downloading https://ossci-datasets.s3.amazonaws.com/mnist/train-images-idx3-ubyte.gz to MNIST_DATASET/MNIST/raw/train-images-idx3-ubyte.gz\n"
          ],
          "name": "stdout"
        },
        {
          "output_type": "display_data",
          "data": {
            "application/vnd.jupyter.widget-view+json": {
              "model_id": "08d2068822eb4fb5897728b2fb6dd41f",
              "version_minor": 0,
              "version_major": 2
            },
            "text/plain": [
              "HBox(children=(FloatProgress(value=0.0, max=9912422.0), HTML(value='')))"
            ]
          },
          "metadata": {
            "tags": []
          }
        },
        {
          "output_type": "stream",
          "text": [
            "\n",
            "Extracting MNIST_DATASET/MNIST/raw/train-images-idx3-ubyte.gz to MNIST_DATASET/MNIST/raw\n",
            "\n",
            "Downloading http://yann.lecun.com/exdb/mnist/train-labels-idx1-ubyte.gz\n",
            "Failed to download (trying next):\n",
            "HTTP Error 503: Service Unavailable\n",
            "\n",
            "Downloading https://ossci-datasets.s3.amazonaws.com/mnist/train-labels-idx1-ubyte.gz\n",
            "Downloading https://ossci-datasets.s3.amazonaws.com/mnist/train-labels-idx1-ubyte.gz to MNIST_DATASET/MNIST/raw/train-labels-idx1-ubyte.gz\n"
          ],
          "name": "stdout"
        },
        {
          "output_type": "display_data",
          "data": {
            "application/vnd.jupyter.widget-view+json": {
              "model_id": "e1258d0062594bd6903f2523855bb844",
              "version_minor": 0,
              "version_major": 2
            },
            "text/plain": [
              "HBox(children=(FloatProgress(value=0.0, max=28881.0), HTML(value='')))"
            ]
          },
          "metadata": {
            "tags": []
          }
        },
        {
          "output_type": "stream",
          "text": [
            "\n",
            "Extracting MNIST_DATASET/MNIST/raw/train-labels-idx1-ubyte.gz to MNIST_DATASET/MNIST/raw\n",
            "\n",
            "Downloading http://yann.lecun.com/exdb/mnist/t10k-images-idx3-ubyte.gz\n",
            "Failed to download (trying next):\n",
            "HTTP Error 503: Service Unavailable\n",
            "\n",
            "Downloading https://ossci-datasets.s3.amazonaws.com/mnist/t10k-images-idx3-ubyte.gz\n",
            "Downloading https://ossci-datasets.s3.amazonaws.com/mnist/t10k-images-idx3-ubyte.gz to MNIST_DATASET/MNIST/raw/t10k-images-idx3-ubyte.gz\n"
          ],
          "name": "stdout"
        },
        {
          "output_type": "display_data",
          "data": {
            "application/vnd.jupyter.widget-view+json": {
              "model_id": "502bfe77c32347f3a967558422d0828c",
              "version_minor": 0,
              "version_major": 2
            },
            "text/plain": [
              "HBox(children=(FloatProgress(value=0.0, max=1648877.0), HTML(value='')))"
            ]
          },
          "metadata": {
            "tags": []
          }
        },
        {
          "output_type": "stream",
          "text": [
            "\n",
            "Extracting MNIST_DATASET/MNIST/raw/t10k-images-idx3-ubyte.gz to MNIST_DATASET/MNIST/raw\n",
            "\n",
            "Downloading http://yann.lecun.com/exdb/mnist/t10k-labels-idx1-ubyte.gz\n",
            "Failed to download (trying next):\n",
            "HTTP Error 503: Service Unavailable\n",
            "\n",
            "Downloading https://ossci-datasets.s3.amazonaws.com/mnist/t10k-labels-idx1-ubyte.gz\n",
            "Downloading https://ossci-datasets.s3.amazonaws.com/mnist/t10k-labels-idx1-ubyte.gz to MNIST_DATASET/MNIST/raw/t10k-labels-idx1-ubyte.gz\n"
          ],
          "name": "stdout"
        },
        {
          "output_type": "display_data",
          "data": {
            "application/vnd.jupyter.widget-view+json": {
              "model_id": "db3ae823f39a42728bc30e89e99281cf",
              "version_minor": 0,
              "version_major": 2
            },
            "text/plain": [
              "HBox(children=(FloatProgress(value=0.0, max=4542.0), HTML(value='')))"
            ]
          },
          "metadata": {
            "tags": []
          }
        },
        {
          "output_type": "stream",
          "text": [
            "\n",
            "Extracting MNIST_DATASET/MNIST/raw/t10k-labels-idx1-ubyte.gz to MNIST_DATASET/MNIST/raw\n",
            "\n",
            "Processing...\n",
            "Done!\n"
          ],
          "name": "stdout"
        }
      ]
    },
    {
      "cell_type": "markdown",
      "metadata": {
        "id": "VUH5nf7eJe_U"
      },
      "source": [
        "##**Developing GoogleNet Architecture**"
      ]
    },
    {
      "cell_type": "code",
      "metadata": {
        "id": "8tfYLHD-gvRI",
        "colab": {
          "base_uri": "https://localhost:8080/"
        },
        "outputId": "7425544e-7567-4742-8399-20056ecfc4b8"
      },
      "source": [
        "#########################################################GOOGLENET ARCHITECTURE####################################################################\n",
        "#Firstly, we are initialising the Inception layer\n",
        "#Inception1,2,3,4 are the output channels in each of the layer\n",
        "class Inception(torch.nn.Module):\n",
        "    def __init__(self, Channel_In, inception1, inception2, inception3, inception4):\n",
        "        super(Inception, self).__init__()\n",
        "        #Inception layer1 has the single 1x1 kernel size convolutional layer\n",
        "        self.Root1a = torch.nn.Conv2d(Channel_In, inception1, kernel_size=1)\n",
        "        #Inception layer2 has the 1x1 kernel size convolutional layer and a 3x3 convolutional layer\n",
        "        self.Root2a = torch.nn.Conv2d(Channel_In, inception2[0], kernel_size=1)\n",
        "        self.Root2b = torch.nn.Conv2d(inception2[0], inception2[1], kernel_size=3, padding=1)\n",
        "        #Inception layer3 has the 1x1 kernel size convolutional layer and a 5x5 convolutional layer\n",
        "        self.Root3a = torch.nn.Conv2d(Channel_In, inception3[0], kernel_size=1)\n",
        "        self.Root3b = torch.nn.Conv2d(inception3[0], inception3[1], kernel_size=5, padding=2)\n",
        "        #Inception layer4 has the 3x3 maximum pooling layer and a 1x1 convolutional layer\n",
        "        self.Root4a = torch.nn.MaxPool2d(kernel_size=3, stride=1, padding=1)\n",
        "        self.Root4b = torch.nn.Conv2d(Channel_In, inception4, kernel_size=1)\n",
        "\n",
        "    def forward(self, out):\n",
        "        final_inception_path_1 = torch.nn.functional.relu(self.Root1a(out))\n",
        "        final_inception_path_2 = torch.nn.functional.relu(self.Root2b(torch.nn.functional.relu(self.Root2a(out))))\n",
        "        final_inception_path_3 = torch.nn.functional.relu(self.Root3b(torch.nn.functional.relu(self.Root3a(out))))\n",
        "        final_inception_path_4 = torch.nn.functional.relu(self.Root4b(torch.nn.functional.relu(self.Root4a(out))))\n",
        "        #concatenating all the inception layers\n",
        "        return torch.cat((final_inception_path_1, final_inception_path_2, final_inception_path_3, final_inception_path_4), dim=1)\n",
        "\n",
        "#Flattening the layer and resizing it\n",
        "class Flatten(torch.nn.Module):\n",
        "    def forward(self, input):\n",
        "        return input.view(input.size(0), -1)\n",
        "\n",
        "#GOOGLENET NETWORK\n",
        "#creating the googlenet convolutional layers with inception\n",
        "Gnet_conv_layer1 = torch.nn.Sequential(torch.nn.Conv2d(1, 64, kernel_size=8, stride=2, padding=3), torch.nn.ReLU(), torch.nn.MaxPool2d(kernel_size=3, stride=2, padding=1))\n",
        "Gnet_conv_layer2 = torch.nn.Sequential(torch.nn.Conv2d(64, 64, kernel_size=1, stride=2, padding=3), torch.nn.ReLU(), torch.nn.Conv2d(64, 192, kernel_size=3, stride=2, padding=3),\n",
        "                                       torch.nn.MaxPool2d(kernel_size=3, stride=2, padding=1))\n",
        "Gnet_conv_layer3 = torch.nn.Sequential(Inception(192, 64, (96, 128), (16, 32), 32), Inception(256, 128, (128, 192), (32, 96), 64),\n",
        "                                       torch.nn.MaxPool2d(kernel_size=3, stride=2, padding=1))\n",
        "Gnet_conv_layer4 = torch.nn.Sequential(Inception(480, 192, (96, 208), (16, 48), 64), Inception(512, 160, (112, 224), (24, 64), 64),\n",
        "                                       Inception(512, 128, (128, 256), (24, 64), 64), Inception(512, 112, (144, 288), (32, 64), 64),\n",
        "                                       Inception(528, 256, (160, 320), (32, 128), 128), torch.nn.MaxPool2d(kernel_size=3, stride=2, padding=1))\n",
        "Gnet_conv_layer5 = torch.nn.Sequential(Inception(832, 256, (160, 320), (32, 128), 128), Inception(832, 384, (192, 384), (48, 128), 128),\n",
        "                                       torch.nn.AvgPool2d((1,1)), Flatten())\n",
        "\n",
        "#Updating the weights of the network\n",
        "Network_arch = torch.nn.Sequential(Gnet_conv_layer1, Gnet_conv_layer2, Gnet_conv_layer3, Gnet_conv_layer4, Gnet_conv_layer5)\n",
        "#Initialize the Weights and display the Network architecture\n",
        "def Initialise_weights(layer_weight):\n",
        "    if type(layer_weight) == torch.nn.Conv2d:\n",
        "        torch.nn.init.xavier_uniform_(layer_weight.weight)\n",
        "Network_arch.apply(Initialise_weights)"
      ],
      "execution_count": null,
      "outputs": [
        {
          "output_type": "execute_result",
          "data": {
            "text/plain": [
              "Sequential(\n",
              "  (0): Sequential(\n",
              "    (0): Conv2d(1, 64, kernel_size=(8, 8), stride=(2, 2), padding=(3, 3))\n",
              "    (1): ReLU()\n",
              "    (2): MaxPool2d(kernel_size=3, stride=2, padding=1, dilation=1, ceil_mode=False)\n",
              "  )\n",
              "  (1): Sequential(\n",
              "    (0): Conv2d(64, 64, kernel_size=(1, 1), stride=(2, 2), padding=(3, 3))\n",
              "    (1): ReLU()\n",
              "    (2): Conv2d(64, 192, kernel_size=(3, 3), stride=(2, 2), padding=(3, 3))\n",
              "    (3): MaxPool2d(kernel_size=3, stride=2, padding=1, dilation=1, ceil_mode=False)\n",
              "  )\n",
              "  (2): Sequential(\n",
              "    (0): Inception(\n",
              "      (Root1a): Conv2d(192, 64, kernel_size=(1, 1), stride=(1, 1))\n",
              "      (Root2a): Conv2d(192, 96, kernel_size=(1, 1), stride=(1, 1))\n",
              "      (Root2b): Conv2d(96, 128, kernel_size=(3, 3), stride=(1, 1), padding=(1, 1))\n",
              "      (Root3a): Conv2d(192, 16, kernel_size=(1, 1), stride=(1, 1))\n",
              "      (Root3b): Conv2d(16, 32, kernel_size=(5, 5), stride=(1, 1), padding=(2, 2))\n",
              "      (Root4a): MaxPool2d(kernel_size=3, stride=1, padding=1, dilation=1, ceil_mode=False)\n",
              "      (Root4b): Conv2d(192, 32, kernel_size=(1, 1), stride=(1, 1))\n",
              "    )\n",
              "    (1): Inception(\n",
              "      (Root1a): Conv2d(256, 128, kernel_size=(1, 1), stride=(1, 1))\n",
              "      (Root2a): Conv2d(256, 128, kernel_size=(1, 1), stride=(1, 1))\n",
              "      (Root2b): Conv2d(128, 192, kernel_size=(3, 3), stride=(1, 1), padding=(1, 1))\n",
              "      (Root3a): Conv2d(256, 32, kernel_size=(1, 1), stride=(1, 1))\n",
              "      (Root3b): Conv2d(32, 96, kernel_size=(5, 5), stride=(1, 1), padding=(2, 2))\n",
              "      (Root4a): MaxPool2d(kernel_size=3, stride=1, padding=1, dilation=1, ceil_mode=False)\n",
              "      (Root4b): Conv2d(256, 64, kernel_size=(1, 1), stride=(1, 1))\n",
              "    )\n",
              "    (2): MaxPool2d(kernel_size=3, stride=2, padding=1, dilation=1, ceil_mode=False)\n",
              "  )\n",
              "  (3): Sequential(\n",
              "    (0): Inception(\n",
              "      (Root1a): Conv2d(480, 192, kernel_size=(1, 1), stride=(1, 1))\n",
              "      (Root2a): Conv2d(480, 96, kernel_size=(1, 1), stride=(1, 1))\n",
              "      (Root2b): Conv2d(96, 208, kernel_size=(3, 3), stride=(1, 1), padding=(1, 1))\n",
              "      (Root3a): Conv2d(480, 16, kernel_size=(1, 1), stride=(1, 1))\n",
              "      (Root3b): Conv2d(16, 48, kernel_size=(5, 5), stride=(1, 1), padding=(2, 2))\n",
              "      (Root4a): MaxPool2d(kernel_size=3, stride=1, padding=1, dilation=1, ceil_mode=False)\n",
              "      (Root4b): Conv2d(480, 64, kernel_size=(1, 1), stride=(1, 1))\n",
              "    )\n",
              "    (1): Inception(\n",
              "      (Root1a): Conv2d(512, 160, kernel_size=(1, 1), stride=(1, 1))\n",
              "      (Root2a): Conv2d(512, 112, kernel_size=(1, 1), stride=(1, 1))\n",
              "      (Root2b): Conv2d(112, 224, kernel_size=(3, 3), stride=(1, 1), padding=(1, 1))\n",
              "      (Root3a): Conv2d(512, 24, kernel_size=(1, 1), stride=(1, 1))\n",
              "      (Root3b): Conv2d(24, 64, kernel_size=(5, 5), stride=(1, 1), padding=(2, 2))\n",
              "      (Root4a): MaxPool2d(kernel_size=3, stride=1, padding=1, dilation=1, ceil_mode=False)\n",
              "      (Root4b): Conv2d(512, 64, kernel_size=(1, 1), stride=(1, 1))\n",
              "    )\n",
              "    (2): Inception(\n",
              "      (Root1a): Conv2d(512, 128, kernel_size=(1, 1), stride=(1, 1))\n",
              "      (Root2a): Conv2d(512, 128, kernel_size=(1, 1), stride=(1, 1))\n",
              "      (Root2b): Conv2d(128, 256, kernel_size=(3, 3), stride=(1, 1), padding=(1, 1))\n",
              "      (Root3a): Conv2d(512, 24, kernel_size=(1, 1), stride=(1, 1))\n",
              "      (Root3b): Conv2d(24, 64, kernel_size=(5, 5), stride=(1, 1), padding=(2, 2))\n",
              "      (Root4a): MaxPool2d(kernel_size=3, stride=1, padding=1, dilation=1, ceil_mode=False)\n",
              "      (Root4b): Conv2d(512, 64, kernel_size=(1, 1), stride=(1, 1))\n",
              "    )\n",
              "    (3): Inception(\n",
              "      (Root1a): Conv2d(512, 112, kernel_size=(1, 1), stride=(1, 1))\n",
              "      (Root2a): Conv2d(512, 144, kernel_size=(1, 1), stride=(1, 1))\n",
              "      (Root2b): Conv2d(144, 288, kernel_size=(3, 3), stride=(1, 1), padding=(1, 1))\n",
              "      (Root3a): Conv2d(512, 32, kernel_size=(1, 1), stride=(1, 1))\n",
              "      (Root3b): Conv2d(32, 64, kernel_size=(5, 5), stride=(1, 1), padding=(2, 2))\n",
              "      (Root4a): MaxPool2d(kernel_size=3, stride=1, padding=1, dilation=1, ceil_mode=False)\n",
              "      (Root4b): Conv2d(512, 64, kernel_size=(1, 1), stride=(1, 1))\n",
              "    )\n",
              "    (4): Inception(\n",
              "      (Root1a): Conv2d(528, 256, kernel_size=(1, 1), stride=(1, 1))\n",
              "      (Root2a): Conv2d(528, 160, kernel_size=(1, 1), stride=(1, 1))\n",
              "      (Root2b): Conv2d(160, 320, kernel_size=(3, 3), stride=(1, 1), padding=(1, 1))\n",
              "      (Root3a): Conv2d(528, 32, kernel_size=(1, 1), stride=(1, 1))\n",
              "      (Root3b): Conv2d(32, 128, kernel_size=(5, 5), stride=(1, 1), padding=(2, 2))\n",
              "      (Root4a): MaxPool2d(kernel_size=3, stride=1, padding=1, dilation=1, ceil_mode=False)\n",
              "      (Root4b): Conv2d(528, 128, kernel_size=(1, 1), stride=(1, 1))\n",
              "    )\n",
              "    (5): MaxPool2d(kernel_size=3, stride=2, padding=1, dilation=1, ceil_mode=False)\n",
              "  )\n",
              "  (4): Sequential(\n",
              "    (0): Inception(\n",
              "      (Root1a): Conv2d(832, 256, kernel_size=(1, 1), stride=(1, 1))\n",
              "      (Root2a): Conv2d(832, 160, kernel_size=(1, 1), stride=(1, 1))\n",
              "      (Root2b): Conv2d(160, 320, kernel_size=(3, 3), stride=(1, 1), padding=(1, 1))\n",
              "      (Root3a): Conv2d(832, 32, kernel_size=(1, 1), stride=(1, 1))\n",
              "      (Root3b): Conv2d(32, 128, kernel_size=(5, 5), stride=(1, 1), padding=(2, 2))\n",
              "      (Root4a): MaxPool2d(kernel_size=3, stride=1, padding=1, dilation=1, ceil_mode=False)\n",
              "      (Root4b): Conv2d(832, 128, kernel_size=(1, 1), stride=(1, 1))\n",
              "    )\n",
              "    (1): Inception(\n",
              "      (Root1a): Conv2d(832, 384, kernel_size=(1, 1), stride=(1, 1))\n",
              "      (Root2a): Conv2d(832, 192, kernel_size=(1, 1), stride=(1, 1))\n",
              "      (Root2b): Conv2d(192, 384, kernel_size=(3, 3), stride=(1, 1), padding=(1, 1))\n",
              "      (Root3a): Conv2d(832, 48, kernel_size=(1, 1), stride=(1, 1))\n",
              "      (Root3b): Conv2d(48, 128, kernel_size=(5, 5), stride=(1, 1), padding=(2, 2))\n",
              "      (Root4a): MaxPool2d(kernel_size=3, stride=1, padding=1, dilation=1, ceil_mode=False)\n",
              "      (Root4b): Conv2d(832, 128, kernel_size=(1, 1), stride=(1, 1))\n",
              "    )\n",
              "    (2): AvgPool2d(kernel_size=(1, 1), stride=(1, 1), padding=0)\n",
              "    (3): Flatten()\n",
              "  )\n",
              ")"
            ]
          },
          "metadata": {
            "tags": []
          },
          "execution_count": 3
        }
      ]
    },
    {
      "cell_type": "markdown",
      "metadata": {
        "id": "4W7ps8bHKhHO"
      },
      "source": [
        "##**Plotting Architecture flow-diagram of our GoogleNet Network**"
      ]
    },
    {
      "cell_type": "code",
      "metadata": {
        "colab": {
          "base_uri": "https://localhost:8080/",
          "height": 1000
        },
        "id": "QKAnG_jc4PW1",
        "outputId": "33eb1b42-a1c8-4833-bf86-883598716ebf"
      },
      "source": [
        "#Plotting the GoogleNet Architecture flowchart which was developed above.\n",
        "Sample = torch.rand(1, 1, 96, 96)\n",
        "GoogleNet_Architecture_plot = make_dot(Network_arch(Sample), params=dict(Network_arch.named_parameters()))\n",
        "#displaying the GoogleNet flow diagram\n",
        "display(GoogleNet_Architecture_plot)"
      ],
      "execution_count": null,
      "outputs": [
        {
          "output_type": "display_data",
          "data": {
            "text/plain": [
              "<graphviz.dot.Digraph at 0x7f00a0937290>"
            ],
            "image/svg+xml": "<?xml version=\"1.0\" encoding=\"UTF-8\" standalone=\"no\"?>\n<!DOCTYPE svg PUBLIC \"-//W3C//DTD SVG 1.1//EN\"\n \"http://www.w3.org/Graphics/SVG/1.1/DTD/svg11.dtd\">\n<!-- Generated by graphviz version 2.40.1 (20161225.0304)\n -->\n<!-- Title: %3 Pages: 1 -->\n<svg width=\"2259pt\" height=\"3472pt\"\n viewBox=\"0.00 0.00 2259.00 3472.00\" xmlns=\"http://www.w3.org/2000/svg\" xmlns:xlink=\"http://www.w3.org/1999/xlink\">\n<g id=\"graph0\" class=\"graph\" transform=\"scale(1 1) rotate(0) translate(4 3468)\">\n<title>%3</title>\n<polygon fill=\"#ffffff\" stroke=\"transparent\" points=\"-4,4 -4,-3468 2255,-3468 2255,4 -4,4\"/>\n<!-- 139638941970096 -->\n<g id=\"node1\" class=\"node\">\n<title>139638941970096</title>\n<polygon fill=\"#caff70\" stroke=\"#000000\" points=\"887,-31 810,-31 810,0 887,0 887,-31\"/>\n<text text-anchor=\"middle\" x=\"848.5\" y=\"-7\" font-family=\"monospace\" font-size=\"10.00\" fill=\"#000000\"> (1, 4096)</text>\n</g>\n<!-- 139638937231888 -->\n<g id=\"node2\" class=\"node\">\n<title>139638937231888</title>\n<polygon fill=\"#d3d3d3\" stroke=\"#000000\" points=\"834,-92 745,-92 745,-73 834,-73 834,-92\"/>\n<text text-anchor=\"middle\" x=\"789.5\" y=\"-80\" font-family=\"monospace\" font-size=\"10.00\" fill=\"#000000\">ViewBackward</text>\n</g>\n<!-- 139638937231888&#45;&gt;139638941970096 -->\n<g id=\"edge401\" class=\"edge\">\n<title>139638937231888&#45;&gt;139638941970096</title>\n<path fill=\"none\" stroke=\"#000000\" d=\"M797.9533,-72.9005C805.7717,-64.0219 817.7057,-50.4698 828.0148,-38.7628\"/>\n<polygon fill=\"#000000\" stroke=\"#000000\" points=\"830.8396,-40.851 834.8217,-31.033 825.5862,-36.2248 830.8396,-40.851\"/>\n</g>\n<!-- 139638937231440 -->\n<g id=\"node3\" class=\"node\">\n<title>139638937231440</title>\n<polygon fill=\"#d3d3d3\" stroke=\"#000000\" points=\"908,-153 789,-153 789,-134 908,-134 908,-153\"/>\n<text text-anchor=\"middle\" x=\"848.5\" y=\"-141\" font-family=\"monospace\" font-size=\"10.00\" fill=\"#000000\">AvgPool2DBackward</text>\n</g>\n<!-- 139638937231440&#45;&gt;139638937231888 -->\n<g id=\"edge1\" class=\"edge\">\n<title>139638937231440&#45;&gt;139638937231888</title>\n<path fill=\"none\" stroke=\"#000000\" d=\"M839.2813,-133.9688C830.4142,-124.8011 816.8088,-110.7346 806.0611,-99.6225\"/>\n<polygon fill=\"#000000\" stroke=\"#000000\" points=\"808.3168,-96.9203 798.8487,-92.1656 803.2852,-101.7869 808.3168,-96.9203\"/>\n</g>\n<!-- 139638942044320 -->\n<g id=\"node376\" class=\"node\">\n<title>139638942044320</title>\n<polygon fill=\"#a2cd5a\" stroke=\"#000000\" points=\"965,-98 852,-98 852,-67 965,-67 965,-98\"/>\n<text text-anchor=\"middle\" x=\"908.5\" y=\"-74\" font-family=\"monospace\" font-size=\"10.00\" fill=\"#000000\"> (1, 1024, 2, 2)</text>\n</g>\n<!-- 139638937231440&#45;&gt;139638942044320 -->\n<g id=\"edge402\" class=\"edge\">\n<title>139638937231440&#45;&gt;139638942044320</title>\n<path fill=\"none\" stroke=\"#000000\" d=\"M857.875,-133.9688C865.334,-126.3854 876.0901,-115.4501 885.7711,-105.6077\"/>\n<polygon fill=\"#000000\" stroke=\"#000000\" points=\"888.3752,-107.9514 892.8923,-98.3678 883.3847,-103.0427 888.3752,-107.9514\"/>\n</g>\n<!-- 139638937232016 -->\n<g id=\"node4\" class=\"node\">\n<title>139638937232016</title>\n<polygon fill=\"#d3d3d3\" stroke=\"#000000\" points=\"890,-208 807,-208 807,-189 890,-189 890,-208\"/>\n<text text-anchor=\"middle\" x=\"848.5\" y=\"-196\" font-family=\"monospace\" font-size=\"10.00\" fill=\"#000000\">CatBackward</text>\n</g>\n<!-- 139638937232016&#45;&gt;139638937231440 -->\n<g id=\"edge2\" class=\"edge\">\n<title>139638937232016&#45;&gt;139638937231440</title>\n<path fill=\"none\" stroke=\"#000000\" d=\"M848.5,-188.9197C848.5,-181.9083 848.5,-172.1442 848.5,-163.4652\"/>\n<polygon fill=\"#000000\" stroke=\"#000000\" points=\"852.0001,-163.3408 848.5,-153.3408 845.0001,-163.3409 852.0001,-163.3408\"/>\n</g>\n<!-- 139638937231952 -->\n<g id=\"node5\" class=\"node\">\n<title>139638937231952</title>\n<polygon fill=\"#d3d3d3\" stroke=\"#000000\" points=\"1357,-318 1262,-318 1262,-299 1357,-299 1357,-318\"/>\n<text text-anchor=\"middle\" x=\"1309.5\" y=\"-306\" font-family=\"monospace\" font-size=\"10.00\" fill=\"#000000\">ReluBackward0</text>\n</g>\n<!-- 139638937231952&#45;&gt;139638937232016 -->\n<g id=\"edge3\" class=\"edge\">\n<title>139638937231952&#45;&gt;139638937232016</title>\n<path fill=\"none\" stroke=\"#000000\" d=\"M1269.3957,-298.9306C1185.2547,-278.8536 990.48,-232.3781 898.42,-210.4115\"/>\n<polygon fill=\"#000000\" stroke=\"#000000\" points=\"899.0503,-206.9637 888.511,-208.0471 897.4256,-213.7726 899.0503,-206.9637\"/>\n</g>\n<!-- 139638937232336 -->\n<g id=\"node6\" class=\"node\">\n<title>139638937232336</title>\n<polygon fill=\"#d3d3d3\" stroke=\"#000000\" points=\"1468,-433.5 1343,-433.5 1343,-414.5 1468,-414.5 1468,-433.5\"/>\n<text text-anchor=\"middle\" x=\"1405.5\" y=\"-421.5\" font-family=\"monospace\" font-size=\"10.00\" fill=\"#000000\">ThnnConv2DBackward</text>\n</g>\n<!-- 139638937232336&#45;&gt;139638937231952 -->\n<g id=\"edge4\" class=\"edge\">\n<title>139638937232336&#45;&gt;139638937231952</title>\n<path fill=\"none\" stroke=\"#000000\" d=\"M1397.3151,-414.1525C1381.0909,-394.6328 1344.6549,-350.7957 1324.1811,-326.1631\"/>\n<polygon fill=\"#000000\" stroke=\"#000000\" points=\"1326.7479,-323.7757 1317.6642,-318.3225 1321.3646,-328.2502 1326.7479,-323.7757\"/>\n</g>\n<!-- 139638937233232 -->\n<g id=\"node7\" class=\"node\">\n<title>139638937233232</title>\n<polygon fill=\"#d3d3d3\" stroke=\"#000000\" points=\"978,-494 895,-494 895,-475 978,-475 978,-494\"/>\n<text text-anchor=\"middle\" x=\"936.5\" y=\"-482\" font-family=\"monospace\" font-size=\"10.00\" fill=\"#000000\">CatBackward</text>\n</g>\n<!-- 139638937233232&#45;&gt;139638937232336 -->\n<g id=\"edge5\" class=\"edge\">\n<title>139638937233232&#45;&gt;139638937232336</title>\n<path fill=\"none\" stroke=\"#000000\" d=\"M978.1075,-480.9916C1050.5805,-474.5998 1204.5649,-459.7749 1333.5,-439 1339.7871,-437.987 1346.3574,-436.7993 1352.8618,-435.5435\"/>\n<polygon fill=\"#000000\" stroke=\"#000000\" points=\"1353.8545,-438.9147 1362.9786,-433.5294 1352.4876,-432.0494 1353.8545,-438.9147\"/>\n</g>\n<!-- 139638936701904 -->\n<g id=\"node347\" class=\"node\">\n<title>139638936701904</title>\n<polygon fill=\"#d3d3d3\" stroke=\"#000000\" points=\"193,-433.5 68,-433.5 68,-414.5 193,-414.5 193,-433.5\"/>\n<text text-anchor=\"middle\" x=\"130.5\" y=\"-421.5\" font-family=\"monospace\" font-size=\"10.00\" fill=\"#000000\">ThnnConv2DBackward</text>\n</g>\n<!-- 139638937233232&#45;&gt;139638936701904 -->\n<g id=\"edge370\" class=\"edge\">\n<title>139638937233232&#45;&gt;139638936701904</title>\n<path fill=\"none\" stroke=\"#000000\" d=\"M894.8474,-484.0526C782.4484,-482.3859 463.7378,-474.623 201.5,-439 194.7061,-438.0771 187.5921,-436.8687 180.6011,-435.5379\"/>\n<polygon fill=\"#000000\" stroke=\"#000000\" points=\"180.99,-432.0465 170.4981,-433.5195 179.6186,-438.9109 180.99,-432.0465\"/>\n</g>\n<!-- 139638936702096 -->\n<g id=\"node359\" class=\"node\">\n<title>139638936702096</title>\n<polygon fill=\"#d3d3d3\" stroke=\"#000000\" points=\"598,-433.5 473,-433.5 473,-414.5 598,-414.5 598,-433.5\"/>\n<text text-anchor=\"middle\" x=\"535.5\" y=\"-421.5\" font-family=\"monospace\" font-size=\"10.00\" fill=\"#000000\">ThnnConv2DBackward</text>\n</g>\n<!-- 139638937233232&#45;&gt;139638936702096 -->\n<g id=\"edge383\" class=\"edge\">\n<title>139638937233232&#45;&gt;139638936702096</title>\n<path fill=\"none\" stroke=\"#000000\" d=\"M894.9371,-479.7326C832.2264,-472.322 709.7658,-457.0039 606.5,-439 600.6163,-437.9742 594.477,-436.8139 588.3784,-435.6042\"/>\n<polygon fill=\"#000000\" stroke=\"#000000\" points=\"588.7027,-432.0986 578.2059,-433.5366 587.3084,-438.9583 588.7027,-432.0986\"/>\n</g>\n<!-- 139638936702544 -->\n<g id=\"node371\" class=\"node\">\n<title>139638936702544</title>\n<polygon fill=\"#d3d3d3\" stroke=\"#000000\" points=\"1063,-433.5 878,-433.5 878,-414.5 1063,-414.5 1063,-433.5\"/>\n<text text-anchor=\"middle\" x=\"970.5\" y=\"-421.5\" font-family=\"monospace\" font-size=\"10.00\" fill=\"#000000\">MaxPool2DWithIndicesBackward</text>\n</g>\n<!-- 139638937233232&#45;&gt;139638936702544 -->\n<g id=\"edge396\" class=\"edge\">\n<title>139638937233232&#45;&gt;139638936702544</title>\n<path fill=\"none\" stroke=\"#000000\" d=\"M941.9627,-474.7796C946.7917,-466.1869 953.9722,-453.4097 959.9223,-442.8221\"/>\n<polygon fill=\"#000000\" stroke=\"#000000\" points=\"963.0899,-444.3297 964.9379,-433.8972 956.9875,-440.9002 963.0899,-444.3297\"/>\n</g>\n<!-- 139638937232976 -->\n<g id=\"node8\" class=\"node\">\n<title>139638937232976</title>\n<polygon fill=\"#d3d3d3\" stroke=\"#000000\" points=\"1559,-615 1464,-615 1464,-596 1559,-596 1559,-615\"/>\n<text text-anchor=\"middle\" x=\"1511.5\" y=\"-603\" font-family=\"monospace\" font-size=\"10.00\" fill=\"#000000\">ReluBackward0</text>\n</g>\n<!-- 139638937232976&#45;&gt;139638937233232 -->\n<g id=\"edge6\" class=\"edge\">\n<title>139638937232976&#45;&gt;139638937233232</title>\n<path fill=\"none\" stroke=\"#000000\" d=\"M1463.8334,-600.5466C1414.4678,-594.4875 1335.5886,-582.1856 1270.5,-560 1242.6557,-550.5092 1239.4499,-539.1751 1211.5,-530 1136.1856,-505.2765 1044.6614,-493.5635 988.507,-488.3335\"/>\n<polygon fill=\"#000000\" stroke=\"#000000\" points=\"988.718,-484.8385 978.4452,-487.4307 988.0924,-491.8105 988.718,-484.8385\"/>\n</g>\n<!-- 139638937232656 -->\n<g id=\"node9\" class=\"node\">\n<title>139638937232656</title>\n<polygon fill=\"#d3d3d3\" stroke=\"#000000\" points=\"1707,-730.5 1582,-730.5 1582,-711.5 1707,-711.5 1707,-730.5\"/>\n<text text-anchor=\"middle\" x=\"1644.5\" y=\"-718.5\" font-family=\"monospace\" font-size=\"10.00\" fill=\"#000000\">ThnnConv2DBackward</text>\n</g>\n<!-- 139638937232656&#45;&gt;139638937232976 -->\n<g id=\"edge7\" class=\"edge\">\n<title>139638937232656&#45;&gt;139638937232976</title>\n<path fill=\"none\" stroke=\"#000000\" d=\"M1633.1605,-711.1525C1610.2906,-691.2918 1558.4322,-646.2569 1530.3735,-621.8902\"/>\n<polygon fill=\"#000000\" stroke=\"#000000\" points=\"1532.6561,-619.2368 1522.8108,-615.3225 1528.0662,-624.5221 1532.6561,-619.2368\"/>\n</g>\n<!-- 139638937232464 -->\n<g id=\"node10\" class=\"node\">\n<title>139638937232464</title>\n<polygon fill=\"#d3d3d3\" stroke=\"#000000\" points=\"1264,-791 1079,-791 1079,-772 1264,-772 1264,-791\"/>\n<text text-anchor=\"middle\" x=\"1171.5\" y=\"-779\" font-family=\"monospace\" font-size=\"10.00\" fill=\"#000000\">MaxPool2DWithIndicesBackward</text>\n</g>\n<!-- 139638937232464&#45;&gt;139638937232656 -->\n<g id=\"edge8\" class=\"edge\">\n<title>139638937232464&#45;&gt;139638937232656</title>\n<path fill=\"none\" stroke=\"#000000\" d=\"M1264.0484,-773.5562C1345.7493,-765.9415 1467.9374,-753.0849 1573.5,-736 1579.7028,-734.9961 1586.1836,-733.814 1592.5986,-732.5613\"/>\n<polygon fill=\"#000000\" stroke=\"#000000\" points=\"1593.4647,-735.9572 1602.5758,-730.55 1592.0814,-729.0952 1593.4647,-735.9572\"/>\n</g>\n<!-- 139638936700880 -->\n<g id=\"node311\" class=\"node\">\n<title>139638936700880</title>\n<polygon fill=\"#d3d3d3\" stroke=\"#000000\" points=\"557,-730.5 432,-730.5 432,-711.5 557,-711.5 557,-730.5\"/>\n<text text-anchor=\"middle\" x=\"494.5\" y=\"-718.5\" font-family=\"monospace\" font-size=\"10.00\" fill=\"#000000\">ThnnConv2DBackward</text>\n</g>\n<!-- 139638937232464&#45;&gt;139638936700880 -->\n<g id=\"edge331\" class=\"edge\">\n<title>139638937232464&#45;&gt;139638936700880</title>\n<path fill=\"none\" stroke=\"#000000\" d=\"M1078.9321,-776.0663C934.456,-767.3283 661.9194,-749.7424 565.5,-736 558.7961,-735.0445 551.7773,-733.829 544.8715,-732.5048\"/>\n<polygon fill=\"#000000\" stroke=\"#000000\" points=\"545.377,-729.0366 534.8843,-730.5045 544.0022,-735.9002 545.377,-729.0366\"/>\n</g>\n<!-- 139638936701072 -->\n<g id=\"node323\" class=\"node\">\n<title>139638936701072</title>\n<polygon fill=\"#d3d3d3\" stroke=\"#000000\" points=\"962,-730.5 837,-730.5 837,-711.5 962,-711.5 962,-730.5\"/>\n<text text-anchor=\"middle\" x=\"899.5\" y=\"-718.5\" font-family=\"monospace\" font-size=\"10.00\" fill=\"#000000\">ThnnConv2DBackward</text>\n</g>\n<!-- 139638937232464&#45;&gt;139638936701072 -->\n<g id=\"edge344\" class=\"edge\">\n<title>139638937232464&#45;&gt;139638936701072</title>\n<path fill=\"none\" stroke=\"#000000\" d=\"M1128.7008,-771.9803C1081.0134,-761.3734 1003.869,-744.2144 952.4276,-732.7725\"/>\n<polygon fill=\"#000000\" stroke=\"#000000\" points=\"953.0197,-729.3187 942.4983,-730.564 951.4998,-736.1518 953.0197,-729.3187\"/>\n</g>\n<!-- 139638936701520 -->\n<g id=\"node335\" class=\"node\">\n<title>139638936701520</title>\n<polygon fill=\"#d3d3d3\" stroke=\"#000000\" points=\"1302,-730.5 1117,-730.5 1117,-711.5 1302,-711.5 1302,-730.5\"/>\n<text text-anchor=\"middle\" x=\"1209.5\" y=\"-718.5\" font-family=\"monospace\" font-size=\"10.00\" fill=\"#000000\">MaxPool2DWithIndicesBackward</text>\n</g>\n<!-- 139638937232464&#45;&gt;139638936701520 -->\n<g id=\"edge357\" class=\"edge\">\n<title>139638937232464&#45;&gt;139638936701520</title>\n<path fill=\"none\" stroke=\"#000000\" d=\"M1177.6054,-771.7796C1183.0575,-763.0992 1191.1919,-750.1485 1197.881,-739.4987\"/>\n<polygon fill=\"#000000\" stroke=\"#000000\" points=\"1200.9285,-741.227 1203.2836,-730.8972 1195.0008,-737.5038 1200.9285,-741.227\"/>\n</g>\n<!-- 139638937232208 -->\n<g id=\"node11\" class=\"node\">\n<title>139638937232208</title>\n<polygon fill=\"#d3d3d3\" stroke=\"#000000\" points=\"1213,-851.5 1130,-851.5 1130,-832.5 1213,-832.5 1213,-851.5\"/>\n<text text-anchor=\"middle\" x=\"1171.5\" y=\"-839.5\" font-family=\"monospace\" font-size=\"10.00\" fill=\"#000000\">CatBackward</text>\n</g>\n<!-- 139638937232208&#45;&gt;139638937232464 -->\n<g id=\"edge9\" class=\"edge\">\n<title>139638937232208&#45;&gt;139638937232464</title>\n<path fill=\"none\" stroke=\"#000000\" d=\"M1171.5,-832.2796C1171.5,-824.0376 1171.5,-811.9457 1171.5,-801.629\"/>\n<polygon fill=\"#000000\" stroke=\"#000000\" points=\"1175.0001,-801.3972 1171.5,-791.3972 1168.0001,-801.3973 1175.0001,-801.3972\"/>\n</g>\n<!-- 139638937233360 -->\n<g id=\"node12\" class=\"node\">\n<title>139638937233360</title>\n<polygon fill=\"#d3d3d3\" stroke=\"#000000\" points=\"1643,-967 1548,-967 1548,-948 1643,-948 1643,-967\"/>\n<text text-anchor=\"middle\" x=\"1595.5\" y=\"-955\" font-family=\"monospace\" font-size=\"10.00\" fill=\"#000000\">ReluBackward0</text>\n</g>\n<!-- 139638937233360&#45;&gt;139638937232208 -->\n<g id=\"edge10\" class=\"edge\">\n<title>139638937233360&#45;&gt;139638937232208</title>\n<path fill=\"none\" stroke=\"#000000\" d=\"M1560.4416,-947.9499C1483.7971,-927.0715 1301.4023,-877.3861 1216.4613,-854.2477\"/>\n<polygon fill=\"#000000\" stroke=\"#000000\" points=\"1217.1677,-850.8127 1206.5994,-851.5613 1215.3279,-857.5666 1217.1677,-850.8127\"/>\n</g>\n<!-- 139638937233680 -->\n<g id=\"node13\" class=\"node\">\n<title>139638937233680</title>\n<polygon fill=\"#d3d3d3\" stroke=\"#000000\" points=\"1791,-1082.5 1666,-1082.5 1666,-1063.5 1791,-1063.5 1791,-1082.5\"/>\n<text text-anchor=\"middle\" x=\"1728.5\" y=\"-1070.5\" font-family=\"monospace\" font-size=\"10.00\" fill=\"#000000\">ThnnConv2DBackward</text>\n</g>\n<!-- 139638937233680&#45;&gt;139638937233360 -->\n<g id=\"edge11\" class=\"edge\">\n<title>139638937233680&#45;&gt;139638937233360</title>\n<path fill=\"none\" stroke=\"#000000\" d=\"M1717.1605,-1063.1525C1694.2906,-1043.2918 1642.4322,-998.2569 1614.3735,-973.8902\"/>\n<polygon fill=\"#000000\" stroke=\"#000000\" points=\"1616.6561,-971.2368 1606.8108,-967.3225 1612.0662,-976.5221 1616.6561,-971.2368\"/>\n</g>\n<!-- 139638937272464 -->\n<g id=\"node14\" class=\"node\">\n<title>139638937272464</title>\n<polygon fill=\"#d3d3d3\" stroke=\"#000000\" points=\"1323,-1143 1240,-1143 1240,-1124 1323,-1124 1323,-1143\"/>\n<text text-anchor=\"middle\" x=\"1281.5\" y=\"-1131\" font-family=\"monospace\" font-size=\"10.00\" fill=\"#000000\">CatBackward</text>\n</g>\n<!-- 139638937272464&#45;&gt;139638937233680 -->\n<g id=\"edge12\" class=\"edge\">\n<title>139638937272464&#45;&gt;139638937233680</title>\n<path fill=\"none\" stroke=\"#000000\" d=\"M1323.1204,-1129.6689C1392.6423,-1123 1536.6828,-1108.0328 1657.5,-1088 1663.6173,-1086.9857 1670.0068,-1085.8069 1676.3378,-1084.5645\"/>\n<polygon fill=\"#000000\" stroke=\"#000000\" points=\"1677.0817,-1087.985 1686.1906,-1082.5741 1675.6956,-1081.1236 1677.0817,-1087.985\"/>\n</g>\n<!-- 139638936699920 -->\n<g id=\"node275\" class=\"node\">\n<title>139638936699920</title>\n<polygon fill=\"#d3d3d3\" stroke=\"#000000\" points=\"516,-1082.5 391,-1082.5 391,-1063.5 516,-1063.5 516,-1082.5\"/>\n<text text-anchor=\"middle\" x=\"453.5\" y=\"-1070.5\" font-family=\"monospace\" font-size=\"10.00\" fill=\"#000000\">ThnnConv2DBackward</text>\n</g>\n<!-- 139638937272464&#45;&gt;139638936699920 -->\n<g id=\"edge292\" class=\"edge\">\n<title>139638937272464&#45;&gt;139638936699920</title>\n<path fill=\"none\" stroke=\"#000000\" d=\"M1239.7829,-1131.8091C1102.3493,-1126.1103 664.6012,-1106.9038 524.5,-1088 517.7052,-1087.0832 510.5908,-1085.8783 503.5995,-1084.5492\"/>\n<polygon fill=\"#000000\" stroke=\"#000000\" points=\"503.9881,-1081.0578 493.4964,-1082.5322 502.6176,-1087.9223 503.9881,-1081.0578\"/>\n</g>\n<!-- 139638936700112 -->\n<g id=\"node287\" class=\"node\">\n<title>139638936700112</title>\n<polygon fill=\"#d3d3d3\" stroke=\"#000000\" points=\"921,-1082.5 796,-1082.5 796,-1063.5 921,-1063.5 921,-1082.5\"/>\n<text text-anchor=\"middle\" x=\"858.5\" y=\"-1070.5\" font-family=\"monospace\" font-size=\"10.00\" fill=\"#000000\">ThnnConv2DBackward</text>\n</g>\n<!-- 139638937272464&#45;&gt;139638936700112 -->\n<g id=\"edge305\" class=\"edge\">\n<title>139638937272464&#45;&gt;139638936700112</title>\n<path fill=\"none\" stroke=\"#000000\" d=\"M1239.8868,-1129.2073C1173.8568,-1122.1519 1041.1247,-1106.9747 929.5,-1088 923.3869,-1086.9609 916.9999,-1085.7668 910.6704,-1084.5159\"/>\n<polygon fill=\"#000000\" stroke=\"#000000\" points=\"911.3152,-1081.0754 900.8189,-1082.5173 909.9234,-1087.9357 911.3152,-1081.0754\"/>\n</g>\n<!-- 139638936700560 -->\n<g id=\"node299\" class=\"node\">\n<title>139638936700560</title>\n<polygon fill=\"#d3d3d3\" stroke=\"#000000\" points=\"1386,-1082.5 1201,-1082.5 1201,-1063.5 1386,-1063.5 1386,-1082.5\"/>\n<text text-anchor=\"middle\" x=\"1293.5\" y=\"-1070.5\" font-family=\"monospace\" font-size=\"10.00\" fill=\"#000000\">MaxPool2DWithIndicesBackward</text>\n</g>\n<!-- 139638937272464&#45;&gt;139638936700560 -->\n<g id=\"edge318\" class=\"edge\">\n<title>139638937272464&#45;&gt;139638936700560</title>\n<path fill=\"none\" stroke=\"#000000\" d=\"M1283.428,-1123.7796C1285.0802,-1115.4499 1287.5123,-1103.188 1289.5726,-1092.8004\"/>\n<polygon fill=\"#000000\" stroke=\"#000000\" points=\"1293.0244,-1093.3871 1291.5369,-1082.8972 1286.1581,-1092.0252 1293.0244,-1093.3871\"/>\n</g>\n<!-- 139638937272656 -->\n<g id=\"node15\" class=\"node\">\n<title>139638937272656</title>\n<polygon fill=\"#d3d3d3\" stroke=\"#000000\" points=\"1786,-1264 1691,-1264 1691,-1245 1786,-1245 1786,-1264\"/>\n<text text-anchor=\"middle\" x=\"1738.5\" y=\"-1252\" font-family=\"monospace\" font-size=\"10.00\" fill=\"#000000\">ReluBackward0</text>\n</g>\n<!-- 139638937272656&#45;&gt;139638937272464 -->\n<g id=\"edge13\" class=\"edge\">\n<title>139638937272656&#45;&gt;139638937272464</title>\n<path fill=\"none\" stroke=\"#000000\" d=\"M1702.258,-1244.9042C1619.7446,-1223.0571 1418.0153,-1169.6452 1327.167,-1145.5913\"/>\n<polygon fill=\"#000000\" stroke=\"#000000\" points=\"1327.9924,-1142.1893 1317.4297,-1143.0131 1326.2007,-1148.9561 1327.9924,-1142.1893\"/>\n</g>\n<!-- 139638937273040 -->\n<g id=\"node16\" class=\"node\">\n<title>139638937273040</title>\n<polygon fill=\"#d3d3d3\" stroke=\"#000000\" points=\"1934,-1379.5 1809,-1379.5 1809,-1360.5 1934,-1360.5 1934,-1379.5\"/>\n<text text-anchor=\"middle\" x=\"1871.5\" y=\"-1367.5\" font-family=\"monospace\" font-size=\"10.00\" fill=\"#000000\">ThnnConv2DBackward</text>\n</g>\n<!-- 139638937273040&#45;&gt;139638937272656 -->\n<g id=\"edge14\" class=\"edge\">\n<title>139638937273040&#45;&gt;139638937272656</title>\n<path fill=\"none\" stroke=\"#000000\" d=\"M1860.1605,-1360.1525C1837.2906,-1340.2918 1785.4322,-1295.2569 1757.3735,-1270.8902\"/>\n<polygon fill=\"#000000\" stroke=\"#000000\" points=\"1759.6561,-1268.2368 1749.8108,-1264.3225 1755.0662,-1273.5221 1759.6561,-1268.2368\"/>\n</g>\n<!-- 139638937273488 -->\n<g id=\"node17\" class=\"node\">\n<title>139638937273488</title>\n<polygon fill=\"#d3d3d3\" stroke=\"#000000\" points=\"1451,-1440 1368,-1440 1368,-1421 1451,-1421 1451,-1440\"/>\n<text text-anchor=\"middle\" x=\"1409.5\" y=\"-1428\" font-family=\"monospace\" font-size=\"10.00\" fill=\"#000000\">CatBackward</text>\n</g>\n<!-- 139638937273488&#45;&gt;139638937273040 -->\n<g id=\"edge15\" class=\"edge\">\n<title>139638937273488&#45;&gt;139638937273040</title>\n<path fill=\"none\" stroke=\"#000000\" d=\"M1451.0537,-1426.936C1522.6732,-1420.5098 1673.8722,-1405.6985 1800.5,-1385 1806.7012,-1383.9864 1813.181,-1382.7983 1819.5955,-1381.5423\"/>\n<polygon fill=\"#000000\" stroke=\"#000000\" points=\"1820.4627,-1384.938 1829.5722,-1379.528 1819.0773,-1378.0764 1820.4627,-1384.938\"/>\n</g>\n<!-- 139638936621008 -->\n<g id=\"node239\" class=\"node\">\n<title>139638936621008</title>\n<polygon fill=\"#d3d3d3\" stroke=\"#000000\" points=\"784,-1379.5 659,-1379.5 659,-1360.5 784,-1360.5 784,-1379.5\"/>\n<text text-anchor=\"middle\" x=\"721.5\" y=\"-1367.5\" font-family=\"monospace\" font-size=\"10.00\" fill=\"#000000\">ThnnConv2DBackward</text>\n</g>\n<!-- 139638937273488&#45;&gt;139638936621008 -->\n<g id=\"edge253\" class=\"edge\">\n<title>139638937273488&#45;&gt;139638936621008</title>\n<path fill=\"none\" stroke=\"#000000\" d=\"M1367.7108,-1428.1549C1247.8155,-1421.3097 904.1616,-1400.839 792.5,-1385 785.7954,-1384.049 778.7763,-1382.836 771.8703,-1381.5131\"/>\n<polygon fill=\"#000000\" stroke=\"#000000\" points=\"772.3755,-1378.0449 761.883,-1379.5139 771.0014,-1384.9087 772.3755,-1378.0449\"/>\n</g>\n<!-- 139638936699088 -->\n<g id=\"node251\" class=\"node\">\n<title>139638936699088</title>\n<polygon fill=\"#d3d3d3\" stroke=\"#000000\" points=\"1189,-1379.5 1064,-1379.5 1064,-1360.5 1189,-1360.5 1189,-1379.5\"/>\n<text text-anchor=\"middle\" x=\"1126.5\" y=\"-1367.5\" font-family=\"monospace\" font-size=\"10.00\" fill=\"#000000\">ThnnConv2DBackward</text>\n</g>\n<!-- 139638937273488&#45;&gt;139638936699088 -->\n<g id=\"edge266\" class=\"edge\">\n<title>139638937273488&#45;&gt;139638936699088</title>\n<path fill=\"none\" stroke=\"#000000\" d=\"M1367.7424,-1421.573C1318.2401,-1410.9904 1235.6011,-1393.3237 1181.0746,-1381.667\"/>\n<polygon fill=\"#000000\" stroke=\"#000000\" points=\"1181.7456,-1378.2314 1171.2348,-1379.5634 1180.2821,-1385.0768 1181.7456,-1378.2314\"/>\n</g>\n<!-- 139638936699536 -->\n<g id=\"node263\" class=\"node\">\n<title>139638936699536</title>\n<polygon fill=\"#d3d3d3\" stroke=\"#000000\" points=\"1529,-1379.5 1344,-1379.5 1344,-1360.5 1529,-1360.5 1529,-1379.5\"/>\n<text text-anchor=\"middle\" x=\"1436.5\" y=\"-1367.5\" font-family=\"monospace\" font-size=\"10.00\" fill=\"#000000\">MaxPool2DWithIndicesBackward</text>\n</g>\n<!-- 139638937273488&#45;&gt;139638936699536 -->\n<g id=\"edge279\" class=\"edge\">\n<title>139638937273488&#45;&gt;139638936699536</title>\n<path fill=\"none\" stroke=\"#000000\" d=\"M1413.838,-1420.7796C1417.6337,-1412.2746 1423.2588,-1399.67 1427.9551,-1389.1469\"/>\n<polygon fill=\"#000000\" stroke=\"#000000\" points=\"1431.2038,-1390.4555 1432.0831,-1379.8972 1424.8114,-1387.6027 1431.2038,-1390.4555\"/>\n</g>\n<!-- 139638937273552 -->\n<g id=\"node18\" class=\"node\">\n<title>139638937273552</title>\n<polygon fill=\"#d3d3d3\" stroke=\"#000000\" points=\"1127,-1561 1032,-1561 1032,-1542 1127,-1542 1127,-1561\"/>\n<text text-anchor=\"middle\" x=\"1079.5\" y=\"-1549\" font-family=\"monospace\" font-size=\"10.00\" fill=\"#000000\">ReluBackward0</text>\n</g>\n<!-- 139638937273552&#45;&gt;139638937273488 -->\n<g id=\"edge16\" class=\"edge\">\n<title>139638937273552&#45;&gt;139638937273488</title>\n<path fill=\"none\" stroke=\"#000000\" d=\"M1105.6704,-1541.9042C1164.3961,-1520.3714 1306.7483,-1468.1756 1373.6429,-1443.6476\"/>\n<polygon fill=\"#000000\" stroke=\"#000000\" points=\"1375.1431,-1446.8255 1383.3269,-1440.0968 1372.7332,-1440.2533 1375.1431,-1446.8255\"/>\n</g>\n<!-- 139638937274192 -->\n<g id=\"node19\" class=\"node\">\n<title>139638937274192</title>\n<polygon fill=\"#d3d3d3\" stroke=\"#000000\" points=\"965,-1676.5 840,-1676.5 840,-1657.5 965,-1657.5 965,-1676.5\"/>\n<text text-anchor=\"middle\" x=\"902.5\" y=\"-1664.5\" font-family=\"monospace\" font-size=\"10.00\" fill=\"#000000\">ThnnConv2DBackward</text>\n</g>\n<!-- 139638937274192&#45;&gt;139638937273552 -->\n<g id=\"edge17\" class=\"edge\">\n<title>139638937274192&#45;&gt;139638937273552</title>\n<path fill=\"none\" stroke=\"#000000\" d=\"M917.2865,-1657.3512C948.0777,-1637.2586 1019.2798,-1590.7962 1056.2608,-1566.6645\"/>\n<polygon fill=\"#000000\" stroke=\"#000000\" points=\"1058.4181,-1569.4361 1064.8801,-1561.0401 1054.5927,-1563.5739 1058.4181,-1569.4361\"/>\n</g>\n<!-- 139638937274384 -->\n<g id=\"node20\" class=\"node\">\n<title>139638937274384</title>\n<polygon fill=\"#d3d3d3\" stroke=\"#000000\" points=\"1316,-1737 1233,-1737 1233,-1718 1316,-1718 1316,-1737\"/>\n<text text-anchor=\"middle\" x=\"1274.5\" y=\"-1725\" font-family=\"monospace\" font-size=\"10.00\" fill=\"#000000\">CatBackward</text>\n</g>\n<!-- 139638937274384&#45;&gt;139638937274192 -->\n<g id=\"edge18\" class=\"edge\">\n<title>139638937274384&#45;&gt;139638937274192</title>\n<path fill=\"none\" stroke=\"#000000\" d=\"M1232.9888,-1722.0035C1174.8163,-1714.1239 1065.809,-1698.7132 973.5,-1682 967.7025,-1680.9503 961.6538,-1679.7836 955.6391,-1678.5776\"/>\n<polygon fill=\"#000000\" stroke=\"#000000\" points=\"956.0979,-1675.099 945.5994,-1676.5246 954.6954,-1681.9571 956.0979,-1675.099\"/>\n</g>\n<!-- 139638936619984 -->\n<g id=\"node203\" class=\"node\">\n<title>139638936619984</title>\n<polygon fill=\"#d3d3d3\" stroke=\"#000000\" points=\"1573,-1676.5 1448,-1676.5 1448,-1657.5 1573,-1657.5 1573,-1676.5\"/>\n<text text-anchor=\"middle\" x=\"1510.5\" y=\"-1664.5\" font-family=\"monospace\" font-size=\"10.00\" fill=\"#000000\">ThnnConv2DBackward</text>\n</g>\n<!-- 139638937274384&#45;&gt;139638936619984 -->\n<g id=\"edge214\" class=\"edge\">\n<title>139638937274384&#45;&gt;139638936619984</title>\n<path fill=\"none\" stroke=\"#000000\" d=\"M1311.6346,-1717.9803C1352.6656,-1707.4618 1418.8308,-1690.4999 1463.4571,-1679.0597\"/>\n<polygon fill=\"#000000\" stroke=\"#000000\" points=\"1464.375,-1682.4377 1473.1926,-1676.564 1462.6367,-1675.6569 1464.375,-1682.4377\"/>\n</g>\n<!-- 139638936620176 -->\n<g id=\"node215\" class=\"node\">\n<title>139638936620176</title>\n<polygon fill=\"#d3d3d3\" stroke=\"#000000\" points=\"1978,-1676.5 1853,-1676.5 1853,-1657.5 1978,-1657.5 1978,-1676.5\"/>\n<text text-anchor=\"middle\" x=\"1915.5\" y=\"-1664.5\" font-family=\"monospace\" font-size=\"10.00\" fill=\"#000000\">ThnnConv2DBackward</text>\n</g>\n<!-- 139638937274384&#45;&gt;139638936620176 -->\n<g id=\"edge227\" class=\"edge\">\n<title>139638937274384&#45;&gt;139638936620176</title>\n<path fill=\"none\" stroke=\"#000000\" d=\"M1316.3261,-1724.8629C1429.8948,-1717.5904 1742.3235,-1696.8087 1844.5,-1682 1851.1179,-1681.0408 1858.0437,-1679.8346 1864.8652,-1678.525\"/>\n<polygon fill=\"#000000\" stroke=\"#000000\" points=\"1865.6185,-1681.9437 1874.737,-1676.5489 1864.2445,-1675.0799 1865.6185,-1681.9437\"/>\n</g>\n<!-- 139638936620624 -->\n<g id=\"node227\" class=\"node\">\n<title>139638936620624</title>\n<polygon fill=\"#d3d3d3\" stroke=\"#000000\" points=\"1305,-1676.5 1120,-1676.5 1120,-1657.5 1305,-1657.5 1305,-1676.5\"/>\n<text text-anchor=\"middle\" x=\"1212.5\" y=\"-1664.5\" font-family=\"monospace\" font-size=\"10.00\" fill=\"#000000\">MaxPool2DWithIndicesBackward</text>\n</g>\n<!-- 139638937274384&#45;&gt;139638936620624 -->\n<g id=\"edge240\" class=\"edge\">\n<title>139638937274384&#45;&gt;139638936620624</title>\n<path fill=\"none\" stroke=\"#000000\" d=\"M1264.5386,-1717.7796C1255.1937,-1708.6608 1241.0194,-1694.8294 1229.8226,-1683.9035\"/>\n<polygon fill=\"#000000\" stroke=\"#000000\" points=\"1232.2442,-1681.3762 1222.6426,-1676.8972 1227.3554,-1686.3862 1232.2442,-1681.3762\"/>\n</g>\n<!-- 139638937274064 -->\n<g id=\"node21\" class=\"node\">\n<title>139638937274064</title>\n<polygon fill=\"#d3d3d3\" stroke=\"#000000\" points=\"1704,-1858 1609,-1858 1609,-1839 1704,-1839 1704,-1858\"/>\n<text text-anchor=\"middle\" x=\"1656.5\" y=\"-1846\" font-family=\"monospace\" font-size=\"10.00\" fill=\"#000000\">ReluBackward0</text>\n</g>\n<!-- 139638937274064&#45;&gt;139638937274384 -->\n<g id=\"edge19\" class=\"edge\">\n<title>139638937274064&#45;&gt;139638937274384</title>\n<path fill=\"none\" stroke=\"#000000\" d=\"M1608.9166,-1843.5363C1563.9558,-1837.695 1495.2772,-1825.7578 1439.5,-1803 1416.5549,-1793.6381 1414.6161,-1784.1804 1392.5,-1773 1367.1248,-1760.172 1337.2267,-1748.6791 1313.875,-1740.4533\"/>\n<polygon fill=\"#000000\" stroke=\"#000000\" points=\"1314.8949,-1737.1026 1304.3001,-1737.1335 1312.6018,-1743.7163 1314.8949,-1737.1026\"/>\n</g>\n<!-- 139638937274768 -->\n<g id=\"node22\" class=\"node\">\n<title>139638937274768</title>\n<polygon fill=\"#d3d3d3\" stroke=\"#000000\" points=\"1852,-1973.5 1727,-1973.5 1727,-1954.5 1852,-1954.5 1852,-1973.5\"/>\n<text text-anchor=\"middle\" x=\"1789.5\" y=\"-1961.5\" font-family=\"monospace\" font-size=\"10.00\" fill=\"#000000\">ThnnConv2DBackward</text>\n</g>\n<!-- 139638937274768&#45;&gt;139638937274064 -->\n<g id=\"edge20\" class=\"edge\">\n<title>139638937274768&#45;&gt;139638937274064</title>\n<path fill=\"none\" stroke=\"#000000\" d=\"M1778.1605,-1954.1525C1755.2906,-1934.2918 1703.4322,-1889.2569 1675.3735,-1864.8902\"/>\n<polygon fill=\"#000000\" stroke=\"#000000\" points=\"1677.6561,-1862.2368 1667.8108,-1858.3225 1673.0662,-1867.5221 1677.6561,-1862.2368\"/>\n</g>\n<!-- 139638937274960 -->\n<g id=\"node23\" class=\"node\">\n<title>139638937274960</title>\n<polygon fill=\"#d3d3d3\" stroke=\"#000000\" points=\"1376,-2034 1293,-2034 1293,-2015 1376,-2015 1376,-2034\"/>\n<text text-anchor=\"middle\" x=\"1334.5\" y=\"-2022\" font-family=\"monospace\" font-size=\"10.00\" fill=\"#000000\">CatBackward</text>\n</g>\n<!-- 139638937274960&#45;&gt;139638937274768 -->\n<g id=\"edge21\" class=\"edge\">\n<title>139638937274960&#45;&gt;139638937274768</title>\n<path fill=\"none\" stroke=\"#000000\" d=\"M1376.1544,-2020.8074C1446.8281,-2014.2649 1594.6268,-1999.3813 1718.5,-1979 1724.7001,-1977.9799 1731.1793,-1976.7879 1737.5934,-1975.5297\"/>\n<polygon fill=\"#000000\" stroke=\"#000000\" points=\"1738.4614,-1978.9251 1747.5698,-1973.5133 1737.0746,-1972.0639 1738.4614,-1978.9251\"/>\n</g>\n<!-- 139638936618960 -->\n<g id=\"node167\" class=\"node\">\n<title>139638936618960</title>\n<polygon fill=\"#d3d3d3\" stroke=\"#000000\" points=\"702,-1973.5 577,-1973.5 577,-1954.5 702,-1954.5 702,-1973.5\"/>\n<text text-anchor=\"middle\" x=\"639.5\" y=\"-1961.5\" font-family=\"monospace\" font-size=\"10.00\" fill=\"#000000\">ThnnConv2DBackward</text>\n</g>\n<!-- 139638937274960&#45;&gt;139638936618960 -->\n<g id=\"edge175\" class=\"edge\">\n<title>139638937274960&#45;&gt;139638936618960</title>\n<path fill=\"none\" stroke=\"#000000\" d=\"M1292.6687,-2022.192C1171.8089,-2015.4057 823.5626,-1994.9903 710.5,-1979 703.795,-1978.0517 696.7757,-1976.8404 689.8696,-1975.5183\"/>\n<polygon fill=\"#000000\" stroke=\"#000000\" points=\"690.3745,-1972.05 679.8821,-1973.5197 689.0009,-1978.9139 690.3745,-1972.05\"/>\n</g>\n<!-- 139638936619152 -->\n<g id=\"node179\" class=\"node\">\n<title>139638936619152</title>\n<polygon fill=\"#d3d3d3\" stroke=\"#000000\" points=\"1107,-1973.5 982,-1973.5 982,-1954.5 1107,-1954.5 1107,-1973.5\"/>\n<text text-anchor=\"middle\" x=\"1044.5\" y=\"-1961.5\" font-family=\"monospace\" font-size=\"10.00\" fill=\"#000000\">ThnnConv2DBackward</text>\n</g>\n<!-- 139638937274960&#45;&gt;139638936619152 -->\n<g id=\"edge188\" class=\"edge\">\n<title>139638937274960&#45;&gt;139638936619152</title>\n<path fill=\"none\" stroke=\"#000000\" d=\"M1292.915,-2015.9035C1248.8565,-2006.7855 1177.2622,-1991.9401 1115.5,-1979 1110.3904,-1977.9295 1105.0748,-1976.8125 1099.7536,-1975.6922\"/>\n<polygon fill=\"#000000\" stroke=\"#000000\" points=\"1100.0735,-1972.1828 1089.5666,-1973.5449 1098.6297,-1979.0323 1100.0735,-1972.1828\"/>\n</g>\n<!-- 139638936619600 -->\n<g id=\"node191\" class=\"node\">\n<title>139638936619600</title>\n<polygon fill=\"#d3d3d3\" stroke=\"#000000\" points=\"1447,-1973.5 1262,-1973.5 1262,-1954.5 1447,-1954.5 1447,-1973.5\"/>\n<text text-anchor=\"middle\" x=\"1354.5\" y=\"-1961.5\" font-family=\"monospace\" font-size=\"10.00\" fill=\"#000000\">MaxPool2DWithIndicesBackward</text>\n</g>\n<!-- 139638937274960&#45;&gt;139638936619600 -->\n<g id=\"edge201\" class=\"edge\">\n<title>139638937274960&#45;&gt;139638936619600</title>\n<path fill=\"none\" stroke=\"#000000\" d=\"M1337.7133,-2014.7796C1340.4959,-2006.3623 1344.606,-1993.9295 1348.0626,-1983.473\"/>\n<polygon fill=\"#000000\" stroke=\"#000000\" points=\"1351.4125,-1984.4905 1351.2282,-1973.8972 1344.7663,-1982.2933 1351.4125,-1984.4905\"/>\n</g>\n<!-- 139638937274576 -->\n<g id=\"node24\" class=\"node\">\n<title>139638937274576</title>\n<polygon fill=\"#d3d3d3\" stroke=\"#000000\" points=\"1193,-2155 1098,-2155 1098,-2136 1193,-2136 1193,-2155\"/>\n<text text-anchor=\"middle\" x=\"1145.5\" y=\"-2143\" font-family=\"monospace\" font-size=\"10.00\" fill=\"#000000\">ReluBackward0</text>\n</g>\n<!-- 139638937274576&#45;&gt;139638937274960 -->\n<g id=\"edge22\" class=\"edge\">\n<title>139638937274576&#45;&gt;139638937274960</title>\n<path fill=\"none\" stroke=\"#000000\" d=\"M1157.4615,-2135.8377C1176.2565,-2120.864 1214.1147,-2091.538 1248.5,-2070 1266.8088,-2058.5319 1288.2892,-2047.1659 1305.2022,-2038.6624\"/>\n<polygon fill=\"#000000\" stroke=\"#000000\" points=\"1307.175,-2041.5905 1314.574,-2034.0073 1304.061,-2035.3213 1307.175,-2041.5905\"/>\n</g>\n<!-- 139638937275536 -->\n<g id=\"node25\" class=\"node\">\n<title>139638937275536</title>\n<polygon fill=\"#d3d3d3\" stroke=\"#000000\" points=\"976,-2270.5 851,-2270.5 851,-2251.5 976,-2251.5 976,-2270.5\"/>\n<text text-anchor=\"middle\" x=\"913.5\" y=\"-2258.5\" font-family=\"monospace\" font-size=\"10.00\" fill=\"#000000\">ThnnConv2DBackward</text>\n</g>\n<!-- 139638937275536&#45;&gt;139638937274576 -->\n<g id=\"edge23\" class=\"edge\">\n<title>139638937275536&#45;&gt;139638937274576</title>\n<path fill=\"none\" stroke=\"#000000\" d=\"M927.2758,-2251.2699C948.0806,-2236.8559 989.0704,-2209.5401 1026.5,-2191 1052.3405,-2178.2003 1082.7253,-2166.6368 1106.3237,-2158.3701\"/>\n<polygon fill=\"#000000\" stroke=\"#000000\" points=\"1107.6774,-2161.6056 1115.9888,-2155.0351 1105.394,-2154.9884 1107.6774,-2161.6056\"/>\n</g>\n<!-- 139638937275792 -->\n<g id=\"node26\" class=\"node\">\n<title>139638937275792</title>\n<polygon fill=\"#d3d3d3\" stroke=\"#000000\" points=\"1382,-2331 1197,-2331 1197,-2312 1382,-2312 1382,-2331\"/>\n<text text-anchor=\"middle\" x=\"1289.5\" y=\"-2319\" font-family=\"monospace\" font-size=\"10.00\" fill=\"#000000\">MaxPool2DWithIndicesBackward</text>\n</g>\n<!-- 139638937275792&#45;&gt;139638937275536 -->\n<g id=\"edge24\" class=\"edge\">\n<title>139638937275792&#45;&gt;139638937275536</title>\n<path fill=\"none\" stroke=\"#000000\" d=\"M1217.1986,-2311.9615C1155.272,-2303.4938 1063.7985,-2290.2782 984.5,-2276 978.7015,-2274.9559 972.6521,-2273.7928 966.6371,-2272.5888\"/>\n<polygon fill=\"#000000\" stroke=\"#000000\" points=\"967.0951,-2269.1102 956.5969,-2270.5381 965.6942,-2275.9686 967.0951,-2269.1102\"/>\n</g>\n<!-- 139638936617936 -->\n<g id=\"node131\" class=\"node\">\n<title>139638936617936</title>\n<polygon fill=\"#d3d3d3\" stroke=\"#000000\" points=\"1584,-2270.5 1459,-2270.5 1459,-2251.5 1584,-2251.5 1584,-2270.5\"/>\n<text text-anchor=\"middle\" x=\"1521.5\" y=\"-2258.5\" font-family=\"monospace\" font-size=\"10.00\" fill=\"#000000\">ThnnConv2DBackward</text>\n</g>\n<!-- 139638937275792&#45;&gt;139638936617936 -->\n<g id=\"edge136\" class=\"edge\">\n<title>139638937275792&#45;&gt;139638936617936</title>\n<path fill=\"none\" stroke=\"#000000\" d=\"M1326.0052,-2311.9803C1366.256,-2301.4839 1431.1113,-2284.5712 1474.9777,-2273.1319\"/>\n<polygon fill=\"#000000\" stroke=\"#000000\" points=\"1476.0317,-2276.4742 1484.8249,-2270.564 1474.2653,-2269.7007 1476.0317,-2276.4742\"/>\n</g>\n<!-- 139638936618128 -->\n<g id=\"node143\" class=\"node\">\n<title>139638936618128</title>\n<polygon fill=\"#d3d3d3\" stroke=\"#000000\" points=\"1989,-2270.5 1864,-2270.5 1864,-2251.5 1989,-2251.5 1989,-2270.5\"/>\n<text text-anchor=\"middle\" x=\"1926.5\" y=\"-2258.5\" font-family=\"monospace\" font-size=\"10.00\" fill=\"#000000\">ThnnConv2DBackward</text>\n</g>\n<!-- 139638937275792&#45;&gt;139638936618128 -->\n<g id=\"edge149\" class=\"edge\">\n<title>139638937275792&#45;&gt;139638936618128</title>\n<path fill=\"none\" stroke=\"#000000\" d=\"M1382.2202,-2313.4433C1388.0672,-2312.9504 1393.8646,-2312.4658 1399.5,-2312 1602.1064,-2295.2537 1654.2922,-2305.0721 1855.5,-2276 1862.1183,-2275.0437 1869.0444,-2273.8392 1875.866,-2272.5304\"/>\n<polygon fill=\"#000000\" stroke=\"#000000\" points=\"1876.619,-2275.9492 1885.7379,-2270.5551 1875.2455,-2269.0853 1876.619,-2275.9492\"/>\n</g>\n<!-- 139638936618576 -->\n<g id=\"node155\" class=\"node\">\n<title>139638936618576</title>\n<polygon fill=\"#d3d3d3\" stroke=\"#000000\" points=\"1316,-2270.5 1131,-2270.5 1131,-2251.5 1316,-2251.5 1316,-2270.5\"/>\n<text text-anchor=\"middle\" x=\"1223.5\" y=\"-2258.5\" font-family=\"monospace\" font-size=\"10.00\" fill=\"#000000\">MaxPool2DWithIndicesBackward</text>\n</g>\n<!-- 139638937275792&#45;&gt;139638936618576 -->\n<g id=\"edge162\" class=\"edge\">\n<title>139638937275792&#45;&gt;139638936618576</title>\n<path fill=\"none\" stroke=\"#000000\" d=\"M1278.896,-2311.7796C1268.9482,-2302.6608 1253.8594,-2288.8294 1241.9402,-2277.9035\"/>\n<polygon fill=\"#000000\" stroke=\"#000000\" points=\"1244.0336,-2275.0745 1234.297,-2270.8972 1239.3035,-2280.2346 1244.0336,-2275.0745\"/>\n</g>\n<!-- 139638937275984 -->\n<g id=\"node27\" class=\"node\">\n<title>139638937275984</title>\n<polygon fill=\"#d3d3d3\" stroke=\"#000000\" points=\"1331,-2391.5 1248,-2391.5 1248,-2372.5 1331,-2372.5 1331,-2391.5\"/>\n<text text-anchor=\"middle\" x=\"1289.5\" y=\"-2379.5\" font-family=\"monospace\" font-size=\"10.00\" fill=\"#000000\">CatBackward</text>\n</g>\n<!-- 139638937275984&#45;&gt;139638937275792 -->\n<g id=\"edge25\" class=\"edge\">\n<title>139638937275984&#45;&gt;139638937275792</title>\n<path fill=\"none\" stroke=\"#000000\" d=\"M1289.5,-2372.2796C1289.5,-2364.0376 1289.5,-2351.9457 1289.5,-2341.629\"/>\n<polygon fill=\"#000000\" stroke=\"#000000\" points=\"1293.0001,-2341.3972 1289.5,-2331.3972 1286.0001,-2341.3973 1293.0001,-2341.3972\"/>\n</g>\n<!-- 139638937276112 -->\n<g id=\"node28\" class=\"node\">\n<title>139638937276112</title>\n<polygon fill=\"#d3d3d3\" stroke=\"#000000\" points=\"1761,-2507 1666,-2507 1666,-2488 1761,-2488 1761,-2507\"/>\n<text text-anchor=\"middle\" x=\"1713.5\" y=\"-2495\" font-family=\"monospace\" font-size=\"10.00\" fill=\"#000000\">ReluBackward0</text>\n</g>\n<!-- 139638937276112&#45;&gt;139638937275984 -->\n<g id=\"edge26\" class=\"edge\">\n<title>139638937276112&#45;&gt;139638937275984</title>\n<path fill=\"none\" stroke=\"#000000\" d=\"M1678.4416,-2487.9499C1601.7971,-2467.0715 1419.4023,-2417.3861 1334.4613,-2394.2477\"/>\n<polygon fill=\"#000000\" stroke=\"#000000\" points=\"1335.1677,-2390.8127 1324.5994,-2391.5613 1333.3279,-2397.5666 1335.1677,-2390.8127\"/>\n</g>\n<!-- 139638937276304 -->\n<g id=\"node29\" class=\"node\">\n<title>139638937276304</title>\n<polygon fill=\"#d3d3d3\" stroke=\"#000000\" points=\"1909,-2622.5 1784,-2622.5 1784,-2603.5 1909,-2603.5 1909,-2622.5\"/>\n<text text-anchor=\"middle\" x=\"1846.5\" y=\"-2610.5\" font-family=\"monospace\" font-size=\"10.00\" fill=\"#000000\">ThnnConv2DBackward</text>\n</g>\n<!-- 139638937276304&#45;&gt;139638937276112 -->\n<g id=\"edge27\" class=\"edge\">\n<title>139638937276304&#45;&gt;139638937276112</title>\n<path fill=\"none\" stroke=\"#000000\" d=\"M1835.1605,-2603.1525C1812.2906,-2583.2918 1760.4322,-2538.2569 1732.3735,-2513.8902\"/>\n<polygon fill=\"#000000\" stroke=\"#000000\" points=\"1734.6561,-2511.2368 1724.8108,-2507.3225 1730.0662,-2516.5221 1734.6561,-2511.2368\"/>\n</g>\n<!-- 139638937275472 -->\n<g id=\"node30\" class=\"node\">\n<title>139638937275472</title>\n<polygon fill=\"#d3d3d3\" stroke=\"#000000\" points=\"1382,-2683 1299,-2683 1299,-2664 1382,-2664 1382,-2683\"/>\n<text text-anchor=\"middle\" x=\"1340.5\" y=\"-2671\" font-family=\"monospace\" font-size=\"10.00\" fill=\"#000000\">CatBackward</text>\n</g>\n<!-- 139638937275472&#45;&gt;139638937276304 -->\n<g id=\"edge28\" class=\"edge\">\n<title>139638937275472&#45;&gt;139638937276304</title>\n<path fill=\"none\" stroke=\"#000000\" d=\"M1382.0719,-2670.5987C1459.7038,-2664.8604 1631.8592,-2650.6228 1775.5,-2628 1781.7886,-2627.0096 1788.361,-2625.8257 1794.86,-2624.5634\"/>\n<polygon fill=\"#000000\" stroke=\"#000000\" points=\"1795.8476,-2627.9349 1804.9611,-2622.5316 1794.4672,-2621.0723 1795.8476,-2627.9349\"/>\n</g>\n<!-- 139638936555472 -->\n<g id=\"node95\" class=\"node\">\n<title>139638936555472</title>\n<polygon fill=\"#d3d3d3\" stroke=\"#000000\" points=\"634,-2622.5 509,-2622.5 509,-2603.5 634,-2603.5 634,-2622.5\"/>\n<text text-anchor=\"middle\" x=\"571.5\" y=\"-2610.5\" font-family=\"monospace\" font-size=\"10.00\" fill=\"#000000\">ThnnConv2DBackward</text>\n</g>\n<!-- 139638937275472&#45;&gt;139638936555472 -->\n<g id=\"edge97\" class=\"edge\">\n<title>139638937275472&#45;&gt;139638936555472</title>\n<path fill=\"none\" stroke=\"#000000\" d=\"M1298.9887,-2672.8632C1190.5484,-2670.753 890.029,-2662.037 642.5,-2628 635.7914,-2627.0775 628.77,-2625.8812 621.8629,-2624.5666\"/>\n<polygon fill=\"#000000\" stroke=\"#000000\" points=\"622.366,-2621.0981 611.8745,-2622.5741 620.9966,-2627.9628 622.366,-2621.0981\"/>\n</g>\n<!-- 139638936617168 -->\n<g id=\"node107\" class=\"node\">\n<title>139638936617168</title>\n<polygon fill=\"#d3d3d3\" stroke=\"#000000\" points=\"1039,-2622.5 914,-2622.5 914,-2603.5 1039,-2603.5 1039,-2622.5\"/>\n<text text-anchor=\"middle\" x=\"976.5\" y=\"-2610.5\" font-family=\"monospace\" font-size=\"10.00\" fill=\"#000000\">ThnnConv2DBackward</text>\n</g>\n<!-- 139638937275472&#45;&gt;139638936617168 -->\n<g id=\"edge110\" class=\"edge\">\n<title>139638937275472&#45;&gt;139638936617168</title>\n<path fill=\"none\" stroke=\"#000000\" d=\"M1298.6524,-2667.7286C1241.6874,-2659.7066 1136.6186,-2644.3212 1047.5,-2628 1041.784,-2626.9532 1035.8229,-2625.7966 1029.8906,-2624.6039\"/>\n<polygon fill=\"#000000\" stroke=\"#000000\" points=\"1030.4812,-2621.1523 1019.9823,-2622.5754 1029.0771,-2628.01 1030.4812,-2621.1523\"/>\n</g>\n<!-- 139638936617616 -->\n<g id=\"node119\" class=\"node\">\n<title>139638936617616</title>\n<polygon fill=\"#d3d3d3\" stroke=\"#000000\" points=\"1504,-2622.5 1319,-2622.5 1319,-2603.5 1504,-2603.5 1504,-2622.5\"/>\n<text text-anchor=\"middle\" x=\"1411.5\" y=\"-2610.5\" font-family=\"monospace\" font-size=\"10.00\" fill=\"#000000\">MaxPool2DWithIndicesBackward</text>\n</g>\n<!-- 139638937275472&#45;&gt;139638936617616 -->\n<g id=\"edge123\" class=\"edge\">\n<title>139638937275472&#45;&gt;139638936617616</title>\n<path fill=\"none\" stroke=\"#000000\" d=\"M1351.9074,-2663.7796C1362.7117,-2654.5731 1379.1533,-2640.563 1392.0317,-2629.5892\"/>\n<polygon fill=\"#000000\" stroke=\"#000000\" points=\"1394.5436,-2632.0471 1399.8851,-2622.8972 1390.0035,-2626.7191 1394.5436,-2632.0471\"/>\n</g>\n<!-- 139638936553104 -->\n<g id=\"node31\" class=\"node\">\n<title>139638936553104</title>\n<polygon fill=\"#d3d3d3\" stroke=\"#000000\" points=\"1786,-2804 1691,-2804 1691,-2785 1786,-2785 1786,-2804\"/>\n<text text-anchor=\"middle\" x=\"1738.5\" y=\"-2792\" font-family=\"monospace\" font-size=\"10.00\" fill=\"#000000\">ReluBackward0</text>\n</g>\n<!-- 139638936553104&#45;&gt;139638937275472 -->\n<g id=\"edge29\" class=\"edge\">\n<title>139638936553104&#45;&gt;139638937275472</title>\n<path fill=\"none\" stroke=\"#000000\" d=\"M1714.163,-2784.9799C1674.8704,-2769.8129 1594.8446,-2739.7614 1525.5,-2719 1481.0424,-2705.6897 1429.745,-2693.3017 1392.4599,-2684.8235\"/>\n<polygon fill=\"#000000\" stroke=\"#000000\" points=\"1392.8577,-2681.3253 1382.3325,-2682.5383 1391.3169,-2688.1536 1392.8577,-2681.3253\"/>\n</g>\n<!-- 139638936552656 -->\n<g id=\"node32\" class=\"node\">\n<title>139638936552656</title>\n<polygon fill=\"#d3d3d3\" stroke=\"#000000\" points=\"1991,-2919.5 1866,-2919.5 1866,-2900.5 1991,-2900.5 1991,-2919.5\"/>\n<text text-anchor=\"middle\" x=\"1928.5\" y=\"-2907.5\" font-family=\"monospace\" font-size=\"10.00\" fill=\"#000000\">ThnnConv2DBackward</text>\n</g>\n<!-- 139638936552656&#45;&gt;139638936553104 -->\n<g id=\"edge30\" class=\"edge\">\n<title>139638936552656&#45;&gt;139638936553104</title>\n<path fill=\"none\" stroke=\"#000000\" d=\"M1918.8842,-2900.362C1903.9835,-2885.8221 1873.9525,-2858.0615 1844.5,-2840 1822.9825,-2826.8046 1796.9586,-2815.5733 1776.0815,-2807.5706\"/>\n<polygon fill=\"#000000\" stroke=\"#000000\" points=\"1777.1805,-2804.2449 1766.5881,-2804.0164 1774.7261,-2810.8005 1777.1805,-2804.2449\"/>\n</g>\n<!-- 139638936553616 -->\n<g id=\"node33\" class=\"node\">\n<title>139638936553616</title>\n<polygon fill=\"#d3d3d3\" stroke=\"#000000\" points=\"1548,-2980 1363,-2980 1363,-2961 1548,-2961 1548,-2980\"/>\n<text text-anchor=\"middle\" x=\"1455.5\" y=\"-2968\" font-family=\"monospace\" font-size=\"10.00\" fill=\"#000000\">MaxPool2DWithIndicesBackward</text>\n</g>\n<!-- 139638936553616&#45;&gt;139638936552656 -->\n<g id=\"edge31\" class=\"edge\">\n<title>139638936553616&#45;&gt;139638936552656</title>\n<path fill=\"none\" stroke=\"#000000\" d=\"M1548.0484,-2962.5562C1629.7493,-2954.9415 1751.9374,-2942.0849 1857.5,-2925 1863.7028,-2923.9961 1870.1836,-2922.814 1876.5986,-2921.5613\"/>\n<polygon fill=\"#000000\" stroke=\"#000000\" points=\"1877.4647,-2924.9572 1886.5758,-2919.55 1876.0814,-2918.0952 1877.4647,-2924.9572\"/>\n</g>\n<!-- 139638936553744 -->\n<g id=\"node59\" class=\"node\">\n<title>139638936553744</title>\n<polygon fill=\"#d3d3d3\" stroke=\"#000000\" points=\"841,-2919.5 716,-2919.5 716,-2900.5 841,-2900.5 841,-2919.5\"/>\n<text text-anchor=\"middle\" x=\"778.5\" y=\"-2907.5\" font-family=\"monospace\" font-size=\"10.00\" fill=\"#000000\">ThnnConv2DBackward</text>\n</g>\n<!-- 139638936553616&#45;&gt;139638936553744 -->\n<g id=\"edge58\" class=\"edge\">\n<title>139638936553616&#45;&gt;139638936553744</title>\n<path fill=\"none\" stroke=\"#000000\" d=\"M1362.9321,-2965.0663C1218.456,-2956.3283 945.9194,-2938.7424 849.5,-2925 842.7961,-2924.0445 835.7773,-2922.829 828.8715,-2921.5048\"/>\n<polygon fill=\"#000000\" stroke=\"#000000\" points=\"829.377,-2918.0366 818.8843,-2919.5045 828.0022,-2924.9002 829.377,-2918.0366\"/>\n</g>\n<!-- 139638936554704 -->\n<g id=\"node71\" class=\"node\">\n<title>139638936554704</title>\n<polygon fill=\"#d3d3d3\" stroke=\"#000000\" points=\"1246,-2919.5 1121,-2919.5 1121,-2900.5 1246,-2900.5 1246,-2919.5\"/>\n<text text-anchor=\"middle\" x=\"1183.5\" y=\"-2907.5\" font-family=\"monospace\" font-size=\"10.00\" fill=\"#000000\">ThnnConv2DBackward</text>\n</g>\n<!-- 139638936553616&#45;&gt;139638936554704 -->\n<g id=\"edge71\" class=\"edge\">\n<title>139638936553616&#45;&gt;139638936554704</title>\n<path fill=\"none\" stroke=\"#000000\" d=\"M1412.7008,-2960.9803C1365.0134,-2950.3734 1287.869,-2933.2144 1236.4276,-2921.7725\"/>\n<polygon fill=\"#000000\" stroke=\"#000000\" points=\"1237.0197,-2918.3187 1226.4983,-2919.564 1235.4998,-2925.1518 1237.0197,-2918.3187\"/>\n</g>\n<!-- 139638936555088 -->\n<g id=\"node83\" class=\"node\">\n<title>139638936555088</title>\n<polygon fill=\"#d3d3d3\" stroke=\"#000000\" points=\"1586,-2919.5 1401,-2919.5 1401,-2900.5 1586,-2900.5 1586,-2919.5\"/>\n<text text-anchor=\"middle\" x=\"1493.5\" y=\"-2907.5\" font-family=\"monospace\" font-size=\"10.00\" fill=\"#000000\">MaxPool2DWithIndicesBackward</text>\n</g>\n<!-- 139638936553616&#45;&gt;139638936555088 -->\n<g id=\"edge84\" class=\"edge\">\n<title>139638936553616&#45;&gt;139638936555088</title>\n<path fill=\"none\" stroke=\"#000000\" d=\"M1461.6054,-2960.7796C1467.0575,-2952.0992 1475.1919,-2939.1485 1481.881,-2928.4987\"/>\n<polygon fill=\"#000000\" stroke=\"#000000\" points=\"1484.9285,-2930.227 1487.2836,-2919.8972 1479.0008,-2926.5038 1484.9285,-2930.227\"/>\n</g>\n<!-- 139638936553424 -->\n<g id=\"node34\" class=\"node\">\n<title>139638936553424</title>\n<polygon fill=\"#d3d3d3\" stroke=\"#000000\" points=\"1518,-3040.5 1393,-3040.5 1393,-3021.5 1518,-3021.5 1518,-3040.5\"/>\n<text text-anchor=\"middle\" x=\"1455.5\" y=\"-3028.5\" font-family=\"monospace\" font-size=\"10.00\" fill=\"#000000\">ThnnConv2DBackward</text>\n</g>\n<!-- 139638936553424&#45;&gt;139638936553616 -->\n<g id=\"edge32\" class=\"edge\">\n<title>139638936553424&#45;&gt;139638936553616</title>\n<path fill=\"none\" stroke=\"#000000\" d=\"M1455.5,-3021.2796C1455.5,-3013.0376 1455.5,-3000.9457 1455.5,-2990.629\"/>\n<polygon fill=\"#000000\" stroke=\"#000000\" points=\"1459.0001,-2990.3972 1455.5,-2980.3972 1452.0001,-2990.3973 1459.0001,-2990.3972\"/>\n</g>\n<!-- 139638936552976 -->\n<g id=\"node35\" class=\"node\">\n<title>139638936552976</title>\n<polygon fill=\"#d3d3d3\" stroke=\"#000000\" points=\"1372,-3101 1277,-3101 1277,-3082 1372,-3082 1372,-3101\"/>\n<text text-anchor=\"middle\" x=\"1324.5\" y=\"-3089\" font-family=\"monospace\" font-size=\"10.00\" fill=\"#000000\">ReluBackward0</text>\n</g>\n<!-- 139638936552976&#45;&gt;139638936553424 -->\n<g id=\"edge33\" class=\"edge\">\n<title>139638936552976&#45;&gt;139638936553424</title>\n<path fill=\"none\" stroke=\"#000000\" d=\"M1345.2573,-3081.9136C1366.9122,-3071.9127 1401.0653,-3056.1397 1425.6203,-3044.7994\"/>\n<polygon fill=\"#000000\" stroke=\"#000000\" points=\"1427.2287,-3047.9119 1434.8398,-3040.5416 1424.2937,-3041.5569 1427.2287,-3047.9119\"/>\n</g>\n<!-- 139638936552912 -->\n<g id=\"node36\" class=\"node\">\n<title>139638936552912</title>\n<polygon fill=\"#d3d3d3\" stroke=\"#000000\" points=\"1387,-3161.5 1220,-3161.5 1220,-3142.5 1387,-3142.5 1387,-3161.5\"/>\n<text text-anchor=\"middle\" x=\"1303.5\" y=\"-3149.5\" font-family=\"monospace\" font-size=\"10.00\" fill=\"#000000\">MkldnnConvolutionBackward</text>\n</g>\n<!-- 139638936552912&#45;&gt;139638936552976 -->\n<g id=\"edge34\" class=\"edge\">\n<title>139638936552912&#45;&gt;139638936552976</title>\n<path fill=\"none\" stroke=\"#000000\" d=\"M1306.874,-3142.2796C1309.7957,-3133.8623 1314.1113,-3121.4295 1317.7408,-3110.973\"/>\n<polygon fill=\"#000000\" stroke=\"#000000\" points=\"1321.0919,-3111.992 1321.0646,-3101.3972 1314.4789,-3109.6966 1321.0919,-3111.992\"/>\n</g>\n<!-- 139638936553808 -->\n<g id=\"node37\" class=\"node\">\n<title>139638936553808</title>\n<polygon fill=\"#d3d3d3\" stroke=\"#000000\" points=\"1235,-3222 1050,-3222 1050,-3203 1235,-3203 1235,-3222\"/>\n<text text-anchor=\"middle\" x=\"1142.5\" y=\"-3210\" font-family=\"monospace\" font-size=\"10.00\" fill=\"#000000\">MaxPool2DWithIndicesBackward</text>\n</g>\n<!-- 139638936553808&#45;&gt;139638936552912 -->\n<g id=\"edge35\" class=\"edge\">\n<title>139638936553808&#45;&gt;139638936552912</title>\n<path fill=\"none\" stroke=\"#000000\" d=\"M1168.0109,-3202.9136C1195.096,-3192.7357 1238.09,-3176.5795 1268.3688,-3165.2015\"/>\n<polygon fill=\"#000000\" stroke=\"#000000\" points=\"1269.9787,-3168.3355 1278.1084,-3161.5416 1267.5163,-3161.7829 1269.9787,-3168.3355\"/>\n</g>\n<!-- 139638936553936 -->\n<g id=\"node38\" class=\"node\">\n<title>139638936553936</title>\n<polygon fill=\"#d3d3d3\" stroke=\"#000000\" points=\"1190,-3282.5 1095,-3282.5 1095,-3263.5 1190,-3263.5 1190,-3282.5\"/>\n<text text-anchor=\"middle\" x=\"1142.5\" y=\"-3270.5\" font-family=\"monospace\" font-size=\"10.00\" fill=\"#000000\">ReluBackward0</text>\n</g>\n<!-- 139638936553936&#45;&gt;139638936553808 -->\n<g id=\"edge36\" class=\"edge\">\n<title>139638936553936&#45;&gt;139638936553808</title>\n<path fill=\"none\" stroke=\"#000000\" d=\"M1142.5,-3263.2796C1142.5,-3255.0376 1142.5,-3242.9457 1142.5,-3232.629\"/>\n<polygon fill=\"#000000\" stroke=\"#000000\" points=\"1146.0001,-3232.3972 1142.5,-3222.3972 1139.0001,-3232.3973 1146.0001,-3232.3972\"/>\n</g>\n<!-- 139638936554064 -->\n<g id=\"node39\" class=\"node\">\n<title>139638936554064</title>\n<polygon fill=\"#d3d3d3\" stroke=\"#000000\" points=\"1226,-3343 1059,-3343 1059,-3324 1226,-3324 1226,-3343\"/>\n<text text-anchor=\"middle\" x=\"1142.5\" y=\"-3331\" font-family=\"monospace\" font-size=\"10.00\" fill=\"#000000\">MkldnnConvolutionBackward</text>\n</g>\n<!-- 139638936554064&#45;&gt;139638936553936 -->\n<g id=\"edge37\" class=\"edge\">\n<title>139638936554064&#45;&gt;139638936553936</title>\n<path fill=\"none\" stroke=\"#000000\" d=\"M1142.5,-3323.7796C1142.5,-3315.5376 1142.5,-3303.4457 1142.5,-3293.129\"/>\n<polygon fill=\"#000000\" stroke=\"#000000\" points=\"1146.0001,-3292.8972 1142.5,-3282.8972 1139.0001,-3292.8973 1146.0001,-3292.8972\"/>\n</g>\n<!-- 139638936554192 -->\n<g id=\"node40\" class=\"node\">\n<title>139638936554192</title>\n<polygon fill=\"#d3d3d3\" stroke=\"#000000\" points=\"1134,-3398 1033,-3398 1033,-3379 1134,-3379 1134,-3398\"/>\n<text text-anchor=\"middle\" x=\"1083.5\" y=\"-3386\" font-family=\"monospace\" font-size=\"10.00\" fill=\"#000000\">AccumulateGrad</text>\n</g>\n<!-- 139638936554192&#45;&gt;139638936554064 -->\n<g id=\"edge38\" class=\"edge\">\n<title>139638936554192&#45;&gt;139638936554064</title>\n<path fill=\"none\" stroke=\"#000000\" d=\"M1093.777,-3378.9197C1102.2176,-3371.0514 1114.377,-3359.7164 1124.4369,-3350.3385\"/>\n<polygon fill=\"#000000\" stroke=\"#000000\" points=\"1127.0154,-3352.7198 1131.9435,-3343.3408 1122.2422,-3347.5995 1127.0154,-3352.7198\"/>\n</g>\n<!-- 139638936796368 -->\n<g id=\"node41\" class=\"node\">\n<title>139638936796368</title>\n<polygon fill=\"#add8e6\" stroke=\"#000000\" points=\"1134,-3464 1033,-3464 1033,-3434 1134,-3434 1134,-3464\"/>\n<text text-anchor=\"middle\" x=\"1083.5\" y=\"-3452\" font-family=\"monospace\" font-size=\"10.00\" fill=\"#000000\">0.0.weight</text>\n<text text-anchor=\"middle\" x=\"1083.5\" y=\"-3441\" font-family=\"monospace\" font-size=\"10.00\" fill=\"#000000\"> (64, 1, 8, 8)</text>\n</g>\n<!-- 139638936796368&#45;&gt;139638936554192 -->\n<g id=\"edge39\" class=\"edge\">\n<title>139638936796368&#45;&gt;139638936554192</title>\n<path fill=\"none\" stroke=\"#000000\" d=\"M1083.5,-3433.7333C1083.5,-3426.0322 1083.5,-3416.5977 1083.5,-3408.3414\"/>\n<polygon fill=\"#000000\" stroke=\"#000000\" points=\"1087.0001,-3408.0864 1083.5,-3398.0864 1080.0001,-3408.0864 1087.0001,-3408.0864\"/>\n</g>\n<!-- 139638936554448 -->\n<g id=\"node42\" class=\"node\">\n<title>139638936554448</title>\n<polygon fill=\"#d3d3d3\" stroke=\"#000000\" points=\"1253,-3398 1152,-3398 1152,-3379 1253,-3379 1253,-3398\"/>\n<text text-anchor=\"middle\" x=\"1202.5\" y=\"-3386\" font-family=\"monospace\" font-size=\"10.00\" fill=\"#000000\">AccumulateGrad</text>\n</g>\n<!-- 139638936554448&#45;&gt;139638936554064 -->\n<g id=\"edge40\" class=\"edge\">\n<title>139638936554448&#45;&gt;139638936554064</title>\n<path fill=\"none\" stroke=\"#000000\" d=\"M1192.0488,-3378.9197C1183.4651,-3371.0514 1171.0997,-3359.7164 1160.8693,-3350.3385\"/>\n<polygon fill=\"#000000\" stroke=\"#000000\" points=\"1162.9721,-3347.5181 1153.2355,-3343.3408 1158.242,-3352.6782 1162.9721,-3347.5181\"/>\n</g>\n<!-- 139638936796448 -->\n<g id=\"node43\" class=\"node\">\n<title>139638936796448</title>\n<polygon fill=\"#add8e6\" stroke=\"#000000\" points=\"1235,-3464 1170,-3464 1170,-3434 1235,-3434 1235,-3464\"/>\n<text text-anchor=\"middle\" x=\"1202.5\" y=\"-3452\" font-family=\"monospace\" font-size=\"10.00\" fill=\"#000000\">0.0.bias</text>\n<text text-anchor=\"middle\" x=\"1202.5\" y=\"-3441\" font-family=\"monospace\" font-size=\"10.00\" fill=\"#000000\"> (64)</text>\n</g>\n<!-- 139638936796448&#45;&gt;139638936554448 -->\n<g id=\"edge41\" class=\"edge\">\n<title>139638936796448&#45;&gt;139638936554448</title>\n<path fill=\"none\" stroke=\"#000000\" d=\"M1202.5,-3433.7333C1202.5,-3426.0322 1202.5,-3416.5977 1202.5,-3408.3414\"/>\n<polygon fill=\"#000000\" stroke=\"#000000\" points=\"1206.0001,-3408.0864 1202.5,-3398.0864 1199.0001,-3408.0864 1206.0001,-3408.0864\"/>\n</g>\n<!-- 139638936553872 -->\n<g id=\"node44\" class=\"node\">\n<title>139638936553872</title>\n<polygon fill=\"#d3d3d3\" stroke=\"#000000\" points=\"1354,-3222 1253,-3222 1253,-3203 1354,-3203 1354,-3222\"/>\n<text text-anchor=\"middle\" x=\"1303.5\" y=\"-3210\" font-family=\"monospace\" font-size=\"10.00\" fill=\"#000000\">AccumulateGrad</text>\n</g>\n<!-- 139638936553872&#45;&gt;139638936552912 -->\n<g id=\"edge42\" class=\"edge\">\n<title>139638936553872&#45;&gt;139638936552912</title>\n<path fill=\"none\" stroke=\"#000000\" d=\"M1303.5,-3202.7796C1303.5,-3194.5376 1303.5,-3182.4457 1303.5,-3172.129\"/>\n<polygon fill=\"#000000\" stroke=\"#000000\" points=\"1307.0001,-3171.8972 1303.5,-3161.8972 1300.0001,-3171.8973 1307.0001,-3171.8972\"/>\n</g>\n<!-- 139638936796528 -->\n<g id=\"node45\" class=\"node\">\n<title>139638936796528</title>\n<polygon fill=\"#add8e6\" stroke=\"#000000\" points=\"1357,-3288 1250,-3288 1250,-3258 1357,-3258 1357,-3288\"/>\n<text text-anchor=\"middle\" x=\"1303.5\" y=\"-3276\" font-family=\"monospace\" font-size=\"10.00\" fill=\"#000000\">1.0.weight</text>\n<text text-anchor=\"middle\" x=\"1303.5\" y=\"-3265\" font-family=\"monospace\" font-size=\"10.00\" fill=\"#000000\"> (64, 64, 1, 1)</text>\n</g>\n<!-- 139638936796528&#45;&gt;139638936553872 -->\n<g id=\"edge43\" class=\"edge\">\n<title>139638936796528&#45;&gt;139638936553872</title>\n<path fill=\"none\" stroke=\"#000000\" d=\"M1303.5,-3257.7333C1303.5,-3250.0322 1303.5,-3240.5977 1303.5,-3232.3414\"/>\n<polygon fill=\"#000000\" stroke=\"#000000\" points=\"1307.0001,-3232.0864 1303.5,-3222.0864 1300.0001,-3232.0864 1307.0001,-3232.0864\"/>\n</g>\n<!-- 139638936553680 -->\n<g id=\"node46\" class=\"node\">\n<title>139638936553680</title>\n<polygon fill=\"#d3d3d3\" stroke=\"#000000\" points=\"1473,-3222 1372,-3222 1372,-3203 1473,-3203 1473,-3222\"/>\n<text text-anchor=\"middle\" x=\"1422.5\" y=\"-3210\" font-family=\"monospace\" font-size=\"10.00\" fill=\"#000000\">AccumulateGrad</text>\n</g>\n<!-- 139638936553680&#45;&gt;139638936552912 -->\n<g id=\"edge44\" class=\"edge\">\n<title>139638936553680&#45;&gt;139638936552912</title>\n<path fill=\"none\" stroke=\"#000000\" d=\"M1403.6441,-3202.9136C1384.1469,-3193.0012 1353.4965,-3177.4184 1331.2368,-3166.1015\"/>\n<polygon fill=\"#000000\" stroke=\"#000000\" points=\"1332.768,-3162.9536 1322.2677,-3161.5416 1329.5956,-3169.1935 1332.768,-3162.9536\"/>\n</g>\n<!-- 139638936796288 -->\n<g id=\"node47\" class=\"node\">\n<title>139638936796288</title>\n<polygon fill=\"#add8e6\" stroke=\"#000000\" points=\"1455,-3288 1390,-3288 1390,-3258 1455,-3258 1455,-3288\"/>\n<text text-anchor=\"middle\" x=\"1422.5\" y=\"-3276\" font-family=\"monospace\" font-size=\"10.00\" fill=\"#000000\">1.0.bias</text>\n<text text-anchor=\"middle\" x=\"1422.5\" y=\"-3265\" font-family=\"monospace\" font-size=\"10.00\" fill=\"#000000\"> (64)</text>\n</g>\n<!-- 139638936796288&#45;&gt;139638936553680 -->\n<g id=\"edge45\" class=\"edge\">\n<title>139638936796288&#45;&gt;139638936553680</title>\n<path fill=\"none\" stroke=\"#000000\" d=\"M1422.5,-3257.7333C1422.5,-3250.0322 1422.5,-3240.5977 1422.5,-3232.3414\"/>\n<polygon fill=\"#000000\" stroke=\"#000000\" points=\"1426.0001,-3232.0864 1422.5,-3222.0864 1419.0001,-3232.0864 1426.0001,-3232.0864\"/>\n</g>\n<!-- 139638936553232 -->\n<g id=\"node48\" class=\"node\">\n<title>139638936553232</title>\n<polygon fill=\"#d3d3d3\" stroke=\"#000000\" points=\"1506,-3101 1405,-3101 1405,-3082 1506,-3082 1506,-3101\"/>\n<text text-anchor=\"middle\" x=\"1455.5\" y=\"-3089\" font-family=\"monospace\" font-size=\"10.00\" fill=\"#000000\">AccumulateGrad</text>\n</g>\n<!-- 139638936553232&#45;&gt;139638936553424 -->\n<g id=\"edge46\" class=\"edge\">\n<title>139638936553232&#45;&gt;139638936553424</title>\n<path fill=\"none\" stroke=\"#000000\" d=\"M1455.5,-3081.7796C1455.5,-3073.5376 1455.5,-3061.4457 1455.5,-3051.129\"/>\n<polygon fill=\"#000000\" stroke=\"#000000\" points=\"1459.0001,-3050.8972 1455.5,-3040.8972 1452.0001,-3050.8973 1459.0001,-3050.8972\"/>\n</g>\n<!-- 139638936796608 -->\n<g id=\"node49\" class=\"node\">\n<title>139638936796608</title>\n<polygon fill=\"#add8e6\" stroke=\"#000000\" points=\"1518,-3167 1405,-3167 1405,-3137 1518,-3137 1518,-3167\"/>\n<text text-anchor=\"middle\" x=\"1461.5\" y=\"-3155\" font-family=\"monospace\" font-size=\"10.00\" fill=\"#000000\">1.2.weight</text>\n<text text-anchor=\"middle\" x=\"1461.5\" y=\"-3144\" font-family=\"monospace\" font-size=\"10.00\" fill=\"#000000\"> (192, 64, 3, 3)</text>\n</g>\n<!-- 139638936796608&#45;&gt;139638936553232 -->\n<g id=\"edge47\" class=\"edge\">\n<title>139638936796608&#45;&gt;139638936553232</title>\n<path fill=\"none\" stroke=\"#000000\" d=\"M1459.9859,-3136.7333C1459.2135,-3128.9447 1458.2653,-3119.3831 1457.4399,-3111.0604\"/>\n<polygon fill=\"#000000\" stroke=\"#000000\" points=\"1460.9206,-3110.6921 1456.4507,-3101.0864 1453.9548,-3111.383 1460.9206,-3110.6921\"/>\n</g>\n<!-- 139638936553040 -->\n<g id=\"node50\" class=\"node\">\n<title>139638936553040</title>\n<polygon fill=\"#d3d3d3\" stroke=\"#000000\" points=\"1625,-3101 1524,-3101 1524,-3082 1625,-3082 1625,-3101\"/>\n<text text-anchor=\"middle\" x=\"1574.5\" y=\"-3089\" font-family=\"monospace\" font-size=\"10.00\" fill=\"#000000\">AccumulateGrad</text>\n</g>\n<!-- 139638936553040&#45;&gt;139638936553424 -->\n<g id=\"edge48\" class=\"edge\">\n<title>139638936553040&#45;&gt;139638936553424</title>\n<path fill=\"none\" stroke=\"#000000\" d=\"M1555.6441,-3081.9136C1536.1469,-3072.0012 1505.4965,-3056.4184 1483.2368,-3045.1015\"/>\n<polygon fill=\"#000000\" stroke=\"#000000\" points=\"1484.768,-3041.9536 1474.2677,-3040.5416 1481.5956,-3048.1935 1484.768,-3041.9536\"/>\n</g>\n<!-- 139638936796688 -->\n<g id=\"node51\" class=\"node\">\n<title>139638936796688</title>\n<polygon fill=\"#add8e6\" stroke=\"#000000\" points=\"1607,-3167 1542,-3167 1542,-3137 1607,-3137 1607,-3167\"/>\n<text text-anchor=\"middle\" x=\"1574.5\" y=\"-3155\" font-family=\"monospace\" font-size=\"10.00\" fill=\"#000000\">1.2.bias</text>\n<text text-anchor=\"middle\" x=\"1574.5\" y=\"-3144\" font-family=\"monospace\" font-size=\"10.00\" fill=\"#000000\"> (192)</text>\n</g>\n<!-- 139638936796688&#45;&gt;139638936553040 -->\n<g id=\"edge49\" class=\"edge\">\n<title>139638936796688&#45;&gt;139638936553040</title>\n<path fill=\"none\" stroke=\"#000000\" d=\"M1574.5,-3136.7333C1574.5,-3129.0322 1574.5,-3119.5977 1574.5,-3111.3414\"/>\n<polygon fill=\"#000000\" stroke=\"#000000\" points=\"1578.0001,-3111.0864 1574.5,-3101.0864 1571.0001,-3111.0864 1578.0001,-3111.0864\"/>\n</g>\n<!-- 139638936552848 -->\n<g id=\"node52\" class=\"node\">\n<title>139638936552848</title>\n<polygon fill=\"#d3d3d3\" stroke=\"#000000\" points=\"2041,-2980 1940,-2980 1940,-2961 2041,-2961 2041,-2980\"/>\n<text text-anchor=\"middle\" x=\"1990.5\" y=\"-2968\" font-family=\"monospace\" font-size=\"10.00\" fill=\"#000000\">AccumulateGrad</text>\n</g>\n<!-- 139638936552848&#45;&gt;139638936552656 -->\n<g id=\"edge50\" class=\"edge\">\n<title>139638936552848&#45;&gt;139638936552656</title>\n<path fill=\"none\" stroke=\"#000000\" d=\"M1980.5386,-2960.7796C1971.1937,-2951.6608 1957.0194,-2937.8294 1945.8226,-2926.9035\"/>\n<polygon fill=\"#000000\" stroke=\"#000000\" points=\"1948.2442,-2924.3762 1938.6426,-2919.8972 1943.3554,-2929.3862 1948.2442,-2924.3762\"/>\n</g>\n<!-- 139638936796768 -->\n<g id=\"node53\" class=\"node\">\n<title>139638936796768</title>\n<polygon fill=\"#add8e6\" stroke=\"#000000\" points=\"2053,-3046 1934,-3046 1934,-3016 2053,-3016 2053,-3046\"/>\n<text text-anchor=\"middle\" x=\"1993.5\" y=\"-3034\" font-family=\"monospace\" font-size=\"10.00\" fill=\"#000000\">2.0.Root1a.weight</text>\n<text text-anchor=\"middle\" x=\"1993.5\" y=\"-3023\" font-family=\"monospace\" font-size=\"10.00\" fill=\"#000000\"> (64, 192, 1, 1)</text>\n</g>\n<!-- 139638936796768&#45;&gt;139638936552848 -->\n<g id=\"edge51\" class=\"edge\">\n<title>139638936796768&#45;&gt;139638936552848</title>\n<path fill=\"none\" stroke=\"#000000\" d=\"M1992.743,-3015.7333C1992.3611,-3008.0322 1991.8933,-2998.5977 1991.4839,-2990.3414\"/>\n<polygon fill=\"#000000\" stroke=\"#000000\" points=\"1994.9664,-2989.9008 1990.9754,-2980.0864 1987.975,-2990.2475 1994.9664,-2989.9008\"/>\n</g>\n<!-- 139638936552080 -->\n<g id=\"node54\" class=\"node\">\n<title>139638936552080</title>\n<polygon fill=\"#d3d3d3\" stroke=\"#000000\" points=\"1916,-2980 1815,-2980 1815,-2961 1916,-2961 1916,-2980\"/>\n<text text-anchor=\"middle\" x=\"1865.5\" y=\"-2968\" font-family=\"monospace\" font-size=\"10.00\" fill=\"#000000\">AccumulateGrad</text>\n</g>\n<!-- 139638936552080&#45;&gt;139638936552656 -->\n<g id=\"edge52\" class=\"edge\">\n<title>139638936552080&#45;&gt;139638936552656</title>\n<path fill=\"none\" stroke=\"#000000\" d=\"M1875.622,-2960.7796C1885.1177,-2951.6608 1899.5206,-2937.8294 1910.898,-2926.9035\"/>\n<polygon fill=\"#000000\" stroke=\"#000000\" points=\"1913.4053,-2929.3482 1918.1938,-2919.8972 1908.5567,-2924.2993 1913.4053,-2929.3482\"/>\n</g>\n<!-- 139638936796848 -->\n<g id=\"node55\" class=\"node\">\n<title>139638936796848</title>\n<polygon fill=\"#add8e6\" stroke=\"#000000\" points=\"1916,-3046 1809,-3046 1809,-3016 1916,-3016 1916,-3046\"/>\n<text text-anchor=\"middle\" x=\"1862.5\" y=\"-3034\" font-family=\"monospace\" font-size=\"10.00\" fill=\"#000000\">2.0.Root1a.bias</text>\n<text text-anchor=\"middle\" x=\"1862.5\" y=\"-3023\" font-family=\"monospace\" font-size=\"10.00\" fill=\"#000000\"> (64)</text>\n</g>\n<!-- 139638936796848&#45;&gt;139638936552080 -->\n<g id=\"edge53\" class=\"edge\">\n<title>139638936796848&#45;&gt;139638936552080</title>\n<path fill=\"none\" stroke=\"#000000\" d=\"M1863.257,-3015.7333C1863.6389,-3008.0322 1864.1067,-2998.5977 1864.5161,-2990.3414\"/>\n<polygon fill=\"#000000\" stroke=\"#000000\" points=\"1868.025,-2990.2475 1865.0246,-2980.0864 1861.0336,-2989.9008 1868.025,-2990.2475\"/>\n</g>\n<!-- 139638936553488 -->\n<g id=\"node56\" class=\"node\">\n<title>139638936553488</title>\n<polygon fill=\"#d3d3d3\" stroke=\"#000000\" points=\"1190,-2743.5 1095,-2743.5 1095,-2724.5 1190,-2724.5 1190,-2743.5\"/>\n<text text-anchor=\"middle\" x=\"1142.5\" y=\"-2731.5\" font-family=\"monospace\" font-size=\"10.00\" fill=\"#000000\">ReluBackward0</text>\n</g>\n<!-- 139638936553488&#45;&gt;139638937275472 -->\n<g id=\"edge54\" class=\"edge\">\n<title>139638936553488&#45;&gt;139638937275472</title>\n<path fill=\"none\" stroke=\"#000000\" d=\"M1173.8737,-2724.4136C1207.9074,-2714.0144 1262.366,-2697.3743 1299.7011,-2685.9663\"/>\n<polygon fill=\"#000000\" stroke=\"#000000\" points=\"1300.7324,-2689.311 1309.2731,-2683.0416 1298.6868,-2682.6166 1300.7324,-2689.311\"/>\n</g>\n<!-- 139638936553552 -->\n<g id=\"node57\" class=\"node\">\n<title>139638936553552</title>\n<polygon fill=\"#d3d3d3\" stroke=\"#000000\" points=\"913,-2804 788,-2804 788,-2785 913,-2785 913,-2804\"/>\n<text text-anchor=\"middle\" x=\"850.5\" y=\"-2792\" font-family=\"monospace\" font-size=\"10.00\" fill=\"#000000\">ThnnConv2DBackward</text>\n</g>\n<!-- 139638936553552&#45;&gt;139638936553488 -->\n<g id=\"edge55\" class=\"edge\">\n<title>139638936553552&#45;&gt;139638936553488</title>\n<path fill=\"none\" stroke=\"#000000\" d=\"M896.4462,-2784.9803C947.8533,-2774.3292 1031.1475,-2757.0713 1086.3696,-2745.6298\"/>\n<polygon fill=\"#000000\" stroke=\"#000000\" points=\"1087.2581,-2749.0201 1096.34,-2743.564 1085.8379,-2742.1657 1087.2581,-2749.0201\"/>\n</g>\n<!-- 139638936552720 -->\n<g id=\"node58\" class=\"node\">\n<title>139638936552720</title>\n<polygon fill=\"#d3d3d3\" stroke=\"#000000\" points=\"835,-2859 740,-2859 740,-2840 835,-2840 835,-2859\"/>\n<text text-anchor=\"middle\" x=\"787.5\" y=\"-2847\" font-family=\"monospace\" font-size=\"10.00\" fill=\"#000000\">ReluBackward0</text>\n</g>\n<!-- 139638936552720&#45;&gt;139638936553552 -->\n<g id=\"edge56\" class=\"edge\">\n<title>139638936552720&#45;&gt;139638936553552</title>\n<path fill=\"none\" stroke=\"#000000\" d=\"M798.4738,-2839.9197C807.5758,-2831.9735 820.7279,-2820.4916 831.5307,-2811.0605\"/>\n<polygon fill=\"#000000\" stroke=\"#000000\" points=\"833.9964,-2813.5541 839.2278,-2804.3408 829.3928,-2808.2808 833.9964,-2813.5541\"/>\n</g>\n<!-- 139638936553744&#45;&gt;139638936552720 -->\n<g id=\"edge57\" class=\"edge\">\n<title>139638936553744&#45;&gt;139638936552720</title>\n<path fill=\"none\" stroke=\"#000000\" d=\"M779.946,-2900.2796C781.1851,-2891.9499 783.0092,-2879.688 784.5545,-2869.3004\"/>\n<polygon fill=\"#000000\" stroke=\"#000000\" points=\"788.0181,-2869.8034 786.0277,-2859.3972 781.0943,-2868.7734 788.0181,-2869.8034\"/>\n</g>\n<!-- 139638936554576 -->\n<g id=\"node60\" class=\"node\">\n<title>139638936554576</title>\n<polygon fill=\"#d3d3d3\" stroke=\"#000000\" points=\"890,-2980 789,-2980 789,-2961 890,-2961 890,-2980\"/>\n<text text-anchor=\"middle\" x=\"839.5\" y=\"-2968\" font-family=\"monospace\" font-size=\"10.00\" fill=\"#000000\">AccumulateGrad</text>\n</g>\n<!-- 139638936554576&#45;&gt;139638936553744 -->\n<g id=\"edge59\" class=\"edge\">\n<title>139638936554576&#45;&gt;139638936553744</title>\n<path fill=\"none\" stroke=\"#000000\" d=\"M829.6993,-2960.7796C820.5935,-2951.7485 806.8272,-2938.095 795.8618,-2927.2195\"/>\n<polygon fill=\"#000000\" stroke=\"#000000\" points=\"798.0438,-2924.4541 788.479,-2919.8972 793.1145,-2929.4242 798.0438,-2924.4541\"/>\n</g>\n<!-- 139638936796928 -->\n<g id=\"node61\" class=\"node\">\n<title>139638936796928</title>\n<polygon fill=\"#add8e6\" stroke=\"#000000\" points=\"902,-3046 783,-3046 783,-3016 902,-3016 902,-3046\"/>\n<text text-anchor=\"middle\" x=\"842.5\" y=\"-3034\" font-family=\"monospace\" font-size=\"10.00\" fill=\"#000000\">2.0.Root2a.weight</text>\n<text text-anchor=\"middle\" x=\"842.5\" y=\"-3023\" font-family=\"monospace\" font-size=\"10.00\" fill=\"#000000\"> (96, 192, 1, 1)</text>\n</g>\n<!-- 139638936796928&#45;&gt;139638936554576 -->\n<g id=\"edge60\" class=\"edge\">\n<title>139638936796928&#45;&gt;139638936554576</title>\n<path fill=\"none\" stroke=\"#000000\" d=\"M841.743,-3015.7333C841.3611,-3008.0322 840.8933,-2998.5977 840.4839,-2990.3414\"/>\n<polygon fill=\"#000000\" stroke=\"#000000\" points=\"843.9664,-2989.9008 839.9754,-2980.0864 836.975,-2990.2475 843.9664,-2989.9008\"/>\n</g>\n<!-- 139638936554512 -->\n<g id=\"node62\" class=\"node\">\n<title>139638936554512</title>\n<polygon fill=\"#d3d3d3\" stroke=\"#000000\" points=\"768,-2980 667,-2980 667,-2961 768,-2961 768,-2980\"/>\n<text text-anchor=\"middle\" x=\"717.5\" y=\"-2968\" font-family=\"monospace\" font-size=\"10.00\" fill=\"#000000\">AccumulateGrad</text>\n</g>\n<!-- 139638936554512&#45;&gt;139638936553744 -->\n<g id=\"edge61\" class=\"edge\">\n<title>139638936554512&#45;&gt;139638936553744</title>\n<path fill=\"none\" stroke=\"#000000\" d=\"M727.3007,-2960.7796C736.4065,-2951.7485 750.1728,-2938.095 761.1382,-2927.2195\"/>\n<polygon fill=\"#000000\" stroke=\"#000000\" points=\"763.8855,-2929.4242 768.521,-2919.8972 758.9562,-2924.4541 763.8855,-2929.4242\"/>\n</g>\n<!-- 139638936797008 -->\n<g id=\"node63\" class=\"node\">\n<title>139638936797008</title>\n<polygon fill=\"#add8e6\" stroke=\"#000000\" points=\"765,-3046 658,-3046 658,-3016 765,-3016 765,-3046\"/>\n<text text-anchor=\"middle\" x=\"711.5\" y=\"-3034\" font-family=\"monospace\" font-size=\"10.00\" fill=\"#000000\">2.0.Root2a.bias</text>\n<text text-anchor=\"middle\" x=\"711.5\" y=\"-3023\" font-family=\"monospace\" font-size=\"10.00\" fill=\"#000000\"> (96)</text>\n</g>\n<!-- 139638936797008&#45;&gt;139638936554512 -->\n<g id=\"edge62\" class=\"edge\">\n<title>139638936797008&#45;&gt;139638936554512</title>\n<path fill=\"none\" stroke=\"#000000\" d=\"M713.0141,-3015.7333C713.7865,-3007.9447 714.7347,-2998.3831 715.5601,-2990.0604\"/>\n<polygon fill=\"#000000\" stroke=\"#000000\" points=\"719.0452,-2990.383 716.5493,-2980.0864 712.0794,-2989.6921 719.0452,-2990.383\"/>\n</g>\n<!-- 139638936554128 -->\n<g id=\"node64\" class=\"node\">\n<title>139638936554128</title>\n<polygon fill=\"#d3d3d3\" stroke=\"#000000\" points=\"964,-2859 863,-2859 863,-2840 964,-2840 964,-2859\"/>\n<text text-anchor=\"middle\" x=\"913.5\" y=\"-2847\" font-family=\"monospace\" font-size=\"10.00\" fill=\"#000000\">AccumulateGrad</text>\n</g>\n<!-- 139638936554128&#45;&gt;139638936553552 -->\n<g id=\"edge63\" class=\"edge\">\n<title>139638936554128&#45;&gt;139638936553552</title>\n<path fill=\"none\" stroke=\"#000000\" d=\"M902.5262,-2839.9197C893.4242,-2831.9735 880.2721,-2820.4916 869.4693,-2811.0605\"/>\n<polygon fill=\"#000000\" stroke=\"#000000\" points=\"871.6072,-2808.2808 861.7722,-2804.3408 867.0036,-2813.5541 871.6072,-2808.2808\"/>\n</g>\n<!-- 139638936797088 -->\n<g id=\"node65\" class=\"node\">\n<title>139638936797088</title>\n<polygon fill=\"#add8e6\" stroke=\"#000000\" points=\"978,-2925 859,-2925 859,-2895 978,-2895 978,-2925\"/>\n<text text-anchor=\"middle\" x=\"918.5\" y=\"-2913\" font-family=\"monospace\" font-size=\"10.00\" fill=\"#000000\">2.0.Root2b.weight</text>\n<text text-anchor=\"middle\" x=\"918.5\" y=\"-2902\" font-family=\"monospace\" font-size=\"10.00\" fill=\"#000000\"> (128, 96, 3, 3)</text>\n</g>\n<!-- 139638936797088&#45;&gt;139638936554128 -->\n<g id=\"edge64\" class=\"edge\">\n<title>139638936797088&#45;&gt;139638936554128</title>\n<path fill=\"none\" stroke=\"#000000\" d=\"M917.2383,-2894.7333C916.5946,-2886.9447 915.8044,-2877.3831 915.1166,-2869.0604\"/>\n<polygon fill=\"#000000\" stroke=\"#000000\" points=\"918.6041,-2868.7641 914.2923,-2859.0864 911.6279,-2869.3407 918.6041,-2868.7641\"/>\n</g>\n<!-- 139638936552592 -->\n<g id=\"node66\" class=\"node\">\n<title>139638936552592</title>\n<polygon fill=\"#d3d3d3\" stroke=\"#000000\" points=\"701,-2859 600,-2859 600,-2840 701,-2840 701,-2859\"/>\n<text text-anchor=\"middle\" x=\"650.5\" y=\"-2847\" font-family=\"monospace\" font-size=\"10.00\" fill=\"#000000\">AccumulateGrad</text>\n</g>\n<!-- 139638936552592&#45;&gt;139638936553552 -->\n<g id=\"edge65\" class=\"edge\">\n<title>139638936552592&#45;&gt;139638936553552</title>\n<path fill=\"none\" stroke=\"#000000\" d=\"M685.3373,-2839.9197C718.7891,-2830.7205 769.4719,-2816.7827 805.8668,-2806.7741\"/>\n<polygon fill=\"#000000\" stroke=\"#000000\" points=\"807.0129,-2810.089 815.7269,-2804.0626 805.1568,-2803.3395 807.0129,-2810.089\"/>\n</g>\n<!-- 139638936817744 -->\n<g id=\"node67\" class=\"node\">\n<title>139638936817744</title>\n<polygon fill=\"#add8e6\" stroke=\"#000000\" points=\"698,-2925 591,-2925 591,-2895 698,-2895 698,-2925\"/>\n<text text-anchor=\"middle\" x=\"644.5\" y=\"-2913\" font-family=\"monospace\" font-size=\"10.00\" fill=\"#000000\">2.0.Root2b.bias</text>\n<text text-anchor=\"middle\" x=\"644.5\" y=\"-2902\" font-family=\"monospace\" font-size=\"10.00\" fill=\"#000000\"> (128)</text>\n</g>\n<!-- 139638936817744&#45;&gt;139638936552592 -->\n<g id=\"edge66\" class=\"edge\">\n<title>139638936817744&#45;&gt;139638936552592</title>\n<path fill=\"none\" stroke=\"#000000\" d=\"M646.0141,-2894.7333C646.7865,-2886.9447 647.7347,-2877.3831 648.5601,-2869.0604\"/>\n<polygon fill=\"#000000\" stroke=\"#000000\" points=\"652.0452,-2869.383 649.5493,-2859.0864 645.0794,-2868.6921 652.0452,-2869.383\"/>\n</g>\n<!-- 139638936552784 -->\n<g id=\"node68\" class=\"node\">\n<title>139638936552784</title>\n<polygon fill=\"#d3d3d3\" stroke=\"#000000\" points=\"1317,-2743.5 1222,-2743.5 1222,-2724.5 1317,-2724.5 1317,-2743.5\"/>\n<text text-anchor=\"middle\" x=\"1269.5\" y=\"-2731.5\" font-family=\"monospace\" font-size=\"10.00\" fill=\"#000000\">ReluBackward0</text>\n</g>\n<!-- 139638936552784&#45;&gt;139638937275472 -->\n<g id=\"edge67\" class=\"edge\">\n<title>139638936552784&#45;&gt;139638937275472</title>\n<path fill=\"none\" stroke=\"#000000\" d=\"M1280.9074,-2724.2796C1291.7117,-2715.0731 1308.1533,-2701.063 1321.0317,-2690.0892\"/>\n<polygon fill=\"#000000\" stroke=\"#000000\" points=\"1323.5436,-2692.5471 1328.8851,-2683.3972 1319.0035,-2687.2191 1323.5436,-2692.5471\"/>\n</g>\n<!-- 139638936553360 -->\n<g id=\"node69\" class=\"node\">\n<title>139638936553360</title>\n<polygon fill=\"#d3d3d3\" stroke=\"#000000\" points=\"1301,-2804 1134,-2804 1134,-2785 1301,-2785 1301,-2804\"/>\n<text text-anchor=\"middle\" x=\"1217.5\" y=\"-2792\" font-family=\"monospace\" font-size=\"10.00\" fill=\"#000000\">MkldnnConvolutionBackward</text>\n</g>\n<!-- 139638936553360&#45;&gt;139638936552784 -->\n<g id=\"edge68\" class=\"edge\">\n<title>139638936553360&#45;&gt;139638936552784</title>\n<path fill=\"none\" stroke=\"#000000\" d=\"M1225.8547,-2784.7796C1233.5416,-2775.8362 1245.1248,-2762.3597 1254.4269,-2751.537\"/>\n<polygon fill=\"#000000\" stroke=\"#000000\" points=\"1257.1293,-2753.7624 1260.9933,-2743.8972 1251.8207,-2749.1996 1257.1293,-2753.7624\"/>\n</g>\n<!-- 139638936554384 -->\n<g id=\"node70\" class=\"node\">\n<title>139638936554384</title>\n<polygon fill=\"#d3d3d3\" stroke=\"#000000\" points=\"1237,-2859 1142,-2859 1142,-2840 1237,-2840 1237,-2859\"/>\n<text text-anchor=\"middle\" x=\"1189.5\" y=\"-2847\" font-family=\"monospace\" font-size=\"10.00\" fill=\"#000000\">ReluBackward0</text>\n</g>\n<!-- 139638936554384&#45;&gt;139638936553360 -->\n<g id=\"edge69\" class=\"edge\">\n<title>139638936554384&#45;&gt;139638936553360</title>\n<path fill=\"none\" stroke=\"#000000\" d=\"M1194.3772,-2839.9197C1198.1053,-2832.5967 1203.3621,-2822.2709 1207.9216,-2813.3147\"/>\n<polygon fill=\"#000000\" stroke=\"#000000\" points=\"1211.0723,-2814.8404 1212.4901,-2804.3408 1204.8342,-2811.6646 1211.0723,-2814.8404\"/>\n</g>\n<!-- 139638936554704&#45;&gt;139638936554384 -->\n<g id=\"edge70\" class=\"edge\">\n<title>139638936554704&#45;&gt;139638936554384</title>\n<path fill=\"none\" stroke=\"#000000\" d=\"M1184.464,-2900.2796C1185.2814,-2892.0376 1186.4806,-2879.9457 1187.5037,-2869.629\"/>\n<polygon fill=\"#000000\" stroke=\"#000000\" points=\"1191.0144,-2869.6939 1188.5185,-2859.3972 1184.0486,-2869.003 1191.0144,-2869.6939\"/>\n</g>\n<!-- 139638936554896 -->\n<g id=\"node72\" class=\"node\">\n<title>139638936554896</title>\n<polygon fill=\"#d3d3d3\" stroke=\"#000000\" points=\"1271,-2980 1170,-2980 1170,-2961 1271,-2961 1271,-2980\"/>\n<text text-anchor=\"middle\" x=\"1220.5\" y=\"-2968\" font-family=\"monospace\" font-size=\"10.00\" fill=\"#000000\">AccumulateGrad</text>\n</g>\n<!-- 139638936554896&#45;&gt;139638936554704 -->\n<g id=\"edge72\" class=\"edge\">\n<title>139638936554896&#45;&gt;139638936554704</title>\n<path fill=\"none\" stroke=\"#000000\" d=\"M1214.5553,-2960.7796C1209.2466,-2952.0992 1201.3263,-2939.1485 1194.8132,-2928.4987\"/>\n<polygon fill=\"#000000\" stroke=\"#000000\" points=\"1197.7561,-2926.6022 1189.5529,-2919.8972 1191.7844,-2930.2544 1197.7561,-2926.6022\"/>\n</g>\n<!-- 139638936817984 -->\n<g id=\"node73\" class=\"node\">\n<title>139638936817984</title>\n<polygon fill=\"#add8e6\" stroke=\"#000000\" points=\"1286,-3046 1167,-3046 1167,-3016 1286,-3016 1286,-3046\"/>\n<text text-anchor=\"middle\" x=\"1226.5\" y=\"-3034\" font-family=\"monospace\" font-size=\"10.00\" fill=\"#000000\">2.0.Root3a.weight</text>\n<text text-anchor=\"middle\" x=\"1226.5\" y=\"-3023\" font-family=\"monospace\" font-size=\"10.00\" fill=\"#000000\"> (16, 192, 1, 1)</text>\n</g>\n<!-- 139638936817984&#45;&gt;139638936554896 -->\n<g id=\"edge73\" class=\"edge\">\n<title>139638936817984&#45;&gt;139638936554896</title>\n<path fill=\"none\" stroke=\"#000000\" d=\"M1224.9859,-3015.7333C1224.2135,-3007.9447 1223.2653,-2998.3831 1222.4399,-2990.0604\"/>\n<polygon fill=\"#000000\" stroke=\"#000000\" points=\"1225.9206,-2989.6921 1221.4507,-2980.0864 1218.9548,-2990.383 1225.9206,-2989.6921\"/>\n</g>\n<!-- 139638936555024 -->\n<g id=\"node74\" class=\"node\">\n<title>139638936555024</title>\n<polygon fill=\"#d3d3d3\" stroke=\"#000000\" points=\"1149,-2980 1048,-2980 1048,-2961 1149,-2961 1149,-2980\"/>\n<text text-anchor=\"middle\" x=\"1098.5\" y=\"-2968\" font-family=\"monospace\" font-size=\"10.00\" fill=\"#000000\">AccumulateGrad</text>\n</g>\n<!-- 139638936555024&#45;&gt;139638936554704 -->\n<g id=\"edge74\" class=\"edge\">\n<title>139638936555024&#45;&gt;139638936554704</title>\n<path fill=\"none\" stroke=\"#000000\" d=\"M1112.1567,-2960.7796C1125.4163,-2951.3419 1145.768,-2936.8563 1161.3462,-2925.7683\"/>\n<polygon fill=\"#000000\" stroke=\"#000000\" points=\"1163.7597,-2928.3465 1169.8772,-2919.6962 1159.7005,-2922.6436 1163.7597,-2928.3465\"/>\n</g>\n<!-- 139638936818304 -->\n<g id=\"node75\" class=\"node\">\n<title>139638936818304</title>\n<polygon fill=\"#add8e6\" stroke=\"#000000\" points=\"1149,-3046 1042,-3046 1042,-3016 1149,-3016 1149,-3046\"/>\n<text text-anchor=\"middle\" x=\"1095.5\" y=\"-3034\" font-family=\"monospace\" font-size=\"10.00\" fill=\"#000000\">2.0.Root3a.bias</text>\n<text text-anchor=\"middle\" x=\"1095.5\" y=\"-3023\" font-family=\"monospace\" font-size=\"10.00\" fill=\"#000000\"> (16)</text>\n</g>\n<!-- 139638936818304&#45;&gt;139638936555024 -->\n<g id=\"edge75\" class=\"edge\">\n<title>139638936818304&#45;&gt;139638936555024</title>\n<path fill=\"none\" stroke=\"#000000\" d=\"M1096.257,-3015.7333C1096.6389,-3008.0322 1097.1067,-2998.5977 1097.5161,-2990.3414\"/>\n<polygon fill=\"#000000\" stroke=\"#000000\" points=\"1101.025,-2990.2475 1098.0246,-2980.0864 1094.0336,-2989.9008 1101.025,-2990.2475\"/>\n</g>\n<!-- 139638936554640 -->\n<g id=\"node76\" class=\"node\">\n<title>139638936554640</title>\n<polygon fill=\"#d3d3d3\" stroke=\"#000000\" points=\"1362,-2859 1261,-2859 1261,-2840 1362,-2840 1362,-2859\"/>\n<text text-anchor=\"middle\" x=\"1311.5\" y=\"-2847\" font-family=\"monospace\" font-size=\"10.00\" fill=\"#000000\">AccumulateGrad</text>\n</g>\n<!-- 139638936554640&#45;&gt;139638936553360 -->\n<g id=\"edge76\" class=\"edge\">\n<title>139638936554640&#45;&gt;139638936553360</title>\n<path fill=\"none\" stroke=\"#000000\" d=\"M1295.1264,-2839.9197C1280.6579,-2831.4541 1259.3309,-2818.9755 1242.6905,-2809.2391\"/>\n<polygon fill=\"#000000\" stroke=\"#000000\" points=\"1244.4,-2806.1843 1234.0013,-2804.155 1240.8649,-2812.2261 1244.4,-2806.1843\"/>\n</g>\n<!-- 139638936818464 -->\n<g id=\"node77\" class=\"node\">\n<title>139638936818464</title>\n<polygon fill=\"#add8e6\" stroke=\"#000000\" points=\"1383,-2925 1264,-2925 1264,-2895 1383,-2895 1383,-2925\"/>\n<text text-anchor=\"middle\" x=\"1323.5\" y=\"-2913\" font-family=\"monospace\" font-size=\"10.00\" fill=\"#000000\">2.0.Root3b.weight</text>\n<text text-anchor=\"middle\" x=\"1323.5\" y=\"-2902\" font-family=\"monospace\" font-size=\"10.00\" fill=\"#000000\"> (32, 16, 5, 5)</text>\n</g>\n<!-- 139638936818464&#45;&gt;139638936554640 -->\n<g id=\"edge77\" class=\"edge\">\n<title>139638936818464&#45;&gt;139638936554640</title>\n<path fill=\"none\" stroke=\"#000000\" d=\"M1320.4719,-2894.7333C1318.927,-2886.9447 1317.0305,-2877.3831 1315.3797,-2869.0604\"/>\n<polygon fill=\"#000000\" stroke=\"#000000\" points=\"1318.7802,-2868.2143 1313.4014,-2859.0864 1311.914,-2869.5763 1318.7802,-2868.2143\"/>\n</g>\n<!-- 139638936553168 -->\n<g id=\"node78\" class=\"node\">\n<title>139638936553168</title>\n<polygon fill=\"#d3d3d3\" stroke=\"#000000\" points=\"1115,-2859 1014,-2859 1014,-2840 1115,-2840 1115,-2859\"/>\n<text text-anchor=\"middle\" x=\"1064.5\" y=\"-2847\" font-family=\"monospace\" font-size=\"10.00\" fill=\"#000000\">AccumulateGrad</text>\n</g>\n<!-- 139638936553168&#45;&gt;139638936553360 -->\n<g id=\"edge78\" class=\"edge\">\n<title>139638936553168&#45;&gt;139638936553360</title>\n<path fill=\"none\" stroke=\"#000000\" d=\"M1091.1506,-2839.9197C1116.085,-2830.9564 1153.5339,-2817.4944 1181.1927,-2807.5516\"/>\n<polygon fill=\"#000000\" stroke=\"#000000\" points=\"1182.6722,-2810.7392 1190.8986,-2804.0626 1180.3041,-2804.1518 1182.6722,-2810.7392\"/>\n</g>\n<!-- 139638936818544 -->\n<g id=\"node79\" class=\"node\">\n<title>139638936818544</title>\n<polygon fill=\"#add8e6\" stroke=\"#000000\" points=\"1103,-2925 996,-2925 996,-2895 1103,-2895 1103,-2925\"/>\n<text text-anchor=\"middle\" x=\"1049.5\" y=\"-2913\" font-family=\"monospace\" font-size=\"10.00\" fill=\"#000000\">2.0.Root3b.bias</text>\n<text text-anchor=\"middle\" x=\"1049.5\" y=\"-2902\" font-family=\"monospace\" font-size=\"10.00\" fill=\"#000000\"> (32)</text>\n</g>\n<!-- 139638936818544&#45;&gt;139638936553168 -->\n<g id=\"edge79\" class=\"edge\">\n<title>139638936818544&#45;&gt;139638936553168</title>\n<path fill=\"none\" stroke=\"#000000\" d=\"M1053.2851,-2894.7333C1055.2162,-2886.9447 1057.5868,-2877.3831 1059.6503,-2869.0604\"/>\n<polygon fill=\"#000000\" stroke=\"#000000\" points=\"1063.1138,-2869.6348 1062.1232,-2859.0864 1056.3195,-2867.9502 1063.1138,-2869.6348\"/>\n</g>\n<!-- 139638936552144 -->\n<g id=\"node80\" class=\"node\">\n<title>139638936552144</title>\n<polygon fill=\"#d3d3d3\" stroke=\"#000000\" points=\"1516,-2743.5 1421,-2743.5 1421,-2724.5 1516,-2724.5 1516,-2743.5\"/>\n<text text-anchor=\"middle\" x=\"1468.5\" y=\"-2731.5\" font-family=\"monospace\" font-size=\"10.00\" fill=\"#000000\">ReluBackward0</text>\n</g>\n<!-- 139638936552144&#45;&gt;139638937275472 -->\n<g id=\"edge80\" class=\"edge\">\n<title>139638936552144&#45;&gt;139638937275472</title>\n<path fill=\"none\" stroke=\"#000000\" d=\"M1448.218,-2724.4136C1427.1527,-2714.4569 1393.9832,-2698.7791 1370.0145,-2687.4502\"/>\n<polygon fill=\"#000000\" stroke=\"#000000\" points=\"1371.2237,-2684.1505 1360.6871,-2683.0416 1368.2324,-2690.4792 1371.2237,-2684.1505\"/>\n</g>\n<!-- 139638936554320 -->\n<g id=\"node81\" class=\"node\">\n<title>139638936554320</title>\n<polygon fill=\"#d3d3d3\" stroke=\"#000000\" points=\"1617,-2804 1492,-2804 1492,-2785 1617,-2785 1617,-2804\"/>\n<text text-anchor=\"middle\" x=\"1554.5\" y=\"-2792\" font-family=\"monospace\" font-size=\"10.00\" fill=\"#000000\">ThnnConv2DBackward</text>\n</g>\n<!-- 139638936554320&#45;&gt;139638936552144 -->\n<g id=\"edge81\" class=\"edge\">\n<title>139638936554320&#45;&gt;139638936552144</title>\n<path fill=\"none\" stroke=\"#000000\" d=\"M1540.6826,-2784.7796C1527.1417,-2775.2537 1506.2904,-2760.5851 1490.4737,-2749.4583\"/>\n<polygon fill=\"#000000\" stroke=\"#000000\" points=\"1492.4758,-2746.5874 1482.2831,-2743.6962 1488.4482,-2752.3127 1492.4758,-2746.5874\"/>\n</g>\n<!-- 139638936554832 -->\n<g id=\"node82\" class=\"node\">\n<title>139638936554832</title>\n<polygon fill=\"#d3d3d3\" stroke=\"#000000\" points=\"1551,-2859 1456,-2859 1456,-2840 1551,-2840 1551,-2859\"/>\n<text text-anchor=\"middle\" x=\"1503.5\" y=\"-2847\" font-family=\"monospace\" font-size=\"10.00\" fill=\"#000000\">ReluBackward0</text>\n</g>\n<!-- 139638936554832&#45;&gt;139638936554320 -->\n<g id=\"edge82\" class=\"edge\">\n<title>139638936554832&#45;&gt;139638936554320</title>\n<path fill=\"none\" stroke=\"#000000\" d=\"M1512.3835,-2839.9197C1519.5352,-2832.2072 1529.7753,-2821.1639 1538.3675,-2811.8978\"/>\n<polygon fill=\"#000000\" stroke=\"#000000\" points=\"1541.1419,-2814.0533 1545.3749,-2804.3408 1536.009,-2809.2937 1541.1419,-2814.0533\"/>\n</g>\n<!-- 139638936555088&#45;&gt;139638936554832 -->\n<g id=\"edge83\" class=\"edge\">\n<title>139638936555088&#45;&gt;139638936554832</title>\n<path fill=\"none\" stroke=\"#000000\" d=\"M1495.1067,-2900.2796C1496.4835,-2891.9499 1498.5102,-2879.688 1500.2272,-2869.3004\"/>\n<polygon fill=\"#000000\" stroke=\"#000000\" points=\"1503.6864,-2869.8342 1501.8641,-2859.3972 1496.7801,-2868.6926 1503.6864,-2869.8342\"/>\n</g>\n<!-- 139638936555152 -->\n<g id=\"node84\" class=\"node\">\n<title>139638936555152</title>\n<polygon fill=\"#d3d3d3\" stroke=\"#000000\" points=\"1697,-2859 1596,-2859 1596,-2840 1697,-2840 1697,-2859\"/>\n<text text-anchor=\"middle\" x=\"1646.5\" y=\"-2847\" font-family=\"monospace\" font-size=\"10.00\" fill=\"#000000\">AccumulateGrad</text>\n</g>\n<!-- 139638936555152&#45;&gt;139638936554320 -->\n<g id=\"edge85\" class=\"edge\">\n<title>139638936555152&#45;&gt;139638936554320</title>\n<path fill=\"none\" stroke=\"#000000\" d=\"M1630.4748,-2839.9197C1616.4453,-2831.5325 1595.8269,-2819.2063 1579.6081,-2809.5103\"/>\n<polygon fill=\"#000000\" stroke=\"#000000\" points=\"1581.0293,-2806.2822 1570.6502,-2804.155 1577.4374,-2812.2904 1581.0293,-2806.2822\"/>\n</g>\n<!-- 139638936818624 -->\n<g id=\"node85\" class=\"node\">\n<title>139638936818624</title>\n<polygon fill=\"#add8e6\" stroke=\"#000000\" points=\"1723,-2925 1604,-2925 1604,-2895 1723,-2895 1723,-2925\"/>\n<text text-anchor=\"middle\" x=\"1663.5\" y=\"-2913\" font-family=\"monospace\" font-size=\"10.00\" fill=\"#000000\">2.0.Root4b.weight</text>\n<text text-anchor=\"middle\" x=\"1663.5\" y=\"-2902\" font-family=\"monospace\" font-size=\"10.00\" fill=\"#000000\"> (32, 192, 1, 1)</text>\n</g>\n<!-- 139638936818624&#45;&gt;139638936555152 -->\n<g id=\"edge86\" class=\"edge\">\n<title>139638936818624&#45;&gt;139638936555152</title>\n<path fill=\"none\" stroke=\"#000000\" d=\"M1659.2102,-2894.7333C1656.997,-2886.8571 1654.2745,-2877.168 1651.9176,-2868.7803\"/>\n<polygon fill=\"#000000\" stroke=\"#000000\" points=\"1655.2684,-2867.7667 1649.1937,-2859.0864 1648.5294,-2869.6604 1655.2684,-2867.7667\"/>\n</g>\n<!-- 139638936554000 -->\n<g id=\"node86\" class=\"node\">\n<title>139638936554000</title>\n<polygon fill=\"#d3d3d3\" stroke=\"#000000\" points=\"1835,-2859 1734,-2859 1734,-2840 1835,-2840 1835,-2859\"/>\n<text text-anchor=\"middle\" x=\"1784.5\" y=\"-2847\" font-family=\"monospace\" font-size=\"10.00\" fill=\"#000000\">AccumulateGrad</text>\n</g>\n<!-- 139638936554000&#45;&gt;139638936554320 -->\n<g id=\"edge87\" class=\"edge\">\n<title>139638936554000&#45;&gt;139638936554320</title>\n<path fill=\"none\" stroke=\"#000000\" d=\"M1744.6996,-2839.9825C1705.7769,-2830.6749 1646.388,-2816.4732 1604.3423,-2806.4188\"/>\n<polygon fill=\"#000000\" stroke=\"#000000\" points=\"1605.1238,-2803.0071 1594.584,-2804.0853 1603.4958,-2809.8151 1605.1238,-2803.0071\"/>\n</g>\n<!-- 139638936818704 -->\n<g id=\"node87\" class=\"node\">\n<title>139638936818704</title>\n<polygon fill=\"#add8e6\" stroke=\"#000000\" points=\"1848,-2925 1741,-2925 1741,-2895 1848,-2895 1848,-2925\"/>\n<text text-anchor=\"middle\" x=\"1794.5\" y=\"-2913\" font-family=\"monospace\" font-size=\"10.00\" fill=\"#000000\">2.0.Root4b.bias</text>\n<text text-anchor=\"middle\" x=\"1794.5\" y=\"-2902\" font-family=\"monospace\" font-size=\"10.00\" fill=\"#000000\"> (32)</text>\n</g>\n<!-- 139638936818704&#45;&gt;139638936554000 -->\n<g id=\"edge88\" class=\"edge\">\n<title>139638936818704&#45;&gt;139638936554000</title>\n<path fill=\"none\" stroke=\"#000000\" d=\"M1791.9766,-2894.7333C1790.6892,-2886.9447 1789.1088,-2877.3831 1787.7331,-2869.0604\"/>\n<polygon fill=\"#000000\" stroke=\"#000000\" points=\"1791.1685,-2868.3817 1786.0845,-2859.0864 1784.2622,-2869.5233 1791.1685,-2868.3817\"/>\n</g>\n<!-- 139638937272976 -->\n<g id=\"node88\" class=\"node\">\n<title>139638937272976</title>\n<polygon fill=\"#d3d3d3\" stroke=\"#000000\" points=\"1859,-2683 1758,-2683 1758,-2664 1859,-2664 1859,-2683\"/>\n<text text-anchor=\"middle\" x=\"1808.5\" y=\"-2671\" font-family=\"monospace\" font-size=\"10.00\" fill=\"#000000\">AccumulateGrad</text>\n</g>\n<!-- 139638937272976&#45;&gt;139638937276304 -->\n<g id=\"edge89\" class=\"edge\">\n<title>139638937272976&#45;&gt;139638937276304</title>\n<path fill=\"none\" stroke=\"#000000\" d=\"M1814.6054,-2663.7796C1820.0575,-2655.0992 1828.1919,-2642.1485 1834.881,-2631.4987\"/>\n<polygon fill=\"#000000\" stroke=\"#000000\" points=\"1837.9285,-2633.227 1840.2836,-2622.8972 1832.0008,-2629.5038 1837.9285,-2633.227\"/>\n</g>\n<!-- 139638936818784 -->\n<g id=\"node89\" class=\"node\">\n<title>139638936818784</title>\n<polygon fill=\"#add8e6\" stroke=\"#000000\" points=\"1865,-2749 1746,-2749 1746,-2719 1865,-2719 1865,-2749\"/>\n<text text-anchor=\"middle\" x=\"1805.5\" y=\"-2737\" font-family=\"monospace\" font-size=\"10.00\" fill=\"#000000\">2.1.Root1a.weight</text>\n<text text-anchor=\"middle\" x=\"1805.5\" y=\"-2726\" font-family=\"monospace\" font-size=\"10.00\" fill=\"#000000\"> (128, 256, 1, 1)</text>\n</g>\n<!-- 139638936818784&#45;&gt;139638937272976 -->\n<g id=\"edge90\" class=\"edge\">\n<title>139638936818784&#45;&gt;139638937272976</title>\n<path fill=\"none\" stroke=\"#000000\" d=\"M1806.257,-2718.7333C1806.6389,-2711.0322 1807.1067,-2701.5977 1807.5161,-2693.3414\"/>\n<polygon fill=\"#000000\" stroke=\"#000000\" points=\"1811.025,-2693.2475 1808.0246,-2683.0864 1804.0336,-2692.9008 1811.025,-2693.2475\"/>\n</g>\n<!-- 139638937275344 -->\n<g id=\"node90\" class=\"node\">\n<title>139638937275344</title>\n<polygon fill=\"#d3d3d3\" stroke=\"#000000\" points=\"1984,-2683 1883,-2683 1883,-2664 1984,-2664 1984,-2683\"/>\n<text text-anchor=\"middle\" x=\"1933.5\" y=\"-2671\" font-family=\"monospace\" font-size=\"10.00\" fill=\"#000000\">AccumulateGrad</text>\n</g>\n<!-- 139638937275344&#45;&gt;139638937276304 -->\n<g id=\"edge91\" class=\"edge\">\n<title>139638937275344&#45;&gt;139638937276304</title>\n<path fill=\"none\" stroke=\"#000000\" d=\"M1919.5219,-2663.7796C1905.8235,-2654.2537 1884.7298,-2639.5851 1868.7293,-2628.4583\"/>\n<polygon fill=\"#000000\" stroke=\"#000000\" points=\"1870.6517,-2625.532 1860.4434,-2622.6962 1866.6551,-2631.2791 1870.6517,-2625.532\"/>\n</g>\n<!-- 139638936818864 -->\n<g id=\"node91\" class=\"node\">\n<title>139638936818864</title>\n<polygon fill=\"#add8e6\" stroke=\"#000000\" points=\"1990,-2749 1883,-2749 1883,-2719 1990,-2719 1990,-2749\"/>\n<text text-anchor=\"middle\" x=\"1936.5\" y=\"-2737\" font-family=\"monospace\" font-size=\"10.00\" fill=\"#000000\">2.1.Root1a.bias</text>\n<text text-anchor=\"middle\" x=\"1936.5\" y=\"-2726\" font-family=\"monospace\" font-size=\"10.00\" fill=\"#000000\"> (128)</text>\n</g>\n<!-- 139638936818864&#45;&gt;139638937275344 -->\n<g id=\"edge92\" class=\"edge\">\n<title>139638936818864&#45;&gt;139638937275344</title>\n<path fill=\"none\" stroke=\"#000000\" d=\"M1935.743,-2718.7333C1935.3611,-2711.0322 1934.8933,-2701.5977 1934.4839,-2693.3414\"/>\n<polygon fill=\"#000000\" stroke=\"#000000\" points=\"1937.9664,-2692.9008 1933.9754,-2683.0864 1930.975,-2693.2475 1937.9664,-2692.9008\"/>\n</g>\n<!-- 139638937276368 -->\n<g id=\"node92\" class=\"node\">\n<title>139638937276368</title>\n<polygon fill=\"#d3d3d3\" stroke=\"#000000\" points=\"1042,-2452 947,-2452 947,-2433 1042,-2433 1042,-2452\"/>\n<text text-anchor=\"middle\" x=\"994.5\" y=\"-2440\" font-family=\"monospace\" font-size=\"10.00\" fill=\"#000000\">ReluBackward0</text>\n</g>\n<!-- 139638937276368&#45;&gt;139638937275984 -->\n<g id=\"edge93\" class=\"edge\">\n<title>139638937276368&#45;&gt;139638937275984</title>\n<path fill=\"none\" stroke=\"#000000\" d=\"M1040.9183,-2432.9803C1094.381,-2422.0159 1181.9814,-2404.0504 1237.6403,-2392.6356\"/>\n<polygon fill=\"#000000\" stroke=\"#000000\" points=\"1238.553,-2396.0214 1247.6459,-2390.5836 1237.1466,-2389.1641 1238.553,-2396.0214\"/>\n</g>\n<!-- 139638937275216 -->\n<g id=\"node93\" class=\"node\">\n<title>139638937275216</title>\n<polygon fill=\"#d3d3d3\" stroke=\"#000000\" points=\"838,-2507 713,-2507 713,-2488 838,-2488 838,-2507\"/>\n<text text-anchor=\"middle\" x=\"775.5\" y=\"-2495\" font-family=\"monospace\" font-size=\"10.00\" fill=\"#000000\">ThnnConv2DBackward</text>\n</g>\n<!-- 139638937275216&#45;&gt;139638937276368 -->\n<g id=\"edge94\" class=\"edge\">\n<title>139638937275216&#45;&gt;139638937276368</title>\n<path fill=\"none\" stroke=\"#000000\" d=\"M813.6469,-2487.9197C850.5896,-2478.6419 906.7243,-2464.5441 946.645,-2454.5184\"/>\n<polygon fill=\"#000000\" stroke=\"#000000\" points=\"947.5772,-2457.893 956.4235,-2452.0626 945.8721,-2451.1039 947.5772,-2457.893\"/>\n</g>\n<!-- 139638936554768 -->\n<g id=\"node94\" class=\"node\">\n<title>139638936554768</title>\n<polygon fill=\"#d3d3d3\" stroke=\"#000000\" points=\"634,-2562 539,-2562 539,-2543 634,-2543 634,-2562\"/>\n<text text-anchor=\"middle\" x=\"586.5\" y=\"-2550\" font-family=\"monospace\" font-size=\"10.00\" fill=\"#000000\">ReluBackward0</text>\n</g>\n<!-- 139638936554768&#45;&gt;139638937275216 -->\n<g id=\"edge95\" class=\"edge\">\n<title>139638936554768&#45;&gt;139638937275216</title>\n<path fill=\"none\" stroke=\"#000000\" d=\"M619.4213,-2542.9197C650.8981,-2533.7598 698.5194,-2519.9018 732.8799,-2509.9027\"/>\n<polygon fill=\"#000000\" stroke=\"#000000\" points=\"734.0157,-2513.2174 742.6394,-2507.0626 732.0598,-2506.4962 734.0157,-2513.2174\"/>\n</g>\n<!-- 139638936555472&#45;&gt;139638936554768 -->\n<g id=\"edge96\" class=\"edge\">\n<title>139638936555472&#45;&gt;139638936554768</title>\n<path fill=\"none\" stroke=\"#000000\" d=\"M573.91,-2603.2796C575.9752,-2594.9499 579.0154,-2582.688 581.5908,-2572.3004\"/>\n<polygon fill=\"#000000\" stroke=\"#000000\" points=\"585.0367,-2572.9457 584.0461,-2562.3972 578.2424,-2571.2611 585.0367,-2572.9457\"/>\n</g>\n<!-- 139638936555216 -->\n<g id=\"node96\" class=\"node\">\n<title>139638936555216</title>\n<polygon fill=\"#d3d3d3\" stroke=\"#000000\" points=\"557,-2683 456,-2683 456,-2664 557,-2664 557,-2683\"/>\n<text text-anchor=\"middle\" x=\"506.5\" y=\"-2671\" font-family=\"monospace\" font-size=\"10.00\" fill=\"#000000\">AccumulateGrad</text>\n</g>\n<!-- 139638936555216&#45;&gt;139638936555472 -->\n<g id=\"edge98\" class=\"edge\">\n<title>139638936555216&#45;&gt;139638936555472</title>\n<path fill=\"none\" stroke=\"#000000\" d=\"M516.9434,-2663.7796C526.7404,-2654.6608 541.6006,-2640.8294 553.3392,-2629.9035\"/>\n<polygon fill=\"#000000\" stroke=\"#000000\" points=\"555.9313,-2632.2724 560.8666,-2622.8972 551.1621,-2627.1484 555.9313,-2632.2724\"/>\n</g>\n<!-- 139638936818944 -->\n<g id=\"node97\" class=\"node\">\n<title>139638936818944</title>\n<polygon fill=\"#add8e6\" stroke=\"#000000\" points=\"560,-2749 441,-2749 441,-2719 560,-2719 560,-2749\"/>\n<text text-anchor=\"middle\" x=\"500.5\" y=\"-2737\" font-family=\"monospace\" font-size=\"10.00\" fill=\"#000000\">2.1.Root2a.weight</text>\n<text text-anchor=\"middle\" x=\"500.5\" y=\"-2726\" font-family=\"monospace\" font-size=\"10.00\" fill=\"#000000\"> (128, 256, 1, 1)</text>\n</g>\n<!-- 139638936818944&#45;&gt;139638936555216 -->\n<g id=\"edge99\" class=\"edge\">\n<title>139638936818944&#45;&gt;139638936555216</title>\n<path fill=\"none\" stroke=\"#000000\" d=\"M502.0141,-2718.7333C502.7865,-2710.9447 503.7347,-2701.3831 504.5601,-2693.0604\"/>\n<polygon fill=\"#000000\" stroke=\"#000000\" points=\"508.0452,-2693.383 505.5493,-2683.0864 501.0794,-2692.6921 508.0452,-2693.383\"/>\n</g>\n<!-- 139638936555344 -->\n<g id=\"node98\" class=\"node\">\n<title>139638936555344</title>\n<polygon fill=\"#d3d3d3\" stroke=\"#000000\" points=\"679,-2683 578,-2683 578,-2664 679,-2664 679,-2683\"/>\n<text text-anchor=\"middle\" x=\"628.5\" y=\"-2671\" font-family=\"monospace\" font-size=\"10.00\" fill=\"#000000\">AccumulateGrad</text>\n</g>\n<!-- 139638936555344&#45;&gt;139638936555472 -->\n<g id=\"edge100\" class=\"edge\">\n<title>139638936555344&#45;&gt;139638936555472</title>\n<path fill=\"none\" stroke=\"#000000\" d=\"M619.342,-2663.7796C610.8333,-2654.7485 597.9697,-2641.095 587.7233,-2630.2195\"/>\n<polygon fill=\"#000000\" stroke=\"#000000\" points=\"590.2296,-2627.7756 580.8247,-2622.8972 585.1346,-2632.5758 590.2296,-2627.7756\"/>\n</g>\n<!-- 139638936819024 -->\n<g id=\"node99\" class=\"node\">\n<title>139638936819024</title>\n<polygon fill=\"#add8e6\" stroke=\"#000000\" points=\"685,-2749 578,-2749 578,-2719 685,-2719 685,-2749\"/>\n<text text-anchor=\"middle\" x=\"631.5\" y=\"-2737\" font-family=\"monospace\" font-size=\"10.00\" fill=\"#000000\">2.1.Root2a.bias</text>\n<text text-anchor=\"middle\" x=\"631.5\" y=\"-2726\" font-family=\"monospace\" font-size=\"10.00\" fill=\"#000000\"> (128)</text>\n</g>\n<!-- 139638936819024&#45;&gt;139638936555344 -->\n<g id=\"edge101\" class=\"edge\">\n<title>139638936819024&#45;&gt;139638936555344</title>\n<path fill=\"none\" stroke=\"#000000\" d=\"M630.743,-2718.7333C630.3611,-2711.0322 629.8933,-2701.5977 629.4839,-2693.3414\"/>\n<polygon fill=\"#000000\" stroke=\"#000000\" points=\"632.9664,-2692.9008 628.9754,-2683.0864 625.975,-2693.2475 632.9664,-2692.9008\"/>\n</g>\n<!-- 139638936555408 -->\n<g id=\"node100\" class=\"node\">\n<title>139638936555408</title>\n<polygon fill=\"#d3d3d3\" stroke=\"#000000\" points=\"765,-2562 664,-2562 664,-2543 765,-2543 765,-2562\"/>\n<text text-anchor=\"middle\" x=\"714.5\" y=\"-2550\" font-family=\"monospace\" font-size=\"10.00\" fill=\"#000000\">AccumulateGrad</text>\n</g>\n<!-- 139638936555408&#45;&gt;139638937275216 -->\n<g id=\"edge102\" class=\"edge\">\n<title>139638936555408&#45;&gt;139638937275216</title>\n<path fill=\"none\" stroke=\"#000000\" d=\"M725.1254,-2542.9197C733.9385,-2534.9735 746.673,-2523.4916 757.1329,-2514.0605\"/>\n<polygon fill=\"#000000\" stroke=\"#000000\" points=\"759.5025,-2516.6367 764.5856,-2507.3408 754.815,-2511.4378 759.5025,-2516.6367\"/>\n</g>\n<!-- 139638936819104 -->\n<g id=\"node101\" class=\"node\">\n<title>139638936819104</title>\n<polygon fill=\"#add8e6\" stroke=\"#000000\" points=\"771,-2628 652,-2628 652,-2598 771,-2598 771,-2628\"/>\n<text text-anchor=\"middle\" x=\"711.5\" y=\"-2616\" font-family=\"monospace\" font-size=\"10.00\" fill=\"#000000\">2.1.Root2b.weight</text>\n<text text-anchor=\"middle\" x=\"711.5\" y=\"-2605\" font-family=\"monospace\" font-size=\"10.00\" fill=\"#000000\"> (192, 128, 3, 3)</text>\n</g>\n<!-- 139638936819104&#45;&gt;139638936555408 -->\n<g id=\"edge103\" class=\"edge\">\n<title>139638936819104&#45;&gt;139638936555408</title>\n<path fill=\"none\" stroke=\"#000000\" d=\"M712.257,-2597.7333C712.6389,-2590.0322 713.1067,-2580.5977 713.5161,-2572.3414\"/>\n<polygon fill=\"#000000\" stroke=\"#000000\" points=\"717.025,-2572.2475 714.0246,-2562.0864 710.0336,-2571.9008 717.025,-2572.2475\"/>\n</g>\n<!-- 139638936553296 -->\n<g id=\"node102\" class=\"node\">\n<title>139638936553296</title>\n<polygon fill=\"#d3d3d3\" stroke=\"#000000\" points=\"887,-2562 786,-2562 786,-2543 887,-2543 887,-2562\"/>\n<text text-anchor=\"middle\" x=\"836.5\" y=\"-2550\" font-family=\"monospace\" font-size=\"10.00\" fill=\"#000000\">AccumulateGrad</text>\n</g>\n<!-- 139638936553296&#45;&gt;139638937275216 -->\n<g id=\"edge104\" class=\"edge\">\n<title>139638936553296&#45;&gt;139638937275216</title>\n<path fill=\"none\" stroke=\"#000000\" d=\"M825.8746,-2542.9197C817.0615,-2534.9735 804.327,-2523.4916 793.8671,-2514.0605\"/>\n<polygon fill=\"#000000\" stroke=\"#000000\" points=\"796.185,-2511.4378 786.4144,-2507.3408 791.4975,-2516.6367 796.185,-2511.4378\"/>\n</g>\n<!-- 139638936819184 -->\n<g id=\"node103\" class=\"node\">\n<title>139638936819184</title>\n<polygon fill=\"#add8e6\" stroke=\"#000000\" points=\"896,-2628 789,-2628 789,-2598 896,-2598 896,-2628\"/>\n<text text-anchor=\"middle\" x=\"842.5\" y=\"-2616\" font-family=\"monospace\" font-size=\"10.00\" fill=\"#000000\">2.1.Root2b.bias</text>\n<text text-anchor=\"middle\" x=\"842.5\" y=\"-2605\" font-family=\"monospace\" font-size=\"10.00\" fill=\"#000000\"> (192)</text>\n</g>\n<!-- 139638936819184&#45;&gt;139638936553296 -->\n<g id=\"edge105\" class=\"edge\">\n<title>139638936819184&#45;&gt;139638936553296</title>\n<path fill=\"none\" stroke=\"#000000\" d=\"M840.9859,-2597.7333C840.2135,-2589.9447 839.2653,-2580.3831 838.4399,-2572.0604\"/>\n<polygon fill=\"#000000\" stroke=\"#000000\" points=\"841.9206,-2571.6921 837.4507,-2562.0864 834.9548,-2572.383 841.9206,-2571.6921\"/>\n</g>\n<!-- 139638937276240 -->\n<g id=\"node104\" class=\"node\">\n<title>139638937276240</title>\n<polygon fill=\"#d3d3d3\" stroke=\"#000000\" points=\"1235,-2452 1140,-2452 1140,-2433 1235,-2433 1235,-2452\"/>\n<text text-anchor=\"middle\" x=\"1187.5\" y=\"-2440\" font-family=\"monospace\" font-size=\"10.00\" fill=\"#000000\">ReluBackward0</text>\n</g>\n<!-- 139638937276240&#45;&gt;139638937275984 -->\n<g id=\"edge106\" class=\"edge\">\n<title>139638937276240&#45;&gt;139638937275984</title>\n<path fill=\"none\" stroke=\"#000000\" d=\"M1203.8881,-2432.7796C1220.2457,-2423.0773 1245.5978,-2408.04 1264.4741,-2396.8438\"/>\n<polygon fill=\"#000000\" stroke=\"#000000\" points=\"1266.3373,-2399.8081 1273.1526,-2391.6962 1262.7662,-2393.7875 1266.3373,-2399.8081\"/>\n</g>\n<!-- 139638937275408 -->\n<g id=\"node105\" class=\"node\">\n<title>139638937275408</title>\n<polygon fill=\"#d3d3d3\" stroke=\"#000000\" points=\"1226,-2507 1059,-2507 1059,-2488 1226,-2488 1226,-2507\"/>\n<text text-anchor=\"middle\" x=\"1142.5\" y=\"-2495\" font-family=\"monospace\" font-size=\"10.00\" fill=\"#000000\">MkldnnConvolutionBackward</text>\n</g>\n<!-- 139638937275408&#45;&gt;139638937276240 -->\n<g id=\"edge107\" class=\"edge\">\n<title>139638937275408&#45;&gt;139638937276240</title>\n<path fill=\"none\" stroke=\"#000000\" d=\"M1150.3384,-2487.9197C1156.5849,-2480.2851 1165.5018,-2469.3867 1173.0352,-2460.1792\"/>\n<polygon fill=\"#000000\" stroke=\"#000000\" points=\"1175.8249,-2462.2968 1179.4484,-2452.3408 1170.4071,-2457.8641 1175.8249,-2462.2968\"/>\n</g>\n<!-- 139638936554960 -->\n<g id=\"node106\" class=\"node\">\n<title>139638936554960</title>\n<polygon fill=\"#d3d3d3\" stroke=\"#000000\" points=\"1039,-2562 944,-2562 944,-2543 1039,-2543 1039,-2562\"/>\n<text text-anchor=\"middle\" x=\"991.5\" y=\"-2550\" font-family=\"monospace\" font-size=\"10.00\" fill=\"#000000\">ReluBackward0</text>\n</g>\n<!-- 139638936554960&#45;&gt;139638937275408 -->\n<g id=\"edge108\" class=\"edge\">\n<title>139638936554960&#45;&gt;139638937275408</title>\n<path fill=\"none\" stroke=\"#000000\" d=\"M1017.8022,-2542.9197C1042.4106,-2533.9564 1079.37,-2520.4944 1106.6673,-2510.5516\"/>\n<polygon fill=\"#000000\" stroke=\"#000000\" points=\"1108.0481,-2513.7737 1116.2463,-2507.0626 1105.6523,-2507.1964 1108.0481,-2513.7737\"/>\n</g>\n<!-- 139638936617168&#45;&gt;139638936554960 -->\n<g id=\"edge109\" class=\"edge\">\n<title>139638936617168&#45;&gt;139638936554960</title>\n<path fill=\"none\" stroke=\"#000000\" d=\"M978.91,-2603.2796C980.9752,-2594.9499 984.0154,-2582.688 986.5908,-2572.3004\"/>\n<polygon fill=\"#000000\" stroke=\"#000000\" points=\"990.0367,-2572.9457 989.0461,-2562.3972 983.2424,-2571.2611 990.0367,-2572.9457\"/>\n</g>\n<!-- 139638936617424 -->\n<g id=\"node108\" class=\"node\">\n<title>139638936617424</title>\n<polygon fill=\"#d3d3d3\" stroke=\"#000000\" points=\"918,-2683 817,-2683 817,-2664 918,-2664 918,-2683\"/>\n<text text-anchor=\"middle\" x=\"867.5\" y=\"-2671\" font-family=\"monospace\" font-size=\"10.00\" fill=\"#000000\">AccumulateGrad</text>\n</g>\n<!-- 139638936617424&#45;&gt;139638936617168 -->\n<g id=\"edge111\" class=\"edge\">\n<title>139638936617424&#45;&gt;139638936617168</title>\n<path fill=\"none\" stroke=\"#000000\" d=\"M885.0127,-2663.7796C902.5724,-2654.0332 929.8314,-2638.9032 950.0312,-2627.6914\"/>\n<polygon fill=\"#000000\" stroke=\"#000000\" points=\"951.9858,-2630.6095 959.0307,-2622.6962 948.5887,-2624.4891 951.9858,-2630.6095\"/>\n</g>\n<!-- 139638936819264 -->\n<g id=\"node109\" class=\"node\">\n<title>139638936819264</title>\n<polygon fill=\"#add8e6\" stroke=\"#000000\" points=\"924,-2749 805,-2749 805,-2719 924,-2719 924,-2749\"/>\n<text text-anchor=\"middle\" x=\"864.5\" y=\"-2737\" font-family=\"monospace\" font-size=\"10.00\" fill=\"#000000\">2.1.Root3a.weight</text>\n<text text-anchor=\"middle\" x=\"864.5\" y=\"-2726\" font-family=\"monospace\" font-size=\"10.00\" fill=\"#000000\"> (32, 256, 1, 1)</text>\n</g>\n<!-- 139638936819264&#45;&gt;139638936617424 -->\n<g id=\"edge112\" class=\"edge\">\n<title>139638936819264&#45;&gt;139638936617424</title>\n<path fill=\"none\" stroke=\"#000000\" d=\"M865.257,-2718.7333C865.6389,-2711.0322 866.1067,-2701.5977 866.5161,-2693.3414\"/>\n<polygon fill=\"#000000\" stroke=\"#000000\" points=\"870.025,-2693.2475 867.0246,-2683.0864 863.0336,-2692.9008 870.025,-2693.2475\"/>\n</g>\n<!-- 139638936617552 -->\n<g id=\"node110\" class=\"node\">\n<title>139638936617552</title>\n<polygon fill=\"#d3d3d3\" stroke=\"#000000\" points=\"1040,-2683 939,-2683 939,-2664 1040,-2664 1040,-2683\"/>\n<text text-anchor=\"middle\" x=\"989.5\" y=\"-2671\" font-family=\"monospace\" font-size=\"10.00\" fill=\"#000000\">AccumulateGrad</text>\n</g>\n<!-- 139638936617552&#45;&gt;139638936617168 -->\n<g id=\"edge113\" class=\"edge\">\n<title>139638936617552&#45;&gt;139638936617168</title>\n<path fill=\"none\" stroke=\"#000000\" d=\"M987.4113,-2663.7796C985.6215,-2655.4499 982.9867,-2643.188 980.7546,-2632.8004\"/>\n<polygon fill=\"#000000\" stroke=\"#000000\" points=\"984.1495,-2631.9388 978.6267,-2622.8972 977.3057,-2633.4094 984.1495,-2631.9388\"/>\n</g>\n<!-- 139638936819344 -->\n<g id=\"node111\" class=\"node\">\n<title>139638936819344</title>\n<polygon fill=\"#add8e6\" stroke=\"#000000\" points=\"1049,-2749 942,-2749 942,-2719 1049,-2719 1049,-2749\"/>\n<text text-anchor=\"middle\" x=\"995.5\" y=\"-2737\" font-family=\"monospace\" font-size=\"10.00\" fill=\"#000000\">2.1.Root3a.bias</text>\n<text text-anchor=\"middle\" x=\"995.5\" y=\"-2726\" font-family=\"monospace\" font-size=\"10.00\" fill=\"#000000\"> (32)</text>\n</g>\n<!-- 139638936819344&#45;&gt;139638936617552 -->\n<g id=\"edge114\" class=\"edge\">\n<title>139638936819344&#45;&gt;139638936617552</title>\n<path fill=\"none\" stroke=\"#000000\" d=\"M993.9859,-2718.7333C993.2135,-2710.9447 992.2653,-2701.3831 991.4399,-2693.0604\"/>\n<polygon fill=\"#000000\" stroke=\"#000000\" points=\"994.9206,-2692.6921 990.4507,-2683.0864 987.9548,-2693.383 994.9206,-2692.6921\"/>\n</g>\n<!-- 139638936617232 -->\n<g id=\"node112\" class=\"node\">\n<title>139638936617232</title>\n<polygon fill=\"#d3d3d3\" stroke=\"#000000\" points=\"1170,-2562 1069,-2562 1069,-2543 1170,-2543 1170,-2562\"/>\n<text text-anchor=\"middle\" x=\"1119.5\" y=\"-2550\" font-family=\"monospace\" font-size=\"10.00\" fill=\"#000000\">AccumulateGrad</text>\n</g>\n<!-- 139638936617232&#45;&gt;139638937275408 -->\n<g id=\"edge115\" class=\"edge\">\n<title>139638936617232&#45;&gt;139638937275408</title>\n<path fill=\"none\" stroke=\"#000000\" d=\"M1123.5063,-2542.9197C1126.5361,-2535.6746 1130.795,-2525.4903 1134.5123,-2516.601\"/>\n<polygon fill=\"#000000\" stroke=\"#000000\" points=\"1137.7557,-2517.917 1138.3847,-2507.3408 1131.2976,-2515.2163 1137.7557,-2517.917\"/>\n</g>\n<!-- 139638936819424 -->\n<g id=\"node113\" class=\"node\">\n<title>139638936819424</title>\n<polygon fill=\"#add8e6\" stroke=\"#000000\" points=\"1176,-2628 1057,-2628 1057,-2598 1176,-2598 1176,-2628\"/>\n<text text-anchor=\"middle\" x=\"1116.5\" y=\"-2616\" font-family=\"monospace\" font-size=\"10.00\" fill=\"#000000\">2.1.Root3b.weight</text>\n<text text-anchor=\"middle\" x=\"1116.5\" y=\"-2605\" font-family=\"monospace\" font-size=\"10.00\" fill=\"#000000\"> (96, 32, 5, 5)</text>\n</g>\n<!-- 139638936819424&#45;&gt;139638936617232 -->\n<g id=\"edge116\" class=\"edge\">\n<title>139638936819424&#45;&gt;139638936617232</title>\n<path fill=\"none\" stroke=\"#000000\" d=\"M1117.257,-2597.7333C1117.6389,-2590.0322 1118.1067,-2580.5977 1118.5161,-2572.3414\"/>\n<polygon fill=\"#000000\" stroke=\"#000000\" points=\"1122.025,-2572.2475 1119.0246,-2562.0864 1115.0336,-2571.9008 1122.025,-2572.2475\"/>\n</g>\n<!-- 139638936617040 -->\n<g id=\"node114\" class=\"node\">\n<title>139638936617040</title>\n<polygon fill=\"#d3d3d3\" stroke=\"#000000\" points=\"1292,-2562 1191,-2562 1191,-2543 1292,-2543 1292,-2562\"/>\n<text text-anchor=\"middle\" x=\"1241.5\" y=\"-2550\" font-family=\"monospace\" font-size=\"10.00\" fill=\"#000000\">AccumulateGrad</text>\n</g>\n<!-- 139638936617040&#45;&gt;139638937275408 -->\n<g id=\"edge117\" class=\"edge\">\n<title>139638936617040&#45;&gt;139638937275408</title>\n<path fill=\"none\" stroke=\"#000000\" d=\"M1224.2555,-2542.9197C1209.0174,-2534.4541 1186.556,-2521.9755 1169.0304,-2512.2391\"/>\n<polygon fill=\"#000000\" stroke=\"#000000\" points=\"1170.3204,-2508.9519 1159.879,-2507.155 1166.9209,-2515.0711 1170.3204,-2508.9519\"/>\n</g>\n<!-- 139638936819504 -->\n<g id=\"node115\" class=\"node\">\n<title>139638936819504</title>\n<polygon fill=\"#add8e6\" stroke=\"#000000\" points=\"1301,-2628 1194,-2628 1194,-2598 1301,-2598 1301,-2628\"/>\n<text text-anchor=\"middle\" x=\"1247.5\" y=\"-2616\" font-family=\"monospace\" font-size=\"10.00\" fill=\"#000000\">2.1.Root3b.bias</text>\n<text text-anchor=\"middle\" x=\"1247.5\" y=\"-2605\" font-family=\"monospace\" font-size=\"10.00\" fill=\"#000000\"> (96)</text>\n</g>\n<!-- 139638936819504&#45;&gt;139638936617040 -->\n<g id=\"edge118\" class=\"edge\">\n<title>139638936819504&#45;&gt;139638936617040</title>\n<path fill=\"none\" stroke=\"#000000\" d=\"M1245.9859,-2597.7333C1245.2135,-2589.9447 1244.2653,-2580.3831 1243.4399,-2572.0604\"/>\n<polygon fill=\"#000000\" stroke=\"#000000\" points=\"1246.9206,-2571.6921 1242.4507,-2562.0864 1239.9548,-2572.383 1246.9206,-2571.6921\"/>\n</g>\n<!-- 139638937275600 -->\n<g id=\"node116\" class=\"node\">\n<title>139638937275600</title>\n<polygon fill=\"#d3d3d3\" stroke=\"#000000\" points=\"1439,-2452 1344,-2452 1344,-2433 1439,-2433 1439,-2452\"/>\n<text text-anchor=\"middle\" x=\"1391.5\" y=\"-2440\" font-family=\"monospace\" font-size=\"10.00\" fill=\"#000000\">ReluBackward0</text>\n</g>\n<!-- 139638937275600&#45;&gt;139638937275984 -->\n<g id=\"edge119\" class=\"edge\">\n<title>139638937275600&#45;&gt;139638937275984</title>\n<path fill=\"none\" stroke=\"#000000\" d=\"M1375.1119,-2432.7796C1358.7543,-2423.0773 1333.4022,-2408.04 1314.5259,-2396.8438\"/>\n<polygon fill=\"#000000\" stroke=\"#000000\" points=\"1316.2338,-2393.7875 1305.8474,-2391.6962 1312.6627,-2399.8081 1316.2338,-2393.7875\"/>\n</g>\n<!-- 139638936555280 -->\n<g id=\"node117\" class=\"node\">\n<title>139638936555280</title>\n<polygon fill=\"#d3d3d3\" stroke=\"#000000\" points=\"1555,-2507 1430,-2507 1430,-2488 1555,-2488 1555,-2507\"/>\n<text text-anchor=\"middle\" x=\"1492.5\" y=\"-2495\" font-family=\"monospace\" font-size=\"10.00\" fill=\"#000000\">ThnnConv2DBackward</text>\n</g>\n<!-- 139638936555280&#45;&gt;139638937275600 -->\n<g id=\"edge120\" class=\"edge\">\n<title>139638936555280&#45;&gt;139638937275600</title>\n<path fill=\"none\" stroke=\"#000000\" d=\"M1474.9071,-2487.9197C1459.2172,-2479.3757 1436.021,-2466.7441 1418.0711,-2456.9694\"/>\n<polygon fill=\"#000000\" stroke=\"#000000\" points=\"1419.6863,-2453.8637 1409.2301,-2452.155 1416.3386,-2460.0113 1419.6863,-2453.8637\"/>\n</g>\n<!-- 139638936617360 -->\n<g id=\"node118\" class=\"node\">\n<title>139638936617360</title>\n<polygon fill=\"#d3d3d3\" stroke=\"#000000\" points=\"1469,-2562 1374,-2562 1374,-2543 1469,-2543 1469,-2562\"/>\n<text text-anchor=\"middle\" x=\"1421.5\" y=\"-2550\" font-family=\"monospace\" font-size=\"10.00\" fill=\"#000000\">ReluBackward0</text>\n</g>\n<!-- 139638936617360&#45;&gt;139638936555280 -->\n<g id=\"edge121\" class=\"edge\">\n<title>139638936617360&#45;&gt;139638936555280</title>\n<path fill=\"none\" stroke=\"#000000\" d=\"M1433.8673,-2542.9197C1444.3263,-2534.8177 1459.5303,-2523.0399 1471.8349,-2513.5082\"/>\n<polygon fill=\"#000000\" stroke=\"#000000\" points=\"1474.0343,-2516.2318 1479.7964,-2507.3408 1469.7475,-2510.6979 1474.0343,-2516.2318\"/>\n</g>\n<!-- 139638936617616&#45;&gt;139638936617360 -->\n<g id=\"edge122\" class=\"edge\">\n<title>139638936617616&#45;&gt;139638936617360</title>\n<path fill=\"none\" stroke=\"#000000\" d=\"M1413.1067,-2603.2796C1414.4835,-2594.9499 1416.5102,-2582.688 1418.2272,-2572.3004\"/>\n<polygon fill=\"#000000\" stroke=\"#000000\" points=\"1421.6864,-2572.8342 1419.8641,-2562.3972 1414.7801,-2571.6926 1421.6864,-2572.8342\"/>\n</g>\n<!-- 139638936617680 -->\n<g id=\"node120\" class=\"node\">\n<title>139638936617680</title>\n<polygon fill=\"#d3d3d3\" stroke=\"#000000\" points=\"1615,-2562 1514,-2562 1514,-2543 1615,-2543 1615,-2562\"/>\n<text text-anchor=\"middle\" x=\"1564.5\" y=\"-2550\" font-family=\"monospace\" font-size=\"10.00\" fill=\"#000000\">AccumulateGrad</text>\n</g>\n<!-- 139638936617680&#45;&gt;139638936555280 -->\n<g id=\"edge124\" class=\"edge\">\n<title>139638936617680&#45;&gt;139638936555280</title>\n<path fill=\"none\" stroke=\"#000000\" d=\"M1551.9586,-2542.9197C1541.3522,-2534.8177 1525.9341,-2523.0399 1513.4561,-2513.5082\"/>\n<polygon fill=\"#000000\" stroke=\"#000000\" points=\"1515.4539,-2510.6299 1505.3825,-2507.3408 1511.2046,-2516.1926 1515.4539,-2510.6299\"/>\n</g>\n<!-- 139638936819584 -->\n<g id=\"node121\" class=\"node\">\n<title>139638936819584</title>\n<polygon fill=\"#add8e6\" stroke=\"#000000\" points=\"1641,-2628 1522,-2628 1522,-2598 1641,-2598 1641,-2628\"/>\n<text text-anchor=\"middle\" x=\"1581.5\" y=\"-2616\" font-family=\"monospace\" font-size=\"10.00\" fill=\"#000000\">2.1.Root4b.weight</text>\n<text text-anchor=\"middle\" x=\"1581.5\" y=\"-2605\" font-family=\"monospace\" font-size=\"10.00\" fill=\"#000000\"> (64, 256, 1, 1)</text>\n</g>\n<!-- 139638936819584&#45;&gt;139638936617680 -->\n<g id=\"edge125\" class=\"edge\">\n<title>139638936819584&#45;&gt;139638936617680</title>\n<path fill=\"none\" stroke=\"#000000\" d=\"M1577.2102,-2597.7333C1574.997,-2589.8571 1572.2745,-2580.168 1569.9176,-2571.7803\"/>\n<polygon fill=\"#000000\" stroke=\"#000000\" points=\"1573.2684,-2570.7667 1567.1937,-2562.0864 1566.5294,-2572.6604 1573.2684,-2570.7667\"/>\n</g>\n<!-- 139638936617104 -->\n<g id=\"node122\" class=\"node\">\n<title>139638936617104</title>\n<polygon fill=\"#d3d3d3\" stroke=\"#000000\" points=\"1753,-2562 1652,-2562 1652,-2543 1753,-2543 1753,-2562\"/>\n<text text-anchor=\"middle\" x=\"1702.5\" y=\"-2550\" font-family=\"monospace\" font-size=\"10.00\" fill=\"#000000\">AccumulateGrad</text>\n</g>\n<!-- 139638936617104&#45;&gt;139638936555280 -->\n<g id=\"edge126\" class=\"edge\">\n<title>139638936617104&#45;&gt;139638936555280</title>\n<path fill=\"none\" stroke=\"#000000\" d=\"M1665.9208,-2542.9197C1630.6464,-2533.6812 1577.1243,-2519.6635 1538.8758,-2509.646\"/>\n<polygon fill=\"#000000\" stroke=\"#000000\" points=\"1539.5722,-2506.2105 1529.0117,-2507.0626 1537.7987,-2512.9821 1539.5722,-2506.2105\"/>\n</g>\n<!-- 139638936819664 -->\n<g id=\"node123\" class=\"node\">\n<title>139638936819664</title>\n<polygon fill=\"#add8e6\" stroke=\"#000000\" points=\"1766,-2628 1659,-2628 1659,-2598 1766,-2598 1766,-2628\"/>\n<text text-anchor=\"middle\" x=\"1712.5\" y=\"-2616\" font-family=\"monospace\" font-size=\"10.00\" fill=\"#000000\">2.1.Root4b.bias</text>\n<text text-anchor=\"middle\" x=\"1712.5\" y=\"-2605\" font-family=\"monospace\" font-size=\"10.00\" fill=\"#000000\"> (64)</text>\n</g>\n<!-- 139638936819664&#45;&gt;139638936617104 -->\n<g id=\"edge127\" class=\"edge\">\n<title>139638936819664&#45;&gt;139638936617104</title>\n<path fill=\"none\" stroke=\"#000000\" d=\"M1709.9766,-2597.7333C1708.6892,-2589.9447 1707.1088,-2580.3831 1705.7331,-2572.0604\"/>\n<polygon fill=\"#000000\" stroke=\"#000000\" points=\"1709.1685,-2571.3817 1704.0845,-2562.0864 1702.2622,-2572.5233 1709.1685,-2571.3817\"/>\n</g>\n<!-- 139638937275920 -->\n<g id=\"node124\" class=\"node\">\n<title>139638937275920</title>\n<polygon fill=\"#d3d3d3\" stroke=\"#000000\" points=\"1024,-2331 923,-2331 923,-2312 1024,-2312 1024,-2331\"/>\n<text text-anchor=\"middle\" x=\"973.5\" y=\"-2319\" font-family=\"monospace\" font-size=\"10.00\" fill=\"#000000\">AccumulateGrad</text>\n</g>\n<!-- 139638937275920&#45;&gt;139638937275536 -->\n<g id=\"edge128\" class=\"edge\">\n<title>139638937275920&#45;&gt;139638937275536</title>\n<path fill=\"none\" stroke=\"#000000\" d=\"M963.86,-2311.7796C954.9035,-2302.7485 941.3628,-2289.095 930.5772,-2278.2195\"/>\n<polygon fill=\"#000000\" stroke=\"#000000\" points=\"932.8423,-2275.533 923.3154,-2270.8972 927.872,-2280.4622 932.8423,-2275.533\"/>\n</g>\n<!-- 139638936819744 -->\n<g id=\"node125\" class=\"node\">\n<title>139638936819744</title>\n<polygon fill=\"#add8e6\" stroke=\"#000000\" points=\"1036,-2397 917,-2397 917,-2367 1036,-2367 1036,-2397\"/>\n<text text-anchor=\"middle\" x=\"976.5\" y=\"-2385\" font-family=\"monospace\" font-size=\"10.00\" fill=\"#000000\">3.0.Root1a.weight</text>\n<text text-anchor=\"middle\" x=\"976.5\" y=\"-2374\" font-family=\"monospace\" font-size=\"10.00\" fill=\"#000000\"> (192, 480, 1, 1)</text>\n</g>\n<!-- 139638936819744&#45;&gt;139638937275920 -->\n<g id=\"edge129\" class=\"edge\">\n<title>139638936819744&#45;&gt;139638937275920</title>\n<path fill=\"none\" stroke=\"#000000\" d=\"M975.743,-2366.7333C975.3611,-2359.0322 974.8933,-2349.5977 974.4839,-2341.3414\"/>\n<polygon fill=\"#000000\" stroke=\"#000000\" points=\"977.9664,-2340.9008 973.9754,-2331.0864 970.975,-2341.2475 977.9664,-2340.9008\"/>\n</g>\n<!-- 139638937275664 -->\n<g id=\"node126\" class=\"node\">\n<title>139638937275664</title>\n<polygon fill=\"#d3d3d3\" stroke=\"#000000\" points=\"902,-2331 801,-2331 801,-2312 902,-2312 902,-2331\"/>\n<text text-anchor=\"middle\" x=\"851.5\" y=\"-2319\" font-family=\"monospace\" font-size=\"10.00\" fill=\"#000000\">AccumulateGrad</text>\n</g>\n<!-- 139638937275664&#45;&gt;139638937275536 -->\n<g id=\"edge130\" class=\"edge\">\n<title>139638937275664&#45;&gt;139638937275536</title>\n<path fill=\"none\" stroke=\"#000000\" d=\"M861.4614,-2311.7796C870.8063,-2302.6608 884.9806,-2288.8294 896.1774,-2277.9035\"/>\n<polygon fill=\"#000000\" stroke=\"#000000\" points=\"898.6446,-2280.3862 903.3574,-2270.8972 893.7558,-2275.3762 898.6446,-2280.3862\"/>\n</g>\n<!-- 139638936819824 -->\n<g id=\"node127\" class=\"node\">\n<title>139638936819824</title>\n<polygon fill=\"#add8e6\" stroke=\"#000000\" points=\"899,-2397 792,-2397 792,-2367 899,-2367 899,-2397\"/>\n<text text-anchor=\"middle\" x=\"845.5\" y=\"-2385\" font-family=\"monospace\" font-size=\"10.00\" fill=\"#000000\">3.0.Root1a.bias</text>\n<text text-anchor=\"middle\" x=\"845.5\" y=\"-2374\" font-family=\"monospace\" font-size=\"10.00\" fill=\"#000000\"> (192)</text>\n</g>\n<!-- 139638936819824&#45;&gt;139638937275664 -->\n<g id=\"edge131\" class=\"edge\">\n<title>139638936819824&#45;&gt;139638937275664</title>\n<path fill=\"none\" stroke=\"#000000\" d=\"M847.0141,-2366.7333C847.7865,-2358.9447 848.7347,-2349.3831 849.5601,-2341.0604\"/>\n<polygon fill=\"#000000\" stroke=\"#000000\" points=\"853.0452,-2341.383 850.5493,-2331.0864 846.0794,-2340.6921 853.0452,-2341.383\"/>\n</g>\n<!-- 139638937275280 -->\n<g id=\"node128\" class=\"node\">\n<title>139638937275280</title>\n<polygon fill=\"#d3d3d3\" stroke=\"#000000\" points=\"1482,-2094.5 1387,-2094.5 1387,-2075.5 1482,-2075.5 1482,-2094.5\"/>\n<text text-anchor=\"middle\" x=\"1434.5\" y=\"-2082.5\" font-family=\"monospace\" font-size=\"10.00\" fill=\"#000000\">ReluBackward0</text>\n</g>\n<!-- 139638937275280&#45;&gt;139638937274960 -->\n<g id=\"edge132\" class=\"edge\">\n<title>139638937275280&#45;&gt;139638937274960</title>\n<path fill=\"none\" stroke=\"#000000\" d=\"M1418.4333,-2075.2796C1402.4693,-2065.6214 1377.7672,-2050.6766 1359.288,-2039.4967\"/>\n<polygon fill=\"#000000\" stroke=\"#000000\" points=\"1360.8946,-2036.3781 1350.5269,-2034.1962 1357.2711,-2042.3673 1360.8946,-2036.3781\"/>\n</g>\n<!-- 139638937275856 -->\n<g id=\"node129\" class=\"node\">\n<title>139638937275856</title>\n<polygon fill=\"#d3d3d3\" stroke=\"#000000\" points=\"1654,-2155 1529,-2155 1529,-2136 1654,-2136 1654,-2155\"/>\n<text text-anchor=\"middle\" x=\"1591.5\" y=\"-2143\" font-family=\"monospace\" font-size=\"10.00\" fill=\"#000000\">ThnnConv2DBackward</text>\n</g>\n<!-- 139638937275856&#45;&gt;139638937275280 -->\n<g id=\"edge133\" class=\"edge\">\n<title>139638937275856&#45;&gt;139638937275280</title>\n<path fill=\"none\" stroke=\"#000000\" d=\"M1566.6229,-2135.9136C1540.2107,-2125.7357 1498.2849,-2109.5795 1468.7584,-2098.2015\"/>\n<polygon fill=\"#000000\" stroke=\"#000000\" points=\"1469.8504,-2094.8715 1459.2607,-2094.5416 1467.3334,-2101.4033 1469.8504,-2094.8715\"/>\n</g>\n<!-- 139638937276176 -->\n<g id=\"node130\" class=\"node\">\n<title>139638937276176</title>\n<polygon fill=\"#d3d3d3\" stroke=\"#000000\" points=\"1575,-2210 1480,-2210 1480,-2191 1575,-2191 1575,-2210\"/>\n<text text-anchor=\"middle\" x=\"1527.5\" y=\"-2198\" font-family=\"monospace\" font-size=\"10.00\" fill=\"#000000\">ReluBackward0</text>\n</g>\n<!-- 139638937276176&#45;&gt;139638937275856 -->\n<g id=\"edge134\" class=\"edge\">\n<title>139638937276176&#45;&gt;139638937275856</title>\n<path fill=\"none\" stroke=\"#000000\" d=\"M1538.6479,-2190.9197C1547.8945,-2182.9735 1561.2553,-2171.4916 1572.2296,-2162.0605\"/>\n<polygon fill=\"#000000\" stroke=\"#000000\" points=\"1574.7458,-2164.513 1580.0489,-2155.3408 1570.1834,-2159.2041 1574.7458,-2164.513\"/>\n</g>\n<!-- 139638936617936&#45;&gt;139638937276176 -->\n<g id=\"edge135\" class=\"edge\">\n<title>139638936617936&#45;&gt;139638937276176</title>\n<path fill=\"none\" stroke=\"#000000\" d=\"M1522.464,-2251.2796C1523.2814,-2243.0376 1524.4806,-2230.9457 1525.5037,-2220.629\"/>\n<polygon fill=\"#000000\" stroke=\"#000000\" points=\"1529.0144,-2220.6939 1526.5185,-2210.3972 1522.0486,-2220.003 1529.0144,-2220.6939\"/>\n</g>\n<!-- 139638936617744 -->\n<g id=\"node132\" class=\"node\">\n<title>139638936617744</title>\n<polygon fill=\"#d3d3d3\" stroke=\"#000000\" points=\"1510,-2331 1409,-2331 1409,-2312 1510,-2312 1510,-2331\"/>\n<text text-anchor=\"middle\" x=\"1459.5\" y=\"-2319\" font-family=\"monospace\" font-size=\"10.00\" fill=\"#000000\">AccumulateGrad</text>\n</g>\n<!-- 139638936617744&#45;&gt;139638936617936 -->\n<g id=\"edge137\" class=\"edge\">\n<title>139638936617744&#45;&gt;139638936617936</title>\n<path fill=\"none\" stroke=\"#000000\" d=\"M1469.4614,-2311.7796C1478.8063,-2302.6608 1492.9806,-2288.8294 1504.1774,-2277.9035\"/>\n<polygon fill=\"#000000\" stroke=\"#000000\" points=\"1506.6446,-2280.3862 1511.3574,-2270.8972 1501.7558,-2275.3762 1506.6446,-2280.3862\"/>\n</g>\n<!-- 139638936819904 -->\n<g id=\"node133\" class=\"node\">\n<title>139638936819904</title>\n<polygon fill=\"#add8e6\" stroke=\"#000000\" points=\"1515,-2397 1396,-2397 1396,-2367 1515,-2367 1515,-2397\"/>\n<text text-anchor=\"middle\" x=\"1455.5\" y=\"-2385\" font-family=\"monospace\" font-size=\"10.00\" fill=\"#000000\">3.0.Root2a.weight</text>\n<text text-anchor=\"middle\" x=\"1455.5\" y=\"-2374\" font-family=\"monospace\" font-size=\"10.00\" fill=\"#000000\"> (96, 480, 1, 1)</text>\n</g>\n<!-- 139638936819904&#45;&gt;139638936617744 -->\n<g id=\"edge138\" class=\"edge\">\n<title>139638936819904&#45;&gt;139638936617744</title>\n<path fill=\"none\" stroke=\"#000000\" d=\"M1456.5094,-2366.7333C1457.0185,-2359.0322 1457.6423,-2349.5977 1458.1882,-2341.3414\"/>\n<polygon fill=\"#000000\" stroke=\"#000000\" points=\"1461.6988,-2341.2956 1458.8662,-2331.0864 1454.714,-2340.8337 1461.6988,-2341.2956\"/>\n</g>\n<!-- 139638936618064 -->\n<g id=\"node134\" class=\"node\">\n<title>139638936618064</title>\n<polygon fill=\"#d3d3d3\" stroke=\"#000000\" points=\"1633,-2331 1532,-2331 1532,-2312 1633,-2312 1633,-2331\"/>\n<text text-anchor=\"middle\" x=\"1582.5\" y=\"-2319\" font-family=\"monospace\" font-size=\"10.00\" fill=\"#000000\">AccumulateGrad</text>\n</g>\n<!-- 139638936618064&#45;&gt;139638936617936 -->\n<g id=\"edge139\" class=\"edge\">\n<title>139638936618064&#45;&gt;139638936617936</title>\n<path fill=\"none\" stroke=\"#000000\" d=\"M1572.6993,-2311.7796C1563.5935,-2302.7485 1549.8272,-2289.095 1538.8618,-2278.2195\"/>\n<polygon fill=\"#000000\" stroke=\"#000000\" points=\"1541.0438,-2275.4541 1531.479,-2270.8972 1536.1145,-2280.4242 1541.0438,-2275.4541\"/>\n</g>\n<!-- 139638936819984 -->\n<g id=\"node135\" class=\"node\">\n<title>139638936819984</title>\n<polygon fill=\"#add8e6\" stroke=\"#000000\" points=\"1640,-2397 1533,-2397 1533,-2367 1640,-2367 1640,-2397\"/>\n<text text-anchor=\"middle\" x=\"1586.5\" y=\"-2385\" font-family=\"monospace\" font-size=\"10.00\" fill=\"#000000\">3.0.Root2a.bias</text>\n<text text-anchor=\"middle\" x=\"1586.5\" y=\"-2374\" font-family=\"monospace\" font-size=\"10.00\" fill=\"#000000\"> (96)</text>\n</g>\n<!-- 139638936819984&#45;&gt;139638936618064 -->\n<g id=\"edge140\" class=\"edge\">\n<title>139638936819984&#45;&gt;139638936618064</title>\n<path fill=\"none\" stroke=\"#000000\" d=\"M1585.4906,-2366.7333C1584.9815,-2359.0322 1584.3577,-2349.5977 1583.8118,-2341.3414\"/>\n<polygon fill=\"#000000\" stroke=\"#000000\" points=\"1587.286,-2340.8337 1583.1338,-2331.0864 1580.3012,-2341.2956 1587.286,-2340.8337\"/>\n</g>\n<!-- 139638937275728 -->\n<g id=\"node136\" class=\"node\">\n<title>139638937275728</title>\n<polygon fill=\"#d3d3d3\" stroke=\"#000000\" points=\"1706,-2210 1605,-2210 1605,-2191 1706,-2191 1706,-2210\"/>\n<text text-anchor=\"middle\" x=\"1655.5\" y=\"-2198\" font-family=\"monospace\" font-size=\"10.00\" fill=\"#000000\">AccumulateGrad</text>\n</g>\n<!-- 139638937275728&#45;&gt;139638937275856 -->\n<g id=\"edge141\" class=\"edge\">\n<title>139638937275728&#45;&gt;139638937275856</title>\n<path fill=\"none\" stroke=\"#000000\" d=\"M1644.3521,-2190.9197C1635.1055,-2182.9735 1621.7447,-2171.4916 1610.7704,-2162.0605\"/>\n<polygon fill=\"#000000\" stroke=\"#000000\" points=\"1612.8166,-2159.2041 1602.9511,-2155.3408 1608.2542,-2164.513 1612.8166,-2159.2041\"/>\n</g>\n<!-- 139638936820064 -->\n<g id=\"node137\" class=\"node\">\n<title>139638936820064</title>\n<polygon fill=\"#add8e6\" stroke=\"#000000\" points=\"1721,-2276 1602,-2276 1602,-2246 1721,-2246 1721,-2276\"/>\n<text text-anchor=\"middle\" x=\"1661.5\" y=\"-2264\" font-family=\"monospace\" font-size=\"10.00\" fill=\"#000000\">3.0.Root2b.weight</text>\n<text text-anchor=\"middle\" x=\"1661.5\" y=\"-2253\" font-family=\"monospace\" font-size=\"10.00\" fill=\"#000000\"> (208, 96, 3, 3)</text>\n</g>\n<!-- 139638936820064&#45;&gt;139638937275728 -->\n<g id=\"edge142\" class=\"edge\">\n<title>139638936820064&#45;&gt;139638937275728</title>\n<path fill=\"none\" stroke=\"#000000\" d=\"M1659.9859,-2245.7333C1659.2135,-2237.9447 1658.2653,-2228.3831 1657.4399,-2220.0604\"/>\n<polygon fill=\"#000000\" stroke=\"#000000\" points=\"1660.9206,-2219.6921 1656.4507,-2210.0864 1653.9548,-2220.383 1660.9206,-2219.6921\"/>\n</g>\n<!-- 139638936617488 -->\n<g id=\"node138\" class=\"node\">\n<title>139638936617488</title>\n<polygon fill=\"#d3d3d3\" stroke=\"#000000\" points=\"1837,-2210 1736,-2210 1736,-2191 1837,-2191 1837,-2210\"/>\n<text text-anchor=\"middle\" x=\"1786.5\" y=\"-2198\" font-family=\"monospace\" font-size=\"10.00\" fill=\"#000000\">AccumulateGrad</text>\n</g>\n<!-- 139638936617488&#45;&gt;139638937275856 -->\n<g id=\"edge143\" class=\"edge\">\n<title>139638936617488&#45;&gt;139638937275856</title>\n<path fill=\"none\" stroke=\"#000000\" d=\"M1752.5336,-2190.9197C1720.0576,-2181.7598 1670.9244,-2167.9018 1635.4731,-2157.9027\"/>\n<polygon fill=\"#000000\" stroke=\"#000000\" points=\"1635.9784,-2154.4087 1625.4037,-2155.0626 1634.0781,-2161.1458 1635.9784,-2154.4087\"/>\n</g>\n<!-- 139638936820144 -->\n<g id=\"node139\" class=\"node\">\n<title>139638936820144</title>\n<polygon fill=\"#add8e6\" stroke=\"#000000\" points=\"1846,-2276 1739,-2276 1739,-2246 1846,-2246 1846,-2276\"/>\n<text text-anchor=\"middle\" x=\"1792.5\" y=\"-2264\" font-family=\"monospace\" font-size=\"10.00\" fill=\"#000000\">3.0.Root2b.bias</text>\n<text text-anchor=\"middle\" x=\"1792.5\" y=\"-2253\" font-family=\"monospace\" font-size=\"10.00\" fill=\"#000000\"> (208)</text>\n</g>\n<!-- 139638936820144&#45;&gt;139638936617488 -->\n<g id=\"edge144\" class=\"edge\">\n<title>139638936820144&#45;&gt;139638936617488</title>\n<path fill=\"none\" stroke=\"#000000\" d=\"M1790.9859,-2245.7333C1790.2135,-2237.9447 1789.2653,-2228.3831 1788.4399,-2220.0604\"/>\n<polygon fill=\"#000000\" stroke=\"#000000\" points=\"1791.9206,-2219.6921 1787.4507,-2210.0864 1784.9548,-2220.383 1791.9206,-2219.6921\"/>\n</g>\n<!-- 139638937275152 -->\n<g id=\"node140\" class=\"node\">\n<title>139638937275152</title>\n<polygon fill=\"#d3d3d3\" stroke=\"#000000\" points=\"1603,-2094.5 1508,-2094.5 1508,-2075.5 1603,-2075.5 1603,-2094.5\"/>\n<text text-anchor=\"middle\" x=\"1555.5\" y=\"-2082.5\" font-family=\"monospace\" font-size=\"10.00\" fill=\"#000000\">ReluBackward0</text>\n</g>\n<!-- 139638937275152&#45;&gt;139638937274960 -->\n<g id=\"edge145\" class=\"edge\">\n<title>139638937275152&#45;&gt;139638937274960</title>\n<path fill=\"none\" stroke=\"#000000\" d=\"M1520.4819,-2075.4136C1482.2523,-2064.948 1420.9332,-2048.1616 1379.2425,-2036.7485\"/>\n<polygon fill=\"#000000\" stroke=\"#000000\" points=\"1379.9236,-2033.3062 1369.3543,-2034.0416 1378.0752,-2040.0578 1379.9236,-2033.3062\"/>\n</g>\n<!-- 139638937276048 -->\n<g id=\"node141\" class=\"node\">\n<title>139638937276048</title>\n<polygon fill=\"#d3d3d3\" stroke=\"#000000\" points=\"2080,-2155 1913,-2155 1913,-2136 2080,-2136 2080,-2155\"/>\n<text text-anchor=\"middle\" x=\"1996.5\" y=\"-2143\" font-family=\"monospace\" font-size=\"10.00\" fill=\"#000000\">MkldnnConvolutionBackward</text>\n</g>\n<!-- 139638937276048&#45;&gt;139638937275152 -->\n<g id=\"edge146\" class=\"edge\">\n<title>139638937276048&#45;&gt;139638937275152</title>\n<path fill=\"none\" stroke=\"#000000\" d=\"M1912.6645,-2138.4231C1835.3732,-2131.1987 1717.6574,-2118.4226 1616.5,-2100 1611.4656,-2099.0831 1606.2274,-2097.9985 1601.0293,-2096.8383\"/>\n<polygon fill=\"#000000\" stroke=\"#000000\" points=\"1601.6796,-2093.3962 1591.1465,-2094.5384 1600.0929,-2100.214 1601.6796,-2093.3962\"/>\n</g>\n<!-- 139638936617872 -->\n<g id=\"node142\" class=\"node\">\n<title>139638936617872</title>\n<polygon fill=\"#d3d3d3\" stroke=\"#000000\" points=\"1980,-2210 1885,-2210 1885,-2191 1980,-2191 1980,-2210\"/>\n<text text-anchor=\"middle\" x=\"1932.5\" y=\"-2198\" font-family=\"monospace\" font-size=\"10.00\" fill=\"#000000\">ReluBackward0</text>\n</g>\n<!-- 139638936617872&#45;&gt;139638937276048 -->\n<g id=\"edge147\" class=\"edge\">\n<title>139638936617872&#45;&gt;139638937276048</title>\n<path fill=\"none\" stroke=\"#000000\" d=\"M1943.6479,-2190.9197C1952.8945,-2182.9735 1966.2553,-2171.4916 1977.2296,-2162.0605\"/>\n<polygon fill=\"#000000\" stroke=\"#000000\" points=\"1979.7458,-2164.513 1985.0489,-2155.3408 1975.1834,-2159.2041 1979.7458,-2164.513\"/>\n</g>\n<!-- 139638936618128&#45;&gt;139638936617872 -->\n<g id=\"edge148\" class=\"edge\">\n<title>139638936618128&#45;&gt;139638936617872</title>\n<path fill=\"none\" stroke=\"#000000\" d=\"M1927.464,-2251.2796C1928.2814,-2243.0376 1929.4806,-2230.9457 1930.5037,-2220.629\"/>\n<polygon fill=\"#000000\" stroke=\"#000000\" points=\"1934.0144,-2220.6939 1931.5185,-2210.3972 1927.0486,-2220.003 1934.0144,-2220.6939\"/>\n</g>\n<!-- 139638936618384 -->\n<g id=\"node144\" class=\"node\">\n<title>139638936618384</title>\n<polygon fill=\"#d3d3d3\" stroke=\"#000000\" points=\"1914,-2331 1813,-2331 1813,-2312 1914,-2312 1914,-2331\"/>\n<text text-anchor=\"middle\" x=\"1863.5\" y=\"-2319\" font-family=\"monospace\" font-size=\"10.00\" fill=\"#000000\">AccumulateGrad</text>\n</g>\n<!-- 139638936618384&#45;&gt;139638936618128 -->\n<g id=\"edge150\" class=\"edge\">\n<title>139638936618384&#45;&gt;139638936618128</title>\n<path fill=\"none\" stroke=\"#000000\" d=\"M1873.622,-2311.7796C1883.1177,-2302.6608 1897.5206,-2288.8294 1908.898,-2277.9035\"/>\n<polygon fill=\"#000000\" stroke=\"#000000\" points=\"1911.4053,-2280.3482 1916.1938,-2270.8972 1906.5567,-2275.2993 1911.4053,-2280.3482\"/>\n</g>\n<!-- 139638936820224 -->\n<g id=\"node145\" class=\"node\">\n<title>139638936820224</title>\n<polygon fill=\"#add8e6\" stroke=\"#000000\" points=\"1920,-2397 1801,-2397 1801,-2367 1920,-2367 1920,-2397\"/>\n<text text-anchor=\"middle\" x=\"1860.5\" y=\"-2385\" font-family=\"monospace\" font-size=\"10.00\" fill=\"#000000\">3.0.Root3a.weight</text>\n<text text-anchor=\"middle\" x=\"1860.5\" y=\"-2374\" font-family=\"monospace\" font-size=\"10.00\" fill=\"#000000\"> (16, 480, 1, 1)</text>\n</g>\n<!-- 139638936820224&#45;&gt;139638936618384 -->\n<g id=\"edge151\" class=\"edge\">\n<title>139638936820224&#45;&gt;139638936618384</title>\n<path fill=\"none\" stroke=\"#000000\" d=\"M1861.257,-2366.7333C1861.6389,-2359.0322 1862.1067,-2349.5977 1862.5161,-2341.3414\"/>\n<polygon fill=\"#000000\" stroke=\"#000000\" points=\"1866.025,-2341.2475 1863.0246,-2331.0864 1859.0336,-2340.9008 1866.025,-2341.2475\"/>\n</g>\n<!-- 139638936618512 -->\n<g id=\"node146\" class=\"node\">\n<title>139638936618512</title>\n<polygon fill=\"#d3d3d3\" stroke=\"#000000\" points=\"2039,-2331 1938,-2331 1938,-2312 2039,-2312 2039,-2331\"/>\n<text text-anchor=\"middle\" x=\"1988.5\" y=\"-2319\" font-family=\"monospace\" font-size=\"10.00\" fill=\"#000000\">AccumulateGrad</text>\n</g>\n<!-- 139638936618512&#45;&gt;139638936618128 -->\n<g id=\"edge152\" class=\"edge\">\n<title>139638936618512&#45;&gt;139638936618128</title>\n<path fill=\"none\" stroke=\"#000000\" d=\"M1978.5386,-2311.7796C1969.1937,-2302.6608 1955.0194,-2288.8294 1943.8226,-2277.9035\"/>\n<polygon fill=\"#000000\" stroke=\"#000000\" points=\"1946.2442,-2275.3762 1936.6426,-2270.8972 1941.3554,-2280.3862 1946.2442,-2275.3762\"/>\n</g>\n<!-- 139638936820304 -->\n<g id=\"node147\" class=\"node\">\n<title>139638936820304</title>\n<polygon fill=\"#add8e6\" stroke=\"#000000\" points=\"2045,-2397 1938,-2397 1938,-2367 2045,-2367 2045,-2397\"/>\n<text text-anchor=\"middle\" x=\"1991.5\" y=\"-2385\" font-family=\"monospace\" font-size=\"10.00\" fill=\"#000000\">3.0.Root3a.bias</text>\n<text text-anchor=\"middle\" x=\"1991.5\" y=\"-2374\" font-family=\"monospace\" font-size=\"10.00\" fill=\"#000000\"> (16)</text>\n</g>\n<!-- 139638936820304&#45;&gt;139638936618512 -->\n<g id=\"edge153\" class=\"edge\">\n<title>139638936820304&#45;&gt;139638936618512</title>\n<path fill=\"none\" stroke=\"#000000\" d=\"M1990.743,-2366.7333C1990.3611,-2359.0322 1989.8933,-2349.5977 1989.4839,-2341.3414\"/>\n<polygon fill=\"#000000\" stroke=\"#000000\" points=\"1992.9664,-2340.9008 1988.9754,-2331.0864 1985.975,-2341.2475 1992.9664,-2340.9008\"/>\n</g>\n<!-- 139638936618192 -->\n<g id=\"node148\" class=\"node\">\n<title>139638936618192</title>\n<polygon fill=\"#d3d3d3\" stroke=\"#000000\" points=\"2111,-2210 2010,-2210 2010,-2191 2111,-2191 2111,-2210\"/>\n<text text-anchor=\"middle\" x=\"2060.5\" y=\"-2198\" font-family=\"monospace\" font-size=\"10.00\" fill=\"#000000\">AccumulateGrad</text>\n</g>\n<!-- 139638936618192&#45;&gt;139638937276048 -->\n<g id=\"edge154\" class=\"edge\">\n<title>139638936618192&#45;&gt;139638937276048</title>\n<path fill=\"none\" stroke=\"#000000\" d=\"M2049.3521,-2190.9197C2040.1055,-2182.9735 2026.7447,-2171.4916 2015.7704,-2162.0605\"/>\n<polygon fill=\"#000000\" stroke=\"#000000\" points=\"2017.8166,-2159.2041 2007.9511,-2155.3408 2013.2542,-2164.513 2017.8166,-2159.2041\"/>\n</g>\n<!-- 139638936820384 -->\n<g id=\"node149\" class=\"node\">\n<title>139638936820384</title>\n<polygon fill=\"#add8e6\" stroke=\"#000000\" points=\"2126,-2276 2007,-2276 2007,-2246 2126,-2246 2126,-2276\"/>\n<text text-anchor=\"middle\" x=\"2066.5\" y=\"-2264\" font-family=\"monospace\" font-size=\"10.00\" fill=\"#000000\">3.0.Root3b.weight</text>\n<text text-anchor=\"middle\" x=\"2066.5\" y=\"-2253\" font-family=\"monospace\" font-size=\"10.00\" fill=\"#000000\"> (48, 16, 5, 5)</text>\n</g>\n<!-- 139638936820384&#45;&gt;139638936618192 -->\n<g id=\"edge155\" class=\"edge\">\n<title>139638936820384&#45;&gt;139638936618192</title>\n<path fill=\"none\" stroke=\"#000000\" d=\"M2064.9859,-2245.7333C2064.2135,-2237.9447 2063.2653,-2228.3831 2062.4399,-2220.0604\"/>\n<polygon fill=\"#000000\" stroke=\"#000000\" points=\"2065.9206,-2219.6921 2061.4507,-2210.0864 2058.9548,-2220.383 2065.9206,-2219.6921\"/>\n</g>\n<!-- 139638936617296 -->\n<g id=\"node150\" class=\"node\">\n<title>139638936617296</title>\n<polygon fill=\"#d3d3d3\" stroke=\"#000000\" points=\"2242,-2210 2141,-2210 2141,-2191 2242,-2191 2242,-2210\"/>\n<text text-anchor=\"middle\" x=\"2191.5\" y=\"-2198\" font-family=\"monospace\" font-size=\"10.00\" fill=\"#000000\">AccumulateGrad</text>\n</g>\n<!-- 139638936617296&#45;&gt;139638937276048 -->\n<g id=\"edge156\" class=\"edge\">\n<title>139638936617296&#45;&gt;139638937276048</title>\n<path fill=\"none\" stroke=\"#000000\" d=\"M2157.5336,-2190.9197C2125.0576,-2181.7598 2075.9244,-2167.9018 2040.4731,-2157.9027\"/>\n<polygon fill=\"#000000\" stroke=\"#000000\" points=\"2040.9784,-2154.4087 2030.4037,-2155.0626 2039.0781,-2161.1458 2040.9784,-2154.4087\"/>\n</g>\n<!-- 139638936820464 -->\n<g id=\"node151\" class=\"node\">\n<title>139638936820464</title>\n<polygon fill=\"#add8e6\" stroke=\"#000000\" points=\"2251,-2276 2144,-2276 2144,-2246 2251,-2246 2251,-2276\"/>\n<text text-anchor=\"middle\" x=\"2197.5\" y=\"-2264\" font-family=\"monospace\" font-size=\"10.00\" fill=\"#000000\">3.0.Root3b.bias</text>\n<text text-anchor=\"middle\" x=\"2197.5\" y=\"-2253\" font-family=\"monospace\" font-size=\"10.00\" fill=\"#000000\"> (48)</text>\n</g>\n<!-- 139638936820464&#45;&gt;139638936617296 -->\n<g id=\"edge157\" class=\"edge\">\n<title>139638936820464&#45;&gt;139638936617296</title>\n<path fill=\"none\" stroke=\"#000000\" d=\"M2195.9859,-2245.7333C2195.2135,-2237.9447 2194.2653,-2228.3831 2193.4399,-2220.0604\"/>\n<polygon fill=\"#000000\" stroke=\"#000000\" points=\"2196.9206,-2219.6921 2192.4507,-2210.0864 2189.9548,-2220.383 2196.9206,-2219.6921\"/>\n</g>\n<!-- 139638937274704 -->\n<g id=\"node152\" class=\"node\">\n<title>139638937274704</title>\n<polygon fill=\"#d3d3d3\" stroke=\"#000000\" points=\"1353,-2094.5 1258,-2094.5 1258,-2075.5 1353,-2075.5 1353,-2094.5\"/>\n<text text-anchor=\"middle\" x=\"1305.5\" y=\"-2082.5\" font-family=\"monospace\" font-size=\"10.00\" fill=\"#000000\">ReluBackward0</text>\n</g>\n<!-- 139638937274704&#45;&gt;139638937274960 -->\n<g id=\"edge158\" class=\"edge\">\n<title>139638937274704&#45;&gt;139638937274960</title>\n<path fill=\"none\" stroke=\"#000000\" d=\"M1310.1594,-2075.2796C1314.2362,-2066.7746 1320.278,-2054.17 1325.3222,-2043.6469\"/>\n<polygon fill=\"#000000\" stroke=\"#000000\" points=\"1328.5895,-2044.9277 1329.7559,-2034.3972 1322.2772,-2041.9019 1328.5895,-2044.9277\"/>\n</g>\n<!-- 139638936618000 -->\n<g id=\"node153\" class=\"node\">\n<title>139638936618000</title>\n<polygon fill=\"#d3d3d3\" stroke=\"#000000\" points=\"1368,-2155 1243,-2155 1243,-2136 1368,-2136 1368,-2155\"/>\n<text text-anchor=\"middle\" x=\"1305.5\" y=\"-2143\" font-family=\"monospace\" font-size=\"10.00\" fill=\"#000000\">ThnnConv2DBackward</text>\n</g>\n<!-- 139638936618000&#45;&gt;139638937274704 -->\n<g id=\"edge159\" class=\"edge\">\n<title>139638936618000&#45;&gt;139638937274704</title>\n<path fill=\"none\" stroke=\"#000000\" d=\"M1305.5,-2135.7796C1305.5,-2127.5376 1305.5,-2115.4457 1305.5,-2105.129\"/>\n<polygon fill=\"#000000\" stroke=\"#000000\" points=\"1309.0001,-2104.8972 1305.5,-2094.8972 1302.0001,-2104.8973 1309.0001,-2104.8972\"/>\n</g>\n<!-- 139638936618320 -->\n<g id=\"node154\" class=\"node\">\n<title>139638936618320</title>\n<polygon fill=\"#d3d3d3\" stroke=\"#000000\" points=\"1283,-2210 1188,-2210 1188,-2191 1283,-2191 1283,-2210\"/>\n<text text-anchor=\"middle\" x=\"1235.5\" y=\"-2198\" font-family=\"monospace\" font-size=\"10.00\" fill=\"#000000\">ReluBackward0</text>\n</g>\n<!-- 139638936618320&#45;&gt;139638936618000 -->\n<g id=\"edge160\" class=\"edge\">\n<title>139638936618320&#45;&gt;139638936618000</title>\n<path fill=\"none\" stroke=\"#000000\" d=\"M1247.6931,-2190.9197C1257.9056,-2182.8956 1272.7068,-2171.2661 1284.7753,-2161.7837\"/>\n<polygon fill=\"#000000\" stroke=\"#000000\" points=\"1287.2745,-2164.2712 1292.9753,-2155.3408 1282.9497,-2158.767 1287.2745,-2164.2712\"/>\n</g>\n<!-- 139638936618576&#45;&gt;139638936618320 -->\n<g id=\"edge161\" class=\"edge\">\n<title>139638936618576&#45;&gt;139638936618320</title>\n<path fill=\"none\" stroke=\"#000000\" d=\"M1225.428,-2251.2796C1227.0802,-2242.9499 1229.5123,-2230.688 1231.5726,-2220.3004\"/>\n<polygon fill=\"#000000\" stroke=\"#000000\" points=\"1235.0244,-2220.8871 1233.5369,-2210.3972 1228.1581,-2219.5252 1235.0244,-2220.8871\"/>\n</g>\n<!-- 139638936618640 -->\n<g id=\"node156\" class=\"node\">\n<title>139638936618640</title>\n<polygon fill=\"#d3d3d3\" stroke=\"#000000\" points=\"1137,-2210 1036,-2210 1036,-2191 1137,-2191 1137,-2210\"/>\n<text text-anchor=\"middle\" x=\"1086.5\" y=\"-2198\" font-family=\"monospace\" font-size=\"10.00\" fill=\"#000000\">AccumulateGrad</text>\n</g>\n<!-- 139638936618640&#45;&gt;139638936618000 -->\n<g id=\"edge163\" class=\"edge\">\n<title>139638936618640&#45;&gt;139638936618000</title>\n<path fill=\"none\" stroke=\"#000000\" d=\"M1124.6469,-2190.9197C1161.5896,-2181.6419 1217.7243,-2167.5441 1257.645,-2157.5184\"/>\n<polygon fill=\"#000000\" stroke=\"#000000\" points=\"1258.5772,-2160.893 1267.4235,-2155.0626 1256.8721,-2154.1039 1258.5772,-2160.893\"/>\n</g>\n<!-- 139638936820544 -->\n<g id=\"node157\" class=\"node\">\n<title>139638936820544</title>\n<polygon fill=\"#add8e6\" stroke=\"#000000\" points=\"1113,-2276 994,-2276 994,-2246 1113,-2246 1113,-2276\"/>\n<text text-anchor=\"middle\" x=\"1053.5\" y=\"-2264\" font-family=\"monospace\" font-size=\"10.00\" fill=\"#000000\">3.0.Root4b.weight</text>\n<text text-anchor=\"middle\" x=\"1053.5\" y=\"-2253\" font-family=\"monospace\" font-size=\"10.00\" fill=\"#000000\"> (64, 480, 1, 1)</text>\n</g>\n<!-- 139638936820544&#45;&gt;139638936618640 -->\n<g id=\"edge164\" class=\"edge\">\n<title>139638936820544&#45;&gt;139638936618640</title>\n<path fill=\"none\" stroke=\"#000000\" d=\"M1061.8273,-2245.7333C1066.2666,-2237.5946 1071.7618,-2227.52 1076.4386,-2218.946\"/>\n<polygon fill=\"#000000\" stroke=\"#000000\" points=\"1079.5551,-2220.5414 1081.2711,-2210.0864 1073.4098,-2217.1894 1079.5551,-2220.5414\"/>\n</g>\n<!-- 139638936617808 -->\n<g id=\"node158\" class=\"node\">\n<title>139638936617808</title>\n<polygon fill=\"#d3d3d3\" stroke=\"#000000\" points=\"1426,-2210 1325,-2210 1325,-2191 1426,-2191 1426,-2210\"/>\n<text text-anchor=\"middle\" x=\"1375.5\" y=\"-2198\" font-family=\"monospace\" font-size=\"10.00\" fill=\"#000000\">AccumulateGrad</text>\n</g>\n<!-- 139638936617808&#45;&gt;139638936618000 -->\n<g id=\"edge165\" class=\"edge\">\n<title>139638936617808&#45;&gt;139638936618000</title>\n<path fill=\"none\" stroke=\"#000000\" d=\"M1363.3069,-2190.9197C1353.0944,-2182.8956 1338.2932,-2171.2661 1326.2247,-2161.7837\"/>\n<polygon fill=\"#000000\" stroke=\"#000000\" points=\"1328.0503,-2158.767 1318.0247,-2155.3408 1323.7255,-2164.2712 1328.0503,-2158.767\"/>\n</g>\n<!-- 139638936820624 -->\n<g id=\"node159\" class=\"node\">\n<title>139638936820624</title>\n<polygon fill=\"#add8e6\" stroke=\"#000000\" points=\"1441,-2276 1334,-2276 1334,-2246 1441,-2246 1441,-2276\"/>\n<text text-anchor=\"middle\" x=\"1387.5\" y=\"-2264\" font-family=\"monospace\" font-size=\"10.00\" fill=\"#000000\">3.0.Root4b.bias</text>\n<text text-anchor=\"middle\" x=\"1387.5\" y=\"-2253\" font-family=\"monospace\" font-size=\"10.00\" fill=\"#000000\"> (64)</text>\n</g>\n<!-- 139638936820624&#45;&gt;139638936617808 -->\n<g id=\"edge166\" class=\"edge\">\n<title>139638936820624&#45;&gt;139638936617808</title>\n<path fill=\"none\" stroke=\"#000000\" d=\"M1384.4719,-2245.7333C1382.927,-2237.9447 1381.0305,-2228.3831 1379.3797,-2220.0604\"/>\n<polygon fill=\"#000000\" stroke=\"#000000\" points=\"1382.7802,-2219.2143 1377.4014,-2210.0864 1375.914,-2220.5763 1382.7802,-2219.2143\"/>\n</g>\n<!-- 139638937275088 -->\n<g id=\"node160\" class=\"node\">\n<title>139638937275088</title>\n<polygon fill=\"#d3d3d3\" stroke=\"#000000\" points=\"1854,-2034 1753,-2034 1753,-2015 1854,-2015 1854,-2034\"/>\n<text text-anchor=\"middle\" x=\"1803.5\" y=\"-2022\" font-family=\"monospace\" font-size=\"10.00\" fill=\"#000000\">AccumulateGrad</text>\n</g>\n<!-- 139638937275088&#45;&gt;139638937274768 -->\n<g id=\"edge167\" class=\"edge\">\n<title>139638937275088&#45;&gt;139638937274768</title>\n<path fill=\"none\" stroke=\"#000000\" d=\"M1801.2507,-2014.7796C1799.3231,-2006.4499 1796.4857,-1994.188 1794.0819,-1983.8004\"/>\n<polygon fill=\"#000000\" stroke=\"#000000\" points=\"1797.4547,-1982.8507 1791.7903,-1973.8972 1790.6349,-1984.4289 1797.4547,-1982.8507\"/>\n</g>\n<!-- 139638936820704 -->\n<g id=\"node161\" class=\"node\">\n<title>139638936820704</title>\n<polygon fill=\"#add8e6\" stroke=\"#000000\" points=\"1869,-2100 1750,-2100 1750,-2070 1869,-2070 1869,-2100\"/>\n<text text-anchor=\"middle\" x=\"1809.5\" y=\"-2088\" font-family=\"monospace\" font-size=\"10.00\" fill=\"#000000\">3.1.Root1a.weight</text>\n<text text-anchor=\"middle\" x=\"1809.5\" y=\"-2077\" font-family=\"monospace\" font-size=\"10.00\" fill=\"#000000\"> (160, 512, 1, 1)</text>\n</g>\n<!-- 139638936820704&#45;&gt;139638937275088 -->\n<g id=\"edge168\" class=\"edge\">\n<title>139638936820704&#45;&gt;139638937275088</title>\n<path fill=\"none\" stroke=\"#000000\" d=\"M1807.9859,-2069.7333C1807.2135,-2061.9447 1806.2653,-2052.3831 1805.4399,-2044.0604\"/>\n<polygon fill=\"#000000\" stroke=\"#000000\" points=\"1808.9206,-2043.6921 1804.4507,-2034.0864 1801.9548,-2044.383 1808.9206,-2043.6921\"/>\n</g>\n<!-- 139638937274832 -->\n<g id=\"node162\" class=\"node\">\n<title>139638937274832</title>\n<polygon fill=\"#d3d3d3\" stroke=\"#000000\" points=\"1734,-2034 1633,-2034 1633,-2015 1734,-2015 1734,-2034\"/>\n<text text-anchor=\"middle\" x=\"1683.5\" y=\"-2022\" font-family=\"monospace\" font-size=\"10.00\" fill=\"#000000\">AccumulateGrad</text>\n</g>\n<!-- 139638937274832&#45;&gt;139638937274768 -->\n<g id=\"edge169\" class=\"edge\">\n<title>139638937274832&#45;&gt;139638937274768</title>\n<path fill=\"none\" stroke=\"#000000\" d=\"M1700.5307,-2014.7796C1717.6071,-2005.0332 1744.1158,-1989.9032 1763.7597,-1978.6914\"/>\n<polygon fill=\"#000000\" stroke=\"#000000\" points=\"1765.5615,-1981.693 1772.5115,-1973.6962 1762.0916,-1975.6135 1765.5615,-1981.693\"/>\n</g>\n<!-- 139638936820784 -->\n<g id=\"node163\" class=\"node\">\n<title>139638936820784</title>\n<polygon fill=\"#add8e6\" stroke=\"#000000\" points=\"1732,-2100 1625,-2100 1625,-2070 1732,-2070 1732,-2100\"/>\n<text text-anchor=\"middle\" x=\"1678.5\" y=\"-2088\" font-family=\"monospace\" font-size=\"10.00\" fill=\"#000000\">3.1.Root1a.bias</text>\n<text text-anchor=\"middle\" x=\"1678.5\" y=\"-2077\" font-family=\"monospace\" font-size=\"10.00\" fill=\"#000000\"> (160)</text>\n</g>\n<!-- 139638936820784&#45;&gt;139638937274832 -->\n<g id=\"edge170\" class=\"edge\">\n<title>139638936820784&#45;&gt;139638937274832</title>\n<path fill=\"none\" stroke=\"#000000\" d=\"M1679.7617,-2069.7333C1680.4054,-2061.9447 1681.1956,-2052.3831 1681.8834,-2044.0604\"/>\n<polygon fill=\"#000000\" stroke=\"#000000\" points=\"1685.3721,-2044.3407 1682.7077,-2034.0864 1678.3959,-2043.7641 1685.3721,-2044.3407\"/>\n</g>\n<!-- 139638937274512 -->\n<g id=\"node164\" class=\"node\">\n<title>139638937274512</title>\n<polygon fill=\"#d3d3d3\" stroke=\"#000000\" points=\"1125,-1797.5 1030,-1797.5 1030,-1778.5 1125,-1778.5 1125,-1797.5\"/>\n<text text-anchor=\"middle\" x=\"1077.5\" y=\"-1785.5\" font-family=\"monospace\" font-size=\"10.00\" fill=\"#000000\">ReluBackward0</text>\n</g>\n<!-- 139638937274512&#45;&gt;139638937274384 -->\n<g id=\"edge171\" class=\"edge\">\n<title>139638937274512&#45;&gt;139638937274384</title>\n<path fill=\"none\" stroke=\"#000000\" d=\"M1108.7152,-1778.4136C1142.433,-1768.0587 1196.2999,-1751.5158 1233.4321,-1740.1122\"/>\n<polygon fill=\"#000000\" stroke=\"#000000\" points=\"1234.899,-1743.3231 1243.4308,-1737.0416 1232.8439,-1736.6316 1234.899,-1743.3231\"/>\n</g>\n<!-- 139638937275024 -->\n<g id=\"node165\" class=\"node\">\n<title>139638937275024</title>\n<polygon fill=\"#d3d3d3\" stroke=\"#000000\" points=\"774,-1858 649,-1858 649,-1839 774,-1839 774,-1858\"/>\n<text text-anchor=\"middle\" x=\"711.5\" y=\"-1846\" font-family=\"monospace\" font-size=\"10.00\" fill=\"#000000\">ThnnConv2DBackward</text>\n</g>\n<!-- 139638937275024&#45;&gt;139638937274512 -->\n<g id=\"edge172\" class=\"edge\">\n<title>139638937275024&#45;&gt;139638937274512</title>\n<path fill=\"none\" stroke=\"#000000\" d=\"M769.0901,-1838.9803C837.5443,-1827.6648 951.1085,-1808.8926 1019.6685,-1797.5596\"/>\n<polygon fill=\"#000000\" stroke=\"#000000\" points=\"1020.5638,-1800.9592 1029.8591,-1795.8751 1019.4221,-1794.0529 1020.5638,-1800.9592\"/>\n</g>\n<!-- 139638937274896 -->\n<g id=\"node166\" class=\"node\">\n<title>139638937274896</title>\n<polygon fill=\"#d3d3d3\" stroke=\"#000000\" points=\"696,-1913 601,-1913 601,-1894 696,-1894 696,-1913\"/>\n<text text-anchor=\"middle\" x=\"648.5\" y=\"-1901\" font-family=\"monospace\" font-size=\"10.00\" fill=\"#000000\">ReluBackward0</text>\n</g>\n<!-- 139638937274896&#45;&gt;139638937275024 -->\n<g id=\"edge173\" class=\"edge\">\n<title>139638937274896&#45;&gt;139638937275024</title>\n<path fill=\"none\" stroke=\"#000000\" d=\"M659.4738,-1893.9197C668.5758,-1885.9735 681.7279,-1874.4916 692.5307,-1865.0605\"/>\n<polygon fill=\"#000000\" stroke=\"#000000\" points=\"694.9964,-1867.5541 700.2278,-1858.3408 690.3928,-1862.2808 694.9964,-1867.5541\"/>\n</g>\n<!-- 139638936618960&#45;&gt;139638937274896 -->\n<g id=\"edge174\" class=\"edge\">\n<title>139638936618960&#45;&gt;139638937274896</title>\n<path fill=\"none\" stroke=\"#000000\" d=\"M640.946,-1954.2796C642.1851,-1945.9499 644.0092,-1933.688 645.5545,-1923.3004\"/>\n<polygon fill=\"#000000\" stroke=\"#000000\" points=\"649.0181,-1923.8034 647.0277,-1913.3972 642.0943,-1922.7734 649.0181,-1923.8034\"/>\n</g>\n<!-- 139638936618768 -->\n<g id=\"node168\" class=\"node\">\n<title>139638936618768</title>\n<polygon fill=\"#d3d3d3\" stroke=\"#000000\" points=\"751,-2034 650,-2034 650,-2015 751,-2015 751,-2034\"/>\n<text text-anchor=\"middle\" x=\"700.5\" y=\"-2022\" font-family=\"monospace\" font-size=\"10.00\" fill=\"#000000\">AccumulateGrad</text>\n</g>\n<!-- 139638936618768&#45;&gt;139638936618960 -->\n<g id=\"edge176\" class=\"edge\">\n<title>139638936618768&#45;&gt;139638936618960</title>\n<path fill=\"none\" stroke=\"#000000\" d=\"M690.6993,-2014.7796C681.5935,-2005.7485 667.8272,-1992.095 656.8618,-1981.2195\"/>\n<polygon fill=\"#000000\" stroke=\"#000000\" points=\"659.0438,-1978.4541 649.479,-1973.8972 654.1145,-1983.4242 659.0438,-1978.4541\"/>\n</g>\n<!-- 139638936820864 -->\n<g id=\"node169\" class=\"node\">\n<title>139638936820864</title>\n<polygon fill=\"#add8e6\" stroke=\"#000000\" points=\"766,-2100 647,-2100 647,-2070 766,-2070 766,-2100\"/>\n<text text-anchor=\"middle\" x=\"706.5\" y=\"-2088\" font-family=\"monospace\" font-size=\"10.00\" fill=\"#000000\">3.1.Root2a.weight</text>\n<text text-anchor=\"middle\" x=\"706.5\" y=\"-2077\" font-family=\"monospace\" font-size=\"10.00\" fill=\"#000000\"> (112, 512, 1, 1)</text>\n</g>\n<!-- 139638936820864&#45;&gt;139638936618768 -->\n<g id=\"edge177\" class=\"edge\">\n<title>139638936820864&#45;&gt;139638936618768</title>\n<path fill=\"none\" stroke=\"#000000\" d=\"M704.9859,-2069.7333C704.2135,-2061.9447 703.2653,-2052.3831 702.4399,-2044.0604\"/>\n<polygon fill=\"#000000\" stroke=\"#000000\" points=\"705.9206,-2043.6921 701.4507,-2034.0864 698.9548,-2044.383 705.9206,-2043.6921\"/>\n</g>\n<!-- 139638936619088 -->\n<g id=\"node170\" class=\"node\">\n<title>139638936619088</title>\n<polygon fill=\"#d3d3d3\" stroke=\"#000000\" points=\"629,-2034 528,-2034 528,-2015 629,-2015 629,-2034\"/>\n<text text-anchor=\"middle\" x=\"578.5\" y=\"-2022\" font-family=\"monospace\" font-size=\"10.00\" fill=\"#000000\">AccumulateGrad</text>\n</g>\n<!-- 139638936619088&#45;&gt;139638936618960 -->\n<g id=\"edge178\" class=\"edge\">\n<title>139638936619088&#45;&gt;139638936618960</title>\n<path fill=\"none\" stroke=\"#000000\" d=\"M588.3007,-2014.7796C597.4065,-2005.7485 611.1728,-1992.095 622.1382,-1981.2195\"/>\n<polygon fill=\"#000000\" stroke=\"#000000\" points=\"624.8855,-1983.4242 629.521,-1973.8972 619.9562,-1978.4541 624.8855,-1983.4242\"/>\n</g>\n<!-- 139638936820944 -->\n<g id=\"node171\" class=\"node\">\n<title>139638936820944</title>\n<polygon fill=\"#add8e6\" stroke=\"#000000\" points=\"629,-2100 522,-2100 522,-2070 629,-2070 629,-2100\"/>\n<text text-anchor=\"middle\" x=\"575.5\" y=\"-2088\" font-family=\"monospace\" font-size=\"10.00\" fill=\"#000000\">3.1.Root2a.bias</text>\n<text text-anchor=\"middle\" x=\"575.5\" y=\"-2077\" font-family=\"monospace\" font-size=\"10.00\" fill=\"#000000\"> (112)</text>\n</g>\n<!-- 139638936820944&#45;&gt;139638936619088 -->\n<g id=\"edge179\" class=\"edge\">\n<title>139638936820944&#45;&gt;139638936619088</title>\n<path fill=\"none\" stroke=\"#000000\" d=\"M576.257,-2069.7333C576.6389,-2062.0322 577.1067,-2052.5977 577.5161,-2044.3414\"/>\n<polygon fill=\"#000000\" stroke=\"#000000\" points=\"581.025,-2044.2475 578.0246,-2034.0864 574.0336,-2043.9008 581.025,-2044.2475\"/>\n</g>\n<!-- 139638936618896 -->\n<g id=\"node172\" class=\"node\">\n<title>139638936618896</title>\n<polygon fill=\"#d3d3d3\" stroke=\"#000000\" points=\"825,-1913 724,-1913 724,-1894 825,-1894 825,-1913\"/>\n<text text-anchor=\"middle\" x=\"774.5\" y=\"-1901\" font-family=\"monospace\" font-size=\"10.00\" fill=\"#000000\">AccumulateGrad</text>\n</g>\n<!-- 139638936618896&#45;&gt;139638937275024 -->\n<g id=\"edge180\" class=\"edge\">\n<title>139638936618896&#45;&gt;139638937275024</title>\n<path fill=\"none\" stroke=\"#000000\" d=\"M763.5262,-1893.9197C754.4242,-1885.9735 741.2721,-1874.4916 730.4693,-1865.0605\"/>\n<polygon fill=\"#000000\" stroke=\"#000000\" points=\"732.6072,-1862.2808 722.7722,-1858.3408 728.0036,-1867.5541 732.6072,-1862.2808\"/>\n</g>\n<!-- 139638936818384 -->\n<g id=\"node173\" class=\"node\">\n<title>139638936818384</title>\n<polygon fill=\"#add8e6\" stroke=\"#000000\" points=\"839,-1979 720,-1979 720,-1949 839,-1949 839,-1979\"/>\n<text text-anchor=\"middle\" x=\"779.5\" y=\"-1967\" font-family=\"monospace\" font-size=\"10.00\" fill=\"#000000\">3.1.Root2b.weight</text>\n<text text-anchor=\"middle\" x=\"779.5\" y=\"-1956\" font-family=\"monospace\" font-size=\"10.00\" fill=\"#000000\"> (224, 112, 3, 3)</text>\n</g>\n<!-- 139638936818384&#45;&gt;139638936618896 -->\n<g id=\"edge181\" class=\"edge\">\n<title>139638936818384&#45;&gt;139638936618896</title>\n<path fill=\"none\" stroke=\"#000000\" d=\"M778.2383,-1948.7333C777.5946,-1940.9447 776.8044,-1931.3831 776.1166,-1923.0604\"/>\n<polygon fill=\"#000000\" stroke=\"#000000\" points=\"779.6041,-1922.7641 775.2923,-1913.0864 772.6279,-1923.3407 779.6041,-1922.7641\"/>\n</g>\n<!-- 139638936618448 -->\n<g id=\"node174\" class=\"node\">\n<title>139638936618448</title>\n<polygon fill=\"#d3d3d3\" stroke=\"#000000\" points=\"562,-1913 461,-1913 461,-1894 562,-1894 562,-1913\"/>\n<text text-anchor=\"middle\" x=\"511.5\" y=\"-1901\" font-family=\"monospace\" font-size=\"10.00\" fill=\"#000000\">AccumulateGrad</text>\n</g>\n<!-- 139638936618448&#45;&gt;139638937275024 -->\n<g id=\"edge182\" class=\"edge\">\n<title>139638936618448&#45;&gt;139638937275024</title>\n<path fill=\"none\" stroke=\"#000000\" d=\"M546.3373,-1893.9197C579.7891,-1884.7205 630.4719,-1870.7827 666.8668,-1860.7741\"/>\n<polygon fill=\"#000000\" stroke=\"#000000\" points=\"668.0129,-1864.089 676.7269,-1858.0626 666.1568,-1857.3395 668.0129,-1864.089\"/>\n</g>\n<!-- 139638936821184 -->\n<g id=\"node175\" class=\"node\">\n<title>139638936821184</title>\n<polygon fill=\"#add8e6\" stroke=\"#000000\" points=\"559,-1979 452,-1979 452,-1949 559,-1949 559,-1979\"/>\n<text text-anchor=\"middle\" x=\"505.5\" y=\"-1967\" font-family=\"monospace\" font-size=\"10.00\" fill=\"#000000\">3.1.Root2b.bias</text>\n<text text-anchor=\"middle\" x=\"505.5\" y=\"-1956\" font-family=\"monospace\" font-size=\"10.00\" fill=\"#000000\"> (224)</text>\n</g>\n<!-- 139638936821184&#45;&gt;139638936618448 -->\n<g id=\"edge183\" class=\"edge\">\n<title>139638936821184&#45;&gt;139638936618448</title>\n<path fill=\"none\" stroke=\"#000000\" d=\"M507.0141,-1948.7333C507.7865,-1940.9447 508.7347,-1931.3831 509.5601,-1923.0604\"/>\n<polygon fill=\"#000000\" stroke=\"#000000\" points=\"513.0452,-1923.383 510.5493,-1913.0864 506.0794,-1922.6921 513.0452,-1923.383\"/>\n</g>\n<!-- 139638937273936 -->\n<g id=\"node176\" class=\"node\">\n<title>139638937273936</title>\n<polygon fill=\"#d3d3d3\" stroke=\"#000000\" points=\"1261,-1797.5 1166,-1797.5 1166,-1778.5 1261,-1778.5 1261,-1797.5\"/>\n<text text-anchor=\"middle\" x=\"1213.5\" y=\"-1785.5\" font-family=\"monospace\" font-size=\"10.00\" fill=\"#000000\">ReluBackward0</text>\n</g>\n<!-- 139638937273936&#45;&gt;139638937274384 -->\n<g id=\"edge184\" class=\"edge\">\n<title>139638937273936&#45;&gt;139638937274384</title>\n<path fill=\"none\" stroke=\"#000000\" d=\"M1223.3007,-1778.2796C1232.4065,-1769.2485 1246.1728,-1755.595 1257.1382,-1744.7195\"/>\n<polygon fill=\"#000000\" stroke=\"#000000\" points=\"1259.8855,-1746.9242 1264.521,-1737.3972 1254.9562,-1741.9541 1259.8855,-1746.9242\"/>\n</g>\n<!-- 139638937274640 -->\n<g id=\"node177\" class=\"node\">\n<title>139638937274640</title>\n<polygon fill=\"#d3d3d3\" stroke=\"#000000\" points=\"1198,-1858 1031,-1858 1031,-1839 1198,-1839 1198,-1858\"/>\n<text text-anchor=\"middle\" x=\"1114.5\" y=\"-1846\" font-family=\"monospace\" font-size=\"10.00\" fill=\"#000000\">MkldnnConvolutionBackward</text>\n</g>\n<!-- 139638937274640&#45;&gt;139638937273936 -->\n<g id=\"edge185\" class=\"edge\">\n<title>139638937274640&#45;&gt;139638937273936</title>\n<path fill=\"none\" stroke=\"#000000\" d=\"M1130.4061,-1838.7796C1146.2104,-1829.1214 1170.6655,-1814.1766 1188.9599,-1802.9967\"/>\n<polygon fill=\"#000000\" stroke=\"#000000\" points=\"1190.9257,-1805.8973 1197.6334,-1797.6962 1187.2755,-1799.9243 1190.9257,-1805.8973\"/>\n</g>\n<!-- 139638936618704 -->\n<g id=\"node178\" class=\"node\">\n<title>139638936618704</title>\n<polygon fill=\"#d3d3d3\" stroke=\"#000000\" points=\"1098,-1913 1003,-1913 1003,-1894 1098,-1894 1098,-1913\"/>\n<text text-anchor=\"middle\" x=\"1050.5\" y=\"-1901\" font-family=\"monospace\" font-size=\"10.00\" fill=\"#000000\">ReluBackward0</text>\n</g>\n<!-- 139638936618704&#45;&gt;139638937274640 -->\n<g id=\"edge186\" class=\"edge\">\n<title>139638936618704&#45;&gt;139638937274640</title>\n<path fill=\"none\" stroke=\"#000000\" d=\"M1061.6479,-1893.9197C1070.8945,-1885.9735 1084.2553,-1874.4916 1095.2296,-1865.0605\"/>\n<polygon fill=\"#000000\" stroke=\"#000000\" points=\"1097.7458,-1867.513 1103.0489,-1858.3408 1093.1834,-1862.2041 1097.7458,-1867.513\"/>\n</g>\n<!-- 139638936619152&#45;&gt;139638936618704 -->\n<g id=\"edge187\" class=\"edge\">\n<title>139638936619152&#45;&gt;139638936618704</title>\n<path fill=\"none\" stroke=\"#000000\" d=\"M1045.464,-1954.2796C1046.2814,-1946.0376 1047.4806,-1933.9457 1048.5037,-1923.629\"/>\n<polygon fill=\"#000000\" stroke=\"#000000\" points=\"1052.0144,-1923.6939 1049.5185,-1913.3972 1045.0486,-1923.003 1052.0144,-1923.6939\"/>\n</g>\n<!-- 139638936619408 -->\n<g id=\"node180\" class=\"node\">\n<title>139638936619408</title>\n<polygon fill=\"#d3d3d3\" stroke=\"#000000\" points=\"1096,-2034 995,-2034 995,-2015 1096,-2015 1096,-2034\"/>\n<text text-anchor=\"middle\" x=\"1045.5\" y=\"-2022\" font-family=\"monospace\" font-size=\"10.00\" fill=\"#000000\">AccumulateGrad</text>\n</g>\n<!-- 139638936619408&#45;&gt;139638936619152 -->\n<g id=\"edge189\" class=\"edge\">\n<title>139638936619408&#45;&gt;139638936619152</title>\n<path fill=\"none\" stroke=\"#000000\" d=\"M1045.3393,-2014.7796C1045.2031,-2006.5376 1045.0032,-1994.4457 1044.8327,-1984.129\"/>\n<polygon fill=\"#000000\" stroke=\"#000000\" points=\"1048.3285,-1983.838 1044.6636,-1973.8972 1041.3294,-1983.9537 1048.3285,-1983.838\"/>\n</g>\n<!-- 139638936920144 -->\n<g id=\"node181\" class=\"node\">\n<title>139638936920144</title>\n<polygon fill=\"#add8e6\" stroke=\"#000000\" points=\"1107,-2100 988,-2100 988,-2070 1107,-2070 1107,-2100\"/>\n<text text-anchor=\"middle\" x=\"1047.5\" y=\"-2088\" font-family=\"monospace\" font-size=\"10.00\" fill=\"#000000\">3.1.Root3a.weight</text>\n<text text-anchor=\"middle\" x=\"1047.5\" y=\"-2077\" font-family=\"monospace\" font-size=\"10.00\" fill=\"#000000\"> (24, 512, 1, 1)</text>\n</g>\n<!-- 139638936920144&#45;&gt;139638936619408 -->\n<g id=\"edge190\" class=\"edge\">\n<title>139638936920144&#45;&gt;139638936619408</title>\n<path fill=\"none\" stroke=\"#000000\" d=\"M1046.9953,-2069.7333C1046.7407,-2062.0322 1046.4288,-2052.5977 1046.1559,-2044.3414\"/>\n<polygon fill=\"#000000\" stroke=\"#000000\" points=\"1049.6455,-2043.9653 1045.8169,-2034.0864 1042.6493,-2044.1966 1049.6455,-2043.9653\"/>\n</g>\n<!-- 139638936619536 -->\n<g id=\"node182\" class=\"node\">\n<title>139638936619536</title>\n<polygon fill=\"#d3d3d3\" stroke=\"#000000\" points=\"972,-2034 871,-2034 871,-2015 972,-2015 972,-2034\"/>\n<text text-anchor=\"middle\" x=\"921.5\" y=\"-2022\" font-family=\"monospace\" font-size=\"10.00\" fill=\"#000000\">AccumulateGrad</text>\n</g>\n<!-- 139638936619536&#45;&gt;139638936619152 -->\n<g id=\"edge191\" class=\"edge\">\n<title>139638936619536&#45;&gt;139638936619152</title>\n<path fill=\"none\" stroke=\"#000000\" d=\"M940.9897,-2014.9136C961.1422,-2005.0012 992.8229,-1989.4184 1015.8308,-1978.1015\"/>\n<polygon fill=\"#000000\" stroke=\"#000000\" points=\"1017.673,-1981.0959 1025.1015,-1973.5416 1014.5834,-1974.8146 1017.673,-1981.0959\"/>\n</g>\n<!-- 139638936920224 -->\n<g id=\"node183\" class=\"node\">\n<title>139638936920224</title>\n<polygon fill=\"#add8e6\" stroke=\"#000000\" points=\"970,-2100 863,-2100 863,-2070 970,-2070 970,-2100\"/>\n<text text-anchor=\"middle\" x=\"916.5\" y=\"-2088\" font-family=\"monospace\" font-size=\"10.00\" fill=\"#000000\">3.1.Root3a.bias</text>\n<text text-anchor=\"middle\" x=\"916.5\" y=\"-2077\" font-family=\"monospace\" font-size=\"10.00\" fill=\"#000000\"> (24)</text>\n</g>\n<!-- 139638936920224&#45;&gt;139638936619536 -->\n<g id=\"edge192\" class=\"edge\">\n<title>139638936920224&#45;&gt;139638936619536</title>\n<path fill=\"none\" stroke=\"#000000\" d=\"M917.7617,-2069.7333C918.4054,-2061.9447 919.1956,-2052.3831 919.8834,-2044.0604\"/>\n<polygon fill=\"#000000\" stroke=\"#000000\" points=\"923.3721,-2044.3407 920.7077,-2034.0864 916.3959,-2043.7641 923.3721,-2044.3407\"/>\n</g>\n<!-- 139638936619216 -->\n<g id=\"node184\" class=\"node\">\n<title>139638936619216</title>\n<polygon fill=\"#d3d3d3\" stroke=\"#000000\" points=\"1229,-1913 1128,-1913 1128,-1894 1229,-1894 1229,-1913\"/>\n<text text-anchor=\"middle\" x=\"1178.5\" y=\"-1901\" font-family=\"monospace\" font-size=\"10.00\" fill=\"#000000\">AccumulateGrad</text>\n</g>\n<!-- 139638936619216&#45;&gt;139638937274640 -->\n<g id=\"edge193\" class=\"edge\">\n<title>139638936619216&#45;&gt;139638937274640</title>\n<path fill=\"none\" stroke=\"#000000\" d=\"M1167.3521,-1893.9197C1158.1055,-1885.9735 1144.7447,-1874.4916 1133.7704,-1865.0605\"/>\n<polygon fill=\"#000000\" stroke=\"#000000\" points=\"1135.8166,-1862.2041 1125.9511,-1858.3408 1131.2542,-1867.513 1135.8166,-1862.2041\"/>\n</g>\n<!-- 139638936920304 -->\n<g id=\"node185\" class=\"node\">\n<title>139638936920304</title>\n<polygon fill=\"#add8e6\" stroke=\"#000000\" points=\"1244,-1979 1125,-1979 1125,-1949 1244,-1949 1244,-1979\"/>\n<text text-anchor=\"middle\" x=\"1184.5\" y=\"-1967\" font-family=\"monospace\" font-size=\"10.00\" fill=\"#000000\">3.1.Root3b.weight</text>\n<text text-anchor=\"middle\" x=\"1184.5\" y=\"-1956\" font-family=\"monospace\" font-size=\"10.00\" fill=\"#000000\"> (64, 24, 5, 5)</text>\n</g>\n<!-- 139638936920304&#45;&gt;139638936619216 -->\n<g id=\"edge194\" class=\"edge\">\n<title>139638936920304&#45;&gt;139638936619216</title>\n<path fill=\"none\" stroke=\"#000000\" d=\"M1182.9859,-1948.7333C1182.2135,-1940.9447 1181.2653,-1931.3831 1180.4399,-1923.0604\"/>\n<polygon fill=\"#000000\" stroke=\"#000000\" points=\"1183.9206,-1922.6921 1179.4507,-1913.0864 1176.9548,-1923.383 1183.9206,-1922.6921\"/>\n</g>\n<!-- 139638936618256 -->\n<g id=\"node186\" class=\"node\">\n<title>139638936618256</title>\n<polygon fill=\"#d3d3d3\" stroke=\"#000000\" points=\"973,-1913 872,-1913 872,-1894 973,-1894 973,-1913\"/>\n<text text-anchor=\"middle\" x=\"922.5\" y=\"-1901\" font-family=\"monospace\" font-size=\"10.00\" fill=\"#000000\">AccumulateGrad</text>\n</g>\n<!-- 139638936618256&#45;&gt;139638937274640 -->\n<g id=\"edge195\" class=\"edge\">\n<title>139638936618256&#45;&gt;139638937274640</title>\n<path fill=\"none\" stroke=\"#000000\" d=\"M955.9438,-1893.9197C987.9203,-1884.7598 1036.2975,-1870.9018 1071.2034,-1860.9027\"/>\n<polygon fill=\"#000000\" stroke=\"#000000\" points=\"1072.4684,-1864.1812 1081.1179,-1858.0626 1070.5406,-1857.4518 1072.4684,-1864.1812\"/>\n</g>\n<!-- 139638936920384 -->\n<g id=\"node187\" class=\"node\">\n<title>139638936920384</title>\n<polygon fill=\"#add8e6\" stroke=\"#000000\" points=\"964,-1979 857,-1979 857,-1949 964,-1949 964,-1979\"/>\n<text text-anchor=\"middle\" x=\"910.5\" y=\"-1967\" font-family=\"monospace\" font-size=\"10.00\" fill=\"#000000\">3.1.Root3b.bias</text>\n<text text-anchor=\"middle\" x=\"910.5\" y=\"-1956\" font-family=\"monospace\" font-size=\"10.00\" fill=\"#000000\"> (64)</text>\n</g>\n<!-- 139638936920384&#45;&gt;139638936618256 -->\n<g id=\"edge196\" class=\"edge\">\n<title>139638936920384&#45;&gt;139638936618256</title>\n<path fill=\"none\" stroke=\"#000000\" d=\"M913.5281,-1948.7333C915.073,-1940.9447 916.9695,-1931.3831 918.6203,-1923.0604\"/>\n<polygon fill=\"#000000\" stroke=\"#000000\" points=\"922.086,-1923.5763 920.5986,-1913.0864 915.2198,-1922.2143 922.086,-1923.5763\"/>\n</g>\n<!-- 139638937273872 -->\n<g id=\"node188\" class=\"node\">\n<title>139638937273872</title>\n<polygon fill=\"#d3d3d3\" stroke=\"#000000\" points=\"1384,-1797.5 1289,-1797.5 1289,-1778.5 1384,-1778.5 1384,-1797.5\"/>\n<text text-anchor=\"middle\" x=\"1336.5\" y=\"-1785.5\" font-family=\"monospace\" font-size=\"10.00\" fill=\"#000000\">ReluBackward0</text>\n</g>\n<!-- 139638937273872&#45;&gt;139638937274384 -->\n<g id=\"edge197\" class=\"edge\">\n<title>139638937273872&#45;&gt;139638937274384</title>\n<path fill=\"none\" stroke=\"#000000\" d=\"M1326.5386,-1778.2796C1317.1937,-1769.1608 1303.0194,-1755.3294 1291.8226,-1744.4035\"/>\n<polygon fill=\"#000000\" stroke=\"#000000\" points=\"1294.2442,-1741.8762 1284.6426,-1737.3972 1289.3554,-1746.8862 1294.2442,-1741.8762\"/>\n</g>\n<!-- 139638936618832 -->\n<g id=\"node189\" class=\"node\">\n<title>139638936618832</title>\n<polygon fill=\"#d3d3d3\" stroke=\"#000000\" points=\"1498,-1858 1373,-1858 1373,-1839 1498,-1839 1498,-1858\"/>\n<text text-anchor=\"middle\" x=\"1435.5\" y=\"-1846\" font-family=\"monospace\" font-size=\"10.00\" fill=\"#000000\">ThnnConv2DBackward</text>\n</g>\n<!-- 139638936618832&#45;&gt;139638937273872 -->\n<g id=\"edge198\" class=\"edge\">\n<title>139638936618832&#45;&gt;139638937273872</title>\n<path fill=\"none\" stroke=\"#000000\" d=\"M1419.5939,-1838.7796C1403.7896,-1829.1214 1379.3345,-1814.1766 1361.0401,-1802.9967\"/>\n<polygon fill=\"#000000\" stroke=\"#000000\" points=\"1362.7245,-1799.9243 1352.3666,-1797.6962 1359.0743,-1805.8973 1362.7245,-1799.9243\"/>\n</g>\n<!-- 139638936619344 -->\n<g id=\"node190\" class=\"node\">\n<title>139638936619344</title>\n<polygon fill=\"#d3d3d3\" stroke=\"#000000\" points=\"1412,-1913 1317,-1913 1317,-1894 1412,-1894 1412,-1913\"/>\n<text text-anchor=\"middle\" x=\"1364.5\" y=\"-1901\" font-family=\"monospace\" font-size=\"10.00\" fill=\"#000000\">ReluBackward0</text>\n</g>\n<!-- 139638936619344&#45;&gt;139638936618832 -->\n<g id=\"edge199\" class=\"edge\">\n<title>139638936619344&#45;&gt;139638936618832</title>\n<path fill=\"none\" stroke=\"#000000\" d=\"M1376.8673,-1893.9197C1387.3263,-1885.8177 1402.5303,-1874.0399 1414.8349,-1864.5082\"/>\n<polygon fill=\"#000000\" stroke=\"#000000\" points=\"1417.0343,-1867.2318 1422.7964,-1858.3408 1412.7475,-1861.6979 1417.0343,-1867.2318\"/>\n</g>\n<!-- 139638936619600&#45;&gt;139638936619344 -->\n<g id=\"edge200\" class=\"edge\">\n<title>139638936619600&#45;&gt;139638936619344</title>\n<path fill=\"none\" stroke=\"#000000\" d=\"M1356.1067,-1954.2796C1357.4835,-1945.9499 1359.5102,-1933.688 1361.2272,-1923.3004\"/>\n<polygon fill=\"#000000\" stroke=\"#000000\" points=\"1364.6864,-1923.8342 1362.8641,-1913.3972 1357.7801,-1922.6926 1364.6864,-1923.8342\"/>\n</g>\n<!-- 139638936619664 -->\n<g id=\"node192\" class=\"node\">\n<title>139638936619664</title>\n<polygon fill=\"#d3d3d3\" stroke=\"#000000\" points=\"1558,-1913 1457,-1913 1457,-1894 1558,-1894 1558,-1913\"/>\n<text text-anchor=\"middle\" x=\"1507.5\" y=\"-1901\" font-family=\"monospace\" font-size=\"10.00\" fill=\"#000000\">AccumulateGrad</text>\n</g>\n<!-- 139638936619664&#45;&gt;139638936618832 -->\n<g id=\"edge202\" class=\"edge\">\n<title>139638936619664&#45;&gt;139638936618832</title>\n<path fill=\"none\" stroke=\"#000000\" d=\"M1494.9586,-1893.9197C1484.3522,-1885.8177 1468.9341,-1874.0399 1456.4561,-1864.5082\"/>\n<polygon fill=\"#000000\" stroke=\"#000000\" points=\"1458.4539,-1861.6299 1448.3825,-1858.3408 1454.2046,-1867.1926 1458.4539,-1861.6299\"/>\n</g>\n<!-- 139638936920464 -->\n<g id=\"node193\" class=\"node\">\n<title>139638936920464</title>\n<polygon fill=\"#add8e6\" stroke=\"#000000\" points=\"1584,-1979 1465,-1979 1465,-1949 1584,-1949 1584,-1979\"/>\n<text text-anchor=\"middle\" x=\"1524.5\" y=\"-1967\" font-family=\"monospace\" font-size=\"10.00\" fill=\"#000000\">3.1.Root4b.weight</text>\n<text text-anchor=\"middle\" x=\"1524.5\" y=\"-1956\" font-family=\"monospace\" font-size=\"10.00\" fill=\"#000000\"> (64, 512, 1, 1)</text>\n</g>\n<!-- 139638936920464&#45;&gt;139638936619664 -->\n<g id=\"edge203\" class=\"edge\">\n<title>139638936920464&#45;&gt;139638936619664</title>\n<path fill=\"none\" stroke=\"#000000\" d=\"M1520.2102,-1948.7333C1517.997,-1940.8571 1515.2745,-1931.168 1512.9176,-1922.7803\"/>\n<polygon fill=\"#000000\" stroke=\"#000000\" points=\"1516.2684,-1921.7667 1510.1937,-1913.0864 1509.5294,-1923.6604 1516.2684,-1921.7667\"/>\n</g>\n<!-- 139638936619024 -->\n<g id=\"node194\" class=\"node\">\n<title>139638936619024</title>\n<polygon fill=\"#d3d3d3\" stroke=\"#000000\" points=\"1696,-1913 1595,-1913 1595,-1894 1696,-1894 1696,-1913\"/>\n<text text-anchor=\"middle\" x=\"1645.5\" y=\"-1901\" font-family=\"monospace\" font-size=\"10.00\" fill=\"#000000\">AccumulateGrad</text>\n</g>\n<!-- 139638936619024&#45;&gt;139638936618832 -->\n<g id=\"edge204\" class=\"edge\">\n<title>139638936619024&#45;&gt;139638936618832</title>\n<path fill=\"none\" stroke=\"#000000\" d=\"M1608.9208,-1893.9197C1573.6464,-1884.6812 1520.1243,-1870.6635 1481.8758,-1860.646\"/>\n<polygon fill=\"#000000\" stroke=\"#000000\" points=\"1482.5722,-1857.2105 1472.0117,-1858.0626 1480.7987,-1863.9821 1482.5722,-1857.2105\"/>\n</g>\n<!-- 139638936920544 -->\n<g id=\"node195\" class=\"node\">\n<title>139638936920544</title>\n<polygon fill=\"#add8e6\" stroke=\"#000000\" points=\"1709,-1979 1602,-1979 1602,-1949 1709,-1949 1709,-1979\"/>\n<text text-anchor=\"middle\" x=\"1655.5\" y=\"-1967\" font-family=\"monospace\" font-size=\"10.00\" fill=\"#000000\">3.1.Root4b.bias</text>\n<text text-anchor=\"middle\" x=\"1655.5\" y=\"-1956\" font-family=\"monospace\" font-size=\"10.00\" fill=\"#000000\"> (64)</text>\n</g>\n<!-- 139638936920544&#45;&gt;139638936619024 -->\n<g id=\"edge205\" class=\"edge\">\n<title>139638936920544&#45;&gt;139638936619024</title>\n<path fill=\"none\" stroke=\"#000000\" d=\"M1652.9766,-1948.7333C1651.6892,-1940.9447 1650.1088,-1931.3831 1648.7331,-1923.0604\"/>\n<polygon fill=\"#000000\" stroke=\"#000000\" points=\"1652.1685,-1922.3817 1647.0845,-1913.0864 1645.2622,-1923.5233 1652.1685,-1922.3817\"/>\n</g>\n<!-- 139638937274000 -->\n<g id=\"node196\" class=\"node\">\n<title>139638937274000</title>\n<polygon fill=\"#d3d3d3\" stroke=\"#000000\" points=\"954,-1737 853,-1737 853,-1718 954,-1718 954,-1737\"/>\n<text text-anchor=\"middle\" x=\"903.5\" y=\"-1725\" font-family=\"monospace\" font-size=\"10.00\" fill=\"#000000\">AccumulateGrad</text>\n</g>\n<!-- 139638937274000&#45;&gt;139638937274192 -->\n<g id=\"edge206\" class=\"edge\">\n<title>139638937274000&#45;&gt;139638937274192</title>\n<path fill=\"none\" stroke=\"#000000\" d=\"M903.3393,-1717.7796C903.2031,-1709.5376 903.0032,-1697.4457 902.8327,-1687.129\"/>\n<polygon fill=\"#000000\" stroke=\"#000000\" points=\"906.3285,-1686.838 902.6636,-1676.8972 899.3294,-1686.9537 906.3285,-1686.838\"/>\n</g>\n<!-- 139638936920624 -->\n<g id=\"node197\" class=\"node\">\n<title>139638936920624</title>\n<polygon fill=\"#add8e6\" stroke=\"#000000\" points=\"966,-1803 847,-1803 847,-1773 966,-1773 966,-1803\"/>\n<text text-anchor=\"middle\" x=\"906.5\" y=\"-1791\" font-family=\"monospace\" font-size=\"10.00\" fill=\"#000000\">3.2.Root1a.weight</text>\n<text text-anchor=\"middle\" x=\"906.5\" y=\"-1780\" font-family=\"monospace\" font-size=\"10.00\" fill=\"#000000\"> (128, 512, 1, 1)</text>\n</g>\n<!-- 139638936920624&#45;&gt;139638937274000 -->\n<g id=\"edge207\" class=\"edge\">\n<title>139638936920624&#45;&gt;139638937274000</title>\n<path fill=\"none\" stroke=\"#000000\" d=\"M905.743,-1772.7333C905.3611,-1765.0322 904.8933,-1755.5977 904.4839,-1747.3414\"/>\n<polygon fill=\"#000000\" stroke=\"#000000\" points=\"907.9664,-1746.9008 903.9754,-1737.0864 900.975,-1747.2475 907.9664,-1746.9008\"/>\n</g>\n<!-- 139638937274256 -->\n<g id=\"node198\" class=\"node\">\n<title>139638937274256</title>\n<polygon fill=\"#d3d3d3\" stroke=\"#000000\" points=\"832,-1737 731,-1737 731,-1718 832,-1718 832,-1737\"/>\n<text text-anchor=\"middle\" x=\"781.5\" y=\"-1725\" font-family=\"monospace\" font-size=\"10.00\" fill=\"#000000\">AccumulateGrad</text>\n</g>\n<!-- 139638937274256&#45;&gt;139638937274192 -->\n<g id=\"edge208\" class=\"edge\">\n<title>139638937274256&#45;&gt;139638937274192</title>\n<path fill=\"none\" stroke=\"#000000\" d=\"M800.6728,-1717.9136C820.4977,-1708.0012 851.6632,-1692.4184 874.297,-1681.1015\"/>\n<polygon fill=\"#000000\" stroke=\"#000000\" points=\"876.0379,-1684.1442 883.4169,-1676.5416 872.9073,-1677.8832 876.0379,-1684.1442\"/>\n</g>\n<!-- 139638936920704 -->\n<g id=\"node199\" class=\"node\">\n<title>139638936920704</title>\n<polygon fill=\"#add8e6\" stroke=\"#000000\" points=\"829,-1803 722,-1803 722,-1773 829,-1773 829,-1803\"/>\n<text text-anchor=\"middle\" x=\"775.5\" y=\"-1791\" font-family=\"monospace\" font-size=\"10.00\" fill=\"#000000\">3.2.Root1a.bias</text>\n<text text-anchor=\"middle\" x=\"775.5\" y=\"-1780\" font-family=\"monospace\" font-size=\"10.00\" fill=\"#000000\"> (128)</text>\n</g>\n<!-- 139638936920704&#45;&gt;139638937274256 -->\n<g id=\"edge209\" class=\"edge\">\n<title>139638936920704&#45;&gt;139638937274256</title>\n<path fill=\"none\" stroke=\"#000000\" d=\"M777.0141,-1772.7333C777.7865,-1764.9447 778.7347,-1755.3831 779.5601,-1747.0604\"/>\n<polygon fill=\"#000000\" stroke=\"#000000\" points=\"783.0452,-1747.383 780.5493,-1737.0864 776.0794,-1746.6921 783.0452,-1747.383\"/>\n</g>\n<!-- 139638937274128 -->\n<g id=\"node200\" class=\"node\">\n<title>139638937274128</title>\n<polygon fill=\"#d3d3d3\" stroke=\"#000000\" points=\"1558,-1500.5 1463,-1500.5 1463,-1481.5 1558,-1481.5 1558,-1500.5\"/>\n<text text-anchor=\"middle\" x=\"1510.5\" y=\"-1488.5\" font-family=\"monospace\" font-size=\"10.00\" fill=\"#000000\">ReluBackward0</text>\n</g>\n<!-- 139638937274128&#45;&gt;139638937273488 -->\n<g id=\"edge210\" class=\"edge\">\n<title>139638937274128&#45;&gt;139638937273488</title>\n<path fill=\"none\" stroke=\"#000000\" d=\"M1494.2726,-1481.2796C1478.0754,-1471.5773 1452.9718,-1456.54 1434.2806,-1445.3438\"/>\n<polygon fill=\"#000000\" stroke=\"#000000\" points=\"1436.0644,-1442.3325 1425.6871,-1440.1962 1432.4672,-1448.3375 1436.0644,-1442.3325\"/>\n</g>\n<!-- 139638937274448 -->\n<g id=\"node201\" class=\"node\">\n<title>139638937274448</title>\n<polygon fill=\"#d3d3d3\" stroke=\"#000000\" points=\"1646,-1561 1521,-1561 1521,-1542 1646,-1542 1646,-1561\"/>\n<text text-anchor=\"middle\" x=\"1583.5\" y=\"-1549\" font-family=\"monospace\" font-size=\"10.00\" fill=\"#000000\">ThnnConv2DBackward</text>\n</g>\n<!-- 139638937274448&#45;&gt;139638937274128 -->\n<g id=\"edge211\" class=\"edge\">\n<title>139638937274448&#45;&gt;139638937274128</title>\n<path fill=\"none\" stroke=\"#000000\" d=\"M1571.7713,-1541.7796C1560.6626,-1532.5731 1543.7578,-1518.563 1530.5167,-1507.5892\"/>\n<polygon fill=\"#000000\" stroke=\"#000000\" points=\"1532.375,-1504.5835 1522.4421,-1500.8972 1527.9082,-1509.9732 1532.375,-1504.5835\"/>\n</g>\n<!-- 139638937274320 -->\n<g id=\"node202\" class=\"node\">\n<title>139638937274320</title>\n<polygon fill=\"#d3d3d3\" stroke=\"#000000\" points=\"1571,-1616 1476,-1616 1476,-1597 1571,-1597 1571,-1616\"/>\n<text text-anchor=\"middle\" x=\"1523.5\" y=\"-1604\" font-family=\"monospace\" font-size=\"10.00\" fill=\"#000000\">ReluBackward0</text>\n</g>\n<!-- 139638937274320&#45;&gt;139638937274448 -->\n<g id=\"edge212\" class=\"edge\">\n<title>139638937274320&#45;&gt;139638937274448</title>\n<path fill=\"none\" stroke=\"#000000\" d=\"M1533.9512,-1596.9197C1542.5349,-1589.0514 1554.9003,-1577.7164 1565.1307,-1568.3385\"/>\n<polygon fill=\"#000000\" stroke=\"#000000\" points=\"1567.758,-1570.6782 1572.7645,-1561.3408 1563.0279,-1565.5181 1567.758,-1570.6782\"/>\n</g>\n<!-- 139638936619984&#45;&gt;139638937274320 -->\n<g id=\"edge213\" class=\"edge\">\n<title>139638936619984&#45;&gt;139638937274320</title>\n<path fill=\"none\" stroke=\"#000000\" d=\"M1512.5887,-1657.2796C1514.3785,-1648.9499 1517.0133,-1636.688 1519.2454,-1626.3004\"/>\n<polygon fill=\"#000000\" stroke=\"#000000\" points=\"1522.6943,-1626.9094 1521.3733,-1616.3972 1515.8505,-1625.4388 1522.6943,-1626.9094\"/>\n</g>\n<!-- 139638936619792 -->\n<g id=\"node204\" class=\"node\">\n<title>139638936619792</title>\n<polygon fill=\"#d3d3d3\" stroke=\"#000000\" points=\"1560,-1737 1459,-1737 1459,-1718 1560,-1718 1560,-1737\"/>\n<text text-anchor=\"middle\" x=\"1509.5\" y=\"-1725\" font-family=\"monospace\" font-size=\"10.00\" fill=\"#000000\">AccumulateGrad</text>\n</g>\n<!-- 139638936619792&#45;&gt;139638936619984 -->\n<g id=\"edge215\" class=\"edge\">\n<title>139638936619792&#45;&gt;139638936619984</title>\n<path fill=\"none\" stroke=\"#000000\" d=\"M1509.6607,-1717.7796C1509.7969,-1709.5376 1509.9968,-1697.4457 1510.1673,-1687.129\"/>\n<polygon fill=\"#000000\" stroke=\"#000000\" points=\"1513.6706,-1686.9537 1510.3364,-1676.8972 1506.6715,-1686.838 1513.6706,-1686.9537\"/>\n</g>\n<!-- 139638936920784 -->\n<g id=\"node205\" class=\"node\">\n<title>139638936920784</title>\n<polygon fill=\"#add8e6\" stroke=\"#000000\" points=\"1568,-1803 1449,-1803 1449,-1773 1568,-1773 1568,-1803\"/>\n<text text-anchor=\"middle\" x=\"1508.5\" y=\"-1791\" font-family=\"monospace\" font-size=\"10.00\" fill=\"#000000\">3.2.Root2a.weight</text>\n<text text-anchor=\"middle\" x=\"1508.5\" y=\"-1780\" font-family=\"monospace\" font-size=\"10.00\" fill=\"#000000\"> (128, 512, 1, 1)</text>\n</g>\n<!-- 139638936920784&#45;&gt;139638936619792 -->\n<g id=\"edge216\" class=\"edge\">\n<title>139638936920784&#45;&gt;139638936619792</title>\n<path fill=\"none\" stroke=\"#000000\" d=\"M1508.7523,-1772.7333C1508.8796,-1765.0322 1509.0356,-1755.5977 1509.172,-1747.3414\"/>\n<polygon fill=\"#000000\" stroke=\"#000000\" points=\"1512.6757,-1747.1429 1509.3415,-1737.0864 1505.6767,-1747.0272 1512.6757,-1747.1429\"/>\n</g>\n<!-- 139638936620112 -->\n<g id=\"node206\" class=\"node\">\n<title>139638936620112</title>\n<polygon fill=\"#d3d3d3\" stroke=\"#000000\" points=\"1685,-1737 1584,-1737 1584,-1718 1685,-1718 1685,-1737\"/>\n<text text-anchor=\"middle\" x=\"1634.5\" y=\"-1725\" font-family=\"monospace\" font-size=\"10.00\" fill=\"#000000\">AccumulateGrad</text>\n</g>\n<!-- 139638936620112&#45;&gt;139638936619984 -->\n<g id=\"edge217\" class=\"edge\">\n<title>139638936620112&#45;&gt;139638936619984</title>\n<path fill=\"none\" stroke=\"#000000\" d=\"M1614.8518,-1717.9136C1594.4448,-1707.9569 1562.3118,-1692.2791 1539.0921,-1680.9502\"/>\n<polygon fill=\"#000000\" stroke=\"#000000\" points=\"1540.5783,-1677.781 1530.0562,-1676.5416 1537.5088,-1684.0721 1540.5783,-1677.781\"/>\n</g>\n<!-- 139638936920864 -->\n<g id=\"node207\" class=\"node\">\n<title>139638936920864</title>\n<polygon fill=\"#add8e6\" stroke=\"#000000\" points=\"1693,-1803 1586,-1803 1586,-1773 1693,-1773 1693,-1803\"/>\n<text text-anchor=\"middle\" x=\"1639.5\" y=\"-1791\" font-family=\"monospace\" font-size=\"10.00\" fill=\"#000000\">3.2.Root2a.bias</text>\n<text text-anchor=\"middle\" x=\"1639.5\" y=\"-1780\" font-family=\"monospace\" font-size=\"10.00\" fill=\"#000000\"> (128)</text>\n</g>\n<!-- 139638936920864&#45;&gt;139638936620112 -->\n<g id=\"edge218\" class=\"edge\">\n<title>139638936920864&#45;&gt;139638936620112</title>\n<path fill=\"none\" stroke=\"#000000\" d=\"M1638.2383,-1772.7333C1637.5946,-1764.9447 1636.8044,-1755.3831 1636.1166,-1747.0604\"/>\n<polygon fill=\"#000000\" stroke=\"#000000\" points=\"1639.6041,-1746.7641 1635.2923,-1737.0864 1632.6279,-1747.3407 1639.6041,-1746.7641\"/>\n</g>\n<!-- 139638936619920 -->\n<g id=\"node208\" class=\"node\">\n<title>139638936619920</title>\n<polygon fill=\"#d3d3d3\" stroke=\"#000000\" points=\"1694,-1616 1593,-1616 1593,-1597 1694,-1597 1694,-1616\"/>\n<text text-anchor=\"middle\" x=\"1643.5\" y=\"-1604\" font-family=\"monospace\" font-size=\"10.00\" fill=\"#000000\">AccumulateGrad</text>\n</g>\n<!-- 139638936619920&#45;&gt;139638937274448 -->\n<g id=\"edge219\" class=\"edge\">\n<title>139638936619920&#45;&gt;139638937274448</title>\n<path fill=\"none\" stroke=\"#000000\" d=\"M1633.0488,-1596.9197C1624.4651,-1589.0514 1612.0997,-1577.7164 1601.8693,-1568.3385\"/>\n<polygon fill=\"#000000\" stroke=\"#000000\" points=\"1603.9721,-1565.5181 1594.2355,-1561.3408 1599.242,-1570.6782 1603.9721,-1565.5181\"/>\n</g>\n<!-- 139638936920944 -->\n<g id=\"node209\" class=\"node\">\n<title>139638936920944</title>\n<polygon fill=\"#add8e6\" stroke=\"#000000\" points=\"1710,-1682 1591,-1682 1591,-1652 1710,-1652 1710,-1682\"/>\n<text text-anchor=\"middle\" x=\"1650.5\" y=\"-1670\" font-family=\"monospace\" font-size=\"10.00\" fill=\"#000000\">3.2.Root2b.weight</text>\n<text text-anchor=\"middle\" x=\"1650.5\" y=\"-1659\" font-family=\"monospace\" font-size=\"10.00\" fill=\"#000000\"> (256, 128, 3, 3)</text>\n</g>\n<!-- 139638936920944&#45;&gt;139638936619920 -->\n<g id=\"edge220\" class=\"edge\">\n<title>139638936920944&#45;&gt;139638936619920</title>\n<path fill=\"none\" stroke=\"#000000\" d=\"M1648.7336,-1651.7333C1647.8324,-1643.9447 1646.7261,-1634.3831 1645.7632,-1626.0604\"/>\n<polygon fill=\"#000000\" stroke=\"#000000\" points=\"1649.2354,-1625.6178 1644.6092,-1616.0864 1642.2818,-1626.4224 1649.2354,-1625.6178\"/>\n</g>\n<!-- 139638936619472 -->\n<g id=\"node210\" class=\"node\">\n<title>139638936619472</title>\n<polygon fill=\"#d3d3d3\" stroke=\"#000000\" points=\"1823,-1616 1722,-1616 1722,-1597 1823,-1597 1823,-1616\"/>\n<text text-anchor=\"middle\" x=\"1772.5\" y=\"-1604\" font-family=\"monospace\" font-size=\"10.00\" fill=\"#000000\">AccumulateGrad</text>\n</g>\n<!-- 139638936619472&#45;&gt;139638937274448 -->\n<g id=\"edge221\" class=\"edge\">\n<title>139638936619472&#45;&gt;139638937274448</title>\n<path fill=\"none\" stroke=\"#000000\" d=\"M1739.5787,-1596.9197C1708.1019,-1587.7598 1660.4806,-1573.9018 1626.1201,-1563.9027\"/>\n<polygon fill=\"#000000\" stroke=\"#000000\" points=\"1626.9402,-1560.4962 1616.3606,-1561.0626 1624.9843,-1567.2174 1626.9402,-1560.4962\"/>\n</g>\n<!-- 139638936921024 -->\n<g id=\"node211\" class=\"node\">\n<title>139638936921024</title>\n<polygon fill=\"#add8e6\" stroke=\"#000000\" points=\"1835,-1682 1728,-1682 1728,-1652 1835,-1652 1835,-1682\"/>\n<text text-anchor=\"middle\" x=\"1781.5\" y=\"-1670\" font-family=\"monospace\" font-size=\"10.00\" fill=\"#000000\">3.2.Root2b.bias</text>\n<text text-anchor=\"middle\" x=\"1781.5\" y=\"-1659\" font-family=\"monospace\" font-size=\"10.00\" fill=\"#000000\"> (256)</text>\n</g>\n<!-- 139638936921024&#45;&gt;139638936619472 -->\n<g id=\"edge222\" class=\"edge\">\n<title>139638936921024&#45;&gt;139638936619472</title>\n<path fill=\"none\" stroke=\"#000000\" d=\"M1779.2289,-1651.7333C1778.0703,-1643.9447 1776.6479,-1634.3831 1775.4098,-1626.0604\"/>\n<polygon fill=\"#000000\" stroke=\"#000000\" points=\"1778.8595,-1625.4625 1773.9261,-1616.0864 1771.9357,-1626.4926 1778.8595,-1625.4625\"/>\n</g>\n<!-- 139638937273744 -->\n<g id=\"node212\" class=\"node\">\n<title>139638937273744</title>\n<polygon fill=\"#d3d3d3\" stroke=\"#000000\" points=\"1727,-1500.5 1632,-1500.5 1632,-1481.5 1727,-1481.5 1727,-1500.5\"/>\n<text text-anchor=\"middle\" x=\"1679.5\" y=\"-1488.5\" font-family=\"monospace\" font-size=\"10.00\" fill=\"#000000\">ReluBackward0</text>\n</g>\n<!-- 139638937273744&#45;&gt;139638937273488 -->\n<g id=\"edge223\" class=\"edge\">\n<title>139638937273744&#45;&gt;139638937273488</title>\n<path fill=\"none\" stroke=\"#000000\" d=\"M1637.0155,-1481.4803C1589.4003,-1470.811 1512.1996,-1453.5123 1461.1399,-1442.0712\"/>\n<polygon fill=\"#000000\" stroke=\"#000000\" points=\"1461.8164,-1438.636 1451.2931,-1439.8647 1460.2858,-1445.4667 1461.8164,-1438.636\"/>\n</g>\n<!-- 139638937273808 -->\n<g id=\"node213\" class=\"node\">\n<title>139638937273808</title>\n<polygon fill=\"#d3d3d3\" stroke=\"#000000\" points=\"2069,-1561 1902,-1561 1902,-1542 2069,-1542 2069,-1561\"/>\n<text text-anchor=\"middle\" x=\"1985.5\" y=\"-1549\" font-family=\"monospace\" font-size=\"10.00\" fill=\"#000000\">MkldnnConvolutionBackward</text>\n</g>\n<!-- 139638937273808&#45;&gt;139638937273744 -->\n<g id=\"edge224\" class=\"edge\">\n<title>139638937273808&#45;&gt;139638937273744</title>\n<path fill=\"none\" stroke=\"#000000\" d=\"M1931.0592,-1541.9766C1881.9219,-1533.2118 1807.7065,-1519.5532 1743.5,-1506 1738.7928,-1505.0064 1733.9003,-1503.9332 1729.0114,-1502.8337\"/>\n<polygon fill=\"#000000\" stroke=\"#000000\" points=\"1729.5697,-1499.3712 1719.0414,-1500.5568 1728.0111,-1506.1955 1729.5697,-1499.3712\"/>\n</g>\n<!-- 139638936619728 -->\n<g id=\"node214\" class=\"node\">\n<title>139638936619728</title>\n<polygon fill=\"#d3d3d3\" stroke=\"#000000\" points=\"1969,-1616 1874,-1616 1874,-1597 1969,-1597 1969,-1616\"/>\n<text text-anchor=\"middle\" x=\"1921.5\" y=\"-1604\" font-family=\"monospace\" font-size=\"10.00\" fill=\"#000000\">ReluBackward0</text>\n</g>\n<!-- 139638936619728&#45;&gt;139638937273808 -->\n<g id=\"edge225\" class=\"edge\">\n<title>139638936619728&#45;&gt;139638937273808</title>\n<path fill=\"none\" stroke=\"#000000\" d=\"M1932.6479,-1596.9197C1941.8945,-1588.9735 1955.2553,-1577.4916 1966.2296,-1568.0605\"/>\n<polygon fill=\"#000000\" stroke=\"#000000\" points=\"1968.7458,-1570.513 1974.0489,-1561.3408 1964.1834,-1565.2041 1968.7458,-1570.513\"/>\n</g>\n<!-- 139638936620176&#45;&gt;139638936619728 -->\n<g id=\"edge226\" class=\"edge\">\n<title>139638936620176&#45;&gt;139638936619728</title>\n<path fill=\"none\" stroke=\"#000000\" d=\"M1916.464,-1657.2796C1917.2814,-1649.0376 1918.4806,-1636.9457 1919.5037,-1626.629\"/>\n<polygon fill=\"#000000\" stroke=\"#000000\" points=\"1923.0144,-1626.6939 1920.5185,-1616.3972 1916.0486,-1626.003 1923.0144,-1626.6939\"/>\n</g>\n<!-- 139638936620432 -->\n<g id=\"node216\" class=\"node\">\n<title>139638936620432</title>\n<polygon fill=\"#d3d3d3\" stroke=\"#000000\" points=\"1905,-1737 1804,-1737 1804,-1718 1905,-1718 1905,-1737\"/>\n<text text-anchor=\"middle\" x=\"1854.5\" y=\"-1725\" font-family=\"monospace\" font-size=\"10.00\" fill=\"#000000\">AccumulateGrad</text>\n</g>\n<!-- 139638936620432&#45;&gt;139638936620176 -->\n<g id=\"edge228\" class=\"edge\">\n<title>139638936620432&#45;&gt;139638936620176</title>\n<path fill=\"none\" stroke=\"#000000\" d=\"M1864.3007,-1717.7796C1873.4065,-1708.7485 1887.1728,-1695.095 1898.1382,-1684.2195\"/>\n<polygon fill=\"#000000\" stroke=\"#000000\" points=\"1900.8855,-1686.4242 1905.521,-1676.8972 1895.9562,-1681.4541 1900.8855,-1686.4242\"/>\n</g>\n<!-- 139638936921104 -->\n<g id=\"node217\" class=\"node\">\n<title>139638936921104</title>\n<polygon fill=\"#add8e6\" stroke=\"#000000\" points=\"1911,-1803 1792,-1803 1792,-1773 1911,-1773 1911,-1803\"/>\n<text text-anchor=\"middle\" x=\"1851.5\" y=\"-1791\" font-family=\"monospace\" font-size=\"10.00\" fill=\"#000000\">3.2.Root3a.weight</text>\n<text text-anchor=\"middle\" x=\"1851.5\" y=\"-1780\" font-family=\"monospace\" font-size=\"10.00\" fill=\"#000000\"> (24, 512, 1, 1)</text>\n</g>\n<!-- 139638936921104&#45;&gt;139638936620432 -->\n<g id=\"edge229\" class=\"edge\">\n<title>139638936921104&#45;&gt;139638936620432</title>\n<path fill=\"none\" stroke=\"#000000\" d=\"M1852.257,-1772.7333C1852.6389,-1765.0322 1853.1067,-1755.5977 1853.5161,-1747.3414\"/>\n<polygon fill=\"#000000\" stroke=\"#000000\" points=\"1857.025,-1747.2475 1854.0246,-1737.0864 1850.0336,-1746.9008 1857.025,-1747.2475\"/>\n</g>\n<!-- 139638936620560 -->\n<g id=\"node218\" class=\"node\">\n<title>139638936620560</title>\n<polygon fill=\"#d3d3d3\" stroke=\"#000000\" points=\"2027,-1737 1926,-1737 1926,-1718 2027,-1718 2027,-1737\"/>\n<text text-anchor=\"middle\" x=\"1976.5\" y=\"-1725\" font-family=\"monospace\" font-size=\"10.00\" fill=\"#000000\">AccumulateGrad</text>\n</g>\n<!-- 139638936620560&#45;&gt;139638936620176 -->\n<g id=\"edge230\" class=\"edge\">\n<title>139638936620560&#45;&gt;139638936620176</title>\n<path fill=\"none\" stroke=\"#000000\" d=\"M1966.6993,-1717.7796C1957.5935,-1708.7485 1943.8272,-1695.095 1932.8618,-1684.2195\"/>\n<polygon fill=\"#000000\" stroke=\"#000000\" points=\"1935.0438,-1681.4541 1925.479,-1676.8972 1930.1145,-1686.4242 1935.0438,-1681.4541\"/>\n</g>\n<!-- 139638936921264 -->\n<g id=\"node219\" class=\"node\">\n<title>139638936921264</title>\n<polygon fill=\"#add8e6\" stroke=\"#000000\" points=\"2036,-1803 1929,-1803 1929,-1773 2036,-1773 2036,-1803\"/>\n<text text-anchor=\"middle\" x=\"1982.5\" y=\"-1791\" font-family=\"monospace\" font-size=\"10.00\" fill=\"#000000\">3.2.Root3a.bias</text>\n<text text-anchor=\"middle\" x=\"1982.5\" y=\"-1780\" font-family=\"monospace\" font-size=\"10.00\" fill=\"#000000\"> (24)</text>\n</g>\n<!-- 139638936921264&#45;&gt;139638936620560 -->\n<g id=\"edge231\" class=\"edge\">\n<title>139638936921264&#45;&gt;139638936620560</title>\n<path fill=\"none\" stroke=\"#000000\" d=\"M1980.9859,-1772.7333C1980.2135,-1764.9447 1979.2653,-1755.3831 1978.4399,-1747.0604\"/>\n<polygon fill=\"#000000\" stroke=\"#000000\" points=\"1981.9206,-1746.6921 1977.4507,-1737.0864 1974.9548,-1747.383 1981.9206,-1746.6921\"/>\n</g>\n<!-- 139638936620240 -->\n<g id=\"node220\" class=\"node\">\n<title>139638936620240</title>\n<polygon fill=\"#d3d3d3\" stroke=\"#000000\" points=\"2100,-1616 1999,-1616 1999,-1597 2100,-1597 2100,-1616\"/>\n<text text-anchor=\"middle\" x=\"2049.5\" y=\"-1604\" font-family=\"monospace\" font-size=\"10.00\" fill=\"#000000\">AccumulateGrad</text>\n</g>\n<!-- 139638936620240&#45;&gt;139638937273808 -->\n<g id=\"edge232\" class=\"edge\">\n<title>139638936620240&#45;&gt;139638937273808</title>\n<path fill=\"none\" stroke=\"#000000\" d=\"M2038.3521,-1596.9197C2029.1055,-1588.9735 2015.7447,-1577.4916 2004.7704,-1568.0605\"/>\n<polygon fill=\"#000000\" stroke=\"#000000\" points=\"2006.8166,-1565.2041 1996.9511,-1561.3408 2002.2542,-1570.513 2006.8166,-1565.2041\"/>\n</g>\n<!-- 139638936921184 -->\n<g id=\"node221\" class=\"node\">\n<title>139638936921184</title>\n<polygon fill=\"#add8e6\" stroke=\"#000000\" points=\"2115,-1682 1996,-1682 1996,-1652 2115,-1652 2115,-1682\"/>\n<text text-anchor=\"middle\" x=\"2055.5\" y=\"-1670\" font-family=\"monospace\" font-size=\"10.00\" fill=\"#000000\">3.2.Root3b.weight</text>\n<text text-anchor=\"middle\" x=\"2055.5\" y=\"-1659\" font-family=\"monospace\" font-size=\"10.00\" fill=\"#000000\"> (64, 24, 5, 5)</text>\n</g>\n<!-- 139638936921184&#45;&gt;139638936620240 -->\n<g id=\"edge233\" class=\"edge\">\n<title>139638936921184&#45;&gt;139638936620240</title>\n<path fill=\"none\" stroke=\"#000000\" d=\"M2053.9859,-1651.7333C2053.2135,-1643.9447 2052.2653,-1634.3831 2051.4399,-1626.0604\"/>\n<polygon fill=\"#000000\" stroke=\"#000000\" points=\"2054.9206,-1625.6921 2050.4507,-1616.0864 2047.9548,-1626.383 2054.9206,-1625.6921\"/>\n</g>\n<!-- 139638936619280 -->\n<g id=\"node222\" class=\"node\">\n<title>139638936619280</title>\n<polygon fill=\"#d3d3d3\" stroke=\"#000000\" points=\"2231,-1616 2130,-1616 2130,-1597 2231,-1597 2231,-1616\"/>\n<text text-anchor=\"middle\" x=\"2180.5\" y=\"-1604\" font-family=\"monospace\" font-size=\"10.00\" fill=\"#000000\">AccumulateGrad</text>\n</g>\n<!-- 139638936619280&#45;&gt;139638937273808 -->\n<g id=\"edge234\" class=\"edge\">\n<title>139638936619280&#45;&gt;139638937273808</title>\n<path fill=\"none\" stroke=\"#000000\" d=\"M2146.5336,-1596.9197C2114.0576,-1587.7598 2064.9244,-1573.9018 2029.4731,-1563.9027\"/>\n<polygon fill=\"#000000\" stroke=\"#000000\" points=\"2029.9784,-1560.4087 2019.4037,-1561.0626 2028.0781,-1567.1458 2029.9784,-1560.4087\"/>\n</g>\n<!-- 139638936921504 -->\n<g id=\"node223\" class=\"node\">\n<title>139638936921504</title>\n<polygon fill=\"#add8e6\" stroke=\"#000000\" points=\"2240,-1682 2133,-1682 2133,-1652 2240,-1652 2240,-1682\"/>\n<text text-anchor=\"middle\" x=\"2186.5\" y=\"-1670\" font-family=\"monospace\" font-size=\"10.00\" fill=\"#000000\">3.2.Root3b.bias</text>\n<text text-anchor=\"middle\" x=\"2186.5\" y=\"-1659\" font-family=\"monospace\" font-size=\"10.00\" fill=\"#000000\"> (64)</text>\n</g>\n<!-- 139638936921504&#45;&gt;139638936619280 -->\n<g id=\"edge235\" class=\"edge\">\n<title>139638936921504&#45;&gt;139638936619280</title>\n<path fill=\"none\" stroke=\"#000000\" d=\"M2184.9859,-1651.7333C2184.2135,-1643.9447 2183.2653,-1634.3831 2182.4399,-1626.0604\"/>\n<polygon fill=\"#000000\" stroke=\"#000000\" points=\"2185.9206,-1625.6921 2181.4507,-1616.0864 2178.9548,-1626.383 2185.9206,-1625.6921\"/>\n</g>\n<!-- 139638937273680 -->\n<g id=\"node224\" class=\"node\">\n<title>139638937273680</title>\n<polygon fill=\"#d3d3d3\" stroke=\"#000000\" points=\"1430,-1500.5 1335,-1500.5 1335,-1481.5 1430,-1481.5 1430,-1500.5\"/>\n<text text-anchor=\"middle\" x=\"1382.5\" y=\"-1488.5\" font-family=\"monospace\" font-size=\"10.00\" fill=\"#000000\">ReluBackward0</text>\n</g>\n<!-- 139638937273680&#45;&gt;139638937273488 -->\n<g id=\"edge236\" class=\"edge\">\n<title>139638937273680&#45;&gt;139638937273488</title>\n<path fill=\"none\" stroke=\"#000000\" d=\"M1386.838,-1481.2796C1390.6337,-1472.7746 1396.2588,-1460.17 1400.9551,-1449.6469\"/>\n<polygon fill=\"#000000\" stroke=\"#000000\" points=\"1404.2038,-1450.9555 1405.0831,-1440.3972 1397.8114,-1448.1027 1404.2038,-1450.9555\"/>\n</g>\n<!-- 139638936619856 -->\n<g id=\"node225\" class=\"node\">\n<title>139638936619856</title>\n<polygon fill=\"#d3d3d3\" stroke=\"#000000\" points=\"1361,-1561 1236,-1561 1236,-1542 1361,-1542 1361,-1561\"/>\n<text text-anchor=\"middle\" x=\"1298.5\" y=\"-1549\" font-family=\"monospace\" font-size=\"10.00\" fill=\"#000000\">ThnnConv2DBackward</text>\n</g>\n<!-- 139638936619856&#45;&gt;139638937273680 -->\n<g id=\"edge237\" class=\"edge\">\n<title>139638936619856&#45;&gt;139638937273680</title>\n<path fill=\"none\" stroke=\"#000000\" d=\"M1311.9961,-1541.7796C1325.0996,-1532.3419 1345.2119,-1517.8563 1360.6069,-1506.7683\"/>\n<polygon fill=\"#000000\" stroke=\"#000000\" points=\"1362.9685,-1509.3807 1369.0374,-1500.6962 1358.8775,-1503.7006 1362.9685,-1509.3807\"/>\n</g>\n<!-- 139638936620368 -->\n<g id=\"node226\" class=\"node\">\n<title>139638936620368</title>\n<polygon fill=\"#d3d3d3\" stroke=\"#000000\" points=\"1278,-1616 1183,-1616 1183,-1597 1278,-1597 1278,-1616\"/>\n<text text-anchor=\"middle\" x=\"1230.5\" y=\"-1604\" font-family=\"monospace\" font-size=\"10.00\" fill=\"#000000\">ReluBackward0</text>\n</g>\n<!-- 139638936620368&#45;&gt;139638936619856 -->\n<g id=\"edge238\" class=\"edge\">\n<title>139638936620368&#45;&gt;139638936619856</title>\n<path fill=\"none\" stroke=\"#000000\" d=\"M1242.3447,-1596.9197C1252.2655,-1588.8956 1266.6438,-1577.2661 1278.3674,-1567.7837\"/>\n<polygon fill=\"#000000\" stroke=\"#000000\" points=\"1280.7591,-1570.3509 1286.3332,-1561.3408 1276.357,-1564.9083 1280.7591,-1570.3509\"/>\n</g>\n<!-- 139638936620624&#45;&gt;139638936620368 -->\n<g id=\"edge239\" class=\"edge\">\n<title>139638936620624&#45;&gt;139638936620368</title>\n<path fill=\"none\" stroke=\"#000000\" d=\"M1215.392,-1657.2796C1217.8703,-1648.9499 1221.5184,-1636.688 1224.609,-1626.3004\"/>\n<polygon fill=\"#000000\" stroke=\"#000000\" points=\"1228.0583,-1626.9801 1227.5554,-1616.3972 1221.349,-1624.9839 1228.0583,-1626.9801\"/>\n</g>\n<!-- 139638936620688 -->\n<g id=\"node228\" class=\"node\">\n<title>139638936620688</title>\n<polygon fill=\"#d3d3d3\" stroke=\"#000000\" points=\"1124,-1616 1023,-1616 1023,-1597 1124,-1597 1124,-1616\"/>\n<text text-anchor=\"middle\" x=\"1073.5\" y=\"-1604\" font-family=\"monospace\" font-size=\"10.00\" fill=\"#000000\">AccumulateGrad</text>\n</g>\n<!-- 139638936620688&#45;&gt;139638936619856 -->\n<g id=\"edge241\" class=\"edge\">\n<title>139638936620688&#45;&gt;139638936619856</title>\n<path fill=\"none\" stroke=\"#000000\" d=\"M1112.4351,-1596.9825C1150.4314,-1587.6945 1208.3646,-1573.5331 1249.4806,-1563.4825\"/>\n<polygon fill=\"#000000\" stroke=\"#000000\" points=\"1250.4045,-1566.8598 1259.2874,-1561.0853 1248.7423,-1560.06 1250.4045,-1566.8598\"/>\n</g>\n<!-- 139638936921424 -->\n<g id=\"node229\" class=\"node\">\n<title>139638936921424</title>\n<polygon fill=\"#add8e6\" stroke=\"#000000\" points=\"1102,-1682 983,-1682 983,-1652 1102,-1652 1102,-1682\"/>\n<text text-anchor=\"middle\" x=\"1042.5\" y=\"-1670\" font-family=\"monospace\" font-size=\"10.00\" fill=\"#000000\">3.2.Root4b.weight</text>\n<text text-anchor=\"middle\" x=\"1042.5\" y=\"-1659\" font-family=\"monospace\" font-size=\"10.00\" fill=\"#000000\"> (64, 512, 1, 1)</text>\n</g>\n<!-- 139638936921424&#45;&gt;139638936620688 -->\n<g id=\"edge242\" class=\"edge\">\n<title>139638936921424&#45;&gt;139638936620688</title>\n<path fill=\"none\" stroke=\"#000000\" d=\"M1050.3226,-1651.7333C1054.448,-1643.6821 1059.5441,-1633.7365 1063.9064,-1625.2231\"/>\n<polygon fill=\"#000000\" stroke=\"#000000\" points=\"1067.1426,-1626.5822 1068.588,-1616.0864 1060.9128,-1623.39 1067.1426,-1626.5822\"/>\n</g>\n<!-- 139638936620048 -->\n<g id=\"node230\" class=\"node\">\n<title>139638936620048</title>\n<polygon fill=\"#d3d3d3\" stroke=\"#000000\" points=\"1417,-1616 1316,-1616 1316,-1597 1417,-1597 1417,-1616\"/>\n<text text-anchor=\"middle\" x=\"1366.5\" y=\"-1604\" font-family=\"monospace\" font-size=\"10.00\" fill=\"#000000\">AccumulateGrad</text>\n</g>\n<!-- 139638936620048&#45;&gt;139638936619856 -->\n<g id=\"edge243\" class=\"edge\">\n<title>139638936620048&#45;&gt;139638936619856</title>\n<path fill=\"none\" stroke=\"#000000\" d=\"M1354.6553,-1596.9197C1344.7345,-1588.8956 1330.3562,-1577.2661 1318.6326,-1567.7837\"/>\n<polygon fill=\"#000000\" stroke=\"#000000\" points=\"1320.643,-1564.9083 1310.6668,-1561.3408 1316.2409,-1570.3509 1320.643,-1564.9083\"/>\n</g>\n<!-- 139638936921744 -->\n<g id=\"node231\" class=\"node\">\n<title>139638936921744</title>\n<polygon fill=\"#add8e6\" stroke=\"#000000\" points=\"1430,-1682 1323,-1682 1323,-1652 1430,-1652 1430,-1682\"/>\n<text text-anchor=\"middle\" x=\"1376.5\" y=\"-1670\" font-family=\"monospace\" font-size=\"10.00\" fill=\"#000000\">3.2.Root4b.bias</text>\n<text text-anchor=\"middle\" x=\"1376.5\" y=\"-1659\" font-family=\"monospace\" font-size=\"10.00\" fill=\"#000000\"> (64)</text>\n</g>\n<!-- 139638936921744&#45;&gt;139638936620048 -->\n<g id=\"edge244\" class=\"edge\">\n<title>139638936921744&#45;&gt;139638936620048</title>\n<path fill=\"none\" stroke=\"#000000\" d=\"M1373.9766,-1651.7333C1372.6892,-1643.9447 1371.1088,-1634.3831 1369.7331,-1626.0604\"/>\n<polygon fill=\"#000000\" stroke=\"#000000\" points=\"1373.1685,-1625.3817 1368.0845,-1616.0864 1366.2622,-1626.5233 1373.1685,-1625.3817\"/>\n</g>\n<!-- 139638937273104 -->\n<g id=\"node232\" class=\"node\">\n<title>139638937273104</title>\n<polygon fill=\"#d3d3d3\" stroke=\"#000000\" points=\"1982,-1440 1881,-1440 1881,-1421 1982,-1421 1982,-1440\"/>\n<text text-anchor=\"middle\" x=\"1931.5\" y=\"-1428\" font-family=\"monospace\" font-size=\"10.00\" fill=\"#000000\">AccumulateGrad</text>\n</g>\n<!-- 139638937273104&#45;&gt;139638937273040 -->\n<g id=\"edge245\" class=\"edge\">\n<title>139638937273104&#45;&gt;139638937273040</title>\n<path fill=\"none\" stroke=\"#000000\" d=\"M1921.86,-1420.7796C1912.9035,-1411.7485 1899.3628,-1398.095 1888.5772,-1387.2195\"/>\n<polygon fill=\"#000000\" stroke=\"#000000\" points=\"1890.8423,-1384.533 1881.3154,-1379.8972 1885.872,-1389.4622 1890.8423,-1384.533\"/>\n</g>\n<!-- 139638936921904 -->\n<g id=\"node233\" class=\"node\">\n<title>139638936921904</title>\n<polygon fill=\"#add8e6\" stroke=\"#000000\" points=\"1996,-1506 1877,-1506 1877,-1476 1996,-1476 1996,-1506\"/>\n<text text-anchor=\"middle\" x=\"1936.5\" y=\"-1494\" font-family=\"monospace\" font-size=\"10.00\" fill=\"#000000\">3.3.Root1a.weight</text>\n<text text-anchor=\"middle\" x=\"1936.5\" y=\"-1483\" font-family=\"monospace\" font-size=\"10.00\" fill=\"#000000\"> (112, 512, 1, 1)</text>\n</g>\n<!-- 139638936921904&#45;&gt;139638937273104 -->\n<g id=\"edge246\" class=\"edge\">\n<title>139638936921904&#45;&gt;139638937273104</title>\n<path fill=\"none\" stroke=\"#000000\" d=\"M1935.2383,-1475.7333C1934.5946,-1467.9447 1933.8044,-1458.3831 1933.1166,-1450.0604\"/>\n<polygon fill=\"#000000\" stroke=\"#000000\" points=\"1936.6041,-1449.7641 1932.2923,-1440.0864 1929.6279,-1450.3407 1936.6041,-1449.7641\"/>\n</g>\n<!-- 139638937272912 -->\n<g id=\"node234\" class=\"node\">\n<title>139638937272912</title>\n<polygon fill=\"#d3d3d3\" stroke=\"#000000\" points=\"1861,-1440 1760,-1440 1760,-1421 1861,-1421 1861,-1440\"/>\n<text text-anchor=\"middle\" x=\"1810.5\" y=\"-1428\" font-family=\"monospace\" font-size=\"10.00\" fill=\"#000000\">AccumulateGrad</text>\n</g>\n<!-- 139638937272912&#45;&gt;139638937273040 -->\n<g id=\"edge247\" class=\"edge\">\n<title>139638937272912&#45;&gt;139638937273040</title>\n<path fill=\"none\" stroke=\"#000000\" d=\"M1820.3007,-1420.7796C1829.4065,-1411.7485 1843.1728,-1398.095 1854.1382,-1387.2195\"/>\n<polygon fill=\"#000000\" stroke=\"#000000\" points=\"1856.8855,-1389.4242 1861.521,-1379.8972 1851.9562,-1384.4541 1856.8855,-1389.4242\"/>\n</g>\n<!-- 139638936922064 -->\n<g id=\"node235\" class=\"node\">\n<title>139638936922064</title>\n<polygon fill=\"#add8e6\" stroke=\"#000000\" points=\"1859,-1506 1752,-1506 1752,-1476 1859,-1476 1859,-1506\"/>\n<text text-anchor=\"middle\" x=\"1805.5\" y=\"-1494\" font-family=\"monospace\" font-size=\"10.00\" fill=\"#000000\">3.3.Root1a.bias</text>\n<text text-anchor=\"middle\" x=\"1805.5\" y=\"-1483\" font-family=\"monospace\" font-size=\"10.00\" fill=\"#000000\"> (112)</text>\n</g>\n<!-- 139638936922064&#45;&gt;139638937272912 -->\n<g id=\"edge248\" class=\"edge\">\n<title>139638936922064&#45;&gt;139638937272912</title>\n<path fill=\"none\" stroke=\"#000000\" d=\"M1806.7617,-1475.7333C1807.4054,-1467.9447 1808.1956,-1458.3831 1808.8834,-1450.0604\"/>\n<polygon fill=\"#000000\" stroke=\"#000000\" points=\"1812.3721,-1450.3407 1809.7077,-1440.0864 1805.3959,-1449.7641 1812.3721,-1450.3407\"/>\n</g>\n<!-- 139638937273232 -->\n<g id=\"node236\" class=\"node\">\n<title>139638937273232</title>\n<polygon fill=\"#d3d3d3\" stroke=\"#000000\" points=\"1180,-1203.5 1085,-1203.5 1085,-1184.5 1180,-1184.5 1180,-1203.5\"/>\n<text text-anchor=\"middle\" x=\"1132.5\" y=\"-1191.5\" font-family=\"monospace\" font-size=\"10.00\" fill=\"#000000\">ReluBackward0</text>\n</g>\n<!-- 139638937273232&#45;&gt;139638937272464 -->\n<g id=\"edge249\" class=\"edge\">\n<title>139638937273232&#45;&gt;139638937272464</title>\n<path fill=\"none\" stroke=\"#000000\" d=\"M1156.1095,-1184.4136C1181.0668,-1174.2799 1220.6196,-1158.2199 1248.6211,-1146.8502\"/>\n<polygon fill=\"#000000\" stroke=\"#000000\" points=\"1250.0524,-1150.0466 1258.001,-1143.0416 1247.4189,-1143.5608 1250.0524,-1150.0466\"/>\n</g>\n<!-- 139638937273296 -->\n<g id=\"node237\" class=\"node\">\n<title>139638937273296</title>\n<polygon fill=\"#d3d3d3\" stroke=\"#000000\" points=\"851,-1264 726,-1264 726,-1245 851,-1245 851,-1264\"/>\n<text text-anchor=\"middle\" x=\"788.5\" y=\"-1252\" font-family=\"monospace\" font-size=\"10.00\" fill=\"#000000\">ThnnConv2DBackward</text>\n</g>\n<!-- 139638937273296&#45;&gt;139638937273232 -->\n<g id=\"edge250\" class=\"edge\">\n<title>139638937273296&#45;&gt;139638937273232</title>\n<path fill=\"none\" stroke=\"#000000\" d=\"M842.6284,-1244.9803C905.848,-1233.8618 1010.0028,-1215.5438 1074.7418,-1204.1581\"/>\n<polygon fill=\"#000000\" stroke=\"#000000\" points=\"1075.5387,-1207.5717 1084.7813,-1202.3924 1074.3261,-1200.6775 1075.5387,-1207.5717\"/>\n</g>\n<!-- 139638937273168 -->\n<g id=\"node238\" class=\"node\">\n<title>139638937273168</title>\n<polygon fill=\"#d3d3d3\" stroke=\"#000000\" points=\"775,-1319 680,-1319 680,-1300 775,-1300 775,-1319\"/>\n<text text-anchor=\"middle\" x=\"727.5\" y=\"-1307\" font-family=\"monospace\" font-size=\"10.00\" fill=\"#000000\">ReluBackward0</text>\n</g>\n<!-- 139638937273168&#45;&gt;139638937273296 -->\n<g id=\"edge251\" class=\"edge\">\n<title>139638937273168&#45;&gt;139638937273296</title>\n<path fill=\"none\" stroke=\"#000000\" d=\"M738.1254,-1299.9197C746.9385,-1291.9735 759.673,-1280.4916 770.1329,-1271.0605\"/>\n<polygon fill=\"#000000\" stroke=\"#000000\" points=\"772.5025,-1273.6367 777.5856,-1264.3408 767.815,-1268.4378 772.5025,-1273.6367\"/>\n</g>\n<!-- 139638936621008&#45;&gt;139638937273168 -->\n<g id=\"edge252\" class=\"edge\">\n<title>139638936621008&#45;&gt;139638937273168</title>\n<path fill=\"none\" stroke=\"#000000\" d=\"M722.464,-1360.2796C723.2814,-1352.0376 724.4806,-1339.9457 725.5037,-1329.629\"/>\n<polygon fill=\"#000000\" stroke=\"#000000\" points=\"729.0144,-1329.6939 726.5185,-1319.3972 722.0486,-1329.003 729.0144,-1329.6939\"/>\n</g>\n<!-- 139638936620752 -->\n<g id=\"node240\" class=\"node\">\n<title>139638936620752</title>\n<polygon fill=\"#d3d3d3\" stroke=\"#000000\" points=\"833,-1440 732,-1440 732,-1421 833,-1421 833,-1440\"/>\n<text text-anchor=\"middle\" x=\"782.5\" y=\"-1428\" font-family=\"monospace\" font-size=\"10.00\" fill=\"#000000\">AccumulateGrad</text>\n</g>\n<!-- 139638936620752&#45;&gt;139638936621008 -->\n<g id=\"edge254\" class=\"edge\">\n<title>139638936620752&#45;&gt;139638936621008</title>\n<path fill=\"none\" stroke=\"#000000\" d=\"M772.6993,-1420.7796C763.5935,-1411.7485 749.8272,-1398.095 738.8618,-1387.2195\"/>\n<polygon fill=\"#000000\" stroke=\"#000000\" points=\"741.0438,-1384.4541 731.479,-1379.8972 736.1145,-1389.4242 741.0438,-1384.4541\"/>\n</g>\n<!-- 139638936922224 -->\n<g id=\"node241\" class=\"node\">\n<title>139638936922224</title>\n<polygon fill=\"#add8e6\" stroke=\"#000000\" points=\"845,-1506 726,-1506 726,-1476 845,-1476 845,-1506\"/>\n<text text-anchor=\"middle\" x=\"785.5\" y=\"-1494\" font-family=\"monospace\" font-size=\"10.00\" fill=\"#000000\">3.3.Root2a.weight</text>\n<text text-anchor=\"middle\" x=\"785.5\" y=\"-1483\" font-family=\"monospace\" font-size=\"10.00\" fill=\"#000000\"> (144, 512, 1, 1)</text>\n</g>\n<!-- 139638936922224&#45;&gt;139638936620752 -->\n<g id=\"edge255\" class=\"edge\">\n<title>139638936922224&#45;&gt;139638936620752</title>\n<path fill=\"none\" stroke=\"#000000\" d=\"M784.743,-1475.7333C784.3611,-1468.0322 783.8933,-1458.5977 783.4839,-1450.3414\"/>\n<polygon fill=\"#000000\" stroke=\"#000000\" points=\"786.9664,-1449.9008 782.9754,-1440.0864 779.975,-1450.2475 786.9664,-1449.9008\"/>\n</g>\n<!-- 139638936620880 -->\n<g id=\"node242\" class=\"node\">\n<title>139638936620880</title>\n<polygon fill=\"#d3d3d3\" stroke=\"#000000\" points=\"711,-1440 610,-1440 610,-1421 711,-1421 711,-1440\"/>\n<text text-anchor=\"middle\" x=\"660.5\" y=\"-1428\" font-family=\"monospace\" font-size=\"10.00\" fill=\"#000000\">AccumulateGrad</text>\n</g>\n<!-- 139638936620880&#45;&gt;139638936621008 -->\n<g id=\"edge256\" class=\"edge\">\n<title>139638936620880&#45;&gt;139638936621008</title>\n<path fill=\"none\" stroke=\"#000000\" d=\"M670.3007,-1420.7796C679.4065,-1411.7485 693.1728,-1398.095 704.1382,-1387.2195\"/>\n<polygon fill=\"#000000\" stroke=\"#000000\" points=\"706.8855,-1389.4242 711.521,-1379.8972 701.9562,-1384.4541 706.8855,-1389.4242\"/>\n</g>\n<!-- 139638936922384 -->\n<g id=\"node243\" class=\"node\">\n<title>139638936922384</title>\n<polygon fill=\"#add8e6\" stroke=\"#000000\" points=\"708,-1506 601,-1506 601,-1476 708,-1476 708,-1506\"/>\n<text text-anchor=\"middle\" x=\"654.5\" y=\"-1494\" font-family=\"monospace\" font-size=\"10.00\" fill=\"#000000\">3.3.Root2a.bias</text>\n<text text-anchor=\"middle\" x=\"654.5\" y=\"-1483\" font-family=\"monospace\" font-size=\"10.00\" fill=\"#000000\"> (144)</text>\n</g>\n<!-- 139638936922384&#45;&gt;139638936620880 -->\n<g id=\"edge257\" class=\"edge\">\n<title>139638936922384&#45;&gt;139638936620880</title>\n<path fill=\"none\" stroke=\"#000000\" d=\"M656.0141,-1475.7333C656.7865,-1467.9447 657.7347,-1458.3831 658.5601,-1450.0604\"/>\n<polygon fill=\"#000000\" stroke=\"#000000\" points=\"662.0452,-1450.383 659.5493,-1440.0864 655.0794,-1449.6921 662.0452,-1450.383\"/>\n</g>\n<!-- 139638936620944 -->\n<g id=\"node244\" class=\"node\">\n<title>139638936620944</title>\n<polygon fill=\"#d3d3d3\" stroke=\"#000000\" points=\"900,-1319 799,-1319 799,-1300 900,-1300 900,-1319\"/>\n<text text-anchor=\"middle\" x=\"849.5\" y=\"-1307\" font-family=\"monospace\" font-size=\"10.00\" fill=\"#000000\">AccumulateGrad</text>\n</g>\n<!-- 139638936620944&#45;&gt;139638937273296 -->\n<g id=\"edge258\" class=\"edge\">\n<title>139638936620944&#45;&gt;139638937273296</title>\n<path fill=\"none\" stroke=\"#000000\" d=\"M838.8746,-1299.9197C830.0615,-1291.9735 817.327,-1280.4916 806.8671,-1271.0605\"/>\n<polygon fill=\"#000000\" stroke=\"#000000\" points=\"809.185,-1268.4378 799.4144,-1264.3408 804.4975,-1273.6367 809.185,-1268.4378\"/>\n</g>\n<!-- 139638936922304 -->\n<g id=\"node245\" class=\"node\">\n<title>139638936922304</title>\n<polygon fill=\"#add8e6\" stroke=\"#000000\" points=\"921,-1385 802,-1385 802,-1355 921,-1355 921,-1385\"/>\n<text text-anchor=\"middle\" x=\"861.5\" y=\"-1373\" font-family=\"monospace\" font-size=\"10.00\" fill=\"#000000\">3.3.Root2b.weight</text>\n<text text-anchor=\"middle\" x=\"861.5\" y=\"-1362\" font-family=\"monospace\" font-size=\"10.00\" fill=\"#000000\"> (288, 144, 3, 3)</text>\n</g>\n<!-- 139638936922304&#45;&gt;139638936620944 -->\n<g id=\"edge259\" class=\"edge\">\n<title>139638936922304&#45;&gt;139638936620944</title>\n<path fill=\"none\" stroke=\"#000000\" d=\"M858.4719,-1354.7333C856.927,-1346.9447 855.0305,-1337.3831 853.3797,-1329.0604\"/>\n<polygon fill=\"#000000\" stroke=\"#000000\" points=\"856.7802,-1328.2143 851.4014,-1319.0864 849.914,-1329.5763 856.7802,-1328.2143\"/>\n</g>\n<!-- 139638936620496 -->\n<g id=\"node246\" class=\"node\">\n<title>139638936620496</title>\n<polygon fill=\"#d3d3d3\" stroke=\"#000000\" points=\"653,-1319 552,-1319 552,-1300 653,-1300 653,-1319\"/>\n<text text-anchor=\"middle\" x=\"602.5\" y=\"-1307\" font-family=\"monospace\" font-size=\"10.00\" fill=\"#000000\">AccumulateGrad</text>\n</g>\n<!-- 139638936620496&#45;&gt;139638937273296 -->\n<g id=\"edge260\" class=\"edge\">\n<title>139638936620496&#45;&gt;139638937273296</title>\n<path fill=\"none\" stroke=\"#000000\" d=\"M634.8987,-1299.9197C665.8759,-1290.7598 712.7413,-1276.9018 746.5565,-1266.9027\"/>\n<polygon fill=\"#000000\" stroke=\"#000000\" points=\"747.564,-1270.2546 756.161,-1264.0626 745.579,-1263.5419 747.564,-1270.2546\"/>\n</g>\n<!-- 139638936922624 -->\n<g id=\"node247\" class=\"node\">\n<title>139638936922624</title>\n<polygon fill=\"#add8e6\" stroke=\"#000000\" points=\"641,-1385 534,-1385 534,-1355 641,-1355 641,-1385\"/>\n<text text-anchor=\"middle\" x=\"587.5\" y=\"-1373\" font-family=\"monospace\" font-size=\"10.00\" fill=\"#000000\">3.3.Root2b.bias</text>\n<text text-anchor=\"middle\" x=\"587.5\" y=\"-1362\" font-family=\"monospace\" font-size=\"10.00\" fill=\"#000000\"> (288)</text>\n</g>\n<!-- 139638936922624&#45;&gt;139638936620496 -->\n<g id=\"edge261\" class=\"edge\">\n<title>139638936922624&#45;&gt;139638936620496</title>\n<path fill=\"none\" stroke=\"#000000\" d=\"M591.2851,-1354.7333C593.2162,-1346.9447 595.5868,-1337.3831 597.6503,-1329.0604\"/>\n<polygon fill=\"#000000\" stroke=\"#000000\" points=\"601.1138,-1329.6348 600.1232,-1319.0864 594.3195,-1327.9502 601.1138,-1329.6348\"/>\n</g>\n<!-- 139638937273360 -->\n<g id=\"node248\" class=\"node\">\n<title>139638937273360</title>\n<polygon fill=\"#d3d3d3\" stroke=\"#000000\" points=\"1305,-1203.5 1210,-1203.5 1210,-1184.5 1305,-1184.5 1305,-1203.5\"/>\n<text text-anchor=\"middle\" x=\"1257.5\" y=\"-1191.5\" font-family=\"monospace\" font-size=\"10.00\" fill=\"#000000\">ReluBackward0</text>\n</g>\n<!-- 139638937273360&#45;&gt;139638937272464 -->\n<g id=\"edge262\" class=\"edge\">\n<title>139638937273360&#45;&gt;139638937272464</title>\n<path fill=\"none\" stroke=\"#000000\" d=\"M1261.356,-1184.2796C1264.6951,-1175.8623 1269.6272,-1163.4295 1273.7752,-1152.973\"/>\n<polygon fill=\"#000000\" stroke=\"#000000\" points=\"1277.1397,-1153.9832 1277.5738,-1143.3972 1270.633,-1151.402 1277.1397,-1153.9832\"/>\n</g>\n<!-- 139638937273616 -->\n<g id=\"node249\" class=\"node\">\n<title>139638937273616</title>\n<polygon fill=\"#d3d3d3\" stroke=\"#000000\" points=\"1295,-1264 1128,-1264 1128,-1245 1295,-1245 1295,-1264\"/>\n<text text-anchor=\"middle\" x=\"1211.5\" y=\"-1252\" font-family=\"monospace\" font-size=\"10.00\" fill=\"#000000\">MkldnnConvolutionBackward</text>\n</g>\n<!-- 139638937273616&#45;&gt;139638937273360 -->\n<g id=\"edge263\" class=\"edge\">\n<title>139638937273616&#45;&gt;139638937273360</title>\n<path fill=\"none\" stroke=\"#000000\" d=\"M1218.8907,-1244.7796C1225.5573,-1236.0115 1235.5368,-1222.8864 1243.6797,-1212.1767\"/>\n<polygon fill=\"#000000\" stroke=\"#000000\" points=\"1246.7084,-1213.976 1249.9748,-1203.8972 1241.1362,-1209.7392 1246.7084,-1213.976\"/>\n</g>\n<!-- 139638936620304 -->\n<g id=\"node250\" class=\"node\">\n<title>139638936620304</title>\n<polygon fill=\"#d3d3d3\" stroke=\"#000000\" points=\"1183,-1319 1088,-1319 1088,-1300 1183,-1300 1183,-1319\"/>\n<text text-anchor=\"middle\" x=\"1135.5\" y=\"-1307\" font-family=\"monospace\" font-size=\"10.00\" fill=\"#000000\">ReluBackward0</text>\n</g>\n<!-- 139638936620304&#45;&gt;139638937273616 -->\n<g id=\"edge264\" class=\"edge\">\n<title>139638936620304&#45;&gt;139638937273616</title>\n<path fill=\"none\" stroke=\"#000000\" d=\"M1148.7382,-1299.9197C1160.1112,-1291.6893 1176.7256,-1279.6657 1190.0035,-1270.0567\"/>\n<polygon fill=\"#000000\" stroke=\"#000000\" points=\"1192.1093,-1272.8532 1198.1585,-1264.155 1188.0054,-1267.1823 1192.1093,-1272.8532\"/>\n</g>\n<!-- 139638936699088&#45;&gt;139638936620304 -->\n<g id=\"edge265\" class=\"edge\">\n<title>139638936699088&#45;&gt;139638936620304</title>\n<path fill=\"none\" stroke=\"#000000\" d=\"M1127.946,-1360.2796C1129.1851,-1351.9499 1131.0092,-1339.688 1132.5545,-1329.3004\"/>\n<polygon fill=\"#000000\" stroke=\"#000000\" points=\"1136.0181,-1329.8034 1134.0277,-1319.3972 1129.0943,-1328.7734 1136.0181,-1329.8034\"/>\n</g>\n<!-- 139638936699344 -->\n<g id=\"node252\" class=\"node\">\n<title>139638936699344</title>\n<polygon fill=\"#d3d3d3\" stroke=\"#000000\" points=\"1178,-1440 1077,-1440 1077,-1421 1178,-1421 1178,-1440\"/>\n<text text-anchor=\"middle\" x=\"1127.5\" y=\"-1428\" font-family=\"monospace\" font-size=\"10.00\" fill=\"#000000\">AccumulateGrad</text>\n</g>\n<!-- 139638936699344&#45;&gt;139638936699088 -->\n<g id=\"edge267\" class=\"edge\">\n<title>139638936699344&#45;&gt;139638936699088</title>\n<path fill=\"none\" stroke=\"#000000\" d=\"M1127.3393,-1420.7796C1127.2031,-1412.5376 1127.0032,-1400.4457 1126.8327,-1390.129\"/>\n<polygon fill=\"#000000\" stroke=\"#000000\" points=\"1130.3285,-1389.838 1126.6636,-1379.8972 1123.3294,-1389.9537 1130.3285,-1389.838\"/>\n</g>\n<!-- 139638936922544 -->\n<g id=\"node253\" class=\"node\">\n<title>139638936922544</title>\n<polygon fill=\"#add8e6\" stroke=\"#000000\" points=\"1191,-1506 1072,-1506 1072,-1476 1191,-1476 1191,-1506\"/>\n<text text-anchor=\"middle\" x=\"1131.5\" y=\"-1494\" font-family=\"monospace\" font-size=\"10.00\" fill=\"#000000\">3.3.Root3a.weight</text>\n<text text-anchor=\"middle\" x=\"1131.5\" y=\"-1483\" font-family=\"monospace\" font-size=\"10.00\" fill=\"#000000\"> (32, 512, 1, 1)</text>\n</g>\n<!-- 139638936922544&#45;&gt;139638936699344 -->\n<g id=\"edge268\" class=\"edge\">\n<title>139638936922544&#45;&gt;139638936699344</title>\n<path fill=\"none\" stroke=\"#000000\" d=\"M1130.4906,-1475.7333C1129.9815,-1468.0322 1129.3577,-1458.5977 1128.8118,-1450.3414\"/>\n<polygon fill=\"#000000\" stroke=\"#000000\" points=\"1132.286,-1449.8337 1128.1338,-1440.0864 1125.3012,-1450.2956 1132.286,-1449.8337\"/>\n</g>\n<!-- 139638936699472 -->\n<g id=\"node254\" class=\"node\">\n<title>139638936699472</title>\n<polygon fill=\"#d3d3d3\" stroke=\"#000000\" points=\"1055,-1440 954,-1440 954,-1421 1055,-1421 1055,-1440\"/>\n<text text-anchor=\"middle\" x=\"1004.5\" y=\"-1428\" font-family=\"monospace\" font-size=\"10.00\" fill=\"#000000\">AccumulateGrad</text>\n</g>\n<!-- 139638936699472&#45;&gt;139638936699088 -->\n<g id=\"edge269\" class=\"edge\">\n<title>139638936699472&#45;&gt;139638936699088</title>\n<path fill=\"none\" stroke=\"#000000\" d=\"M1023.8313,-1420.9136C1043.8199,-1411.0012 1075.2431,-1395.4184 1098.0639,-1384.1015\"/>\n<polygon fill=\"#000000\" stroke=\"#000000\" points=\"1099.8552,-1387.12 1107.2592,-1379.5416 1096.7453,-1380.8487 1099.8552,-1387.12\"/>\n</g>\n<!-- 139638936922864 -->\n<g id=\"node255\" class=\"node\">\n<title>139638936922864</title>\n<polygon fill=\"#add8e6\" stroke=\"#000000\" points=\"1054,-1506 947,-1506 947,-1476 1054,-1476 1054,-1506\"/>\n<text text-anchor=\"middle\" x=\"1000.5\" y=\"-1494\" font-family=\"monospace\" font-size=\"10.00\" fill=\"#000000\">3.3.Root3a.bias</text>\n<text text-anchor=\"middle\" x=\"1000.5\" y=\"-1483\" font-family=\"monospace\" font-size=\"10.00\" fill=\"#000000\"> (32)</text>\n</g>\n<!-- 139638936922864&#45;&gt;139638936699472 -->\n<g id=\"edge270\" class=\"edge\">\n<title>139638936922864&#45;&gt;139638936699472</title>\n<path fill=\"none\" stroke=\"#000000\" d=\"M1001.5094,-1475.7333C1002.0185,-1468.0322 1002.6423,-1458.5977 1003.1882,-1450.3414\"/>\n<polygon fill=\"#000000\" stroke=\"#000000\" points=\"1006.6988,-1450.2956 1003.8662,-1440.0864 999.714,-1449.8337 1006.6988,-1450.2956\"/>\n</g>\n<!-- 139638936699152 -->\n<g id=\"node256\" class=\"node\">\n<title>139638936699152</title>\n<polygon fill=\"#d3d3d3\" stroke=\"#000000\" points=\"1312,-1319 1211,-1319 1211,-1300 1312,-1300 1312,-1319\"/>\n<text text-anchor=\"middle\" x=\"1261.5\" y=\"-1307\" font-family=\"monospace\" font-size=\"10.00\" fill=\"#000000\">AccumulateGrad</text>\n</g>\n<!-- 139638936699152&#45;&gt;139638937273616 -->\n<g id=\"edge271\" class=\"edge\">\n<title>139638936699152&#45;&gt;139638937273616</title>\n<path fill=\"none\" stroke=\"#000000\" d=\"M1252.7907,-1299.9197C1245.7793,-1292.2072 1235.7399,-1281.1639 1227.3162,-1271.8978\"/>\n<polygon fill=\"#000000\" stroke=\"#000000\" points=\"1229.7628,-1269.3859 1220.4462,-1264.3408 1224.5832,-1274.0946 1229.7628,-1269.3859\"/>\n</g>\n<!-- 139638936922784 -->\n<g id=\"node257\" class=\"node\">\n<title>139638936922784</title>\n<polygon fill=\"#add8e6\" stroke=\"#000000\" points=\"1326,-1385 1207,-1385 1207,-1355 1326,-1355 1326,-1385\"/>\n<text text-anchor=\"middle\" x=\"1266.5\" y=\"-1373\" font-family=\"monospace\" font-size=\"10.00\" fill=\"#000000\">3.3.Root3b.weight</text>\n<text text-anchor=\"middle\" x=\"1266.5\" y=\"-1362\" font-family=\"monospace\" font-size=\"10.00\" fill=\"#000000\"> (64, 32, 5, 5)</text>\n</g>\n<!-- 139638936922784&#45;&gt;139638936699152 -->\n<g id=\"edge272\" class=\"edge\">\n<title>139638936922784&#45;&gt;139638936699152</title>\n<path fill=\"none\" stroke=\"#000000\" d=\"M1265.2383,-1354.7333C1264.5946,-1346.9447 1263.8044,-1337.3831 1263.1166,-1329.0604\"/>\n<polygon fill=\"#000000\" stroke=\"#000000\" points=\"1266.6041,-1328.7641 1262.2923,-1319.0864 1259.6279,-1329.3407 1266.6041,-1328.7641\"/>\n</g>\n<!-- 139638936698960 -->\n<g id=\"node258\" class=\"node\">\n<title>139638936698960</title>\n<polygon fill=\"#d3d3d3\" stroke=\"#000000\" points=\"1049,-1319 948,-1319 948,-1300 1049,-1300 1049,-1319\"/>\n<text text-anchor=\"middle\" x=\"998.5\" y=\"-1307\" font-family=\"monospace\" font-size=\"10.00\" fill=\"#000000\">AccumulateGrad</text>\n</g>\n<!-- 139638936698960&#45;&gt;139638937273616 -->\n<g id=\"edge273\" class=\"edge\">\n<title>139638936698960&#45;&gt;139638937273616</title>\n<path fill=\"none\" stroke=\"#000000\" d=\"M1035.6018,-1299.9197C1071.3801,-1290.6812 1125.6668,-1276.6635 1164.4617,-1266.646\"/>\n<polygon fill=\"#000000\" stroke=\"#000000\" points=\"1165.6593,-1269.9517 1174.4667,-1264.0626 1163.9092,-1263.174 1165.6593,-1269.9517\"/>\n</g>\n<!-- 139638936923104 -->\n<g id=\"node259\" class=\"node\">\n<title>139638936923104</title>\n<polygon fill=\"#add8e6\" stroke=\"#000000\" points=\"1046,-1385 939,-1385 939,-1355 1046,-1355 1046,-1385\"/>\n<text text-anchor=\"middle\" x=\"992.5\" y=\"-1373\" font-family=\"monospace\" font-size=\"10.00\" fill=\"#000000\">3.3.Root3b.bias</text>\n<text text-anchor=\"middle\" x=\"992.5\" y=\"-1362\" font-family=\"monospace\" font-size=\"10.00\" fill=\"#000000\"> (64)</text>\n</g>\n<!-- 139638936923104&#45;&gt;139638936698960 -->\n<g id=\"edge274\" class=\"edge\">\n<title>139638936923104&#45;&gt;139638936698960</title>\n<path fill=\"none\" stroke=\"#000000\" d=\"M994.0141,-1354.7333C994.7865,-1346.9447 995.7347,-1337.3831 996.5601,-1329.0604\"/>\n<polygon fill=\"#000000\" stroke=\"#000000\" points=\"1000.0452,-1329.383 997.5493,-1319.0864 993.0794,-1328.6921 1000.0452,-1329.383\"/>\n</g>\n<!-- 139638937272784 -->\n<g id=\"node260\" class=\"node\">\n<title>139638937272784</title>\n<polygon fill=\"#d3d3d3\" stroke=\"#000000\" points=\"1437,-1203.5 1342,-1203.5 1342,-1184.5 1437,-1184.5 1437,-1203.5\"/>\n<text text-anchor=\"middle\" x=\"1389.5\" y=\"-1191.5\" font-family=\"monospace\" font-size=\"10.00\" fill=\"#000000\">ReluBackward0</text>\n</g>\n<!-- 139638937272784&#45;&gt;139638937272464 -->\n<g id=\"edge275\" class=\"edge\">\n<title>139638937272784&#45;&gt;139638937272464</title>\n<path fill=\"none\" stroke=\"#000000\" d=\"M1372.1479,-1184.2796C1354.7494,-1174.5332 1327.7405,-1159.4032 1307.7259,-1148.1914\"/>\n<polygon fill=\"#000000\" stroke=\"#000000\" points=\"1309.244,-1145.03 1298.809,-1143.1962 1305.8228,-1151.1371 1309.244,-1145.03\"/>\n</g>\n<!-- 139638936620816 -->\n<g id=\"node261\" class=\"node\">\n<title>139638936620816</title>\n<polygon fill=\"#d3d3d3\" stroke=\"#000000\" points=\"1580,-1264 1455,-1264 1455,-1245 1580,-1245 1580,-1264\"/>\n<text text-anchor=\"middle\" x=\"1517.5\" y=\"-1252\" font-family=\"monospace\" font-size=\"10.00\" fill=\"#000000\">ThnnConv2DBackward</text>\n</g>\n<!-- 139638936620816&#45;&gt;139638937272784 -->\n<g id=\"edge276\" class=\"edge\">\n<title>139638936620816&#45;&gt;139638937272784</title>\n<path fill=\"none\" stroke=\"#000000\" d=\"M1497.218,-1244.9136C1476.1527,-1234.9569 1442.9832,-1219.2791 1419.0145,-1207.9502\"/>\n<polygon fill=\"#000000\" stroke=\"#000000\" points=\"1420.2237,-1204.6505 1409.6871,-1203.5416 1417.2324,-1210.9792 1420.2237,-1204.6505\"/>\n</g>\n<!-- 139638936699280 -->\n<g id=\"node262\" class=\"node\">\n<title>139638936699280</title>\n<polygon fill=\"#d3d3d3\" stroke=\"#000000\" points=\"1494,-1319 1399,-1319 1399,-1300 1494,-1300 1494,-1319\"/>\n<text text-anchor=\"middle\" x=\"1446.5\" y=\"-1307\" font-family=\"monospace\" font-size=\"10.00\" fill=\"#000000\">ReluBackward0</text>\n</g>\n<!-- 139638936699280&#45;&gt;139638936620816 -->\n<g id=\"edge277\" class=\"edge\">\n<title>139638936699280&#45;&gt;139638936620816</title>\n<path fill=\"none\" stroke=\"#000000\" d=\"M1458.8673,-1299.9197C1469.3263,-1291.8177 1484.5303,-1280.0399 1496.8349,-1270.5082\"/>\n<polygon fill=\"#000000\" stroke=\"#000000\" points=\"1499.0343,-1273.2318 1504.7964,-1264.3408 1494.7475,-1267.6979 1499.0343,-1273.2318\"/>\n</g>\n<!-- 139638936699536&#45;&gt;139638936699280 -->\n<g id=\"edge278\" class=\"edge\">\n<title>139638936699536&#45;&gt;139638936699280</title>\n<path fill=\"none\" stroke=\"#000000\" d=\"M1438.1067,-1360.2796C1439.4835,-1351.9499 1441.5102,-1339.688 1443.2272,-1329.3004\"/>\n<polygon fill=\"#000000\" stroke=\"#000000\" points=\"1446.6864,-1329.8342 1444.8641,-1319.3972 1439.7801,-1328.6926 1446.6864,-1329.8342\"/>\n</g>\n<!-- 139638936699600 -->\n<g id=\"node264\" class=\"node\">\n<title>139638936699600</title>\n<polygon fill=\"#d3d3d3\" stroke=\"#000000\" points=\"1640,-1319 1539,-1319 1539,-1300 1640,-1300 1640,-1319\"/>\n<text text-anchor=\"middle\" x=\"1589.5\" y=\"-1307\" font-family=\"monospace\" font-size=\"10.00\" fill=\"#000000\">AccumulateGrad</text>\n</g>\n<!-- 139638936699600&#45;&gt;139638936620816 -->\n<g id=\"edge280\" class=\"edge\">\n<title>139638936699600&#45;&gt;139638936620816</title>\n<path fill=\"none\" stroke=\"#000000\" d=\"M1576.9586,-1299.9197C1566.3522,-1291.8177 1550.9341,-1280.0399 1538.4561,-1270.5082\"/>\n<polygon fill=\"#000000\" stroke=\"#000000\" points=\"1540.4539,-1267.6299 1530.3825,-1264.3408 1536.2046,-1273.1926 1540.4539,-1267.6299\"/>\n</g>\n<!-- 139638936923024 -->\n<g id=\"node265\" class=\"node\">\n<title>139638936923024</title>\n<polygon fill=\"#add8e6\" stroke=\"#000000\" points=\"1666,-1385 1547,-1385 1547,-1355 1666,-1355 1666,-1385\"/>\n<text text-anchor=\"middle\" x=\"1606.5\" y=\"-1373\" font-family=\"monospace\" font-size=\"10.00\" fill=\"#000000\">3.3.Root4b.weight</text>\n<text text-anchor=\"middle\" x=\"1606.5\" y=\"-1362\" font-family=\"monospace\" font-size=\"10.00\" fill=\"#000000\"> (64, 512, 1, 1)</text>\n</g>\n<!-- 139638936923024&#45;&gt;139638936699600 -->\n<g id=\"edge281\" class=\"edge\">\n<title>139638936923024&#45;&gt;139638936699600</title>\n<path fill=\"none\" stroke=\"#000000\" d=\"M1602.2102,-1354.7333C1599.997,-1346.8571 1597.2745,-1337.168 1594.9176,-1328.7803\"/>\n<polygon fill=\"#000000\" stroke=\"#000000\" points=\"1598.2684,-1327.7667 1592.1937,-1319.0864 1591.5294,-1329.6604 1598.2684,-1327.7667\"/>\n</g>\n<!-- 139638936699024 -->\n<g id=\"node266\" class=\"node\">\n<title>139638936699024</title>\n<polygon fill=\"#d3d3d3\" stroke=\"#000000\" points=\"1778,-1319 1677,-1319 1677,-1300 1778,-1300 1778,-1319\"/>\n<text text-anchor=\"middle\" x=\"1727.5\" y=\"-1307\" font-family=\"monospace\" font-size=\"10.00\" fill=\"#000000\">AccumulateGrad</text>\n</g>\n<!-- 139638936699024&#45;&gt;139638936620816 -->\n<g id=\"edge282\" class=\"edge\">\n<title>139638936699024&#45;&gt;139638936620816</title>\n<path fill=\"none\" stroke=\"#000000\" d=\"M1690.9208,-1299.9197C1655.6464,-1290.6812 1602.1243,-1276.6635 1563.8758,-1266.646\"/>\n<polygon fill=\"#000000\" stroke=\"#000000\" points=\"1564.5722,-1263.2105 1554.0117,-1264.0626 1562.7987,-1269.9821 1564.5722,-1263.2105\"/>\n</g>\n<!-- 139638936923344 -->\n<g id=\"node267\" class=\"node\">\n<title>139638936923344</title>\n<polygon fill=\"#add8e6\" stroke=\"#000000\" points=\"1791,-1385 1684,-1385 1684,-1355 1791,-1355 1791,-1385\"/>\n<text text-anchor=\"middle\" x=\"1737.5\" y=\"-1373\" font-family=\"monospace\" font-size=\"10.00\" fill=\"#000000\">3.3.Root4b.bias</text>\n<text text-anchor=\"middle\" x=\"1737.5\" y=\"-1362\" font-family=\"monospace\" font-size=\"10.00\" fill=\"#000000\"> (64)</text>\n</g>\n<!-- 139638936923344&#45;&gt;139638936699024 -->\n<g id=\"edge283\" class=\"edge\">\n<title>139638936923344&#45;&gt;139638936699024</title>\n<path fill=\"none\" stroke=\"#000000\" d=\"M1734.9766,-1354.7333C1733.6892,-1346.9447 1732.1088,-1337.3831 1730.7331,-1329.0604\"/>\n<polygon fill=\"#000000\" stroke=\"#000000\" points=\"1734.1685,-1328.3817 1729.0845,-1319.0864 1727.2622,-1329.5233 1734.1685,-1328.3817\"/>\n</g>\n<!-- 139638937272592 -->\n<g id=\"node268\" class=\"node\">\n<title>139638937272592</title>\n<polygon fill=\"#d3d3d3\" stroke=\"#000000\" points=\"1717,-1143 1616,-1143 1616,-1124 1717,-1124 1717,-1143\"/>\n<text text-anchor=\"middle\" x=\"1666.5\" y=\"-1131\" font-family=\"monospace\" font-size=\"10.00\" fill=\"#000000\">AccumulateGrad</text>\n</g>\n<!-- 139638937272592&#45;&gt;139638937233680 -->\n<g id=\"edge284\" class=\"edge\">\n<title>139638937272592&#45;&gt;139638937233680</title>\n<path fill=\"none\" stroke=\"#000000\" d=\"M1676.4614,-1123.7796C1685.8063,-1114.6608 1699.9806,-1100.8294 1711.1774,-1089.9035\"/>\n<polygon fill=\"#000000\" stroke=\"#000000\" points=\"1713.6446,-1092.3862 1718.3574,-1082.8972 1708.7558,-1087.3762 1713.6446,-1092.3862\"/>\n</g>\n<!-- 139638936923504 -->\n<g id=\"node269\" class=\"node\">\n<title>139638936923504</title>\n<polygon fill=\"#add8e6\" stroke=\"#000000\" points=\"1723,-1209 1604,-1209 1604,-1179 1723,-1179 1723,-1209\"/>\n<text text-anchor=\"middle\" x=\"1663.5\" y=\"-1197\" font-family=\"monospace\" font-size=\"10.00\" fill=\"#000000\">3.4.Root1a.weight</text>\n<text text-anchor=\"middle\" x=\"1663.5\" y=\"-1186\" font-family=\"monospace\" font-size=\"10.00\" fill=\"#000000\"> (256, 528, 1, 1)</text>\n</g>\n<!-- 139638936923504&#45;&gt;139638937272592 -->\n<g id=\"edge285\" class=\"edge\">\n<title>139638936923504&#45;&gt;139638937272592</title>\n<path fill=\"none\" stroke=\"#000000\" d=\"M1664.257,-1178.7333C1664.6389,-1171.0322 1665.1067,-1161.5977 1665.5161,-1153.3414\"/>\n<polygon fill=\"#000000\" stroke=\"#000000\" points=\"1669.025,-1153.2475 1666.0246,-1143.0864 1662.0336,-1152.9008 1669.025,-1153.2475\"/>\n</g>\n<!-- 139638937273424 -->\n<g id=\"node270\" class=\"node\">\n<title>139638937273424</title>\n<polygon fill=\"#d3d3d3\" stroke=\"#000000\" points=\"1841,-1143 1740,-1143 1740,-1124 1841,-1124 1841,-1143\"/>\n<text text-anchor=\"middle\" x=\"1790.5\" y=\"-1131\" font-family=\"monospace\" font-size=\"10.00\" fill=\"#000000\">AccumulateGrad</text>\n</g>\n<!-- 139638937273424&#45;&gt;139638937233680 -->\n<g id=\"edge286\" class=\"edge\">\n<title>139638937273424&#45;&gt;139638937233680</title>\n<path fill=\"none\" stroke=\"#000000\" d=\"M1780.5386,-1123.7796C1771.1937,-1114.6608 1757.0194,-1100.8294 1745.8226,-1089.9035\"/>\n<polygon fill=\"#000000\" stroke=\"#000000\" points=\"1748.2442,-1087.3762 1738.6426,-1082.8972 1743.3554,-1092.3862 1748.2442,-1087.3762\"/>\n</g>\n<!-- 139638936923664 -->\n<g id=\"node271\" class=\"node\">\n<title>139638936923664</title>\n<polygon fill=\"#add8e6\" stroke=\"#000000\" points=\"1848,-1209 1741,-1209 1741,-1179 1848,-1179 1848,-1209\"/>\n<text text-anchor=\"middle\" x=\"1794.5\" y=\"-1197\" font-family=\"monospace\" font-size=\"10.00\" fill=\"#000000\">3.4.Root1a.bias</text>\n<text text-anchor=\"middle\" x=\"1794.5\" y=\"-1186\" font-family=\"monospace\" font-size=\"10.00\" fill=\"#000000\"> (256)</text>\n</g>\n<!-- 139638936923664&#45;&gt;139638937273424 -->\n<g id=\"edge287\" class=\"edge\">\n<title>139638936923664&#45;&gt;139638937273424</title>\n<path fill=\"none\" stroke=\"#000000\" d=\"M1793.4906,-1178.7333C1792.9815,-1171.0322 1792.3577,-1161.5977 1791.8118,-1153.3414\"/>\n<polygon fill=\"#000000\" stroke=\"#000000\" points=\"1795.286,-1152.8337 1791.1338,-1143.0864 1788.3012,-1153.2956 1795.286,-1152.8337\"/>\n</g>\n<!-- 139638937233552 -->\n<g id=\"node272\" class=\"node\">\n<title>139638937233552</title>\n<polygon fill=\"#d3d3d3\" stroke=\"#000000\" points=\"924,-912 829,-912 829,-893 924,-893 924,-912\"/>\n<text text-anchor=\"middle\" x=\"876.5\" y=\"-900\" font-family=\"monospace\" font-size=\"10.00\" fill=\"#000000\">ReluBackward0</text>\n</g>\n<!-- 139638937233552&#45;&gt;139638937232208 -->\n<g id=\"edge288\" class=\"edge\">\n<title>139638937233552&#45;&gt;139638937232208</title>\n<path fill=\"none\" stroke=\"#000000\" d=\"M922.9183,-892.9803C976.381,-882.0159 1063.9814,-864.0504 1119.6403,-852.6356\"/>\n<polygon fill=\"#000000\" stroke=\"#000000\" points=\"1120.553,-856.0214 1129.6459,-850.5836 1119.1466,-849.1641 1120.553,-856.0214\"/>\n</g>\n<!-- 139638937272528 -->\n<g id=\"node273\" class=\"node\">\n<title>139638937272528</title>\n<polygon fill=\"#d3d3d3\" stroke=\"#000000\" points=\"722,-967 597,-967 597,-948 722,-948 722,-967\"/>\n<text text-anchor=\"middle\" x=\"659.5\" y=\"-955\" font-family=\"monospace\" font-size=\"10.00\" fill=\"#000000\">ThnnConv2DBackward</text>\n</g>\n<!-- 139638937272528&#45;&gt;139638937233552 -->\n<g id=\"edge289\" class=\"edge\">\n<title>139638937272528&#45;&gt;139638937233552</title>\n<path fill=\"none\" stroke=\"#000000\" d=\"M697.2985,-947.9197C733.8263,-938.6615 789.2903,-924.6038 828.8304,-914.5821\"/>\n<polygon fill=\"#000000\" stroke=\"#000000\" points=\"829.9377,-917.9123 838.7712,-912.0626 828.2178,-911.1268 829.9377,-917.9123\"/>\n</g>\n<!-- 139638937272400 -->\n<g id=\"node274\" class=\"node\">\n<title>139638937272400</title>\n<polygon fill=\"#d3d3d3\" stroke=\"#000000\" points=\"510,-1022 415,-1022 415,-1003 510,-1003 510,-1022\"/>\n<text text-anchor=\"middle\" x=\"462.5\" y=\"-1010\" font-family=\"monospace\" font-size=\"10.00\" fill=\"#000000\">ReluBackward0</text>\n</g>\n<!-- 139638937272400&#45;&gt;139638937272528 -->\n<g id=\"edge290\" class=\"edge\">\n<title>139638937272400&#45;&gt;139638937272528</title>\n<path fill=\"none\" stroke=\"#000000\" d=\"M496.8148,-1002.9197C529.7647,-993.7205 579.6873,-979.7827 615.5363,-969.7741\"/>\n<polygon fill=\"#000000\" stroke=\"#000000\" points=\"616.558,-973.1228 625.2485,-967.0626 614.6757,-966.3806 616.558,-973.1228\"/>\n</g>\n<!-- 139638936699920&#45;&gt;139638937272400 -->\n<g id=\"edge291\" class=\"edge\">\n<title>139638936699920&#45;&gt;139638937272400</title>\n<path fill=\"none\" stroke=\"#000000\" d=\"M454.946,-1063.2796C456.1851,-1054.9499 458.0092,-1042.688 459.5545,-1032.3004\"/>\n<polygon fill=\"#000000\" stroke=\"#000000\" points=\"463.0181,-1032.8034 461.0277,-1022.3972 456.0943,-1031.7734 463.0181,-1032.8034\"/>\n</g>\n<!-- 139638936699728 -->\n<g id=\"node276\" class=\"node\">\n<title>139638936699728</title>\n<polygon fill=\"#d3d3d3\" stroke=\"#000000\" points=\"439,-1143 338,-1143 338,-1124 439,-1124 439,-1143\"/>\n<text text-anchor=\"middle\" x=\"388.5\" y=\"-1131\" font-family=\"monospace\" font-size=\"10.00\" fill=\"#000000\">AccumulateGrad</text>\n</g>\n<!-- 139638936699728&#45;&gt;139638936699920 -->\n<g id=\"edge293\" class=\"edge\">\n<title>139638936699728&#45;&gt;139638936699920</title>\n<path fill=\"none\" stroke=\"#000000\" d=\"M398.9434,-1123.7796C408.7404,-1114.6608 423.6006,-1100.8294 435.3392,-1089.9035\"/>\n<polygon fill=\"#000000\" stroke=\"#000000\" points=\"437.9313,-1092.2724 442.8666,-1082.8972 433.1621,-1087.1484 437.9313,-1092.2724\"/>\n</g>\n<!-- 139638936923824 -->\n<g id=\"node277\" class=\"node\">\n<title>139638936923824</title>\n<polygon fill=\"#add8e6\" stroke=\"#000000\" points=\"442,-1209 323,-1209 323,-1179 442,-1179 442,-1209\"/>\n<text text-anchor=\"middle\" x=\"382.5\" y=\"-1197\" font-family=\"monospace\" font-size=\"10.00\" fill=\"#000000\">3.4.Root2a.weight</text>\n<text text-anchor=\"middle\" x=\"382.5\" y=\"-1186\" font-family=\"monospace\" font-size=\"10.00\" fill=\"#000000\"> (160, 528, 1, 1)</text>\n</g>\n<!-- 139638936923824&#45;&gt;139638936699728 -->\n<g id=\"edge294\" class=\"edge\">\n<title>139638936923824&#45;&gt;139638936699728</title>\n<path fill=\"none\" stroke=\"#000000\" d=\"M384.0141,-1178.7333C384.7865,-1170.9447 385.7347,-1161.3831 386.5601,-1153.0604\"/>\n<polygon fill=\"#000000\" stroke=\"#000000\" points=\"390.0452,-1153.383 387.5493,-1143.0864 383.0794,-1152.6921 390.0452,-1153.383\"/>\n</g>\n<!-- 139638936700048 -->\n<g id=\"node278\" class=\"node\">\n<title>139638936700048</title>\n<polygon fill=\"#d3d3d3\" stroke=\"#000000\" points=\"561,-1143 460,-1143 460,-1124 561,-1124 561,-1143\"/>\n<text text-anchor=\"middle\" x=\"510.5\" y=\"-1131\" font-family=\"monospace\" font-size=\"10.00\" fill=\"#000000\">AccumulateGrad</text>\n</g>\n<!-- 139638936700048&#45;&gt;139638936699920 -->\n<g id=\"edge295\" class=\"edge\">\n<title>139638936700048&#45;&gt;139638936699920</title>\n<path fill=\"none\" stroke=\"#000000\" d=\"M501.342,-1123.7796C492.8333,-1114.7485 479.9697,-1101.095 469.7233,-1090.2195\"/>\n<polygon fill=\"#000000\" stroke=\"#000000\" points=\"472.2296,-1087.7756 462.8247,-1082.8972 467.1346,-1092.5758 472.2296,-1087.7756\"/>\n</g>\n<!-- 139638936923984 -->\n<g id=\"node279\" class=\"node\">\n<title>139638936923984</title>\n<polygon fill=\"#add8e6\" stroke=\"#000000\" points=\"567,-1209 460,-1209 460,-1179 567,-1179 567,-1209\"/>\n<text text-anchor=\"middle\" x=\"513.5\" y=\"-1197\" font-family=\"monospace\" font-size=\"10.00\" fill=\"#000000\">3.4.Root2a.bias</text>\n<text text-anchor=\"middle\" x=\"513.5\" y=\"-1186\" font-family=\"monospace\" font-size=\"10.00\" fill=\"#000000\"> (160)</text>\n</g>\n<!-- 139638936923984&#45;&gt;139638936700048 -->\n<g id=\"edge296\" class=\"edge\">\n<title>139638936923984&#45;&gt;139638936700048</title>\n<path fill=\"none\" stroke=\"#000000\" d=\"M512.743,-1178.7333C512.3611,-1171.0322 511.8933,-1161.5977 511.4839,-1153.3414\"/>\n<polygon fill=\"#000000\" stroke=\"#000000\" points=\"514.9664,-1152.9008 510.9754,-1143.0864 507.975,-1153.2475 514.9664,-1152.9008\"/>\n</g>\n<!-- 139638936699856 -->\n<g id=\"node280\" class=\"node\">\n<title>139638936699856</title>\n<polygon fill=\"#d3d3d3\" stroke=\"#000000\" points=\"647,-1022 546,-1022 546,-1003 647,-1003 647,-1022\"/>\n<text text-anchor=\"middle\" x=\"596.5\" y=\"-1010\" font-family=\"monospace\" font-size=\"10.00\" fill=\"#000000\">AccumulateGrad</text>\n</g>\n<!-- 139638936699856&#45;&gt;139638937272528 -->\n<g id=\"edge297\" class=\"edge\">\n<title>139638936699856&#45;&gt;139638937272528</title>\n<path fill=\"none\" stroke=\"#000000\" d=\"M607.4738,-1002.9197C616.5758,-994.9735 629.7279,-983.4916 640.5307,-974.0605\"/>\n<polygon fill=\"#000000\" stroke=\"#000000\" points=\"642.9964,-976.5541 648.2278,-967.3408 638.3928,-971.2808 642.9964,-976.5541\"/>\n</g>\n<!-- 139638936997968 -->\n<g id=\"node281\" class=\"node\">\n<title>139638936997968</title>\n<polygon fill=\"#add8e6\" stroke=\"#000000\" points=\"653,-1088 534,-1088 534,-1058 653,-1058 653,-1088\"/>\n<text text-anchor=\"middle\" x=\"593.5\" y=\"-1076\" font-family=\"monospace\" font-size=\"10.00\" fill=\"#000000\">3.4.Root2b.weight</text>\n<text text-anchor=\"middle\" x=\"593.5\" y=\"-1065\" font-family=\"monospace\" font-size=\"10.00\" fill=\"#000000\"> (320, 160, 3, 3)</text>\n</g>\n<!-- 139638936997968&#45;&gt;139638936699856 -->\n<g id=\"edge298\" class=\"edge\">\n<title>139638936997968&#45;&gt;139638936699856</title>\n<path fill=\"none\" stroke=\"#000000\" d=\"M594.257,-1057.7333C594.6389,-1050.0322 595.1067,-1040.5977 595.5161,-1032.3414\"/>\n<polygon fill=\"#000000\" stroke=\"#000000\" points=\"599.025,-1032.2475 596.0246,-1022.0864 592.0336,-1031.9008 599.025,-1032.2475\"/>\n</g>\n<!-- 139638936699408 -->\n<g id=\"node282\" class=\"node\">\n<title>139638936699408</title>\n<polygon fill=\"#d3d3d3\" stroke=\"#000000\" points=\"772,-1022 671,-1022 671,-1003 772,-1003 772,-1022\"/>\n<text text-anchor=\"middle\" x=\"721.5\" y=\"-1010\" font-family=\"monospace\" font-size=\"10.00\" fill=\"#000000\">AccumulateGrad</text>\n</g>\n<!-- 139638936699408&#45;&gt;139638937272528 -->\n<g id=\"edge299\" class=\"edge\">\n<title>139638936699408&#45;&gt;139638937272528</title>\n<path fill=\"none\" stroke=\"#000000\" d=\"M710.7004,-1002.9197C701.7428,-994.9735 688.7996,-983.4916 678.1682,-974.0605\"/>\n<polygon fill=\"#000000\" stroke=\"#000000\" points=\"680.3967,-971.3587 670.5933,-967.3408 675.7514,-976.5953 680.3967,-971.3587\"/>\n</g>\n<!-- 139638936998048 -->\n<g id=\"node283\" class=\"node\">\n<title>139638936998048</title>\n<polygon fill=\"#add8e6\" stroke=\"#000000\" points=\"778,-1088 671,-1088 671,-1058 778,-1058 778,-1088\"/>\n<text text-anchor=\"middle\" x=\"724.5\" y=\"-1076\" font-family=\"monospace\" font-size=\"10.00\" fill=\"#000000\">3.4.Root2b.bias</text>\n<text text-anchor=\"middle\" x=\"724.5\" y=\"-1065\" font-family=\"monospace\" font-size=\"10.00\" fill=\"#000000\"> (320)</text>\n</g>\n<!-- 139638936998048&#45;&gt;139638936699408 -->\n<g id=\"edge300\" class=\"edge\">\n<title>139638936998048&#45;&gt;139638936699408</title>\n<path fill=\"none\" stroke=\"#000000\" d=\"M723.743,-1057.7333C723.3611,-1050.0322 722.8933,-1040.5977 722.4839,-1032.3414\"/>\n<polygon fill=\"#000000\" stroke=\"#000000\" points=\"725.9664,-1031.9008 721.9754,-1022.0864 718.975,-1032.2475 725.9664,-1031.9008\"/>\n</g>\n<!-- 139638937233488 -->\n<g id=\"node284\" class=\"node\">\n<title>139638937233488</title>\n<polygon fill=\"#d3d3d3\" stroke=\"#000000\" points=\"1117,-912 1022,-912 1022,-893 1117,-893 1117,-912\"/>\n<text text-anchor=\"middle\" x=\"1069.5\" y=\"-900\" font-family=\"monospace\" font-size=\"10.00\" fill=\"#000000\">ReluBackward0</text>\n</g>\n<!-- 139638937233488&#45;&gt;139638937232208 -->\n<g id=\"edge301\" class=\"edge\">\n<title>139638937233488&#45;&gt;139638937232208</title>\n<path fill=\"none\" stroke=\"#000000\" d=\"M1085.8881,-892.7796C1102.2457,-883.0773 1127.5978,-868.04 1146.4741,-856.8438\"/>\n<polygon fill=\"#000000\" stroke=\"#000000\" points=\"1148.3373,-859.8081 1155.1526,-851.6962 1144.7662,-853.7875 1148.3373,-859.8081\"/>\n</g>\n<!-- 139638937272720 -->\n<g id=\"node285\" class=\"node\">\n<title>139638937272720</title>\n<polygon fill=\"#d3d3d3\" stroke=\"#000000\" points=\"1108,-967 941,-967 941,-948 1108,-948 1108,-967\"/>\n<text text-anchor=\"middle\" x=\"1024.5\" y=\"-955\" font-family=\"monospace\" font-size=\"10.00\" fill=\"#000000\">MkldnnConvolutionBackward</text>\n</g>\n<!-- 139638937272720&#45;&gt;139638937233488 -->\n<g id=\"edge302\" class=\"edge\">\n<title>139638937272720&#45;&gt;139638937233488</title>\n<path fill=\"none\" stroke=\"#000000\" d=\"M1032.3384,-947.9197C1038.5849,-940.2851 1047.5018,-929.3867 1055.0352,-920.1792\"/>\n<polygon fill=\"#000000\" stroke=\"#000000\" points=\"1057.8249,-922.2968 1061.4484,-912.3408 1052.4071,-917.8641 1057.8249,-922.2968\"/>\n</g>\n<!-- 139638936699664 -->\n<g id=\"node286\" class=\"node\">\n<title>139638936699664</title>\n<polygon fill=\"#d3d3d3\" stroke=\"#000000\" points=\"921,-1022 826,-1022 826,-1003 921,-1003 921,-1022\"/>\n<text text-anchor=\"middle\" x=\"873.5\" y=\"-1010\" font-family=\"monospace\" font-size=\"10.00\" fill=\"#000000\">ReluBackward0</text>\n</g>\n<!-- 139638936699664&#45;&gt;139638937272720 -->\n<g id=\"edge303\" class=\"edge\">\n<title>139638936699664&#45;&gt;139638937272720</title>\n<path fill=\"none\" stroke=\"#000000\" d=\"M899.8022,-1002.9197C924.4106,-993.9564 961.37,-980.4944 988.6673,-970.5516\"/>\n<polygon fill=\"#000000\" stroke=\"#000000\" points=\"990.0481,-973.7737 998.2463,-967.0626 987.6523,-967.1964 990.0481,-973.7737\"/>\n</g>\n<!-- 139638936700112&#45;&gt;139638936699664 -->\n<g id=\"edge304\" class=\"edge\">\n<title>139638936700112&#45;&gt;139638936699664</title>\n<path fill=\"none\" stroke=\"#000000\" d=\"M860.91,-1063.2796C862.9752,-1054.9499 866.0154,-1042.688 868.5908,-1032.3004\"/>\n<polygon fill=\"#000000\" stroke=\"#000000\" points=\"872.0367,-1032.9457 871.0461,-1022.3972 865.2424,-1031.2611 872.0367,-1032.9457\"/>\n</g>\n<!-- 139638936700368 -->\n<g id=\"node288\" class=\"node\">\n<title>139638936700368</title>\n<polygon fill=\"#d3d3d3\" stroke=\"#000000\" points=\"835,-1143 734,-1143 734,-1124 835,-1124 835,-1143\"/>\n<text text-anchor=\"middle\" x=\"784.5\" y=\"-1131\" font-family=\"monospace\" font-size=\"10.00\" fill=\"#000000\">AccumulateGrad</text>\n</g>\n<!-- 139638936700368&#45;&gt;139638936700112 -->\n<g id=\"edge306\" class=\"edge\">\n<title>139638936700368&#45;&gt;139638936700112</title>\n<path fill=\"none\" stroke=\"#000000\" d=\"M796.3894,-1123.7796C807.7575,-1114.4855 825.1135,-1100.2957 838.5916,-1089.2765\"/>\n<polygon fill=\"#000000\" stroke=\"#000000\" points=\"840.8677,-1091.9365 846.3943,-1082.8972 836.437,-1086.5171 840.8677,-1091.9365\"/>\n</g>\n<!-- 139638936998128 -->\n<g id=\"node289\" class=\"node\">\n<title>139638936998128</title>\n<polygon fill=\"#add8e6\" stroke=\"#000000\" points=\"841,-1209 722,-1209 722,-1179 841,-1179 841,-1209\"/>\n<text text-anchor=\"middle\" x=\"781.5\" y=\"-1197\" font-family=\"monospace\" font-size=\"10.00\" fill=\"#000000\">3.4.Root3a.weight</text>\n<text text-anchor=\"middle\" x=\"781.5\" y=\"-1186\" font-family=\"monospace\" font-size=\"10.00\" fill=\"#000000\"> (32, 528, 1, 1)</text>\n</g>\n<!-- 139638936998128&#45;&gt;139638936700368 -->\n<g id=\"edge307\" class=\"edge\">\n<title>139638936998128&#45;&gt;139638936700368</title>\n<path fill=\"none\" stroke=\"#000000\" d=\"M782.257,-1178.7333C782.6389,-1171.0322 783.1067,-1161.5977 783.5161,-1153.3414\"/>\n<polygon fill=\"#000000\" stroke=\"#000000\" points=\"787.025,-1153.2475 784.0246,-1143.0864 780.0336,-1152.9008 787.025,-1153.2475\"/>\n</g>\n<!-- 139638936700496 -->\n<g id=\"node290\" class=\"node\">\n<title>139638936700496</title>\n<polygon fill=\"#d3d3d3\" stroke=\"#000000\" points=\"957,-1143 856,-1143 856,-1124 957,-1124 957,-1143\"/>\n<text text-anchor=\"middle\" x=\"906.5\" y=\"-1131\" font-family=\"monospace\" font-size=\"10.00\" fill=\"#000000\">AccumulateGrad</text>\n</g>\n<!-- 139638936700496&#45;&gt;139638936700112 -->\n<g id=\"edge308\" class=\"edge\">\n<title>139638936700496&#45;&gt;139638936700112</title>\n<path fill=\"none\" stroke=\"#000000\" d=\"M898.788,-1123.7796C891.7619,-1114.9239 881.2095,-1101.6235 872.6668,-1090.8561\"/>\n<polygon fill=\"#000000\" stroke=\"#000000\" points=\"875.3096,-1088.5558 866.3524,-1082.8972 869.8258,-1092.9065 875.3096,-1088.5558\"/>\n</g>\n<!-- 139638936998288 -->\n<g id=\"node291\" class=\"node\">\n<title>139638936998288</title>\n<polygon fill=\"#add8e6\" stroke=\"#000000\" points=\"966,-1209 859,-1209 859,-1179 966,-1179 966,-1209\"/>\n<text text-anchor=\"middle\" x=\"912.5\" y=\"-1197\" font-family=\"monospace\" font-size=\"10.00\" fill=\"#000000\">3.4.Root3a.bias</text>\n<text text-anchor=\"middle\" x=\"912.5\" y=\"-1186\" font-family=\"monospace\" font-size=\"10.00\" fill=\"#000000\"> (32)</text>\n</g>\n<!-- 139638936998288&#45;&gt;139638936700496 -->\n<g id=\"edge309\" class=\"edge\">\n<title>139638936998288&#45;&gt;139638936700496</title>\n<path fill=\"none\" stroke=\"#000000\" d=\"M910.9859,-1178.7333C910.2135,-1170.9447 909.2653,-1161.3831 908.4399,-1153.0604\"/>\n<polygon fill=\"#000000\" stroke=\"#000000\" points=\"911.9206,-1152.6921 907.4507,-1143.0864 904.9548,-1153.383 911.9206,-1152.6921\"/>\n</g>\n<!-- 139638936700176 -->\n<g id=\"node292\" class=\"node\">\n<title>139638936700176</title>\n<polygon fill=\"#d3d3d3\" stroke=\"#000000\" points=\"1052,-1022 951,-1022 951,-1003 1052,-1003 1052,-1022\"/>\n<text text-anchor=\"middle\" x=\"1001.5\" y=\"-1010\" font-family=\"monospace\" font-size=\"10.00\" fill=\"#000000\">AccumulateGrad</text>\n</g>\n<!-- 139638936700176&#45;&gt;139638937272720 -->\n<g id=\"edge310\" class=\"edge\">\n<title>139638936700176&#45;&gt;139638937272720</title>\n<path fill=\"none\" stroke=\"#000000\" d=\"M1005.5063,-1002.9197C1008.5361,-995.6746 1012.795,-985.4903 1016.5123,-976.601\"/>\n<polygon fill=\"#000000\" stroke=\"#000000\" points=\"1019.7557,-977.917 1020.3847,-967.3408 1013.2976,-975.2163 1019.7557,-977.917\"/>\n</g>\n<!-- 139638936998208 -->\n<g id=\"node293\" class=\"node\">\n<title>139638936998208</title>\n<polygon fill=\"#add8e6\" stroke=\"#000000\" points=\"1058,-1088 939,-1088 939,-1058 1058,-1058 1058,-1088\"/>\n<text text-anchor=\"middle\" x=\"998.5\" y=\"-1076\" font-family=\"monospace\" font-size=\"10.00\" fill=\"#000000\">3.4.Root3b.weight</text>\n<text text-anchor=\"middle\" x=\"998.5\" y=\"-1065\" font-family=\"monospace\" font-size=\"10.00\" fill=\"#000000\"> (128, 32, 5, 5)</text>\n</g>\n<!-- 139638936998208&#45;&gt;139638936700176 -->\n<g id=\"edge311\" class=\"edge\">\n<title>139638936998208&#45;&gt;139638936700176</title>\n<path fill=\"none\" stroke=\"#000000\" d=\"M999.257,-1057.7333C999.6389,-1050.0322 1000.1067,-1040.5977 1000.5161,-1032.3414\"/>\n<polygon fill=\"#000000\" stroke=\"#000000\" points=\"1004.025,-1032.2475 1001.0246,-1022.0864 997.0336,-1031.9008 1004.025,-1032.2475\"/>\n</g>\n<!-- 139638936699216 -->\n<g id=\"node294\" class=\"node\">\n<title>139638936699216</title>\n<polygon fill=\"#d3d3d3\" stroke=\"#000000\" points=\"1174,-1022 1073,-1022 1073,-1003 1174,-1003 1174,-1022\"/>\n<text text-anchor=\"middle\" x=\"1123.5\" y=\"-1010\" font-family=\"monospace\" font-size=\"10.00\" fill=\"#000000\">AccumulateGrad</text>\n</g>\n<!-- 139638936699216&#45;&gt;139638937272720 -->\n<g id=\"edge312\" class=\"edge\">\n<title>139638936699216&#45;&gt;139638937272720</title>\n<path fill=\"none\" stroke=\"#000000\" d=\"M1106.2555,-1002.9197C1091.0174,-994.4541 1068.556,-981.9755 1051.0304,-972.2391\"/>\n<polygon fill=\"#000000\" stroke=\"#000000\" points=\"1052.3204,-968.9519 1041.879,-967.155 1048.9209,-975.0711 1052.3204,-968.9519\"/>\n</g>\n<!-- 139638936998528 -->\n<g id=\"node295\" class=\"node\">\n<title>139638936998528</title>\n<polygon fill=\"#add8e6\" stroke=\"#000000\" points=\"1183,-1088 1076,-1088 1076,-1058 1183,-1058 1183,-1088\"/>\n<text text-anchor=\"middle\" x=\"1129.5\" y=\"-1076\" font-family=\"monospace\" font-size=\"10.00\" fill=\"#000000\">3.4.Root3b.bias</text>\n<text text-anchor=\"middle\" x=\"1129.5\" y=\"-1065\" font-family=\"monospace\" font-size=\"10.00\" fill=\"#000000\"> (128)</text>\n</g>\n<!-- 139638936998528&#45;&gt;139638936699216 -->\n<g id=\"edge313\" class=\"edge\">\n<title>139638936998528&#45;&gt;139638936699216</title>\n<path fill=\"none\" stroke=\"#000000\" d=\"M1127.9859,-1057.7333C1127.2135,-1049.9447 1126.2653,-1040.3831 1125.4399,-1032.0604\"/>\n<polygon fill=\"#000000\" stroke=\"#000000\" points=\"1128.9206,-1031.6921 1124.4507,-1022.0864 1121.9548,-1032.383 1128.9206,-1031.6921\"/>\n</g>\n<!-- 139638937233616 -->\n<g id=\"node296\" class=\"node\">\n<title>139638937233616</title>\n<polygon fill=\"#d3d3d3\" stroke=\"#000000\" points=\"1321,-912 1226,-912 1226,-893 1321,-893 1321,-912\"/>\n<text text-anchor=\"middle\" x=\"1273.5\" y=\"-900\" font-family=\"monospace\" font-size=\"10.00\" fill=\"#000000\">ReluBackward0</text>\n</g>\n<!-- 139638937233616&#45;&gt;139638937232208 -->\n<g id=\"edge314\" class=\"edge\">\n<title>139638937233616&#45;&gt;139638937232208</title>\n<path fill=\"none\" stroke=\"#000000\" d=\"M1257.1119,-892.7796C1240.7543,-883.0773 1215.4022,-868.04 1196.5259,-856.8438\"/>\n<polygon fill=\"#000000\" stroke=\"#000000\" points=\"1198.2338,-853.7875 1187.8474,-851.6962 1194.6627,-859.8081 1198.2338,-853.7875\"/>\n</g>\n<!-- 139638936699792 -->\n<g id=\"node297\" class=\"node\">\n<title>139638936699792</title>\n<polygon fill=\"#d3d3d3\" stroke=\"#000000\" points=\"1437,-967 1312,-967 1312,-948 1437,-948 1437,-967\"/>\n<text text-anchor=\"middle\" x=\"1374.5\" y=\"-955\" font-family=\"monospace\" font-size=\"10.00\" fill=\"#000000\">ThnnConv2DBackward</text>\n</g>\n<!-- 139638936699792&#45;&gt;139638937233616 -->\n<g id=\"edge315\" class=\"edge\">\n<title>139638936699792&#45;&gt;139638937233616</title>\n<path fill=\"none\" stroke=\"#000000\" d=\"M1356.9071,-947.9197C1341.2172,-939.3757 1318.021,-926.7441 1300.0711,-916.9694\"/>\n<polygon fill=\"#000000\" stroke=\"#000000\" points=\"1301.6863,-913.8637 1291.2301,-912.155 1298.3386,-920.0113 1301.6863,-913.8637\"/>\n</g>\n<!-- 139638936700304 -->\n<g id=\"node298\" class=\"node\">\n<title>139638936700304</title>\n<polygon fill=\"#d3d3d3\" stroke=\"#000000\" points=\"1351,-1022 1256,-1022 1256,-1003 1351,-1003 1351,-1022\"/>\n<text text-anchor=\"middle\" x=\"1303.5\" y=\"-1010\" font-family=\"monospace\" font-size=\"10.00\" fill=\"#000000\">ReluBackward0</text>\n</g>\n<!-- 139638936700304&#45;&gt;139638936699792 -->\n<g id=\"edge316\" class=\"edge\">\n<title>139638936700304&#45;&gt;139638936699792</title>\n<path fill=\"none\" stroke=\"#000000\" d=\"M1315.8673,-1002.9197C1326.3263,-994.8177 1341.5303,-983.0399 1353.8349,-973.5082\"/>\n<polygon fill=\"#000000\" stroke=\"#000000\" points=\"1356.0343,-976.2318 1361.7964,-967.3408 1351.7475,-970.6979 1356.0343,-976.2318\"/>\n</g>\n<!-- 139638936700560&#45;&gt;139638936700304 -->\n<g id=\"edge317\" class=\"edge\">\n<title>139638936700560&#45;&gt;139638936700304</title>\n<path fill=\"none\" stroke=\"#000000\" d=\"M1295.1067,-1063.2796C1296.4835,-1054.9499 1298.5102,-1042.688 1300.2272,-1032.3004\"/>\n<polygon fill=\"#000000\" stroke=\"#000000\" points=\"1303.6864,-1032.8342 1301.8641,-1022.3972 1296.7801,-1031.6926 1303.6864,-1032.8342\"/>\n</g>\n<!-- 139638936700624 -->\n<g id=\"node300\" class=\"node\">\n<title>139638936700624</title>\n<polygon fill=\"#d3d3d3\" stroke=\"#000000\" points=\"1497,-1022 1396,-1022 1396,-1003 1497,-1003 1497,-1022\"/>\n<text text-anchor=\"middle\" x=\"1446.5\" y=\"-1010\" font-family=\"monospace\" font-size=\"10.00\" fill=\"#000000\">AccumulateGrad</text>\n</g>\n<!-- 139638936700624&#45;&gt;139638936699792 -->\n<g id=\"edge319\" class=\"edge\">\n<title>139638936700624&#45;&gt;139638936699792</title>\n<path fill=\"none\" stroke=\"#000000\" d=\"M1433.9586,-1002.9197C1423.3522,-994.8177 1407.9341,-983.0399 1395.4561,-973.5082\"/>\n<polygon fill=\"#000000\" stroke=\"#000000\" points=\"1397.4539,-970.6299 1387.3825,-967.3408 1393.2046,-976.1926 1397.4539,-970.6299\"/>\n</g>\n<!-- 139638936998448 -->\n<g id=\"node301\" class=\"node\">\n<title>139638936998448</title>\n<polygon fill=\"#add8e6\" stroke=\"#000000\" points=\"1523,-1088 1404,-1088 1404,-1058 1523,-1058 1523,-1088\"/>\n<text text-anchor=\"middle\" x=\"1463.5\" y=\"-1076\" font-family=\"monospace\" font-size=\"10.00\" fill=\"#000000\">3.4.Root4b.weight</text>\n<text text-anchor=\"middle\" x=\"1463.5\" y=\"-1065\" font-family=\"monospace\" font-size=\"10.00\" fill=\"#000000\"> (128, 528, 1, 1)</text>\n</g>\n<!-- 139638936998448&#45;&gt;139638936700624 -->\n<g id=\"edge320\" class=\"edge\">\n<title>139638936998448&#45;&gt;139638936700624</title>\n<path fill=\"none\" stroke=\"#000000\" d=\"M1459.2102,-1057.7333C1456.997,-1049.8571 1454.2745,-1040.168 1451.9176,-1031.7803\"/>\n<polygon fill=\"#000000\" stroke=\"#000000\" points=\"1455.2684,-1030.7667 1449.1937,-1022.0864 1448.5294,-1032.6604 1455.2684,-1030.7667\"/>\n</g>\n<!-- 139638936699984 -->\n<g id=\"node302\" class=\"node\">\n<title>139638936699984</title>\n<polygon fill=\"#d3d3d3\" stroke=\"#000000\" points=\"1635,-1022 1534,-1022 1534,-1003 1635,-1003 1635,-1022\"/>\n<text text-anchor=\"middle\" x=\"1584.5\" y=\"-1010\" font-family=\"monospace\" font-size=\"10.00\" fill=\"#000000\">AccumulateGrad</text>\n</g>\n<!-- 139638936699984&#45;&gt;139638936699792 -->\n<g id=\"edge321\" class=\"edge\">\n<title>139638936699984&#45;&gt;139638936699792</title>\n<path fill=\"none\" stroke=\"#000000\" d=\"M1547.9208,-1002.9197C1512.6464,-993.6812 1459.1243,-979.6635 1420.8758,-969.646\"/>\n<polygon fill=\"#000000\" stroke=\"#000000\" points=\"1421.5722,-966.2105 1411.0117,-967.0626 1419.7987,-972.9821 1421.5722,-966.2105\"/>\n</g>\n<!-- 139638936998768 -->\n<g id=\"node303\" class=\"node\">\n<title>139638936998768</title>\n<polygon fill=\"#add8e6\" stroke=\"#000000\" points=\"1648,-1088 1541,-1088 1541,-1058 1648,-1058 1648,-1088\"/>\n<text text-anchor=\"middle\" x=\"1594.5\" y=\"-1076\" font-family=\"monospace\" font-size=\"10.00\" fill=\"#000000\">3.4.Root4b.bias</text>\n<text text-anchor=\"middle\" x=\"1594.5\" y=\"-1065\" font-family=\"monospace\" font-size=\"10.00\" fill=\"#000000\"> (128)</text>\n</g>\n<!-- 139638936998768&#45;&gt;139638936699984 -->\n<g id=\"edge322\" class=\"edge\">\n<title>139638936998768&#45;&gt;139638936699984</title>\n<path fill=\"none\" stroke=\"#000000\" d=\"M1591.9766,-1057.7333C1590.6892,-1049.9447 1589.1088,-1040.3831 1587.7331,-1032.0604\"/>\n<polygon fill=\"#000000\" stroke=\"#000000\" points=\"1591.1685,-1031.3817 1586.0845,-1022.0864 1584.2622,-1032.5233 1591.1685,-1031.3817\"/>\n</g>\n<!-- 139638937232528 -->\n<g id=\"node304\" class=\"node\">\n<title>139638937232528</title>\n<polygon fill=\"#d3d3d3\" stroke=\"#000000\" points=\"1757,-791 1656,-791 1656,-772 1757,-772 1757,-791\"/>\n<text text-anchor=\"middle\" x=\"1706.5\" y=\"-779\" font-family=\"monospace\" font-size=\"10.00\" fill=\"#000000\">AccumulateGrad</text>\n</g>\n<!-- 139638937232528&#45;&gt;139638937232656 -->\n<g id=\"edge323\" class=\"edge\">\n<title>139638937232528&#45;&gt;139638937232656</title>\n<path fill=\"none\" stroke=\"#000000\" d=\"M1696.5386,-771.7796C1687.1937,-762.6608 1673.0194,-748.8294 1661.8226,-737.9035\"/>\n<polygon fill=\"#000000\" stroke=\"#000000\" points=\"1664.2442,-735.3762 1654.6426,-730.8972 1659.3554,-740.3862 1664.2442,-735.3762\"/>\n</g>\n<!-- 139638936999488 -->\n<g id=\"node305\" class=\"node\">\n<title>139638936999488</title>\n<polygon fill=\"#add8e6\" stroke=\"#000000\" points=\"1769,-857 1650,-857 1650,-827 1769,-827 1769,-857\"/>\n<text text-anchor=\"middle\" x=\"1709.5\" y=\"-845\" font-family=\"monospace\" font-size=\"10.00\" fill=\"#000000\">4.0.Root1a.weight</text>\n<text text-anchor=\"middle\" x=\"1709.5\" y=\"-834\" font-family=\"monospace\" font-size=\"10.00\" fill=\"#000000\"> (256, 832, 1, 1)</text>\n</g>\n<!-- 139638936999488&#45;&gt;139638937232528 -->\n<g id=\"edge324\" class=\"edge\">\n<title>139638936999488&#45;&gt;139638937232528</title>\n<path fill=\"none\" stroke=\"#000000\" d=\"M1708.743,-826.7333C1708.3611,-819.0322 1707.8933,-809.5977 1707.4839,-801.3414\"/>\n<polygon fill=\"#000000\" stroke=\"#000000\" points=\"1710.9664,-800.9008 1706.9754,-791.0864 1703.975,-801.2475 1710.9664,-800.9008\"/>\n</g>\n<!-- 139638937232720 -->\n<g id=\"node306\" class=\"node\">\n<title>139638937232720</title>\n<polygon fill=\"#d3d3d3\" stroke=\"#000000\" points=\"1632,-791 1531,-791 1531,-772 1632,-772 1632,-791\"/>\n<text text-anchor=\"middle\" x=\"1581.5\" y=\"-779\" font-family=\"monospace\" font-size=\"10.00\" fill=\"#000000\">AccumulateGrad</text>\n</g>\n<!-- 139638937232720&#45;&gt;139638937232656 -->\n<g id=\"edge325\" class=\"edge\">\n<title>139638937232720&#45;&gt;139638937232656</title>\n<path fill=\"none\" stroke=\"#000000\" d=\"M1591.622,-771.7796C1601.1177,-762.6608 1615.5206,-748.8294 1626.898,-737.9035\"/>\n<polygon fill=\"#000000\" stroke=\"#000000\" points=\"1629.4053,-740.3482 1634.1938,-730.8972 1624.5567,-735.2993 1629.4053,-740.3482\"/>\n</g>\n<!-- 139638936999568 -->\n<g id=\"node307\" class=\"node\">\n<title>139638936999568</title>\n<polygon fill=\"#add8e6\" stroke=\"#000000\" points=\"1632,-857 1525,-857 1525,-827 1632,-827 1632,-857\"/>\n<text text-anchor=\"middle\" x=\"1578.5\" y=\"-845\" font-family=\"monospace\" font-size=\"10.00\" fill=\"#000000\">4.0.Root1a.bias</text>\n<text text-anchor=\"middle\" x=\"1578.5\" y=\"-834\" font-family=\"monospace\" font-size=\"10.00\" fill=\"#000000\"> (256)</text>\n</g>\n<!-- 139638936999568&#45;&gt;139638937232720 -->\n<g id=\"edge326\" class=\"edge\">\n<title>139638936999568&#45;&gt;139638937232720</title>\n<path fill=\"none\" stroke=\"#000000\" d=\"M1579.257,-826.7333C1579.6389,-819.0322 1580.1067,-809.5977 1580.5161,-801.3414\"/>\n<polygon fill=\"#000000\" stroke=\"#000000\" points=\"1584.025,-801.2475 1581.0246,-791.0864 1577.0336,-800.9008 1584.025,-801.2475\"/>\n</g>\n<!-- 139638937232400 -->\n<g id=\"node308\" class=\"node\">\n<title>139638937232400</title>\n<polygon fill=\"#d3d3d3\" stroke=\"#000000\" points=\"723,-554.5 628,-554.5 628,-535.5 723,-535.5 723,-554.5\"/>\n<text text-anchor=\"middle\" x=\"675.5\" y=\"-542.5\" font-family=\"monospace\" font-size=\"10.00\" fill=\"#000000\">ReluBackward0</text>\n</g>\n<!-- 139638937232400&#45;&gt;139638937233232 -->\n<g id=\"edge327\" class=\"edge\">\n<title>139638937232400&#45;&gt;139638937233232</title>\n<path fill=\"none\" stroke=\"#000000\" d=\"M716.5684,-535.4803C762.2318,-524.8955 836.0435,-507.7859 885.4041,-496.3441\"/>\n<polygon fill=\"#000000\" stroke=\"#000000\" points=\"886.2892,-499.7318 895.2406,-494.064 884.7085,-492.9126 886.2892,-499.7318\"/>\n</g>\n<!-- 139638937232592 -->\n<g id=\"node309\" class=\"node\">\n<title>139638937232592</title>\n<polygon fill=\"#d3d3d3\" stroke=\"#000000\" points=\"676,-615 551,-615 551,-596 676,-596 676,-615\"/>\n<text text-anchor=\"middle\" x=\"613.5\" y=\"-603\" font-family=\"monospace\" font-size=\"10.00\" fill=\"#000000\">ThnnConv2DBackward</text>\n</g>\n<!-- 139638937232592&#45;&gt;139638937232400 -->\n<g id=\"edge328\" class=\"edge\">\n<title>139638937232592&#45;&gt;139638937232400</title>\n<path fill=\"none\" stroke=\"#000000\" d=\"M623.4614,-595.7796C632.8063,-586.6608 646.9806,-572.8294 658.1774,-561.9035\"/>\n<polygon fill=\"#000000\" stroke=\"#000000\" points=\"660.6446,-564.3862 665.3574,-554.8972 655.7558,-559.3762 660.6446,-564.3862\"/>\n</g>\n<!-- 139638937233424 -->\n<g id=\"node310\" class=\"node\">\n<title>139638937233424</title>\n<polygon fill=\"#d3d3d3\" stroke=\"#000000\" points=\"548,-670 453,-670 453,-651 548,-651 548,-670\"/>\n<text text-anchor=\"middle\" x=\"500.5\" y=\"-658\" font-family=\"monospace\" font-size=\"10.00\" fill=\"#000000\">ReluBackward0</text>\n</g>\n<!-- 139638937233424&#45;&gt;139638937232592 -->\n<g id=\"edge329\" class=\"edge\">\n<title>139638937233424&#45;&gt;139638937232592</title>\n<path fill=\"none\" stroke=\"#000000\" d=\"M520.1831,-650.9197C537.9787,-642.2581 564.4052,-629.3957 584.5977,-619.5675\"/>\n<polygon fill=\"#000000\" stroke=\"#000000\" points=\"586.2036,-622.6785 593.6633,-615.155 583.14,-616.3844 586.2036,-622.6785\"/>\n</g>\n<!-- 139638936700880&#45;&gt;139638937233424 -->\n<g id=\"edge330\" class=\"edge\">\n<title>139638936700880&#45;&gt;139638937233424</title>\n<path fill=\"none\" stroke=\"#000000\" d=\"M495.464,-711.2796C496.2814,-703.0376 497.4806,-690.9457 498.5037,-680.629\"/>\n<polygon fill=\"#000000\" stroke=\"#000000\" points=\"502.0144,-680.6939 499.5185,-670.3972 495.0486,-680.003 502.0144,-680.6939\"/>\n</g>\n<!-- 139638936700688 -->\n<g id=\"node312\" class=\"node\">\n<title>139638936700688</title>\n<polygon fill=\"#d3d3d3\" stroke=\"#000000\" points=\"606,-791 505,-791 505,-772 606,-772 606,-791\"/>\n<text text-anchor=\"middle\" x=\"555.5\" y=\"-779\" font-family=\"monospace\" font-size=\"10.00\" fill=\"#000000\">AccumulateGrad</text>\n</g>\n<!-- 139638936700688&#45;&gt;139638936700880 -->\n<g id=\"edge332\" class=\"edge\">\n<title>139638936700688&#45;&gt;139638936700880</title>\n<path fill=\"none\" stroke=\"#000000\" d=\"M545.6993,-771.7796C536.5935,-762.7485 522.8272,-749.095 511.8618,-738.2195\"/>\n<polygon fill=\"#000000\" stroke=\"#000000\" points=\"514.0438,-735.4541 504.479,-730.8972 509.1145,-740.4242 514.0438,-735.4541\"/>\n</g>\n<!-- 139638936999648 -->\n<g id=\"node313\" class=\"node\">\n<title>139638936999648</title>\n<polygon fill=\"#add8e6\" stroke=\"#000000\" points=\"618,-857 499,-857 499,-827 618,-827 618,-857\"/>\n<text text-anchor=\"middle\" x=\"558.5\" y=\"-845\" font-family=\"monospace\" font-size=\"10.00\" fill=\"#000000\">4.0.Root2a.weight</text>\n<text text-anchor=\"middle\" x=\"558.5\" y=\"-834\" font-family=\"monospace\" font-size=\"10.00\" fill=\"#000000\"> (160, 832, 1, 1)</text>\n</g>\n<!-- 139638936999648&#45;&gt;139638936700688 -->\n<g id=\"edge333\" class=\"edge\">\n<title>139638936999648&#45;&gt;139638936700688</title>\n<path fill=\"none\" stroke=\"#000000\" d=\"M557.743,-826.7333C557.3611,-819.0322 556.8933,-809.5977 556.4839,-801.3414\"/>\n<polygon fill=\"#000000\" stroke=\"#000000\" points=\"559.9664,-800.9008 555.9754,-791.0864 552.975,-801.2475 559.9664,-800.9008\"/>\n</g>\n<!-- 139638936701008 -->\n<g id=\"node314\" class=\"node\">\n<title>139638936701008</title>\n<polygon fill=\"#d3d3d3\" stroke=\"#000000\" points=\"484,-791 383,-791 383,-772 484,-772 484,-791\"/>\n<text text-anchor=\"middle\" x=\"433.5\" y=\"-779\" font-family=\"monospace\" font-size=\"10.00\" fill=\"#000000\">AccumulateGrad</text>\n</g>\n<!-- 139638936701008&#45;&gt;139638936700880 -->\n<g id=\"edge334\" class=\"edge\">\n<title>139638936701008&#45;&gt;139638936700880</title>\n<path fill=\"none\" stroke=\"#000000\" d=\"M443.3007,-771.7796C452.4065,-762.7485 466.1728,-749.095 477.1382,-738.2195\"/>\n<polygon fill=\"#000000\" stroke=\"#000000\" points=\"479.8855,-740.4242 484.521,-730.8972 474.9562,-735.4541 479.8855,-740.4242\"/>\n</g>\n<!-- 139638936999728 -->\n<g id=\"node315\" class=\"node\">\n<title>139638936999728</title>\n<polygon fill=\"#add8e6\" stroke=\"#000000\" points=\"481,-857 374,-857 374,-827 481,-827 481,-857\"/>\n<text text-anchor=\"middle\" x=\"427.5\" y=\"-845\" font-family=\"monospace\" font-size=\"10.00\" fill=\"#000000\">4.0.Root2a.bias</text>\n<text text-anchor=\"middle\" x=\"427.5\" y=\"-834\" font-family=\"monospace\" font-size=\"10.00\" fill=\"#000000\"> (160)</text>\n</g>\n<!-- 139638936999728&#45;&gt;139638936701008 -->\n<g id=\"edge335\" class=\"edge\">\n<title>139638936999728&#45;&gt;139638936701008</title>\n<path fill=\"none\" stroke=\"#000000\" d=\"M429.0141,-826.7333C429.7865,-818.9447 430.7347,-809.3831 431.5601,-801.0604\"/>\n<polygon fill=\"#000000\" stroke=\"#000000\" points=\"435.0452,-801.383 432.5493,-791.0864 428.0794,-800.6921 435.0452,-801.383\"/>\n</g>\n<!-- 139638937232784 -->\n<g id=\"node316\" class=\"node\">\n<title>139638937232784</title>\n<polygon fill=\"#d3d3d3\" stroke=\"#000000\" points=\"673,-670 572,-670 572,-651 673,-651 673,-670\"/>\n<text text-anchor=\"middle\" x=\"622.5\" y=\"-658\" font-family=\"monospace\" font-size=\"10.00\" fill=\"#000000\">AccumulateGrad</text>\n</g>\n<!-- 139638937232784&#45;&gt;139638937232592 -->\n<g id=\"edge336\" class=\"edge\">\n<title>139638937232784&#45;&gt;139638937232592</title>\n<path fill=\"none\" stroke=\"#000000\" d=\"M620.9323,-650.9197C619.785,-643.9083 618.1872,-634.1442 616.767,-625.4652\"/>\n<polygon fill=\"#000000\" stroke=\"#000000\" points=\"620.1793,-624.6443 615.1103,-615.3408 613.2712,-625.7748 620.1793,-624.6443\"/>\n</g>\n<!-- 139638936999808 -->\n<g id=\"node317\" class=\"node\">\n<title>139638936999808</title>\n<polygon fill=\"#add8e6\" stroke=\"#000000\" points=\"694,-736 575,-736 575,-706 694,-706 694,-736\"/>\n<text text-anchor=\"middle\" x=\"634.5\" y=\"-724\" font-family=\"monospace\" font-size=\"10.00\" fill=\"#000000\">4.0.Root2b.weight</text>\n<text text-anchor=\"middle\" x=\"634.5\" y=\"-713\" font-family=\"monospace\" font-size=\"10.00\" fill=\"#000000\"> (320, 160, 3, 3)</text>\n</g>\n<!-- 139638936999808&#45;&gt;139638937232784 -->\n<g id=\"edge337\" class=\"edge\">\n<title>139638936999808&#45;&gt;139638937232784</title>\n<path fill=\"none\" stroke=\"#000000\" d=\"M631.4719,-705.7333C629.927,-697.9447 628.0305,-688.3831 626.3797,-680.0604\"/>\n<polygon fill=\"#000000\" stroke=\"#000000\" points=\"629.7802,-679.2143 624.4014,-670.0864 622.914,-680.5763 629.7802,-679.2143\"/>\n</g>\n<!-- 139638936700432 -->\n<g id=\"node318\" class=\"node\">\n<title>139638936700432</title>\n<polygon fill=\"#d3d3d3\" stroke=\"#000000\" points=\"426,-670 325,-670 325,-651 426,-651 426,-670\"/>\n<text text-anchor=\"middle\" x=\"375.5\" y=\"-658\" font-family=\"monospace\" font-size=\"10.00\" fill=\"#000000\">AccumulateGrad</text>\n</g>\n<!-- 139638936700432&#45;&gt;139638937232592 -->\n<g id=\"edge338\" class=\"edge\">\n<title>139638936700432&#45;&gt;139638937232592</title>\n<path fill=\"none\" stroke=\"#000000\" d=\"M416.6847,-650.9825C457.0463,-641.6553 518.6753,-627.4133 562.1991,-617.3552\"/>\n<polygon fill=\"#000000\" stroke=\"#000000\" points=\"563.0666,-620.7471 572.0218,-615.0853 561.4905,-613.9268 563.0666,-620.7471\"/>\n</g>\n<!-- 139638936999888 -->\n<g id=\"node319\" class=\"node\">\n<title>139638936999888</title>\n<polygon fill=\"#add8e6\" stroke=\"#000000\" points=\"414,-736 307,-736 307,-706 414,-706 414,-736\"/>\n<text text-anchor=\"middle\" x=\"360.5\" y=\"-724\" font-family=\"monospace\" font-size=\"10.00\" fill=\"#000000\">4.0.Root2b.bias</text>\n<text text-anchor=\"middle\" x=\"360.5\" y=\"-713\" font-family=\"monospace\" font-size=\"10.00\" fill=\"#000000\"> (320)</text>\n</g>\n<!-- 139638936999888&#45;&gt;139638936700432 -->\n<g id=\"edge339\" class=\"edge\">\n<title>139638936999888&#45;&gt;139638936700432</title>\n<path fill=\"none\" stroke=\"#000000\" d=\"M364.2851,-705.7333C366.2162,-697.9447 368.5868,-688.3831 370.6503,-680.0604\"/>\n<polygon fill=\"#000000\" stroke=\"#000000\" points=\"374.1138,-680.6348 373.1232,-670.0864 367.3195,-678.9502 374.1138,-680.6348\"/>\n</g>\n<!-- 139638937233168 -->\n<g id=\"node320\" class=\"node\">\n<title>139638937233168</title>\n<polygon fill=\"#d3d3d3\" stroke=\"#000000\" points=\"982,-554.5 887,-554.5 887,-535.5 982,-535.5 982,-554.5\"/>\n<text text-anchor=\"middle\" x=\"934.5\" y=\"-542.5\" font-family=\"monospace\" font-size=\"10.00\" fill=\"#000000\">ReluBackward0</text>\n</g>\n<!-- 139638937233168&#45;&gt;139638937233232 -->\n<g id=\"edge340\" class=\"edge\">\n<title>139638937233168&#45;&gt;139638937233232</title>\n<path fill=\"none\" stroke=\"#000000\" d=\"M934.8213,-535.2796C935.0938,-527.0376 935.4935,-514.9457 935.8346,-504.629\"/>\n<polygon fill=\"#000000\" stroke=\"#000000\" points=\"939.3404,-504.5074 936.1728,-494.3972 932.3442,-504.2761 939.3404,-504.5074\"/>\n</g>\n<!-- 139638937232272 -->\n<g id=\"node321\" class=\"node\">\n<title>139638937232272</title>\n<polygon fill=\"#d3d3d3\" stroke=\"#000000\" points=\"1001,-615 834,-615 834,-596 1001,-596 1001,-615\"/>\n<text text-anchor=\"middle\" x=\"917.5\" y=\"-603\" font-family=\"monospace\" font-size=\"10.00\" fill=\"#000000\">MkldnnConvolutionBackward</text>\n</g>\n<!-- 139638937232272&#45;&gt;139638937233168 -->\n<g id=\"edge341\" class=\"edge\">\n<title>139638937232272&#45;&gt;139638937233168</title>\n<path fill=\"none\" stroke=\"#000000\" d=\"M920.2313,-595.7796C922.5719,-587.4499 926.0174,-575.188 928.9363,-564.8004\"/>\n<polygon fill=\"#000000\" stroke=\"#000000\" points=\"932.3832,-565.4712 931.719,-554.8972 925.6442,-563.5776 932.3832,-565.4712\"/>\n</g>\n<!-- 139638936700816 -->\n<g id=\"node322\" class=\"node\">\n<title>139638936700816</title>\n<polygon fill=\"#d3d3d3\" stroke=\"#000000\" points=\"956,-670 861,-670 861,-651 956,-651 956,-670\"/>\n<text text-anchor=\"middle\" x=\"908.5\" y=\"-658\" font-family=\"monospace\" font-size=\"10.00\" fill=\"#000000\">ReluBackward0</text>\n</g>\n<!-- 139638936700816&#45;&gt;139638937232272 -->\n<g id=\"edge342\" class=\"edge\">\n<title>139638936700816&#45;&gt;139638937232272</title>\n<path fill=\"none\" stroke=\"#000000\" d=\"M910.0677,-650.9197C911.215,-643.9083 912.8128,-634.1442 914.233,-625.4652\"/>\n<polygon fill=\"#000000\" stroke=\"#000000\" points=\"917.7288,-625.7748 915.8897,-615.3408 910.8207,-624.6443 917.7288,-625.7748\"/>\n</g>\n<!-- 139638936701072&#45;&gt;139638936700816 -->\n<g id=\"edge343\" class=\"edge\">\n<title>139638936701072&#45;&gt;139638936700816</title>\n<path fill=\"none\" stroke=\"#000000\" d=\"M900.946,-711.2796C902.1851,-702.9499 904.0092,-690.688 905.5545,-680.3004\"/>\n<polygon fill=\"#000000\" stroke=\"#000000\" points=\"909.0181,-680.8034 907.0277,-670.3972 902.0943,-679.7734 909.0181,-680.8034\"/>\n</g>\n<!-- 139638936701328 -->\n<g id=\"node324\" class=\"node\">\n<title>139638936701328</title>\n<polygon fill=\"#d3d3d3\" stroke=\"#000000\" points=\"987,-791 886,-791 886,-772 987,-772 987,-791\"/>\n<text text-anchor=\"middle\" x=\"936.5\" y=\"-779\" font-family=\"monospace\" font-size=\"10.00\" fill=\"#000000\">AccumulateGrad</text>\n</g>\n<!-- 139638936701328&#45;&gt;139638936701072 -->\n<g id=\"edge345\" class=\"edge\">\n<title>139638936701328&#45;&gt;139638936701072</title>\n<path fill=\"none\" stroke=\"#000000\" d=\"M930.5553,-771.7796C925.2466,-763.0992 917.3263,-750.1485 910.8132,-739.4987\"/>\n<polygon fill=\"#000000\" stroke=\"#000000\" points=\"913.7561,-737.6022 905.5529,-730.8972 907.7844,-741.2544 913.7561,-737.6022\"/>\n</g>\n<!-- 139638936999968 -->\n<g id=\"node325\" class=\"node\">\n<title>139638936999968</title>\n<polygon fill=\"#add8e6\" stroke=\"#000000\" points=\"1002,-857 883,-857 883,-827 1002,-827 1002,-857\"/>\n<text text-anchor=\"middle\" x=\"942.5\" y=\"-845\" font-family=\"monospace\" font-size=\"10.00\" fill=\"#000000\">4.0.Root3a.weight</text>\n<text text-anchor=\"middle\" x=\"942.5\" y=\"-834\" font-family=\"monospace\" font-size=\"10.00\" fill=\"#000000\"> (32, 832, 1, 1)</text>\n</g>\n<!-- 139638936999968&#45;&gt;139638936701328 -->\n<g id=\"edge346\" class=\"edge\">\n<title>139638936999968&#45;&gt;139638936701328</title>\n<path fill=\"none\" stroke=\"#000000\" d=\"M940.9859,-826.7333C940.2135,-818.9447 939.2653,-809.3831 938.4399,-801.0604\"/>\n<polygon fill=\"#000000\" stroke=\"#000000\" points=\"941.9206,-800.6921 937.4507,-791.0864 934.9548,-801.383 941.9206,-800.6921\"/>\n</g>\n<!-- 139638936701456 -->\n<g id=\"node326\" class=\"node\">\n<title>139638936701456</title>\n<polygon fill=\"#d3d3d3\" stroke=\"#000000\" points=\"865,-791 764,-791 764,-772 865,-772 865,-791\"/>\n<text text-anchor=\"middle\" x=\"814.5\" y=\"-779\" font-family=\"monospace\" font-size=\"10.00\" fill=\"#000000\">AccumulateGrad</text>\n</g>\n<!-- 139638936701456&#45;&gt;139638936701072 -->\n<g id=\"edge347\" class=\"edge\">\n<title>139638936701456&#45;&gt;139638936701072</title>\n<path fill=\"none\" stroke=\"#000000\" d=\"M828.1567,-771.7796C841.4163,-762.3419 861.768,-747.8563 877.3462,-736.7683\"/>\n<polygon fill=\"#000000\" stroke=\"#000000\" points=\"879.7597,-739.3465 885.8772,-730.6962 875.7005,-733.6436 879.7597,-739.3465\"/>\n</g>\n<!-- 139638937000048 -->\n<g id=\"node327\" class=\"node\">\n<title>139638937000048</title>\n<polygon fill=\"#add8e6\" stroke=\"#000000\" points=\"865,-857 758,-857 758,-827 865,-827 865,-857\"/>\n<text text-anchor=\"middle\" x=\"811.5\" y=\"-845\" font-family=\"monospace\" font-size=\"10.00\" fill=\"#000000\">4.0.Root3a.bias</text>\n<text text-anchor=\"middle\" x=\"811.5\" y=\"-834\" font-family=\"monospace\" font-size=\"10.00\" fill=\"#000000\"> (32)</text>\n</g>\n<!-- 139638937000048&#45;&gt;139638936701456 -->\n<g id=\"edge348\" class=\"edge\">\n<title>139638937000048&#45;&gt;139638936701456</title>\n<path fill=\"none\" stroke=\"#000000\" d=\"M812.257,-826.7333C812.6389,-819.0322 813.1067,-809.5977 813.5161,-801.3414\"/>\n<polygon fill=\"#000000\" stroke=\"#000000\" points=\"817.025,-801.2475 814.0246,-791.0864 810.0336,-800.9008 817.025,-801.2475\"/>\n</g>\n<!-- 139638936701136 -->\n<g id=\"node328\" class=\"node\">\n<title>139638936701136</title>\n<polygon fill=\"#d3d3d3\" stroke=\"#000000\" points=\"1085,-670 984,-670 984,-651 1085,-651 1085,-670\"/>\n<text text-anchor=\"middle\" x=\"1034.5\" y=\"-658\" font-family=\"monospace\" font-size=\"10.00\" fill=\"#000000\">AccumulateGrad</text>\n</g>\n<!-- 139638936701136&#45;&gt;139638937232272 -->\n<g id=\"edge349\" class=\"edge\">\n<title>139638936701136&#45;&gt;139638937232272</title>\n<path fill=\"none\" stroke=\"#000000\" d=\"M1014.1202,-650.9197C995.6112,-642.219 968.0848,-629.2792 947.142,-619.4343\"/>\n<polygon fill=\"#000000\" stroke=\"#000000\" points=\"948.5778,-616.2418 938.0389,-615.155 945.5998,-622.5768 948.5778,-616.2418\"/>\n</g>\n<!-- 139638936999008 -->\n<g id=\"node329\" class=\"node\">\n<title>139638936999008</title>\n<polygon fill=\"#add8e6\" stroke=\"#000000\" points=\"1099,-736 980,-736 980,-706 1099,-706 1099,-736\"/>\n<text text-anchor=\"middle\" x=\"1039.5\" y=\"-724\" font-family=\"monospace\" font-size=\"10.00\" fill=\"#000000\">4.0.Root3b.weight</text>\n<text text-anchor=\"middle\" x=\"1039.5\" y=\"-713\" font-family=\"monospace\" font-size=\"10.00\" fill=\"#000000\"> (128, 32, 5, 5)</text>\n</g>\n<!-- 139638936999008&#45;&gt;139638936701136 -->\n<g id=\"edge350\" class=\"edge\">\n<title>139638936999008&#45;&gt;139638936701136</title>\n<path fill=\"none\" stroke=\"#000000\" d=\"M1038.2383,-705.7333C1037.5946,-697.9447 1036.8044,-688.3831 1036.1166,-680.0604\"/>\n<polygon fill=\"#000000\" stroke=\"#000000\" points=\"1039.6041,-679.7641 1035.2923,-670.0864 1032.6279,-680.3407 1039.6041,-679.7641\"/>\n</g>\n<!-- 139638936700240 -->\n<g id=\"node330\" class=\"node\">\n<title>139638936700240</title>\n<polygon fill=\"#d3d3d3\" stroke=\"#000000\" points=\"822,-670 721,-670 721,-651 822,-651 822,-670\"/>\n<text text-anchor=\"middle\" x=\"771.5\" y=\"-658\" font-family=\"monospace\" font-size=\"10.00\" fill=\"#000000\">AccumulateGrad</text>\n</g>\n<!-- 139638936700240&#45;&gt;139638937232272 -->\n<g id=\"edge351\" class=\"edge\">\n<title>139638936700240&#45;&gt;139638937232272</title>\n<path fill=\"none\" stroke=\"#000000\" d=\"M796.9313,-650.9197C820.5481,-642.023 855.93,-628.6942 882.264,-618.7739\"/>\n<polygon fill=\"#000000\" stroke=\"#000000\" points=\"883.7462,-621.9557 891.8703,-615.155 881.2784,-615.4051 883.7462,-621.9557\"/>\n</g>\n<!-- 139638937000288 -->\n<g id=\"node331\" class=\"node\">\n<title>139638937000288</title>\n<polygon fill=\"#add8e6\" stroke=\"#000000\" points=\"819,-736 712,-736 712,-706 819,-706 819,-736\"/>\n<text text-anchor=\"middle\" x=\"765.5\" y=\"-724\" font-family=\"monospace\" font-size=\"10.00\" fill=\"#000000\">4.0.Root3b.bias</text>\n<text text-anchor=\"middle\" x=\"765.5\" y=\"-713\" font-family=\"monospace\" font-size=\"10.00\" fill=\"#000000\"> (128)</text>\n</g>\n<!-- 139638937000288&#45;&gt;139638936700240 -->\n<g id=\"edge352\" class=\"edge\">\n<title>139638937000288&#45;&gt;139638936700240</title>\n<path fill=\"none\" stroke=\"#000000\" d=\"M767.0141,-705.7333C767.7865,-697.9447 768.7347,-688.3831 769.5601,-680.0604\"/>\n<polygon fill=\"#000000\" stroke=\"#000000\" points=\"773.0452,-680.383 770.5493,-670.0864 766.0794,-679.6921 773.0452,-680.383\"/>\n</g>\n<!-- 139638937233104 -->\n<g id=\"node332\" class=\"node\">\n<title>139638937233104</title>\n<polygon fill=\"#d3d3d3\" stroke=\"#000000\" points=\"1203,-554.5 1108,-554.5 1108,-535.5 1203,-535.5 1203,-554.5\"/>\n<text text-anchor=\"middle\" x=\"1155.5\" y=\"-542.5\" font-family=\"monospace\" font-size=\"10.00\" fill=\"#000000\">ReluBackward0</text>\n</g>\n<!-- 139638937233104&#45;&gt;139638937233232 -->\n<g id=\"edge353\" class=\"edge\">\n<title>139638937233104&#45;&gt;139638937233232</title>\n<path fill=\"none\" stroke=\"#000000\" d=\"M1120.7988,-535.4136C1082.9152,-524.948 1022.151,-508.1616 980.8376,-496.7485\"/>\n<polygon fill=\"#000000\" stroke=\"#000000\" points=\"981.6098,-493.3308 971.0388,-494.0416 979.7458,-500.0781 981.6098,-493.3308\"/>\n</g>\n<!-- 139638936700944 -->\n<g id=\"node333\" class=\"node\">\n<title>139638936700944</title>\n<polygon fill=\"#d3d3d3\" stroke=\"#000000\" points=\"1353,-615 1228,-615 1228,-596 1353,-596 1353,-615\"/>\n<text text-anchor=\"middle\" x=\"1290.5\" y=\"-603\" font-family=\"monospace\" font-size=\"10.00\" fill=\"#000000\">ThnnConv2DBackward</text>\n</g>\n<!-- 139638936700944&#45;&gt;139638937233104 -->\n<g id=\"edge354\" class=\"edge\">\n<title>139638936700944&#45;&gt;139638937233104</title>\n<path fill=\"none\" stroke=\"#000000\" d=\"M1269.1088,-595.9136C1246.694,-585.8684 1211.2851,-570 1185.9567,-558.6491\"/>\n<polygon fill=\"#000000\" stroke=\"#000000\" points=\"1187.348,-555.4373 1176.7911,-554.5416 1184.4852,-561.8251 1187.348,-555.4373\"/>\n</g>\n<!-- 139638936701264 -->\n<g id=\"node334\" class=\"node\">\n<title>139638936701264</title>\n<polygon fill=\"#d3d3d3\" stroke=\"#000000\" points=\"1267,-670 1172,-670 1172,-651 1267,-651 1267,-670\"/>\n<text text-anchor=\"middle\" x=\"1219.5\" y=\"-658\" font-family=\"monospace\" font-size=\"10.00\" fill=\"#000000\">ReluBackward0</text>\n</g>\n<!-- 139638936701264&#45;&gt;139638936700944 -->\n<g id=\"edge355\" class=\"edge\">\n<title>139638936701264&#45;&gt;139638936700944</title>\n<path fill=\"none\" stroke=\"#000000\" d=\"M1231.8673,-650.9197C1242.3263,-642.8177 1257.5303,-631.0399 1269.8349,-621.5082\"/>\n<polygon fill=\"#000000\" stroke=\"#000000\" points=\"1272.0343,-624.2318 1277.7964,-615.3408 1267.7475,-618.6979 1272.0343,-624.2318\"/>\n</g>\n<!-- 139638936701520&#45;&gt;139638936701264 -->\n<g id=\"edge356\" class=\"edge\">\n<title>139638936701520&#45;&gt;139638936701264</title>\n<path fill=\"none\" stroke=\"#000000\" d=\"M1211.1067,-711.2796C1212.4835,-702.9499 1214.5102,-690.688 1216.2272,-680.3004\"/>\n<polygon fill=\"#000000\" stroke=\"#000000\" points=\"1219.6864,-680.8342 1217.8641,-670.3972 1212.7801,-679.6926 1219.6864,-680.8342\"/>\n</g>\n<!-- 139638936701584 -->\n<g id=\"node336\" class=\"node\">\n<title>139638936701584</title>\n<polygon fill=\"#d3d3d3\" stroke=\"#000000\" points=\"1413,-670 1312,-670 1312,-651 1413,-651 1413,-670\"/>\n<text text-anchor=\"middle\" x=\"1362.5\" y=\"-658\" font-family=\"monospace\" font-size=\"10.00\" fill=\"#000000\">AccumulateGrad</text>\n</g>\n<!-- 139638936701584&#45;&gt;139638936700944 -->\n<g id=\"edge358\" class=\"edge\">\n<title>139638936701584&#45;&gt;139638936700944</title>\n<path fill=\"none\" stroke=\"#000000\" d=\"M1349.9586,-650.9197C1339.3522,-642.8177 1323.9341,-631.0399 1311.4561,-621.5082\"/>\n<polygon fill=\"#000000\" stroke=\"#000000\" points=\"1313.4539,-618.6299 1303.3825,-615.3408 1309.2046,-624.1926 1313.4539,-618.6299\"/>\n</g>\n<!-- 139638937000208 -->\n<g id=\"node337\" class=\"node\">\n<title>139638937000208</title>\n<polygon fill=\"#add8e6\" stroke=\"#000000\" points=\"1439,-736 1320,-736 1320,-706 1439,-706 1439,-736\"/>\n<text text-anchor=\"middle\" x=\"1379.5\" y=\"-724\" font-family=\"monospace\" font-size=\"10.00\" fill=\"#000000\">4.0.Root4b.weight</text>\n<text text-anchor=\"middle\" x=\"1379.5\" y=\"-713\" font-family=\"monospace\" font-size=\"10.00\" fill=\"#000000\"> (128, 832, 1, 1)</text>\n</g>\n<!-- 139638937000208&#45;&gt;139638936701584 -->\n<g id=\"edge359\" class=\"edge\">\n<title>139638937000208&#45;&gt;139638936701584</title>\n<path fill=\"none\" stroke=\"#000000\" d=\"M1375.2102,-705.7333C1372.997,-697.8571 1370.2745,-688.168 1367.9176,-679.7803\"/>\n<polygon fill=\"#000000\" stroke=\"#000000\" points=\"1371.2684,-678.7667 1365.1937,-670.0864 1364.5294,-680.6604 1371.2684,-678.7667\"/>\n</g>\n<!-- 139638936700752 -->\n<g id=\"node338\" class=\"node\">\n<title>139638936700752</title>\n<polygon fill=\"#d3d3d3\" stroke=\"#000000\" points=\"1551,-670 1450,-670 1450,-651 1551,-651 1551,-670\"/>\n<text text-anchor=\"middle\" x=\"1500.5\" y=\"-658\" font-family=\"monospace\" font-size=\"10.00\" fill=\"#000000\">AccumulateGrad</text>\n</g>\n<!-- 139638936700752&#45;&gt;139638936700944 -->\n<g id=\"edge360\" class=\"edge\">\n<title>139638936700752&#45;&gt;139638936700944</title>\n<path fill=\"none\" stroke=\"#000000\" d=\"M1463.9208,-650.9197C1428.6464,-641.6812 1375.1243,-627.6635 1336.8758,-617.646\"/>\n<polygon fill=\"#000000\" stroke=\"#000000\" points=\"1337.5722,-614.2105 1327.0117,-615.0626 1335.7987,-620.9821 1337.5722,-614.2105\"/>\n</g>\n<!-- 139638937000528 -->\n<g id=\"node339\" class=\"node\">\n<title>139638937000528</title>\n<polygon fill=\"#add8e6\" stroke=\"#000000\" points=\"1564,-736 1457,-736 1457,-706 1564,-706 1564,-736\"/>\n<text text-anchor=\"middle\" x=\"1510.5\" y=\"-724\" font-family=\"monospace\" font-size=\"10.00\" fill=\"#000000\">4.0.Root4b.bias</text>\n<text text-anchor=\"middle\" x=\"1510.5\" y=\"-713\" font-family=\"monospace\" font-size=\"10.00\" fill=\"#000000\"> (128)</text>\n</g>\n<!-- 139638937000528&#45;&gt;139638936700752 -->\n<g id=\"edge361\" class=\"edge\">\n<title>139638937000528&#45;&gt;139638936700752</title>\n<path fill=\"none\" stroke=\"#000000\" d=\"M1507.9766,-705.7333C1506.6892,-697.9447 1505.1088,-688.3831 1503.7331,-680.0604\"/>\n<polygon fill=\"#000000\" stroke=\"#000000\" points=\"1507.1685,-679.3817 1502.0845,-670.0864 1500.2622,-680.5233 1507.1685,-679.3817\"/>\n</g>\n<!-- 139638937232848 -->\n<g id=\"node340\" class=\"node\">\n<title>139638937232848</title>\n<polygon fill=\"#d3d3d3\" stroke=\"#000000\" points=\"1393,-494 1292,-494 1292,-475 1393,-475 1393,-494\"/>\n<text text-anchor=\"middle\" x=\"1342.5\" y=\"-482\" font-family=\"monospace\" font-size=\"10.00\" fill=\"#000000\">AccumulateGrad</text>\n</g>\n<!-- 139638937232848&#45;&gt;139638937232336 -->\n<g id=\"edge362\" class=\"edge\">\n<title>139638937232848&#45;&gt;139638937232336</title>\n<path fill=\"none\" stroke=\"#000000\" d=\"M1352.622,-474.7796C1362.1177,-465.6608 1376.5206,-451.8294 1387.898,-440.9035\"/>\n<polygon fill=\"#000000\" stroke=\"#000000\" points=\"1390.4053,-443.3482 1395.1938,-433.8972 1385.5567,-438.2993 1390.4053,-443.3482\"/>\n</g>\n<!-- 139638937000688 -->\n<g id=\"node341\" class=\"node\">\n<title>139638937000688</title>\n<polygon fill=\"#add8e6\" stroke=\"#000000\" points=\"1399,-560 1280,-560 1280,-530 1399,-530 1399,-560\"/>\n<text text-anchor=\"middle\" x=\"1339.5\" y=\"-548\" font-family=\"monospace\" font-size=\"10.00\" fill=\"#000000\">4.1.Root1a.weight</text>\n<text text-anchor=\"middle\" x=\"1339.5\" y=\"-537\" font-family=\"monospace\" font-size=\"10.00\" fill=\"#000000\"> (384, 832, 1, 1)</text>\n</g>\n<!-- 139638937000688&#45;&gt;139638937232848 -->\n<g id=\"edge363\" class=\"edge\">\n<title>139638937000688&#45;&gt;139638937232848</title>\n<path fill=\"none\" stroke=\"#000000\" d=\"M1340.257,-529.7333C1340.6389,-522.0322 1341.1067,-512.5977 1341.5161,-504.3414\"/>\n<polygon fill=\"#000000\" stroke=\"#000000\" points=\"1345.025,-504.2475 1342.0246,-494.0864 1338.0336,-503.9008 1345.025,-504.2475\"/>\n</g>\n<!-- 139638937231696 -->\n<g id=\"node342\" class=\"node\">\n<title>139638937231696</title>\n<polygon fill=\"#d3d3d3\" stroke=\"#000000\" points=\"1518,-494 1417,-494 1417,-475 1518,-475 1518,-494\"/>\n<text text-anchor=\"middle\" x=\"1467.5\" y=\"-482\" font-family=\"monospace\" font-size=\"10.00\" fill=\"#000000\">AccumulateGrad</text>\n</g>\n<!-- 139638937231696&#45;&gt;139638937232336 -->\n<g id=\"edge364\" class=\"edge\">\n<title>139638937231696&#45;&gt;139638937232336</title>\n<path fill=\"none\" stroke=\"#000000\" d=\"M1457.5386,-474.7796C1448.1937,-465.6608 1434.0194,-451.8294 1422.8226,-440.9035\"/>\n<polygon fill=\"#000000\" stroke=\"#000000\" points=\"1425.2442,-438.3762 1415.6426,-433.8972 1420.3554,-443.3862 1425.2442,-438.3762\"/>\n</g>\n<!-- 139638937000848 -->\n<g id=\"node343\" class=\"node\">\n<title>139638937000848</title>\n<polygon fill=\"#add8e6\" stroke=\"#000000\" points=\"1524,-560 1417,-560 1417,-530 1524,-530 1524,-560\"/>\n<text text-anchor=\"middle\" x=\"1470.5\" y=\"-548\" font-family=\"monospace\" font-size=\"10.00\" fill=\"#000000\">4.1.Root1a.bias</text>\n<text text-anchor=\"middle\" x=\"1470.5\" y=\"-537\" font-family=\"monospace\" font-size=\"10.00\" fill=\"#000000\"> (384)</text>\n</g>\n<!-- 139638937000848&#45;&gt;139638937231696 -->\n<g id=\"edge365\" class=\"edge\">\n<title>139638937000848&#45;&gt;139638937231696</title>\n<path fill=\"none\" stroke=\"#000000\" d=\"M1469.743,-529.7333C1469.3611,-522.0322 1468.8933,-512.5977 1468.4839,-504.3414\"/>\n<polygon fill=\"#000000\" stroke=\"#000000\" points=\"1471.9664,-503.9008 1467.9754,-494.0864 1464.975,-504.2475 1471.9664,-503.9008\"/>\n</g>\n<!-- 139638937232144 -->\n<g id=\"node344\" class=\"node\">\n<title>139638937232144</title>\n<polygon fill=\"#d3d3d3\" stroke=\"#000000\" points=\"598,-263 503,-263 503,-244 598,-244 598,-263\"/>\n<text text-anchor=\"middle\" x=\"550.5\" y=\"-251\" font-family=\"monospace\" font-size=\"10.00\" fill=\"#000000\">ReluBackward0</text>\n</g>\n<!-- 139638937232144&#45;&gt;139638937232016 -->\n<g id=\"edge366\" class=\"edge\">\n<title>139638937232144&#45;&gt;139638937232016</title>\n<path fill=\"none\" stroke=\"#000000\" d=\"M598.0485,-244.7243C652.3464,-234.7028 740.8752,-218.3636 796.8354,-208.0354\"/>\n<polygon fill=\"#000000\" stroke=\"#000000\" points=\"797.6912,-211.4367 806.8898,-206.1797 796.4206,-204.5529 797.6912,-211.4367\"/>\n</g>\n<!-- 139638937233296 -->\n<g id=\"node345\" class=\"node\">\n<title>139638937233296</title>\n<polygon fill=\"#d3d3d3\" stroke=\"#000000\" points=\"397,-318 272,-318 272,-299 397,-299 397,-318\"/>\n<text text-anchor=\"middle\" x=\"334.5\" y=\"-306\" font-family=\"monospace\" font-size=\"10.00\" fill=\"#000000\">ThnnConv2DBackward</text>\n</g>\n<!-- 139638937233296&#45;&gt;139638937232144 -->\n<g id=\"edge367\" class=\"edge\">\n<title>139638937233296&#45;&gt;139638937232144</title>\n<path fill=\"none\" stroke=\"#000000\" d=\"M372.1243,-298.9197C408.4838,-289.6615 463.6922,-275.6038 503.0501,-265.5821\"/>\n<polygon fill=\"#000000\" stroke=\"#000000\" points=\"504.118,-268.922 512.9451,-263.0626 502.3906,-262.1385 504.118,-268.922\"/>\n</g>\n<!-- 139638937232912 -->\n<g id=\"node346\" class=\"node\">\n<title>139638937232912</title>\n<polygon fill=\"#d3d3d3\" stroke=\"#000000\" points=\"190,-373 95,-373 95,-354 190,-354 190,-373\"/>\n<text text-anchor=\"middle\" x=\"142.5\" y=\"-361\" font-family=\"monospace\" font-size=\"10.00\" fill=\"#000000\">ReluBackward0</text>\n</g>\n<!-- 139638937232912&#45;&gt;139638937233296 -->\n<g id=\"edge368\" class=\"edge\">\n<title>139638937232912&#45;&gt;139638937233296</title>\n<path fill=\"none\" stroke=\"#000000\" d=\"M175.9438,-353.9197C207.9203,-344.7598 256.2975,-330.9018 291.2034,-320.9027\"/>\n<polygon fill=\"#000000\" stroke=\"#000000\" points=\"292.4684,-324.1812 301.1179,-318.0626 290.5406,-317.4518 292.4684,-324.1812\"/>\n</g>\n<!-- 139638936701904&#45;&gt;139638937232912 -->\n<g id=\"edge369\" class=\"edge\">\n<title>139638936701904&#45;&gt;139638937232912</title>\n<path fill=\"none\" stroke=\"#000000\" d=\"M132.428,-414.2796C134.0802,-405.9499 136.5123,-393.688 138.5726,-383.3004\"/>\n<polygon fill=\"#000000\" stroke=\"#000000\" points=\"142.0244,-383.8871 140.5369,-373.3972 135.1581,-382.5252 142.0244,-383.8871\"/>\n</g>\n<!-- 139638936701712 -->\n<g id=\"node348\" class=\"node\">\n<title>139638936701712</title>\n<polygon fill=\"#d3d3d3\" stroke=\"#000000\" points=\"116,-494 15,-494 15,-475 116,-475 116,-494\"/>\n<text text-anchor=\"middle\" x=\"65.5\" y=\"-482\" font-family=\"monospace\" font-size=\"10.00\" fill=\"#000000\">AccumulateGrad</text>\n</g>\n<!-- 139638936701712&#45;&gt;139638936701904 -->\n<g id=\"edge371\" class=\"edge\">\n<title>139638936701712&#45;&gt;139638936701904</title>\n<path fill=\"none\" stroke=\"#000000\" d=\"M75.9434,-474.7796C85.7404,-465.6608 100.6006,-451.8294 112.3392,-440.9035\"/>\n<polygon fill=\"#000000\" stroke=\"#000000\" points=\"114.9313,-443.2724 119.8666,-433.8972 110.1621,-438.1484 114.9313,-443.2724\"/>\n</g>\n<!-- 139638937001008 -->\n<g id=\"node349\" class=\"node\">\n<title>139638937001008</title>\n<polygon fill=\"#add8e6\" stroke=\"#000000\" points=\"119,-560 0,-560 0,-530 119,-530 119,-560\"/>\n<text text-anchor=\"middle\" x=\"59.5\" y=\"-548\" font-family=\"monospace\" font-size=\"10.00\" fill=\"#000000\">4.1.Root2a.weight</text>\n<text text-anchor=\"middle\" x=\"59.5\" y=\"-537\" font-family=\"monospace\" font-size=\"10.00\" fill=\"#000000\"> (192, 832, 1, 1)</text>\n</g>\n<!-- 139638937001008&#45;&gt;139638936701712 -->\n<g id=\"edge372\" class=\"edge\">\n<title>139638937001008&#45;&gt;139638936701712</title>\n<path fill=\"none\" stroke=\"#000000\" d=\"M61.0141,-529.7333C61.7865,-521.9447 62.7347,-512.3831 63.5601,-504.0604\"/>\n<polygon fill=\"#000000\" stroke=\"#000000\" points=\"67.0452,-504.383 64.5493,-494.0864 60.0794,-503.6921 67.0452,-504.383\"/>\n</g>\n<!-- 139638936702032 -->\n<g id=\"node350\" class=\"node\">\n<title>139638936702032</title>\n<polygon fill=\"#d3d3d3\" stroke=\"#000000\" points=\"238,-494 137,-494 137,-475 238,-475 238,-494\"/>\n<text text-anchor=\"middle\" x=\"187.5\" y=\"-482\" font-family=\"monospace\" font-size=\"10.00\" fill=\"#000000\">AccumulateGrad</text>\n</g>\n<!-- 139638936702032&#45;&gt;139638936701904 -->\n<g id=\"edge373\" class=\"edge\">\n<title>139638936702032&#45;&gt;139638936701904</title>\n<path fill=\"none\" stroke=\"#000000\" d=\"M178.342,-474.7796C169.8333,-465.7485 156.9697,-452.095 146.7233,-441.2195\"/>\n<polygon fill=\"#000000\" stroke=\"#000000\" points=\"149.2296,-438.7756 139.8247,-433.8972 144.1346,-443.5758 149.2296,-438.7756\"/>\n</g>\n<!-- 139638937001168 -->\n<g id=\"node351\" class=\"node\">\n<title>139638937001168</title>\n<polygon fill=\"#add8e6\" stroke=\"#000000\" points=\"244,-560 137,-560 137,-530 244,-530 244,-560\"/>\n<text text-anchor=\"middle\" x=\"190.5\" y=\"-548\" font-family=\"monospace\" font-size=\"10.00\" fill=\"#000000\">4.1.Root2a.bias</text>\n<text text-anchor=\"middle\" x=\"190.5\" y=\"-537\" font-family=\"monospace\" font-size=\"10.00\" fill=\"#000000\"> (192)</text>\n</g>\n<!-- 139638937001168&#45;&gt;139638936702032 -->\n<g id=\"edge374\" class=\"edge\">\n<title>139638937001168&#45;&gt;139638936702032</title>\n<path fill=\"none\" stroke=\"#000000\" d=\"M189.743,-529.7333C189.3611,-522.0322 188.8933,-512.5977 188.4839,-504.3414\"/>\n<polygon fill=\"#000000\" stroke=\"#000000\" points=\"191.9664,-503.9008 187.9754,-494.0864 184.975,-504.2475 191.9664,-503.9008\"/>\n</g>\n<!-- 139638936701840 -->\n<g id=\"node352\" class=\"node\">\n<title>139638936701840</title>\n<polygon fill=\"#d3d3d3\" stroke=\"#000000\" points=\"324,-373 223,-373 223,-354 324,-354 324,-373\"/>\n<text text-anchor=\"middle\" x=\"273.5\" y=\"-361\" font-family=\"monospace\" font-size=\"10.00\" fill=\"#000000\">AccumulateGrad</text>\n</g>\n<!-- 139638936701840&#45;&gt;139638937233296 -->\n<g id=\"edge375\" class=\"edge\">\n<title>139638936701840&#45;&gt;139638937233296</title>\n<path fill=\"none\" stroke=\"#000000\" d=\"M284.1254,-353.9197C292.9385,-345.9735 305.673,-334.4916 316.1329,-325.0605\"/>\n<polygon fill=\"#000000\" stroke=\"#000000\" points=\"318.5025,-327.6367 323.5856,-318.3408 313.815,-322.4378 318.5025,-327.6367\"/>\n</g>\n<!-- 139638937001088 -->\n<g id=\"node353\" class=\"node\">\n<title>139638937001088</title>\n<polygon fill=\"#add8e6\" stroke=\"#000000\" points=\"330,-439 211,-439 211,-409 330,-409 330,-439\"/>\n<text text-anchor=\"middle\" x=\"270.5\" y=\"-427\" font-family=\"monospace\" font-size=\"10.00\" fill=\"#000000\">4.1.Root2b.weight</text>\n<text text-anchor=\"middle\" x=\"270.5\" y=\"-416\" font-family=\"monospace\" font-size=\"10.00\" fill=\"#000000\"> (384, 192, 3, 3)</text>\n</g>\n<!-- 139638937001088&#45;&gt;139638936701840 -->\n<g id=\"edge376\" class=\"edge\">\n<title>139638937001088&#45;&gt;139638936701840</title>\n<path fill=\"none\" stroke=\"#000000\" d=\"M271.257,-408.7333C271.6389,-401.0322 272.1067,-391.5977 272.5161,-383.3414\"/>\n<polygon fill=\"#000000\" stroke=\"#000000\" points=\"276.025,-383.2475 273.0246,-373.0864 269.0336,-382.9008 276.025,-383.2475\"/>\n</g>\n<!-- 139638936701392 -->\n<g id=\"node354\" class=\"node\">\n<title>139638936701392</title>\n<polygon fill=\"#d3d3d3\" stroke=\"#000000\" points=\"446,-373 345,-373 345,-354 446,-354 446,-373\"/>\n<text text-anchor=\"middle\" x=\"395.5\" y=\"-361\" font-family=\"monospace\" font-size=\"10.00\" fill=\"#000000\">AccumulateGrad</text>\n</g>\n<!-- 139638936701392&#45;&gt;139638937233296 -->\n<g id=\"edge377\" class=\"edge\">\n<title>139638936701392&#45;&gt;139638937233296</title>\n<path fill=\"none\" stroke=\"#000000\" d=\"M384.8746,-353.9197C376.0615,-345.9735 363.327,-334.4916 352.8671,-325.0605\"/>\n<polygon fill=\"#000000\" stroke=\"#000000\" points=\"355.185,-322.4378 345.4144,-318.3408 350.4975,-327.6367 355.185,-322.4378\"/>\n</g>\n<!-- 139638937001408 -->\n<g id=\"node355\" class=\"node\">\n<title>139638937001408</title>\n<polygon fill=\"#add8e6\" stroke=\"#000000\" points=\"455,-439 348,-439 348,-409 455,-409 455,-439\"/>\n<text text-anchor=\"middle\" x=\"401.5\" y=\"-427\" font-family=\"monospace\" font-size=\"10.00\" fill=\"#000000\">4.1.Root2b.bias</text>\n<text text-anchor=\"middle\" x=\"401.5\" y=\"-416\" font-family=\"monospace\" font-size=\"10.00\" fill=\"#000000\"> (384)</text>\n</g>\n<!-- 139638937001408&#45;&gt;139638936701392 -->\n<g id=\"edge378\" class=\"edge\">\n<title>139638937001408&#45;&gt;139638936701392</title>\n<path fill=\"none\" stroke=\"#000000\" d=\"M399.9859,-408.7333C399.2135,-400.9447 398.2653,-391.3831 397.4399,-383.0604\"/>\n<polygon fill=\"#000000\" stroke=\"#000000\" points=\"400.9206,-382.6921 396.4507,-373.0864 393.9548,-383.383 400.9206,-382.6921\"/>\n</g>\n<!-- 139638937231504 -->\n<g id=\"node356\" class=\"node\">\n<title>139638937231504</title>\n<polygon fill=\"#d3d3d3\" stroke=\"#000000\" points=\"794,-263 699,-263 699,-244 794,-244 794,-263\"/>\n<text text-anchor=\"middle\" x=\"746.5\" y=\"-251\" font-family=\"monospace\" font-size=\"10.00\" fill=\"#000000\">ReluBackward0</text>\n</g>\n<!-- 139638937231504&#45;&gt;139638937232016 -->\n<g id=\"edge379\" class=\"edge\">\n<title>139638937231504&#45;&gt;139638937232016</title>\n<path fill=\"none\" stroke=\"#000000\" d=\"M764.267,-243.9197C780.1123,-235.3757 803.5382,-222.7441 821.6659,-212.9694\"/>\n<polygon fill=\"#000000\" stroke=\"#000000\" points=\"823.4535,-215.9819 830.5943,-208.155 820.1312,-209.8205 823.4535,-215.9819\"/>\n</g>\n<!-- 139638937233040 -->\n<g id=\"node357\" class=\"node\">\n<title>139638937233040</title>\n<polygon fill=\"#d3d3d3\" stroke=\"#000000\" points=\"785,-318 618,-318 618,-299 785,-299 785,-318\"/>\n<text text-anchor=\"middle\" x=\"701.5\" y=\"-306\" font-family=\"monospace\" font-size=\"10.00\" fill=\"#000000\">MkldnnConvolutionBackward</text>\n</g>\n<!-- 139638937233040&#45;&gt;139638937231504 -->\n<g id=\"edge380\" class=\"edge\">\n<title>139638937233040&#45;&gt;139638937231504</title>\n<path fill=\"none\" stroke=\"#000000\" d=\"M709.3384,-298.9197C715.5849,-291.2851 724.5018,-280.3867 732.0352,-271.1792\"/>\n<polygon fill=\"#000000\" stroke=\"#000000\" points=\"734.8249,-273.2968 738.4484,-263.3408 729.4071,-268.8641 734.8249,-273.2968\"/>\n</g>\n<!-- 139638936701648 -->\n<g id=\"node358\" class=\"node\">\n<title>139638936701648</title>\n<polygon fill=\"#d3d3d3\" stroke=\"#000000\" points=\"595,-373 500,-373 500,-354 595,-354 595,-373\"/>\n<text text-anchor=\"middle\" x=\"547.5\" y=\"-361\" font-family=\"monospace\" font-size=\"10.00\" fill=\"#000000\">ReluBackward0</text>\n</g>\n<!-- 139638936701648&#45;&gt;139638937233040 -->\n<g id=\"edge381\" class=\"edge\">\n<title>139638936701648&#45;&gt;139638937233040</title>\n<path fill=\"none\" stroke=\"#000000\" d=\"M574.3248,-353.9197C599.4221,-344.9564 637.1158,-331.4944 664.9554,-321.5516\"/>\n<polygon fill=\"#000000\" stroke=\"#000000\" points=\"666.4845,-324.7221 674.7247,-318.0626 664.1301,-318.1299 666.4845,-324.7221\"/>\n</g>\n<!-- 139638936702096&#45;&gt;139638936701648 -->\n<g id=\"edge382\" class=\"edge\">\n<title>139638936702096&#45;&gt;139638936701648</title>\n<path fill=\"none\" stroke=\"#000000\" d=\"M537.428,-414.2796C539.0802,-405.9499 541.5123,-393.688 543.5726,-383.3004\"/>\n<polygon fill=\"#000000\" stroke=\"#000000\" points=\"547.0244,-383.8871 545.5369,-373.3972 540.1581,-382.5252 547.0244,-383.8871\"/>\n</g>\n<!-- 139638936702352 -->\n<g id=\"node360\" class=\"node\">\n<title>139638936702352</title>\n<polygon fill=\"#d3d3d3\" stroke=\"#000000\" points=\"467,-494 366,-494 366,-475 467,-475 467,-494\"/>\n<text text-anchor=\"middle\" x=\"416.5\" y=\"-482\" font-family=\"monospace\" font-size=\"10.00\" fill=\"#000000\">AccumulateGrad</text>\n</g>\n<!-- 139638936702352&#45;&gt;139638936702096 -->\n<g id=\"edge384\" class=\"edge\">\n<title>139638936702352&#45;&gt;139638936702096</title>\n<path fill=\"none\" stroke=\"#000000\" d=\"M435.3559,-474.9136C454.8531,-465.0012 485.5035,-449.4184 507.7632,-438.1015\"/>\n<polygon fill=\"#000000\" stroke=\"#000000\" points=\"509.4044,-441.1935 516.7323,-433.5416 506.232,-434.9536 509.4044,-441.1935\"/>\n</g>\n<!-- 139638937001728 -->\n<g id=\"node361\" class=\"node\">\n<title>139638937001728</title>\n<polygon fill=\"#add8e6\" stroke=\"#000000\" points=\"473,-560 354,-560 354,-530 473,-530 473,-560\"/>\n<text text-anchor=\"middle\" x=\"413.5\" y=\"-548\" font-family=\"monospace\" font-size=\"10.00\" fill=\"#000000\">4.1.Root3a.weight</text>\n<text text-anchor=\"middle\" x=\"413.5\" y=\"-537\" font-family=\"monospace\" font-size=\"10.00\" fill=\"#000000\"> (48, 832, 1, 1)</text>\n</g>\n<!-- 139638937001728&#45;&gt;139638936702352 -->\n<g id=\"edge385\" class=\"edge\">\n<title>139638937001728&#45;&gt;139638936702352</title>\n<path fill=\"none\" stroke=\"#000000\" d=\"M414.257,-529.7333C414.6389,-522.0322 415.1067,-512.5977 415.5161,-504.3414\"/>\n<polygon fill=\"#000000\" stroke=\"#000000\" points=\"419.025,-504.2475 416.0246,-494.0864 412.0336,-503.9008 419.025,-504.2475\"/>\n</g>\n<!-- 139638936702480 -->\n<g id=\"node362\" class=\"node\">\n<title>139638936702480</title>\n<polygon fill=\"#d3d3d3\" stroke=\"#000000\" points=\"589,-494 488,-494 488,-475 589,-475 589,-494\"/>\n<text text-anchor=\"middle\" x=\"538.5\" y=\"-482\" font-family=\"monospace\" font-size=\"10.00\" fill=\"#000000\">AccumulateGrad</text>\n</g>\n<!-- 139638936702480&#45;&gt;139638936702096 -->\n<g id=\"edge386\" class=\"edge\">\n<title>139638936702480&#45;&gt;139638936702096</title>\n<path fill=\"none\" stroke=\"#000000\" d=\"M538.018,-474.7796C537.6093,-466.5376 537.0097,-454.4457 536.4981,-444.129\"/>\n<polygon fill=\"#000000\" stroke=\"#000000\" points=\"539.9818,-443.7116 535.9908,-433.8972 532.9904,-444.0583 539.9818,-443.7116\"/>\n</g>\n<!-- 139638937001808 -->\n<g id=\"node363\" class=\"node\">\n<title>139638937001808</title>\n<polygon fill=\"#add8e6\" stroke=\"#000000\" points=\"598,-560 491,-560 491,-530 598,-530 598,-560\"/>\n<text text-anchor=\"middle\" x=\"544.5\" y=\"-548\" font-family=\"monospace\" font-size=\"10.00\" fill=\"#000000\">4.1.Root3a.bias</text>\n<text text-anchor=\"middle\" x=\"544.5\" y=\"-537\" font-family=\"monospace\" font-size=\"10.00\" fill=\"#000000\"> (48)</text>\n</g>\n<!-- 139638937001808&#45;&gt;139638936702480 -->\n<g id=\"edge387\" class=\"edge\">\n<title>139638937001808&#45;&gt;139638936702480</title>\n<path fill=\"none\" stroke=\"#000000\" d=\"M542.9859,-529.7333C542.2135,-521.9447 541.2653,-512.3831 540.4399,-504.0604\"/>\n<polygon fill=\"#000000\" stroke=\"#000000\" points=\"543.9206,-503.6921 539.4507,-494.0864 536.9548,-504.383 543.9206,-503.6921\"/>\n</g>\n<!-- 139638936702160 -->\n<g id=\"node364\" class=\"node\">\n<title>139638936702160</title>\n<polygon fill=\"#d3d3d3\" stroke=\"#000000\" points=\"729,-373 628,-373 628,-354 729,-354 729,-373\"/>\n<text text-anchor=\"middle\" x=\"678.5\" y=\"-361\" font-family=\"monospace\" font-size=\"10.00\" fill=\"#000000\">AccumulateGrad</text>\n</g>\n<!-- 139638936702160&#45;&gt;139638937233040 -->\n<g id=\"edge388\" class=\"edge\">\n<title>139638936702160&#45;&gt;139638937233040</title>\n<path fill=\"none\" stroke=\"#000000\" d=\"M682.5063,-353.9197C685.5361,-346.6746 689.795,-336.4903 693.5123,-327.601\"/>\n<polygon fill=\"#000000\" stroke=\"#000000\" points=\"696.7557,-328.917 697.3847,-318.3408 690.2976,-326.2163 696.7557,-328.917\"/>\n</g>\n<!-- 139638936539536 -->\n<g id=\"node365\" class=\"node\">\n<title>139638936539536</title>\n<polygon fill=\"#add8e6\" stroke=\"#000000\" points=\"735,-439 616,-439 616,-409 735,-409 735,-439\"/>\n<text text-anchor=\"middle\" x=\"675.5\" y=\"-427\" font-family=\"monospace\" font-size=\"10.00\" fill=\"#000000\">4.1.Root3b.weight</text>\n<text text-anchor=\"middle\" x=\"675.5\" y=\"-416\" font-family=\"monospace\" font-size=\"10.00\" fill=\"#000000\"> (128, 48, 5, 5)</text>\n</g>\n<!-- 139638936539536&#45;&gt;139638936702160 -->\n<g id=\"edge389\" class=\"edge\">\n<title>139638936539536&#45;&gt;139638936702160</title>\n<path fill=\"none\" stroke=\"#000000\" d=\"M676.257,-408.7333C676.6389,-401.0322 677.1067,-391.5977 677.5161,-383.3414\"/>\n<polygon fill=\"#000000\" stroke=\"#000000\" points=\"681.025,-383.2475 678.0246,-373.0864 674.0336,-382.9008 681.025,-383.2475\"/>\n</g>\n<!-- 139638936701200 -->\n<g id=\"node366\" class=\"node\">\n<title>139638936701200</title>\n<polygon fill=\"#d3d3d3\" stroke=\"#000000\" points=\"851,-373 750,-373 750,-354 851,-354 851,-373\"/>\n<text text-anchor=\"middle\" x=\"800.5\" y=\"-361\" font-family=\"monospace\" font-size=\"10.00\" fill=\"#000000\">AccumulateGrad</text>\n</g>\n<!-- 139638936701200&#45;&gt;139638937233040 -->\n<g id=\"edge390\" class=\"edge\">\n<title>139638936701200&#45;&gt;139638937233040</title>\n<path fill=\"none\" stroke=\"#000000\" d=\"M783.2555,-353.9197C768.0174,-345.4541 745.556,-332.9755 728.0304,-323.2391\"/>\n<polygon fill=\"#000000\" stroke=\"#000000\" points=\"729.3204,-319.9519 718.879,-318.155 725.9209,-326.0711 729.3204,-319.9519\"/>\n</g>\n<!-- 139638936539616 -->\n<g id=\"node367\" class=\"node\">\n<title>139638936539616</title>\n<polygon fill=\"#add8e6\" stroke=\"#000000\" points=\"860,-439 753,-439 753,-409 860,-409 860,-439\"/>\n<text text-anchor=\"middle\" x=\"806.5\" y=\"-427\" font-family=\"monospace\" font-size=\"10.00\" fill=\"#000000\">4.1.Root3b.bias</text>\n<text text-anchor=\"middle\" x=\"806.5\" y=\"-416\" font-family=\"monospace\" font-size=\"10.00\" fill=\"#000000\"> (128)</text>\n</g>\n<!-- 139638936539616&#45;&gt;139638936701200 -->\n<g id=\"edge391\" class=\"edge\">\n<title>139638936539616&#45;&gt;139638936701200</title>\n<path fill=\"none\" stroke=\"#000000\" d=\"M804.9859,-408.7333C804.2135,-400.9447 803.2653,-391.3831 802.4399,-383.0604\"/>\n<polygon fill=\"#000000\" stroke=\"#000000\" points=\"805.9206,-382.6921 801.4507,-373.0864 798.9548,-383.383 805.9206,-382.6921\"/>\n</g>\n<!-- 139638937231760 -->\n<g id=\"node368\" class=\"node\">\n<title>139638937231760</title>\n<polygon fill=\"#d3d3d3\" stroke=\"#000000\" points=\"998,-263 903,-263 903,-244 998,-244 998,-263\"/>\n<text text-anchor=\"middle\" x=\"950.5\" y=\"-251\" font-family=\"monospace\" font-size=\"10.00\" fill=\"#000000\">ReluBackward0</text>\n</g>\n<!-- 139638937231760&#45;&gt;139638937232016 -->\n<g id=\"edge392\" class=\"edge\">\n<title>139638937231760&#45;&gt;139638937232016</title>\n<path fill=\"none\" stroke=\"#000000\" d=\"M932.733,-243.9197C916.8877,-235.3757 893.4618,-222.7441 875.3341,-212.9694\"/>\n<polygon fill=\"#000000\" stroke=\"#000000\" points=\"876.8688,-209.8205 866.4057,-208.155 873.5465,-215.9819 876.8688,-209.8205\"/>\n</g>\n<!-- 139638936701776 -->\n<g id=\"node369\" class=\"node\">\n<title>139638936701776</title>\n<polygon fill=\"#d3d3d3\" stroke=\"#000000\" points=\"1110,-318 985,-318 985,-299 1110,-299 1110,-318\"/>\n<text text-anchor=\"middle\" x=\"1047.5\" y=\"-306\" font-family=\"monospace\" font-size=\"10.00\" fill=\"#000000\">ThnnConv2DBackward</text>\n</g>\n<!-- 139638936701776&#45;&gt;139638937231760 -->\n<g id=\"edge393\" class=\"edge\">\n<title>139638936701776&#45;&gt;139638937231760</title>\n<path fill=\"none\" stroke=\"#000000\" d=\"M1030.6039,-298.9197C1015.6736,-290.4541 993.666,-277.9755 976.4945,-268.2391\"/>\n<polygon fill=\"#000000\" stroke=\"#000000\" points=\"977.9533,-265.0428 967.528,-263.155 974.5005,-271.1321 977.9533,-265.0428\"/>\n</g>\n<!-- 139638936702288 -->\n<g id=\"node370\" class=\"node\">\n<title>139638936702288</title>\n<polygon fill=\"#d3d3d3\" stroke=\"#000000\" points=\"1028,-373 933,-373 933,-354 1028,-354 1028,-373\"/>\n<text text-anchor=\"middle\" x=\"980.5\" y=\"-361\" font-family=\"monospace\" font-size=\"10.00\" fill=\"#000000\">ReluBackward0</text>\n</g>\n<!-- 139638936702288&#45;&gt;139638936701776 -->\n<g id=\"edge394\" class=\"edge\">\n<title>139638936702288&#45;&gt;139638936701776</title>\n<path fill=\"none\" stroke=\"#000000\" d=\"M992.1705,-353.9197C1001.9454,-345.8956 1016.1122,-334.2661 1027.6635,-324.7837\"/>\n<polygon fill=\"#000000\" stroke=\"#000000\" points=\"1030.0035,-327.3911 1035.5121,-318.3408 1025.562,-321.9805 1030.0035,-327.3911\"/>\n</g>\n<!-- 139638936702544&#45;&gt;139638936702288 -->\n<g id=\"edge395\" class=\"edge\">\n<title>139638936702544&#45;&gt;139638936702288</title>\n<path fill=\"none\" stroke=\"#000000\" d=\"M972.1067,-414.2796C973.4835,-405.9499 975.5102,-393.688 977.2272,-383.3004\"/>\n<polygon fill=\"#000000\" stroke=\"#000000\" points=\"980.6864,-383.8342 978.8641,-373.3972 973.7801,-382.6926 980.6864,-383.8342\"/>\n</g>\n<!-- 139638936702608 -->\n<g id=\"node372\" class=\"node\">\n<title>139638936702608</title>\n<polygon fill=\"#d3d3d3\" stroke=\"#000000\" points=\"1174,-373 1073,-373 1073,-354 1174,-354 1174,-373\"/>\n<text text-anchor=\"middle\" x=\"1123.5\" y=\"-361\" font-family=\"monospace\" font-size=\"10.00\" fill=\"#000000\">AccumulateGrad</text>\n</g>\n<!-- 139638936702608&#45;&gt;139638936701776 -->\n<g id=\"edge397\" class=\"edge\">\n<title>139638936702608&#45;&gt;139638936701776</title>\n<path fill=\"none\" stroke=\"#000000\" d=\"M1110.2618,-353.9197C1098.8888,-345.6893 1082.2744,-333.6657 1068.9965,-324.0567\"/>\n<polygon fill=\"#000000\" stroke=\"#000000\" points=\"1070.9946,-321.1823 1060.8415,-318.155 1066.8907,-326.8532 1070.9946,-321.1823\"/>\n</g>\n<!-- 139638936540256 -->\n<g id=\"node373\" class=\"node\">\n<title>139638936540256</title>\n<polygon fill=\"#add8e6\" stroke=\"#000000\" points=\"1200,-439 1081,-439 1081,-409 1200,-409 1200,-439\"/>\n<text text-anchor=\"middle\" x=\"1140.5\" y=\"-427\" font-family=\"monospace\" font-size=\"10.00\" fill=\"#000000\">4.1.Root4b.weight</text>\n<text text-anchor=\"middle\" x=\"1140.5\" y=\"-416\" font-family=\"monospace\" font-size=\"10.00\" fill=\"#000000\"> (128, 832, 1, 1)</text>\n</g>\n<!-- 139638936540256&#45;&gt;139638936702608 -->\n<g id=\"edge398\" class=\"edge\">\n<title>139638936540256&#45;&gt;139638936702608</title>\n<path fill=\"none\" stroke=\"#000000\" d=\"M1136.2102,-408.7333C1133.997,-400.8571 1131.2745,-391.168 1128.9176,-382.7803\"/>\n<polygon fill=\"#000000\" stroke=\"#000000\" points=\"1132.2684,-381.7667 1126.1937,-373.0864 1125.5294,-383.6604 1132.2684,-381.7667\"/>\n</g>\n<!-- 139638936701968 -->\n<g id=\"node374\" class=\"node\">\n<title>139638936701968</title>\n<polygon fill=\"#d3d3d3\" stroke=\"#000000\" points=\"1312,-373 1211,-373 1211,-354 1312,-354 1312,-373\"/>\n<text text-anchor=\"middle\" x=\"1261.5\" y=\"-361\" font-family=\"monospace\" font-size=\"10.00\" fill=\"#000000\">AccumulateGrad</text>\n</g>\n<!-- 139638936701968&#45;&gt;139638936701776 -->\n<g id=\"edge399\" class=\"edge\">\n<title>139638936701968&#45;&gt;139638936701776</title>\n<path fill=\"none\" stroke=\"#000000\" d=\"M1224.224,-353.9197C1188.2777,-344.6812 1133.7362,-330.6635 1094.7591,-320.646\"/>\n<polygon fill=\"#000000\" stroke=\"#000000\" points=\"1095.2637,-317.162 1084.7072,-318.0626 1093.5212,-323.9417 1095.2637,-317.162\"/>\n</g>\n<!-- 139638936540336 -->\n<g id=\"node375\" class=\"node\">\n<title>139638936540336</title>\n<polygon fill=\"#add8e6\" stroke=\"#000000\" points=\"1325,-439 1218,-439 1218,-409 1325,-409 1325,-439\"/>\n<text text-anchor=\"middle\" x=\"1271.5\" y=\"-427\" font-family=\"monospace\" font-size=\"10.00\" fill=\"#000000\">4.1.Root4b.bias</text>\n<text text-anchor=\"middle\" x=\"1271.5\" y=\"-416\" font-family=\"monospace\" font-size=\"10.00\" fill=\"#000000\"> (128)</text>\n</g>\n<!-- 139638936540336&#45;&gt;139638936701968 -->\n<g id=\"edge400\" class=\"edge\">\n<title>139638936540336&#45;&gt;139638936701968</title>\n<path fill=\"none\" stroke=\"#000000\" d=\"M1268.9766,-408.7333C1267.6892,-400.9447 1266.1088,-391.3831 1264.7331,-383.0604\"/>\n<polygon fill=\"#000000\" stroke=\"#000000\" points=\"1268.1685,-382.3817 1263.0845,-373.0864 1261.2622,-383.5233 1268.1685,-382.3817\"/>\n</g>\n<!-- 139638942044320&#45;&gt;139638941970096 -->\n<g id=\"edge403\" class=\"edge\">\n<title>139638942044320&#45;&gt;139638941970096</title>\n<path fill=\"none\" stroke=\"#000000\" stroke-dasharray=\"1,5\" d=\"M894.584,-66.9604C887.1194,-58.625 877.7686,-48.1833 869.4443,-38.8878\"/>\n<polygon fill=\"#000000\" stroke=\"#000000\" points=\"872.0358,-36.5351 862.7572,-31.4205 866.8211,-41.205 872.0358,-36.5351\"/>\n</g>\n</g>\n</svg>\n"
          },
          "metadata": {
            "tags": []
          }
        }
      ]
    },
    {
      "cell_type": "code",
      "metadata": {
        "colab": {
          "base_uri": "https://localhost:8080/"
        },
        "id": "--delmYHz9A1",
        "outputId": "21103451-aead-4950-ac33-1d6fb9940436"
      },
      "source": [
        "#enumerating testdata with batch index of source and the target\n",
        "testdata_ex = enumerate(Testdata_Loader)\n",
        "batch_idx, (Val_ex_data, Val_ex_targets) = next(testdata_ex)\n",
        "#printing the shape of the indexed data\n",
        "print(Val_ex_data.shape)"
      ],
      "execution_count": null,
      "outputs": [
        {
          "output_type": "stream",
          "text": [
            "torch.Size([32, 1, 96, 96])\n"
          ],
          "name": "stdout"
        }
      ]
    },
    {
      "cell_type": "markdown",
      "metadata": {
        "id": "MhL0WV45LfGG"
      },
      "source": [
        "##**Setting Hyperparameters**"
      ]
    },
    {
      "cell_type": "code",
      "metadata": {
        "id": "j4l9WyqDwVoS"
      },
      "source": [
        "#Initialization of Hyperparameters\n",
        "#Number of epochs\n",
        "EPOCHS = 10\n",
        "#Batch size and the learning rate\n",
        "batch_size= 32\n",
        "Learning_rate= 0.1\n",
        "#Loss Function\n",
        "Loss_criterion_function = torch.nn.CrossEntropyLoss()\n",
        "device =torch.device('cuda' if torch.cuda.is_available() else 'cpu')"
      ],
      "execution_count": null,
      "outputs": []
    },
    {
      "cell_type": "code",
      "metadata": {
        "id": "MH7LD4RCa2AX"
      },
      "source": [
        "#For storing the generated train and test accuracy and plotting\n",
        "def show_train_hist(hist, show=False, save=False, path='Train_hist.png'):\n",
        "    x = range(len(hist['train_accuracy']))\n",
        "    y1 = hist['train_accuracy']\n",
        "    y2 = hist['test_accuracy']\n",
        "    #plotting\n",
        "    plt.plot(x, y1, label='train_accuracy')\n",
        "    plt.plot(x, y2, label='test_accuracy')\n",
        "    plt.xlabel('Epoch')\n",
        "    plt.ylabel('Accuracy')\n",
        "    plt.legend(loc=4)\n",
        "    plt.grid(True)\n",
        "    plt.tight_layout()\n",
        "    #saving the generated outputs\n",
        "    if save:\n",
        "        plt.savefig(path)\n",
        "    if show:\n",
        "        plt.show()\n",
        "    else:\n",
        "        plt.close()"
      ],
      "execution_count": null,
      "outputs": []
    },
    {
      "cell_type": "markdown",
      "metadata": {
        "id": "5rcM7_OvL2GU"
      },
      "source": [
        "##**Evaluation --> Training and Testing**"
      ]
    },
    {
      "cell_type": "code",
      "metadata": {
        "id": "Rc97vimWbFsb"
      },
      "source": [
        "#Test Accuracy and loss Evaluation\n",
        "def Evaluate_Accuracy(dataset_eval_iteration, Network_arch, Loss_criterion_function, device=device): \n",
        "  #Evaluate accuracy of a model on the testset\n",
        "  #In evaluation mode, we will be using the dropout and normalization layers\n",
        "  testset_initial=len(dataset_eval_iteration.dataset)\n",
        "  test_loss=0\n",
        "  test_accuracy=0\n",
        "  Network_arch.eval()\n",
        "  with torch.no_grad():\n",
        "    for X, y in dataset_eval_iteration:\n",
        "        #transfer the produced data to the device\n",
        "        X = X.to(device)\n",
        "        y = y.to(device)   \n",
        "        outputs = Network_arch(X)\n",
        "        #calculating the test accuracy and loss and appending it                                                   \n",
        "        test_loss += Loss_criterion_function(outputs,y).item()                 \n",
        "        test_accuracy += (outputs.argmax(1) == y).type(torch.float).sum().item()  \n",
        "  test_accuracy = test_accuracy/testset_initial  \n",
        "  test_loss /= testset_initial\n",
        "  return test_accuracy, test_loss"
      ],
      "execution_count": null,
      "outputs": []
    },
    {
      "cell_type": "code",
      "metadata": {
        "id": "m8-cwEwV1AP3"
      },
      "source": [
        "#Cross validating the predicted values for plotting the confusion matrix and predict the correct and incorrect samples\n",
        "def Cross_validate_predicted_data(Network_arch, dataset_eval_iteration):\n",
        "    Data_pics_label = []\n",
        "    Data_pics_val = []\n",
        "    Network_arch.eval()\n",
        "    for X, y in dataset_eval_iteration:\n",
        "      X = X.to(device)\n",
        "      y = y.to(device)\n",
        "      prediction = Network_arch(X)\n",
        "      with torch.no_grad():\n",
        "            Final_predict = F.softmax(prediction, dim = -1)\n",
        "            Data_pics_label.append(y.cpu())\n",
        "            Data_pics_val.append(Final_predict.cpu())\n",
        "    out1 = torch.cat(Data_pics_label)\n",
        "    out2 = torch.cat(Data_pics_val)\n",
        "    return out1, out2"
      ],
      "execution_count": null,
      "outputs": []
    },
    {
      "cell_type": "code",
      "metadata": {
        "id": "vlxliRglwkbt",
        "colab": {
          "base_uri": "https://localhost:8080/"
        },
        "outputId": "2d153ae9-82ea-4710-b4c8-d14fe43e232f"
      },
      "source": [
        "#Training and Evaluating the model \n",
        "#Training is performed on the train dataset\n",
        "#Testing (Evaluation) is performed in the test dataset\n",
        "#Train and evaluate the model using the device GPU or else with CPU\n",
        "def training(Network_arch, Load_MNIST_traindata, Load_MNIST_testdata, Loss_criterion_function, EPOCHS, batch_size, device, Learning_rate=None):    \n",
        "    print(\"---------------------------------------------------\")\n",
        "    print(\"Model Training and Testing Start date:\", date)\n",
        "    print(\"Model Training and Testing starting time:\", Time)\n",
        "    print(\"---------------------------------------------------\")\n",
        "    print('GoogleNet Architecture Training and Testing Begins!')\n",
        "    Network_arch.to(device)\n",
        "    #Initialization of the optimizer\n",
        "    optimizer = optim.SGD(Network_arch.parameters(), lr=Learning_rate)\n",
        "    #FOR CALCULATING THE EPOCHS\n",
        "    for Epoch in range(EPOCHS):\n",
        "        #Network is trained on the training mode\n",
        "        Network_arch.train()\n",
        "        cv = 0\n",
        "        ep_start = time.time()\n",
        "        Sum_training_Loss = torch.tensor([0.0], device=device)\n",
        "        Sum_training_Accuracy = torch.tensor([0.0], device=device)\n",
        "        #FOR CALCULATING THE TRAIN LOSS AND TRAIN ACCURACY\n",
        "        for X, y in Load_MNIST_traindata:\n",
        "            optimizer.zero_grad()\n",
        "            X = X.to(device) \n",
        "            y = y.to(device)\n",
        "            conv_y = Network_arch(X)\n",
        "            final_end_loss = Loss_criterion_function(conv_y, y)\n",
        "            final_end_loss.backward()\n",
        "            optimizer.step()\n",
        "            with torch.no_grad():\n",
        "                y = y.long()\n",
        "                Sum_training_Loss += final_end_loss.float()\n",
        "                Sum_training_Accuracy += (torch.sum((torch.argmax(conv_y, dim=1) == y))).float()\n",
        "                cv += y.shape[0]\n",
        "                final_loss = Sum_training_Loss/cv\n",
        "                final_train_accuracy = Sum_training_Accuracy/cv\n",
        "                #final_train_accuracy_out =final_train_accuracy.to('cpu').numpy()\n",
        "        #FOR CALCULATING THE TEST ACCURACY and loss\n",
        "        final_test_accuracy, final_test_loss = Evaluate_Accuracy(Load_MNIST_testdata, Network_arch, Loss_criterion_function, device) \n",
        "        Start_Time=datetime.now()\n",
        "        train_test_Start_Time = Start_Time.strftime(\"%H:%M:%S\")\n",
        "        print(\"-------------------------------------------------------------------------------------------------------------------------------------------\")\n",
        "        #print(f'Epoch_start_time: {train_test_Start_Time}')\n",
        "        print('Epoch--> %d\\t Train_Loss: %.4f\\t Train_Accuracy: %.2f\\t    Test_Loss: %.4f\\t  Test_Accuracy: %.2f\\t  Time_Duration: %.1f sec\\t' % (Epoch + 1, final_loss, final_train_accuracy*100, final_test_loss, final_test_accuracy*100, time.time() - ep_start))\n",
        "        print(\"-------------------------------------------------------------------------------------------------------------------------------------------\")\n",
        "        save_dir = './CV_miniproject_results/'\n",
        "        #Creating a folder to store the results\n",
        "        if not os.path.exists(save_dir):\n",
        "          os.mkdir(save_dir)\n",
        "        #Storing and tracking the outputs and plotting\n",
        "        train_hist = {}\n",
        "        train_hist['train_accuracy'] = []\n",
        "        train_hist['test_accuracy'] = []\n",
        "        train_hist['train_accuracy'].append(final_train_accuracy)\n",
        "        train_hist['test_accuracy'].append(final_test_accuracy)\n",
        "        #saving outputs to the created directory\n",
        "        with open(save_dir + '/train_hist.pkl', 'wb') as f:\n",
        "          pickle.dump(train_hist, f)\n",
        "        show_train_hist(train_hist, save=True, path=save_dir + '/CV_miniproject_Train_hist.png')\n",
        "\n",
        "#Training and evaluating the Network model \n",
        "GoogleNet_History = training(Network_arch, Traindata_Loader, Testdata_Loader, Loss_criterion_function, EPOCHS, batch_size, device, Learning_rate)\n",
        "End_Time=datetime.now()\n",
        "end_date = End_Time.strftime(\"%d/%m/%Y\")\n",
        "end_time = End_Time.strftime(\"%H:%M:%S\")\n",
        "print('GoogleNet Architecture Training and Testing Completed!')\n",
        "print(\"--------------------------------------------------\")\n",
        "print(\"Model Training and Testing End date:\", end_date)\n",
        "print(\"Model Training and Testing End time:\", end_time)\n",
        "print(\"--------------------------------------------------\")"
      ],
      "execution_count": null,
      "outputs": [
        {
          "output_type": "stream",
          "text": [
            "---------------------------------------------------\n",
            "Model Training and Testing Start date: 17/05/2021\n",
            "Model Training and Testing starting time: 07:46:26\n",
            "---------------------------------------------------\n",
            "GoogleNet Architecture Training and Testing Begins!\n",
            "-------------------------------------------------------------------------------------------------------------------------------------------\n",
            "Epoch--> 1\t Train_Loss: 0.0894\t Train_Accuracy: 52.13\t    Test_Loss: 0.0060\t  Test_Accuracy: 94.46\t  Time_Duration: 43.3 sec\t\n",
            "-------------------------------------------------------------------------------------------------------------------------------------------\n",
            "-------------------------------------------------------------------------------------------------------------------------------------------\n",
            "Epoch--> 2\t Train_Loss: 0.0034\t Train_Accuracy: 96.72\t    Test_Loss: 0.0022\t  Test_Accuracy: 98.01\t  Time_Duration: 43.2 sec\t\n",
            "-------------------------------------------------------------------------------------------------------------------------------------------\n",
            "-------------------------------------------------------------------------------------------------------------------------------------------\n",
            "Epoch--> 3\t Train_Loss: 0.0019\t Train_Accuracy: 98.16\t    Test_Loss: 0.0017\t  Test_Accuracy: 98.24\t  Time_Duration: 43.2 sec\t\n",
            "-------------------------------------------------------------------------------------------------------------------------------------------\n",
            "-------------------------------------------------------------------------------------------------------------------------------------------\n",
            "Epoch--> 4\t Train_Loss: 0.0014\t Train_Accuracy: 98.57\t    Test_Loss: 0.0017\t  Test_Accuracy: 98.45\t  Time_Duration: 43.2 sec\t\n",
            "-------------------------------------------------------------------------------------------------------------------------------------------\n",
            "-------------------------------------------------------------------------------------------------------------------------------------------\n",
            "Epoch--> 5\t Train_Loss: 0.0010\t Train_Accuracy: 99.05\t    Test_Loss: 0.0012\t  Test_Accuracy: 98.84\t  Time_Duration: 43.2 sec\t\n",
            "-------------------------------------------------------------------------------------------------------------------------------------------\n",
            "-------------------------------------------------------------------------------------------------------------------------------------------\n",
            "Epoch--> 6\t Train_Loss: 0.0008\t Train_Accuracy: 99.24\t    Test_Loss: 0.0013\t  Test_Accuracy: 98.70\t  Time_Duration: 43.2 sec\t\n",
            "-------------------------------------------------------------------------------------------------------------------------------------------\n",
            "-------------------------------------------------------------------------------------------------------------------------------------------\n",
            "Epoch--> 7\t Train_Loss: 0.0006\t Train_Accuracy: 99.37\t    Test_Loss: 0.0011\t  Test_Accuracy: 99.07\t  Time_Duration: 43.2 sec\t\n",
            "-------------------------------------------------------------------------------------------------------------------------------------------\n",
            "-------------------------------------------------------------------------------------------------------------------------------------------\n",
            "Epoch--> 8\t Train_Loss: 0.0005\t Train_Accuracy: 99.49\t    Test_Loss: 0.0009\t  Test_Accuracy: 99.20\t  Time_Duration: 43.2 sec\t\n",
            "-------------------------------------------------------------------------------------------------------------------------------------------\n",
            "-------------------------------------------------------------------------------------------------------------------------------------------\n",
            "Epoch--> 9\t Train_Loss: 0.0004\t Train_Accuracy: 99.60\t    Test_Loss: 0.0010\t  Test_Accuracy: 99.09\t  Time_Duration: 43.2 sec\t\n",
            "-------------------------------------------------------------------------------------------------------------------------------------------\n",
            "-------------------------------------------------------------------------------------------------------------------------------------------\n",
            "Epoch--> 10\t Train_Loss: 0.0004\t Train_Accuracy: 99.60\t    Test_Loss: 0.0012\t  Test_Accuracy: 99.01\t  Time_Duration: 43.2 sec\t\n",
            "-------------------------------------------------------------------------------------------------------------------------------------------\n",
            "GoogleNet Architecture Training and Testing Completed!\n",
            "--------------------------------------------------\n",
            "Model Training and Testing End date: 17/05/2021\n",
            "Model Training and Testing End time: 07:53:57\n",
            "--------------------------------------------------\n"
          ],
          "name": "stdout"
        }
      ]
    },
    {
      "cell_type": "code",
      "metadata": {
        "id": "QI34R54P93QY",
        "colab": {
          "base_uri": "https://localhost:8080/"
        },
        "outputId": "4e12098f-a15b-42c5-a019-af8f2df27fc6"
      },
      "source": [
        "#getting the output of the tensor(weights)\n",
        "with torch.no_grad():\n",
        "  Network_arch.to('cpu')\n",
        "  final_tensor_output = Network_arch(Val_ex_data)\n",
        "#printing the output\n",
        "print(final_tensor_output)"
      ],
      "execution_count": null,
      "outputs": [
        {
          "output_type": "stream",
          "text": [
            "tensor([[ 6.2382, 11.3917, 11.1057,  ...,  0.2586,  0.2586,  0.2586],\n",
            "        [17.0497,  9.8967, 29.4942,  ...,  0.5501,  0.5501,  0.5501],\n",
            "        [14.4564, 32.5656, 14.1567,  ...,  0.5066,  0.5066,  0.5066],\n",
            "        ...,\n",
            "        [11.1138, 25.1427, 12.3725,  ...,  0.4102,  0.4102,  0.4102],\n",
            "        [ 4.5387, 10.1846, 11.3213,  ...,  0.2329,  0.2329,  0.2329],\n",
            "        [11.5805, 24.9429, 12.0159,  ...,  0.4423,  0.4423,  0.4423]])\n"
          ],
          "name": "stdout"
        }
      ]
    },
    {
      "cell_type": "code",
      "metadata": {
        "colab": {
          "base_uri": "https://localhost:8080/",
          "height": 336
        },
        "id": "FpD3P8EPJjQy",
        "outputId": "b830d2b9-0a50-4287-a8fc-5508d643de81"
      },
      "source": [
        "#histogram for the tensor values\n",
        "sns.distplot(final_tensor_output)"
      ],
      "execution_count": null,
      "outputs": [
        {
          "output_type": "stream",
          "text": [
            "/usr/local/lib/python3.7/dist-packages/seaborn/distributions.py:2557: FutureWarning: `distplot` is a deprecated function and will be removed in a future version. Please adapt your code to use either `displot` (a figure-level function with similar flexibility) or `histplot` (an axes-level function for histograms).\n",
            "  warnings.warn(msg, FutureWarning)\n"
          ],
          "name": "stderr"
        },
        {
          "output_type": "execute_result",
          "data": {
            "text/plain": [
              "<matplotlib.axes._subplots.AxesSubplot at 0x7f0039402610>"
            ]
          },
          "metadata": {
            "tags": []
          },
          "execution_count": 12
        },
        {
          "output_type": "display_data",
          "data": {
            "image/png": "[encoded data removed]",
            "text/plain": [
              "<Figure size 432x288 with 1 Axes>"
            ]
          },
          "metadata": {
            "tags": [],
            "needs_background": "light"
          }
        }
      ]
    },
    {
      "cell_type": "markdown",
      "metadata": {
        "id": "wuPCBgE2M1f0"
      },
      "source": [
        "##**Verification --> How well our Network predicts the data accurately**"
      ]
    },
    {
      "cell_type": "code",
      "metadata": {
        "colab": {
          "base_uri": "https://localhost:8080/",
          "height": 117
        },
        "id": "NBKcDxoSce44",
        "outputId": "3bf02f57-8148-43af-a793-c191485695ab"
      },
      "source": [
        "#for testing our model after training, we have printed the classes of MNIST data for the groundtruth image \n",
        "#In the evaluation phase we printed the classes of MNIST data with their predicted class\n",
        "#we compare how correctly it predicted the classes between orginal and the predicted data\n",
        "MNIST_Class = ('0', '1', '2', '3', '4','5', '6', '7', '8', '9')\n",
        "device =torch.device('cpu')\n",
        "for X, y in Testdata_Loader:\n",
        "  X = X[:6]\n",
        "  y = y[:6] \n",
        "  def imshow(figure):\n",
        "    figure = figure\n",
        "    plt.xticks([])\n",
        "    plt.yticks([])\n",
        "    plt.tight_layout()\n",
        "    plt.imshow(np.transpose(figure.numpy(), (1,2,0)))\n",
        "    plt.show()\n",
        "#Plotting the Groundtruth image\n",
        "center = \"GROUNDTRUTH IMAGE\"\n",
        "print(\"{center:^10}\".format(center=center))\n",
        "imshow(make_grid(X))"
      ],
      "execution_count": null,
      "outputs": [
        {
          "output_type": "stream",
          "text": [
            "GROUNDTRUTH IMAGE\n"
          ],
          "name": "stdout"
        },
        {
          "output_type": "display_data",
          "data": {
            "image/png": "[encoded data removed]",
            "text/plain": [
              "<Figure size 432x288 with 1 Axes>"
            ]
          },
          "metadata": {
            "tags": []
          }
        }
      ]
    },
    {
      "cell_type": "code",
      "metadata": {
        "colab": {
          "base_uri": "https://localhost:8080/"
        },
        "id": "GZ8yrvMSJZOQ",
        "outputId": "03135e5a-48ed-4627-8285-5fd0e03ffed3"
      },
      "source": [
        "#Getting the predicted classes\n",
        "Final_Out = Network_arch(X)\n",
        "_, prediction = torch.max(Final_Out, 1)\n",
        "#printing the classes of groundtruth data\n",
        "print(\"----------------------------------------\")\n",
        "print('Orginal images classes: ',' '.join(MNIST_Class[y[GT_data_out]] for GT_data_out in range(6)))\n",
        "print(\"----------------------------------------\")\n",
        "#printing the classes of prediction data\n",
        "print('Predicted images classes: ',' '.join(MNIST_Class[prediction[Pred_data_out]] for Pred_data_out in range(6)))\n",
        "print(\"----------------------------------------\")"
      ],
      "execution_count": null,
      "outputs": [
        {
          "output_type": "stream",
          "text": [
            "----------------------------------------\n",
            "Orginal images classes:  1 2 3 4 5 6\n",
            "----------------------------------------\n",
            "Predicted images classes:  1 2 3 4 5 6\n",
            "----------------------------------------\n"
          ],
          "name": "stdout"
        }
      ]
    },
    {
      "cell_type": "code",
      "metadata": {
        "colab": {
          "base_uri": "https://localhost:8080/"
        },
        "id": "hBFt-usQbFSr",
        "outputId": "8ebba28f-fc0a-40d5-ac88-a8b24f770d23"
      },
      "source": [
        "#Calculating the induvidual accuracy of Each classes defined\n",
        "accurate_class_pred = list(range(10))\n",
        "Combined_class_accurate = list(range(10))\n",
        "with torch.no_grad():\n",
        "    for X, y in Testdata_Loader:\n",
        "      X = X.to(device) \n",
        "      y = y.to(device)\n",
        "      Final_Out = Network_arch(X)\n",
        "      _, Induvidual_class_prediction = torch.max(Final_Out, 1)\n",
        "      CIF_out = (Induvidual_class_prediction == y)\n",
        "      for Induvidual_out in range(6):\n",
        "        accurate_class_pred[y[Induvidual_out]] += CIF_out[Induvidual_out].item()\n",
        "        Combined_class_accurate[y[Induvidual_out]] += 1 \n",
        "#Printing the accuracy of Each classes       \n",
        "for Induvidual_class_accuracy in range(10):\n",
        "  print(\"---------------------------\")\n",
        "  print('Accuracy of %5s : %d %%' % (MNIST_Class[Induvidual_class_accuracy], accurate_class_pred[Induvidual_class_accuracy] / Combined_class_accurate[Induvidual_class_accuracy] *100))\n",
        "  print(\"---------------------------\")"
      ],
      "execution_count": null,
      "outputs": [
        {
          "output_type": "stream",
          "text": [
            "---------------------------\n",
            "Accuracy of     0 : 98 %\n",
            "---------------------------\n",
            "---------------------------\n",
            "Accuracy of     1 : 99 %\n",
            "---------------------------\n",
            "---------------------------\n",
            "Accuracy of     2 : 99 %\n",
            "---------------------------\n",
            "---------------------------\n",
            "Accuracy of     3 : 98 %\n",
            "---------------------------\n",
            "---------------------------\n",
            "Accuracy of     4 : 98 %\n",
            "---------------------------\n",
            "---------------------------\n",
            "Accuracy of     5 : 97 %\n",
            "---------------------------\n",
            "---------------------------\n",
            "Accuracy of     6 : 98 %\n",
            "---------------------------\n",
            "---------------------------\n",
            "Accuracy of     7 : 99 %\n",
            "---------------------------\n",
            "---------------------------\n",
            "Accuracy of     8 : 99 %\n",
            "---------------------------\n",
            "---------------------------\n",
            "Accuracy of     9 : 100 %\n",
            "---------------------------\n"
          ],
          "name": "stdout"
        }
      ]
    },
    {
      "cell_type": "code",
      "metadata": {
        "id": "k1A_TqCf1P3o"
      },
      "source": [
        "#Seperating the correct and incorrect predictions and appending it to a seperate list\n",
        "Correct_Data = []\n",
        "Incorrect_Data = []\n",
        "Label_for_pic, Prediction = Cross_validate_predicted_data(Network_arch, Testdata_Loader)\n",
        "Predicted_label = torch.argmax(Prediction, 1)\n",
        "MNIST_Classes = MNIST_testdata.classes\n",
        "Accurate_prediction = torch.eq(Label_for_pic, Predicted_label)\n",
        "for i, j, Correct_data_prediction in zip(Label_for_pic, Prediction, Accurate_prediction):\n",
        "    if Correct_data_prediction:\n",
        "      Correct_Data.append((i, j))\n",
        "    else:\n",
        "      Incorrect_Data.append((i, j))\n",
        "#Randomly sorting the samples\n",
        "Correct_Data.sort(key = lambda Correct_samples: torch.max(Correct_samples[1], -1).values)\n",
        "Incorrect_Data.sort(key = lambda Incorrect_samples: torch.max(Incorrect_samples[1], -1).values)"
      ],
      "execution_count": null,
      "outputs": []
    },
    {
      "cell_type": "markdown",
      "metadata": {
        "id": "_ndRvXWf16fF"
      },
      "source": [
        "**Examples of Correct Predictions**"
      ]
    },
    {
      "cell_type": "code",
      "metadata": {
        "colab": {
          "base_uri": "https://localhost:8080/"
        },
        "id": "wKYURb-E1Pwr",
        "outputId": "b8911c25-2fe0-4fb5-a66b-e1eff81c7f84"
      },
      "source": [
        "#Examples of Correct Prediction\n",
        "def Correct_Prediction(Correct_label_predict, MNIST_Classes):\n",
        "    for Sample in range(1*5):\n",
        "        Correct_Label, Prediction = Correct_label_predict[Sample]\n",
        "        Correct_pred, Correctly_predicted_label = torch.max(Prediction, -1)\n",
        "        Original_class = MNIST_Classes[Correct_Label]\n",
        "        Correctly_Predicted_class = MNIST_Classes[Correctly_predicted_label ]\n",
        "        print(\"------------------------------------\")\n",
        "        print(f'Orginal images class   :  {Original_class}')\n",
        "        print(\"------------------------------------\")\n",
        "        print(f'Predicted images class :  {Correctly_Predicted_class}')\n",
        "        print(\"------------------------------------\")\n",
        "Correct_Prediction(Correct_Data, MNIST_Classes)"
      ],
      "execution_count": null,
      "outputs": [
        {
          "output_type": "stream",
          "text": [
            "------------------------------------\n",
            "Orginal images class   :  9 - nine\n",
            "------------------------------------\n",
            "Predicted images class :  9 - nine\n",
            "------------------------------------\n",
            "------------------------------------\n",
            "Orginal images class   :  2 - two\n",
            "------------------------------------\n",
            "Predicted images class :  2 - two\n",
            "------------------------------------\n",
            "------------------------------------\n",
            "Orginal images class   :  0 - zero\n",
            "------------------------------------\n",
            "Predicted images class :  0 - zero\n",
            "------------------------------------\n",
            "------------------------------------\n",
            "Orginal images class   :  7 - seven\n",
            "------------------------------------\n",
            "Predicted images class :  7 - seven\n",
            "------------------------------------\n",
            "------------------------------------\n",
            "Orginal images class   :  0 - zero\n",
            "------------------------------------\n",
            "Predicted images class :  0 - zero\n",
            "------------------------------------\n"
          ],
          "name": "stdout"
        }
      ]
    },
    {
      "cell_type": "markdown",
      "metadata": {
        "id": "77AaYE-_1yzo"
      },
      "source": [
        "**Examples of Incorrect Predictions**"
      ]
    },
    {
      "cell_type": "code",
      "metadata": {
        "colab": {
          "base_uri": "https://localhost:8080/"
        },
        "id": "1CtPOvt31PpL",
        "outputId": "1457a8b8-d0c1-49cf-f4a5-078bc9fcf9b0"
      },
      "source": [
        "#Examples of Incorrect Prediction\n",
        "def Incorrect_Prediction(Incorrect_label_predict, MNIST_Classes):\n",
        "    for Sample in range(1*5):\n",
        "        Incorrect_Label, Prediction = Incorrect_label_predict[Sample]\n",
        "        Incorrect_pred, Incorrectly_predicted_label = torch.max(Prediction, -1)\n",
        "        Original_class = MNIST_Classes[Incorrect_Label]\n",
        "        Incorrectly_Predicted_class = MNIST_Classes[Incorrectly_predicted_label ]\n",
        "        print(\"------------------------------------\")\n",
        "        print(f'Orginal images class   :  {Original_class}')\n",
        "        print(\"------------------------------------\")\n",
        "        print(f'Predicted images class :  {Incorrectly_Predicted_class}')\n",
        "        print(\"------------------------------------\")\n",
        "Correct_Prediction(Incorrect_Data, MNIST_Classes)"
      ],
      "execution_count": null,
      "outputs": [
        {
          "output_type": "stream",
          "text": [
            "------------------------------------\n",
            "Orginal images class   :  3 - three\n",
            "------------------------------------\n",
            "Predicted images class :  9 - nine\n",
            "------------------------------------\n",
            "------------------------------------\n",
            "Orginal images class   :  6 - six\n",
            "------------------------------------\n",
            "Predicted images class :  3 - three\n",
            "------------------------------------\n",
            "------------------------------------\n",
            "Orginal images class   :  7 - seven\n",
            "------------------------------------\n",
            "Predicted images class :  3 - three\n",
            "------------------------------------\n",
            "------------------------------------\n",
            "Orginal images class   :  8 - eight\n",
            "------------------------------------\n",
            "Predicted images class :  0 - zero\n",
            "------------------------------------\n",
            "------------------------------------\n",
            "Orginal images class   :  5 - five\n",
            "------------------------------------\n",
            "Predicted images class :  6 - six\n",
            "------------------------------------\n"
          ],
          "name": "stdout"
        }
      ]
    },
    {
      "cell_type": "markdown",
      "metadata": {
        "id": "OAhLyxXW1q8x"
      },
      "source": [
        "**Confusion Matrix**"
      ]
    },
    {
      "cell_type": "code",
      "metadata": {
        "colab": {
          "base_uri": "https://localhost:8080/",
          "height": 689
        },
        "id": "fUYftpM61PFe",
        "outputId": "e9586c92-f53b-473f-9dd3-8b6d27b7444a"
      },
      "source": [
        "#Plotting the confusion matrix\n",
        "Figure = plt.figure(figsize=(12, 12))\n",
        "Axis = Figure.add_subplot(1, 1, 1)\n",
        "Confusion_Matrix = confusion_matrix(Label_for_pic, Predicted_label)\n",
        "Confusion_Heatmap_display = ConfusionMatrixDisplay(Confusion_Matrix, MNIST_Classes)\n",
        "Final_Heatmap_for_Predicted_data = Confusion_Heatmap_display.plot(ax=Axis, values_format='d', cmap = 'Greens')"
      ],
      "execution_count": null,
      "outputs": [
        {
          "output_type": "display_data",
          "data": {
            "image/png": "[encoded data removed]",
            "text/plain": [
              "<Figure size 864x864 with 2 Axes>"
            ]
          },
          "metadata": {
            "tags": [],
            "needs_background": "light"
          }
        }
      ]
    },
    {
      "cell_type": "code",
      "metadata": {
        "colab": {
          "base_uri": "https://localhost:8080/"
        },
        "id": "lyuyM-2UkY8B",
        "outputId": "4952ed9b-0a01-402d-bbbb-850425608b7a"
      },
      "source": [
        "#I have Executed the code in Google Colab pro. so that, I have printed the usage of gpu provided\n",
        "GPU_Usage_data = !nvidia-smi\n",
        "GPU_Usage_data  = '\\n'.join(GPU_Usage_data )\n",
        "if GPU_Usage_data .find('failed') >= 0:\n",
        "  print('Select the Runtime > \"Change runtime type\" menu to enable a GPU accelerator, ')\n",
        "  print('and then re-execute this cell.')\n",
        "else:\n",
        "  print(GPU_Usage_data )"
      ],
      "execution_count": null,
      "outputs": [
        {
          "output_type": "stream",
          "text": [
            "Mon May 17 07:55:02 2021       \n",
            "+-----------------------------------------------------------------------------+\n",
            "| NVIDIA-SMI 465.19.01    Driver Version: 460.32.03    CUDA Version: 11.2     |\n",
            "|-------------------------------+----------------------+----------------------+\n",
            "| GPU  Name        Persistence-M| Bus-Id        Disp.A | Volatile Uncorr. ECC |\n",
            "| Fan  Temp  Perf  Pwr:Usage/Cap|         Memory-Usage | GPU-Util  Compute M. |\n",
            "|                               |                      |               MIG M. |\n",
            "|===============================+======================+======================|\n",
            "|   0  Tesla P100-PCIE...  Off  | 00000000:00:04.0 Off |                    0 |\n",
            "| N/A   47C    P0    34W / 250W |   1115MiB / 16280MiB |      0%      Default |\n",
            "|                               |                      |                  N/A |\n",
            "+-------------------------------+----------------------+----------------------+\n",
            "                                                                               \n",
            "+-----------------------------------------------------------------------------+\n",
            "| Processes:                                                                  |\n",
            "|  GPU   GI   CI        PID   Type   Process name                  GPU Memory |\n",
            "|        ID   ID                                                   Usage      |\n",
            "|=============================================================================|\n",
            "+-----------------------------------------------------------------------------+\n"
          ],
          "name": "stdout"
        }
      ]
    }
  ]
}