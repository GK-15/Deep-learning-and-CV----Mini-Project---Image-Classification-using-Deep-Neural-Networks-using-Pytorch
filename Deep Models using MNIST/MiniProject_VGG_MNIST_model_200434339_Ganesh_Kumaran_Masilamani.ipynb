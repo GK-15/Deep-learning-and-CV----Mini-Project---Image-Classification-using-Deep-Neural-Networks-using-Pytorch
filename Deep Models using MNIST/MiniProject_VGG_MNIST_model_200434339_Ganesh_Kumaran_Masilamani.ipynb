{
  "nbformat": 4,
  "nbformat_minor": 0,
  "metadata": {
    "colab": {
      "name": "MiniProject_VGG_MNIST_model_200434339_Ganesh_Kumaran_Masilamani.ipynb",
      "provenance": [],
      "collapsed_sections": [],
      "machine_shape": "hm"
    },
    "kernelspec": {
      "name": "python3",
      "display_name": "Python 3"
    },
    "accelerator": "GPU",
    "widgets": {
      "application/vnd.jupyter.widget-state+json": {
        "ef1a2592e8e540308c04ad5be9e58277": {
          "model_module": "@jupyter-widgets/controls",
          "model_name": "HBoxModel",
          "state": {
            "_view_name": "HBoxView",
            "_dom_classes": [],
            "_model_name": "HBoxModel",
            "_view_module": "@jupyter-widgets/controls",
            "_model_module_version": "1.5.0",
            "_view_count": null,
            "_view_module_version": "1.5.0",
            "box_style": "",
            "layout": "IPY_MODEL_ac519a1ae42f4f62a304b2b5f917ff02",
            "_model_module": "@jupyter-widgets/controls",
            "children": [
              "IPY_MODEL_ee13a1c8c95145a486726c7cc2166449",
              "IPY_MODEL_27579a7ddae54622b248252e30a803e8"
            ]
          }
        },
        "ac519a1ae42f4f62a304b2b5f917ff02": {
          "model_module": "@jupyter-widgets/base",
          "model_name": "LayoutModel",
          "state": {
            "_view_name": "LayoutView",
            "grid_template_rows": null,
            "right": null,
            "justify_content": null,
            "_view_module": "@jupyter-widgets/base",
            "overflow": null,
            "_model_module_version": "1.2.0",
            "_view_count": null,
            "flex_flow": null,
            "width": null,
            "min_width": null,
            "border": null,
            "align_items": null,
            "bottom": null,
            "_model_module": "@jupyter-widgets/base",
            "top": null,
            "grid_column": null,
            "overflow_y": null,
            "overflow_x": null,
            "grid_auto_flow": null,
            "grid_area": null,
            "grid_template_columns": null,
            "flex": null,
            "_model_name": "LayoutModel",
            "justify_items": null,
            "grid_row": null,
            "max_height": null,
            "align_content": null,
            "visibility": null,
            "align_self": null,
            "height": null,
            "min_height": null,
            "padding": null,
            "grid_auto_rows": null,
            "grid_gap": null,
            "max_width": null,
            "order": null,
            "_view_module_version": "1.2.0",
            "grid_template_areas": null,
            "object_position": null,
            "object_fit": null,
            "grid_auto_columns": null,
            "margin": null,
            "display": null,
            "left": null
          }
        },
        "ee13a1c8c95145a486726c7cc2166449": {
          "model_module": "@jupyter-widgets/controls",
          "model_name": "FloatProgressModel",
          "state": {
            "_view_name": "ProgressView",
            "style": "IPY_MODEL_23a27d20859a49a09a9f69c628e81494",
            "_dom_classes": [],
            "description": "",
            "_model_name": "FloatProgressModel",
            "bar_style": "success",
            "max": 9912422,
            "_view_module": "@jupyter-widgets/controls",
            "_model_module_version": "1.5.0",
            "value": 9912422,
            "_view_count": null,
            "_view_module_version": "1.5.0",
            "orientation": "horizontal",
            "min": 0,
            "description_tooltip": null,
            "_model_module": "@jupyter-widgets/controls",
            "layout": "IPY_MODEL_c481d5442b5a4dafb6397a89ac672609"
          }
        },
        "27579a7ddae54622b248252e30a803e8": {
          "model_module": "@jupyter-widgets/controls",
          "model_name": "HTMLModel",
          "state": {
            "_view_name": "HTMLView",
            "style": "IPY_MODEL_12cdd019ff9842d1ad7740491784490c",
            "_dom_classes": [],
            "description": "",
            "_model_name": "HTMLModel",
            "placeholder": "​",
            "_view_module": "@jupyter-widgets/controls",
            "_model_module_version": "1.5.0",
            "value": " 9913344/? [00:00&lt;00:00, 11622920.02it/s]",
            "_view_count": null,
            "_view_module_version": "1.5.0",
            "description_tooltip": null,
            "_model_module": "@jupyter-widgets/controls",
            "layout": "IPY_MODEL_eba8d4d5f63e4df8992bc605a4b4b37e"
          }
        },
        "23a27d20859a49a09a9f69c628e81494": {
          "model_module": "@jupyter-widgets/controls",
          "model_name": "ProgressStyleModel",
          "state": {
            "_view_name": "StyleView",
            "_model_name": "ProgressStyleModel",
            "description_width": "initial",
            "_view_module": "@jupyter-widgets/base",
            "_model_module_version": "1.5.0",
            "_view_count": null,
            "_view_module_version": "1.2.0",
            "bar_color": null,
            "_model_module": "@jupyter-widgets/controls"
          }
        },
        "c481d5442b5a4dafb6397a89ac672609": {
          "model_module": "@jupyter-widgets/base",
          "model_name": "LayoutModel",
          "state": {
            "_view_name": "LayoutView",
            "grid_template_rows": null,
            "right": null,
            "justify_content": null,
            "_view_module": "@jupyter-widgets/base",
            "overflow": null,
            "_model_module_version": "1.2.0",
            "_view_count": null,
            "flex_flow": null,
            "width": null,
            "min_width": null,
            "border": null,
            "align_items": null,
            "bottom": null,
            "_model_module": "@jupyter-widgets/base",
            "top": null,
            "grid_column": null,
            "overflow_y": null,
            "overflow_x": null,
            "grid_auto_flow": null,
            "grid_area": null,
            "grid_template_columns": null,
            "flex": null,
            "_model_name": "LayoutModel",
            "justify_items": null,
            "grid_row": null,
            "max_height": null,
            "align_content": null,
            "visibility": null,
            "align_self": null,
            "height": null,
            "min_height": null,
            "padding": null,
            "grid_auto_rows": null,
            "grid_gap": null,
            "max_width": null,
            "order": null,
            "_view_module_version": "1.2.0",
            "grid_template_areas": null,
            "object_position": null,
            "object_fit": null,
            "grid_auto_columns": null,
            "margin": null,
            "display": null,
            "left": null
          }
        },
        "12cdd019ff9842d1ad7740491784490c": {
          "model_module": "@jupyter-widgets/controls",
          "model_name": "DescriptionStyleModel",
          "state": {
            "_view_name": "StyleView",
            "_model_name": "DescriptionStyleModel",
            "description_width": "",
            "_view_module": "@jupyter-widgets/base",
            "_model_module_version": "1.5.0",
            "_view_count": null,
            "_view_module_version": "1.2.0",
            "_model_module": "@jupyter-widgets/controls"
          }
        },
        "eba8d4d5f63e4df8992bc605a4b4b37e": {
          "model_module": "@jupyter-widgets/base",
          "model_name": "LayoutModel",
          "state": {
            "_view_name": "LayoutView",
            "grid_template_rows": null,
            "right": null,
            "justify_content": null,
            "_view_module": "@jupyter-widgets/base",
            "overflow": null,
            "_model_module_version": "1.2.0",
            "_view_count": null,
            "flex_flow": null,
            "width": null,
            "min_width": null,
            "border": null,
            "align_items": null,
            "bottom": null,
            "_model_module": "@jupyter-widgets/base",
            "top": null,
            "grid_column": null,
            "overflow_y": null,
            "overflow_x": null,
            "grid_auto_flow": null,
            "grid_area": null,
            "grid_template_columns": null,
            "flex": null,
            "_model_name": "LayoutModel",
            "justify_items": null,
            "grid_row": null,
            "max_height": null,
            "align_content": null,
            "visibility": null,
            "align_self": null,
            "height": null,
            "min_height": null,
            "padding": null,
            "grid_auto_rows": null,
            "grid_gap": null,
            "max_width": null,
            "order": null,
            "_view_module_version": "1.2.0",
            "grid_template_areas": null,
            "object_position": null,
            "object_fit": null,
            "grid_auto_columns": null,
            "margin": null,
            "display": null,
            "left": null
          }
        },
        "a592380ab04f45d4ae6b0bfa1c8ae571": {
          "model_module": "@jupyter-widgets/controls",
          "model_name": "HBoxModel",
          "state": {
            "_view_name": "HBoxView",
            "_dom_classes": [],
            "_model_name": "HBoxModel",
            "_view_module": "@jupyter-widgets/controls",
            "_model_module_version": "1.5.0",
            "_view_count": null,
            "_view_module_version": "1.5.0",
            "box_style": "",
            "layout": "IPY_MODEL_f2db443764a94af19077c502a8401b91",
            "_model_module": "@jupyter-widgets/controls",
            "children": [
              "IPY_MODEL_a604c3aa8b9a4b10b09a6b575c654645",
              "IPY_MODEL_0cfc5d477840473c968158a25d38e76a"
            ]
          }
        },
        "f2db443764a94af19077c502a8401b91": {
          "model_module": "@jupyter-widgets/base",
          "model_name": "LayoutModel",
          "state": {
            "_view_name": "LayoutView",
            "grid_template_rows": null,
            "right": null,
            "justify_content": null,
            "_view_module": "@jupyter-widgets/base",
            "overflow": null,
            "_model_module_version": "1.2.0",
            "_view_count": null,
            "flex_flow": null,
            "width": null,
            "min_width": null,
            "border": null,
            "align_items": null,
            "bottom": null,
            "_model_module": "@jupyter-widgets/base",
            "top": null,
            "grid_column": null,
            "overflow_y": null,
            "overflow_x": null,
            "grid_auto_flow": null,
            "grid_area": null,
            "grid_template_columns": null,
            "flex": null,
            "_model_name": "LayoutModel",
            "justify_items": null,
            "grid_row": null,
            "max_height": null,
            "align_content": null,
            "visibility": null,
            "align_self": null,
            "height": null,
            "min_height": null,
            "padding": null,
            "grid_auto_rows": null,
            "grid_gap": null,
            "max_width": null,
            "order": null,
            "_view_module_version": "1.2.0",
            "grid_template_areas": null,
            "object_position": null,
            "object_fit": null,
            "grid_auto_columns": null,
            "margin": null,
            "display": null,
            "left": null
          }
        },
        "a604c3aa8b9a4b10b09a6b575c654645": {
          "model_module": "@jupyter-widgets/controls",
          "model_name": "FloatProgressModel",
          "state": {
            "_view_name": "ProgressView",
            "style": "IPY_MODEL_2f3e389b040548eabbc9394dbae7e49b",
            "_dom_classes": [],
            "description": "",
            "_model_name": "FloatProgressModel",
            "bar_style": "success",
            "max": 28881,
            "_view_module": "@jupyter-widgets/controls",
            "_model_module_version": "1.5.0",
            "value": 28881,
            "_view_count": null,
            "_view_module_version": "1.5.0",
            "orientation": "horizontal",
            "min": 0,
            "description_tooltip": null,
            "_model_module": "@jupyter-widgets/controls",
            "layout": "IPY_MODEL_68f45f9be714444dbe343ca569fe150d"
          }
        },
        "0cfc5d477840473c968158a25d38e76a": {
          "model_module": "@jupyter-widgets/controls",
          "model_name": "HTMLModel",
          "state": {
            "_view_name": "HTMLView",
            "style": "IPY_MODEL_8c2534d353ed4fb9815607255c742f22",
            "_dom_classes": [],
            "description": "",
            "_model_name": "HTMLModel",
            "placeholder": "​",
            "_view_module": "@jupyter-widgets/controls",
            "_model_module_version": "1.5.0",
            "value": " 29696/? [04:31&lt;00:00, 109.23it/s]",
            "_view_count": null,
            "_view_module_version": "1.5.0",
            "description_tooltip": null,
            "_model_module": "@jupyter-widgets/controls",
            "layout": "IPY_MODEL_3067a0291c834b6a95f0507b4ace86d1"
          }
        },
        "2f3e389b040548eabbc9394dbae7e49b": {
          "model_module": "@jupyter-widgets/controls",
          "model_name": "ProgressStyleModel",
          "state": {
            "_view_name": "StyleView",
            "_model_name": "ProgressStyleModel",
            "description_width": "initial",
            "_view_module": "@jupyter-widgets/base",
            "_model_module_version": "1.5.0",
            "_view_count": null,
            "_view_module_version": "1.2.0",
            "bar_color": null,
            "_model_module": "@jupyter-widgets/controls"
          }
        },
        "68f45f9be714444dbe343ca569fe150d": {
          "model_module": "@jupyter-widgets/base",
          "model_name": "LayoutModel",
          "state": {
            "_view_name": "LayoutView",
            "grid_template_rows": null,
            "right": null,
            "justify_content": null,
            "_view_module": "@jupyter-widgets/base",
            "overflow": null,
            "_model_module_version": "1.2.0",
            "_view_count": null,
            "flex_flow": null,
            "width": null,
            "min_width": null,
            "border": null,
            "align_items": null,
            "bottom": null,
            "_model_module": "@jupyter-widgets/base",
            "top": null,
            "grid_column": null,
            "overflow_y": null,
            "overflow_x": null,
            "grid_auto_flow": null,
            "grid_area": null,
            "grid_template_columns": null,
            "flex": null,
            "_model_name": "LayoutModel",
            "justify_items": null,
            "grid_row": null,
            "max_height": null,
            "align_content": null,
            "visibility": null,
            "align_self": null,
            "height": null,
            "min_height": null,
            "padding": null,
            "grid_auto_rows": null,
            "grid_gap": null,
            "max_width": null,
            "order": null,
            "_view_module_version": "1.2.0",
            "grid_template_areas": null,
            "object_position": null,
            "object_fit": null,
            "grid_auto_columns": null,
            "margin": null,
            "display": null,
            "left": null
          }
        },
        "8c2534d353ed4fb9815607255c742f22": {
          "model_module": "@jupyter-widgets/controls",
          "model_name": "DescriptionStyleModel",
          "state": {
            "_view_name": "StyleView",
            "_model_name": "DescriptionStyleModel",
            "description_width": "",
            "_view_module": "@jupyter-widgets/base",
            "_model_module_version": "1.5.0",
            "_view_count": null,
            "_view_module_version": "1.2.0",
            "_model_module": "@jupyter-widgets/controls"
          }
        },
        "3067a0291c834b6a95f0507b4ace86d1": {
          "model_module": "@jupyter-widgets/base",
          "model_name": "LayoutModel",
          "state": {
            "_view_name": "LayoutView",
            "grid_template_rows": null,
            "right": null,
            "justify_content": null,
            "_view_module": "@jupyter-widgets/base",
            "overflow": null,
            "_model_module_version": "1.2.0",
            "_view_count": null,
            "flex_flow": null,
            "width": null,
            "min_width": null,
            "border": null,
            "align_items": null,
            "bottom": null,
            "_model_module": "@jupyter-widgets/base",
            "top": null,
            "grid_column": null,
            "overflow_y": null,
            "overflow_x": null,
            "grid_auto_flow": null,
            "grid_area": null,
            "grid_template_columns": null,
            "flex": null,
            "_model_name": "LayoutModel",
            "justify_items": null,
            "grid_row": null,
            "max_height": null,
            "align_content": null,
            "visibility": null,
            "align_self": null,
            "height": null,
            "min_height": null,
            "padding": null,
            "grid_auto_rows": null,
            "grid_gap": null,
            "max_width": null,
            "order": null,
            "_view_module_version": "1.2.0",
            "grid_template_areas": null,
            "object_position": null,
            "object_fit": null,
            "grid_auto_columns": null,
            "margin": null,
            "display": null,
            "left": null
          }
        },
        "e20ff8c3d6504fc99794d99afb10082c": {
          "model_module": "@jupyter-widgets/controls",
          "model_name": "HBoxModel",
          "state": {
            "_view_name": "HBoxView",
            "_dom_classes": [],
            "_model_name": "HBoxModel",
            "_view_module": "@jupyter-widgets/controls",
            "_model_module_version": "1.5.0",
            "_view_count": null,
            "_view_module_version": "1.5.0",
            "box_style": "",
            "layout": "IPY_MODEL_c48ae13a750845fa9fcf67fa6cd80738",
            "_model_module": "@jupyter-widgets/controls",
            "children": [
              "IPY_MODEL_c1cee6d0af52427f87eaf2f57cda237c",
              "IPY_MODEL_d7ded2c015eb4629870c566f9fe44702"
            ]
          }
        },
        "c48ae13a750845fa9fcf67fa6cd80738": {
          "model_module": "@jupyter-widgets/base",
          "model_name": "LayoutModel",
          "state": {
            "_view_name": "LayoutView",
            "grid_template_rows": null,
            "right": null,
            "justify_content": null,
            "_view_module": "@jupyter-widgets/base",
            "overflow": null,
            "_model_module_version": "1.2.0",
            "_view_count": null,
            "flex_flow": null,
            "width": null,
            "min_width": null,
            "border": null,
            "align_items": null,
            "bottom": null,
            "_model_module": "@jupyter-widgets/base",
            "top": null,
            "grid_column": null,
            "overflow_y": null,
            "overflow_x": null,
            "grid_auto_flow": null,
            "grid_area": null,
            "grid_template_columns": null,
            "flex": null,
            "_model_name": "LayoutModel",
            "justify_items": null,
            "grid_row": null,
            "max_height": null,
            "align_content": null,
            "visibility": null,
            "align_self": null,
            "height": null,
            "min_height": null,
            "padding": null,
            "grid_auto_rows": null,
            "grid_gap": null,
            "max_width": null,
            "order": null,
            "_view_module_version": "1.2.0",
            "grid_template_areas": null,
            "object_position": null,
            "object_fit": null,
            "grid_auto_columns": null,
            "margin": null,
            "display": null,
            "left": null
          }
        },
        "c1cee6d0af52427f87eaf2f57cda237c": {
          "model_module": "@jupyter-widgets/controls",
          "model_name": "FloatProgressModel",
          "state": {
            "_view_name": "ProgressView",
            "style": "IPY_MODEL_d43c711d9f1f476aa8fabd747c66fd2d",
            "_dom_classes": [],
            "description": "",
            "_model_name": "FloatProgressModel",
            "bar_style": "success",
            "max": 1648877,
            "_view_module": "@jupyter-widgets/controls",
            "_model_module_version": "1.5.0",
            "value": 1648877,
            "_view_count": null,
            "_view_module_version": "1.5.0",
            "orientation": "horizontal",
            "min": 0,
            "description_tooltip": null,
            "_model_module": "@jupyter-widgets/controls",
            "layout": "IPY_MODEL_bef2a17c067a4346829fbfd19a40798f"
          }
        },
        "d7ded2c015eb4629870c566f9fe44702": {
          "model_module": "@jupyter-widgets/controls",
          "model_name": "HTMLModel",
          "state": {
            "_view_name": "HTMLView",
            "style": "IPY_MODEL_17aea173bfd24035a23048583cf39f4e",
            "_dom_classes": [],
            "description": "",
            "_model_name": "HTMLModel",
            "placeholder": "​",
            "_view_module": "@jupyter-widgets/controls",
            "_model_module_version": "1.5.0",
            "value": " 1649664/? [00:00&lt;00:00, 3170192.46it/s]",
            "_view_count": null,
            "_view_module_version": "1.5.0",
            "description_tooltip": null,
            "_model_module": "@jupyter-widgets/controls",
            "layout": "IPY_MODEL_9c83b47a917542cabde46cdca58ae033"
          }
        },
        "d43c711d9f1f476aa8fabd747c66fd2d": {
          "model_module": "@jupyter-widgets/controls",
          "model_name": "ProgressStyleModel",
          "state": {
            "_view_name": "StyleView",
            "_model_name": "ProgressStyleModel",
            "description_width": "initial",
            "_view_module": "@jupyter-widgets/base",
            "_model_module_version": "1.5.0",
            "_view_count": null,
            "_view_module_version": "1.2.0",
            "bar_color": null,
            "_model_module": "@jupyter-widgets/controls"
          }
        },
        "bef2a17c067a4346829fbfd19a40798f": {
          "model_module": "@jupyter-widgets/base",
          "model_name": "LayoutModel",
          "state": {
            "_view_name": "LayoutView",
            "grid_template_rows": null,
            "right": null,
            "justify_content": null,
            "_view_module": "@jupyter-widgets/base",
            "overflow": null,
            "_model_module_version": "1.2.0",
            "_view_count": null,
            "flex_flow": null,
            "width": null,
            "min_width": null,
            "border": null,
            "align_items": null,
            "bottom": null,
            "_model_module": "@jupyter-widgets/base",
            "top": null,
            "grid_column": null,
            "overflow_y": null,
            "overflow_x": null,
            "grid_auto_flow": null,
            "grid_area": null,
            "grid_template_columns": null,
            "flex": null,
            "_model_name": "LayoutModel",
            "justify_items": null,
            "grid_row": null,
            "max_height": null,
            "align_content": null,
            "visibility": null,
            "align_self": null,
            "height": null,
            "min_height": null,
            "padding": null,
            "grid_auto_rows": null,
            "grid_gap": null,
            "max_width": null,
            "order": null,
            "_view_module_version": "1.2.0",
            "grid_template_areas": null,
            "object_position": null,
            "object_fit": null,
            "grid_auto_columns": null,
            "margin": null,
            "display": null,
            "left": null
          }
        },
        "17aea173bfd24035a23048583cf39f4e": {
          "model_module": "@jupyter-widgets/controls",
          "model_name": "DescriptionStyleModel",
          "state": {
            "_view_name": "StyleView",
            "_model_name": "DescriptionStyleModel",
            "description_width": "",
            "_view_module": "@jupyter-widgets/base",
            "_model_module_version": "1.5.0",
            "_view_count": null,
            "_view_module_version": "1.2.0",
            "_model_module": "@jupyter-widgets/controls"
          }
        },
        "9c83b47a917542cabde46cdca58ae033": {
          "model_module": "@jupyter-widgets/base",
          "model_name": "LayoutModel",
          "state": {
            "_view_name": "LayoutView",
            "grid_template_rows": null,
            "right": null,
            "justify_content": null,
            "_view_module": "@jupyter-widgets/base",
            "overflow": null,
            "_model_module_version": "1.2.0",
            "_view_count": null,
            "flex_flow": null,
            "width": null,
            "min_width": null,
            "border": null,
            "align_items": null,
            "bottom": null,
            "_model_module": "@jupyter-widgets/base",
            "top": null,
            "grid_column": null,
            "overflow_y": null,
            "overflow_x": null,
            "grid_auto_flow": null,
            "grid_area": null,
            "grid_template_columns": null,
            "flex": null,
            "_model_name": "LayoutModel",
            "justify_items": null,
            "grid_row": null,
            "max_height": null,
            "align_content": null,
            "visibility": null,
            "align_self": null,
            "height": null,
            "min_height": null,
            "padding": null,
            "grid_auto_rows": null,
            "grid_gap": null,
            "max_width": null,
            "order": null,
            "_view_module_version": "1.2.0",
            "grid_template_areas": null,
            "object_position": null,
            "object_fit": null,
            "grid_auto_columns": null,
            "margin": null,
            "display": null,
            "left": null
          }
        },
        "afe2aaded28b4ce4a27a12a738c7e69b": {
          "model_module": "@jupyter-widgets/controls",
          "model_name": "HBoxModel",
          "state": {
            "_view_name": "HBoxView",
            "_dom_classes": [],
            "_model_name": "HBoxModel",
            "_view_module": "@jupyter-widgets/controls",
            "_model_module_version": "1.5.0",
            "_view_count": null,
            "_view_module_version": "1.5.0",
            "box_style": "",
            "layout": "IPY_MODEL_7c7ba293b1704ae7b89071d33f2a4955",
            "_model_module": "@jupyter-widgets/controls",
            "children": [
              "IPY_MODEL_4493d8ea73f84cd68183a7c3a1a04e34",
              "IPY_MODEL_897584f1736245a3ac77273604d90b3e"
            ]
          }
        },
        "7c7ba293b1704ae7b89071d33f2a4955": {
          "model_module": "@jupyter-widgets/base",
          "model_name": "LayoutModel",
          "state": {
            "_view_name": "LayoutView",
            "grid_template_rows": null,
            "right": null,
            "justify_content": null,
            "_view_module": "@jupyter-widgets/base",
            "overflow": null,
            "_model_module_version": "1.2.0",
            "_view_count": null,
            "flex_flow": null,
            "width": null,
            "min_width": null,
            "border": null,
            "align_items": null,
            "bottom": null,
            "_model_module": "@jupyter-widgets/base",
            "top": null,
            "grid_column": null,
            "overflow_y": null,
            "overflow_x": null,
            "grid_auto_flow": null,
            "grid_area": null,
            "grid_template_columns": null,
            "flex": null,
            "_model_name": "LayoutModel",
            "justify_items": null,
            "grid_row": null,
            "max_height": null,
            "align_content": null,
            "visibility": null,
            "align_self": null,
            "height": null,
            "min_height": null,
            "padding": null,
            "grid_auto_rows": null,
            "grid_gap": null,
            "max_width": null,
            "order": null,
            "_view_module_version": "1.2.0",
            "grid_template_areas": null,
            "object_position": null,
            "object_fit": null,
            "grid_auto_columns": null,
            "margin": null,
            "display": null,
            "left": null
          }
        },
        "4493d8ea73f84cd68183a7c3a1a04e34": {
          "model_module": "@jupyter-widgets/controls",
          "model_name": "FloatProgressModel",
          "state": {
            "_view_name": "ProgressView",
            "style": "IPY_MODEL_c2ca228f77e34ad68247093f2b48907b",
            "_dom_classes": [],
            "description": "",
            "_model_name": "FloatProgressModel",
            "bar_style": "success",
            "max": 4542,
            "_view_module": "@jupyter-widgets/controls",
            "_model_module_version": "1.5.0",
            "value": 4542,
            "_view_count": null,
            "_view_module_version": "1.5.0",
            "orientation": "horizontal",
            "min": 0,
            "description_tooltip": null,
            "_model_module": "@jupyter-widgets/controls",
            "layout": "IPY_MODEL_a89ab1f4df594dc99b7db5c8cf57b7d9"
          }
        },
        "897584f1736245a3ac77273604d90b3e": {
          "model_module": "@jupyter-widgets/controls",
          "model_name": "HTMLModel",
          "state": {
            "_view_name": "HTMLView",
            "style": "IPY_MODEL_c4326c89c80a45e98c110f940f9da046",
            "_dom_classes": [],
            "description": "",
            "_model_name": "HTMLModel",
            "placeholder": "​",
            "_view_module": "@jupyter-widgets/controls",
            "_model_module_version": "1.5.0",
            "value": " 5120/? [04:30&lt;00:00, 18.90it/s]",
            "_view_count": null,
            "_view_module_version": "1.5.0",
            "description_tooltip": null,
            "_model_module": "@jupyter-widgets/controls",
            "layout": "IPY_MODEL_5b37671e3b9041cf84f6ea43a1a5a184"
          }
        },
        "c2ca228f77e34ad68247093f2b48907b": {
          "model_module": "@jupyter-widgets/controls",
          "model_name": "ProgressStyleModel",
          "state": {
            "_view_name": "StyleView",
            "_model_name": "ProgressStyleModel",
            "description_width": "initial",
            "_view_module": "@jupyter-widgets/base",
            "_model_module_version": "1.5.0",
            "_view_count": null,
            "_view_module_version": "1.2.0",
            "bar_color": null,
            "_model_module": "@jupyter-widgets/controls"
          }
        },
        "a89ab1f4df594dc99b7db5c8cf57b7d9": {
          "model_module": "@jupyter-widgets/base",
          "model_name": "LayoutModel",
          "state": {
            "_view_name": "LayoutView",
            "grid_template_rows": null,
            "right": null,
            "justify_content": null,
            "_view_module": "@jupyter-widgets/base",
            "overflow": null,
            "_model_module_version": "1.2.0",
            "_view_count": null,
            "flex_flow": null,
            "width": null,
            "min_width": null,
            "border": null,
            "align_items": null,
            "bottom": null,
            "_model_module": "@jupyter-widgets/base",
            "top": null,
            "grid_column": null,
            "overflow_y": null,
            "overflow_x": null,
            "grid_auto_flow": null,
            "grid_area": null,
            "grid_template_columns": null,
            "flex": null,
            "_model_name": "LayoutModel",
            "justify_items": null,
            "grid_row": null,
            "max_height": null,
            "align_content": null,
            "visibility": null,
            "align_self": null,
            "height": null,
            "min_height": null,
            "padding": null,
            "grid_auto_rows": null,
            "grid_gap": null,
            "max_width": null,
            "order": null,
            "_view_module_version": "1.2.0",
            "grid_template_areas": null,
            "object_position": null,
            "object_fit": null,
            "grid_auto_columns": null,
            "margin": null,
            "display": null,
            "left": null
          }
        },
        "c4326c89c80a45e98c110f940f9da046": {
          "model_module": "@jupyter-widgets/controls",
          "model_name": "DescriptionStyleModel",
          "state": {
            "_view_name": "StyleView",
            "_model_name": "DescriptionStyleModel",
            "description_width": "",
            "_view_module": "@jupyter-widgets/base",
            "_model_module_version": "1.5.0",
            "_view_count": null,
            "_view_module_version": "1.2.0",
            "_model_module": "@jupyter-widgets/controls"
          }
        },
        "5b37671e3b9041cf84f6ea43a1a5a184": {
          "model_module": "@jupyter-widgets/base",
          "model_name": "LayoutModel",
          "state": {
            "_view_name": "LayoutView",
            "grid_template_rows": null,
            "right": null,
            "justify_content": null,
            "_view_module": "@jupyter-widgets/base",
            "overflow": null,
            "_model_module_version": "1.2.0",
            "_view_count": null,
            "flex_flow": null,
            "width": null,
            "min_width": null,
            "border": null,
            "align_items": null,
            "bottom": null,
            "_model_module": "@jupyter-widgets/base",
            "top": null,
            "grid_column": null,
            "overflow_y": null,
            "overflow_x": null,
            "grid_auto_flow": null,
            "grid_area": null,
            "grid_template_columns": null,
            "flex": null,
            "_model_name": "LayoutModel",
            "justify_items": null,
            "grid_row": null,
            "max_height": null,
            "align_content": null,
            "visibility": null,
            "align_self": null,
            "height": null,
            "min_height": null,
            "padding": null,
            "grid_auto_rows": null,
            "grid_gap": null,
            "max_width": null,
            "order": null,
            "_view_module_version": "1.2.0",
            "grid_template_areas": null,
            "object_position": null,
            "object_fit": null,
            "grid_auto_columns": null,
            "margin": null,
            "display": null,
            "left": null
          }
        },
        "ef7cdbe4ef754e59a4cfc417bde89f47": {
          "model_module": "@jupyter-widgets/controls",
          "model_name": "HBoxModel",
          "state": {
            "_view_name": "HBoxView",
            "_dom_classes": [],
            "_model_name": "HBoxModel",
            "_view_module": "@jupyter-widgets/controls",
            "_model_module_version": "1.5.0",
            "_view_count": null,
            "_view_module_version": "1.5.0",
            "box_style": "",
            "layout": "IPY_MODEL_3aa0f3dc5949495cb43569cce8883cd7",
            "_model_module": "@jupyter-widgets/controls",
            "children": [
              "IPY_MODEL_1c7805cf94eb46278bff0c9d59121629",
              "IPY_MODEL_650a36a5630943ffb82aa644add3d98a"
            ]
          }
        },
        "3aa0f3dc5949495cb43569cce8883cd7": {
          "model_module": "@jupyter-widgets/base",
          "model_name": "LayoutModel",
          "state": {
            "_view_name": "LayoutView",
            "grid_template_rows": null,
            "right": null,
            "justify_content": null,
            "_view_module": "@jupyter-widgets/base",
            "overflow": null,
            "_model_module_version": "1.2.0",
            "_view_count": null,
            "flex_flow": null,
            "width": null,
            "min_width": null,
            "border": null,
            "align_items": null,
            "bottom": null,
            "_model_module": "@jupyter-widgets/base",
            "top": null,
            "grid_column": null,
            "overflow_y": null,
            "overflow_x": null,
            "grid_auto_flow": null,
            "grid_area": null,
            "grid_template_columns": null,
            "flex": null,
            "_model_name": "LayoutModel",
            "justify_items": null,
            "grid_row": null,
            "max_height": null,
            "align_content": null,
            "visibility": null,
            "align_self": null,
            "height": null,
            "min_height": null,
            "padding": null,
            "grid_auto_rows": null,
            "grid_gap": null,
            "max_width": null,
            "order": null,
            "_view_module_version": "1.2.0",
            "grid_template_areas": null,
            "object_position": null,
            "object_fit": null,
            "grid_auto_columns": null,
            "margin": null,
            "display": null,
            "left": null
          }
        },
        "1c7805cf94eb46278bff0c9d59121629": {
          "model_module": "@jupyter-widgets/controls",
          "model_name": "FloatProgressModel",
          "state": {
            "_view_name": "ProgressView",
            "style": "IPY_MODEL_95992aeef8604735b23c66e338dd993f",
            "_dom_classes": [],
            "description": "",
            "_model_name": "FloatProgressModel",
            "bar_style": "success",
            "max": 9912422,
            "_view_module": "@jupyter-widgets/controls",
            "_model_module_version": "1.5.0",
            "value": 9912422,
            "_view_count": null,
            "_view_module_version": "1.5.0",
            "orientation": "horizontal",
            "min": 0,
            "description_tooltip": null,
            "_model_module": "@jupyter-widgets/controls",
            "layout": "IPY_MODEL_966a866ccdd24731998effd04037dafb"
          }
        },
        "650a36a5630943ffb82aa644add3d98a": {
          "model_module": "@jupyter-widgets/controls",
          "model_name": "HTMLModel",
          "state": {
            "_view_name": "HTMLView",
            "style": "IPY_MODEL_a779e6d11eee42619b2dc125ae7bee21",
            "_dom_classes": [],
            "description": "",
            "_model_name": "HTMLModel",
            "placeholder": "​",
            "_view_module": "@jupyter-widgets/controls",
            "_model_module_version": "1.5.0",
            "value": " 9913344/? [00:01&lt;00:00, 7140584.10it/s]",
            "_view_count": null,
            "_view_module_version": "1.5.0",
            "description_tooltip": null,
            "_model_module": "@jupyter-widgets/controls",
            "layout": "IPY_MODEL_f1a20d60417d4c43908dcc4a9721cf01"
          }
        },
        "95992aeef8604735b23c66e338dd993f": {
          "model_module": "@jupyter-widgets/controls",
          "model_name": "ProgressStyleModel",
          "state": {
            "_view_name": "StyleView",
            "_model_name": "ProgressStyleModel",
            "description_width": "initial",
            "_view_module": "@jupyter-widgets/base",
            "_model_module_version": "1.5.0",
            "_view_count": null,
            "_view_module_version": "1.2.0",
            "bar_color": null,
            "_model_module": "@jupyter-widgets/controls"
          }
        },
        "966a866ccdd24731998effd04037dafb": {
          "model_module": "@jupyter-widgets/base",
          "model_name": "LayoutModel",
          "state": {
            "_view_name": "LayoutView",
            "grid_template_rows": null,
            "right": null,
            "justify_content": null,
            "_view_module": "@jupyter-widgets/base",
            "overflow": null,
            "_model_module_version": "1.2.0",
            "_view_count": null,
            "flex_flow": null,
            "width": null,
            "min_width": null,
            "border": null,
            "align_items": null,
            "bottom": null,
            "_model_module": "@jupyter-widgets/base",
            "top": null,
            "grid_column": null,
            "overflow_y": null,
            "overflow_x": null,
            "grid_auto_flow": null,
            "grid_area": null,
            "grid_template_columns": null,
            "flex": null,
            "_model_name": "LayoutModel",
            "justify_items": null,
            "grid_row": null,
            "max_height": null,
            "align_content": null,
            "visibility": null,
            "align_self": null,
            "height": null,
            "min_height": null,
            "padding": null,
            "grid_auto_rows": null,
            "grid_gap": null,
            "max_width": null,
            "order": null,
            "_view_module_version": "1.2.0",
            "grid_template_areas": null,
            "object_position": null,
            "object_fit": null,
            "grid_auto_columns": null,
            "margin": null,
            "display": null,
            "left": null
          }
        },
        "a779e6d11eee42619b2dc125ae7bee21": {
          "model_module": "@jupyter-widgets/controls",
          "model_name": "DescriptionStyleModel",
          "state": {
            "_view_name": "StyleView",
            "_model_name": "DescriptionStyleModel",
            "description_width": "",
            "_view_module": "@jupyter-widgets/base",
            "_model_module_version": "1.5.0",
            "_view_count": null,
            "_view_module_version": "1.2.0",
            "_model_module": "@jupyter-widgets/controls"
          }
        },
        "f1a20d60417d4c43908dcc4a9721cf01": {
          "model_module": "@jupyter-widgets/base",
          "model_name": "LayoutModel",
          "state": {
            "_view_name": "LayoutView",
            "grid_template_rows": null,
            "right": null,
            "justify_content": null,
            "_view_module": "@jupyter-widgets/base",
            "overflow": null,
            "_model_module_version": "1.2.0",
            "_view_count": null,
            "flex_flow": null,
            "width": null,
            "min_width": null,
            "border": null,
            "align_items": null,
            "bottom": null,
            "_model_module": "@jupyter-widgets/base",
            "top": null,
            "grid_column": null,
            "overflow_y": null,
            "overflow_x": null,
            "grid_auto_flow": null,
            "grid_area": null,
            "grid_template_columns": null,
            "flex": null,
            "_model_name": "LayoutModel",
            "justify_items": null,
            "grid_row": null,
            "max_height": null,
            "align_content": null,
            "visibility": null,
            "align_self": null,
            "height": null,
            "min_height": null,
            "padding": null,
            "grid_auto_rows": null,
            "grid_gap": null,
            "max_width": null,
            "order": null,
            "_view_module_version": "1.2.0",
            "grid_template_areas": null,
            "object_position": null,
            "object_fit": null,
            "grid_auto_columns": null,
            "margin": null,
            "display": null,
            "left": null
          }
        },
        "dce1ef6a79f94573acf6589fdad744b1": {
          "model_module": "@jupyter-widgets/controls",
          "model_name": "HBoxModel",
          "state": {
            "_view_name": "HBoxView",
            "_dom_classes": [],
            "_model_name": "HBoxModel",
            "_view_module": "@jupyter-widgets/controls",
            "_model_module_version": "1.5.0",
            "_view_count": null,
            "_view_module_version": "1.5.0",
            "box_style": "",
            "layout": "IPY_MODEL_60c1599eb7824d5ba4c72aef77446b9f",
            "_model_module": "@jupyter-widgets/controls",
            "children": [
              "IPY_MODEL_2444cdcaa32d47b69eec7f08a601216f",
              "IPY_MODEL_c343294bd8844989ae8dfafbac9c34b2"
            ]
          }
        },
        "60c1599eb7824d5ba4c72aef77446b9f": {
          "model_module": "@jupyter-widgets/base",
          "model_name": "LayoutModel",
          "state": {
            "_view_name": "LayoutView",
            "grid_template_rows": null,
            "right": null,
            "justify_content": null,
            "_view_module": "@jupyter-widgets/base",
            "overflow": null,
            "_model_module_version": "1.2.0",
            "_view_count": null,
            "flex_flow": null,
            "width": null,
            "min_width": null,
            "border": null,
            "align_items": null,
            "bottom": null,
            "_model_module": "@jupyter-widgets/base",
            "top": null,
            "grid_column": null,
            "overflow_y": null,
            "overflow_x": null,
            "grid_auto_flow": null,
            "grid_area": null,
            "grid_template_columns": null,
            "flex": null,
            "_model_name": "LayoutModel",
            "justify_items": null,
            "grid_row": null,
            "max_height": null,
            "align_content": null,
            "visibility": null,
            "align_self": null,
            "height": null,
            "min_height": null,
            "padding": null,
            "grid_auto_rows": null,
            "grid_gap": null,
            "max_width": null,
            "order": null,
            "_view_module_version": "1.2.0",
            "grid_template_areas": null,
            "object_position": null,
            "object_fit": null,
            "grid_auto_columns": null,
            "margin": null,
            "display": null,
            "left": null
          }
        },
        "2444cdcaa32d47b69eec7f08a601216f": {
          "model_module": "@jupyter-widgets/controls",
          "model_name": "FloatProgressModel",
          "state": {
            "_view_name": "ProgressView",
            "style": "IPY_MODEL_f5fc2f2d48f74bc9a1a4f1e77abf8fc1",
            "_dom_classes": [],
            "description": "",
            "_model_name": "FloatProgressModel",
            "bar_style": "success",
            "max": 28881,
            "_view_module": "@jupyter-widgets/controls",
            "_model_module_version": "1.5.0",
            "value": 28881,
            "_view_count": null,
            "_view_module_version": "1.5.0",
            "orientation": "horizontal",
            "min": 0,
            "description_tooltip": null,
            "_model_module": "@jupyter-widgets/controls",
            "layout": "IPY_MODEL_de15bed77f9e42b797649adae07ddb02"
          }
        },
        "c343294bd8844989ae8dfafbac9c34b2": {
          "model_module": "@jupyter-widgets/controls",
          "model_name": "HTMLModel",
          "state": {
            "_view_name": "HTMLView",
            "style": "IPY_MODEL_58428aa7b83a4feba4cb709086860978",
            "_dom_classes": [],
            "description": "",
            "_model_name": "HTMLModel",
            "placeholder": "​",
            "_view_module": "@jupyter-widgets/controls",
            "_model_module_version": "1.5.0",
            "value": " 29696/? [00:00&lt;00:00, 81841.80it/s]",
            "_view_count": null,
            "_view_module_version": "1.5.0",
            "description_tooltip": null,
            "_model_module": "@jupyter-widgets/controls",
            "layout": "IPY_MODEL_a810328badb0423983af5436673de3fc"
          }
        },
        "f5fc2f2d48f74bc9a1a4f1e77abf8fc1": {
          "model_module": "@jupyter-widgets/controls",
          "model_name": "ProgressStyleModel",
          "state": {
            "_view_name": "StyleView",
            "_model_name": "ProgressStyleModel",
            "description_width": "initial",
            "_view_module": "@jupyter-widgets/base",
            "_model_module_version": "1.5.0",
            "_view_count": null,
            "_view_module_version": "1.2.0",
            "bar_color": null,
            "_model_module": "@jupyter-widgets/controls"
          }
        },
        "de15bed77f9e42b797649adae07ddb02": {
          "model_module": "@jupyter-widgets/base",
          "model_name": "LayoutModel",
          "state": {
            "_view_name": "LayoutView",
            "grid_template_rows": null,
            "right": null,
            "justify_content": null,
            "_view_module": "@jupyter-widgets/base",
            "overflow": null,
            "_model_module_version": "1.2.0",
            "_view_count": null,
            "flex_flow": null,
            "width": null,
            "min_width": null,
            "border": null,
            "align_items": null,
            "bottom": null,
            "_model_module": "@jupyter-widgets/base",
            "top": null,
            "grid_column": null,
            "overflow_y": null,
            "overflow_x": null,
            "grid_auto_flow": null,
            "grid_area": null,
            "grid_template_columns": null,
            "flex": null,
            "_model_name": "LayoutModel",
            "justify_items": null,
            "grid_row": null,
            "max_height": null,
            "align_content": null,
            "visibility": null,
            "align_self": null,
            "height": null,
            "min_height": null,
            "padding": null,
            "grid_auto_rows": null,
            "grid_gap": null,
            "max_width": null,
            "order": null,
            "_view_module_version": "1.2.0",
            "grid_template_areas": null,
            "object_position": null,
            "object_fit": null,
            "grid_auto_columns": null,
            "margin": null,
            "display": null,
            "left": null
          }
        },
        "58428aa7b83a4feba4cb709086860978": {
          "model_module": "@jupyter-widgets/controls",
          "model_name": "DescriptionStyleModel",
          "state": {
            "_view_name": "StyleView",
            "_model_name": "DescriptionStyleModel",
            "description_width": "",
            "_view_module": "@jupyter-widgets/base",
            "_model_module_version": "1.5.0",
            "_view_count": null,
            "_view_module_version": "1.2.0",
            "_model_module": "@jupyter-widgets/controls"
          }
        },
        "a810328badb0423983af5436673de3fc": {
          "model_module": "@jupyter-widgets/base",
          "model_name": "LayoutModel",
          "state": {
            "_view_name": "LayoutView",
            "grid_template_rows": null,
            "right": null,
            "justify_content": null,
            "_view_module": "@jupyter-widgets/base",
            "overflow": null,
            "_model_module_version": "1.2.0",
            "_view_count": null,
            "flex_flow": null,
            "width": null,
            "min_width": null,
            "border": null,
            "align_items": null,
            "bottom": null,
            "_model_module": "@jupyter-widgets/base",
            "top": null,
            "grid_column": null,
            "overflow_y": null,
            "overflow_x": null,
            "grid_auto_flow": null,
            "grid_area": null,
            "grid_template_columns": null,
            "flex": null,
            "_model_name": "LayoutModel",
            "justify_items": null,
            "grid_row": null,
            "max_height": null,
            "align_content": null,
            "visibility": null,
            "align_self": null,
            "height": null,
            "min_height": null,
            "padding": null,
            "grid_auto_rows": null,
            "grid_gap": null,
            "max_width": null,
            "order": null,
            "_view_module_version": "1.2.0",
            "grid_template_areas": null,
            "object_position": null,
            "object_fit": null,
            "grid_auto_columns": null,
            "margin": null,
            "display": null,
            "left": null
          }
        },
        "2d6dfdcb05b4430c83aad43b59b9f3fd": {
          "model_module": "@jupyter-widgets/controls",
          "model_name": "HBoxModel",
          "state": {
            "_view_name": "HBoxView",
            "_dom_classes": [],
            "_model_name": "HBoxModel",
            "_view_module": "@jupyter-widgets/controls",
            "_model_module_version": "1.5.0",
            "_view_count": null,
            "_view_module_version": "1.5.0",
            "box_style": "",
            "layout": "IPY_MODEL_1fa143dc8d5642b5aff35fc83cbc054e",
            "_model_module": "@jupyter-widgets/controls",
            "children": [
              "IPY_MODEL_3a9c15f2c95d4a5d8d6e6ff27791d596",
              "IPY_MODEL_262085b660e44ab9b48c0a90e35b1d59"
            ]
          }
        },
        "1fa143dc8d5642b5aff35fc83cbc054e": {
          "model_module": "@jupyter-widgets/base",
          "model_name": "LayoutModel",
          "state": {
            "_view_name": "LayoutView",
            "grid_template_rows": null,
            "right": null,
            "justify_content": null,
            "_view_module": "@jupyter-widgets/base",
            "overflow": null,
            "_model_module_version": "1.2.0",
            "_view_count": null,
            "flex_flow": null,
            "width": null,
            "min_width": null,
            "border": null,
            "align_items": null,
            "bottom": null,
            "_model_module": "@jupyter-widgets/base",
            "top": null,
            "grid_column": null,
            "overflow_y": null,
            "overflow_x": null,
            "grid_auto_flow": null,
            "grid_area": null,
            "grid_template_columns": null,
            "flex": null,
            "_model_name": "LayoutModel",
            "justify_items": null,
            "grid_row": null,
            "max_height": null,
            "align_content": null,
            "visibility": null,
            "align_self": null,
            "height": null,
            "min_height": null,
            "padding": null,
            "grid_auto_rows": null,
            "grid_gap": null,
            "max_width": null,
            "order": null,
            "_view_module_version": "1.2.0",
            "grid_template_areas": null,
            "object_position": null,
            "object_fit": null,
            "grid_auto_columns": null,
            "margin": null,
            "display": null,
            "left": null
          }
        },
        "3a9c15f2c95d4a5d8d6e6ff27791d596": {
          "model_module": "@jupyter-widgets/controls",
          "model_name": "FloatProgressModel",
          "state": {
            "_view_name": "ProgressView",
            "style": "IPY_MODEL_77269e99088f44948c03efd218e6c43a",
            "_dom_classes": [],
            "description": "",
            "_model_name": "FloatProgressModel",
            "bar_style": "success",
            "max": 1648877,
            "_view_module": "@jupyter-widgets/controls",
            "_model_module_version": "1.5.0",
            "value": 1648877,
            "_view_count": null,
            "_view_module_version": "1.5.0",
            "orientation": "horizontal",
            "min": 0,
            "description_tooltip": null,
            "_model_module": "@jupyter-widgets/controls",
            "layout": "IPY_MODEL_9f14f360aedd40a59d4340c88d220487"
          }
        },
        "262085b660e44ab9b48c0a90e35b1d59": {
          "model_module": "@jupyter-widgets/controls",
          "model_name": "HTMLModel",
          "state": {
            "_view_name": "HTMLView",
            "style": "IPY_MODEL_074b5dd61e1d463e8f78a4e764f42f6b",
            "_dom_classes": [],
            "description": "",
            "_model_name": "HTMLModel",
            "placeholder": "​",
            "_view_module": "@jupyter-widgets/controls",
            "_model_module_version": "1.5.0",
            "value": " 1649664/? [04:28&lt;00:00, 6134.40it/s]",
            "_view_count": null,
            "_view_module_version": "1.5.0",
            "description_tooltip": null,
            "_model_module": "@jupyter-widgets/controls",
            "layout": "IPY_MODEL_0064e7471e274acba14dac9ac8e5622b"
          }
        },
        "77269e99088f44948c03efd218e6c43a": {
          "model_module": "@jupyter-widgets/controls",
          "model_name": "ProgressStyleModel",
          "state": {
            "_view_name": "StyleView",
            "_model_name": "ProgressStyleModel",
            "description_width": "initial",
            "_view_module": "@jupyter-widgets/base",
            "_model_module_version": "1.5.0",
            "_view_count": null,
            "_view_module_version": "1.2.0",
            "bar_color": null,
            "_model_module": "@jupyter-widgets/controls"
          }
        },
        "9f14f360aedd40a59d4340c88d220487": {
          "model_module": "@jupyter-widgets/base",
          "model_name": "LayoutModel",
          "state": {
            "_view_name": "LayoutView",
            "grid_template_rows": null,
            "right": null,
            "justify_content": null,
            "_view_module": "@jupyter-widgets/base",
            "overflow": null,
            "_model_module_version": "1.2.0",
            "_view_count": null,
            "flex_flow": null,
            "width": null,
            "min_width": null,
            "border": null,
            "align_items": null,
            "bottom": null,
            "_model_module": "@jupyter-widgets/base",
            "top": null,
            "grid_column": null,
            "overflow_y": null,
            "overflow_x": null,
            "grid_auto_flow": null,
            "grid_area": null,
            "grid_template_columns": null,
            "flex": null,
            "_model_name": "LayoutModel",
            "justify_items": null,
            "grid_row": null,
            "max_height": null,
            "align_content": null,
            "visibility": null,
            "align_self": null,
            "height": null,
            "min_height": null,
            "padding": null,
            "grid_auto_rows": null,
            "grid_gap": null,
            "max_width": null,
            "order": null,
            "_view_module_version": "1.2.0",
            "grid_template_areas": null,
            "object_position": null,
            "object_fit": null,
            "grid_auto_columns": null,
            "margin": null,
            "display": null,
            "left": null
          }
        },
        "074b5dd61e1d463e8f78a4e764f42f6b": {
          "model_module": "@jupyter-widgets/controls",
          "model_name": "DescriptionStyleModel",
          "state": {
            "_view_name": "StyleView",
            "_model_name": "DescriptionStyleModel",
            "description_width": "",
            "_view_module": "@jupyter-widgets/base",
            "_model_module_version": "1.5.0",
            "_view_count": null,
            "_view_module_version": "1.2.0",
            "_model_module": "@jupyter-widgets/controls"
          }
        },
        "0064e7471e274acba14dac9ac8e5622b": {
          "model_module": "@jupyter-widgets/base",
          "model_name": "LayoutModel",
          "state": {
            "_view_name": "LayoutView",
            "grid_template_rows": null,
            "right": null,
            "justify_content": null,
            "_view_module": "@jupyter-widgets/base",
            "overflow": null,
            "_model_module_version": "1.2.0",
            "_view_count": null,
            "flex_flow": null,
            "width": null,
            "min_width": null,
            "border": null,
            "align_items": null,
            "bottom": null,
            "_model_module": "@jupyter-widgets/base",
            "top": null,
            "grid_column": null,
            "overflow_y": null,
            "overflow_x": null,
            "grid_auto_flow": null,
            "grid_area": null,
            "grid_template_columns": null,
            "flex": null,
            "_model_name": "LayoutModel",
            "justify_items": null,
            "grid_row": null,
            "max_height": null,
            "align_content": null,
            "visibility": null,
            "align_self": null,
            "height": null,
            "min_height": null,
            "padding": null,
            "grid_auto_rows": null,
            "grid_gap": null,
            "max_width": null,
            "order": null,
            "_view_module_version": "1.2.0",
            "grid_template_areas": null,
            "object_position": null,
            "object_fit": null,
            "grid_auto_columns": null,
            "margin": null,
            "display": null,
            "left": null
          }
        },
        "44cfbece3cef454595ba33fdfb95403c": {
          "model_module": "@jupyter-widgets/controls",
          "model_name": "HBoxModel",
          "state": {
            "_view_name": "HBoxView",
            "_dom_classes": [],
            "_model_name": "HBoxModel",
            "_view_module": "@jupyter-widgets/controls",
            "_model_module_version": "1.5.0",
            "_view_count": null,
            "_view_module_version": "1.5.0",
            "box_style": "",
            "layout": "IPY_MODEL_9f65ec8eabae42c8936a30643dbd960d",
            "_model_module": "@jupyter-widgets/controls",
            "children": [
              "IPY_MODEL_480975b8134247e5842dd08ba7f6e5e3",
              "IPY_MODEL_394ff9932e1d473981f414f5173c6991"
            ]
          }
        },
        "9f65ec8eabae42c8936a30643dbd960d": {
          "model_module": "@jupyter-widgets/base",
          "model_name": "LayoutModel",
          "state": {
            "_view_name": "LayoutView",
            "grid_template_rows": null,
            "right": null,
            "justify_content": null,
            "_view_module": "@jupyter-widgets/base",
            "overflow": null,
            "_model_module_version": "1.2.0",
            "_view_count": null,
            "flex_flow": null,
            "width": null,
            "min_width": null,
            "border": null,
            "align_items": null,
            "bottom": null,
            "_model_module": "@jupyter-widgets/base",
            "top": null,
            "grid_column": null,
            "overflow_y": null,
            "overflow_x": null,
            "grid_auto_flow": null,
            "grid_area": null,
            "grid_template_columns": null,
            "flex": null,
            "_model_name": "LayoutModel",
            "justify_items": null,
            "grid_row": null,
            "max_height": null,
            "align_content": null,
            "visibility": null,
            "align_self": null,
            "height": null,
            "min_height": null,
            "padding": null,
            "grid_auto_rows": null,
            "grid_gap": null,
            "max_width": null,
            "order": null,
            "_view_module_version": "1.2.0",
            "grid_template_areas": null,
            "object_position": null,
            "object_fit": null,
            "grid_auto_columns": null,
            "margin": null,
            "display": null,
            "left": null
          }
        },
        "480975b8134247e5842dd08ba7f6e5e3": {
          "model_module": "@jupyter-widgets/controls",
          "model_name": "FloatProgressModel",
          "state": {
            "_view_name": "ProgressView",
            "style": "IPY_MODEL_dd293ac35d0b49f0a420177e0cf9a05e",
            "_dom_classes": [],
            "description": "",
            "_model_name": "FloatProgressModel",
            "bar_style": "success",
            "max": 4542,
            "_view_module": "@jupyter-widgets/controls",
            "_model_module_version": "1.5.0",
            "value": 4542,
            "_view_count": null,
            "_view_module_version": "1.5.0",
            "orientation": "horizontal",
            "min": 0,
            "description_tooltip": null,
            "_model_module": "@jupyter-widgets/controls",
            "layout": "IPY_MODEL_b7ded45673c2464bbf10c288a9e3d445"
          }
        },
        "394ff9932e1d473981f414f5173c6991": {
          "model_module": "@jupyter-widgets/controls",
          "model_name": "HTMLModel",
          "state": {
            "_view_name": "HTMLView",
            "style": "IPY_MODEL_0a01b81875704b3288a25e5f0cbc68ba",
            "_dom_classes": [],
            "description": "",
            "_model_name": "HTMLModel",
            "placeholder": "​",
            "_view_module": "@jupyter-widgets/controls",
            "_model_module_version": "1.5.0",
            "value": " 5120/? [00:00&lt;00:00, 21854.38it/s]",
            "_view_count": null,
            "_view_module_version": "1.5.0",
            "description_tooltip": null,
            "_model_module": "@jupyter-widgets/controls",
            "layout": "IPY_MODEL_03267dbfc51b4719abd8e25ae1530f26"
          }
        },
        "dd293ac35d0b49f0a420177e0cf9a05e": {
          "model_module": "@jupyter-widgets/controls",
          "model_name": "ProgressStyleModel",
          "state": {
            "_view_name": "StyleView",
            "_model_name": "ProgressStyleModel",
            "description_width": "initial",
            "_view_module": "@jupyter-widgets/base",
            "_model_module_version": "1.5.0",
            "_view_count": null,
            "_view_module_version": "1.2.0",
            "bar_color": null,
            "_model_module": "@jupyter-widgets/controls"
          }
        },
        "b7ded45673c2464bbf10c288a9e3d445": {
          "model_module": "@jupyter-widgets/base",
          "model_name": "LayoutModel",
          "state": {
            "_view_name": "LayoutView",
            "grid_template_rows": null,
            "right": null,
            "justify_content": null,
            "_view_module": "@jupyter-widgets/base",
            "overflow": null,
            "_model_module_version": "1.2.0",
            "_view_count": null,
            "flex_flow": null,
            "width": null,
            "min_width": null,
            "border": null,
            "align_items": null,
            "bottom": null,
            "_model_module": "@jupyter-widgets/base",
            "top": null,
            "grid_column": null,
            "overflow_y": null,
            "overflow_x": null,
            "grid_auto_flow": null,
            "grid_area": null,
            "grid_template_columns": null,
            "flex": null,
            "_model_name": "LayoutModel",
            "justify_items": null,
            "grid_row": null,
            "max_height": null,
            "align_content": null,
            "visibility": null,
            "align_self": null,
            "height": null,
            "min_height": null,
            "padding": null,
            "grid_auto_rows": null,
            "grid_gap": null,
            "max_width": null,
            "order": null,
            "_view_module_version": "1.2.0",
            "grid_template_areas": null,
            "object_position": null,
            "object_fit": null,
            "grid_auto_columns": null,
            "margin": null,
            "display": null,
            "left": null
          }
        },
        "0a01b81875704b3288a25e5f0cbc68ba": {
          "model_module": "@jupyter-widgets/controls",
          "model_name": "DescriptionStyleModel",
          "state": {
            "_view_name": "StyleView",
            "_model_name": "DescriptionStyleModel",
            "description_width": "",
            "_view_module": "@jupyter-widgets/base",
            "_model_module_version": "1.5.0",
            "_view_count": null,
            "_view_module_version": "1.2.0",
            "_model_module": "@jupyter-widgets/controls"
          }
        },
        "03267dbfc51b4719abd8e25ae1530f26": {
          "model_module": "@jupyter-widgets/base",
          "model_name": "LayoutModel",
          "state": {
            "_view_name": "LayoutView",
            "grid_template_rows": null,
            "right": null,
            "justify_content": null,
            "_view_module": "@jupyter-widgets/base",
            "overflow": null,
            "_model_module_version": "1.2.0",
            "_view_count": null,
            "flex_flow": null,
            "width": null,
            "min_width": null,
            "border": null,
            "align_items": null,
            "bottom": null,
            "_model_module": "@jupyter-widgets/base",
            "top": null,
            "grid_column": null,
            "overflow_y": null,
            "overflow_x": null,
            "grid_auto_flow": null,
            "grid_area": null,
            "grid_template_columns": null,
            "flex": null,
            "_model_name": "LayoutModel",
            "justify_items": null,
            "grid_row": null,
            "max_height": null,
            "align_content": null,
            "visibility": null,
            "align_self": null,
            "height": null,
            "min_height": null,
            "padding": null,
            "grid_auto_rows": null,
            "grid_gap": null,
            "max_width": null,
            "order": null,
            "_view_module_version": "1.2.0",
            "grid_template_areas": null,
            "object_position": null,
            "object_fit": null,
            "grid_auto_columns": null,
            "margin": null,
            "display": null,
            "left": null
          }
        }
      }
    }
  },
  "cells": [
    {
      "cell_type": "markdown",
      "metadata": {
        "id": "3iOKbAnCq7qp"
      },
      "source": [
        "#**Deep Learning and Computer Vision - Mini Project**"
      ]
    },
    {
      "cell_type": "markdown",
      "metadata": {
        "id": "yIpUVnq0rt2g"
      },
      "source": [
        "**NAME** - Ganesh Kumaran Masilamani\n",
        "\n",
        "**STUDENT NUMBER** - 200434339\n",
        "\n",
        "**PROJECT TITLE** - Deep Neural Networks for Image Classification"
      ]
    },
    {
      "cell_type": "markdown",
      "metadata": {
        "id": "HXQvDFwKsMUC"
      },
      "source": [
        "###**In this Notebook we will be using VGG16 Architecture as our deep Network to do image classification in MNIST dataset.**\n",
        "\n",
        "#**DEEP NETWORK MODEL-1 --> VGG16**"
      ]
    },
    {
      "cell_type": "code",
      "metadata": {
        "id": "fMcruYVWuPXa",
        "colab": {
          "base_uri": "https://localhost:8080/"
        },
        "outputId": "6fd0655c-daf6-4229-d6f7-a00dafb7cb38"
      },
      "source": [
        "#Libraries Imported\n",
        "import time\n",
        "import os\n",
        "import numpy as np\n",
        "import torch\n",
        "import torch.nn as nn\n",
        "import torch.optim as optim\n",
        "import torch.nn.functional as F\n",
        "from torchvision.utils import make_grid\n",
        "import torchvision\n",
        "from torchvision import datasets\n",
        "from torchvision import transforms\n",
        "import matplotlib.pyplot as plt\n",
        "import seaborn as sns\n",
        "sns.set_style('darkgrid')\n",
        "import pickle\n",
        "%pip install torchviz\n",
        "from sklearn.metrics import confusion_matrix\n",
        "from sklearn.metrics import ConfusionMatrixDisplay\n",
        "from torchviz import make_dot\n",
        "from datetime import datetime\n",
        "Date_time = datetime.now()\n",
        "date = Date_time.strftime(\"%d/%m/%Y\")\n",
        "Time = Date_time.strftime(\"%H:%M:%S\")"
      ],
      "execution_count": 1,
      "outputs": [
        {
          "output_type": "stream",
          "text": [
            "Collecting torchviz\n",
            "  Downloading https://files.pythonhosted.org/packages/79/e7/643808913211d6c1fc96a3a4333bf4c9276858fab00bcafaf98ea58a97be/torchviz-0.0.2.tar.gz\n",
            "Requirement already satisfied: torch in /usr/local/lib/python3.7/dist-packages (from torchviz) (1.8.1+cu101)\n",
            "Requirement already satisfied: graphviz in /usr/local/lib/python3.7/dist-packages (from torchviz) (0.10.1)\n",
            "Requirement already satisfied: numpy in /usr/local/lib/python3.7/dist-packages (from torch->torchviz) (1.19.5)\n",
            "Requirement already satisfied: typing-extensions in /usr/local/lib/python3.7/dist-packages (from torch->torchviz) (3.7.4.3)\n",
            "Building wheels for collected packages: torchviz\n",
            "  Building wheel for torchviz (setup.py) ... \u001b[?25l\u001b[?25hdone\n",
            "  Created wheel for torchviz: filename=torchviz-0.0.2-cp37-none-any.whl size=4152 sha256=8bd54a60229aae6d61676e2fbd96f1497e8fe37efa7dad51426d8da0edfa732c\n",
            "  Stored in directory: /root/.cache/pip/wheels/01/26/58/026ffd533dbe8b3972eb423da9c7949beca68d1c98ed9e8624\n",
            "Successfully built torchviz\n",
            "Installing collected packages: torchviz\n",
            "Successfully installed torchviz-0.0.2\n"
          ],
          "name": "stdout"
        }
      ]
    },
    {
      "cell_type": "markdown",
      "metadata": {
        "id": "U3_dvCzXItro"
      },
      "source": [
        "##**Loading the MNIST Dataset**"
      ]
    },
    {
      "cell_type": "code",
      "metadata": {
        "id": "wSWJZvrsmDKD",
        "colab": {
          "base_uri": "https://localhost:8080/",
          "height": 1000,
          "referenced_widgets": [
            "ef1a2592e8e540308c04ad5be9e58277",
            "ac519a1ae42f4f62a304b2b5f917ff02",
            "ee13a1c8c95145a486726c7cc2166449",
            "27579a7ddae54622b248252e30a803e8",
            "23a27d20859a49a09a9f69c628e81494",
            "c481d5442b5a4dafb6397a89ac672609",
            "12cdd019ff9842d1ad7740491784490c",
            "eba8d4d5f63e4df8992bc605a4b4b37e",
            "a592380ab04f45d4ae6b0bfa1c8ae571",
            "f2db443764a94af19077c502a8401b91",
            "a604c3aa8b9a4b10b09a6b575c654645",
            "0cfc5d477840473c968158a25d38e76a",
            "2f3e389b040548eabbc9394dbae7e49b",
            "68f45f9be714444dbe343ca569fe150d",
            "8c2534d353ed4fb9815607255c742f22",
            "3067a0291c834b6a95f0507b4ace86d1",
            "e20ff8c3d6504fc99794d99afb10082c",
            "c48ae13a750845fa9fcf67fa6cd80738",
            "c1cee6d0af52427f87eaf2f57cda237c",
            "d7ded2c015eb4629870c566f9fe44702",
            "d43c711d9f1f476aa8fabd747c66fd2d",
            "bef2a17c067a4346829fbfd19a40798f",
            "17aea173bfd24035a23048583cf39f4e",
            "9c83b47a917542cabde46cdca58ae033",
            "afe2aaded28b4ce4a27a12a738c7e69b",
            "7c7ba293b1704ae7b89071d33f2a4955",
            "4493d8ea73f84cd68183a7c3a1a04e34",
            "897584f1736245a3ac77273604d90b3e",
            "c2ca228f77e34ad68247093f2b48907b",
            "a89ab1f4df594dc99b7db5c8cf57b7d9",
            "c4326c89c80a45e98c110f940f9da046",
            "5b37671e3b9041cf84f6ea43a1a5a184",
            "ef7cdbe4ef754e59a4cfc417bde89f47",
            "3aa0f3dc5949495cb43569cce8883cd7",
            "1c7805cf94eb46278bff0c9d59121629",
            "650a36a5630943ffb82aa644add3d98a",
            "95992aeef8604735b23c66e338dd993f",
            "966a866ccdd24731998effd04037dafb",
            "a779e6d11eee42619b2dc125ae7bee21",
            "f1a20d60417d4c43908dcc4a9721cf01",
            "dce1ef6a79f94573acf6589fdad744b1",
            "60c1599eb7824d5ba4c72aef77446b9f",
            "2444cdcaa32d47b69eec7f08a601216f",
            "c343294bd8844989ae8dfafbac9c34b2",
            "f5fc2f2d48f74bc9a1a4f1e77abf8fc1",
            "de15bed77f9e42b797649adae07ddb02",
            "58428aa7b83a4feba4cb709086860978",
            "a810328badb0423983af5436673de3fc",
            "2d6dfdcb05b4430c83aad43b59b9f3fd",
            "1fa143dc8d5642b5aff35fc83cbc054e",
            "3a9c15f2c95d4a5d8d6e6ff27791d596",
            "262085b660e44ab9b48c0a90e35b1d59",
            "77269e99088f44948c03efd218e6c43a",
            "9f14f360aedd40a59d4340c88d220487",
            "074b5dd61e1d463e8f78a4e764f42f6b",
            "0064e7471e274acba14dac9ac8e5622b",
            "44cfbece3cef454595ba33fdfb95403c",
            "9f65ec8eabae42c8936a30643dbd960d",
            "480975b8134247e5842dd08ba7f6e5e3",
            "394ff9932e1d473981f414f5173c6991",
            "dd293ac35d0b49f0a420177e0cf9a05e",
            "b7ded45673c2464bbf10c288a9e3d445",
            "0a01b81875704b3288a25e5f0cbc68ba",
            "03267dbfc51b4719abd8e25ae1530f26"
          ]
        },
        "outputId": "2ac158d7-1e70-429c-e692-41bcb6f0f9a2"
      },
      "source": [
        "#Downloading and Loading the MNIST dataset \n",
        "def Load_mnist_data(batch_size, resize=None, root=os.path.join('MNIST_DATASET')):\n",
        "    final_root = os.path.expanduser(root)\n",
        "    Convolutional_Transformer = []\n",
        "\n",
        "    #resizing the dataset to fit the Network architecture\n",
        "    if resize:\n",
        "        Convolutional_Transformer += [transforms.Resize(resize)]\n",
        "    Convolutional_Transformer += [transforms.ToTensor()]\n",
        "    Convolutional_Transformer = transforms.Compose(Convolutional_Transformer)\n",
        "\n",
        "    #Downloading the MNIST dataset\n",
        "    MNIST_traindata = torchvision.datasets.MNIST(root=final_root, train=True, transform=Convolutional_Transformer, download=True)\n",
        "    MNIST_testdata = torchvision.datasets.MNIST(root=final_root, train=False, transform=Convolutional_Transformer, download=True)\n",
        "\n",
        "    #loading the dataset and assign it to a variable\n",
        "    Load_MNIST_traindata =torch.utils.data.DataLoader(MNIST_traindata, batch_size, shuffle=True)\n",
        "    Load_MNIST_testdata =torch.utils.data.DataLoader(MNIST_testdata, batch_size, shuffle=False)\n",
        "    return Load_MNIST_traindata, Load_MNIST_testdata\n",
        "\n",
        "Convolutional_Transformer = transforms.Compose([transforms.Resize((32,32)), transforms.RandomHorizontalFlip(), transforms.ToTensor()])\n",
        "MNIST_testdata = torchvision.datasets.MNIST(root='Mnist', train=False, transform=Convolutional_Transformer, download=True)\n",
        "\n",
        "#load the function of the MNIST dataset to the train and test variable loader\n",
        "Traindata_Loader, Testdata_Loader = Load_mnist_data(batch_size=32, resize=224, root=os.path.join('MNIST_DATASET'))"
      ],
      "execution_count": 2,
      "outputs": [
        {
          "output_type": "stream",
          "text": [
            "Downloading http://yann.lecun.com/exdb/mnist/train-images-idx3-ubyte.gz\n",
            "Failed to download (trying next):\n",
            "HTTP Error 503: Service Unavailable\n",
            "\n",
            "Downloading https://ossci-datasets.s3.amazonaws.com/mnist/train-images-idx3-ubyte.gz\n",
            "Downloading https://ossci-datasets.s3.amazonaws.com/mnist/train-images-idx3-ubyte.gz to Mnist/MNIST/raw/train-images-idx3-ubyte.gz\n"
          ],
          "name": "stdout"
        },
        {
          "output_type": "display_data",
          "data": {
            "application/vnd.jupyter.widget-view+json": {
              "model_id": "ef1a2592e8e540308c04ad5be9e58277",
              "version_minor": 0,
              "version_major": 2
            },
            "text/plain": [
              "HBox(children=(FloatProgress(value=0.0, max=9912422.0), HTML(value='')))"
            ]
          },
          "metadata": {
            "tags": []
          }
        },
        {
          "output_type": "stream",
          "text": [
            "\n",
            "Extracting Mnist/MNIST/raw/train-images-idx3-ubyte.gz to Mnist/MNIST/raw\n",
            "\n",
            "Downloading http://yann.lecun.com/exdb/mnist/train-labels-idx1-ubyte.gz\n",
            "Downloading http://yann.lecun.com/exdb/mnist/train-labels-idx1-ubyte.gz to Mnist/MNIST/raw/train-labels-idx1-ubyte.gz\n"
          ],
          "name": "stdout"
        },
        {
          "output_type": "display_data",
          "data": {
            "application/vnd.jupyter.widget-view+json": {
              "model_id": "a592380ab04f45d4ae6b0bfa1c8ae571",
              "version_minor": 0,
              "version_major": 2
            },
            "text/plain": [
              "HBox(children=(FloatProgress(value=0.0, max=28881.0), HTML(value='')))"
            ]
          },
          "metadata": {
            "tags": []
          }
        },
        {
          "output_type": "stream",
          "text": [
            "\n",
            "Extracting Mnist/MNIST/raw/train-labels-idx1-ubyte.gz to Mnist/MNIST/raw\n",
            "\n",
            "Downloading http://yann.lecun.com/exdb/mnist/t10k-images-idx3-ubyte.gz\n",
            "Downloading http://yann.lecun.com/exdb/mnist/t10k-images-idx3-ubyte.gz to Mnist/MNIST/raw/t10k-images-idx3-ubyte.gz\n",
            "Failed to download (trying next):\n",
            "HTTP Error 503: Service Unavailable\n",
            "\n",
            "Downloading https://ossci-datasets.s3.amazonaws.com/mnist/t10k-images-idx3-ubyte.gz\n",
            "Downloading https://ossci-datasets.s3.amazonaws.com/mnist/t10k-images-idx3-ubyte.gz to Mnist/MNIST/raw/t10k-images-idx3-ubyte.gz\n"
          ],
          "name": "stdout"
        },
        {
          "output_type": "display_data",
          "data": {
            "application/vnd.jupyter.widget-view+json": {
              "model_id": "e20ff8c3d6504fc99794d99afb10082c",
              "version_minor": 0,
              "version_major": 2
            },
            "text/plain": [
              "HBox(children=(FloatProgress(value=0.0, max=1648877.0), HTML(value='')))"
            ]
          },
          "metadata": {
            "tags": []
          }
        },
        {
          "output_type": "stream",
          "text": [
            "\n",
            "Extracting Mnist/MNIST/raw/t10k-images-idx3-ubyte.gz to Mnist/MNIST/raw\n",
            "\n",
            "Downloading http://yann.lecun.com/exdb/mnist/t10k-labels-idx1-ubyte.gz\n",
            "Failed to download (trying next):\n",
            "HTTP Error 503: Service Unavailable\n",
            "\n",
            "Downloading https://ossci-datasets.s3.amazonaws.com/mnist/t10k-labels-idx1-ubyte.gz\n",
            "Downloading https://ossci-datasets.s3.amazonaws.com/mnist/t10k-labels-idx1-ubyte.gz to Mnist/MNIST/raw/t10k-labels-idx1-ubyte.gz\n"
          ],
          "name": "stdout"
        },
        {
          "output_type": "display_data",
          "data": {
            "application/vnd.jupyter.widget-view+json": {
              "model_id": "afe2aaded28b4ce4a27a12a738c7e69b",
              "version_minor": 0,
              "version_major": 2
            },
            "text/plain": [
              "HBox(children=(FloatProgress(value=0.0, max=4542.0), HTML(value='')))"
            ]
          },
          "metadata": {
            "tags": []
          }
        },
        {
          "output_type": "stream",
          "text": [
            "\n",
            "Extracting Mnist/MNIST/raw/t10k-labels-idx1-ubyte.gz to Mnist/MNIST/raw\n",
            "\n",
            "Processing...\n",
            "Done!\n",
            "Downloading http://yann.lecun.com/exdb/mnist/train-images-idx3-ubyte.gz\n"
          ],
          "name": "stdout"
        },
        {
          "output_type": "stream",
          "text": [
            "/usr/local/lib/python3.7/dist-packages/torchvision/datasets/mnist.py:502: UserWarning: The given NumPy array is not writeable, and PyTorch does not support non-writeable tensors. This means you can write to the underlying (supposedly non-writeable) NumPy array using the tensor. You may want to copy the array to protect its data or make it writeable before converting it to a tensor. This type of warning will be suppressed for the rest of this program. (Triggered internally at  /pytorch/torch/csrc/utils/tensor_numpy.cpp:143.)\n",
            "  return torch.from_numpy(parsed.astype(m[2], copy=False)).view(*s)\n"
          ],
          "name": "stderr"
        },
        {
          "output_type": "stream",
          "text": [
            "Downloading http://yann.lecun.com/exdb/mnist/train-images-idx3-ubyte.gz to MNIST_DATASET/MNIST/raw/train-images-idx3-ubyte.gz\n",
            "Failed to download (trying next):\n",
            "HTTP Error 503: Service Unavailable\n",
            "\n",
            "Downloading https://ossci-datasets.s3.amazonaws.com/mnist/train-images-idx3-ubyte.gz\n",
            "Downloading https://ossci-datasets.s3.amazonaws.com/mnist/train-images-idx3-ubyte.gz to MNIST_DATASET/MNIST/raw/train-images-idx3-ubyte.gz\n"
          ],
          "name": "stdout"
        },
        {
          "output_type": "display_data",
          "data": {
            "application/vnd.jupyter.widget-view+json": {
              "model_id": "ef7cdbe4ef754e59a4cfc417bde89f47",
              "version_minor": 0,
              "version_major": 2
            },
            "text/plain": [
              "HBox(children=(FloatProgress(value=0.0, max=9912422.0), HTML(value='')))"
            ]
          },
          "metadata": {
            "tags": []
          }
        },
        {
          "output_type": "stream",
          "text": [
            "\n",
            "Extracting MNIST_DATASET/MNIST/raw/train-images-idx3-ubyte.gz to MNIST_DATASET/MNIST/raw\n",
            "\n",
            "Downloading http://yann.lecun.com/exdb/mnist/train-labels-idx1-ubyte.gz\n",
            "Downloading http://yann.lecun.com/exdb/mnist/train-labels-idx1-ubyte.gz to MNIST_DATASET/MNIST/raw/train-labels-idx1-ubyte.gz\n",
            "Failed to download (trying next):\n",
            "HTTP Error 503: Service Unavailable\n",
            "\n",
            "Downloading https://ossci-datasets.s3.amazonaws.com/mnist/train-labels-idx1-ubyte.gz\n",
            "Downloading https://ossci-datasets.s3.amazonaws.com/mnist/train-labels-idx1-ubyte.gz to MNIST_DATASET/MNIST/raw/train-labels-idx1-ubyte.gz\n"
          ],
          "name": "stdout"
        },
        {
          "output_type": "display_data",
          "data": {
            "application/vnd.jupyter.widget-view+json": {
              "model_id": "dce1ef6a79f94573acf6589fdad744b1",
              "version_minor": 0,
              "version_major": 2
            },
            "text/plain": [
              "HBox(children=(FloatProgress(value=0.0, max=28881.0), HTML(value='')))"
            ]
          },
          "metadata": {
            "tags": []
          }
        },
        {
          "output_type": "stream",
          "text": [
            "\n",
            "Extracting MNIST_DATASET/MNIST/raw/train-labels-idx1-ubyte.gz to MNIST_DATASET/MNIST/raw\n",
            "\n",
            "Downloading http://yann.lecun.com/exdb/mnist/t10k-images-idx3-ubyte.gz\n",
            "Failed to download (trying next):\n",
            "HTTP Error 503: Service Unavailable\n",
            "\n",
            "Downloading https://ossci-datasets.s3.amazonaws.com/mnist/t10k-images-idx3-ubyte.gz\n",
            "Downloading https://ossci-datasets.s3.amazonaws.com/mnist/t10k-images-idx3-ubyte.gz to MNIST_DATASET/MNIST/raw/t10k-images-idx3-ubyte.gz\n"
          ],
          "name": "stdout"
        },
        {
          "output_type": "display_data",
          "data": {
            "application/vnd.jupyter.widget-view+json": {
              "model_id": "2d6dfdcb05b4430c83aad43b59b9f3fd",
              "version_minor": 0,
              "version_major": 2
            },
            "text/plain": [
              "HBox(children=(FloatProgress(value=0.0, max=1648877.0), HTML(value='')))"
            ]
          },
          "metadata": {
            "tags": []
          }
        },
        {
          "output_type": "stream",
          "text": [
            "\n",
            "Extracting MNIST_DATASET/MNIST/raw/t10k-images-idx3-ubyte.gz to MNIST_DATASET/MNIST/raw\n",
            "\n",
            "Downloading http://yann.lecun.com/exdb/mnist/t10k-labels-idx1-ubyte.gz\n",
            "Failed to download (trying next):\n",
            "HTTP Error 503: Service Unavailable\n",
            "\n",
            "Downloading https://ossci-datasets.s3.amazonaws.com/mnist/t10k-labels-idx1-ubyte.gz\n",
            "Downloading https://ossci-datasets.s3.amazonaws.com/mnist/t10k-labels-idx1-ubyte.gz to MNIST_DATASET/MNIST/raw/t10k-labels-idx1-ubyte.gz\n"
          ],
          "name": "stdout"
        },
        {
          "output_type": "display_data",
          "data": {
            "application/vnd.jupyter.widget-view+json": {
              "model_id": "44cfbece3cef454595ba33fdfb95403c",
              "version_minor": 0,
              "version_major": 2
            },
            "text/plain": [
              "HBox(children=(FloatProgress(value=0.0, max=4542.0), HTML(value='')))"
            ]
          },
          "metadata": {
            "tags": []
          }
        },
        {
          "output_type": "stream",
          "text": [
            "\n",
            "Extracting MNIST_DATASET/MNIST/raw/t10k-labels-idx1-ubyte.gz to MNIST_DATASET/MNIST/raw\n",
            "\n",
            "Processing...\n",
            "Done!\n"
          ],
          "name": "stdout"
        }
      ]
    },
    {
      "cell_type": "markdown",
      "metadata": {
        "id": "_I9SELg5JQAJ"
      },
      "source": [
        "##**Developing VGG-16 Architecture**"
      ]
    },
    {
      "cell_type": "code",
      "metadata": {
        "id": "ROpbL15lvYJQ",
        "colab": {
          "base_uri": "https://localhost:8080/"
        },
        "outputId": "938d410c-4792-4096-b3d6-b234ac8e586e"
      },
      "source": [
        "#########################################################VGG16 ARCHITECTURE####################################################################\n",
        "#Initialising the VGG In channels and the Out channels and append it to the variable\n",
        "def VGG_layer1(convolutional_Nums, Channel_In, Channel_Out):\n",
        "    layers=[]\n",
        "    for _ in range(convolutional_Nums):\n",
        "        layers.append(torch.nn.Conv2d(Channel_In, Channel_Out, kernel_size=3, padding=1))\n",
        "        layers.append(torch.nn.ReLU())\n",
        "        Channel_In = Channel_Out\n",
        "    layers.append(torch.nn.MaxPool2d(kernel_size=2,stride=2))\n",
        "    VGG_model = torch.nn.Sequential(*layers)\n",
        "    return VGG_model\n",
        "\n",
        "#Flattening the layer and resizing it\n",
        "class Flatten(torch.nn.Module):\n",
        "    def forward(self, layer_flatten):\n",
        "        return layer_flatten.view(layer_flatten.shape[0], -1)\n",
        "\n",
        "#Assuming the inputs to the VGG network as the VGG16\n",
        "convolutional_filter_inputs = ((1, 64), (1, 128), (2, 256), (2, 512), (2, 512))\n",
        "\n",
        "#Creating a VGG16 Architecture\n",
        "def VGG16(convolutional_filter_inputs):\n",
        "    #The convolutional layer part\n",
        "    Convolutional_Layers1=[]\n",
        "    Channel_In=1\n",
        "    for (convolutional_Nums, Channel_Out) in convolutional_filter_inputs:\n",
        "        Convolutional_Layers1.append(VGG_layer1(convolutional_Nums, Channel_In, Channel_Out))\n",
        "        Channel_In = Channel_Out\n",
        "    #Architecture flow of the network\n",
        "    Network_arch =torch.nn.Sequential(*Convolutional_Layers1, Flatten(), torch.nn.Linear(3584*7, 4096), torch.nn.ReLU(), torch.nn.Dropout(0.2),\n",
        "                                      torch.nn.Linear(4096, 4096), torch.nn.ReLU(), torch.nn.Dropout(0.2), torch.nn.Linear(4096, 10))\n",
        "    return Network_arch\n",
        "\n",
        "#Updating the weights of the network\n",
        "Network_arch = VGG16(convolutional_filter_inputs)\n",
        "#Initialize the Weights and display the Network architecture\n",
        "def Initialise_weights(layer_weight):\n",
        "    if type(layer_weight) == torch.nn.Conv2d:\n",
        "        torch.nn.init.xavier_uniform_(layer_weight.weight)\n",
        "Network_arch.apply(Initialise_weights)"
      ],
      "execution_count": 3,
      "outputs": [
        {
          "output_type": "execute_result",
          "data": {
            "text/plain": [
              "Sequential(\n",
              "  (0): Sequential(\n",
              "    (0): Conv2d(1, 64, kernel_size=(3, 3), stride=(1, 1), padding=(1, 1))\n",
              "    (1): ReLU()\n",
              "    (2): MaxPool2d(kernel_size=2, stride=2, padding=0, dilation=1, ceil_mode=False)\n",
              "  )\n",
              "  (1): Sequential(\n",
              "    (0): Conv2d(64, 128, kernel_size=(3, 3), stride=(1, 1), padding=(1, 1))\n",
              "    (1): ReLU()\n",
              "    (2): MaxPool2d(kernel_size=2, stride=2, padding=0, dilation=1, ceil_mode=False)\n",
              "  )\n",
              "  (2): Sequential(\n",
              "    (0): Conv2d(128, 256, kernel_size=(3, 3), stride=(1, 1), padding=(1, 1))\n",
              "    (1): ReLU()\n",
              "    (2): Conv2d(256, 256, kernel_size=(3, 3), stride=(1, 1), padding=(1, 1))\n",
              "    (3): ReLU()\n",
              "    (4): MaxPool2d(kernel_size=2, stride=2, padding=0, dilation=1, ceil_mode=False)\n",
              "  )\n",
              "  (3): Sequential(\n",
              "    (0): Conv2d(256, 512, kernel_size=(3, 3), stride=(1, 1), padding=(1, 1))\n",
              "    (1): ReLU()\n",
              "    (2): Conv2d(512, 512, kernel_size=(3, 3), stride=(1, 1), padding=(1, 1))\n",
              "    (3): ReLU()\n",
              "    (4): MaxPool2d(kernel_size=2, stride=2, padding=0, dilation=1, ceil_mode=False)\n",
              "  )\n",
              "  (4): Sequential(\n",
              "    (0): Conv2d(512, 512, kernel_size=(3, 3), stride=(1, 1), padding=(1, 1))\n",
              "    (1): ReLU()\n",
              "    (2): Conv2d(512, 512, kernel_size=(3, 3), stride=(1, 1), padding=(1, 1))\n",
              "    (3): ReLU()\n",
              "    (4): MaxPool2d(kernel_size=2, stride=2, padding=0, dilation=1, ceil_mode=False)\n",
              "  )\n",
              "  (5): Flatten()\n",
              "  (6): Linear(in_features=25088, out_features=4096, bias=True)\n",
              "  (7): ReLU()\n",
              "  (8): Dropout(p=0.2, inplace=False)\n",
              "  (9): Linear(in_features=4096, out_features=4096, bias=True)\n",
              "  (10): ReLU()\n",
              "  (11): Dropout(p=0.2, inplace=False)\n",
              "  (12): Linear(in_features=4096, out_features=10, bias=True)\n",
              ")"
            ]
          },
          "metadata": {
            "tags": []
          },
          "execution_count": 3
        }
      ]
    },
    {
      "cell_type": "markdown",
      "metadata": {
        "id": "D7DU_A1cKBIE"
      },
      "source": [
        "##**Plotting Architecture flow-diagram of our VGG-16 Network**"
      ]
    },
    {
      "cell_type": "code",
      "metadata": {
        "colab": {
          "base_uri": "https://localhost:8080/",
          "height": 1000
        },
        "id": "IFFx3Jwn3DAI",
        "outputId": "acf43e4f-3b13-44f4-e5ff-6bfca963bb0a"
      },
      "source": [
        "#Plotting the VGG16 Architecture flowchart which was developed above.\n",
        "Sample = torch.rand(1, 1, 224,224)\n",
        "VGG16_Architecture_plot = make_dot(Network_arch(Sample), params=dict(Network_arch.named_parameters()))\n",
        "#displaying the VGG flow diagram\n",
        "display(VGG16_Architecture_plot)"
      ],
      "execution_count": 4,
      "outputs": [
        {
          "output_type": "display_data",
          "data": {
            "text/plain": [
              "<graphviz.dot.Digraph at 0x7f8bc077f690>"
            ],
            "image/svg+xml": "<?xml version=\"1.0\" encoding=\"UTF-8\" standalone=\"no\"?>\n<!DOCTYPE svg PUBLIC \"-//W3C//DTD SVG 1.1//EN\"\n \"http://www.w3.org/Graphics/SVG/1.1/DTD/svg11.dtd\">\n<!-- Generated by graphviz version 2.40.1 (20161225.0304)\n -->\n<!-- Title: %3 Pages: 1 -->\n<svg width=\"1254pt\" height=\"1652pt\"\n viewBox=\"0.00 0.00 1254.23 1652.00\" xmlns=\"http://www.w3.org/2000/svg\" xmlns:xlink=\"http://www.w3.org/1999/xlink\">\n<g id=\"graph0\" class=\"graph\" transform=\"scale(.8704 .8704) rotate(0) translate(4 1894)\">\n<title>%3</title>\n<polygon fill=\"#ffffff\" stroke=\"transparent\" points=\"-4,4 -4,-1894 1437,-1894 1437,4 -4,4\"/>\n<!-- 140238163822224 -->\n<g id=\"node1\" class=\"node\">\n<title>140238163822224</title>\n<polygon fill=\"#caff70\" stroke=\"#000000\" points=\"1268,-31 1203,-31 1203,0 1268,0 1268,-31\"/>\n<text text-anchor=\"middle\" x=\"1235.5\" y=\"-7\" font-family=\"monospace\" font-size=\"10.00\" fill=\"#000000\"> (1, 10)</text>\n</g>\n<!-- 140238171193040 -->\n<g id=\"node2\" class=\"node\">\n<title>140238171193040</title>\n<polygon fill=\"#d3d3d3\" stroke=\"#000000\" points=\"1283,-86 1188,-86 1188,-67 1283,-67 1283,-86\"/>\n<text text-anchor=\"middle\" x=\"1235.5\" y=\"-74\" font-family=\"monospace\" font-size=\"10.00\" fill=\"#000000\">AddmmBackward</text>\n</g>\n<!-- 140238171193040&#45;&gt;140238163822224 -->\n<g id=\"edge76\" class=\"edge\">\n<title>140238171193040&#45;&gt;140238163822224</title>\n<path fill=\"none\" stroke=\"#000000\" d=\"M1235.5,-66.9688C1235.5,-60.1289 1235.5,-50.5621 1235.5,-41.5298\"/>\n<polygon fill=\"#000000\" stroke=\"#000000\" points=\"1239.0001,-41.3678 1235.5,-31.3678 1232.0001,-41.3678 1239.0001,-41.3678\"/>\n</g>\n<!-- 140238163814736 -->\n<g id=\"node3\" class=\"node\">\n<title>140238163814736</title>\n<polygon fill=\"#d3d3d3\" stroke=\"#000000\" points=\"1173,-141 1072,-141 1072,-122 1173,-122 1173,-141\"/>\n<text text-anchor=\"middle\" x=\"1122.5\" y=\"-129\" font-family=\"monospace\" font-size=\"10.00\" fill=\"#000000\">AccumulateGrad</text>\n</g>\n<!-- 140238163814736&#45;&gt;140238171193040 -->\n<g id=\"edge1\" class=\"edge\">\n<title>140238163814736&#45;&gt;140238171193040</title>\n<path fill=\"none\" stroke=\"#000000\" d=\"M1142.1831,-121.9197C1159.9787,-113.2581 1186.4052,-100.3957 1206.5977,-90.5675\"/>\n<polygon fill=\"#000000\" stroke=\"#000000\" points=\"1208.2036,-93.6785 1215.6633,-86.155 1205.14,-87.3844 1208.2036,-93.6785\"/>\n</g>\n<!-- 140238163454304 -->\n<g id=\"node4\" class=\"node\">\n<title>140238163454304</title>\n<polygon fill=\"#add8e6\" stroke=\"#000000\" points=\"1152,-207 1093,-207 1093,-177 1152,-177 1152,-207\"/>\n<text text-anchor=\"middle\" x=\"1122.5\" y=\"-195\" font-family=\"monospace\" font-size=\"10.00\" fill=\"#000000\">12.bias</text>\n<text text-anchor=\"middle\" x=\"1122.5\" y=\"-184\" font-family=\"monospace\" font-size=\"10.00\" fill=\"#000000\"> (10)</text>\n</g>\n<!-- 140238163454304&#45;&gt;140238163814736 -->\n<g id=\"edge2\" class=\"edge\">\n<title>140238163454304&#45;&gt;140238163814736</title>\n<path fill=\"none\" stroke=\"#000000\" d=\"M1122.5,-176.7333C1122.5,-169.0322 1122.5,-159.5977 1122.5,-151.3414\"/>\n<polygon fill=\"#000000\" stroke=\"#000000\" points=\"1126.0001,-151.0864 1122.5,-141.0864 1119.0001,-151.0864 1126.0001,-151.0864\"/>\n</g>\n<!-- 140238163814864 -->\n<g id=\"node5\" class=\"node\">\n<title>140238163814864</title>\n<polygon fill=\"#d3d3d3\" stroke=\"#000000\" points=\"1280,-141 1191,-141 1191,-122 1280,-122 1280,-141\"/>\n<text text-anchor=\"middle\" x=\"1235.5\" y=\"-129\" font-family=\"monospace\" font-size=\"10.00\" fill=\"#000000\">MulBackward0</text>\n</g>\n<!-- 140238163814864&#45;&gt;140238171193040 -->\n<g id=\"edge3\" class=\"edge\">\n<title>140238163814864&#45;&gt;140238171193040</title>\n<path fill=\"none\" stroke=\"#000000\" d=\"M1235.5,-121.9197C1235.5,-114.9083 1235.5,-105.1442 1235.5,-96.4652\"/>\n<polygon fill=\"#000000\" stroke=\"#000000\" points=\"1239.0001,-96.3408 1235.5,-86.3408 1232.0001,-96.3409 1239.0001,-96.3408\"/>\n</g>\n<!-- 140238163814288 -->\n<g id=\"node6\" class=\"node\">\n<title>140238163814288</title>\n<polygon fill=\"#d3d3d3\" stroke=\"#000000\" points=\"1278,-201.5 1183,-201.5 1183,-182.5 1278,-182.5 1278,-201.5\"/>\n<text text-anchor=\"middle\" x=\"1230.5\" y=\"-189.5\" font-family=\"monospace\" font-size=\"10.00\" fill=\"#000000\">ReluBackward0</text>\n</g>\n<!-- 140238163814288&#45;&gt;140238163814864 -->\n<g id=\"edge4\" class=\"edge\">\n<title>140238163814288&#45;&gt;140238163814864</title>\n<path fill=\"none\" stroke=\"#000000\" d=\"M1231.3033,-182.2796C1231.9845,-174.0376 1232.9838,-161.9457 1233.8364,-151.629\"/>\n<polygon fill=\"#000000\" stroke=\"#000000\" points=\"1237.3464,-151.6516 1234.682,-141.3972 1230.3702,-151.075 1237.3464,-151.6516\"/>\n</g>\n<!-- 140238163813264 -->\n<g id=\"node7\" class=\"node\">\n<title>140238163813264</title>\n<polygon fill=\"#d3d3d3\" stroke=\"#000000\" points=\"1278,-267.5 1183,-267.5 1183,-248.5 1278,-248.5 1278,-267.5\"/>\n<text text-anchor=\"middle\" x=\"1230.5\" y=\"-255.5\" font-family=\"monospace\" font-size=\"10.00\" fill=\"#000000\">AddmmBackward</text>\n</g>\n<!-- 140238163813264&#45;&gt;140238163814288 -->\n<g id=\"edge5\" class=\"edge\">\n<title>140238163813264&#45;&gt;140238163814288</title>\n<path fill=\"none\" stroke=\"#000000\" d=\"M1230.5,-248.2615C1230.5,-238.7077 1230.5,-223.8615 1230.5,-211.8183\"/>\n<polygon fill=\"#000000\" stroke=\"#000000\" points=\"1234.0001,-211.7784 1230.5,-201.7785 1227.0001,-211.7785 1234.0001,-211.7784\"/>\n</g>\n<!-- 140238163814160 -->\n<g id=\"node8\" class=\"node\">\n<title>140238163814160</title>\n<polygon fill=\"#d3d3d3\" stroke=\"#000000\" points=\"1168,-328 1067,-328 1067,-309 1168,-309 1168,-328\"/>\n<text text-anchor=\"middle\" x=\"1117.5\" y=\"-316\" font-family=\"monospace\" font-size=\"10.00\" fill=\"#000000\">AccumulateGrad</text>\n</g>\n<!-- 140238163814160&#45;&gt;140238163813264 -->\n<g id=\"edge6\" class=\"edge\">\n<title>140238163814160&#45;&gt;140238163813264</title>\n<path fill=\"none\" stroke=\"#000000\" d=\"M1135.4052,-308.9136C1153.754,-299.0897 1182.5054,-283.6962 1203.5936,-272.4056\"/>\n<polygon fill=\"#000000\" stroke=\"#000000\" points=\"1205.5146,-275.3472 1212.6786,-267.5416 1202.2106,-269.1761 1205.5146,-275.3472\"/>\n</g>\n<!-- 140238163453664 -->\n<g id=\"node9\" class=\"node\">\n<title>140238163453664</title>\n<polygon fill=\"#add8e6\" stroke=\"#000000\" points=\"1147,-394 1088,-394 1088,-364 1147,-364 1147,-394\"/>\n<text text-anchor=\"middle\" x=\"1117.5\" y=\"-382\" font-family=\"monospace\" font-size=\"10.00\" fill=\"#000000\">9.bias</text>\n<text text-anchor=\"middle\" x=\"1117.5\" y=\"-371\" font-family=\"monospace\" font-size=\"10.00\" fill=\"#000000\"> (4096)</text>\n</g>\n<!-- 140238163453664&#45;&gt;140238163814160 -->\n<g id=\"edge7\" class=\"edge\">\n<title>140238163453664&#45;&gt;140238163814160</title>\n<path fill=\"none\" stroke=\"#000000\" d=\"M1117.5,-363.7333C1117.5,-356.0322 1117.5,-346.5977 1117.5,-338.3414\"/>\n<polygon fill=\"#000000\" stroke=\"#000000\" points=\"1121.0001,-338.0864 1117.5,-328.0864 1114.0001,-338.0864 1121.0001,-338.0864\"/>\n</g>\n<!-- 140238163815504 -->\n<g id=\"node10\" class=\"node\">\n<title>140238163815504</title>\n<polygon fill=\"#d3d3d3\" stroke=\"#000000\" points=\"1275,-328 1186,-328 1186,-309 1275,-309 1275,-328\"/>\n<text text-anchor=\"middle\" x=\"1230.5\" y=\"-316\" font-family=\"monospace\" font-size=\"10.00\" fill=\"#000000\">MulBackward0</text>\n</g>\n<!-- 140238163815504&#45;&gt;140238163813264 -->\n<g id=\"edge8\" class=\"edge\">\n<title>140238163815504&#45;&gt;140238163813264</title>\n<path fill=\"none\" stroke=\"#000000\" d=\"M1230.5,-308.7796C1230.5,-300.5376 1230.5,-288.4457 1230.5,-278.129\"/>\n<polygon fill=\"#000000\" stroke=\"#000000\" points=\"1234.0001,-277.8972 1230.5,-267.8972 1227.0001,-277.8973 1234.0001,-277.8972\"/>\n</g>\n<!-- 140238163814928 -->\n<g id=\"node11\" class=\"node\">\n<title>140238163814928</title>\n<polygon fill=\"#d3d3d3\" stroke=\"#000000\" points=\"1269,-388.5 1174,-388.5 1174,-369.5 1269,-369.5 1269,-388.5\"/>\n<text text-anchor=\"middle\" x=\"1221.5\" y=\"-376.5\" font-family=\"monospace\" font-size=\"10.00\" fill=\"#000000\">ReluBackward0</text>\n</g>\n<!-- 140238163814928&#45;&gt;140238163815504 -->\n<g id=\"edge9\" class=\"edge\">\n<title>140238163814928&#45;&gt;140238163815504</title>\n<path fill=\"none\" stroke=\"#000000\" d=\"M1222.946,-369.2796C1224.1851,-360.9499 1226.0092,-348.688 1227.5545,-338.3004\"/>\n<polygon fill=\"#000000\" stroke=\"#000000\" points=\"1231.0181,-338.8034 1229.0277,-328.3972 1224.0943,-337.7734 1231.0181,-338.8034\"/>\n</g>\n<!-- 140238163815568 -->\n<g id=\"node12\" class=\"node\">\n<title>140238163815568</title>\n<polygon fill=\"#d3d3d3\" stroke=\"#000000\" points=\"1269,-454.5 1174,-454.5 1174,-435.5 1269,-435.5 1269,-454.5\"/>\n<text text-anchor=\"middle\" x=\"1221.5\" y=\"-442.5\" font-family=\"monospace\" font-size=\"10.00\" fill=\"#000000\">AddmmBackward</text>\n</g>\n<!-- 140238163815568&#45;&gt;140238163814928 -->\n<g id=\"edge10\" class=\"edge\">\n<title>140238163815568&#45;&gt;140238163814928</title>\n<path fill=\"none\" stroke=\"#000000\" d=\"M1221.5,-435.2615C1221.5,-425.7077 1221.5,-410.8615 1221.5,-398.8183\"/>\n<polygon fill=\"#000000\" stroke=\"#000000\" points=\"1225.0001,-398.7784 1221.5,-388.7785 1218.0001,-398.7785 1225.0001,-398.7784\"/>\n</g>\n<!-- 140238163816016 -->\n<g id=\"node13\" class=\"node\">\n<title>140238163816016</title>\n<polygon fill=\"#d3d3d3\" stroke=\"#000000\" points=\"1146,-515 1045,-515 1045,-496 1146,-496 1146,-515\"/>\n<text text-anchor=\"middle\" x=\"1095.5\" y=\"-503\" font-family=\"monospace\" font-size=\"10.00\" fill=\"#000000\">AccumulateGrad</text>\n</g>\n<!-- 140238163816016&#45;&gt;140238163815568 -->\n<g id=\"edge11\" class=\"edge\">\n<title>140238163816016&#45;&gt;140238163815568</title>\n<path fill=\"none\" stroke=\"#000000\" d=\"M1115.4651,-495.9136C1136.2013,-485.9569 1168.8525,-470.2791 1192.4467,-458.9502\"/>\n<polygon fill=\"#000000\" stroke=\"#000000\" points=\"1194.1286,-462.0252 1201.6283,-454.5416 1191.0987,-455.7149 1194.1286,-462.0252\"/>\n</g>\n<!-- 140238163927520 -->\n<g id=\"node14\" class=\"node\">\n<title>140238163927520</title>\n<polygon fill=\"#add8e6\" stroke=\"#000000\" points=\"1111,-581 1052,-581 1052,-551 1111,-551 1111,-581\"/>\n<text text-anchor=\"middle\" x=\"1081.5\" y=\"-569\" font-family=\"monospace\" font-size=\"10.00\" fill=\"#000000\">6.bias</text>\n<text text-anchor=\"middle\" x=\"1081.5\" y=\"-558\" font-family=\"monospace\" font-size=\"10.00\" fill=\"#000000\"> (4096)</text>\n</g>\n<!-- 140238163927520&#45;&gt;140238163816016 -->\n<g id=\"edge12\" class=\"edge\">\n<title>140238163927520&#45;&gt;140238163816016</title>\n<path fill=\"none\" stroke=\"#000000\" d=\"M1085.0328,-550.7333C1086.8351,-542.9447 1089.0477,-533.3831 1090.9736,-525.0604\"/>\n<polygon fill=\"#000000\" stroke=\"#000000\" points=\"1094.437,-525.6181 1093.2817,-515.0864 1087.6172,-524.0399 1094.437,-525.6181\"/>\n</g>\n<!-- 140238163815696 -->\n<g id=\"node15\" class=\"node\">\n<title>140238163815696</title>\n<polygon fill=\"#d3d3d3\" stroke=\"#000000\" points=\"1266,-515 1177,-515 1177,-496 1266,-496 1266,-515\"/>\n<text text-anchor=\"middle\" x=\"1221.5\" y=\"-503\" font-family=\"monospace\" font-size=\"10.00\" fill=\"#000000\">ViewBackward</text>\n</g>\n<!-- 140238163815696&#45;&gt;140238163815568 -->\n<g id=\"edge13\" class=\"edge\">\n<title>140238163815696&#45;&gt;140238163815568</title>\n<path fill=\"none\" stroke=\"#000000\" d=\"M1221.5,-495.7796C1221.5,-487.5376 1221.5,-475.4457 1221.5,-465.129\"/>\n<polygon fill=\"#000000\" stroke=\"#000000\" points=\"1225.0001,-464.8972 1221.5,-454.8972 1218.0001,-464.8973 1225.0001,-464.8972\"/>\n</g>\n<!-- 140238163815952 -->\n<g id=\"node16\" class=\"node\">\n<title>140238163815952</title>\n<polygon fill=\"#d3d3d3\" stroke=\"#000000\" points=\"1314,-575.5 1129,-575.5 1129,-556.5 1314,-556.5 1314,-575.5\"/>\n<text text-anchor=\"middle\" x=\"1221.5\" y=\"-563.5\" font-family=\"monospace\" font-size=\"10.00\" fill=\"#000000\">MaxPool2DWithIndicesBackward</text>\n</g>\n<!-- 140238163815952&#45;&gt;140238163815696 -->\n<g id=\"edge14\" class=\"edge\">\n<title>140238163815952&#45;&gt;140238163815696</title>\n<path fill=\"none\" stroke=\"#000000\" d=\"M1221.5,-556.2796C1221.5,-548.0376 1221.5,-535.9457 1221.5,-525.629\"/>\n<polygon fill=\"#000000\" stroke=\"#000000\" points=\"1225.0001,-525.3972 1221.5,-515.3972 1218.0001,-525.3973 1225.0001,-525.3972\"/>\n</g>\n<!-- 140238163816080 -->\n<g id=\"node17\" class=\"node\">\n<title>140238163816080</title>\n<polygon fill=\"#d3d3d3\" stroke=\"#000000\" points=\"1269,-641.5 1174,-641.5 1174,-622.5 1269,-622.5 1269,-641.5\"/>\n<text text-anchor=\"middle\" x=\"1221.5\" y=\"-629.5\" font-family=\"monospace\" font-size=\"10.00\" fill=\"#000000\">ReluBackward0</text>\n</g>\n<!-- 140238163816080&#45;&gt;140238163815952 -->\n<g id=\"edge15\" class=\"edge\">\n<title>140238163816080&#45;&gt;140238163815952</title>\n<path fill=\"none\" stroke=\"#000000\" d=\"M1221.5,-622.2615C1221.5,-612.7077 1221.5,-597.8615 1221.5,-585.8183\"/>\n<polygon fill=\"#000000\" stroke=\"#000000\" points=\"1225.0001,-585.7784 1221.5,-575.7785 1218.0001,-585.7785 1225.0001,-585.7784\"/>\n</g>\n<!-- 140238163815440 -->\n<g id=\"node18\" class=\"node\">\n<title>140238163815440</title>\n<polygon fill=\"#d3d3d3\" stroke=\"#000000\" points=\"1305,-702 1138,-702 1138,-683 1305,-683 1305,-702\"/>\n<text text-anchor=\"middle\" x=\"1221.5\" y=\"-690\" font-family=\"monospace\" font-size=\"10.00\" fill=\"#000000\">MkldnnConvolutionBackward</text>\n</g>\n<!-- 140238163815440&#45;&gt;140238163816080 -->\n<g id=\"edge16\" class=\"edge\">\n<title>140238163815440&#45;&gt;140238163816080</title>\n<path fill=\"none\" stroke=\"#000000\" d=\"M1221.5,-682.7796C1221.5,-674.5376 1221.5,-662.4457 1221.5,-652.129\"/>\n<polygon fill=\"#000000\" stroke=\"#000000\" points=\"1225.0001,-651.8972 1221.5,-641.8972 1218.0001,-651.8973 1225.0001,-651.8972\"/>\n</g>\n<!-- 140238163815376 -->\n<g id=\"node19\" class=\"node\">\n<title>140238163815376</title>\n<polygon fill=\"#d3d3d3\" stroke=\"#000000\" points=\"1131,-757 1036,-757 1036,-738 1131,-738 1131,-757\"/>\n<text text-anchor=\"middle\" x=\"1083.5\" y=\"-745\" font-family=\"monospace\" font-size=\"10.00\" fill=\"#000000\">ReluBackward0</text>\n</g>\n<!-- 140238163815376&#45;&gt;140238163815440 -->\n<g id=\"edge17\" class=\"edge\">\n<title>140238163815376&#45;&gt;140238163815440</title>\n<path fill=\"none\" stroke=\"#000000\" d=\"M1107.5378,-737.9197C1129.7622,-729.0622 1163.0093,-715.8115 1187.8652,-705.9052\"/>\n<polygon fill=\"#000000\" stroke=\"#000000\" points=\"1189.2811,-709.1087 1197.2747,-702.155 1186.6894,-702.6061 1189.2811,-709.1087\"/>\n</g>\n<!-- 140238163816272 -->\n<g id=\"node20\" class=\"node\">\n<title>140238163816272</title>\n<polygon fill=\"#d3d3d3\" stroke=\"#000000\" points=\"1149,-817.5 982,-817.5 982,-798.5 1149,-798.5 1149,-817.5\"/>\n<text text-anchor=\"middle\" x=\"1065.5\" y=\"-805.5\" font-family=\"monospace\" font-size=\"10.00\" fill=\"#000000\">MkldnnConvolutionBackward</text>\n</g>\n<!-- 140238163816272&#45;&gt;140238163815376 -->\n<g id=\"edge18\" class=\"edge\">\n<title>140238163816272&#45;&gt;140238163815376</title>\n<path fill=\"none\" stroke=\"#000000\" d=\"M1068.392,-798.2796C1070.8703,-789.9499 1074.5184,-777.688 1077.609,-767.3004\"/>\n<polygon fill=\"#000000\" stroke=\"#000000\" points=\"1081.0583,-767.9801 1080.5554,-757.3972 1074.349,-765.9839 1081.0583,-767.9801\"/>\n</g>\n<!-- 140238163816208 -->\n<g id=\"node21\" class=\"node\">\n<title>140238163816208</title>\n<polygon fill=\"#d3d3d3\" stroke=\"#000000\" points=\"997,-878 812,-878 812,-859 997,-859 997,-878\"/>\n<text text-anchor=\"middle\" x=\"904.5\" y=\"-866\" font-family=\"monospace\" font-size=\"10.00\" fill=\"#000000\">MaxPool2DWithIndicesBackward</text>\n</g>\n<!-- 140238163816208&#45;&gt;140238163816272 -->\n<g id=\"edge19\" class=\"edge\">\n<title>140238163816208&#45;&gt;140238163816272</title>\n<path fill=\"none\" stroke=\"#000000\" d=\"M930.0109,-858.9136C957.096,-848.7357 1000.09,-832.5795 1030.3688,-821.2015\"/>\n<polygon fill=\"#000000\" stroke=\"#000000\" points=\"1031.9787,-824.3355 1040.1084,-817.5416 1029.5163,-817.7829 1031.9787,-824.3355\"/>\n</g>\n<!-- 140238163862800 -->\n<g id=\"node22\" class=\"node\">\n<title>140238163862800</title>\n<polygon fill=\"#d3d3d3\" stroke=\"#000000\" points=\"952,-938.5 857,-938.5 857,-919.5 952,-919.5 952,-938.5\"/>\n<text text-anchor=\"middle\" x=\"904.5\" y=\"-926.5\" font-family=\"monospace\" font-size=\"10.00\" fill=\"#000000\">ReluBackward0</text>\n</g>\n<!-- 140238163862800&#45;&gt;140238163816208 -->\n<g id=\"edge20\" class=\"edge\">\n<title>140238163862800&#45;&gt;140238163816208</title>\n<path fill=\"none\" stroke=\"#000000\" d=\"M904.5,-919.2796C904.5,-911.0376 904.5,-898.9457 904.5,-888.629\"/>\n<polygon fill=\"#000000\" stroke=\"#000000\" points=\"908.0001,-888.3972 904.5,-878.3972 901.0001,-888.3973 908.0001,-888.3972\"/>\n</g>\n<!-- 140238163865552 -->\n<g id=\"node23\" class=\"node\">\n<title>140238163865552</title>\n<polygon fill=\"#d3d3d3\" stroke=\"#000000\" points=\"988,-999 821,-999 821,-980 988,-980 988,-999\"/>\n<text text-anchor=\"middle\" x=\"904.5\" y=\"-987\" font-family=\"monospace\" font-size=\"10.00\" fill=\"#000000\">MkldnnConvolutionBackward</text>\n</g>\n<!-- 140238163865552&#45;&gt;140238163862800 -->\n<g id=\"edge21\" class=\"edge\">\n<title>140238163865552&#45;&gt;140238163862800</title>\n<path fill=\"none\" stroke=\"#000000\" d=\"M904.5,-979.7796C904.5,-971.5376 904.5,-959.4457 904.5,-949.129\"/>\n<polygon fill=\"#000000\" stroke=\"#000000\" points=\"908.0001,-948.8972 904.5,-938.8972 901.0001,-948.8973 908.0001,-948.8972\"/>\n</g>\n<!-- 140238163861584 -->\n<g id=\"node24\" class=\"node\">\n<title>140238163861584</title>\n<polygon fill=\"#d3d3d3\" stroke=\"#000000\" points=\"814,-1054 719,-1054 719,-1035 814,-1035 814,-1054\"/>\n<text text-anchor=\"middle\" x=\"766.5\" y=\"-1042\" font-family=\"monospace\" font-size=\"10.00\" fill=\"#000000\">ReluBackward0</text>\n</g>\n<!-- 140238163861584&#45;&gt;140238163865552 -->\n<g id=\"edge22\" class=\"edge\">\n<title>140238163861584&#45;&gt;140238163865552</title>\n<path fill=\"none\" stroke=\"#000000\" d=\"M790.5378,-1034.9197C812.7622,-1026.0622 846.0093,-1012.8115 870.8652,-1002.9052\"/>\n<polygon fill=\"#000000\" stroke=\"#000000\" points=\"872.2811,-1006.1087 880.2747,-999.155 869.6894,-999.6061 872.2811,-1006.1087\"/>\n</g>\n<!-- 140238163861904 -->\n<g id=\"node25\" class=\"node\">\n<title>140238163861904</title>\n<polygon fill=\"#d3d3d3\" stroke=\"#000000\" points=\"832,-1114.5 665,-1114.5 665,-1095.5 832,-1095.5 832,-1114.5\"/>\n<text text-anchor=\"middle\" x=\"748.5\" y=\"-1102.5\" font-family=\"monospace\" font-size=\"10.00\" fill=\"#000000\">MkldnnConvolutionBackward</text>\n</g>\n<!-- 140238163861904&#45;&gt;140238163861584 -->\n<g id=\"edge23\" class=\"edge\">\n<title>140238163861904&#45;&gt;140238163861584</title>\n<path fill=\"none\" stroke=\"#000000\" d=\"M751.392,-1095.2796C753.8703,-1086.9499 757.5184,-1074.688 760.609,-1064.3004\"/>\n<polygon fill=\"#000000\" stroke=\"#000000\" points=\"764.0583,-1064.9801 763.5554,-1054.3972 757.349,-1062.9839 764.0583,-1064.9801\"/>\n</g>\n<!-- 140238163862032 -->\n<g id=\"node26\" class=\"node\">\n<title>140238163862032</title>\n<polygon fill=\"#d3d3d3\" stroke=\"#000000\" points=\"680,-1175 495,-1175 495,-1156 680,-1156 680,-1175\"/>\n<text text-anchor=\"middle\" x=\"587.5\" y=\"-1163\" font-family=\"monospace\" font-size=\"10.00\" fill=\"#000000\">MaxPool2DWithIndicesBackward</text>\n</g>\n<!-- 140238163862032&#45;&gt;140238163861904 -->\n<g id=\"edge24\" class=\"edge\">\n<title>140238163862032&#45;&gt;140238163861904</title>\n<path fill=\"none\" stroke=\"#000000\" d=\"M613.0109,-1155.9136C640.096,-1145.7357 683.09,-1129.5795 713.3688,-1118.2015\"/>\n<polygon fill=\"#000000\" stroke=\"#000000\" points=\"714.9787,-1121.3355 723.1084,-1114.5416 712.5163,-1114.7829 714.9787,-1121.3355\"/>\n</g>\n<!-- 140238163862224 -->\n<g id=\"node27\" class=\"node\">\n<title>140238163862224</title>\n<polygon fill=\"#d3d3d3\" stroke=\"#000000\" points=\"635,-1235.5 540,-1235.5 540,-1216.5 635,-1216.5 635,-1235.5\"/>\n<text text-anchor=\"middle\" x=\"587.5\" y=\"-1223.5\" font-family=\"monospace\" font-size=\"10.00\" fill=\"#000000\">ReluBackward0</text>\n</g>\n<!-- 140238163862224&#45;&gt;140238163862032 -->\n<g id=\"edge25\" class=\"edge\">\n<title>140238163862224&#45;&gt;140238163862032</title>\n<path fill=\"none\" stroke=\"#000000\" d=\"M587.5,-1216.2796C587.5,-1208.0376 587.5,-1195.9457 587.5,-1185.629\"/>\n<polygon fill=\"#000000\" stroke=\"#000000\" points=\"591.0001,-1185.3972 587.5,-1175.3972 584.0001,-1185.3973 591.0001,-1185.3972\"/>\n</g>\n<!-- 140238163887824 -->\n<g id=\"node28\" class=\"node\">\n<title>140238163887824</title>\n<polygon fill=\"#d3d3d3\" stroke=\"#000000\" points=\"671,-1296 504,-1296 504,-1277 671,-1277 671,-1296\"/>\n<text text-anchor=\"middle\" x=\"587.5\" y=\"-1284\" font-family=\"monospace\" font-size=\"10.00\" fill=\"#000000\">MkldnnConvolutionBackward</text>\n</g>\n<!-- 140238163887824&#45;&gt;140238163862224 -->\n<g id=\"edge26\" class=\"edge\">\n<title>140238163887824&#45;&gt;140238163862224</title>\n<path fill=\"none\" stroke=\"#000000\" d=\"M587.5,-1276.7796C587.5,-1268.5376 587.5,-1256.4457 587.5,-1246.129\"/>\n<polygon fill=\"#000000\" stroke=\"#000000\" points=\"591.0001,-1245.8972 587.5,-1235.8972 584.0001,-1245.8973 591.0001,-1245.8972\"/>\n</g>\n<!-- 140238163888336 -->\n<g id=\"node29\" class=\"node\">\n<title>140238163888336</title>\n<polygon fill=\"#d3d3d3\" stroke=\"#000000\" points=\"497,-1351 402,-1351 402,-1332 497,-1332 497,-1351\"/>\n<text text-anchor=\"middle\" x=\"449.5\" y=\"-1339\" font-family=\"monospace\" font-size=\"10.00\" fill=\"#000000\">ReluBackward0</text>\n</g>\n<!-- 140238163888336&#45;&gt;140238163887824 -->\n<g id=\"edge27\" class=\"edge\">\n<title>140238163888336&#45;&gt;140238163887824</title>\n<path fill=\"none\" stroke=\"#000000\" d=\"M473.5378,-1331.9197C495.7622,-1323.0622 529.0093,-1309.8115 553.8652,-1299.9052\"/>\n<polygon fill=\"#000000\" stroke=\"#000000\" points=\"555.2811,-1303.1087 563.2747,-1296.155 552.6894,-1296.6061 555.2811,-1303.1087\"/>\n</g>\n<!-- 140238163888400 -->\n<g id=\"node30\" class=\"node\">\n<title>140238163888400</title>\n<polygon fill=\"#d3d3d3\" stroke=\"#000000\" points=\"515,-1411.5 348,-1411.5 348,-1392.5 515,-1392.5 515,-1411.5\"/>\n<text text-anchor=\"middle\" x=\"431.5\" y=\"-1399.5\" font-family=\"monospace\" font-size=\"10.00\" fill=\"#000000\">MkldnnConvolutionBackward</text>\n</g>\n<!-- 140238163888400&#45;&gt;140238163888336 -->\n<g id=\"edge28\" class=\"edge\">\n<title>140238163888400&#45;&gt;140238163888336</title>\n<path fill=\"none\" stroke=\"#000000\" d=\"M434.392,-1392.2796C436.8703,-1383.9499 440.5184,-1371.688 443.609,-1361.3004\"/>\n<polygon fill=\"#000000\" stroke=\"#000000\" points=\"447.0583,-1361.9801 446.5554,-1351.3972 440.349,-1359.9839 447.0583,-1361.9801\"/>\n</g>\n<!-- 140238163888784 -->\n<g id=\"node31\" class=\"node\">\n<title>140238163888784</title>\n<polygon fill=\"#d3d3d3\" stroke=\"#000000\" points=\"363,-1472 178,-1472 178,-1453 363,-1453 363,-1472\"/>\n<text text-anchor=\"middle\" x=\"270.5\" y=\"-1460\" font-family=\"monospace\" font-size=\"10.00\" fill=\"#000000\">MaxPool2DWithIndicesBackward</text>\n</g>\n<!-- 140238163888784&#45;&gt;140238163888400 -->\n<g id=\"edge29\" class=\"edge\">\n<title>140238163888784&#45;&gt;140238163888400</title>\n<path fill=\"none\" stroke=\"#000000\" d=\"M296.0109,-1452.9136C323.096,-1442.7357 366.09,-1426.5795 396.3688,-1415.2015\"/>\n<polygon fill=\"#000000\" stroke=\"#000000\" points=\"397.9787,-1418.3355 406.1084,-1411.5416 395.5163,-1411.7829 397.9787,-1418.3355\"/>\n</g>\n<!-- 140238163889040 -->\n<g id=\"node32\" class=\"node\">\n<title>140238163889040</title>\n<polygon fill=\"#d3d3d3\" stroke=\"#000000\" points=\"318,-1532.5 223,-1532.5 223,-1513.5 318,-1513.5 318,-1532.5\"/>\n<text text-anchor=\"middle\" x=\"270.5\" y=\"-1520.5\" font-family=\"monospace\" font-size=\"10.00\" fill=\"#000000\">ReluBackward0</text>\n</g>\n<!-- 140238163889040&#45;&gt;140238163888784 -->\n<g id=\"edge30\" class=\"edge\">\n<title>140238163889040&#45;&gt;140238163888784</title>\n<path fill=\"none\" stroke=\"#000000\" d=\"M270.5,-1513.2796C270.5,-1505.0376 270.5,-1492.9457 270.5,-1482.629\"/>\n<polygon fill=\"#000000\" stroke=\"#000000\" points=\"274.0001,-1482.3972 270.5,-1472.3972 267.0001,-1482.3973 274.0001,-1482.3972\"/>\n</g>\n<!-- 140238163889232 -->\n<g id=\"node33\" class=\"node\">\n<title>140238163889232</title>\n<polygon fill=\"#d3d3d3\" stroke=\"#000000\" points=\"354,-1593 187,-1593 187,-1574 354,-1574 354,-1593\"/>\n<text text-anchor=\"middle\" x=\"270.5\" y=\"-1581\" font-family=\"monospace\" font-size=\"10.00\" fill=\"#000000\">MkldnnConvolutionBackward</text>\n</g>\n<!-- 140238163889232&#45;&gt;140238163889040 -->\n<g id=\"edge31\" class=\"edge\">\n<title>140238163889232&#45;&gt;140238163889040</title>\n<path fill=\"none\" stroke=\"#000000\" d=\"M270.5,-1573.7796C270.5,-1565.5376 270.5,-1553.4457 270.5,-1543.129\"/>\n<polygon fill=\"#000000\" stroke=\"#000000\" points=\"274.0001,-1542.8972 270.5,-1532.8972 267.0001,-1542.8973 274.0001,-1542.8972\"/>\n</g>\n<!-- 140238163889296 -->\n<g id=\"node34\" class=\"node\">\n<title>140238163889296</title>\n<polygon fill=\"#d3d3d3\" stroke=\"#000000\" points=\"202,-1648 17,-1648 17,-1629 202,-1629 202,-1648\"/>\n<text text-anchor=\"middle\" x=\"109.5\" y=\"-1636\" font-family=\"monospace\" font-size=\"10.00\" fill=\"#000000\">MaxPool2DWithIndicesBackward</text>\n</g>\n<!-- 140238163889296&#45;&gt;140238163889232 -->\n<g id=\"edge32\" class=\"edge\">\n<title>140238163889296&#45;&gt;140238163889232</title>\n<path fill=\"none\" stroke=\"#000000\" d=\"M137.5441,-1628.9197C163.8973,-1619.9171 203.5352,-1606.3762 232.6767,-1596.421\"/>\n<polygon fill=\"#000000\" stroke=\"#000000\" points=\"234.1761,-1599.6075 242.5077,-1593.0626 231.9131,-1592.9833 234.1761,-1599.6075\"/>\n</g>\n<!-- 140238163889616 -->\n<g id=\"node35\" class=\"node\">\n<title>140238163889616</title>\n<polygon fill=\"#d3d3d3\" stroke=\"#000000\" points=\"157,-1708.5 62,-1708.5 62,-1689.5 157,-1689.5 157,-1708.5\"/>\n<text text-anchor=\"middle\" x=\"109.5\" y=\"-1696.5\" font-family=\"monospace\" font-size=\"10.00\" fill=\"#000000\">ReluBackward0</text>\n</g>\n<!-- 140238163889616&#45;&gt;140238163889296 -->\n<g id=\"edge33\" class=\"edge\">\n<title>140238163889616&#45;&gt;140238163889296</title>\n<path fill=\"none\" stroke=\"#000000\" d=\"M109.5,-1689.2796C109.5,-1681.0376 109.5,-1668.9457 109.5,-1658.629\"/>\n<polygon fill=\"#000000\" stroke=\"#000000\" points=\"113.0001,-1658.3972 109.5,-1648.3972 106.0001,-1658.3973 113.0001,-1658.3972\"/>\n</g>\n<!-- 140238163889680 -->\n<g id=\"node36\" class=\"node\">\n<title>140238163889680</title>\n<polygon fill=\"#d3d3d3\" stroke=\"#000000\" points=\"193,-1769 26,-1769 26,-1750 193,-1750 193,-1769\"/>\n<text text-anchor=\"middle\" x=\"109.5\" y=\"-1757\" font-family=\"monospace\" font-size=\"10.00\" fill=\"#000000\">MkldnnConvolutionBackward</text>\n</g>\n<!-- 140238163889680&#45;&gt;140238163889616 -->\n<g id=\"edge34\" class=\"edge\">\n<title>140238163889680&#45;&gt;140238163889616</title>\n<path fill=\"none\" stroke=\"#000000\" d=\"M109.5,-1749.7796C109.5,-1741.5376 109.5,-1729.4457 109.5,-1719.129\"/>\n<polygon fill=\"#000000\" stroke=\"#000000\" points=\"113.0001,-1718.8972 109.5,-1708.8972 106.0001,-1718.8973 113.0001,-1718.8972\"/>\n</g>\n<!-- 140238163888848 -->\n<g id=\"node37\" class=\"node\">\n<title>140238163888848</title>\n<polygon fill=\"#d3d3d3\" stroke=\"#000000\" points=\"101,-1824 0,-1824 0,-1805 101,-1805 101,-1824\"/>\n<text text-anchor=\"middle\" x=\"50.5\" y=\"-1812\" font-family=\"monospace\" font-size=\"10.00\" fill=\"#000000\">AccumulateGrad</text>\n</g>\n<!-- 140238163888848&#45;&gt;140238163889680 -->\n<g id=\"edge35\" class=\"edge\">\n<title>140238163888848&#45;&gt;140238163889680</title>\n<path fill=\"none\" stroke=\"#000000\" d=\"M60.777,-1804.9197C69.2176,-1797.0514 81.377,-1785.7164 91.4369,-1776.3385\"/>\n<polygon fill=\"#000000\" stroke=\"#000000\" points=\"94.0154,-1778.7198 98.9435,-1769.3408 89.2422,-1773.5995 94.0154,-1778.7198\"/>\n</g>\n<!-- 140238163950720 -->\n<g id=\"node38\" class=\"node\">\n<title>140238163950720</title>\n<polygon fill=\"#add8e6\" stroke=\"#000000\" points=\"101,-1890 0,-1890 0,-1860 101,-1860 101,-1890\"/>\n<text text-anchor=\"middle\" x=\"50.5\" y=\"-1878\" font-family=\"monospace\" font-size=\"10.00\" fill=\"#000000\">0.0.weight</text>\n<text text-anchor=\"middle\" x=\"50.5\" y=\"-1867\" font-family=\"monospace\" font-size=\"10.00\" fill=\"#000000\"> (64, 1, 3, 3)</text>\n</g>\n<!-- 140238163950720&#45;&gt;140238163888848 -->\n<g id=\"edge36\" class=\"edge\">\n<title>140238163950720&#45;&gt;140238163888848</title>\n<path fill=\"none\" stroke=\"#000000\" d=\"M50.5,-1859.7333C50.5,-1852.0322 50.5,-1842.5977 50.5,-1834.3414\"/>\n<polygon fill=\"#000000\" stroke=\"#000000\" points=\"54.0001,-1834.0864 50.5,-1824.0864 47.0001,-1834.0864 54.0001,-1834.0864\"/>\n</g>\n<!-- 140238163887376 -->\n<g id=\"node39\" class=\"node\">\n<title>140238163887376</title>\n<polygon fill=\"#d3d3d3\" stroke=\"#000000\" points=\"220,-1824 119,-1824 119,-1805 220,-1805 220,-1824\"/>\n<text text-anchor=\"middle\" x=\"169.5\" y=\"-1812\" font-family=\"monospace\" font-size=\"10.00\" fill=\"#000000\">AccumulateGrad</text>\n</g>\n<!-- 140238163887376&#45;&gt;140238163889680 -->\n<g id=\"edge37\" class=\"edge\">\n<title>140238163887376&#45;&gt;140238163889680</title>\n<path fill=\"none\" stroke=\"#000000\" d=\"M159.0488,-1804.9197C150.4651,-1797.0514 138.0997,-1785.7164 127.8693,-1776.3385\"/>\n<polygon fill=\"#000000\" stroke=\"#000000\" points=\"129.9721,-1773.5181 120.2355,-1769.3408 125.242,-1778.6782 129.9721,-1773.5181\"/>\n</g>\n<!-- 140238163950800 -->\n<g id=\"node40\" class=\"node\">\n<title>140238163950800</title>\n<polygon fill=\"#add8e6\" stroke=\"#000000\" points=\"202,-1890 137,-1890 137,-1860 202,-1860 202,-1890\"/>\n<text text-anchor=\"middle\" x=\"169.5\" y=\"-1878\" font-family=\"monospace\" font-size=\"10.00\" fill=\"#000000\">0.0.bias</text>\n<text text-anchor=\"middle\" x=\"169.5\" y=\"-1867\" font-family=\"monospace\" font-size=\"10.00\" fill=\"#000000\"> (64)</text>\n</g>\n<!-- 140238163950800&#45;&gt;140238163887376 -->\n<g id=\"edge38\" class=\"edge\">\n<title>140238163950800&#45;&gt;140238163887376</title>\n<path fill=\"none\" stroke=\"#000000\" d=\"M169.5,-1859.7333C169.5,-1852.0322 169.5,-1842.5977 169.5,-1834.3414\"/>\n<polygon fill=\"#000000\" stroke=\"#000000\" points=\"173.0001,-1834.0864 169.5,-1824.0864 166.0001,-1834.0864 173.0001,-1834.0864\"/>\n</g>\n<!-- 140238163889552 -->\n<g id=\"node41\" class=\"node\">\n<title>140238163889552</title>\n<polygon fill=\"#d3d3d3\" stroke=\"#000000\" points=\"321,-1648 220,-1648 220,-1629 321,-1629 321,-1648\"/>\n<text text-anchor=\"middle\" x=\"270.5\" y=\"-1636\" font-family=\"monospace\" font-size=\"10.00\" fill=\"#000000\">AccumulateGrad</text>\n</g>\n<!-- 140238163889552&#45;&gt;140238163889232 -->\n<g id=\"edge39\" class=\"edge\">\n<title>140238163889552&#45;&gt;140238163889232</title>\n<path fill=\"none\" stroke=\"#000000\" d=\"M270.5,-1628.9197C270.5,-1621.9083 270.5,-1612.1442 270.5,-1603.4652\"/>\n<polygon fill=\"#000000\" stroke=\"#000000\" points=\"274.0001,-1603.3408 270.5,-1593.3408 267.0001,-1603.3409 274.0001,-1603.3408\"/>\n</g>\n<!-- 140238163950880 -->\n<g id=\"node42\" class=\"node\">\n<title>140238163950880</title>\n<polygon fill=\"#add8e6\" stroke=\"#000000\" points=\"327,-1714 214,-1714 214,-1684 327,-1684 327,-1714\"/>\n<text text-anchor=\"middle\" x=\"270.5\" y=\"-1702\" font-family=\"monospace\" font-size=\"10.00\" fill=\"#000000\">1.0.weight</text>\n<text text-anchor=\"middle\" x=\"270.5\" y=\"-1691\" font-family=\"monospace\" font-size=\"10.00\" fill=\"#000000\"> (128, 64, 3, 3)</text>\n</g>\n<!-- 140238163950880&#45;&gt;140238163889552 -->\n<g id=\"edge40\" class=\"edge\">\n<title>140238163950880&#45;&gt;140238163889552</title>\n<path fill=\"none\" stroke=\"#000000\" d=\"M270.5,-1683.7333C270.5,-1676.0322 270.5,-1666.5977 270.5,-1658.3414\"/>\n<polygon fill=\"#000000\" stroke=\"#000000\" points=\"274.0001,-1658.0864 270.5,-1648.0864 267.0001,-1658.0864 274.0001,-1658.0864\"/>\n</g>\n<!-- 140238163889488 -->\n<g id=\"node43\" class=\"node\">\n<title>140238163889488</title>\n<polygon fill=\"#d3d3d3\" stroke=\"#000000\" points=\"440,-1648 339,-1648 339,-1629 440,-1629 440,-1648\"/>\n<text text-anchor=\"middle\" x=\"389.5\" y=\"-1636\" font-family=\"monospace\" font-size=\"10.00\" fill=\"#000000\">AccumulateGrad</text>\n</g>\n<!-- 140238163889488&#45;&gt;140238163889232 -->\n<g id=\"edge41\" class=\"edge\">\n<title>140238163889488&#45;&gt;140238163889232</title>\n<path fill=\"none\" stroke=\"#000000\" d=\"M368.7718,-1628.9197C349.9465,-1620.219 321.9495,-1607.2792 300.6487,-1597.4343\"/>\n<polygon fill=\"#000000\" stroke=\"#000000\" points=\"301.9357,-1594.1734 291.39,-1593.155 298.9989,-1600.5276 301.9357,-1594.1734\"/>\n</g>\n<!-- 140238163950960 -->\n<g id=\"node44\" class=\"node\">\n<title>140238163950960</title>\n<polygon fill=\"#add8e6\" stroke=\"#000000\" points=\"422,-1714 357,-1714 357,-1684 422,-1684 422,-1714\"/>\n<text text-anchor=\"middle\" x=\"389.5\" y=\"-1702\" font-family=\"monospace\" font-size=\"10.00\" fill=\"#000000\">1.0.bias</text>\n<text text-anchor=\"middle\" x=\"389.5\" y=\"-1691\" font-family=\"monospace\" font-size=\"10.00\" fill=\"#000000\"> (128)</text>\n</g>\n<!-- 140238163950960&#45;&gt;140238163889488 -->\n<g id=\"edge42\" class=\"edge\">\n<title>140238163950960&#45;&gt;140238163889488</title>\n<path fill=\"none\" stroke=\"#000000\" d=\"M389.5,-1683.7333C389.5,-1676.0322 389.5,-1666.5977 389.5,-1658.3414\"/>\n<polygon fill=\"#000000\" stroke=\"#000000\" points=\"393.0001,-1658.0864 389.5,-1648.0864 386.0001,-1658.0864 393.0001,-1658.0864\"/>\n</g>\n<!-- 140238163888976 -->\n<g id=\"node45\" class=\"node\">\n<title>140238163888976</title>\n<polygon fill=\"#d3d3d3\" stroke=\"#000000\" points=\"482,-1472 381,-1472 381,-1453 482,-1453 482,-1472\"/>\n<text text-anchor=\"middle\" x=\"431.5\" y=\"-1460\" font-family=\"monospace\" font-size=\"10.00\" fill=\"#000000\">AccumulateGrad</text>\n</g>\n<!-- 140238163888976&#45;&gt;140238163888400 -->\n<g id=\"edge43\" class=\"edge\">\n<title>140238163888976&#45;&gt;140238163888400</title>\n<path fill=\"none\" stroke=\"#000000\" d=\"M431.5,-1452.7796C431.5,-1444.5376 431.5,-1432.4457 431.5,-1422.129\"/>\n<polygon fill=\"#000000\" stroke=\"#000000\" points=\"435.0001,-1421.8972 431.5,-1411.8972 428.0001,-1421.8973 435.0001,-1421.8972\"/>\n</g>\n<!-- 140239958692880 -->\n<g id=\"node46\" class=\"node\">\n<title>140239958692880</title>\n<polygon fill=\"#add8e6\" stroke=\"#000000\" points=\"491,-1538 372,-1538 372,-1508 491,-1508 491,-1538\"/>\n<text text-anchor=\"middle\" x=\"431.5\" y=\"-1526\" font-family=\"monospace\" font-size=\"10.00\" fill=\"#000000\">2.0.weight</text>\n<text text-anchor=\"middle\" x=\"431.5\" y=\"-1515\" font-family=\"monospace\" font-size=\"10.00\" fill=\"#000000\"> (256, 128, 3, 3)</text>\n</g>\n<!-- 140239958692880&#45;&gt;140238163888976 -->\n<g id=\"edge44\" class=\"edge\">\n<title>140239958692880&#45;&gt;140238163888976</title>\n<path fill=\"none\" stroke=\"#000000\" d=\"M431.5,-1507.7333C431.5,-1500.0322 431.5,-1490.5977 431.5,-1482.3414\"/>\n<polygon fill=\"#000000\" stroke=\"#000000\" points=\"435.0001,-1482.0864 431.5,-1472.0864 428.0001,-1482.0864 435.0001,-1482.0864\"/>\n</g>\n<!-- 140238163888912 -->\n<g id=\"node47\" class=\"node\">\n<title>140238163888912</title>\n<polygon fill=\"#d3d3d3\" stroke=\"#000000\" points=\"601,-1472 500,-1472 500,-1453 601,-1453 601,-1472\"/>\n<text text-anchor=\"middle\" x=\"550.5\" y=\"-1460\" font-family=\"monospace\" font-size=\"10.00\" fill=\"#000000\">AccumulateGrad</text>\n</g>\n<!-- 140238163888912&#45;&gt;140238163888400 -->\n<g id=\"edge45\" class=\"edge\">\n<title>140238163888912&#45;&gt;140238163888400</title>\n<path fill=\"none\" stroke=\"#000000\" d=\"M531.6441,-1452.9136C512.1469,-1443.0012 481.4965,-1427.4184 459.2368,-1416.1015\"/>\n<polygon fill=\"#000000\" stroke=\"#000000\" points=\"460.768,-1412.9536 450.2677,-1411.5416 457.5956,-1419.1935 460.768,-1412.9536\"/>\n</g>\n<!-- 140238550976624 -->\n<g id=\"node48\" class=\"node\">\n<title>140238550976624</title>\n<polygon fill=\"#add8e6\" stroke=\"#000000\" points=\"583,-1538 518,-1538 518,-1508 583,-1508 583,-1538\"/>\n<text text-anchor=\"middle\" x=\"550.5\" y=\"-1526\" font-family=\"monospace\" font-size=\"10.00\" fill=\"#000000\">2.0.bias</text>\n<text text-anchor=\"middle\" x=\"550.5\" y=\"-1515\" font-family=\"monospace\" font-size=\"10.00\" fill=\"#000000\"> (256)</text>\n</g>\n<!-- 140238550976624&#45;&gt;140238163888912 -->\n<g id=\"edge46\" class=\"edge\">\n<title>140238550976624&#45;&gt;140238163888912</title>\n<path fill=\"none\" stroke=\"#000000\" d=\"M550.5,-1507.7333C550.5,-1500.0322 550.5,-1490.5977 550.5,-1482.3414\"/>\n<polygon fill=\"#000000\" stroke=\"#000000\" points=\"554.0001,-1482.0864 550.5,-1472.0864 547.0001,-1482.0864 554.0001,-1482.0864\"/>\n</g>\n<!-- 140238163886352 -->\n<g id=\"node49\" class=\"node\">\n<title>140238163886352</title>\n<polygon fill=\"#d3d3d3\" stroke=\"#000000\" points=\"638,-1351 537,-1351 537,-1332 638,-1332 638,-1351\"/>\n<text text-anchor=\"middle\" x=\"587.5\" y=\"-1339\" font-family=\"monospace\" font-size=\"10.00\" fill=\"#000000\">AccumulateGrad</text>\n</g>\n<!-- 140238163886352&#45;&gt;140238163887824 -->\n<g id=\"edge47\" class=\"edge\">\n<title>140238163886352&#45;&gt;140238163887824</title>\n<path fill=\"none\" stroke=\"#000000\" d=\"M587.5,-1331.9197C587.5,-1324.9083 587.5,-1315.1442 587.5,-1306.4652\"/>\n<polygon fill=\"#000000\" stroke=\"#000000\" points=\"591.0001,-1306.3408 587.5,-1296.3408 584.0001,-1306.3409 591.0001,-1306.3408\"/>\n</g>\n<!-- 140238171330192 -->\n<g id=\"node50\" class=\"node\">\n<title>140238171330192</title>\n<polygon fill=\"#add8e6\" stroke=\"#000000\" points=\"652,-1417 533,-1417 533,-1387 652,-1387 652,-1417\"/>\n<text text-anchor=\"middle\" x=\"592.5\" y=\"-1405\" font-family=\"monospace\" font-size=\"10.00\" fill=\"#000000\">2.2.weight</text>\n<text text-anchor=\"middle\" x=\"592.5\" y=\"-1394\" font-family=\"monospace\" font-size=\"10.00\" fill=\"#000000\"> (256, 256, 3, 3)</text>\n</g>\n<!-- 140238171330192&#45;&gt;140238163886352 -->\n<g id=\"edge48\" class=\"edge\">\n<title>140238171330192&#45;&gt;140238163886352</title>\n<path fill=\"none\" stroke=\"#000000\" d=\"M591.2383,-1386.7333C590.5946,-1378.9447 589.8044,-1369.3831 589.1166,-1361.0604\"/>\n<polygon fill=\"#000000\" stroke=\"#000000\" points=\"592.6041,-1360.7641 588.2923,-1351.0864 585.6279,-1361.3407 592.6041,-1360.7641\"/>\n</g>\n<!-- 140238163887632 -->\n<g id=\"node51\" class=\"node\">\n<title>140238163887632</title>\n<polygon fill=\"#d3d3d3\" stroke=\"#000000\" points=\"757,-1351 656,-1351 656,-1332 757,-1332 757,-1351\"/>\n<text text-anchor=\"middle\" x=\"706.5\" y=\"-1339\" font-family=\"monospace\" font-size=\"10.00\" fill=\"#000000\">AccumulateGrad</text>\n</g>\n<!-- 140238163887632&#45;&gt;140238163887824 -->\n<g id=\"edge49\" class=\"edge\">\n<title>140238163887632&#45;&gt;140238163887824</title>\n<path fill=\"none\" stroke=\"#000000\" d=\"M685.7718,-1331.9197C666.9465,-1323.219 638.9495,-1310.2792 617.6487,-1300.4343\"/>\n<polygon fill=\"#000000\" stroke=\"#000000\" points=\"618.9357,-1297.1734 608.39,-1296.155 615.9989,-1303.5276 618.9357,-1297.1734\"/>\n</g>\n<!-- 140238171329952 -->\n<g id=\"node52\" class=\"node\">\n<title>140238171329952</title>\n<polygon fill=\"#add8e6\" stroke=\"#000000\" points=\"739,-1417 674,-1417 674,-1387 739,-1387 739,-1417\"/>\n<text text-anchor=\"middle\" x=\"706.5\" y=\"-1405\" font-family=\"monospace\" font-size=\"10.00\" fill=\"#000000\">2.2.bias</text>\n<text text-anchor=\"middle\" x=\"706.5\" y=\"-1394\" font-family=\"monospace\" font-size=\"10.00\" fill=\"#000000\"> (256)</text>\n</g>\n<!-- 140238171329952&#45;&gt;140238163887632 -->\n<g id=\"edge50\" class=\"edge\">\n<title>140238171329952&#45;&gt;140238163887632</title>\n<path fill=\"none\" stroke=\"#000000\" d=\"M706.5,-1386.7333C706.5,-1379.0322 706.5,-1369.5977 706.5,-1361.3414\"/>\n<polygon fill=\"#000000\" stroke=\"#000000\" points=\"710.0001,-1361.0864 706.5,-1351.0864 703.0001,-1361.0864 710.0001,-1361.0864\"/>\n</g>\n<!-- 140238163862608 -->\n<g id=\"node53\" class=\"node\">\n<title>140238163862608</title>\n<polygon fill=\"#d3d3d3\" stroke=\"#000000\" points=\"799,-1175 698,-1175 698,-1156 799,-1156 799,-1175\"/>\n<text text-anchor=\"middle\" x=\"748.5\" y=\"-1163\" font-family=\"monospace\" font-size=\"10.00\" fill=\"#000000\">AccumulateGrad</text>\n</g>\n<!-- 140238163862608&#45;&gt;140238163861904 -->\n<g id=\"edge51\" class=\"edge\">\n<title>140238163862608&#45;&gt;140238163861904</title>\n<path fill=\"none\" stroke=\"#000000\" d=\"M748.5,-1155.7796C748.5,-1147.5376 748.5,-1135.4457 748.5,-1125.129\"/>\n<polygon fill=\"#000000\" stroke=\"#000000\" points=\"752.0001,-1124.8972 748.5,-1114.8972 745.0001,-1124.8973 752.0001,-1124.8972\"/>\n</g>\n<!-- 140238171311232 -->\n<g id=\"node54\" class=\"node\">\n<title>140238171311232</title>\n<polygon fill=\"#add8e6\" stroke=\"#000000\" points=\"808,-1241 689,-1241 689,-1211 808,-1211 808,-1241\"/>\n<text text-anchor=\"middle\" x=\"748.5\" y=\"-1229\" font-family=\"monospace\" font-size=\"10.00\" fill=\"#000000\">3.0.weight</text>\n<text text-anchor=\"middle\" x=\"748.5\" y=\"-1218\" font-family=\"monospace\" font-size=\"10.00\" fill=\"#000000\"> (512, 256, 3, 3)</text>\n</g>\n<!-- 140238171311232&#45;&gt;140238163862608 -->\n<g id=\"edge52\" class=\"edge\">\n<title>140238171311232&#45;&gt;140238163862608</title>\n<path fill=\"none\" stroke=\"#000000\" d=\"M748.5,-1210.7333C748.5,-1203.0322 748.5,-1193.5977 748.5,-1185.3414\"/>\n<polygon fill=\"#000000\" stroke=\"#000000\" points=\"752.0001,-1185.0864 748.5,-1175.0864 745.0001,-1185.0864 752.0001,-1185.0864\"/>\n</g>\n<!-- 140238163861968 -->\n<g id=\"node55\" class=\"node\">\n<title>140238163861968</title>\n<polygon fill=\"#d3d3d3\" stroke=\"#000000\" points=\"918,-1175 817,-1175 817,-1156 918,-1156 918,-1175\"/>\n<text text-anchor=\"middle\" x=\"867.5\" y=\"-1163\" font-family=\"monospace\" font-size=\"10.00\" fill=\"#000000\">AccumulateGrad</text>\n</g>\n<!-- 140238163861968&#45;&gt;140238163861904 -->\n<g id=\"edge53\" class=\"edge\">\n<title>140238163861968&#45;&gt;140238163861904</title>\n<path fill=\"none\" stroke=\"#000000\" d=\"M848.6441,-1155.9136C829.1469,-1146.0012 798.4965,-1130.4184 776.2368,-1119.1015\"/>\n<polygon fill=\"#000000\" stroke=\"#000000\" points=\"777.768,-1115.9536 767.2677,-1114.5416 774.5956,-1122.1935 777.768,-1115.9536\"/>\n</g>\n<!-- 140238171311632 -->\n<g id=\"node56\" class=\"node\">\n<title>140238171311632</title>\n<polygon fill=\"#add8e6\" stroke=\"#000000\" points=\"900,-1241 835,-1241 835,-1211 900,-1211 900,-1241\"/>\n<text text-anchor=\"middle\" x=\"867.5\" y=\"-1229\" font-family=\"monospace\" font-size=\"10.00\" fill=\"#000000\">3.0.bias</text>\n<text text-anchor=\"middle\" x=\"867.5\" y=\"-1218\" font-family=\"monospace\" font-size=\"10.00\" fill=\"#000000\"> (512)</text>\n</g>\n<!-- 140238171311632&#45;&gt;140238163861968 -->\n<g id=\"edge54\" class=\"edge\">\n<title>140238171311632&#45;&gt;140238163861968</title>\n<path fill=\"none\" stroke=\"#000000\" d=\"M867.5,-1210.7333C867.5,-1203.0322 867.5,-1193.5977 867.5,-1185.3414\"/>\n<polygon fill=\"#000000\" stroke=\"#000000\" points=\"871.0001,-1185.0864 867.5,-1175.0864 864.0001,-1185.0864 871.0001,-1185.0864\"/>\n</g>\n<!-- 140238163861712 -->\n<g id=\"node57\" class=\"node\">\n<title>140238163861712</title>\n<polygon fill=\"#d3d3d3\" stroke=\"#000000\" points=\"955,-1054 854,-1054 854,-1035 955,-1035 955,-1054\"/>\n<text text-anchor=\"middle\" x=\"904.5\" y=\"-1042\" font-family=\"monospace\" font-size=\"10.00\" fill=\"#000000\">AccumulateGrad</text>\n</g>\n<!-- 140238163861712&#45;&gt;140238163865552 -->\n<g id=\"edge55\" class=\"edge\">\n<title>140238163861712&#45;&gt;140238163865552</title>\n<path fill=\"none\" stroke=\"#000000\" d=\"M904.5,-1034.9197C904.5,-1027.9083 904.5,-1018.1442 904.5,-1009.4652\"/>\n<polygon fill=\"#000000\" stroke=\"#000000\" points=\"908.0001,-1009.3408 904.5,-999.3408 901.0001,-1009.3409 908.0001,-1009.3408\"/>\n</g>\n<!-- 140238171311472 -->\n<g id=\"node58\" class=\"node\">\n<title>140238171311472</title>\n<polygon fill=\"#add8e6\" stroke=\"#000000\" points=\"969,-1120 850,-1120 850,-1090 969,-1090 969,-1120\"/>\n<text text-anchor=\"middle\" x=\"909.5\" y=\"-1108\" font-family=\"monospace\" font-size=\"10.00\" fill=\"#000000\">3.2.weight</text>\n<text text-anchor=\"middle\" x=\"909.5\" y=\"-1097\" font-family=\"monospace\" font-size=\"10.00\" fill=\"#000000\"> (512, 512, 3, 3)</text>\n</g>\n<!-- 140238171311472&#45;&gt;140238163861712 -->\n<g id=\"edge56\" class=\"edge\">\n<title>140238171311472&#45;&gt;140238163861712</title>\n<path fill=\"none\" stroke=\"#000000\" d=\"M908.2383,-1089.7333C907.5946,-1081.9447 906.8044,-1072.3831 906.1166,-1064.0604\"/>\n<polygon fill=\"#000000\" stroke=\"#000000\" points=\"909.6041,-1063.7641 905.2923,-1054.0864 902.6279,-1064.3407 909.6041,-1063.7641\"/>\n</g>\n<!-- 140238163864336 -->\n<g id=\"node59\" class=\"node\">\n<title>140238163864336</title>\n<polygon fill=\"#d3d3d3\" stroke=\"#000000\" points=\"1074,-1054 973,-1054 973,-1035 1074,-1035 1074,-1054\"/>\n<text text-anchor=\"middle\" x=\"1023.5\" y=\"-1042\" font-family=\"monospace\" font-size=\"10.00\" fill=\"#000000\">AccumulateGrad</text>\n</g>\n<!-- 140238163864336&#45;&gt;140238163865552 -->\n<g id=\"edge57\" class=\"edge\">\n<title>140238163864336&#45;&gt;140238163865552</title>\n<path fill=\"none\" stroke=\"#000000\" d=\"M1002.7718,-1034.9197C983.9465,-1026.219 955.9495,-1013.2792 934.6487,-1003.4343\"/>\n<polygon fill=\"#000000\" stroke=\"#000000\" points=\"935.9357,-1000.1734 925.39,-999.155 932.9989,-1006.5276 935.9357,-1000.1734\"/>\n</g>\n<!-- 140238163754752 -->\n<g id=\"node60\" class=\"node\">\n<title>140238163754752</title>\n<polygon fill=\"#add8e6\" stroke=\"#000000\" points=\"1056,-1120 991,-1120 991,-1090 1056,-1090 1056,-1120\"/>\n<text text-anchor=\"middle\" x=\"1023.5\" y=\"-1108\" font-family=\"monospace\" font-size=\"10.00\" fill=\"#000000\">3.2.bias</text>\n<text text-anchor=\"middle\" x=\"1023.5\" y=\"-1097\" font-family=\"monospace\" font-size=\"10.00\" fill=\"#000000\"> (512)</text>\n</g>\n<!-- 140238163754752&#45;&gt;140238163864336 -->\n<g id=\"edge58\" class=\"edge\">\n<title>140238163754752&#45;&gt;140238163864336</title>\n<path fill=\"none\" stroke=\"#000000\" d=\"M1023.5,-1089.7333C1023.5,-1082.0322 1023.5,-1072.5977 1023.5,-1064.3414\"/>\n<polygon fill=\"#000000\" stroke=\"#000000\" points=\"1027.0001,-1064.0864 1023.5,-1054.0864 1020.0001,-1064.0864 1027.0001,-1064.0864\"/>\n</g>\n<!-- 140238163814800 -->\n<g id=\"node61\" class=\"node\">\n<title>140238163814800</title>\n<polygon fill=\"#d3d3d3\" stroke=\"#000000\" points=\"1116,-878 1015,-878 1015,-859 1116,-859 1116,-878\"/>\n<text text-anchor=\"middle\" x=\"1065.5\" y=\"-866\" font-family=\"monospace\" font-size=\"10.00\" fill=\"#000000\">AccumulateGrad</text>\n</g>\n<!-- 140238163814800&#45;&gt;140238163816272 -->\n<g id=\"edge59\" class=\"edge\">\n<title>140238163814800&#45;&gt;140238163816272</title>\n<path fill=\"none\" stroke=\"#000000\" d=\"M1065.5,-858.7796C1065.5,-850.5376 1065.5,-838.4457 1065.5,-828.129\"/>\n<polygon fill=\"#000000\" stroke=\"#000000\" points=\"1069.0001,-827.8972 1065.5,-817.8972 1062.0001,-827.8973 1069.0001,-827.8972\"/>\n</g>\n<!-- 140238163927120 -->\n<g id=\"node62\" class=\"node\">\n<title>140238163927120</title>\n<polygon fill=\"#add8e6\" stroke=\"#000000\" points=\"1125,-944 1006,-944 1006,-914 1125,-914 1125,-944\"/>\n<text text-anchor=\"middle\" x=\"1065.5\" y=\"-932\" font-family=\"monospace\" font-size=\"10.00\" fill=\"#000000\">4.0.weight</text>\n<text text-anchor=\"middle\" x=\"1065.5\" y=\"-921\" font-family=\"monospace\" font-size=\"10.00\" fill=\"#000000\"> (512, 512, 3, 3)</text>\n</g>\n<!-- 140238163927120&#45;&gt;140238163814800 -->\n<g id=\"edge60\" class=\"edge\">\n<title>140238163927120&#45;&gt;140238163814800</title>\n<path fill=\"none\" stroke=\"#000000\" d=\"M1065.5,-913.7333C1065.5,-906.0322 1065.5,-896.5977 1065.5,-888.3414\"/>\n<polygon fill=\"#000000\" stroke=\"#000000\" points=\"1069.0001,-888.0864 1065.5,-878.0864 1062.0001,-888.0864 1069.0001,-888.0864\"/>\n</g>\n<!-- 140238163816336 -->\n<g id=\"node63\" class=\"node\">\n<title>140238163816336</title>\n<polygon fill=\"#d3d3d3\" stroke=\"#000000\" points=\"1235,-878 1134,-878 1134,-859 1235,-859 1235,-878\"/>\n<text text-anchor=\"middle\" x=\"1184.5\" y=\"-866\" font-family=\"monospace\" font-size=\"10.00\" fill=\"#000000\">AccumulateGrad</text>\n</g>\n<!-- 140238163816336&#45;&gt;140238163816272 -->\n<g id=\"edge61\" class=\"edge\">\n<title>140238163816336&#45;&gt;140238163816272</title>\n<path fill=\"none\" stroke=\"#000000\" d=\"M1165.6441,-858.9136C1146.1469,-849.0012 1115.4965,-833.4184 1093.2368,-822.1015\"/>\n<polygon fill=\"#000000\" stroke=\"#000000\" points=\"1094.768,-818.9536 1084.2677,-817.5416 1091.5956,-825.1935 1094.768,-818.9536\"/>\n</g>\n<!-- 140238163927200 -->\n<g id=\"node64\" class=\"node\">\n<title>140238163927200</title>\n<polygon fill=\"#add8e6\" stroke=\"#000000\" points=\"1217,-944 1152,-944 1152,-914 1217,-914 1217,-944\"/>\n<text text-anchor=\"middle\" x=\"1184.5\" y=\"-932\" font-family=\"monospace\" font-size=\"10.00\" fill=\"#000000\">4.0.bias</text>\n<text text-anchor=\"middle\" x=\"1184.5\" y=\"-921\" font-family=\"monospace\" font-size=\"10.00\" fill=\"#000000\"> (512)</text>\n</g>\n<!-- 140238163927200&#45;&gt;140238163816336 -->\n<g id=\"edge62\" class=\"edge\">\n<title>140238163927200&#45;&gt;140238163816336</title>\n<path fill=\"none\" stroke=\"#000000\" d=\"M1184.5,-913.7333C1184.5,-906.0322 1184.5,-896.5977 1184.5,-888.3414\"/>\n<polygon fill=\"#000000\" stroke=\"#000000\" points=\"1188.0001,-888.0864 1184.5,-878.0864 1181.0001,-888.0864 1188.0001,-888.0864\"/>\n</g>\n<!-- 140238163813648 -->\n<g id=\"node65\" class=\"node\">\n<title>140238163813648</title>\n<polygon fill=\"#d3d3d3\" stroke=\"#000000\" points=\"1272,-757 1171,-757 1171,-738 1272,-738 1272,-757\"/>\n<text text-anchor=\"middle\" x=\"1221.5\" y=\"-745\" font-family=\"monospace\" font-size=\"10.00\" fill=\"#000000\">AccumulateGrad</text>\n</g>\n<!-- 140238163813648&#45;&gt;140238163815440 -->\n<g id=\"edge63\" class=\"edge\">\n<title>140238163813648&#45;&gt;140238163815440</title>\n<path fill=\"none\" stroke=\"#000000\" d=\"M1221.5,-737.9197C1221.5,-730.9083 1221.5,-721.1442 1221.5,-712.4652\"/>\n<polygon fill=\"#000000\" stroke=\"#000000\" points=\"1225.0001,-712.3408 1221.5,-702.3408 1218.0001,-712.3409 1225.0001,-712.3408\"/>\n</g>\n<!-- 140238163927280 -->\n<g id=\"node66\" class=\"node\">\n<title>140238163927280</title>\n<polygon fill=\"#add8e6\" stroke=\"#000000\" points=\"1286,-823 1167,-823 1167,-793 1286,-793 1286,-823\"/>\n<text text-anchor=\"middle\" x=\"1226.5\" y=\"-811\" font-family=\"monospace\" font-size=\"10.00\" fill=\"#000000\">4.2.weight</text>\n<text text-anchor=\"middle\" x=\"1226.5\" y=\"-800\" font-family=\"monospace\" font-size=\"10.00\" fill=\"#000000\"> (512, 512, 3, 3)</text>\n</g>\n<!-- 140238163927280&#45;&gt;140238163813648 -->\n<g id=\"edge64\" class=\"edge\">\n<title>140238163927280&#45;&gt;140238163813648</title>\n<path fill=\"none\" stroke=\"#000000\" d=\"M1225.2383,-792.7333C1224.5946,-784.9447 1223.8044,-775.3831 1223.1166,-767.0604\"/>\n<polygon fill=\"#000000\" stroke=\"#000000\" points=\"1226.6041,-766.7641 1222.2923,-757.0864 1219.6279,-767.3407 1226.6041,-766.7641\"/>\n</g>\n<!-- 140238163813840 -->\n<g id=\"node67\" class=\"node\">\n<title>140238163813840</title>\n<polygon fill=\"#d3d3d3\" stroke=\"#000000\" points=\"1391,-757 1290,-757 1290,-738 1391,-738 1391,-757\"/>\n<text text-anchor=\"middle\" x=\"1340.5\" y=\"-745\" font-family=\"monospace\" font-size=\"10.00\" fill=\"#000000\">AccumulateGrad</text>\n</g>\n<!-- 140238163813840&#45;&gt;140238163815440 -->\n<g id=\"edge65\" class=\"edge\">\n<title>140238163813840&#45;&gt;140238163815440</title>\n<path fill=\"none\" stroke=\"#000000\" d=\"M1319.7718,-737.9197C1300.9465,-729.219 1272.9495,-716.2792 1251.6487,-706.4343\"/>\n<polygon fill=\"#000000\" stroke=\"#000000\" points=\"1252.9357,-703.1734 1242.39,-702.155 1249.9989,-709.5276 1252.9357,-703.1734\"/>\n</g>\n<!-- 140238163927360 -->\n<g id=\"node68\" class=\"node\">\n<title>140238163927360</title>\n<polygon fill=\"#add8e6\" stroke=\"#000000\" points=\"1373,-823 1308,-823 1308,-793 1373,-793 1373,-823\"/>\n<text text-anchor=\"middle\" x=\"1340.5\" y=\"-811\" font-family=\"monospace\" font-size=\"10.00\" fill=\"#000000\">4.2.bias</text>\n<text text-anchor=\"middle\" x=\"1340.5\" y=\"-800\" font-family=\"monospace\" font-size=\"10.00\" fill=\"#000000\"> (512)</text>\n</g>\n<!-- 140238163927360&#45;&gt;140238163813840 -->\n<g id=\"edge66\" class=\"edge\">\n<title>140238163927360&#45;&gt;140238163813840</title>\n<path fill=\"none\" stroke=\"#000000\" d=\"M1340.5,-792.7333C1340.5,-785.0322 1340.5,-775.5977 1340.5,-767.3414\"/>\n<polygon fill=\"#000000\" stroke=\"#000000\" points=\"1344.0001,-767.0864 1340.5,-757.0864 1337.0001,-767.0864 1344.0001,-767.0864\"/>\n</g>\n<!-- 140238163815632 -->\n<g id=\"node69\" class=\"node\">\n<title>140238163815632</title>\n<polygon fill=\"#d3d3d3\" stroke=\"#000000\" points=\"1386,-515 1315,-515 1315,-496 1386,-496 1386,-515\"/>\n<text text-anchor=\"middle\" x=\"1350.5\" y=\"-503\" font-family=\"monospace\" font-size=\"10.00\" fill=\"#000000\">TBackward</text>\n</g>\n<!-- 140238163815632&#45;&gt;140238163815568 -->\n<g id=\"edge67\" class=\"edge\">\n<title>140238163815632&#45;&gt;140238163815568</title>\n<path fill=\"none\" stroke=\"#000000\" d=\"M1330.0596,-495.9136C1308.7353,-485.9127 1275.1036,-470.1397 1250.9235,-458.7994\"/>\n<polygon fill=\"#000000\" stroke=\"#000000\" points=\"1252.3847,-455.6189 1241.8448,-454.5416 1249.4124,-461.9566 1252.3847,-455.6189\"/>\n</g>\n<!-- 140238163813136 -->\n<g id=\"node70\" class=\"node\">\n<title>140238163813136</title>\n<polygon fill=\"#d3d3d3\" stroke=\"#000000\" points=\"1433,-575.5 1332,-575.5 1332,-556.5 1433,-556.5 1433,-575.5\"/>\n<text text-anchor=\"middle\" x=\"1382.5\" y=\"-563.5\" font-family=\"monospace\" font-size=\"10.00\" fill=\"#000000\">AccumulateGrad</text>\n</g>\n<!-- 140238163813136&#45;&gt;140238163815632 -->\n<g id=\"edge68\" class=\"edge\">\n<title>140238163813136&#45;&gt;140238163815632</title>\n<path fill=\"none\" stroke=\"#000000\" d=\"M1377.3586,-556.2796C1372.8137,-547.6869 1366.0555,-534.9097 1360.4555,-524.3221\"/>\n<polygon fill=\"#000000\" stroke=\"#000000\" points=\"1363.5044,-522.6005 1355.7349,-515.3972 1357.3166,-525.8734 1363.5044,-522.6005\"/>\n</g>\n<!-- 140238163927440 -->\n<g id=\"node71\" class=\"node\">\n<title>140238163927440</title>\n<polygon fill=\"#add8e6\" stroke=\"#000000\" points=\"1433,-647 1332,-647 1332,-617 1433,-617 1433,-647\"/>\n<text text-anchor=\"middle\" x=\"1382.5\" y=\"-635\" font-family=\"monospace\" font-size=\"10.00\" fill=\"#000000\">6.weight</text>\n<text text-anchor=\"middle\" x=\"1382.5\" y=\"-624\" font-family=\"monospace\" font-size=\"10.00\" fill=\"#000000\"> (4096, 25088)</text>\n</g>\n<!-- 140238163927440&#45;&gt;140238163813136 -->\n<g id=\"edge69\" class=\"edge\">\n<title>140238163927440&#45;&gt;140238163813136</title>\n<path fill=\"none\" stroke=\"#000000\" d=\"M1382.5,-616.6924C1382.5,-607.5067 1382.5,-595.7245 1382.5,-585.8312\"/>\n<polygon fill=\"#000000\" stroke=\"#000000\" points=\"1386.0001,-585.703 1382.5,-575.7031 1379.0001,-585.7031 1386.0001,-585.703\"/>\n</g>\n<!-- 140238163815184 -->\n<g id=\"node72\" class=\"node\">\n<title>140238163815184</title>\n<polygon fill=\"#d3d3d3\" stroke=\"#000000\" points=\"1368,-328 1297,-328 1297,-309 1368,-309 1368,-328\"/>\n<text text-anchor=\"middle\" x=\"1332.5\" y=\"-316\" font-family=\"monospace\" font-size=\"10.00\" fill=\"#000000\">TBackward</text>\n</g>\n<!-- 140238163815184&#45;&gt;140238163813264 -->\n<g id=\"edge70\" class=\"edge\">\n<title>140238163815184&#45;&gt;140238163813264</title>\n<path fill=\"none\" stroke=\"#000000\" d=\"M1316.1119,-308.7796C1299.7543,-299.0773 1274.4022,-284.04 1255.5259,-272.8438\"/>\n<polygon fill=\"#000000\" stroke=\"#000000\" points=\"1257.2338,-269.7875 1246.8474,-267.6962 1253.6627,-275.8081 1257.2338,-269.7875\"/>\n</g>\n<!-- 140238163815760 -->\n<g id=\"node73\" class=\"node\">\n<title>140238163815760</title>\n<polygon fill=\"#d3d3d3\" stroke=\"#000000\" points=\"1388,-388.5 1287,-388.5 1287,-369.5 1388,-369.5 1388,-388.5\"/>\n<text text-anchor=\"middle\" x=\"1337.5\" y=\"-376.5\" font-family=\"monospace\" font-size=\"10.00\" fill=\"#000000\">AccumulateGrad</text>\n</g>\n<!-- 140238163815760&#45;&gt;140238163815184 -->\n<g id=\"edge71\" class=\"edge\">\n<title>140238163815760&#45;&gt;140238163815184</title>\n<path fill=\"none\" stroke=\"#000000\" d=\"M1336.6967,-369.2796C1336.0155,-361.0376 1335.0162,-348.9457 1334.1636,-338.629\"/>\n<polygon fill=\"#000000\" stroke=\"#000000\" points=\"1337.6298,-338.075 1333.318,-328.3972 1330.6536,-338.6516 1337.6298,-338.075\"/>\n</g>\n<!-- 140238163454064 -->\n<g id=\"node74\" class=\"node\">\n<title>140238163454064</title>\n<polygon fill=\"#add8e6\" stroke=\"#000000\" points=\"1385,-460 1290,-460 1290,-430 1385,-430 1385,-460\"/>\n<text text-anchor=\"middle\" x=\"1337.5\" y=\"-448\" font-family=\"monospace\" font-size=\"10.00\" fill=\"#000000\">9.weight</text>\n<text text-anchor=\"middle\" x=\"1337.5\" y=\"-437\" font-family=\"monospace\" font-size=\"10.00\" fill=\"#000000\"> (4096, 4096)</text>\n</g>\n<!-- 140238163454064&#45;&gt;140238163815760 -->\n<g id=\"edge72\" class=\"edge\">\n<title>140238163454064&#45;&gt;140238163815760</title>\n<path fill=\"none\" stroke=\"#000000\" d=\"M1337.5,-429.6924C1337.5,-420.5067 1337.5,-408.7245 1337.5,-398.8312\"/>\n<polygon fill=\"#000000\" stroke=\"#000000\" points=\"1341.0001,-398.703 1337.5,-388.7031 1334.0001,-398.7031 1341.0001,-398.703\"/>\n</g>\n<!-- 140238163814416 -->\n<g id=\"node75\" class=\"node\">\n<title>140238163814416</title>\n<polygon fill=\"#d3d3d3\" stroke=\"#000000\" points=\"1373,-141 1302,-141 1302,-122 1373,-122 1373,-141\"/>\n<text text-anchor=\"middle\" x=\"1337.5\" y=\"-129\" font-family=\"monospace\" font-size=\"10.00\" fill=\"#000000\">TBackward</text>\n</g>\n<!-- 140238163814416&#45;&gt;140238171193040 -->\n<g id=\"edge73\" class=\"edge\">\n<title>140238163814416&#45;&gt;140238171193040</title>\n<path fill=\"none\" stroke=\"#000000\" d=\"M1319.733,-121.9197C1303.8877,-113.3757 1280.4618,-100.7441 1262.3341,-90.9694\"/>\n<polygon fill=\"#000000\" stroke=\"#000000\" points=\"1263.8688,-87.8205 1253.4057,-86.155 1260.5465,-93.9819 1263.8688,-87.8205\"/>\n</g>\n<!-- 140238163813392 -->\n<g id=\"node76\" class=\"node\">\n<title>140238163813392</title>\n<polygon fill=\"#d3d3d3\" stroke=\"#000000\" points=\"1397,-201.5 1296,-201.5 1296,-182.5 1397,-182.5 1397,-201.5\"/>\n<text text-anchor=\"middle\" x=\"1346.5\" y=\"-189.5\" font-family=\"monospace\" font-size=\"10.00\" fill=\"#000000\">AccumulateGrad</text>\n</g>\n<!-- 140238163813392&#45;&gt;140238163814416 -->\n<g id=\"edge74\" class=\"edge\">\n<title>140238163813392&#45;&gt;140238163814416</title>\n<path fill=\"none\" stroke=\"#000000\" d=\"M1345.054,-182.2796C1343.8149,-173.9499 1341.9908,-161.688 1340.4455,-151.3004\"/>\n<polygon fill=\"#000000\" stroke=\"#000000\" points=\"1343.9057,-150.7734 1338.9723,-141.3972 1336.9819,-151.8034 1343.9057,-150.7734\"/>\n</g>\n<!-- 140238163454144 -->\n<g id=\"node77\" class=\"node\">\n<title>140238163454144</title>\n<polygon fill=\"#add8e6\" stroke=\"#000000\" points=\"1388,-273 1305,-273 1305,-243 1388,-243 1388,-273\"/>\n<text text-anchor=\"middle\" x=\"1346.5\" y=\"-261\" font-family=\"monospace\" font-size=\"10.00\" fill=\"#000000\">12.weight</text>\n<text text-anchor=\"middle\" x=\"1346.5\" y=\"-250\" font-family=\"monospace\" font-size=\"10.00\" fill=\"#000000\"> (10, 4096)</text>\n</g>\n<!-- 140238163454144&#45;&gt;140238163813392 -->\n<g id=\"edge75\" class=\"edge\">\n<title>140238163454144&#45;&gt;140238163813392</title>\n<path fill=\"none\" stroke=\"#000000\" d=\"M1346.5,-242.6924C1346.5,-233.5067 1346.5,-221.7245 1346.5,-211.8312\"/>\n<polygon fill=\"#000000\" stroke=\"#000000\" points=\"1350.0001,-211.703 1346.5,-201.7031 1343.0001,-211.7031 1350.0001,-211.703\"/>\n</g>\n</g>\n</svg>\n"
          },
          "metadata": {
            "tags": []
          }
        }
      ]
    },
    {
      "cell_type": "code",
      "metadata": {
        "colab": {
          "base_uri": "https://localhost:8080/"
        },
        "id": "--delmYHz9A1",
        "outputId": "649c1b3b-9050-4b1f-ffbf-5a4848e2b04e"
      },
      "source": [
        "#enumerating testdata with batch index of source and the target\n",
        "testdata_ex = enumerate(Testdata_Loader)\n",
        "batch_idx, (Val_ex_data, Val_ex_targets) = next(testdata_ex)\n",
        "#printing the shape of the indexed data\n",
        "print(Val_ex_data.shape)"
      ],
      "execution_count": 5,
      "outputs": [
        {
          "output_type": "stream",
          "text": [
            "torch.Size([32, 1, 224, 224])\n"
          ],
          "name": "stdout"
        }
      ]
    },
    {
      "cell_type": "markdown",
      "metadata": {
        "id": "8SbMjr0PLBvL"
      },
      "source": [
        "##**Setting Hyperparameters**"
      ]
    },
    {
      "cell_type": "code",
      "metadata": {
        "id": "j4l9WyqDwVoS"
      },
      "source": [
        "#Initialization of Hyperparameters\n",
        "#Number of epochs\n",
        "EPOCHS = 10\n",
        "#Batch size and the learning rate\n",
        "batch_size= 32\n",
        "Learning_rate= 0.1\n",
        "#Loss Function\n",
        "Loss_criterion_function = torch.nn.CrossEntropyLoss()\n",
        "device =torch.device('cuda' if torch.cuda.is_available() else 'cpu')"
      ],
      "execution_count": 6,
      "outputs": []
    },
    {
      "cell_type": "code",
      "metadata": {
        "id": "qRgk9152a6eq"
      },
      "source": [
        "#For storing the generated train and test accuracy and plotting\n",
        "def show_train_hist(hist, show=False, save=False, path='Train_hist.png'):\n",
        "    x = range(len(hist['train_accuracy']))\n",
        "    y1 = hist['train_accuracy']\n",
        "    y2 = hist['test_accuracy']\n",
        "    #plotting\n",
        "    plt.plot(x, y1, label='train_accuracy')\n",
        "    plt.plot(x, y2, label='test_accuracy')\n",
        "    plt.xlabel('Epoch')\n",
        "    plt.ylabel('Accuracy')\n",
        "    plt.legend(loc=4)\n",
        "    plt.grid(True)\n",
        "    plt.tight_layout()\n",
        "    #saving the generated outputs\n",
        "    if save:\n",
        "        plt.savefig(path)\n",
        "    if show:\n",
        "        plt.show()\n",
        "    else:\n",
        "        plt.close()"
      ],
      "execution_count": 7,
      "outputs": []
    },
    {
      "cell_type": "markdown",
      "metadata": {
        "id": "Iv6I_4KzLXdf"
      },
      "source": [
        "##**Evaluation --> Training and Testing**"
      ]
    },
    {
      "cell_type": "code",
      "metadata": {
        "id": "0ObTQVjTa-gq"
      },
      "source": [
        "#Test Accuracy and loss Evaluation\n",
        "def Evaluate_Accuracy(dataset_eval_iteration, Network_arch, Loss_criterion_function, device=device): \n",
        "  #Evaluate accuracy of a model on the testset\n",
        "  #In evaluation mode, we will be using the dropout and normalization layers\n",
        "  testset_initial=len(dataset_eval_iteration.dataset)\n",
        "  test_loss=0\n",
        "  test_accuracy=0\n",
        "  Network_arch.eval()\n",
        "  with torch.no_grad():\n",
        "    for X, y in dataset_eval_iteration:\n",
        "        #transfer the produced data to the device\n",
        "        X = X.to(device)\n",
        "        y = y.to(device)   \n",
        "        outputs = Network_arch(X)\n",
        "        #calculating the test accuracy and loss and appending it                                                   \n",
        "        test_loss += Loss_criterion_function(outputs,y).item()                 \n",
        "        test_accuracy += (outputs.argmax(1) == y).type(torch.float).sum().item()  \n",
        "  test_accuracy = test_accuracy/testset_initial  \n",
        "  test_loss /= testset_initial\n",
        "  return test_accuracy, test_loss"
      ],
      "execution_count": 8,
      "outputs": []
    },
    {
      "cell_type": "code",
      "metadata": {
        "id": "K1C9LsH11F7t"
      },
      "source": [
        "#Cross validating the predicted values for plotting the confusion matrix and predict the correct and incorrect samples\n",
        "def Cross_validate_predicted_data(Network_arch, dataset_eval_iteration):\n",
        "    Data_pics_label = []\n",
        "    Data_pics_val = []\n",
        "    Network_arch.eval()\n",
        "    for X, y in dataset_eval_iteration:\n",
        "      X = X.to(device)\n",
        "      y = y.to(device)\n",
        "      prediction = Network_arch(X)\n",
        "      with torch.no_grad():\n",
        "            Final_predict = F.softmax(prediction, dim = -1)\n",
        "            Data_pics_label.append(y.cpu())\n",
        "            Data_pics_val.append(Final_predict.cpu())\n",
        "    out1 = torch.cat(Data_pics_label)\n",
        "    out2 = torch.cat(Data_pics_val)\n",
        "    return out1, out2"
      ],
      "execution_count": 9,
      "outputs": []
    },
    {
      "cell_type": "code",
      "metadata": {
        "id": "vlxliRglwkbt",
        "colab": {
          "base_uri": "https://localhost:8080/"
        },
        "outputId": "d1df44bc-e1ca-4140-a2d9-172fb23607a6"
      },
      "source": [
        "#Training and Evaluating the model \n",
        "#Training is performed on the train dataset\n",
        "#Testing (Evaluation) is performed in the test dataset\n",
        "#Train and evaluate the model using the device GPU or else with CPU\n",
        "def training(Network_arch, Load_MNIST_traindata, Load_MNIST_testdata, Loss_criterion_function, EPOCHS, batch_size, device, Learning_rate=None):    \n",
        "    print(\"---------------------------------------------------\")\n",
        "    print(\"Model Training and Testing Start date:\", date)\n",
        "    print(\"Model Training and Testing starting time:\", Time)\n",
        "    print(\"---------------------------------------------------\")\n",
        "    print('VGG16 Architecture Training and Testing Begins!')\n",
        "    Network_arch.to(device)\n",
        "    #Initialization of the optimizer\n",
        "    optimizer = optim.SGD(Network_arch.parameters(), lr=Learning_rate)\n",
        "    #FOR CALCULATING THE EPOCHS\n",
        "    for Epoch in range(EPOCHS):\n",
        "        #Network is trained on the training mode\n",
        "        Network_arch.train()\n",
        "        cv = 0\n",
        "        ep_start = time.time()\n",
        "        Sum_training_Loss = torch.tensor([0.0], device=device)\n",
        "        Sum_training_Accuracy = torch.tensor([0.0], device=device)\n",
        "        #FOR CALCULATING THE TRAIN LOSS AND TRAIN ACCURACY\n",
        "        for X, y in Load_MNIST_traindata:\n",
        "            optimizer.zero_grad()\n",
        "            X = X.to(device) \n",
        "            y = y.to(device)\n",
        "            conv_y = Network_arch(X)\n",
        "            final_end_loss = Loss_criterion_function(conv_y, y)\n",
        "            final_end_loss.backward()\n",
        "            optimizer.step()\n",
        "            with torch.no_grad():\n",
        "                y = y.long()\n",
        "                Sum_training_Loss += final_end_loss.float()\n",
        "                Sum_training_Accuracy += (torch.sum((torch.argmax(conv_y, dim=1) == y))).float()\n",
        "                cv += y.shape[0]\n",
        "                final_loss = Sum_training_Loss/cv\n",
        "                final_train_accuracy = Sum_training_Accuracy/cv\n",
        "                #final_train_accuracy_out =final_train_accuracy.to('cpu').numpy()\n",
        "        #FOR CALCULATING THE TEST ACCURACY and loss\n",
        "        final_test_accuracy, final_test_loss = Evaluate_Accuracy(Load_MNIST_testdata, Network_arch, Loss_criterion_function, device) \n",
        "        Start_Time=datetime.now()\n",
        "        train_test_Start_Time = Start_Time.strftime(\"%H:%M:%S\")\n",
        "        print(\"-------------------------------------------------------------------------------------------------------------------------------------------\")\n",
        "        #print(f'Epoch_start_time: {train_test_Start_Time}')\n",
        "        print('Epoch--> %d\\t Train_Loss: %.4f\\t Train_Accuracy: %.2f\\t    Test_Loss: %.4f\\t  Test_Accuracy: %.2f\\t  Time_Duration: %.1f sec\\t' % (Epoch + 1, final_loss, final_train_accuracy*100, final_test_loss, final_test_accuracy*100, time.time() - ep_start))\n",
        "        print(\"-------------------------------------------------------------------------------------------------------------------------------------------\")\n",
        "        save_dir = './CV_miniproject_results/'\n",
        "        #Creating a folder to store the results\n",
        "        if not os.path.exists(save_dir):\n",
        "          os.mkdir(save_dir)\n",
        "        #Storing and tracking the outputs and plotting\n",
        "        train_hist = {}\n",
        "        train_hist['train_accuracy'] = []\n",
        "        train_hist['test_accuracy'] = []\n",
        "        train_hist['train_accuracy'].append(final_train_accuracy)\n",
        "        train_hist['test_accuracy'].append(final_test_accuracy)\n",
        "        #saving outputs to the created directory\n",
        "        with open(save_dir + '/train_hist.pkl', 'wb') as f:\n",
        "          pickle.dump(train_hist, f)\n",
        "        show_train_hist(train_hist, save=True, path=save_dir + '/CV_miniproject_Train_hist.png')\n",
        "\n",
        "#Training and evaluating the Network model \n",
        "VGG16_History = training(Network_arch, Traindata_Loader, Testdata_Loader, Loss_criterion_function, EPOCHS, batch_size, device, Learning_rate)\n",
        "End_Time=datetime.now()\n",
        "end_date = End_Time.strftime(\"%d/%m/%Y\")\n",
        "end_time = End_Time.strftime(\"%H:%M:%S\")\n",
        "print('VGG16 Architecture Training and Testing Completed!')\n",
        "print(\"--------------------------------------------------\")\n",
        "print(\"Model Training and Testing End date:\", end_date)\n",
        "print(\"Model Training and Testing End time:\", end_time)\n",
        "print(\"--------------------------------------------------\")"
      ],
      "execution_count": 10,
      "outputs": [
        {
          "output_type": "stream",
          "text": [
            "---------------------------------------------------\n",
            "Model Training and Testing Start date: 17/05/2021\n",
            "Model Training and Testing starting time: 06:12:43\n",
            "---------------------------------------------------\n",
            "VGG16 Architecture Training and Testing Begins!\n",
            "-------------------------------------------------------------------------------------------------------------------------------------------\n",
            "Epoch--> 1\t Train_Loss: 0.0245\t Train_Accuracy: 71.63\t    Test_Loss: 0.0015\t  Test_Accuracy: 98.55\t  Time_Duration: 259.4 sec\t\n",
            "-------------------------------------------------------------------------------------------------------------------------------------------\n",
            "-------------------------------------------------------------------------------------------------------------------------------------------\n",
            "Epoch--> 2\t Train_Loss: 0.0015\t Train_Accuracy: 98.57\t    Test_Loss: 0.0009\t  Test_Accuracy: 99.06\t  Time_Duration: 259.5 sec\t\n",
            "-------------------------------------------------------------------------------------------------------------------------------------------\n",
            "-------------------------------------------------------------------------------------------------------------------------------------------\n",
            "Epoch--> 3\t Train_Loss: 0.0009\t Train_Accuracy: 99.17\t    Test_Loss: 0.0007\t  Test_Accuracy: 99.31\t  Time_Duration: 259.5 sec\t\n",
            "-------------------------------------------------------------------------------------------------------------------------------------------\n",
            "-------------------------------------------------------------------------------------------------------------------------------------------\n",
            "Epoch--> 4\t Train_Loss: 0.0006\t Train_Accuracy: 99.43\t    Test_Loss: 0.0009\t  Test_Accuracy: 99.12\t  Time_Duration: 259.4 sec\t\n",
            "-------------------------------------------------------------------------------------------------------------------------------------------\n",
            "-------------------------------------------------------------------------------------------------------------------------------------------\n",
            "Epoch--> 5\t Train_Loss: 0.0004\t Train_Accuracy: 99.59\t    Test_Loss: 0.0009\t  Test_Accuracy: 99.19\t  Time_Duration: 259.8 sec\t\n",
            "-------------------------------------------------------------------------------------------------------------------------------------------\n",
            "-------------------------------------------------------------------------------------------------------------------------------------------\n",
            "Epoch--> 6\t Train_Loss: 0.0003\t Train_Accuracy: 99.66\t    Test_Loss: 0.0013\t  Test_Accuracy: 98.90\t  Time_Duration: 260.1 sec\t\n",
            "-------------------------------------------------------------------------------------------------------------------------------------------\n",
            "-------------------------------------------------------------------------------------------------------------------------------------------\n",
            "Epoch--> 7\t Train_Loss: 0.0003\t Train_Accuracy: 99.77\t    Test_Loss: 0.0009\t  Test_Accuracy: 99.04\t  Time_Duration: 260.1 sec\t\n",
            "-------------------------------------------------------------------------------------------------------------------------------------------\n",
            "-------------------------------------------------------------------------------------------------------------------------------------------\n",
            "Epoch--> 8\t Train_Loss: 0.0002\t Train_Accuracy: 99.82\t    Test_Loss: 0.0007\t  Test_Accuracy: 99.30\t  Time_Duration: 260.1 sec\t\n",
            "-------------------------------------------------------------------------------------------------------------------------------------------\n",
            "-------------------------------------------------------------------------------------------------------------------------------------------\n",
            "Epoch--> 9\t Train_Loss: 0.0002\t Train_Accuracy: 99.85\t    Test_Loss: 0.0008\t  Test_Accuracy: 99.31\t  Time_Duration: 260.0 sec\t\n",
            "-------------------------------------------------------------------------------------------------------------------------------------------\n",
            "-------------------------------------------------------------------------------------------------------------------------------------------\n",
            "Epoch--> 10\t Train_Loss: 0.0002\t Train_Accuracy: 99.83\t    Test_Loss: 0.0007\t  Test_Accuracy: 99.26\t  Time_Duration: 260.0 sec\t\n",
            "-------------------------------------------------------------------------------------------------------------------------------------------\n",
            "VGG16 Architecture Training and Testing Completed!\n",
            "--------------------------------------------------\n",
            "Model Training and Testing End date: 17/05/2021\n",
            "Model Training and Testing End time: 06:56:17\n",
            "--------------------------------------------------\n"
          ],
          "name": "stdout"
        }
      ]
    },
    {
      "cell_type": "code",
      "metadata": {
        "colab": {
          "base_uri": "https://localhost:8080/"
        },
        "id": "bpWvkAoAbOnt",
        "outputId": "cc8b5c74-1fa6-4547-ef99-fe3edc0ce48a"
      },
      "source": [
        "#getting the output of the tensor(weights)\n",
        "with torch.no_grad():\n",
        "  Network_arch.to('cpu')\n",
        "  final_tensor_output = Network_arch(Val_ex_data)\n",
        "#printing the output\n",
        "print(final_tensor_output)"
      ],
      "execution_count": 11,
      "outputs": [
        {
          "output_type": "stream",
          "text": [
            "tensor([[ -5.3672,   1.6222,   1.3562,  -3.6426,   0.9030,  -4.4069,  -7.9652,\n",
            "          19.2270,  -4.3901,   1.4439],\n",
            "        [  3.4133,   0.7783,  24.2225,  -5.0970,  -4.3146,  -9.6066,  -0.8348,\n",
            "          -2.2698,  -0.6070,  -6.2915],\n",
            "        [ -6.6799,  15.3453,  -0.8993,  -5.2000,   0.5009,  -0.6573,  -2.1873,\n",
            "           1.6087,   0.7239,  -2.7706],\n",
            "        [ 23.8871,  -8.9434,   0.1648, -11.5909,  -1.9892,  -2.2373,   1.4006,\n",
            "           0.3325,  -1.3626,  -1.2247],\n",
            "        [ -3.7890,  -1.8724,  -1.8859,  -6.8796,  16.4158,  -2.5313,  -2.8448,\n",
            "          -1.6476,  -1.8002,   5.5638],\n",
            "        [ -6.3656,  15.3525,  -0.1782,  -5.9968,   0.7520,  -1.7758,  -3.1472,\n",
            "           3.1632,   0.4349,  -2.5356],\n",
            "        [ -4.3035,  -0.3927,  -1.9954,  -4.1116,  11.2906,  -0.7960,  -2.5071,\n",
            "          -0.9646,   1.2493,   2.0173],\n",
            "        [ -4.8691,  -3.5775,  -4.6778,  -2.8887,   6.9013,  -2.2206,  -6.3946,\n",
            "           0.3194,   0.2722,  16.5486],\n",
            "        [ -0.6416,  -2.9841,  -7.4203,  -4.4340,  -3.2267,  12.9919,   7.3554,\n",
            "          -5.4552,   3.5884,  -0.1102],\n",
            "        [ -5.3647,  -5.1372,  -7.8482,  -3.5895,   6.7680,   0.0828,  -8.3502,\n",
            "           3.4249,  -0.7123,  20.1864],\n",
            "        [ 28.7248, -11.4101,   2.3951, -16.3129,  -0.3173,  -5.1365,   0.8344,\n",
            "          -1.1489,  -1.9551,   2.3826],\n",
            "        [  7.3500,  -2.9151,  -3.4894, -12.7835,  -0.6114,   4.2534,  21.9486,\n",
            "          -8.8235,   1.3805,  -6.9617],\n",
            "        [ -4.0723,  -3.7386,  -4.6850,  -3.9325,   6.0805,  -1.8177,  -5.5362,\n",
            "           2.7208,  -0.3898,  14.9788],\n",
            "        [ 28.0439, -10.5226,   2.3367, -13.6386,  -1.7033,  -4.5822,   0.6982,\n",
            "          -1.5215,  -1.0094,   0.0816],\n",
            "        [-10.4822,  23.3796,  -4.2145,  -6.2058,   0.3351,   1.2753,  -3.4241,\n",
            "           2.4518,  -1.6338,  -1.6444],\n",
            "        [ -5.3396,  -2.0880, -12.4387,   4.3532,  -5.1569,  24.3960,   0.8656,\n",
            "          -2.9346,  -4.1652,   1.7963],\n",
            "        [ -3.8529,  -4.7133,  -4.3515,  -6.0487,   5.8605,  -2.4907,  -6.2464,\n",
            "           4.3638,  -0.7766,  17.5257],\n",
            "        [ -5.2803,   0.9035,   2.3755,  -4.2933,   0.4640,  -4.0367,  -9.3167,\n",
            "          21.9870,  -5.8649,   1.5875],\n",
            "        [ -1.5457,  -2.2944,  -0.7754,   5.3690,  -2.7062,   1.7237,  -2.8169,\n",
            "          -2.2669,   5.1714,   0.0990],\n",
            "        [ -7.5642,  -0.2304,   0.4423,  -8.4014,  24.6195,  -4.2656,  -3.8683,\n",
            "          -0.3607,  -1.7721,  -0.5148],\n",
            "        [ -3.3295,  -2.6708,  -5.6161,  -1.6988,   3.0218,   1.4312,  -5.5687,\n",
            "           2.9403,  -1.4163,  12.6304],\n",
            "        [  3.8085,  -1.7138,  -4.1682, -11.6980,  -1.7220,   7.7031,  22.3129,\n",
            "          -8.8256,  -0.7277,  -5.2432],\n",
            "        [  3.8116,  -1.4229,  -3.1177, -14.7162,   1.3333,   5.1005,  24.1701,\n",
            "          -9.8052,   1.3849,  -7.4691],\n",
            "        [ -4.8342,  -4.3891, -13.7426,   2.4057,  -6.0203,  27.5093,   4.6282,\n",
            "          -6.1272,  -2.6150,   3.0933],\n",
            "        [ -5.2472,  -1.3911,  -1.0416,  -7.1989,  16.9592,  -3.8819,  -3.8327,\n",
            "           1.0342,  -1.9106,   5.1048],\n",
            "        [ 22.6424,  -8.7231,   0.0507, -11.5891,  -1.2434,  -2.6303,   3.8141,\n",
            "          -2.1981,  -0.5910,  -0.9850],\n",
            "        [ -6.1633,   1.5271,   2.0509,  -2.7893,   0.6914,  -4.3886,  -9.2382,\n",
            "          21.3696,  -6.6048,   1.9322],\n",
            "        [ -6.5591,  -0.9334,   0.9598,  -7.3938,  23.2175,  -4.1757,  -4.6794,\n",
            "          -0.9824,  -2.4303,   1.1897],\n",
            "        [ 22.3828,  -8.3061,   3.8935,  -9.9314,  -1.7268,  -4.4727,  -1.4717,\n",
            "          -0.6176,  -0.3322,  -0.9122],\n",
            "        [ -7.8273,  18.5297,  -1.8815,  -6.7571,   1.1037,  -1.2691,  -3.7362,\n",
            "           2.9613,  -0.6145,  -0.7323],\n",
            "        [ -9.5901,  -1.9078,  -4.2320,  24.3387,  -6.5730,   5.0696,  -7.8184,\n",
            "           0.1812,  -1.3157,   2.0664],\n",
            "        [ -8.4886,  17.9267,  -3.1427,  -8.3074,   5.1383,  -1.8912,  -4.5572,\n",
            "           2.5978,  -1.7427,   1.8576]])\n"
          ],
          "name": "stdout"
        }
      ]
    },
    {
      "cell_type": "code",
      "metadata": {
        "colab": {
          "base_uri": "https://localhost:8080/",
          "height": 336
        },
        "id": "HiG2BNphbbPY",
        "outputId": "aeb324dd-d390-45f7-c0fe-8967f91c2344"
      },
      "source": [
        "#histogram for the tensor values\n",
        "sns.distplot(final_tensor_output)"
      ],
      "execution_count": 12,
      "outputs": [
        {
          "output_type": "stream",
          "text": [
            "/usr/local/lib/python3.7/dist-packages/seaborn/distributions.py:2557: FutureWarning: `distplot` is a deprecated function and will be removed in a future version. Please adapt your code to use either `displot` (a figure-level function with similar flexibility) or `histplot` (an axes-level function for histograms).\n",
            "  warnings.warn(msg, FutureWarning)\n"
          ],
          "name": "stderr"
        },
        {
          "output_type": "execute_result",
          "data": {
            "text/plain": [
              "<matplotlib.axes._subplots.AxesSubplot at 0x7f8bb17731d0>"
            ]
          },
          "metadata": {
            "tags": []
          },
          "execution_count": 12
        },
        {
          "output_type": "display_data",
          "data": {
            "image/png": "[encoded data removed]",
            "text/plain": [
              "<Figure size 432x288 with 1 Axes>"
            ]
          },
          "metadata": {
            "tags": [],
            "needs_background": "light"
          }
        }
      ]
    },
    {
      "cell_type": "markdown",
      "metadata": {
        "id": "xIlXyOYGMVv3"
      },
      "source": [
        "##**Verification --> How well our Network predicts the data accurately**"
      ]
    },
    {
      "cell_type": "code",
      "metadata": {
        "colab": {
          "base_uri": "https://localhost:8080/",
          "height": 117
        },
        "id": "bIWh1kXlbbMp",
        "outputId": "fa0a45ca-cb91-4ca0-e2b2-2710e706ebc1"
      },
      "source": [
        "#for testing our model after training, we have printed the classes of MNIST data for the groundtruth image \n",
        "#In the evaluation phase we printed the classes of MNIST data with their predicted class\n",
        "#we compare how correctly it predicted the classes between orginal and the predicted data\n",
        "MNIST_Class = ('0', '1', '2', '3', '4','5', '6', '7', '8', '9')\n",
        "device =torch.device('cpu')\n",
        "for X, y in Testdata_Loader:\n",
        "  X = X[:6]\n",
        "  y = y[:6] \n",
        "  def imshow(figure):\n",
        "    figure = figure\n",
        "    plt.xticks([])\n",
        "    plt.yticks([])\n",
        "    plt.tight_layout()\n",
        "    plt.imshow(np.transpose(figure.numpy(), (1,2,0)))\n",
        "    plt.show()\n",
        "#Plotting the Groundtruth image\n",
        "center = \"GROUNDTRUTH IMAGE\"\n",
        "print(\"{center:^10}\".format(center=center))\n",
        "imshow(make_grid(X))"
      ],
      "execution_count": 13,
      "outputs": [
        {
          "output_type": "stream",
          "text": [
            "GROUNDTRUTH IMAGE\n"
          ],
          "name": "stdout"
        },
        {
          "output_type": "display_data",
          "data": {
            "image/png": "[encoded data removed]",
            "text/plain": [
              "<Figure size 432x288 with 1 Axes>"
            ]
          },
          "metadata": {
            "tags": []
          }
        }
      ]
    },
    {
      "cell_type": "code",
      "metadata": {
        "colab": {
          "base_uri": "https://localhost:8080/"
        },
        "id": "DCSBTLIMGq06",
        "outputId": "0493927b-1409-4fba-d756-3047a775a055"
      },
      "source": [
        "#Getting the predicted classes\n",
        "Final_Out = Network_arch(X)\n",
        "_, prediction = torch.max(Final_Out, 1)\n",
        "#printing the classes of groundtruth data\n",
        "print(\"----------------------------------------\")\n",
        "print('Orginal images classes: ',' '.join(MNIST_Class[y[GT_data_out]] for GT_data_out in range(6)))\n",
        "print(\"----------------------------------------\")\n",
        "#printing the classes of prediction data\n",
        "print('Predicted images classes: ',' '.join(MNIST_Class[prediction[Pred_data_out]] for Pred_data_out in range(6)))\n",
        "print(\"----------------------------------------\")"
      ],
      "execution_count": 14,
      "outputs": [
        {
          "output_type": "stream",
          "text": [
            "----------------------------------------\n",
            "Orginal images classes:  1 2 3 4 5 6\n",
            "----------------------------------------\n",
            "Predicted images classes:  1 2 3 4 5 6\n",
            "----------------------------------------\n"
          ],
          "name": "stdout"
        }
      ]
    },
    {
      "cell_type": "code",
      "metadata": {
        "colab": {
          "base_uri": "https://localhost:8080/"
        },
        "id": "IkG-JIbZbDfE",
        "outputId": "34cd0bba-445d-431d-95a6-0bc9ce0aea99"
      },
      "source": [
        "#Calculating the induvidual accuracy of Each classes defined\n",
        "accurate_class_pred = list(range(10))\n",
        "Combined_class_accurate = list(range(10))\n",
        "with torch.no_grad():\n",
        "    for X, y in Testdata_Loader:\n",
        "      X = X.to(device) \n",
        "      y = y.to(device)\n",
        "      Final_Out = Network_arch(X)\n",
        "      _, Induvidual_class_prediction = torch.max(Final_Out, 1)\n",
        "      CIF_out = (Induvidual_class_prediction == y)\n",
        "      for Induvidual_out in range(6):\n",
        "        accurate_class_pred[y[Induvidual_out]] += CIF_out[Induvidual_out].item()\n",
        "        Combined_class_accurate[y[Induvidual_out]] += 1 \n",
        "#Printing the accuracy of Each classes       \n",
        "for Induvidual_class_accuracy in range(10):\n",
        "  print(\"---------------------------\")\n",
        "  print('Accuracy of %5s : %d %%' % (MNIST_Class[Induvidual_class_accuracy], accurate_class_pred[Induvidual_class_accuracy] / Combined_class_accurate[Induvidual_class_accuracy] *100))\n",
        "  print(\"---------------------------\")"
      ],
      "execution_count": 15,
      "outputs": [
        {
          "output_type": "stream",
          "text": [
            "---------------------------\n",
            "Accuracy of     0 : 100 %\n",
            "---------------------------\n",
            "---------------------------\n",
            "Accuracy of     1 : 100 %\n",
            "---------------------------\n",
            "---------------------------\n",
            "Accuracy of     2 : 99 %\n",
            "---------------------------\n",
            "---------------------------\n",
            "Accuracy of     3 : 98 %\n",
            "---------------------------\n",
            "---------------------------\n",
            "Accuracy of     4 : 99 %\n",
            "---------------------------\n",
            "---------------------------\n",
            "Accuracy of     5 : 99 %\n",
            "---------------------------\n",
            "---------------------------\n",
            "Accuracy of     6 : 99 %\n",
            "---------------------------\n",
            "---------------------------\n",
            "Accuracy of     7 : 98 %\n",
            "---------------------------\n",
            "---------------------------\n",
            "Accuracy of     8 : 100 %\n",
            "---------------------------\n",
            "---------------------------\n",
            "Accuracy of     9 : 100 %\n",
            "---------------------------\n"
          ],
          "name": "stdout"
        }
      ]
    },
    {
      "cell_type": "code",
      "metadata": {
        "id": "8T0x0432yU9a"
      },
      "source": [
        "#Seperating the correct and incorrect predictions and appending it to a seperate list\n",
        "Correct_Data = []\n",
        "Incorrect_Data = []\n",
        "Label_for_pic, Prediction = Cross_validate_predicted_data(Network_arch, Testdata_Loader)\n",
        "Predicted_label = torch.argmax(Prediction, 1)\n",
        "MNIST_Classes = MNIST_testdata.classes\n",
        "Accurate_prediction = torch.eq(Label_for_pic, Predicted_label)\n",
        "for i, j, Correct_data_prediction in zip(Label_for_pic, Prediction, Accurate_prediction):\n",
        "    if Correct_data_prediction:\n",
        "      Correct_Data.append((i, j))\n",
        "    else:\n",
        "      Incorrect_Data.append((i, j))\n",
        "#Randomly sorting the samples\n",
        "Correct_Data.sort(key = lambda Correct_samples: torch.max(Correct_samples[1], -1).values)\n",
        "Incorrect_Data.sort(key = lambda Incorrect_samples: torch.max(Incorrect_samples[1], -1).values)"
      ],
      "execution_count": 16,
      "outputs": []
    },
    {
      "cell_type": "markdown",
      "metadata": {
        "id": "gB7qm-pVzT5J"
      },
      "source": [
        "**Examples of Correct Predictions**"
      ]
    },
    {
      "cell_type": "code",
      "metadata": {
        "colab": {
          "base_uri": "https://localhost:8080/"
        },
        "id": "eXYAuw7ayUyC",
        "outputId": "97c9381d-64fa-48c8-d7a2-1461dcc6892d"
      },
      "source": [
        "#Examples of Correct Prediction\n",
        "def Correct_Prediction(Correct_label_predict, MNIST_Classes):\n",
        "    for Sample in range(1*5):\n",
        "        Correct_Label, Prediction = Correct_label_predict[Sample]\n",
        "        Correct_pred, Correctly_predicted_label = torch.max(Prediction, -1)\n",
        "        Original_class = MNIST_Classes[Correct_Label]\n",
        "        Correctly_Predicted_class = MNIST_Classes[Correctly_predicted_label ]\n",
        "        print(\"------------------------------------\")\n",
        "        print(f'Orginal images class   :  {Original_class}')\n",
        "        print(\"------------------------------------\")\n",
        "        print(f'Predicted images class :  {Correctly_Predicted_class}')\n",
        "        print(\"------------------------------------\")\n",
        "Correct_Prediction(Correct_Data, MNIST_Classes)"
      ],
      "execution_count": 28,
      "outputs": [
        {
          "output_type": "stream",
          "text": [
            "------------------------------------\n",
            "Orginal images class   :  9 - nine\n",
            "------------------------------------\n",
            "Predicted images class :  9 - nine\n",
            "------------------------------------\n",
            "------------------------------------\n",
            "Orginal images class   :  6 - six\n",
            "------------------------------------\n",
            "Predicted images class :  6 - six\n",
            "------------------------------------\n",
            "------------------------------------\n",
            "Orginal images class   :  6 - six\n",
            "------------------------------------\n",
            "Predicted images class :  6 - six\n",
            "------------------------------------\n",
            "------------------------------------\n",
            "Orginal images class   :  2 - two\n",
            "------------------------------------\n",
            "Predicted images class :  2 - two\n",
            "------------------------------------\n",
            "------------------------------------\n",
            "Orginal images class   :  3 - three\n",
            "------------------------------------\n",
            "Predicted images class :  3 - three\n",
            "------------------------------------\n"
          ],
          "name": "stdout"
        }
      ]
    },
    {
      "cell_type": "markdown",
      "metadata": {
        "id": "Y28tUuhrzbmS"
      },
      "source": [
        "**Examples of Incorrect Predictions**"
      ]
    },
    {
      "cell_type": "code",
      "metadata": {
        "colab": {
          "base_uri": "https://localhost:8080/"
        },
        "id": "cYphoin7R_e8",
        "outputId": "80966939-024d-43db-aa9c-ea79ce3fba35"
      },
      "source": [
        "#Examples of Incorrect Prediction\n",
        "def Incorrect_Prediction(Incorrect_label_predict, MNIST_Classes):\n",
        "    for Sample in range(1*5):\n",
        "        Incorrect_Label, Prediction = Incorrect_label_predict[Sample]\n",
        "        Incorrect_pred, Incorrectly_predicted_label = torch.max(Prediction, -1)\n",
        "        Original_class = MNIST_Classes[Incorrect_Label]\n",
        "        Incorrectly_Predicted_class = MNIST_Classes[Incorrectly_predicted_label ]\n",
        "        print(\"------------------------------------\")\n",
        "        print(f'Orginal images class   :  {Original_class}')\n",
        "        print(\"------------------------------------\")\n",
        "        print(f'Predicted images class :  {Incorrectly_Predicted_class}')\n",
        "        print(\"------------------------------------\")\n",
        "Correct_Prediction(Incorrect_Data, MNIST_Classes)"
      ],
      "execution_count": 30,
      "outputs": [
        {
          "output_type": "stream",
          "text": [
            "------------------------------------\n",
            "Orginal images class   :  8 - eight\n",
            "------------------------------------\n",
            "Predicted images class :  3 - three\n",
            "------------------------------------\n",
            "------------------------------------\n",
            "Orginal images class   :  2 - two\n",
            "------------------------------------\n",
            "Predicted images class :  7 - seven\n",
            "------------------------------------\n",
            "------------------------------------\n",
            "Orginal images class   :  9 - nine\n",
            "------------------------------------\n",
            "Predicted images class :  7 - seven\n",
            "------------------------------------\n",
            "------------------------------------\n",
            "Orginal images class   :  7 - seven\n",
            "------------------------------------\n",
            "Predicted images class :  1 - one\n",
            "------------------------------------\n",
            "------------------------------------\n",
            "Orginal images class   :  9 - nine\n",
            "------------------------------------\n",
            "Predicted images class :  5 - five\n",
            "------------------------------------\n"
          ],
          "name": "stdout"
        }
      ]
    },
    {
      "cell_type": "markdown",
      "metadata": {
        "id": "38hjgTYYzmPB"
      },
      "source": [
        "**Confusion Matrix**"
      ]
    },
    {
      "cell_type": "code",
      "metadata": {
        "colab": {
          "base_uri": "https://localhost:8080/",
          "height": 689
        },
        "id": "9mqX7NJ6zlkC",
        "outputId": "db2a4da3-3618-4042-cea2-d0548a0834e4"
      },
      "source": [
        "#Plotting the confusion matrix\n",
        "Figure = plt.figure(figsize=(12, 12))\n",
        "Axis = Figure.add_subplot(1, 1, 1)\n",
        "Confusion_Matrix = confusion_matrix(Label_for_pic, Predicted_label)\n",
        "Confusion_Heatmap_display = ConfusionMatrixDisplay(Confusion_Matrix, MNIST_Classes)\n",
        "Final_Heatmap_for_Predicted_data = Confusion_Heatmap_display.plot(ax=Axis, values_format='d', cmap = 'Greens')"
      ],
      "execution_count": 19,
      "outputs": [
        {
          "output_type": "display_data",
          "data": {
            "image/png": "[encoded data removed]",
            "text/plain": [
              "<Figure size 864x864 with 2 Axes>"
            ]
          },
          "metadata": {
            "tags": [],
            "needs_background": "light"
          }
        }
      ]
    },
    {
      "cell_type": "code",
      "metadata": {
        "colab": {
          "base_uri": "https://localhost:8080/"
        },
        "id": "e9k4BPSsgES-",
        "outputId": "3e81aa67-07bc-4b0e-f24b-8172a31ff6bd"
      },
      "source": [
        "#I have Executed the code in Google Colab pro. so that, I have printed the usage of gpu provided\n",
        "GPU_Usage_data = !nvidia-smi\n",
        "GPU_Usage_data  = '\\n'.join(GPU_Usage_data )\n",
        "if GPU_Usage_data .find('failed') >= 0:\n",
        "  print('Select the Runtime > \"Change runtime type\" menu to enable a GPU accelerator, ')\n",
        "  print('and then re-execute this cell.')\n",
        "else:\n",
        "  print(GPU_Usage_data )"
      ],
      "execution_count": 20,
      "outputs": [
        {
          "output_type": "stream",
          "text": [
            "Mon May 17 07:43:24 2021       \n",
            "+-----------------------------------------------------------------------------+\n",
            "| NVIDIA-SMI 465.19.01    Driver Version: 460.32.03    CUDA Version: 11.2     |\n",
            "|-------------------------------+----------------------+----------------------+\n",
            "| GPU  Name        Persistence-M| Bus-Id        Disp.A | Volatile Uncorr. ECC |\n",
            "| Fan  Temp  Perf  Pwr:Usage/Cap|         Memory-Usage | GPU-Util  Compute M. |\n",
            "|                               |                      |               MIG M. |\n",
            "|===============================+======================+======================|\n",
            "|   0  Tesla P100-PCIE...  Off  | 00000000:00:04.0 Off |                    0 |\n",
            "| N/A   55C    P0    41W / 250W |   6219MiB / 16280MiB |      0%      Default |\n",
            "|                               |                      |                  N/A |\n",
            "+-------------------------------+----------------------+----------------------+\n",
            "                                                                               \n",
            "+-----------------------------------------------------------------------------+\n",
            "| Processes:                                                                  |\n",
            "|  GPU   GI   CI        PID   Type   Process name                  GPU Memory |\n",
            "|        ID   ID                                                   Usage      |\n",
            "|=============================================================================|\n",
            "+-----------------------------------------------------------------------------+\n"
          ],
          "name": "stdout"
        }
      ]
    }
  ]
}