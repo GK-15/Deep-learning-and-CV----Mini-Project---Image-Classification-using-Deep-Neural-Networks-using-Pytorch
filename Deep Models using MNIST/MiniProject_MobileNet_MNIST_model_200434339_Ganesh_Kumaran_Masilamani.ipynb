{
  "nbformat": 4,
  "nbformat_minor": 0,
  "metadata": {
    "colab": {
      "name": "MiniProject_MobileNet_MNIST_model_200434339_Ganesh_Kumaran_Masilamani.ipynb",
      "provenance": [],
      "collapsed_sections": [],
      "machine_shape": "hm"
    },
    "kernelspec": {
      "display_name": "Python 3",
      "name": "python3"
    },
    "accelerator": "GPU",
    "widgets": {
      "application/vnd.jupyter.widget-state+json": {
        "e6a2c014c248499dbaaebf805d971077": {
          "model_module": "@jupyter-widgets/controls",
          "model_name": "HBoxModel",
          "state": {
            "_view_name": "HBoxView",
            "_dom_classes": [],
            "_model_name": "HBoxModel",
            "_view_module": "@jupyter-widgets/controls",
            "_model_module_version": "1.5.0",
            "_view_count": null,
            "_view_module_version": "1.5.0",
            "box_style": "",
            "layout": "IPY_MODEL_635aabaf331a464eb18ae144985ff62c",
            "_model_module": "@jupyter-widgets/controls",
            "children": [
              "IPY_MODEL_460bd98edc404192992a8003b4845274",
              "IPY_MODEL_2a5d8f6ce83847b3a930c25609e0ba9e"
            ]
          }
        },
        "635aabaf331a464eb18ae144985ff62c": {
          "model_module": "@jupyter-widgets/base",
          "model_name": "LayoutModel",
          "state": {
            "_view_name": "LayoutView",
            "grid_template_rows": null,
            "right": null,
            "justify_content": null,
            "_view_module": "@jupyter-widgets/base",
            "overflow": null,
            "_model_module_version": "1.2.0",
            "_view_count": null,
            "flex_flow": null,
            "width": null,
            "min_width": null,
            "border": null,
            "align_items": null,
            "bottom": null,
            "_model_module": "@jupyter-widgets/base",
            "top": null,
            "grid_column": null,
            "overflow_y": null,
            "overflow_x": null,
            "grid_auto_flow": null,
            "grid_area": null,
            "grid_template_columns": null,
            "flex": null,
            "_model_name": "LayoutModel",
            "justify_items": null,
            "grid_row": null,
            "max_height": null,
            "align_content": null,
            "visibility": null,
            "align_self": null,
            "height": null,
            "min_height": null,
            "padding": null,
            "grid_auto_rows": null,
            "grid_gap": null,
            "max_width": null,
            "order": null,
            "_view_module_version": "1.2.0",
            "grid_template_areas": null,
            "object_position": null,
            "object_fit": null,
            "grid_auto_columns": null,
            "margin": null,
            "display": null,
            "left": null
          }
        },
        "460bd98edc404192992a8003b4845274": {
          "model_module": "@jupyter-widgets/controls",
          "model_name": "FloatProgressModel",
          "state": {
            "_view_name": "ProgressView",
            "style": "IPY_MODEL_56e9a46f8d804471a47c6d71357d28c7",
            "_dom_classes": [],
            "description": "",
            "_model_name": "FloatProgressModel",
            "bar_style": "success",
            "max": 9912422,
            "_view_module": "@jupyter-widgets/controls",
            "_model_module_version": "1.5.0",
            "value": 9912422,
            "_view_count": null,
            "_view_module_version": "1.5.0",
            "orientation": "horizontal",
            "min": 0,
            "description_tooltip": null,
            "_model_module": "@jupyter-widgets/controls",
            "layout": "IPY_MODEL_69254ff7d8a04fa089c0d68974212268"
          }
        },
        "2a5d8f6ce83847b3a930c25609e0ba9e": {
          "model_module": "@jupyter-widgets/controls",
          "model_name": "HTMLModel",
          "state": {
            "_view_name": "HTMLView",
            "style": "IPY_MODEL_0d4f52a3e3504fda9083a385f411b3d7",
            "_dom_classes": [],
            "description": "",
            "_model_name": "HTMLModel",
            "placeholder": "​",
            "_view_module": "@jupyter-widgets/controls",
            "_model_module_version": "1.5.0",
            "value": " 9913344/? [00:11&lt;00:00, 862111.95it/s]",
            "_view_count": null,
            "_view_module_version": "1.5.0",
            "description_tooltip": null,
            "_model_module": "@jupyter-widgets/controls",
            "layout": "IPY_MODEL_45978151429440dc97d2613c3f2706f4"
          }
        },
        "56e9a46f8d804471a47c6d71357d28c7": {
          "model_module": "@jupyter-widgets/controls",
          "model_name": "ProgressStyleModel",
          "state": {
            "_view_name": "StyleView",
            "_model_name": "ProgressStyleModel",
            "description_width": "initial",
            "_view_module": "@jupyter-widgets/base",
            "_model_module_version": "1.5.0",
            "_view_count": null,
            "_view_module_version": "1.2.0",
            "bar_color": null,
            "_model_module": "@jupyter-widgets/controls"
          }
        },
        "69254ff7d8a04fa089c0d68974212268": {
          "model_module": "@jupyter-widgets/base",
          "model_name": "LayoutModel",
          "state": {
            "_view_name": "LayoutView",
            "grid_template_rows": null,
            "right": null,
            "justify_content": null,
            "_view_module": "@jupyter-widgets/base",
            "overflow": null,
            "_model_module_version": "1.2.0",
            "_view_count": null,
            "flex_flow": null,
            "width": null,
            "min_width": null,
            "border": null,
            "align_items": null,
            "bottom": null,
            "_model_module": "@jupyter-widgets/base",
            "top": null,
            "grid_column": null,
            "overflow_y": null,
            "overflow_x": null,
            "grid_auto_flow": null,
            "grid_area": null,
            "grid_template_columns": null,
            "flex": null,
            "_model_name": "LayoutModel",
            "justify_items": null,
            "grid_row": null,
            "max_height": null,
            "align_content": null,
            "visibility": null,
            "align_self": null,
            "height": null,
            "min_height": null,
            "padding": null,
            "grid_auto_rows": null,
            "grid_gap": null,
            "max_width": null,
            "order": null,
            "_view_module_version": "1.2.0",
            "grid_template_areas": null,
            "object_position": null,
            "object_fit": null,
            "grid_auto_columns": null,
            "margin": null,
            "display": null,
            "left": null
          }
        },
        "0d4f52a3e3504fda9083a385f411b3d7": {
          "model_module": "@jupyter-widgets/controls",
          "model_name": "DescriptionStyleModel",
          "state": {
            "_view_name": "StyleView",
            "_model_name": "DescriptionStyleModel",
            "description_width": "",
            "_view_module": "@jupyter-widgets/base",
            "_model_module_version": "1.5.0",
            "_view_count": null,
            "_view_module_version": "1.2.0",
            "_model_module": "@jupyter-widgets/controls"
          }
        },
        "45978151429440dc97d2613c3f2706f4": {
          "model_module": "@jupyter-widgets/base",
          "model_name": "LayoutModel",
          "state": {
            "_view_name": "LayoutView",
            "grid_template_rows": null,
            "right": null,
            "justify_content": null,
            "_view_module": "@jupyter-widgets/base",
            "overflow": null,
            "_model_module_version": "1.2.0",
            "_view_count": null,
            "flex_flow": null,
            "width": null,
            "min_width": null,
            "border": null,
            "align_items": null,
            "bottom": null,
            "_model_module": "@jupyter-widgets/base",
            "top": null,
            "grid_column": null,
            "overflow_y": null,
            "overflow_x": null,
            "grid_auto_flow": null,
            "grid_area": null,
            "grid_template_columns": null,
            "flex": null,
            "_model_name": "LayoutModel",
            "justify_items": null,
            "grid_row": null,
            "max_height": null,
            "align_content": null,
            "visibility": null,
            "align_self": null,
            "height": null,
            "min_height": null,
            "padding": null,
            "grid_auto_rows": null,
            "grid_gap": null,
            "max_width": null,
            "order": null,
            "_view_module_version": "1.2.0",
            "grid_template_areas": null,
            "object_position": null,
            "object_fit": null,
            "grid_auto_columns": null,
            "margin": null,
            "display": null,
            "left": null
          }
        },
        "3b9f63f060a14c6d8fea0efe13d5b03b": {
          "model_module": "@jupyter-widgets/controls",
          "model_name": "HBoxModel",
          "state": {
            "_view_name": "HBoxView",
            "_dom_classes": [],
            "_model_name": "HBoxModel",
            "_view_module": "@jupyter-widgets/controls",
            "_model_module_version": "1.5.0",
            "_view_count": null,
            "_view_module_version": "1.5.0",
            "box_style": "",
            "layout": "IPY_MODEL_d67e8a0d0e4e46fe87f8d822cc0c5f13",
            "_model_module": "@jupyter-widgets/controls",
            "children": [
              "IPY_MODEL_d9cc3e803c774afdae943fbaea28cee2",
              "IPY_MODEL_8ff5d53aee8042b487dd903ed66d7823"
            ]
          }
        },
        "d67e8a0d0e4e46fe87f8d822cc0c5f13": {
          "model_module": "@jupyter-widgets/base",
          "model_name": "LayoutModel",
          "state": {
            "_view_name": "LayoutView",
            "grid_template_rows": null,
            "right": null,
            "justify_content": null,
            "_view_module": "@jupyter-widgets/base",
            "overflow": null,
            "_model_module_version": "1.2.0",
            "_view_count": null,
            "flex_flow": null,
            "width": null,
            "min_width": null,
            "border": null,
            "align_items": null,
            "bottom": null,
            "_model_module": "@jupyter-widgets/base",
            "top": null,
            "grid_column": null,
            "overflow_y": null,
            "overflow_x": null,
            "grid_auto_flow": null,
            "grid_area": null,
            "grid_template_columns": null,
            "flex": null,
            "_model_name": "LayoutModel",
            "justify_items": null,
            "grid_row": null,
            "max_height": null,
            "align_content": null,
            "visibility": null,
            "align_self": null,
            "height": null,
            "min_height": null,
            "padding": null,
            "grid_auto_rows": null,
            "grid_gap": null,
            "max_width": null,
            "order": null,
            "_view_module_version": "1.2.0",
            "grid_template_areas": null,
            "object_position": null,
            "object_fit": null,
            "grid_auto_columns": null,
            "margin": null,
            "display": null,
            "left": null
          }
        },
        "d9cc3e803c774afdae943fbaea28cee2": {
          "model_module": "@jupyter-widgets/controls",
          "model_name": "FloatProgressModel",
          "state": {
            "_view_name": "ProgressView",
            "style": "IPY_MODEL_0ad7ac91f29d4b6e96af7609a99f6b88",
            "_dom_classes": [],
            "description": "",
            "_model_name": "FloatProgressModel",
            "bar_style": "success",
            "max": 28881,
            "_view_module": "@jupyter-widgets/controls",
            "_model_module_version": "1.5.0",
            "value": 28881,
            "_view_count": null,
            "_view_module_version": "1.5.0",
            "orientation": "horizontal",
            "min": 0,
            "description_tooltip": null,
            "_model_module": "@jupyter-widgets/controls",
            "layout": "IPY_MODEL_b75f02d4643b4f80b1d78774873e6b12"
          }
        },
        "8ff5d53aee8042b487dd903ed66d7823": {
          "model_module": "@jupyter-widgets/controls",
          "model_name": "HTMLModel",
          "state": {
            "_view_name": "HTMLView",
            "style": "IPY_MODEL_9b06fa4a14fc4ca1b35fafc873cdea41",
            "_dom_classes": [],
            "description": "",
            "_model_name": "HTMLModel",
            "placeholder": "​",
            "_view_module": "@jupyter-widgets/controls",
            "_model_module_version": "1.5.0",
            "value": " 29696/? [00:02&lt;00:00, 11396.66it/s]",
            "_view_count": null,
            "_view_module_version": "1.5.0",
            "description_tooltip": null,
            "_model_module": "@jupyter-widgets/controls",
            "layout": "IPY_MODEL_0486eacc91784dbabd73baabcad6aea5"
          }
        },
        "0ad7ac91f29d4b6e96af7609a99f6b88": {
          "model_module": "@jupyter-widgets/controls",
          "model_name": "ProgressStyleModel",
          "state": {
            "_view_name": "StyleView",
            "_model_name": "ProgressStyleModel",
            "description_width": "initial",
            "_view_module": "@jupyter-widgets/base",
            "_model_module_version": "1.5.0",
            "_view_count": null,
            "_view_module_version": "1.2.0",
            "bar_color": null,
            "_model_module": "@jupyter-widgets/controls"
          }
        },
        "b75f02d4643b4f80b1d78774873e6b12": {
          "model_module": "@jupyter-widgets/base",
          "model_name": "LayoutModel",
          "state": {
            "_view_name": "LayoutView",
            "grid_template_rows": null,
            "right": null,
            "justify_content": null,
            "_view_module": "@jupyter-widgets/base",
            "overflow": null,
            "_model_module_version": "1.2.0",
            "_view_count": null,
            "flex_flow": null,
            "width": null,
            "min_width": null,
            "border": null,
            "align_items": null,
            "bottom": null,
            "_model_module": "@jupyter-widgets/base",
            "top": null,
            "grid_column": null,
            "overflow_y": null,
            "overflow_x": null,
            "grid_auto_flow": null,
            "grid_area": null,
            "grid_template_columns": null,
            "flex": null,
            "_model_name": "LayoutModel",
            "justify_items": null,
            "grid_row": null,
            "max_height": null,
            "align_content": null,
            "visibility": null,
            "align_self": null,
            "height": null,
            "min_height": null,
            "padding": null,
            "grid_auto_rows": null,
            "grid_gap": null,
            "max_width": null,
            "order": null,
            "_view_module_version": "1.2.0",
            "grid_template_areas": null,
            "object_position": null,
            "object_fit": null,
            "grid_auto_columns": null,
            "margin": null,
            "display": null,
            "left": null
          }
        },
        "9b06fa4a14fc4ca1b35fafc873cdea41": {
          "model_module": "@jupyter-widgets/controls",
          "model_name": "DescriptionStyleModel",
          "state": {
            "_view_name": "StyleView",
            "_model_name": "DescriptionStyleModel",
            "description_width": "",
            "_view_module": "@jupyter-widgets/base",
            "_model_module_version": "1.5.0",
            "_view_count": null,
            "_view_module_version": "1.2.0",
            "_model_module": "@jupyter-widgets/controls"
          }
        },
        "0486eacc91784dbabd73baabcad6aea5": {
          "model_module": "@jupyter-widgets/base",
          "model_name": "LayoutModel",
          "state": {
            "_view_name": "LayoutView",
            "grid_template_rows": null,
            "right": null,
            "justify_content": null,
            "_view_module": "@jupyter-widgets/base",
            "overflow": null,
            "_model_module_version": "1.2.0",
            "_view_count": null,
            "flex_flow": null,
            "width": null,
            "min_width": null,
            "border": null,
            "align_items": null,
            "bottom": null,
            "_model_module": "@jupyter-widgets/base",
            "top": null,
            "grid_column": null,
            "overflow_y": null,
            "overflow_x": null,
            "grid_auto_flow": null,
            "grid_area": null,
            "grid_template_columns": null,
            "flex": null,
            "_model_name": "LayoutModel",
            "justify_items": null,
            "grid_row": null,
            "max_height": null,
            "align_content": null,
            "visibility": null,
            "align_self": null,
            "height": null,
            "min_height": null,
            "padding": null,
            "grid_auto_rows": null,
            "grid_gap": null,
            "max_width": null,
            "order": null,
            "_view_module_version": "1.2.0",
            "grid_template_areas": null,
            "object_position": null,
            "object_fit": null,
            "grid_auto_columns": null,
            "margin": null,
            "display": null,
            "left": null
          }
        },
        "e424904bcd07469c90b248bebcfab3f6": {
          "model_module": "@jupyter-widgets/controls",
          "model_name": "HBoxModel",
          "state": {
            "_view_name": "HBoxView",
            "_dom_classes": [],
            "_model_name": "HBoxModel",
            "_view_module": "@jupyter-widgets/controls",
            "_model_module_version": "1.5.0",
            "_view_count": null,
            "_view_module_version": "1.5.0",
            "box_style": "",
            "layout": "IPY_MODEL_a690b36026f64004925e4bd0e7d74c99",
            "_model_module": "@jupyter-widgets/controls",
            "children": [
              "IPY_MODEL_1a72a8531f084048b01b1059f8a246f3",
              "IPY_MODEL_3e31ea84f0054955a787487fa05fb824"
            ]
          }
        },
        "a690b36026f64004925e4bd0e7d74c99": {
          "model_module": "@jupyter-widgets/base",
          "model_name": "LayoutModel",
          "state": {
            "_view_name": "LayoutView",
            "grid_template_rows": null,
            "right": null,
            "justify_content": null,
            "_view_module": "@jupyter-widgets/base",
            "overflow": null,
            "_model_module_version": "1.2.0",
            "_view_count": null,
            "flex_flow": null,
            "width": null,
            "min_width": null,
            "border": null,
            "align_items": null,
            "bottom": null,
            "_model_module": "@jupyter-widgets/base",
            "top": null,
            "grid_column": null,
            "overflow_y": null,
            "overflow_x": null,
            "grid_auto_flow": null,
            "grid_area": null,
            "grid_template_columns": null,
            "flex": null,
            "_model_name": "LayoutModel",
            "justify_items": null,
            "grid_row": null,
            "max_height": null,
            "align_content": null,
            "visibility": null,
            "align_self": null,
            "height": null,
            "min_height": null,
            "padding": null,
            "grid_auto_rows": null,
            "grid_gap": null,
            "max_width": null,
            "order": null,
            "_view_module_version": "1.2.0",
            "grid_template_areas": null,
            "object_position": null,
            "object_fit": null,
            "grid_auto_columns": null,
            "margin": null,
            "display": null,
            "left": null
          }
        },
        "1a72a8531f084048b01b1059f8a246f3": {
          "model_module": "@jupyter-widgets/controls",
          "model_name": "FloatProgressModel",
          "state": {
            "_view_name": "ProgressView",
            "style": "IPY_MODEL_32e3dca1e57f44158079fa0a65eea498",
            "_dom_classes": [],
            "description": "",
            "_model_name": "FloatProgressModel",
            "bar_style": "success",
            "max": 1648877,
            "_view_module": "@jupyter-widgets/controls",
            "_model_module_version": "1.5.0",
            "value": 1648877,
            "_view_count": null,
            "_view_module_version": "1.5.0",
            "orientation": "horizontal",
            "min": 0,
            "description_tooltip": null,
            "_model_module": "@jupyter-widgets/controls",
            "layout": "IPY_MODEL_2f823641cb0d46ceb6d0a69c6e66c010"
          }
        },
        "3e31ea84f0054955a787487fa05fb824": {
          "model_module": "@jupyter-widgets/controls",
          "model_name": "HTMLModel",
          "state": {
            "_view_name": "HTMLView",
            "style": "IPY_MODEL_2c7f76c238884aa68b4f9fa209518159",
            "_dom_classes": [],
            "description": "",
            "_model_name": "HTMLModel",
            "placeholder": "​",
            "_view_module": "@jupyter-widgets/controls",
            "_model_module_version": "1.5.0",
            "value": " 1649664/? [00:01&lt;00:00, 1033507.68it/s]",
            "_view_count": null,
            "_view_module_version": "1.5.0",
            "description_tooltip": null,
            "_model_module": "@jupyter-widgets/controls",
            "layout": "IPY_MODEL_f3219c2f66eb4f099b6dde3d0f1f9bc1"
          }
        },
        "32e3dca1e57f44158079fa0a65eea498": {
          "model_module": "@jupyter-widgets/controls",
          "model_name": "ProgressStyleModel",
          "state": {
            "_view_name": "StyleView",
            "_model_name": "ProgressStyleModel",
            "description_width": "initial",
            "_view_module": "@jupyter-widgets/base",
            "_model_module_version": "1.5.0",
            "_view_count": null,
            "_view_module_version": "1.2.0",
            "bar_color": null,
            "_model_module": "@jupyter-widgets/controls"
          }
        },
        "2f823641cb0d46ceb6d0a69c6e66c010": {
          "model_module": "@jupyter-widgets/base",
          "model_name": "LayoutModel",
          "state": {
            "_view_name": "LayoutView",
            "grid_template_rows": null,
            "right": null,
            "justify_content": null,
            "_view_module": "@jupyter-widgets/base",
            "overflow": null,
            "_model_module_version": "1.2.0",
            "_view_count": null,
            "flex_flow": null,
            "width": null,
            "min_width": null,
            "border": null,
            "align_items": null,
            "bottom": null,
            "_model_module": "@jupyter-widgets/base",
            "top": null,
            "grid_column": null,
            "overflow_y": null,
            "overflow_x": null,
            "grid_auto_flow": null,
            "grid_area": null,
            "grid_template_columns": null,
            "flex": null,
            "_model_name": "LayoutModel",
            "justify_items": null,
            "grid_row": null,
            "max_height": null,
            "align_content": null,
            "visibility": null,
            "align_self": null,
            "height": null,
            "min_height": null,
            "padding": null,
            "grid_auto_rows": null,
            "grid_gap": null,
            "max_width": null,
            "order": null,
            "_view_module_version": "1.2.0",
            "grid_template_areas": null,
            "object_position": null,
            "object_fit": null,
            "grid_auto_columns": null,
            "margin": null,
            "display": null,
            "left": null
          }
        },
        "2c7f76c238884aa68b4f9fa209518159": {
          "model_module": "@jupyter-widgets/controls",
          "model_name": "DescriptionStyleModel",
          "state": {
            "_view_name": "StyleView",
            "_model_name": "DescriptionStyleModel",
            "description_width": "",
            "_view_module": "@jupyter-widgets/base",
            "_model_module_version": "1.5.0",
            "_view_count": null,
            "_view_module_version": "1.2.0",
            "_model_module": "@jupyter-widgets/controls"
          }
        },
        "f3219c2f66eb4f099b6dde3d0f1f9bc1": {
          "model_module": "@jupyter-widgets/base",
          "model_name": "LayoutModel",
          "state": {
            "_view_name": "LayoutView",
            "grid_template_rows": null,
            "right": null,
            "justify_content": null,
            "_view_module": "@jupyter-widgets/base",
            "overflow": null,
            "_model_module_version": "1.2.0",
            "_view_count": null,
            "flex_flow": null,
            "width": null,
            "min_width": null,
            "border": null,
            "align_items": null,
            "bottom": null,
            "_model_module": "@jupyter-widgets/base",
            "top": null,
            "grid_column": null,
            "overflow_y": null,
            "overflow_x": null,
            "grid_auto_flow": null,
            "grid_area": null,
            "grid_template_columns": null,
            "flex": null,
            "_model_name": "LayoutModel",
            "justify_items": null,
            "grid_row": null,
            "max_height": null,
            "align_content": null,
            "visibility": null,
            "align_self": null,
            "height": null,
            "min_height": null,
            "padding": null,
            "grid_auto_rows": null,
            "grid_gap": null,
            "max_width": null,
            "order": null,
            "_view_module_version": "1.2.0",
            "grid_template_areas": null,
            "object_position": null,
            "object_fit": null,
            "grid_auto_columns": null,
            "margin": null,
            "display": null,
            "left": null
          }
        },
        "f0ab0f252eed4135a060cf509c55363e": {
          "model_module": "@jupyter-widgets/controls",
          "model_name": "HBoxModel",
          "state": {
            "_view_name": "HBoxView",
            "_dom_classes": [],
            "_model_name": "HBoxModel",
            "_view_module": "@jupyter-widgets/controls",
            "_model_module_version": "1.5.0",
            "_view_count": null,
            "_view_module_version": "1.5.0",
            "box_style": "",
            "layout": "IPY_MODEL_ffbd94aa2b71438eab6b708a8eaf029d",
            "_model_module": "@jupyter-widgets/controls",
            "children": [
              "IPY_MODEL_cb8c9d2c4d454969a90aeef188a3353d",
              "IPY_MODEL_d2a9384705404e74bad03ec027044632"
            ]
          }
        },
        "ffbd94aa2b71438eab6b708a8eaf029d": {
          "model_module": "@jupyter-widgets/base",
          "model_name": "LayoutModel",
          "state": {
            "_view_name": "LayoutView",
            "grid_template_rows": null,
            "right": null,
            "justify_content": null,
            "_view_module": "@jupyter-widgets/base",
            "overflow": null,
            "_model_module_version": "1.2.0",
            "_view_count": null,
            "flex_flow": null,
            "width": null,
            "min_width": null,
            "border": null,
            "align_items": null,
            "bottom": null,
            "_model_module": "@jupyter-widgets/base",
            "top": null,
            "grid_column": null,
            "overflow_y": null,
            "overflow_x": null,
            "grid_auto_flow": null,
            "grid_area": null,
            "grid_template_columns": null,
            "flex": null,
            "_model_name": "LayoutModel",
            "justify_items": null,
            "grid_row": null,
            "max_height": null,
            "align_content": null,
            "visibility": null,
            "align_self": null,
            "height": null,
            "min_height": null,
            "padding": null,
            "grid_auto_rows": null,
            "grid_gap": null,
            "max_width": null,
            "order": null,
            "_view_module_version": "1.2.0",
            "grid_template_areas": null,
            "object_position": null,
            "object_fit": null,
            "grid_auto_columns": null,
            "margin": null,
            "display": null,
            "left": null
          }
        },
        "cb8c9d2c4d454969a90aeef188a3353d": {
          "model_module": "@jupyter-widgets/controls",
          "model_name": "FloatProgressModel",
          "state": {
            "_view_name": "ProgressView",
            "style": "IPY_MODEL_ce40a751caa74811ae82f7ea0ec44807",
            "_dom_classes": [],
            "description": "",
            "_model_name": "FloatProgressModel",
            "bar_style": "success",
            "max": 4542,
            "_view_module": "@jupyter-widgets/controls",
            "_model_module_version": "1.5.0",
            "value": 4542,
            "_view_count": null,
            "_view_module_version": "1.5.0",
            "orientation": "horizontal",
            "min": 0,
            "description_tooltip": null,
            "_model_module": "@jupyter-widgets/controls",
            "layout": "IPY_MODEL_9a82c017ba944ebba601a6c504a078be"
          }
        },
        "d2a9384705404e74bad03ec027044632": {
          "model_module": "@jupyter-widgets/controls",
          "model_name": "HTMLModel",
          "state": {
            "_view_name": "HTMLView",
            "style": "IPY_MODEL_2169f887f4ca495eb7d6c76e2f674571",
            "_dom_classes": [],
            "description": "",
            "_model_name": "HTMLModel",
            "placeholder": "​",
            "_view_module": "@jupyter-widgets/controls",
            "_model_module_version": "1.5.0",
            "value": " 5120/? [00:06&lt;00:00, 761.05it/s]",
            "_view_count": null,
            "_view_module_version": "1.5.0",
            "description_tooltip": null,
            "_model_module": "@jupyter-widgets/controls",
            "layout": "IPY_MODEL_85d3a0b132a84fa69e0b6ceb9c514d7d"
          }
        },
        "ce40a751caa74811ae82f7ea0ec44807": {
          "model_module": "@jupyter-widgets/controls",
          "model_name": "ProgressStyleModel",
          "state": {
            "_view_name": "StyleView",
            "_model_name": "ProgressStyleModel",
            "description_width": "initial",
            "_view_module": "@jupyter-widgets/base",
            "_model_module_version": "1.5.0",
            "_view_count": null,
            "_view_module_version": "1.2.0",
            "bar_color": null,
            "_model_module": "@jupyter-widgets/controls"
          }
        },
        "9a82c017ba944ebba601a6c504a078be": {
          "model_module": "@jupyter-widgets/base",
          "model_name": "LayoutModel",
          "state": {
            "_view_name": "LayoutView",
            "grid_template_rows": null,
            "right": null,
            "justify_content": null,
            "_view_module": "@jupyter-widgets/base",
            "overflow": null,
            "_model_module_version": "1.2.0",
            "_view_count": null,
            "flex_flow": null,
            "width": null,
            "min_width": null,
            "border": null,
            "align_items": null,
            "bottom": null,
            "_model_module": "@jupyter-widgets/base",
            "top": null,
            "grid_column": null,
            "overflow_y": null,
            "overflow_x": null,
            "grid_auto_flow": null,
            "grid_area": null,
            "grid_template_columns": null,
            "flex": null,
            "_model_name": "LayoutModel",
            "justify_items": null,
            "grid_row": null,
            "max_height": null,
            "align_content": null,
            "visibility": null,
            "align_self": null,
            "height": null,
            "min_height": null,
            "padding": null,
            "grid_auto_rows": null,
            "grid_gap": null,
            "max_width": null,
            "order": null,
            "_view_module_version": "1.2.0",
            "grid_template_areas": null,
            "object_position": null,
            "object_fit": null,
            "grid_auto_columns": null,
            "margin": null,
            "display": null,
            "left": null
          }
        },
        "2169f887f4ca495eb7d6c76e2f674571": {
          "model_module": "@jupyter-widgets/controls",
          "model_name": "DescriptionStyleModel",
          "state": {
            "_view_name": "StyleView",
            "_model_name": "DescriptionStyleModel",
            "description_width": "",
            "_view_module": "@jupyter-widgets/base",
            "_model_module_version": "1.5.0",
            "_view_count": null,
            "_view_module_version": "1.2.0",
            "_model_module": "@jupyter-widgets/controls"
          }
        },
        "85d3a0b132a84fa69e0b6ceb9c514d7d": {
          "model_module": "@jupyter-widgets/base",
          "model_name": "LayoutModel",
          "state": {
            "_view_name": "LayoutView",
            "grid_template_rows": null,
            "right": null,
            "justify_content": null,
            "_view_module": "@jupyter-widgets/base",
            "overflow": null,
            "_model_module_version": "1.2.0",
            "_view_count": null,
            "flex_flow": null,
            "width": null,
            "min_width": null,
            "border": null,
            "align_items": null,
            "bottom": null,
            "_model_module": "@jupyter-widgets/base",
            "top": null,
            "grid_column": null,
            "overflow_y": null,
            "overflow_x": null,
            "grid_auto_flow": null,
            "grid_area": null,
            "grid_template_columns": null,
            "flex": null,
            "_model_name": "LayoutModel",
            "justify_items": null,
            "grid_row": null,
            "max_height": null,
            "align_content": null,
            "visibility": null,
            "align_self": null,
            "height": null,
            "min_height": null,
            "padding": null,
            "grid_auto_rows": null,
            "grid_gap": null,
            "max_width": null,
            "order": null,
            "_view_module_version": "1.2.0",
            "grid_template_areas": null,
            "object_position": null,
            "object_fit": null,
            "grid_auto_columns": null,
            "margin": null,
            "display": null,
            "left": null
          }
        },
        "7bbae8ecc7664fdaaf914247549c28d3": {
          "model_module": "@jupyter-widgets/controls",
          "model_name": "HBoxModel",
          "state": {
            "_view_name": "HBoxView",
            "_dom_classes": [],
            "_model_name": "HBoxModel",
            "_view_module": "@jupyter-widgets/controls",
            "_model_module_version": "1.5.0",
            "_view_count": null,
            "_view_module_version": "1.5.0",
            "box_style": "",
            "layout": "IPY_MODEL_dffb5b8351d14dec854c16f00f8a1804",
            "_model_module": "@jupyter-widgets/controls",
            "children": [
              "IPY_MODEL_23eaf4f7c6b349ffa59f322c32fac986",
              "IPY_MODEL_1966eedf3cae48fab2658f1ccbc8ea3b"
            ]
          }
        },
        "dffb5b8351d14dec854c16f00f8a1804": {
          "model_module": "@jupyter-widgets/base",
          "model_name": "LayoutModel",
          "state": {
            "_view_name": "LayoutView",
            "grid_template_rows": null,
            "right": null,
            "justify_content": null,
            "_view_module": "@jupyter-widgets/base",
            "overflow": null,
            "_model_module_version": "1.2.0",
            "_view_count": null,
            "flex_flow": null,
            "width": null,
            "min_width": null,
            "border": null,
            "align_items": null,
            "bottom": null,
            "_model_module": "@jupyter-widgets/base",
            "top": null,
            "grid_column": null,
            "overflow_y": null,
            "overflow_x": null,
            "grid_auto_flow": null,
            "grid_area": null,
            "grid_template_columns": null,
            "flex": null,
            "_model_name": "LayoutModel",
            "justify_items": null,
            "grid_row": null,
            "max_height": null,
            "align_content": null,
            "visibility": null,
            "align_self": null,
            "height": null,
            "min_height": null,
            "padding": null,
            "grid_auto_rows": null,
            "grid_gap": null,
            "max_width": null,
            "order": null,
            "_view_module_version": "1.2.0",
            "grid_template_areas": null,
            "object_position": null,
            "object_fit": null,
            "grid_auto_columns": null,
            "margin": null,
            "display": null,
            "left": null
          }
        },
        "23eaf4f7c6b349ffa59f322c32fac986": {
          "model_module": "@jupyter-widgets/controls",
          "model_name": "FloatProgressModel",
          "state": {
            "_view_name": "ProgressView",
            "style": "IPY_MODEL_9ce73a12a1fc4161a4a88581915bc695",
            "_dom_classes": [],
            "description": "",
            "_model_name": "FloatProgressModel",
            "bar_style": "success",
            "max": 9912422,
            "_view_module": "@jupyter-widgets/controls",
            "_model_module_version": "1.5.0",
            "value": 9912422,
            "_view_count": null,
            "_view_module_version": "1.5.0",
            "orientation": "horizontal",
            "min": 0,
            "description_tooltip": null,
            "_model_module": "@jupyter-widgets/controls",
            "layout": "IPY_MODEL_aca1fbf0aa724c688934b66a46854910"
          }
        },
        "1966eedf3cae48fab2658f1ccbc8ea3b": {
          "model_module": "@jupyter-widgets/controls",
          "model_name": "HTMLModel",
          "state": {
            "_view_name": "HTMLView",
            "style": "IPY_MODEL_dbb3a987a2d94c3ca5fdf68c0cc598f4",
            "_dom_classes": [],
            "description": "",
            "_model_name": "HTMLModel",
            "placeholder": "​",
            "_view_module": "@jupyter-widgets/controls",
            "_model_module_version": "1.5.0",
            "value": " 9913344/? [00:03&lt;00:00, 3211571.60it/s]",
            "_view_count": null,
            "_view_module_version": "1.5.0",
            "description_tooltip": null,
            "_model_module": "@jupyter-widgets/controls",
            "layout": "IPY_MODEL_9ef9496b476643c6ab4c05ddd832a212"
          }
        },
        "9ce73a12a1fc4161a4a88581915bc695": {
          "model_module": "@jupyter-widgets/controls",
          "model_name": "ProgressStyleModel",
          "state": {
            "_view_name": "StyleView",
            "_model_name": "ProgressStyleModel",
            "description_width": "initial",
            "_view_module": "@jupyter-widgets/base",
            "_model_module_version": "1.5.0",
            "_view_count": null,
            "_view_module_version": "1.2.0",
            "bar_color": null,
            "_model_module": "@jupyter-widgets/controls"
          }
        },
        "aca1fbf0aa724c688934b66a46854910": {
          "model_module": "@jupyter-widgets/base",
          "model_name": "LayoutModel",
          "state": {
            "_view_name": "LayoutView",
            "grid_template_rows": null,
            "right": null,
            "justify_content": null,
            "_view_module": "@jupyter-widgets/base",
            "overflow": null,
            "_model_module_version": "1.2.0",
            "_view_count": null,
            "flex_flow": null,
            "width": null,
            "min_width": null,
            "border": null,
            "align_items": null,
            "bottom": null,
            "_model_module": "@jupyter-widgets/base",
            "top": null,
            "grid_column": null,
            "overflow_y": null,
            "overflow_x": null,
            "grid_auto_flow": null,
            "grid_area": null,
            "grid_template_columns": null,
            "flex": null,
            "_model_name": "LayoutModel",
            "justify_items": null,
            "grid_row": null,
            "max_height": null,
            "align_content": null,
            "visibility": null,
            "align_self": null,
            "height": null,
            "min_height": null,
            "padding": null,
            "grid_auto_rows": null,
            "grid_gap": null,
            "max_width": null,
            "order": null,
            "_view_module_version": "1.2.0",
            "grid_template_areas": null,
            "object_position": null,
            "object_fit": null,
            "grid_auto_columns": null,
            "margin": null,
            "display": null,
            "left": null
          }
        },
        "dbb3a987a2d94c3ca5fdf68c0cc598f4": {
          "model_module": "@jupyter-widgets/controls",
          "model_name": "DescriptionStyleModel",
          "state": {
            "_view_name": "StyleView",
            "_model_name": "DescriptionStyleModel",
            "description_width": "",
            "_view_module": "@jupyter-widgets/base",
            "_model_module_version": "1.5.0",
            "_view_count": null,
            "_view_module_version": "1.2.0",
            "_model_module": "@jupyter-widgets/controls"
          }
        },
        "9ef9496b476643c6ab4c05ddd832a212": {
          "model_module": "@jupyter-widgets/base",
          "model_name": "LayoutModel",
          "state": {
            "_view_name": "LayoutView",
            "grid_template_rows": null,
            "right": null,
            "justify_content": null,
            "_view_module": "@jupyter-widgets/base",
            "overflow": null,
            "_model_module_version": "1.2.0",
            "_view_count": null,
            "flex_flow": null,
            "width": null,
            "min_width": null,
            "border": null,
            "align_items": null,
            "bottom": null,
            "_model_module": "@jupyter-widgets/base",
            "top": null,
            "grid_column": null,
            "overflow_y": null,
            "overflow_x": null,
            "grid_auto_flow": null,
            "grid_area": null,
            "grid_template_columns": null,
            "flex": null,
            "_model_name": "LayoutModel",
            "justify_items": null,
            "grid_row": null,
            "max_height": null,
            "align_content": null,
            "visibility": null,
            "align_self": null,
            "height": null,
            "min_height": null,
            "padding": null,
            "grid_auto_rows": null,
            "grid_gap": null,
            "max_width": null,
            "order": null,
            "_view_module_version": "1.2.0",
            "grid_template_areas": null,
            "object_position": null,
            "object_fit": null,
            "grid_auto_columns": null,
            "margin": null,
            "display": null,
            "left": null
          }
        },
        "948cee1c9b4c4949a93a861b385ec164": {
          "model_module": "@jupyter-widgets/controls",
          "model_name": "HBoxModel",
          "state": {
            "_view_name": "HBoxView",
            "_dom_classes": [],
            "_model_name": "HBoxModel",
            "_view_module": "@jupyter-widgets/controls",
            "_model_module_version": "1.5.0",
            "_view_count": null,
            "_view_module_version": "1.5.0",
            "box_style": "",
            "layout": "IPY_MODEL_0a4f722ee2c440b4a059b5be5f5bfbbd",
            "_model_module": "@jupyter-widgets/controls",
            "children": [
              "IPY_MODEL_6947ce8f7b4e4983b17c4017ba27ad12",
              "IPY_MODEL_ff9fba1f4b2746eeb30013ce6e0aa733"
            ]
          }
        },
        "0a4f722ee2c440b4a059b5be5f5bfbbd": {
          "model_module": "@jupyter-widgets/base",
          "model_name": "LayoutModel",
          "state": {
            "_view_name": "LayoutView",
            "grid_template_rows": null,
            "right": null,
            "justify_content": null,
            "_view_module": "@jupyter-widgets/base",
            "overflow": null,
            "_model_module_version": "1.2.0",
            "_view_count": null,
            "flex_flow": null,
            "width": null,
            "min_width": null,
            "border": null,
            "align_items": null,
            "bottom": null,
            "_model_module": "@jupyter-widgets/base",
            "top": null,
            "grid_column": null,
            "overflow_y": null,
            "overflow_x": null,
            "grid_auto_flow": null,
            "grid_area": null,
            "grid_template_columns": null,
            "flex": null,
            "_model_name": "LayoutModel",
            "justify_items": null,
            "grid_row": null,
            "max_height": null,
            "align_content": null,
            "visibility": null,
            "align_self": null,
            "height": null,
            "min_height": null,
            "padding": null,
            "grid_auto_rows": null,
            "grid_gap": null,
            "max_width": null,
            "order": null,
            "_view_module_version": "1.2.0",
            "grid_template_areas": null,
            "object_position": null,
            "object_fit": null,
            "grid_auto_columns": null,
            "margin": null,
            "display": null,
            "left": null
          }
        },
        "6947ce8f7b4e4983b17c4017ba27ad12": {
          "model_module": "@jupyter-widgets/controls",
          "model_name": "FloatProgressModel",
          "state": {
            "_view_name": "ProgressView",
            "style": "IPY_MODEL_d2fc9d210e7a4a07b54175af5c11f56d",
            "_dom_classes": [],
            "description": "",
            "_model_name": "FloatProgressModel",
            "bar_style": "success",
            "max": 28881,
            "_view_module": "@jupyter-widgets/controls",
            "_model_module_version": "1.5.0",
            "value": 28881,
            "_view_count": null,
            "_view_module_version": "1.5.0",
            "orientation": "horizontal",
            "min": 0,
            "description_tooltip": null,
            "_model_module": "@jupyter-widgets/controls",
            "layout": "IPY_MODEL_1bcbaac34af24477b5c272cad8665b43"
          }
        },
        "ff9fba1f4b2746eeb30013ce6e0aa733": {
          "model_module": "@jupyter-widgets/controls",
          "model_name": "HTMLModel",
          "state": {
            "_view_name": "HTMLView",
            "style": "IPY_MODEL_fdcee144fa93462d975723b3a8b0abbb",
            "_dom_classes": [],
            "description": "",
            "_model_name": "HTMLModel",
            "placeholder": "​",
            "_view_module": "@jupyter-widgets/controls",
            "_model_module_version": "1.5.0",
            "value": " 29696/? [00:01&lt;00:00, 29148.45it/s]",
            "_view_count": null,
            "_view_module_version": "1.5.0",
            "description_tooltip": null,
            "_model_module": "@jupyter-widgets/controls",
            "layout": "IPY_MODEL_76dc925e58954e04a31d89bf1af5f11c"
          }
        },
        "d2fc9d210e7a4a07b54175af5c11f56d": {
          "model_module": "@jupyter-widgets/controls",
          "model_name": "ProgressStyleModel",
          "state": {
            "_view_name": "StyleView",
            "_model_name": "ProgressStyleModel",
            "description_width": "initial",
            "_view_module": "@jupyter-widgets/base",
            "_model_module_version": "1.5.0",
            "_view_count": null,
            "_view_module_version": "1.2.0",
            "bar_color": null,
            "_model_module": "@jupyter-widgets/controls"
          }
        },
        "1bcbaac34af24477b5c272cad8665b43": {
          "model_module": "@jupyter-widgets/base",
          "model_name": "LayoutModel",
          "state": {
            "_view_name": "LayoutView",
            "grid_template_rows": null,
            "right": null,
            "justify_content": null,
            "_view_module": "@jupyter-widgets/base",
            "overflow": null,
            "_model_module_version": "1.2.0",
            "_view_count": null,
            "flex_flow": null,
            "width": null,
            "min_width": null,
            "border": null,
            "align_items": null,
            "bottom": null,
            "_model_module": "@jupyter-widgets/base",
            "top": null,
            "grid_column": null,
            "overflow_y": null,
            "overflow_x": null,
            "grid_auto_flow": null,
            "grid_area": null,
            "grid_template_columns": null,
            "flex": null,
            "_model_name": "LayoutModel",
            "justify_items": null,
            "grid_row": null,
            "max_height": null,
            "align_content": null,
            "visibility": null,
            "align_self": null,
            "height": null,
            "min_height": null,
            "padding": null,
            "grid_auto_rows": null,
            "grid_gap": null,
            "max_width": null,
            "order": null,
            "_view_module_version": "1.2.0",
            "grid_template_areas": null,
            "object_position": null,
            "object_fit": null,
            "grid_auto_columns": null,
            "margin": null,
            "display": null,
            "left": null
          }
        },
        "fdcee144fa93462d975723b3a8b0abbb": {
          "model_module": "@jupyter-widgets/controls",
          "model_name": "DescriptionStyleModel",
          "state": {
            "_view_name": "StyleView",
            "_model_name": "DescriptionStyleModel",
            "description_width": "",
            "_view_module": "@jupyter-widgets/base",
            "_model_module_version": "1.5.0",
            "_view_count": null,
            "_view_module_version": "1.2.0",
            "_model_module": "@jupyter-widgets/controls"
          }
        },
        "76dc925e58954e04a31d89bf1af5f11c": {
          "model_module": "@jupyter-widgets/base",
          "model_name": "LayoutModel",
          "state": {
            "_view_name": "LayoutView",
            "grid_template_rows": null,
            "right": null,
            "justify_content": null,
            "_view_module": "@jupyter-widgets/base",
            "overflow": null,
            "_model_module_version": "1.2.0",
            "_view_count": null,
            "flex_flow": null,
            "width": null,
            "min_width": null,
            "border": null,
            "align_items": null,
            "bottom": null,
            "_model_module": "@jupyter-widgets/base",
            "top": null,
            "grid_column": null,
            "overflow_y": null,
            "overflow_x": null,
            "grid_auto_flow": null,
            "grid_area": null,
            "grid_template_columns": null,
            "flex": null,
            "_model_name": "LayoutModel",
            "justify_items": null,
            "grid_row": null,
            "max_height": null,
            "align_content": null,
            "visibility": null,
            "align_self": null,
            "height": null,
            "min_height": null,
            "padding": null,
            "grid_auto_rows": null,
            "grid_gap": null,
            "max_width": null,
            "order": null,
            "_view_module_version": "1.2.0",
            "grid_template_areas": null,
            "object_position": null,
            "object_fit": null,
            "grid_auto_columns": null,
            "margin": null,
            "display": null,
            "left": null
          }
        },
        "5efd3a4827ef48c196617002bf8e5472": {
          "model_module": "@jupyter-widgets/controls",
          "model_name": "HBoxModel",
          "state": {
            "_view_name": "HBoxView",
            "_dom_classes": [],
            "_model_name": "HBoxModel",
            "_view_module": "@jupyter-widgets/controls",
            "_model_module_version": "1.5.0",
            "_view_count": null,
            "_view_module_version": "1.5.0",
            "box_style": "",
            "layout": "IPY_MODEL_0f57d3309382406389dfea8777ebf08c",
            "_model_module": "@jupyter-widgets/controls",
            "children": [
              "IPY_MODEL_b27474e377664758b173a926b460f69d",
              "IPY_MODEL_3821614e2bdc4221b1bd5d37426e61c8"
            ]
          }
        },
        "0f57d3309382406389dfea8777ebf08c": {
          "model_module": "@jupyter-widgets/base",
          "model_name": "LayoutModel",
          "state": {
            "_view_name": "LayoutView",
            "grid_template_rows": null,
            "right": null,
            "justify_content": null,
            "_view_module": "@jupyter-widgets/base",
            "overflow": null,
            "_model_module_version": "1.2.0",
            "_view_count": null,
            "flex_flow": null,
            "width": null,
            "min_width": null,
            "border": null,
            "align_items": null,
            "bottom": null,
            "_model_module": "@jupyter-widgets/base",
            "top": null,
            "grid_column": null,
            "overflow_y": null,
            "overflow_x": null,
            "grid_auto_flow": null,
            "grid_area": null,
            "grid_template_columns": null,
            "flex": null,
            "_model_name": "LayoutModel",
            "justify_items": null,
            "grid_row": null,
            "max_height": null,
            "align_content": null,
            "visibility": null,
            "align_self": null,
            "height": null,
            "min_height": null,
            "padding": null,
            "grid_auto_rows": null,
            "grid_gap": null,
            "max_width": null,
            "order": null,
            "_view_module_version": "1.2.0",
            "grid_template_areas": null,
            "object_position": null,
            "object_fit": null,
            "grid_auto_columns": null,
            "margin": null,
            "display": null,
            "left": null
          }
        },
        "b27474e377664758b173a926b460f69d": {
          "model_module": "@jupyter-widgets/controls",
          "model_name": "FloatProgressModel",
          "state": {
            "_view_name": "ProgressView",
            "style": "IPY_MODEL_c535099f2b1842a2958ecf1958316405",
            "_dom_classes": [],
            "description": "",
            "_model_name": "FloatProgressModel",
            "bar_style": "success",
            "max": 1648877,
            "_view_module": "@jupyter-widgets/controls",
            "_model_module_version": "1.5.0",
            "value": 1648877,
            "_view_count": null,
            "_view_module_version": "1.5.0",
            "orientation": "horizontal",
            "min": 0,
            "description_tooltip": null,
            "_model_module": "@jupyter-widgets/controls",
            "layout": "IPY_MODEL_ff1d1d7297c54dc1b7b2c956f52e0b68"
          }
        },
        "3821614e2bdc4221b1bd5d37426e61c8": {
          "model_module": "@jupyter-widgets/controls",
          "model_name": "HTMLModel",
          "state": {
            "_view_name": "HTMLView",
            "style": "IPY_MODEL_a7b3390e755541d0bbb2bb69857e2cc0",
            "_dom_classes": [],
            "description": "",
            "_model_name": "HTMLModel",
            "placeholder": "​",
            "_view_module": "@jupyter-widgets/controls",
            "_model_module_version": "1.5.0",
            "value": " 1649664/? [00:02&lt;00:00, 651852.77it/s]",
            "_view_count": null,
            "_view_module_version": "1.5.0",
            "description_tooltip": null,
            "_model_module": "@jupyter-widgets/controls",
            "layout": "IPY_MODEL_dac011857da440649564a12683b76bc5"
          }
        },
        "c535099f2b1842a2958ecf1958316405": {
          "model_module": "@jupyter-widgets/controls",
          "model_name": "ProgressStyleModel",
          "state": {
            "_view_name": "StyleView",
            "_model_name": "ProgressStyleModel",
            "description_width": "initial",
            "_view_module": "@jupyter-widgets/base",
            "_model_module_version": "1.5.0",
            "_view_count": null,
            "_view_module_version": "1.2.0",
            "bar_color": null,
            "_model_module": "@jupyter-widgets/controls"
          }
        },
        "ff1d1d7297c54dc1b7b2c956f52e0b68": {
          "model_module": "@jupyter-widgets/base",
          "model_name": "LayoutModel",
          "state": {
            "_view_name": "LayoutView",
            "grid_template_rows": null,
            "right": null,
            "justify_content": null,
            "_view_module": "@jupyter-widgets/base",
            "overflow": null,
            "_model_module_version": "1.2.0",
            "_view_count": null,
            "flex_flow": null,
            "width": null,
            "min_width": null,
            "border": null,
            "align_items": null,
            "bottom": null,
            "_model_module": "@jupyter-widgets/base",
            "top": null,
            "grid_column": null,
            "overflow_y": null,
            "overflow_x": null,
            "grid_auto_flow": null,
            "grid_area": null,
            "grid_template_columns": null,
            "flex": null,
            "_model_name": "LayoutModel",
            "justify_items": null,
            "grid_row": null,
            "max_height": null,
            "align_content": null,
            "visibility": null,
            "align_self": null,
            "height": null,
            "min_height": null,
            "padding": null,
            "grid_auto_rows": null,
            "grid_gap": null,
            "max_width": null,
            "order": null,
            "_view_module_version": "1.2.0",
            "grid_template_areas": null,
            "object_position": null,
            "object_fit": null,
            "grid_auto_columns": null,
            "margin": null,
            "display": null,
            "left": null
          }
        },
        "a7b3390e755541d0bbb2bb69857e2cc0": {
          "model_module": "@jupyter-widgets/controls",
          "model_name": "DescriptionStyleModel",
          "state": {
            "_view_name": "StyleView",
            "_model_name": "DescriptionStyleModel",
            "description_width": "",
            "_view_module": "@jupyter-widgets/base",
            "_model_module_version": "1.5.0",
            "_view_count": null,
            "_view_module_version": "1.2.0",
            "_model_module": "@jupyter-widgets/controls"
          }
        },
        "dac011857da440649564a12683b76bc5": {
          "model_module": "@jupyter-widgets/base",
          "model_name": "LayoutModel",
          "state": {
            "_view_name": "LayoutView",
            "grid_template_rows": null,
            "right": null,
            "justify_content": null,
            "_view_module": "@jupyter-widgets/base",
            "overflow": null,
            "_model_module_version": "1.2.0",
            "_view_count": null,
            "flex_flow": null,
            "width": null,
            "min_width": null,
            "border": null,
            "align_items": null,
            "bottom": null,
            "_model_module": "@jupyter-widgets/base",
            "top": null,
            "grid_column": null,
            "overflow_y": null,
            "overflow_x": null,
            "grid_auto_flow": null,
            "grid_area": null,
            "grid_template_columns": null,
            "flex": null,
            "_model_name": "LayoutModel",
            "justify_items": null,
            "grid_row": null,
            "max_height": null,
            "align_content": null,
            "visibility": null,
            "align_self": null,
            "height": null,
            "min_height": null,
            "padding": null,
            "grid_auto_rows": null,
            "grid_gap": null,
            "max_width": null,
            "order": null,
            "_view_module_version": "1.2.0",
            "grid_template_areas": null,
            "object_position": null,
            "object_fit": null,
            "grid_auto_columns": null,
            "margin": null,
            "display": null,
            "left": null
          }
        },
        "a900a4a0e65d4328a2b76578d78e8c2f": {
          "model_module": "@jupyter-widgets/controls",
          "model_name": "HBoxModel",
          "state": {
            "_view_name": "HBoxView",
            "_dom_classes": [],
            "_model_name": "HBoxModel",
            "_view_module": "@jupyter-widgets/controls",
            "_model_module_version": "1.5.0",
            "_view_count": null,
            "_view_module_version": "1.5.0",
            "box_style": "",
            "layout": "IPY_MODEL_ad1d30b83fb843d5a30d2f2d1dd6d8c8",
            "_model_module": "@jupyter-widgets/controls",
            "children": [
              "IPY_MODEL_467ecdda66344d63a96774c06abb6b7c",
              "IPY_MODEL_b55afb1d0fff49148f989e0a8c8cf06e"
            ]
          }
        },
        "ad1d30b83fb843d5a30d2f2d1dd6d8c8": {
          "model_module": "@jupyter-widgets/base",
          "model_name": "LayoutModel",
          "state": {
            "_view_name": "LayoutView",
            "grid_template_rows": null,
            "right": null,
            "justify_content": null,
            "_view_module": "@jupyter-widgets/base",
            "overflow": null,
            "_model_module_version": "1.2.0",
            "_view_count": null,
            "flex_flow": null,
            "width": null,
            "min_width": null,
            "border": null,
            "align_items": null,
            "bottom": null,
            "_model_module": "@jupyter-widgets/base",
            "top": null,
            "grid_column": null,
            "overflow_y": null,
            "overflow_x": null,
            "grid_auto_flow": null,
            "grid_area": null,
            "grid_template_columns": null,
            "flex": null,
            "_model_name": "LayoutModel",
            "justify_items": null,
            "grid_row": null,
            "max_height": null,
            "align_content": null,
            "visibility": null,
            "align_self": null,
            "height": null,
            "min_height": null,
            "padding": null,
            "grid_auto_rows": null,
            "grid_gap": null,
            "max_width": null,
            "order": null,
            "_view_module_version": "1.2.0",
            "grid_template_areas": null,
            "object_position": null,
            "object_fit": null,
            "grid_auto_columns": null,
            "margin": null,
            "display": null,
            "left": null
          }
        },
        "467ecdda66344d63a96774c06abb6b7c": {
          "model_module": "@jupyter-widgets/controls",
          "model_name": "FloatProgressModel",
          "state": {
            "_view_name": "ProgressView",
            "style": "IPY_MODEL_714317804a7c483a91aaf808f7b45251",
            "_dom_classes": [],
            "description": "",
            "_model_name": "FloatProgressModel",
            "bar_style": "success",
            "max": 4542,
            "_view_module": "@jupyter-widgets/controls",
            "_model_module_version": "1.5.0",
            "value": 4542,
            "_view_count": null,
            "_view_module_version": "1.5.0",
            "orientation": "horizontal",
            "min": 0,
            "description_tooltip": null,
            "_model_module": "@jupyter-widgets/controls",
            "layout": "IPY_MODEL_5113293debd748e9ab8cd83f81ca91f3"
          }
        },
        "b55afb1d0fff49148f989e0a8c8cf06e": {
          "model_module": "@jupyter-widgets/controls",
          "model_name": "HTMLModel",
          "state": {
            "_view_name": "HTMLView",
            "style": "IPY_MODEL_5c99bb1e845f433ebc99734ecc72c8de",
            "_dom_classes": [],
            "description": "",
            "_model_name": "HTMLModel",
            "placeholder": "​",
            "_view_module": "@jupyter-widgets/controls",
            "_model_module_version": "1.5.0",
            "value": " 5120/? [00:00&lt;00:00, 29218.02it/s]",
            "_view_count": null,
            "_view_module_version": "1.5.0",
            "description_tooltip": null,
            "_model_module": "@jupyter-widgets/controls",
            "layout": "IPY_MODEL_36426580dddb4fd585f8a4dff7789024"
          }
        },
        "714317804a7c483a91aaf808f7b45251": {
          "model_module": "@jupyter-widgets/controls",
          "model_name": "ProgressStyleModel",
          "state": {
            "_view_name": "StyleView",
            "_model_name": "ProgressStyleModel",
            "description_width": "initial",
            "_view_module": "@jupyter-widgets/base",
            "_model_module_version": "1.5.0",
            "_view_count": null,
            "_view_module_version": "1.2.0",
            "bar_color": null,
            "_model_module": "@jupyter-widgets/controls"
          }
        },
        "5113293debd748e9ab8cd83f81ca91f3": {
          "model_module": "@jupyter-widgets/base",
          "model_name": "LayoutModel",
          "state": {
            "_view_name": "LayoutView",
            "grid_template_rows": null,
            "right": null,
            "justify_content": null,
            "_view_module": "@jupyter-widgets/base",
            "overflow": null,
            "_model_module_version": "1.2.0",
            "_view_count": null,
            "flex_flow": null,
            "width": null,
            "min_width": null,
            "border": null,
            "align_items": null,
            "bottom": null,
            "_model_module": "@jupyter-widgets/base",
            "top": null,
            "grid_column": null,
            "overflow_y": null,
            "overflow_x": null,
            "grid_auto_flow": null,
            "grid_area": null,
            "grid_template_columns": null,
            "flex": null,
            "_model_name": "LayoutModel",
            "justify_items": null,
            "grid_row": null,
            "max_height": null,
            "align_content": null,
            "visibility": null,
            "align_self": null,
            "height": null,
            "min_height": null,
            "padding": null,
            "grid_auto_rows": null,
            "grid_gap": null,
            "max_width": null,
            "order": null,
            "_view_module_version": "1.2.0",
            "grid_template_areas": null,
            "object_position": null,
            "object_fit": null,
            "grid_auto_columns": null,
            "margin": null,
            "display": null,
            "left": null
          }
        },
        "5c99bb1e845f433ebc99734ecc72c8de": {
          "model_module": "@jupyter-widgets/controls",
          "model_name": "DescriptionStyleModel",
          "state": {
            "_view_name": "StyleView",
            "_model_name": "DescriptionStyleModel",
            "description_width": "",
            "_view_module": "@jupyter-widgets/base",
            "_model_module_version": "1.5.0",
            "_view_count": null,
            "_view_module_version": "1.2.0",
            "_model_module": "@jupyter-widgets/controls"
          }
        },
        "36426580dddb4fd585f8a4dff7789024": {
          "model_module": "@jupyter-widgets/base",
          "model_name": "LayoutModel",
          "state": {
            "_view_name": "LayoutView",
            "grid_template_rows": null,
            "right": null,
            "justify_content": null,
            "_view_module": "@jupyter-widgets/base",
            "overflow": null,
            "_model_module_version": "1.2.0",
            "_view_count": null,
            "flex_flow": null,
            "width": null,
            "min_width": null,
            "border": null,
            "align_items": null,
            "bottom": null,
            "_model_module": "@jupyter-widgets/base",
            "top": null,
            "grid_column": null,
            "overflow_y": null,
            "overflow_x": null,
            "grid_auto_flow": null,
            "grid_area": null,
            "grid_template_columns": null,
            "flex": null,
            "_model_name": "LayoutModel",
            "justify_items": null,
            "grid_row": null,
            "max_height": null,
            "align_content": null,
            "visibility": null,
            "align_self": null,
            "height": null,
            "min_height": null,
            "padding": null,
            "grid_auto_rows": null,
            "grid_gap": null,
            "max_width": null,
            "order": null,
            "_view_module_version": "1.2.0",
            "grid_template_areas": null,
            "object_position": null,
            "object_fit": null,
            "grid_auto_columns": null,
            "margin": null,
            "display": null,
            "left": null
          }
        }
      }
    }
  },
  "cells": [
    {
      "cell_type": "markdown",
      "metadata": {
        "id": "gQ9IaIIMtFC3"
      },
      "source": [
        "#**Deep Learning and Computer Vision - Mini Project**"
      ]
    },
    {
      "cell_type": "markdown",
      "metadata": {
        "id": "RnqbItN4tFAa"
      },
      "source": [
        "**NAME** - Ganesh Kumaran Masilamani\n",
        "\n",
        "**STUDENT NUMBER** - 200434339\n",
        "\n",
        "**PROJECT TITLE** - Deep Neural Networks for Image Classification"
      ]
    },
    {
      "cell_type": "markdown",
      "metadata": {
        "id": "MelG3AdYtE-l"
      },
      "source": [
        "###**In this Notebook we will be using MobileNet Architecture as our deep Network to do image classification in MNIST dataset.**\n",
        "\n",
        "#**DEEP NETWORK MODEL-8 --> MOBILENET**"
      ]
    },
    {
      "cell_type": "code",
      "metadata": {
        "id": "fMcruYVWuPXa",
        "colab": {
          "base_uri": "https://localhost:8080/"
        },
        "outputId": "1ba1d8cc-3a99-40ff-f073-80d86e208692"
      },
      "source": [
        "#Libraries Imported\n",
        "import time\n",
        "import os\n",
        "import numpy as np\n",
        "import torch\n",
        "import torch.nn as nn\n",
        "import torch.optim as optim\n",
        "import torch.nn.functional as F\n",
        "from torchvision.utils import make_grid\n",
        "import torchvision\n",
        "from torchvision import datasets\n",
        "from torchvision import transforms\n",
        "import matplotlib.pyplot as plt\n",
        "import seaborn as sns\n",
        "sns.set_style('darkgrid')\n",
        "import pickle\n",
        "%pip install torchviz\n",
        "from sklearn.metrics import confusion_matrix\n",
        "from sklearn.metrics import ConfusionMatrixDisplay\n",
        "from torchviz import make_dot\n",
        "from datetime import datetime\n",
        "Date_time = datetime.now()\n",
        "date = Date_time.strftime(\"%d/%m/%Y\")\n",
        "Time = Date_time.strftime(\"%H:%M:%S\")"
      ],
      "execution_count": 1,
      "outputs": [
        {
          "output_type": "stream",
          "text": [
            "Collecting torchviz\n",
            "  Downloading https://files.pythonhosted.org/packages/79/e7/643808913211d6c1fc96a3a4333bf4c9276858fab00bcafaf98ea58a97be/torchviz-0.0.2.tar.gz\n",
            "Requirement already satisfied: torch in /usr/local/lib/python3.7/dist-packages (from torchviz) (1.8.1+cu101)\n",
            "Requirement already satisfied: graphviz in /usr/local/lib/python3.7/dist-packages (from torchviz) (0.10.1)\n",
            "Requirement already satisfied: numpy in /usr/local/lib/python3.7/dist-packages (from torch->torchviz) (1.19.5)\n",
            "Requirement already satisfied: typing-extensions in /usr/local/lib/python3.7/dist-packages (from torch->torchviz) (3.7.4.3)\n",
            "Building wheels for collected packages: torchviz\n",
            "  Building wheel for torchviz (setup.py) ... \u001b[?25l\u001b[?25hdone\n",
            "  Created wheel for torchviz: filename=torchviz-0.0.2-cp37-none-any.whl size=4152 sha256=c4497b9bf7e0cef3e523306582cad37f10237fbdb33aaf02e37cbf5bf213c700\n",
            "  Stored in directory: /root/.cache/pip/wheels/01/26/58/026ffd533dbe8b3972eb423da9c7949beca68d1c98ed9e8624\n",
            "Successfully built torchviz\n",
            "Installing collected packages: torchviz\n",
            "Successfully installed torchviz-0.0.2\n"
          ],
          "name": "stdout"
        }
      ]
    },
    {
      "cell_type": "markdown",
      "metadata": {
        "id": "djYY2llrJD0d"
      },
      "source": [
        "##**Loading the MNIST Dataset**"
      ]
    },
    {
      "cell_type": "code",
      "metadata": {
        "id": "wSWJZvrsmDKD",
        "colab": {
          "base_uri": "https://localhost:8080/",
          "height": 1000,
          "referenced_widgets": [
            "e6a2c014c248499dbaaebf805d971077",
            "635aabaf331a464eb18ae144985ff62c",
            "460bd98edc404192992a8003b4845274",
            "2a5d8f6ce83847b3a930c25609e0ba9e",
            "56e9a46f8d804471a47c6d71357d28c7",
            "69254ff7d8a04fa089c0d68974212268",
            "0d4f52a3e3504fda9083a385f411b3d7",
            "45978151429440dc97d2613c3f2706f4",
            "3b9f63f060a14c6d8fea0efe13d5b03b",
            "d67e8a0d0e4e46fe87f8d822cc0c5f13",
            "d9cc3e803c774afdae943fbaea28cee2",
            "8ff5d53aee8042b487dd903ed66d7823",
            "0ad7ac91f29d4b6e96af7609a99f6b88",
            "b75f02d4643b4f80b1d78774873e6b12",
            "9b06fa4a14fc4ca1b35fafc873cdea41",
            "0486eacc91784dbabd73baabcad6aea5",
            "e424904bcd07469c90b248bebcfab3f6",
            "a690b36026f64004925e4bd0e7d74c99",
            "1a72a8531f084048b01b1059f8a246f3",
            "3e31ea84f0054955a787487fa05fb824",
            "32e3dca1e57f44158079fa0a65eea498",
            "2f823641cb0d46ceb6d0a69c6e66c010",
            "2c7f76c238884aa68b4f9fa209518159",
            "f3219c2f66eb4f099b6dde3d0f1f9bc1",
            "f0ab0f252eed4135a060cf509c55363e",
            "ffbd94aa2b71438eab6b708a8eaf029d",
            "cb8c9d2c4d454969a90aeef188a3353d",
            "d2a9384705404e74bad03ec027044632",
            "ce40a751caa74811ae82f7ea0ec44807",
            "9a82c017ba944ebba601a6c504a078be",
            "2169f887f4ca495eb7d6c76e2f674571",
            "85d3a0b132a84fa69e0b6ceb9c514d7d",
            "7bbae8ecc7664fdaaf914247549c28d3",
            "dffb5b8351d14dec854c16f00f8a1804",
            "23eaf4f7c6b349ffa59f322c32fac986",
            "1966eedf3cae48fab2658f1ccbc8ea3b",
            "9ce73a12a1fc4161a4a88581915bc695",
            "aca1fbf0aa724c688934b66a46854910",
            "dbb3a987a2d94c3ca5fdf68c0cc598f4",
            "9ef9496b476643c6ab4c05ddd832a212",
            "948cee1c9b4c4949a93a861b385ec164",
            "0a4f722ee2c440b4a059b5be5f5bfbbd",
            "6947ce8f7b4e4983b17c4017ba27ad12",
            "ff9fba1f4b2746eeb30013ce6e0aa733",
            "d2fc9d210e7a4a07b54175af5c11f56d",
            "1bcbaac34af24477b5c272cad8665b43",
            "fdcee144fa93462d975723b3a8b0abbb",
            "76dc925e58954e04a31d89bf1af5f11c",
            "5efd3a4827ef48c196617002bf8e5472",
            "0f57d3309382406389dfea8777ebf08c",
            "b27474e377664758b173a926b460f69d",
            "3821614e2bdc4221b1bd5d37426e61c8",
            "c535099f2b1842a2958ecf1958316405",
            "ff1d1d7297c54dc1b7b2c956f52e0b68",
            "a7b3390e755541d0bbb2bb69857e2cc0",
            "dac011857da440649564a12683b76bc5",
            "a900a4a0e65d4328a2b76578d78e8c2f",
            "ad1d30b83fb843d5a30d2f2d1dd6d8c8",
            "467ecdda66344d63a96774c06abb6b7c",
            "b55afb1d0fff49148f989e0a8c8cf06e",
            "714317804a7c483a91aaf808f7b45251",
            "5113293debd748e9ab8cd83f81ca91f3",
            "5c99bb1e845f433ebc99734ecc72c8de",
            "36426580dddb4fd585f8a4dff7789024"
          ]
        },
        "outputId": "f81d7424-d6ae-45fd-def9-9112aef41f5e"
      },
      "source": [
        "#Downloading and Loading the MNIST dataset \n",
        "def Load_mnist_data(batch_size, resize=None, root=os.path.join('MNIST_DATASET')):\n",
        "    final_root = os.path.expanduser(root)\n",
        "    Convolutional_Transformer = []\n",
        "\n",
        "    #resizing the dataset to fit the Network architecture\n",
        "    if resize:\n",
        "        Convolutional_Transformer += [transforms.Resize(resize)]\n",
        "    Convolutional_Transformer += [transforms.ToTensor()]\n",
        "    Convolutional_Transformer = transforms.Compose(Convolutional_Transformer)\n",
        "\n",
        "    #Downloading the MNIST dataset\n",
        "    MNIST_traindata = torchvision.datasets.MNIST(root=final_root, train=True, transform=Convolutional_Transformer, download=True)\n",
        "    MNIST_testdata = torchvision.datasets.MNIST(root=final_root, train=False, transform=Convolutional_Transformer, download=True)\n",
        "\n",
        "    #loading the dataset and assign it to a variable\n",
        "    Load_MNIST_traindata =torch.utils.data.DataLoader(MNIST_traindata, batch_size, shuffle=True)\n",
        "    Load_MNIST_testdata =torch.utils.data.DataLoader(MNIST_testdata, batch_size, shuffle=False)\n",
        "    return Load_MNIST_traindata, Load_MNIST_testdata\n",
        "\n",
        "Convolutional_Transformer = transforms.Compose([transforms.Resize((32,32)), transforms.RandomHorizontalFlip(), transforms.ToTensor()])\n",
        "MNIST_testdata = torchvision.datasets.MNIST(root='Mnist', train=False, transform=Convolutional_Transformer, download=True)\n",
        "\n",
        "#load the function of the MNIST dataset to the train and test variable loader\n",
        "Traindata_Loader, Testdata_Loader = Load_mnist_data(batch_size=32, resize=96, root=os.path.join('MNIST_DATASET'))"
      ],
      "execution_count": 2,
      "outputs": [
        {
          "output_type": "stream",
          "text": [
            "Downloading http://yann.lecun.com/exdb/mnist/train-images-idx3-ubyte.gz\n",
            "Failed to download (trying next):\n",
            "HTTP Error 503: Service Unavailable\n",
            "\n",
            "Downloading https://ossci-datasets.s3.amazonaws.com/mnist/train-images-idx3-ubyte.gz\n",
            "Downloading https://ossci-datasets.s3.amazonaws.com/mnist/train-images-idx3-ubyte.gz to Mnist/MNIST/raw/train-images-idx3-ubyte.gz\n"
          ],
          "name": "stdout"
        },
        {
          "output_type": "display_data",
          "data": {
            "application/vnd.jupyter.widget-view+json": {
              "model_id": "e6a2c014c248499dbaaebf805d971077",
              "version_minor": 0,
              "version_major": 2
            },
            "text/plain": [
              "HBox(children=(FloatProgress(value=0.0, max=9912422.0), HTML(value='')))"
            ]
          },
          "metadata": {
            "tags": []
          }
        },
        {
          "output_type": "stream",
          "text": [
            "\n",
            "Extracting Mnist/MNIST/raw/train-images-idx3-ubyte.gz to Mnist/MNIST/raw\n",
            "\n",
            "Downloading http://yann.lecun.com/exdb/mnist/train-labels-idx1-ubyte.gz\n",
            "Failed to download (trying next):\n",
            "HTTP Error 503: Service Unavailable\n",
            "\n",
            "Downloading https://ossci-datasets.s3.amazonaws.com/mnist/train-labels-idx1-ubyte.gz\n",
            "Downloading https://ossci-datasets.s3.amazonaws.com/mnist/train-labels-idx1-ubyte.gz to Mnist/MNIST/raw/train-labels-idx1-ubyte.gz\n"
          ],
          "name": "stdout"
        },
        {
          "output_type": "display_data",
          "data": {
            "application/vnd.jupyter.widget-view+json": {
              "model_id": "3b9f63f060a14c6d8fea0efe13d5b03b",
              "version_minor": 0,
              "version_major": 2
            },
            "text/plain": [
              "HBox(children=(FloatProgress(value=0.0, max=28881.0), HTML(value='')))"
            ]
          },
          "metadata": {
            "tags": []
          }
        },
        {
          "output_type": "stream",
          "text": [
            "\n",
            "Extracting Mnist/MNIST/raw/train-labels-idx1-ubyte.gz to Mnist/MNIST/raw\n",
            "\n",
            "Downloading http://yann.lecun.com/exdb/mnist/t10k-images-idx3-ubyte.gz\n",
            "Failed to download (trying next):\n",
            "HTTP Error 503: Service Unavailable\n",
            "\n",
            "Downloading https://ossci-datasets.s3.amazonaws.com/mnist/t10k-images-idx3-ubyte.gz\n",
            "Downloading https://ossci-datasets.s3.amazonaws.com/mnist/t10k-images-idx3-ubyte.gz to Mnist/MNIST/raw/t10k-images-idx3-ubyte.gz\n"
          ],
          "name": "stdout"
        },
        {
          "output_type": "display_data",
          "data": {
            "application/vnd.jupyter.widget-view+json": {
              "model_id": "e424904bcd07469c90b248bebcfab3f6",
              "version_minor": 0,
              "version_major": 2
            },
            "text/plain": [
              "HBox(children=(FloatProgress(value=0.0, max=1648877.0), HTML(value='')))"
            ]
          },
          "metadata": {
            "tags": []
          }
        },
        {
          "output_type": "stream",
          "text": [
            "\n",
            "Extracting Mnist/MNIST/raw/t10k-images-idx3-ubyte.gz to Mnist/MNIST/raw\n",
            "\n",
            "Downloading http://yann.lecun.com/exdb/mnist/t10k-labels-idx1-ubyte.gz\n",
            "Failed to download (trying next):\n",
            "HTTP Error 503: Service Unavailable\n",
            "\n",
            "Downloading https://ossci-datasets.s3.amazonaws.com/mnist/t10k-labels-idx1-ubyte.gz\n",
            "Downloading https://ossci-datasets.s3.amazonaws.com/mnist/t10k-labels-idx1-ubyte.gz to Mnist/MNIST/raw/t10k-labels-idx1-ubyte.gz\n"
          ],
          "name": "stdout"
        },
        {
          "output_type": "display_data",
          "data": {
            "application/vnd.jupyter.widget-view+json": {
              "model_id": "f0ab0f252eed4135a060cf509c55363e",
              "version_minor": 0,
              "version_major": 2
            },
            "text/plain": [
              "HBox(children=(FloatProgress(value=0.0, max=4542.0), HTML(value='')))"
            ]
          },
          "metadata": {
            "tags": []
          }
        },
        {
          "output_type": "stream",
          "text": [
            "\n",
            "Extracting Mnist/MNIST/raw/t10k-labels-idx1-ubyte.gz to Mnist/MNIST/raw\n",
            "\n",
            "Processing...\n",
            "Done!\n",
            "Downloading http://yann.lecun.com/exdb/mnist/train-images-idx3-ubyte.gz\n"
          ],
          "name": "stdout"
        },
        {
          "output_type": "stream",
          "text": [
            "/usr/local/lib/python3.7/dist-packages/torchvision/datasets/mnist.py:502: UserWarning: The given NumPy array is not writeable, and PyTorch does not support non-writeable tensors. This means you can write to the underlying (supposedly non-writeable) NumPy array using the tensor. You may want to copy the array to protect its data or make it writeable before converting it to a tensor. This type of warning will be suppressed for the rest of this program. (Triggered internally at  /pytorch/torch/csrc/utils/tensor_numpy.cpp:143.)\n",
            "  return torch.from_numpy(parsed.astype(m[2], copy=False)).view(*s)\n"
          ],
          "name": "stderr"
        },
        {
          "output_type": "stream",
          "text": [
            "Failed to download (trying next):\n",
            "HTTP Error 503: Service Unavailable\n",
            "\n",
            "Downloading https://ossci-datasets.s3.amazonaws.com/mnist/train-images-idx3-ubyte.gz\n",
            "Downloading https://ossci-datasets.s3.amazonaws.com/mnist/train-images-idx3-ubyte.gz to MNIST_DATASET/MNIST/raw/train-images-idx3-ubyte.gz\n"
          ],
          "name": "stdout"
        },
        {
          "output_type": "display_data",
          "data": {
            "application/vnd.jupyter.widget-view+json": {
              "model_id": "7bbae8ecc7664fdaaf914247549c28d3",
              "version_minor": 0,
              "version_major": 2
            },
            "text/plain": [
              "HBox(children=(FloatProgress(value=0.0, max=9912422.0), HTML(value='')))"
            ]
          },
          "metadata": {
            "tags": []
          }
        },
        {
          "output_type": "stream",
          "text": [
            "\n",
            "Extracting MNIST_DATASET/MNIST/raw/train-images-idx3-ubyte.gz to MNIST_DATASET/MNIST/raw\n",
            "\n",
            "Downloading http://yann.lecun.com/exdb/mnist/train-labels-idx1-ubyte.gz\n",
            "Failed to download (trying next):\n",
            "HTTP Error 503: Service Unavailable\n",
            "\n",
            "Downloading https://ossci-datasets.s3.amazonaws.com/mnist/train-labels-idx1-ubyte.gz\n",
            "Downloading https://ossci-datasets.s3.amazonaws.com/mnist/train-labels-idx1-ubyte.gz to MNIST_DATASET/MNIST/raw/train-labels-idx1-ubyte.gz\n"
          ],
          "name": "stdout"
        },
        {
          "output_type": "display_data",
          "data": {
            "application/vnd.jupyter.widget-view+json": {
              "model_id": "948cee1c9b4c4949a93a861b385ec164",
              "version_minor": 0,
              "version_major": 2
            },
            "text/plain": [
              "HBox(children=(FloatProgress(value=0.0, max=28881.0), HTML(value='')))"
            ]
          },
          "metadata": {
            "tags": []
          }
        },
        {
          "output_type": "stream",
          "text": [
            "\n",
            "Extracting MNIST_DATASET/MNIST/raw/train-labels-idx1-ubyte.gz to MNIST_DATASET/MNIST/raw\n",
            "\n",
            "Downloading http://yann.lecun.com/exdb/mnist/t10k-images-idx3-ubyte.gz\n",
            "Failed to download (trying next):\n",
            "HTTP Error 503: Service Unavailable\n",
            "\n",
            "Downloading https://ossci-datasets.s3.amazonaws.com/mnist/t10k-images-idx3-ubyte.gz\n",
            "Downloading https://ossci-datasets.s3.amazonaws.com/mnist/t10k-images-idx3-ubyte.gz to MNIST_DATASET/MNIST/raw/t10k-images-idx3-ubyte.gz\n"
          ],
          "name": "stdout"
        },
        {
          "output_type": "display_data",
          "data": {
            "application/vnd.jupyter.widget-view+json": {
              "model_id": "5efd3a4827ef48c196617002bf8e5472",
              "version_minor": 0,
              "version_major": 2
            },
            "text/plain": [
              "HBox(children=(FloatProgress(value=0.0, max=1648877.0), HTML(value='')))"
            ]
          },
          "metadata": {
            "tags": []
          }
        },
        {
          "output_type": "stream",
          "text": [
            "\n",
            "Extracting MNIST_DATASET/MNIST/raw/t10k-images-idx3-ubyte.gz to MNIST_DATASET/MNIST/raw\n",
            "\n",
            "Downloading http://yann.lecun.com/exdb/mnist/t10k-labels-idx1-ubyte.gz\n",
            "Failed to download (trying next):\n",
            "HTTP Error 503: Service Unavailable\n",
            "\n",
            "Downloading https://ossci-datasets.s3.amazonaws.com/mnist/t10k-labels-idx1-ubyte.gz\n",
            "Downloading https://ossci-datasets.s3.amazonaws.com/mnist/t10k-labels-idx1-ubyte.gz to MNIST_DATASET/MNIST/raw/t10k-labels-idx1-ubyte.gz\n"
          ],
          "name": "stdout"
        },
        {
          "output_type": "display_data",
          "data": {
            "application/vnd.jupyter.widget-view+json": {
              "model_id": "a900a4a0e65d4328a2b76578d78e8c2f",
              "version_minor": 0,
              "version_major": 2
            },
            "text/plain": [
              "HBox(children=(FloatProgress(value=0.0, max=4542.0), HTML(value='')))"
            ]
          },
          "metadata": {
            "tags": []
          }
        },
        {
          "output_type": "stream",
          "text": [
            "\n",
            "Extracting MNIST_DATASET/MNIST/raw/t10k-labels-idx1-ubyte.gz to MNIST_DATASET/MNIST/raw\n",
            "\n",
            "Processing...\n",
            "Done!\n"
          ],
          "name": "stdout"
        }
      ]
    },
    {
      "cell_type": "markdown",
      "metadata": {
        "id": "DX8TGb_XJxJ5"
      },
      "source": [
        "##**Developing MobileNet Architecture**"
      ]
    },
    {
      "cell_type": "code",
      "metadata": {
        "id": "ROpbL15lvYJQ",
        "colab": {
          "base_uri": "https://localhost:8080/"
        },
        "outputId": "6b92d401-91c2-4a9d-9350-b133fee19c24"
      },
      "source": [
        "#########################################################MOBILENET ARCHITECTURE####################################################################\n",
        "#creating a convolutional network to parse with network-1 of the mobilenet\n",
        "class Deep_convolutional_net(torch.nn.Module):\n",
        "    def __init__(self, filter_in, kernel_size, padding, bias=True, stride=1):\n",
        "        super(Deep_convolutional_net, self).__init__()\n",
        "        self.deep_network = torch.nn.Conv2d(filter_in, filter_in, kernel_size=kernel_size, stride=stride, padding=padding, groups=filter_in, bias=bias)\n",
        "    def forward(self, out):\n",
        "        final_out = self.deep_network(out)\n",
        "        return final_out\n",
        "\n",
        "#first mobilenet Network is created and parsed with precreated convolutional network\n",
        "class Deep_conv_stage1(torch.nn.Module):\n",
        "    def __init__(self, filter_in, kernel_size, padding, bias=True, stride=1):\n",
        "        super(Deep_conv_stage1, self).__init__()\n",
        "        self.stage1 = torch.nn.Sequential(Deep_convolutional_net(filter_in, kernel_size, padding, stride, bias), torch.nn.BatchNorm2d(filter_in), torch.nn.ReLU())\n",
        "    def forward(self, out):\n",
        "        final_out = self.stage1(out)\n",
        "        return final_out\n",
        "\n",
        "#second mobilenet Network is created and initialised\n",
        "class Deep_conv_stage2(torch.nn.Module):\n",
        "    def __init__(self, filter_in, filter_out, kernel_size, padding, bias=True, stride=1):\n",
        "        super(Deep_conv_stage2, self).__init__()\n",
        "        self.stage2 = torch.nn.Sequential(nn.Conv2d(filter_in, filter_out, kernel_size, stride, padding, bias=bias), torch.nn.BatchNorm2d(filter_out), torch.nn.ReLU())\n",
        "    def forward(self, out):\n",
        "        final_out = self.stage2(out)\n",
        "        return final_out\n",
        "\n",
        "#MobileNet network is formed according to the architecture\n",
        "class MobileNet(torch.nn.Module):\n",
        "    def __init__(self, Channel_In, Channel_Out):\n",
        "        super(MobileNet, self).__init__()\n",
        "        self.MobileNet_convolutional_layer1 = torch.nn.Sequential(nn.Conv2d(Channel_In, 32, kernel_size=3, stride=2, padding=1, bias=False),\n",
        "                                                                  torch.nn.BatchNorm2d(32),\n",
        "                                                                  torch.nn.ReLU(),\n",
        "                                                                  Deep_conv_stage1(32, kernel_size=3, stride=2, padding=1),\n",
        "                                                                  Deep_conv_stage2(32, 64, kernel_size=3, stride=2, padding=1),\n",
        "                                                                  Deep_conv_stage1(64, kernel_size=3, stride=2, padding=1),\n",
        "                                                                  Deep_conv_stage2(64, 128, kernel_size=3, stride=2, padding=1),\n",
        "                                                                  Deep_conv_stage1(128, kernel_size=3, stride=2, padding=1),\n",
        "                                                                  Deep_conv_stage2(128, 128, kernel_size=3, stride=2, padding=1),\n",
        "                                                                  Deep_conv_stage1(128, kernel_size=3, stride=2, padding=1),\n",
        "                                                                  Deep_conv_stage2(128, 256, kernel_size=3, stride=2, padding=1),  \n",
        "                                                                  Deep_conv_stage1(256, kernel_size=3, stride=2, padding=1),\n",
        "                                                                  Deep_conv_stage2(256, 256, kernel_size=3, stride=2, padding=1),\n",
        "                                                                  Deep_conv_stage1(256, kernel_size=3, stride=2, padding=1),\n",
        "                                                                  Deep_conv_stage2(256, 512, kernel_size=3, stride=2, padding=1),\n",
        "                                                                  Deep_conv_stage1(512, kernel_size=3, stride=2, padding=1),\n",
        "                                                                  Deep_conv_stage2(512, 512, kernel_size=3, stride=2, padding=1),\n",
        "                                                                  Deep_conv_stage1(512, kernel_size=3, stride=2, padding=1),\n",
        "                                                                  Deep_conv_stage2(512, 512, kernel_size=3, stride=2, padding=1),\n",
        "                                                                  Deep_conv_stage1(512, kernel_size=3, stride=2, padding=1),\n",
        "                                                                  Deep_conv_stage2(512, 512, kernel_size=3, stride=2, padding=1),\n",
        "                                                                  Deep_conv_stage1(512, kernel_size=3, stride=2, padding=1),\n",
        "                                                                  Deep_conv_stage2(512, 512, kernel_size=3, stride=2, padding=1),\n",
        "                                                                  Deep_conv_stage1(512, kernel_size=3, stride=2, padding=1),\n",
        "                                                                  Deep_conv_stage2(512, 512, kernel_size=3, stride=2, padding=1),\n",
        "                                                                  Deep_conv_stage1(512, kernel_size=3, stride=2, padding=1),\n",
        "                                                                  Deep_conv_stage2(512, 1024, kernel_size=3, stride=2, padding=1),\n",
        "                                                                  Deep_conv_stage1(1024, kernel_size=3, stride=2, padding=1),\n",
        "                                                                  Deep_conv_stage2(1024, 1024, kernel_size=3, stride=2, padding=1))      \n",
        "        self.MobileNet_convolutional_layer2 = torch.nn.Linear(1024, Channel_Out)\n",
        "        \n",
        "    def forward(self, out):\n",
        "        out1 = self.MobileNet_convolutional_layer1(out)\n",
        "        out2 = torch.nn.functional.adaptive_avg_pool2d(out1, (1, 1))\n",
        "        out3 = out2.view(out2.size(0), -1)\n",
        "        final_out = self.MobileNet_convolutional_layer2(out3)\n",
        "        return final_out\n",
        "\n",
        "#Updating the weights of the network\n",
        "Network_arch = MobileNet(1,10)\n",
        "#Initialize the Weights and display the Network architecture\n",
        "def Initialise_weights(layer_weight):\n",
        "    if type(layer_weight) == torch.nn.Conv2d:\n",
        "        torch.nn.init.xavier_uniform_(layer_weight.weight)\n",
        "Network_arch.apply(Initialise_weights)"
      ],
      "execution_count": 3,
      "outputs": [
        {
          "output_type": "execute_result",
          "data": {
            "text/plain": [
              "MobileNet(\n",
              "  (MobileNet_convolutional_layer1): Sequential(\n",
              "    (0): Conv2d(1, 32, kernel_size=(3, 3), stride=(2, 2), padding=(1, 1), bias=False)\n",
              "    (1): BatchNorm2d(32, eps=1e-05, momentum=0.1, affine=True, track_running_stats=True)\n",
              "    (2): ReLU()\n",
              "    (3): Deep_conv_stage1(\n",
              "      (stage1): Sequential(\n",
              "        (0): Deep_convolutional_net(\n",
              "          (deep_network): Conv2d(32, 32, kernel_size=(3, 3), stride=(True, True), padding=(1, 1), groups=32)\n",
              "        )\n",
              "        (1): BatchNorm2d(32, eps=1e-05, momentum=0.1, affine=True, track_running_stats=True)\n",
              "        (2): ReLU()\n",
              "      )\n",
              "    )\n",
              "    (4): Deep_conv_stage2(\n",
              "      (stage2): Sequential(\n",
              "        (0): Conv2d(32, 64, kernel_size=(3, 3), stride=(2, 2), padding=(1, 1))\n",
              "        (1): BatchNorm2d(64, eps=1e-05, momentum=0.1, affine=True, track_running_stats=True)\n",
              "        (2): ReLU()\n",
              "      )\n",
              "    )\n",
              "    (5): Deep_conv_stage1(\n",
              "      (stage1): Sequential(\n",
              "        (0): Deep_convolutional_net(\n",
              "          (deep_network): Conv2d(64, 64, kernel_size=(3, 3), stride=(True, True), padding=(1, 1), groups=64)\n",
              "        )\n",
              "        (1): BatchNorm2d(64, eps=1e-05, momentum=0.1, affine=True, track_running_stats=True)\n",
              "        (2): ReLU()\n",
              "      )\n",
              "    )\n",
              "    (6): Deep_conv_stage2(\n",
              "      (stage2): Sequential(\n",
              "        (0): Conv2d(64, 128, kernel_size=(3, 3), stride=(2, 2), padding=(1, 1))\n",
              "        (1): BatchNorm2d(128, eps=1e-05, momentum=0.1, affine=True, track_running_stats=True)\n",
              "        (2): ReLU()\n",
              "      )\n",
              "    )\n",
              "    (7): Deep_conv_stage1(\n",
              "      (stage1): Sequential(\n",
              "        (0): Deep_convolutional_net(\n",
              "          (deep_network): Conv2d(128, 128, kernel_size=(3, 3), stride=(True, True), padding=(1, 1), groups=128)\n",
              "        )\n",
              "        (1): BatchNorm2d(128, eps=1e-05, momentum=0.1, affine=True, track_running_stats=True)\n",
              "        (2): ReLU()\n",
              "      )\n",
              "    )\n",
              "    (8): Deep_conv_stage2(\n",
              "      (stage2): Sequential(\n",
              "        (0): Conv2d(128, 128, kernel_size=(3, 3), stride=(2, 2), padding=(1, 1))\n",
              "        (1): BatchNorm2d(128, eps=1e-05, momentum=0.1, affine=True, track_running_stats=True)\n",
              "        (2): ReLU()\n",
              "      )\n",
              "    )\n",
              "    (9): Deep_conv_stage1(\n",
              "      (stage1): Sequential(\n",
              "        (0): Deep_convolutional_net(\n",
              "          (deep_network): Conv2d(128, 128, kernel_size=(3, 3), stride=(True, True), padding=(1, 1), groups=128)\n",
              "        )\n",
              "        (1): BatchNorm2d(128, eps=1e-05, momentum=0.1, affine=True, track_running_stats=True)\n",
              "        (2): ReLU()\n",
              "      )\n",
              "    )\n",
              "    (10): Deep_conv_stage2(\n",
              "      (stage2): Sequential(\n",
              "        (0): Conv2d(128, 256, kernel_size=(3, 3), stride=(2, 2), padding=(1, 1))\n",
              "        (1): BatchNorm2d(256, eps=1e-05, momentum=0.1, affine=True, track_running_stats=True)\n",
              "        (2): ReLU()\n",
              "      )\n",
              "    )\n",
              "    (11): Deep_conv_stage1(\n",
              "      (stage1): Sequential(\n",
              "        (0): Deep_convolutional_net(\n",
              "          (deep_network): Conv2d(256, 256, kernel_size=(3, 3), stride=(True, True), padding=(1, 1), groups=256)\n",
              "        )\n",
              "        (1): BatchNorm2d(256, eps=1e-05, momentum=0.1, affine=True, track_running_stats=True)\n",
              "        (2): ReLU()\n",
              "      )\n",
              "    )\n",
              "    (12): Deep_conv_stage2(\n",
              "      (stage2): Sequential(\n",
              "        (0): Conv2d(256, 256, kernel_size=(3, 3), stride=(2, 2), padding=(1, 1))\n",
              "        (1): BatchNorm2d(256, eps=1e-05, momentum=0.1, affine=True, track_running_stats=True)\n",
              "        (2): ReLU()\n",
              "      )\n",
              "    )\n",
              "    (13): Deep_conv_stage1(\n",
              "      (stage1): Sequential(\n",
              "        (0): Deep_convolutional_net(\n",
              "          (deep_network): Conv2d(256, 256, kernel_size=(3, 3), stride=(True, True), padding=(1, 1), groups=256)\n",
              "        )\n",
              "        (1): BatchNorm2d(256, eps=1e-05, momentum=0.1, affine=True, track_running_stats=True)\n",
              "        (2): ReLU()\n",
              "      )\n",
              "    )\n",
              "    (14): Deep_conv_stage2(\n",
              "      (stage2): Sequential(\n",
              "        (0): Conv2d(256, 512, kernel_size=(3, 3), stride=(2, 2), padding=(1, 1))\n",
              "        (1): BatchNorm2d(512, eps=1e-05, momentum=0.1, affine=True, track_running_stats=True)\n",
              "        (2): ReLU()\n",
              "      )\n",
              "    )\n",
              "    (15): Deep_conv_stage1(\n",
              "      (stage1): Sequential(\n",
              "        (0): Deep_convolutional_net(\n",
              "          (deep_network): Conv2d(512, 512, kernel_size=(3, 3), stride=(True, True), padding=(1, 1), groups=512)\n",
              "        )\n",
              "        (1): BatchNorm2d(512, eps=1e-05, momentum=0.1, affine=True, track_running_stats=True)\n",
              "        (2): ReLU()\n",
              "      )\n",
              "    )\n",
              "    (16): Deep_conv_stage2(\n",
              "      (stage2): Sequential(\n",
              "        (0): Conv2d(512, 512, kernel_size=(3, 3), stride=(2, 2), padding=(1, 1))\n",
              "        (1): BatchNorm2d(512, eps=1e-05, momentum=0.1, affine=True, track_running_stats=True)\n",
              "        (2): ReLU()\n",
              "      )\n",
              "    )\n",
              "    (17): Deep_conv_stage1(\n",
              "      (stage1): Sequential(\n",
              "        (0): Deep_convolutional_net(\n",
              "          (deep_network): Conv2d(512, 512, kernel_size=(3, 3), stride=(True, True), padding=(1, 1), groups=512)\n",
              "        )\n",
              "        (1): BatchNorm2d(512, eps=1e-05, momentum=0.1, affine=True, track_running_stats=True)\n",
              "        (2): ReLU()\n",
              "      )\n",
              "    )\n",
              "    (18): Deep_conv_stage2(\n",
              "      (stage2): Sequential(\n",
              "        (0): Conv2d(512, 512, kernel_size=(3, 3), stride=(2, 2), padding=(1, 1))\n",
              "        (1): BatchNorm2d(512, eps=1e-05, momentum=0.1, affine=True, track_running_stats=True)\n",
              "        (2): ReLU()\n",
              "      )\n",
              "    )\n",
              "    (19): Deep_conv_stage1(\n",
              "      (stage1): Sequential(\n",
              "        (0): Deep_convolutional_net(\n",
              "          (deep_network): Conv2d(512, 512, kernel_size=(3, 3), stride=(True, True), padding=(1, 1), groups=512)\n",
              "        )\n",
              "        (1): BatchNorm2d(512, eps=1e-05, momentum=0.1, affine=True, track_running_stats=True)\n",
              "        (2): ReLU()\n",
              "      )\n",
              "    )\n",
              "    (20): Deep_conv_stage2(\n",
              "      (stage2): Sequential(\n",
              "        (0): Conv2d(512, 512, kernel_size=(3, 3), stride=(2, 2), padding=(1, 1))\n",
              "        (1): BatchNorm2d(512, eps=1e-05, momentum=0.1, affine=True, track_running_stats=True)\n",
              "        (2): ReLU()\n",
              "      )\n",
              "    )\n",
              "    (21): Deep_conv_stage1(\n",
              "      (stage1): Sequential(\n",
              "        (0): Deep_convolutional_net(\n",
              "          (deep_network): Conv2d(512, 512, kernel_size=(3, 3), stride=(True, True), padding=(1, 1), groups=512)\n",
              "        )\n",
              "        (1): BatchNorm2d(512, eps=1e-05, momentum=0.1, affine=True, track_running_stats=True)\n",
              "        (2): ReLU()\n",
              "      )\n",
              "    )\n",
              "    (22): Deep_conv_stage2(\n",
              "      (stage2): Sequential(\n",
              "        (0): Conv2d(512, 512, kernel_size=(3, 3), stride=(2, 2), padding=(1, 1))\n",
              "        (1): BatchNorm2d(512, eps=1e-05, momentum=0.1, affine=True, track_running_stats=True)\n",
              "        (2): ReLU()\n",
              "      )\n",
              "    )\n",
              "    (23): Deep_conv_stage1(\n",
              "      (stage1): Sequential(\n",
              "        (0): Deep_convolutional_net(\n",
              "          (deep_network): Conv2d(512, 512, kernel_size=(3, 3), stride=(True, True), padding=(1, 1), groups=512)\n",
              "        )\n",
              "        (1): BatchNorm2d(512, eps=1e-05, momentum=0.1, affine=True, track_running_stats=True)\n",
              "        (2): ReLU()\n",
              "      )\n",
              "    )\n",
              "    (24): Deep_conv_stage2(\n",
              "      (stage2): Sequential(\n",
              "        (0): Conv2d(512, 512, kernel_size=(3, 3), stride=(2, 2), padding=(1, 1))\n",
              "        (1): BatchNorm2d(512, eps=1e-05, momentum=0.1, affine=True, track_running_stats=True)\n",
              "        (2): ReLU()\n",
              "      )\n",
              "    )\n",
              "    (25): Deep_conv_stage1(\n",
              "      (stage1): Sequential(\n",
              "        (0): Deep_convolutional_net(\n",
              "          (deep_network): Conv2d(512, 512, kernel_size=(3, 3), stride=(True, True), padding=(1, 1), groups=512)\n",
              "        )\n",
              "        (1): BatchNorm2d(512, eps=1e-05, momentum=0.1, affine=True, track_running_stats=True)\n",
              "        (2): ReLU()\n",
              "      )\n",
              "    )\n",
              "    (26): Deep_conv_stage2(\n",
              "      (stage2): Sequential(\n",
              "        (0): Conv2d(512, 1024, kernel_size=(3, 3), stride=(2, 2), padding=(1, 1))\n",
              "        (1): BatchNorm2d(1024, eps=1e-05, momentum=0.1, affine=True, track_running_stats=True)\n",
              "        (2): ReLU()\n",
              "      )\n",
              "    )\n",
              "    (27): Deep_conv_stage1(\n",
              "      (stage1): Sequential(\n",
              "        (0): Deep_convolutional_net(\n",
              "          (deep_network): Conv2d(1024, 1024, kernel_size=(3, 3), stride=(True, True), padding=(1, 1), groups=1024)\n",
              "        )\n",
              "        (1): BatchNorm2d(1024, eps=1e-05, momentum=0.1, affine=True, track_running_stats=True)\n",
              "        (2): ReLU()\n",
              "      )\n",
              "    )\n",
              "    (28): Deep_conv_stage2(\n",
              "      (stage2): Sequential(\n",
              "        (0): Conv2d(1024, 1024, kernel_size=(3, 3), stride=(2, 2), padding=(1, 1))\n",
              "        (1): BatchNorm2d(1024, eps=1e-05, momentum=0.1, affine=True, track_running_stats=True)\n",
              "        (2): ReLU()\n",
              "      )\n",
              "    )\n",
              "  )\n",
              "  (MobileNet_convolutional_layer2): Linear(in_features=1024, out_features=10, bias=True)\n",
              ")"
            ]
          },
          "metadata": {
            "tags": []
          },
          "execution_count": 3
        }
      ]
    },
    {
      "cell_type": "markdown",
      "metadata": {
        "id": "tiQsVFWdK4TR"
      },
      "source": [
        "##**Plotting Architecture flow-diagram of our MobileNet Network**"
      ]
    },
    {
      "cell_type": "code",
      "metadata": {
        "colab": {
          "base_uri": "https://localhost:8080/",
          "height": 1000
        },
        "id": "5PZh2XhqEQ-4",
        "outputId": "a1cb4e4e-6383-4dc6-cbd5-ba1d8e94fa56"
      },
      "source": [
        "#Plotting the MobileNet Architecture flowchart which was developed above.\n",
        "Sample = torch.rand(32, 1, 3, 3)\n",
        "MobileNet_Architecture_plot = make_dot(Network_arch(Sample), params=dict(Network_arch.named_parameters()))\n",
        "#displaying the MobileNet flow diagram\n",
        "display(MobileNet_Architecture_plot)"
      ],
      "execution_count": 4,
      "outputs": [
        {
          "output_type": "display_data",
          "data": {
            "text/plain": [
              "<graphviz.dot.Digraph at 0x7f96934b1910>"
            ],
            "image/svg+xml": "<?xml version=\"1.0\" encoding=\"UTF-8\" standalone=\"no\"?>\n<!DOCTYPE svg PUBLIC \"-//W3C//DTD SVG 1.1//EN\"\n \"http://www.w3.org/Graphics/SVG/1.1/DTD/svg11.dtd\">\n<!-- Generated by graphviz version 2.40.1 (20161225.0304)\n -->\n<!-- Title: %3 Pages: 1 -->\n<svg width=\"6556pt\" height=\"2113pt\"\n viewBox=\"0.00 0.00 6556.00 2112.88\" xmlns=\"http://www.w3.org/2000/svg\" xmlns:xlink=\"http://www.w3.org/1999/xlink\">\n<g id=\"graph0\" class=\"graph\" transform=\"scale(.3924 .3924) rotate(0) translate(4 5381)\">\n<title>%3</title>\n<polygon fill=\"#ffffff\" stroke=\"transparent\" points=\"-4,4 -4,-5381 16705,-5381 16705,4 -4,4\"/>\n<!-- 140284650673408 -->\n<g id=\"node1\" class=\"node\">\n<title>140284650673408</title>\n<polygon fill=\"#caff70\" stroke=\"#000000\" points=\"16282,-31 16211,-31 16211,0 16282,0 16282,-31\"/>\n<text text-anchor=\"middle\" x=\"16246.5\" y=\"-7\" font-family=\"monospace\" font-size=\"10.00\" fill=\"#000000\"> (32, 10)</text>\n</g>\n<!-- 140284650485904 -->\n<g id=\"node2\" class=\"node\">\n<title>140284650485904</title>\n<polygon fill=\"#d3d3d3\" stroke=\"#000000\" points=\"16294,-86 16199,-86 16199,-67 16294,-67 16294,-86\"/>\n<text text-anchor=\"middle\" x=\"16246.5\" y=\"-74\" font-family=\"monospace\" font-size=\"10.00\" fill=\"#000000\">AddmmBackward</text>\n</g>\n<!-- 140284650485904&#45;&gt;140284650673408 -->\n<g id=\"edge303\" class=\"edge\">\n<title>140284650485904&#45;&gt;140284650673408</title>\n<path fill=\"none\" stroke=\"#000000\" d=\"M16246.5,-66.9688C16246.5,-60.1289 16246.5,-50.5621 16246.5,-41.5298\"/>\n<polygon fill=\"#000000\" stroke=\"#000000\" points=\"16250.0001,-41.3678 16246.5,-31.3678 16243.0001,-41.3678 16250.0001,-41.3678\"/>\n</g>\n<!-- 140284650485776 -->\n<g id=\"node3\" class=\"node\">\n<title>140284650485776</title>\n<polygon fill=\"#d3d3d3\" stroke=\"#000000\" points=\"16151,-141 16050,-141 16050,-122 16151,-122 16151,-141\"/>\n<text text-anchor=\"middle\" x=\"16100.5\" y=\"-129\" font-family=\"monospace\" font-size=\"10.00\" fill=\"#000000\">AccumulateGrad</text>\n</g>\n<!-- 140284650485776&#45;&gt;140284650485904 -->\n<g id=\"edge1\" class=\"edge\">\n<title>140284650485776&#45;&gt;140284650485904</title>\n<path fill=\"none\" stroke=\"#000000\" d=\"M16125.9313,-121.9197C16149.5481,-113.023 16184.93,-99.6942 16211.264,-89.7739\"/>\n<polygon fill=\"#000000\" stroke=\"#000000\" points=\"16212.7462,-92.9557 16220.8703,-86.155 16210.2784,-86.4051 16212.7462,-92.9557\"/>\n</g>\n<!-- 140284649730848 -->\n<g id=\"node4\" class=\"node\">\n<title>140284649730848</title>\n<polygon fill=\"#add8e6\" stroke=\"#000000\" points=\"16181,-207 15954,-207 15954,-177 16181,-177 16181,-207\"/>\n<text text-anchor=\"middle\" x=\"16067.5\" y=\"-195\" font-family=\"monospace\" font-size=\"10.00\" fill=\"#000000\">MobileNet_convolutional_layer2.bias</text>\n<text text-anchor=\"middle\" x=\"16067.5\" y=\"-184\" font-family=\"monospace\" font-size=\"10.00\" fill=\"#000000\"> (10)</text>\n</g>\n<!-- 140284649730848&#45;&gt;140284650485776 -->\n<g id=\"edge2\" class=\"edge\">\n<title>140284649730848&#45;&gt;140284650485776</title>\n<path fill=\"none\" stroke=\"#000000\" d=\"M16075.8273,-176.7333C16080.2666,-168.5946 16085.7618,-158.52 16090.4386,-149.946\"/>\n<polygon fill=\"#000000\" stroke=\"#000000\" points=\"16093.5551,-151.5414 16095.2711,-141.0864 16087.4098,-148.1894 16093.5551,-151.5414\"/>\n</g>\n<!-- 140284650484496 -->\n<g id=\"node5\" class=\"node\">\n<title>140284650484496</title>\n<polygon fill=\"#d3d3d3\" stroke=\"#000000\" points=\"16291,-141 16202,-141 16202,-122 16291,-122 16291,-141\"/>\n<text text-anchor=\"middle\" x=\"16246.5\" y=\"-129\" font-family=\"monospace\" font-size=\"10.00\" fill=\"#000000\">ViewBackward</text>\n</g>\n<!-- 140284650484496&#45;&gt;140284650485904 -->\n<g id=\"edge3\" class=\"edge\">\n<title>140284650484496&#45;&gt;140284650485904</title>\n<path fill=\"none\" stroke=\"#000000\" d=\"M16246.5,-121.9197C16246.5,-114.9083 16246.5,-105.1442 16246.5,-96.4652\"/>\n<polygon fill=\"#000000\" stroke=\"#000000\" points=\"16250.0001,-96.3408 16246.5,-86.3408 16243.0001,-96.3409 16250.0001,-96.3408\"/>\n</g>\n<!-- 140284655335376 -->\n<g id=\"node6\" class=\"node\">\n<title>140284655335376</title>\n<polygon fill=\"#d3d3d3\" stroke=\"#000000\" points=\"16294,-201.5 16199,-201.5 16199,-182.5 16294,-182.5 16294,-201.5\"/>\n<text text-anchor=\"middle\" x=\"16246.5\" y=\"-189.5\" font-family=\"monospace\" font-size=\"10.00\" fill=\"#000000\">MeanBackward1</text>\n</g>\n<!-- 140284655335376&#45;&gt;140284650484496 -->\n<g id=\"edge4\" class=\"edge\">\n<title>140284655335376&#45;&gt;140284650484496</title>\n<path fill=\"none\" stroke=\"#000000\" d=\"M16246.5,-182.2796C16246.5,-174.0376 16246.5,-161.9457 16246.5,-151.629\"/>\n<polygon fill=\"#000000\" stroke=\"#000000\" points=\"16250.0001,-151.3972 16246.5,-141.3972 16243.0001,-151.3973 16250.0001,-151.3972\"/>\n</g>\n<!-- 140284655335824 -->\n<g id=\"node7\" class=\"node\">\n<title>140284655335824</title>\n<polygon fill=\"#d3d3d3\" stroke=\"#000000\" points=\"16276,-267.5 16181,-267.5 16181,-248.5 16276,-248.5 16276,-267.5\"/>\n<text text-anchor=\"middle\" x=\"16228.5\" y=\"-255.5\" font-family=\"monospace\" font-size=\"10.00\" fill=\"#000000\">ReluBackward0</text>\n</g>\n<!-- 140284655335824&#45;&gt;140284655335376 -->\n<g id=\"edge5\" class=\"edge\">\n<title>140284655335824&#45;&gt;140284655335376</title>\n<path fill=\"none\" stroke=\"#000000\" d=\"M16231.156,-248.2615C16233.7881,-238.6102 16237.8933,-223.558 16241.1953,-211.4506\"/>\n<polygon fill=\"#000000\" stroke=\"#000000\" points=\"16244.5786,-212.3471 16243.8331,-201.7785 16237.8252,-210.5052 16244.5786,-212.3471\"/>\n</g>\n<!-- 140284655336208 -->\n<g id=\"node8\" class=\"node\">\n<title>140284655336208</title>\n<polygon fill=\"#d3d3d3\" stroke=\"#000000\" points=\"16306,-328 16151,-328 16151,-309 16306,-309 16306,-328\"/>\n<text text-anchor=\"middle\" x=\"16228.5\" y=\"-316\" font-family=\"monospace\" font-size=\"10.00\" fill=\"#000000\">NativeBatchNormBackward</text>\n</g>\n<!-- 140284655336208&#45;&gt;140284655335824 -->\n<g id=\"edge6\" class=\"edge\">\n<title>140284655336208&#45;&gt;140284655335824</title>\n<path fill=\"none\" stroke=\"#000000\" d=\"M16228.5,-308.7796C16228.5,-300.5376 16228.5,-288.4457 16228.5,-278.129\"/>\n<polygon fill=\"#000000\" stroke=\"#000000\" points=\"16232.0001,-277.8972 16228.5,-267.8972 16225.0001,-277.8973 16232.0001,-277.8972\"/>\n</g>\n<!-- 140284655336720 -->\n<g id=\"node9\" class=\"node\">\n<title>140284655336720</title>\n<polygon fill=\"#d3d3d3\" stroke=\"#000000\" points=\"16029,-383 15862,-383 15862,-364 16029,-364 16029,-383\"/>\n<text text-anchor=\"middle\" x=\"15945.5\" y=\"-371\" font-family=\"monospace\" font-size=\"10.00\" fill=\"#000000\">MkldnnConvolutionBackward</text>\n</g>\n<!-- 140284655336720&#45;&gt;140284655336208 -->\n<g id=\"edge7\" class=\"edge\">\n<title>140284655336720&#45;&gt;140284655336208</title>\n<path fill=\"none\" stroke=\"#000000\" d=\"M15994.4718,-363.9825C16042.9699,-354.5571 16117.2919,-340.1129 16169.1265,-330.039\"/>\n<polygon fill=\"#000000\" stroke=\"#000000\" points=\"16170.0307,-333.4289 16179.1793,-328.0853 16168.6952,-326.5574 16170.0307,-333.4289\"/>\n</g>\n<!-- 140284655333712 -->\n<g id=\"node10\" class=\"node\">\n<title>140284655333712</title>\n<polygon fill=\"#d3d3d3\" stroke=\"#000000\" points=\"15749,-443.5 15654,-443.5 15654,-424.5 15749,-424.5 15749,-443.5\"/>\n<text text-anchor=\"middle\" x=\"15701.5\" y=\"-431.5\" font-family=\"monospace\" font-size=\"10.00\" fill=\"#000000\">ReluBackward0</text>\n</g>\n<!-- 140284655333712&#45;&gt;140284655336720 -->\n<g id=\"edge8\" class=\"edge\">\n<title>140284655333712&#45;&gt;140284655336720</title>\n<path fill=\"none\" stroke=\"#000000\" d=\"M15739.8934,-424.4803C15782.4044,-413.9397 15851.0109,-396.9287 15897.1529,-385.4877\"/>\n<polygon fill=\"#000000\" stroke=\"#000000\" points=\"15898.0642,-388.8678 15906.928,-383.064 15896.3795,-382.0735 15898.0642,-388.8678\"/>\n</g>\n<!-- 140284655335248 -->\n<g id=\"node11\" class=\"node\">\n<title>140284655335248</title>\n<polygon fill=\"#d3d3d3\" stroke=\"#000000\" points=\"15712,-509.5 15557,-509.5 15557,-490.5 15712,-490.5 15712,-509.5\"/>\n<text text-anchor=\"middle\" x=\"15634.5\" y=\"-497.5\" font-family=\"monospace\" font-size=\"10.00\" fill=\"#000000\">NativeBatchNormBackward</text>\n</g>\n<!-- 140284655335248&#45;&gt;140284655333712 -->\n<g id=\"edge9\" class=\"edge\">\n<title>140284655335248&#45;&gt;140284655333712</title>\n<path fill=\"none\" stroke=\"#000000\" d=\"M15644.3861,-490.2615C15654.8763,-479.9278 15671.6521,-463.4024 15684.3141,-450.9294\"/>\n<polygon fill=\"#000000\" stroke=\"#000000\" points=\"15686.9055,-453.2896 15691.5734,-443.7785 15681.9931,-448.3028 15686.9055,-453.2896\"/>\n</g>\n<!-- 140284649752336 -->\n<g id=\"node12\" class=\"node\">\n<title>140284649752336</title>\n<polygon fill=\"#d3d3d3\" stroke=\"#000000\" points=\"15434,-570 15267,-570 15267,-551 15434,-551 15434,-570\"/>\n<text text-anchor=\"middle\" x=\"15350.5\" y=\"-558\" font-family=\"monospace\" font-size=\"10.00\" fill=\"#000000\">MkldnnConvolutionBackward</text>\n</g>\n<!-- 140284649752336&#45;&gt;140284655335248 -->\n<g id=\"edge10\" class=\"edge\">\n<title>140284649752336&#45;&gt;140284655335248</title>\n<path fill=\"none\" stroke=\"#000000\" d=\"M15395.1874,-550.9803C15445.0823,-540.3513 15525.8623,-523.1429 15579.5727,-511.7011\"/>\n<polygon fill=\"#000000\" stroke=\"#000000\" points=\"15580.5534,-515.0708 15589.6047,-509.564 15579.0949,-508.2244 15580.5534,-515.0708\"/>\n</g>\n<!-- 140284649752080 -->\n<g id=\"node13\" class=\"node\">\n<title>140284649752080</title>\n<polygon fill=\"#d3d3d3\" stroke=\"#000000\" points=\"15136,-630.5 15041,-630.5 15041,-611.5 15136,-611.5 15136,-630.5\"/>\n<text text-anchor=\"middle\" x=\"15088.5\" y=\"-618.5\" font-family=\"monospace\" font-size=\"10.00\" fill=\"#000000\">ReluBackward0</text>\n</g>\n<!-- 140284649752080&#45;&gt;140284649752336 -->\n<g id=\"edge11\" class=\"edge\">\n<title>140284649752080&#45;&gt;140284649752336</title>\n<path fill=\"none\" stroke=\"#000000\" d=\"M15129.7257,-611.4803C15175.5642,-600.8955 15249.6586,-583.7859 15299.2083,-572.3441\"/>\n<polygon fill=\"#000000\" stroke=\"#000000\" points=\"15300.1264,-575.7243 15309.0825,-570.064 15298.5514,-568.9037 15300.1264,-575.7243\"/>\n</g>\n<!-- 140284649752784 -->\n<g id=\"node14\" class=\"node\">\n<title>140284649752784</title>\n<polygon fill=\"#d3d3d3\" stroke=\"#000000\" points=\"15079,-696.5 14924,-696.5 14924,-677.5 15079,-677.5 15079,-696.5\"/>\n<text text-anchor=\"middle\" x=\"15001.5\" y=\"-684.5\" font-family=\"monospace\" font-size=\"10.00\" fill=\"#000000\">NativeBatchNormBackward</text>\n</g>\n<!-- 140284649752784&#45;&gt;140284649752080 -->\n<g id=\"edge12\" class=\"edge\">\n<title>140284649752784&#45;&gt;140284649752080</title>\n<path fill=\"none\" stroke=\"#000000\" d=\"M15014.3371,-677.2615C15028.4248,-666.5743 15051.2423,-649.2644 15067.8521,-636.6639\"/>\n<polygon fill=\"#000000\" stroke=\"#000000\" points=\"15070.0415,-639.3962 15075.893,-630.5639 15065.8107,-633.8194 15070.0415,-639.3962\"/>\n</g>\n<!-- 140284649752976 -->\n<g id=\"node15\" class=\"node\">\n<title>140284649752976</title>\n<polygon fill=\"#d3d3d3\" stroke=\"#000000\" points=\"14802,-757 14635,-757 14635,-738 14802,-738 14802,-757\"/>\n<text text-anchor=\"middle\" x=\"14718.5\" y=\"-745\" font-family=\"monospace\" font-size=\"10.00\" fill=\"#000000\">MkldnnConvolutionBackward</text>\n</g>\n<!-- 140284649752976&#45;&gt;140284649752784 -->\n<g id=\"edge13\" class=\"edge\">\n<title>140284649752976&#45;&gt;140284649752784</title>\n<path fill=\"none\" stroke=\"#000000\" d=\"M14763.0301,-737.9803C14812.7493,-727.3513 14893.2448,-710.1429 14946.7661,-698.7011\"/>\n<polygon fill=\"#000000\" stroke=\"#000000\" points=\"14947.7154,-702.0773 14956.7628,-696.564 14946.252,-695.232 14947.7154,-702.0773\"/>\n</g>\n<!-- 140284649752912 -->\n<g id=\"node16\" class=\"node\">\n<title>140284649752912</title>\n<polygon fill=\"#d3d3d3\" stroke=\"#000000\" points=\"14523,-817.5 14428,-817.5 14428,-798.5 14523,-798.5 14523,-817.5\"/>\n<text text-anchor=\"middle\" x=\"14475.5\" y=\"-805.5\" font-family=\"monospace\" font-size=\"10.00\" fill=\"#000000\">ReluBackward0</text>\n</g>\n<!-- 140284649752912&#45;&gt;140284649752976 -->\n<g id=\"edge14\" class=\"edge\">\n<title>140284649752912&#45;&gt;140284649752976</title>\n<path fill=\"none\" stroke=\"#000000\" d=\"M14513.7361,-798.4803C14556.0728,-787.9397 14624.3981,-770.9287 14670.3511,-759.4877\"/>\n<polygon fill=\"#000000\" stroke=\"#000000\" points=\"14671.2279,-762.8763 14680.086,-757.064 14669.5367,-756.0837 14671.2279,-762.8763\"/>\n</g>\n<!-- 140284649753360 -->\n<g id=\"node17\" class=\"node\">\n<title>140284649753360</title>\n<polygon fill=\"#d3d3d3\" stroke=\"#000000\" points=\"14485,-883.5 14330,-883.5 14330,-864.5 14485,-864.5 14485,-883.5\"/>\n<text text-anchor=\"middle\" x=\"14407.5\" y=\"-871.5\" font-family=\"monospace\" font-size=\"10.00\" fill=\"#000000\">NativeBatchNormBackward</text>\n</g>\n<!-- 140284649753360&#45;&gt;140284649752912 -->\n<g id=\"edge15\" class=\"edge\">\n<title>140284649753360&#45;&gt;140284649752912</title>\n<path fill=\"none\" stroke=\"#000000\" d=\"M14417.5336,-864.2615C14428.1804,-853.9278 14445.2066,-837.4024 14458.0576,-824.9294\"/>\n<polygon fill=\"#000000\" stroke=\"#000000\" points=\"14460.687,-827.2548 14465.4252,-817.7785 14455.8117,-822.2317 14460.687,-827.2548\"/>\n</g>\n<!-- 140284649753552 -->\n<g id=\"node18\" class=\"node\">\n<title>140284649753552</title>\n<polygon fill=\"#d3d3d3\" stroke=\"#000000\" points=\"14208,-944 14041,-944 14041,-925 14208,-925 14208,-944\"/>\n<text text-anchor=\"middle\" x=\"14124.5\" y=\"-932\" font-family=\"monospace\" font-size=\"10.00\" fill=\"#000000\">MkldnnConvolutionBackward</text>\n</g>\n<!-- 140284649753552&#45;&gt;140284649753360 -->\n<g id=\"edge16\" class=\"edge\">\n<title>140284649753552&#45;&gt;140284649753360</title>\n<path fill=\"none\" stroke=\"#000000\" d=\"M14169.0301,-924.9803C14218.7493,-914.3513 14299.2448,-897.1429 14352.7661,-885.7011\"/>\n<polygon fill=\"#000000\" stroke=\"#000000\" points=\"14353.7154,-889.0773 14362.7628,-883.564 14352.252,-882.232 14353.7154,-889.0773\"/>\n</g>\n<!-- 140284649753808 -->\n<g id=\"node19\" class=\"node\">\n<title>140284649753808</title>\n<polygon fill=\"#d3d3d3\" stroke=\"#000000\" points=\"13909,-1004.5 13814,-1004.5 13814,-985.5 13909,-985.5 13909,-1004.5\"/>\n<text text-anchor=\"middle\" x=\"13861.5\" y=\"-992.5\" font-family=\"monospace\" font-size=\"10.00\" fill=\"#000000\">ReluBackward0</text>\n</g>\n<!-- 140284649753808&#45;&gt;140284649753552 -->\n<g id=\"edge17\" class=\"edge\">\n<title>140284649753808&#45;&gt;140284649753552</title>\n<path fill=\"none\" stroke=\"#000000\" d=\"M13902.8831,-985.4803C13948.8965,-974.8955 14023.2737,-957.7859 14073.0125,-946.3441\"/>\n<polygon fill=\"#000000\" stroke=\"#000000\" points=\"14073.9636,-949.7168 14082.9244,-944.064 14072.3943,-942.895 14073.9636,-949.7168\"/>\n</g>\n<!-- 140284649754000 -->\n<g id=\"node20\" class=\"node\">\n<title>140284649754000</title>\n<polygon fill=\"#d3d3d3\" stroke=\"#000000\" points=\"13852,-1070.5 13697,-1070.5 13697,-1051.5 13852,-1051.5 13852,-1070.5\"/>\n<text text-anchor=\"middle\" x=\"13774.5\" y=\"-1058.5\" font-family=\"monospace\" font-size=\"10.00\" fill=\"#000000\">NativeBatchNormBackward</text>\n</g>\n<!-- 140284649754000&#45;&gt;140284649753808 -->\n<g id=\"edge18\" class=\"edge\">\n<title>140284649754000&#45;&gt;140284649753808</title>\n<path fill=\"none\" stroke=\"#000000\" d=\"M13787.3371,-1051.2615C13801.4248,-1040.5743 13824.2423,-1023.2644 13840.8521,-1010.6639\"/>\n<polygon fill=\"#000000\" stroke=\"#000000\" points=\"13843.0415,-1013.3962 13848.893,-1004.5639 13838.8107,-1007.8194 13843.0415,-1013.3962\"/>\n</g>\n<!-- 140284649754192 -->\n<g id=\"node21\" class=\"node\">\n<title>140284649754192</title>\n<polygon fill=\"#d3d3d3\" stroke=\"#000000\" points=\"13575,-1131 13408,-1131 13408,-1112 13575,-1112 13575,-1131\"/>\n<text text-anchor=\"middle\" x=\"13491.5\" y=\"-1119\" font-family=\"monospace\" font-size=\"10.00\" fill=\"#000000\">MkldnnConvolutionBackward</text>\n</g>\n<!-- 140284649754192&#45;&gt;140284649754000 -->\n<g id=\"edge19\" class=\"edge\">\n<title>140284649754192&#45;&gt;140284649754000</title>\n<path fill=\"none\" stroke=\"#000000\" d=\"M13536.0301,-1111.9803C13585.7493,-1101.3513 13666.2448,-1084.1429 13719.7661,-1072.7011\"/>\n<polygon fill=\"#000000\" stroke=\"#000000\" points=\"13720.7154,-1076.0773 13729.7628,-1070.564 13719.252,-1069.232 13720.7154,-1076.0773\"/>\n</g>\n<!-- 140284649754384 -->\n<g id=\"node22\" class=\"node\">\n<title>140284649754384</title>\n<polygon fill=\"#d3d3d3\" stroke=\"#000000\" points=\"13296,-1191.5 13201,-1191.5 13201,-1172.5 13296,-1172.5 13296,-1191.5\"/>\n<text text-anchor=\"middle\" x=\"13248.5\" y=\"-1179.5\" font-family=\"monospace\" font-size=\"10.00\" fill=\"#000000\">ReluBackward0</text>\n</g>\n<!-- 140284649754384&#45;&gt;140284649754192 -->\n<g id=\"edge20\" class=\"edge\">\n<title>140284649754384&#45;&gt;140284649754192</title>\n<path fill=\"none\" stroke=\"#000000\" d=\"M13286.7361,-1172.4803C13329.0728,-1161.9397 13397.3981,-1144.9287 13443.3511,-1133.4877\"/>\n<polygon fill=\"#000000\" stroke=\"#000000\" points=\"13444.2279,-1136.8763 13453.086,-1131.064 13442.5367,-1130.0837 13444.2279,-1136.8763\"/>\n</g>\n<!-- 140284649752400 -->\n<g id=\"node23\" class=\"node\">\n<title>140284649752400</title>\n<polygon fill=\"#d3d3d3\" stroke=\"#000000\" points=\"13258,-1257.5 13103,-1257.5 13103,-1238.5 13258,-1238.5 13258,-1257.5\"/>\n<text text-anchor=\"middle\" x=\"13180.5\" y=\"-1245.5\" font-family=\"monospace\" font-size=\"10.00\" fill=\"#000000\">NativeBatchNormBackward</text>\n</g>\n<!-- 140284649752400&#45;&gt;140284649754384 -->\n<g id=\"edge21\" class=\"edge\">\n<title>140284649752400&#45;&gt;140284649754384</title>\n<path fill=\"none\" stroke=\"#000000\" d=\"M13190.5336,-1238.2615C13201.1804,-1227.9278 13218.2066,-1211.4024 13231.0576,-1198.9294\"/>\n<polygon fill=\"#000000\" stroke=\"#000000\" points=\"13233.687,-1201.2548 13238.4252,-1191.7785 13228.8117,-1196.2317 13233.687,-1201.2548\"/>\n</g>\n<!-- 140284650238288 -->\n<g id=\"node24\" class=\"node\">\n<title>140284650238288</title>\n<polygon fill=\"#d3d3d3\" stroke=\"#000000\" points=\"12981,-1318 12814,-1318 12814,-1299 12981,-1299 12981,-1318\"/>\n<text text-anchor=\"middle\" x=\"12897.5\" y=\"-1306\" font-family=\"monospace\" font-size=\"10.00\" fill=\"#000000\">MkldnnConvolutionBackward</text>\n</g>\n<!-- 140284650238288&#45;&gt;140284649752400 -->\n<g id=\"edge22\" class=\"edge\">\n<title>140284650238288&#45;&gt;140284649752400</title>\n<path fill=\"none\" stroke=\"#000000\" d=\"M12942.0301,-1298.9803C12991.7493,-1288.3513 13072.2448,-1271.1429 13125.7661,-1259.7011\"/>\n<polygon fill=\"#000000\" stroke=\"#000000\" points=\"13126.7154,-1263.0773 13135.7628,-1257.564 13125.252,-1256.232 13126.7154,-1263.0773\"/>\n</g>\n<!-- 140284650238032 -->\n<g id=\"node25\" class=\"node\">\n<title>140284650238032</title>\n<polygon fill=\"#d3d3d3\" stroke=\"#000000\" points=\"12682,-1378.5 12587,-1378.5 12587,-1359.5 12682,-1359.5 12682,-1378.5\"/>\n<text text-anchor=\"middle\" x=\"12634.5\" y=\"-1366.5\" font-family=\"monospace\" font-size=\"10.00\" fill=\"#000000\">ReluBackward0</text>\n</g>\n<!-- 140284650238032&#45;&gt;140284650238288 -->\n<g id=\"edge23\" class=\"edge\">\n<title>140284650238032&#45;&gt;140284650238288</title>\n<path fill=\"none\" stroke=\"#000000\" d=\"M12675.8831,-1359.4803C12721.8965,-1348.8955 12796.2737,-1331.7859 12846.0125,-1320.3441\"/>\n<polygon fill=\"#000000\" stroke=\"#000000\" points=\"12846.9636,-1323.7168 12855.9244,-1318.064 12845.3943,-1316.895 12846.9636,-1323.7168\"/>\n</g>\n<!-- 140284650569552 -->\n<g id=\"node26\" class=\"node\">\n<title>140284650569552</title>\n<polygon fill=\"#d3d3d3\" stroke=\"#000000\" points=\"12625,-1444.5 12470,-1444.5 12470,-1425.5 12625,-1425.5 12625,-1444.5\"/>\n<text text-anchor=\"middle\" x=\"12547.5\" y=\"-1432.5\" font-family=\"monospace\" font-size=\"10.00\" fill=\"#000000\">NativeBatchNormBackward</text>\n</g>\n<!-- 140284650569552&#45;&gt;140284650238032 -->\n<g id=\"edge24\" class=\"edge\">\n<title>140284650569552&#45;&gt;140284650238032</title>\n<path fill=\"none\" stroke=\"#000000\" d=\"M12560.3371,-1425.2615C12574.4248,-1414.5743 12597.2423,-1397.2644 12613.8521,-1384.6639\"/>\n<polygon fill=\"#000000\" stroke=\"#000000\" points=\"12616.0415,-1387.3962 12621.893,-1378.5639 12611.8107,-1381.8194 12616.0415,-1387.3962\"/>\n</g>\n<!-- 140284692799248 -->\n<g id=\"node27\" class=\"node\">\n<title>140284692799248</title>\n<polygon fill=\"#d3d3d3\" stroke=\"#000000\" points=\"12348,-1505 12181,-1505 12181,-1486 12348,-1486 12348,-1505\"/>\n<text text-anchor=\"middle\" x=\"12264.5\" y=\"-1493\" font-family=\"monospace\" font-size=\"10.00\" fill=\"#000000\">MkldnnConvolutionBackward</text>\n</g>\n<!-- 140284692799248&#45;&gt;140284650569552 -->\n<g id=\"edge25\" class=\"edge\">\n<title>140284692799248&#45;&gt;140284650569552</title>\n<path fill=\"none\" stroke=\"#000000\" d=\"M12309.0301,-1485.9803C12358.7493,-1475.3513 12439.2448,-1458.1429 12492.7661,-1446.7011\"/>\n<polygon fill=\"#000000\" stroke=\"#000000\" points=\"12493.7154,-1450.0773 12502.7628,-1444.564 12492.252,-1443.232 12493.7154,-1450.0773\"/>\n</g>\n<!-- 140284650315920 -->\n<g id=\"node28\" class=\"node\">\n<title>140284650315920</title>\n<polygon fill=\"#d3d3d3\" stroke=\"#000000\" points=\"12068,-1565.5 11973,-1565.5 11973,-1546.5 12068,-1546.5 12068,-1565.5\"/>\n<text text-anchor=\"middle\" x=\"12020.5\" y=\"-1553.5\" font-family=\"monospace\" font-size=\"10.00\" fill=\"#000000\">ReluBackward0</text>\n</g>\n<!-- 140284650315920&#45;&gt;140284692799248 -->\n<g id=\"edge26\" class=\"edge\">\n<title>140284650315920&#45;&gt;140284692799248</title>\n<path fill=\"none\" stroke=\"#000000\" d=\"M12058.8934,-1546.4803C12101.4044,-1535.9397 12170.0109,-1518.9287 12216.1529,-1507.4877\"/>\n<polygon fill=\"#000000\" stroke=\"#000000\" points=\"12217.0642,-1510.8678 12225.928,-1505.064 12215.3795,-1504.0735 12217.0642,-1510.8678\"/>\n</g>\n<!-- 140284650316304 -->\n<g id=\"node29\" class=\"node\">\n<title>140284650316304</title>\n<polygon fill=\"#d3d3d3\" stroke=\"#000000\" points=\"12031,-1631.5 11876,-1631.5 11876,-1612.5 12031,-1612.5 12031,-1631.5\"/>\n<text text-anchor=\"middle\" x=\"11953.5\" y=\"-1619.5\" font-family=\"monospace\" font-size=\"10.00\" fill=\"#000000\">NativeBatchNormBackward</text>\n</g>\n<!-- 140284650316304&#45;&gt;140284650315920 -->\n<g id=\"edge27\" class=\"edge\">\n<title>140284650316304&#45;&gt;140284650315920</title>\n<path fill=\"none\" stroke=\"#000000\" d=\"M11963.3861,-1612.2615C11973.8763,-1601.9278 11990.6521,-1585.4024 12003.3141,-1572.9294\"/>\n<polygon fill=\"#000000\" stroke=\"#000000\" points=\"12005.9055,-1575.2896 12010.5734,-1565.7785 12000.9931,-1570.3028 12005.9055,-1575.2896\"/>\n</g>\n<!-- 140284650316496 -->\n<g id=\"node30\" class=\"node\">\n<title>140284650316496</title>\n<polygon fill=\"#d3d3d3\" stroke=\"#000000\" points=\"11754,-1692 11587,-1692 11587,-1673 11754,-1673 11754,-1692\"/>\n<text text-anchor=\"middle\" x=\"11670.5\" y=\"-1680\" font-family=\"monospace\" font-size=\"10.00\" fill=\"#000000\">MkldnnConvolutionBackward</text>\n</g>\n<!-- 140284650316496&#45;&gt;140284650316304 -->\n<g id=\"edge28\" class=\"edge\">\n<title>140284650316496&#45;&gt;140284650316304</title>\n<path fill=\"none\" stroke=\"#000000\" d=\"M11715.0301,-1672.9803C11764.7493,-1662.3513 11845.2448,-1645.1429 11898.7661,-1633.7011\"/>\n<polygon fill=\"#000000\" stroke=\"#000000\" points=\"11899.7154,-1637.0773 11908.7628,-1631.564 11898.252,-1630.232 11899.7154,-1637.0773\"/>\n</g>\n<!-- 140284650316112 -->\n<g id=\"node31\" class=\"node\">\n<title>140284650316112</title>\n<polygon fill=\"#d3d3d3\" stroke=\"#000000\" points=\"11455,-1752.5 11360,-1752.5 11360,-1733.5 11455,-1733.5 11455,-1752.5\"/>\n<text text-anchor=\"middle\" x=\"11407.5\" y=\"-1740.5\" font-family=\"monospace\" font-size=\"10.00\" fill=\"#000000\">ReluBackward0</text>\n</g>\n<!-- 140284650316112&#45;&gt;140284650316496 -->\n<g id=\"edge29\" class=\"edge\">\n<title>140284650316112&#45;&gt;140284650316496</title>\n<path fill=\"none\" stroke=\"#000000\" d=\"M11448.8831,-1733.4803C11494.8965,-1722.8955 11569.2737,-1705.7859 11619.0125,-1694.3441\"/>\n<polygon fill=\"#000000\" stroke=\"#000000\" points=\"11619.9636,-1697.7168 11628.9244,-1692.064 11618.3943,-1690.895 11619.9636,-1697.7168\"/>\n</g>\n<!-- 140284650317008 -->\n<g id=\"node32\" class=\"node\">\n<title>140284650317008</title>\n<polygon fill=\"#d3d3d3\" stroke=\"#000000\" points=\"11398,-1818.5 11243,-1818.5 11243,-1799.5 11398,-1799.5 11398,-1818.5\"/>\n<text text-anchor=\"middle\" x=\"11320.5\" y=\"-1806.5\" font-family=\"monospace\" font-size=\"10.00\" fill=\"#000000\">NativeBatchNormBackward</text>\n</g>\n<!-- 140284650317008&#45;&gt;140284650316112 -->\n<g id=\"edge30\" class=\"edge\">\n<title>140284650317008&#45;&gt;140284650316112</title>\n<path fill=\"none\" stroke=\"#000000\" d=\"M11333.3371,-1799.2615C11347.4248,-1788.5743 11370.2423,-1771.2644 11386.8521,-1758.6639\"/>\n<polygon fill=\"#000000\" stroke=\"#000000\" points=\"11389.0415,-1761.3962 11394.893,-1752.5639 11384.8107,-1755.8194 11389.0415,-1761.3962\"/>\n</g>\n<!-- 140284650317200 -->\n<g id=\"node33\" class=\"node\">\n<title>140284650317200</title>\n<polygon fill=\"#d3d3d3\" stroke=\"#000000\" points=\"11121,-1879 10954,-1879 10954,-1860 11121,-1860 11121,-1879\"/>\n<text text-anchor=\"middle\" x=\"11037.5\" y=\"-1867\" font-family=\"monospace\" font-size=\"10.00\" fill=\"#000000\">MkldnnConvolutionBackward</text>\n</g>\n<!-- 140284650317200&#45;&gt;140284650317008 -->\n<g id=\"edge31\" class=\"edge\">\n<title>140284650317200&#45;&gt;140284650317008</title>\n<path fill=\"none\" stroke=\"#000000\" d=\"M11082.0301,-1859.9803C11131.7493,-1849.3513 11212.2448,-1832.1429 11265.7661,-1820.7011\"/>\n<polygon fill=\"#000000\" stroke=\"#000000\" points=\"11266.7154,-1824.0773 11275.7628,-1818.564 11265.252,-1817.232 11266.7154,-1824.0773\"/>\n</g>\n<!-- 140284650316688 -->\n<g id=\"node34\" class=\"node\">\n<title>140284650316688</title>\n<polygon fill=\"#d3d3d3\" stroke=\"#000000\" points=\"10842,-1939.5 10747,-1939.5 10747,-1920.5 10842,-1920.5 10842,-1939.5\"/>\n<text text-anchor=\"middle\" x=\"10794.5\" y=\"-1927.5\" font-family=\"monospace\" font-size=\"10.00\" fill=\"#000000\">ReluBackward0</text>\n</g>\n<!-- 140284650316688&#45;&gt;140284650317200 -->\n<g id=\"edge32\" class=\"edge\">\n<title>140284650316688&#45;&gt;140284650317200</title>\n<path fill=\"none\" stroke=\"#000000\" d=\"M10832.7361,-1920.4803C10875.0728,-1909.9397 10943.3981,-1892.9287 10989.3511,-1881.4877\"/>\n<polygon fill=\"#000000\" stroke=\"#000000\" points=\"10990.2279,-1884.8763 10999.086,-1879.064 10988.5367,-1878.0837 10990.2279,-1884.8763\"/>\n</g>\n<!-- 140284650317584 -->\n<g id=\"node35\" class=\"node\">\n<title>140284650317584</title>\n<polygon fill=\"#d3d3d3\" stroke=\"#000000\" points=\"10804,-2005.5 10649,-2005.5 10649,-1986.5 10804,-1986.5 10804,-2005.5\"/>\n<text text-anchor=\"middle\" x=\"10726.5\" y=\"-1993.5\" font-family=\"monospace\" font-size=\"10.00\" fill=\"#000000\">NativeBatchNormBackward</text>\n</g>\n<!-- 140284650317584&#45;&gt;140284650316688 -->\n<g id=\"edge33\" class=\"edge\">\n<title>140284650317584&#45;&gt;140284650316688</title>\n<path fill=\"none\" stroke=\"#000000\" d=\"M10736.5336,-1986.2615C10747.1804,-1975.9278 10764.2066,-1959.4024 10777.0576,-1946.9294\"/>\n<polygon fill=\"#000000\" stroke=\"#000000\" points=\"10779.687,-1949.2548 10784.4252,-1939.7785 10774.8117,-1944.2317 10779.687,-1949.2548\"/>\n</g>\n<!-- 140284650317776 -->\n<g id=\"node36\" class=\"node\">\n<title>140284650317776</title>\n<polygon fill=\"#d3d3d3\" stroke=\"#000000\" points=\"10527,-2066 10360,-2066 10360,-2047 10527,-2047 10527,-2066\"/>\n<text text-anchor=\"middle\" x=\"10443.5\" y=\"-2054\" font-family=\"monospace\" font-size=\"10.00\" fill=\"#000000\">MkldnnConvolutionBackward</text>\n</g>\n<!-- 140284650317776&#45;&gt;140284650317584 -->\n<g id=\"edge34\" class=\"edge\">\n<title>140284650317776&#45;&gt;140284650317584</title>\n<path fill=\"none\" stroke=\"#000000\" d=\"M10488.0301,-2046.9803C10537.7493,-2036.3513 10618.2448,-2019.1429 10671.7661,-2007.7011\"/>\n<polygon fill=\"#000000\" stroke=\"#000000\" points=\"10672.7154,-2011.0773 10681.7628,-2005.564 10671.252,-2004.232 10672.7154,-2011.0773\"/>\n</g>\n<!-- 140284650317840 -->\n<g id=\"node37\" class=\"node\">\n<title>140284650317840</title>\n<polygon fill=\"#d3d3d3\" stroke=\"#000000\" points=\"10228,-2126.5 10133,-2126.5 10133,-2107.5 10228,-2107.5 10228,-2126.5\"/>\n<text text-anchor=\"middle\" x=\"10180.5\" y=\"-2114.5\" font-family=\"monospace\" font-size=\"10.00\" fill=\"#000000\">ReluBackward0</text>\n</g>\n<!-- 140284650317840&#45;&gt;140284650317776 -->\n<g id=\"edge35\" class=\"edge\">\n<title>140284650317840&#45;&gt;140284650317776</title>\n<path fill=\"none\" stroke=\"#000000\" d=\"M10221.8831,-2107.4803C10267.8965,-2096.8955 10342.2737,-2079.7859 10392.0125,-2068.3441\"/>\n<polygon fill=\"#000000\" stroke=\"#000000\" points=\"10392.9636,-2071.7168 10401.9244,-2066.064 10391.3943,-2064.895 10392.9636,-2071.7168\"/>\n</g>\n<!-- 140284650318288 -->\n<g id=\"node38\" class=\"node\">\n<title>140284650318288</title>\n<polygon fill=\"#d3d3d3\" stroke=\"#000000\" points=\"10171,-2192.5 10016,-2192.5 10016,-2173.5 10171,-2173.5 10171,-2192.5\"/>\n<text text-anchor=\"middle\" x=\"10093.5\" y=\"-2180.5\" font-family=\"monospace\" font-size=\"10.00\" fill=\"#000000\">NativeBatchNormBackward</text>\n</g>\n<!-- 140284650318288&#45;&gt;140284650317840 -->\n<g id=\"edge36\" class=\"edge\">\n<title>140284650318288&#45;&gt;140284650317840</title>\n<path fill=\"none\" stroke=\"#000000\" d=\"M10106.3371,-2173.2615C10120.4248,-2162.5743 10143.2423,-2145.2644 10159.8521,-2132.6639\"/>\n<polygon fill=\"#000000\" stroke=\"#000000\" points=\"10162.0415,-2135.3962 10167.893,-2126.5639 10157.8107,-2129.8194 10162.0415,-2135.3962\"/>\n</g>\n<!-- 140284650317968 -->\n<g id=\"node39\" class=\"node\">\n<title>140284650317968</title>\n<polygon fill=\"#d3d3d3\" stroke=\"#000000\" points=\"9894,-2253 9727,-2253 9727,-2234 9894,-2234 9894,-2253\"/>\n<text text-anchor=\"middle\" x=\"9810.5\" y=\"-2241\" font-family=\"monospace\" font-size=\"10.00\" fill=\"#000000\">MkldnnConvolutionBackward</text>\n</g>\n<!-- 140284650317968&#45;&gt;140284650318288 -->\n<g id=\"edge37\" class=\"edge\">\n<title>140284650317968&#45;&gt;140284650318288</title>\n<path fill=\"none\" stroke=\"#000000\" d=\"M9855.0301,-2233.9803C9904.7493,-2223.3513 9985.2448,-2206.1429 10038.7661,-2194.7011\"/>\n<polygon fill=\"#000000\" stroke=\"#000000\" points=\"10039.7154,-2198.0773 10048.7628,-2192.564 10038.252,-2191.232 10039.7154,-2198.0773\"/>\n</g>\n<!-- 140284650318480 -->\n<g id=\"node40\" class=\"node\">\n<title>140284650318480</title>\n<polygon fill=\"#d3d3d3\" stroke=\"#000000\" points=\"9615,-2313.5 9520,-2313.5 9520,-2294.5 9615,-2294.5 9615,-2313.5\"/>\n<text text-anchor=\"middle\" x=\"9567.5\" y=\"-2301.5\" font-family=\"monospace\" font-size=\"10.00\" fill=\"#000000\">ReluBackward0</text>\n</g>\n<!-- 140284650318480&#45;&gt;140284650317968 -->\n<g id=\"edge38\" class=\"edge\">\n<title>140284650318480&#45;&gt;140284650317968</title>\n<path fill=\"none\" stroke=\"#000000\" d=\"M9605.7361,-2294.4803C9648.0728,-2283.9397 9716.3981,-2266.9287 9762.3511,-2255.4877\"/>\n<polygon fill=\"#000000\" stroke=\"#000000\" points=\"9763.2279,-2258.8763 9772.086,-2253.064 9761.5367,-2252.0837 9763.2279,-2258.8763\"/>\n</g>\n<!-- 140284650318864 -->\n<g id=\"node41\" class=\"node\">\n<title>140284650318864</title>\n<polygon fill=\"#d3d3d3\" stroke=\"#000000\" points=\"9577,-2379.5 9422,-2379.5 9422,-2360.5 9577,-2360.5 9577,-2379.5\"/>\n<text text-anchor=\"middle\" x=\"9499.5\" y=\"-2367.5\" font-family=\"monospace\" font-size=\"10.00\" fill=\"#000000\">NativeBatchNormBackward</text>\n</g>\n<!-- 140284650318864&#45;&gt;140284650318480 -->\n<g id=\"edge39\" class=\"edge\">\n<title>140284650318864&#45;&gt;140284650318480</title>\n<path fill=\"none\" stroke=\"#000000\" d=\"M9509.5336,-2360.2615C9520.1804,-2349.9278 9537.2066,-2333.4024 9550.0576,-2320.9294\"/>\n<polygon fill=\"#000000\" stroke=\"#000000\" points=\"9552.687,-2323.2548 9557.4252,-2313.7785 9547.8117,-2318.2317 9552.687,-2323.2548\"/>\n</g>\n<!-- 140284650318608 -->\n<g id=\"node42\" class=\"node\">\n<title>140284650318608</title>\n<polygon fill=\"#d3d3d3\" stroke=\"#000000\" points=\"9300,-2440 9133,-2440 9133,-2421 9300,-2421 9300,-2440\"/>\n<text text-anchor=\"middle\" x=\"9216.5\" y=\"-2428\" font-family=\"monospace\" font-size=\"10.00\" fill=\"#000000\">MkldnnConvolutionBackward</text>\n</g>\n<!-- 140284650318608&#45;&gt;140284650318864 -->\n<g id=\"edge40\" class=\"edge\">\n<title>140284650318608&#45;&gt;140284650318864</title>\n<path fill=\"none\" stroke=\"#000000\" d=\"M9261.0301,-2420.9803C9310.7493,-2410.3513 9391.2448,-2393.1429 9444.7661,-2381.7011\"/>\n<polygon fill=\"#000000\" stroke=\"#000000\" points=\"9445.7154,-2385.0773 9454.7628,-2379.564 9444.252,-2378.232 9445.7154,-2385.0773\"/>\n</g>\n<!-- 140284650319312 -->\n<g id=\"node43\" class=\"node\">\n<title>140284650319312</title>\n<polygon fill=\"#d3d3d3\" stroke=\"#000000\" points=\"9001,-2500.5 8906,-2500.5 8906,-2481.5 9001,-2481.5 9001,-2500.5\"/>\n<text text-anchor=\"middle\" x=\"8953.5\" y=\"-2488.5\" font-family=\"monospace\" font-size=\"10.00\" fill=\"#000000\">ReluBackward0</text>\n</g>\n<!-- 140284650319312&#45;&gt;140284650318608 -->\n<g id=\"edge41\" class=\"edge\">\n<title>140284650319312&#45;&gt;140284650318608</title>\n<path fill=\"none\" stroke=\"#000000\" d=\"M8994.8831,-2481.4803C9040.8965,-2470.8955 9115.2737,-2453.7859 9165.0125,-2442.3441\"/>\n<polygon fill=\"#000000\" stroke=\"#000000\" points=\"9165.9636,-2445.7168 9174.9244,-2440.064 9164.3943,-2438.895 9165.9636,-2445.7168\"/>\n</g>\n<!-- 140284650319568 -->\n<g id=\"node44\" class=\"node\">\n<title>140284650319568</title>\n<polygon fill=\"#d3d3d3\" stroke=\"#000000\" points=\"8944,-2566.5 8789,-2566.5 8789,-2547.5 8944,-2547.5 8944,-2566.5\"/>\n<text text-anchor=\"middle\" x=\"8866.5\" y=\"-2554.5\" font-family=\"monospace\" font-size=\"10.00\" fill=\"#000000\">NativeBatchNormBackward</text>\n</g>\n<!-- 140284650319568&#45;&gt;140284650319312 -->\n<g id=\"edge42\" class=\"edge\">\n<title>140284650319568&#45;&gt;140284650319312</title>\n<path fill=\"none\" stroke=\"#000000\" d=\"M8879.3371,-2547.2615C8893.4248,-2536.5743 8916.2423,-2519.2644 8932.8521,-2506.6639\"/>\n<polygon fill=\"#000000\" stroke=\"#000000\" points=\"8935.0415,-2509.3962 8940.893,-2500.5639 8930.8107,-2503.8194 8935.0415,-2509.3962\"/>\n</g>\n<!-- 140284650319248 -->\n<g id=\"node45\" class=\"node\">\n<title>140284650319248</title>\n<polygon fill=\"#d3d3d3\" stroke=\"#000000\" points=\"8667,-2627 8500,-2627 8500,-2608 8667,-2608 8667,-2627\"/>\n<text text-anchor=\"middle\" x=\"8583.5\" y=\"-2615\" font-family=\"monospace\" font-size=\"10.00\" fill=\"#000000\">MkldnnConvolutionBackward</text>\n</g>\n<!-- 140284650319248&#45;&gt;140284650319568 -->\n<g id=\"edge43\" class=\"edge\">\n<title>140284650319248&#45;&gt;140284650319568</title>\n<path fill=\"none\" stroke=\"#000000\" d=\"M8628.0301,-2607.9803C8677.7493,-2597.3513 8758.2448,-2580.1429 8811.7661,-2568.7011\"/>\n<polygon fill=\"#000000\" stroke=\"#000000\" points=\"8812.7154,-2572.0773 8821.7628,-2566.564 8811.252,-2565.232 8812.7154,-2572.0773\"/>\n</g>\n<!-- 140284650319824 -->\n<g id=\"node46\" class=\"node\">\n<title>140284650319824</title>\n<polygon fill=\"#d3d3d3\" stroke=\"#000000\" points=\"8388,-2687.5 8293,-2687.5 8293,-2668.5 8388,-2668.5 8388,-2687.5\"/>\n<text text-anchor=\"middle\" x=\"8340.5\" y=\"-2675.5\" font-family=\"monospace\" font-size=\"10.00\" fill=\"#000000\">ReluBackward0</text>\n</g>\n<!-- 140284650319824&#45;&gt;140284650319248 -->\n<g id=\"edge44\" class=\"edge\">\n<title>140284650319824&#45;&gt;140284650319248</title>\n<path fill=\"none\" stroke=\"#000000\" d=\"M8378.7361,-2668.4803C8421.0728,-2657.9397 8489.3981,-2640.9287 8535.3511,-2629.4877\"/>\n<polygon fill=\"#000000\" stroke=\"#000000\" points=\"8536.2279,-2632.8763 8545.086,-2627.064 8534.5367,-2626.0837 8536.2279,-2632.8763\"/>\n</g>\n<!-- 140284650307792 -->\n<g id=\"node47\" class=\"node\">\n<title>140284650307792</title>\n<polygon fill=\"#d3d3d3\" stroke=\"#000000\" points=\"8350,-2753.5 8195,-2753.5 8195,-2734.5 8350,-2734.5 8350,-2753.5\"/>\n<text text-anchor=\"middle\" x=\"8272.5\" y=\"-2741.5\" font-family=\"monospace\" font-size=\"10.00\" fill=\"#000000\">NativeBatchNormBackward</text>\n</g>\n<!-- 140284650307792&#45;&gt;140284650319824 -->\n<g id=\"edge45\" class=\"edge\">\n<title>140284650307792&#45;&gt;140284650319824</title>\n<path fill=\"none\" stroke=\"#000000\" d=\"M8282.5336,-2734.2615C8293.1804,-2723.9278 8310.2066,-2707.4024 8323.0576,-2694.9294\"/>\n<polygon fill=\"#000000\" stroke=\"#000000\" points=\"8325.687,-2697.2548 8330.4252,-2687.7785 8320.8117,-2692.2317 8325.687,-2697.2548\"/>\n</g>\n<!-- 140284650307984 -->\n<g id=\"node48\" class=\"node\">\n<title>140284650307984</title>\n<polygon fill=\"#d3d3d3\" stroke=\"#000000\" points=\"8072,-2814 7905,-2814 7905,-2795 8072,-2795 8072,-2814\"/>\n<text text-anchor=\"middle\" x=\"7988.5\" y=\"-2802\" font-family=\"monospace\" font-size=\"10.00\" fill=\"#000000\">MkldnnConvolutionBackward</text>\n</g>\n<!-- 140284650307984&#45;&gt;140284650307792 -->\n<g id=\"edge46\" class=\"edge\">\n<title>140284650307984&#45;&gt;140284650307792</title>\n<path fill=\"none\" stroke=\"#000000\" d=\"M8033.1874,-2794.9803C8083.0823,-2784.3513 8163.8623,-2767.1429 8217.5727,-2755.7011\"/>\n<polygon fill=\"#000000\" stroke=\"#000000\" points=\"8218.5534,-2759.0708 8227.6047,-2753.564 8217.0949,-2752.2244 8218.5534,-2759.0708\"/>\n</g>\n<!-- 140284650308368 -->\n<g id=\"node49\" class=\"node\">\n<title>140284650308368</title>\n<polygon fill=\"#d3d3d3\" stroke=\"#000000\" points=\"7774,-2874.5 7679,-2874.5 7679,-2855.5 7774,-2855.5 7774,-2874.5\"/>\n<text text-anchor=\"middle\" x=\"7726.5\" y=\"-2862.5\" font-family=\"monospace\" font-size=\"10.00\" fill=\"#000000\">ReluBackward0</text>\n</g>\n<!-- 140284650308368&#45;&gt;140284650307984 -->\n<g id=\"edge47\" class=\"edge\">\n<title>140284650308368&#45;&gt;140284650307984</title>\n<path fill=\"none\" stroke=\"#000000\" d=\"M7767.7257,-2855.4803C7813.5642,-2844.8955 7887.6586,-2827.7859 7937.2083,-2816.3441\"/>\n<polygon fill=\"#000000\" stroke=\"#000000\" points=\"7938.1264,-2819.7243 7947.0825,-2814.064 7936.5514,-2812.9037 7938.1264,-2819.7243\"/>\n</g>\n<!-- 140284650308624 -->\n<g id=\"node50\" class=\"node\">\n<title>140284650308624</title>\n<polygon fill=\"#d3d3d3\" stroke=\"#000000\" points=\"7717,-2940.5 7562,-2940.5 7562,-2921.5 7717,-2921.5 7717,-2940.5\"/>\n<text text-anchor=\"middle\" x=\"7639.5\" y=\"-2928.5\" font-family=\"monospace\" font-size=\"10.00\" fill=\"#000000\">NativeBatchNormBackward</text>\n</g>\n<!-- 140284650308624&#45;&gt;140284650308368 -->\n<g id=\"edge48\" class=\"edge\">\n<title>140284650308624&#45;&gt;140284650308368</title>\n<path fill=\"none\" stroke=\"#000000\" d=\"M7652.3371,-2921.2615C7666.4248,-2910.5743 7689.2423,-2893.2644 7705.8521,-2880.6639\"/>\n<polygon fill=\"#000000\" stroke=\"#000000\" points=\"7708.0415,-2883.3962 7713.893,-2874.5639 7703.8107,-2877.8194 7708.0415,-2883.3962\"/>\n</g>\n<!-- 140284650308112 -->\n<g id=\"node51\" class=\"node\">\n<title>140284650308112</title>\n<polygon fill=\"#d3d3d3\" stroke=\"#000000\" points=\"7440,-3001 7273,-3001 7273,-2982 7440,-2982 7440,-3001\"/>\n<text text-anchor=\"middle\" x=\"7356.5\" y=\"-2989\" font-family=\"monospace\" font-size=\"10.00\" fill=\"#000000\">MkldnnConvolutionBackward</text>\n</g>\n<!-- 140284650308112&#45;&gt;140284650308624 -->\n<g id=\"edge49\" class=\"edge\">\n<title>140284650308112&#45;&gt;140284650308624</title>\n<path fill=\"none\" stroke=\"#000000\" d=\"M7401.0301,-2981.9803C7450.7493,-2971.3513 7531.2448,-2954.1429 7584.7661,-2942.7011\"/>\n<polygon fill=\"#000000\" stroke=\"#000000\" points=\"7585.7154,-2946.0773 7594.7628,-2940.564 7584.252,-2939.232 7585.7154,-2946.0773\"/>\n</g>\n<!-- 140284650308944 -->\n<g id=\"node52\" class=\"node\">\n<title>140284650308944</title>\n<polygon fill=\"#d3d3d3\" stroke=\"#000000\" points=\"7161,-3061.5 7066,-3061.5 7066,-3042.5 7161,-3042.5 7161,-3061.5\"/>\n<text text-anchor=\"middle\" x=\"7113.5\" y=\"-3049.5\" font-family=\"monospace\" font-size=\"10.00\" fill=\"#000000\">ReluBackward0</text>\n</g>\n<!-- 140284650308944&#45;&gt;140284650308112 -->\n<g id=\"edge50\" class=\"edge\">\n<title>140284650308944&#45;&gt;140284650308112</title>\n<path fill=\"none\" stroke=\"#000000\" d=\"M7151.7361,-3042.4803C7194.0728,-3031.9397 7262.3981,-3014.9287 7308.3511,-3003.4877\"/>\n<polygon fill=\"#000000\" stroke=\"#000000\" points=\"7309.2279,-3006.8763 7318.086,-3001.064 7307.5367,-3000.0837 7309.2279,-3006.8763\"/>\n</g>\n<!-- 140284650309200 -->\n<g id=\"node53\" class=\"node\">\n<title>140284650309200</title>\n<polygon fill=\"#d3d3d3\" stroke=\"#000000\" points=\"7123,-3127.5 6968,-3127.5 6968,-3108.5 7123,-3108.5 7123,-3127.5\"/>\n<text text-anchor=\"middle\" x=\"7045.5\" y=\"-3115.5\" font-family=\"monospace\" font-size=\"10.00\" fill=\"#000000\">NativeBatchNormBackward</text>\n</g>\n<!-- 140284650309200&#45;&gt;140284650308944 -->\n<g id=\"edge51\" class=\"edge\">\n<title>140284650309200&#45;&gt;140284650308944</title>\n<path fill=\"none\" stroke=\"#000000\" d=\"M7055.5336,-3108.2615C7066.1804,-3097.9278 7083.2066,-3081.4024 7096.0576,-3068.9294\"/>\n<polygon fill=\"#000000\" stroke=\"#000000\" points=\"7098.687,-3071.2548 7103.4252,-3061.7785 7093.8117,-3066.2317 7098.687,-3071.2548\"/>\n</g>\n<!-- 140284650309264 -->\n<g id=\"node54\" class=\"node\">\n<title>140284650309264</title>\n<polygon fill=\"#d3d3d3\" stroke=\"#000000\" points=\"6846,-3188 6679,-3188 6679,-3169 6846,-3169 6846,-3188\"/>\n<text text-anchor=\"middle\" x=\"6762.5\" y=\"-3176\" font-family=\"monospace\" font-size=\"10.00\" fill=\"#000000\">MkldnnConvolutionBackward</text>\n</g>\n<!-- 140284650309264&#45;&gt;140284650309200 -->\n<g id=\"edge52\" class=\"edge\">\n<title>140284650309264&#45;&gt;140284650309200</title>\n<path fill=\"none\" stroke=\"#000000\" d=\"M6807.0301,-3168.9803C6856.7493,-3158.3513 6937.2448,-3141.1429 6990.7661,-3129.7011\"/>\n<polygon fill=\"#000000\" stroke=\"#000000\" points=\"6991.7154,-3133.0773 7000.7628,-3127.564 6990.252,-3126.232 6991.7154,-3133.0773\"/>\n</g>\n<!-- 140284650309648 -->\n<g id=\"node55\" class=\"node\">\n<title>140284650309648</title>\n<polygon fill=\"#d3d3d3\" stroke=\"#000000\" points=\"6547,-3248.5 6452,-3248.5 6452,-3229.5 6547,-3229.5 6547,-3248.5\"/>\n<text text-anchor=\"middle\" x=\"6499.5\" y=\"-3236.5\" font-family=\"monospace\" font-size=\"10.00\" fill=\"#000000\">ReluBackward0</text>\n</g>\n<!-- 140284650309648&#45;&gt;140284650309264 -->\n<g id=\"edge53\" class=\"edge\">\n<title>140284650309648&#45;&gt;140284650309264</title>\n<path fill=\"none\" stroke=\"#000000\" d=\"M6540.8831,-3229.4803C6586.8965,-3218.8955 6661.2737,-3201.7859 6711.0125,-3190.3441\"/>\n<polygon fill=\"#000000\" stroke=\"#000000\" points=\"6711.9636,-3193.7168 6720.9244,-3188.064 6710.3943,-3186.895 6711.9636,-3193.7168\"/>\n</g>\n<!-- 140284650309392 -->\n<g id=\"node56\" class=\"node\">\n<title>140284650309392</title>\n<polygon fill=\"#d3d3d3\" stroke=\"#000000\" points=\"6490,-3314.5 6335,-3314.5 6335,-3295.5 6490,-3295.5 6490,-3314.5\"/>\n<text text-anchor=\"middle\" x=\"6412.5\" y=\"-3302.5\" font-family=\"monospace\" font-size=\"10.00\" fill=\"#000000\">NativeBatchNormBackward</text>\n</g>\n<!-- 140284650309392&#45;&gt;140284650309648 -->\n<g id=\"edge54\" class=\"edge\">\n<title>140284650309392&#45;&gt;140284650309648</title>\n<path fill=\"none\" stroke=\"#000000\" d=\"M6425.3371,-3295.2615C6439.4248,-3284.5743 6462.2423,-3267.2644 6478.8521,-3254.6639\"/>\n<polygon fill=\"#000000\" stroke=\"#000000\" points=\"6481.0415,-3257.3962 6486.893,-3248.5639 6476.8107,-3251.8194 6481.0415,-3257.3962\"/>\n</g>\n<!-- 140284650309904 -->\n<g id=\"node57\" class=\"node\">\n<title>140284650309904</title>\n<polygon fill=\"#d3d3d3\" stroke=\"#000000\" points=\"6213,-3375 6046,-3375 6046,-3356 6213,-3356 6213,-3375\"/>\n<text text-anchor=\"middle\" x=\"6129.5\" y=\"-3363\" font-family=\"monospace\" font-size=\"10.00\" fill=\"#000000\">MkldnnConvolutionBackward</text>\n</g>\n<!-- 140284650309904&#45;&gt;140284650309392 -->\n<g id=\"edge55\" class=\"edge\">\n<title>140284650309904&#45;&gt;140284650309392</title>\n<path fill=\"none\" stroke=\"#000000\" d=\"M6174.0301,-3355.9803C6223.7493,-3345.3513 6304.2448,-3328.1429 6357.7661,-3316.7011\"/>\n<polygon fill=\"#000000\" stroke=\"#000000\" points=\"6358.7154,-3320.0773 6367.7628,-3314.564 6357.252,-3313.232 6358.7154,-3320.0773\"/>\n</g>\n<!-- 140284650310224 -->\n<g id=\"node58\" class=\"node\">\n<title>140284650310224</title>\n<polygon fill=\"#d3d3d3\" stroke=\"#000000\" points=\"5933,-3435.5 5838,-3435.5 5838,-3416.5 5933,-3416.5 5933,-3435.5\"/>\n<text text-anchor=\"middle\" x=\"5885.5\" y=\"-3423.5\" font-family=\"monospace\" font-size=\"10.00\" fill=\"#000000\">ReluBackward0</text>\n</g>\n<!-- 140284650310224&#45;&gt;140284650309904 -->\n<g id=\"edge56\" class=\"edge\">\n<title>140284650310224&#45;&gt;140284650309904</title>\n<path fill=\"none\" stroke=\"#000000\" d=\"M5923.8934,-3416.4803C5966.4044,-3405.9397 6035.0109,-3388.9287 6081.1529,-3377.4877\"/>\n<polygon fill=\"#000000\" stroke=\"#000000\" points=\"6082.0642,-3380.8678 6090.928,-3375.064 6080.3795,-3374.0735 6082.0642,-3380.8678\"/>\n</g>\n<!-- 140284650310032 -->\n<g id=\"node59\" class=\"node\">\n<title>140284650310032</title>\n<polygon fill=\"#d3d3d3\" stroke=\"#000000\" points=\"5896,-3501.5 5741,-3501.5 5741,-3482.5 5896,-3482.5 5896,-3501.5\"/>\n<text text-anchor=\"middle\" x=\"5818.5\" y=\"-3489.5\" font-family=\"monospace\" font-size=\"10.00\" fill=\"#000000\">NativeBatchNormBackward</text>\n</g>\n<!-- 140284650310032&#45;&gt;140284650310224 -->\n<g id=\"edge57\" class=\"edge\">\n<title>140284650310032&#45;&gt;140284650310224</title>\n<path fill=\"none\" stroke=\"#000000\" d=\"M5828.3861,-3482.2615C5838.8763,-3471.9278 5855.6521,-3455.4024 5868.3141,-3442.9294\"/>\n<polygon fill=\"#000000\" stroke=\"#000000\" points=\"5870.9055,-3445.2896 5875.5734,-3435.7785 5865.9931,-3440.3028 5870.9055,-3445.2896\"/>\n</g>\n<!-- 140284650310736 -->\n<g id=\"node60\" class=\"node\">\n<title>140284650310736</title>\n<polygon fill=\"#d3d3d3\" stroke=\"#000000\" points=\"5619,-3562 5452,-3562 5452,-3543 5619,-3543 5619,-3562\"/>\n<text text-anchor=\"middle\" x=\"5535.5\" y=\"-3550\" font-family=\"monospace\" font-size=\"10.00\" fill=\"#000000\">MkldnnConvolutionBackward</text>\n</g>\n<!-- 140284650310736&#45;&gt;140284650310032 -->\n<g id=\"edge58\" class=\"edge\">\n<title>140284650310736&#45;&gt;140284650310032</title>\n<path fill=\"none\" stroke=\"#000000\" d=\"M5580.0301,-3542.9803C5629.7493,-3532.3513 5710.2448,-3515.1429 5763.7661,-3503.7011\"/>\n<polygon fill=\"#000000\" stroke=\"#000000\" points=\"5764.7154,-3507.0773 5773.7628,-3501.564 5763.252,-3500.232 5764.7154,-3507.0773\"/>\n</g>\n<!-- 140284650310928 -->\n<g id=\"node61\" class=\"node\">\n<title>140284650310928</title>\n<polygon fill=\"#d3d3d3\" stroke=\"#000000\" points=\"5320,-3622.5 5225,-3622.5 5225,-3603.5 5320,-3603.5 5320,-3622.5\"/>\n<text text-anchor=\"middle\" x=\"5272.5\" y=\"-3610.5\" font-family=\"monospace\" font-size=\"10.00\" fill=\"#000000\">ReluBackward0</text>\n</g>\n<!-- 140284650310928&#45;&gt;140284650310736 -->\n<g id=\"edge59\" class=\"edge\">\n<title>140284650310928&#45;&gt;140284650310736</title>\n<path fill=\"none\" stroke=\"#000000\" d=\"M5313.8831,-3603.4803C5359.8965,-3592.8955 5434.2737,-3575.7859 5484.0125,-3564.3441\"/>\n<polygon fill=\"#000000\" stroke=\"#000000\" points=\"5484.9636,-3567.7168 5493.9244,-3562.064 5483.3943,-3560.895 5484.9636,-3567.7168\"/>\n</g>\n<!-- 140284650310672 -->\n<g id=\"node62\" class=\"node\">\n<title>140284650310672</title>\n<polygon fill=\"#d3d3d3\" stroke=\"#000000\" points=\"5263,-3688.5 5108,-3688.5 5108,-3669.5 5263,-3669.5 5263,-3688.5\"/>\n<text text-anchor=\"middle\" x=\"5185.5\" y=\"-3676.5\" font-family=\"monospace\" font-size=\"10.00\" fill=\"#000000\">NativeBatchNormBackward</text>\n</g>\n<!-- 140284650310672&#45;&gt;140284650310928 -->\n<g id=\"edge60\" class=\"edge\">\n<title>140284650310672&#45;&gt;140284650310928</title>\n<path fill=\"none\" stroke=\"#000000\" d=\"M5198.3371,-3669.2615C5212.4248,-3658.5743 5235.2423,-3641.2644 5251.8521,-3628.6639\"/>\n<polygon fill=\"#000000\" stroke=\"#000000\" points=\"5254.0415,-3631.3962 5259.893,-3622.5639 5249.8107,-3625.8194 5254.0415,-3631.3962\"/>\n</g>\n<!-- 140284650311312 -->\n<g id=\"node63\" class=\"node\">\n<title>140284650311312</title>\n<polygon fill=\"#d3d3d3\" stroke=\"#000000\" points=\"4986,-3749 4819,-3749 4819,-3730 4986,-3730 4986,-3749\"/>\n<text text-anchor=\"middle\" x=\"4902.5\" y=\"-3737\" font-family=\"monospace\" font-size=\"10.00\" fill=\"#000000\">MkldnnConvolutionBackward</text>\n</g>\n<!-- 140284650311312&#45;&gt;140284650310672 -->\n<g id=\"edge61\" class=\"edge\">\n<title>140284650311312&#45;&gt;140284650310672</title>\n<path fill=\"none\" stroke=\"#000000\" d=\"M4947.0301,-3729.9803C4996.7493,-3719.3513 5077.2448,-3702.1429 5130.7661,-3690.7011\"/>\n<polygon fill=\"#000000\" stroke=\"#000000\" points=\"5131.7154,-3694.0773 5140.7628,-3688.564 5130.252,-3687.232 5131.7154,-3694.0773\"/>\n</g>\n<!-- 140284650311376 -->\n<g id=\"node64\" class=\"node\">\n<title>140284650311376</title>\n<polygon fill=\"#d3d3d3\" stroke=\"#000000\" points=\"4706,-3809.5 4611,-3809.5 4611,-3790.5 4706,-3790.5 4706,-3809.5\"/>\n<text text-anchor=\"middle\" x=\"4658.5\" y=\"-3797.5\" font-family=\"monospace\" font-size=\"10.00\" fill=\"#000000\">ReluBackward0</text>\n</g>\n<!-- 140284650311376&#45;&gt;140284650311312 -->\n<g id=\"edge62\" class=\"edge\">\n<title>140284650311376&#45;&gt;140284650311312</title>\n<path fill=\"none\" stroke=\"#000000\" d=\"M4696.8934,-3790.4803C4739.4044,-3779.9397 4808.0109,-3762.9287 4854.1529,-3751.4877\"/>\n<polygon fill=\"#000000\" stroke=\"#000000\" points=\"4855.0642,-3754.8678 4863.928,-3749.064 4853.3795,-3748.0735 4855.0642,-3754.8678\"/>\n</g>\n<!-- 140284650311248 -->\n<g id=\"node65\" class=\"node\">\n<title>140284650311248</title>\n<polygon fill=\"#d3d3d3\" stroke=\"#000000\" points=\"4669,-3875.5 4514,-3875.5 4514,-3856.5 4669,-3856.5 4669,-3875.5\"/>\n<text text-anchor=\"middle\" x=\"4591.5\" y=\"-3863.5\" font-family=\"monospace\" font-size=\"10.00\" fill=\"#000000\">NativeBatchNormBackward</text>\n</g>\n<!-- 140284650311248&#45;&gt;140284650311376 -->\n<g id=\"edge63\" class=\"edge\">\n<title>140284650311248&#45;&gt;140284650311376</title>\n<path fill=\"none\" stroke=\"#000000\" d=\"M4601.3861,-3856.2615C4611.8763,-3845.9278 4628.6521,-3829.4024 4641.3141,-3816.9294\"/>\n<polygon fill=\"#000000\" stroke=\"#000000\" points=\"4643.9055,-3819.2896 4648.5734,-3809.7785 4638.9931,-3814.3028 4643.9055,-3819.2896\"/>\n</g>\n<!-- 140284650295504 -->\n<g id=\"node66\" class=\"node\">\n<title>140284650295504</title>\n<polygon fill=\"#d3d3d3\" stroke=\"#000000\" points=\"4395,-3936 4228,-3936 4228,-3917 4395,-3917 4395,-3936\"/>\n<text text-anchor=\"middle\" x=\"4311.5\" y=\"-3924\" font-family=\"monospace\" font-size=\"10.00\" fill=\"#000000\">MkldnnConvolutionBackward</text>\n</g>\n<!-- 140284650295504&#45;&gt;140284650311248 -->\n<g id=\"edge64\" class=\"edge\">\n<title>140284650295504&#45;&gt;140284650311248</title>\n<path fill=\"none\" stroke=\"#000000\" d=\"M4355.558,-3916.9803C4404.7502,-3906.3513 4484.3924,-3889.1429 4537.3464,-3877.7011\"/>\n<polygon fill=\"#000000\" stroke=\"#000000\" points=\"4538.2018,-3881.0971 4547.237,-3875.564 4536.7233,-3874.255 4538.2018,-3881.0971\"/>\n</g>\n<!-- 140284650295696 -->\n<g id=\"node67\" class=\"node\">\n<title>140284650295696</title>\n<polygon fill=\"#d3d3d3\" stroke=\"#000000\" points=\"4097,-3996.5 4002,-3996.5 4002,-3977.5 4097,-3977.5 4097,-3996.5\"/>\n<text text-anchor=\"middle\" x=\"4049.5\" y=\"-3984.5\" font-family=\"monospace\" font-size=\"10.00\" fill=\"#000000\">ReluBackward0</text>\n</g>\n<!-- 140284650295696&#45;&gt;140284650295504 -->\n<g id=\"edge65\" class=\"edge\">\n<title>140284650295696&#45;&gt;140284650295504</title>\n<path fill=\"none\" stroke=\"#000000\" d=\"M4090.7257,-3977.4803C4136.5642,-3966.8955 4210.6586,-3949.7859 4260.2083,-3938.3441\"/>\n<polygon fill=\"#000000\" stroke=\"#000000\" points=\"4261.1264,-3941.7243 4270.0825,-3936.064 4259.5514,-3934.9037 4261.1264,-3941.7243\"/>\n</g>\n<!-- 140284650295952 -->\n<g id=\"node68\" class=\"node\">\n<title>140284650295952</title>\n<polygon fill=\"#d3d3d3\" stroke=\"#000000\" points=\"4042,-4062.5 3887,-4062.5 3887,-4043.5 4042,-4043.5 4042,-4062.5\"/>\n<text text-anchor=\"middle\" x=\"3964.5\" y=\"-4050.5\" font-family=\"monospace\" font-size=\"10.00\" fill=\"#000000\">NativeBatchNormBackward</text>\n</g>\n<!-- 140284650295952&#45;&gt;140284650295696 -->\n<g id=\"edge66\" class=\"edge\">\n<title>140284650295952&#45;&gt;140284650295696</title>\n<path fill=\"none\" stroke=\"#000000\" d=\"M3977.042,-4043.2615C3990.6796,-4032.6723 4012.6905,-4015.5815 4028.8786,-4003.0119\"/>\n<polygon fill=\"#000000\" stroke=\"#000000\" points=\"4031.4309,-4005.4614 4037.1829,-3996.5639 4027.1378,-3999.9324 4031.4309,-4005.4614\"/>\n</g>\n<!-- 140284650296144 -->\n<g id=\"node69\" class=\"node\">\n<title>140284650296144</title>\n<polygon fill=\"#d3d3d3\" stroke=\"#000000\" points=\"3768,-4123 3601,-4123 3601,-4104 3768,-4104 3768,-4123\"/>\n<text text-anchor=\"middle\" x=\"3684.5\" y=\"-4111\" font-family=\"monospace\" font-size=\"10.00\" fill=\"#000000\">MkldnnConvolutionBackward</text>\n</g>\n<!-- 140284650296144&#45;&gt;140284650295952 -->\n<g id=\"edge67\" class=\"edge\">\n<title>140284650296144&#45;&gt;140284650295952</title>\n<path fill=\"none\" stroke=\"#000000\" d=\"M3728.558,-4103.9803C3777.7502,-4093.3513 3857.3924,-4076.1429 3910.3464,-4064.7011\"/>\n<polygon fill=\"#000000\" stroke=\"#000000\" points=\"3911.2018,-4068.0971 3920.237,-4062.564 3909.7233,-4061.255 3911.2018,-4068.0971\"/>\n</g>\n<!-- 140284650296336 -->\n<g id=\"node70\" class=\"node\">\n<title>140284650296336</title>\n<polygon fill=\"#d3d3d3\" stroke=\"#000000\" points=\"3490,-4183.5 3395,-4183.5 3395,-4164.5 3490,-4164.5 3490,-4183.5\"/>\n<text text-anchor=\"middle\" x=\"3442.5\" y=\"-4171.5\" font-family=\"monospace\" font-size=\"10.00\" fill=\"#000000\">ReluBackward0</text>\n</g>\n<!-- 140284650296336&#45;&gt;140284650296144 -->\n<g id=\"edge68\" class=\"edge\">\n<title>140284650296336&#45;&gt;140284650296144</title>\n<path fill=\"none\" stroke=\"#000000\" d=\"M3480.5787,-4164.4803C3522.6529,-4153.9618 3590.5002,-4136.9999 3636.2611,-4125.5597\"/>\n<polygon fill=\"#000000\" stroke=\"#000000\" points=\"3637.3916,-4128.8849 3646.2441,-4123.064 3635.6938,-4122.0939 3637.3916,-4128.8849\"/>\n</g>\n<!-- 140284650296592 -->\n<g id=\"node71\" class=\"node\">\n<title>140284650296592</title>\n<polygon fill=\"#d3d3d3\" stroke=\"#000000\" points=\"3454,-4249.5 3299,-4249.5 3299,-4230.5 3454,-4230.5 3454,-4249.5\"/>\n<text text-anchor=\"middle\" x=\"3376.5\" y=\"-4237.5\" font-family=\"monospace\" font-size=\"10.00\" fill=\"#000000\">NativeBatchNormBackward</text>\n</g>\n<!-- 140284650296592&#45;&gt;140284650296336 -->\n<g id=\"edge69\" class=\"edge\">\n<title>140284650296592&#45;&gt;140284650296336</title>\n<path fill=\"none\" stroke=\"#000000\" d=\"M3386.2385,-4230.2615C3396.5722,-4219.9278 3413.0976,-4203.4024 3425.5706,-4190.9294\"/>\n<polygon fill=\"#000000\" stroke=\"#000000\" points=\"3428.1253,-4193.3245 3432.7215,-4183.7785 3423.1755,-4188.3747 3428.1253,-4193.3245\"/>\n</g>\n<!-- 140284650296784 -->\n<g id=\"node72\" class=\"node\">\n<title>140284650296784</title>\n<polygon fill=\"#d3d3d3\" stroke=\"#000000\" points=\"3180,-4310 3013,-4310 3013,-4291 3180,-4291 3180,-4310\"/>\n<text text-anchor=\"middle\" x=\"3096.5\" y=\"-4298\" font-family=\"monospace\" font-size=\"10.00\" fill=\"#000000\">MkldnnConvolutionBackward</text>\n</g>\n<!-- 140284650296784&#45;&gt;140284650296592 -->\n<g id=\"edge70\" class=\"edge\">\n<title>140284650296784&#45;&gt;140284650296592</title>\n<path fill=\"none\" stroke=\"#000000\" d=\"M3140.558,-4290.9803C3189.7502,-4280.3513 3269.3924,-4263.1429 3322.3464,-4251.7011\"/>\n<polygon fill=\"#000000\" stroke=\"#000000\" points=\"3323.2018,-4255.0971 3332.237,-4249.564 3321.7233,-4248.255 3323.2018,-4255.0971\"/>\n</g>\n<!-- 140284650296976 -->\n<g id=\"node73\" class=\"node\">\n<title>140284650296976</title>\n<polygon fill=\"#d3d3d3\" stroke=\"#000000\" points=\"2882,-4370.5 2787,-4370.5 2787,-4351.5 2882,-4351.5 2882,-4370.5\"/>\n<text text-anchor=\"middle\" x=\"2834.5\" y=\"-4358.5\" font-family=\"monospace\" font-size=\"10.00\" fill=\"#000000\">ReluBackward0</text>\n</g>\n<!-- 140284650296976&#45;&gt;140284650296784 -->\n<g id=\"edge71\" class=\"edge\">\n<title>140284650296976&#45;&gt;140284650296784</title>\n<path fill=\"none\" stroke=\"#000000\" d=\"M2875.7257,-4351.4803C2921.5642,-4340.8955 2995.6586,-4323.7859 3045.2083,-4312.3441\"/>\n<polygon fill=\"#000000\" stroke=\"#000000\" points=\"3046.1264,-4315.7243 3055.0825,-4310.064 3044.5514,-4308.9037 3046.1264,-4315.7243\"/>\n</g>\n<!-- 140284650297232 -->\n<g id=\"node74\" class=\"node\">\n<title>140284650297232</title>\n<polygon fill=\"#d3d3d3\" stroke=\"#000000\" points=\"2827,-4436.5 2672,-4436.5 2672,-4417.5 2827,-4417.5 2827,-4436.5\"/>\n<text text-anchor=\"middle\" x=\"2749.5\" y=\"-4424.5\" font-family=\"monospace\" font-size=\"10.00\" fill=\"#000000\">NativeBatchNormBackward</text>\n</g>\n<!-- 140284650297232&#45;&gt;140284650296976 -->\n<g id=\"edge72\" class=\"edge\">\n<title>140284650297232&#45;&gt;140284650296976</title>\n<path fill=\"none\" stroke=\"#000000\" d=\"M2762.042,-4417.2615C2775.6796,-4406.6723 2797.6905,-4389.5815 2813.8786,-4377.0119\"/>\n<polygon fill=\"#000000\" stroke=\"#000000\" points=\"2816.4309,-4379.4614 2822.1829,-4370.5639 2812.1378,-4373.9324 2816.4309,-4379.4614\"/>\n</g>\n<!-- 140284650297424 -->\n<g id=\"node75\" class=\"node\">\n<title>140284650297424</title>\n<polygon fill=\"#d3d3d3\" stroke=\"#000000\" points=\"2553,-4497 2386,-4497 2386,-4478 2553,-4478 2553,-4497\"/>\n<text text-anchor=\"middle\" x=\"2469.5\" y=\"-4485\" font-family=\"monospace\" font-size=\"10.00\" fill=\"#000000\">MkldnnConvolutionBackward</text>\n</g>\n<!-- 140284650297424&#45;&gt;140284650297232 -->\n<g id=\"edge73\" class=\"edge\">\n<title>140284650297424&#45;&gt;140284650297232</title>\n<path fill=\"none\" stroke=\"#000000\" d=\"M2513.558,-4477.9803C2562.7502,-4467.3513 2642.3924,-4450.1429 2695.3464,-4438.7011\"/>\n<polygon fill=\"#000000\" stroke=\"#000000\" points=\"2696.2018,-4442.0971 2705.237,-4436.564 2694.7233,-4435.255 2696.2018,-4442.0971\"/>\n</g>\n<!-- 140284650297616 -->\n<g id=\"node76\" class=\"node\">\n<title>140284650297616</title>\n<polygon fill=\"#d3d3d3\" stroke=\"#000000\" points=\"2275,-4557.5 2180,-4557.5 2180,-4538.5 2275,-4538.5 2275,-4557.5\"/>\n<text text-anchor=\"middle\" x=\"2227.5\" y=\"-4545.5\" font-family=\"monospace\" font-size=\"10.00\" fill=\"#000000\">ReluBackward0</text>\n</g>\n<!-- 140284650297616&#45;&gt;140284650297424 -->\n<g id=\"edge74\" class=\"edge\">\n<title>140284650297616&#45;&gt;140284650297424</title>\n<path fill=\"none\" stroke=\"#000000\" d=\"M2265.5787,-4538.4803C2307.6529,-4527.9618 2375.5002,-4510.9999 2421.2611,-4499.5597\"/>\n<polygon fill=\"#000000\" stroke=\"#000000\" points=\"2422.3916,-4502.8849 2431.2441,-4497.064 2420.6938,-4496.0939 2422.3916,-4502.8849\"/>\n</g>\n<!-- 140284650297872 -->\n<g id=\"node77\" class=\"node\">\n<title>140284650297872</title>\n<polygon fill=\"#d3d3d3\" stroke=\"#000000\" points=\"2239,-4623.5 2084,-4623.5 2084,-4604.5 2239,-4604.5 2239,-4623.5\"/>\n<text text-anchor=\"middle\" x=\"2161.5\" y=\"-4611.5\" font-family=\"monospace\" font-size=\"10.00\" fill=\"#000000\">NativeBatchNormBackward</text>\n</g>\n<!-- 140284650297872&#45;&gt;140284650297616 -->\n<g id=\"edge75\" class=\"edge\">\n<title>140284650297872&#45;&gt;140284650297616</title>\n<path fill=\"none\" stroke=\"#000000\" d=\"M2171.2385,-4604.2615C2181.5722,-4593.9278 2198.0976,-4577.4024 2210.5706,-4564.9294\"/>\n<polygon fill=\"#000000\" stroke=\"#000000\" points=\"2213.1253,-4567.3245 2217.7215,-4557.7785 2208.1755,-4562.3747 2213.1253,-4567.3245\"/>\n</g>\n<!-- 140284650298064 -->\n<g id=\"node78\" class=\"node\">\n<title>140284650298064</title>\n<polygon fill=\"#d3d3d3\" stroke=\"#000000\" points=\"1965,-4684 1798,-4684 1798,-4665 1965,-4665 1965,-4684\"/>\n<text text-anchor=\"middle\" x=\"1881.5\" y=\"-4672\" font-family=\"monospace\" font-size=\"10.00\" fill=\"#000000\">MkldnnConvolutionBackward</text>\n</g>\n<!-- 140284650298064&#45;&gt;140284650297872 -->\n<g id=\"edge76\" class=\"edge\">\n<title>140284650298064&#45;&gt;140284650297872</title>\n<path fill=\"none\" stroke=\"#000000\" d=\"M1925.558,-4664.9803C1974.7502,-4654.3513 2054.3924,-4637.1429 2107.3464,-4625.7011\"/>\n<polygon fill=\"#000000\" stroke=\"#000000\" points=\"2108.2018,-4629.0971 2117.237,-4623.564 2106.7233,-4622.255 2108.2018,-4629.0971\"/>\n</g>\n<!-- 140284650298256 -->\n<g id=\"node79\" class=\"node\">\n<title>140284650298256</title>\n<polygon fill=\"#d3d3d3\" stroke=\"#000000\" points=\"1667,-4744.5 1572,-4744.5 1572,-4725.5 1667,-4725.5 1667,-4744.5\"/>\n<text text-anchor=\"middle\" x=\"1619.5\" y=\"-4732.5\" font-family=\"monospace\" font-size=\"10.00\" fill=\"#000000\">ReluBackward0</text>\n</g>\n<!-- 140284650298256&#45;&gt;140284650298064 -->\n<g id=\"edge77\" class=\"edge\">\n<title>140284650298256&#45;&gt;140284650298064</title>\n<path fill=\"none\" stroke=\"#000000\" d=\"M1660.7257,-4725.4803C1706.5642,-4714.8955 1780.6586,-4697.7859 1830.2083,-4686.3441\"/>\n<polygon fill=\"#000000\" stroke=\"#000000\" points=\"1831.1264,-4689.7243 1840.0825,-4684.064 1829.5514,-4682.9037 1831.1264,-4689.7243\"/>\n</g>\n<!-- 140284650298512 -->\n<g id=\"node80\" class=\"node\">\n<title>140284650298512</title>\n<polygon fill=\"#d3d3d3\" stroke=\"#000000\" points=\"1612,-4810.5 1457,-4810.5 1457,-4791.5 1612,-4791.5 1612,-4810.5\"/>\n<text text-anchor=\"middle\" x=\"1534.5\" y=\"-4798.5\" font-family=\"monospace\" font-size=\"10.00\" fill=\"#000000\">NativeBatchNormBackward</text>\n</g>\n<!-- 140284650298512&#45;&gt;140284650298256 -->\n<g id=\"edge78\" class=\"edge\">\n<title>140284650298512&#45;&gt;140284650298256</title>\n<path fill=\"none\" stroke=\"#000000\" d=\"M1547.042,-4791.2615C1560.6796,-4780.6723 1582.6905,-4763.5815 1598.8786,-4751.0119\"/>\n<polygon fill=\"#000000\" stroke=\"#000000\" points=\"1601.4309,-4753.4614 1607.1829,-4744.5639 1597.1378,-4747.9324 1601.4309,-4753.4614\"/>\n</g>\n<!-- 140284650298704 -->\n<g id=\"node81\" class=\"node\">\n<title>140284650298704</title>\n<polygon fill=\"#d3d3d3\" stroke=\"#000000\" points=\"1338,-4871 1171,-4871 1171,-4852 1338,-4852 1338,-4871\"/>\n<text text-anchor=\"middle\" x=\"1254.5\" y=\"-4859\" font-family=\"monospace\" font-size=\"10.00\" fill=\"#000000\">MkldnnConvolutionBackward</text>\n</g>\n<!-- 140284650298704&#45;&gt;140284650298512 -->\n<g id=\"edge79\" class=\"edge\">\n<title>140284650298704&#45;&gt;140284650298512</title>\n<path fill=\"none\" stroke=\"#000000\" d=\"M1298.558,-4851.9803C1347.7502,-4841.3513 1427.3924,-4824.1429 1480.3464,-4812.7011\"/>\n<polygon fill=\"#000000\" stroke=\"#000000\" points=\"1481.2018,-4816.0971 1490.237,-4810.564 1479.7233,-4809.255 1481.2018,-4816.0971\"/>\n</g>\n<!-- 140284650298896 -->\n<g id=\"node82\" class=\"node\">\n<title>140284650298896</title>\n<polygon fill=\"#d3d3d3\" stroke=\"#000000\" points=\"1060,-4931.5 965,-4931.5 965,-4912.5 1060,-4912.5 1060,-4931.5\"/>\n<text text-anchor=\"middle\" x=\"1012.5\" y=\"-4919.5\" font-family=\"monospace\" font-size=\"10.00\" fill=\"#000000\">ReluBackward0</text>\n</g>\n<!-- 140284650298896&#45;&gt;140284650298704 -->\n<g id=\"edge80\" class=\"edge\">\n<title>140284650298896&#45;&gt;140284650298704</title>\n<path fill=\"none\" stroke=\"#000000\" d=\"M1050.5787,-4912.4803C1092.6529,-4901.9618 1160.5002,-4884.9999 1206.2611,-4873.5597\"/>\n<polygon fill=\"#000000\" stroke=\"#000000\" points=\"1207.3916,-4876.8849 1216.2441,-4871.064 1205.6938,-4870.0939 1207.3916,-4876.8849\"/>\n</g>\n<!-- 140284650299152 -->\n<g id=\"node83\" class=\"node\">\n<title>140284650299152</title>\n<polygon fill=\"#d3d3d3\" stroke=\"#000000\" points=\"1024,-4997.5 869,-4997.5 869,-4978.5 1024,-4978.5 1024,-4997.5\"/>\n<text text-anchor=\"middle\" x=\"946.5\" y=\"-4985.5\" font-family=\"monospace\" font-size=\"10.00\" fill=\"#000000\">NativeBatchNormBackward</text>\n</g>\n<!-- 140284650299152&#45;&gt;140284650298896 -->\n<g id=\"edge81\" class=\"edge\">\n<title>140284650299152&#45;&gt;140284650298896</title>\n<path fill=\"none\" stroke=\"#000000\" d=\"M956.2385,-4978.2615C966.5722,-4967.9278 983.0976,-4951.4024 995.5706,-4938.9294\"/>\n<polygon fill=\"#000000\" stroke=\"#000000\" points=\"998.1253,-4941.3245 1002.7215,-4931.7785 993.1755,-4936.3747 998.1253,-4941.3245\"/>\n</g>\n<!-- 140284650299280 -->\n<g id=\"node84\" class=\"node\">\n<title>140284650299280</title>\n<polygon fill=\"#d3d3d3\" stroke=\"#000000\" points=\"750,-5058 583,-5058 583,-5039 750,-5039 750,-5058\"/>\n<text text-anchor=\"middle\" x=\"666.5\" y=\"-5046\" font-family=\"monospace\" font-size=\"10.00\" fill=\"#000000\">MkldnnConvolutionBackward</text>\n</g>\n<!-- 140284650299280&#45;&gt;140284650299152 -->\n<g id=\"edge82\" class=\"edge\">\n<title>140284650299280&#45;&gt;140284650299152</title>\n<path fill=\"none\" stroke=\"#000000\" d=\"M710.558,-5038.9803C759.7502,-5028.3513 839.3924,-5011.1429 892.3464,-4999.7011\"/>\n<polygon fill=\"#000000\" stroke=\"#000000\" points=\"893.2018,-5003.0971 902.237,-4997.564 891.7233,-4996.255 893.2018,-5003.0971\"/>\n</g>\n<!-- 140284649786832 -->\n<g id=\"node85\" class=\"node\">\n<title>140284649786832</title>\n<polygon fill=\"#d3d3d3\" stroke=\"#000000\" points=\"453,-5118.5 358,-5118.5 358,-5099.5 453,-5099.5 453,-5118.5\"/>\n<text text-anchor=\"middle\" x=\"405.5\" y=\"-5106.5\" font-family=\"monospace\" font-size=\"10.00\" fill=\"#000000\">ReluBackward0</text>\n</g>\n<!-- 140284649786832&#45;&gt;140284650299280 -->\n<g id=\"edge83\" class=\"edge\">\n<title>140284649786832&#45;&gt;140284650299280</title>\n<path fill=\"none\" stroke=\"#000000\" d=\"M446.5684,-5099.4803C492.2318,-5088.8955 566.0435,-5071.7859 615.4041,-5060.3441\"/>\n<polygon fill=\"#000000\" stroke=\"#000000\" points=\"616.2892,-5063.7318 625.2406,-5058.064 614.7085,-5056.9126 616.2892,-5063.7318\"/>\n</g>\n<!-- 140284649786512 -->\n<g id=\"node86\" class=\"node\">\n<title>140284649786512</title>\n<polygon fill=\"#d3d3d3\" stroke=\"#000000\" points=\"397,-5184.5 242,-5184.5 242,-5165.5 397,-5165.5 397,-5184.5\"/>\n<text text-anchor=\"middle\" x=\"319.5\" y=\"-5172.5\" font-family=\"monospace\" font-size=\"10.00\" fill=\"#000000\">NativeBatchNormBackward</text>\n</g>\n<!-- 140284649786512&#45;&gt;140284649786832 -->\n<g id=\"edge84\" class=\"edge\">\n<title>140284649786512&#45;&gt;140284649786832</title>\n<path fill=\"none\" stroke=\"#000000\" d=\"M332.1896,-5165.2615C346.1153,-5154.5743 368.6706,-5137.2644 385.0895,-5124.6639\"/>\n<polygon fill=\"#000000\" stroke=\"#000000\" points=\"387.2357,-5127.4287 393.0379,-5118.5639 382.974,-5121.8755 387.2357,-5127.4287\"/>\n</g>\n<!-- 140284649785488 -->\n<g id=\"node87\" class=\"node\">\n<title>140284649785488</title>\n<polygon fill=\"#d3d3d3\" stroke=\"#000000\" points=\"230,-5245 63,-5245 63,-5226 230,-5226 230,-5245\"/>\n<text text-anchor=\"middle\" x=\"146.5\" y=\"-5233\" font-family=\"monospace\" font-size=\"10.00\" fill=\"#000000\">MkldnnConvolutionBackward</text>\n</g>\n<!-- 140284649785488&#45;&gt;140284649786512 -->\n<g id=\"edge85\" class=\"edge\">\n<title>140284649785488&#45;&gt;140284649786512</title>\n<path fill=\"none\" stroke=\"#000000\" d=\"M173.9124,-5225.9136C203.2693,-5215.6472 250.0195,-5199.2981 282.5959,-5187.9058\"/>\n<polygon fill=\"#000000\" stroke=\"#000000\" points=\"283.9318,-5191.1465 292.2159,-5184.5416 281.621,-5184.5389 283.9318,-5191.1465\"/>\n</g>\n<!-- 140284649785744 -->\n<g id=\"node88\" class=\"node\">\n<title>140284649785744</title>\n<polygon fill=\"#d3d3d3\" stroke=\"#000000\" points=\"176,-5305.5 75,-5305.5 75,-5286.5 176,-5286.5 176,-5305.5\"/>\n<text text-anchor=\"middle\" x=\"125.5\" y=\"-5293.5\" font-family=\"monospace\" font-size=\"10.00\" fill=\"#000000\">AccumulateGrad</text>\n</g>\n<!-- 140284649785744&#45;&gt;140284649785488 -->\n<g id=\"edge86\" class=\"edge\">\n<title>140284649785744&#45;&gt;140284649785488</title>\n<path fill=\"none\" stroke=\"#000000\" d=\"M128.874,-5286.2796C131.7957,-5277.8623 136.1113,-5265.4295 139.7408,-5254.973\"/>\n<polygon fill=\"#000000\" stroke=\"#000000\" points=\"143.0919,-5255.992 143.0646,-5245.3972 136.4789,-5253.6966 143.0919,-5255.992\"/>\n</g>\n<!-- 140284650303728 -->\n<g id=\"node89\" class=\"node\">\n<title>140284650303728</title>\n<polygon fill=\"#add8e6\" stroke=\"#000000\" points=\"251,-5377 0,-5377 0,-5347 251,-5347 251,-5377\"/>\n<text text-anchor=\"middle\" x=\"125.5\" y=\"-5365\" font-family=\"monospace\" font-size=\"10.00\" fill=\"#000000\">MobileNet_convolutional_layer1.0.weight</text>\n<text text-anchor=\"middle\" x=\"125.5\" y=\"-5354\" font-family=\"monospace\" font-size=\"10.00\" fill=\"#000000\"> (32, 1, 3, 3)</text>\n</g>\n<!-- 140284650303728&#45;&gt;140284649785744 -->\n<g id=\"edge87\" class=\"edge\">\n<title>140284650303728&#45;&gt;140284649785744</title>\n<path fill=\"none\" stroke=\"#000000\" d=\"M125.5,-5346.6924C125.5,-5337.5067 125.5,-5325.7245 125.5,-5315.8312\"/>\n<polygon fill=\"#000000\" stroke=\"#000000\" points=\"129.0001,-5315.703 125.5,-5305.7031 122.0001,-5315.7031 129.0001,-5315.703\"/>\n</g>\n<!-- 140284649785680 -->\n<g id=\"node90\" class=\"node\">\n<title>140284649785680</title>\n<polygon fill=\"#d3d3d3\" stroke=\"#000000\" points=\"370,-5245 269,-5245 269,-5226 370,-5226 370,-5245\"/>\n<text text-anchor=\"middle\" x=\"319.5\" y=\"-5233\" font-family=\"monospace\" font-size=\"10.00\" fill=\"#000000\">AccumulateGrad</text>\n</g>\n<!-- 140284649785680&#45;&gt;140284649786512 -->\n<g id=\"edge88\" class=\"edge\">\n<title>140284649785680&#45;&gt;140284649786512</title>\n<path fill=\"none\" stroke=\"#000000\" d=\"M319.5,-5225.7796C319.5,-5217.5376 319.5,-5205.4457 319.5,-5195.129\"/>\n<polygon fill=\"#000000\" stroke=\"#000000\" points=\"323.0001,-5194.8972 319.5,-5184.8972 316.0001,-5194.8973 323.0001,-5194.8972\"/>\n</g>\n<!-- 140284650303648 -->\n<g id=\"node91\" class=\"node\">\n<title>140284650303648</title>\n<polygon fill=\"#add8e6\" stroke=\"#000000\" points=\"445,-5311 194,-5311 194,-5281 445,-5281 445,-5311\"/>\n<text text-anchor=\"middle\" x=\"319.5\" y=\"-5299\" font-family=\"monospace\" font-size=\"10.00\" fill=\"#000000\">MobileNet_convolutional_layer1.1.weight</text>\n<text text-anchor=\"middle\" x=\"319.5\" y=\"-5288\" font-family=\"monospace\" font-size=\"10.00\" fill=\"#000000\"> (32)</text>\n</g>\n<!-- 140284650303648&#45;&gt;140284649785680 -->\n<g id=\"edge89\" class=\"edge\">\n<title>140284650303648&#45;&gt;140284649785680</title>\n<path fill=\"none\" stroke=\"#000000\" d=\"M319.5,-5280.7333C319.5,-5273.0322 319.5,-5263.5977 319.5,-5255.3414\"/>\n<polygon fill=\"#000000\" stroke=\"#000000\" points=\"323.0001,-5255.0864 319.5,-5245.0864 316.0001,-5255.0864 323.0001,-5255.0864\"/>\n</g>\n<!-- 140284649785424 -->\n<g id=\"node92\" class=\"node\">\n<title>140284649785424</title>\n<polygon fill=\"#d3d3d3\" stroke=\"#000000\" points=\"561,-5245 460,-5245 460,-5226 561,-5226 561,-5245\"/>\n<text text-anchor=\"middle\" x=\"510.5\" y=\"-5233\" font-family=\"monospace\" font-size=\"10.00\" fill=\"#000000\">AccumulateGrad</text>\n</g>\n<!-- 140284649785424&#45;&gt;140284649786512 -->\n<g id=\"edge90\" class=\"edge\">\n<title>140284649785424&#45;&gt;140284649786512</title>\n<path fill=\"none\" stroke=\"#000000\" d=\"M480.2355,-5225.9136C447.5447,-5215.5587 395.3184,-5199.0158 359.3171,-5187.6122\"/>\n<polygon fill=\"#000000\" stroke=\"#000000\" points=\"360.213,-5184.2247 349.6229,-5184.5416 358.0992,-5190.8979 360.213,-5184.2247\"/>\n</g>\n<!-- 140284650303888 -->\n<g id=\"node93\" class=\"node\">\n<title>140284650303888</title>\n<polygon fill=\"#add8e6\" stroke=\"#000000\" points=\"702,-5311 463,-5311 463,-5281 702,-5281 702,-5311\"/>\n<text text-anchor=\"middle\" x=\"582.5\" y=\"-5299\" font-family=\"monospace\" font-size=\"10.00\" fill=\"#000000\">MobileNet_convolutional_layer1.1.bias</text>\n<text text-anchor=\"middle\" x=\"582.5\" y=\"-5288\" font-family=\"monospace\" font-size=\"10.00\" fill=\"#000000\"> (32)</text>\n</g>\n<!-- 140284650303888&#45;&gt;140284649785424 -->\n<g id=\"edge91\" class=\"edge\">\n<title>140284650303888&#45;&gt;140284649785424</title>\n<path fill=\"none\" stroke=\"#000000\" d=\"M564.3314,-5280.7333C553.8125,-5271.8945 540.5763,-5260.7724 529.8613,-5251.7688\"/>\n<polygon fill=\"#000000\" stroke=\"#000000\" points=\"531.8163,-5248.84 521.9086,-5245.0864 527.313,-5254.1992 531.8163,-5248.84\"/>\n</g>\n<!-- 140284649787216 -->\n<g id=\"node94\" class=\"node\">\n<title>140284649787216</title>\n<polygon fill=\"#d3d3d3\" stroke=\"#000000\" points=\"657,-5118.5 556,-5118.5 556,-5099.5 657,-5099.5 657,-5118.5\"/>\n<text text-anchor=\"middle\" x=\"606.5\" y=\"-5106.5\" font-family=\"monospace\" font-size=\"10.00\" fill=\"#000000\">AccumulateGrad</text>\n</g>\n<!-- 140284649787216&#45;&gt;140284650299280 -->\n<g id=\"edge92\" class=\"edge\">\n<title>140284649787216&#45;&gt;140284650299280</title>\n<path fill=\"none\" stroke=\"#000000\" d=\"M616.14,-5099.2796C625.0965,-5090.2485 638.6372,-5076.595 649.4228,-5065.7195\"/>\n<polygon fill=\"#000000\" stroke=\"#000000\" points=\"652.128,-5067.9622 656.6846,-5058.3972 647.1577,-5063.033 652.128,-5067.9622\"/>\n</g>\n<!-- 140284650307408 -->\n<g id=\"node95\" class=\"node\">\n<title>140284650307408</title>\n<polygon fill=\"#add8e6\" stroke=\"#000000\" points=\"798,-5190 415,-5190 415,-5160 798,-5160 798,-5190\"/>\n<text text-anchor=\"middle\" x=\"606.5\" y=\"-5178\" font-family=\"monospace\" font-size=\"10.00\" fill=\"#000000\">MobileNet_convolutional_layer1.3.stage1.0.deep_network.weight</text>\n<text text-anchor=\"middle\" x=\"606.5\" y=\"-5167\" font-family=\"monospace\" font-size=\"10.00\" fill=\"#000000\"> (32, 1, 3, 3)</text>\n</g>\n<!-- 140284650307408&#45;&gt;140284649787216 -->\n<g id=\"edge93\" class=\"edge\">\n<title>140284650307408&#45;&gt;140284649787216</title>\n<path fill=\"none\" stroke=\"#000000\" d=\"M606.5,-5159.6924C606.5,-5150.5067 606.5,-5138.7245 606.5,-5128.8312\"/>\n<polygon fill=\"#000000\" stroke=\"#000000\" points=\"610.0001,-5128.703 606.5,-5118.7031 603.0001,-5128.7031 610.0001,-5128.703\"/>\n</g>\n<!-- 140284649786576 -->\n<g id=\"node96\" class=\"node\">\n<title>140284649786576</title>\n<polygon fill=\"#d3d3d3\" stroke=\"#000000\" points=\"776,-5118.5 675,-5118.5 675,-5099.5 776,-5099.5 776,-5118.5\"/>\n<text text-anchor=\"middle\" x=\"725.5\" y=\"-5106.5\" font-family=\"monospace\" font-size=\"10.00\" fill=\"#000000\">AccumulateGrad</text>\n</g>\n<!-- 140284649786576&#45;&gt;140284650299280 -->\n<g id=\"edge94\" class=\"edge\">\n<title>140284649786576&#45;&gt;140284650299280</title>\n<path fill=\"none\" stroke=\"#000000\" d=\"M716.0206,-5099.2796C707.2134,-5090.2485 693.8984,-5076.595 683.2926,-5065.7195\"/>\n<polygon fill=\"#000000\" stroke=\"#000000\" points=\"685.6394,-5063.1129 676.1519,-5058.3972 680.6279,-5068.0002 685.6394,-5063.1129\"/>\n</g>\n<!-- 140284650307488 -->\n<g id=\"node97\" class=\"node\">\n<title>140284650307488</title>\n<polygon fill=\"#add8e6\" stroke=\"#000000\" points=\"1187,-5190 816,-5190 816,-5160 1187,-5160 1187,-5190\"/>\n<text text-anchor=\"middle\" x=\"1001.5\" y=\"-5178\" font-family=\"monospace\" font-size=\"10.00\" fill=\"#000000\">MobileNet_convolutional_layer1.3.stage1.0.deep_network.bias</text>\n<text text-anchor=\"middle\" x=\"1001.5\" y=\"-5167\" font-family=\"monospace\" font-size=\"10.00\" fill=\"#000000\"> (32)</text>\n</g>\n<!-- 140284650307488&#45;&gt;140284649786576 -->\n<g id=\"edge95\" class=\"edge\">\n<title>140284650307488&#45;&gt;140284649786576</title>\n<path fill=\"none\" stroke=\"#000000\" d=\"M935.9041,-5159.9095C892.8194,-5149.9174 835.2489,-5136.4136 784.5,-5124 780.6261,-5123.0524 776.6123,-5122.0583 772.5841,-5121.0519\"/>\n<polygon fill=\"#000000\" stroke=\"#000000\" points=\"773.1644,-5117.5889 762.6127,-5118.5446 771.4573,-5124.3776 773.1644,-5117.5889\"/>\n</g>\n<!-- 140284650299216 -->\n<g id=\"node98\" class=\"node\">\n<title>140284650299216</title>\n<polygon fill=\"#d3d3d3\" stroke=\"#000000\" points=\"997,-5058 896,-5058 896,-5039 997,-5039 997,-5058\"/>\n<text text-anchor=\"middle\" x=\"946.5\" y=\"-5046\" font-family=\"monospace\" font-size=\"10.00\" fill=\"#000000\">AccumulateGrad</text>\n</g>\n<!-- 140284650299216&#45;&gt;140284650299152 -->\n<g id=\"edge96\" class=\"edge\">\n<title>140284650299216&#45;&gt;140284650299152</title>\n<path fill=\"none\" stroke=\"#000000\" d=\"M946.5,-5038.7796C946.5,-5030.5376 946.5,-5018.4457 946.5,-5008.129\"/>\n<polygon fill=\"#000000\" stroke=\"#000000\" points=\"950.0001,-5007.8972 946.5,-4997.8972 943.0001,-5007.8973 950.0001,-5007.8972\"/>\n</g>\n<!-- 140284650360912 -->\n<g id=\"node99\" class=\"node\">\n<title>140284650360912</title>\n<polygon fill=\"#add8e6\" stroke=\"#000000\" points=\"1099,-5124 794,-5124 794,-5094 1099,-5094 1099,-5124\"/>\n<text text-anchor=\"middle\" x=\"946.5\" y=\"-5112\" font-family=\"monospace\" font-size=\"10.00\" fill=\"#000000\">MobileNet_convolutional_layer1.3.stage1.1.weight</text>\n<text text-anchor=\"middle\" x=\"946.5\" y=\"-5101\" font-family=\"monospace\" font-size=\"10.00\" fill=\"#000000\"> (32)</text>\n</g>\n<!-- 140284650360912&#45;&gt;140284650299216 -->\n<g id=\"edge97\" class=\"edge\">\n<title>140284650360912&#45;&gt;140284650299216</title>\n<path fill=\"none\" stroke=\"#000000\" d=\"M946.5,-5093.7333C946.5,-5086.0322 946.5,-5076.5977 946.5,-5068.3414\"/>\n<polygon fill=\"#000000\" stroke=\"#000000\" points=\"950.0001,-5068.0864 946.5,-5058.0864 943.0001,-5068.0864 950.0001,-5068.0864\"/>\n</g>\n<!-- 140284649787088 -->\n<g id=\"node100\" class=\"node\">\n<title>140284649787088</title>\n<polygon fill=\"#d3d3d3\" stroke=\"#000000\" points=\"1215,-5058 1114,-5058 1114,-5039 1215,-5039 1215,-5058\"/>\n<text text-anchor=\"middle\" x=\"1164.5\" y=\"-5046\" font-family=\"monospace\" font-size=\"10.00\" fill=\"#000000\">AccumulateGrad</text>\n</g>\n<!-- 140284649787088&#45;&gt;140284650299152 -->\n<g id=\"edge98\" class=\"edge\">\n<title>140284649787088&#45;&gt;140284650299152</title>\n<path fill=\"none\" stroke=\"#000000\" d=\"M1129.9573,-5038.9136C1092.2466,-5028.448 1031.7599,-5011.6616 990.6351,-5000.2485\"/>\n<polygon fill=\"#000000\" stroke=\"#000000\" points=\"991.4529,-4996.8432 980.8811,-4997.5416 989.581,-5003.5883 991.4529,-4996.8432\"/>\n</g>\n<!-- 140284650360992 -->\n<g id=\"node101\" class=\"node\">\n<title>140284650360992</title>\n<polygon fill=\"#add8e6\" stroke=\"#000000\" points=\"1410,-5124 1117,-5124 1117,-5094 1410,-5094 1410,-5124\"/>\n<text text-anchor=\"middle\" x=\"1263.5\" y=\"-5112\" font-family=\"monospace\" font-size=\"10.00\" fill=\"#000000\">MobileNet_convolutional_layer1.3.stage1.1.bias</text>\n<text text-anchor=\"middle\" x=\"1263.5\" y=\"-5101\" font-family=\"monospace\" font-size=\"10.00\" fill=\"#000000\"> (32)</text>\n</g>\n<!-- 140284650360992&#45;&gt;140284649787088 -->\n<g id=\"edge99\" class=\"edge\">\n<title>140284650360992&#45;&gt;140284649787088</title>\n<path fill=\"none\" stroke=\"#000000\" d=\"M1238.7735,-5093.8894C1223.5965,-5084.6145 1204.2332,-5072.7814 1189.0827,-5063.5228\"/>\n<polygon fill=\"#000000\" stroke=\"#000000\" points=\"1190.6268,-5060.3646 1180.2689,-5058.1366 1186.9767,-5066.3376 1190.6268,-5060.3646\"/>\n</g>\n<!-- 140284650299088 -->\n<g id=\"node102\" class=\"node\">\n<title>140284650299088</title>\n<polygon fill=\"#d3d3d3\" stroke=\"#000000\" points=\"1245,-4931.5 1144,-4931.5 1144,-4912.5 1245,-4912.5 1245,-4931.5\"/>\n<text text-anchor=\"middle\" x=\"1194.5\" y=\"-4919.5\" font-family=\"monospace\" font-size=\"10.00\" fill=\"#000000\">AccumulateGrad</text>\n</g>\n<!-- 140284650299088&#45;&gt;140284650298704 -->\n<g id=\"edge100\" class=\"edge\">\n<title>140284650299088&#45;&gt;140284650298704</title>\n<path fill=\"none\" stroke=\"#000000\" d=\"M1204.14,-4912.2796C1213.0965,-4903.2485 1226.6372,-4889.595 1237.4228,-4878.7195\"/>\n<polygon fill=\"#000000\" stroke=\"#000000\" points=\"1240.128,-4880.9622 1244.6846,-4871.3972 1235.1577,-4876.033 1240.128,-4880.9622\"/>\n</g>\n<!-- 140284650361312 -->\n<g id=\"node103\" class=\"node\">\n<title>140284650361312</title>\n<polygon fill=\"#add8e6\" stroke=\"#000000\" points=\"1347,-5003 1042,-5003 1042,-4973 1347,-4973 1347,-5003\"/>\n<text text-anchor=\"middle\" x=\"1194.5\" y=\"-4991\" font-family=\"monospace\" font-size=\"10.00\" fill=\"#000000\">MobileNet_convolutional_layer1.4.stage2.0.weight</text>\n<text text-anchor=\"middle\" x=\"1194.5\" y=\"-4980\" font-family=\"monospace\" font-size=\"10.00\" fill=\"#000000\"> (64, 32, 3, 3)</text>\n</g>\n<!-- 140284650361312&#45;&gt;140284650299088 -->\n<g id=\"edge101\" class=\"edge\">\n<title>140284650361312&#45;&gt;140284650299088</title>\n<path fill=\"none\" stroke=\"#000000\" d=\"M1194.5,-4972.6924C1194.5,-4963.5067 1194.5,-4951.7245 1194.5,-4941.8312\"/>\n<polygon fill=\"#000000\" stroke=\"#000000\" points=\"1198.0001,-4941.703 1194.5,-4931.7031 1191.0001,-4941.7031 1198.0001,-4941.703\"/>\n</g>\n<!-- 140284650299024 -->\n<g id=\"node104\" class=\"node\">\n<title>140284650299024</title>\n<polygon fill=\"#d3d3d3\" stroke=\"#000000\" points=\"1364,-4931.5 1263,-4931.5 1263,-4912.5 1364,-4912.5 1364,-4931.5\"/>\n<text text-anchor=\"middle\" x=\"1313.5\" y=\"-4919.5\" font-family=\"monospace\" font-size=\"10.00\" fill=\"#000000\">AccumulateGrad</text>\n</g>\n<!-- 140284650299024&#45;&gt;140284650298704 -->\n<g id=\"edge102\" class=\"edge\">\n<title>140284650299024&#45;&gt;140284650298704</title>\n<path fill=\"none\" stroke=\"#000000\" d=\"M1304.0206,-4912.2796C1295.2134,-4903.2485 1281.8984,-4889.595 1271.2926,-4878.7195\"/>\n<polygon fill=\"#000000\" stroke=\"#000000\" points=\"1273.6394,-4876.1129 1264.1519,-4871.3972 1268.6279,-4881.0002 1273.6394,-4876.1129\"/>\n</g>\n<!-- 140284650361392 -->\n<g id=\"node105\" class=\"node\">\n<title>140284650361392</title>\n<polygon fill=\"#add8e6\" stroke=\"#000000\" points=\"1658,-5003 1365,-5003 1365,-4973 1658,-4973 1658,-5003\"/>\n<text text-anchor=\"middle\" x=\"1511.5\" y=\"-4991\" font-family=\"monospace\" font-size=\"10.00\" fill=\"#000000\">MobileNet_convolutional_layer1.4.stage2.0.bias</text>\n<text text-anchor=\"middle\" x=\"1511.5\" y=\"-4980\" font-family=\"monospace\" font-size=\"10.00\" fill=\"#000000\"> (64)</text>\n</g>\n<!-- 140284650361392&#45;&gt;140284650299024 -->\n<g id=\"edge103\" class=\"edge\">\n<title>140284650361392&#45;&gt;140284650299024</title>\n<path fill=\"none\" stroke=\"#000000\" d=\"M1466.0748,-4972.8583C1431.5162,-4961.3387 1384.4936,-4945.6645 1351.8224,-4934.7741\"/>\n<polygon fill=\"#000000\" stroke=\"#000000\" points=\"1352.7672,-4931.3998 1342.1735,-4931.5578 1350.5536,-4938.0406 1352.7672,-4931.3998\"/>\n</g>\n<!-- 140284650298832 -->\n<g id=\"node106\" class=\"node\">\n<title>140284650298832</title>\n<polygon fill=\"#d3d3d3\" stroke=\"#000000\" points=\"1585,-4871 1484,-4871 1484,-4852 1585,-4852 1585,-4871\"/>\n<text text-anchor=\"middle\" x=\"1534.5\" y=\"-4859\" font-family=\"monospace\" font-size=\"10.00\" fill=\"#000000\">AccumulateGrad</text>\n</g>\n<!-- 140284650298832&#45;&gt;140284650298512 -->\n<g id=\"edge104\" class=\"edge\">\n<title>140284650298832&#45;&gt;140284650298512</title>\n<path fill=\"none\" stroke=\"#000000\" d=\"M1534.5,-4851.7796C1534.5,-4843.5376 1534.5,-4831.4457 1534.5,-4821.129\"/>\n<polygon fill=\"#000000\" stroke=\"#000000\" points=\"1538.0001,-4820.8972 1534.5,-4810.8972 1531.0001,-4820.8973 1538.0001,-4820.8972\"/>\n</g>\n<!-- 140284650361472 -->\n<g id=\"node107\" class=\"node\">\n<title>140284650361472</title>\n<polygon fill=\"#add8e6\" stroke=\"#000000\" points=\"1687,-4937 1382,-4937 1382,-4907 1687,-4907 1687,-4937\"/>\n<text text-anchor=\"middle\" x=\"1534.5\" y=\"-4925\" font-family=\"monospace\" font-size=\"10.00\" fill=\"#000000\">MobileNet_convolutional_layer1.4.stage2.1.weight</text>\n<text text-anchor=\"middle\" x=\"1534.5\" y=\"-4914\" font-family=\"monospace\" font-size=\"10.00\" fill=\"#000000\"> (64)</text>\n</g>\n<!-- 140284650361472&#45;&gt;140284650298832 -->\n<g id=\"edge105\" class=\"edge\">\n<title>140284650361472&#45;&gt;140284650298832</title>\n<path fill=\"none\" stroke=\"#000000\" d=\"M1534.5,-4906.7333C1534.5,-4899.0322 1534.5,-4889.5977 1534.5,-4881.3414\"/>\n<polygon fill=\"#000000\" stroke=\"#000000\" points=\"1538.0001,-4881.0864 1534.5,-4871.0864 1531.0001,-4881.0864 1538.0001,-4881.0864\"/>\n</g>\n<!-- 140284650298576 -->\n<g id=\"node108\" class=\"node\">\n<title>140284650298576</title>\n<polygon fill=\"#d3d3d3\" stroke=\"#000000\" points=\"1803,-4871 1702,-4871 1702,-4852 1803,-4852 1803,-4871\"/>\n<text text-anchor=\"middle\" x=\"1752.5\" y=\"-4859\" font-family=\"monospace\" font-size=\"10.00\" fill=\"#000000\">AccumulateGrad</text>\n</g>\n<!-- 140284650298576&#45;&gt;140284650298512 -->\n<g id=\"edge106\" class=\"edge\">\n<title>140284650298576&#45;&gt;140284650298512</title>\n<path fill=\"none\" stroke=\"#000000\" d=\"M1717.9573,-4851.9136C1680.2466,-4841.448 1619.7599,-4824.6616 1578.6351,-4813.2485\"/>\n<polygon fill=\"#000000\" stroke=\"#000000\" points=\"1579.4529,-4809.8432 1568.8811,-4810.5416 1577.581,-4816.5883 1579.4529,-4809.8432\"/>\n</g>\n<!-- 140284650361552 -->\n<g id=\"node109\" class=\"node\">\n<title>140284650361552</title>\n<polygon fill=\"#add8e6\" stroke=\"#000000\" points=\"1998,-4937 1705,-4937 1705,-4907 1998,-4907 1998,-4937\"/>\n<text text-anchor=\"middle\" x=\"1851.5\" y=\"-4925\" font-family=\"monospace\" font-size=\"10.00\" fill=\"#000000\">MobileNet_convolutional_layer1.4.stage2.1.bias</text>\n<text text-anchor=\"middle\" x=\"1851.5\" y=\"-4914\" font-family=\"monospace\" font-size=\"10.00\" fill=\"#000000\"> (64)</text>\n</g>\n<!-- 140284650361552&#45;&gt;140284650298576 -->\n<g id=\"edge107\" class=\"edge\">\n<title>140284650361552&#45;&gt;140284650298576</title>\n<path fill=\"none\" stroke=\"#000000\" d=\"M1826.7735,-4906.8894C1811.5965,-4897.6145 1792.2332,-4885.7814 1777.0827,-4876.5228\"/>\n<polygon fill=\"#000000\" stroke=\"#000000\" points=\"1778.6268,-4873.3646 1768.2689,-4871.1366 1774.9767,-4879.3376 1778.6268,-4873.3646\"/>\n</g>\n<!-- 140284650298448 -->\n<g id=\"node110\" class=\"node\">\n<title>140284650298448</title>\n<polygon fill=\"#d3d3d3\" stroke=\"#000000\" points=\"1872,-4744.5 1771,-4744.5 1771,-4725.5 1872,-4725.5 1872,-4744.5\"/>\n<text text-anchor=\"middle\" x=\"1821.5\" y=\"-4732.5\" font-family=\"monospace\" font-size=\"10.00\" fill=\"#000000\">AccumulateGrad</text>\n</g>\n<!-- 140284650298448&#45;&gt;140284650298064 -->\n<g id=\"edge108\" class=\"edge\">\n<title>140284650298448&#45;&gt;140284650298064</title>\n<path fill=\"none\" stroke=\"#000000\" d=\"M1831.14,-4725.2796C1840.0965,-4716.2485 1853.6372,-4702.595 1864.4228,-4691.7195\"/>\n<polygon fill=\"#000000\" stroke=\"#000000\" points=\"1867.128,-4693.9622 1871.6846,-4684.3972 1862.1577,-4689.033 1867.128,-4693.9622\"/>\n</g>\n<!-- 140284650361872 -->\n<g id=\"node111\" class=\"node\">\n<title>140284650361872</title>\n<polygon fill=\"#add8e6\" stroke=\"#000000\" points=\"2013,-4816 1630,-4816 1630,-4786 2013,-4786 2013,-4816\"/>\n<text text-anchor=\"middle\" x=\"1821.5\" y=\"-4804\" font-family=\"monospace\" font-size=\"10.00\" fill=\"#000000\">MobileNet_convolutional_layer1.5.stage1.0.deep_network.weight</text>\n<text text-anchor=\"middle\" x=\"1821.5\" y=\"-4793\" font-family=\"monospace\" font-size=\"10.00\" fill=\"#000000\"> (64, 1, 3, 3)</text>\n</g>\n<!-- 140284650361872&#45;&gt;140284650298448 -->\n<g id=\"edge109\" class=\"edge\">\n<title>140284650361872&#45;&gt;140284650298448</title>\n<path fill=\"none\" stroke=\"#000000\" d=\"M1821.5,-4785.6924C1821.5,-4776.5067 1821.5,-4764.7245 1821.5,-4754.8312\"/>\n<polygon fill=\"#000000\" stroke=\"#000000\" points=\"1825.0001,-4754.703 1821.5,-4744.7031 1818.0001,-4754.7031 1825.0001,-4754.703\"/>\n</g>\n<!-- 140284650298384 -->\n<g id=\"node112\" class=\"node\">\n<title>140284650298384</title>\n<polygon fill=\"#d3d3d3\" stroke=\"#000000\" points=\"1991,-4744.5 1890,-4744.5 1890,-4725.5 1991,-4725.5 1991,-4744.5\"/>\n<text text-anchor=\"middle\" x=\"1940.5\" y=\"-4732.5\" font-family=\"monospace\" font-size=\"10.00\" fill=\"#000000\">AccumulateGrad</text>\n</g>\n<!-- 140284650298384&#45;&gt;140284650298064 -->\n<g id=\"edge110\" class=\"edge\">\n<title>140284650298384&#45;&gt;140284650298064</title>\n<path fill=\"none\" stroke=\"#000000\" d=\"M1931.0206,-4725.2796C1922.2134,-4716.2485 1908.8984,-4702.595 1898.2926,-4691.7195\"/>\n<polygon fill=\"#000000\" stroke=\"#000000\" points=\"1900.6394,-4689.1129 1891.1519,-4684.3972 1895.6279,-4694.0002 1900.6394,-4689.1129\"/>\n</g>\n<!-- 140284650361952 -->\n<g id=\"node113\" class=\"node\">\n<title>140284650361952</title>\n<polygon fill=\"#add8e6\" stroke=\"#000000\" points=\"2402,-4816 2031,-4816 2031,-4786 2402,-4786 2402,-4816\"/>\n<text text-anchor=\"middle\" x=\"2216.5\" y=\"-4804\" font-family=\"monospace\" font-size=\"10.00\" fill=\"#000000\">MobileNet_convolutional_layer1.5.stage1.0.deep_network.bias</text>\n<text text-anchor=\"middle\" x=\"2216.5\" y=\"-4793\" font-family=\"monospace\" font-size=\"10.00\" fill=\"#000000\"> (64)</text>\n</g>\n<!-- 140284650361952&#45;&gt;140284650298384 -->\n<g id=\"edge111\" class=\"edge\">\n<title>140284650361952&#45;&gt;140284650298384</title>\n<path fill=\"none\" stroke=\"#000000\" d=\"M2150.9041,-4785.9095C2107.8194,-4775.9174 2050.2489,-4762.4136 1999.5,-4750 1995.6261,-4749.0524 1991.6123,-4748.0583 1987.5841,-4747.0519\"/>\n<polygon fill=\"#000000\" stroke=\"#000000\" points=\"1988.1644,-4743.5889 1977.6127,-4744.5446 1986.4573,-4750.3776 1988.1644,-4743.5889\"/>\n</g>\n<!-- 140284650298192 -->\n<g id=\"node114\" class=\"node\">\n<title>140284650298192</title>\n<polygon fill=\"#d3d3d3\" stroke=\"#000000\" points=\"2212,-4684 2111,-4684 2111,-4665 2212,-4665 2212,-4684\"/>\n<text text-anchor=\"middle\" x=\"2161.5\" y=\"-4672\" font-family=\"monospace\" font-size=\"10.00\" fill=\"#000000\">AccumulateGrad</text>\n</g>\n<!-- 140284650298192&#45;&gt;140284650297872 -->\n<g id=\"edge112\" class=\"edge\">\n<title>140284650298192&#45;&gt;140284650297872</title>\n<path fill=\"none\" stroke=\"#000000\" d=\"M2161.5,-4664.7796C2161.5,-4656.5376 2161.5,-4644.4457 2161.5,-4634.129\"/>\n<polygon fill=\"#000000\" stroke=\"#000000\" points=\"2165.0001,-4633.8972 2161.5,-4623.8972 2158.0001,-4633.8973 2165.0001,-4633.8972\"/>\n</g>\n<!-- 140284650362032 -->\n<g id=\"node115\" class=\"node\">\n<title>140284650362032</title>\n<polygon fill=\"#add8e6\" stroke=\"#000000\" points=\"2314,-4750 2009,-4750 2009,-4720 2314,-4720 2314,-4750\"/>\n<text text-anchor=\"middle\" x=\"2161.5\" y=\"-4738\" font-family=\"monospace\" font-size=\"10.00\" fill=\"#000000\">MobileNet_convolutional_layer1.5.stage1.1.weight</text>\n<text text-anchor=\"middle\" x=\"2161.5\" y=\"-4727\" font-family=\"monospace\" font-size=\"10.00\" fill=\"#000000\"> (64)</text>\n</g>\n<!-- 140284650362032&#45;&gt;140284650298192 -->\n<g id=\"edge113\" class=\"edge\">\n<title>140284650362032&#45;&gt;140284650298192</title>\n<path fill=\"none\" stroke=\"#000000\" d=\"M2161.5,-4719.7333C2161.5,-4712.0322 2161.5,-4702.5977 2161.5,-4694.3414\"/>\n<polygon fill=\"#000000\" stroke=\"#000000\" points=\"2165.0001,-4694.0864 2161.5,-4684.0864 2158.0001,-4694.0864 2165.0001,-4694.0864\"/>\n</g>\n<!-- 140284650297936 -->\n<g id=\"node116\" class=\"node\">\n<title>140284650297936</title>\n<polygon fill=\"#d3d3d3\" stroke=\"#000000\" points=\"2430,-4684 2329,-4684 2329,-4665 2430,-4665 2430,-4684\"/>\n<text text-anchor=\"middle\" x=\"2379.5\" y=\"-4672\" font-family=\"monospace\" font-size=\"10.00\" fill=\"#000000\">AccumulateGrad</text>\n</g>\n<!-- 140284650297936&#45;&gt;140284650297872 -->\n<g id=\"edge114\" class=\"edge\">\n<title>140284650297936&#45;&gt;140284650297872</title>\n<path fill=\"none\" stroke=\"#000000\" d=\"M2344.9573,-4664.9136C2307.2466,-4654.448 2246.7599,-4637.6616 2205.6351,-4626.2485\"/>\n<polygon fill=\"#000000\" stroke=\"#000000\" points=\"2206.4529,-4622.8432 2195.8811,-4623.5416 2204.581,-4629.5883 2206.4529,-4622.8432\"/>\n</g>\n<!-- 140284650362112 -->\n<g id=\"node117\" class=\"node\">\n<title>140284650362112</title>\n<polygon fill=\"#add8e6\" stroke=\"#000000\" points=\"2625,-4750 2332,-4750 2332,-4720 2625,-4720 2625,-4750\"/>\n<text text-anchor=\"middle\" x=\"2478.5\" y=\"-4738\" font-family=\"monospace\" font-size=\"10.00\" fill=\"#000000\">MobileNet_convolutional_layer1.5.stage1.1.bias</text>\n<text text-anchor=\"middle\" x=\"2478.5\" y=\"-4727\" font-family=\"monospace\" font-size=\"10.00\" fill=\"#000000\"> (64)</text>\n</g>\n<!-- 140284650362112&#45;&gt;140284650297936 -->\n<g id=\"edge115\" class=\"edge\">\n<title>140284650362112&#45;&gt;140284650297936</title>\n<path fill=\"none\" stroke=\"#000000\" d=\"M2453.7735,-4719.8894C2438.5965,-4710.6145 2419.2332,-4698.7814 2404.0827,-4689.5228\"/>\n<polygon fill=\"#000000\" stroke=\"#000000\" points=\"2405.6268,-4686.3646 2395.2689,-4684.1366 2401.9767,-4692.3376 2405.6268,-4686.3646\"/>\n</g>\n<!-- 140284650297808 -->\n<g id=\"node118\" class=\"node\">\n<title>140284650297808</title>\n<polygon fill=\"#d3d3d3\" stroke=\"#000000\" points=\"2460,-4557.5 2359,-4557.5 2359,-4538.5 2460,-4538.5 2460,-4557.5\"/>\n<text text-anchor=\"middle\" x=\"2409.5\" y=\"-4545.5\" font-family=\"monospace\" font-size=\"10.00\" fill=\"#000000\">AccumulateGrad</text>\n</g>\n<!-- 140284650297808&#45;&gt;140284650297424 -->\n<g id=\"edge116\" class=\"edge\">\n<title>140284650297808&#45;&gt;140284650297424</title>\n<path fill=\"none\" stroke=\"#000000\" d=\"M2419.14,-4538.2796C2428.0965,-4529.2485 2441.6372,-4515.595 2452.4228,-4504.7195\"/>\n<polygon fill=\"#000000\" stroke=\"#000000\" points=\"2455.128,-4506.9622 2459.6846,-4497.3972 2450.1577,-4502.033 2455.128,-4506.9622\"/>\n</g>\n<!-- 140284650362432 -->\n<g id=\"node119\" class=\"node\">\n<title>140284650362432</title>\n<polygon fill=\"#add8e6\" stroke=\"#000000\" points=\"2562,-4629 2257,-4629 2257,-4599 2562,-4599 2562,-4629\"/>\n<text text-anchor=\"middle\" x=\"2409.5\" y=\"-4617\" font-family=\"monospace\" font-size=\"10.00\" fill=\"#000000\">MobileNet_convolutional_layer1.6.stage2.0.weight</text>\n<text text-anchor=\"middle\" x=\"2409.5\" y=\"-4606\" font-family=\"monospace\" font-size=\"10.00\" fill=\"#000000\"> (128, 64, 3, 3)</text>\n</g>\n<!-- 140284650362432&#45;&gt;140284650297808 -->\n<g id=\"edge117\" class=\"edge\">\n<title>140284650362432&#45;&gt;140284650297808</title>\n<path fill=\"none\" stroke=\"#000000\" d=\"M2409.5,-4598.6924C2409.5,-4589.5067 2409.5,-4577.7245 2409.5,-4567.8312\"/>\n<polygon fill=\"#000000\" stroke=\"#000000\" points=\"2413.0001,-4567.703 2409.5,-4557.7031 2406.0001,-4567.7031 2413.0001,-4567.703\"/>\n</g>\n<!-- 140284650297744 -->\n<g id=\"node120\" class=\"node\">\n<title>140284650297744</title>\n<polygon fill=\"#d3d3d3\" stroke=\"#000000\" points=\"2579,-4557.5 2478,-4557.5 2478,-4538.5 2579,-4538.5 2579,-4557.5\"/>\n<text text-anchor=\"middle\" x=\"2528.5\" y=\"-4545.5\" font-family=\"monospace\" font-size=\"10.00\" fill=\"#000000\">AccumulateGrad</text>\n</g>\n<!-- 140284650297744&#45;&gt;140284650297424 -->\n<g id=\"edge118\" class=\"edge\">\n<title>140284650297744&#45;&gt;140284650297424</title>\n<path fill=\"none\" stroke=\"#000000\" d=\"M2519.0206,-4538.2796C2510.2134,-4529.2485 2496.8984,-4515.595 2486.2926,-4504.7195\"/>\n<polygon fill=\"#000000\" stroke=\"#000000\" points=\"2488.6394,-4502.1129 2479.1519,-4497.3972 2483.6279,-4507.0002 2488.6394,-4502.1129\"/>\n</g>\n<!-- 140284650362512 -->\n<g id=\"node121\" class=\"node\">\n<title>140284650362512</title>\n<polygon fill=\"#add8e6\" stroke=\"#000000\" points=\"2873,-4629 2580,-4629 2580,-4599 2873,-4599 2873,-4629\"/>\n<text text-anchor=\"middle\" x=\"2726.5\" y=\"-4617\" font-family=\"monospace\" font-size=\"10.00\" fill=\"#000000\">MobileNet_convolutional_layer1.6.stage2.0.bias</text>\n<text text-anchor=\"middle\" x=\"2726.5\" y=\"-4606\" font-family=\"monospace\" font-size=\"10.00\" fill=\"#000000\"> (128)</text>\n</g>\n<!-- 140284650362512&#45;&gt;140284650297744 -->\n<g id=\"edge119\" class=\"edge\">\n<title>140284650362512&#45;&gt;140284650297744</title>\n<path fill=\"none\" stroke=\"#000000\" d=\"M2681.0748,-4598.8583C2646.5162,-4587.3387 2599.4936,-4571.6645 2566.8224,-4560.7741\"/>\n<polygon fill=\"#000000\" stroke=\"#000000\" points=\"2567.7672,-4557.3998 2557.1735,-4557.5578 2565.5536,-4564.0406 2567.7672,-4557.3998\"/>\n</g>\n<!-- 140284650297552 -->\n<g id=\"node122\" class=\"node\">\n<title>140284650297552</title>\n<polygon fill=\"#d3d3d3\" stroke=\"#000000\" points=\"2800,-4497 2699,-4497 2699,-4478 2800,-4478 2800,-4497\"/>\n<text text-anchor=\"middle\" x=\"2749.5\" y=\"-4485\" font-family=\"monospace\" font-size=\"10.00\" fill=\"#000000\">AccumulateGrad</text>\n</g>\n<!-- 140284650297552&#45;&gt;140284650297232 -->\n<g id=\"edge120\" class=\"edge\">\n<title>140284650297552&#45;&gt;140284650297232</title>\n<path fill=\"none\" stroke=\"#000000\" d=\"M2749.5,-4477.7796C2749.5,-4469.5376 2749.5,-4457.4457 2749.5,-4447.129\"/>\n<polygon fill=\"#000000\" stroke=\"#000000\" points=\"2753.0001,-4446.8972 2749.5,-4436.8972 2746.0001,-4446.8973 2753.0001,-4446.8972\"/>\n</g>\n<!-- 140284650362592 -->\n<g id=\"node123\" class=\"node\">\n<title>140284650362592</title>\n<polygon fill=\"#add8e6\" stroke=\"#000000\" points=\"2902,-4563 2597,-4563 2597,-4533 2902,-4533 2902,-4563\"/>\n<text text-anchor=\"middle\" x=\"2749.5\" y=\"-4551\" font-family=\"monospace\" font-size=\"10.00\" fill=\"#000000\">MobileNet_convolutional_layer1.6.stage2.1.weight</text>\n<text text-anchor=\"middle\" x=\"2749.5\" y=\"-4540\" font-family=\"monospace\" font-size=\"10.00\" fill=\"#000000\"> (128)</text>\n</g>\n<!-- 140284650362592&#45;&gt;140284650297552 -->\n<g id=\"edge121\" class=\"edge\">\n<title>140284650362592&#45;&gt;140284650297552</title>\n<path fill=\"none\" stroke=\"#000000\" d=\"M2749.5,-4532.7333C2749.5,-4525.0322 2749.5,-4515.5977 2749.5,-4507.3414\"/>\n<polygon fill=\"#000000\" stroke=\"#000000\" points=\"2753.0001,-4507.0864 2749.5,-4497.0864 2746.0001,-4507.0864 2753.0001,-4507.0864\"/>\n</g>\n<!-- 140284650297296 -->\n<g id=\"node124\" class=\"node\">\n<title>140284650297296</title>\n<polygon fill=\"#d3d3d3\" stroke=\"#000000\" points=\"3018,-4497 2917,-4497 2917,-4478 3018,-4478 3018,-4497\"/>\n<text text-anchor=\"middle\" x=\"2967.5\" y=\"-4485\" font-family=\"monospace\" font-size=\"10.00\" fill=\"#000000\">AccumulateGrad</text>\n</g>\n<!-- 140284650297296&#45;&gt;140284650297232 -->\n<g id=\"edge122\" class=\"edge\">\n<title>140284650297296&#45;&gt;140284650297232</title>\n<path fill=\"none\" stroke=\"#000000\" d=\"M2932.9573,-4477.9136C2895.2466,-4467.448 2834.7599,-4450.6616 2793.6351,-4439.2485\"/>\n<polygon fill=\"#000000\" stroke=\"#000000\" points=\"2794.4529,-4435.8432 2783.8811,-4436.5416 2792.581,-4442.5883 2794.4529,-4435.8432\"/>\n</g>\n<!-- 140284650362672 -->\n<g id=\"node125\" class=\"node\">\n<title>140284650362672</title>\n<polygon fill=\"#add8e6\" stroke=\"#000000\" points=\"3213,-4563 2920,-4563 2920,-4533 3213,-4533 3213,-4563\"/>\n<text text-anchor=\"middle\" x=\"3066.5\" y=\"-4551\" font-family=\"monospace\" font-size=\"10.00\" fill=\"#000000\">MobileNet_convolutional_layer1.6.stage2.1.bias</text>\n<text text-anchor=\"middle\" x=\"3066.5\" y=\"-4540\" font-family=\"monospace\" font-size=\"10.00\" fill=\"#000000\"> (128)</text>\n</g>\n<!-- 140284650362672&#45;&gt;140284650297296 -->\n<g id=\"edge123\" class=\"edge\">\n<title>140284650362672&#45;&gt;140284650297296</title>\n<path fill=\"none\" stroke=\"#000000\" d=\"M3041.7735,-4532.8894C3026.5965,-4523.6145 3007.2332,-4511.7814 2992.0827,-4502.5228\"/>\n<polygon fill=\"#000000\" stroke=\"#000000\" points=\"2993.6268,-4499.3646 2983.2689,-4497.1366 2989.9767,-4505.3376 2993.6268,-4499.3646\"/>\n</g>\n<!-- 140284650297168 -->\n<g id=\"node126\" class=\"node\">\n<title>140284650297168</title>\n<polygon fill=\"#d3d3d3\" stroke=\"#000000\" points=\"3087,-4370.5 2986,-4370.5 2986,-4351.5 3087,-4351.5 3087,-4370.5\"/>\n<text text-anchor=\"middle\" x=\"3036.5\" y=\"-4358.5\" font-family=\"monospace\" font-size=\"10.00\" fill=\"#000000\">AccumulateGrad</text>\n</g>\n<!-- 140284650297168&#45;&gt;140284650296784 -->\n<g id=\"edge124\" class=\"edge\">\n<title>140284650297168&#45;&gt;140284650296784</title>\n<path fill=\"none\" stroke=\"#000000\" d=\"M3046.14,-4351.2796C3055.0965,-4342.2485 3068.6372,-4328.595 3079.4228,-4317.7195\"/>\n<polygon fill=\"#000000\" stroke=\"#000000\" points=\"3082.128,-4319.9622 3086.6846,-4310.3972 3077.1577,-4315.033 3082.128,-4319.9622\"/>\n</g>\n<!-- 140284650362992 -->\n<g id=\"node127\" class=\"node\">\n<title>140284650362992</title>\n<polygon fill=\"#add8e6\" stroke=\"#000000\" points=\"3228,-4442 2845,-4442 2845,-4412 3228,-4412 3228,-4442\"/>\n<text text-anchor=\"middle\" x=\"3036.5\" y=\"-4430\" font-family=\"monospace\" font-size=\"10.00\" fill=\"#000000\">MobileNet_convolutional_layer1.7.stage1.0.deep_network.weight</text>\n<text text-anchor=\"middle\" x=\"3036.5\" y=\"-4419\" font-family=\"monospace\" font-size=\"10.00\" fill=\"#000000\"> (128, 1, 3, 3)</text>\n</g>\n<!-- 140284650362992&#45;&gt;140284650297168 -->\n<g id=\"edge125\" class=\"edge\">\n<title>140284650362992&#45;&gt;140284650297168</title>\n<path fill=\"none\" stroke=\"#000000\" d=\"M3036.5,-4411.6924C3036.5,-4402.5067 3036.5,-4390.7245 3036.5,-4380.8312\"/>\n<polygon fill=\"#000000\" stroke=\"#000000\" points=\"3040.0001,-4380.703 3036.5,-4370.7031 3033.0001,-4380.7031 3040.0001,-4380.703\"/>\n</g>\n<!-- 140284650297104 -->\n<g id=\"node128\" class=\"node\">\n<title>140284650297104</title>\n<polygon fill=\"#d3d3d3\" stroke=\"#000000\" points=\"3206,-4370.5 3105,-4370.5 3105,-4351.5 3206,-4351.5 3206,-4370.5\"/>\n<text text-anchor=\"middle\" x=\"3155.5\" y=\"-4358.5\" font-family=\"monospace\" font-size=\"10.00\" fill=\"#000000\">AccumulateGrad</text>\n</g>\n<!-- 140284650297104&#45;&gt;140284650296784 -->\n<g id=\"edge126\" class=\"edge\">\n<title>140284650297104&#45;&gt;140284650296784</title>\n<path fill=\"none\" stroke=\"#000000\" d=\"M3146.0206,-4351.2796C3137.2134,-4342.2485 3123.8984,-4328.595 3113.2926,-4317.7195\"/>\n<polygon fill=\"#000000\" stroke=\"#000000\" points=\"3115.6394,-4315.1129 3106.1519,-4310.3972 3110.6279,-4320.0002 3115.6394,-4315.1129\"/>\n</g>\n<!-- 140284650363072 -->\n<g id=\"node129\" class=\"node\">\n<title>140284650363072</title>\n<polygon fill=\"#add8e6\" stroke=\"#000000\" points=\"3617,-4442 3246,-4442 3246,-4412 3617,-4412 3617,-4442\"/>\n<text text-anchor=\"middle\" x=\"3431.5\" y=\"-4430\" font-family=\"monospace\" font-size=\"10.00\" fill=\"#000000\">MobileNet_convolutional_layer1.7.stage1.0.deep_network.bias</text>\n<text text-anchor=\"middle\" x=\"3431.5\" y=\"-4419\" font-family=\"monospace\" font-size=\"10.00\" fill=\"#000000\"> (128)</text>\n</g>\n<!-- 140284650363072&#45;&gt;140284650297104 -->\n<g id=\"edge127\" class=\"edge\">\n<title>140284650363072&#45;&gt;140284650297104</title>\n<path fill=\"none\" stroke=\"#000000\" d=\"M3365.9041,-4411.9095C3322.8194,-4401.9174 3265.2489,-4388.4136 3214.5,-4376 3210.6261,-4375.0524 3206.6123,-4374.0583 3202.5841,-4373.0519\"/>\n<polygon fill=\"#000000\" stroke=\"#000000\" points=\"3203.1644,-4369.5889 3192.6127,-4370.5446 3201.4573,-4376.3776 3203.1644,-4369.5889\"/>\n</g>\n<!-- 140284650296912 -->\n<g id=\"node130\" class=\"node\">\n<title>140284650296912</title>\n<polygon fill=\"#d3d3d3\" stroke=\"#000000\" points=\"3427,-4310 3326,-4310 3326,-4291 3427,-4291 3427,-4310\"/>\n<text text-anchor=\"middle\" x=\"3376.5\" y=\"-4298\" font-family=\"monospace\" font-size=\"10.00\" fill=\"#000000\">AccumulateGrad</text>\n</g>\n<!-- 140284650296912&#45;&gt;140284650296592 -->\n<g id=\"edge128\" class=\"edge\">\n<title>140284650296912&#45;&gt;140284650296592</title>\n<path fill=\"none\" stroke=\"#000000\" d=\"M3376.5,-4290.7796C3376.5,-4282.5376 3376.5,-4270.4457 3376.5,-4260.129\"/>\n<polygon fill=\"#000000\" stroke=\"#000000\" points=\"3380.0001,-4259.8972 3376.5,-4249.8972 3373.0001,-4259.8973 3380.0001,-4259.8972\"/>\n</g>\n<!-- 140284650363152 -->\n<g id=\"node131\" class=\"node\">\n<title>140284650363152</title>\n<polygon fill=\"#add8e6\" stroke=\"#000000\" points=\"3529,-4376 3224,-4376 3224,-4346 3529,-4346 3529,-4376\"/>\n<text text-anchor=\"middle\" x=\"3376.5\" y=\"-4364\" font-family=\"monospace\" font-size=\"10.00\" fill=\"#000000\">MobileNet_convolutional_layer1.7.stage1.1.weight</text>\n<text text-anchor=\"middle\" x=\"3376.5\" y=\"-4353\" font-family=\"monospace\" font-size=\"10.00\" fill=\"#000000\"> (128)</text>\n</g>\n<!-- 140284650363152&#45;&gt;140284650296912 -->\n<g id=\"edge129\" class=\"edge\">\n<title>140284650363152&#45;&gt;140284650296912</title>\n<path fill=\"none\" stroke=\"#000000\" d=\"M3376.5,-4345.7333C3376.5,-4338.0322 3376.5,-4328.5977 3376.5,-4320.3414\"/>\n<polygon fill=\"#000000\" stroke=\"#000000\" points=\"3380.0001,-4320.0864 3376.5,-4310.0864 3373.0001,-4320.0864 3380.0001,-4320.0864\"/>\n</g>\n<!-- 140284650296656 -->\n<g id=\"node132\" class=\"node\">\n<title>140284650296656</title>\n<polygon fill=\"#d3d3d3\" stroke=\"#000000\" points=\"3645,-4310 3544,-4310 3544,-4291 3645,-4291 3645,-4310\"/>\n<text text-anchor=\"middle\" x=\"3594.5\" y=\"-4298\" font-family=\"monospace\" font-size=\"10.00\" fill=\"#000000\">AccumulateGrad</text>\n</g>\n<!-- 140284650296656&#45;&gt;140284650296592 -->\n<g id=\"edge130\" class=\"edge\">\n<title>140284650296656&#45;&gt;140284650296592</title>\n<path fill=\"none\" stroke=\"#000000\" d=\"M3559.9573,-4290.9136C3522.2466,-4280.448 3461.7599,-4263.6616 3420.6351,-4252.2485\"/>\n<polygon fill=\"#000000\" stroke=\"#000000\" points=\"3421.4529,-4248.8432 3410.8811,-4249.5416 3419.581,-4255.5883 3421.4529,-4248.8432\"/>\n</g>\n<!-- 140284650363232 -->\n<g id=\"node133\" class=\"node\">\n<title>140284650363232</title>\n<polygon fill=\"#add8e6\" stroke=\"#000000\" points=\"3840,-4376 3547,-4376 3547,-4346 3840,-4346 3840,-4376\"/>\n<text text-anchor=\"middle\" x=\"3693.5\" y=\"-4364\" font-family=\"monospace\" font-size=\"10.00\" fill=\"#000000\">MobileNet_convolutional_layer1.7.stage1.1.bias</text>\n<text text-anchor=\"middle\" x=\"3693.5\" y=\"-4353\" font-family=\"monospace\" font-size=\"10.00\" fill=\"#000000\"> (128)</text>\n</g>\n<!-- 140284650363232&#45;&gt;140284650296656 -->\n<g id=\"edge131\" class=\"edge\">\n<title>140284650363232&#45;&gt;140284650296656</title>\n<path fill=\"none\" stroke=\"#000000\" d=\"M3668.7735,-4345.8894C3653.5965,-4336.6145 3634.2332,-4324.7814 3619.0827,-4315.5228\"/>\n<polygon fill=\"#000000\" stroke=\"#000000\" points=\"3620.6268,-4312.3646 3610.2689,-4310.1366 3616.9767,-4318.3376 3620.6268,-4312.3646\"/>\n</g>\n<!-- 140284650296528 -->\n<g id=\"node134\" class=\"node\">\n<title>140284650296528</title>\n<polygon fill=\"#d3d3d3\" stroke=\"#000000\" points=\"3675,-4183.5 3574,-4183.5 3574,-4164.5 3675,-4164.5 3675,-4183.5\"/>\n<text text-anchor=\"middle\" x=\"3624.5\" y=\"-4171.5\" font-family=\"monospace\" font-size=\"10.00\" fill=\"#000000\">AccumulateGrad</text>\n</g>\n<!-- 140284650296528&#45;&gt;140284650296144 -->\n<g id=\"edge132\" class=\"edge\">\n<title>140284650296528&#45;&gt;140284650296144</title>\n<path fill=\"none\" stroke=\"#000000\" d=\"M3634.14,-4164.2796C3643.0965,-4155.2485 3656.6372,-4141.595 3667.4228,-4130.7195\"/>\n<polygon fill=\"#000000\" stroke=\"#000000\" points=\"3670.128,-4132.9622 3674.6846,-4123.3972 3665.1577,-4128.033 3670.128,-4132.9622\"/>\n</g>\n<!-- 140284650363552 -->\n<g id=\"node135\" class=\"node\">\n<title>140284650363552</title>\n<polygon fill=\"#add8e6\" stroke=\"#000000\" points=\"3777,-4255 3472,-4255 3472,-4225 3777,-4225 3777,-4255\"/>\n<text text-anchor=\"middle\" x=\"3624.5\" y=\"-4243\" font-family=\"monospace\" font-size=\"10.00\" fill=\"#000000\">MobileNet_convolutional_layer1.8.stage2.0.weight</text>\n<text text-anchor=\"middle\" x=\"3624.5\" y=\"-4232\" font-family=\"monospace\" font-size=\"10.00\" fill=\"#000000\"> (128, 128, 3, 3)</text>\n</g>\n<!-- 140284650363552&#45;&gt;140284650296528 -->\n<g id=\"edge133\" class=\"edge\">\n<title>140284650363552&#45;&gt;140284650296528</title>\n<path fill=\"none\" stroke=\"#000000\" d=\"M3624.5,-4224.6924C3624.5,-4215.5067 3624.5,-4203.7245 3624.5,-4193.8312\"/>\n<polygon fill=\"#000000\" stroke=\"#000000\" points=\"3628.0001,-4193.703 3624.5,-4183.7031 3621.0001,-4193.7031 3628.0001,-4193.703\"/>\n</g>\n<!-- 140284650296464 -->\n<g id=\"node136\" class=\"node\">\n<title>140284650296464</title>\n<polygon fill=\"#d3d3d3\" stroke=\"#000000\" points=\"3794,-4183.5 3693,-4183.5 3693,-4164.5 3794,-4164.5 3794,-4183.5\"/>\n<text text-anchor=\"middle\" x=\"3743.5\" y=\"-4171.5\" font-family=\"monospace\" font-size=\"10.00\" fill=\"#000000\">AccumulateGrad</text>\n</g>\n<!-- 140284650296464&#45;&gt;140284650296144 -->\n<g id=\"edge134\" class=\"edge\">\n<title>140284650296464&#45;&gt;140284650296144</title>\n<path fill=\"none\" stroke=\"#000000\" d=\"M3734.0206,-4164.2796C3725.2134,-4155.2485 3711.8984,-4141.595 3701.2926,-4130.7195\"/>\n<polygon fill=\"#000000\" stroke=\"#000000\" points=\"3703.6394,-4128.1129 3694.1519,-4123.3972 3698.6279,-4133.0002 3703.6394,-4128.1129\"/>\n</g>\n<!-- 140284650363632 -->\n<g id=\"node137\" class=\"node\">\n<title>140284650363632</title>\n<polygon fill=\"#add8e6\" stroke=\"#000000\" points=\"4088,-4255 3795,-4255 3795,-4225 4088,-4225 4088,-4255\"/>\n<text text-anchor=\"middle\" x=\"3941.5\" y=\"-4243\" font-family=\"monospace\" font-size=\"10.00\" fill=\"#000000\">MobileNet_convolutional_layer1.8.stage2.0.bias</text>\n<text text-anchor=\"middle\" x=\"3941.5\" y=\"-4232\" font-family=\"monospace\" font-size=\"10.00\" fill=\"#000000\"> (128)</text>\n</g>\n<!-- 140284650363632&#45;&gt;140284650296464 -->\n<g id=\"edge135\" class=\"edge\">\n<title>140284650363632&#45;&gt;140284650296464</title>\n<path fill=\"none\" stroke=\"#000000\" d=\"M3896.0748,-4224.8583C3861.5162,-4213.3387 3814.4936,-4197.6645 3781.8224,-4186.7741\"/>\n<polygon fill=\"#000000\" stroke=\"#000000\" points=\"3782.7672,-4183.3998 3772.1735,-4183.5578 3780.5536,-4190.0406 3782.7672,-4183.3998\"/>\n</g>\n<!-- 140284650296272 -->\n<g id=\"node138\" class=\"node\">\n<title>140284650296272</title>\n<polygon fill=\"#d3d3d3\" stroke=\"#000000\" points=\"4015,-4123 3914,-4123 3914,-4104 4015,-4104 4015,-4123\"/>\n<text text-anchor=\"middle\" x=\"3964.5\" y=\"-4111\" font-family=\"monospace\" font-size=\"10.00\" fill=\"#000000\">AccumulateGrad</text>\n</g>\n<!-- 140284650296272&#45;&gt;140284650295952 -->\n<g id=\"edge136\" class=\"edge\">\n<title>140284650296272&#45;&gt;140284650295952</title>\n<path fill=\"none\" stroke=\"#000000\" d=\"M3964.5,-4103.7796C3964.5,-4095.5376 3964.5,-4083.4457 3964.5,-4073.129\"/>\n<polygon fill=\"#000000\" stroke=\"#000000\" points=\"3968.0001,-4072.8972 3964.5,-4062.8972 3961.0001,-4072.8973 3968.0001,-4072.8972\"/>\n</g>\n<!-- 140284650363712 -->\n<g id=\"node139\" class=\"node\">\n<title>140284650363712</title>\n<polygon fill=\"#add8e6\" stroke=\"#000000\" points=\"4117,-4189 3812,-4189 3812,-4159 4117,-4159 4117,-4189\"/>\n<text text-anchor=\"middle\" x=\"3964.5\" y=\"-4177\" font-family=\"monospace\" font-size=\"10.00\" fill=\"#000000\">MobileNet_convolutional_layer1.8.stage2.1.weight</text>\n<text text-anchor=\"middle\" x=\"3964.5\" y=\"-4166\" font-family=\"monospace\" font-size=\"10.00\" fill=\"#000000\"> (128)</text>\n</g>\n<!-- 140284650363712&#45;&gt;140284650296272 -->\n<g id=\"edge137\" class=\"edge\">\n<title>140284650363712&#45;&gt;140284650296272</title>\n<path fill=\"none\" stroke=\"#000000\" d=\"M3964.5,-4158.7333C3964.5,-4151.0322 3964.5,-4141.5977 3964.5,-4133.3414\"/>\n<polygon fill=\"#000000\" stroke=\"#000000\" points=\"3968.0001,-4133.0864 3964.5,-4123.0864 3961.0001,-4133.0864 3968.0001,-4133.0864\"/>\n</g>\n<!-- 140284650296016 -->\n<g id=\"node140\" class=\"node\">\n<title>140284650296016</title>\n<polygon fill=\"#d3d3d3\" stroke=\"#000000\" points=\"4233,-4123 4132,-4123 4132,-4104 4233,-4104 4233,-4123\"/>\n<text text-anchor=\"middle\" x=\"4182.5\" y=\"-4111\" font-family=\"monospace\" font-size=\"10.00\" fill=\"#000000\">AccumulateGrad</text>\n</g>\n<!-- 140284650296016&#45;&gt;140284650295952 -->\n<g id=\"edge138\" class=\"edge\">\n<title>140284650296016&#45;&gt;140284650295952</title>\n<path fill=\"none\" stroke=\"#000000\" d=\"M4147.9573,-4103.9136C4110.2466,-4093.448 4049.7599,-4076.6616 4008.6351,-4065.2485\"/>\n<polygon fill=\"#000000\" stroke=\"#000000\" points=\"4009.4529,-4061.8432 3998.8811,-4062.5416 4007.581,-4068.5883 4009.4529,-4061.8432\"/>\n</g>\n<!-- 140284650363792 -->\n<g id=\"node141\" class=\"node\">\n<title>140284650363792</title>\n<polygon fill=\"#add8e6\" stroke=\"#000000\" points=\"4428,-4189 4135,-4189 4135,-4159 4428,-4159 4428,-4189\"/>\n<text text-anchor=\"middle\" x=\"4281.5\" y=\"-4177\" font-family=\"monospace\" font-size=\"10.00\" fill=\"#000000\">MobileNet_convolutional_layer1.8.stage2.1.bias</text>\n<text text-anchor=\"middle\" x=\"4281.5\" y=\"-4166\" font-family=\"monospace\" font-size=\"10.00\" fill=\"#000000\"> (128)</text>\n</g>\n<!-- 140284650363792&#45;&gt;140284650296016 -->\n<g id=\"edge139\" class=\"edge\">\n<title>140284650363792&#45;&gt;140284650296016</title>\n<path fill=\"none\" stroke=\"#000000\" d=\"M4256.7735,-4158.8894C4241.5965,-4149.6145 4222.2332,-4137.7814 4207.0827,-4128.5228\"/>\n<polygon fill=\"#000000\" stroke=\"#000000\" points=\"4208.6268,-4125.3646 4198.2689,-4123.1366 4204.9767,-4131.3376 4208.6268,-4125.3646\"/>\n</g>\n<!-- 140284650295888 -->\n<g id=\"node142\" class=\"node\">\n<title>140284650295888</title>\n<polygon fill=\"#d3d3d3\" stroke=\"#000000\" points=\"4302,-3996.5 4201,-3996.5 4201,-3977.5 4302,-3977.5 4302,-3996.5\"/>\n<text text-anchor=\"middle\" x=\"4251.5\" y=\"-3984.5\" font-family=\"monospace\" font-size=\"10.00\" fill=\"#000000\">AccumulateGrad</text>\n</g>\n<!-- 140284650295888&#45;&gt;140284650295504 -->\n<g id=\"edge140\" class=\"edge\">\n<title>140284650295888&#45;&gt;140284650295504</title>\n<path fill=\"none\" stroke=\"#000000\" d=\"M4261.14,-3977.2796C4270.0965,-3968.2485 4283.6372,-3954.595 4294.4228,-3943.7195\"/>\n<polygon fill=\"#000000\" stroke=\"#000000\" points=\"4297.128,-3945.9622 4301.6846,-3936.3972 4292.1577,-3941.033 4297.128,-3945.9622\"/>\n</g>\n<!-- 140284650364112 -->\n<g id=\"node143\" class=\"node\">\n<title>140284650364112</title>\n<polygon fill=\"#add8e6\" stroke=\"#000000\" points=\"4443,-4068 4060,-4068 4060,-4038 4443,-4038 4443,-4068\"/>\n<text text-anchor=\"middle\" x=\"4251.5\" y=\"-4056\" font-family=\"monospace\" font-size=\"10.00\" fill=\"#000000\">MobileNet_convolutional_layer1.9.stage1.0.deep_network.weight</text>\n<text text-anchor=\"middle\" x=\"4251.5\" y=\"-4045\" font-family=\"monospace\" font-size=\"10.00\" fill=\"#000000\"> (128, 1, 3, 3)</text>\n</g>\n<!-- 140284650364112&#45;&gt;140284650295888 -->\n<g id=\"edge141\" class=\"edge\">\n<title>140284650364112&#45;&gt;140284650295888</title>\n<path fill=\"none\" stroke=\"#000000\" d=\"M4251.5,-4037.6924C4251.5,-4028.5067 4251.5,-4016.7245 4251.5,-4006.8312\"/>\n<polygon fill=\"#000000\" stroke=\"#000000\" points=\"4255.0001,-4006.703 4251.5,-3996.7031 4248.0001,-4006.7031 4255.0001,-4006.703\"/>\n</g>\n<!-- 140284650295824 -->\n<g id=\"node144\" class=\"node\">\n<title>140284650295824</title>\n<polygon fill=\"#d3d3d3\" stroke=\"#000000\" points=\"4421,-3996.5 4320,-3996.5 4320,-3977.5 4421,-3977.5 4421,-3996.5\"/>\n<text text-anchor=\"middle\" x=\"4370.5\" y=\"-3984.5\" font-family=\"monospace\" font-size=\"10.00\" fill=\"#000000\">AccumulateGrad</text>\n</g>\n<!-- 140284650295824&#45;&gt;140284650295504 -->\n<g id=\"edge142\" class=\"edge\">\n<title>140284650295824&#45;&gt;140284650295504</title>\n<path fill=\"none\" stroke=\"#000000\" d=\"M4361.0206,-3977.2796C4352.2134,-3968.2485 4338.8984,-3954.595 4328.2926,-3943.7195\"/>\n<polygon fill=\"#000000\" stroke=\"#000000\" points=\"4330.6394,-3941.1129 4321.1519,-3936.3972 4325.6279,-3946.0002 4330.6394,-3941.1129\"/>\n</g>\n<!-- 140284650364192 -->\n<g id=\"node145\" class=\"node\">\n<title>140284650364192</title>\n<polygon fill=\"#add8e6\" stroke=\"#000000\" points=\"4832,-4068 4461,-4068 4461,-4038 4832,-4038 4832,-4068\"/>\n<text text-anchor=\"middle\" x=\"4646.5\" y=\"-4056\" font-family=\"monospace\" font-size=\"10.00\" fill=\"#000000\">MobileNet_convolutional_layer1.9.stage1.0.deep_network.bias</text>\n<text text-anchor=\"middle\" x=\"4646.5\" y=\"-4045\" font-family=\"monospace\" font-size=\"10.00\" fill=\"#000000\"> (128)</text>\n</g>\n<!-- 140284650364192&#45;&gt;140284650295824 -->\n<g id=\"edge143\" class=\"edge\">\n<title>140284650364192&#45;&gt;140284650295824</title>\n<path fill=\"none\" stroke=\"#000000\" d=\"M4580.9041,-4037.9095C4537.8194,-4027.9174 4480.2489,-4014.4136 4429.5,-4002 4425.6261,-4001.0524 4421.6123,-4000.0583 4417.5841,-3999.0519\"/>\n<polygon fill=\"#000000\" stroke=\"#000000\" points=\"4418.1644,-3995.5889 4407.6127,-3996.5446 4416.4573,-4002.3776 4418.1644,-3995.5889\"/>\n</g>\n<!-- 140284650295632 -->\n<g id=\"node146\" class=\"node\">\n<title>140284650295632</title>\n<polygon fill=\"#d3d3d3\" stroke=\"#000000\" points=\"4642,-3936 4541,-3936 4541,-3917 4642,-3917 4642,-3936\"/>\n<text text-anchor=\"middle\" x=\"4591.5\" y=\"-3924\" font-family=\"monospace\" font-size=\"10.00\" fill=\"#000000\">AccumulateGrad</text>\n</g>\n<!-- 140284650295632&#45;&gt;140284650311248 -->\n<g id=\"edge144\" class=\"edge\">\n<title>140284650295632&#45;&gt;140284650311248</title>\n<path fill=\"none\" stroke=\"#000000\" d=\"M4591.5,-3916.7796C4591.5,-3908.5376 4591.5,-3896.4457 4591.5,-3886.129\"/>\n<polygon fill=\"#000000\" stroke=\"#000000\" points=\"4595.0001,-3885.8972 4591.5,-3875.8972 4588.0001,-3885.8973 4595.0001,-3885.8972\"/>\n</g>\n<!-- 140284650364272 -->\n<g id=\"node147\" class=\"node\">\n<title>140284650364272</title>\n<polygon fill=\"#add8e6\" stroke=\"#000000\" points=\"4744,-4002 4439,-4002 4439,-3972 4744,-3972 4744,-4002\"/>\n<text text-anchor=\"middle\" x=\"4591.5\" y=\"-3990\" font-family=\"monospace\" font-size=\"10.00\" fill=\"#000000\">MobileNet_convolutional_layer1.9.stage1.1.weight</text>\n<text text-anchor=\"middle\" x=\"4591.5\" y=\"-3979\" font-family=\"monospace\" font-size=\"10.00\" fill=\"#000000\"> (128)</text>\n</g>\n<!-- 140284650364272&#45;&gt;140284650295632 -->\n<g id=\"edge145\" class=\"edge\">\n<title>140284650364272&#45;&gt;140284650295632</title>\n<path fill=\"none\" stroke=\"#000000\" d=\"M4591.5,-3971.7333C4591.5,-3964.0322 4591.5,-3954.5977 4591.5,-3946.3414\"/>\n<polygon fill=\"#000000\" stroke=\"#000000\" points=\"4595.0001,-3946.0864 4591.5,-3936.0864 4588.0001,-3946.0864 4595.0001,-3946.0864\"/>\n</g>\n<!-- 140284650295376 -->\n<g id=\"node148\" class=\"node\">\n<title>140284650295376</title>\n<polygon fill=\"#d3d3d3\" stroke=\"#000000\" points=\"4860,-3936 4759,-3936 4759,-3917 4860,-3917 4860,-3936\"/>\n<text text-anchor=\"middle\" x=\"4809.5\" y=\"-3924\" font-family=\"monospace\" font-size=\"10.00\" fill=\"#000000\">AccumulateGrad</text>\n</g>\n<!-- 140284650295376&#45;&gt;140284650311248 -->\n<g id=\"edge146\" class=\"edge\">\n<title>140284650295376&#45;&gt;140284650311248</title>\n<path fill=\"none\" stroke=\"#000000\" d=\"M4774.9573,-3916.9136C4737.2466,-3906.448 4676.7599,-3889.6616 4635.6351,-3878.2485\"/>\n<polygon fill=\"#000000\" stroke=\"#000000\" points=\"4636.4529,-3874.8432 4625.8811,-3875.5416 4634.581,-3881.5883 4636.4529,-3874.8432\"/>\n</g>\n<!-- 140284650364352 -->\n<g id=\"node149\" class=\"node\">\n<title>140284650364352</title>\n<polygon fill=\"#add8e6\" stroke=\"#000000\" points=\"5055,-4002 4762,-4002 4762,-3972 5055,-3972 5055,-4002\"/>\n<text text-anchor=\"middle\" x=\"4908.5\" y=\"-3990\" font-family=\"monospace\" font-size=\"10.00\" fill=\"#000000\">MobileNet_convolutional_layer1.9.stage1.1.bias</text>\n<text text-anchor=\"middle\" x=\"4908.5\" y=\"-3979\" font-family=\"monospace\" font-size=\"10.00\" fill=\"#000000\"> (128)</text>\n</g>\n<!-- 140284650364352&#45;&gt;140284650295376 -->\n<g id=\"edge147\" class=\"edge\">\n<title>140284650364352&#45;&gt;140284650295376</title>\n<path fill=\"none\" stroke=\"#000000\" d=\"M4883.7735,-3971.8894C4868.5965,-3962.6145 4849.2332,-3950.7814 4834.0827,-3941.5228\"/>\n<polygon fill=\"#000000\" stroke=\"#000000\" points=\"4835.6268,-3938.3646 4825.2689,-3936.1366 4831.9767,-3944.3376 4835.6268,-3938.3646\"/>\n</g>\n<!-- 140284650311184 -->\n<g id=\"node150\" class=\"node\">\n<title>140284650311184</title>\n<polygon fill=\"#d3d3d3\" stroke=\"#000000\" points=\"4893,-3809.5 4792,-3809.5 4792,-3790.5 4893,-3790.5 4893,-3809.5\"/>\n<text text-anchor=\"middle\" x=\"4842.5\" y=\"-3797.5\" font-family=\"monospace\" font-size=\"10.00\" fill=\"#000000\">AccumulateGrad</text>\n</g>\n<!-- 140284650311184&#45;&gt;140284650311312 -->\n<g id=\"edge148\" class=\"edge\">\n<title>140284650311184&#45;&gt;140284650311312</title>\n<path fill=\"none\" stroke=\"#000000\" d=\"M4852.14,-3790.2796C4861.0965,-3781.2485 4874.6372,-3767.595 4885.4228,-3756.7195\"/>\n<polygon fill=\"#000000\" stroke=\"#000000\" points=\"4888.128,-3758.9622 4892.6846,-3749.3972 4883.1577,-3754.033 4888.128,-3758.9622\"/>\n</g>\n<!-- 140284650364672 -->\n<g id=\"node151\" class=\"node\">\n<title>140284650364672</title>\n<polygon fill=\"#add8e6\" stroke=\"#000000\" points=\"4998,-3881 4687,-3881 4687,-3851 4998,-3851 4998,-3881\"/>\n<text text-anchor=\"middle\" x=\"4842.5\" y=\"-3869\" font-family=\"monospace\" font-size=\"10.00\" fill=\"#000000\">MobileNet_convolutional_layer1.10.stage2.0.weight</text>\n<text text-anchor=\"middle\" x=\"4842.5\" y=\"-3858\" font-family=\"monospace\" font-size=\"10.00\" fill=\"#000000\"> (256, 128, 3, 3)</text>\n</g>\n<!-- 140284650364672&#45;&gt;140284650311184 -->\n<g id=\"edge149\" class=\"edge\">\n<title>140284650364672&#45;&gt;140284650311184</title>\n<path fill=\"none\" stroke=\"#000000\" d=\"M4842.5,-3850.6924C4842.5,-3841.5067 4842.5,-3829.7245 4842.5,-3819.8312\"/>\n<polygon fill=\"#000000\" stroke=\"#000000\" points=\"4846.0001,-3819.703 4842.5,-3809.7031 4839.0001,-3819.7031 4846.0001,-3819.703\"/>\n</g>\n<!-- 140284650311504 -->\n<g id=\"node152\" class=\"node\">\n<title>140284650311504</title>\n<polygon fill=\"#d3d3d3\" stroke=\"#000000\" points=\"5012,-3809.5 4911,-3809.5 4911,-3790.5 5012,-3790.5 5012,-3809.5\"/>\n<text text-anchor=\"middle\" x=\"4961.5\" y=\"-3797.5\" font-family=\"monospace\" font-size=\"10.00\" fill=\"#000000\">AccumulateGrad</text>\n</g>\n<!-- 140284650311504&#45;&gt;140284650311312 -->\n<g id=\"edge150\" class=\"edge\">\n<title>140284650311504&#45;&gt;140284650311312</title>\n<path fill=\"none\" stroke=\"#000000\" d=\"M4952.0206,-3790.2796C4943.2134,-3781.2485 4929.8984,-3767.595 4919.2926,-3756.7195\"/>\n<polygon fill=\"#000000\" stroke=\"#000000\" points=\"4921.6394,-3754.1129 4912.1519,-3749.3972 4916.6279,-3759.0002 4921.6394,-3754.1129\"/>\n</g>\n<!-- 140284650364752 -->\n<g id=\"node153\" class=\"node\">\n<title>140284650364752</title>\n<polygon fill=\"#add8e6\" stroke=\"#000000\" points=\"5315,-3881 5016,-3881 5016,-3851 5315,-3851 5315,-3881\"/>\n<text text-anchor=\"middle\" x=\"5165.5\" y=\"-3869\" font-family=\"monospace\" font-size=\"10.00\" fill=\"#000000\">MobileNet_convolutional_layer1.10.stage2.0.bias</text>\n<text text-anchor=\"middle\" x=\"5165.5\" y=\"-3858\" font-family=\"monospace\" font-size=\"10.00\" fill=\"#000000\"> (256)</text>\n</g>\n<!-- 140284650364752&#45;&gt;140284650311504 -->\n<g id=\"edge151\" class=\"edge\">\n<title>140284650364752&#45;&gt;140284650311504</title>\n<path fill=\"none\" stroke=\"#000000\" d=\"M5118.954,-3850.941C5083.2061,-3839.3755 5034.4019,-3823.5859 5000.6472,-3812.6653\"/>\n<polygon fill=\"#000000\" stroke=\"#000000\" points=\"5001.71,-3809.3306 4991.1182,-3809.5824 4999.5553,-3815.9907 5001.71,-3809.3306\"/>\n</g>\n<!-- 140284650311632 -->\n<g id=\"node154\" class=\"node\">\n<title>140284650311632</title>\n<polygon fill=\"#d3d3d3\" stroke=\"#000000\" points=\"5236,-3749 5135,-3749 5135,-3730 5236,-3730 5236,-3749\"/>\n<text text-anchor=\"middle\" x=\"5185.5\" y=\"-3737\" font-family=\"monospace\" font-size=\"10.00\" fill=\"#000000\">AccumulateGrad</text>\n</g>\n<!-- 140284650311632&#45;&gt;140284650310672 -->\n<g id=\"edge152\" class=\"edge\">\n<title>140284650311632&#45;&gt;140284650310672</title>\n<path fill=\"none\" stroke=\"#000000\" d=\"M5185.5,-3729.7796C5185.5,-3721.5376 5185.5,-3709.4457 5185.5,-3699.129\"/>\n<polygon fill=\"#000000\" stroke=\"#000000\" points=\"5189.0001,-3698.8972 5185.5,-3688.8972 5182.0001,-3698.8973 5189.0001,-3698.8972\"/>\n</g>\n<!-- 140284650364832 -->\n<g id=\"node155\" class=\"node\">\n<title>140284650364832</title>\n<polygon fill=\"#add8e6\" stroke=\"#000000\" points=\"5341,-3815 5030,-3815 5030,-3785 5341,-3785 5341,-3815\"/>\n<text text-anchor=\"middle\" x=\"5185.5\" y=\"-3803\" font-family=\"monospace\" font-size=\"10.00\" fill=\"#000000\">MobileNet_convolutional_layer1.10.stage2.1.weight</text>\n<text text-anchor=\"middle\" x=\"5185.5\" y=\"-3792\" font-family=\"monospace\" font-size=\"10.00\" fill=\"#000000\"> (256)</text>\n</g>\n<!-- 140284650364832&#45;&gt;140284650311632 -->\n<g id=\"edge153\" class=\"edge\">\n<title>140284650364832&#45;&gt;140284650311632</title>\n<path fill=\"none\" stroke=\"#000000\" d=\"M5185.5,-3784.7333C5185.5,-3777.0322 5185.5,-3767.5977 5185.5,-3759.3414\"/>\n<polygon fill=\"#000000\" stroke=\"#000000\" points=\"5189.0001,-3759.0864 5185.5,-3749.0864 5182.0001,-3759.0864 5189.0001,-3759.0864\"/>\n</g>\n<!-- 140284650310544 -->\n<g id=\"node156\" class=\"node\">\n<title>140284650310544</title>\n<polygon fill=\"#d3d3d3\" stroke=\"#000000\" points=\"5457,-3749 5356,-3749 5356,-3730 5457,-3730 5457,-3749\"/>\n<text text-anchor=\"middle\" x=\"5406.5\" y=\"-3737\" font-family=\"monospace\" font-size=\"10.00\" fill=\"#000000\">AccumulateGrad</text>\n</g>\n<!-- 140284650310544&#45;&gt;140284650310672 -->\n<g id=\"edge154\" class=\"edge\">\n<title>140284650310544&#45;&gt;140284650310672</title>\n<path fill=\"none\" stroke=\"#000000\" d=\"M5371.4819,-3729.9136C5333.2523,-3719.448 5271.9332,-3702.6616 5230.2425,-3691.2485\"/>\n<polygon fill=\"#000000\" stroke=\"#000000\" points=\"5230.9236,-3687.8062 5220.3543,-3688.5416 5229.0752,-3694.5578 5230.9236,-3687.8062\"/>\n</g>\n<!-- 140284650438736 -->\n<g id=\"node157\" class=\"node\">\n<title>140284650438736</title>\n<polygon fill=\"#add8e6\" stroke=\"#000000\" points=\"5658,-3815 5359,-3815 5359,-3785 5658,-3785 5658,-3815\"/>\n<text text-anchor=\"middle\" x=\"5508.5\" y=\"-3803\" font-family=\"monospace\" font-size=\"10.00\" fill=\"#000000\">MobileNet_convolutional_layer1.10.stage2.1.bias</text>\n<text text-anchor=\"middle\" x=\"5508.5\" y=\"-3792\" font-family=\"monospace\" font-size=\"10.00\" fill=\"#000000\"> (256)</text>\n</g>\n<!-- 140284650438736&#45;&gt;140284650310544 -->\n<g id=\"edge155\" class=\"edge\">\n<title>140284650438736&#45;&gt;140284650310544</title>\n<path fill=\"none\" stroke=\"#000000\" d=\"M5483.0242,-3784.8894C5467.2398,-3775.527 5447.0604,-3763.5579 5431.387,-3754.2614\"/>\n<polygon fill=\"#000000\" stroke=\"#000000\" points=\"5433.1332,-3751.2278 5422.7468,-3749.1366 5429.5621,-3757.2484 5433.1332,-3751.2278\"/>\n</g>\n<!-- 140284650310608 -->\n<g id=\"node158\" class=\"node\">\n<title>140284650310608</title>\n<polygon fill=\"#d3d3d3\" stroke=\"#000000\" points=\"5526,-3622.5 5425,-3622.5 5425,-3603.5 5526,-3603.5 5526,-3622.5\"/>\n<text text-anchor=\"middle\" x=\"5475.5\" y=\"-3610.5\" font-family=\"monospace\" font-size=\"10.00\" fill=\"#000000\">AccumulateGrad</text>\n</g>\n<!-- 140284650310608&#45;&gt;140284650310736 -->\n<g id=\"edge156\" class=\"edge\">\n<title>140284650310608&#45;&gt;140284650310736</title>\n<path fill=\"none\" stroke=\"#000000\" d=\"M5485.14,-3603.2796C5494.0965,-3594.2485 5507.6372,-3580.595 5518.4228,-3569.7195\"/>\n<polygon fill=\"#000000\" stroke=\"#000000\" points=\"5521.128,-3571.9622 5525.6846,-3562.3972 5516.1577,-3567.033 5521.128,-3571.9622\"/>\n</g>\n<!-- 140284650439056 -->\n<g id=\"node159\" class=\"node\">\n<title>140284650439056</title>\n<polygon fill=\"#add8e6\" stroke=\"#000000\" points=\"5670,-3694 5281,-3694 5281,-3664 5670,-3664 5670,-3694\"/>\n<text text-anchor=\"middle\" x=\"5475.5\" y=\"-3682\" font-family=\"monospace\" font-size=\"10.00\" fill=\"#000000\">MobileNet_convolutional_layer1.11.stage1.0.deep_network.weight</text>\n<text text-anchor=\"middle\" x=\"5475.5\" y=\"-3671\" font-family=\"monospace\" font-size=\"10.00\" fill=\"#000000\"> (256, 1, 3, 3)</text>\n</g>\n<!-- 140284650439056&#45;&gt;140284650310608 -->\n<g id=\"edge157\" class=\"edge\">\n<title>140284650439056&#45;&gt;140284650310608</title>\n<path fill=\"none\" stroke=\"#000000\" d=\"M5475.5,-3663.6924C5475.5,-3654.5067 5475.5,-3642.7245 5475.5,-3632.8312\"/>\n<polygon fill=\"#000000\" stroke=\"#000000\" points=\"5479.0001,-3632.703 5475.5,-3622.7031 5472.0001,-3632.7031 5479.0001,-3632.703\"/>\n</g>\n<!-- 140284650311056 -->\n<g id=\"node160\" class=\"node\">\n<title>140284650311056</title>\n<polygon fill=\"#d3d3d3\" stroke=\"#000000\" points=\"5645,-3622.5 5544,-3622.5 5544,-3603.5 5645,-3603.5 5645,-3622.5\"/>\n<text text-anchor=\"middle\" x=\"5594.5\" y=\"-3610.5\" font-family=\"monospace\" font-size=\"10.00\" fill=\"#000000\">AccumulateGrad</text>\n</g>\n<!-- 140284650311056&#45;&gt;140284650310736 -->\n<g id=\"edge158\" class=\"edge\">\n<title>140284650311056&#45;&gt;140284650310736</title>\n<path fill=\"none\" stroke=\"#000000\" d=\"M5585.0206,-3603.2796C5576.2134,-3594.2485 5562.8984,-3580.595 5552.2926,-3569.7195\"/>\n<polygon fill=\"#000000\" stroke=\"#000000\" points=\"5554.6394,-3567.1129 5545.1519,-3562.3972 5549.6279,-3572.0002 5554.6394,-3567.1129\"/>\n</g>\n<!-- 140284650439136 -->\n<g id=\"node161\" class=\"node\">\n<title>140284650439136</title>\n<polygon fill=\"#add8e6\" stroke=\"#000000\" points=\"6065,-3694 5688,-3694 5688,-3664 6065,-3664 6065,-3694\"/>\n<text text-anchor=\"middle\" x=\"5876.5\" y=\"-3682\" font-family=\"monospace\" font-size=\"10.00\" fill=\"#000000\">MobileNet_convolutional_layer1.11.stage1.0.deep_network.bias</text>\n<text text-anchor=\"middle\" x=\"5876.5\" y=\"-3671\" font-family=\"monospace\" font-size=\"10.00\" fill=\"#000000\"> (256)</text>\n</g>\n<!-- 140284650439136&#45;&gt;140284650311056 -->\n<g id=\"edge159\" class=\"edge\">\n<title>140284650439136&#45;&gt;140284650311056</title>\n<path fill=\"none\" stroke=\"#000000\" d=\"M5808.5745,-3663.9122C5764.3437,-3653.9774 5705.4246,-3640.5362 5653.5,-3628 5649.6233,-3627.064 5645.6075,-3626.0781 5641.578,-3625.0772\"/>\n<polygon fill=\"#000000\" stroke=\"#000000\" points=\"5642.1552,-3621.6138 5631.6044,-3622.5787 5640.4541,-3628.4039 5642.1552,-3621.6138\"/>\n</g>\n<!-- 140284650310864 -->\n<g id=\"node162\" class=\"node\">\n<title>140284650310864</title>\n<polygon fill=\"#d3d3d3\" stroke=\"#000000\" points=\"5869,-3562 5768,-3562 5768,-3543 5869,-3543 5869,-3562\"/>\n<text text-anchor=\"middle\" x=\"5818.5\" y=\"-3550\" font-family=\"monospace\" font-size=\"10.00\" fill=\"#000000\">AccumulateGrad</text>\n</g>\n<!-- 140284650310864&#45;&gt;140284650310032 -->\n<g id=\"edge160\" class=\"edge\">\n<title>140284650310864&#45;&gt;140284650310032</title>\n<path fill=\"none\" stroke=\"#000000\" d=\"M5818.5,-3542.7796C5818.5,-3534.5376 5818.5,-3522.4457 5818.5,-3512.129\"/>\n<polygon fill=\"#000000\" stroke=\"#000000\" points=\"5822.0001,-3511.8972 5818.5,-3501.8972 5815.0001,-3511.8973 5822.0001,-3511.8972\"/>\n</g>\n<!-- 140284650439216 -->\n<g id=\"node163\" class=\"node\">\n<title>140284650439216</title>\n<polygon fill=\"#add8e6\" stroke=\"#000000\" points=\"5974,-3628 5663,-3628 5663,-3598 5974,-3598 5974,-3628\"/>\n<text text-anchor=\"middle\" x=\"5818.5\" y=\"-3616\" font-family=\"monospace\" font-size=\"10.00\" fill=\"#000000\">MobileNet_convolutional_layer1.11.stage1.1.weight</text>\n<text text-anchor=\"middle\" x=\"5818.5\" y=\"-3605\" font-family=\"monospace\" font-size=\"10.00\" fill=\"#000000\"> (256)</text>\n</g>\n<!-- 140284650439216&#45;&gt;140284650310864 -->\n<g id=\"edge161\" class=\"edge\">\n<title>140284650439216&#45;&gt;140284650310864</title>\n<path fill=\"none\" stroke=\"#000000\" d=\"M5818.5,-3597.7333C5818.5,-3590.0322 5818.5,-3580.5977 5818.5,-3572.3414\"/>\n<polygon fill=\"#000000\" stroke=\"#000000\" points=\"5822.0001,-3572.0864 5818.5,-3562.0864 5815.0001,-3572.0864 5822.0001,-3572.0864\"/>\n</g>\n<!-- 140284650309968 -->\n<g id=\"node164\" class=\"node\">\n<title>140284650309968</title>\n<polygon fill=\"#d3d3d3\" stroke=\"#000000\" points=\"6090,-3562 5989,-3562 5989,-3543 6090,-3543 6090,-3562\"/>\n<text text-anchor=\"middle\" x=\"6039.5\" y=\"-3550\" font-family=\"monospace\" font-size=\"10.00\" fill=\"#000000\">AccumulateGrad</text>\n</g>\n<!-- 140284650309968&#45;&gt;140284650310032 -->\n<g id=\"edge162\" class=\"edge\">\n<title>140284650309968&#45;&gt;140284650310032</title>\n<path fill=\"none\" stroke=\"#000000\" d=\"M6004.4819,-3542.9136C5966.2523,-3532.448 5904.9332,-3515.6616 5863.2425,-3504.2485\"/>\n<polygon fill=\"#000000\" stroke=\"#000000\" points=\"5863.9236,-3500.8062 5853.3543,-3501.5416 5862.0752,-3507.5578 5863.9236,-3500.8062\"/>\n</g>\n<!-- 140284650439296 -->\n<g id=\"node165\" class=\"node\">\n<title>140284650439296</title>\n<polygon fill=\"#add8e6\" stroke=\"#000000\" points=\"6291,-3628 5992,-3628 5992,-3598 6291,-3598 6291,-3628\"/>\n<text text-anchor=\"middle\" x=\"6141.5\" y=\"-3616\" font-family=\"monospace\" font-size=\"10.00\" fill=\"#000000\">MobileNet_convolutional_layer1.11.stage1.1.bias</text>\n<text text-anchor=\"middle\" x=\"6141.5\" y=\"-3605\" font-family=\"monospace\" font-size=\"10.00\" fill=\"#000000\"> (256)</text>\n</g>\n<!-- 140284650439296&#45;&gt;140284650309968 -->\n<g id=\"edge163\" class=\"edge\">\n<title>140284650439296&#45;&gt;140284650309968</title>\n<path fill=\"none\" stroke=\"#000000\" d=\"M6116.0242,-3597.8894C6100.2398,-3588.527 6080.0604,-3576.5579 6064.387,-3567.2614\"/>\n<polygon fill=\"#000000\" stroke=\"#000000\" points=\"6066.1332,-3564.2278 6055.7468,-3562.1366 6062.5621,-3570.2484 6066.1332,-3564.2278\"/>\n</g>\n<!-- 140284650310416 -->\n<g id=\"node166\" class=\"node\">\n<title>140284650310416</title>\n<polygon fill=\"#d3d3d3\" stroke=\"#000000\" points=\"6120,-3435.5 6019,-3435.5 6019,-3416.5 6120,-3416.5 6120,-3435.5\"/>\n<text text-anchor=\"middle\" x=\"6069.5\" y=\"-3423.5\" font-family=\"monospace\" font-size=\"10.00\" fill=\"#000000\">AccumulateGrad</text>\n</g>\n<!-- 140284650310416&#45;&gt;140284650309904 -->\n<g id=\"edge164\" class=\"edge\">\n<title>140284650310416&#45;&gt;140284650309904</title>\n<path fill=\"none\" stroke=\"#000000\" d=\"M6079.14,-3416.2796C6088.0965,-3407.2485 6101.6372,-3393.595 6112.4228,-3382.7195\"/>\n<polygon fill=\"#000000\" stroke=\"#000000\" points=\"6115.128,-3384.9622 6119.6846,-3375.3972 6110.1577,-3380.033 6115.128,-3384.9622\"/>\n</g>\n<!-- 140284650439616 -->\n<g id=\"node167\" class=\"node\">\n<title>140284650439616</title>\n<polygon fill=\"#add8e6\" stroke=\"#000000\" points=\"6225,-3507 5914,-3507 5914,-3477 6225,-3477 6225,-3507\"/>\n<text text-anchor=\"middle\" x=\"6069.5\" y=\"-3495\" font-family=\"monospace\" font-size=\"10.00\" fill=\"#000000\">MobileNet_convolutional_layer1.12.stage2.0.weight</text>\n<text text-anchor=\"middle\" x=\"6069.5\" y=\"-3484\" font-family=\"monospace\" font-size=\"10.00\" fill=\"#000000\"> (256, 256, 3, 3)</text>\n</g>\n<!-- 140284650439616&#45;&gt;140284650310416 -->\n<g id=\"edge165\" class=\"edge\">\n<title>140284650439616&#45;&gt;140284650310416</title>\n<path fill=\"none\" stroke=\"#000000\" d=\"M6069.5,-3476.6924C6069.5,-3467.5067 6069.5,-3455.7245 6069.5,-3445.8312\"/>\n<polygon fill=\"#000000\" stroke=\"#000000\" points=\"6073.0001,-3445.703 6069.5,-3435.7031 6066.0001,-3445.7031 6073.0001,-3445.703\"/>\n</g>\n<!-- 140284650310352 -->\n<g id=\"node168\" class=\"node\">\n<title>140284650310352</title>\n<polygon fill=\"#d3d3d3\" stroke=\"#000000\" points=\"6239,-3435.5 6138,-3435.5 6138,-3416.5 6239,-3416.5 6239,-3435.5\"/>\n<text text-anchor=\"middle\" x=\"6188.5\" y=\"-3423.5\" font-family=\"monospace\" font-size=\"10.00\" fill=\"#000000\">AccumulateGrad</text>\n</g>\n<!-- 140284650310352&#45;&gt;140284650309904 -->\n<g id=\"edge166\" class=\"edge\">\n<title>140284650310352&#45;&gt;140284650309904</title>\n<path fill=\"none\" stroke=\"#000000\" d=\"M6179.0206,-3416.2796C6170.2134,-3407.2485 6156.8984,-3393.595 6146.2926,-3382.7195\"/>\n<polygon fill=\"#000000\" stroke=\"#000000\" points=\"6148.6394,-3380.1129 6139.1519,-3375.3972 6143.6279,-3385.0002 6148.6394,-3380.1129\"/>\n</g>\n<!-- 140284650439696 -->\n<g id=\"node169\" class=\"node\">\n<title>140284650439696</title>\n<polygon fill=\"#add8e6\" stroke=\"#000000\" points=\"6542,-3507 6243,-3507 6243,-3477 6542,-3477 6542,-3507\"/>\n<text text-anchor=\"middle\" x=\"6392.5\" y=\"-3495\" font-family=\"monospace\" font-size=\"10.00\" fill=\"#000000\">MobileNet_convolutional_layer1.12.stage2.0.bias</text>\n<text text-anchor=\"middle\" x=\"6392.5\" y=\"-3484\" font-family=\"monospace\" font-size=\"10.00\" fill=\"#000000\"> (256)</text>\n</g>\n<!-- 140284650439696&#45;&gt;140284650310352 -->\n<g id=\"edge167\" class=\"edge\">\n<title>140284650439696&#45;&gt;140284650310352</title>\n<path fill=\"none\" stroke=\"#000000\" d=\"M6345.954,-3476.941C6310.2061,-3465.3755 6261.4019,-3449.5859 6227.6472,-3438.6653\"/>\n<polygon fill=\"#000000\" stroke=\"#000000\" points=\"6228.71,-3435.3306 6218.1182,-3435.5824 6226.5553,-3441.9907 6228.71,-3435.3306\"/>\n</g>\n<!-- 140284650310160 -->\n<g id=\"node170\" class=\"node\">\n<title>140284650310160</title>\n<polygon fill=\"#d3d3d3\" stroke=\"#000000\" points=\"6463,-3375 6362,-3375 6362,-3356 6463,-3356 6463,-3375\"/>\n<text text-anchor=\"middle\" x=\"6412.5\" y=\"-3363\" font-family=\"monospace\" font-size=\"10.00\" fill=\"#000000\">AccumulateGrad</text>\n</g>\n<!-- 140284650310160&#45;&gt;140284650309392 -->\n<g id=\"edge168\" class=\"edge\">\n<title>140284650310160&#45;&gt;140284650309392</title>\n<path fill=\"none\" stroke=\"#000000\" d=\"M6412.5,-3355.7796C6412.5,-3347.5376 6412.5,-3335.4457 6412.5,-3325.129\"/>\n<polygon fill=\"#000000\" stroke=\"#000000\" points=\"6416.0001,-3324.8972 6412.5,-3314.8972 6409.0001,-3324.8973 6416.0001,-3324.8972\"/>\n</g>\n<!-- 140284650439776 -->\n<g id=\"node171\" class=\"node\">\n<title>140284650439776</title>\n<polygon fill=\"#add8e6\" stroke=\"#000000\" points=\"6568,-3441 6257,-3441 6257,-3411 6568,-3411 6568,-3441\"/>\n<text text-anchor=\"middle\" x=\"6412.5\" y=\"-3429\" font-family=\"monospace\" font-size=\"10.00\" fill=\"#000000\">MobileNet_convolutional_layer1.12.stage2.1.weight</text>\n<text text-anchor=\"middle\" x=\"6412.5\" y=\"-3418\" font-family=\"monospace\" font-size=\"10.00\" fill=\"#000000\"> (256)</text>\n</g>\n<!-- 140284650439776&#45;&gt;140284650310160 -->\n<g id=\"edge169\" class=\"edge\">\n<title>140284650439776&#45;&gt;140284650310160</title>\n<path fill=\"none\" stroke=\"#000000\" d=\"M6412.5,-3410.7333C6412.5,-3403.0322 6412.5,-3393.5977 6412.5,-3385.3414\"/>\n<polygon fill=\"#000000\" stroke=\"#000000\" points=\"6416.0001,-3385.0864 6412.5,-3375.0864 6409.0001,-3385.0864 6416.0001,-3385.0864\"/>\n</g>\n<!-- 140284650309456 -->\n<g id=\"node172\" class=\"node\">\n<title>140284650309456</title>\n<polygon fill=\"#d3d3d3\" stroke=\"#000000\" points=\"6684,-3375 6583,-3375 6583,-3356 6684,-3356 6684,-3375\"/>\n<text text-anchor=\"middle\" x=\"6633.5\" y=\"-3363\" font-family=\"monospace\" font-size=\"10.00\" fill=\"#000000\">AccumulateGrad</text>\n</g>\n<!-- 140284650309456&#45;&gt;140284650309392 -->\n<g id=\"edge170\" class=\"edge\">\n<title>140284650309456&#45;&gt;140284650309392</title>\n<path fill=\"none\" stroke=\"#000000\" d=\"M6598.4819,-3355.9136C6560.2523,-3345.448 6498.9332,-3328.6616 6457.2425,-3317.2485\"/>\n<polygon fill=\"#000000\" stroke=\"#000000\" points=\"6457.9236,-3313.8062 6447.3543,-3314.5416 6456.0752,-3320.5578 6457.9236,-3313.8062\"/>\n</g>\n<!-- 140284650439856 -->\n<g id=\"node173\" class=\"node\">\n<title>140284650439856</title>\n<polygon fill=\"#add8e6\" stroke=\"#000000\" points=\"6885,-3441 6586,-3441 6586,-3411 6885,-3411 6885,-3441\"/>\n<text text-anchor=\"middle\" x=\"6735.5\" y=\"-3429\" font-family=\"monospace\" font-size=\"10.00\" fill=\"#000000\">MobileNet_convolutional_layer1.12.stage2.1.bias</text>\n<text text-anchor=\"middle\" x=\"6735.5\" y=\"-3418\" font-family=\"monospace\" font-size=\"10.00\" fill=\"#000000\"> (256)</text>\n</g>\n<!-- 140284650439856&#45;&gt;140284650309456 -->\n<g id=\"edge171\" class=\"edge\">\n<title>140284650439856&#45;&gt;140284650309456</title>\n<path fill=\"none\" stroke=\"#000000\" d=\"M6710.0242,-3410.8894C6694.2398,-3401.527 6674.0604,-3389.5579 6658.387,-3380.2614\"/>\n<polygon fill=\"#000000\" stroke=\"#000000\" points=\"6660.1332,-3377.2278 6649.7468,-3375.1366 6656.5621,-3383.2484 6660.1332,-3377.2278\"/>\n</g>\n<!-- 140284650309840 -->\n<g id=\"node174\" class=\"node\">\n<title>140284650309840</title>\n<polygon fill=\"#d3d3d3\" stroke=\"#000000\" points=\"6753,-3248.5 6652,-3248.5 6652,-3229.5 6753,-3229.5 6753,-3248.5\"/>\n<text text-anchor=\"middle\" x=\"6702.5\" y=\"-3236.5\" font-family=\"monospace\" font-size=\"10.00\" fill=\"#000000\">AccumulateGrad</text>\n</g>\n<!-- 140284650309840&#45;&gt;140284650309264 -->\n<g id=\"edge172\" class=\"edge\">\n<title>140284650309840&#45;&gt;140284650309264</title>\n<path fill=\"none\" stroke=\"#000000\" d=\"M6712.14,-3229.2796C6721.0965,-3220.2485 6734.6372,-3206.595 6745.4228,-3195.7195\"/>\n<polygon fill=\"#000000\" stroke=\"#000000\" points=\"6748.128,-3197.9622 6752.6846,-3188.3972 6743.1577,-3193.033 6748.128,-3197.9622\"/>\n</g>\n<!-- 140284650440176 -->\n<g id=\"node175\" class=\"node\">\n<title>140284650440176</title>\n<polygon fill=\"#add8e6\" stroke=\"#000000\" points=\"6897,-3320 6508,-3320 6508,-3290 6897,-3290 6897,-3320\"/>\n<text text-anchor=\"middle\" x=\"6702.5\" y=\"-3308\" font-family=\"monospace\" font-size=\"10.00\" fill=\"#000000\">MobileNet_convolutional_layer1.13.stage1.0.deep_network.weight</text>\n<text text-anchor=\"middle\" x=\"6702.5\" y=\"-3297\" font-family=\"monospace\" font-size=\"10.00\" fill=\"#000000\"> (256, 1, 3, 3)</text>\n</g>\n<!-- 140284650440176&#45;&gt;140284650309840 -->\n<g id=\"edge173\" class=\"edge\">\n<title>140284650440176&#45;&gt;140284650309840</title>\n<path fill=\"none\" stroke=\"#000000\" d=\"M6702.5,-3289.6924C6702.5,-3280.5067 6702.5,-3268.7245 6702.5,-3258.8312\"/>\n<polygon fill=\"#000000\" stroke=\"#000000\" points=\"6706.0001,-3258.703 6702.5,-3248.7031 6699.0001,-3258.7031 6706.0001,-3258.703\"/>\n</g>\n<!-- 140284650309776 -->\n<g id=\"node176\" class=\"node\">\n<title>140284650309776</title>\n<polygon fill=\"#d3d3d3\" stroke=\"#000000\" points=\"6872,-3248.5 6771,-3248.5 6771,-3229.5 6872,-3229.5 6872,-3248.5\"/>\n<text text-anchor=\"middle\" x=\"6821.5\" y=\"-3236.5\" font-family=\"monospace\" font-size=\"10.00\" fill=\"#000000\">AccumulateGrad</text>\n</g>\n<!-- 140284650309776&#45;&gt;140284650309264 -->\n<g id=\"edge174\" class=\"edge\">\n<title>140284650309776&#45;&gt;140284650309264</title>\n<path fill=\"none\" stroke=\"#000000\" d=\"M6812.0206,-3229.2796C6803.2134,-3220.2485 6789.8984,-3206.595 6779.2926,-3195.7195\"/>\n<polygon fill=\"#000000\" stroke=\"#000000\" points=\"6781.6394,-3193.1129 6772.1519,-3188.3972 6776.6279,-3198.0002 6781.6394,-3193.1129\"/>\n</g>\n<!-- 140284650440256 -->\n<g id=\"node177\" class=\"node\">\n<title>140284650440256</title>\n<polygon fill=\"#add8e6\" stroke=\"#000000\" points=\"7292,-3320 6915,-3320 6915,-3290 7292,-3290 7292,-3320\"/>\n<text text-anchor=\"middle\" x=\"7103.5\" y=\"-3308\" font-family=\"monospace\" font-size=\"10.00\" fill=\"#000000\">MobileNet_convolutional_layer1.13.stage1.0.deep_network.bias</text>\n<text text-anchor=\"middle\" x=\"7103.5\" y=\"-3297\" font-family=\"monospace\" font-size=\"10.00\" fill=\"#000000\"> (256)</text>\n</g>\n<!-- 140284650440256&#45;&gt;140284650309776 -->\n<g id=\"edge175\" class=\"edge\">\n<title>140284650440256&#45;&gt;140284650309776</title>\n<path fill=\"none\" stroke=\"#000000\" d=\"M7035.5745,-3289.9122C6991.3437,-3279.9774 6932.4246,-3266.5362 6880.5,-3254 6876.6233,-3253.064 6872.6075,-3252.0781 6868.578,-3251.0772\"/>\n<polygon fill=\"#000000\" stroke=\"#000000\" points=\"6869.1552,-3247.6138 6858.6044,-3248.5787 6867.4541,-3254.4039 6869.1552,-3247.6138\"/>\n</g>\n<!-- 140284650309584 -->\n<g id=\"node178\" class=\"node\">\n<title>140284650309584</title>\n<polygon fill=\"#d3d3d3\" stroke=\"#000000\" points=\"7096,-3188 6995,-3188 6995,-3169 7096,-3169 7096,-3188\"/>\n<text text-anchor=\"middle\" x=\"7045.5\" y=\"-3176\" font-family=\"monospace\" font-size=\"10.00\" fill=\"#000000\">AccumulateGrad</text>\n</g>\n<!-- 140284650309584&#45;&gt;140284650309200 -->\n<g id=\"edge176\" class=\"edge\">\n<title>140284650309584&#45;&gt;140284650309200</title>\n<path fill=\"none\" stroke=\"#000000\" d=\"M7045.5,-3168.7796C7045.5,-3160.5376 7045.5,-3148.4457 7045.5,-3138.129\"/>\n<polygon fill=\"#000000\" stroke=\"#000000\" points=\"7049.0001,-3137.8972 7045.5,-3127.8972 7042.0001,-3137.8973 7049.0001,-3137.8972\"/>\n</g>\n<!-- 140284650440336 -->\n<g id=\"node179\" class=\"node\">\n<title>140284650440336</title>\n<polygon fill=\"#add8e6\" stroke=\"#000000\" points=\"7201,-3254 6890,-3254 6890,-3224 7201,-3224 7201,-3254\"/>\n<text text-anchor=\"middle\" x=\"7045.5\" y=\"-3242\" font-family=\"monospace\" font-size=\"10.00\" fill=\"#000000\">MobileNet_convolutional_layer1.13.stage1.1.weight</text>\n<text text-anchor=\"middle\" x=\"7045.5\" y=\"-3231\" font-family=\"monospace\" font-size=\"10.00\" fill=\"#000000\"> (256)</text>\n</g>\n<!-- 140284650440336&#45;&gt;140284650309584 -->\n<g id=\"edge177\" class=\"edge\">\n<title>140284650440336&#45;&gt;140284650309584</title>\n<path fill=\"none\" stroke=\"#000000\" d=\"M7045.5,-3223.7333C7045.5,-3216.0322 7045.5,-3206.5977 7045.5,-3198.3414\"/>\n<polygon fill=\"#000000\" stroke=\"#000000\" points=\"7049.0001,-3198.0864 7045.5,-3188.0864 7042.0001,-3198.0864 7049.0001,-3198.0864\"/>\n</g>\n<!-- 140284650308816 -->\n<g id=\"node180\" class=\"node\">\n<title>140284650308816</title>\n<polygon fill=\"#d3d3d3\" stroke=\"#000000\" points=\"7317,-3188 7216,-3188 7216,-3169 7317,-3169 7317,-3188\"/>\n<text text-anchor=\"middle\" x=\"7266.5\" y=\"-3176\" font-family=\"monospace\" font-size=\"10.00\" fill=\"#000000\">AccumulateGrad</text>\n</g>\n<!-- 140284650308816&#45;&gt;140284650309200 -->\n<g id=\"edge178\" class=\"edge\">\n<title>140284650308816&#45;&gt;140284650309200</title>\n<path fill=\"none\" stroke=\"#000000\" d=\"M7231.4819,-3168.9136C7193.2523,-3158.448 7131.9332,-3141.6616 7090.2425,-3130.2485\"/>\n<polygon fill=\"#000000\" stroke=\"#000000\" points=\"7090.9236,-3126.8062 7080.3543,-3127.5416 7089.0752,-3133.5578 7090.9236,-3126.8062\"/>\n</g>\n<!-- 140284650440416 -->\n<g id=\"node181\" class=\"node\">\n<title>140284650440416</title>\n<polygon fill=\"#add8e6\" stroke=\"#000000\" points=\"7518,-3254 7219,-3254 7219,-3224 7518,-3224 7518,-3254\"/>\n<text text-anchor=\"middle\" x=\"7368.5\" y=\"-3242\" font-family=\"monospace\" font-size=\"10.00\" fill=\"#000000\">MobileNet_convolutional_layer1.13.stage1.1.bias</text>\n<text text-anchor=\"middle\" x=\"7368.5\" y=\"-3231\" font-family=\"monospace\" font-size=\"10.00\" fill=\"#000000\"> (256)</text>\n</g>\n<!-- 140284650440416&#45;&gt;140284650308816 -->\n<g id=\"edge179\" class=\"edge\">\n<title>140284650440416&#45;&gt;140284650308816</title>\n<path fill=\"none\" stroke=\"#000000\" d=\"M7343.0242,-3223.8894C7327.2398,-3214.527 7307.0604,-3202.5579 7291.387,-3193.2614\"/>\n<polygon fill=\"#000000\" stroke=\"#000000\" points=\"7293.1332,-3190.2278 7282.7468,-3188.1366 7289.5621,-3196.2484 7293.1332,-3190.2278\"/>\n</g>\n<!-- 140284650309136 -->\n<g id=\"node182\" class=\"node\">\n<title>140284650309136</title>\n<polygon fill=\"#d3d3d3\" stroke=\"#000000\" points=\"7347,-3061.5 7246,-3061.5 7246,-3042.5 7347,-3042.5 7347,-3061.5\"/>\n<text text-anchor=\"middle\" x=\"7296.5\" y=\"-3049.5\" font-family=\"monospace\" font-size=\"10.00\" fill=\"#000000\">AccumulateGrad</text>\n</g>\n<!-- 140284650309136&#45;&gt;140284650308112 -->\n<g id=\"edge180\" class=\"edge\">\n<title>140284650309136&#45;&gt;140284650308112</title>\n<path fill=\"none\" stroke=\"#000000\" d=\"M7306.14,-3042.2796C7315.0965,-3033.2485 7328.6372,-3019.595 7339.4228,-3008.7195\"/>\n<polygon fill=\"#000000\" stroke=\"#000000\" points=\"7342.128,-3010.9622 7346.6846,-3001.3972 7337.1577,-3006.033 7342.128,-3010.9622\"/>\n</g>\n<!-- 140284650440736 -->\n<g id=\"node183\" class=\"node\">\n<title>140284650440736</title>\n<polygon fill=\"#add8e6\" stroke=\"#000000\" points=\"7452,-3133 7141,-3133 7141,-3103 7452,-3103 7452,-3133\"/>\n<text text-anchor=\"middle\" x=\"7296.5\" y=\"-3121\" font-family=\"monospace\" font-size=\"10.00\" fill=\"#000000\">MobileNet_convolutional_layer1.14.stage2.0.weight</text>\n<text text-anchor=\"middle\" x=\"7296.5\" y=\"-3110\" font-family=\"monospace\" font-size=\"10.00\" fill=\"#000000\"> (512, 256, 3, 3)</text>\n</g>\n<!-- 140284650440736&#45;&gt;140284650309136 -->\n<g id=\"edge181\" class=\"edge\">\n<title>140284650440736&#45;&gt;140284650309136</title>\n<path fill=\"none\" stroke=\"#000000\" d=\"M7296.5,-3102.6924C7296.5,-3093.5067 7296.5,-3081.7245 7296.5,-3071.8312\"/>\n<polygon fill=\"#000000\" stroke=\"#000000\" points=\"7300.0001,-3071.703 7296.5,-3061.7031 7293.0001,-3071.7031 7300.0001,-3071.703\"/>\n</g>\n<!-- 140284650309072 -->\n<g id=\"node184\" class=\"node\">\n<title>140284650309072</title>\n<polygon fill=\"#d3d3d3\" stroke=\"#000000\" points=\"7466,-3061.5 7365,-3061.5 7365,-3042.5 7466,-3042.5 7466,-3061.5\"/>\n<text text-anchor=\"middle\" x=\"7415.5\" y=\"-3049.5\" font-family=\"monospace\" font-size=\"10.00\" fill=\"#000000\">AccumulateGrad</text>\n</g>\n<!-- 140284650309072&#45;&gt;140284650308112 -->\n<g id=\"edge182\" class=\"edge\">\n<title>140284650309072&#45;&gt;140284650308112</title>\n<path fill=\"none\" stroke=\"#000000\" d=\"M7406.0206,-3042.2796C7397.2134,-3033.2485 7383.8984,-3019.595 7373.2926,-3008.7195\"/>\n<polygon fill=\"#000000\" stroke=\"#000000\" points=\"7375.6394,-3006.1129 7366.1519,-3001.3972 7370.6279,-3011.0002 7375.6394,-3006.1129\"/>\n</g>\n<!-- 140284650440816 -->\n<g id=\"node185\" class=\"node\">\n<title>140284650440816</title>\n<polygon fill=\"#add8e6\" stroke=\"#000000\" points=\"7769,-3133 7470,-3133 7470,-3103 7769,-3103 7769,-3133\"/>\n<text text-anchor=\"middle\" x=\"7619.5\" y=\"-3121\" font-family=\"monospace\" font-size=\"10.00\" fill=\"#000000\">MobileNet_convolutional_layer1.14.stage2.0.bias</text>\n<text text-anchor=\"middle\" x=\"7619.5\" y=\"-3110\" font-family=\"monospace\" font-size=\"10.00\" fill=\"#000000\"> (512)</text>\n</g>\n<!-- 140284650440816&#45;&gt;140284650309072 -->\n<g id=\"edge183\" class=\"edge\">\n<title>140284650440816&#45;&gt;140284650309072</title>\n<path fill=\"none\" stroke=\"#000000\" d=\"M7572.954,-3102.941C7537.2061,-3091.3755 7488.4019,-3075.5859 7454.6472,-3064.6653\"/>\n<polygon fill=\"#000000\" stroke=\"#000000\" points=\"7455.71,-3061.3306 7445.1182,-3061.5824 7453.5553,-3067.9907 7455.71,-3061.3306\"/>\n</g>\n<!-- 140284650308880 -->\n<g id=\"node186\" class=\"node\">\n<title>140284650308880</title>\n<polygon fill=\"#d3d3d3\" stroke=\"#000000\" points=\"7690,-3001 7589,-3001 7589,-2982 7690,-2982 7690,-3001\"/>\n<text text-anchor=\"middle\" x=\"7639.5\" y=\"-2989\" font-family=\"monospace\" font-size=\"10.00\" fill=\"#000000\">AccumulateGrad</text>\n</g>\n<!-- 140284650308880&#45;&gt;140284650308624 -->\n<g id=\"edge184\" class=\"edge\">\n<title>140284650308880&#45;&gt;140284650308624</title>\n<path fill=\"none\" stroke=\"#000000\" d=\"M7639.5,-2981.7796C7639.5,-2973.5376 7639.5,-2961.4457 7639.5,-2951.129\"/>\n<polygon fill=\"#000000\" stroke=\"#000000\" points=\"7643.0001,-2950.8972 7639.5,-2940.8972 7636.0001,-2950.8973 7643.0001,-2950.8972\"/>\n</g>\n<!-- 140284650440896 -->\n<g id=\"node187\" class=\"node\">\n<title>140284650440896</title>\n<polygon fill=\"#add8e6\" stroke=\"#000000\" points=\"7795,-3067 7484,-3067 7484,-3037 7795,-3037 7795,-3067\"/>\n<text text-anchor=\"middle\" x=\"7639.5\" y=\"-3055\" font-family=\"monospace\" font-size=\"10.00\" fill=\"#000000\">MobileNet_convolutional_layer1.14.stage2.1.weight</text>\n<text text-anchor=\"middle\" x=\"7639.5\" y=\"-3044\" font-family=\"monospace\" font-size=\"10.00\" fill=\"#000000\"> (512)</text>\n</g>\n<!-- 140284650440896&#45;&gt;140284650308880 -->\n<g id=\"edge185\" class=\"edge\">\n<title>140284650440896&#45;&gt;140284650308880</title>\n<path fill=\"none\" stroke=\"#000000\" d=\"M7639.5,-3036.7333C7639.5,-3029.0322 7639.5,-3019.5977 7639.5,-3011.3414\"/>\n<polygon fill=\"#000000\" stroke=\"#000000\" points=\"7643.0001,-3011.0864 7639.5,-3001.0864 7636.0001,-3011.0864 7643.0001,-3011.0864\"/>\n</g>\n<!-- 140284650308176 -->\n<g id=\"node188\" class=\"node\">\n<title>140284650308176</title>\n<polygon fill=\"#d3d3d3\" stroke=\"#000000\" points=\"7911,-3001 7810,-3001 7810,-2982 7911,-2982 7911,-3001\"/>\n<text text-anchor=\"middle\" x=\"7860.5\" y=\"-2989\" font-family=\"monospace\" font-size=\"10.00\" fill=\"#000000\">AccumulateGrad</text>\n</g>\n<!-- 140284650308176&#45;&gt;140284650308624 -->\n<g id=\"edge186\" class=\"edge\">\n<title>140284650308176&#45;&gt;140284650308624</title>\n<path fill=\"none\" stroke=\"#000000\" d=\"M7825.4819,-2981.9136C7787.2523,-2971.448 7725.9332,-2954.6616 7684.2425,-2943.2485\"/>\n<polygon fill=\"#000000\" stroke=\"#000000\" points=\"7684.9236,-2939.8062 7674.3543,-2940.5416 7683.0752,-2946.5578 7684.9236,-2939.8062\"/>\n</g>\n<!-- 140284650440976 -->\n<g id=\"node189\" class=\"node\">\n<title>140284650440976</title>\n<polygon fill=\"#add8e6\" stroke=\"#000000\" points=\"8112,-3067 7813,-3067 7813,-3037 8112,-3037 8112,-3067\"/>\n<text text-anchor=\"middle\" x=\"7962.5\" y=\"-3055\" font-family=\"monospace\" font-size=\"10.00\" fill=\"#000000\">MobileNet_convolutional_layer1.14.stage2.1.bias</text>\n<text text-anchor=\"middle\" x=\"7962.5\" y=\"-3044\" font-family=\"monospace\" font-size=\"10.00\" fill=\"#000000\"> (512)</text>\n</g>\n<!-- 140284650440976&#45;&gt;140284650308176 -->\n<g id=\"edge187\" class=\"edge\">\n<title>140284650440976&#45;&gt;140284650308176</title>\n<path fill=\"none\" stroke=\"#000000\" d=\"M7937.0242,-3036.8894C7921.2398,-3027.527 7901.0604,-3015.5579 7885.387,-3006.2614\"/>\n<polygon fill=\"#000000\" stroke=\"#000000\" points=\"7887.1332,-3003.2278 7876.7468,-3001.1366 7883.5621,-3009.2484 7887.1332,-3003.2278\"/>\n</g>\n<!-- 140284650308560 -->\n<g id=\"node190\" class=\"node\">\n<title>140284650308560</title>\n<polygon fill=\"#d3d3d3\" stroke=\"#000000\" points=\"7980,-2874.5 7879,-2874.5 7879,-2855.5 7980,-2855.5 7980,-2874.5\"/>\n<text text-anchor=\"middle\" x=\"7929.5\" y=\"-2862.5\" font-family=\"monospace\" font-size=\"10.00\" fill=\"#000000\">AccumulateGrad</text>\n</g>\n<!-- 140284650308560&#45;&gt;140284650307984 -->\n<g id=\"edge188\" class=\"edge\">\n<title>140284650308560&#45;&gt;140284650307984</title>\n<path fill=\"none\" stroke=\"#000000\" d=\"M7938.9794,-2855.2796C7947.7866,-2846.2485 7961.1016,-2832.595 7971.7074,-2821.7195\"/>\n<polygon fill=\"#000000\" stroke=\"#000000\" points=\"7974.3721,-2824.0002 7978.8481,-2814.3972 7969.3606,-2819.1129 7974.3721,-2824.0002\"/>\n</g>\n<!-- 140284650441296 -->\n<g id=\"node191\" class=\"node\">\n<title>140284650441296</title>\n<polygon fill=\"#add8e6\" stroke=\"#000000\" points=\"8124,-2946 7735,-2946 7735,-2916 8124,-2916 8124,-2946\"/>\n<text text-anchor=\"middle\" x=\"7929.5\" y=\"-2934\" font-family=\"monospace\" font-size=\"10.00\" fill=\"#000000\">MobileNet_convolutional_layer1.15.stage1.0.deep_network.weight</text>\n<text text-anchor=\"middle\" x=\"7929.5\" y=\"-2923\" font-family=\"monospace\" font-size=\"10.00\" fill=\"#000000\"> (512, 1, 3, 3)</text>\n</g>\n<!-- 140284650441296&#45;&gt;140284650308560 -->\n<g id=\"edge189\" class=\"edge\">\n<title>140284650441296&#45;&gt;140284650308560</title>\n<path fill=\"none\" stroke=\"#000000\" d=\"M7929.5,-2915.6924C7929.5,-2906.5067 7929.5,-2894.7245 7929.5,-2884.8312\"/>\n<polygon fill=\"#000000\" stroke=\"#000000\" points=\"7933.0001,-2884.703 7929.5,-2874.7031 7926.0001,-2884.7031 7933.0001,-2884.703\"/>\n</g>\n<!-- 140284650308496 -->\n<g id=\"node192\" class=\"node\">\n<title>140284650308496</title>\n<polygon fill=\"#d3d3d3\" stroke=\"#000000\" points=\"8099,-2874.5 7998,-2874.5 7998,-2855.5 8099,-2855.5 8099,-2874.5\"/>\n<text text-anchor=\"middle\" x=\"8048.5\" y=\"-2862.5\" font-family=\"monospace\" font-size=\"10.00\" fill=\"#000000\">AccumulateGrad</text>\n</g>\n<!-- 140284650308496&#45;&gt;140284650307984 -->\n<g id=\"edge190\" class=\"edge\">\n<title>140284650308496&#45;&gt;140284650307984</title>\n<path fill=\"none\" stroke=\"#000000\" d=\"M8038.86,-2855.2796C8029.9035,-2846.2485 8016.3628,-2832.595 8005.5772,-2821.7195\"/>\n<polygon fill=\"#000000\" stroke=\"#000000\" points=\"8007.8423,-2819.033 7998.3154,-2814.3972 8002.872,-2823.9622 8007.8423,-2819.033\"/>\n</g>\n<!-- 140284650441376 -->\n<g id=\"node193\" class=\"node\">\n<title>140284650441376</title>\n<polygon fill=\"#add8e6\" stroke=\"#000000\" points=\"8519,-2946 8142,-2946 8142,-2916 8519,-2916 8519,-2946\"/>\n<text text-anchor=\"middle\" x=\"8330.5\" y=\"-2934\" font-family=\"monospace\" font-size=\"10.00\" fill=\"#000000\">MobileNet_convolutional_layer1.15.stage1.0.deep_network.bias</text>\n<text text-anchor=\"middle\" x=\"8330.5\" y=\"-2923\" font-family=\"monospace\" font-size=\"10.00\" fill=\"#000000\"> (512)</text>\n</g>\n<!-- 140284650441376&#45;&gt;140284650308496 -->\n<g id=\"edge191\" class=\"edge\">\n<title>140284650441376&#45;&gt;140284650308496</title>\n<path fill=\"none\" stroke=\"#000000\" d=\"M8262.5745,-2915.9122C8218.3437,-2905.9774 8159.4246,-2892.5362 8107.5,-2880 8103.6233,-2879.064 8099.6075,-2878.0781 8095.578,-2877.0772\"/>\n<polygon fill=\"#000000\" stroke=\"#000000\" points=\"8096.1552,-2873.6138 8085.6044,-2874.5787 8094.4541,-2880.4039 8096.1552,-2873.6138\"/>\n</g>\n<!-- 140284650308304 -->\n<g id=\"node194\" class=\"node\">\n<title>140284650308304</title>\n<polygon fill=\"#d3d3d3\" stroke=\"#000000\" points=\"8323,-2814 8222,-2814 8222,-2795 8323,-2795 8323,-2814\"/>\n<text text-anchor=\"middle\" x=\"8272.5\" y=\"-2802\" font-family=\"monospace\" font-size=\"10.00\" fill=\"#000000\">AccumulateGrad</text>\n</g>\n<!-- 140284650308304&#45;&gt;140284650307792 -->\n<g id=\"edge192\" class=\"edge\">\n<title>140284650308304&#45;&gt;140284650307792</title>\n<path fill=\"none\" stroke=\"#000000\" d=\"M8272.5,-2794.7796C8272.5,-2786.5376 8272.5,-2774.4457 8272.5,-2764.129\"/>\n<polygon fill=\"#000000\" stroke=\"#000000\" points=\"8276.0001,-2763.8972 8272.5,-2753.8972 8269.0001,-2763.8973 8276.0001,-2763.8972\"/>\n</g>\n<!-- 140284650441456 -->\n<g id=\"node195\" class=\"node\">\n<title>140284650441456</title>\n<polygon fill=\"#add8e6\" stroke=\"#000000\" points=\"8428,-2880 8117,-2880 8117,-2850 8428,-2850 8428,-2880\"/>\n<text text-anchor=\"middle\" x=\"8272.5\" y=\"-2868\" font-family=\"monospace\" font-size=\"10.00\" fill=\"#000000\">MobileNet_convolutional_layer1.15.stage1.1.weight</text>\n<text text-anchor=\"middle\" x=\"8272.5\" y=\"-2857\" font-family=\"monospace\" font-size=\"10.00\" fill=\"#000000\"> (512)</text>\n</g>\n<!-- 140284650441456&#45;&gt;140284650308304 -->\n<g id=\"edge193\" class=\"edge\">\n<title>140284650441456&#45;&gt;140284650308304</title>\n<path fill=\"none\" stroke=\"#000000\" d=\"M8272.5,-2849.7333C8272.5,-2842.0322 8272.5,-2832.5977 8272.5,-2824.3414\"/>\n<polygon fill=\"#000000\" stroke=\"#000000\" points=\"8276.0001,-2824.0864 8272.5,-2814.0864 8269.0001,-2824.0864 8276.0001,-2824.0864\"/>\n</g>\n<!-- 140284650307856 -->\n<g id=\"node196\" class=\"node\">\n<title>140284650307856</title>\n<polygon fill=\"#d3d3d3\" stroke=\"#000000\" points=\"8544,-2814 8443,-2814 8443,-2795 8544,-2795 8544,-2814\"/>\n<text text-anchor=\"middle\" x=\"8493.5\" y=\"-2802\" font-family=\"monospace\" font-size=\"10.00\" fill=\"#000000\">AccumulateGrad</text>\n</g>\n<!-- 140284650307856&#45;&gt;140284650307792 -->\n<g id=\"edge194\" class=\"edge\">\n<title>140284650307856&#45;&gt;140284650307792</title>\n<path fill=\"none\" stroke=\"#000000\" d=\"M8458.4819,-2794.9136C8420.2523,-2784.448 8358.9332,-2767.6616 8317.2425,-2756.2485\"/>\n<polygon fill=\"#000000\" stroke=\"#000000\" points=\"8317.9236,-2752.8062 8307.3543,-2753.5416 8316.0752,-2759.5578 8317.9236,-2752.8062\"/>\n</g>\n<!-- 140284650441536 -->\n<g id=\"node197\" class=\"node\">\n<title>140284650441536</title>\n<polygon fill=\"#add8e6\" stroke=\"#000000\" points=\"8745,-2880 8446,-2880 8446,-2850 8745,-2850 8745,-2880\"/>\n<text text-anchor=\"middle\" x=\"8595.5\" y=\"-2868\" font-family=\"monospace\" font-size=\"10.00\" fill=\"#000000\">MobileNet_convolutional_layer1.15.stage1.1.bias</text>\n<text text-anchor=\"middle\" x=\"8595.5\" y=\"-2857\" font-family=\"monospace\" font-size=\"10.00\" fill=\"#000000\"> (512)</text>\n</g>\n<!-- 140284650441536&#45;&gt;140284650307856 -->\n<g id=\"edge195\" class=\"edge\">\n<title>140284650441536&#45;&gt;140284650307856</title>\n<path fill=\"none\" stroke=\"#000000\" d=\"M8570.0242,-2849.8894C8554.2398,-2840.527 8534.0604,-2828.5579 8518.387,-2819.2614\"/>\n<polygon fill=\"#000000\" stroke=\"#000000\" points=\"8520.1332,-2816.2278 8509.7468,-2814.1366 8516.5621,-2822.2484 8520.1332,-2816.2278\"/>\n</g>\n<!-- 140284650319760 -->\n<g id=\"node198\" class=\"node\">\n<title>140284650319760</title>\n<polygon fill=\"#d3d3d3\" stroke=\"#000000\" points=\"8574,-2687.5 8473,-2687.5 8473,-2668.5 8574,-2668.5 8574,-2687.5\"/>\n<text text-anchor=\"middle\" x=\"8523.5\" y=\"-2675.5\" font-family=\"monospace\" font-size=\"10.00\" fill=\"#000000\">AccumulateGrad</text>\n</g>\n<!-- 140284650319760&#45;&gt;140284650319248 -->\n<g id=\"edge196\" class=\"edge\">\n<title>140284650319760&#45;&gt;140284650319248</title>\n<path fill=\"none\" stroke=\"#000000\" d=\"M8533.14,-2668.2796C8542.0965,-2659.2485 8555.6372,-2645.595 8566.4228,-2634.7195\"/>\n<polygon fill=\"#000000\" stroke=\"#000000\" points=\"8569.128,-2636.9622 8573.6846,-2627.3972 8564.1577,-2632.033 8569.128,-2636.9622\"/>\n</g>\n<!-- 140284650441856 -->\n<g id=\"node199\" class=\"node\">\n<title>140284650441856</title>\n<polygon fill=\"#add8e6\" stroke=\"#000000\" points=\"8679,-2759 8368,-2759 8368,-2729 8679,-2729 8679,-2759\"/>\n<text text-anchor=\"middle\" x=\"8523.5\" y=\"-2747\" font-family=\"monospace\" font-size=\"10.00\" fill=\"#000000\">MobileNet_convolutional_layer1.16.stage2.0.weight</text>\n<text text-anchor=\"middle\" x=\"8523.5\" y=\"-2736\" font-family=\"monospace\" font-size=\"10.00\" fill=\"#000000\"> (512, 512, 3, 3)</text>\n</g>\n<!-- 140284650441856&#45;&gt;140284650319760 -->\n<g id=\"edge197\" class=\"edge\">\n<title>140284650441856&#45;&gt;140284650319760</title>\n<path fill=\"none\" stroke=\"#000000\" d=\"M8523.5,-2728.6924C8523.5,-2719.5067 8523.5,-2707.7245 8523.5,-2697.8312\"/>\n<polygon fill=\"#000000\" stroke=\"#000000\" points=\"8527.0001,-2697.703 8523.5,-2687.7031 8520.0001,-2697.7031 8527.0001,-2697.703\"/>\n</g>\n<!-- 140284650307728 -->\n<g id=\"node200\" class=\"node\">\n<title>140284650307728</title>\n<polygon fill=\"#d3d3d3\" stroke=\"#000000\" points=\"8693,-2687.5 8592,-2687.5 8592,-2668.5 8693,-2668.5 8693,-2687.5\"/>\n<text text-anchor=\"middle\" x=\"8642.5\" y=\"-2675.5\" font-family=\"monospace\" font-size=\"10.00\" fill=\"#000000\">AccumulateGrad</text>\n</g>\n<!-- 140284650307728&#45;&gt;140284650319248 -->\n<g id=\"edge198\" class=\"edge\">\n<title>140284650307728&#45;&gt;140284650319248</title>\n<path fill=\"none\" stroke=\"#000000\" d=\"M8633.0206,-2668.2796C8624.2134,-2659.2485 8610.8984,-2645.595 8600.2926,-2634.7195\"/>\n<polygon fill=\"#000000\" stroke=\"#000000\" points=\"8602.6394,-2632.1129 8593.1519,-2627.3972 8597.6279,-2637.0002 8602.6394,-2632.1129\"/>\n</g>\n<!-- 140284650441936 -->\n<g id=\"node201\" class=\"node\">\n<title>140284650441936</title>\n<polygon fill=\"#add8e6\" stroke=\"#000000\" points=\"8996,-2759 8697,-2759 8697,-2729 8996,-2729 8996,-2759\"/>\n<text text-anchor=\"middle\" x=\"8846.5\" y=\"-2747\" font-family=\"monospace\" font-size=\"10.00\" fill=\"#000000\">MobileNet_convolutional_layer1.16.stage2.0.bias</text>\n<text text-anchor=\"middle\" x=\"8846.5\" y=\"-2736\" font-family=\"monospace\" font-size=\"10.00\" fill=\"#000000\"> (512)</text>\n</g>\n<!-- 140284650441936&#45;&gt;140284650307728 -->\n<g id=\"edge199\" class=\"edge\">\n<title>140284650441936&#45;&gt;140284650307728</title>\n<path fill=\"none\" stroke=\"#000000\" d=\"M8799.954,-2728.941C8764.2061,-2717.3755 8715.4019,-2701.5859 8681.6472,-2690.6653\"/>\n<polygon fill=\"#000000\" stroke=\"#000000\" points=\"8682.71,-2687.3306 8672.1182,-2687.5824 8680.5553,-2693.9907 8682.71,-2687.3306\"/>\n</g>\n<!-- 140284650319696 -->\n<g id=\"node202\" class=\"node\">\n<title>140284650319696</title>\n<polygon fill=\"#d3d3d3\" stroke=\"#000000\" points=\"8917,-2627 8816,-2627 8816,-2608 8917,-2608 8917,-2627\"/>\n<text text-anchor=\"middle\" x=\"8866.5\" y=\"-2615\" font-family=\"monospace\" font-size=\"10.00\" fill=\"#000000\">AccumulateGrad</text>\n</g>\n<!-- 140284650319696&#45;&gt;140284650319568 -->\n<g id=\"edge200\" class=\"edge\">\n<title>140284650319696&#45;&gt;140284650319568</title>\n<path fill=\"none\" stroke=\"#000000\" d=\"M8866.5,-2607.7796C8866.5,-2599.5376 8866.5,-2587.4457 8866.5,-2577.129\"/>\n<polygon fill=\"#000000\" stroke=\"#000000\" points=\"8870.0001,-2576.8972 8866.5,-2566.8972 8863.0001,-2576.8973 8870.0001,-2576.8972\"/>\n</g>\n<!-- 140284650442096 -->\n<g id=\"node203\" class=\"node\">\n<title>140284650442096</title>\n<polygon fill=\"#add8e6\" stroke=\"#000000\" points=\"9022,-2693 8711,-2693 8711,-2663 9022,-2663 9022,-2693\"/>\n<text text-anchor=\"middle\" x=\"8866.5\" y=\"-2681\" font-family=\"monospace\" font-size=\"10.00\" fill=\"#000000\">MobileNet_convolutional_layer1.16.stage2.1.weight</text>\n<text text-anchor=\"middle\" x=\"8866.5\" y=\"-2670\" font-family=\"monospace\" font-size=\"10.00\" fill=\"#000000\"> (512)</text>\n</g>\n<!-- 140284650442096&#45;&gt;140284650319696 -->\n<g id=\"edge201\" class=\"edge\">\n<title>140284650442096&#45;&gt;140284650319696</title>\n<path fill=\"none\" stroke=\"#000000\" d=\"M8866.5,-2662.7333C8866.5,-2655.0322 8866.5,-2645.5977 8866.5,-2637.3414\"/>\n<polygon fill=\"#000000\" stroke=\"#000000\" points=\"8870.0001,-2637.0864 8866.5,-2627.0864 8863.0001,-2637.0864 8870.0001,-2637.0864\"/>\n</g>\n<!-- 140284650319632 -->\n<g id=\"node204\" class=\"node\">\n<title>140284650319632</title>\n<polygon fill=\"#d3d3d3\" stroke=\"#000000\" points=\"9138,-2627 9037,-2627 9037,-2608 9138,-2608 9138,-2627\"/>\n<text text-anchor=\"middle\" x=\"9087.5\" y=\"-2615\" font-family=\"monospace\" font-size=\"10.00\" fill=\"#000000\">AccumulateGrad</text>\n</g>\n<!-- 140284650319632&#45;&gt;140284650319568 -->\n<g id=\"edge202\" class=\"edge\">\n<title>140284650319632&#45;&gt;140284650319568</title>\n<path fill=\"none\" stroke=\"#000000\" d=\"M9052.4819,-2607.9136C9014.2523,-2597.448 8952.9332,-2580.6616 8911.2425,-2569.2485\"/>\n<polygon fill=\"#000000\" stroke=\"#000000\" points=\"8911.9236,-2565.8062 8901.3543,-2566.5416 8910.0752,-2572.5578 8911.9236,-2565.8062\"/>\n</g>\n<!-- 140284650442256 -->\n<g id=\"node205\" class=\"node\">\n<title>140284650442256</title>\n<polygon fill=\"#add8e6\" stroke=\"#000000\" points=\"9339,-2693 9040,-2693 9040,-2663 9339,-2663 9339,-2693\"/>\n<text text-anchor=\"middle\" x=\"9189.5\" y=\"-2681\" font-family=\"monospace\" font-size=\"10.00\" fill=\"#000000\">MobileNet_convolutional_layer1.16.stage2.1.bias</text>\n<text text-anchor=\"middle\" x=\"9189.5\" y=\"-2670\" font-family=\"monospace\" font-size=\"10.00\" fill=\"#000000\"> (512)</text>\n</g>\n<!-- 140284650442256&#45;&gt;140284650319632 -->\n<g id=\"edge203\" class=\"edge\">\n<title>140284650442256&#45;&gt;140284650319632</title>\n<path fill=\"none\" stroke=\"#000000\" d=\"M9164.0242,-2662.8894C9148.2398,-2653.527 9128.0604,-2641.5579 9112.387,-2632.2614\"/>\n<polygon fill=\"#000000\" stroke=\"#000000\" points=\"9114.1332,-2629.2278 9103.7468,-2627.1366 9110.5621,-2635.2484 9114.1332,-2629.2278\"/>\n</g>\n<!-- 140284650319504 -->\n<g id=\"node206\" class=\"node\">\n<title>140284650319504</title>\n<polygon fill=\"#d3d3d3\" stroke=\"#000000\" points=\"9207,-2500.5 9106,-2500.5 9106,-2481.5 9207,-2481.5 9207,-2500.5\"/>\n<text text-anchor=\"middle\" x=\"9156.5\" y=\"-2488.5\" font-family=\"monospace\" font-size=\"10.00\" fill=\"#000000\">AccumulateGrad</text>\n</g>\n<!-- 140284650319504&#45;&gt;140284650318608 -->\n<g id=\"edge204\" class=\"edge\">\n<title>140284650319504&#45;&gt;140284650318608</title>\n<path fill=\"none\" stroke=\"#000000\" d=\"M9166.14,-2481.2796C9175.0965,-2472.2485 9188.6372,-2458.595 9199.4228,-2447.7195\"/>\n<polygon fill=\"#000000\" stroke=\"#000000\" points=\"9202.128,-2449.9622 9206.6846,-2440.3972 9197.1577,-2445.033 9202.128,-2449.9622\"/>\n</g>\n<!-- 140284650045680 -->\n<g id=\"node207\" class=\"node\">\n<title>140284650045680</title>\n<polygon fill=\"#add8e6\" stroke=\"#000000\" points=\"9351,-2572 8962,-2572 8962,-2542 9351,-2542 9351,-2572\"/>\n<text text-anchor=\"middle\" x=\"9156.5\" y=\"-2560\" font-family=\"monospace\" font-size=\"10.00\" fill=\"#000000\">MobileNet_convolutional_layer1.17.stage1.0.deep_network.weight</text>\n<text text-anchor=\"middle\" x=\"9156.5\" y=\"-2549\" font-family=\"monospace\" font-size=\"10.00\" fill=\"#000000\"> (512, 1, 3, 3)</text>\n</g>\n<!-- 140284650045680&#45;&gt;140284650319504 -->\n<g id=\"edge205\" class=\"edge\">\n<title>140284650045680&#45;&gt;140284650319504</title>\n<path fill=\"none\" stroke=\"#000000\" d=\"M9156.5,-2541.6924C9156.5,-2532.5067 9156.5,-2520.7245 9156.5,-2510.8312\"/>\n<polygon fill=\"#000000\" stroke=\"#000000\" points=\"9160.0001,-2510.703 9156.5,-2500.7031 9153.0001,-2510.7031 9160.0001,-2510.703\"/>\n</g>\n<!-- 140284650319440 -->\n<g id=\"node208\" class=\"node\">\n<title>140284650319440</title>\n<polygon fill=\"#d3d3d3\" stroke=\"#000000\" points=\"9326,-2500.5 9225,-2500.5 9225,-2481.5 9326,-2481.5 9326,-2500.5\"/>\n<text text-anchor=\"middle\" x=\"9275.5\" y=\"-2488.5\" font-family=\"monospace\" font-size=\"10.00\" fill=\"#000000\">AccumulateGrad</text>\n</g>\n<!-- 140284650319440&#45;&gt;140284650318608 -->\n<g id=\"edge206\" class=\"edge\">\n<title>140284650319440&#45;&gt;140284650318608</title>\n<path fill=\"none\" stroke=\"#000000\" d=\"M9266.0206,-2481.2796C9257.2134,-2472.2485 9243.8984,-2458.595 9233.2926,-2447.7195\"/>\n<polygon fill=\"#000000\" stroke=\"#000000\" points=\"9235.6394,-2445.1129 9226.1519,-2440.3972 9230.6279,-2450.0002 9235.6394,-2445.1129\"/>\n</g>\n<!-- 140284650045760 -->\n<g id=\"node209\" class=\"node\">\n<title>140284650045760</title>\n<polygon fill=\"#add8e6\" stroke=\"#000000\" points=\"9746,-2572 9369,-2572 9369,-2542 9746,-2542 9746,-2572\"/>\n<text text-anchor=\"middle\" x=\"9557.5\" y=\"-2560\" font-family=\"monospace\" font-size=\"10.00\" fill=\"#000000\">MobileNet_convolutional_layer1.17.stage1.0.deep_network.bias</text>\n<text text-anchor=\"middle\" x=\"9557.5\" y=\"-2549\" font-family=\"monospace\" font-size=\"10.00\" fill=\"#000000\"> (512)</text>\n</g>\n<!-- 140284650045760&#45;&gt;140284650319440 -->\n<g id=\"edge207\" class=\"edge\">\n<title>140284650045760&#45;&gt;140284650319440</title>\n<path fill=\"none\" stroke=\"#000000\" d=\"M9489.5745,-2541.9122C9445.3437,-2531.9774 9386.4246,-2518.5362 9334.5,-2506 9330.6233,-2505.064 9326.6075,-2504.0781 9322.578,-2503.0772\"/>\n<polygon fill=\"#000000\" stroke=\"#000000\" points=\"9323.1552,-2499.6138 9312.6044,-2500.5787 9321.4541,-2506.4039 9323.1552,-2499.6138\"/>\n</g>\n<!-- 140284650319056 -->\n<g id=\"node210\" class=\"node\">\n<title>140284650319056</title>\n<polygon fill=\"#d3d3d3\" stroke=\"#000000\" points=\"9550,-2440 9449,-2440 9449,-2421 9550,-2421 9550,-2440\"/>\n<text text-anchor=\"middle\" x=\"9499.5\" y=\"-2428\" font-family=\"monospace\" font-size=\"10.00\" fill=\"#000000\">AccumulateGrad</text>\n</g>\n<!-- 140284650319056&#45;&gt;140284650318864 -->\n<g id=\"edge208\" class=\"edge\">\n<title>140284650319056&#45;&gt;140284650318864</title>\n<path fill=\"none\" stroke=\"#000000\" d=\"M9499.5,-2420.7796C9499.5,-2412.5376 9499.5,-2400.4457 9499.5,-2390.129\"/>\n<polygon fill=\"#000000\" stroke=\"#000000\" points=\"9503.0001,-2389.8972 9499.5,-2379.8972 9496.0001,-2389.8973 9503.0001,-2389.8972\"/>\n</g>\n<!-- 140284650045920 -->\n<g id=\"node211\" class=\"node\">\n<title>140284650045920</title>\n<polygon fill=\"#add8e6\" stroke=\"#000000\" points=\"9655,-2506 9344,-2506 9344,-2476 9655,-2476 9655,-2506\"/>\n<text text-anchor=\"middle\" x=\"9499.5\" y=\"-2494\" font-family=\"monospace\" font-size=\"10.00\" fill=\"#000000\">MobileNet_convolutional_layer1.17.stage1.1.weight</text>\n<text text-anchor=\"middle\" x=\"9499.5\" y=\"-2483\" font-family=\"monospace\" font-size=\"10.00\" fill=\"#000000\"> (512)</text>\n</g>\n<!-- 140284650045920&#45;&gt;140284650319056 -->\n<g id=\"edge209\" class=\"edge\">\n<title>140284650045920&#45;&gt;140284650319056</title>\n<path fill=\"none\" stroke=\"#000000\" d=\"M9499.5,-2475.7333C9499.5,-2468.0322 9499.5,-2458.5977 9499.5,-2450.3414\"/>\n<polygon fill=\"#000000\" stroke=\"#000000\" points=\"9503.0001,-2450.0864 9499.5,-2440.0864 9496.0001,-2450.0864 9503.0001,-2450.0864\"/>\n</g>\n<!-- 140284650318928 -->\n<g id=\"node212\" class=\"node\">\n<title>140284650318928</title>\n<polygon fill=\"#d3d3d3\" stroke=\"#000000\" points=\"9771,-2440 9670,-2440 9670,-2421 9771,-2421 9771,-2440\"/>\n<text text-anchor=\"middle\" x=\"9720.5\" y=\"-2428\" font-family=\"monospace\" font-size=\"10.00\" fill=\"#000000\">AccumulateGrad</text>\n</g>\n<!-- 140284650318928&#45;&gt;140284650318864 -->\n<g id=\"edge210\" class=\"edge\">\n<title>140284650318928&#45;&gt;140284650318864</title>\n<path fill=\"none\" stroke=\"#000000\" d=\"M9685.4819,-2420.9136C9647.2523,-2410.448 9585.9332,-2393.6616 9544.2425,-2382.2485\"/>\n<polygon fill=\"#000000\" stroke=\"#000000\" points=\"9544.9236,-2378.8062 9534.3543,-2379.5416 9543.0752,-2385.5578 9544.9236,-2378.8062\"/>\n</g>\n<!-- 140284650046080 -->\n<g id=\"node213\" class=\"node\">\n<title>140284650046080</title>\n<polygon fill=\"#add8e6\" stroke=\"#000000\" points=\"9972,-2506 9673,-2506 9673,-2476 9972,-2476 9972,-2506\"/>\n<text text-anchor=\"middle\" x=\"9822.5\" y=\"-2494\" font-family=\"monospace\" font-size=\"10.00\" fill=\"#000000\">MobileNet_convolutional_layer1.17.stage1.1.bias</text>\n<text text-anchor=\"middle\" x=\"9822.5\" y=\"-2483\" font-family=\"monospace\" font-size=\"10.00\" fill=\"#000000\"> (512)</text>\n</g>\n<!-- 140284650046080&#45;&gt;140284650318928 -->\n<g id=\"edge211\" class=\"edge\">\n<title>140284650046080&#45;&gt;140284650318928</title>\n<path fill=\"none\" stroke=\"#000000\" d=\"M9797.0242,-2475.8894C9781.2398,-2466.527 9761.0604,-2454.5579 9745.387,-2445.2614\"/>\n<polygon fill=\"#000000\" stroke=\"#000000\" points=\"9747.1332,-2442.2278 9736.7468,-2440.1366 9743.5621,-2448.2484 9747.1332,-2442.2278\"/>\n</g>\n<!-- 140284650318800 -->\n<g id=\"node214\" class=\"node\">\n<title>140284650318800</title>\n<polygon fill=\"#d3d3d3\" stroke=\"#000000\" points=\"9801,-2313.5 9700,-2313.5 9700,-2294.5 9801,-2294.5 9801,-2313.5\"/>\n<text text-anchor=\"middle\" x=\"9750.5\" y=\"-2301.5\" font-family=\"monospace\" font-size=\"10.00\" fill=\"#000000\">AccumulateGrad</text>\n</g>\n<!-- 140284650318800&#45;&gt;140284650317968 -->\n<g id=\"edge212\" class=\"edge\">\n<title>140284650318800&#45;&gt;140284650317968</title>\n<path fill=\"none\" stroke=\"#000000\" d=\"M9760.14,-2294.2796C9769.0965,-2285.2485 9782.6372,-2271.595 9793.4228,-2260.7195\"/>\n<polygon fill=\"#000000\" stroke=\"#000000\" points=\"9796.128,-2262.9622 9800.6846,-2253.3972 9791.1577,-2258.033 9796.128,-2262.9622\"/>\n</g>\n<!-- 140284650046640 -->\n<g id=\"node215\" class=\"node\">\n<title>140284650046640</title>\n<polygon fill=\"#add8e6\" stroke=\"#000000\" points=\"9906,-2385 9595,-2385 9595,-2355 9906,-2355 9906,-2385\"/>\n<text text-anchor=\"middle\" x=\"9750.5\" y=\"-2373\" font-family=\"monospace\" font-size=\"10.00\" fill=\"#000000\">MobileNet_convolutional_layer1.18.stage2.0.weight</text>\n<text text-anchor=\"middle\" x=\"9750.5\" y=\"-2362\" font-family=\"monospace\" font-size=\"10.00\" fill=\"#000000\"> (512, 512, 3, 3)</text>\n</g>\n<!-- 140284650046640&#45;&gt;140284650318800 -->\n<g id=\"edge213\" class=\"edge\">\n<title>140284650046640&#45;&gt;140284650318800</title>\n<path fill=\"none\" stroke=\"#000000\" d=\"M9750.5,-2354.6924C9750.5,-2345.5067 9750.5,-2333.7245 9750.5,-2323.8312\"/>\n<polygon fill=\"#000000\" stroke=\"#000000\" points=\"9754.0001,-2323.703 9750.5,-2313.7031 9747.0001,-2323.7031 9754.0001,-2323.703\"/>\n</g>\n<!-- 140284650318736 -->\n<g id=\"node216\" class=\"node\">\n<title>140284650318736</title>\n<polygon fill=\"#d3d3d3\" stroke=\"#000000\" points=\"9920,-2313.5 9819,-2313.5 9819,-2294.5 9920,-2294.5 9920,-2313.5\"/>\n<text text-anchor=\"middle\" x=\"9869.5\" y=\"-2301.5\" font-family=\"monospace\" font-size=\"10.00\" fill=\"#000000\">AccumulateGrad</text>\n</g>\n<!-- 140284650318736&#45;&gt;140284650317968 -->\n<g id=\"edge214\" class=\"edge\">\n<title>140284650318736&#45;&gt;140284650317968</title>\n<path fill=\"none\" stroke=\"#000000\" d=\"M9860.0206,-2294.2796C9851.2134,-2285.2485 9837.8984,-2271.595 9827.2926,-2260.7195\"/>\n<polygon fill=\"#000000\" stroke=\"#000000\" points=\"9829.6394,-2258.1129 9820.1519,-2253.3972 9824.6279,-2263.0002 9829.6394,-2258.1129\"/>\n</g>\n<!-- 140284650046720 -->\n<g id=\"node217\" class=\"node\">\n<title>140284650046720</title>\n<polygon fill=\"#add8e6\" stroke=\"#000000\" points=\"10223,-2385 9924,-2385 9924,-2355 10223,-2355 10223,-2385\"/>\n<text text-anchor=\"middle\" x=\"10073.5\" y=\"-2373\" font-family=\"monospace\" font-size=\"10.00\" fill=\"#000000\">MobileNet_convolutional_layer1.18.stage2.0.bias</text>\n<text text-anchor=\"middle\" x=\"10073.5\" y=\"-2362\" font-family=\"monospace\" font-size=\"10.00\" fill=\"#000000\"> (512)</text>\n</g>\n<!-- 140284650046720&#45;&gt;140284650318736 -->\n<g id=\"edge215\" class=\"edge\">\n<title>140284650046720&#45;&gt;140284650318736</title>\n<path fill=\"none\" stroke=\"#000000\" d=\"M10026.954,-2354.941C9991.2061,-2343.3755 9942.4019,-2327.5859 9908.6472,-2316.6653\"/>\n<polygon fill=\"#000000\" stroke=\"#000000\" points=\"9909.71,-2313.3306 9899.1182,-2313.5824 9907.5553,-2319.9907 9909.71,-2313.3306\"/>\n</g>\n<!-- 140284650317904 -->\n<g id=\"node218\" class=\"node\">\n<title>140284650317904</title>\n<polygon fill=\"#d3d3d3\" stroke=\"#000000\" points=\"10144,-2253 10043,-2253 10043,-2234 10144,-2234 10144,-2253\"/>\n<text text-anchor=\"middle\" x=\"10093.5\" y=\"-2241\" font-family=\"monospace\" font-size=\"10.00\" fill=\"#000000\">AccumulateGrad</text>\n</g>\n<!-- 140284650317904&#45;&gt;140284650318288 -->\n<g id=\"edge216\" class=\"edge\">\n<title>140284650317904&#45;&gt;140284650318288</title>\n<path fill=\"none\" stroke=\"#000000\" d=\"M10093.5,-2233.7796C10093.5,-2225.5376 10093.5,-2213.4457 10093.5,-2203.129\"/>\n<polygon fill=\"#000000\" stroke=\"#000000\" points=\"10097.0001,-2202.8972 10093.5,-2192.8972 10090.0001,-2202.8973 10097.0001,-2202.8972\"/>\n</g>\n<!-- 140284650046880 -->\n<g id=\"node219\" class=\"node\">\n<title>140284650046880</title>\n<polygon fill=\"#add8e6\" stroke=\"#000000\" points=\"10249,-2319 9938,-2319 9938,-2289 10249,-2289 10249,-2319\"/>\n<text text-anchor=\"middle\" x=\"10093.5\" y=\"-2307\" font-family=\"monospace\" font-size=\"10.00\" fill=\"#000000\">MobileNet_convolutional_layer1.18.stage2.1.weight</text>\n<text text-anchor=\"middle\" x=\"10093.5\" y=\"-2296\" font-family=\"monospace\" font-size=\"10.00\" fill=\"#000000\"> (512)</text>\n</g>\n<!-- 140284650046880&#45;&gt;140284650317904 -->\n<g id=\"edge217\" class=\"edge\">\n<title>140284650046880&#45;&gt;140284650317904</title>\n<path fill=\"none\" stroke=\"#000000\" d=\"M10093.5,-2288.7333C10093.5,-2281.0322 10093.5,-2271.5977 10093.5,-2263.3414\"/>\n<polygon fill=\"#000000\" stroke=\"#000000\" points=\"10097.0001,-2263.0864 10093.5,-2253.0864 10090.0001,-2263.0864 10097.0001,-2263.0864\"/>\n</g>\n<!-- 140284650318352 -->\n<g id=\"node220\" class=\"node\">\n<title>140284650318352</title>\n<polygon fill=\"#d3d3d3\" stroke=\"#000000\" points=\"10365,-2253 10264,-2253 10264,-2234 10365,-2234 10365,-2253\"/>\n<text text-anchor=\"middle\" x=\"10314.5\" y=\"-2241\" font-family=\"monospace\" font-size=\"10.00\" fill=\"#000000\">AccumulateGrad</text>\n</g>\n<!-- 140284650318352&#45;&gt;140284650318288 -->\n<g id=\"edge218\" class=\"edge\">\n<title>140284650318352&#45;&gt;140284650318288</title>\n<path fill=\"none\" stroke=\"#000000\" d=\"M10279.4819,-2233.9136C10241.2523,-2223.448 10179.9332,-2206.6616 10138.2425,-2195.2485\"/>\n<polygon fill=\"#000000\" stroke=\"#000000\" points=\"10138.9236,-2191.8062 10128.3543,-2192.5416 10137.0752,-2198.5578 10138.9236,-2191.8062\"/>\n</g>\n<!-- 140284650047040 -->\n<g id=\"node221\" class=\"node\">\n<title>140284650047040</title>\n<polygon fill=\"#add8e6\" stroke=\"#000000\" points=\"10566,-2319 10267,-2319 10267,-2289 10566,-2289 10566,-2319\"/>\n<text text-anchor=\"middle\" x=\"10416.5\" y=\"-2307\" font-family=\"monospace\" font-size=\"10.00\" fill=\"#000000\">MobileNet_convolutional_layer1.18.stage2.1.bias</text>\n<text text-anchor=\"middle\" x=\"10416.5\" y=\"-2296\" font-family=\"monospace\" font-size=\"10.00\" fill=\"#000000\"> (512)</text>\n</g>\n<!-- 140284650047040&#45;&gt;140284650318352 -->\n<g id=\"edge219\" class=\"edge\">\n<title>140284650047040&#45;&gt;140284650318352</title>\n<path fill=\"none\" stroke=\"#000000\" d=\"M10391.0242,-2288.8894C10375.2398,-2279.527 10355.0604,-2267.5579 10339.387,-2258.2614\"/>\n<polygon fill=\"#000000\" stroke=\"#000000\" points=\"10341.1332,-2255.2278 10330.7468,-2253.1366 10337.5621,-2261.2484 10341.1332,-2255.2278\"/>\n</g>\n<!-- 140284650318224 -->\n<g id=\"node222\" class=\"node\">\n<title>140284650318224</title>\n<polygon fill=\"#d3d3d3\" stroke=\"#000000\" points=\"10434,-2126.5 10333,-2126.5 10333,-2107.5 10434,-2107.5 10434,-2126.5\"/>\n<text text-anchor=\"middle\" x=\"10383.5\" y=\"-2114.5\" font-family=\"monospace\" font-size=\"10.00\" fill=\"#000000\">AccumulateGrad</text>\n</g>\n<!-- 140284650318224&#45;&gt;140284650317776 -->\n<g id=\"edge220\" class=\"edge\">\n<title>140284650318224&#45;&gt;140284650317776</title>\n<path fill=\"none\" stroke=\"#000000\" d=\"M10393.14,-2107.2796C10402.0965,-2098.2485 10415.6372,-2084.595 10426.4228,-2073.7195\"/>\n<polygon fill=\"#000000\" stroke=\"#000000\" points=\"10429.128,-2075.9622 10433.6846,-2066.3972 10424.1577,-2071.033 10429.128,-2075.9622\"/>\n</g>\n<!-- 140284650047680 -->\n<g id=\"node223\" class=\"node\">\n<title>140284650047680</title>\n<polygon fill=\"#add8e6\" stroke=\"#000000\" points=\"10578,-2198 10189,-2198 10189,-2168 10578,-2168 10578,-2198\"/>\n<text text-anchor=\"middle\" x=\"10383.5\" y=\"-2186\" font-family=\"monospace\" font-size=\"10.00\" fill=\"#000000\">MobileNet_convolutional_layer1.19.stage1.0.deep_network.weight</text>\n<text text-anchor=\"middle\" x=\"10383.5\" y=\"-2175\" font-family=\"monospace\" font-size=\"10.00\" fill=\"#000000\"> (512, 1, 3, 3)</text>\n</g>\n<!-- 140284650047680&#45;&gt;140284650318224 -->\n<g id=\"edge221\" class=\"edge\">\n<title>140284650047680&#45;&gt;140284650318224</title>\n<path fill=\"none\" stroke=\"#000000\" d=\"M10383.5,-2167.6924C10383.5,-2158.5067 10383.5,-2146.7245 10383.5,-2136.8312\"/>\n<polygon fill=\"#000000\" stroke=\"#000000\" points=\"10387.0001,-2136.703 10383.5,-2126.7031 10380.0001,-2136.7031 10387.0001,-2136.703\"/>\n</g>\n<!-- 140284650318160 -->\n<g id=\"node224\" class=\"node\">\n<title>140284650318160</title>\n<polygon fill=\"#d3d3d3\" stroke=\"#000000\" points=\"10553,-2126.5 10452,-2126.5 10452,-2107.5 10553,-2107.5 10553,-2126.5\"/>\n<text text-anchor=\"middle\" x=\"10502.5\" y=\"-2114.5\" font-family=\"monospace\" font-size=\"10.00\" fill=\"#000000\">AccumulateGrad</text>\n</g>\n<!-- 140284650318160&#45;&gt;140284650317776 -->\n<g id=\"edge222\" class=\"edge\">\n<title>140284650318160&#45;&gt;140284650317776</title>\n<path fill=\"none\" stroke=\"#000000\" d=\"M10493.0206,-2107.2796C10484.2134,-2098.2485 10470.8984,-2084.595 10460.2926,-2073.7195\"/>\n<polygon fill=\"#000000\" stroke=\"#000000\" points=\"10462.6394,-2071.1129 10453.1519,-2066.3972 10457.6279,-2076.0002 10462.6394,-2071.1129\"/>\n</g>\n<!-- 140284650047760 -->\n<g id=\"node225\" class=\"node\">\n<title>140284650047760</title>\n<polygon fill=\"#add8e6\" stroke=\"#000000\" points=\"10973,-2198 10596,-2198 10596,-2168 10973,-2168 10973,-2198\"/>\n<text text-anchor=\"middle\" x=\"10784.5\" y=\"-2186\" font-family=\"monospace\" font-size=\"10.00\" fill=\"#000000\">MobileNet_convolutional_layer1.19.stage1.0.deep_network.bias</text>\n<text text-anchor=\"middle\" x=\"10784.5\" y=\"-2175\" font-family=\"monospace\" font-size=\"10.00\" fill=\"#000000\"> (512)</text>\n</g>\n<!-- 140284650047760&#45;&gt;140284650318160 -->\n<g id=\"edge223\" class=\"edge\">\n<title>140284650047760&#45;&gt;140284650318160</title>\n<path fill=\"none\" stroke=\"#000000\" d=\"M10716.5745,-2167.9122C10672.3437,-2157.9774 10613.4246,-2144.5362 10561.5,-2132 10557.6233,-2131.064 10553.6075,-2130.0781 10549.578,-2129.0772\"/>\n<polygon fill=\"#000000\" stroke=\"#000000\" points=\"10550.1552,-2125.6138 10539.6044,-2126.5787 10548.4541,-2132.4039 10550.1552,-2125.6138\"/>\n</g>\n<!-- 140284650317328 -->\n<g id=\"node226\" class=\"node\">\n<title>140284650317328</title>\n<polygon fill=\"#d3d3d3\" stroke=\"#000000\" points=\"10777,-2066 10676,-2066 10676,-2047 10777,-2047 10777,-2066\"/>\n<text text-anchor=\"middle\" x=\"10726.5\" y=\"-2054\" font-family=\"monospace\" font-size=\"10.00\" fill=\"#000000\">AccumulateGrad</text>\n</g>\n<!-- 140284650317328&#45;&gt;140284650317584 -->\n<g id=\"edge224\" class=\"edge\">\n<title>140284650317328&#45;&gt;140284650317584</title>\n<path fill=\"none\" stroke=\"#000000\" d=\"M10726.5,-2046.7796C10726.5,-2038.5376 10726.5,-2026.4457 10726.5,-2016.129\"/>\n<polygon fill=\"#000000\" stroke=\"#000000\" points=\"10730.0001,-2015.8972 10726.5,-2005.8972 10723.0001,-2015.8973 10730.0001,-2015.8972\"/>\n</g>\n<!-- 140284650047920 -->\n<g id=\"node227\" class=\"node\">\n<title>140284650047920</title>\n<polygon fill=\"#add8e6\" stroke=\"#000000\" points=\"10882,-2132 10571,-2132 10571,-2102 10882,-2102 10882,-2132\"/>\n<text text-anchor=\"middle\" x=\"10726.5\" y=\"-2120\" font-family=\"monospace\" font-size=\"10.00\" fill=\"#000000\">MobileNet_convolutional_layer1.19.stage1.1.weight</text>\n<text text-anchor=\"middle\" x=\"10726.5\" y=\"-2109\" font-family=\"monospace\" font-size=\"10.00\" fill=\"#000000\"> (512)</text>\n</g>\n<!-- 140284650047920&#45;&gt;140284650317328 -->\n<g id=\"edge225\" class=\"edge\">\n<title>140284650047920&#45;&gt;140284650317328</title>\n<path fill=\"none\" stroke=\"#000000\" d=\"M10726.5,-2101.7333C10726.5,-2094.0322 10726.5,-2084.5977 10726.5,-2076.3414\"/>\n<polygon fill=\"#000000\" stroke=\"#000000\" points=\"10730.0001,-2076.0864 10726.5,-2066.0864 10723.0001,-2076.0864 10730.0001,-2076.0864\"/>\n</g>\n<!-- 140284650317648 -->\n<g id=\"node228\" class=\"node\">\n<title>140284650317648</title>\n<polygon fill=\"#d3d3d3\" stroke=\"#000000\" points=\"10998,-2066 10897,-2066 10897,-2047 10998,-2047 10998,-2066\"/>\n<text text-anchor=\"middle\" x=\"10947.5\" y=\"-2054\" font-family=\"monospace\" font-size=\"10.00\" fill=\"#000000\">AccumulateGrad</text>\n</g>\n<!-- 140284650317648&#45;&gt;140284650317584 -->\n<g id=\"edge226\" class=\"edge\">\n<title>140284650317648&#45;&gt;140284650317584</title>\n<path fill=\"none\" stroke=\"#000000\" d=\"M10912.4819,-2046.9136C10874.2523,-2036.448 10812.9332,-2019.6616 10771.2425,-2008.2485\"/>\n<polygon fill=\"#000000\" stroke=\"#000000\" points=\"10771.9236,-2004.8062 10761.3543,-2005.5416 10770.0752,-2011.5578 10771.9236,-2004.8062\"/>\n</g>\n<!-- 140284650048080 -->\n<g id=\"node229\" class=\"node\">\n<title>140284650048080</title>\n<polygon fill=\"#add8e6\" stroke=\"#000000\" points=\"11199,-2132 10900,-2132 10900,-2102 11199,-2102 11199,-2132\"/>\n<text text-anchor=\"middle\" x=\"11049.5\" y=\"-2120\" font-family=\"monospace\" font-size=\"10.00\" fill=\"#000000\">MobileNet_convolutional_layer1.19.stage1.1.bias</text>\n<text text-anchor=\"middle\" x=\"11049.5\" y=\"-2109\" font-family=\"monospace\" font-size=\"10.00\" fill=\"#000000\"> (512)</text>\n</g>\n<!-- 140284650048080&#45;&gt;140284650317648 -->\n<g id=\"edge227\" class=\"edge\">\n<title>140284650048080&#45;&gt;140284650317648</title>\n<path fill=\"none\" stroke=\"#000000\" d=\"M11024.0242,-2101.8894C11008.2398,-2092.527 10988.0604,-2080.5579 10972.387,-2071.2614\"/>\n<polygon fill=\"#000000\" stroke=\"#000000\" points=\"10974.1332,-2068.2278 10963.7468,-2066.1366 10970.5621,-2074.2484 10974.1332,-2068.2278\"/>\n</g>\n<!-- 140284650317520 -->\n<g id=\"node230\" class=\"node\">\n<title>140284650317520</title>\n<polygon fill=\"#d3d3d3\" stroke=\"#000000\" points=\"11028,-1939.5 10927,-1939.5 10927,-1920.5 11028,-1920.5 11028,-1939.5\"/>\n<text text-anchor=\"middle\" x=\"10977.5\" y=\"-1927.5\" font-family=\"monospace\" font-size=\"10.00\" fill=\"#000000\">AccumulateGrad</text>\n</g>\n<!-- 140284650317520&#45;&gt;140284650317200 -->\n<g id=\"edge228\" class=\"edge\">\n<title>140284650317520&#45;&gt;140284650317200</title>\n<path fill=\"none\" stroke=\"#000000\" d=\"M10987.14,-1920.2796C10996.0965,-1911.2485 11009.6372,-1897.595 11020.4228,-1886.7195\"/>\n<polygon fill=\"#000000\" stroke=\"#000000\" points=\"11023.128,-1888.9622 11027.6846,-1879.3972 11018.1577,-1884.033 11023.128,-1888.9622\"/>\n</g>\n<!-- 140284650048640 -->\n<g id=\"node231\" class=\"node\">\n<title>140284650048640</title>\n<polygon fill=\"#add8e6\" stroke=\"#000000\" points=\"11133,-2011 10822,-2011 10822,-1981 11133,-1981 11133,-2011\"/>\n<text text-anchor=\"middle\" x=\"10977.5\" y=\"-1999\" font-family=\"monospace\" font-size=\"10.00\" fill=\"#000000\">MobileNet_convolutional_layer1.20.stage2.0.weight</text>\n<text text-anchor=\"middle\" x=\"10977.5\" y=\"-1988\" font-family=\"monospace\" font-size=\"10.00\" fill=\"#000000\"> (512, 512, 3, 3)</text>\n</g>\n<!-- 140284650048640&#45;&gt;140284650317520 -->\n<g id=\"edge229\" class=\"edge\">\n<title>140284650048640&#45;&gt;140284650317520</title>\n<path fill=\"none\" stroke=\"#000000\" d=\"M10977.5,-1980.6924C10977.5,-1971.5067 10977.5,-1959.7245 10977.5,-1949.8312\"/>\n<polygon fill=\"#000000\" stroke=\"#000000\" points=\"10981.0001,-1949.703 10977.5,-1939.7031 10974.0001,-1949.7031 10981.0001,-1949.703\"/>\n</g>\n<!-- 140284650317456 -->\n<g id=\"node232\" class=\"node\">\n<title>140284650317456</title>\n<polygon fill=\"#d3d3d3\" stroke=\"#000000\" points=\"11147,-1939.5 11046,-1939.5 11046,-1920.5 11147,-1920.5 11147,-1939.5\"/>\n<text text-anchor=\"middle\" x=\"11096.5\" y=\"-1927.5\" font-family=\"monospace\" font-size=\"10.00\" fill=\"#000000\">AccumulateGrad</text>\n</g>\n<!-- 140284650317456&#45;&gt;140284650317200 -->\n<g id=\"edge230\" class=\"edge\">\n<title>140284650317456&#45;&gt;140284650317200</title>\n<path fill=\"none\" stroke=\"#000000\" d=\"M11087.0206,-1920.2796C11078.2134,-1911.2485 11064.8984,-1897.595 11054.2926,-1886.7195\"/>\n<polygon fill=\"#000000\" stroke=\"#000000\" points=\"11056.6394,-1884.1129 11047.1519,-1879.3972 11051.6279,-1889.0002 11056.6394,-1884.1129\"/>\n</g>\n<!-- 140284650048720 -->\n<g id=\"node233\" class=\"node\">\n<title>140284650048720</title>\n<polygon fill=\"#add8e6\" stroke=\"#000000\" points=\"11450,-2011 11151,-2011 11151,-1981 11450,-1981 11450,-2011\"/>\n<text text-anchor=\"middle\" x=\"11300.5\" y=\"-1999\" font-family=\"monospace\" font-size=\"10.00\" fill=\"#000000\">MobileNet_convolutional_layer1.20.stage2.0.bias</text>\n<text text-anchor=\"middle\" x=\"11300.5\" y=\"-1988\" font-family=\"monospace\" font-size=\"10.00\" fill=\"#000000\"> (512)</text>\n</g>\n<!-- 140284650048720&#45;&gt;140284650317456 -->\n<g id=\"edge231\" class=\"edge\">\n<title>140284650048720&#45;&gt;140284650317456</title>\n<path fill=\"none\" stroke=\"#000000\" d=\"M11253.954,-1980.941C11218.2061,-1969.3755 11169.4019,-1953.5859 11135.6472,-1942.6653\"/>\n<polygon fill=\"#000000\" stroke=\"#000000\" points=\"11136.71,-1939.3306 11126.1182,-1939.5824 11134.5553,-1945.9907 11136.71,-1939.3306\"/>\n</g>\n<!-- 140284650316816 -->\n<g id=\"node234\" class=\"node\">\n<title>140284650316816</title>\n<polygon fill=\"#d3d3d3\" stroke=\"#000000\" points=\"11371,-1879 11270,-1879 11270,-1860 11371,-1860 11371,-1879\"/>\n<text text-anchor=\"middle\" x=\"11320.5\" y=\"-1867\" font-family=\"monospace\" font-size=\"10.00\" fill=\"#000000\">AccumulateGrad</text>\n</g>\n<!-- 140284650316816&#45;&gt;140284650317008 -->\n<g id=\"edge232\" class=\"edge\">\n<title>140284650316816&#45;&gt;140284650317008</title>\n<path fill=\"none\" stroke=\"#000000\" d=\"M11320.5,-1859.7796C11320.5,-1851.5376 11320.5,-1839.4457 11320.5,-1829.129\"/>\n<polygon fill=\"#000000\" stroke=\"#000000\" points=\"11324.0001,-1828.8972 11320.5,-1818.8972 11317.0001,-1828.8973 11324.0001,-1828.8972\"/>\n</g>\n<!-- 140284650048880 -->\n<g id=\"node235\" class=\"node\">\n<title>140284650048880</title>\n<polygon fill=\"#add8e6\" stroke=\"#000000\" points=\"11476,-1945 11165,-1945 11165,-1915 11476,-1915 11476,-1945\"/>\n<text text-anchor=\"middle\" x=\"11320.5\" y=\"-1933\" font-family=\"monospace\" font-size=\"10.00\" fill=\"#000000\">MobileNet_convolutional_layer1.20.stage2.1.weight</text>\n<text text-anchor=\"middle\" x=\"11320.5\" y=\"-1922\" font-family=\"monospace\" font-size=\"10.00\" fill=\"#000000\"> (512)</text>\n</g>\n<!-- 140284650048880&#45;&gt;140284650316816 -->\n<g id=\"edge233\" class=\"edge\">\n<title>140284650048880&#45;&gt;140284650316816</title>\n<path fill=\"none\" stroke=\"#000000\" d=\"M11320.5,-1914.7333C11320.5,-1907.0322 11320.5,-1897.5977 11320.5,-1889.3414\"/>\n<polygon fill=\"#000000\" stroke=\"#000000\" points=\"11324.0001,-1889.0864 11320.5,-1879.0864 11317.0001,-1889.0864 11324.0001,-1889.0864\"/>\n</g>\n<!-- 140284650317072 -->\n<g id=\"node236\" class=\"node\">\n<title>140284650317072</title>\n<polygon fill=\"#d3d3d3\" stroke=\"#000000\" points=\"11592,-1879 11491,-1879 11491,-1860 11592,-1860 11592,-1879\"/>\n<text text-anchor=\"middle\" x=\"11541.5\" y=\"-1867\" font-family=\"monospace\" font-size=\"10.00\" fill=\"#000000\">AccumulateGrad</text>\n</g>\n<!-- 140284650317072&#45;&gt;140284650317008 -->\n<g id=\"edge234\" class=\"edge\">\n<title>140284650317072&#45;&gt;140284650317008</title>\n<path fill=\"none\" stroke=\"#000000\" d=\"M11506.4819,-1859.9136C11468.2523,-1849.448 11406.9332,-1832.6616 11365.2425,-1821.2485\"/>\n<polygon fill=\"#000000\" stroke=\"#000000\" points=\"11365.9236,-1817.8062 11355.3543,-1818.5416 11364.0752,-1824.5578 11365.9236,-1817.8062\"/>\n</g>\n<!-- 140284650049040 -->\n<g id=\"node237\" class=\"node\">\n<title>140284650049040</title>\n<polygon fill=\"#add8e6\" stroke=\"#000000\" points=\"11793,-1945 11494,-1945 11494,-1915 11793,-1915 11793,-1945\"/>\n<text text-anchor=\"middle\" x=\"11643.5\" y=\"-1933\" font-family=\"monospace\" font-size=\"10.00\" fill=\"#000000\">MobileNet_convolutional_layer1.20.stage2.1.bias</text>\n<text text-anchor=\"middle\" x=\"11643.5\" y=\"-1922\" font-family=\"monospace\" font-size=\"10.00\" fill=\"#000000\"> (512)</text>\n</g>\n<!-- 140284650049040&#45;&gt;140284650317072 -->\n<g id=\"edge235\" class=\"edge\">\n<title>140284650049040&#45;&gt;140284650317072</title>\n<path fill=\"none\" stroke=\"#000000\" d=\"M11618.0242,-1914.8894C11602.2398,-1905.527 11582.0604,-1893.5579 11566.387,-1884.2614\"/>\n<polygon fill=\"#000000\" stroke=\"#000000\" points=\"11568.1332,-1881.2278 11557.7468,-1879.1366 11564.5621,-1887.2484 11568.1332,-1881.2278\"/>\n</g>\n<!-- 140284650316944 -->\n<g id=\"node238\" class=\"node\">\n<title>140284650316944</title>\n<polygon fill=\"#d3d3d3\" stroke=\"#000000\" points=\"11661,-1752.5 11560,-1752.5 11560,-1733.5 11661,-1733.5 11661,-1752.5\"/>\n<text text-anchor=\"middle\" x=\"11610.5\" y=\"-1740.5\" font-family=\"monospace\" font-size=\"10.00\" fill=\"#000000\">AccumulateGrad</text>\n</g>\n<!-- 140284650316944&#45;&gt;140284650316496 -->\n<g id=\"edge236\" class=\"edge\">\n<title>140284650316944&#45;&gt;140284650316496</title>\n<path fill=\"none\" stroke=\"#000000\" d=\"M11620.14,-1733.2796C11629.0965,-1724.2485 11642.6372,-1710.595 11653.4228,-1699.7195\"/>\n<polygon fill=\"#000000\" stroke=\"#000000\" points=\"11656.128,-1701.9622 11660.6846,-1692.3972 11651.1577,-1697.033 11656.128,-1701.9622\"/>\n</g>\n<!-- 140284650119408 -->\n<g id=\"node239\" class=\"node\">\n<title>140284650119408</title>\n<polygon fill=\"#add8e6\" stroke=\"#000000\" points=\"11805,-1824 11416,-1824 11416,-1794 11805,-1794 11805,-1824\"/>\n<text text-anchor=\"middle\" x=\"11610.5\" y=\"-1812\" font-family=\"monospace\" font-size=\"10.00\" fill=\"#000000\">MobileNet_convolutional_layer1.21.stage1.0.deep_network.weight</text>\n<text text-anchor=\"middle\" x=\"11610.5\" y=\"-1801\" font-family=\"monospace\" font-size=\"10.00\" fill=\"#000000\"> (512, 1, 3, 3)</text>\n</g>\n<!-- 140284650119408&#45;&gt;140284650316944 -->\n<g id=\"edge237\" class=\"edge\">\n<title>140284650119408&#45;&gt;140284650316944</title>\n<path fill=\"none\" stroke=\"#000000\" d=\"M11610.5,-1793.6924C11610.5,-1784.5067 11610.5,-1772.7245 11610.5,-1762.8312\"/>\n<polygon fill=\"#000000\" stroke=\"#000000\" points=\"11614.0001,-1762.703 11610.5,-1752.7031 11607.0001,-1762.7031 11614.0001,-1762.703\"/>\n</g>\n<!-- 140284650316880 -->\n<g id=\"node240\" class=\"node\">\n<title>140284650316880</title>\n<polygon fill=\"#d3d3d3\" stroke=\"#000000\" points=\"11780,-1752.5 11679,-1752.5 11679,-1733.5 11780,-1733.5 11780,-1752.5\"/>\n<text text-anchor=\"middle\" x=\"11729.5\" y=\"-1740.5\" font-family=\"monospace\" font-size=\"10.00\" fill=\"#000000\">AccumulateGrad</text>\n</g>\n<!-- 140284650316880&#45;&gt;140284650316496 -->\n<g id=\"edge238\" class=\"edge\">\n<title>140284650316880&#45;&gt;140284650316496</title>\n<path fill=\"none\" stroke=\"#000000\" d=\"M11720.0206,-1733.2796C11711.2134,-1724.2485 11697.8984,-1710.595 11687.2926,-1699.7195\"/>\n<polygon fill=\"#000000\" stroke=\"#000000\" points=\"11689.6394,-1697.1129 11680.1519,-1692.3972 11684.6279,-1702.0002 11689.6394,-1697.1129\"/>\n</g>\n<!-- 140284650119488 -->\n<g id=\"node241\" class=\"node\">\n<title>140284650119488</title>\n<polygon fill=\"#add8e6\" stroke=\"#000000\" points=\"12200,-1824 11823,-1824 11823,-1794 12200,-1794 12200,-1824\"/>\n<text text-anchor=\"middle\" x=\"12011.5\" y=\"-1812\" font-family=\"monospace\" font-size=\"10.00\" fill=\"#000000\">MobileNet_convolutional_layer1.21.stage1.0.deep_network.bias</text>\n<text text-anchor=\"middle\" x=\"12011.5\" y=\"-1801\" font-family=\"monospace\" font-size=\"10.00\" fill=\"#000000\"> (512)</text>\n</g>\n<!-- 140284650119488&#45;&gt;140284650316880 -->\n<g id=\"edge239\" class=\"edge\">\n<title>140284650119488&#45;&gt;140284650316880</title>\n<path fill=\"none\" stroke=\"#000000\" d=\"M11943.5745,-1793.9122C11899.3437,-1783.9774 11840.4246,-1770.5362 11788.5,-1758 11784.6233,-1757.064 11780.6075,-1756.0781 11776.578,-1755.0772\"/>\n<polygon fill=\"#000000\" stroke=\"#000000\" points=\"11777.1552,-1751.6138 11766.6044,-1752.5787 11775.4541,-1758.4039 11777.1552,-1751.6138\"/>\n</g>\n<!-- 140284650316176 -->\n<g id=\"node242\" class=\"node\">\n<title>140284650316176</title>\n<polygon fill=\"#d3d3d3\" stroke=\"#000000\" points=\"12004,-1692 11903,-1692 11903,-1673 12004,-1673 12004,-1692\"/>\n<text text-anchor=\"middle\" x=\"11953.5\" y=\"-1680\" font-family=\"monospace\" font-size=\"10.00\" fill=\"#000000\">AccumulateGrad</text>\n</g>\n<!-- 140284650316176&#45;&gt;140284650316304 -->\n<g id=\"edge240\" class=\"edge\">\n<title>140284650316176&#45;&gt;140284650316304</title>\n<path fill=\"none\" stroke=\"#000000\" d=\"M11953.5,-1672.7796C11953.5,-1664.5376 11953.5,-1652.4457 11953.5,-1642.129\"/>\n<polygon fill=\"#000000\" stroke=\"#000000\" points=\"11957.0001,-1641.8972 11953.5,-1631.8972 11950.0001,-1641.8973 11957.0001,-1641.8972\"/>\n</g>\n<!-- 140284650119648 -->\n<g id=\"node243\" class=\"node\">\n<title>140284650119648</title>\n<polygon fill=\"#add8e6\" stroke=\"#000000\" points=\"12109,-1758 11798,-1758 11798,-1728 12109,-1728 12109,-1758\"/>\n<text text-anchor=\"middle\" x=\"11953.5\" y=\"-1746\" font-family=\"monospace\" font-size=\"10.00\" fill=\"#000000\">MobileNet_convolutional_layer1.21.stage1.1.weight</text>\n<text text-anchor=\"middle\" x=\"11953.5\" y=\"-1735\" font-family=\"monospace\" font-size=\"10.00\" fill=\"#000000\"> (512)</text>\n</g>\n<!-- 140284650119648&#45;&gt;140284650316176 -->\n<g id=\"edge241\" class=\"edge\">\n<title>140284650119648&#45;&gt;140284650316176</title>\n<path fill=\"none\" stroke=\"#000000\" d=\"M11953.5,-1727.7333C11953.5,-1720.0322 11953.5,-1710.5977 11953.5,-1702.3414\"/>\n<polygon fill=\"#000000\" stroke=\"#000000\" points=\"11957.0001,-1702.0864 11953.5,-1692.0864 11950.0001,-1702.0864 11957.0001,-1702.0864\"/>\n</g>\n<!-- 140284650316368 -->\n<g id=\"node244\" class=\"node\">\n<title>140284650316368</title>\n<polygon fill=\"#d3d3d3\" stroke=\"#000000\" points=\"12225,-1692 12124,-1692 12124,-1673 12225,-1673 12225,-1692\"/>\n<text text-anchor=\"middle\" x=\"12174.5\" y=\"-1680\" font-family=\"monospace\" font-size=\"10.00\" fill=\"#000000\">AccumulateGrad</text>\n</g>\n<!-- 140284650316368&#45;&gt;140284650316304 -->\n<g id=\"edge242\" class=\"edge\">\n<title>140284650316368&#45;&gt;140284650316304</title>\n<path fill=\"none\" stroke=\"#000000\" d=\"M12139.4819,-1672.9136C12101.2523,-1662.448 12039.9332,-1645.6616 11998.2425,-1634.2485\"/>\n<polygon fill=\"#000000\" stroke=\"#000000\" points=\"11998.9236,-1630.8062 11988.3543,-1631.5416 11997.0752,-1637.5578 11998.9236,-1630.8062\"/>\n</g>\n<!-- 140284650119808 -->\n<g id=\"node245\" class=\"node\">\n<title>140284650119808</title>\n<polygon fill=\"#add8e6\" stroke=\"#000000\" points=\"12426,-1758 12127,-1758 12127,-1728 12426,-1728 12426,-1758\"/>\n<text text-anchor=\"middle\" x=\"12276.5\" y=\"-1746\" font-family=\"monospace\" font-size=\"10.00\" fill=\"#000000\">MobileNet_convolutional_layer1.21.stage1.1.bias</text>\n<text text-anchor=\"middle\" x=\"12276.5\" y=\"-1735\" font-family=\"monospace\" font-size=\"10.00\" fill=\"#000000\"> (512)</text>\n</g>\n<!-- 140284650119808&#45;&gt;140284650316368 -->\n<g id=\"edge243\" class=\"edge\">\n<title>140284650119808&#45;&gt;140284650316368</title>\n<path fill=\"none\" stroke=\"#000000\" d=\"M12251.0242,-1727.8894C12235.2398,-1718.527 12215.0604,-1706.5579 12199.387,-1697.2614\"/>\n<polygon fill=\"#000000\" stroke=\"#000000\" points=\"12201.1332,-1694.2278 12190.7468,-1692.1366 12197.5621,-1700.2484 12201.1332,-1694.2278\"/>\n</g>\n<!-- 140284650316240 -->\n<g id=\"node246\" class=\"node\">\n<title>140284650316240</title>\n<polygon fill=\"#d3d3d3\" stroke=\"#000000\" points=\"12255,-1565.5 12154,-1565.5 12154,-1546.5 12255,-1546.5 12255,-1565.5\"/>\n<text text-anchor=\"middle\" x=\"12204.5\" y=\"-1553.5\" font-family=\"monospace\" font-size=\"10.00\" fill=\"#000000\">AccumulateGrad</text>\n</g>\n<!-- 140284650316240&#45;&gt;140284692799248 -->\n<g id=\"edge244\" class=\"edge\">\n<title>140284650316240&#45;&gt;140284692799248</title>\n<path fill=\"none\" stroke=\"#000000\" d=\"M12214.14,-1546.2796C12223.0965,-1537.2485 12236.6372,-1523.595 12247.4228,-1512.7195\"/>\n<polygon fill=\"#000000\" stroke=\"#000000\" points=\"12250.128,-1514.9622 12254.6846,-1505.3972 12245.1577,-1510.033 12250.128,-1514.9622\"/>\n</g>\n<!-- 140284650120368 -->\n<g id=\"node247\" class=\"node\">\n<title>140284650120368</title>\n<polygon fill=\"#add8e6\" stroke=\"#000000\" points=\"12360,-1637 12049,-1637 12049,-1607 12360,-1607 12360,-1637\"/>\n<text text-anchor=\"middle\" x=\"12204.5\" y=\"-1625\" font-family=\"monospace\" font-size=\"10.00\" fill=\"#000000\">MobileNet_convolutional_layer1.22.stage2.0.weight</text>\n<text text-anchor=\"middle\" x=\"12204.5\" y=\"-1614\" font-family=\"monospace\" font-size=\"10.00\" fill=\"#000000\"> (512, 512, 3, 3)</text>\n</g>\n<!-- 140284650120368&#45;&gt;140284650316240 -->\n<g id=\"edge245\" class=\"edge\">\n<title>140284650120368&#45;&gt;140284650316240</title>\n<path fill=\"none\" stroke=\"#000000\" d=\"M12204.5,-1606.6924C12204.5,-1597.5067 12204.5,-1585.7245 12204.5,-1575.8312\"/>\n<polygon fill=\"#000000\" stroke=\"#000000\" points=\"12208.0001,-1575.703 12204.5,-1565.7031 12201.0001,-1575.7031 12208.0001,-1575.703\"/>\n</g>\n<!-- 140284650316048 -->\n<g id=\"node248\" class=\"node\">\n<title>140284650316048</title>\n<polygon fill=\"#d3d3d3\" stroke=\"#000000\" points=\"12374,-1565.5 12273,-1565.5 12273,-1546.5 12374,-1546.5 12374,-1565.5\"/>\n<text text-anchor=\"middle\" x=\"12323.5\" y=\"-1553.5\" font-family=\"monospace\" font-size=\"10.00\" fill=\"#000000\">AccumulateGrad</text>\n</g>\n<!-- 140284650316048&#45;&gt;140284692799248 -->\n<g id=\"edge246\" class=\"edge\">\n<title>140284650316048&#45;&gt;140284692799248</title>\n<path fill=\"none\" stroke=\"#000000\" d=\"M12314.0206,-1546.2796C12305.2134,-1537.2485 12291.8984,-1523.595 12281.2926,-1512.7195\"/>\n<polygon fill=\"#000000\" stroke=\"#000000\" points=\"12283.6394,-1510.1129 12274.1519,-1505.3972 12278.6279,-1515.0002 12283.6394,-1510.1129\"/>\n</g>\n<!-- 140284650120448 -->\n<g id=\"node249\" class=\"node\">\n<title>140284650120448</title>\n<polygon fill=\"#add8e6\" stroke=\"#000000\" points=\"12677,-1637 12378,-1637 12378,-1607 12677,-1607 12677,-1637\"/>\n<text text-anchor=\"middle\" x=\"12527.5\" y=\"-1625\" font-family=\"monospace\" font-size=\"10.00\" fill=\"#000000\">MobileNet_convolutional_layer1.22.stage2.0.bias</text>\n<text text-anchor=\"middle\" x=\"12527.5\" y=\"-1614\" font-family=\"monospace\" font-size=\"10.00\" fill=\"#000000\"> (512)</text>\n</g>\n<!-- 140284650120448&#45;&gt;140284650316048 -->\n<g id=\"edge247\" class=\"edge\">\n<title>140284650120448&#45;&gt;140284650316048</title>\n<path fill=\"none\" stroke=\"#000000\" d=\"M12480.954,-1606.941C12445.2061,-1595.3755 12396.4019,-1579.5859 12362.6472,-1568.6653\"/>\n<polygon fill=\"#000000\" stroke=\"#000000\" points=\"12363.71,-1565.3306 12353.1182,-1565.5824 12361.5553,-1571.9907 12363.71,-1565.3306\"/>\n</g>\n<!-- 140284692797136 -->\n<g id=\"node250\" class=\"node\">\n<title>140284692797136</title>\n<polygon fill=\"#d3d3d3\" stroke=\"#000000\" points=\"12598,-1505 12497,-1505 12497,-1486 12598,-1486 12598,-1505\"/>\n<text text-anchor=\"middle\" x=\"12547.5\" y=\"-1493\" font-family=\"monospace\" font-size=\"10.00\" fill=\"#000000\">AccumulateGrad</text>\n</g>\n<!-- 140284692797136&#45;&gt;140284650569552 -->\n<g id=\"edge248\" class=\"edge\">\n<title>140284692797136&#45;&gt;140284650569552</title>\n<path fill=\"none\" stroke=\"#000000\" d=\"M12547.5,-1485.7796C12547.5,-1477.5376 12547.5,-1465.4457 12547.5,-1455.129\"/>\n<polygon fill=\"#000000\" stroke=\"#000000\" points=\"12551.0001,-1454.8972 12547.5,-1444.8972 12544.0001,-1454.8973 12551.0001,-1454.8972\"/>\n</g>\n<!-- 140284650120688 -->\n<g id=\"node251\" class=\"node\">\n<title>140284650120688</title>\n<polygon fill=\"#add8e6\" stroke=\"#000000\" points=\"12703,-1571 12392,-1571 12392,-1541 12703,-1541 12703,-1571\"/>\n<text text-anchor=\"middle\" x=\"12547.5\" y=\"-1559\" font-family=\"monospace\" font-size=\"10.00\" fill=\"#000000\">MobileNet_convolutional_layer1.22.stage2.1.weight</text>\n<text text-anchor=\"middle\" x=\"12547.5\" y=\"-1548\" font-family=\"monospace\" font-size=\"10.00\" fill=\"#000000\"> (512)</text>\n</g>\n<!-- 140284650120688&#45;&gt;140284692797136 -->\n<g id=\"edge249\" class=\"edge\">\n<title>140284650120688&#45;&gt;140284692797136</title>\n<path fill=\"none\" stroke=\"#000000\" d=\"M12547.5,-1540.7333C12547.5,-1533.0322 12547.5,-1523.5977 12547.5,-1515.3414\"/>\n<polygon fill=\"#000000\" stroke=\"#000000\" points=\"12551.0001,-1515.0864 12547.5,-1505.0864 12544.0001,-1515.0864 12551.0001,-1515.0864\"/>\n</g>\n<!-- 140284692797712 -->\n<g id=\"node252\" class=\"node\">\n<title>140284692797712</title>\n<polygon fill=\"#d3d3d3\" stroke=\"#000000\" points=\"12819,-1505 12718,-1505 12718,-1486 12819,-1486 12819,-1505\"/>\n<text text-anchor=\"middle\" x=\"12768.5\" y=\"-1493\" font-family=\"monospace\" font-size=\"10.00\" fill=\"#000000\">AccumulateGrad</text>\n</g>\n<!-- 140284692797712&#45;&gt;140284650569552 -->\n<g id=\"edge250\" class=\"edge\">\n<title>140284692797712&#45;&gt;140284650569552</title>\n<path fill=\"none\" stroke=\"#000000\" d=\"M12733.4819,-1485.9136C12695.2523,-1475.448 12633.9332,-1458.6616 12592.2425,-1447.2485\"/>\n<polygon fill=\"#000000\" stroke=\"#000000\" points=\"12592.9236,-1443.8062 12582.3543,-1444.5416 12591.0752,-1450.5578 12592.9236,-1443.8062\"/>\n</g>\n<!-- 140284650120768 -->\n<g id=\"node253\" class=\"node\">\n<title>140284650120768</title>\n<polygon fill=\"#add8e6\" stroke=\"#000000\" points=\"13020,-1571 12721,-1571 12721,-1541 13020,-1541 13020,-1571\"/>\n<text text-anchor=\"middle\" x=\"12870.5\" y=\"-1559\" font-family=\"monospace\" font-size=\"10.00\" fill=\"#000000\">MobileNet_convolutional_layer1.22.stage2.1.bias</text>\n<text text-anchor=\"middle\" x=\"12870.5\" y=\"-1548\" font-family=\"monospace\" font-size=\"10.00\" fill=\"#000000\"> (512)</text>\n</g>\n<!-- 140284650120768&#45;&gt;140284692797712 -->\n<g id=\"edge251\" class=\"edge\">\n<title>140284650120768&#45;&gt;140284692797712</title>\n<path fill=\"none\" stroke=\"#000000\" d=\"M12845.0242,-1540.8894C12829.2398,-1531.527 12809.0604,-1519.5579 12793.387,-1510.2614\"/>\n<polygon fill=\"#000000\" stroke=\"#000000\" points=\"12795.1332,-1507.2278 12784.7468,-1505.1366 12791.5621,-1513.2484 12795.1332,-1507.2278\"/>\n</g>\n<!-- 140284650238352 -->\n<g id=\"node254\" class=\"node\">\n<title>140284650238352</title>\n<polygon fill=\"#d3d3d3\" stroke=\"#000000\" points=\"12888,-1378.5 12787,-1378.5 12787,-1359.5 12888,-1359.5 12888,-1378.5\"/>\n<text text-anchor=\"middle\" x=\"12837.5\" y=\"-1366.5\" font-family=\"monospace\" font-size=\"10.00\" fill=\"#000000\">AccumulateGrad</text>\n</g>\n<!-- 140284650238352&#45;&gt;140284650238288 -->\n<g id=\"edge252\" class=\"edge\">\n<title>140284650238352&#45;&gt;140284650238288</title>\n<path fill=\"none\" stroke=\"#000000\" d=\"M12847.14,-1359.2796C12856.0965,-1350.2485 12869.6372,-1336.595 12880.4228,-1325.7195\"/>\n<polygon fill=\"#000000\" stroke=\"#000000\" points=\"12883.128,-1327.9622 12887.6846,-1318.3972 12878.1577,-1323.033 12883.128,-1327.9622\"/>\n</g>\n<!-- 140284650121408 -->\n<g id=\"node255\" class=\"node\">\n<title>140284650121408</title>\n<polygon fill=\"#add8e6\" stroke=\"#000000\" points=\"13032,-1450 12643,-1450 12643,-1420 13032,-1420 13032,-1450\"/>\n<text text-anchor=\"middle\" x=\"12837.5\" y=\"-1438\" font-family=\"monospace\" font-size=\"10.00\" fill=\"#000000\">MobileNet_convolutional_layer1.23.stage1.0.deep_network.weight</text>\n<text text-anchor=\"middle\" x=\"12837.5\" y=\"-1427\" font-family=\"monospace\" font-size=\"10.00\" fill=\"#000000\"> (512, 1, 3, 3)</text>\n</g>\n<!-- 140284650121408&#45;&gt;140284650238352 -->\n<g id=\"edge253\" class=\"edge\">\n<title>140284650121408&#45;&gt;140284650238352</title>\n<path fill=\"none\" stroke=\"#000000\" d=\"M12837.5,-1419.6924C12837.5,-1410.5067 12837.5,-1398.7245 12837.5,-1388.8312\"/>\n<polygon fill=\"#000000\" stroke=\"#000000\" points=\"12841.0001,-1388.703 12837.5,-1378.7031 12834.0001,-1388.7031 12841.0001,-1388.703\"/>\n</g>\n<!-- 140284650238416 -->\n<g id=\"node256\" class=\"node\">\n<title>140284650238416</title>\n<polygon fill=\"#d3d3d3\" stroke=\"#000000\" points=\"13007,-1378.5 12906,-1378.5 12906,-1359.5 13007,-1359.5 13007,-1378.5\"/>\n<text text-anchor=\"middle\" x=\"12956.5\" y=\"-1366.5\" font-family=\"monospace\" font-size=\"10.00\" fill=\"#000000\">AccumulateGrad</text>\n</g>\n<!-- 140284650238416&#45;&gt;140284650238288 -->\n<g id=\"edge254\" class=\"edge\">\n<title>140284650238416&#45;&gt;140284650238288</title>\n<path fill=\"none\" stroke=\"#000000\" d=\"M12947.0206,-1359.2796C12938.2134,-1350.2485 12924.8984,-1336.595 12914.2926,-1325.7195\"/>\n<polygon fill=\"#000000\" stroke=\"#000000\" points=\"12916.6394,-1323.1129 12907.1519,-1318.3972 12911.6279,-1328.0002 12916.6394,-1323.1129\"/>\n</g>\n<!-- 140284650121488 -->\n<g id=\"node257\" class=\"node\">\n<title>140284650121488</title>\n<polygon fill=\"#add8e6\" stroke=\"#000000\" points=\"13427,-1450 13050,-1450 13050,-1420 13427,-1420 13427,-1450\"/>\n<text text-anchor=\"middle\" x=\"13238.5\" y=\"-1438\" font-family=\"monospace\" font-size=\"10.00\" fill=\"#000000\">MobileNet_convolutional_layer1.23.stage1.0.deep_network.bias</text>\n<text text-anchor=\"middle\" x=\"13238.5\" y=\"-1427\" font-family=\"monospace\" font-size=\"10.00\" fill=\"#000000\"> (512)</text>\n</g>\n<!-- 140284650121488&#45;&gt;140284650238416 -->\n<g id=\"edge255\" class=\"edge\">\n<title>140284650121488&#45;&gt;140284650238416</title>\n<path fill=\"none\" stroke=\"#000000\" d=\"M13170.5745,-1419.9122C13126.3437,-1409.9774 13067.4246,-1396.5362 13015.5,-1384 13011.6233,-1383.064 13007.6075,-1382.0781 13003.578,-1381.0772\"/>\n<polygon fill=\"#000000\" stroke=\"#000000\" points=\"13004.1552,-1377.6138 12993.6044,-1378.5787 13002.4541,-1384.4039 13004.1552,-1377.6138\"/>\n</g>\n<!-- 140284650238544 -->\n<g id=\"node258\" class=\"node\">\n<title>140284650238544</title>\n<polygon fill=\"#d3d3d3\" stroke=\"#000000\" points=\"13231,-1318 13130,-1318 13130,-1299 13231,-1299 13231,-1318\"/>\n<text text-anchor=\"middle\" x=\"13180.5\" y=\"-1306\" font-family=\"monospace\" font-size=\"10.00\" fill=\"#000000\">AccumulateGrad</text>\n</g>\n<!-- 140284650238544&#45;&gt;140284649752400 -->\n<g id=\"edge256\" class=\"edge\">\n<title>140284650238544&#45;&gt;140284649752400</title>\n<path fill=\"none\" stroke=\"#000000\" d=\"M13180.5,-1298.7796C13180.5,-1290.5376 13180.5,-1278.4457 13180.5,-1268.129\"/>\n<polygon fill=\"#000000\" stroke=\"#000000\" points=\"13184.0001,-1267.8972 13180.5,-1257.8972 13177.0001,-1267.8973 13184.0001,-1267.8972\"/>\n</g>\n<!-- 140284650121648 -->\n<g id=\"node259\" class=\"node\">\n<title>140284650121648</title>\n<polygon fill=\"#add8e6\" stroke=\"#000000\" points=\"13336,-1384 13025,-1384 13025,-1354 13336,-1354 13336,-1384\"/>\n<text text-anchor=\"middle\" x=\"13180.5\" y=\"-1372\" font-family=\"monospace\" font-size=\"10.00\" fill=\"#000000\">MobileNet_convolutional_layer1.23.stage1.1.weight</text>\n<text text-anchor=\"middle\" x=\"13180.5\" y=\"-1361\" font-family=\"monospace\" font-size=\"10.00\" fill=\"#000000\"> (512)</text>\n</g>\n<!-- 140284650121648&#45;&gt;140284650238544 -->\n<g id=\"edge257\" class=\"edge\">\n<title>140284650121648&#45;&gt;140284650238544</title>\n<path fill=\"none\" stroke=\"#000000\" d=\"M13180.5,-1353.7333C13180.5,-1346.0322 13180.5,-1336.5977 13180.5,-1328.3414\"/>\n<polygon fill=\"#000000\" stroke=\"#000000\" points=\"13184.0001,-1328.0864 13180.5,-1318.0864 13177.0001,-1328.0864 13184.0001,-1328.0864\"/>\n</g>\n<!-- 140284650238160 -->\n<g id=\"node260\" class=\"node\">\n<title>140284650238160</title>\n<polygon fill=\"#d3d3d3\" stroke=\"#000000\" points=\"13452,-1318 13351,-1318 13351,-1299 13452,-1299 13452,-1318\"/>\n<text text-anchor=\"middle\" x=\"13401.5\" y=\"-1306\" font-family=\"monospace\" font-size=\"10.00\" fill=\"#000000\">AccumulateGrad</text>\n</g>\n<!-- 140284650238160&#45;&gt;140284649752400 -->\n<g id=\"edge258\" class=\"edge\">\n<title>140284650238160&#45;&gt;140284649752400</title>\n<path fill=\"none\" stroke=\"#000000\" d=\"M13366.4819,-1298.9136C13328.2523,-1288.448 13266.9332,-1271.6616 13225.2425,-1260.2485\"/>\n<polygon fill=\"#000000\" stroke=\"#000000\" points=\"13225.9236,-1256.8062 13215.3543,-1257.5416 13224.0752,-1263.5578 13225.9236,-1256.8062\"/>\n</g>\n<!-- 140284650121808 -->\n<g id=\"node261\" class=\"node\">\n<title>140284650121808</title>\n<polygon fill=\"#add8e6\" stroke=\"#000000\" points=\"13653,-1384 13354,-1384 13354,-1354 13653,-1354 13653,-1384\"/>\n<text text-anchor=\"middle\" x=\"13503.5\" y=\"-1372\" font-family=\"monospace\" font-size=\"10.00\" fill=\"#000000\">MobileNet_convolutional_layer1.23.stage1.1.bias</text>\n<text text-anchor=\"middle\" x=\"13503.5\" y=\"-1361\" font-family=\"monospace\" font-size=\"10.00\" fill=\"#000000\"> (512)</text>\n</g>\n<!-- 140284650121808&#45;&gt;140284650238160 -->\n<g id=\"edge259\" class=\"edge\">\n<title>140284650121808&#45;&gt;140284650238160</title>\n<path fill=\"none\" stroke=\"#000000\" d=\"M13478.0242,-1353.8894C13462.2398,-1344.527 13442.0604,-1332.5579 13426.387,-1323.2614\"/>\n<polygon fill=\"#000000\" stroke=\"#000000\" points=\"13428.1332,-1320.2278 13417.7468,-1318.1366 13424.5621,-1326.2484 13428.1332,-1320.2278\"/>\n</g>\n<!-- 140284649754448 -->\n<g id=\"node262\" class=\"node\">\n<title>140284649754448</title>\n<polygon fill=\"#d3d3d3\" stroke=\"#000000\" points=\"13482,-1191.5 13381,-1191.5 13381,-1172.5 13482,-1172.5 13482,-1191.5\"/>\n<text text-anchor=\"middle\" x=\"13431.5\" y=\"-1179.5\" font-family=\"monospace\" font-size=\"10.00\" fill=\"#000000\">AccumulateGrad</text>\n</g>\n<!-- 140284649754448&#45;&gt;140284649754192 -->\n<g id=\"edge260\" class=\"edge\">\n<title>140284649754448&#45;&gt;140284649754192</title>\n<path fill=\"none\" stroke=\"#000000\" d=\"M13441.14,-1172.2796C13450.0965,-1163.2485 13463.6372,-1149.595 13474.4228,-1138.7195\"/>\n<polygon fill=\"#000000\" stroke=\"#000000\" points=\"13477.128,-1140.9622 13481.6846,-1131.3972 13472.1577,-1136.033 13477.128,-1140.9622\"/>\n</g>\n<!-- 140284650122368 -->\n<g id=\"node263\" class=\"node\">\n<title>140284650122368</title>\n<polygon fill=\"#add8e6\" stroke=\"#000000\" points=\"13587,-1263 13276,-1263 13276,-1233 13587,-1233 13587,-1263\"/>\n<text text-anchor=\"middle\" x=\"13431.5\" y=\"-1251\" font-family=\"monospace\" font-size=\"10.00\" fill=\"#000000\">MobileNet_convolutional_layer1.24.stage2.0.weight</text>\n<text text-anchor=\"middle\" x=\"13431.5\" y=\"-1240\" font-family=\"monospace\" font-size=\"10.00\" fill=\"#000000\"> (512, 512, 3, 3)</text>\n</g>\n<!-- 140284650122368&#45;&gt;140284649754448 -->\n<g id=\"edge261\" class=\"edge\">\n<title>140284650122368&#45;&gt;140284649754448</title>\n<path fill=\"none\" stroke=\"#000000\" d=\"M13431.5,-1232.6924C13431.5,-1223.5067 13431.5,-1211.7245 13431.5,-1201.8312\"/>\n<polygon fill=\"#000000\" stroke=\"#000000\" points=\"13435.0001,-1201.703 13431.5,-1191.7031 13428.0001,-1201.7031 13435.0001,-1201.703\"/>\n</g>\n<!-- 140284649754576 -->\n<g id=\"node264\" class=\"node\">\n<title>140284649754576</title>\n<polygon fill=\"#d3d3d3\" stroke=\"#000000\" points=\"13601,-1191.5 13500,-1191.5 13500,-1172.5 13601,-1172.5 13601,-1191.5\"/>\n<text text-anchor=\"middle\" x=\"13550.5\" y=\"-1179.5\" font-family=\"monospace\" font-size=\"10.00\" fill=\"#000000\">AccumulateGrad</text>\n</g>\n<!-- 140284649754576&#45;&gt;140284649754192 -->\n<g id=\"edge262\" class=\"edge\">\n<title>140284649754576&#45;&gt;140284649754192</title>\n<path fill=\"none\" stroke=\"#000000\" d=\"M13541.0206,-1172.2796C13532.2134,-1163.2485 13518.8984,-1149.595 13508.2926,-1138.7195\"/>\n<polygon fill=\"#000000\" stroke=\"#000000\" points=\"13510.6394,-1136.1129 13501.1519,-1131.3972 13505.6279,-1141.0002 13510.6394,-1136.1129\"/>\n</g>\n<!-- 140284650122448 -->\n<g id=\"node265\" class=\"node\">\n<title>140284650122448</title>\n<polygon fill=\"#add8e6\" stroke=\"#000000\" points=\"13904,-1263 13605,-1263 13605,-1233 13904,-1233 13904,-1263\"/>\n<text text-anchor=\"middle\" x=\"13754.5\" y=\"-1251\" font-family=\"monospace\" font-size=\"10.00\" fill=\"#000000\">MobileNet_convolutional_layer1.24.stage2.0.bias</text>\n<text text-anchor=\"middle\" x=\"13754.5\" y=\"-1240\" font-family=\"monospace\" font-size=\"10.00\" fill=\"#000000\"> (512)</text>\n</g>\n<!-- 140284650122448&#45;&gt;140284649754576 -->\n<g id=\"edge263\" class=\"edge\">\n<title>140284650122448&#45;&gt;140284649754576</title>\n<path fill=\"none\" stroke=\"#000000\" d=\"M13707.954,-1232.941C13672.2061,-1221.3755 13623.4019,-1205.5859 13589.6472,-1194.6653\"/>\n<polygon fill=\"#000000\" stroke=\"#000000\" points=\"13590.71,-1191.3306 13580.1182,-1191.5824 13588.5553,-1197.9907 13590.71,-1191.3306\"/>\n</g>\n<!-- 140284649754320 -->\n<g id=\"node266\" class=\"node\">\n<title>140284649754320</title>\n<polygon fill=\"#d3d3d3\" stroke=\"#000000\" points=\"13825,-1131 13724,-1131 13724,-1112 13825,-1112 13825,-1131\"/>\n<text text-anchor=\"middle\" x=\"13774.5\" y=\"-1119\" font-family=\"monospace\" font-size=\"10.00\" fill=\"#000000\">AccumulateGrad</text>\n</g>\n<!-- 140284649754320&#45;&gt;140284649754000 -->\n<g id=\"edge264\" class=\"edge\">\n<title>140284649754320&#45;&gt;140284649754000</title>\n<path fill=\"none\" stroke=\"#000000\" d=\"M13774.5,-1111.7796C13774.5,-1103.5376 13774.5,-1091.4457 13774.5,-1081.129\"/>\n<polygon fill=\"#000000\" stroke=\"#000000\" points=\"13778.0001,-1080.8972 13774.5,-1070.8972 13771.0001,-1080.8973 13778.0001,-1080.8972\"/>\n</g>\n<!-- 140284650122608 -->\n<g id=\"node267\" class=\"node\">\n<title>140284650122608</title>\n<polygon fill=\"#add8e6\" stroke=\"#000000\" points=\"13930,-1197 13619,-1197 13619,-1167 13930,-1167 13930,-1197\"/>\n<text text-anchor=\"middle\" x=\"13774.5\" y=\"-1185\" font-family=\"monospace\" font-size=\"10.00\" fill=\"#000000\">MobileNet_convolutional_layer1.24.stage2.1.weight</text>\n<text text-anchor=\"middle\" x=\"13774.5\" y=\"-1174\" font-family=\"monospace\" font-size=\"10.00\" fill=\"#000000\"> (512)</text>\n</g>\n<!-- 140284650122608&#45;&gt;140284649754320 -->\n<g id=\"edge265\" class=\"edge\">\n<title>140284650122608&#45;&gt;140284649754320</title>\n<path fill=\"none\" stroke=\"#000000\" d=\"M13774.5,-1166.7333C13774.5,-1159.0322 13774.5,-1149.5977 13774.5,-1141.3414\"/>\n<polygon fill=\"#000000\" stroke=\"#000000\" points=\"13778.0001,-1141.0864 13774.5,-1131.0864 13771.0001,-1141.0864 13778.0001,-1141.0864\"/>\n</g>\n<!-- 140284649754064 -->\n<g id=\"node268\" class=\"node\">\n<title>140284649754064</title>\n<polygon fill=\"#d3d3d3\" stroke=\"#000000\" points=\"14046,-1131 13945,-1131 13945,-1112 14046,-1112 14046,-1131\"/>\n<text text-anchor=\"middle\" x=\"13995.5\" y=\"-1119\" font-family=\"monospace\" font-size=\"10.00\" fill=\"#000000\">AccumulateGrad</text>\n</g>\n<!-- 140284649754064&#45;&gt;140284649754000 -->\n<g id=\"edge266\" class=\"edge\">\n<title>140284649754064&#45;&gt;140284649754000</title>\n<path fill=\"none\" stroke=\"#000000\" d=\"M13960.4819,-1111.9136C13922.2523,-1101.448 13860.9332,-1084.6616 13819.2425,-1073.2485\"/>\n<polygon fill=\"#000000\" stroke=\"#000000\" points=\"13819.9236,-1069.8062 13809.3543,-1070.5416 13818.0752,-1076.5578 13819.9236,-1069.8062\"/>\n</g>\n<!-- 140284650122768 -->\n<g id=\"node269\" class=\"node\">\n<title>140284650122768</title>\n<polygon fill=\"#add8e6\" stroke=\"#000000\" points=\"14247,-1197 13948,-1197 13948,-1167 14247,-1167 14247,-1197\"/>\n<text text-anchor=\"middle\" x=\"14097.5\" y=\"-1185\" font-family=\"monospace\" font-size=\"10.00\" fill=\"#000000\">MobileNet_convolutional_layer1.24.stage2.1.bias</text>\n<text text-anchor=\"middle\" x=\"14097.5\" y=\"-1174\" font-family=\"monospace\" font-size=\"10.00\" fill=\"#000000\"> (512)</text>\n</g>\n<!-- 140284650122768&#45;&gt;140284649754064 -->\n<g id=\"edge267\" class=\"edge\">\n<title>140284650122768&#45;&gt;140284649754064</title>\n<path fill=\"none\" stroke=\"#000000\" d=\"M14072.0242,-1166.8894C14056.2398,-1157.527 14036.0604,-1145.5579 14020.387,-1136.2614\"/>\n<polygon fill=\"#000000\" stroke=\"#000000\" points=\"14022.1332,-1133.2278 14011.7468,-1131.1366 14018.5621,-1139.2484 14022.1332,-1133.2278\"/>\n</g>\n<!-- 140284649753936 -->\n<g id=\"node270\" class=\"node\">\n<title>140284649753936</title>\n<polygon fill=\"#d3d3d3\" stroke=\"#000000\" points=\"14115,-1004.5 14014,-1004.5 14014,-985.5 14115,-985.5 14115,-1004.5\"/>\n<text text-anchor=\"middle\" x=\"14064.5\" y=\"-992.5\" font-family=\"monospace\" font-size=\"10.00\" fill=\"#000000\">AccumulateGrad</text>\n</g>\n<!-- 140284649753936&#45;&gt;140284649753552 -->\n<g id=\"edge268\" class=\"edge\">\n<title>140284649753936&#45;&gt;140284649753552</title>\n<path fill=\"none\" stroke=\"#000000\" d=\"M14074.14,-985.2796C14083.0965,-976.2485 14096.6372,-962.595 14107.4228,-951.7195\"/>\n<polygon fill=\"#000000\" stroke=\"#000000\" points=\"14110.128,-953.9622 14114.6846,-944.3972 14105.1577,-949.033 14110.128,-953.9622\"/>\n</g>\n<!-- 140284649672944 -->\n<g id=\"node271\" class=\"node\">\n<title>140284649672944</title>\n<polygon fill=\"#add8e6\" stroke=\"#000000\" points=\"14259,-1076 13870,-1076 13870,-1046 14259,-1046 14259,-1076\"/>\n<text text-anchor=\"middle\" x=\"14064.5\" y=\"-1064\" font-family=\"monospace\" font-size=\"10.00\" fill=\"#000000\">MobileNet_convolutional_layer1.25.stage1.0.deep_network.weight</text>\n<text text-anchor=\"middle\" x=\"14064.5\" y=\"-1053\" font-family=\"monospace\" font-size=\"10.00\" fill=\"#000000\"> (512, 1, 3, 3)</text>\n</g>\n<!-- 140284649672944&#45;&gt;140284649753936 -->\n<g id=\"edge269\" class=\"edge\">\n<title>140284649672944&#45;&gt;140284649753936</title>\n<path fill=\"none\" stroke=\"#000000\" d=\"M14064.5,-1045.6924C14064.5,-1036.5067 14064.5,-1024.7245 14064.5,-1014.8312\"/>\n<polygon fill=\"#000000\" stroke=\"#000000\" points=\"14068.0001,-1014.703 14064.5,-1004.7031 14061.0001,-1014.7031 14068.0001,-1014.703\"/>\n</g>\n<!-- 140284649753872 -->\n<g id=\"node272\" class=\"node\">\n<title>140284649753872</title>\n<polygon fill=\"#d3d3d3\" stroke=\"#000000\" points=\"14234,-1004.5 14133,-1004.5 14133,-985.5 14234,-985.5 14234,-1004.5\"/>\n<text text-anchor=\"middle\" x=\"14183.5\" y=\"-992.5\" font-family=\"monospace\" font-size=\"10.00\" fill=\"#000000\">AccumulateGrad</text>\n</g>\n<!-- 140284649753872&#45;&gt;140284649753552 -->\n<g id=\"edge270\" class=\"edge\">\n<title>140284649753872&#45;&gt;140284649753552</title>\n<path fill=\"none\" stroke=\"#000000\" d=\"M14174.0206,-985.2796C14165.2134,-976.2485 14151.8984,-962.595 14141.2926,-951.7195\"/>\n<polygon fill=\"#000000\" stroke=\"#000000\" points=\"14143.6394,-949.1129 14134.1519,-944.3972 14138.6279,-954.0002 14143.6394,-949.1129\"/>\n</g>\n<!-- 140284649673024 -->\n<g id=\"node273\" class=\"node\">\n<title>140284649673024</title>\n<polygon fill=\"#add8e6\" stroke=\"#000000\" points=\"14654,-1076 14277,-1076 14277,-1046 14654,-1046 14654,-1076\"/>\n<text text-anchor=\"middle\" x=\"14465.5\" y=\"-1064\" font-family=\"monospace\" font-size=\"10.00\" fill=\"#000000\">MobileNet_convolutional_layer1.25.stage1.0.deep_network.bias</text>\n<text text-anchor=\"middle\" x=\"14465.5\" y=\"-1053\" font-family=\"monospace\" font-size=\"10.00\" fill=\"#000000\"> (512)</text>\n</g>\n<!-- 140284649673024&#45;&gt;140284649753872 -->\n<g id=\"edge271\" class=\"edge\">\n<title>140284649673024&#45;&gt;140284649753872</title>\n<path fill=\"none\" stroke=\"#000000\" d=\"M14397.5745,-1045.9122C14353.3437,-1035.9774 14294.4246,-1022.5362 14242.5,-1010 14238.6233,-1009.064 14234.6075,-1008.0781 14230.578,-1007.0772\"/>\n<polygon fill=\"#000000\" stroke=\"#000000\" points=\"14231.1552,-1003.6138 14220.6044,-1004.5787 14229.4541,-1010.4039 14231.1552,-1003.6138\"/>\n</g>\n<!-- 140284649753744 -->\n<g id=\"node274\" class=\"node\">\n<title>140284649753744</title>\n<polygon fill=\"#d3d3d3\" stroke=\"#000000\" points=\"14458,-944 14357,-944 14357,-925 14458,-925 14458,-944\"/>\n<text text-anchor=\"middle\" x=\"14407.5\" y=\"-932\" font-family=\"monospace\" font-size=\"10.00\" fill=\"#000000\">AccumulateGrad</text>\n</g>\n<!-- 140284649753744&#45;&gt;140284649753360 -->\n<g id=\"edge272\" class=\"edge\">\n<title>140284649753744&#45;&gt;140284649753360</title>\n<path fill=\"none\" stroke=\"#000000\" d=\"M14407.5,-924.7796C14407.5,-916.5376 14407.5,-904.4457 14407.5,-894.129\"/>\n<polygon fill=\"#000000\" stroke=\"#000000\" points=\"14411.0001,-893.8972 14407.5,-883.8972 14404.0001,-893.8973 14411.0001,-893.8972\"/>\n</g>\n<!-- 140284649673184 -->\n<g id=\"node275\" class=\"node\">\n<title>140284649673184</title>\n<polygon fill=\"#add8e6\" stroke=\"#000000\" points=\"14563,-1010 14252,-1010 14252,-980 14563,-980 14563,-1010\"/>\n<text text-anchor=\"middle\" x=\"14407.5\" y=\"-998\" font-family=\"monospace\" font-size=\"10.00\" fill=\"#000000\">MobileNet_convolutional_layer1.25.stage1.1.weight</text>\n<text text-anchor=\"middle\" x=\"14407.5\" y=\"-987\" font-family=\"monospace\" font-size=\"10.00\" fill=\"#000000\"> (512)</text>\n</g>\n<!-- 140284649673184&#45;&gt;140284649753744 -->\n<g id=\"edge273\" class=\"edge\">\n<title>140284649673184&#45;&gt;140284649753744</title>\n<path fill=\"none\" stroke=\"#000000\" d=\"M14407.5,-979.7333C14407.5,-972.0322 14407.5,-962.5977 14407.5,-954.3414\"/>\n<polygon fill=\"#000000\" stroke=\"#000000\" points=\"14411.0001,-954.0864 14407.5,-944.0864 14404.0001,-954.0864 14411.0001,-954.0864\"/>\n</g>\n<!-- 140284649753424 -->\n<g id=\"node276\" class=\"node\">\n<title>140284649753424</title>\n<polygon fill=\"#d3d3d3\" stroke=\"#000000\" points=\"14679,-944 14578,-944 14578,-925 14679,-925 14679,-944\"/>\n<text text-anchor=\"middle\" x=\"14628.5\" y=\"-932\" font-family=\"monospace\" font-size=\"10.00\" fill=\"#000000\">AccumulateGrad</text>\n</g>\n<!-- 140284649753424&#45;&gt;140284649753360 -->\n<g id=\"edge274\" class=\"edge\">\n<title>140284649753424&#45;&gt;140284649753360</title>\n<path fill=\"none\" stroke=\"#000000\" d=\"M14593.4819,-924.9136C14555.2523,-914.448 14493.9332,-897.6616 14452.2425,-886.2485\"/>\n<polygon fill=\"#000000\" stroke=\"#000000\" points=\"14452.9236,-882.8062 14442.3543,-883.5416 14451.0752,-889.5578 14452.9236,-882.8062\"/>\n</g>\n<!-- 140284649673344 -->\n<g id=\"node277\" class=\"node\">\n<title>140284649673344</title>\n<polygon fill=\"#add8e6\" stroke=\"#000000\" points=\"14880,-1010 14581,-1010 14581,-980 14880,-980 14880,-1010\"/>\n<text text-anchor=\"middle\" x=\"14730.5\" y=\"-998\" font-family=\"monospace\" font-size=\"10.00\" fill=\"#000000\">MobileNet_convolutional_layer1.25.stage1.1.bias</text>\n<text text-anchor=\"middle\" x=\"14730.5\" y=\"-987\" font-family=\"monospace\" font-size=\"10.00\" fill=\"#000000\"> (512)</text>\n</g>\n<!-- 140284649673344&#45;&gt;140284649753424 -->\n<g id=\"edge275\" class=\"edge\">\n<title>140284649673344&#45;&gt;140284649753424</title>\n<path fill=\"none\" stroke=\"#000000\" d=\"M14705.0242,-979.8894C14689.2398,-970.527 14669.0604,-958.5579 14653.387,-949.2614\"/>\n<polygon fill=\"#000000\" stroke=\"#000000\" points=\"14655.1332,-946.2278 14644.7468,-944.1366 14651.5621,-952.2484 14655.1332,-946.2278\"/>\n</g>\n<!-- 140284649753296 -->\n<g id=\"node278\" class=\"node\">\n<title>140284649753296</title>\n<polygon fill=\"#d3d3d3\" stroke=\"#000000\" points=\"14709,-817.5 14608,-817.5 14608,-798.5 14709,-798.5 14709,-817.5\"/>\n<text text-anchor=\"middle\" x=\"14658.5\" y=\"-805.5\" font-family=\"monospace\" font-size=\"10.00\" fill=\"#000000\">AccumulateGrad</text>\n</g>\n<!-- 140284649753296&#45;&gt;140284649752976 -->\n<g id=\"edge276\" class=\"edge\">\n<title>140284649753296&#45;&gt;140284649752976</title>\n<path fill=\"none\" stroke=\"#000000\" d=\"M14668.14,-798.2796C14677.0965,-789.2485 14690.6372,-775.595 14701.4228,-764.7195\"/>\n<polygon fill=\"#000000\" stroke=\"#000000\" points=\"14704.128,-766.9622 14708.6846,-757.3972 14699.1577,-762.033 14704.128,-766.9622\"/>\n</g>\n<!-- 140284649674224 -->\n<g id=\"node279\" class=\"node\">\n<title>140284649674224</title>\n<polygon fill=\"#add8e6\" stroke=\"#000000\" points=\"14814,-889 14503,-889 14503,-859 14814,-859 14814,-889\"/>\n<text text-anchor=\"middle\" x=\"14658.5\" y=\"-877\" font-family=\"monospace\" font-size=\"10.00\" fill=\"#000000\">MobileNet_convolutional_layer1.26.stage2.0.weight</text>\n<text text-anchor=\"middle\" x=\"14658.5\" y=\"-866\" font-family=\"monospace\" font-size=\"10.00\" fill=\"#000000\"> (1024, 512, 3, 3)</text>\n</g>\n<!-- 140284649674224&#45;&gt;140284649753296 -->\n<g id=\"edge277\" class=\"edge\">\n<title>140284649674224&#45;&gt;140284649753296</title>\n<path fill=\"none\" stroke=\"#000000\" d=\"M14658.5,-858.6924C14658.5,-849.5067 14658.5,-837.7245 14658.5,-827.8312\"/>\n<polygon fill=\"#000000\" stroke=\"#000000\" points=\"14662.0001,-827.703 14658.5,-817.7031 14655.0001,-827.7031 14662.0001,-827.703\"/>\n</g>\n<!-- 140284649753232 -->\n<g id=\"node280\" class=\"node\">\n<title>140284649753232</title>\n<polygon fill=\"#d3d3d3\" stroke=\"#000000\" points=\"14828,-817.5 14727,-817.5 14727,-798.5 14828,-798.5 14828,-817.5\"/>\n<text text-anchor=\"middle\" x=\"14777.5\" y=\"-805.5\" font-family=\"monospace\" font-size=\"10.00\" fill=\"#000000\">AccumulateGrad</text>\n</g>\n<!-- 140284649753232&#45;&gt;140284649752976 -->\n<g id=\"edge278\" class=\"edge\">\n<title>140284649753232&#45;&gt;140284649752976</title>\n<path fill=\"none\" stroke=\"#000000\" d=\"M14768.0206,-798.2796C14759.2134,-789.2485 14745.8984,-775.595 14735.2926,-764.7195\"/>\n<polygon fill=\"#000000\" stroke=\"#000000\" points=\"14737.6394,-762.1129 14728.1519,-757.3972 14732.6279,-767.0002 14737.6394,-762.1129\"/>\n</g>\n<!-- 140284649674304 -->\n<g id=\"node281\" class=\"node\">\n<title>140284649674304</title>\n<polygon fill=\"#add8e6\" stroke=\"#000000\" points=\"15131,-889 14832,-889 14832,-859 15131,-859 15131,-889\"/>\n<text text-anchor=\"middle\" x=\"14981.5\" y=\"-877\" font-family=\"monospace\" font-size=\"10.00\" fill=\"#000000\">MobileNet_convolutional_layer1.26.stage2.0.bias</text>\n<text text-anchor=\"middle\" x=\"14981.5\" y=\"-866\" font-family=\"monospace\" font-size=\"10.00\" fill=\"#000000\"> (1024)</text>\n</g>\n<!-- 140284649674304&#45;&gt;140284649753232 -->\n<g id=\"edge279\" class=\"edge\">\n<title>140284649674304&#45;&gt;140284649753232</title>\n<path fill=\"none\" stroke=\"#000000\" d=\"M14934.954,-858.941C14899.2061,-847.3755 14850.4019,-831.5859 14816.6472,-820.6653\"/>\n<polygon fill=\"#000000\" stroke=\"#000000\" points=\"14817.71,-817.3306 14807.1182,-817.5824 14815.5553,-823.9907 14817.71,-817.3306\"/>\n</g>\n<!-- 140284649752848 -->\n<g id=\"node282\" class=\"node\">\n<title>140284649752848</title>\n<polygon fill=\"#d3d3d3\" stroke=\"#000000\" points=\"15052,-757 14951,-757 14951,-738 15052,-738 15052,-757\"/>\n<text text-anchor=\"middle\" x=\"15001.5\" y=\"-745\" font-family=\"monospace\" font-size=\"10.00\" fill=\"#000000\">AccumulateGrad</text>\n</g>\n<!-- 140284649752848&#45;&gt;140284649752784 -->\n<g id=\"edge280\" class=\"edge\">\n<title>140284649752848&#45;&gt;140284649752784</title>\n<path fill=\"none\" stroke=\"#000000\" d=\"M15001.5,-737.7796C15001.5,-729.5376 15001.5,-717.4457 15001.5,-707.129\"/>\n<polygon fill=\"#000000\" stroke=\"#000000\" points=\"15005.0001,-706.8972 15001.5,-696.8972 14998.0001,-706.8973 15005.0001,-706.8972\"/>\n</g>\n<!-- 140284649674624 -->\n<g id=\"node283\" class=\"node\">\n<title>140284649674624</title>\n<polygon fill=\"#add8e6\" stroke=\"#000000\" points=\"15157,-823 14846,-823 14846,-793 15157,-793 15157,-823\"/>\n<text text-anchor=\"middle\" x=\"15001.5\" y=\"-811\" font-family=\"monospace\" font-size=\"10.00\" fill=\"#000000\">MobileNet_convolutional_layer1.26.stage2.1.weight</text>\n<text text-anchor=\"middle\" x=\"15001.5\" y=\"-800\" font-family=\"monospace\" font-size=\"10.00\" fill=\"#000000\"> (1024)</text>\n</g>\n<!-- 140284649674624&#45;&gt;140284649752848 -->\n<g id=\"edge281\" class=\"edge\">\n<title>140284649674624&#45;&gt;140284649752848</title>\n<path fill=\"none\" stroke=\"#000000\" d=\"M15001.5,-792.7333C15001.5,-785.0322 15001.5,-775.5977 15001.5,-767.3414\"/>\n<polygon fill=\"#000000\" stroke=\"#000000\" points=\"15005.0001,-767.0864 15001.5,-757.0864 14998.0001,-767.0864 15005.0001,-767.0864\"/>\n</g>\n<!-- 140284649753040 -->\n<g id=\"node284\" class=\"node\">\n<title>140284649753040</title>\n<polygon fill=\"#d3d3d3\" stroke=\"#000000\" points=\"15273,-757 15172,-757 15172,-738 15273,-738 15273,-757\"/>\n<text text-anchor=\"middle\" x=\"15222.5\" y=\"-745\" font-family=\"monospace\" font-size=\"10.00\" fill=\"#000000\">AccumulateGrad</text>\n</g>\n<!-- 140284649753040&#45;&gt;140284649752784 -->\n<g id=\"edge282\" class=\"edge\">\n<title>140284649753040&#45;&gt;140284649752784</title>\n<path fill=\"none\" stroke=\"#000000\" d=\"M15187.4819,-737.9136C15149.2523,-727.448 15087.9332,-710.6616 15046.2425,-699.2485\"/>\n<polygon fill=\"#000000\" stroke=\"#000000\" points=\"15046.9236,-695.8062 15036.3543,-696.5416 15045.0752,-702.5578 15046.9236,-695.8062\"/>\n</g>\n<!-- 140284649675024 -->\n<g id=\"node285\" class=\"node\">\n<title>140284649675024</title>\n<polygon fill=\"#add8e6\" stroke=\"#000000\" points=\"15474,-823 15175,-823 15175,-793 15474,-793 15474,-823\"/>\n<text text-anchor=\"middle\" x=\"15324.5\" y=\"-811\" font-family=\"monospace\" font-size=\"10.00\" fill=\"#000000\">MobileNet_convolutional_layer1.26.stage2.1.bias</text>\n<text text-anchor=\"middle\" x=\"15324.5\" y=\"-800\" font-family=\"monospace\" font-size=\"10.00\" fill=\"#000000\"> (1024)</text>\n</g>\n<!-- 140284649675024&#45;&gt;140284649753040 -->\n<g id=\"edge283\" class=\"edge\">\n<title>140284649675024&#45;&gt;140284649753040</title>\n<path fill=\"none\" stroke=\"#000000\" d=\"M15299.0242,-792.8894C15283.2398,-783.527 15263.0604,-771.5579 15247.387,-762.2614\"/>\n<polygon fill=\"#000000\" stroke=\"#000000\" points=\"15249.1332,-759.2278 15238.7468,-757.1366 15245.5621,-765.2484 15249.1332,-759.2278\"/>\n</g>\n<!-- 140284649752720 -->\n<g id=\"node286\" class=\"node\">\n<title>140284649752720</title>\n<polygon fill=\"#d3d3d3\" stroke=\"#000000\" points=\"15342,-630.5 15241,-630.5 15241,-611.5 15342,-611.5 15342,-630.5\"/>\n<text text-anchor=\"middle\" x=\"15291.5\" y=\"-618.5\" font-family=\"monospace\" font-size=\"10.00\" fill=\"#000000\">AccumulateGrad</text>\n</g>\n<!-- 140284649752720&#45;&gt;140284649752336 -->\n<g id=\"edge284\" class=\"edge\">\n<title>140284649752720&#45;&gt;140284649752336</title>\n<path fill=\"none\" stroke=\"#000000\" d=\"M15300.9794,-611.2796C15309.7866,-602.2485 15323.1016,-588.595 15333.7074,-577.7195\"/>\n<polygon fill=\"#000000\" stroke=\"#000000\" points=\"15336.3721,-580.0002 15340.8481,-570.3972 15331.3606,-575.1129 15336.3721,-580.0002\"/>\n</g>\n<!-- 140284649675664 -->\n<g id=\"node287\" class=\"node\">\n<title>140284649675664</title>\n<polygon fill=\"#add8e6\" stroke=\"#000000\" points=\"15486,-702 15097,-702 15097,-672 15486,-672 15486,-702\"/>\n<text text-anchor=\"middle\" x=\"15291.5\" y=\"-690\" font-family=\"monospace\" font-size=\"10.00\" fill=\"#000000\">MobileNet_convolutional_layer1.27.stage1.0.deep_network.weight</text>\n<text text-anchor=\"middle\" x=\"15291.5\" y=\"-679\" font-family=\"monospace\" font-size=\"10.00\" fill=\"#000000\"> (1024, 1, 3, 3)</text>\n</g>\n<!-- 140284649675664&#45;&gt;140284649752720 -->\n<g id=\"edge285\" class=\"edge\">\n<title>140284649675664&#45;&gt;140284649752720</title>\n<path fill=\"none\" stroke=\"#000000\" d=\"M15291.5,-671.6924C15291.5,-662.5067 15291.5,-650.7245 15291.5,-640.8312\"/>\n<polygon fill=\"#000000\" stroke=\"#000000\" points=\"15295.0001,-640.703 15291.5,-630.7031 15288.0001,-640.7031 15295.0001,-640.703\"/>\n</g>\n<!-- 140284649752592 -->\n<g id=\"node288\" class=\"node\">\n<title>140284649752592</title>\n<polygon fill=\"#d3d3d3\" stroke=\"#000000\" points=\"15461,-630.5 15360,-630.5 15360,-611.5 15461,-611.5 15461,-630.5\"/>\n<text text-anchor=\"middle\" x=\"15410.5\" y=\"-618.5\" font-family=\"monospace\" font-size=\"10.00\" fill=\"#000000\">AccumulateGrad</text>\n</g>\n<!-- 140284649752592&#45;&gt;140284649752336 -->\n<g id=\"edge286\" class=\"edge\">\n<title>140284649752592&#45;&gt;140284649752336</title>\n<path fill=\"none\" stroke=\"#000000\" d=\"M15400.86,-611.2796C15391.9035,-602.2485 15378.3628,-588.595 15367.5772,-577.7195\"/>\n<polygon fill=\"#000000\" stroke=\"#000000\" points=\"15369.8423,-575.033 15360.3154,-570.3972 15364.872,-579.9622 15369.8423,-575.033\"/>\n</g>\n<!-- 140284649675744 -->\n<g id=\"node289\" class=\"node\">\n<title>140284649675744</title>\n<polygon fill=\"#add8e6\" stroke=\"#000000\" points=\"15881,-702 15504,-702 15504,-672 15881,-672 15881,-702\"/>\n<text text-anchor=\"middle\" x=\"15692.5\" y=\"-690\" font-family=\"monospace\" font-size=\"10.00\" fill=\"#000000\">MobileNet_convolutional_layer1.27.stage1.0.deep_network.bias</text>\n<text text-anchor=\"middle\" x=\"15692.5\" y=\"-679\" font-family=\"monospace\" font-size=\"10.00\" fill=\"#000000\"> (1024)</text>\n</g>\n<!-- 140284649675744&#45;&gt;140284649752592 -->\n<g id=\"edge287\" class=\"edge\">\n<title>140284649675744&#45;&gt;140284649752592</title>\n<path fill=\"none\" stroke=\"#000000\" d=\"M15624.5745,-671.9122C15580.3437,-661.9774 15521.4246,-648.5362 15469.5,-636 15465.6233,-635.064 15461.6075,-634.0781 15457.578,-633.0772\"/>\n<polygon fill=\"#000000\" stroke=\"#000000\" points=\"15458.1552,-629.6138 15447.6044,-630.5787 15456.4541,-636.4039 15458.1552,-629.6138\"/>\n</g>\n<!-- 140284649752208 -->\n<g id=\"node290\" class=\"node\">\n<title>140284649752208</title>\n<polygon fill=\"#d3d3d3\" stroke=\"#000000\" points=\"15685,-570 15584,-570 15584,-551 15685,-551 15685,-570\"/>\n<text text-anchor=\"middle\" x=\"15634.5\" y=\"-558\" font-family=\"monospace\" font-size=\"10.00\" fill=\"#000000\">AccumulateGrad</text>\n</g>\n<!-- 140284649752208&#45;&gt;140284655335248 -->\n<g id=\"edge288\" class=\"edge\">\n<title>140284649752208&#45;&gt;140284655335248</title>\n<path fill=\"none\" stroke=\"#000000\" d=\"M15634.5,-550.7796C15634.5,-542.5376 15634.5,-530.4457 15634.5,-520.129\"/>\n<polygon fill=\"#000000\" stroke=\"#000000\" points=\"15638.0001,-519.8972 15634.5,-509.8972 15631.0001,-519.8973 15638.0001,-519.8972\"/>\n</g>\n<!-- 140284649675904 -->\n<g id=\"node291\" class=\"node\">\n<title>140284649675904</title>\n<polygon fill=\"#add8e6\" stroke=\"#000000\" points=\"15790,-636 15479,-636 15479,-606 15790,-606 15790,-636\"/>\n<text text-anchor=\"middle\" x=\"15634.5\" y=\"-624\" font-family=\"monospace\" font-size=\"10.00\" fill=\"#000000\">MobileNet_convolutional_layer1.27.stage1.1.weight</text>\n<text text-anchor=\"middle\" x=\"15634.5\" y=\"-613\" font-family=\"monospace\" font-size=\"10.00\" fill=\"#000000\"> (1024)</text>\n</g>\n<!-- 140284649675904&#45;&gt;140284649752208 -->\n<g id=\"edge289\" class=\"edge\">\n<title>140284649675904&#45;&gt;140284649752208</title>\n<path fill=\"none\" stroke=\"#000000\" d=\"M15634.5,-605.7333C15634.5,-598.0322 15634.5,-588.5977 15634.5,-580.3414\"/>\n<polygon fill=\"#000000\" stroke=\"#000000\" points=\"15638.0001,-580.0864 15634.5,-570.0864 15631.0001,-580.0864 15638.0001,-580.0864\"/>\n</g>\n<!-- 140284649752464 -->\n<g id=\"node292\" class=\"node\">\n<title>140284649752464</title>\n<polygon fill=\"#d3d3d3\" stroke=\"#000000\" points=\"15906,-570 15805,-570 15805,-551 15906,-551 15906,-570\"/>\n<text text-anchor=\"middle\" x=\"15855.5\" y=\"-558\" font-family=\"monospace\" font-size=\"10.00\" fill=\"#000000\">AccumulateGrad</text>\n</g>\n<!-- 140284649752464&#45;&gt;140284655335248 -->\n<g id=\"edge290\" class=\"edge\">\n<title>140284649752464&#45;&gt;140284655335248</title>\n<path fill=\"none\" stroke=\"#000000\" d=\"M15820.4819,-550.9136C15782.2523,-540.448 15720.9332,-523.6616 15679.2425,-512.2485\"/>\n<polygon fill=\"#000000\" stroke=\"#000000\" points=\"15679.9236,-508.8062 15669.3543,-509.5416 15678.0752,-515.5578 15679.9236,-508.8062\"/>\n</g>\n<!-- 140284649676064 -->\n<g id=\"node293\" class=\"node\">\n<title>140284649676064</title>\n<polygon fill=\"#add8e6\" stroke=\"#000000\" points=\"16107,-636 15808,-636 15808,-606 16107,-606 16107,-636\"/>\n<text text-anchor=\"middle\" x=\"15957.5\" y=\"-624\" font-family=\"monospace\" font-size=\"10.00\" fill=\"#000000\">MobileNet_convolutional_layer1.27.stage1.1.bias</text>\n<text text-anchor=\"middle\" x=\"15957.5\" y=\"-613\" font-family=\"monospace\" font-size=\"10.00\" fill=\"#000000\"> (1024)</text>\n</g>\n<!-- 140284649676064&#45;&gt;140284649752464 -->\n<g id=\"edge291\" class=\"edge\">\n<title>140284649676064&#45;&gt;140284649752464</title>\n<path fill=\"none\" stroke=\"#000000\" d=\"M15932.0242,-605.8894C15916.2398,-596.527 15896.0604,-584.5579 15880.387,-575.2614\"/>\n<polygon fill=\"#000000\" stroke=\"#000000\" points=\"15882.1332,-572.2278 15871.7468,-570.1366 15878.5621,-578.2484 15882.1332,-572.2278\"/>\n</g>\n<!-- 140284655334800 -->\n<g id=\"node294\" class=\"node\">\n<title>140284655334800</title>\n<polygon fill=\"#d3d3d3\" stroke=\"#000000\" points=\"15936,-443.5 15835,-443.5 15835,-424.5 15936,-424.5 15936,-443.5\"/>\n<text text-anchor=\"middle\" x=\"15885.5\" y=\"-431.5\" font-family=\"monospace\" font-size=\"10.00\" fill=\"#000000\">AccumulateGrad</text>\n</g>\n<!-- 140284655334800&#45;&gt;140284655336720 -->\n<g id=\"edge292\" class=\"edge\">\n<title>140284655334800&#45;&gt;140284655336720</title>\n<path fill=\"none\" stroke=\"#000000\" d=\"M15895.14,-424.2796C15904.0965,-415.2485 15917.6372,-401.595 15928.4228,-390.7195\"/>\n<polygon fill=\"#000000\" stroke=\"#000000\" points=\"15931.128,-392.9622 15935.6846,-383.3972 15926.1577,-388.033 15931.128,-392.9622\"/>\n</g>\n<!-- 140284649676624 -->\n<g id=\"node295\" class=\"node\">\n<title>140284649676624</title>\n<polygon fill=\"#add8e6\" stroke=\"#000000\" points=\"16041,-515 15730,-515 15730,-485 16041,-485 16041,-515\"/>\n<text text-anchor=\"middle\" x=\"15885.5\" y=\"-503\" font-family=\"monospace\" font-size=\"10.00\" fill=\"#000000\">MobileNet_convolutional_layer1.28.stage2.0.weight</text>\n<text text-anchor=\"middle\" x=\"15885.5\" y=\"-492\" font-family=\"monospace\" font-size=\"10.00\" fill=\"#000000\"> (1024, 1024, 3, 3)</text>\n</g>\n<!-- 140284649676624&#45;&gt;140284655334800 -->\n<g id=\"edge293\" class=\"edge\">\n<title>140284649676624&#45;&gt;140284655334800</title>\n<path fill=\"none\" stroke=\"#000000\" d=\"M15885.5,-484.6924C15885.5,-475.5067 15885.5,-463.7245 15885.5,-453.8312\"/>\n<polygon fill=\"#000000\" stroke=\"#000000\" points=\"15889.0001,-453.703 15885.5,-443.7031 15882.0001,-453.7031 15889.0001,-453.703\"/>\n</g>\n<!-- 140284655335632 -->\n<g id=\"node296\" class=\"node\">\n<title>140284655335632</title>\n<polygon fill=\"#d3d3d3\" stroke=\"#000000\" points=\"16055,-443.5 15954,-443.5 15954,-424.5 16055,-424.5 16055,-443.5\"/>\n<text text-anchor=\"middle\" x=\"16004.5\" y=\"-431.5\" font-family=\"monospace\" font-size=\"10.00\" fill=\"#000000\">AccumulateGrad</text>\n</g>\n<!-- 140284655335632&#45;&gt;140284655336720 -->\n<g id=\"edge294\" class=\"edge\">\n<title>140284655335632&#45;&gt;140284655336720</title>\n<path fill=\"none\" stroke=\"#000000\" d=\"M15995.0206,-424.2796C15986.2134,-415.2485 15972.8984,-401.595 15962.2926,-390.7195\"/>\n<polygon fill=\"#000000\" stroke=\"#000000\" points=\"15964.6394,-388.1129 15955.1519,-383.3972 15959.6279,-393.0002 15964.6394,-388.1129\"/>\n</g>\n<!-- 140284649676704 -->\n<g id=\"node297\" class=\"node\">\n<title>140284649676704</title>\n<polygon fill=\"#add8e6\" stroke=\"#000000\" points=\"16358,-515 16059,-515 16059,-485 16358,-485 16358,-515\"/>\n<text text-anchor=\"middle\" x=\"16208.5\" y=\"-503\" font-family=\"monospace\" font-size=\"10.00\" fill=\"#000000\">MobileNet_convolutional_layer1.28.stage2.0.bias</text>\n<text text-anchor=\"middle\" x=\"16208.5\" y=\"-492\" font-family=\"monospace\" font-size=\"10.00\" fill=\"#000000\"> (1024)</text>\n</g>\n<!-- 140284649676704&#45;&gt;140284655335632 -->\n<g id=\"edge295\" class=\"edge\">\n<title>140284649676704&#45;&gt;140284655335632</title>\n<path fill=\"none\" stroke=\"#000000\" d=\"M16161.954,-484.941C16126.2061,-473.3755 16077.4019,-457.5859 16043.6472,-446.6653\"/>\n<polygon fill=\"#000000\" stroke=\"#000000\" points=\"16044.71,-443.3306 16034.1182,-443.5824 16042.5553,-449.9907 16044.71,-443.3306\"/>\n</g>\n<!-- 140284655336272 -->\n<g id=\"node298\" class=\"node\">\n<title>140284655336272</title>\n<polygon fill=\"#d3d3d3\" stroke=\"#000000\" points=\"16279,-383 16178,-383 16178,-364 16279,-364 16279,-383\"/>\n<text text-anchor=\"middle\" x=\"16228.5\" y=\"-371\" font-family=\"monospace\" font-size=\"10.00\" fill=\"#000000\">AccumulateGrad</text>\n</g>\n<!-- 140284655336272&#45;&gt;140284655336208 -->\n<g id=\"edge296\" class=\"edge\">\n<title>140284655336272&#45;&gt;140284655336208</title>\n<path fill=\"none\" stroke=\"#000000\" d=\"M16228.5,-363.9197C16228.5,-356.9083 16228.5,-347.1442 16228.5,-338.4652\"/>\n<polygon fill=\"#000000\" stroke=\"#000000\" points=\"16232.0001,-338.3408 16228.5,-328.3408 16225.0001,-338.3409 16232.0001,-338.3408\"/>\n</g>\n<!-- 140284649730288 -->\n<g id=\"node299\" class=\"node\">\n<title>140284649730288</title>\n<polygon fill=\"#add8e6\" stroke=\"#000000\" points=\"16384,-449 16073,-449 16073,-419 16384,-419 16384,-449\"/>\n<text text-anchor=\"middle\" x=\"16228.5\" y=\"-437\" font-family=\"monospace\" font-size=\"10.00\" fill=\"#000000\">MobileNet_convolutional_layer1.28.stage2.1.weight</text>\n<text text-anchor=\"middle\" x=\"16228.5\" y=\"-426\" font-family=\"monospace\" font-size=\"10.00\" fill=\"#000000\"> (1024)</text>\n</g>\n<!-- 140284649730288&#45;&gt;140284655336272 -->\n<g id=\"edge297\" class=\"edge\">\n<title>140284649730288&#45;&gt;140284655336272</title>\n<path fill=\"none\" stroke=\"#000000\" d=\"M16228.5,-418.7333C16228.5,-411.0322 16228.5,-401.5977 16228.5,-393.3414\"/>\n<polygon fill=\"#000000\" stroke=\"#000000\" points=\"16232.0001,-393.0864 16228.5,-383.0864 16225.0001,-393.0864 16232.0001,-393.0864\"/>\n</g>\n<!-- 140284655335696 -->\n<g id=\"node300\" class=\"node\">\n<title>140284655335696</title>\n<polygon fill=\"#d3d3d3\" stroke=\"#000000\" points=\"16500,-383 16399,-383 16399,-364 16500,-364 16500,-383\"/>\n<text text-anchor=\"middle\" x=\"16449.5\" y=\"-371\" font-family=\"monospace\" font-size=\"10.00\" fill=\"#000000\">AccumulateGrad</text>\n</g>\n<!-- 140284655335696&#45;&gt;140284655336208 -->\n<g id=\"edge298\" class=\"edge\">\n<title>140284655335696&#45;&gt;140284655336208</title>\n<path fill=\"none\" stroke=\"#000000\" d=\"M16411.257,-363.9825C16374.0152,-354.7142 16317.2736,-340.593 16276.9043,-330.5463\"/>\n<polygon fill=\"#000000\" stroke=\"#000000\" points=\"16277.5648,-327.104 16267.0155,-328.0853 16275.8742,-333.8968 16277.5648,-327.104\"/>\n</g>\n<!-- 140284649730368 -->\n<g id=\"node301\" class=\"node\">\n<title>140284649730368</title>\n<polygon fill=\"#add8e6\" stroke=\"#000000\" points=\"16701,-449 16402,-449 16402,-419 16701,-419 16701,-449\"/>\n<text text-anchor=\"middle\" x=\"16551.5\" y=\"-437\" font-family=\"monospace\" font-size=\"10.00\" fill=\"#000000\">MobileNet_convolutional_layer1.28.stage2.1.bias</text>\n<text text-anchor=\"middle\" x=\"16551.5\" y=\"-426\" font-family=\"monospace\" font-size=\"10.00\" fill=\"#000000\"> (1024)</text>\n</g>\n<!-- 140284649730368&#45;&gt;140284655335696 -->\n<g id=\"edge299\" class=\"edge\">\n<title>140284649730368&#45;&gt;140284655335696</title>\n<path fill=\"none\" stroke=\"#000000\" d=\"M16526.0242,-418.8894C16510.2398,-409.527 16490.0604,-397.5579 16474.387,-388.2614\"/>\n<polygon fill=\"#000000\" stroke=\"#000000\" points=\"16476.1332,-385.2278 16465.7468,-383.1366 16472.5621,-391.2484 16476.1332,-385.2278\"/>\n</g>\n<!-- 140284655334160 -->\n<g id=\"node302\" class=\"node\">\n<title>140284655334160</title>\n<polygon fill=\"#d3d3d3\" stroke=\"#000000\" points=\"16389,-141 16318,-141 16318,-122 16389,-122 16389,-141\"/>\n<text text-anchor=\"middle\" x=\"16353.5\" y=\"-129\" font-family=\"monospace\" font-size=\"10.00\" fill=\"#000000\">TBackward</text>\n</g>\n<!-- 140284655334160&#45;&gt;140284650485904 -->\n<g id=\"edge300\" class=\"edge\">\n<title>140284655334160&#45;&gt;140284650485904</title>\n<path fill=\"none\" stroke=\"#000000\" d=\"M16334.862,-121.9197C16318.1638,-113.3365 16293.4402,-100.6281 16274.3882,-90.8351\"/>\n<polygon fill=\"#000000\" stroke=\"#000000\" points=\"16275.7773,-87.6138 16265.2834,-86.155 16272.5772,-93.8395 16275.7773,-87.6138\"/>\n</g>\n<!-- 140284650569488 -->\n<g id=\"node303\" class=\"node\">\n<title>140284650569488</title>\n<polygon fill=\"#d3d3d3\" stroke=\"#000000\" points=\"16430,-201.5 16329,-201.5 16329,-182.5 16430,-182.5 16430,-201.5\"/>\n<text text-anchor=\"middle\" x=\"16379.5\" y=\"-189.5\" font-family=\"monospace\" font-size=\"10.00\" fill=\"#000000\">AccumulateGrad</text>\n</g>\n<!-- 140284650569488&#45;&gt;140284655334160 -->\n<g id=\"edge301\" class=\"edge\">\n<title>140284650569488&#45;&gt;140284655334160</title>\n<path fill=\"none\" stroke=\"#000000\" d=\"M16375.3227,-182.2796C16371.6676,-173.7746 16366.2507,-161.17 16361.7284,-150.6469\"/>\n<polygon fill=\"#000000\" stroke=\"#000000\" points=\"16364.9174,-149.2028 16357.7534,-141.3972 16358.4861,-151.9667 16364.9174,-149.2028\"/>\n</g>\n<!-- 140284649730768 -->\n<g id=\"node304\" class=\"node\">\n<title>140284649730768</title>\n<polygon fill=\"#add8e6\" stroke=\"#000000\" points=\"16533,-273 16294,-273 16294,-243 16533,-243 16533,-273\"/>\n<text text-anchor=\"middle\" x=\"16413.5\" y=\"-261\" font-family=\"monospace\" font-size=\"10.00\" fill=\"#000000\">MobileNet_convolutional_layer2.weight</text>\n<text text-anchor=\"middle\" x=\"16413.5\" y=\"-250\" font-family=\"monospace\" font-size=\"10.00\" fill=\"#000000\"> (10, 1024)</text>\n</g>\n<!-- 140284649730768&#45;&gt;140284650569488 -->\n<g id=\"edge302\" class=\"edge\">\n<title>140284649730768&#45;&gt;140284650569488</title>\n<path fill=\"none\" stroke=\"#000000\" d=\"M16405.6143,-242.6924C16400.7296,-233.2104 16394.4196,-220.9616 16389.226,-210.8798\"/>\n<polygon fill=\"#000000\" stroke=\"#000000\" points=\"16392.1896,-208.99 16384.4985,-201.7031 16385.9668,-212.1957 16392.1896,-208.99\"/>\n</g>\n</g>\n</svg>\n"
          },
          "metadata": {
            "tags": []
          }
        }
      ]
    },
    {
      "cell_type": "code",
      "metadata": {
        "colab": {
          "base_uri": "https://localhost:8080/"
        },
        "id": "--delmYHz9A1",
        "outputId": "f956eda0-3675-4170-934b-284258aa0166"
      },
      "source": [
        "#enumerating testdata with batch index of source and the target\n",
        "testdata_ex = enumerate(Testdata_Loader)\n",
        "batch_idx, (Val_ex_data, Val_ex_targets) = next(testdata_ex)\n",
        "#printing the shape of the indexed data\n",
        "print(Val_ex_data.shape)"
      ],
      "execution_count": 5,
      "outputs": [
        {
          "output_type": "stream",
          "text": [
            "torch.Size([32, 1, 96, 96])\n"
          ],
          "name": "stdout"
        }
      ]
    },
    {
      "cell_type": "markdown",
      "metadata": {
        "id": "PY-IhquoLnqd"
      },
      "source": [
        "##**Setting Hyperparameters**"
      ]
    },
    {
      "cell_type": "code",
      "metadata": {
        "id": "j4l9WyqDwVoS"
      },
      "source": [
        "#Initialization of Hyperparameters\n",
        "#Number of epochs\n",
        "EPOCHS = 10\n",
        "#Batch size and the learning rate\n",
        "batch_size= 32\n",
        "Learning_rate= 0.1\n",
        "#Loss Function\n",
        "Loss_criterion_function = torch.nn.CrossEntropyLoss()\n",
        "device =torch.device('cuda' if torch.cuda.is_available() else 'cpu')"
      ],
      "execution_count": 6,
      "outputs": []
    },
    {
      "cell_type": "code",
      "metadata": {
        "id": "Y22TMbheV4xV"
      },
      "source": [
        "#For storing the generated train and test accuracy and plotting\n",
        "def show_train_hist(hist, show=False, save=False, path='Train_hist.png'):\n",
        "    x = range(len(hist['train_accuracy']))\n",
        "    y1 = hist['train_accuracy']\n",
        "    y2 = hist['test_accuracy']\n",
        "    #plotting\n",
        "    plt.plot(x, y1, label='train_accuracy')\n",
        "    plt.plot(x, y2, label='test_accuracy')\n",
        "    plt.xlabel('Epoch')\n",
        "    plt.ylabel('Accuracy')\n",
        "    plt.legend(loc=4)\n",
        "    plt.grid(True)\n",
        "    plt.tight_layout()\n",
        "    #saving the generated outputs\n",
        "    if save:\n",
        "        plt.savefig(path)\n",
        "    if show:\n",
        "        plt.show()\n",
        "    else:\n",
        "        plt.close()"
      ],
      "execution_count": 7,
      "outputs": []
    },
    {
      "cell_type": "markdown",
      "metadata": {
        "id": "LJkEtMNiMAXy"
      },
      "source": [
        "##**Evaluation --> Training and Testing**"
      ]
    },
    {
      "cell_type": "code",
      "metadata": {
        "id": "dn0vWKVBW7wA"
      },
      "source": [
        "#Test Accuracy and loss Evaluation\n",
        "def Evaluate_Accuracy(dataset_eval_iteration, Network_arch, Loss_criterion_function, device=device): \n",
        "  #Evaluate accuracy of a model on the testset\n",
        "  #In evaluation mode, we will be using the dropout and normalization layers\n",
        "  testset_initial=len(dataset_eval_iteration.dataset)\n",
        "  test_loss=0\n",
        "  test_accuracy=0\n",
        "  Network_arch.eval()\n",
        "  with torch.no_grad():\n",
        "    for X, y in dataset_eval_iteration:\n",
        "        #transfer the produced data to the device\n",
        "        X = X.to(device)\n",
        "        y = y.to(device)   \n",
        "        outputs = Network_arch(X)\n",
        "        #calculating the test accuracy and loss and appending it                                                   \n",
        "        test_loss += Loss_criterion_function(outputs,y).item()                 \n",
        "        test_accuracy += (outputs.argmax(1) == y).type(torch.float).sum().item()  \n",
        "  test_accuracy = test_accuracy/testset_initial  \n",
        "  test_loss /= testset_initial\n",
        "  return test_accuracy, test_loss"
      ],
      "execution_count": 8,
      "outputs": []
    },
    {
      "cell_type": "code",
      "metadata": {
        "id": "_4LMgA9S06Re"
      },
      "source": [
        "#Cross validating the predicted values for plotting the confusion matrix and predict the correct and incorrect samples\n",
        "def Cross_validate_predicted_data(Network_arch, dataset_eval_iteration):\n",
        "    Data_pics_label = []\n",
        "    Data_pics_val = []\n",
        "    Network_arch.eval()\n",
        "    for X, y in dataset_eval_iteration:\n",
        "      X = X.to(device)\n",
        "      y = y.to(device)\n",
        "      prediction = Network_arch(X)\n",
        "      with torch.no_grad():\n",
        "            Final_predict = F.softmax(prediction, dim = -1)\n",
        "            Data_pics_label.append(y.cpu())\n",
        "            Data_pics_val.append(Final_predict.cpu())\n",
        "    out1 = torch.cat(Data_pics_label)\n",
        "    out2 = torch.cat(Data_pics_val)\n",
        "    return out1, out2"
      ],
      "execution_count": 9,
      "outputs": []
    },
    {
      "cell_type": "code",
      "metadata": {
        "colab": {
          "base_uri": "https://localhost:8080/"
        },
        "id": "vlxliRglwkbt",
        "outputId": "37a69f7a-e777-4dcb-a4c5-c5bc527e951b"
      },
      "source": [
        "#Training and Evaluating the model \n",
        "#Training is performed on the train dataset\n",
        "#Testing (Evaluation) is performed in the test dataset\n",
        "#Train and evaluate the model using the device GPU or else with CPU\n",
        "def training(Network_arch, Load_MNIST_traindata, Load_MNIST_testdata, Loss_criterion_function, EPOCHS, batch_size, device, Learning_rate=None):    \n",
        "    print(\"---------------------------------------------------\")\n",
        "    print(\"Model Training and Testing Start date:\", date)\n",
        "    print(\"Model Training and Testing starting time:\", Time)\n",
        "    print(\"---------------------------------------------------\")\n",
        "    print('MobileNet Architecture Training and Testing Begins!')\n",
        "    Network_arch.to(device)\n",
        "    #Initialization of the optimizer\n",
        "    optimizer = optim.SGD(Network_arch.parameters(), lr=Learning_rate)\n",
        "    #FOR CALCULATING THE EPOCHS\n",
        "    for Epoch in range(EPOCHS):\n",
        "        #Network is trained on the training mode\n",
        "        Network_arch.train()\n",
        "        cv = 0\n",
        "        ep_start = time.time()\n",
        "        Sum_training_Loss = torch.tensor([0.0], device=device)\n",
        "        Sum_training_Accuracy = torch.tensor([0.0], device=device)\n",
        "        #FOR CALCULATING THE TRAIN LOSS AND TRAIN ACCURACY\n",
        "        for X, y in Load_MNIST_traindata:\n",
        "            optimizer.zero_grad()\n",
        "            X = X.to(device) \n",
        "            y = y.to(device)\n",
        "            conv_y = Network_arch(X)\n",
        "            final_end_loss = Loss_criterion_function(conv_y, y)\n",
        "            final_end_loss.backward()\n",
        "            optimizer.step()\n",
        "            with torch.no_grad():\n",
        "                y = y.long()\n",
        "                Sum_training_Loss += final_end_loss.float()\n",
        "                Sum_training_Accuracy += (torch.sum((torch.argmax(conv_y, dim=1) == y))).float()\n",
        "                cv += y.shape[0]\n",
        "                final_loss = Sum_training_Loss/cv\n",
        "                final_train_accuracy = Sum_training_Accuracy/cv\n",
        "                #final_train_accuracy_out =final_train_accuracy.to('cpu').numpy()\n",
        "        #FOR CALCULATING THE TEST ACCURACY and loss\n",
        "        final_test_accuracy, final_test_loss = Evaluate_Accuracy(Load_MNIST_testdata, Network_arch, Loss_criterion_function, device) \n",
        "        Start_Time=datetime.now()\n",
        "        train_test_Start_Time = Start_Time.strftime(\"%H:%M:%S\")\n",
        "        print(\"-------------------------------------------------------------------------------------------------------------------------------------------\")\n",
        "        #print(f'Epoch_start_time: {train_test_Start_Time}')\n",
        "        print('Epoch--> %d\\t Train_Loss: %.4f\\t Train_Accuracy: %.2f\\t    Test_Loss: %.4f\\t  Test_Accuracy: %.2f\\t  Time_Duration: %.1f sec\\t' % (Epoch + 1, final_loss, final_train_accuracy*100, final_test_loss, final_test_accuracy*100, time.time() - ep_start))\n",
        "        print(\"-------------------------------------------------------------------------------------------------------------------------------------------\")\n",
        "        save_dir = './CV_miniproject_results/'\n",
        "        #Creating a folder to store the results\n",
        "        if not os.path.exists(save_dir):\n",
        "          os.mkdir(save_dir)\n",
        "        #Storing and tracking the outputs and plotting\n",
        "        train_hist = {}\n",
        "        train_hist['train_accuracy'] = []\n",
        "        train_hist['test_accuracy'] = []\n",
        "        train_hist['train_accuracy'].append(final_train_accuracy)\n",
        "        train_hist['test_accuracy'].append(final_test_accuracy)\n",
        "        #saving outputs to the created directory\n",
        "        with open(save_dir + '/train_hist.pkl', 'wb') as f:\n",
        "          pickle.dump(train_hist, f)\n",
        "        show_train_hist(train_hist, save=True, path=save_dir + '/CV_miniproject_Train_hist.png')\n",
        "\n",
        "#Training and evaluating the Network model \n",
        "MobileNet_History = training(Network_arch, Traindata_Loader, Testdata_Loader, Loss_criterion_function, EPOCHS, batch_size, device, Learning_rate)\n",
        "End_Time=datetime.now()\n",
        "end_date = End_Time.strftime(\"%d/%m/%Y\")\n",
        "end_time = End_Time.strftime(\"%H:%M:%S\")\n",
        "print('MobileNet Architecture Training and Testing Completed!')\n",
        "print(\"--------------------------------------------------\")\n",
        "print(\"Model Training and Testing End date:\", end_date)\n",
        "print(\"Model Training and Testing End time:\", end_time)\n",
        "print(\"--------------------------------------------------\")"
      ],
      "execution_count": 10,
      "outputs": [
        {
          "output_type": "stream",
          "text": [
            "---------------------------------------------------\n",
            "Model Training and Testing Start date: 17/05/2021\n",
            "Model Training and Testing starting time: 07:56:37\n",
            "---------------------------------------------------\n",
            "MobileNet Architecture Training and Testing Begins!\n",
            "-------------------------------------------------------------------------------------------------------------------------------------------\n",
            "Epoch--> 1\t Train_Loss: 0.0113\t Train_Accuracy: 90.17\t    Test_Loss: 0.0031\t  Test_Accuracy: 97.86\t  Time_Duration: 101.5 sec\t\n",
            "-------------------------------------------------------------------------------------------------------------------------------------------\n",
            "-------------------------------------------------------------------------------------------------------------------------------------------\n",
            "Epoch--> 2\t Train_Loss: 0.0033\t Train_Accuracy: 97.36\t    Test_Loss: 0.0020\t  Test_Accuracy: 98.59\t  Time_Duration: 101.5 sec\t\n",
            "-------------------------------------------------------------------------------------------------------------------------------------------\n",
            "-------------------------------------------------------------------------------------------------------------------------------------------\n",
            "Epoch--> 3\t Train_Loss: 0.0020\t Train_Accuracy: 98.24\t    Test_Loss: 0.0013\t  Test_Accuracy: 99.08\t  Time_Duration: 101.5 sec\t\n",
            "-------------------------------------------------------------------------------------------------------------------------------------------\n",
            "-------------------------------------------------------------------------------------------------------------------------------------------\n",
            "Epoch--> 4\t Train_Loss: 0.0017\t Train_Accuracy: 98.58\t    Test_Loss: 0.0014\t  Test_Accuracy: 99.11\t  Time_Duration: 101.5 sec\t\n",
            "-------------------------------------------------------------------------------------------------------------------------------------------\n",
            "-------------------------------------------------------------------------------------------------------------------------------------------\n",
            "Epoch--> 5\t Train_Loss: 0.0012\t Train_Accuracy: 98.98\t    Test_Loss: 0.0024\t  Test_Accuracy: 97.38\t  Time_Duration: 101.5 sec\t\n",
            "-------------------------------------------------------------------------------------------------------------------------------------------\n",
            "-------------------------------------------------------------------------------------------------------------------------------------------\n",
            "Epoch--> 6\t Train_Loss: 0.0010\t Train_Accuracy: 99.15\t    Test_Loss: 0.0011\t  Test_Accuracy: 99.09\t  Time_Duration: 102.1 sec\t\n",
            "-------------------------------------------------------------------------------------------------------------------------------------------\n",
            "-------------------------------------------------------------------------------------------------------------------------------------------\n",
            "Epoch--> 7\t Train_Loss: 0.0009\t Train_Accuracy: 99.23\t    Test_Loss: 0.0011\t  Test_Accuracy: 99.14\t  Time_Duration: 102.2 sec\t\n",
            "-------------------------------------------------------------------------------------------------------------------------------------------\n",
            "-------------------------------------------------------------------------------------------------------------------------------------------\n",
            "Epoch--> 8\t Train_Loss: 0.0007\t Train_Accuracy: 99.38\t    Test_Loss: 0.0012\t  Test_Accuracy: 99.16\t  Time_Duration: 102.2 sec\t\n",
            "-------------------------------------------------------------------------------------------------------------------------------------------\n",
            "-------------------------------------------------------------------------------------------------------------------------------------------\n",
            "Epoch--> 9\t Train_Loss: 0.0006\t Train_Accuracy: 99.46\t    Test_Loss: 0.0010\t  Test_Accuracy: 99.20\t  Time_Duration: 102.1 sec\t\n",
            "-------------------------------------------------------------------------------------------------------------------------------------------\n",
            "-------------------------------------------------------------------------------------------------------------------------------------------\n",
            "Epoch--> 10\t Train_Loss: 0.0007\t Train_Accuracy: 99.37\t    Test_Loss: 0.0009\t  Test_Accuracy: 99.29\t  Time_Duration: 102.1 sec\t\n",
            "-------------------------------------------------------------------------------------------------------------------------------------------\n",
            "MobileNet Architecture Training and Testing Completed!\n",
            "--------------------------------------------------\n",
            "Model Training and Testing End date: 17/05/2021\n",
            "Model Training and Testing End time: 08:13:56\n",
            "--------------------------------------------------\n"
          ],
          "name": "stdout"
        }
      ]
    },
    {
      "cell_type": "code",
      "metadata": {
        "id": "QI34R54P93QY",
        "colab": {
          "base_uri": "https://localhost:8080/"
        },
        "outputId": "ba7437da-1a34-42da-872e-ffa1cca487f8"
      },
      "source": [
        "#getting the output of the tensor(weights)\n",
        "with torch.no_grad():\n",
        "  Network_arch.to('cpu')\n",
        "  final_tensor_output = Network_arch(Val_ex_data)\n",
        "#printing the output\n",
        "print(final_tensor_output)"
      ],
      "execution_count": 11,
      "outputs": [
        {
          "output_type": "stream",
          "text": [
            "tensor([[-2.4011e+00, -6.0411e-01,  3.6806e+00,  5.3437e-01,  6.7274e-01,\n",
            "         -3.8091e+00, -5.9360e+00,  8.8522e+00, -1.1966e-01, -6.1479e-01],\n",
            "        [-3.7508e-02, -1.1293e+00,  8.6568e+00,  1.2436e-01,  4.1127e-01,\n",
            "         -2.1361e+00,  6.3540e-01, -1.6309e-01, -2.4040e+00, -3.5224e+00],\n",
            "        [ 1.4963e-01,  1.0098e+01, -2.6667e-01, -4.5307e-01, -2.8539e+00,\n",
            "          1.5721e+00,  1.2410e+00, -4.7596e+00, -8.6945e-01, -3.3963e+00],\n",
            "        [ 7.7793e+00, -1.8729e+00,  8.6379e-02, -4.7173e+00, -8.5409e-01,\n",
            "          8.0636e-01,  2.8584e+00, -2.8911e+00, -4.9864e-01,  3.5018e-01],\n",
            "        [-1.6386e+00, -5.2979e-01, -1.1928e+00, -2.4788e+00,  7.7061e+00,\n",
            "         -2.6795e+00, -1.8416e-01, -2.4900e+00,  3.5635e-01,  2.9247e+00],\n",
            "        [ 2.5686e-01,  1.1200e+01,  1.6499e+00, -2.5720e+00, -7.7353e-01,\n",
            "         -1.0858e+00, -3.1493e-01, -2.6591e+00, -1.4360e+00, -3.7963e+00],\n",
            "        [-2.5985e+00, -1.5677e+00, -8.1584e-01, -3.0669e+00,  9.4149e+00,\n",
            "         -2.7774e+00,  2.0729e+00, -4.4018e+00,  1.6461e+00,  1.8686e+00],\n",
            "        [-1.9434e+00, -2.3538e-03, -3.3777e+00,  1.1506e+00,  8.8934e-01,\n",
            "         -6.5989e-01, -5.5059e+00,  1.0215e+00,  4.1749e-01,  7.6215e+00],\n",
            "        [ 2.7031e-01, -1.1748e+00, -3.0619e+00,  7.0095e-01, -4.5392e+00,\n",
            "          7.8629e+00,  3.6781e+00, -4.3152e+00,  2.0961e+00, -1.0997e+00],\n",
            "        [-4.5131e-01, -1.7519e+00, -3.5796e+00, -8.2629e-01,  2.8078e+00,\n",
            "         -7.9455e-01, -5.2495e+00,  1.1087e+00, -4.5851e-01,  9.0972e+00],\n",
            "        [ 1.0435e+01, -1.4898e+00,  7.2405e-01, -2.1155e+00, -1.5786e+00,\n",
            "         -2.2542e+00, -1.1944e+00, -7.5064e-01, -1.7762e+00,  1.0012e+00],\n",
            "        [ 1.2117e+00, -1.3409e-01,  6.9427e-01, -4.4599e+00,  1.2542e+00,\n",
            "          1.0465e+00,  1.0411e+01, -6.6547e+00,  1.1900e+00, -4.2693e+00],\n",
            "        [-1.2620e+00, -7.9472e-01, -3.2396e+00, -3.0277e-02,  2.0736e+00,\n",
            "         -9.6444e-01, -5.1973e+00,  1.1377e+00,  1.4624e-01,  7.9472e+00],\n",
            "        [ 8.5499e+00, -3.0860e+00, -5.2334e-01, -3.0631e+00, -8.5705e-01,\n",
            "          8.6539e-01,  8.3681e-01, -9.3398e-01, -1.6313e+00,  1.4046e+00],\n",
            "        [-6.2006e-01,  8.0504e+00, -2.3691e+00,  3.8566e-01, -2.0457e+00,\n",
            "          2.0048e+00, -2.3821e-01, -2.7150e+00, -2.0053e+00, -1.5446e-01],\n",
            "        [-5.0481e-01,  4.9924e-01, -1.1832e+00,  2.6456e+00, -5.8205e+00,\n",
            "          8.3098e+00,  2.2102e+00, -2.9343e+00, -1.0542e+00, -1.8508e+00],\n",
            "        [-3.9624e-01, -1.2262e+00, -3.4996e+00, -7.5559e-01,  1.6911e+00,\n",
            "         -7.5872e-01, -5.5062e+00,  1.6289e+00, -1.3282e-01,  8.8334e+00],\n",
            "        [-5.5869e+00, -1.3759e-01,  6.3328e+00,  4.1038e+00, -2.9909e-01,\n",
            "         -4.9003e+00, -8.3803e+00,  1.2417e+01, -1.5290e+00, -1.6683e+00],\n",
            "        [-2.7290e+00, -1.1010e+00,  1.2813e+00,  5.5998e+00, -3.0557e+00,\n",
            "          7.6086e-01, -2.5678e+00, -3.9427e-01,  1.9865e+00, -4.8242e-01],\n",
            "        [-4.3094e+00,  4.4298e-01,  2.3741e+00, -4.1339e+00,  1.2919e+01,\n",
            "         -5.2641e+00,  1.1213e+00, -2.7931e+00, -9.1116e-01,  7.9280e-01],\n",
            "        [-1.1906e+00,  2.5858e-01, -3.7066e+00,  2.9022e-01,  1.1950e+00,\n",
            "         -6.3117e-01, -5.7389e+00,  1.4973e+00, -6.6723e-01,  8.4495e+00],\n",
            "        [ 2.2664e+00,  2.0008e-01,  8.2469e-02, -4.3005e+00, -1.4951e-01,\n",
            "          2.5201e+00,  1.0787e+01, -6.4227e+00, -2.0638e-01, -4.3660e+00],\n",
            "        [-8.1312e-01,  5.7278e-01,  6.2890e-01, -3.5540e+00,  2.2112e+00,\n",
            "          6.9466e-01,  9.3111e+00, -5.7196e+00,  6.5831e-01, -3.8898e+00],\n",
            "        [ 7.1796e-01,  3.5178e-01, -1.9488e+00,  1.4471e+00, -4.7587e+00,\n",
            "          7.2708e+00,  1.5355e+00, -2.4752e+00, -1.5014e+00, -2.3612e-01],\n",
            "        [-3.3991e+00,  6.1201e-01,  1.2339e+00, -3.5344e+00,  1.1234e+01,\n",
            "         -4.0937e+00,  1.8442e+00, -3.9610e+00, -7.3742e-01,  8.6983e-01],\n",
            "        [ 8.9676e+00, -3.0079e+00, -1.4614e-01, -3.4564e+00, -1.3589e+00,\n",
            "          1.6126e+00,  3.0029e+00, -2.8154e+00, -1.6124e+00,  2.9770e-01],\n",
            "        [-4.4788e+00, -1.3423e-01,  5.2919e+00,  3.0116e+00,  1.2685e-01,\n",
            "         -4.4603e+00, -7.2663e+00,  1.0580e+01, -1.2436e+00, -1.1769e+00],\n",
            "        [-3.7158e+00, -1.8663e+00,  1.3283e+00, -3.6095e+00,  1.1826e+01,\n",
            "         -3.9074e+00,  3.0738e+00, -4.4179e+00,  1.1126e-01,  9.3176e-01],\n",
            "        [ 8.0109e+00, -1.8868e+00, -1.1360e+00, -4.6696e+00, -7.9159e-01,\n",
            "          8.7251e-01,  6.6290e-01, -1.2582e+00, -6.0094e-01,  2.1286e+00],\n",
            "        [-2.1959e-01,  8.1823e+00,  7.6018e-01,  3.0430e-01, -2.2641e+00,\n",
            "         -1.0266e-03, -2.2536e+00, -1.1332e+00, -1.4837e+00, -1.4516e+00],\n",
            "        [-1.0690e+01, -3.0721e-01,  6.2600e+00,  1.8256e+01, -7.1352e+00,\n",
            "         -7.3550e-01, -9.2113e+00,  5.3696e+00,  7.0809e-01, -3.6155e+00],\n",
            "        [ 4.1277e-01,  9.6540e+00,  7.3558e-01, -2.7185e+00,  2.8799e-01,\n",
            "         -2.3084e+00, -3.9587e+00,  1.4870e+00, -2.5906e+00, -3.0752e-01]])\n"
          ],
          "name": "stdout"
        }
      ]
    },
    {
      "cell_type": "code",
      "metadata": {
        "id": "FpD3P8EPJjQy",
        "colab": {
          "base_uri": "https://localhost:8080/",
          "height": 336
        },
        "outputId": "531d2d96-cbde-49c0-85d3-9c2dce8a9dc2"
      },
      "source": [
        "#histogram for the tensor values\n",
        "sns.distplot(final_tensor_output)"
      ],
      "execution_count": 12,
      "outputs": [
        {
          "output_type": "stream",
          "text": [
            "/usr/local/lib/python3.7/dist-packages/seaborn/distributions.py:2557: FutureWarning: `distplot` is a deprecated function and will be removed in a future version. Please adapt your code to use either `displot` (a figure-level function with similar flexibility) or `histplot` (an axes-level function for histograms).\n",
            "  warnings.warn(msg, FutureWarning)\n"
          ],
          "name": "stderr"
        },
        {
          "output_type": "execute_result",
          "data": {
            "text/plain": [
              "<matplotlib.axes._subplots.AxesSubplot at 0x7f968609d650>"
            ]
          },
          "metadata": {
            "tags": []
          },
          "execution_count": 12
        },
        {
          "output_type": "display_data",
          "data": {
            "image/png": "[encoded data removed]",
            "text/plain": [
              "<Figure size 432x288 with 1 Axes>"
            ]
          },
          "metadata": {
            "tags": [],
            "needs_background": "light"
          }
        }
      ]
    },
    {
      "cell_type": "markdown",
      "metadata": {
        "id": "6Fwoy5BbNChV"
      },
      "source": [
        "##**Verification --> How well our Network predicts the data accurately**"
      ]
    },
    {
      "cell_type": "code",
      "metadata": {
        "id": "wt-1pB8ncjUB",
        "colab": {
          "base_uri": "https://localhost:8080/",
          "height": 117
        },
        "outputId": "45015065-0c5d-4ed2-9e4e-dcdda9c36fd5"
      },
      "source": [
        "#for testing our model after training, we have printed the classes of MNIST data for the groundtruth image \n",
        "#In the evaluation phase we printed the classes of MNIST data with their predicted class\n",
        "#we compare how correctly it predicted the classes between orginal and the predicted data\n",
        "MNIST_Class = ('0', '1', '2', '3', '4','5', '6', '7', '8', '9')\n",
        "device =torch.device('cpu')\n",
        "for X, y in Testdata_Loader:\n",
        "  X = X[:6]\n",
        "  y = y[:6] \n",
        "  def imshow(figure):\n",
        "    figure = figure\n",
        "    plt.xticks([])\n",
        "    plt.yticks([])\n",
        "    plt.tight_layout()\n",
        "    plt.imshow(np.transpose(figure.numpy(), (1,2,0)))\n",
        "    plt.show()\n",
        "#Plotting the Groundtruth image\n",
        "center = \"GROUNDTRUTH IMAGE\"\n",
        "print(\"{center:^10}\".format(center=center))\n",
        "imshow(make_grid(X))"
      ],
      "execution_count": 13,
      "outputs": [
        {
          "output_type": "stream",
          "text": [
            "GROUNDTRUTH IMAGE\n"
          ],
          "name": "stdout"
        },
        {
          "output_type": "display_data",
          "data": {
            "image/png": "[encoded data removed]",
            "text/plain": [
              "<Figure size 432x288 with 1 Axes>"
            ]
          },
          "metadata": {
            "tags": []
          }
        }
      ]
    },
    {
      "cell_type": "code",
      "metadata": {
        "colab": {
          "base_uri": "https://localhost:8080/"
        },
        "id": "hfjGktG1JbwS",
        "outputId": "62eea062-5b38-4850-eb46-fab48ebca6a7"
      },
      "source": [
        "#Getting the predicted classes\n",
        "Final_Out = Network_arch(X)\n",
        "_, prediction = torch.max(Final_Out, 1)\n",
        "#printing the classes of groundtruth data\n",
        "print(\"----------------------------------------\")\n",
        "print('Orginal images classes: ',' '.join(MNIST_Class[y[GT_data_out]] for GT_data_out in range(6)))\n",
        "print(\"----------------------------------------\")\n",
        "#printing the classes of prediction data\n",
        "print('Predicted images classes: ',' '.join(MNIST_Class[prediction[Pred_data_out]] for Pred_data_out in range(6)))\n",
        "print(\"----------------------------------------\")"
      ],
      "execution_count": 14,
      "outputs": [
        {
          "output_type": "stream",
          "text": [
            "----------------------------------------\n",
            "Orginal images classes:  1 2 3 4 5 6\n",
            "----------------------------------------\n",
            "Predicted images classes:  1 2 3 4 5 6\n",
            "----------------------------------------\n"
          ],
          "name": "stdout"
        }
      ]
    },
    {
      "cell_type": "code",
      "metadata": {
        "id": "tYx4VtMVcjQz",
        "colab": {
          "base_uri": "https://localhost:8080/"
        },
        "outputId": "2af100f3-a37f-40e7-fc68-e9e3c747d5b1"
      },
      "source": [
        "#Calculating the induvidual accuracy of Each classes defined\n",
        "accurate_class_pred = list(range(10))\n",
        "Combined_class_accurate = list(range(10))\n",
        "with torch.no_grad():\n",
        "    for X, y in Testdata_Loader:\n",
        "      X = X.to(device) \n",
        "      y = y.to(device)\n",
        "      Final_Out = Network_arch(X)\n",
        "      _, Induvidual_class_prediction = torch.max(Final_Out, 1)\n",
        "      CIF_out = (Induvidual_class_prediction == y)\n",
        "      for Induvidual_out in range(6):\n",
        "        accurate_class_pred[y[Induvidual_out]] += CIF_out[Induvidual_out].item()\n",
        "        Combined_class_accurate[y[Induvidual_out]] += 1 \n",
        "#Printing the accuracy of Each classes       \n",
        "for Induvidual_class_accuracy in range(10):\n",
        "  print(\"---------------------------\")\n",
        "  print('Accuracy of %5s : %d %%' % (MNIST_Class[Induvidual_class_accuracy], accurate_class_pred[Induvidual_class_accuracy] / Combined_class_accurate[Induvidual_class_accuracy] *100))\n",
        "  print(\"---------------------------\")"
      ],
      "execution_count": 15,
      "outputs": [
        {
          "output_type": "stream",
          "text": [
            "---------------------------\n",
            "Accuracy of     0 : 98 %\n",
            "---------------------------\n",
            "---------------------------\n",
            "Accuracy of     1 : 100 %\n",
            "---------------------------\n",
            "---------------------------\n",
            "Accuracy of     2 : 99 %\n",
            "---------------------------\n",
            "---------------------------\n",
            "Accuracy of     3 : 99 %\n",
            "---------------------------\n",
            "---------------------------\n",
            "Accuracy of     4 : 100 %\n",
            "---------------------------\n",
            "---------------------------\n",
            "Accuracy of     5 : 97 %\n",
            "---------------------------\n",
            "---------------------------\n",
            "Accuracy of     6 : 99 %\n",
            "---------------------------\n",
            "---------------------------\n",
            "Accuracy of     7 : 100 %\n",
            "---------------------------\n",
            "---------------------------\n",
            "Accuracy of     8 : 100 %\n",
            "---------------------------\n",
            "---------------------------\n",
            "Accuracy of     9 : 100 %\n",
            "---------------------------\n"
          ],
          "name": "stdout"
        }
      ]
    },
    {
      "cell_type": "code",
      "metadata": {
        "id": "4oaZInDw1Tvw"
      },
      "source": [
        "#Seperating the correct and incorrect predictions and appending it to a seperate list\n",
        "Correct_Data = []\n",
        "Incorrect_Data = []\n",
        "Label_for_pic, Prediction = Cross_validate_predicted_data(Network_arch, Testdata_Loader)\n",
        "Predicted_label = torch.argmax(Prediction, 1)\n",
        "MNIST_Classes = MNIST_testdata.classes\n",
        "Accurate_prediction = torch.eq(Label_for_pic, Predicted_label)\n",
        "for i, j, Correct_data_prediction in zip(Label_for_pic, Prediction, Accurate_prediction):\n",
        "    if Correct_data_prediction:\n",
        "      Correct_Data.append((i, j))\n",
        "    else:\n",
        "      Incorrect_Data.append((i, j))\n",
        "#Randomly sorting the samples\n",
        "Correct_Data.sort(key = lambda Correct_samples: torch.max(Correct_samples[1], -1).values)\n",
        "Incorrect_Data.sort(key = lambda Incorrect_samples: torch.max(Incorrect_samples[1], -1).values)"
      ],
      "execution_count": 16,
      "outputs": []
    },
    {
      "cell_type": "markdown",
      "metadata": {
        "id": "y8QqMkPt19Il"
      },
      "source": [
        "**Examples of Correct Predictions**"
      ]
    },
    {
      "cell_type": "code",
      "metadata": {
        "colab": {
          "base_uri": "https://localhost:8080/"
        },
        "id": "KohbCsbE1Tp4",
        "outputId": "9ada3f61-8856-4f27-cf8c-24016c3724bd"
      },
      "source": [
        "#Examples of Correct Prediction\n",
        "def Correct_Prediction(Correct_label_predict, MNIST_Classes):\n",
        "    for Sample in range(1*5):\n",
        "        Correct_Label, Prediction = Correct_label_predict[Sample]\n",
        "        Correct_pred, Correctly_predicted_label = torch.max(Prediction, -1)\n",
        "        Original_class = MNIST_Classes[Correct_Label]\n",
        "        Correctly_Predicted_class = MNIST_Classes[Correctly_predicted_label ]\n",
        "        print(\"------------------------------------\")\n",
        "        print(f'Orginal images class   :  {Original_class}')\n",
        "        print(\"------------------------------------\")\n",
        "        print(f'Predicted images class :  {Correctly_Predicted_class}')\n",
        "        print(\"------------------------------------\")\n",
        "Correct_Prediction(Correct_Data, MNIST_Classes)"
      ],
      "execution_count": 17,
      "outputs": [
        {
          "output_type": "stream",
          "text": [
            "------------------------------------\n",
            "Orginal images class   :  6 - six\n",
            "------------------------------------\n",
            "Predicted images class :  6 - six\n",
            "------------------------------------\n",
            "------------------------------------\n",
            "Orginal images class   :  3 - three\n",
            "------------------------------------\n",
            "Predicted images class :  3 - three\n",
            "------------------------------------\n",
            "------------------------------------\n",
            "Orginal images class   :  0 - zero\n",
            "------------------------------------\n",
            "Predicted images class :  0 - zero\n",
            "------------------------------------\n",
            "------------------------------------\n",
            "Orginal images class   :  5 - five\n",
            "------------------------------------\n",
            "Predicted images class :  5 - five\n",
            "------------------------------------\n",
            "------------------------------------\n",
            "Orginal images class   :  7 - seven\n",
            "------------------------------------\n",
            "Predicted images class :  7 - seven\n",
            "------------------------------------\n"
          ],
          "name": "stdout"
        }
      ]
    },
    {
      "cell_type": "markdown",
      "metadata": {
        "id": "CXHCtQ7a112S"
      },
      "source": [
        "**Examples of Incorrect Predictions**"
      ]
    },
    {
      "cell_type": "code",
      "metadata": {
        "colab": {
          "base_uri": "https://localhost:8080/"
        },
        "id": "52n0QXKH1Tjm",
        "outputId": "b15341c8-4119-4a09-c2a5-72954d158613"
      },
      "source": [
        "#Examples of Incorrect Prediction\n",
        "def Incorrect_Prediction(Incorrect_label_predict, MNIST_Classes):\n",
        "    for Sample in range(1*5):\n",
        "        Incorrect_Label, Prediction = Incorrect_label_predict[Sample]\n",
        "        Incorrect_pred, Incorrectly_predicted_label = torch.max(Prediction, -1)\n",
        "        Original_class = MNIST_Classes[Incorrect_Label]\n",
        "        Incorrectly_Predicted_class = MNIST_Classes[Incorrectly_predicted_label ]\n",
        "        print(\"------------------------------------\")\n",
        "        print(f'Orginal images class   :  {Original_class}')\n",
        "        print(\"------------------------------------\")\n",
        "        print(f'Predicted images class :  {Incorrectly_Predicted_class}')\n",
        "        print(\"------------------------------------\")\n",
        "Correct_Prediction(Incorrect_Data, MNIST_Classes)"
      ],
      "execution_count": 18,
      "outputs": [
        {
          "output_type": "stream",
          "text": [
            "------------------------------------\n",
            "Orginal images class   :  6 - six\n",
            "------------------------------------\n",
            "Predicted images class :  4 - four\n",
            "------------------------------------\n",
            "------------------------------------\n",
            "Orginal images class   :  8 - eight\n",
            "------------------------------------\n",
            "Predicted images class :  7 - seven\n",
            "------------------------------------\n",
            "------------------------------------\n",
            "Orginal images class   :  6 - six\n",
            "------------------------------------\n",
            "Predicted images class :  2 - two\n",
            "------------------------------------\n",
            "------------------------------------\n",
            "Orginal images class   :  3 - three\n",
            "------------------------------------\n",
            "Predicted images class :  8 - eight\n",
            "------------------------------------\n",
            "------------------------------------\n",
            "Orginal images class   :  8 - eight\n",
            "------------------------------------\n",
            "Predicted images class :  2 - two\n",
            "------------------------------------\n"
          ],
          "name": "stdout"
        }
      ]
    },
    {
      "cell_type": "markdown",
      "metadata": {
        "id": "a9-FshAq1tpb"
      },
      "source": [
        "**Confusion Matrix**"
      ]
    },
    {
      "cell_type": "code",
      "metadata": {
        "colab": {
          "base_uri": "https://localhost:8080/",
          "height": 689
        },
        "id": "5ZGO_Ja21Te-",
        "outputId": "391962d5-96b4-414c-a7fb-1a6d2b6f3eea"
      },
      "source": [
        "#Plotting the confusion matrix\n",
        "Figure = plt.figure(figsize=(12, 12))\n",
        "Axis = Figure.add_subplot(1, 1, 1)\n",
        "Confusion_Matrix = confusion_matrix(Label_for_pic, Predicted_label)\n",
        "Confusion_Heatmap_display = ConfusionMatrixDisplay(Confusion_Matrix, MNIST_Classes)\n",
        "Final_Heatmap_for_Predicted_data = Confusion_Heatmap_display.plot(ax=Axis, values_format='d', cmap = 'Greens')"
      ],
      "execution_count": 19,
      "outputs": [
        {
          "output_type": "display_data",
          "data": {
            "image/png": "[encoded data removed]",
            "text/plain": [
              "<Figure size 864x864 with 2 Axes>"
            ]
          },
          "metadata": {
            "tags": [],
            "needs_background": "light"
          }
        }
      ]
    },
    {
      "cell_type": "code",
      "metadata": {
        "id": "ppM7n8QwCkVW",
        "colab": {
          "base_uri": "https://localhost:8080/"
        },
        "outputId": "74e82f74-9b43-4377-adc9-a053dd86488e"
      },
      "source": [
        "#I have Executed the code in Google Colab pro. so that, I have printed the usage of gpu provided\n",
        "GPU_Usage_data = !nvidia-smi\n",
        "GPU_Usage_data  = '\\n'.join(GPU_Usage_data )\n",
        "if GPU_Usage_data .find('failed') >= 0:\n",
        "  print('Select the Runtime > \"Change runtime type\" menu to enable a GPU accelerator, ')\n",
        "  print('and then re-execute this cell.')\n",
        "else:\n",
        "  print(GPU_Usage_data )"
      ],
      "execution_count": 20,
      "outputs": [
        {
          "output_type": "stream",
          "text": [
            "Mon May 17 08:14:42 2021       \n",
            "+-----------------------------------------------------------------------------+\n",
            "| NVIDIA-SMI 465.19.01    Driver Version: 460.32.03    CUDA Version: 11.2     |\n",
            "|-------------------------------+----------------------+----------------------+\n",
            "| GPU  Name        Persistence-M| Bus-Id        Disp.A | Volatile Uncorr. ECC |\n",
            "| Fan  Temp  Perf  Pwr:Usage/Cap|         Memory-Usage | GPU-Util  Compute M. |\n",
            "|                               |                      |               MIG M. |\n",
            "|===============================+======================+======================|\n",
            "|   0  Tesla P100-PCIE...  Off  | 00000000:00:04.0 Off |                    0 |\n",
            "| N/A   55C    P0    38W / 250W |   1293MiB / 16280MiB |      0%      Default |\n",
            "|                               |                      |                  N/A |\n",
            "+-------------------------------+----------------------+----------------------+\n",
            "                                                                               \n",
            "+-----------------------------------------------------------------------------+\n",
            "| Processes:                                                                  |\n",
            "|  GPU   GI   CI        PID   Type   Process name                  GPU Memory |\n",
            "|        ID   ID                                                   Usage      |\n",
            "|=============================================================================|\n",
            "+-----------------------------------------------------------------------------+\n"
          ],
          "name": "stdout"
        }
      ]
    }
  ]
}