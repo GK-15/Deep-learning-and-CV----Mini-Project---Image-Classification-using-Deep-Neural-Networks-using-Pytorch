{
  "nbformat": 4,
  "nbformat_minor": 0,
  "metadata": {
    "accelerator": "GPU",
    "colab": {
      "name": "MiniProject_ResNet_MNIST_model_200434339_Ganesh_Kumaran_Masilamani.ipynb",
      "provenance": [],
      "collapsed_sections": [],
      "machine_shape": "hm"
    },
    "kernelspec": {
      "display_name": "Python 3",
      "name": "python3"
    },
    "widgets": {
      "application/vnd.jupyter.widget-state+json": {
        "2c8691adb8744960a9504ea15d978bd2": {
          "model_module": "@jupyter-widgets/controls",
          "model_name": "HBoxModel",
          "state": {
            "_view_name": "HBoxView",
            "_dom_classes": [],
            "_model_name": "HBoxModel",
            "_view_module": "@jupyter-widgets/controls",
            "_model_module_version": "1.5.0",
            "_view_count": null,
            "_view_module_version": "1.5.0",
            "box_style": "",
            "layout": "IPY_MODEL_cba37a471c934ca3a2e78ab438eddfe7",
            "_model_module": "@jupyter-widgets/controls",
            "children": [
              "IPY_MODEL_c0d97fc0cba446139438bd8acae15730",
              "IPY_MODEL_c6d5ee0a0af24497b1d8ca053a7a86fe"
            ]
          }
        },
        "cba37a471c934ca3a2e78ab438eddfe7": {
          "model_module": "@jupyter-widgets/base",
          "model_name": "LayoutModel",
          "state": {
            "_view_name": "LayoutView",
            "grid_template_rows": null,
            "right": null,
            "justify_content": null,
            "_view_module": "@jupyter-widgets/base",
            "overflow": null,
            "_model_module_version": "1.2.0",
            "_view_count": null,
            "flex_flow": null,
            "width": null,
            "min_width": null,
            "border": null,
            "align_items": null,
            "bottom": null,
            "_model_module": "@jupyter-widgets/base",
            "top": null,
            "grid_column": null,
            "overflow_y": null,
            "overflow_x": null,
            "grid_auto_flow": null,
            "grid_area": null,
            "grid_template_columns": null,
            "flex": null,
            "_model_name": "LayoutModel",
            "justify_items": null,
            "grid_row": null,
            "max_height": null,
            "align_content": null,
            "visibility": null,
            "align_self": null,
            "height": null,
            "min_height": null,
            "padding": null,
            "grid_auto_rows": null,
            "grid_gap": null,
            "max_width": null,
            "order": null,
            "_view_module_version": "1.2.0",
            "grid_template_areas": null,
            "object_position": null,
            "object_fit": null,
            "grid_auto_columns": null,
            "margin": null,
            "display": null,
            "left": null
          }
        },
        "c0d97fc0cba446139438bd8acae15730": {
          "model_module": "@jupyter-widgets/controls",
          "model_name": "FloatProgressModel",
          "state": {
            "_view_name": "ProgressView",
            "style": "IPY_MODEL_0a063ed23653499db9f7af7db01a6571",
            "_dom_classes": [],
            "description": "",
            "_model_name": "FloatProgressModel",
            "bar_style": "success",
            "max": 9912422,
            "_view_module": "@jupyter-widgets/controls",
            "_model_module_version": "1.5.0",
            "value": 9912422,
            "_view_count": null,
            "_view_module_version": "1.5.0",
            "orientation": "horizontal",
            "min": 0,
            "description_tooltip": null,
            "_model_module": "@jupyter-widgets/controls",
            "layout": "IPY_MODEL_fbc5fb2823684e2087e5ce78d3a3c0fd"
          }
        },
        "c6d5ee0a0af24497b1d8ca053a7a86fe": {
          "model_module": "@jupyter-widgets/controls",
          "model_name": "HTMLModel",
          "state": {
            "_view_name": "HTMLView",
            "style": "IPY_MODEL_908519b1906c413eb88af7403acb0ad2",
            "_dom_classes": [],
            "description": "",
            "_model_name": "HTMLModel",
            "placeholder": "​",
            "_view_module": "@jupyter-widgets/controls",
            "_model_module_version": "1.5.0",
            "value": " 9913344/? [06:00&lt;00:00, 27521.36it/s]",
            "_view_count": null,
            "_view_module_version": "1.5.0",
            "description_tooltip": null,
            "_model_module": "@jupyter-widgets/controls",
            "layout": "IPY_MODEL_40a248fcc63d4db48a1b014b7af1c34e"
          }
        },
        "0a063ed23653499db9f7af7db01a6571": {
          "model_module": "@jupyter-widgets/controls",
          "model_name": "ProgressStyleModel",
          "state": {
            "_view_name": "StyleView",
            "_model_name": "ProgressStyleModel",
            "description_width": "initial",
            "_view_module": "@jupyter-widgets/base",
            "_model_module_version": "1.5.0",
            "_view_count": null,
            "_view_module_version": "1.2.0",
            "bar_color": null,
            "_model_module": "@jupyter-widgets/controls"
          }
        },
        "fbc5fb2823684e2087e5ce78d3a3c0fd": {
          "model_module": "@jupyter-widgets/base",
          "model_name": "LayoutModel",
          "state": {
            "_view_name": "LayoutView",
            "grid_template_rows": null,
            "right": null,
            "justify_content": null,
            "_view_module": "@jupyter-widgets/base",
            "overflow": null,
            "_model_module_version": "1.2.0",
            "_view_count": null,
            "flex_flow": null,
            "width": null,
            "min_width": null,
            "border": null,
            "align_items": null,
            "bottom": null,
            "_model_module": "@jupyter-widgets/base",
            "top": null,
            "grid_column": null,
            "overflow_y": null,
            "overflow_x": null,
            "grid_auto_flow": null,
            "grid_area": null,
            "grid_template_columns": null,
            "flex": null,
            "_model_name": "LayoutModel",
            "justify_items": null,
            "grid_row": null,
            "max_height": null,
            "align_content": null,
            "visibility": null,
            "align_self": null,
            "height": null,
            "min_height": null,
            "padding": null,
            "grid_auto_rows": null,
            "grid_gap": null,
            "max_width": null,
            "order": null,
            "_view_module_version": "1.2.0",
            "grid_template_areas": null,
            "object_position": null,
            "object_fit": null,
            "grid_auto_columns": null,
            "margin": null,
            "display": null,
            "left": null
          }
        },
        "908519b1906c413eb88af7403acb0ad2": {
          "model_module": "@jupyter-widgets/controls",
          "model_name": "DescriptionStyleModel",
          "state": {
            "_view_name": "StyleView",
            "_model_name": "DescriptionStyleModel",
            "description_width": "",
            "_view_module": "@jupyter-widgets/base",
            "_model_module_version": "1.5.0",
            "_view_count": null,
            "_view_module_version": "1.2.0",
            "_model_module": "@jupyter-widgets/controls"
          }
        },
        "40a248fcc63d4db48a1b014b7af1c34e": {
          "model_module": "@jupyter-widgets/base",
          "model_name": "LayoutModel",
          "state": {
            "_view_name": "LayoutView",
            "grid_template_rows": null,
            "right": null,
            "justify_content": null,
            "_view_module": "@jupyter-widgets/base",
            "overflow": null,
            "_model_module_version": "1.2.0",
            "_view_count": null,
            "flex_flow": null,
            "width": null,
            "min_width": null,
            "border": null,
            "align_items": null,
            "bottom": null,
            "_model_module": "@jupyter-widgets/base",
            "top": null,
            "grid_column": null,
            "overflow_y": null,
            "overflow_x": null,
            "grid_auto_flow": null,
            "grid_area": null,
            "grid_template_columns": null,
            "flex": null,
            "_model_name": "LayoutModel",
            "justify_items": null,
            "grid_row": null,
            "max_height": null,
            "align_content": null,
            "visibility": null,
            "align_self": null,
            "height": null,
            "min_height": null,
            "padding": null,
            "grid_auto_rows": null,
            "grid_gap": null,
            "max_width": null,
            "order": null,
            "_view_module_version": "1.2.0",
            "grid_template_areas": null,
            "object_position": null,
            "object_fit": null,
            "grid_auto_columns": null,
            "margin": null,
            "display": null,
            "left": null
          }
        },
        "88d5610f4ee14c889f78dd7faf26f992": {
          "model_module": "@jupyter-widgets/controls",
          "model_name": "HBoxModel",
          "state": {
            "_view_name": "HBoxView",
            "_dom_classes": [],
            "_model_name": "HBoxModel",
            "_view_module": "@jupyter-widgets/controls",
            "_model_module_version": "1.5.0",
            "_view_count": null,
            "_view_module_version": "1.5.0",
            "box_style": "",
            "layout": "IPY_MODEL_b9e5624c26694ce296c32d45a5500b2b",
            "_model_module": "@jupyter-widgets/controls",
            "children": [
              "IPY_MODEL_b9fc4fc48c274d4083d2e1270a685390",
              "IPY_MODEL_2eea6663945b4d44bb80557745e74ea6"
            ]
          }
        },
        "b9e5624c26694ce296c32d45a5500b2b": {
          "model_module": "@jupyter-widgets/base",
          "model_name": "LayoutModel",
          "state": {
            "_view_name": "LayoutView",
            "grid_template_rows": null,
            "right": null,
            "justify_content": null,
            "_view_module": "@jupyter-widgets/base",
            "overflow": null,
            "_model_module_version": "1.2.0",
            "_view_count": null,
            "flex_flow": null,
            "width": null,
            "min_width": null,
            "border": null,
            "align_items": null,
            "bottom": null,
            "_model_module": "@jupyter-widgets/base",
            "top": null,
            "grid_column": null,
            "overflow_y": null,
            "overflow_x": null,
            "grid_auto_flow": null,
            "grid_area": null,
            "grid_template_columns": null,
            "flex": null,
            "_model_name": "LayoutModel",
            "justify_items": null,
            "grid_row": null,
            "max_height": null,
            "align_content": null,
            "visibility": null,
            "align_self": null,
            "height": null,
            "min_height": null,
            "padding": null,
            "grid_auto_rows": null,
            "grid_gap": null,
            "max_width": null,
            "order": null,
            "_view_module_version": "1.2.0",
            "grid_template_areas": null,
            "object_position": null,
            "object_fit": null,
            "grid_auto_columns": null,
            "margin": null,
            "display": null,
            "left": null
          }
        },
        "b9fc4fc48c274d4083d2e1270a685390": {
          "model_module": "@jupyter-widgets/controls",
          "model_name": "FloatProgressModel",
          "state": {
            "_view_name": "ProgressView",
            "style": "IPY_MODEL_49fe22fb766d4f6fb22de7fe570ef41f",
            "_dom_classes": [],
            "description": "",
            "_model_name": "FloatProgressModel",
            "bar_style": "success",
            "max": 28881,
            "_view_module": "@jupyter-widgets/controls",
            "_model_module_version": "1.5.0",
            "value": 28881,
            "_view_count": null,
            "_view_module_version": "1.5.0",
            "orientation": "horizontal",
            "min": 0,
            "description_tooltip": null,
            "_model_module": "@jupyter-widgets/controls",
            "layout": "IPY_MODEL_2d9c20765da142b6a0bfe3f9fa75d86c"
          }
        },
        "2eea6663945b4d44bb80557745e74ea6": {
          "model_module": "@jupyter-widgets/controls",
          "model_name": "HTMLModel",
          "state": {
            "_view_name": "HTMLView",
            "style": "IPY_MODEL_9958bdf4537e4ff18ab95926b9005b19",
            "_dom_classes": [],
            "description": "",
            "_model_name": "HTMLModel",
            "placeholder": "​",
            "_view_module": "@jupyter-widgets/controls",
            "_model_module_version": "1.5.0",
            "value": " 29696/? [00:01&lt;00:00, 28942.80it/s]",
            "_view_count": null,
            "_view_module_version": "1.5.0",
            "description_tooltip": null,
            "_model_module": "@jupyter-widgets/controls",
            "layout": "IPY_MODEL_7c4f1f6eb9b545a48114ca58c0ce8354"
          }
        },
        "49fe22fb766d4f6fb22de7fe570ef41f": {
          "model_module": "@jupyter-widgets/controls",
          "model_name": "ProgressStyleModel",
          "state": {
            "_view_name": "StyleView",
            "_model_name": "ProgressStyleModel",
            "description_width": "initial",
            "_view_module": "@jupyter-widgets/base",
            "_model_module_version": "1.5.0",
            "_view_count": null,
            "_view_module_version": "1.2.0",
            "bar_color": null,
            "_model_module": "@jupyter-widgets/controls"
          }
        },
        "2d9c20765da142b6a0bfe3f9fa75d86c": {
          "model_module": "@jupyter-widgets/base",
          "model_name": "LayoutModel",
          "state": {
            "_view_name": "LayoutView",
            "grid_template_rows": null,
            "right": null,
            "justify_content": null,
            "_view_module": "@jupyter-widgets/base",
            "overflow": null,
            "_model_module_version": "1.2.0",
            "_view_count": null,
            "flex_flow": null,
            "width": null,
            "min_width": null,
            "border": null,
            "align_items": null,
            "bottom": null,
            "_model_module": "@jupyter-widgets/base",
            "top": null,
            "grid_column": null,
            "overflow_y": null,
            "overflow_x": null,
            "grid_auto_flow": null,
            "grid_area": null,
            "grid_template_columns": null,
            "flex": null,
            "_model_name": "LayoutModel",
            "justify_items": null,
            "grid_row": null,
            "max_height": null,
            "align_content": null,
            "visibility": null,
            "align_self": null,
            "height": null,
            "min_height": null,
            "padding": null,
            "grid_auto_rows": null,
            "grid_gap": null,
            "max_width": null,
            "order": null,
            "_view_module_version": "1.2.0",
            "grid_template_areas": null,
            "object_position": null,
            "object_fit": null,
            "grid_auto_columns": null,
            "margin": null,
            "display": null,
            "left": null
          }
        },
        "9958bdf4537e4ff18ab95926b9005b19": {
          "model_module": "@jupyter-widgets/controls",
          "model_name": "DescriptionStyleModel",
          "state": {
            "_view_name": "StyleView",
            "_model_name": "DescriptionStyleModel",
            "description_width": "",
            "_view_module": "@jupyter-widgets/base",
            "_model_module_version": "1.5.0",
            "_view_count": null,
            "_view_module_version": "1.2.0",
            "_model_module": "@jupyter-widgets/controls"
          }
        },
        "7c4f1f6eb9b545a48114ca58c0ce8354": {
          "model_module": "@jupyter-widgets/base",
          "model_name": "LayoutModel",
          "state": {
            "_view_name": "LayoutView",
            "grid_template_rows": null,
            "right": null,
            "justify_content": null,
            "_view_module": "@jupyter-widgets/base",
            "overflow": null,
            "_model_module_version": "1.2.0",
            "_view_count": null,
            "flex_flow": null,
            "width": null,
            "min_width": null,
            "border": null,
            "align_items": null,
            "bottom": null,
            "_model_module": "@jupyter-widgets/base",
            "top": null,
            "grid_column": null,
            "overflow_y": null,
            "overflow_x": null,
            "grid_auto_flow": null,
            "grid_area": null,
            "grid_template_columns": null,
            "flex": null,
            "_model_name": "LayoutModel",
            "justify_items": null,
            "grid_row": null,
            "max_height": null,
            "align_content": null,
            "visibility": null,
            "align_self": null,
            "height": null,
            "min_height": null,
            "padding": null,
            "grid_auto_rows": null,
            "grid_gap": null,
            "max_width": null,
            "order": null,
            "_view_module_version": "1.2.0",
            "grid_template_areas": null,
            "object_position": null,
            "object_fit": null,
            "grid_auto_columns": null,
            "margin": null,
            "display": null,
            "left": null
          }
        },
        "f1025426f4d14edab7af93e40d1c5ba9": {
          "model_module": "@jupyter-widgets/controls",
          "model_name": "HBoxModel",
          "state": {
            "_view_name": "HBoxView",
            "_dom_classes": [],
            "_model_name": "HBoxModel",
            "_view_module": "@jupyter-widgets/controls",
            "_model_module_version": "1.5.0",
            "_view_count": null,
            "_view_module_version": "1.5.0",
            "box_style": "",
            "layout": "IPY_MODEL_7adb341a7f784ab491daa9776b6a779e",
            "_model_module": "@jupyter-widgets/controls",
            "children": [
              "IPY_MODEL_9e9ff337eea64089b9f97d84969336b4",
              "IPY_MODEL_605ca24a9b6b4e10b089107ebd1c0f98"
            ]
          }
        },
        "7adb341a7f784ab491daa9776b6a779e": {
          "model_module": "@jupyter-widgets/base",
          "model_name": "LayoutModel",
          "state": {
            "_view_name": "LayoutView",
            "grid_template_rows": null,
            "right": null,
            "justify_content": null,
            "_view_module": "@jupyter-widgets/base",
            "overflow": null,
            "_model_module_version": "1.2.0",
            "_view_count": null,
            "flex_flow": null,
            "width": null,
            "min_width": null,
            "border": null,
            "align_items": null,
            "bottom": null,
            "_model_module": "@jupyter-widgets/base",
            "top": null,
            "grid_column": null,
            "overflow_y": null,
            "overflow_x": null,
            "grid_auto_flow": null,
            "grid_area": null,
            "grid_template_columns": null,
            "flex": null,
            "_model_name": "LayoutModel",
            "justify_items": null,
            "grid_row": null,
            "max_height": null,
            "align_content": null,
            "visibility": null,
            "align_self": null,
            "height": null,
            "min_height": null,
            "padding": null,
            "grid_auto_rows": null,
            "grid_gap": null,
            "max_width": null,
            "order": null,
            "_view_module_version": "1.2.0",
            "grid_template_areas": null,
            "object_position": null,
            "object_fit": null,
            "grid_auto_columns": null,
            "margin": null,
            "display": null,
            "left": null
          }
        },
        "9e9ff337eea64089b9f97d84969336b4": {
          "model_module": "@jupyter-widgets/controls",
          "model_name": "FloatProgressModel",
          "state": {
            "_view_name": "ProgressView",
            "style": "IPY_MODEL_b11204ccd5d94180b6662c072a9bce1a",
            "_dom_classes": [],
            "description": "",
            "_model_name": "FloatProgressModel",
            "bar_style": "success",
            "max": 1648877,
            "_view_module": "@jupyter-widgets/controls",
            "_model_module_version": "1.5.0",
            "value": 1648877,
            "_view_count": null,
            "_view_module_version": "1.5.0",
            "orientation": "horizontal",
            "min": 0,
            "description_tooltip": null,
            "_model_module": "@jupyter-widgets/controls",
            "layout": "IPY_MODEL_d44ce1527e8749488228b507c275f5bc"
          }
        },
        "605ca24a9b6b4e10b089107ebd1c0f98": {
          "model_module": "@jupyter-widgets/controls",
          "model_name": "HTMLModel",
          "state": {
            "_view_name": "HTMLView",
            "style": "IPY_MODEL_92a184774d3c4959aa6bf35fd8edf6f8",
            "_dom_classes": [],
            "description": "",
            "_model_name": "HTMLModel",
            "placeholder": "​",
            "_view_module": "@jupyter-widgets/controls",
            "_model_module_version": "1.5.0",
            "value": " 1649664/? [00:00&lt;00:00, 3858437.00it/s]",
            "_view_count": null,
            "_view_module_version": "1.5.0",
            "description_tooltip": null,
            "_model_module": "@jupyter-widgets/controls",
            "layout": "IPY_MODEL_87a9f9c6793a464fa6ae1588beed3f71"
          }
        },
        "b11204ccd5d94180b6662c072a9bce1a": {
          "model_module": "@jupyter-widgets/controls",
          "model_name": "ProgressStyleModel",
          "state": {
            "_view_name": "StyleView",
            "_model_name": "ProgressStyleModel",
            "description_width": "initial",
            "_view_module": "@jupyter-widgets/base",
            "_model_module_version": "1.5.0",
            "_view_count": null,
            "_view_module_version": "1.2.0",
            "bar_color": null,
            "_model_module": "@jupyter-widgets/controls"
          }
        },
        "d44ce1527e8749488228b507c275f5bc": {
          "model_module": "@jupyter-widgets/base",
          "model_name": "LayoutModel",
          "state": {
            "_view_name": "LayoutView",
            "grid_template_rows": null,
            "right": null,
            "justify_content": null,
            "_view_module": "@jupyter-widgets/base",
            "overflow": null,
            "_model_module_version": "1.2.0",
            "_view_count": null,
            "flex_flow": null,
            "width": null,
            "min_width": null,
            "border": null,
            "align_items": null,
            "bottom": null,
            "_model_module": "@jupyter-widgets/base",
            "top": null,
            "grid_column": null,
            "overflow_y": null,
            "overflow_x": null,
            "grid_auto_flow": null,
            "grid_area": null,
            "grid_template_columns": null,
            "flex": null,
            "_model_name": "LayoutModel",
            "justify_items": null,
            "grid_row": null,
            "max_height": null,
            "align_content": null,
            "visibility": null,
            "align_self": null,
            "height": null,
            "min_height": null,
            "padding": null,
            "grid_auto_rows": null,
            "grid_gap": null,
            "max_width": null,
            "order": null,
            "_view_module_version": "1.2.0",
            "grid_template_areas": null,
            "object_position": null,
            "object_fit": null,
            "grid_auto_columns": null,
            "margin": null,
            "display": null,
            "left": null
          }
        },
        "92a184774d3c4959aa6bf35fd8edf6f8": {
          "model_module": "@jupyter-widgets/controls",
          "model_name": "DescriptionStyleModel",
          "state": {
            "_view_name": "StyleView",
            "_model_name": "DescriptionStyleModel",
            "description_width": "",
            "_view_module": "@jupyter-widgets/base",
            "_model_module_version": "1.5.0",
            "_view_count": null,
            "_view_module_version": "1.2.0",
            "_model_module": "@jupyter-widgets/controls"
          }
        },
        "87a9f9c6793a464fa6ae1588beed3f71": {
          "model_module": "@jupyter-widgets/base",
          "model_name": "LayoutModel",
          "state": {
            "_view_name": "LayoutView",
            "grid_template_rows": null,
            "right": null,
            "justify_content": null,
            "_view_module": "@jupyter-widgets/base",
            "overflow": null,
            "_model_module_version": "1.2.0",
            "_view_count": null,
            "flex_flow": null,
            "width": null,
            "min_width": null,
            "border": null,
            "align_items": null,
            "bottom": null,
            "_model_module": "@jupyter-widgets/base",
            "top": null,
            "grid_column": null,
            "overflow_y": null,
            "overflow_x": null,
            "grid_auto_flow": null,
            "grid_area": null,
            "grid_template_columns": null,
            "flex": null,
            "_model_name": "LayoutModel",
            "justify_items": null,
            "grid_row": null,
            "max_height": null,
            "align_content": null,
            "visibility": null,
            "align_self": null,
            "height": null,
            "min_height": null,
            "padding": null,
            "grid_auto_rows": null,
            "grid_gap": null,
            "max_width": null,
            "order": null,
            "_view_module_version": "1.2.0",
            "grid_template_areas": null,
            "object_position": null,
            "object_fit": null,
            "grid_auto_columns": null,
            "margin": null,
            "display": null,
            "left": null
          }
        },
        "d482f8edeceb4a1fb0a53826f312ace3": {
          "model_module": "@jupyter-widgets/controls",
          "model_name": "HBoxModel",
          "state": {
            "_view_name": "HBoxView",
            "_dom_classes": [],
            "_model_name": "HBoxModel",
            "_view_module": "@jupyter-widgets/controls",
            "_model_module_version": "1.5.0",
            "_view_count": null,
            "_view_module_version": "1.5.0",
            "box_style": "",
            "layout": "IPY_MODEL_b3fe73e2c1b348d8a66b5921d625b31f",
            "_model_module": "@jupyter-widgets/controls",
            "children": [
              "IPY_MODEL_6aeda31c25bc467cafe87e8ccf05aadc",
              "IPY_MODEL_9376425ad11a4da38d51754188ce5f7f"
            ]
          }
        },
        "b3fe73e2c1b348d8a66b5921d625b31f": {
          "model_module": "@jupyter-widgets/base",
          "model_name": "LayoutModel",
          "state": {
            "_view_name": "LayoutView",
            "grid_template_rows": null,
            "right": null,
            "justify_content": null,
            "_view_module": "@jupyter-widgets/base",
            "overflow": null,
            "_model_module_version": "1.2.0",
            "_view_count": null,
            "flex_flow": null,
            "width": null,
            "min_width": null,
            "border": null,
            "align_items": null,
            "bottom": null,
            "_model_module": "@jupyter-widgets/base",
            "top": null,
            "grid_column": null,
            "overflow_y": null,
            "overflow_x": null,
            "grid_auto_flow": null,
            "grid_area": null,
            "grid_template_columns": null,
            "flex": null,
            "_model_name": "LayoutModel",
            "justify_items": null,
            "grid_row": null,
            "max_height": null,
            "align_content": null,
            "visibility": null,
            "align_self": null,
            "height": null,
            "min_height": null,
            "padding": null,
            "grid_auto_rows": null,
            "grid_gap": null,
            "max_width": null,
            "order": null,
            "_view_module_version": "1.2.0",
            "grid_template_areas": null,
            "object_position": null,
            "object_fit": null,
            "grid_auto_columns": null,
            "margin": null,
            "display": null,
            "left": null
          }
        },
        "6aeda31c25bc467cafe87e8ccf05aadc": {
          "model_module": "@jupyter-widgets/controls",
          "model_name": "FloatProgressModel",
          "state": {
            "_view_name": "ProgressView",
            "style": "IPY_MODEL_6afa74e8584b4dd796c33d10fd1b8b6e",
            "_dom_classes": [],
            "description": "",
            "_model_name": "FloatProgressModel",
            "bar_style": "success",
            "max": 4542,
            "_view_module": "@jupyter-widgets/controls",
            "_model_module_version": "1.5.0",
            "value": 4542,
            "_view_count": null,
            "_view_module_version": "1.5.0",
            "orientation": "horizontal",
            "min": 0,
            "description_tooltip": null,
            "_model_module": "@jupyter-widgets/controls",
            "layout": "IPY_MODEL_88aaea89c20b4b70afecdcb247f4a1af"
          }
        },
        "9376425ad11a4da38d51754188ce5f7f": {
          "model_module": "@jupyter-widgets/controls",
          "model_name": "HTMLModel",
          "state": {
            "_view_name": "HTMLView",
            "style": "IPY_MODEL_8a57939a49d54b93ba68bbad4785e003",
            "_dom_classes": [],
            "description": "",
            "_model_name": "HTMLModel",
            "placeholder": "​",
            "_view_module": "@jupyter-widgets/controls",
            "_model_module_version": "1.5.0",
            "value": " 5120/? [00:52&lt;00:00, 97.56it/s]",
            "_view_count": null,
            "_view_module_version": "1.5.0",
            "description_tooltip": null,
            "_model_module": "@jupyter-widgets/controls",
            "layout": "IPY_MODEL_8e114037d8d84158906683d6825a14a4"
          }
        },
        "6afa74e8584b4dd796c33d10fd1b8b6e": {
          "model_module": "@jupyter-widgets/controls",
          "model_name": "ProgressStyleModel",
          "state": {
            "_view_name": "StyleView",
            "_model_name": "ProgressStyleModel",
            "description_width": "initial",
            "_view_module": "@jupyter-widgets/base",
            "_model_module_version": "1.5.0",
            "_view_count": null,
            "_view_module_version": "1.2.0",
            "bar_color": null,
            "_model_module": "@jupyter-widgets/controls"
          }
        },
        "88aaea89c20b4b70afecdcb247f4a1af": {
          "model_module": "@jupyter-widgets/base",
          "model_name": "LayoutModel",
          "state": {
            "_view_name": "LayoutView",
            "grid_template_rows": null,
            "right": null,
            "justify_content": null,
            "_view_module": "@jupyter-widgets/base",
            "overflow": null,
            "_model_module_version": "1.2.0",
            "_view_count": null,
            "flex_flow": null,
            "width": null,
            "min_width": null,
            "border": null,
            "align_items": null,
            "bottom": null,
            "_model_module": "@jupyter-widgets/base",
            "top": null,
            "grid_column": null,
            "overflow_y": null,
            "overflow_x": null,
            "grid_auto_flow": null,
            "grid_area": null,
            "grid_template_columns": null,
            "flex": null,
            "_model_name": "LayoutModel",
            "justify_items": null,
            "grid_row": null,
            "max_height": null,
            "align_content": null,
            "visibility": null,
            "align_self": null,
            "height": null,
            "min_height": null,
            "padding": null,
            "grid_auto_rows": null,
            "grid_gap": null,
            "max_width": null,
            "order": null,
            "_view_module_version": "1.2.0",
            "grid_template_areas": null,
            "object_position": null,
            "object_fit": null,
            "grid_auto_columns": null,
            "margin": null,
            "display": null,
            "left": null
          }
        },
        "8a57939a49d54b93ba68bbad4785e003": {
          "model_module": "@jupyter-widgets/controls",
          "model_name": "DescriptionStyleModel",
          "state": {
            "_view_name": "StyleView",
            "_model_name": "DescriptionStyleModel",
            "description_width": "",
            "_view_module": "@jupyter-widgets/base",
            "_model_module_version": "1.5.0",
            "_view_count": null,
            "_view_module_version": "1.2.0",
            "_model_module": "@jupyter-widgets/controls"
          }
        },
        "8e114037d8d84158906683d6825a14a4": {
          "model_module": "@jupyter-widgets/base",
          "model_name": "LayoutModel",
          "state": {
            "_view_name": "LayoutView",
            "grid_template_rows": null,
            "right": null,
            "justify_content": null,
            "_view_module": "@jupyter-widgets/base",
            "overflow": null,
            "_model_module_version": "1.2.0",
            "_view_count": null,
            "flex_flow": null,
            "width": null,
            "min_width": null,
            "border": null,
            "align_items": null,
            "bottom": null,
            "_model_module": "@jupyter-widgets/base",
            "top": null,
            "grid_column": null,
            "overflow_y": null,
            "overflow_x": null,
            "grid_auto_flow": null,
            "grid_area": null,
            "grid_template_columns": null,
            "flex": null,
            "_model_name": "LayoutModel",
            "justify_items": null,
            "grid_row": null,
            "max_height": null,
            "align_content": null,
            "visibility": null,
            "align_self": null,
            "height": null,
            "min_height": null,
            "padding": null,
            "grid_auto_rows": null,
            "grid_gap": null,
            "max_width": null,
            "order": null,
            "_view_module_version": "1.2.0",
            "grid_template_areas": null,
            "object_position": null,
            "object_fit": null,
            "grid_auto_columns": null,
            "margin": null,
            "display": null,
            "left": null
          }
        },
        "eecc1bf74af94849a087dddf0780a3e7": {
          "model_module": "@jupyter-widgets/controls",
          "model_name": "HBoxModel",
          "state": {
            "_view_name": "HBoxView",
            "_dom_classes": [],
            "_model_name": "HBoxModel",
            "_view_module": "@jupyter-widgets/controls",
            "_model_module_version": "1.5.0",
            "_view_count": null,
            "_view_module_version": "1.5.0",
            "box_style": "",
            "layout": "IPY_MODEL_84622bb02cd44cd69200c9acb1b0fa62",
            "_model_module": "@jupyter-widgets/controls",
            "children": [
              "IPY_MODEL_820f1cce31e34f51aa8b0c009064eee3",
              "IPY_MODEL_90d189c7fa0b44e693fc1fb429d230c2"
            ]
          }
        },
        "84622bb02cd44cd69200c9acb1b0fa62": {
          "model_module": "@jupyter-widgets/base",
          "model_name": "LayoutModel",
          "state": {
            "_view_name": "LayoutView",
            "grid_template_rows": null,
            "right": null,
            "justify_content": null,
            "_view_module": "@jupyter-widgets/base",
            "overflow": null,
            "_model_module_version": "1.2.0",
            "_view_count": null,
            "flex_flow": null,
            "width": null,
            "min_width": null,
            "border": null,
            "align_items": null,
            "bottom": null,
            "_model_module": "@jupyter-widgets/base",
            "top": null,
            "grid_column": null,
            "overflow_y": null,
            "overflow_x": null,
            "grid_auto_flow": null,
            "grid_area": null,
            "grid_template_columns": null,
            "flex": null,
            "_model_name": "LayoutModel",
            "justify_items": null,
            "grid_row": null,
            "max_height": null,
            "align_content": null,
            "visibility": null,
            "align_self": null,
            "height": null,
            "min_height": null,
            "padding": null,
            "grid_auto_rows": null,
            "grid_gap": null,
            "max_width": null,
            "order": null,
            "_view_module_version": "1.2.0",
            "grid_template_areas": null,
            "object_position": null,
            "object_fit": null,
            "grid_auto_columns": null,
            "margin": null,
            "display": null,
            "left": null
          }
        },
        "820f1cce31e34f51aa8b0c009064eee3": {
          "model_module": "@jupyter-widgets/controls",
          "model_name": "FloatProgressModel",
          "state": {
            "_view_name": "ProgressView",
            "style": "IPY_MODEL_9dce519469c64a8a8d679f7a2513346f",
            "_dom_classes": [],
            "description": "",
            "_model_name": "FloatProgressModel",
            "bar_style": "success",
            "max": 9912422,
            "_view_module": "@jupyter-widgets/controls",
            "_model_module_version": "1.5.0",
            "value": 9912422,
            "_view_count": null,
            "_view_module_version": "1.5.0",
            "orientation": "horizontal",
            "min": 0,
            "description_tooltip": null,
            "_model_module": "@jupyter-widgets/controls",
            "layout": "IPY_MODEL_81f842c765b64278b590ca2db1f5e660"
          }
        },
        "90d189c7fa0b44e693fc1fb429d230c2": {
          "model_module": "@jupyter-widgets/controls",
          "model_name": "HTMLModel",
          "state": {
            "_view_name": "HTMLView",
            "style": "IPY_MODEL_e8272ca67c7d41d8b4dd5241a33172a7",
            "_dom_classes": [],
            "description": "",
            "_model_name": "HTMLModel",
            "placeholder": "​",
            "_view_module": "@jupyter-widgets/controls",
            "_model_module_version": "1.5.0",
            "value": " 9913344/? [00:01&lt;00:00, 8708299.46it/s]",
            "_view_count": null,
            "_view_module_version": "1.5.0",
            "description_tooltip": null,
            "_model_module": "@jupyter-widgets/controls",
            "layout": "IPY_MODEL_86fe509550304f0a94cf86ad0ba4bd9d"
          }
        },
        "9dce519469c64a8a8d679f7a2513346f": {
          "model_module": "@jupyter-widgets/controls",
          "model_name": "ProgressStyleModel",
          "state": {
            "_view_name": "StyleView",
            "_model_name": "ProgressStyleModel",
            "description_width": "initial",
            "_view_module": "@jupyter-widgets/base",
            "_model_module_version": "1.5.0",
            "_view_count": null,
            "_view_module_version": "1.2.0",
            "bar_color": null,
            "_model_module": "@jupyter-widgets/controls"
          }
        },
        "81f842c765b64278b590ca2db1f5e660": {
          "model_module": "@jupyter-widgets/base",
          "model_name": "LayoutModel",
          "state": {
            "_view_name": "LayoutView",
            "grid_template_rows": null,
            "right": null,
            "justify_content": null,
            "_view_module": "@jupyter-widgets/base",
            "overflow": null,
            "_model_module_version": "1.2.0",
            "_view_count": null,
            "flex_flow": null,
            "width": null,
            "min_width": null,
            "border": null,
            "align_items": null,
            "bottom": null,
            "_model_module": "@jupyter-widgets/base",
            "top": null,
            "grid_column": null,
            "overflow_y": null,
            "overflow_x": null,
            "grid_auto_flow": null,
            "grid_area": null,
            "grid_template_columns": null,
            "flex": null,
            "_model_name": "LayoutModel",
            "justify_items": null,
            "grid_row": null,
            "max_height": null,
            "align_content": null,
            "visibility": null,
            "align_self": null,
            "height": null,
            "min_height": null,
            "padding": null,
            "grid_auto_rows": null,
            "grid_gap": null,
            "max_width": null,
            "order": null,
            "_view_module_version": "1.2.0",
            "grid_template_areas": null,
            "object_position": null,
            "object_fit": null,
            "grid_auto_columns": null,
            "margin": null,
            "display": null,
            "left": null
          }
        },
        "e8272ca67c7d41d8b4dd5241a33172a7": {
          "model_module": "@jupyter-widgets/controls",
          "model_name": "DescriptionStyleModel",
          "state": {
            "_view_name": "StyleView",
            "_model_name": "DescriptionStyleModel",
            "description_width": "",
            "_view_module": "@jupyter-widgets/base",
            "_model_module_version": "1.5.0",
            "_view_count": null,
            "_view_module_version": "1.2.0",
            "_model_module": "@jupyter-widgets/controls"
          }
        },
        "86fe509550304f0a94cf86ad0ba4bd9d": {
          "model_module": "@jupyter-widgets/base",
          "model_name": "LayoutModel",
          "state": {
            "_view_name": "LayoutView",
            "grid_template_rows": null,
            "right": null,
            "justify_content": null,
            "_view_module": "@jupyter-widgets/base",
            "overflow": null,
            "_model_module_version": "1.2.0",
            "_view_count": null,
            "flex_flow": null,
            "width": null,
            "min_width": null,
            "border": null,
            "align_items": null,
            "bottom": null,
            "_model_module": "@jupyter-widgets/base",
            "top": null,
            "grid_column": null,
            "overflow_y": null,
            "overflow_x": null,
            "grid_auto_flow": null,
            "grid_area": null,
            "grid_template_columns": null,
            "flex": null,
            "_model_name": "LayoutModel",
            "justify_items": null,
            "grid_row": null,
            "max_height": null,
            "align_content": null,
            "visibility": null,
            "align_self": null,
            "height": null,
            "min_height": null,
            "padding": null,
            "grid_auto_rows": null,
            "grid_gap": null,
            "max_width": null,
            "order": null,
            "_view_module_version": "1.2.0",
            "grid_template_areas": null,
            "object_position": null,
            "object_fit": null,
            "grid_auto_columns": null,
            "margin": null,
            "display": null,
            "left": null
          }
        },
        "78889e985eaa41bba7e96d169d0df330": {
          "model_module": "@jupyter-widgets/controls",
          "model_name": "HBoxModel",
          "state": {
            "_view_name": "HBoxView",
            "_dom_classes": [],
            "_model_name": "HBoxModel",
            "_view_module": "@jupyter-widgets/controls",
            "_model_module_version": "1.5.0",
            "_view_count": null,
            "_view_module_version": "1.5.0",
            "box_style": "",
            "layout": "IPY_MODEL_cd3b0565f9454dacb45859ae1695c450",
            "_model_module": "@jupyter-widgets/controls",
            "children": [
              "IPY_MODEL_c6102512ae74460fa9d031f734225ecc",
              "IPY_MODEL_73827b3b80ef4e3888b671947a0f86b2"
            ]
          }
        },
        "cd3b0565f9454dacb45859ae1695c450": {
          "model_module": "@jupyter-widgets/base",
          "model_name": "LayoutModel",
          "state": {
            "_view_name": "LayoutView",
            "grid_template_rows": null,
            "right": null,
            "justify_content": null,
            "_view_module": "@jupyter-widgets/base",
            "overflow": null,
            "_model_module_version": "1.2.0",
            "_view_count": null,
            "flex_flow": null,
            "width": null,
            "min_width": null,
            "border": null,
            "align_items": null,
            "bottom": null,
            "_model_module": "@jupyter-widgets/base",
            "top": null,
            "grid_column": null,
            "overflow_y": null,
            "overflow_x": null,
            "grid_auto_flow": null,
            "grid_area": null,
            "grid_template_columns": null,
            "flex": null,
            "_model_name": "LayoutModel",
            "justify_items": null,
            "grid_row": null,
            "max_height": null,
            "align_content": null,
            "visibility": null,
            "align_self": null,
            "height": null,
            "min_height": null,
            "padding": null,
            "grid_auto_rows": null,
            "grid_gap": null,
            "max_width": null,
            "order": null,
            "_view_module_version": "1.2.0",
            "grid_template_areas": null,
            "object_position": null,
            "object_fit": null,
            "grid_auto_columns": null,
            "margin": null,
            "display": null,
            "left": null
          }
        },
        "c6102512ae74460fa9d031f734225ecc": {
          "model_module": "@jupyter-widgets/controls",
          "model_name": "FloatProgressModel",
          "state": {
            "_view_name": "ProgressView",
            "style": "IPY_MODEL_21e5201f4f7e4504a1d3aa065c576e4a",
            "_dom_classes": [],
            "description": "",
            "_model_name": "FloatProgressModel",
            "bar_style": "success",
            "max": 28881,
            "_view_module": "@jupyter-widgets/controls",
            "_model_module_version": "1.5.0",
            "value": 28881,
            "_view_count": null,
            "_view_module_version": "1.5.0",
            "orientation": "horizontal",
            "min": 0,
            "description_tooltip": null,
            "_model_module": "@jupyter-widgets/controls",
            "layout": "IPY_MODEL_66cf126d846347358e85774ebed967ce"
          }
        },
        "73827b3b80ef4e3888b671947a0f86b2": {
          "model_module": "@jupyter-widgets/controls",
          "model_name": "HTMLModel",
          "state": {
            "_view_name": "HTMLView",
            "style": "IPY_MODEL_b51c14e2a3ed49b0b90bafaaa1f01043",
            "_dom_classes": [],
            "description": "",
            "_model_name": "HTMLModel",
            "placeholder": "​",
            "_view_module": "@jupyter-widgets/controls",
            "_model_module_version": "1.5.0",
            "value": " 29696/? [00:00&lt;00:00, 117204.84it/s]",
            "_view_count": null,
            "_view_module_version": "1.5.0",
            "description_tooltip": null,
            "_model_module": "@jupyter-widgets/controls",
            "layout": "IPY_MODEL_33a93c57f482413ab3ab03f12630514b"
          }
        },
        "21e5201f4f7e4504a1d3aa065c576e4a": {
          "model_module": "@jupyter-widgets/controls",
          "model_name": "ProgressStyleModel",
          "state": {
            "_view_name": "StyleView",
            "_model_name": "ProgressStyleModel",
            "description_width": "initial",
            "_view_module": "@jupyter-widgets/base",
            "_model_module_version": "1.5.0",
            "_view_count": null,
            "_view_module_version": "1.2.0",
            "bar_color": null,
            "_model_module": "@jupyter-widgets/controls"
          }
        },
        "66cf126d846347358e85774ebed967ce": {
          "model_module": "@jupyter-widgets/base",
          "model_name": "LayoutModel",
          "state": {
            "_view_name": "LayoutView",
            "grid_template_rows": null,
            "right": null,
            "justify_content": null,
            "_view_module": "@jupyter-widgets/base",
            "overflow": null,
            "_model_module_version": "1.2.0",
            "_view_count": null,
            "flex_flow": null,
            "width": null,
            "min_width": null,
            "border": null,
            "align_items": null,
            "bottom": null,
            "_model_module": "@jupyter-widgets/base",
            "top": null,
            "grid_column": null,
            "overflow_y": null,
            "overflow_x": null,
            "grid_auto_flow": null,
            "grid_area": null,
            "grid_template_columns": null,
            "flex": null,
            "_model_name": "LayoutModel",
            "justify_items": null,
            "grid_row": null,
            "max_height": null,
            "align_content": null,
            "visibility": null,
            "align_self": null,
            "height": null,
            "min_height": null,
            "padding": null,
            "grid_auto_rows": null,
            "grid_gap": null,
            "max_width": null,
            "order": null,
            "_view_module_version": "1.2.0",
            "grid_template_areas": null,
            "object_position": null,
            "object_fit": null,
            "grid_auto_columns": null,
            "margin": null,
            "display": null,
            "left": null
          }
        },
        "b51c14e2a3ed49b0b90bafaaa1f01043": {
          "model_module": "@jupyter-widgets/controls",
          "model_name": "DescriptionStyleModel",
          "state": {
            "_view_name": "StyleView",
            "_model_name": "DescriptionStyleModel",
            "description_width": "",
            "_view_module": "@jupyter-widgets/base",
            "_model_module_version": "1.5.0",
            "_view_count": null,
            "_view_module_version": "1.2.0",
            "_model_module": "@jupyter-widgets/controls"
          }
        },
        "33a93c57f482413ab3ab03f12630514b": {
          "model_module": "@jupyter-widgets/base",
          "model_name": "LayoutModel",
          "state": {
            "_view_name": "LayoutView",
            "grid_template_rows": null,
            "right": null,
            "justify_content": null,
            "_view_module": "@jupyter-widgets/base",
            "overflow": null,
            "_model_module_version": "1.2.0",
            "_view_count": null,
            "flex_flow": null,
            "width": null,
            "min_width": null,
            "border": null,
            "align_items": null,
            "bottom": null,
            "_model_module": "@jupyter-widgets/base",
            "top": null,
            "grid_column": null,
            "overflow_y": null,
            "overflow_x": null,
            "grid_auto_flow": null,
            "grid_area": null,
            "grid_template_columns": null,
            "flex": null,
            "_model_name": "LayoutModel",
            "justify_items": null,
            "grid_row": null,
            "max_height": null,
            "align_content": null,
            "visibility": null,
            "align_self": null,
            "height": null,
            "min_height": null,
            "padding": null,
            "grid_auto_rows": null,
            "grid_gap": null,
            "max_width": null,
            "order": null,
            "_view_module_version": "1.2.0",
            "grid_template_areas": null,
            "object_position": null,
            "object_fit": null,
            "grid_auto_columns": null,
            "margin": null,
            "display": null,
            "left": null
          }
        },
        "8a32206414c3496d82579486248ed670": {
          "model_module": "@jupyter-widgets/controls",
          "model_name": "HBoxModel",
          "state": {
            "_view_name": "HBoxView",
            "_dom_classes": [],
            "_model_name": "HBoxModel",
            "_view_module": "@jupyter-widgets/controls",
            "_model_module_version": "1.5.0",
            "_view_count": null,
            "_view_module_version": "1.5.0",
            "box_style": "",
            "layout": "IPY_MODEL_2d8eec0a7952487198703588b9c388f2",
            "_model_module": "@jupyter-widgets/controls",
            "children": [
              "IPY_MODEL_63a09f2fc6bf4f3e946882fcf35e9b21",
              "IPY_MODEL_02856aa7eac24324973e499b0a1e42ec"
            ]
          }
        },
        "2d8eec0a7952487198703588b9c388f2": {
          "model_module": "@jupyter-widgets/base",
          "model_name": "LayoutModel",
          "state": {
            "_view_name": "LayoutView",
            "grid_template_rows": null,
            "right": null,
            "justify_content": null,
            "_view_module": "@jupyter-widgets/base",
            "overflow": null,
            "_model_module_version": "1.2.0",
            "_view_count": null,
            "flex_flow": null,
            "width": null,
            "min_width": null,
            "border": null,
            "align_items": null,
            "bottom": null,
            "_model_module": "@jupyter-widgets/base",
            "top": null,
            "grid_column": null,
            "overflow_y": null,
            "overflow_x": null,
            "grid_auto_flow": null,
            "grid_area": null,
            "grid_template_columns": null,
            "flex": null,
            "_model_name": "LayoutModel",
            "justify_items": null,
            "grid_row": null,
            "max_height": null,
            "align_content": null,
            "visibility": null,
            "align_self": null,
            "height": null,
            "min_height": null,
            "padding": null,
            "grid_auto_rows": null,
            "grid_gap": null,
            "max_width": null,
            "order": null,
            "_view_module_version": "1.2.0",
            "grid_template_areas": null,
            "object_position": null,
            "object_fit": null,
            "grid_auto_columns": null,
            "margin": null,
            "display": null,
            "left": null
          }
        },
        "63a09f2fc6bf4f3e946882fcf35e9b21": {
          "model_module": "@jupyter-widgets/controls",
          "model_name": "FloatProgressModel",
          "state": {
            "_view_name": "ProgressView",
            "style": "IPY_MODEL_a3abb5fbc6e144e69f8932a0b6b3f82c",
            "_dom_classes": [],
            "description": "",
            "_model_name": "FloatProgressModel",
            "bar_style": "success",
            "max": 1648877,
            "_view_module": "@jupyter-widgets/controls",
            "_model_module_version": "1.5.0",
            "value": 1648877,
            "_view_count": null,
            "_view_module_version": "1.5.0",
            "orientation": "horizontal",
            "min": 0,
            "description_tooltip": null,
            "_model_module": "@jupyter-widgets/controls",
            "layout": "IPY_MODEL_2fdb5ef0c4f74c27986a4e0cd7d9ba71"
          }
        },
        "02856aa7eac24324973e499b0a1e42ec": {
          "model_module": "@jupyter-widgets/controls",
          "model_name": "HTMLModel",
          "state": {
            "_view_name": "HTMLView",
            "style": "IPY_MODEL_bf5c7bdbba464273b92448bc4f1249ed",
            "_dom_classes": [],
            "description": "",
            "_model_name": "HTMLModel",
            "placeholder": "​",
            "_view_module": "@jupyter-widgets/controls",
            "_model_module_version": "1.5.0",
            "value": " 1649664/? [00:50&lt;00:00, 32584.10it/s]",
            "_view_count": null,
            "_view_module_version": "1.5.0",
            "description_tooltip": null,
            "_model_module": "@jupyter-widgets/controls",
            "layout": "IPY_MODEL_170f786f95224f4989ada04262d1447c"
          }
        },
        "a3abb5fbc6e144e69f8932a0b6b3f82c": {
          "model_module": "@jupyter-widgets/controls",
          "model_name": "ProgressStyleModel",
          "state": {
            "_view_name": "StyleView",
            "_model_name": "ProgressStyleModel",
            "description_width": "initial",
            "_view_module": "@jupyter-widgets/base",
            "_model_module_version": "1.5.0",
            "_view_count": null,
            "_view_module_version": "1.2.0",
            "bar_color": null,
            "_model_module": "@jupyter-widgets/controls"
          }
        },
        "2fdb5ef0c4f74c27986a4e0cd7d9ba71": {
          "model_module": "@jupyter-widgets/base",
          "model_name": "LayoutModel",
          "state": {
            "_view_name": "LayoutView",
            "grid_template_rows": null,
            "right": null,
            "justify_content": null,
            "_view_module": "@jupyter-widgets/base",
            "overflow": null,
            "_model_module_version": "1.2.0",
            "_view_count": null,
            "flex_flow": null,
            "width": null,
            "min_width": null,
            "border": null,
            "align_items": null,
            "bottom": null,
            "_model_module": "@jupyter-widgets/base",
            "top": null,
            "grid_column": null,
            "overflow_y": null,
            "overflow_x": null,
            "grid_auto_flow": null,
            "grid_area": null,
            "grid_template_columns": null,
            "flex": null,
            "_model_name": "LayoutModel",
            "justify_items": null,
            "grid_row": null,
            "max_height": null,
            "align_content": null,
            "visibility": null,
            "align_self": null,
            "height": null,
            "min_height": null,
            "padding": null,
            "grid_auto_rows": null,
            "grid_gap": null,
            "max_width": null,
            "order": null,
            "_view_module_version": "1.2.0",
            "grid_template_areas": null,
            "object_position": null,
            "object_fit": null,
            "grid_auto_columns": null,
            "margin": null,
            "display": null,
            "left": null
          }
        },
        "bf5c7bdbba464273b92448bc4f1249ed": {
          "model_module": "@jupyter-widgets/controls",
          "model_name": "DescriptionStyleModel",
          "state": {
            "_view_name": "StyleView",
            "_model_name": "DescriptionStyleModel",
            "description_width": "",
            "_view_module": "@jupyter-widgets/base",
            "_model_module_version": "1.5.0",
            "_view_count": null,
            "_view_module_version": "1.2.0",
            "_model_module": "@jupyter-widgets/controls"
          }
        },
        "170f786f95224f4989ada04262d1447c": {
          "model_module": "@jupyter-widgets/base",
          "model_name": "LayoutModel",
          "state": {
            "_view_name": "LayoutView",
            "grid_template_rows": null,
            "right": null,
            "justify_content": null,
            "_view_module": "@jupyter-widgets/base",
            "overflow": null,
            "_model_module_version": "1.2.0",
            "_view_count": null,
            "flex_flow": null,
            "width": null,
            "min_width": null,
            "border": null,
            "align_items": null,
            "bottom": null,
            "_model_module": "@jupyter-widgets/base",
            "top": null,
            "grid_column": null,
            "overflow_y": null,
            "overflow_x": null,
            "grid_auto_flow": null,
            "grid_area": null,
            "grid_template_columns": null,
            "flex": null,
            "_model_name": "LayoutModel",
            "justify_items": null,
            "grid_row": null,
            "max_height": null,
            "align_content": null,
            "visibility": null,
            "align_self": null,
            "height": null,
            "min_height": null,
            "padding": null,
            "grid_auto_rows": null,
            "grid_gap": null,
            "max_width": null,
            "order": null,
            "_view_module_version": "1.2.0",
            "grid_template_areas": null,
            "object_position": null,
            "object_fit": null,
            "grid_auto_columns": null,
            "margin": null,
            "display": null,
            "left": null
          }
        },
        "e856ebe5ba8c4dbe8f0d01c7af6b332d": {
          "model_module": "@jupyter-widgets/controls",
          "model_name": "HBoxModel",
          "state": {
            "_view_name": "HBoxView",
            "_dom_classes": [],
            "_model_name": "HBoxModel",
            "_view_module": "@jupyter-widgets/controls",
            "_model_module_version": "1.5.0",
            "_view_count": null,
            "_view_module_version": "1.5.0",
            "box_style": "",
            "layout": "IPY_MODEL_28c494ddc91944cb822f8f22dfa1a9dd",
            "_model_module": "@jupyter-widgets/controls",
            "children": [
              "IPY_MODEL_70b39f5f04c545d48f93fb19e4fe6b77",
              "IPY_MODEL_eb6a45c63f2044398e665045b0aa45a8"
            ]
          }
        },
        "28c494ddc91944cb822f8f22dfa1a9dd": {
          "model_module": "@jupyter-widgets/base",
          "model_name": "LayoutModel",
          "state": {
            "_view_name": "LayoutView",
            "grid_template_rows": null,
            "right": null,
            "justify_content": null,
            "_view_module": "@jupyter-widgets/base",
            "overflow": null,
            "_model_module_version": "1.2.0",
            "_view_count": null,
            "flex_flow": null,
            "width": null,
            "min_width": null,
            "border": null,
            "align_items": null,
            "bottom": null,
            "_model_module": "@jupyter-widgets/base",
            "top": null,
            "grid_column": null,
            "overflow_y": null,
            "overflow_x": null,
            "grid_auto_flow": null,
            "grid_area": null,
            "grid_template_columns": null,
            "flex": null,
            "_model_name": "LayoutModel",
            "justify_items": null,
            "grid_row": null,
            "max_height": null,
            "align_content": null,
            "visibility": null,
            "align_self": null,
            "height": null,
            "min_height": null,
            "padding": null,
            "grid_auto_rows": null,
            "grid_gap": null,
            "max_width": null,
            "order": null,
            "_view_module_version": "1.2.0",
            "grid_template_areas": null,
            "object_position": null,
            "object_fit": null,
            "grid_auto_columns": null,
            "margin": null,
            "display": null,
            "left": null
          }
        },
        "70b39f5f04c545d48f93fb19e4fe6b77": {
          "model_module": "@jupyter-widgets/controls",
          "model_name": "FloatProgressModel",
          "state": {
            "_view_name": "ProgressView",
            "style": "IPY_MODEL_45a72a1643e34205ae8d320310cc548e",
            "_dom_classes": [],
            "description": "",
            "_model_name": "FloatProgressModel",
            "bar_style": "success",
            "max": 4542,
            "_view_module": "@jupyter-widgets/controls",
            "_model_module_version": "1.5.0",
            "value": 4542,
            "_view_count": null,
            "_view_module_version": "1.5.0",
            "orientation": "horizontal",
            "min": 0,
            "description_tooltip": null,
            "_model_module": "@jupyter-widgets/controls",
            "layout": "IPY_MODEL_50efe786ec9841d98014d7c4fd6ae41b"
          }
        },
        "eb6a45c63f2044398e665045b0aa45a8": {
          "model_module": "@jupyter-widgets/controls",
          "model_name": "HTMLModel",
          "state": {
            "_view_name": "HTMLView",
            "style": "IPY_MODEL_b590060e77a84a41a6167ba7b1f2cd5c",
            "_dom_classes": [],
            "description": "",
            "_model_name": "HTMLModel",
            "placeholder": "​",
            "_view_module": "@jupyter-widgets/controls",
            "_model_module_version": "1.5.0",
            "value": " 5120/? [00:00&lt;00:00, 20809.23it/s]",
            "_view_count": null,
            "_view_module_version": "1.5.0",
            "description_tooltip": null,
            "_model_module": "@jupyter-widgets/controls",
            "layout": "IPY_MODEL_e86bde11462b43399e5916ecf3d62dae"
          }
        },
        "45a72a1643e34205ae8d320310cc548e": {
          "model_module": "@jupyter-widgets/controls",
          "model_name": "ProgressStyleModel",
          "state": {
            "_view_name": "StyleView",
            "_model_name": "ProgressStyleModel",
            "description_width": "initial",
            "_view_module": "@jupyter-widgets/base",
            "_model_module_version": "1.5.0",
            "_view_count": null,
            "_view_module_version": "1.2.0",
            "bar_color": null,
            "_model_module": "@jupyter-widgets/controls"
          }
        },
        "50efe786ec9841d98014d7c4fd6ae41b": {
          "model_module": "@jupyter-widgets/base",
          "model_name": "LayoutModel",
          "state": {
            "_view_name": "LayoutView",
            "grid_template_rows": null,
            "right": null,
            "justify_content": null,
            "_view_module": "@jupyter-widgets/base",
            "overflow": null,
            "_model_module_version": "1.2.0",
            "_view_count": null,
            "flex_flow": null,
            "width": null,
            "min_width": null,
            "border": null,
            "align_items": null,
            "bottom": null,
            "_model_module": "@jupyter-widgets/base",
            "top": null,
            "grid_column": null,
            "overflow_y": null,
            "overflow_x": null,
            "grid_auto_flow": null,
            "grid_area": null,
            "grid_template_columns": null,
            "flex": null,
            "_model_name": "LayoutModel",
            "justify_items": null,
            "grid_row": null,
            "max_height": null,
            "align_content": null,
            "visibility": null,
            "align_self": null,
            "height": null,
            "min_height": null,
            "padding": null,
            "grid_auto_rows": null,
            "grid_gap": null,
            "max_width": null,
            "order": null,
            "_view_module_version": "1.2.0",
            "grid_template_areas": null,
            "object_position": null,
            "object_fit": null,
            "grid_auto_columns": null,
            "margin": null,
            "display": null,
            "left": null
          }
        },
        "b590060e77a84a41a6167ba7b1f2cd5c": {
          "model_module": "@jupyter-widgets/controls",
          "model_name": "DescriptionStyleModel",
          "state": {
            "_view_name": "StyleView",
            "_model_name": "DescriptionStyleModel",
            "description_width": "",
            "_view_module": "@jupyter-widgets/base",
            "_model_module_version": "1.5.0",
            "_view_count": null,
            "_view_module_version": "1.2.0",
            "_model_module": "@jupyter-widgets/controls"
          }
        },
        "e86bde11462b43399e5916ecf3d62dae": {
          "model_module": "@jupyter-widgets/base",
          "model_name": "LayoutModel",
          "state": {
            "_view_name": "LayoutView",
            "grid_template_rows": null,
            "right": null,
            "justify_content": null,
            "_view_module": "@jupyter-widgets/base",
            "overflow": null,
            "_model_module_version": "1.2.0",
            "_view_count": null,
            "flex_flow": null,
            "width": null,
            "min_width": null,
            "border": null,
            "align_items": null,
            "bottom": null,
            "_model_module": "@jupyter-widgets/base",
            "top": null,
            "grid_column": null,
            "overflow_y": null,
            "overflow_x": null,
            "grid_auto_flow": null,
            "grid_area": null,
            "grid_template_columns": null,
            "flex": null,
            "_model_name": "LayoutModel",
            "justify_items": null,
            "grid_row": null,
            "max_height": null,
            "align_content": null,
            "visibility": null,
            "align_self": null,
            "height": null,
            "min_height": null,
            "padding": null,
            "grid_auto_rows": null,
            "grid_gap": null,
            "max_width": null,
            "order": null,
            "_view_module_version": "1.2.0",
            "grid_template_areas": null,
            "object_position": null,
            "object_fit": null,
            "grid_auto_columns": null,
            "margin": null,
            "display": null,
            "left": null
          }
        }
      }
    }
  },
  "cells": [
    {
      "cell_type": "markdown",
      "metadata": {
        "id": "bgLcrQPzs-Lp"
      },
      "source": [
        "#**Deep Learning and Computer Vision - Mini Project**"
      ]
    },
    {
      "cell_type": "markdown",
      "metadata": {
        "id": "PW-XRI5Ps-KV"
      },
      "source": [
        "**NAME** - Ganesh Kumaran Masilamani\n",
        "\n",
        "**STUDENT NUMBER** - 200434339\n",
        "\n",
        "**PROJECT TITLE** - Deep Neural Networks for Image Classification"
      ]
    },
    {
      "cell_type": "markdown",
      "metadata": {
        "id": "rZYkZqJrs-Hr"
      },
      "source": [
        "###**In this Notebook we will be using ResNet Architecture as our deep Network to do image classification in MNIST dataset.**\n",
        "\n",
        "#**DEEP NETWORK MODEL-2 --> RESNET**"
      ]
    },
    {
      "cell_type": "code",
      "metadata": {
        "colab": {
          "base_uri": "https://localhost:8080/"
        },
        "id": "fMcruYVWuPXa",
        "outputId": "4ff3a32d-e5c1-40d2-c556-34864a5a0a89"
      },
      "source": [
        "#Libraries Imported\n",
        "import time\n",
        "import os\n",
        "import numpy as np\n",
        "import torch\n",
        "import torch.nn as nn\n",
        "import torch.optim as optim\n",
        "import torch.nn.functional as F\n",
        "from torchvision.utils import make_grid\n",
        "import torchvision\n",
        "from torchvision import datasets\n",
        "from torchvision import transforms\n",
        "import matplotlib.pyplot as plt\n",
        "import seaborn as sns\n",
        "sns.set_style('darkgrid')\n",
        "import pickle\n",
        "%pip install torchviz\n",
        "from sklearn.metrics import confusion_matrix\n",
        "from sklearn.metrics import ConfusionMatrixDisplay\n",
        "from torchviz import make_dot\n",
        "from datetime import datetime\n",
        "Date_time = datetime.now()\n",
        "date = Date_time.strftime(\"%d/%m/%Y\")\n",
        "Time = Date_time.strftime(\"%H:%M:%S\")"
      ],
      "execution_count": 1,
      "outputs": [
        {
          "output_type": "stream",
          "text": [
            "Collecting torchviz\n",
            "  Downloading https://files.pythonhosted.org/packages/79/e7/643808913211d6c1fc96a3a4333bf4c9276858fab00bcafaf98ea58a97be/torchviz-0.0.2.tar.gz\n",
            "Requirement already satisfied: torch in /usr/local/lib/python3.7/dist-packages (from torchviz) (1.8.1+cu101)\n",
            "Requirement already satisfied: graphviz in /usr/local/lib/python3.7/dist-packages (from torchviz) (0.10.1)\n",
            "Requirement already satisfied: numpy in /usr/local/lib/python3.7/dist-packages (from torch->torchviz) (1.19.5)\n",
            "Requirement already satisfied: typing-extensions in /usr/local/lib/python3.7/dist-packages (from torch->torchviz) (3.7.4.3)\n",
            "Building wheels for collected packages: torchviz\n",
            "  Building wheel for torchviz (setup.py) ... \u001b[?25l\u001b[?25hdone\n",
            "  Created wheel for torchviz: filename=torchviz-0.0.2-cp37-none-any.whl size=4152 sha256=e1a86b77edbf21ac3f1ca48d15e085b65825749909c64cc78989fc79222b87b7\n",
            "  Stored in directory: /root/.cache/pip/wheels/01/26/58/026ffd533dbe8b3972eb423da9c7949beca68d1c98ed9e8624\n",
            "Successfully built torchviz\n",
            "Installing collected packages: torchviz\n",
            "Successfully installed torchviz-0.0.2\n"
          ],
          "name": "stdout"
        }
      ]
    },
    {
      "cell_type": "markdown",
      "metadata": {
        "id": "-OjBCWifI4yq"
      },
      "source": [
        "##**Loading the MNIST Dataset**"
      ]
    },
    {
      "cell_type": "code",
      "metadata": {
        "colab": {
          "base_uri": "https://localhost:8080/",
          "height": 1000,
          "referenced_widgets": [
            "2c8691adb8744960a9504ea15d978bd2",
            "cba37a471c934ca3a2e78ab438eddfe7",
            "c0d97fc0cba446139438bd8acae15730",
            "c6d5ee0a0af24497b1d8ca053a7a86fe",
            "0a063ed23653499db9f7af7db01a6571",
            "fbc5fb2823684e2087e5ce78d3a3c0fd",
            "908519b1906c413eb88af7403acb0ad2",
            "40a248fcc63d4db48a1b014b7af1c34e",
            "88d5610f4ee14c889f78dd7faf26f992",
            "b9e5624c26694ce296c32d45a5500b2b",
            "b9fc4fc48c274d4083d2e1270a685390",
            "2eea6663945b4d44bb80557745e74ea6",
            "49fe22fb766d4f6fb22de7fe570ef41f",
            "2d9c20765da142b6a0bfe3f9fa75d86c",
            "9958bdf4537e4ff18ab95926b9005b19",
            "7c4f1f6eb9b545a48114ca58c0ce8354",
            "f1025426f4d14edab7af93e40d1c5ba9",
            "7adb341a7f784ab491daa9776b6a779e",
            "9e9ff337eea64089b9f97d84969336b4",
            "605ca24a9b6b4e10b089107ebd1c0f98",
            "b11204ccd5d94180b6662c072a9bce1a",
            "d44ce1527e8749488228b507c275f5bc",
            "92a184774d3c4959aa6bf35fd8edf6f8",
            "87a9f9c6793a464fa6ae1588beed3f71",
            "d482f8edeceb4a1fb0a53826f312ace3",
            "b3fe73e2c1b348d8a66b5921d625b31f",
            "6aeda31c25bc467cafe87e8ccf05aadc",
            "9376425ad11a4da38d51754188ce5f7f",
            "6afa74e8584b4dd796c33d10fd1b8b6e",
            "88aaea89c20b4b70afecdcb247f4a1af",
            "8a57939a49d54b93ba68bbad4785e003",
            "8e114037d8d84158906683d6825a14a4",
            "eecc1bf74af94849a087dddf0780a3e7",
            "84622bb02cd44cd69200c9acb1b0fa62",
            "820f1cce31e34f51aa8b0c009064eee3",
            "90d189c7fa0b44e693fc1fb429d230c2",
            "9dce519469c64a8a8d679f7a2513346f",
            "81f842c765b64278b590ca2db1f5e660",
            "e8272ca67c7d41d8b4dd5241a33172a7",
            "86fe509550304f0a94cf86ad0ba4bd9d",
            "78889e985eaa41bba7e96d169d0df330",
            "cd3b0565f9454dacb45859ae1695c450",
            "c6102512ae74460fa9d031f734225ecc",
            "73827b3b80ef4e3888b671947a0f86b2",
            "21e5201f4f7e4504a1d3aa065c576e4a",
            "66cf126d846347358e85774ebed967ce",
            "b51c14e2a3ed49b0b90bafaaa1f01043",
            "33a93c57f482413ab3ab03f12630514b",
            "8a32206414c3496d82579486248ed670",
            "2d8eec0a7952487198703588b9c388f2",
            "63a09f2fc6bf4f3e946882fcf35e9b21",
            "02856aa7eac24324973e499b0a1e42ec",
            "a3abb5fbc6e144e69f8932a0b6b3f82c",
            "2fdb5ef0c4f74c27986a4e0cd7d9ba71",
            "bf5c7bdbba464273b92448bc4f1249ed",
            "170f786f95224f4989ada04262d1447c",
            "e856ebe5ba8c4dbe8f0d01c7af6b332d",
            "28c494ddc91944cb822f8f22dfa1a9dd",
            "70b39f5f04c545d48f93fb19e4fe6b77",
            "eb6a45c63f2044398e665045b0aa45a8",
            "45a72a1643e34205ae8d320310cc548e",
            "50efe786ec9841d98014d7c4fd6ae41b",
            "b590060e77a84a41a6167ba7b1f2cd5c",
            "e86bde11462b43399e5916ecf3d62dae"
          ]
        },
        "id": "wSWJZvrsmDKD",
        "outputId": "240e831a-dfcd-400e-f6bd-dc657b5bbf24"
      },
      "source": [
        "#Downloading and Loading the MNIST dataset \n",
        "def Load_mnist_data(batch_size, resize=None, root=os.path.join('MNIST_DATASET')):\n",
        "    final_root = os.path.expanduser(root)\n",
        "    Convolutional_Transformer = []\n",
        "\n",
        "    #resizing the dataset to fit the Network architecture\n",
        "    if resize:\n",
        "        Convolutional_Transformer += [transforms.Resize(resize)]\n",
        "    Convolutional_Transformer += [transforms.ToTensor()]\n",
        "    Convolutional_Transformer = transforms.Compose(Convolutional_Transformer)\n",
        "\n",
        "    #Downloading the MNIST dataset\n",
        "    MNIST_traindata = torchvision.datasets.MNIST(root=final_root, train=True, transform=Convolutional_Transformer, download=True)\n",
        "    MNIST_testdata = torchvision.datasets.MNIST(root=final_root, train=False, transform=Convolutional_Transformer, download=True)\n",
        "\n",
        "    #loading the dataset and assign it to a variable\n",
        "    Load_MNIST_traindata =torch.utils.data.DataLoader(MNIST_traindata, batch_size, shuffle=True)\n",
        "    Load_MNIST_testdata =torch.utils.data.DataLoader(MNIST_testdata, batch_size, shuffle=False)\n",
        "    return Load_MNIST_traindata, Load_MNIST_testdata\n",
        "\n",
        "Convolutional_Transformer = transforms.Compose([transforms.Resize((32,32)), transforms.RandomHorizontalFlip(), transforms.ToTensor()])\n",
        "MNIST_testdata = torchvision.datasets.MNIST(root='Mnist', train=False, transform=Convolutional_Transformer, download=True)\n",
        "\n",
        "#load the function of the MNIST dataset to the train and test variable loader\n",
        "Traindata_Loader, Testdata_Loader = Load_mnist_data(batch_size=32, resize=96, root=os.path.join('MNIST_DATASET'))"
      ],
      "execution_count": 2,
      "outputs": [
        {
          "output_type": "stream",
          "text": [
            "Downloading http://yann.lecun.com/exdb/mnist/train-images-idx3-ubyte.gz\n",
            "Downloading http://yann.lecun.com/exdb/mnist/train-images-idx3-ubyte.gz to Mnist/MNIST/raw/train-images-idx3-ubyte.gz\n"
          ],
          "name": "stdout"
        },
        {
          "output_type": "display_data",
          "data": {
            "application/vnd.jupyter.widget-view+json": {
              "model_id": "2c8691adb8744960a9504ea15d978bd2",
              "version_minor": 0,
              "version_major": 2
            },
            "text/plain": [
              "HBox(children=(FloatProgress(value=0.0, max=9912422.0), HTML(value='')))"
            ]
          },
          "metadata": {
            "tags": []
          }
        },
        {
          "output_type": "stream",
          "text": [
            "\n",
            "Extracting Mnist/MNIST/raw/train-images-idx3-ubyte.gz to Mnist/MNIST/raw\n",
            "\n",
            "Downloading http://yann.lecun.com/exdb/mnist/train-labels-idx1-ubyte.gz\n",
            "Downloading http://yann.lecun.com/exdb/mnist/train-labels-idx1-ubyte.gz to Mnist/MNIST/raw/train-labels-idx1-ubyte.gz\n"
          ],
          "name": "stdout"
        },
        {
          "output_type": "display_data",
          "data": {
            "application/vnd.jupyter.widget-view+json": {
              "model_id": "88d5610f4ee14c889f78dd7faf26f992",
              "version_minor": 0,
              "version_major": 2
            },
            "text/plain": [
              "HBox(children=(FloatProgress(value=0.0, max=28881.0), HTML(value='')))"
            ]
          },
          "metadata": {
            "tags": []
          }
        },
        {
          "output_type": "stream",
          "text": [
            "\n",
            "Extracting Mnist/MNIST/raw/train-labels-idx1-ubyte.gz to Mnist/MNIST/raw\n",
            "\n",
            "Downloading http://yann.lecun.com/exdb/mnist/t10k-images-idx3-ubyte.gz\n",
            "Downloading http://yann.lecun.com/exdb/mnist/t10k-images-idx3-ubyte.gz to Mnist/MNIST/raw/t10k-images-idx3-ubyte.gz\n",
            "Failed to download (trying next):\n",
            "HTTP Error 503: Service Unavailable\n",
            "\n",
            "Downloading https://ossci-datasets.s3.amazonaws.com/mnist/t10k-images-idx3-ubyte.gz\n",
            "Downloading https://ossci-datasets.s3.amazonaws.com/mnist/t10k-images-idx3-ubyte.gz to Mnist/MNIST/raw/t10k-images-idx3-ubyte.gz\n"
          ],
          "name": "stdout"
        },
        {
          "output_type": "display_data",
          "data": {
            "application/vnd.jupyter.widget-view+json": {
              "model_id": "f1025426f4d14edab7af93e40d1c5ba9",
              "version_minor": 0,
              "version_major": 2
            },
            "text/plain": [
              "HBox(children=(FloatProgress(value=0.0, max=1648877.0), HTML(value='')))"
            ]
          },
          "metadata": {
            "tags": []
          }
        },
        {
          "output_type": "stream",
          "text": [
            "\n",
            "Extracting Mnist/MNIST/raw/t10k-images-idx3-ubyte.gz to Mnist/MNIST/raw\n",
            "\n",
            "Downloading http://yann.lecun.com/exdb/mnist/t10k-labels-idx1-ubyte.gz\n",
            "Downloading http://yann.lecun.com/exdb/mnist/t10k-labels-idx1-ubyte.gz to Mnist/MNIST/raw/t10k-labels-idx1-ubyte.gz\n"
          ],
          "name": "stdout"
        },
        {
          "output_type": "display_data",
          "data": {
            "application/vnd.jupyter.widget-view+json": {
              "model_id": "d482f8edeceb4a1fb0a53826f312ace3",
              "version_minor": 0,
              "version_major": 2
            },
            "text/plain": [
              "HBox(children=(FloatProgress(value=0.0, max=4542.0), HTML(value='')))"
            ]
          },
          "metadata": {
            "tags": []
          }
        },
        {
          "output_type": "stream",
          "text": [
            "\n",
            "Extracting Mnist/MNIST/raw/t10k-labels-idx1-ubyte.gz to Mnist/MNIST/raw\n",
            "\n",
            "Processing...\n",
            "Done!\n"
          ],
          "name": "stdout"
        },
        {
          "output_type": "stream",
          "text": [
            "/usr/local/lib/python3.7/dist-packages/torchvision/datasets/mnist.py:502: UserWarning: The given NumPy array is not writeable, and PyTorch does not support non-writeable tensors. This means you can write to the underlying (supposedly non-writeable) NumPy array using the tensor. You may want to copy the array to protect its data or make it writeable before converting it to a tensor. This type of warning will be suppressed for the rest of this program. (Triggered internally at  /pytorch/torch/csrc/utils/tensor_numpy.cpp:143.)\n",
            "  return torch.from_numpy(parsed.astype(m[2], copy=False)).view(*s)\n"
          ],
          "name": "stderr"
        },
        {
          "output_type": "stream",
          "text": [
            "Downloading http://yann.lecun.com/exdb/mnist/train-images-idx3-ubyte.gz\n",
            "Downloading http://yann.lecun.com/exdb/mnist/train-images-idx3-ubyte.gz to MNIST_DATASET/MNIST/raw/train-images-idx3-ubyte.gz\n",
            "Failed to download (trying next):\n",
            "HTTP Error 503: Service Unavailable\n",
            "\n",
            "Downloading https://ossci-datasets.s3.amazonaws.com/mnist/train-images-idx3-ubyte.gz\n",
            "Downloading https://ossci-datasets.s3.amazonaws.com/mnist/train-images-idx3-ubyte.gz to MNIST_DATASET/MNIST/raw/train-images-idx3-ubyte.gz\n"
          ],
          "name": "stdout"
        },
        {
          "output_type": "display_data",
          "data": {
            "application/vnd.jupyter.widget-view+json": {
              "model_id": "eecc1bf74af94849a087dddf0780a3e7",
              "version_minor": 0,
              "version_major": 2
            },
            "text/plain": [
              "HBox(children=(FloatProgress(value=0.0, max=9912422.0), HTML(value='')))"
            ]
          },
          "metadata": {
            "tags": []
          }
        },
        {
          "output_type": "stream",
          "text": [
            "\n",
            "Extracting MNIST_DATASET/MNIST/raw/train-images-idx3-ubyte.gz to MNIST_DATASET/MNIST/raw\n",
            "\n",
            "Downloading http://yann.lecun.com/exdb/mnist/train-labels-idx1-ubyte.gz\n",
            "Downloading http://yann.lecun.com/exdb/mnist/train-labels-idx1-ubyte.gz to MNIST_DATASET/MNIST/raw/train-labels-idx1-ubyte.gz\n"
          ],
          "name": "stdout"
        },
        {
          "output_type": "display_data",
          "data": {
            "application/vnd.jupyter.widget-view+json": {
              "model_id": "78889e985eaa41bba7e96d169d0df330",
              "version_minor": 0,
              "version_major": 2
            },
            "text/plain": [
              "HBox(children=(FloatProgress(value=0.0, max=28881.0), HTML(value='')))"
            ]
          },
          "metadata": {
            "tags": []
          }
        },
        {
          "output_type": "stream",
          "text": [
            "\n",
            "Extracting MNIST_DATASET/MNIST/raw/train-labels-idx1-ubyte.gz to MNIST_DATASET/MNIST/raw\n",
            "\n",
            "Downloading http://yann.lecun.com/exdb/mnist/t10k-images-idx3-ubyte.gz\n",
            "Downloading http://yann.lecun.com/exdb/mnist/t10k-images-idx3-ubyte.gz to MNIST_DATASET/MNIST/raw/t10k-images-idx3-ubyte.gz\n"
          ],
          "name": "stdout"
        },
        {
          "output_type": "display_data",
          "data": {
            "application/vnd.jupyter.widget-view+json": {
              "model_id": "8a32206414c3496d82579486248ed670",
              "version_minor": 0,
              "version_major": 2
            },
            "text/plain": [
              "HBox(children=(FloatProgress(value=0.0, max=1648877.0), HTML(value='')))"
            ]
          },
          "metadata": {
            "tags": []
          }
        },
        {
          "output_type": "stream",
          "text": [
            "\n",
            "Extracting MNIST_DATASET/MNIST/raw/t10k-images-idx3-ubyte.gz to MNIST_DATASET/MNIST/raw\n",
            "\n",
            "Downloading http://yann.lecun.com/exdb/mnist/t10k-labels-idx1-ubyte.gz\n",
            "Downloading http://yann.lecun.com/exdb/mnist/t10k-labels-idx1-ubyte.gz to MNIST_DATASET/MNIST/raw/t10k-labels-idx1-ubyte.gz\n"
          ],
          "name": "stdout"
        },
        {
          "output_type": "display_data",
          "data": {
            "application/vnd.jupyter.widget-view+json": {
              "model_id": "e856ebe5ba8c4dbe8f0d01c7af6b332d",
              "version_minor": 0,
              "version_major": 2
            },
            "text/plain": [
              "HBox(children=(FloatProgress(value=0.0, max=4542.0), HTML(value='')))"
            ]
          },
          "metadata": {
            "tags": []
          }
        },
        {
          "output_type": "stream",
          "text": [
            "\n",
            "Extracting MNIST_DATASET/MNIST/raw/t10k-labels-idx1-ubyte.gz to MNIST_DATASET/MNIST/raw\n",
            "\n",
            "Processing...\n",
            "Done!\n"
          ],
          "name": "stdout"
        }
      ]
    },
    {
      "cell_type": "markdown",
      "metadata": {
        "id": "RS7oD8rTJbKn"
      },
      "source": [
        "##**Developing ResNet Architecture**"
      ]
    },
    {
      "cell_type": "code",
      "metadata": {
        "colab": {
          "base_uri": "https://localhost:8080/"
        },
        "id": "8tfYLHD-gvRI",
        "outputId": "a5e0bf84-acc2-4fd6-d37a-9da16146ee1a"
      },
      "source": [
        "#########################################################RESNET ARCHITECTURE####################################################################\n",
        "#Initialising the Basic block for the resnet with in channels and the out channels\n",
        "class Residual_block(torch.nn.Module): \n",
        "  def __init__(self, Channel_In, Channel_Nums, use_1x1conv=True, Num_Strides=1):\n",
        "    super(Residual_block, self).__init__()\n",
        "    self.Convolutional_layer1 = torch.nn.Conv2d(Channel_In, Channel_Nums,kernel_size=3, padding=1, stride=Num_Strides)\n",
        "    self.Convolutional_layer2 = torch.nn.Conv2d(Channel_Nums, Channel_Nums, kernel_size=3, padding=1)\n",
        "    if use_1x1conv:\n",
        "      self.Convolutional_layer3 = torch.nn.Conv2d(Channel_In, Channel_Nums, kernel_size=1, stride=Num_Strides)\n",
        "    else:\n",
        "      self.Convolutional_layer3 = None\n",
        "    self.Res_BatchNorm_layer1 = torch.nn.BatchNorm2d(Channel_Nums)\n",
        "    self.Res_BatchNorm_layer2 = torch.nn.BatchNorm2d(Channel_Nums)\n",
        "    self.relu = torch.nn.ReLU(inplace=True)\n",
        "  \n",
        "  def forward(self, Out):  \n",
        "    final_out = self.relu(self.Res_BatchNorm_layer1(self.Convolutional_layer1(Out)))\n",
        "    final_out = self.Res_BatchNorm_layer2(self.Convolutional_layer2(final_out))\n",
        "    if self.Convolutional_layer3:\n",
        "      Out = self.Convolutional_layer3(Out)\n",
        "    final_out += Out\n",
        "    final_out =self.relu(final_out)\n",
        "    return final_out\n",
        "\n",
        "#Flattening the layer and resizing it\n",
        "class Flatten(torch.nn.Module):\n",
        "    def forward(self, input):\n",
        "        return input.view(input.size(0), -1)\n",
        "\n",
        "#RESNET NETWORK\n",
        "def resnet_block(Channel_In, Channel_Nums, Residual_block_Nums, first_block=False):\n",
        "  conv_layers_append = []\n",
        "  for i in range(Residual_block_Nums):\n",
        "    if i == 0 and not first_block:\n",
        "      conv_layers_append.append(Residual_block(Channel_In, Channel_Nums, use_1x1conv=True, Num_Strides=2))\n",
        "    else:\n",
        "      conv_layers_append.append(Residual_block(Channel_Nums, Channel_Nums))\n",
        "  return conv_layers_append\n",
        "#creating the layers for the architecture and concatenating them\n",
        "Resnet_convolutional_layer1 = nn.Sequential(torch.nn.Conv2d(1, 64, kernel_size=8, stride=2, padding=3), torch.nn.BatchNorm2d(64),\n",
        "                                            torch.nn.ReLU(), torch.nn.MaxPool2d(kernel_size=3, stride=2, padding=1))\n",
        "Resnet_convolutional_layer2 = torch.nn.Sequential(*resnet_block(64,64,2, first_block=True))\n",
        "Resnet_convolutional_layer3 = torch.nn.Sequential(*resnet_block(64,128,2))\n",
        "Resnet_convolutional_layer4 = torch.nn.Sequential(*resnet_block(128,256,2))\n",
        "Resnet_convolutional_layer5 = torch.nn.Sequential(*resnet_block(256,512,2))\n",
        "Resnet_convolutional_layer6 = torch.nn.AdaptiveMaxPool2d((1,1))\n",
        "Resnet_convolutional_layer7 = Flatten()\n",
        "Resnet_convolutional_layer8 = torch.nn.Linear(512, 100)\n",
        "\n",
        "#Updating the weights of the network\n",
        "Network_arch=torch.nn.Sequential(Resnet_convolutional_layer1, Resnet_convolutional_layer2, Resnet_convolutional_layer3, Resnet_convolutional_layer4,\n",
        "                                 Resnet_convolutional_layer5, Resnet_convolutional_layer6, Resnet_convolutional_layer7, Resnet_convolutional_layer8)\n",
        "#Initialize the Weights and display the Network architecture\n",
        "def Initialise_weights(layer_weight):\n",
        "    if type(layer_weight) == torch.nn.Conv2d:\n",
        "        torch.nn.init.xavier_uniform_(layer_weight.weight)\n",
        "Network_arch.apply(Initialise_weights)"
      ],
      "execution_count": 3,
      "outputs": [
        {
          "output_type": "execute_result",
          "data": {
            "text/plain": [
              "Sequential(\n",
              "  (0): Sequential(\n",
              "    (0): Conv2d(1, 64, kernel_size=(8, 8), stride=(2, 2), padding=(3, 3))\n",
              "    (1): BatchNorm2d(64, eps=1e-05, momentum=0.1, affine=True, track_running_stats=True)\n",
              "    (2): ReLU()\n",
              "    (3): MaxPool2d(kernel_size=3, stride=2, padding=1, dilation=1, ceil_mode=False)\n",
              "  )\n",
              "  (1): Sequential(\n",
              "    (0): Residual_block(\n",
              "      (Convolutional_layer1): Conv2d(64, 64, kernel_size=(3, 3), stride=(1, 1), padding=(1, 1))\n",
              "      (Convolutional_layer2): Conv2d(64, 64, kernel_size=(3, 3), stride=(1, 1), padding=(1, 1))\n",
              "      (Convolutional_layer3): Conv2d(64, 64, kernel_size=(1, 1), stride=(1, 1))\n",
              "      (Res_BatchNorm_layer1): BatchNorm2d(64, eps=1e-05, momentum=0.1, affine=True, track_running_stats=True)\n",
              "      (Res_BatchNorm_layer2): BatchNorm2d(64, eps=1e-05, momentum=0.1, affine=True, track_running_stats=True)\n",
              "      (relu): ReLU(inplace=True)\n",
              "    )\n",
              "    (1): Residual_block(\n",
              "      (Convolutional_layer1): Conv2d(64, 64, kernel_size=(3, 3), stride=(1, 1), padding=(1, 1))\n",
              "      (Convolutional_layer2): Conv2d(64, 64, kernel_size=(3, 3), stride=(1, 1), padding=(1, 1))\n",
              "      (Convolutional_layer3): Conv2d(64, 64, kernel_size=(1, 1), stride=(1, 1))\n",
              "      (Res_BatchNorm_layer1): BatchNorm2d(64, eps=1e-05, momentum=0.1, affine=True, track_running_stats=True)\n",
              "      (Res_BatchNorm_layer2): BatchNorm2d(64, eps=1e-05, momentum=0.1, affine=True, track_running_stats=True)\n",
              "      (relu): ReLU(inplace=True)\n",
              "    )\n",
              "  )\n",
              "  (2): Sequential(\n",
              "    (0): Residual_block(\n",
              "      (Convolutional_layer1): Conv2d(64, 128, kernel_size=(3, 3), stride=(2, 2), padding=(1, 1))\n",
              "      (Convolutional_layer2): Conv2d(128, 128, kernel_size=(3, 3), stride=(1, 1), padding=(1, 1))\n",
              "      (Convolutional_layer3): Conv2d(64, 128, kernel_size=(1, 1), stride=(2, 2))\n",
              "      (Res_BatchNorm_layer1): BatchNorm2d(128, eps=1e-05, momentum=0.1, affine=True, track_running_stats=True)\n",
              "      (Res_BatchNorm_layer2): BatchNorm2d(128, eps=1e-05, momentum=0.1, affine=True, track_running_stats=True)\n",
              "      (relu): ReLU(inplace=True)\n",
              "    )\n",
              "    (1): Residual_block(\n",
              "      (Convolutional_layer1): Conv2d(128, 128, kernel_size=(3, 3), stride=(1, 1), padding=(1, 1))\n",
              "      (Convolutional_layer2): Conv2d(128, 128, kernel_size=(3, 3), stride=(1, 1), padding=(1, 1))\n",
              "      (Convolutional_layer3): Conv2d(128, 128, kernel_size=(1, 1), stride=(1, 1))\n",
              "      (Res_BatchNorm_layer1): BatchNorm2d(128, eps=1e-05, momentum=0.1, affine=True, track_running_stats=True)\n",
              "      (Res_BatchNorm_layer2): BatchNorm2d(128, eps=1e-05, momentum=0.1, affine=True, track_running_stats=True)\n",
              "      (relu): ReLU(inplace=True)\n",
              "    )\n",
              "  )\n",
              "  (3): Sequential(\n",
              "    (0): Residual_block(\n",
              "      (Convolutional_layer1): Conv2d(128, 256, kernel_size=(3, 3), stride=(2, 2), padding=(1, 1))\n",
              "      (Convolutional_layer2): Conv2d(256, 256, kernel_size=(3, 3), stride=(1, 1), padding=(1, 1))\n",
              "      (Convolutional_layer3): Conv2d(128, 256, kernel_size=(1, 1), stride=(2, 2))\n",
              "      (Res_BatchNorm_layer1): BatchNorm2d(256, eps=1e-05, momentum=0.1, affine=True, track_running_stats=True)\n",
              "      (Res_BatchNorm_layer2): BatchNorm2d(256, eps=1e-05, momentum=0.1, affine=True, track_running_stats=True)\n",
              "      (relu): ReLU(inplace=True)\n",
              "    )\n",
              "    (1): Residual_block(\n",
              "      (Convolutional_layer1): Conv2d(256, 256, kernel_size=(3, 3), stride=(1, 1), padding=(1, 1))\n",
              "      (Convolutional_layer2): Conv2d(256, 256, kernel_size=(3, 3), stride=(1, 1), padding=(1, 1))\n",
              "      (Convolutional_layer3): Conv2d(256, 256, kernel_size=(1, 1), stride=(1, 1))\n",
              "      (Res_BatchNorm_layer1): BatchNorm2d(256, eps=1e-05, momentum=0.1, affine=True, track_running_stats=True)\n",
              "      (Res_BatchNorm_layer2): BatchNorm2d(256, eps=1e-05, momentum=0.1, affine=True, track_running_stats=True)\n",
              "      (relu): ReLU(inplace=True)\n",
              "    )\n",
              "  )\n",
              "  (4): Sequential(\n",
              "    (0): Residual_block(\n",
              "      (Convolutional_layer1): Conv2d(256, 512, kernel_size=(3, 3), stride=(2, 2), padding=(1, 1))\n",
              "      (Convolutional_layer2): Conv2d(512, 512, kernel_size=(3, 3), stride=(1, 1), padding=(1, 1))\n",
              "      (Convolutional_layer3): Conv2d(256, 512, kernel_size=(1, 1), stride=(2, 2))\n",
              "      (Res_BatchNorm_layer1): BatchNorm2d(512, eps=1e-05, momentum=0.1, affine=True, track_running_stats=True)\n",
              "      (Res_BatchNorm_layer2): BatchNorm2d(512, eps=1e-05, momentum=0.1, affine=True, track_running_stats=True)\n",
              "      (relu): ReLU(inplace=True)\n",
              "    )\n",
              "    (1): Residual_block(\n",
              "      (Convolutional_layer1): Conv2d(512, 512, kernel_size=(3, 3), stride=(1, 1), padding=(1, 1))\n",
              "      (Convolutional_layer2): Conv2d(512, 512, kernel_size=(3, 3), stride=(1, 1), padding=(1, 1))\n",
              "      (Convolutional_layer3): Conv2d(512, 512, kernel_size=(1, 1), stride=(1, 1))\n",
              "      (Res_BatchNorm_layer1): BatchNorm2d(512, eps=1e-05, momentum=0.1, affine=True, track_running_stats=True)\n",
              "      (Res_BatchNorm_layer2): BatchNorm2d(512, eps=1e-05, momentum=0.1, affine=True, track_running_stats=True)\n",
              "      (relu): ReLU(inplace=True)\n",
              "    )\n",
              "  )\n",
              "  (5): AdaptiveMaxPool2d(output_size=(1, 1))\n",
              "  (6): Flatten()\n",
              "  (7): Linear(in_features=512, out_features=100, bias=True)\n",
              ")"
            ]
          },
          "metadata": {
            "tags": []
          },
          "execution_count": 3
        }
      ]
    },
    {
      "cell_type": "markdown",
      "metadata": {
        "id": "PZ-M7S3BKUto"
      },
      "source": [
        "##**Plotting Architecture flow-diagram of our ResNet Network**"
      ]
    },
    {
      "cell_type": "code",
      "metadata": {
        "colab": {
          "base_uri": "https://localhost:8080/",
          "height": 1000
        },
        "id": "546Qmxdo1ax1",
        "outputId": "58d6d32b-10ab-4f9d-a516-8ae36c5733d6"
      },
      "source": [
        "#Plotting the ResNet Architecture flowchart which was developed above.\n",
        "Sample = torch.rand(1, 1, 96, 96)\n",
        "ResNet_Architecture_plot = make_dot(Network_arch(Sample), params=dict(Network_arch.named_parameters()))\n",
        "#displaying the ResNet flow diagram\n",
        "display(ResNet_Architecture_plot)"
      ],
      "execution_count": 4,
      "outputs": [
        {
          "output_type": "display_data",
          "data": {
            "text/plain": [
              "<graphviz.dot.Digraph at 0x7f81f2066050>"
            ],
            "image/svg+xml": "<?xml version=\"1.0\" encoding=\"UTF-8\" standalone=\"no\"?>\n<!DOCTYPE svg PUBLIC \"-//W3C//DTD SVG 1.1//EN\"\n \"http://www.w3.org/Graphics/SVG/1.1/DTD/svg11.dtd\">\n<!-- Generated by graphviz version 2.40.1 (20161225.0304)\n -->\n<!-- Title: %3 Pages: 1 -->\n<svg width=\"4375pt\" height=\"4010pt\"\n viewBox=\"0.00 0.00 4375.00 4010.00\" xmlns=\"http://www.w3.org/2000/svg\" xmlns:xlink=\"http://www.w3.org/1999/xlink\">\n<g id=\"graph0\" class=\"graph\" transform=\"scale(1 1) rotate(0) translate(4 4006)\">\n<title>%3</title>\n<polygon fill=\"#ffffff\" stroke=\"transparent\" points=\"-4,4 -4,-4006 4371,-4006 4371,4 -4,4\"/>\n<!-- 140196087776272 -->\n<g id=\"node1\" class=\"node\">\n<title>140196087776272</title>\n<polygon fill=\"#caff70\" stroke=\"#000000\" points=\"3614,-31 3543,-31 3543,0 3614,0 3614,-31\"/>\n<text text-anchor=\"middle\" x=\"3578.5\" y=\"-7\" font-family=\"monospace\" font-size=\"10.00\" fill=\"#000000\"> (1, 100)</text>\n</g>\n<!-- 140196088015376 -->\n<g id=\"node2\" class=\"node\">\n<title>140196088015376</title>\n<polygon fill=\"#d3d3d3\" stroke=\"#000000\" points=\"3626,-86 3531,-86 3531,-67 3626,-67 3626,-86\"/>\n<text text-anchor=\"middle\" x=\"3578.5\" y=\"-74\" font-family=\"monospace\" font-size=\"10.00\" fill=\"#000000\">AddmmBackward</text>\n</g>\n<!-- 140196088015376&#45;&gt;140196087776272 -->\n<g id=\"edge252\" class=\"edge\">\n<title>140196088015376&#45;&gt;140196087776272</title>\n<path fill=\"none\" stroke=\"#000000\" d=\"M3578.5,-66.9688C3578.5,-60.1289 3578.5,-50.5621 3578.5,-41.5298\"/>\n<polygon fill=\"#000000\" stroke=\"#000000\" points=\"3582.0001,-41.3678 3578.5,-31.3678 3575.0001,-41.3678 3582.0001,-41.3678\"/>\n</g>\n<!-- 140197882846736 -->\n<g id=\"node3\" class=\"node\">\n<title>140197882846736</title>\n<polygon fill=\"#d3d3d3\" stroke=\"#000000\" points=\"3508,-141 3407,-141 3407,-122 3508,-122 3508,-141\"/>\n<text text-anchor=\"middle\" x=\"3457.5\" y=\"-129\" font-family=\"monospace\" font-size=\"10.00\" fill=\"#000000\">AccumulateGrad</text>\n</g>\n<!-- 140197882846736&#45;&gt;140196088015376 -->\n<g id=\"edge1\" class=\"edge\">\n<title>140197882846736&#45;&gt;140196088015376</title>\n<path fill=\"none\" stroke=\"#000000\" d=\"M3478.5766,-121.9197C3497.8045,-113.1798 3526.4424,-100.1625 3548.1369,-90.3014\"/>\n<polygon fill=\"#000000\" stroke=\"#000000\" points=\"3549.6036,-93.4794 3557.2589,-86.155 3546.7069,-87.1068 3549.6036,-93.4794\"/>\n</g>\n<!-- 140196087314624 -->\n<g id=\"node4\" class=\"node\">\n<title>140196087314624</title>\n<polygon fill=\"#add8e6\" stroke=\"#000000\" points=\"3476.5,-207 3422.5,-207 3422.5,-177 3476.5,-177 3476.5,-207\"/>\n<text text-anchor=\"middle\" x=\"3449.5\" y=\"-195\" font-family=\"monospace\" font-size=\"10.00\" fill=\"#000000\">7.bias</text>\n<text text-anchor=\"middle\" x=\"3449.5\" y=\"-184\" font-family=\"monospace\" font-size=\"10.00\" fill=\"#000000\"> (100)</text>\n</g>\n<!-- 140196087314624&#45;&gt;140197882846736 -->\n<g id=\"edge2\" class=\"edge\">\n<title>140196087314624&#45;&gt;140197882846736</title>\n<path fill=\"none\" stroke=\"#000000\" d=\"M3451.5187,-176.7333C3452.5486,-168.9447 3453.813,-159.3831 3454.9135,-151.0604\"/>\n<polygon fill=\"#000000\" stroke=\"#000000\" points=\"3458.3912,-151.459 3456.2324,-141.0864 3451.4516,-150.5413 3458.3912,-151.459\"/>\n</g>\n<!-- 140197882846928 -->\n<g id=\"node5\" class=\"node\">\n<title>140197882846928</title>\n<polygon fill=\"#d3d3d3\" stroke=\"#000000\" points=\"3623,-141 3534,-141 3534,-122 3623,-122 3623,-141\"/>\n<text text-anchor=\"middle\" x=\"3578.5\" y=\"-129\" font-family=\"monospace\" font-size=\"10.00\" fill=\"#000000\">ViewBackward</text>\n</g>\n<!-- 140197882846928&#45;&gt;140196088015376 -->\n<g id=\"edge3\" class=\"edge\">\n<title>140197882846928&#45;&gt;140196088015376</title>\n<path fill=\"none\" stroke=\"#000000\" d=\"M3578.5,-121.9197C3578.5,-114.9083 3578.5,-105.1442 3578.5,-96.4652\"/>\n<polygon fill=\"#000000\" stroke=\"#000000\" points=\"3582.0001,-96.3408 3578.5,-86.3408 3575.0001,-96.3409 3582.0001,-96.3408\"/>\n</g>\n<!-- 140196087908752 -->\n<g id=\"node6\" class=\"node\">\n<title>140196087908752</title>\n<polygon fill=\"#d3d3d3\" stroke=\"#000000\" points=\"3662,-201.5 3495,-201.5 3495,-182.5 3662,-182.5 3662,-201.5\"/>\n<text text-anchor=\"middle\" x=\"3578.5\" y=\"-189.5\" font-family=\"monospace\" font-size=\"10.00\" fill=\"#000000\">AdaptiveMaxPool2DBackward</text>\n</g>\n<!-- 140196087908752&#45;&gt;140197882846928 -->\n<g id=\"edge4\" class=\"edge\">\n<title>140196087908752&#45;&gt;140197882846928</title>\n<path fill=\"none\" stroke=\"#000000\" d=\"M3578.5,-182.2796C3578.5,-174.0376 3578.5,-161.9457 3578.5,-151.629\"/>\n<polygon fill=\"#000000\" stroke=\"#000000\" points=\"3582.0001,-151.3972 3578.5,-141.3972 3575.0001,-151.3973 3582.0001,-151.3972\"/>\n</g>\n<!-- 140196087817168 -->\n<g id=\"node7\" class=\"node\">\n<title>140196087817168</title>\n<polygon fill=\"#d3d3d3\" stroke=\"#000000\" points=\"3626,-267.5 3531,-267.5 3531,-248.5 3626,-248.5 3626,-267.5\"/>\n<text text-anchor=\"middle\" x=\"3578.5\" y=\"-255.5\" font-family=\"monospace\" font-size=\"10.00\" fill=\"#000000\">ReluBackward1</text>\n</g>\n<!-- 140196087817168&#45;&gt;140196087908752 -->\n<g id=\"edge5\" class=\"edge\">\n<title>140196087817168&#45;&gt;140196087908752</title>\n<path fill=\"none\" stroke=\"#000000\" d=\"M3578.5,-248.2615C3578.5,-238.7077 3578.5,-223.8615 3578.5,-211.8183\"/>\n<polygon fill=\"#000000\" stroke=\"#000000\" points=\"3582.0001,-211.7784 3578.5,-201.7785 3575.0001,-211.7785 3582.0001,-211.7784\"/>\n</g>\n<!-- 140197882844560 -->\n<g id=\"node8\" class=\"node\">\n<title>140197882844560</title>\n<polygon fill=\"#d3d3d3\" stroke=\"#000000\" points=\"3623,-328 3534,-328 3534,-309 3623,-309 3623,-328\"/>\n<text text-anchor=\"middle\" x=\"3578.5\" y=\"-316\" font-family=\"monospace\" font-size=\"10.00\" fill=\"#000000\">AddBackward0</text>\n</g>\n<!-- 140197882844560&#45;&gt;140196087817168 -->\n<g id=\"edge6\" class=\"edge\">\n<title>140197882844560&#45;&gt;140196087817168</title>\n<path fill=\"none\" stroke=\"#000000\" d=\"M3578.5,-308.7796C3578.5,-300.5376 3578.5,-288.4457 3578.5,-278.129\"/>\n<polygon fill=\"#000000\" stroke=\"#000000\" points=\"3582.0001,-277.8972 3578.5,-267.8972 3575.0001,-277.8973 3582.0001,-277.8972\"/>\n</g>\n<!-- 140197882844880 -->\n<g id=\"node9\" class=\"node\">\n<title>140197882844880</title>\n<polygon fill=\"#d3d3d3\" stroke=\"#000000\" points=\"3949,-383 3794,-383 3794,-364 3949,-364 3949,-383\"/>\n<text text-anchor=\"middle\" x=\"3871.5\" y=\"-371\" font-family=\"monospace\" font-size=\"10.00\" fill=\"#000000\">NativeBatchNormBackward</text>\n</g>\n<!-- 140197882844880&#45;&gt;140197882844560 -->\n<g id=\"edge7\" class=\"edge\">\n<title>140197882844880&#45;&gt;140197882844560</title>\n<path fill=\"none\" stroke=\"#000000\" d=\"M3820.7978,-363.9825C3768.481,-354.162 3687.1392,-338.893 3633.3486,-328.7958\"/>\n<polygon fill=\"#000000\" stroke=\"#000000\" points=\"3633.781,-325.3159 3623.3069,-326.9108 3632.4895,-332.1958 3633.781,-325.3159\"/>\n</g>\n<!-- 140197882847184 -->\n<g id=\"node10\" class=\"node\">\n<title>140197882847184</title>\n<polygon fill=\"#d3d3d3\" stroke=\"#000000\" points=\"3869,-438 3744,-438 3744,-419 3869,-419 3869,-438\"/>\n<text text-anchor=\"middle\" x=\"3806.5\" y=\"-426\" font-family=\"monospace\" font-size=\"10.00\" fill=\"#000000\">ThnnConv2DBackward</text>\n</g>\n<!-- 140197882847184&#45;&gt;140197882844880 -->\n<g id=\"edge8\" class=\"edge\">\n<title>140197882847184&#45;&gt;140197882844880</title>\n<path fill=\"none\" stroke=\"#000000\" d=\"M3817.8221,-418.9197C3827.2132,-410.9735 3840.7827,-399.4916 3851.9285,-390.0605\"/>\n<polygon fill=\"#000000\" stroke=\"#000000\" points=\"3854.4969,-392.4721 3859.8699,-383.3408 3849.9752,-387.1284 3854.4969,-392.4721\"/>\n</g>\n<!-- 140197882846672 -->\n<g id=\"node11\" class=\"node\">\n<title>140197882846672</title>\n<polygon fill=\"#d3d3d3\" stroke=\"#000000\" points=\"3659,-498.5 3564,-498.5 3564,-479.5 3659,-479.5 3659,-498.5\"/>\n<text text-anchor=\"middle\" x=\"3611.5\" y=\"-486.5\" font-family=\"monospace\" font-size=\"10.00\" fill=\"#000000\">ReluBackward1</text>\n</g>\n<!-- 140197882846672&#45;&gt;140197882847184 -->\n<g id=\"edge9\" class=\"edge\">\n<title>140197882846672&#45;&gt;140197882847184</title>\n<path fill=\"none\" stroke=\"#000000\" d=\"M3642.3983,-479.4136C3675.7738,-469.0587 3729.0938,-452.5158 3765.849,-441.1122\"/>\n<polygon fill=\"#000000\" stroke=\"#000000\" points=\"3767.2325,-444.3477 3775.7462,-438.0416 3765.1582,-437.662 3767.2325,-444.3477\"/>\n</g>\n<!-- 140196087640144 -->\n<g id=\"node12\" class=\"node\">\n<title>140196087640144</title>\n<polygon fill=\"#d3d3d3\" stroke=\"#000000\" points=\"3669,-564.5 3514,-564.5 3514,-545.5 3669,-545.5 3669,-564.5\"/>\n<text text-anchor=\"middle\" x=\"3591.5\" y=\"-552.5\" font-family=\"monospace\" font-size=\"10.00\" fill=\"#000000\">NativeBatchNormBackward</text>\n</g>\n<!-- 140196087640144&#45;&gt;140197882846672 -->\n<g id=\"edge10\" class=\"edge\">\n<title>140196087640144&#45;&gt;140197882846672</title>\n<path fill=\"none\" stroke=\"#000000\" d=\"M3594.4511,-545.2615C3597.3757,-535.6102 3601.937,-520.558 3605.6059,-508.4506\"/>\n<polygon fill=\"#000000\" stroke=\"#000000\" points=\"3608.9863,-509.3638 3608.5368,-498.7785 3602.2871,-507.3337 3608.9863,-509.3638\"/>\n</g>\n<!-- 140196087640592 -->\n<g id=\"node13\" class=\"node\">\n<title>140196087640592</title>\n<polygon fill=\"#d3d3d3\" stroke=\"#000000\" points=\"3549,-625 3424,-625 3424,-606 3549,-606 3549,-625\"/>\n<text text-anchor=\"middle\" x=\"3486.5\" y=\"-613\" font-family=\"monospace\" font-size=\"10.00\" fill=\"#000000\">ThnnConv2DBackward</text>\n</g>\n<!-- 140196087640592&#45;&gt;140196087640144 -->\n<g id=\"edge11\" class=\"edge\">\n<title>140196087640592&#45;&gt;140196087640144</title>\n<path fill=\"none\" stroke=\"#000000\" d=\"M3503.3701,-605.7796C3520.2853,-596.0332 3546.544,-580.9032 3566.0026,-569.6914\"/>\n<polygon fill=\"#000000\" stroke=\"#000000\" points=\"3567.7546,-572.7214 3574.6718,-564.6962 3564.2598,-566.6561 3567.7546,-572.7214\"/>\n</g>\n<!-- 140196087640848 -->\n<g id=\"node14\" class=\"node\">\n<title>140196087640848</title>\n<polygon fill=\"#d3d3d3\" stroke=\"#000000\" points=\"3366,-685.5 3271,-685.5 3271,-666.5 3366,-666.5 3366,-685.5\"/>\n<text text-anchor=\"middle\" x=\"3318.5\" y=\"-673.5\" font-family=\"monospace\" font-size=\"10.00\" fill=\"#000000\">ReluBackward1</text>\n</g>\n<!-- 140196087640848&#45;&gt;140196087640592 -->\n<g id=\"edge12\" class=\"edge\">\n<title>140196087640848&#45;&gt;140196087640592</title>\n<path fill=\"none\" stroke=\"#000000\" d=\"M3345.1201,-666.4136C3373.5057,-656.1914 3418.6365,-639.9389 3450.2527,-628.5533\"/>\n<polygon fill=\"#000000\" stroke=\"#000000\" points=\"3451.7818,-631.7228 3460.0044,-625.0416 3449.41,-625.1368 3451.7818,-631.7228\"/>\n</g>\n<!-- 140197882846800 -->\n<g id=\"node238\" class=\"node\">\n<title>140197882846800</title>\n<polygon fill=\"#d3d3d3\" stroke=\"#000000\" points=\"3334,-625 3209,-625 3209,-606 3334,-606 3334,-625\"/>\n<text text-anchor=\"middle\" x=\"3271.5\" y=\"-613\" font-family=\"monospace\" font-size=\"10.00\" fill=\"#000000\">ThnnConv2DBackward</text>\n</g>\n<!-- 140196087640848&#45;&gt;140197882846800 -->\n<g id=\"edge244\" class=\"edge\">\n<title>140196087640848&#45;&gt;140197882846800</title>\n<path fill=\"none\" stroke=\"#000000\" d=\"M3310.9486,-666.2796C3304.0689,-657.4239 3293.7364,-644.1235 3285.3717,-633.3561\"/>\n<polygon fill=\"#000000\" stroke=\"#000000\" points=\"3288.0877,-631.1471 3279.1888,-625.3972 3282.5597,-635.4415 3288.0877,-631.1471\"/>\n</g>\n<!-- 140196087640464 -->\n<g id=\"node15\" class=\"node\">\n<title>140196087640464</title>\n<polygon fill=\"#d3d3d3\" stroke=\"#000000\" points=\"3363,-751.5 3274,-751.5 3274,-732.5 3363,-732.5 3363,-751.5\"/>\n<text text-anchor=\"middle\" x=\"3318.5\" y=\"-739.5\" font-family=\"monospace\" font-size=\"10.00\" fill=\"#000000\">AddBackward0</text>\n</g>\n<!-- 140196087640464&#45;&gt;140196087640848 -->\n<g id=\"edge13\" class=\"edge\">\n<title>140196087640464&#45;&gt;140196087640848</title>\n<path fill=\"none\" stroke=\"#000000\" d=\"M3318.5,-732.2615C3318.5,-722.7077 3318.5,-707.8615 3318.5,-695.8183\"/>\n<polygon fill=\"#000000\" stroke=\"#000000\" points=\"3322.0001,-695.7784 3318.5,-685.7785 3315.0001,-695.7785 3322.0001,-695.7784\"/>\n</g>\n<!-- 140196087641040 -->\n<g id=\"node16\" class=\"node\">\n<title>140196087641040</title>\n<polygon fill=\"#d3d3d3\" stroke=\"#000000\" points=\"3568,-812 3413,-812 3413,-793 3568,-793 3568,-812\"/>\n<text text-anchor=\"middle\" x=\"3490.5\" y=\"-800\" font-family=\"monospace\" font-size=\"10.00\" fill=\"#000000\">NativeBatchNormBackward</text>\n</g>\n<!-- 140196087641040&#45;&gt;140196087640464 -->\n<g id=\"edge14\" class=\"edge\">\n<title>140196087641040&#45;&gt;140196087640464</title>\n<path fill=\"none\" stroke=\"#000000\" d=\"M3463.2461,-792.9136C3434.0589,-782.6472 3387.5789,-766.2981 3355.1907,-754.9058\"/>\n<polygon fill=\"#000000\" stroke=\"#000000\" points=\"3356.2212,-751.5581 3345.6264,-751.5416 3353.8985,-758.1615 3356.2212,-751.5581\"/>\n</g>\n<!-- 140196087640208 -->\n<g id=\"node17\" class=\"node\">\n<title>140196087640208</title>\n<polygon fill=\"#d3d3d3\" stroke=\"#000000\" points=\"3488,-867 3363,-867 3363,-848 3488,-848 3488,-867\"/>\n<text text-anchor=\"middle\" x=\"3425.5\" y=\"-855\" font-family=\"monospace\" font-size=\"10.00\" fill=\"#000000\">ThnnConv2DBackward</text>\n</g>\n<!-- 140196087640208&#45;&gt;140196087641040 -->\n<g id=\"edge15\" class=\"edge\">\n<title>140196087640208&#45;&gt;140196087641040</title>\n<path fill=\"none\" stroke=\"#000000\" d=\"M3436.8221,-847.9197C3446.2132,-839.9735 3459.7827,-828.4916 3470.9285,-819.0605\"/>\n<polygon fill=\"#000000\" stroke=\"#000000\" points=\"3473.4969,-821.4721 3478.8699,-812.3408 3468.9752,-816.1284 3473.4969,-821.4721\"/>\n</g>\n<!-- 140196087641232 -->\n<g id=\"node18\" class=\"node\">\n<title>140196087641232</title>\n<polygon fill=\"#d3d3d3\" stroke=\"#000000\" points=\"3278,-927.5 3183,-927.5 3183,-908.5 3278,-908.5 3278,-927.5\"/>\n<text text-anchor=\"middle\" x=\"3230.5\" y=\"-915.5\" font-family=\"monospace\" font-size=\"10.00\" fill=\"#000000\">ReluBackward1</text>\n</g>\n<!-- 140196087641232&#45;&gt;140196087640208 -->\n<g id=\"edge16\" class=\"edge\">\n<title>140196087641232&#45;&gt;140196087640208</title>\n<path fill=\"none\" stroke=\"#000000\" d=\"M3261.3983,-908.4136C3294.7738,-898.0587 3348.0938,-881.5158 3384.849,-870.1122\"/>\n<polygon fill=\"#000000\" stroke=\"#000000\" points=\"3386.2325,-873.3477 3394.7462,-867.0416 3384.1582,-866.662 3386.2325,-873.3477\"/>\n</g>\n<!-- 140196087642128 -->\n<g id=\"node19\" class=\"node\">\n<title>140196087642128</title>\n<polygon fill=\"#d3d3d3\" stroke=\"#000000\" points=\"3288,-993.5 3133,-993.5 3133,-974.5 3288,-974.5 3288,-993.5\"/>\n<text text-anchor=\"middle\" x=\"3210.5\" y=\"-981.5\" font-family=\"monospace\" font-size=\"10.00\" fill=\"#000000\">NativeBatchNormBackward</text>\n</g>\n<!-- 140196087642128&#45;&gt;140196087641232 -->\n<g id=\"edge17\" class=\"edge\">\n<title>140196087642128&#45;&gt;140196087641232</title>\n<path fill=\"none\" stroke=\"#000000\" d=\"M3213.4511,-974.2615C3216.3757,-964.6102 3220.937,-949.558 3224.6059,-937.4506\"/>\n<polygon fill=\"#000000\" stroke=\"#000000\" points=\"3227.9863,-938.3638 3227.5368,-927.7785 3221.2871,-936.3337 3227.9863,-938.3638\"/>\n</g>\n<!-- 140196087642256 -->\n<g id=\"node20\" class=\"node\">\n<title>140196087642256</title>\n<polygon fill=\"#d3d3d3\" stroke=\"#000000\" points=\"3168,-1054 3043,-1054 3043,-1035 3168,-1035 3168,-1054\"/>\n<text text-anchor=\"middle\" x=\"3105.5\" y=\"-1042\" font-family=\"monospace\" font-size=\"10.00\" fill=\"#000000\">ThnnConv2DBackward</text>\n</g>\n<!-- 140196087642256&#45;&gt;140196087642128 -->\n<g id=\"edge18\" class=\"edge\">\n<title>140196087642256&#45;&gt;140196087642128</title>\n<path fill=\"none\" stroke=\"#000000\" d=\"M3122.3701,-1034.7796C3139.2853,-1025.0332 3165.544,-1009.9032 3185.0026,-998.6914\"/>\n<polygon fill=\"#000000\" stroke=\"#000000\" points=\"3186.7546,-1001.7214 3193.6718,-993.6962 3183.2598,-995.6561 3186.7546,-1001.7214\"/>\n</g>\n<!-- 140196087642448 -->\n<g id=\"node21\" class=\"node\">\n<title>140196087642448</title>\n<polygon fill=\"#d3d3d3\" stroke=\"#000000\" points=\"2985,-1114.5 2890,-1114.5 2890,-1095.5 2985,-1095.5 2985,-1114.5\"/>\n<text text-anchor=\"middle\" x=\"2937.5\" y=\"-1102.5\" font-family=\"monospace\" font-size=\"10.00\" fill=\"#000000\">ReluBackward1</text>\n</g>\n<!-- 140196087642448&#45;&gt;140196087642256 -->\n<g id=\"edge19\" class=\"edge\">\n<title>140196087642448&#45;&gt;140196087642256</title>\n<path fill=\"none\" stroke=\"#000000\" d=\"M2964.1201,-1095.4136C2992.5057,-1085.1914 3037.6365,-1068.9389 3069.2527,-1057.5533\"/>\n<polygon fill=\"#000000\" stroke=\"#000000\" points=\"3070.7818,-1060.7228 3079.0044,-1054.0416 3068.41,-1054.1368 3070.7818,-1060.7228\"/>\n</g>\n<!-- 140196087641424 -->\n<g id=\"node217\" class=\"node\">\n<title>140196087641424</title>\n<polygon fill=\"#d3d3d3\" stroke=\"#000000\" points=\"2953,-1054 2828,-1054 2828,-1035 2953,-1035 2953,-1054\"/>\n<text text-anchor=\"middle\" x=\"2890.5\" y=\"-1042\" font-family=\"monospace\" font-size=\"10.00\" fill=\"#000000\">ThnnConv2DBackward</text>\n</g>\n<!-- 140196087642448&#45;&gt;140196087641424 -->\n<g id=\"edge222\" class=\"edge\">\n<title>140196087642448&#45;&gt;140196087641424</title>\n<path fill=\"none\" stroke=\"#000000\" d=\"M2929.9486,-1095.2796C2923.0689,-1086.4239 2912.7364,-1073.1235 2904.3717,-1062.3561\"/>\n<polygon fill=\"#000000\" stroke=\"#000000\" points=\"2907.0877,-1060.1471 2898.1888,-1054.3972 2901.5597,-1064.4415 2907.0877,-1060.1471\"/>\n</g>\n<!-- 140196087641552 -->\n<g id=\"node22\" class=\"node\">\n<title>140196087641552</title>\n<polygon fill=\"#d3d3d3\" stroke=\"#000000\" points=\"2982,-1180.5 2893,-1180.5 2893,-1161.5 2982,-1161.5 2982,-1180.5\"/>\n<text text-anchor=\"middle\" x=\"2937.5\" y=\"-1168.5\" font-family=\"monospace\" font-size=\"10.00\" fill=\"#000000\">AddBackward0</text>\n</g>\n<!-- 140196087641552&#45;&gt;140196087642448 -->\n<g id=\"edge20\" class=\"edge\">\n<title>140196087641552&#45;&gt;140196087642448</title>\n<path fill=\"none\" stroke=\"#000000\" d=\"M2937.5,-1161.2615C2937.5,-1151.7077 2937.5,-1136.8615 2937.5,-1124.8183\"/>\n<polygon fill=\"#000000\" stroke=\"#000000\" points=\"2941.0001,-1124.7784 2937.5,-1114.7785 2934.0001,-1124.7785 2941.0001,-1124.7784\"/>\n</g>\n<!-- 140196087642640 -->\n<g id=\"node23\" class=\"node\">\n<title>140196087642640</title>\n<polygon fill=\"#d3d3d3\" stroke=\"#000000\" points=\"3187,-1241 3032,-1241 3032,-1222 3187,-1222 3187,-1241\"/>\n<text text-anchor=\"middle\" x=\"3109.5\" y=\"-1229\" font-family=\"monospace\" font-size=\"10.00\" fill=\"#000000\">NativeBatchNormBackward</text>\n</g>\n<!-- 140196087642640&#45;&gt;140196087641552 -->\n<g id=\"edge21\" class=\"edge\">\n<title>140196087642640&#45;&gt;140196087641552</title>\n<path fill=\"none\" stroke=\"#000000\" d=\"M3082.2461,-1221.9136C3053.0589,-1211.6472 3006.5789,-1195.2981 2974.1907,-1183.9058\"/>\n<polygon fill=\"#000000\" stroke=\"#000000\" points=\"2975.2212,-1180.5581 2964.6264,-1180.5416 2972.8985,-1187.1615 2975.2212,-1180.5581\"/>\n</g>\n<!-- 140196087641808 -->\n<g id=\"node24\" class=\"node\">\n<title>140196087641808</title>\n<polygon fill=\"#d3d3d3\" stroke=\"#000000\" points=\"3107,-1296 2982,-1296 2982,-1277 3107,-1277 3107,-1296\"/>\n<text text-anchor=\"middle\" x=\"3044.5\" y=\"-1284\" font-family=\"monospace\" font-size=\"10.00\" fill=\"#000000\">ThnnConv2DBackward</text>\n</g>\n<!-- 140196087641808&#45;&gt;140196087642640 -->\n<g id=\"edge22\" class=\"edge\">\n<title>140196087641808&#45;&gt;140196087642640</title>\n<path fill=\"none\" stroke=\"#000000\" d=\"M3055.8221,-1276.9197C3065.2132,-1268.9735 3078.7827,-1257.4916 3089.9285,-1248.0605\"/>\n<polygon fill=\"#000000\" stroke=\"#000000\" points=\"3092.4969,-1250.4721 3097.8699,-1241.3408 3087.9752,-1245.1284 3092.4969,-1250.4721\"/>\n</g>\n<!-- 140196087643472 -->\n<g id=\"node25\" class=\"node\">\n<title>140196087643472</title>\n<polygon fill=\"#d3d3d3\" stroke=\"#000000\" points=\"2897,-1356.5 2802,-1356.5 2802,-1337.5 2897,-1337.5 2897,-1356.5\"/>\n<text text-anchor=\"middle\" x=\"2849.5\" y=\"-1344.5\" font-family=\"monospace\" font-size=\"10.00\" fill=\"#000000\">ReluBackward1</text>\n</g>\n<!-- 140196087643472&#45;&gt;140196087641808 -->\n<g id=\"edge23\" class=\"edge\">\n<title>140196087643472&#45;&gt;140196087641808</title>\n<path fill=\"none\" stroke=\"#000000\" d=\"M2880.3983,-1337.4136C2913.7738,-1327.0587 2967.0938,-1310.5158 3003.849,-1299.1122\"/>\n<polygon fill=\"#000000\" stroke=\"#000000\" points=\"3005.2325,-1302.3477 3013.7462,-1296.0416 3003.1582,-1295.662 3005.2325,-1302.3477\"/>\n</g>\n<!-- 140196087642896 -->\n<g id=\"node26\" class=\"node\">\n<title>140196087642896</title>\n<polygon fill=\"#d3d3d3\" stroke=\"#000000\" points=\"2907,-1422.5 2752,-1422.5 2752,-1403.5 2907,-1403.5 2907,-1422.5\"/>\n<text text-anchor=\"middle\" x=\"2829.5\" y=\"-1410.5\" font-family=\"monospace\" font-size=\"10.00\" fill=\"#000000\">NativeBatchNormBackward</text>\n</g>\n<!-- 140196087642896&#45;&gt;140196087643472 -->\n<g id=\"edge24\" class=\"edge\">\n<title>140196087642896&#45;&gt;140196087643472</title>\n<path fill=\"none\" stroke=\"#000000\" d=\"M2832.4511,-1403.2615C2835.3757,-1393.6102 2839.937,-1378.558 2843.6059,-1366.4506\"/>\n<polygon fill=\"#000000\" stroke=\"#000000\" points=\"2846.9863,-1367.3638 2846.5368,-1356.7785 2840.2871,-1365.3337 2846.9863,-1367.3638\"/>\n</g>\n<!-- 140196087643280 -->\n<g id=\"node27\" class=\"node\">\n<title>140196087643280</title>\n<polygon fill=\"#d3d3d3\" stroke=\"#000000\" points=\"2787,-1483 2662,-1483 2662,-1464 2787,-1464 2787,-1483\"/>\n<text text-anchor=\"middle\" x=\"2724.5\" y=\"-1471\" font-family=\"monospace\" font-size=\"10.00\" fill=\"#000000\">ThnnConv2DBackward</text>\n</g>\n<!-- 140196087643280&#45;&gt;140196087642896 -->\n<g id=\"edge25\" class=\"edge\">\n<title>140196087643280&#45;&gt;140196087642896</title>\n<path fill=\"none\" stroke=\"#000000\" d=\"M2741.3701,-1463.7796C2758.2853,-1454.0332 2784.544,-1438.9032 2804.0026,-1427.6914\"/>\n<polygon fill=\"#000000\" stroke=\"#000000\" points=\"2805.7546,-1430.7214 2812.6718,-1422.6962 2802.2598,-1424.6561 2805.7546,-1430.7214\"/>\n</g>\n<!-- 140196087643024 -->\n<g id=\"node28\" class=\"node\">\n<title>140196087643024</title>\n<polygon fill=\"#d3d3d3\" stroke=\"#000000\" points=\"2604,-1543.5 2509,-1543.5 2509,-1524.5 2604,-1524.5 2604,-1543.5\"/>\n<text text-anchor=\"middle\" x=\"2556.5\" y=\"-1531.5\" font-family=\"monospace\" font-size=\"10.00\" fill=\"#000000\">ReluBackward1</text>\n</g>\n<!-- 140196087643024&#45;&gt;140196087643280 -->\n<g id=\"edge26\" class=\"edge\">\n<title>140196087643024&#45;&gt;140196087643280</title>\n<path fill=\"none\" stroke=\"#000000\" d=\"M2583.1201,-1524.4136C2611.5057,-1514.1914 2656.6365,-1497.9389 2688.2527,-1486.5533\"/>\n<polygon fill=\"#000000\" stroke=\"#000000\" points=\"2689.7818,-1489.7228 2698.0044,-1483.0416 2687.41,-1483.1368 2689.7818,-1489.7228\"/>\n</g>\n<!-- 140196087643408 -->\n<g id=\"node196\" class=\"node\">\n<title>140196087643408</title>\n<polygon fill=\"#d3d3d3\" stroke=\"#000000\" points=\"2572,-1483 2447,-1483 2447,-1464 2572,-1464 2572,-1483\"/>\n<text text-anchor=\"middle\" x=\"2509.5\" y=\"-1471\" font-family=\"monospace\" font-size=\"10.00\" fill=\"#000000\">ThnnConv2DBackward</text>\n</g>\n<!-- 140196087643024&#45;&gt;140196087643408 -->\n<g id=\"edge200\" class=\"edge\">\n<title>140196087643024&#45;&gt;140196087643408</title>\n<path fill=\"none\" stroke=\"#000000\" d=\"M2548.9486,-1524.2796C2542.0689,-1515.4239 2531.7364,-1502.1235 2523.3717,-1491.3561\"/>\n<polygon fill=\"#000000\" stroke=\"#000000\" points=\"2526.0877,-1489.1471 2517.1888,-1483.3972 2520.5597,-1493.4415 2526.0877,-1489.1471\"/>\n</g>\n<!-- 140196087643920 -->\n<g id=\"node29\" class=\"node\">\n<title>140196087643920</title>\n<polygon fill=\"#d3d3d3\" stroke=\"#000000\" points=\"2601,-1609.5 2512,-1609.5 2512,-1590.5 2601,-1590.5 2601,-1609.5\"/>\n<text text-anchor=\"middle\" x=\"2556.5\" y=\"-1597.5\" font-family=\"monospace\" font-size=\"10.00\" fill=\"#000000\">AddBackward0</text>\n</g>\n<!-- 140196087643920&#45;&gt;140196087643024 -->\n<g id=\"edge27\" class=\"edge\">\n<title>140196087643920&#45;&gt;140196087643024</title>\n<path fill=\"none\" stroke=\"#000000\" d=\"M2556.5,-1590.2615C2556.5,-1580.7077 2556.5,-1565.8615 2556.5,-1553.8183\"/>\n<polygon fill=\"#000000\" stroke=\"#000000\" points=\"2560.0001,-1553.7784 2556.5,-1543.7785 2553.0001,-1553.7785 2560.0001,-1553.7784\"/>\n</g>\n<!-- 140196087730256 -->\n<g id=\"node30\" class=\"node\">\n<title>140196087730256</title>\n<polygon fill=\"#d3d3d3\" stroke=\"#000000\" points=\"2806,-1670 2651,-1670 2651,-1651 2806,-1651 2806,-1670\"/>\n<text text-anchor=\"middle\" x=\"2728.5\" y=\"-1658\" font-family=\"monospace\" font-size=\"10.00\" fill=\"#000000\">NativeBatchNormBackward</text>\n</g>\n<!-- 140196087730256&#45;&gt;140196087643920 -->\n<g id=\"edge28\" class=\"edge\">\n<title>140196087730256&#45;&gt;140196087643920</title>\n<path fill=\"none\" stroke=\"#000000\" d=\"M2701.2461,-1650.9136C2672.0589,-1640.6472 2625.5789,-1624.2981 2593.1907,-1612.9058\"/>\n<polygon fill=\"#000000\" stroke=\"#000000\" points=\"2594.2212,-1609.5581 2583.6264,-1609.5416 2591.8985,-1616.1615 2594.2212,-1609.5581\"/>\n</g>\n<!-- 140196087644112 -->\n<g id=\"node31\" class=\"node\">\n<title>140196087644112</title>\n<polygon fill=\"#d3d3d3\" stroke=\"#000000\" points=\"2726,-1725 2601,-1725 2601,-1706 2726,-1706 2726,-1725\"/>\n<text text-anchor=\"middle\" x=\"2663.5\" y=\"-1713\" font-family=\"monospace\" font-size=\"10.00\" fill=\"#000000\">ThnnConv2DBackward</text>\n</g>\n<!-- 140196087644112&#45;&gt;140196087730256 -->\n<g id=\"edge29\" class=\"edge\">\n<title>140196087644112&#45;&gt;140196087730256</title>\n<path fill=\"none\" stroke=\"#000000\" d=\"M2674.8221,-1705.9197C2684.2132,-1697.9735 2697.7827,-1686.4916 2708.9285,-1677.0605\"/>\n<polygon fill=\"#000000\" stroke=\"#000000\" points=\"2711.4969,-1679.4721 2716.8699,-1670.3408 2706.9752,-1674.1284 2711.4969,-1679.4721\"/>\n</g>\n<!-- 140196087301200 -->\n<g id=\"node32\" class=\"node\">\n<title>140196087301200</title>\n<polygon fill=\"#d3d3d3\" stroke=\"#000000\" points=\"2516,-1785.5 2421,-1785.5 2421,-1766.5 2516,-1766.5 2516,-1785.5\"/>\n<text text-anchor=\"middle\" x=\"2468.5\" y=\"-1773.5\" font-family=\"monospace\" font-size=\"10.00\" fill=\"#000000\">ReluBackward1</text>\n</g>\n<!-- 140196087301200&#45;&gt;140196087644112 -->\n<g id=\"edge30\" class=\"edge\">\n<title>140196087301200&#45;&gt;140196087644112</title>\n<path fill=\"none\" stroke=\"#000000\" d=\"M2499.3983,-1766.4136C2532.7738,-1756.0587 2586.0938,-1739.5158 2622.849,-1728.1122\"/>\n<polygon fill=\"#000000\" stroke=\"#000000\" points=\"2624.2325,-1731.3477 2632.7462,-1725.0416 2622.1582,-1724.662 2624.2325,-1731.3477\"/>\n</g>\n<!-- 140196087302608 -->\n<g id=\"node33\" class=\"node\">\n<title>140196087302608</title>\n<polygon fill=\"#d3d3d3\" stroke=\"#000000\" points=\"2526,-1851.5 2371,-1851.5 2371,-1832.5 2526,-1832.5 2526,-1851.5\"/>\n<text text-anchor=\"middle\" x=\"2448.5\" y=\"-1839.5\" font-family=\"monospace\" font-size=\"10.00\" fill=\"#000000\">NativeBatchNormBackward</text>\n</g>\n<!-- 140196087302608&#45;&gt;140196087301200 -->\n<g id=\"edge31\" class=\"edge\">\n<title>140196087302608&#45;&gt;140196087301200</title>\n<path fill=\"none\" stroke=\"#000000\" d=\"M2451.4511,-1832.2615C2454.3757,-1822.6102 2458.937,-1807.558 2462.6059,-1795.4506\"/>\n<polygon fill=\"#000000\" stroke=\"#000000\" points=\"2465.9863,-1796.3638 2465.5368,-1785.7785 2459.2871,-1794.3337 2465.9863,-1796.3638\"/>\n</g>\n<!-- 140196087302352 -->\n<g id=\"node34\" class=\"node\">\n<title>140196087302352</title>\n<polygon fill=\"#d3d3d3\" stroke=\"#000000\" points=\"2406,-1912 2281,-1912 2281,-1893 2406,-1893 2406,-1912\"/>\n<text text-anchor=\"middle\" x=\"2343.5\" y=\"-1900\" font-family=\"monospace\" font-size=\"10.00\" fill=\"#000000\">ThnnConv2DBackward</text>\n</g>\n<!-- 140196087302352&#45;&gt;140196087302608 -->\n<g id=\"edge32\" class=\"edge\">\n<title>140196087302352&#45;&gt;140196087302608</title>\n<path fill=\"none\" stroke=\"#000000\" d=\"M2360.3701,-1892.7796C2377.2853,-1883.0332 2403.544,-1867.9032 2423.0026,-1856.6914\"/>\n<polygon fill=\"#000000\" stroke=\"#000000\" points=\"2424.7546,-1859.7214 2431.6718,-1851.6962 2421.2598,-1853.6561 2424.7546,-1859.7214\"/>\n</g>\n<!-- 140196087302928 -->\n<g id=\"node35\" class=\"node\">\n<title>140196087302928</title>\n<polygon fill=\"#d3d3d3\" stroke=\"#000000\" points=\"2225,-1972.5 2130,-1972.5 2130,-1953.5 2225,-1953.5 2225,-1972.5\"/>\n<text text-anchor=\"middle\" x=\"2177.5\" y=\"-1960.5\" font-family=\"monospace\" font-size=\"10.00\" fill=\"#000000\">ReluBackward1</text>\n</g>\n<!-- 140196087302928&#45;&gt;140196087302352 -->\n<g id=\"edge33\" class=\"edge\">\n<title>140196087302928&#45;&gt;140196087302352</title>\n<path fill=\"none\" stroke=\"#000000\" d=\"M2203.8032,-1953.4136C2231.8508,-1943.1914 2276.4444,-1926.9389 2307.6842,-1915.5533\"/>\n<polygon fill=\"#000000\" stroke=\"#000000\" points=\"2309.1229,-1918.7543 2317.3199,-1912.0416 2306.7259,-1912.1775 2309.1229,-1918.7543\"/>\n</g>\n<!-- 140196087730512 -->\n<g id=\"node175\" class=\"node\">\n<title>140196087730512</title>\n<polygon fill=\"#d3d3d3\" stroke=\"#000000\" points=\"2202,-1912 2077,-1912 2077,-1893 2202,-1893 2202,-1912\"/>\n<text text-anchor=\"middle\" x=\"2139.5\" y=\"-1900\" font-family=\"monospace\" font-size=\"10.00\" fill=\"#000000\">ThnnConv2DBackward</text>\n</g>\n<!-- 140196087302928&#45;&gt;140196087730512 -->\n<g id=\"edge178\" class=\"edge\">\n<title>140196087302928&#45;&gt;140196087730512</title>\n<path fill=\"none\" stroke=\"#000000\" d=\"M2171.3946,-1953.2796C2165.9425,-1944.5992 2157.8081,-1931.6485 2151.119,-1920.9987\"/>\n<polygon fill=\"#000000\" stroke=\"#000000\" points=\"2153.9992,-1919.0038 2145.7164,-1912.3972 2148.0715,-1922.727 2153.9992,-1919.0038\"/>\n</g>\n<!-- 140196087303440 -->\n<g id=\"node36\" class=\"node\">\n<title>140196087303440</title>\n<polygon fill=\"#d3d3d3\" stroke=\"#000000\" points=\"2222,-2038.5 2133,-2038.5 2133,-2019.5 2222,-2019.5 2222,-2038.5\"/>\n<text text-anchor=\"middle\" x=\"2177.5\" y=\"-2026.5\" font-family=\"monospace\" font-size=\"10.00\" fill=\"#000000\">AddBackward0</text>\n</g>\n<!-- 140196087303440&#45;&gt;140196087302928 -->\n<g id=\"edge34\" class=\"edge\">\n<title>140196087303440&#45;&gt;140196087302928</title>\n<path fill=\"none\" stroke=\"#000000\" d=\"M2177.5,-2019.2615C2177.5,-2009.7077 2177.5,-1994.8615 2177.5,-1982.8183\"/>\n<polygon fill=\"#000000\" stroke=\"#000000\" points=\"2181.0001,-1982.7784 2177.5,-1972.7785 2174.0001,-1982.7785 2181.0001,-1982.7784\"/>\n</g>\n<!-- 140196087302160 -->\n<g id=\"node37\" class=\"node\">\n<title>140196087302160</title>\n<polygon fill=\"#d3d3d3\" stroke=\"#000000\" points=\"2427,-2099 2272,-2099 2272,-2080 2427,-2080 2427,-2099\"/>\n<text text-anchor=\"middle\" x=\"2349.5\" y=\"-2087\" font-family=\"monospace\" font-size=\"10.00\" fill=\"#000000\">NativeBatchNormBackward</text>\n</g>\n<!-- 140196087302160&#45;&gt;140196087303440 -->\n<g id=\"edge35\" class=\"edge\">\n<title>140196087302160&#45;&gt;140196087303440</title>\n<path fill=\"none\" stroke=\"#000000\" d=\"M2322.2461,-2079.9136C2293.0589,-2069.6472 2246.5789,-2053.2981 2214.1907,-2041.9058\"/>\n<polygon fill=\"#000000\" stroke=\"#000000\" points=\"2215.2212,-2038.5581 2204.6264,-2038.5416 2212.8985,-2045.1615 2215.2212,-2038.5581\"/>\n</g>\n<!-- 140196087303632 -->\n<g id=\"node38\" class=\"node\">\n<title>140196087303632</title>\n<polygon fill=\"#d3d3d3\" stroke=\"#000000\" points=\"2347,-2154 2222,-2154 2222,-2135 2347,-2135 2347,-2154\"/>\n<text text-anchor=\"middle\" x=\"2284.5\" y=\"-2142\" font-family=\"monospace\" font-size=\"10.00\" fill=\"#000000\">ThnnConv2DBackward</text>\n</g>\n<!-- 140196087303632&#45;&gt;140196087302160 -->\n<g id=\"edge36\" class=\"edge\">\n<title>140196087303632&#45;&gt;140196087302160</title>\n<path fill=\"none\" stroke=\"#000000\" d=\"M2295.8221,-2134.9197C2305.2132,-2126.9735 2318.7827,-2115.4916 2329.9285,-2106.0605\"/>\n<polygon fill=\"#000000\" stroke=\"#000000\" points=\"2332.4969,-2108.4721 2337.8699,-2099.3408 2327.9752,-2103.1284 2332.4969,-2108.4721\"/>\n</g>\n<!-- 140196087304016 -->\n<g id=\"node39\" class=\"node\">\n<title>140196087304016</title>\n<polygon fill=\"#d3d3d3\" stroke=\"#000000\" points=\"2137,-2214.5 2042,-2214.5 2042,-2195.5 2137,-2195.5 2137,-2214.5\"/>\n<text text-anchor=\"middle\" x=\"2089.5\" y=\"-2202.5\" font-family=\"monospace\" font-size=\"10.00\" fill=\"#000000\">ReluBackward1</text>\n</g>\n<!-- 140196087304016&#45;&gt;140196087303632 -->\n<g id=\"edge37\" class=\"edge\">\n<title>140196087304016&#45;&gt;140196087303632</title>\n<path fill=\"none\" stroke=\"#000000\" d=\"M2120.3983,-2195.4136C2153.7738,-2185.0587 2207.0938,-2168.5158 2243.849,-2157.1122\"/>\n<polygon fill=\"#000000\" stroke=\"#000000\" points=\"2245.2325,-2160.3477 2253.7462,-2154.0416 2243.1582,-2153.662 2245.2325,-2160.3477\"/>\n</g>\n<!-- 140196087303568 -->\n<g id=\"node40\" class=\"node\">\n<title>140196087303568</title>\n<polygon fill=\"#d3d3d3\" stroke=\"#000000\" points=\"2147,-2280.5 1992,-2280.5 1992,-2261.5 2147,-2261.5 2147,-2280.5\"/>\n<text text-anchor=\"middle\" x=\"2069.5\" y=\"-2268.5\" font-family=\"monospace\" font-size=\"10.00\" fill=\"#000000\">NativeBatchNormBackward</text>\n</g>\n<!-- 140196087303568&#45;&gt;140196087304016 -->\n<g id=\"edge38\" class=\"edge\">\n<title>140196087303568&#45;&gt;140196087304016</title>\n<path fill=\"none\" stroke=\"#000000\" d=\"M2072.4511,-2261.2615C2075.3757,-2251.6102 2079.937,-2236.558 2083.6059,-2224.4506\"/>\n<polygon fill=\"#000000\" stroke=\"#000000\" points=\"2086.9863,-2225.3638 2086.5368,-2214.7785 2080.2871,-2223.3337 2086.9863,-2225.3638\"/>\n</g>\n<!-- 140196087302544 -->\n<g id=\"node41\" class=\"node\">\n<title>140196087302544</title>\n<polygon fill=\"#d3d3d3\" stroke=\"#000000\" points=\"2027,-2341 1902,-2341 1902,-2322 2027,-2322 2027,-2341\"/>\n<text text-anchor=\"middle\" x=\"1964.5\" y=\"-2329\" font-family=\"monospace\" font-size=\"10.00\" fill=\"#000000\">ThnnConv2DBackward</text>\n</g>\n<!-- 140196087302544&#45;&gt;140196087303568 -->\n<g id=\"edge39\" class=\"edge\">\n<title>140196087302544&#45;&gt;140196087303568</title>\n<path fill=\"none\" stroke=\"#000000\" d=\"M1981.3701,-2321.7796C1998.2853,-2312.0332 2024.544,-2296.9032 2044.0026,-2285.6914\"/>\n<polygon fill=\"#000000\" stroke=\"#000000\" points=\"2045.7546,-2288.7214 2052.6718,-2280.6962 2042.2598,-2282.6561 2045.7546,-2288.7214\"/>\n</g>\n<!-- 140196087402704 -->\n<g id=\"node42\" class=\"node\">\n<title>140196087402704</title>\n<polygon fill=\"#d3d3d3\" stroke=\"#000000\" points=\"1846,-2401.5 1751,-2401.5 1751,-2382.5 1846,-2382.5 1846,-2401.5\"/>\n<text text-anchor=\"middle\" x=\"1798.5\" y=\"-2389.5\" font-family=\"monospace\" font-size=\"10.00\" fill=\"#000000\">ReluBackward1</text>\n</g>\n<!-- 140196087402704&#45;&gt;140196087302544 -->\n<g id=\"edge40\" class=\"edge\">\n<title>140196087402704&#45;&gt;140196087302544</title>\n<path fill=\"none\" stroke=\"#000000\" d=\"M1824.8032,-2382.4136C1852.8508,-2372.1914 1897.4444,-2355.9389 1928.6842,-2344.5533\"/>\n<polygon fill=\"#000000\" stroke=\"#000000\" points=\"1930.1229,-2347.7543 1938.3199,-2341.0416 1927.7259,-2341.1775 1930.1229,-2347.7543\"/>\n</g>\n<!-- 140196087303760 -->\n<g id=\"node154\" class=\"node\">\n<title>140196087303760</title>\n<polygon fill=\"#d3d3d3\" stroke=\"#000000\" points=\"1823,-2341 1698,-2341 1698,-2322 1823,-2322 1823,-2341\"/>\n<text text-anchor=\"middle\" x=\"1760.5\" y=\"-2329\" font-family=\"monospace\" font-size=\"10.00\" fill=\"#000000\">ThnnConv2DBackward</text>\n</g>\n<!-- 140196087402704&#45;&gt;140196087303760 -->\n<g id=\"edge156\" class=\"edge\">\n<title>140196087402704&#45;&gt;140196087303760</title>\n<path fill=\"none\" stroke=\"#000000\" d=\"M1792.3946,-2382.2796C1786.9425,-2373.5992 1778.8081,-2360.6485 1772.119,-2349.9987\"/>\n<polygon fill=\"#000000\" stroke=\"#000000\" points=\"1774.9992,-2348.0038 1766.7164,-2341.3972 1769.0715,-2351.727 1774.9992,-2348.0038\"/>\n</g>\n<!-- 140196087402960 -->\n<g id=\"node43\" class=\"node\">\n<title>140196087402960</title>\n<polygon fill=\"#d3d3d3\" stroke=\"#000000\" points=\"1843,-2467.5 1754,-2467.5 1754,-2448.5 1843,-2448.5 1843,-2467.5\"/>\n<text text-anchor=\"middle\" x=\"1798.5\" y=\"-2455.5\" font-family=\"monospace\" font-size=\"10.00\" fill=\"#000000\">AddBackward0</text>\n</g>\n<!-- 140196087402960&#45;&gt;140196087402704 -->\n<g id=\"edge41\" class=\"edge\">\n<title>140196087402960&#45;&gt;140196087402704</title>\n<path fill=\"none\" stroke=\"#000000\" d=\"M1798.5,-2448.2615C1798.5,-2438.7077 1798.5,-2423.8615 1798.5,-2411.8183\"/>\n<polygon fill=\"#000000\" stroke=\"#000000\" points=\"1802.0001,-2411.7784 1798.5,-2401.7785 1795.0001,-2411.7785 1802.0001,-2411.7784\"/>\n</g>\n<!-- 140196087403152 -->\n<g id=\"node44\" class=\"node\">\n<title>140196087403152</title>\n<polygon fill=\"#d3d3d3\" stroke=\"#000000\" points=\"2059,-2528 1904,-2528 1904,-2509 2059,-2509 2059,-2528\"/>\n<text text-anchor=\"middle\" x=\"1981.5\" y=\"-2516\" font-family=\"monospace\" font-size=\"10.00\" fill=\"#000000\">NativeBatchNormBackward</text>\n</g>\n<!-- 140196087403152&#45;&gt;140196087402960 -->\n<g id=\"edge42\" class=\"edge\">\n<title>140196087403152&#45;&gt;140196087402960</title>\n<path fill=\"none\" stroke=\"#000000\" d=\"M1952.5031,-2508.9136C1921.3154,-2498.6029 1871.5701,-2482.157 1837.0925,-2470.7587\"/>\n<polygon fill=\"#000000\" stroke=\"#000000\" points=\"1837.9545,-2467.3574 1827.3612,-2467.5416 1835.7572,-2474.0036 1837.9545,-2467.3574\"/>\n</g>\n<!-- 140196087403024 -->\n<g id=\"node45\" class=\"node\">\n<title>140196087403024</title>\n<polygon fill=\"#d3d3d3\" stroke=\"#000000\" points=\"1979,-2583 1854,-2583 1854,-2564 1979,-2564 1979,-2583\"/>\n<text text-anchor=\"middle\" x=\"1916.5\" y=\"-2571\" font-family=\"monospace\" font-size=\"10.00\" fill=\"#000000\">ThnnConv2DBackward</text>\n</g>\n<!-- 140196087403024&#45;&gt;140196087403152 -->\n<g id=\"edge43\" class=\"edge\">\n<title>140196087403024&#45;&gt;140196087403152</title>\n<path fill=\"none\" stroke=\"#000000\" d=\"M1927.8221,-2563.9197C1937.2132,-2555.9735 1950.7827,-2544.4916 1961.9285,-2535.0605\"/>\n<polygon fill=\"#000000\" stroke=\"#000000\" points=\"1964.4969,-2537.4721 1969.8699,-2528.3408 1959.9752,-2532.1284 1964.4969,-2537.4721\"/>\n</g>\n<!-- 140196087403536 -->\n<g id=\"node46\" class=\"node\">\n<title>140196087403536</title>\n<polygon fill=\"#d3d3d3\" stroke=\"#000000\" points=\"1769,-2643.5 1674,-2643.5 1674,-2624.5 1769,-2624.5 1769,-2643.5\"/>\n<text text-anchor=\"middle\" x=\"1721.5\" y=\"-2631.5\" font-family=\"monospace\" font-size=\"10.00\" fill=\"#000000\">ReluBackward1</text>\n</g>\n<!-- 140196087403536&#45;&gt;140196087403024 -->\n<g id=\"edge44\" class=\"edge\">\n<title>140196087403536&#45;&gt;140196087403024</title>\n<path fill=\"none\" stroke=\"#000000\" d=\"M1752.3983,-2624.4136C1785.7738,-2614.0587 1839.0938,-2597.5158 1875.849,-2586.1122\"/>\n<polygon fill=\"#000000\" stroke=\"#000000\" points=\"1877.2325,-2589.3477 1885.7462,-2583.0416 1875.1582,-2582.662 1877.2325,-2589.3477\"/>\n</g>\n<!-- 140196087403792 -->\n<g id=\"node47\" class=\"node\">\n<title>140196087403792</title>\n<polygon fill=\"#d3d3d3\" stroke=\"#000000\" points=\"1779,-2709.5 1624,-2709.5 1624,-2690.5 1779,-2690.5 1779,-2709.5\"/>\n<text text-anchor=\"middle\" x=\"1701.5\" y=\"-2697.5\" font-family=\"monospace\" font-size=\"10.00\" fill=\"#000000\">NativeBatchNormBackward</text>\n</g>\n<!-- 140196087403792&#45;&gt;140196087403536 -->\n<g id=\"edge45\" class=\"edge\">\n<title>140196087403792&#45;&gt;140196087403536</title>\n<path fill=\"none\" stroke=\"#000000\" d=\"M1704.4511,-2690.2615C1707.3757,-2680.6102 1711.937,-2665.558 1715.6059,-2653.4506\"/>\n<polygon fill=\"#000000\" stroke=\"#000000\" points=\"1718.9863,-2654.3638 1718.5368,-2643.7785 1712.2871,-2652.3337 1718.9863,-2654.3638\"/>\n</g>\n<!-- 140196087403984 -->\n<g id=\"node48\" class=\"node\">\n<title>140196087403984</title>\n<polygon fill=\"#d3d3d3\" stroke=\"#000000\" points=\"1675,-2770 1508,-2770 1508,-2751 1675,-2751 1675,-2770\"/>\n<text text-anchor=\"middle\" x=\"1591.5\" y=\"-2758\" font-family=\"monospace\" font-size=\"10.00\" fill=\"#000000\">MkldnnConvolutionBackward</text>\n</g>\n<!-- 140196087403984&#45;&gt;140196087403792 -->\n<g id=\"edge46\" class=\"edge\">\n<title>140196087403984&#45;&gt;140196087403792</title>\n<path fill=\"none\" stroke=\"#000000\" d=\"M1609.1734,-2750.7796C1626.9743,-2740.9891 1654.6524,-2725.7662 1675.0647,-2714.5394\"/>\n<polygon fill=\"#000000\" stroke=\"#000000\" points=\"1676.795,-2717.5822 1683.8705,-2709.6962 1673.4216,-2711.4487 1676.795,-2717.5822\"/>\n</g>\n<!-- 140196087404176 -->\n<g id=\"node49\" class=\"node\">\n<title>140196087404176</title>\n<polygon fill=\"#d3d3d3\" stroke=\"#000000\" points=\"1465,-2830.5 1370,-2830.5 1370,-2811.5 1465,-2811.5 1465,-2830.5\"/>\n<text text-anchor=\"middle\" x=\"1417.5\" y=\"-2818.5\" font-family=\"monospace\" font-size=\"10.00\" fill=\"#000000\">ReluBackward1</text>\n</g>\n<!-- 140196087404176&#45;&gt;140196087403984 -->\n<g id=\"edge47\" class=\"edge\">\n<title>140196087404176&#45;&gt;140196087403984</title>\n<path fill=\"none\" stroke=\"#000000\" d=\"M1445.0708,-2811.4136C1474.5974,-2801.1472 1521.6179,-2784.7981 1554.3826,-2773.4058\"/>\n<polygon fill=\"#000000\" stroke=\"#000000\" points=\"1555.7623,-2776.6316 1564.0582,-2770.0416 1553.4634,-2770.0199 1555.7623,-2776.6316\"/>\n</g>\n<!-- 140196087403344 -->\n<g id=\"node133\" class=\"node\">\n<title>140196087403344</title>\n<polygon fill=\"#d3d3d3\" stroke=\"#000000\" points=\"1444,-2770 1277,-2770 1277,-2751 1444,-2751 1444,-2770\"/>\n<text text-anchor=\"middle\" x=\"1360.5\" y=\"-2758\" font-family=\"monospace\" font-size=\"10.00\" fill=\"#000000\">MkldnnConvolutionBackward</text>\n</g>\n<!-- 140196087404176&#45;&gt;140196087403344 -->\n<g id=\"edge134\" class=\"edge\">\n<title>140196087404176&#45;&gt;140196087403344</title>\n<path fill=\"none\" stroke=\"#000000\" d=\"M1408.342,-2811.2796C1399.8333,-2802.2485 1386.9697,-2788.595 1376.7233,-2777.7195\"/>\n<polygon fill=\"#000000\" stroke=\"#000000\" points=\"1379.2296,-2775.2756 1369.8247,-2770.3972 1374.1346,-2780.0758 1379.2296,-2775.2756\"/>\n</g>\n<!-- 140196087404432 -->\n<g id=\"node50\" class=\"node\">\n<title>140196087404432</title>\n<polygon fill=\"#d3d3d3\" stroke=\"#000000\" points=\"1462,-2896.5 1373,-2896.5 1373,-2877.5 1462,-2877.5 1462,-2896.5\"/>\n<text text-anchor=\"middle\" x=\"1417.5\" y=\"-2884.5\" font-family=\"monospace\" font-size=\"10.00\" fill=\"#000000\">AddBackward0</text>\n</g>\n<!-- 140196087404432&#45;&gt;140196087404176 -->\n<g id=\"edge48\" class=\"edge\">\n<title>140196087404432&#45;&gt;140196087404176</title>\n<path fill=\"none\" stroke=\"#000000\" d=\"M1417.5,-2877.2615C1417.5,-2867.7077 1417.5,-2852.8615 1417.5,-2840.8183\"/>\n<polygon fill=\"#000000\" stroke=\"#000000\" points=\"1421.0001,-2840.7784 1417.5,-2830.7785 1414.0001,-2840.7785 1421.0001,-2840.7784\"/>\n</g>\n<!-- 140196087404624 -->\n<g id=\"node51\" class=\"node\">\n<title>140196087404624</title>\n<polygon fill=\"#d3d3d3\" stroke=\"#000000\" points=\"1640,-2957 1485,-2957 1485,-2938 1640,-2938 1640,-2957\"/>\n<text text-anchor=\"middle\" x=\"1562.5\" y=\"-2945\" font-family=\"monospace\" font-size=\"10.00\" fill=\"#000000\">NativeBatchNormBackward</text>\n</g>\n<!-- 140196087404624&#45;&gt;140196087404432 -->\n<g id=\"edge49\" class=\"edge\">\n<title>140196087404624&#45;&gt;140196087404432</title>\n<path fill=\"none\" stroke=\"#000000\" d=\"M1539.5243,-2937.9136C1515.343,-2927.8242 1477.0819,-2911.8601 1449.8539,-2900.4994\"/>\n<polygon fill=\"#000000\" stroke=\"#000000\" points=\"1450.9448,-2897.1622 1440.3682,-2896.5416 1448.2493,-2903.6224 1450.9448,-2897.1622\"/>\n</g>\n<!-- 140196087404496 -->\n<g id=\"node52\" class=\"node\">\n<title>140196087404496</title>\n<polygon fill=\"#d3d3d3\" stroke=\"#000000\" points=\"1536,-3012 1369,-3012 1369,-2993 1536,-2993 1536,-3012\"/>\n<text text-anchor=\"middle\" x=\"1452.5\" y=\"-3000\" font-family=\"monospace\" font-size=\"10.00\" fill=\"#000000\">MkldnnConvolutionBackward</text>\n</g>\n<!-- 140196087404496&#45;&gt;140196087404624 -->\n<g id=\"edge50\" class=\"edge\">\n<title>140196087404496&#45;&gt;140196087404624</title>\n<path fill=\"none\" stroke=\"#000000\" d=\"M1471.6605,-2992.9197C1488.9053,-2984.2973 1514.476,-2971.512 1534.0978,-2961.7011\"/>\n<polygon fill=\"#000000\" stroke=\"#000000\" points=\"1535.8109,-2964.7577 1543.19,-2957.155 1532.6804,-2958.4967 1535.8109,-2964.7577\"/>\n</g>\n<!-- 140196087405008 -->\n<g id=\"node53\" class=\"node\">\n<title>140196087405008</title>\n<polygon fill=\"#d3d3d3\" stroke=\"#000000\" points=\"1310,-3072.5 1215,-3072.5 1215,-3053.5 1310,-3053.5 1310,-3072.5\"/>\n<text text-anchor=\"middle\" x=\"1262.5\" y=\"-3060.5\" font-family=\"monospace\" font-size=\"10.00\" fill=\"#000000\">ReluBackward1</text>\n</g>\n<!-- 140196087405008&#45;&gt;140196087404496 -->\n<g id=\"edge51\" class=\"edge\">\n<title>140196087405008&#45;&gt;140196087404496</title>\n<path fill=\"none\" stroke=\"#000000\" d=\"M1292.6061,-3053.4136C1325.1257,-3043.0587 1377.0786,-3026.5158 1412.8913,-3015.1122\"/>\n<polygon fill=\"#000000\" stroke=\"#000000\" points=\"1414.0681,-3018.4107 1422.5348,-3012.0416 1411.9442,-3011.7407 1414.0681,-3018.4107\"/>\n</g>\n<!-- 140196087405264 -->\n<g id=\"node54\" class=\"node\">\n<title>140196087405264</title>\n<polygon fill=\"#d3d3d3\" stroke=\"#000000\" points=\"1320,-3138.5 1165,-3138.5 1165,-3119.5 1320,-3119.5 1320,-3138.5\"/>\n<text text-anchor=\"middle\" x=\"1242.5\" y=\"-3126.5\" font-family=\"monospace\" font-size=\"10.00\" fill=\"#000000\">NativeBatchNormBackward</text>\n</g>\n<!-- 140196087405264&#45;&gt;140196087405008 -->\n<g id=\"edge52\" class=\"edge\">\n<title>140196087405264&#45;&gt;140196087405008</title>\n<path fill=\"none\" stroke=\"#000000\" d=\"M1245.4511,-3119.2615C1248.3757,-3109.6102 1252.937,-3094.558 1256.6059,-3082.4506\"/>\n<polygon fill=\"#000000\" stroke=\"#000000\" points=\"1259.9863,-3083.3638 1259.5368,-3072.7785 1253.2871,-3081.3337 1259.9863,-3083.3638\"/>\n</g>\n<!-- 140196087405456 -->\n<g id=\"node55\" class=\"node\">\n<title>140196087405456</title>\n<polygon fill=\"#d3d3d3\" stroke=\"#000000\" points=\"1216,-3199 1049,-3199 1049,-3180 1216,-3180 1216,-3199\"/>\n<text text-anchor=\"middle\" x=\"1132.5\" y=\"-3187\" font-family=\"monospace\" font-size=\"10.00\" fill=\"#000000\">MkldnnConvolutionBackward</text>\n</g>\n<!-- 140196087405456&#45;&gt;140196087405264 -->\n<g id=\"edge53\" class=\"edge\">\n<title>140196087405456&#45;&gt;140196087405264</title>\n<path fill=\"none\" stroke=\"#000000\" d=\"M1150.1734,-3179.7796C1167.9743,-3169.9891 1195.6524,-3154.7662 1216.0647,-3143.5394\"/>\n<polygon fill=\"#000000\" stroke=\"#000000\" points=\"1217.795,-3146.5822 1224.8705,-3138.6962 1214.4216,-3140.4487 1217.795,-3146.5822\"/>\n</g>\n<!-- 140196087405648 -->\n<g id=\"node56\" class=\"node\">\n<title>140196087405648</title>\n<polygon fill=\"#d3d3d3\" stroke=\"#000000\" points=\"1006,-3259.5 911,-3259.5 911,-3240.5 1006,-3240.5 1006,-3259.5\"/>\n<text text-anchor=\"middle\" x=\"958.5\" y=\"-3247.5\" font-family=\"monospace\" font-size=\"10.00\" fill=\"#000000\">ReluBackward1</text>\n</g>\n<!-- 140196087405648&#45;&gt;140196087405456 -->\n<g id=\"edge54\" class=\"edge\">\n<title>140196087405648&#45;&gt;140196087405456</title>\n<path fill=\"none\" stroke=\"#000000\" d=\"M986.0708,-3240.4136C1015.5974,-3230.1472 1062.6179,-3213.7981 1095.3826,-3202.4058\"/>\n<polygon fill=\"#000000\" stroke=\"#000000\" points=\"1096.7623,-3205.6316 1105.0582,-3199.0416 1094.4634,-3199.0199 1096.7623,-3205.6316\"/>\n</g>\n<!-- 140196087404816 -->\n<g id=\"node112\" class=\"node\">\n<title>140196087404816</title>\n<polygon fill=\"#d3d3d3\" stroke=\"#000000\" points=\"964,-3199 839,-3199 839,-3180 964,-3180 964,-3199\"/>\n<text text-anchor=\"middle\" x=\"901.5\" y=\"-3187\" font-family=\"monospace\" font-size=\"10.00\" fill=\"#000000\">ThnnConv2DBackward</text>\n</g>\n<!-- 140196087405648&#45;&gt;140196087404816 -->\n<g id=\"edge112\" class=\"edge\">\n<title>140196087405648&#45;&gt;140196087404816</title>\n<path fill=\"none\" stroke=\"#000000\" d=\"M949.342,-3240.2796C940.8333,-3231.2485 927.9697,-3217.595 917.7233,-3206.7195\"/>\n<polygon fill=\"#000000\" stroke=\"#000000\" points=\"920.2296,-3204.2756 910.8247,-3199.3972 915.1346,-3209.0758 920.2296,-3204.2756\"/>\n</g>\n<!-- 140196087405904 -->\n<g id=\"node57\" class=\"node\">\n<title>140196087405904</title>\n<polygon fill=\"#d3d3d3\" stroke=\"#000000\" points=\"1003,-3325.5 914,-3325.5 914,-3306.5 1003,-3306.5 1003,-3325.5\"/>\n<text text-anchor=\"middle\" x=\"958.5\" y=\"-3313.5\" font-family=\"monospace\" font-size=\"10.00\" fill=\"#000000\">AddBackward0</text>\n</g>\n<!-- 140196087405904&#45;&gt;140196087405648 -->\n<g id=\"edge55\" class=\"edge\">\n<title>140196087405904&#45;&gt;140196087405648</title>\n<path fill=\"none\" stroke=\"#000000\" d=\"M958.5,-3306.2615C958.5,-3296.7077 958.5,-3281.8615 958.5,-3269.8183\"/>\n<polygon fill=\"#000000\" stroke=\"#000000\" points=\"962.0001,-3269.7784 958.5,-3259.7785 955.0001,-3269.7785 962.0001,-3269.7784\"/>\n</g>\n<!-- 140196087406096 -->\n<g id=\"node58\" class=\"node\">\n<title>140196087406096</title>\n<polygon fill=\"#d3d3d3\" stroke=\"#000000\" points=\"1181,-3386 1026,-3386 1026,-3367 1181,-3367 1181,-3386\"/>\n<text text-anchor=\"middle\" x=\"1103.5\" y=\"-3374\" font-family=\"monospace\" font-size=\"10.00\" fill=\"#000000\">NativeBatchNormBackward</text>\n</g>\n<!-- 140196087406096&#45;&gt;140196087405904 -->\n<g id=\"edge56\" class=\"edge\">\n<title>140196087406096&#45;&gt;140196087405904</title>\n<path fill=\"none\" stroke=\"#000000\" d=\"M1080.5243,-3366.9136C1056.343,-3356.8242 1018.0819,-3340.8601 990.8539,-3329.4994\"/>\n<polygon fill=\"#000000\" stroke=\"#000000\" points=\"991.9448,-3326.1622 981.3682,-3325.5416 989.2493,-3332.6224 991.9448,-3326.1622\"/>\n</g>\n<!-- 140196087405968 -->\n<g id=\"node59\" class=\"node\">\n<title>140196087405968</title>\n<polygon fill=\"#d3d3d3\" stroke=\"#000000\" points=\"1077,-3441 910,-3441 910,-3422 1077,-3422 1077,-3441\"/>\n<text text-anchor=\"middle\" x=\"993.5\" y=\"-3429\" font-family=\"monospace\" font-size=\"10.00\" fill=\"#000000\">MkldnnConvolutionBackward</text>\n</g>\n<!-- 140196087405968&#45;&gt;140196087406096 -->\n<g id=\"edge57\" class=\"edge\">\n<title>140196087405968&#45;&gt;140196087406096</title>\n<path fill=\"none\" stroke=\"#000000\" d=\"M1012.6605,-3421.9197C1029.9053,-3413.2973 1055.476,-3400.512 1075.0978,-3390.7011\"/>\n<polygon fill=\"#000000\" stroke=\"#000000\" points=\"1076.8109,-3393.7577 1084.19,-3386.155 1073.6804,-3387.4967 1076.8109,-3393.7577\"/>\n</g>\n<!-- 140196087406480 -->\n<g id=\"node60\" class=\"node\">\n<title>140196087406480</title>\n<polygon fill=\"#d3d3d3\" stroke=\"#000000\" points=\"851,-3501.5 756,-3501.5 756,-3482.5 851,-3482.5 851,-3501.5\"/>\n<text text-anchor=\"middle\" x=\"803.5\" y=\"-3489.5\" font-family=\"monospace\" font-size=\"10.00\" fill=\"#000000\">ReluBackward1</text>\n</g>\n<!-- 140196087406480&#45;&gt;140196087405968 -->\n<g id=\"edge58\" class=\"edge\">\n<title>140196087406480&#45;&gt;140196087405968</title>\n<path fill=\"none\" stroke=\"#000000\" d=\"M833.6061,-3482.4136C866.1257,-3472.0587 918.0786,-3455.5158 953.8913,-3444.1122\"/>\n<polygon fill=\"#000000\" stroke=\"#000000\" points=\"955.0681,-3447.4107 963.5348,-3441.0416 952.9442,-3440.7407 955.0681,-3447.4107\"/>\n</g>\n<!-- 140196087435472 -->\n<g id=\"node61\" class=\"node\">\n<title>140196087435472</title>\n<polygon fill=\"#d3d3d3\" stroke=\"#000000\" points=\"861,-3567.5 706,-3567.5 706,-3548.5 861,-3548.5 861,-3567.5\"/>\n<text text-anchor=\"middle\" x=\"783.5\" y=\"-3555.5\" font-family=\"monospace\" font-size=\"10.00\" fill=\"#000000\">NativeBatchNormBackward</text>\n</g>\n<!-- 140196087435472&#45;&gt;140196087406480 -->\n<g id=\"edge59\" class=\"edge\">\n<title>140196087435472&#45;&gt;140196087406480</title>\n<path fill=\"none\" stroke=\"#000000\" d=\"M786.4511,-3548.2615C789.3757,-3538.6102 793.937,-3523.558 797.6059,-3511.4506\"/>\n<polygon fill=\"#000000\" stroke=\"#000000\" points=\"800.9863,-3512.3638 800.5368,-3501.7785 794.2871,-3510.3337 800.9863,-3512.3638\"/>\n</g>\n<!-- 140196087435664 -->\n<g id=\"node62\" class=\"node\">\n<title>140196087435664</title>\n<polygon fill=\"#d3d3d3\" stroke=\"#000000\" points=\"757,-3628 590,-3628 590,-3609 757,-3609 757,-3628\"/>\n<text text-anchor=\"middle\" x=\"673.5\" y=\"-3616\" font-family=\"monospace\" font-size=\"10.00\" fill=\"#000000\">MkldnnConvolutionBackward</text>\n</g>\n<!-- 140196087435664&#45;&gt;140196087435472 -->\n<g id=\"edge60\" class=\"edge\">\n<title>140196087435664&#45;&gt;140196087435472</title>\n<path fill=\"none\" stroke=\"#000000\" d=\"M691.1734,-3608.7796C708.9743,-3598.9891 736.6524,-3583.7662 757.0647,-3572.5394\"/>\n<polygon fill=\"#000000\" stroke=\"#000000\" points=\"758.795,-3575.5822 765.8705,-3567.6962 755.4216,-3569.4487 758.795,-3575.5822\"/>\n</g>\n<!-- 140196087435856 -->\n<g id=\"node63\" class=\"node\">\n<title>140196087435856</title>\n<polygon fill=\"#d3d3d3\" stroke=\"#000000\" points=\"570,-3688.5 385,-3688.5 385,-3669.5 570,-3669.5 570,-3688.5\"/>\n<text text-anchor=\"middle\" x=\"477.5\" y=\"-3676.5\" font-family=\"monospace\" font-size=\"10.00\" fill=\"#000000\">MaxPool2DWithIndicesBackward</text>\n</g>\n<!-- 140196087435856&#45;&gt;140196087435664 -->\n<g id=\"edge61\" class=\"edge\">\n<title>140196087435856&#45;&gt;140196087435664</title>\n<path fill=\"none\" stroke=\"#000000\" d=\"M508.5568,-3669.4136C542.1034,-3659.0587 595.6968,-3642.5158 632.6405,-3631.1122\"/>\n<polygon fill=\"#000000\" stroke=\"#000000\" points=\"634.0657,-3634.3353 642.5885,-3628.0416 632.001,-3627.6467 634.0657,-3634.3353\"/>\n</g>\n<!-- 140196087406288 -->\n<g id=\"node91\" class=\"node\">\n<title>140196087406288</title>\n<polygon fill=\"#d3d3d3\" stroke=\"#000000\" points=\"493,-3628 368,-3628 368,-3609 493,-3609 493,-3628\"/>\n<text text-anchor=\"middle\" x=\"430.5\" y=\"-3616\" font-family=\"monospace\" font-size=\"10.00\" fill=\"#000000\">ThnnConv2DBackward</text>\n</g>\n<!-- 140196087435856&#45;&gt;140196087406288 -->\n<g id=\"edge90\" class=\"edge\">\n<title>140196087435856&#45;&gt;140196087406288</title>\n<path fill=\"none\" stroke=\"#000000\" d=\"M469.9486,-3669.2796C463.0689,-3660.4239 452.7364,-3647.1235 444.3717,-3636.3561\"/>\n<polygon fill=\"#000000\" stroke=\"#000000\" points=\"447.0877,-3634.1471 438.1888,-3628.3972 441.5597,-3638.4415 447.0877,-3634.1471\"/>\n</g>\n<!-- 140196087436112 -->\n<g id=\"node64\" class=\"node\">\n<title>140196087436112</title>\n<polygon fill=\"#d3d3d3\" stroke=\"#000000\" points=\"525,-3754.5 430,-3754.5 430,-3735.5 525,-3735.5 525,-3754.5\"/>\n<text text-anchor=\"middle\" x=\"477.5\" y=\"-3742.5\" font-family=\"monospace\" font-size=\"10.00\" fill=\"#000000\">ReluBackward0</text>\n</g>\n<!-- 140196087436112&#45;&gt;140196087435856 -->\n<g id=\"edge62\" class=\"edge\">\n<title>140196087436112&#45;&gt;140196087435856</title>\n<path fill=\"none\" stroke=\"#000000\" d=\"M477.5,-3735.2615C477.5,-3725.7077 477.5,-3710.8615 477.5,-3698.8183\"/>\n<polygon fill=\"#000000\" stroke=\"#000000\" points=\"481.0001,-3698.7784 477.5,-3688.7785 474.0001,-3698.7785 481.0001,-3698.7784\"/>\n</g>\n<!-- 140196087436240 -->\n<g id=\"node65\" class=\"node\">\n<title>140196087436240</title>\n<polygon fill=\"#d3d3d3\" stroke=\"#000000\" points=\"555,-3815 400,-3815 400,-3796 555,-3796 555,-3815\"/>\n<text text-anchor=\"middle\" x=\"477.5\" y=\"-3803\" font-family=\"monospace\" font-size=\"10.00\" fill=\"#000000\">NativeBatchNormBackward</text>\n</g>\n<!-- 140196087436240&#45;&gt;140196087436112 -->\n<g id=\"edge63\" class=\"edge\">\n<title>140196087436240&#45;&gt;140196087436112</title>\n<path fill=\"none\" stroke=\"#000000\" d=\"M477.5,-3795.7796C477.5,-3787.5376 477.5,-3775.4457 477.5,-3765.129\"/>\n<polygon fill=\"#000000\" stroke=\"#000000\" points=\"481.0001,-3764.8972 477.5,-3754.8972 474.0001,-3764.8973 481.0001,-3764.8972\"/>\n</g>\n<!-- 140196087436432 -->\n<g id=\"node66\" class=\"node\">\n<title>140196087436432</title>\n<polygon fill=\"#d3d3d3\" stroke=\"#000000\" points=\"409,-3870 242,-3870 242,-3851 409,-3851 409,-3870\"/>\n<text text-anchor=\"middle\" x=\"325.5\" y=\"-3858\" font-family=\"monospace\" font-size=\"10.00\" fill=\"#000000\">MkldnnConvolutionBackward</text>\n</g>\n<!-- 140196087436432&#45;&gt;140196087436240 -->\n<g id=\"edge64\" class=\"edge\">\n<title>140196087436432&#45;&gt;140196087436240</title>\n<path fill=\"none\" stroke=\"#000000\" d=\"M351.9764,-3850.9197C376.7478,-3841.9564 413.9519,-3828.4944 441.43,-3818.5516\"/>\n<polygon fill=\"#000000\" stroke=\"#000000\" points=\"442.86,-3821.7564 451.0725,-3815.0626 440.4782,-3815.174 442.86,-3821.7564\"/>\n</g>\n<!-- 140196087436624 -->\n<g id=\"node67\" class=\"node\">\n<title>140196087436624</title>\n<polygon fill=\"#d3d3d3\" stroke=\"#000000\" points=\"280,-3930.5 179,-3930.5 179,-3911.5 280,-3911.5 280,-3930.5\"/>\n<text text-anchor=\"middle\" x=\"229.5\" y=\"-3918.5\" font-family=\"monospace\" font-size=\"10.00\" fill=\"#000000\">AccumulateGrad</text>\n</g>\n<!-- 140196087436624&#45;&gt;140196087436432 -->\n<g id=\"edge65\" class=\"edge\">\n<title>140196087436624&#45;&gt;140196087436432</title>\n<path fill=\"none\" stroke=\"#000000\" d=\"M244.9241,-3911.2796C260.1795,-3901.6655 283.7471,-3886.813 301.4601,-3875.6501\"/>\n<polygon fill=\"#000000\" stroke=\"#000000\" points=\"303.5202,-3878.489 310.1142,-3870.1962 299.788,-3872.5669 303.5202,-3878.489\"/>\n</g>\n<!-- 140196087697808 -->\n<g id=\"node68\" class=\"node\">\n<title>140196087697808</title>\n<polygon fill=\"#add8e6\" stroke=\"#000000\" points=\"280,-4002 179,-4002 179,-3972 280,-3972 280,-4002\"/>\n<text text-anchor=\"middle\" x=\"229.5\" y=\"-3990\" font-family=\"monospace\" font-size=\"10.00\" fill=\"#000000\">0.0.weight</text>\n<text text-anchor=\"middle\" x=\"229.5\" y=\"-3979\" font-family=\"monospace\" font-size=\"10.00\" fill=\"#000000\"> (64, 1, 8, 8)</text>\n</g>\n<!-- 140196087697808&#45;&gt;140196087436624 -->\n<g id=\"edge66\" class=\"edge\">\n<title>140196087697808&#45;&gt;140196087436624</title>\n<path fill=\"none\" stroke=\"#000000\" d=\"M229.5,-3971.6924C229.5,-3962.5067 229.5,-3950.7245 229.5,-3940.8312\"/>\n<polygon fill=\"#000000\" stroke=\"#000000\" points=\"233.0001,-3940.703 229.5,-3930.7031 226.0001,-3940.7031 233.0001,-3940.703\"/>\n</g>\n<!-- 140196087436816 -->\n<g id=\"node69\" class=\"node\">\n<title>140196087436816</title>\n<polygon fill=\"#d3d3d3\" stroke=\"#000000\" points=\"399,-3930.5 298,-3930.5 298,-3911.5 399,-3911.5 399,-3930.5\"/>\n<text text-anchor=\"middle\" x=\"348.5\" y=\"-3918.5\" font-family=\"monospace\" font-size=\"10.00\" fill=\"#000000\">AccumulateGrad</text>\n</g>\n<!-- 140196087436816&#45;&gt;140196087436432 -->\n<g id=\"edge67\" class=\"edge\">\n<title>140196087436816&#45;&gt;140196087436432</title>\n<path fill=\"none\" stroke=\"#000000\" d=\"M344.8047,-3911.2796C341.6047,-3902.8623 336.8781,-3890.4295 332.903,-3879.973\"/>\n<polygon fill=\"#000000\" stroke=\"#000000\" points=\"336.0877,-3878.5008 329.2626,-3870.3972 329.5446,-3880.9883 336.0877,-3878.5008\"/>\n</g>\n<!-- 140196087697888 -->\n<g id=\"node70\" class=\"node\">\n<title>140196087697888</title>\n<polygon fill=\"#add8e6\" stroke=\"#000000\" points=\"381,-4002 316,-4002 316,-3972 381,-3972 381,-4002\"/>\n<text text-anchor=\"middle\" x=\"348.5\" y=\"-3990\" font-family=\"monospace\" font-size=\"10.00\" fill=\"#000000\">0.0.bias</text>\n<text text-anchor=\"middle\" x=\"348.5\" y=\"-3979\" font-family=\"monospace\" font-size=\"10.00\" fill=\"#000000\"> (64)</text>\n</g>\n<!-- 140196087697888&#45;&gt;140196087436816 -->\n<g id=\"edge68\" class=\"edge\">\n<title>140196087697888&#45;&gt;140196087436816</title>\n<path fill=\"none\" stroke=\"#000000\" d=\"M348.5,-3971.6924C348.5,-3962.5067 348.5,-3950.7245 348.5,-3940.8312\"/>\n<polygon fill=\"#000000\" stroke=\"#000000\" points=\"352.0001,-3940.703 348.5,-3930.7031 345.0001,-3940.7031 352.0001,-3940.703\"/>\n</g>\n<!-- 140196087436560 -->\n<g id=\"node71\" class=\"node\">\n<title>140196087436560</title>\n<polygon fill=\"#d3d3d3\" stroke=\"#000000\" points=\"528,-3870 427,-3870 427,-3851 528,-3851 528,-3870\"/>\n<text text-anchor=\"middle\" x=\"477.5\" y=\"-3858\" font-family=\"monospace\" font-size=\"10.00\" fill=\"#000000\">AccumulateGrad</text>\n</g>\n<!-- 140196087436560&#45;&gt;140196087436240 -->\n<g id=\"edge69\" class=\"edge\">\n<title>140196087436560&#45;&gt;140196087436240</title>\n<path fill=\"none\" stroke=\"#000000\" d=\"M477.5,-3850.9197C477.5,-3843.9083 477.5,-3834.1442 477.5,-3825.4652\"/>\n<polygon fill=\"#000000\" stroke=\"#000000\" points=\"481.0001,-3825.3408 477.5,-3815.3408 474.0001,-3825.3409 481.0001,-3825.3408\"/>\n</g>\n<!-- 140196087697968 -->\n<g id=\"node72\" class=\"node\">\n<title>140196087697968</title>\n<polygon fill=\"#add8e6\" stroke=\"#000000\" points=\"516,-3936 439,-3936 439,-3906 516,-3906 516,-3936\"/>\n<text text-anchor=\"middle\" x=\"477.5\" y=\"-3924\" font-family=\"monospace\" font-size=\"10.00\" fill=\"#000000\">0.1.weight</text>\n<text text-anchor=\"middle\" x=\"477.5\" y=\"-3913\" font-family=\"monospace\" font-size=\"10.00\" fill=\"#000000\"> (64)</text>\n</g>\n<!-- 140196087697968&#45;&gt;140196087436560 -->\n<g id=\"edge70\" class=\"edge\">\n<title>140196087697968&#45;&gt;140196087436560</title>\n<path fill=\"none\" stroke=\"#000000\" d=\"M477.5,-3905.7333C477.5,-3898.0322 477.5,-3888.5977 477.5,-3880.3414\"/>\n<polygon fill=\"#000000\" stroke=\"#000000\" points=\"481.0001,-3880.0864 477.5,-3870.0864 474.0001,-3880.0864 481.0001,-3880.0864\"/>\n</g>\n<!-- 140196087436176 -->\n<g id=\"node73\" class=\"node\">\n<title>140196087436176</title>\n<polygon fill=\"#d3d3d3\" stroke=\"#000000\" points=\"647,-3870 546,-3870 546,-3851 647,-3851 647,-3870\"/>\n<text text-anchor=\"middle\" x=\"596.5\" y=\"-3858\" font-family=\"monospace\" font-size=\"10.00\" fill=\"#000000\">AccumulateGrad</text>\n</g>\n<!-- 140196087436176&#45;&gt;140196087436240 -->\n<g id=\"edge71\" class=\"edge\">\n<title>140196087436176&#45;&gt;140196087436240</title>\n<path fill=\"none\" stroke=\"#000000\" d=\"M575.7718,-3850.9197C556.9465,-3842.219 528.9495,-3829.2792 507.6487,-3819.4343\"/>\n<polygon fill=\"#000000\" stroke=\"#000000\" points=\"508.9357,-3816.1734 498.39,-3815.155 505.9989,-3822.5276 508.9357,-3816.1734\"/>\n</g>\n<!-- 140196087698048 -->\n<g id=\"node74\" class=\"node\">\n<title>140196087698048</title>\n<polygon fill=\"#add8e6\" stroke=\"#000000\" points=\"629,-3936 564,-3936 564,-3906 629,-3906 629,-3936\"/>\n<text text-anchor=\"middle\" x=\"596.5\" y=\"-3924\" font-family=\"monospace\" font-size=\"10.00\" fill=\"#000000\">0.1.bias</text>\n<text text-anchor=\"middle\" x=\"596.5\" y=\"-3913\" font-family=\"monospace\" font-size=\"10.00\" fill=\"#000000\"> (64)</text>\n</g>\n<!-- 140196087698048&#45;&gt;140196087436176 -->\n<g id=\"edge72\" class=\"edge\">\n<title>140196087698048&#45;&gt;140196087436176</title>\n<path fill=\"none\" stroke=\"#000000\" d=\"M596.5,-3905.7333C596.5,-3898.0322 596.5,-3888.5977 596.5,-3880.3414\"/>\n<polygon fill=\"#000000\" stroke=\"#000000\" points=\"600.0001,-3880.0864 596.5,-3870.0864 593.0001,-3880.0864 600.0001,-3880.0864\"/>\n</g>\n<!-- 140196087436048 -->\n<g id=\"node75\" class=\"node\">\n<title>140196087436048</title>\n<polygon fill=\"#d3d3d3\" stroke=\"#000000\" points=\"690,-3688.5 589,-3688.5 589,-3669.5 690,-3669.5 690,-3688.5\"/>\n<text text-anchor=\"middle\" x=\"639.5\" y=\"-3676.5\" font-family=\"monospace\" font-size=\"10.00\" fill=\"#000000\">AccumulateGrad</text>\n</g>\n<!-- 140196087436048&#45;&gt;140196087435664 -->\n<g id=\"edge73\" class=\"edge\">\n<title>140196087436048&#45;&gt;140196087435664</title>\n<path fill=\"none\" stroke=\"#000000\" d=\"M644.9627,-3669.2796C649.7917,-3660.6869 656.9722,-3647.9097 662.9223,-3637.3221\"/>\n<polygon fill=\"#000000\" stroke=\"#000000\" points=\"666.0899,-3638.8297 667.9379,-3628.3972 659.9875,-3635.4002 666.0899,-3638.8297\"/>\n</g>\n<!-- 140196087698448 -->\n<g id=\"node76\" class=\"node\">\n<title>140196087698448</title>\n<polygon fill=\"#add8e6\" stroke=\"#000000\" points=\"746,-3760 543,-3760 543,-3730 746,-3730 746,-3760\"/>\n<text text-anchor=\"middle\" x=\"644.5\" y=\"-3748\" font-family=\"monospace\" font-size=\"10.00\" fill=\"#000000\">1.0.Convolutional_layer1.weight</text>\n<text text-anchor=\"middle\" x=\"644.5\" y=\"-3737\" font-family=\"monospace\" font-size=\"10.00\" fill=\"#000000\"> (64, 64, 3, 3)</text>\n</g>\n<!-- 140196087698448&#45;&gt;140196087436048 -->\n<g id=\"edge74\" class=\"edge\">\n<title>140196087698448&#45;&gt;140196087436048</title>\n<path fill=\"none\" stroke=\"#000000\" d=\"M643.3403,-3729.6924C642.6444,-3720.5067 641.7519,-3708.7245 641.0024,-3698.8312\"/>\n<polygon fill=\"#000000\" stroke=\"#000000\" points=\"644.4806,-3698.4101 640.2351,-3688.7031 637.5006,-3698.9389 644.4806,-3698.4101\"/>\n</g>\n<!-- 140196087435984 -->\n<g id=\"node77\" class=\"node\">\n<title>140196087435984</title>\n<polygon fill=\"#d3d3d3\" stroke=\"#000000\" points=\"809,-3688.5 708,-3688.5 708,-3669.5 809,-3669.5 809,-3688.5\"/>\n<text text-anchor=\"middle\" x=\"758.5\" y=\"-3676.5\" font-family=\"monospace\" font-size=\"10.00\" fill=\"#000000\">AccumulateGrad</text>\n</g>\n<!-- 140196087435984&#45;&gt;140196087435664 -->\n<g id=\"edge75\" class=\"edge\">\n<title>140196087435984&#45;&gt;140196087435664</title>\n<path fill=\"none\" stroke=\"#000000\" d=\"M744.8433,-3669.2796C731.5837,-3659.8419 711.232,-3645.3563 695.6538,-3634.2683\"/>\n<polygon fill=\"#000000\" stroke=\"#000000\" points=\"697.2995,-3631.1436 687.1228,-3628.1962 693.2403,-3636.8465 697.2995,-3631.1436\"/>\n</g>\n<!-- 140196087698528 -->\n<g id=\"node78\" class=\"node\">\n<title>140196087698528</title>\n<polygon fill=\"#add8e6\" stroke=\"#000000\" points=\"955,-3760 764,-3760 764,-3730 955,-3730 955,-3760\"/>\n<text text-anchor=\"middle\" x=\"859.5\" y=\"-3748\" font-family=\"monospace\" font-size=\"10.00\" fill=\"#000000\">1.0.Convolutional_layer1.bias</text>\n<text text-anchor=\"middle\" x=\"859.5\" y=\"-3737\" font-family=\"monospace\" font-size=\"10.00\" fill=\"#000000\"> (64)</text>\n</g>\n<!-- 140196087698528&#45;&gt;140196087435984 -->\n<g id=\"edge76\" class=\"edge\">\n<title>140196087698528&#45;&gt;140196087435984</title>\n<path fill=\"none\" stroke=\"#000000\" d=\"M836.3286,-3729.8583C819.9159,-3719.1332 797.9921,-3704.8067 781.5963,-3694.0927\"/>\n<polygon fill=\"#000000\" stroke=\"#000000\" points=\"783.4122,-3691.0982 773.1264,-3688.5578 779.583,-3696.9581 783.4122,-3691.0982\"/>\n</g>\n<!-- 140196087435792 -->\n<g id=\"node79\" class=\"node\">\n<title>140196087435792</title>\n<polygon fill=\"#d3d3d3\" stroke=\"#000000\" points=\"944,-3628 843,-3628 843,-3609 944,-3609 944,-3628\"/>\n<text text-anchor=\"middle\" x=\"893.5\" y=\"-3616\" font-family=\"monospace\" font-size=\"10.00\" fill=\"#000000\">AccumulateGrad</text>\n</g>\n<!-- 140196087435792&#45;&gt;140196087435472 -->\n<g id=\"edge77\" class=\"edge\">\n<title>140196087435792&#45;&gt;140196087435472</title>\n<path fill=\"none\" stroke=\"#000000\" d=\"M875.8266,-3608.7796C858.0257,-3598.9891 830.3476,-3583.7662 809.9353,-3572.5394\"/>\n<polygon fill=\"#000000\" stroke=\"#000000\" points=\"811.5784,-3569.4487 801.1295,-3567.6962 808.205,-3575.5822 811.5784,-3569.4487\"/>\n</g>\n<!-- 140196087698928 -->\n<g id=\"node80\" class=\"node\">\n<title>140196087698928</title>\n<polygon fill=\"#add8e6\" stroke=\"#000000\" points=\"1030,-3694 827,-3694 827,-3664 1030,-3664 1030,-3694\"/>\n<text text-anchor=\"middle\" x=\"928.5\" y=\"-3682\" font-family=\"monospace\" font-size=\"10.00\" fill=\"#000000\">1.0.Res_BatchNorm_layer1.weight</text>\n<text text-anchor=\"middle\" x=\"928.5\" y=\"-3671\" font-family=\"monospace\" font-size=\"10.00\" fill=\"#000000\"> (64)</text>\n</g>\n<!-- 140196087698928&#45;&gt;140196087435792 -->\n<g id=\"edge78\" class=\"edge\">\n<title>140196087698928&#45;&gt;140196087435792</title>\n<path fill=\"none\" stroke=\"#000000\" d=\"M919.668,-3663.7333C914.9597,-3655.5946 909.1314,-3645.52 904.1712,-3636.946\"/>\n<polygon fill=\"#000000\" stroke=\"#000000\" points=\"907.083,-3634.9897 899.0459,-3628.0864 901.0239,-3638.495 907.083,-3634.9897\"/>\n</g>\n<!-- 140196087435536 -->\n<g id=\"node81\" class=\"node\">\n<title>140196087435536</title>\n<polygon fill=\"#d3d3d3\" stroke=\"#000000\" points=\"1145,-3628 1044,-3628 1044,-3609 1145,-3609 1145,-3628\"/>\n<text text-anchor=\"middle\" x=\"1094.5\" y=\"-3616\" font-family=\"monospace\" font-size=\"10.00\" fill=\"#000000\">AccumulateGrad</text>\n</g>\n<!-- 140196087435536&#45;&gt;140196087435472 -->\n<g id=\"edge79\" class=\"edge\">\n<title>140196087435536&#45;&gt;140196087435472</title>\n<path fill=\"none\" stroke=\"#000000\" d=\"M1045.5641,-3608.9803C990.504,-3598.2693 901.0987,-3580.8769 842.2929,-3569.4372\"/>\n<polygon fill=\"#000000\" stroke=\"#000000\" points=\"842.8911,-3565.988 832.4068,-3567.514 841.5544,-3572.8592 842.8911,-3565.988\"/>\n</g>\n<!-- 140196087699008 -->\n<g id=\"node82\" class=\"node\">\n<title>140196087699008</title>\n<polygon fill=\"#add8e6\" stroke=\"#000000\" points=\"1239,-3694 1048,-3694 1048,-3664 1239,-3664 1239,-3694\"/>\n<text text-anchor=\"middle\" x=\"1143.5\" y=\"-3682\" font-family=\"monospace\" font-size=\"10.00\" fill=\"#000000\">1.0.Res_BatchNorm_layer1.bias</text>\n<text text-anchor=\"middle\" x=\"1143.5\" y=\"-3671\" font-family=\"monospace\" font-size=\"10.00\" fill=\"#000000\"> (64)</text>\n</g>\n<!-- 140196087699008&#45;&gt;140196087435536 -->\n<g id=\"edge80\" class=\"edge\">\n<title>140196087699008&#45;&gt;140196087435536</title>\n<path fill=\"none\" stroke=\"#000000\" d=\"M1131.1352,-3663.7333C1124.3309,-3655.3321 1115.8559,-3644.868 1108.7716,-3636.121\"/>\n<polygon fill=\"#000000\" stroke=\"#000000\" points=\"1111.2779,-3633.6545 1102.2642,-3628.0864 1105.8382,-3638.0602 1111.2779,-3633.6545\"/>\n</g>\n<!-- 140196087406544 -->\n<g id=\"node83\" class=\"node\">\n<title>140196087406544</title>\n<polygon fill=\"#d3d3d3\" stroke=\"#000000\" points=\"1010,-3501.5 909,-3501.5 909,-3482.5 1010,-3482.5 1010,-3501.5\"/>\n<text text-anchor=\"middle\" x=\"959.5\" y=\"-3489.5\" font-family=\"monospace\" font-size=\"10.00\" fill=\"#000000\">AccumulateGrad</text>\n</g>\n<!-- 140196087406544&#45;&gt;140196087405968 -->\n<g id=\"edge81\" class=\"edge\">\n<title>140196087406544&#45;&gt;140196087405968</title>\n<path fill=\"none\" stroke=\"#000000\" d=\"M964.9627,-3482.2796C969.7917,-3473.6869 976.9722,-3460.9097 982.9223,-3450.3221\"/>\n<polygon fill=\"#000000\" stroke=\"#000000\" points=\"986.0899,-3451.8297 987.9379,-3441.3972 979.9875,-3448.4002 986.0899,-3451.8297\"/>\n</g>\n<!-- 140196087698608 -->\n<g id=\"node84\" class=\"node\">\n<title>140196087698608</title>\n<polygon fill=\"#add8e6\" stroke=\"#000000\" points=\"1082,-3573 879,-3573 879,-3543 1082,-3543 1082,-3573\"/>\n<text text-anchor=\"middle\" x=\"980.5\" y=\"-3561\" font-family=\"monospace\" font-size=\"10.00\" fill=\"#000000\">1.0.Convolutional_layer2.weight</text>\n<text text-anchor=\"middle\" x=\"980.5\" y=\"-3550\" font-family=\"monospace\" font-size=\"10.00\" fill=\"#000000\"> (64, 64, 3, 3)</text>\n</g>\n<!-- 140196087698608&#45;&gt;140196087406544 -->\n<g id=\"edge82\" class=\"edge\">\n<title>140196087698608&#45;&gt;140196087406544</title>\n<path fill=\"none\" stroke=\"#000000\" d=\"M975.6294,-3542.6924C972.6753,-3533.408 968.8771,-3521.4708 965.7086,-3511.5127\"/>\n<polygon fill=\"#000000\" stroke=\"#000000\" points=\"968.9547,-3510.1711 962.5873,-3501.7031 962.2842,-3512.2936 968.9547,-3510.1711\"/>\n</g>\n<!-- 140196087435408 -->\n<g id=\"node85\" class=\"node\">\n<title>140196087435408</title>\n<polygon fill=\"#d3d3d3\" stroke=\"#000000\" points=\"1129,-3501.5 1028,-3501.5 1028,-3482.5 1129,-3482.5 1129,-3501.5\"/>\n<text text-anchor=\"middle\" x=\"1078.5\" y=\"-3489.5\" font-family=\"monospace\" font-size=\"10.00\" fill=\"#000000\">AccumulateGrad</text>\n</g>\n<!-- 140196087435408&#45;&gt;140196087405968 -->\n<g id=\"edge83\" class=\"edge\">\n<title>140196087435408&#45;&gt;140196087405968</title>\n<path fill=\"none\" stroke=\"#000000\" d=\"M1064.8433,-3482.2796C1051.5837,-3472.8419 1031.232,-3458.3563 1015.6538,-3447.2683\"/>\n<polygon fill=\"#000000\" stroke=\"#000000\" points=\"1017.2995,-3444.1436 1007.1228,-3441.1962 1013.2403,-3449.8465 1017.2995,-3444.1436\"/>\n</g>\n<!-- 140196087698688 -->\n<g id=\"node86\" class=\"node\">\n<title>140196087698688</title>\n<polygon fill=\"#add8e6\" stroke=\"#000000\" points=\"1291,-3573 1100,-3573 1100,-3543 1291,-3543 1291,-3573\"/>\n<text text-anchor=\"middle\" x=\"1195.5\" y=\"-3561\" font-family=\"monospace\" font-size=\"10.00\" fill=\"#000000\">1.0.Convolutional_layer2.bias</text>\n<text text-anchor=\"middle\" x=\"1195.5\" y=\"-3550\" font-family=\"monospace\" font-size=\"10.00\" fill=\"#000000\"> (64)</text>\n</g>\n<!-- 140196087698688&#45;&gt;140196087435408 -->\n<g id=\"edge84\" class=\"edge\">\n<title>140196087698688&#45;&gt;140196087435408</title>\n<path fill=\"none\" stroke=\"#000000\" d=\"M1168.6578,-3542.8583C1149.2931,-3531.9346 1123.3055,-3517.2749 1104.2067,-3506.5012\"/>\n<polygon fill=\"#000000\" stroke=\"#000000\" points=\"1105.8729,-3503.4227 1095.4435,-3501.5578 1102.4336,-3509.5195 1105.8729,-3503.4227\"/>\n</g>\n<!-- 140196087406416 -->\n<g id=\"node87\" class=\"node\">\n<title>140196087406416</title>\n<polygon fill=\"#d3d3d3\" stroke=\"#000000\" points=\"1264,-3441 1163,-3441 1163,-3422 1264,-3422 1264,-3441\"/>\n<text text-anchor=\"middle\" x=\"1213.5\" y=\"-3429\" font-family=\"monospace\" font-size=\"10.00\" fill=\"#000000\">AccumulateGrad</text>\n</g>\n<!-- 140196087406416&#45;&gt;140196087406096 -->\n<g id=\"edge85\" class=\"edge\">\n<title>140196087406416&#45;&gt;140196087406096</title>\n<path fill=\"none\" stroke=\"#000000\" d=\"M1194.3395,-3421.9197C1177.0947,-3413.2973 1151.524,-3400.512 1131.9022,-3390.7011\"/>\n<polygon fill=\"#000000\" stroke=\"#000000\" points=\"1133.3196,-3387.4967 1122.81,-3386.155 1130.1891,-3393.7577 1133.3196,-3387.4967\"/>\n</g>\n<!-- 140196087699328 -->\n<g id=\"node88\" class=\"node\">\n<title>140196087699328</title>\n<polygon fill=\"#add8e6\" stroke=\"#000000\" points=\"1350,-3507 1147,-3507 1147,-3477 1350,-3477 1350,-3507\"/>\n<text text-anchor=\"middle\" x=\"1248.5\" y=\"-3495\" font-family=\"monospace\" font-size=\"10.00\" fill=\"#000000\">1.0.Res_BatchNorm_layer2.weight</text>\n<text text-anchor=\"middle\" x=\"1248.5\" y=\"-3484\" font-family=\"monospace\" font-size=\"10.00\" fill=\"#000000\"> (64)</text>\n</g>\n<!-- 140196087699328&#45;&gt;140196087406416 -->\n<g id=\"edge86\" class=\"edge\">\n<title>140196087699328&#45;&gt;140196087406416</title>\n<path fill=\"none\" stroke=\"#000000\" d=\"M1239.668,-3476.7333C1234.9597,-3468.5946 1229.1314,-3458.52 1224.1712,-3449.946\"/>\n<polygon fill=\"#000000\" stroke=\"#000000\" points=\"1227.083,-3447.9897 1219.0459,-3441.0864 1221.0239,-3451.495 1227.083,-3447.9897\"/>\n</g>\n<!-- 140196087406352 -->\n<g id=\"node89\" class=\"node\">\n<title>140196087406352</title>\n<polygon fill=\"#d3d3d3\" stroke=\"#000000\" points=\"1465,-3441 1364,-3441 1364,-3422 1465,-3422 1465,-3441\"/>\n<text text-anchor=\"middle\" x=\"1414.5\" y=\"-3429\" font-family=\"monospace\" font-size=\"10.00\" fill=\"#000000\">AccumulateGrad</text>\n</g>\n<!-- 140196087406352&#45;&gt;140196087406096 -->\n<g id=\"edge87\" class=\"edge\">\n<title>140196087406352&#45;&gt;140196087406096</title>\n<path fill=\"none\" stroke=\"#000000\" d=\"M1363.8403,-3422.5409C1310.2578,-3413.0649 1225.588,-3398.0911 1167.4438,-3387.8084\"/>\n<polygon fill=\"#000000\" stroke=\"#000000\" points=\"1167.7267,-3384.3042 1157.2699,-3386.0092 1166.5076,-3391.1972 1167.7267,-3384.3042\"/>\n</g>\n<!-- 140196087699408 -->\n<g id=\"node90\" class=\"node\">\n<title>140196087699408</title>\n<polygon fill=\"#add8e6\" stroke=\"#000000\" points=\"1559,-3507 1368,-3507 1368,-3477 1559,-3477 1559,-3507\"/>\n<text text-anchor=\"middle\" x=\"1463.5\" y=\"-3495\" font-family=\"monospace\" font-size=\"10.00\" fill=\"#000000\">1.0.Res_BatchNorm_layer2.bias</text>\n<text text-anchor=\"middle\" x=\"1463.5\" y=\"-3484\" font-family=\"monospace\" font-size=\"10.00\" fill=\"#000000\"> (64)</text>\n</g>\n<!-- 140196087699408&#45;&gt;140196087406352 -->\n<g id=\"edge88\" class=\"edge\">\n<title>140196087699408&#45;&gt;140196087406352</title>\n<path fill=\"none\" stroke=\"#000000\" d=\"M1451.1352,-3476.7333C1444.3309,-3468.3321 1435.8559,-3457.868 1428.7716,-3449.121\"/>\n<polygon fill=\"#000000\" stroke=\"#000000\" points=\"1431.2779,-3446.6545 1422.2642,-3441.0864 1425.8382,-3451.0602 1431.2779,-3446.6545\"/>\n</g>\n<!-- 140196087406288&#45;&gt;140196087405904 -->\n<g id=\"edge89\" class=\"edge\">\n<title>140196087406288&#45;&gt;140196087405904</title>\n<path fill=\"none\" stroke=\"#000000\" d=\"M493.2622,-3609.3409C557.6637,-3595.9764 648.5,-3564.3095 648.5,-3492 648.5,-3492 648.5,-3492 648.5,-3431.5 648.5,-3417.2368 835.2081,-3355.5483 918.8273,-3328.6356\"/>\n<polygon fill=\"#000000\" stroke=\"#000000\" points=\"920.0431,-3331.9213 928.4942,-3325.5315 917.903,-3325.2565 920.0431,-3331.9213\"/>\n</g>\n<!-- 140196087406032 -->\n<g id=\"node92\" class=\"node\">\n<title>140196087406032</title>\n<polygon fill=\"#d3d3d3\" stroke=\"#000000\" points=\"200,-3688.5 99,-3688.5 99,-3669.5 200,-3669.5 200,-3688.5\"/>\n<text text-anchor=\"middle\" x=\"149.5\" y=\"-3676.5\" font-family=\"monospace\" font-size=\"10.00\" fill=\"#000000\">AccumulateGrad</text>\n</g>\n<!-- 140196087406032&#45;&gt;140196087406288 -->\n<g id=\"edge91\" class=\"edge\">\n<title>140196087406032&#45;&gt;140196087406288</title>\n<path fill=\"none\" stroke=\"#000000\" d=\"M193.7154,-3669.4803C243.0832,-3658.8513 323.0098,-3641.6429 376.1529,-3630.2011\"/>\n<polygon fill=\"#000000\" stroke=\"#000000\" points=\"377.0396,-3633.5904 386.0789,-3628.064 375.5662,-3626.7472 377.0396,-3633.5904\"/>\n</g>\n<!-- 140196087698768 -->\n<g id=\"node93\" class=\"node\">\n<title>140196087698768</title>\n<polygon fill=\"#add8e6\" stroke=\"#000000\" points=\"203,-3760 0,-3760 0,-3730 203,-3730 203,-3760\"/>\n<text text-anchor=\"middle\" x=\"101.5\" y=\"-3748\" font-family=\"monospace\" font-size=\"10.00\" fill=\"#000000\">1.0.Convolutional_layer3.weight</text>\n<text text-anchor=\"middle\" x=\"101.5\" y=\"-3737\" font-family=\"monospace\" font-size=\"10.00\" fill=\"#000000\"> (64, 64, 1, 1)</text>\n</g>\n<!-- 140196087698768&#45;&gt;140196087406032 -->\n<g id=\"edge92\" class=\"edge\">\n<title>140196087698768&#45;&gt;140196087406032</title>\n<path fill=\"none\" stroke=\"#000000\" d=\"M112.6328,-3729.6924C119.7443,-3719.9141 128.9957,-3707.1934 136.4519,-3696.9411\"/>\n<polygon fill=\"#000000\" stroke=\"#000000\" points=\"139.3921,-3698.8491 142.4432,-3688.7031 133.7309,-3694.7318 139.3921,-3698.8491\"/>\n</g>\n<!-- 140196087435920 -->\n<g id=\"node94\" class=\"node\">\n<title>140196087435920</title>\n<polygon fill=\"#d3d3d3\" stroke=\"#000000\" points=\"367,-3688.5 266,-3688.5 266,-3669.5 367,-3669.5 367,-3688.5\"/>\n<text text-anchor=\"middle\" x=\"316.5\" y=\"-3676.5\" font-family=\"monospace\" font-size=\"10.00\" fill=\"#000000\">AccumulateGrad</text>\n</g>\n<!-- 140196087435920&#45;&gt;140196087406288 -->\n<g id=\"edge93\" class=\"edge\">\n<title>140196087435920&#45;&gt;140196087406288</title>\n<path fill=\"none\" stroke=\"#000000\" d=\"M334.5636,-3669.4136C353.1582,-3659.5454 382.3422,-3644.0574 403.6425,-3632.7533\"/>\n<polygon fill=\"#000000\" stroke=\"#000000\" points=\"405.3284,-3635.821 412.5209,-3628.0416 402.047,-3629.6378 405.3284,-3635.821\"/>\n</g>\n<!-- 140196087698848 -->\n<g id=\"node95\" class=\"node\">\n<title>140196087698848</title>\n<polygon fill=\"#add8e6\" stroke=\"#000000\" points=\"412,-3760 221,-3760 221,-3730 412,-3730 412,-3760\"/>\n<text text-anchor=\"middle\" x=\"316.5\" y=\"-3748\" font-family=\"monospace\" font-size=\"10.00\" fill=\"#000000\">1.0.Convolutional_layer3.bias</text>\n<text text-anchor=\"middle\" x=\"316.5\" y=\"-3737\" font-family=\"monospace\" font-size=\"10.00\" fill=\"#000000\"> (64)</text>\n</g>\n<!-- 140196087698848&#45;&gt;140196087435920 -->\n<g id=\"edge94\" class=\"edge\">\n<title>140196087698848&#45;&gt;140196087435920</title>\n<path fill=\"none\" stroke=\"#000000\" d=\"M316.5,-3729.6924C316.5,-3720.5067 316.5,-3708.7245 316.5,-3698.8312\"/>\n<polygon fill=\"#000000\" stroke=\"#000000\" points=\"320.0001,-3698.703 316.5,-3688.7031 313.0001,-3698.7031 320.0001,-3698.703\"/>\n</g>\n<!-- 140196087405840 -->\n<g id=\"node96\" class=\"node\">\n<title>140196087405840</title>\n<polygon fill=\"#d3d3d3\" stroke=\"#000000\" points=\"1149,-3259.5 1048,-3259.5 1048,-3240.5 1149,-3240.5 1149,-3259.5\"/>\n<text text-anchor=\"middle\" x=\"1098.5\" y=\"-3247.5\" font-family=\"monospace\" font-size=\"10.00\" fill=\"#000000\">AccumulateGrad</text>\n</g>\n<!-- 140196087405840&#45;&gt;140196087405456 -->\n<g id=\"edge95\" class=\"edge\">\n<title>140196087405840&#45;&gt;140196087405456</title>\n<path fill=\"none\" stroke=\"#000000\" d=\"M1103.9627,-3240.2796C1108.7917,-3231.6869 1115.9722,-3218.9097 1121.9223,-3208.3221\"/>\n<polygon fill=\"#000000\" stroke=\"#000000\" points=\"1125.0899,-3209.8297 1126.9379,-3199.3972 1118.9875,-3206.4002 1125.0899,-3209.8297\"/>\n</g>\n<!-- 140196087699728 -->\n<g id=\"node97\" class=\"node\">\n<title>140196087699728</title>\n<polygon fill=\"#add8e6\" stroke=\"#000000\" points=\"1224,-3331 1021,-3331 1021,-3301 1224,-3301 1224,-3331\"/>\n<text text-anchor=\"middle\" x=\"1122.5\" y=\"-3319\" font-family=\"monospace\" font-size=\"10.00\" fill=\"#000000\">1.1.Convolutional_layer1.weight</text>\n<text text-anchor=\"middle\" x=\"1122.5\" y=\"-3308\" font-family=\"monospace\" font-size=\"10.00\" fill=\"#000000\"> (64, 64, 3, 3)</text>\n</g>\n<!-- 140196087699728&#45;&gt;140196087405840 -->\n<g id=\"edge96\" class=\"edge\">\n<title>140196087699728&#45;&gt;140196087405840</title>\n<path fill=\"none\" stroke=\"#000000\" d=\"M1116.9336,-3300.6924C1113.5215,-3291.3092 1109.1242,-3279.2165 1105.4802,-3269.1956\"/>\n<polygon fill=\"#000000\" stroke=\"#000000\" points=\"1108.7352,-3267.9049 1102.0284,-3259.7031 1102.1566,-3270.2971 1108.7352,-3267.9049\"/>\n</g>\n<!-- 140196087405776 -->\n<g id=\"node98\" class=\"node\">\n<title>140196087405776</title>\n<polygon fill=\"#d3d3d3\" stroke=\"#000000\" points=\"1268,-3259.5 1167,-3259.5 1167,-3240.5 1268,-3240.5 1268,-3259.5\"/>\n<text text-anchor=\"middle\" x=\"1217.5\" y=\"-3247.5\" font-family=\"monospace\" font-size=\"10.00\" fill=\"#000000\">AccumulateGrad</text>\n</g>\n<!-- 140196087405776&#45;&gt;140196087405456 -->\n<g id=\"edge97\" class=\"edge\">\n<title>140196087405776&#45;&gt;140196087405456</title>\n<path fill=\"none\" stroke=\"#000000\" d=\"M1203.8433,-3240.2796C1190.5837,-3230.8419 1170.232,-3216.3563 1154.6538,-3205.2683\"/>\n<polygon fill=\"#000000\" stroke=\"#000000\" points=\"1156.2995,-3202.1436 1146.1228,-3199.1962 1152.2403,-3207.8465 1156.2995,-3202.1436\"/>\n</g>\n<!-- 140196087699808 -->\n<g id=\"node99\" class=\"node\">\n<title>140196087699808</title>\n<polygon fill=\"#add8e6\" stroke=\"#000000\" points=\"1433,-3331 1242,-3331 1242,-3301 1433,-3301 1433,-3331\"/>\n<text text-anchor=\"middle\" x=\"1337.5\" y=\"-3319\" font-family=\"monospace\" font-size=\"10.00\" fill=\"#000000\">1.1.Convolutional_layer1.bias</text>\n<text text-anchor=\"middle\" x=\"1337.5\" y=\"-3308\" font-family=\"monospace\" font-size=\"10.00\" fill=\"#000000\"> (64)</text>\n</g>\n<!-- 140196087699808&#45;&gt;140196087405776 -->\n<g id=\"edge98\" class=\"edge\">\n<title>140196087699808&#45;&gt;140196087405776</title>\n<path fill=\"none\" stroke=\"#000000\" d=\"M1309.9696,-3300.8583C1290.1083,-3289.9346 1263.4544,-3275.2749 1243.8658,-3264.5012\"/>\n<polygon fill=\"#000000\" stroke=\"#000000\" points=\"1245.3268,-3261.3103 1234.8779,-3259.5578 1241.9533,-3267.4438 1245.3268,-3261.3103\"/>\n</g>\n<!-- 140196087405584 -->\n<g id=\"node100\" class=\"node\">\n<title>140196087405584</title>\n<polygon fill=\"#d3d3d3\" stroke=\"#000000\" points=\"1403,-3199 1302,-3199 1302,-3180 1403,-3180 1403,-3199\"/>\n<text text-anchor=\"middle\" x=\"1352.5\" y=\"-3187\" font-family=\"monospace\" font-size=\"10.00\" fill=\"#000000\">AccumulateGrad</text>\n</g>\n<!-- 140196087405584&#45;&gt;140196087405264 -->\n<g id=\"edge99\" class=\"edge\">\n<title>140196087405584&#45;&gt;140196087405264</title>\n<path fill=\"none\" stroke=\"#000000\" d=\"M1334.8266,-3179.7796C1317.0257,-3169.9891 1289.3476,-3154.7662 1268.9353,-3143.5394\"/>\n<polygon fill=\"#000000\" stroke=\"#000000\" points=\"1270.5784,-3140.4487 1260.1295,-3138.6962 1267.205,-3146.5822 1270.5784,-3140.4487\"/>\n</g>\n<!-- 140196087700208 -->\n<g id=\"node101\" class=\"node\">\n<title>140196087700208</title>\n<polygon fill=\"#add8e6\" stroke=\"#000000\" points=\"1489,-3265 1286,-3265 1286,-3235 1489,-3235 1489,-3265\"/>\n<text text-anchor=\"middle\" x=\"1387.5\" y=\"-3253\" font-family=\"monospace\" font-size=\"10.00\" fill=\"#000000\">1.1.Res_BatchNorm_layer1.weight</text>\n<text text-anchor=\"middle\" x=\"1387.5\" y=\"-3242\" font-family=\"monospace\" font-size=\"10.00\" fill=\"#000000\"> (64)</text>\n</g>\n<!-- 140196087700208&#45;&gt;140196087405584 -->\n<g id=\"edge100\" class=\"edge\">\n<title>140196087700208&#45;&gt;140196087405584</title>\n<path fill=\"none\" stroke=\"#000000\" d=\"M1378.668,-3234.7333C1373.9597,-3226.5946 1368.1314,-3216.52 1363.1712,-3207.946\"/>\n<polygon fill=\"#000000\" stroke=\"#000000\" points=\"1366.083,-3205.9897 1358.0459,-3199.0864 1360.0239,-3209.495 1366.083,-3205.9897\"/>\n</g>\n<!-- 140196087405328 -->\n<g id=\"node102\" class=\"node\">\n<title>140196087405328</title>\n<polygon fill=\"#d3d3d3\" stroke=\"#000000\" points=\"1604,-3199 1503,-3199 1503,-3180 1604,-3180 1604,-3199\"/>\n<text text-anchor=\"middle\" x=\"1553.5\" y=\"-3187\" font-family=\"monospace\" font-size=\"10.00\" fill=\"#000000\">AccumulateGrad</text>\n</g>\n<!-- 140196087405328&#45;&gt;140196087405264 -->\n<g id=\"edge101\" class=\"edge\">\n<title>140196087405328&#45;&gt;140196087405264</title>\n<path fill=\"none\" stroke=\"#000000\" d=\"M1504.5641,-3179.9803C1449.504,-3169.2693 1360.0987,-3151.8769 1301.2929,-3140.4372\"/>\n<polygon fill=\"#000000\" stroke=\"#000000\" points=\"1301.8911,-3136.988 1291.4068,-3138.514 1300.5544,-3143.8592 1301.8911,-3136.988\"/>\n</g>\n<!-- 140196087700288 -->\n<g id=\"node103\" class=\"node\">\n<title>140196087700288</title>\n<polygon fill=\"#add8e6\" stroke=\"#000000\" points=\"1698,-3265 1507,-3265 1507,-3235 1698,-3235 1698,-3265\"/>\n<text text-anchor=\"middle\" x=\"1602.5\" y=\"-3253\" font-family=\"monospace\" font-size=\"10.00\" fill=\"#000000\">1.1.Res_BatchNorm_layer1.bias</text>\n<text text-anchor=\"middle\" x=\"1602.5\" y=\"-3242\" font-family=\"monospace\" font-size=\"10.00\" fill=\"#000000\"> (64)</text>\n</g>\n<!-- 140196087700288&#45;&gt;140196087405328 -->\n<g id=\"edge102\" class=\"edge\">\n<title>140196087700288&#45;&gt;140196087405328</title>\n<path fill=\"none\" stroke=\"#000000\" d=\"M1590.1352,-3234.7333C1583.3309,-3226.3321 1574.8559,-3215.868 1567.7716,-3207.121\"/>\n<polygon fill=\"#000000\" stroke=\"#000000\" points=\"1570.2779,-3204.6545 1561.2642,-3199.0864 1564.8382,-3209.0602 1570.2779,-3204.6545\"/>\n</g>\n<!-- 140196087405200 -->\n<g id=\"node104\" class=\"node\">\n<title>140196087405200</title>\n<polygon fill=\"#d3d3d3\" stroke=\"#000000\" points=\"1469,-3072.5 1368,-3072.5 1368,-3053.5 1469,-3053.5 1469,-3072.5\"/>\n<text text-anchor=\"middle\" x=\"1418.5\" y=\"-3060.5\" font-family=\"monospace\" font-size=\"10.00\" fill=\"#000000\">AccumulateGrad</text>\n</g>\n<!-- 140196087405200&#45;&gt;140196087404496 -->\n<g id=\"edge103\" class=\"edge\">\n<title>140196087405200&#45;&gt;140196087404496</title>\n<path fill=\"none\" stroke=\"#000000\" d=\"M1423.9627,-3053.2796C1428.7917,-3044.6869 1435.9722,-3031.9097 1441.9223,-3021.3221\"/>\n<polygon fill=\"#000000\" stroke=\"#000000\" points=\"1445.0899,-3022.8297 1446.9379,-3012.3972 1438.9875,-3019.4002 1445.0899,-3022.8297\"/>\n</g>\n<!-- 140196087699888 -->\n<g id=\"node105\" class=\"node\">\n<title>140196087699888</title>\n<polygon fill=\"#add8e6\" stroke=\"#000000\" points=\"1541,-3144 1338,-3144 1338,-3114 1541,-3114 1541,-3144\"/>\n<text text-anchor=\"middle\" x=\"1439.5\" y=\"-3132\" font-family=\"monospace\" font-size=\"10.00\" fill=\"#000000\">1.1.Convolutional_layer2.weight</text>\n<text text-anchor=\"middle\" x=\"1439.5\" y=\"-3121\" font-family=\"monospace\" font-size=\"10.00\" fill=\"#000000\"> (64, 64, 3, 3)</text>\n</g>\n<!-- 140196087699888&#45;&gt;140196087405200 -->\n<g id=\"edge104\" class=\"edge\">\n<title>140196087699888&#45;&gt;140196087405200</title>\n<path fill=\"none\" stroke=\"#000000\" d=\"M1434.6294,-3113.6924C1431.6753,-3104.408 1427.8771,-3092.4708 1424.7086,-3082.5127\"/>\n<polygon fill=\"#000000\" stroke=\"#000000\" points=\"1427.9547,-3081.1711 1421.5873,-3072.7031 1421.2842,-3083.2936 1427.9547,-3081.1711\"/>\n</g>\n<!-- 140196087405136 -->\n<g id=\"node106\" class=\"node\">\n<title>140196087405136</title>\n<polygon fill=\"#d3d3d3\" stroke=\"#000000\" points=\"1588,-3072.5 1487,-3072.5 1487,-3053.5 1588,-3053.5 1588,-3072.5\"/>\n<text text-anchor=\"middle\" x=\"1537.5\" y=\"-3060.5\" font-family=\"monospace\" font-size=\"10.00\" fill=\"#000000\">AccumulateGrad</text>\n</g>\n<!-- 140196087405136&#45;&gt;140196087404496 -->\n<g id=\"edge105\" class=\"edge\">\n<title>140196087405136&#45;&gt;140196087404496</title>\n<path fill=\"none\" stroke=\"#000000\" d=\"M1523.8433,-3053.2796C1510.5837,-3043.8419 1490.232,-3029.3563 1474.6538,-3018.2683\"/>\n<polygon fill=\"#000000\" stroke=\"#000000\" points=\"1476.2995,-3015.1436 1466.1228,-3012.1962 1472.2403,-3020.8465 1476.2995,-3015.1436\"/>\n</g>\n<!-- 140196087699968 -->\n<g id=\"node107\" class=\"node\">\n<title>140196087699968</title>\n<polygon fill=\"#add8e6\" stroke=\"#000000\" points=\"1750,-3144 1559,-3144 1559,-3114 1750,-3114 1750,-3144\"/>\n<text text-anchor=\"middle\" x=\"1654.5\" y=\"-3132\" font-family=\"monospace\" font-size=\"10.00\" fill=\"#000000\">1.1.Convolutional_layer2.bias</text>\n<text text-anchor=\"middle\" x=\"1654.5\" y=\"-3121\" font-family=\"monospace\" font-size=\"10.00\" fill=\"#000000\"> (64)</text>\n</g>\n<!-- 140196087699968&#45;&gt;140196087405136 -->\n<g id=\"edge106\" class=\"edge\">\n<title>140196087699968&#45;&gt;140196087405136</title>\n<path fill=\"none\" stroke=\"#000000\" d=\"M1627.6578,-3113.8583C1608.2931,-3102.9346 1582.3055,-3088.2749 1563.2067,-3077.5012\"/>\n<polygon fill=\"#000000\" stroke=\"#000000\" points=\"1564.8729,-3074.4227 1554.4435,-3072.5578 1561.4336,-3080.5195 1564.8729,-3074.4227\"/>\n</g>\n<!-- 140196087404944 -->\n<g id=\"node108\" class=\"node\">\n<title>140196087404944</title>\n<polygon fill=\"#d3d3d3\" stroke=\"#000000\" points=\"1723,-3012 1622,-3012 1622,-2993 1723,-2993 1723,-3012\"/>\n<text text-anchor=\"middle\" x=\"1672.5\" y=\"-3000\" font-family=\"monospace\" font-size=\"10.00\" fill=\"#000000\">AccumulateGrad</text>\n</g>\n<!-- 140196087404944&#45;&gt;140196087404624 -->\n<g id=\"edge107\" class=\"edge\">\n<title>140196087404944&#45;&gt;140196087404624</title>\n<path fill=\"none\" stroke=\"#000000\" d=\"M1653.3395,-2992.9197C1636.0947,-2984.2973 1610.524,-2971.512 1590.9022,-2961.7011\"/>\n<polygon fill=\"#000000\" stroke=\"#000000\" points=\"1592.3196,-2958.4967 1581.81,-2957.155 1589.1891,-2964.7577 1592.3196,-2958.4967\"/>\n</g>\n<!-- 140196087700608 -->\n<g id=\"node109\" class=\"node\">\n<title>140196087700608</title>\n<polygon fill=\"#add8e6\" stroke=\"#000000\" points=\"1809,-3078 1606,-3078 1606,-3048 1809,-3048 1809,-3078\"/>\n<text text-anchor=\"middle\" x=\"1707.5\" y=\"-3066\" font-family=\"monospace\" font-size=\"10.00\" fill=\"#000000\">1.1.Res_BatchNorm_layer2.weight</text>\n<text text-anchor=\"middle\" x=\"1707.5\" y=\"-3055\" font-family=\"monospace\" font-size=\"10.00\" fill=\"#000000\"> (64)</text>\n</g>\n<!-- 140196087700608&#45;&gt;140196087404944 -->\n<g id=\"edge108\" class=\"edge\">\n<title>140196087700608&#45;&gt;140196087404944</title>\n<path fill=\"none\" stroke=\"#000000\" d=\"M1698.668,-3047.7333C1693.9597,-3039.5946 1688.1314,-3029.52 1683.1712,-3020.946\"/>\n<polygon fill=\"#000000\" stroke=\"#000000\" points=\"1686.083,-3018.9897 1678.0459,-3012.0864 1680.0239,-3022.495 1686.083,-3018.9897\"/>\n</g>\n<!-- 140196087404880 -->\n<g id=\"node110\" class=\"node\">\n<title>140196087404880</title>\n<polygon fill=\"#d3d3d3\" stroke=\"#000000\" points=\"1924,-3012 1823,-3012 1823,-2993 1924,-2993 1924,-3012\"/>\n<text text-anchor=\"middle\" x=\"1873.5\" y=\"-3000\" font-family=\"monospace\" font-size=\"10.00\" fill=\"#000000\">AccumulateGrad</text>\n</g>\n<!-- 140196087404880&#45;&gt;140196087404624 -->\n<g id=\"edge109\" class=\"edge\">\n<title>140196087404880&#45;&gt;140196087404624</title>\n<path fill=\"none\" stroke=\"#000000\" d=\"M1822.8403,-2993.5409C1769.2578,-2984.0649 1684.588,-2969.0911 1626.4438,-2958.8084\"/>\n<polygon fill=\"#000000\" stroke=\"#000000\" points=\"1626.7267,-2955.3042 1616.2699,-2957.0092 1625.5076,-2962.1972 1626.7267,-2955.3042\"/>\n</g>\n<!-- 140196087700688 -->\n<g id=\"node111\" class=\"node\">\n<title>140196087700688</title>\n<polygon fill=\"#add8e6\" stroke=\"#000000\" points=\"2018,-3078 1827,-3078 1827,-3048 2018,-3048 2018,-3078\"/>\n<text text-anchor=\"middle\" x=\"1922.5\" y=\"-3066\" font-family=\"monospace\" font-size=\"10.00\" fill=\"#000000\">1.1.Res_BatchNorm_layer2.bias</text>\n<text text-anchor=\"middle\" x=\"1922.5\" y=\"-3055\" font-family=\"monospace\" font-size=\"10.00\" fill=\"#000000\"> (64)</text>\n</g>\n<!-- 140196087700688&#45;&gt;140196087404880 -->\n<g id=\"edge110\" class=\"edge\">\n<title>140196087700688&#45;&gt;140196087404880</title>\n<path fill=\"none\" stroke=\"#000000\" d=\"M1910.1352,-3047.7333C1903.3309,-3039.3321 1894.8559,-3028.868 1887.7716,-3020.121\"/>\n<polygon fill=\"#000000\" stroke=\"#000000\" points=\"1890.2779,-3017.6545 1881.2642,-3012.0864 1884.8382,-3022.0602 1890.2779,-3017.6545\"/>\n</g>\n<!-- 140196087404816&#45;&gt;140196087404432 -->\n<g id=\"edge111\" class=\"edge\">\n<title>140196087404816&#45;&gt;140196087404432</title>\n<path fill=\"none\" stroke=\"#000000\" d=\"M957.5183,-3179.9899C1018.519,-3166.0494 1107.5,-3133.6124 1107.5,-3063 1107.5,-3063 1107.5,-3063 1107.5,-3002.5 1107.5,-2988.2368 1294.2081,-2926.5483 1377.8273,-2899.6356\"/>\n<polygon fill=\"#000000\" stroke=\"#000000\" points=\"1379.0431,-2902.9213 1387.4942,-2896.5315 1376.903,-2896.2565 1379.0431,-2902.9213\"/>\n</g>\n<!-- 140196087404560 -->\n<g id=\"node113\" class=\"node\">\n<title>140196087404560</title>\n<polygon fill=\"#d3d3d3\" stroke=\"#000000\" points=\"705,-3259.5 604,-3259.5 604,-3240.5 705,-3240.5 705,-3259.5\"/>\n<text text-anchor=\"middle\" x=\"654.5\" y=\"-3247.5\" font-family=\"monospace\" font-size=\"10.00\" fill=\"#000000\">AccumulateGrad</text>\n</g>\n<!-- 140196087404560&#45;&gt;140196087404816 -->\n<g id=\"edge113\" class=\"edge\">\n<title>140196087404560&#45;&gt;140196087404816</title>\n<path fill=\"none\" stroke=\"#000000\" d=\"M693.3655,-3240.4803C736.3991,-3229.9397 805.8491,-3212.9287 852.5585,-3201.4877\"/>\n<polygon fill=\"#000000\" stroke=\"#000000\" points=\"853.5735,-3204.8426 862.4537,-3199.064 851.9081,-3198.0436 853.5735,-3204.8426\"/>\n</g>\n<!-- 140196087700048 -->\n<g id=\"node114\" class=\"node\">\n<title>140196087700048</title>\n<polygon fill=\"#add8e6\" stroke=\"#000000\" points=\"687,-3331 484,-3331 484,-3301 687,-3301 687,-3331\"/>\n<text text-anchor=\"middle\" x=\"585.5\" y=\"-3319\" font-family=\"monospace\" font-size=\"10.00\" fill=\"#000000\">1.1.Convolutional_layer3.weight</text>\n<text text-anchor=\"middle\" x=\"585.5\" y=\"-3308\" font-family=\"monospace\" font-size=\"10.00\" fill=\"#000000\"> (64, 64, 1, 1)</text>\n</g>\n<!-- 140196087700048&#45;&gt;140196087404560 -->\n<g id=\"edge114\" class=\"edge\">\n<title>140196087700048&#45;&gt;140196087404560</title>\n<path fill=\"none\" stroke=\"#000000\" d=\"M601.5034,-3300.6924C612.1392,-3290.519 626.1048,-3277.1606 637.0295,-3266.7109\"/>\n<polygon fill=\"#000000\" stroke=\"#000000\" points=\"639.5487,-3269.1446 644.3559,-3259.7031 634.7102,-3264.0861 639.5487,-3269.1446\"/>\n</g>\n<!-- 140196087405712 -->\n<g id=\"node115\" class=\"node\">\n<title>140196087405712</title>\n<polygon fill=\"#d3d3d3\" stroke=\"#000000\" points=\"872,-3259.5 771,-3259.5 771,-3240.5 872,-3240.5 872,-3259.5\"/>\n<text text-anchor=\"middle\" x=\"821.5\" y=\"-3247.5\" font-family=\"monospace\" font-size=\"10.00\" fill=\"#000000\">AccumulateGrad</text>\n</g>\n<!-- 140196087405712&#45;&gt;140196087404816 -->\n<g id=\"edge115\" class=\"edge\">\n<title>140196087405712&#45;&gt;140196087404816</title>\n<path fill=\"none\" stroke=\"#000000\" d=\"M834.3534,-3240.2796C846.833,-3230.8419 865.9875,-3216.3563 880.6494,-3205.2683\"/>\n<polygon fill=\"#000000\" stroke=\"#000000\" points=\"882.8136,-3208.0198 888.6785,-3199.1962 878.5913,-3202.4365 882.8136,-3208.0198\"/>\n</g>\n<!-- 140196087700128 -->\n<g id=\"node116\" class=\"node\">\n<title>140196087700128</title>\n<polygon fill=\"#add8e6\" stroke=\"#000000\" points=\"896,-3331 705,-3331 705,-3301 896,-3301 896,-3331\"/>\n<text text-anchor=\"middle\" x=\"800.5\" y=\"-3319\" font-family=\"monospace\" font-size=\"10.00\" fill=\"#000000\">1.1.Convolutional_layer3.bias</text>\n<text text-anchor=\"middle\" x=\"800.5\" y=\"-3308\" font-family=\"monospace\" font-size=\"10.00\" fill=\"#000000\"> (64)</text>\n</g>\n<!-- 140196087700128&#45;&gt;140196087405712 -->\n<g id=\"edge116\" class=\"edge\">\n<title>140196087700128&#45;&gt;140196087405712</title>\n<path fill=\"none\" stroke=\"#000000\" d=\"M805.3706,-3300.6924C808.3247,-3291.408 812.1229,-3279.4708 815.2914,-3269.5127\"/>\n<polygon fill=\"#000000\" stroke=\"#000000\" points=\"818.7158,-3270.2936 818.4127,-3259.7031 812.0453,-3268.1711 818.7158,-3270.2936\"/>\n</g>\n<!-- 140196087404368 -->\n<g id=\"node117\" class=\"node\">\n<title>140196087404368</title>\n<polygon fill=\"#d3d3d3\" stroke=\"#000000\" points=\"1608,-2830.5 1507,-2830.5 1507,-2811.5 1608,-2811.5 1608,-2830.5\"/>\n<text text-anchor=\"middle\" x=\"1557.5\" y=\"-2818.5\" font-family=\"monospace\" font-size=\"10.00\" fill=\"#000000\">AccumulateGrad</text>\n</g>\n<!-- 140196087404368&#45;&gt;140196087403984 -->\n<g id=\"edge117\" class=\"edge\">\n<title>140196087404368&#45;&gt;140196087403984</title>\n<path fill=\"none\" stroke=\"#000000\" d=\"M1562.9627,-2811.2796C1567.7917,-2802.6869 1574.9722,-2789.9097 1580.9223,-2779.3221\"/>\n<polygon fill=\"#000000\" stroke=\"#000000\" points=\"1584.0899,-2780.8297 1585.9379,-2770.3972 1577.9875,-2777.4002 1584.0899,-2780.8297\"/>\n</g>\n<!-- 140196087701008 -->\n<g id=\"node118\" class=\"node\">\n<title>140196087701008</title>\n<polygon fill=\"#add8e6\" stroke=\"#000000\" points=\"1683,-2902 1480,-2902 1480,-2872 1683,-2872 1683,-2902\"/>\n<text text-anchor=\"middle\" x=\"1581.5\" y=\"-2890\" font-family=\"monospace\" font-size=\"10.00\" fill=\"#000000\">2.0.Convolutional_layer1.weight</text>\n<text text-anchor=\"middle\" x=\"1581.5\" y=\"-2879\" font-family=\"monospace\" font-size=\"10.00\" fill=\"#000000\"> (128, 64, 3, 3)</text>\n</g>\n<!-- 140196087701008&#45;&gt;140196087404368 -->\n<g id=\"edge118\" class=\"edge\">\n<title>140196087701008&#45;&gt;140196087404368</title>\n<path fill=\"none\" stroke=\"#000000\" d=\"M1575.9336,-2871.6924C1572.5215,-2862.3092 1568.1242,-2850.2165 1564.4802,-2840.1956\"/>\n<polygon fill=\"#000000\" stroke=\"#000000\" points=\"1567.7352,-2838.9049 1561.0284,-2830.7031 1561.1566,-2841.2971 1567.7352,-2838.9049\"/>\n</g>\n<!-- 140196087404304 -->\n<g id=\"node119\" class=\"node\">\n<title>140196087404304</title>\n<polygon fill=\"#d3d3d3\" stroke=\"#000000\" points=\"1727,-2830.5 1626,-2830.5 1626,-2811.5 1727,-2811.5 1727,-2830.5\"/>\n<text text-anchor=\"middle\" x=\"1676.5\" y=\"-2818.5\" font-family=\"monospace\" font-size=\"10.00\" fill=\"#000000\">AccumulateGrad</text>\n</g>\n<!-- 140196087404304&#45;&gt;140196087403984 -->\n<g id=\"edge119\" class=\"edge\">\n<title>140196087404304&#45;&gt;140196087403984</title>\n<path fill=\"none\" stroke=\"#000000\" d=\"M1662.8433,-2811.2796C1649.5837,-2801.8419 1629.232,-2787.3563 1613.6538,-2776.2683\"/>\n<polygon fill=\"#000000\" stroke=\"#000000\" points=\"1615.2995,-2773.1436 1605.1228,-2770.1962 1611.2403,-2778.8465 1615.2995,-2773.1436\"/>\n</g>\n<!-- 140196087701088 -->\n<g id=\"node120\" class=\"node\">\n<title>140196087701088</title>\n<polygon fill=\"#add8e6\" stroke=\"#000000\" points=\"1892,-2902 1701,-2902 1701,-2872 1892,-2872 1892,-2902\"/>\n<text text-anchor=\"middle\" x=\"1796.5\" y=\"-2890\" font-family=\"monospace\" font-size=\"10.00\" fill=\"#000000\">2.0.Convolutional_layer1.bias</text>\n<text text-anchor=\"middle\" x=\"1796.5\" y=\"-2879\" font-family=\"monospace\" font-size=\"10.00\" fill=\"#000000\"> (128)</text>\n</g>\n<!-- 140196087701088&#45;&gt;140196087404304 -->\n<g id=\"edge120\" class=\"edge\">\n<title>140196087701088&#45;&gt;140196087404304</title>\n<path fill=\"none\" stroke=\"#000000\" d=\"M1768.9696,-2871.8583C1749.1083,-2860.9346 1722.4544,-2846.2749 1702.8658,-2835.5012\"/>\n<polygon fill=\"#000000\" stroke=\"#000000\" points=\"1704.3268,-2832.3103 1693.8779,-2830.5578 1700.9533,-2838.4438 1704.3268,-2832.3103\"/>\n</g>\n<!-- 140196087404112 -->\n<g id=\"node121\" class=\"node\">\n<title>140196087404112</title>\n<polygon fill=\"#d3d3d3\" stroke=\"#000000\" points=\"1862,-2770 1761,-2770 1761,-2751 1862,-2751 1862,-2770\"/>\n<text text-anchor=\"middle\" x=\"1811.5\" y=\"-2758\" font-family=\"monospace\" font-size=\"10.00\" fill=\"#000000\">AccumulateGrad</text>\n</g>\n<!-- 140196087404112&#45;&gt;140196087403792 -->\n<g id=\"edge121\" class=\"edge\">\n<title>140196087404112&#45;&gt;140196087403792</title>\n<path fill=\"none\" stroke=\"#000000\" d=\"M1793.8266,-2750.7796C1776.0257,-2740.9891 1748.3476,-2725.7662 1727.9353,-2714.5394\"/>\n<polygon fill=\"#000000\" stroke=\"#000000\" points=\"1729.5784,-2711.4487 1719.1295,-2709.6962 1726.205,-2717.5822 1729.5784,-2711.4487\"/>\n</g>\n<!-- 140196087673152 -->\n<g id=\"node122\" class=\"node\">\n<title>140196087673152</title>\n<polygon fill=\"#add8e6\" stroke=\"#000000\" points=\"1948,-2836 1745,-2836 1745,-2806 1948,-2806 1948,-2836\"/>\n<text text-anchor=\"middle\" x=\"1846.5\" y=\"-2824\" font-family=\"monospace\" font-size=\"10.00\" fill=\"#000000\">2.0.Res_BatchNorm_layer1.weight</text>\n<text text-anchor=\"middle\" x=\"1846.5\" y=\"-2813\" font-family=\"monospace\" font-size=\"10.00\" fill=\"#000000\"> (128)</text>\n</g>\n<!-- 140196087673152&#45;&gt;140196087404112 -->\n<g id=\"edge122\" class=\"edge\">\n<title>140196087673152&#45;&gt;140196087404112</title>\n<path fill=\"none\" stroke=\"#000000\" d=\"M1837.668,-2805.7333C1832.9597,-2797.5946 1827.1314,-2787.52 1822.1712,-2778.946\"/>\n<polygon fill=\"#000000\" stroke=\"#000000\" points=\"1825.083,-2776.9897 1817.0459,-2770.0864 1819.0239,-2780.495 1825.083,-2776.9897\"/>\n</g>\n<!-- 140196087403856 -->\n<g id=\"node123\" class=\"node\">\n<title>140196087403856</title>\n<polygon fill=\"#d3d3d3\" stroke=\"#000000\" points=\"2063,-2770 1962,-2770 1962,-2751 2063,-2751 2063,-2770\"/>\n<text text-anchor=\"middle\" x=\"2012.5\" y=\"-2758\" font-family=\"monospace\" font-size=\"10.00\" fill=\"#000000\">AccumulateGrad</text>\n</g>\n<!-- 140196087403856&#45;&gt;140196087403792 -->\n<g id=\"edge123\" class=\"edge\">\n<title>140196087403856&#45;&gt;140196087403792</title>\n<path fill=\"none\" stroke=\"#000000\" d=\"M1963.5641,-2750.9803C1908.504,-2740.2693 1819.0987,-2722.8769 1760.2929,-2711.4372\"/>\n<polygon fill=\"#000000\" stroke=\"#000000\" points=\"1760.8911,-2707.988 1750.4068,-2709.514 1759.5544,-2714.8592 1760.8911,-2707.988\"/>\n</g>\n<!-- 140196087673232 -->\n<g id=\"node124\" class=\"node\">\n<title>140196087673232</title>\n<polygon fill=\"#add8e6\" stroke=\"#000000\" points=\"2157,-2836 1966,-2836 1966,-2806 2157,-2806 2157,-2836\"/>\n<text text-anchor=\"middle\" x=\"2061.5\" y=\"-2824\" font-family=\"monospace\" font-size=\"10.00\" fill=\"#000000\">2.0.Res_BatchNorm_layer1.bias</text>\n<text text-anchor=\"middle\" x=\"2061.5\" y=\"-2813\" font-family=\"monospace\" font-size=\"10.00\" fill=\"#000000\"> (128)</text>\n</g>\n<!-- 140196087673232&#45;&gt;140196087403856 -->\n<g id=\"edge124\" class=\"edge\">\n<title>140196087673232&#45;&gt;140196087403856</title>\n<path fill=\"none\" stroke=\"#000000\" d=\"M2049.1352,-2805.7333C2042.3309,-2797.3321 2033.8559,-2786.868 2026.7716,-2778.121\"/>\n<polygon fill=\"#000000\" stroke=\"#000000\" points=\"2029.2779,-2775.6545 2020.2642,-2770.0864 2023.8382,-2780.0602 2029.2779,-2775.6545\"/>\n</g>\n<!-- 140196087403728 -->\n<g id=\"node125\" class=\"node\">\n<title>140196087403728</title>\n<polygon fill=\"#d3d3d3\" stroke=\"#000000\" points=\"1928,-2643.5 1827,-2643.5 1827,-2624.5 1928,-2624.5 1928,-2643.5\"/>\n<text text-anchor=\"middle\" x=\"1877.5\" y=\"-2631.5\" font-family=\"monospace\" font-size=\"10.00\" fill=\"#000000\">AccumulateGrad</text>\n</g>\n<!-- 140196087403728&#45;&gt;140196087403024 -->\n<g id=\"edge125\" class=\"edge\">\n<title>140196087403728&#45;&gt;140196087403024</title>\n<path fill=\"none\" stroke=\"#000000\" d=\"M1883.766,-2624.2796C1889.3617,-2615.5992 1897.7101,-2602.6485 1904.5752,-2591.9987\"/>\n<polygon fill=\"#000000\" stroke=\"#000000\" points=\"1907.6436,-2593.6986 1910.12,-2583.3972 1901.7601,-2589.9059 1907.6436,-2593.6986\"/>\n</g>\n<!-- 140196087701168 -->\n<g id=\"node126\" class=\"node\">\n<title>140196087701168</title>\n<polygon fill=\"#add8e6\" stroke=\"#000000\" points=\"2000,-2715 1797,-2715 1797,-2685 2000,-2685 2000,-2715\"/>\n<text text-anchor=\"middle\" x=\"1898.5\" y=\"-2703\" font-family=\"monospace\" font-size=\"10.00\" fill=\"#000000\">2.0.Convolutional_layer2.weight</text>\n<text text-anchor=\"middle\" x=\"1898.5\" y=\"-2692\" font-family=\"monospace\" font-size=\"10.00\" fill=\"#000000\"> (128, 128, 3, 3)</text>\n</g>\n<!-- 140196087701168&#45;&gt;140196087403728 -->\n<g id=\"edge126\" class=\"edge\">\n<title>140196087701168&#45;&gt;140196087403728</title>\n<path fill=\"none\" stroke=\"#000000\" d=\"M1893.6294,-2684.6924C1890.6753,-2675.408 1886.8771,-2663.4708 1883.7086,-2653.5127\"/>\n<polygon fill=\"#000000\" stroke=\"#000000\" points=\"1886.9547,-2652.1711 1880.5873,-2643.7031 1880.2842,-2654.2936 1886.9547,-2652.1711\"/>\n</g>\n<!-- 140196087403664 -->\n<g id=\"node127\" class=\"node\">\n<title>140196087403664</title>\n<polygon fill=\"#d3d3d3\" stroke=\"#000000\" points=\"2047,-2643.5 1946,-2643.5 1946,-2624.5 2047,-2624.5 2047,-2643.5\"/>\n<text text-anchor=\"middle\" x=\"1996.5\" y=\"-2631.5\" font-family=\"monospace\" font-size=\"10.00\" fill=\"#000000\">AccumulateGrad</text>\n</g>\n<!-- 140196087403664&#45;&gt;140196087403024 -->\n<g id=\"edge127\" class=\"edge\">\n<title>140196087403664&#45;&gt;140196087403024</title>\n<path fill=\"none\" stroke=\"#000000\" d=\"M1983.6466,-2624.2796C1971.167,-2614.8419 1952.0125,-2600.3563 1937.3506,-2589.2683\"/>\n<polygon fill=\"#000000\" stroke=\"#000000\" points=\"1939.4087,-2586.4365 1929.3215,-2583.1962 1935.1864,-2592.0198 1939.4087,-2586.4365\"/>\n</g>\n<!-- 140196087701248 -->\n<g id=\"node128\" class=\"node\">\n<title>140196087701248</title>\n<polygon fill=\"#add8e6\" stroke=\"#000000\" points=\"2209,-2715 2018,-2715 2018,-2685 2209,-2685 2209,-2715\"/>\n<text text-anchor=\"middle\" x=\"2113.5\" y=\"-2703\" font-family=\"monospace\" font-size=\"10.00\" fill=\"#000000\">2.0.Convolutional_layer2.bias</text>\n<text text-anchor=\"middle\" x=\"2113.5\" y=\"-2692\" font-family=\"monospace\" font-size=\"10.00\" fill=\"#000000\"> (128)</text>\n</g>\n<!-- 140196087701248&#45;&gt;140196087403664 -->\n<g id=\"edge128\" class=\"edge\">\n<title>140196087701248&#45;&gt;140196087403664</title>\n<path fill=\"none\" stroke=\"#000000\" d=\"M2086.6578,-2684.8583C2067.2931,-2673.9346 2041.3055,-2659.2749 2022.2067,-2648.5012\"/>\n<polygon fill=\"#000000\" stroke=\"#000000\" points=\"2023.8729,-2645.4227 2013.4435,-2643.5578 2020.4336,-2651.5195 2023.8729,-2645.4227\"/>\n</g>\n<!-- 140196087403472 -->\n<g id=\"node129\" class=\"node\">\n<title>140196087403472</title>\n<polygon fill=\"#d3d3d3\" stroke=\"#000000\" points=\"2177,-2583 2076,-2583 2076,-2564 2177,-2564 2177,-2583\"/>\n<text text-anchor=\"middle\" x=\"2126.5\" y=\"-2571\" font-family=\"monospace\" font-size=\"10.00\" fill=\"#000000\">AccumulateGrad</text>\n</g>\n<!-- 140196087403472&#45;&gt;140196087403152 -->\n<g id=\"edge129\" class=\"edge\">\n<title>140196087403472&#45;&gt;140196087403152</title>\n<path fill=\"none\" stroke=\"#000000\" d=\"M2101.2429,-2563.9197C2077.7879,-2555.023 2042.6483,-2541.6942 2016.4947,-2531.7739\"/>\n<polygon fill=\"#000000\" stroke=\"#000000\" points=\"2017.5454,-2528.4291 2006.9542,-2528.155 2015.0628,-2534.9741 2017.5454,-2528.4291\"/>\n</g>\n<!-- 140196087673552 -->\n<g id=\"node130\" class=\"node\">\n<title>140196087673552</title>\n<polygon fill=\"#add8e6\" stroke=\"#000000\" points=\"2268,-2649 2065,-2649 2065,-2619 2268,-2619 2268,-2649\"/>\n<text text-anchor=\"middle\" x=\"2166.5\" y=\"-2637\" font-family=\"monospace\" font-size=\"10.00\" fill=\"#000000\">2.0.Res_BatchNorm_layer2.weight</text>\n<text text-anchor=\"middle\" x=\"2166.5\" y=\"-2626\" font-family=\"monospace\" font-size=\"10.00\" fill=\"#000000\"> (128)</text>\n</g>\n<!-- 140196087673552&#45;&gt;140196087403472 -->\n<g id=\"edge130\" class=\"edge\">\n<title>140196087673552&#45;&gt;140196087403472</title>\n<path fill=\"none\" stroke=\"#000000\" d=\"M2156.4063,-2618.7333C2150.9675,-2610.5071 2144.2211,-2600.3031 2138.5132,-2591.6699\"/>\n<polygon fill=\"#000000\" stroke=\"#000000\" points=\"2141.2729,-2589.4978 2132.8381,-2583.0864 2135.4337,-2593.3584 2141.2729,-2589.4978\"/>\n</g>\n<!-- 140196087403408 -->\n<g id=\"node131\" class=\"node\">\n<title>140196087403408</title>\n<polygon fill=\"#d3d3d3\" stroke=\"#000000\" points=\"2383,-2583 2282,-2583 2282,-2564 2383,-2564 2383,-2583\"/>\n<text text-anchor=\"middle\" x=\"2332.5\" y=\"-2571\" font-family=\"monospace\" font-size=\"10.00\" fill=\"#000000\">AccumulateGrad</text>\n</g>\n<!-- 140196087403408&#45;&gt;140196087403152 -->\n<g id=\"edge131\" class=\"edge\">\n<title>140196087403408&#45;&gt;140196087403152</title>\n<path fill=\"none\" stroke=\"#000000\" d=\"M2281.8364,-2565.5613C2221.5231,-2556.1105 2120.4252,-2540.2689 2052.3769,-2529.6061\"/>\n<polygon fill=\"#000000\" stroke=\"#000000\" points=\"2052.5898,-2526.0968 2042.1685,-2528.0065 2051.5061,-2533.0124 2052.5898,-2526.0968\"/>\n</g>\n<!-- 140196087673632 -->\n<g id=\"node132\" class=\"node\">\n<title>140196087673632</title>\n<polygon fill=\"#add8e6\" stroke=\"#000000\" points=\"2477,-2649 2286,-2649 2286,-2619 2477,-2619 2477,-2649\"/>\n<text text-anchor=\"middle\" x=\"2381.5\" y=\"-2637\" font-family=\"monospace\" font-size=\"10.00\" fill=\"#000000\">2.0.Res_BatchNorm_layer2.bias</text>\n<text text-anchor=\"middle\" x=\"2381.5\" y=\"-2626\" font-family=\"monospace\" font-size=\"10.00\" fill=\"#000000\"> (128)</text>\n</g>\n<!-- 140196087673632&#45;&gt;140196087403408 -->\n<g id=\"edge132\" class=\"edge\">\n<title>140196087673632&#45;&gt;140196087403408</title>\n<path fill=\"none\" stroke=\"#000000\" d=\"M2369.1352,-2618.7333C2362.3309,-2610.3321 2353.8559,-2599.868 2346.7716,-2591.121\"/>\n<polygon fill=\"#000000\" stroke=\"#000000\" points=\"2349.2779,-2588.6545 2340.2642,-2583.0864 2343.8382,-2593.0602 2349.2779,-2588.6545\"/>\n</g>\n<!-- 140196087403344&#45;&gt;140196087402960 -->\n<g id=\"edge133\" class=\"edge\">\n<title>140196087403344&#45;&gt;140196087402960</title>\n<path fill=\"none\" stroke=\"#000000\" d=\"M1410.4662,-2750.9536C1468.5361,-2736.6249 1556.5,-2703.4567 1556.5,-2634 1556.5,-2634 1556.5,-2634 1556.5,-2573.5 1556.5,-2550.926 1695.4197,-2496.2562 1762.7514,-2471.0846\"/>\n<polygon fill=\"#000000\" stroke=\"#000000\" points=\"1763.9886,-2474.3588 1772.1411,-2467.5921 1761.5482,-2467.7979 1763.9886,-2474.3588\"/>\n</g>\n<!-- 140196087403088 -->\n<g id=\"node134\" class=\"node\">\n<title>140196087403088</title>\n<polygon fill=\"#d3d3d3\" stroke=\"#000000\" points=\"1143,-2830.5 1042,-2830.5 1042,-2811.5 1143,-2811.5 1143,-2830.5\"/>\n<text text-anchor=\"middle\" x=\"1092.5\" y=\"-2818.5\" font-family=\"monospace\" font-size=\"10.00\" fill=\"#000000\">AccumulateGrad</text>\n</g>\n<!-- 140196087403088&#45;&gt;140196087403344 -->\n<g id=\"edge135\" class=\"edge\">\n<title>140196087403088&#45;&gt;140196087403344</title>\n<path fill=\"none\" stroke=\"#000000\" d=\"M1134.6698,-2811.4803C1181.6559,-2800.8734 1257.6659,-2783.7144 1308.3508,-2772.2725\"/>\n<polygon fill=\"#000000\" stroke=\"#000000\" points=\"1309.1502,-2775.6802 1318.134,-2770.064 1307.6087,-2768.852 1309.1502,-2775.6802\"/>\n</g>\n<!-- 140196087672992 -->\n<g id=\"node135\" class=\"node\">\n<title>140196087672992</title>\n<polygon fill=\"#add8e6\" stroke=\"#000000\" points=\"1146,-2902 943,-2902 943,-2872 1146,-2872 1146,-2902\"/>\n<text text-anchor=\"middle\" x=\"1044.5\" y=\"-2890\" font-family=\"monospace\" font-size=\"10.00\" fill=\"#000000\">2.0.Convolutional_layer3.weight</text>\n<text text-anchor=\"middle\" x=\"1044.5\" y=\"-2879\" font-family=\"monospace\" font-size=\"10.00\" fill=\"#000000\"> (128, 64, 1, 1)</text>\n</g>\n<!-- 140196087672992&#45;&gt;140196087403088 -->\n<g id=\"edge136\" class=\"edge\">\n<title>140196087672992&#45;&gt;140196087403088</title>\n<path fill=\"none\" stroke=\"#000000\" d=\"M1055.6328,-2871.6924C1062.7443,-2861.9141 1071.9957,-2849.1934 1079.4519,-2838.9411\"/>\n<polygon fill=\"#000000\" stroke=\"#000000\" points=\"1082.3921,-2840.8491 1085.4432,-2830.7031 1076.7309,-2836.7318 1082.3921,-2840.8491\"/>\n</g>\n<!-- 140196087404240 -->\n<g id=\"node136\" class=\"node\">\n<title>140196087404240</title>\n<polygon fill=\"#d3d3d3\" stroke=\"#000000\" points=\"1331,-2830.5 1230,-2830.5 1230,-2811.5 1331,-2811.5 1331,-2830.5\"/>\n<text text-anchor=\"middle\" x=\"1280.5\" y=\"-2818.5\" font-family=\"monospace\" font-size=\"10.00\" fill=\"#000000\">AccumulateGrad</text>\n</g>\n<!-- 140196087404240&#45;&gt;140196087403344 -->\n<g id=\"edge137\" class=\"edge\">\n<title>140196087404240&#45;&gt;140196087403344</title>\n<path fill=\"none\" stroke=\"#000000\" d=\"M1293.3534,-2811.2796C1305.833,-2801.8419 1324.9875,-2787.3563 1339.6494,-2776.2683\"/>\n<polygon fill=\"#000000\" stroke=\"#000000\" points=\"1341.8136,-2779.0198 1347.6785,-2770.1962 1337.5913,-2773.4365 1341.8136,-2779.0198\"/>\n</g>\n<!-- 140196087673072 -->\n<g id=\"node137\" class=\"node\">\n<title>140196087673072</title>\n<polygon fill=\"#add8e6\" stroke=\"#000000\" points=\"1355,-2902 1164,-2902 1164,-2872 1355,-2872 1355,-2902\"/>\n<text text-anchor=\"middle\" x=\"1259.5\" y=\"-2890\" font-family=\"monospace\" font-size=\"10.00\" fill=\"#000000\">2.0.Convolutional_layer3.bias</text>\n<text text-anchor=\"middle\" x=\"1259.5\" y=\"-2879\" font-family=\"monospace\" font-size=\"10.00\" fill=\"#000000\"> (128)</text>\n</g>\n<!-- 140196087673072&#45;&gt;140196087404240 -->\n<g id=\"edge138\" class=\"edge\">\n<title>140196087673072&#45;&gt;140196087404240</title>\n<path fill=\"none\" stroke=\"#000000\" d=\"M1264.3706,-2871.6924C1267.3247,-2862.408 1271.1229,-2850.4708 1274.2914,-2840.5127\"/>\n<polygon fill=\"#000000\" stroke=\"#000000\" points=\"1277.7158,-2841.2936 1277.4127,-2830.7031 1271.0453,-2839.1711 1277.7158,-2841.2936\"/>\n</g>\n<!-- 140196087402896 -->\n<g id=\"node138\" class=\"node\">\n<title>140196087402896</title>\n<polygon fill=\"#d3d3d3\" stroke=\"#000000\" points=\"1978,-2401.5 1877,-2401.5 1877,-2382.5 1978,-2382.5 1978,-2401.5\"/>\n<text text-anchor=\"middle\" x=\"1927.5\" y=\"-2389.5\" font-family=\"monospace\" font-size=\"10.00\" fill=\"#000000\">AccumulateGrad</text>\n</g>\n<!-- 140196087402896&#45;&gt;140196087302544 -->\n<g id=\"edge139\" class=\"edge\">\n<title>140196087402896&#45;&gt;140196087302544</title>\n<path fill=\"none\" stroke=\"#000000\" d=\"M1933.4447,-2382.2796C1938.7534,-2373.5992 1946.6737,-2360.6485 1953.1868,-2349.9987\"/>\n<polygon fill=\"#000000\" stroke=\"#000000\" points=\"1956.2156,-2351.7544 1958.4471,-2341.3972 1950.2439,-2348.1022 1956.2156,-2351.7544\"/>\n</g>\n<!-- 140196087673952 -->\n<g id=\"node139\" class=\"node\">\n<title>140196087673952</title>\n<polygon fill=\"#add8e6\" stroke=\"#000000\" points=\"2064,-2473 1861,-2473 1861,-2443 2064,-2443 2064,-2473\"/>\n<text text-anchor=\"middle\" x=\"1962.5\" y=\"-2461\" font-family=\"monospace\" font-size=\"10.00\" fill=\"#000000\">2.1.Convolutional_layer1.weight</text>\n<text text-anchor=\"middle\" x=\"1962.5\" y=\"-2450\" font-family=\"monospace\" font-size=\"10.00\" fill=\"#000000\"> (128, 128, 3, 3)</text>\n</g>\n<!-- 140196087673952&#45;&gt;140196087402896 -->\n<g id=\"edge140\" class=\"edge\">\n<title>140196087673952&#45;&gt;140196087402896</title>\n<path fill=\"none\" stroke=\"#000000\" d=\"M1954.3823,-2442.6924C1949.3016,-2433.1116 1942.723,-2420.7061 1937.3453,-2410.5655\"/>\n<polygon fill=\"#000000\" stroke=\"#000000\" points=\"1940.4228,-2408.8979 1932.6456,-2401.7031 1934.2385,-2412.1775 1940.4228,-2408.8979\"/>\n</g>\n<!-- 140196087402832 -->\n<g id=\"node140\" class=\"node\">\n<title>140196087402832</title>\n<polygon fill=\"#d3d3d3\" stroke=\"#000000\" points=\"2097,-2401.5 1996,-2401.5 1996,-2382.5 2097,-2382.5 2097,-2401.5\"/>\n<text text-anchor=\"middle\" x=\"2046.5\" y=\"-2389.5\" font-family=\"monospace\" font-size=\"10.00\" fill=\"#000000\">AccumulateGrad</text>\n</g>\n<!-- 140196087402832&#45;&gt;140196087302544 -->\n<g id=\"edge141\" class=\"edge\">\n<title>140196087402832&#45;&gt;140196087302544</title>\n<path fill=\"none\" stroke=\"#000000\" d=\"M2033.3253,-2382.2796C2020.5337,-2372.8419 2000.9003,-2358.3563 1985.8719,-2347.2683\"/>\n<polygon fill=\"#000000\" stroke=\"#000000\" points=\"1987.7669,-2344.3169 1977.642,-2341.1962 1983.6109,-2349.9497 1987.7669,-2344.3169\"/>\n</g>\n<!-- 140196087674032 -->\n<g id=\"node141\" class=\"node\">\n<title>140196087674032</title>\n<polygon fill=\"#add8e6\" stroke=\"#000000\" points=\"2273,-2473 2082,-2473 2082,-2443 2273,-2443 2273,-2473\"/>\n<text text-anchor=\"middle\" x=\"2177.5\" y=\"-2461\" font-family=\"monospace\" font-size=\"10.00\" fill=\"#000000\">2.1.Convolutional_layer1.bias</text>\n<text text-anchor=\"middle\" x=\"2177.5\" y=\"-2450\" font-family=\"monospace\" font-size=\"10.00\" fill=\"#000000\"> (128)</text>\n</g>\n<!-- 140196087674032&#45;&gt;140196087402832 -->\n<g id=\"edge142\" class=\"edge\">\n<title>140196087674032&#45;&gt;140196087402832</title>\n<path fill=\"none\" stroke=\"#000000\" d=\"M2147.446,-2442.8583C2125.4684,-2431.7856 2095.8719,-2416.8744 2074.4122,-2406.0626\"/>\n<polygon fill=\"#000000\" stroke=\"#000000\" points=\"2075.9763,-2402.9316 2065.4709,-2401.5578 2072.8267,-2409.183 2075.9763,-2402.9316\"/>\n</g>\n<!-- 140196087302992 -->\n<g id=\"node142\" class=\"node\">\n<title>140196087302992</title>\n<polygon fill=\"#d3d3d3\" stroke=\"#000000\" points=\"2225,-2341 2124,-2341 2124,-2322 2225,-2322 2225,-2341\"/>\n<text text-anchor=\"middle\" x=\"2174.5\" y=\"-2329\" font-family=\"monospace\" font-size=\"10.00\" fill=\"#000000\">AccumulateGrad</text>\n</g>\n<!-- 140196087302992&#45;&gt;140196087303568 -->\n<g id=\"edge143\" class=\"edge\">\n<title>140196087302992&#45;&gt;140196087303568</title>\n<path fill=\"none\" stroke=\"#000000\" d=\"M2157.6299,-2321.7796C2140.7147,-2312.0332 2114.456,-2296.9032 2094.9974,-2285.6914\"/>\n<polygon fill=\"#000000\" stroke=\"#000000\" points=\"2096.7402,-2282.6561 2086.3282,-2280.6962 2093.2454,-2288.7214 2096.7402,-2282.6561\"/>\n</g>\n<!-- 140196087674432 -->\n<g id=\"node143\" class=\"node\">\n<title>140196087674432</title>\n<polygon fill=\"#add8e6\" stroke=\"#000000\" points=\"2318,-2407 2115,-2407 2115,-2377 2318,-2377 2318,-2407\"/>\n<text text-anchor=\"middle\" x=\"2216.5\" y=\"-2395\" font-family=\"monospace\" font-size=\"10.00\" fill=\"#000000\">2.1.Res_BatchNorm_layer1.weight</text>\n<text text-anchor=\"middle\" x=\"2216.5\" y=\"-2384\" font-family=\"monospace\" font-size=\"10.00\" fill=\"#000000\"> (128)</text>\n</g>\n<!-- 140196087674432&#45;&gt;140196087302992 -->\n<g id=\"edge144\" class=\"edge\">\n<title>140196087674432&#45;&gt;140196087302992</title>\n<path fill=\"none\" stroke=\"#000000\" d=\"M2205.9016,-2376.7333C2200.1301,-2368.4196 2192.9563,-2358.0858 2186.9229,-2349.3949\"/>\n<polygon fill=\"#000000\" stroke=\"#000000\" points=\"2189.7329,-2347.3051 2181.155,-2341.0864 2183.9826,-2351.297 2189.7329,-2347.3051\"/>\n</g>\n<!-- 140196087402640 -->\n<g id=\"node144\" class=\"node\">\n<title>140196087402640</title>\n<polygon fill=\"#d3d3d3\" stroke=\"#000000\" points=\"2431,-2341 2330,-2341 2330,-2322 2431,-2322 2431,-2341\"/>\n<text text-anchor=\"middle\" x=\"2380.5\" y=\"-2329\" font-family=\"monospace\" font-size=\"10.00\" fill=\"#000000\">AccumulateGrad</text>\n</g>\n<!-- 140196087402640&#45;&gt;140196087303568 -->\n<g id=\"edge145\" class=\"edge\">\n<title>140196087402640&#45;&gt;140196087303568</title>\n<path fill=\"none\" stroke=\"#000000\" d=\"M2331.5641,-2321.9803C2276.504,-2311.2693 2187.0987,-2293.8769 2128.2929,-2282.4372\"/>\n<polygon fill=\"#000000\" stroke=\"#000000\" points=\"2128.8911,-2278.988 2118.4068,-2280.514 2127.5544,-2285.8592 2128.8911,-2278.988\"/>\n</g>\n<!-- 140196087674512 -->\n<g id=\"node145\" class=\"node\">\n<title>140196087674512</title>\n<polygon fill=\"#add8e6\" stroke=\"#000000\" points=\"2527,-2407 2336,-2407 2336,-2377 2527,-2377 2527,-2407\"/>\n<text text-anchor=\"middle\" x=\"2431.5\" y=\"-2395\" font-family=\"monospace\" font-size=\"10.00\" fill=\"#000000\">2.1.Res_BatchNorm_layer1.bias</text>\n<text text-anchor=\"middle\" x=\"2431.5\" y=\"-2384\" font-family=\"monospace\" font-size=\"10.00\" fill=\"#000000\"> (128)</text>\n</g>\n<!-- 140196087674512&#45;&gt;140196087402640 -->\n<g id=\"edge146\" class=\"edge\">\n<title>140196087674512&#45;&gt;140196087402640</title>\n<path fill=\"none\" stroke=\"#000000\" d=\"M2418.6305,-2376.7333C2411.4747,-2368.2446 2402.5436,-2357.6498 2395.1242,-2348.8483\"/>\n<polygon fill=\"#000000\" stroke=\"#000000\" points=\"2397.7024,-2346.4764 2388.5811,-2341.0864 2392.3503,-2350.9881 2397.7024,-2346.4764\"/>\n</g>\n<!-- 140196087304144 -->\n<g id=\"node146\" class=\"node\">\n<title>140196087304144</title>\n<polygon fill=\"#d3d3d3\" stroke=\"#000000\" points=\"2296,-2214.5 2195,-2214.5 2195,-2195.5 2296,-2195.5 2296,-2214.5\"/>\n<text text-anchor=\"middle\" x=\"2245.5\" y=\"-2202.5\" font-family=\"monospace\" font-size=\"10.00\" fill=\"#000000\">AccumulateGrad</text>\n</g>\n<!-- 140196087304144&#45;&gt;140196087303632 -->\n<g id=\"edge147\" class=\"edge\">\n<title>140196087304144&#45;&gt;140196087303632</title>\n<path fill=\"none\" stroke=\"#000000\" d=\"M2251.766,-2195.2796C2257.3617,-2186.5992 2265.7101,-2173.6485 2272.5752,-2162.9987\"/>\n<polygon fill=\"#000000\" stroke=\"#000000\" points=\"2275.6436,-2164.6986 2278.12,-2154.3972 2269.7601,-2160.9059 2275.6436,-2164.6986\"/>\n</g>\n<!-- 140196087674112 -->\n<g id=\"node147\" class=\"node\">\n<title>140196087674112</title>\n<polygon fill=\"#add8e6\" stroke=\"#000000\" points=\"2368,-2286 2165,-2286 2165,-2256 2368,-2256 2368,-2286\"/>\n<text text-anchor=\"middle\" x=\"2266.5\" y=\"-2274\" font-family=\"monospace\" font-size=\"10.00\" fill=\"#000000\">2.1.Convolutional_layer2.weight</text>\n<text text-anchor=\"middle\" x=\"2266.5\" y=\"-2263\" font-family=\"monospace\" font-size=\"10.00\" fill=\"#000000\"> (128, 128, 3, 3)</text>\n</g>\n<!-- 140196087674112&#45;&gt;140196087304144 -->\n<g id=\"edge148\" class=\"edge\">\n<title>140196087674112&#45;&gt;140196087304144</title>\n<path fill=\"none\" stroke=\"#000000\" d=\"M2261.6294,-2255.6924C2258.6753,-2246.408 2254.8771,-2234.4708 2251.7086,-2224.5127\"/>\n<polygon fill=\"#000000\" stroke=\"#000000\" points=\"2254.9547,-2223.1711 2248.5873,-2214.7031 2248.2842,-2225.2936 2254.9547,-2223.1711\"/>\n</g>\n<!-- 140196087304080 -->\n<g id=\"node148\" class=\"node\">\n<title>140196087304080</title>\n<polygon fill=\"#d3d3d3\" stroke=\"#000000\" points=\"2415,-2214.5 2314,-2214.5 2314,-2195.5 2415,-2195.5 2415,-2214.5\"/>\n<text text-anchor=\"middle\" x=\"2364.5\" y=\"-2202.5\" font-family=\"monospace\" font-size=\"10.00\" fill=\"#000000\">AccumulateGrad</text>\n</g>\n<!-- 140196087304080&#45;&gt;140196087303632 -->\n<g id=\"edge149\" class=\"edge\">\n<title>140196087304080&#45;&gt;140196087303632</title>\n<path fill=\"none\" stroke=\"#000000\" d=\"M2351.6466,-2195.2796C2339.167,-2185.8419 2320.0125,-2171.3563 2305.3506,-2160.2683\"/>\n<polygon fill=\"#000000\" stroke=\"#000000\" points=\"2307.4087,-2157.4365 2297.3215,-2154.1962 2303.1864,-2163.0198 2307.4087,-2157.4365\"/>\n</g>\n<!-- 140196087674192 -->\n<g id=\"node149\" class=\"node\">\n<title>140196087674192</title>\n<polygon fill=\"#add8e6\" stroke=\"#000000\" points=\"2577,-2286 2386,-2286 2386,-2256 2577,-2256 2577,-2286\"/>\n<text text-anchor=\"middle\" x=\"2481.5\" y=\"-2274\" font-family=\"monospace\" font-size=\"10.00\" fill=\"#000000\">2.1.Convolutional_layer2.bias</text>\n<text text-anchor=\"middle\" x=\"2481.5\" y=\"-2263\" font-family=\"monospace\" font-size=\"10.00\" fill=\"#000000\"> (128)</text>\n</g>\n<!-- 140196087674192&#45;&gt;140196087304080 -->\n<g id=\"edge150\" class=\"edge\">\n<title>140196087674192&#45;&gt;140196087304080</title>\n<path fill=\"none\" stroke=\"#000000\" d=\"M2454.6578,-2255.8583C2435.2931,-2244.9346 2409.3055,-2230.2749 2390.2067,-2219.5012\"/>\n<polygon fill=\"#000000\" stroke=\"#000000\" points=\"2391.8729,-2216.4227 2381.4435,-2214.5578 2388.4336,-2222.5195 2391.8729,-2216.4227\"/>\n</g>\n<!-- 140196087303952 -->\n<g id=\"node150\" class=\"node\">\n<title>140196087303952</title>\n<polygon fill=\"#d3d3d3\" stroke=\"#000000\" points=\"2545,-2154 2444,-2154 2444,-2135 2545,-2135 2545,-2154\"/>\n<text text-anchor=\"middle\" x=\"2494.5\" y=\"-2142\" font-family=\"monospace\" font-size=\"10.00\" fill=\"#000000\">AccumulateGrad</text>\n</g>\n<!-- 140196087303952&#45;&gt;140196087302160 -->\n<g id=\"edge151\" class=\"edge\">\n<title>140196087303952&#45;&gt;140196087302160</title>\n<path fill=\"none\" stroke=\"#000000\" d=\"M2469.2429,-2134.9197C2445.7879,-2126.023 2410.6483,-2112.6942 2384.4947,-2102.7739\"/>\n<polygon fill=\"#000000\" stroke=\"#000000\" points=\"2385.5454,-2099.4291 2374.9542,-2099.155 2383.0628,-2105.9741 2385.5454,-2099.4291\"/>\n</g>\n<!-- 140196087674832 -->\n<g id=\"node151\" class=\"node\">\n<title>140196087674832</title>\n<polygon fill=\"#add8e6\" stroke=\"#000000\" points=\"2636,-2220 2433,-2220 2433,-2190 2636,-2190 2636,-2220\"/>\n<text text-anchor=\"middle\" x=\"2534.5\" y=\"-2208\" font-family=\"monospace\" font-size=\"10.00\" fill=\"#000000\">2.1.Res_BatchNorm_layer2.weight</text>\n<text text-anchor=\"middle\" x=\"2534.5\" y=\"-2197\" font-family=\"monospace\" font-size=\"10.00\" fill=\"#000000\"> (128)</text>\n</g>\n<!-- 140196087674832&#45;&gt;140196087303952 -->\n<g id=\"edge152\" class=\"edge\">\n<title>140196087674832&#45;&gt;140196087303952</title>\n<path fill=\"none\" stroke=\"#000000\" d=\"M2524.4063,-2189.7333C2518.9675,-2181.5071 2512.2211,-2171.3031 2506.5132,-2162.6699\"/>\n<polygon fill=\"#000000\" stroke=\"#000000\" points=\"2509.2729,-2160.4978 2500.8381,-2154.0864 2503.4337,-2164.3584 2509.2729,-2160.4978\"/>\n</g>\n<!-- 140196087303824 -->\n<g id=\"node152\" class=\"node\">\n<title>140196087303824</title>\n<polygon fill=\"#d3d3d3\" stroke=\"#000000\" points=\"2751,-2154 2650,-2154 2650,-2135 2751,-2135 2751,-2154\"/>\n<text text-anchor=\"middle\" x=\"2700.5\" y=\"-2142\" font-family=\"monospace\" font-size=\"10.00\" fill=\"#000000\">AccumulateGrad</text>\n</g>\n<!-- 140196087303824&#45;&gt;140196087302160 -->\n<g id=\"edge153\" class=\"edge\">\n<title>140196087303824&#45;&gt;140196087302160</title>\n<path fill=\"none\" stroke=\"#000000\" d=\"M2649.8364,-2136.5613C2589.5231,-2127.1105 2488.4252,-2111.2689 2420.3769,-2100.6061\"/>\n<polygon fill=\"#000000\" stroke=\"#000000\" points=\"2420.5898,-2097.0968 2410.1685,-2099.0065 2419.5061,-2104.0124 2420.5898,-2097.0968\"/>\n</g>\n<!-- 140196087674912 -->\n<g id=\"node153\" class=\"node\">\n<title>140196087674912</title>\n<polygon fill=\"#add8e6\" stroke=\"#000000\" points=\"2845,-2220 2654,-2220 2654,-2190 2845,-2190 2845,-2220\"/>\n<text text-anchor=\"middle\" x=\"2749.5\" y=\"-2208\" font-family=\"monospace\" font-size=\"10.00\" fill=\"#000000\">2.1.Res_BatchNorm_layer2.bias</text>\n<text text-anchor=\"middle\" x=\"2749.5\" y=\"-2197\" font-family=\"monospace\" font-size=\"10.00\" fill=\"#000000\"> (128)</text>\n</g>\n<!-- 140196087674912&#45;&gt;140196087303824 -->\n<g id=\"edge154\" class=\"edge\">\n<title>140196087674912&#45;&gt;140196087303824</title>\n<path fill=\"none\" stroke=\"#000000\" d=\"M2737.1352,-2189.7333C2730.3309,-2181.3321 2721.8559,-2170.868 2714.7716,-2162.121\"/>\n<polygon fill=\"#000000\" stroke=\"#000000\" points=\"2717.2779,-2159.6545 2708.2642,-2154.0864 2711.8382,-2164.0602 2717.2779,-2159.6545\"/>\n</g>\n<!-- 140196087303760&#45;&gt;140196087303440 -->\n<g id=\"edge155\" class=\"edge\">\n<title>140196087303760&#45;&gt;140196087303440</title>\n<path fill=\"none\" stroke=\"#000000\" d=\"M1804.3424,-2321.9714C1859.0494,-2307.2019 1945.5,-2273.0903 1945.5,-2205 1945.5,-2205 1945.5,-2205 1945.5,-2144.5 1945.5,-2103.0946 2065.419,-2061.5252 2132.8249,-2041.4297\"/>\n<polygon fill=\"#000000\" stroke=\"#000000\" points=\"2134.16,-2044.6854 2142.7673,-2038.5076 2132.1861,-2037.9695 2134.16,-2044.6854\"/>\n</g>\n<!-- 140196087302672 -->\n<g id=\"node155\" class=\"node\">\n<title>140196087302672</title>\n<polygon fill=\"#d3d3d3\" stroke=\"#000000\" points=\"1524,-2401.5 1423,-2401.5 1423,-2382.5 1524,-2382.5 1524,-2401.5\"/>\n<text text-anchor=\"middle\" x=\"1473.5\" y=\"-2389.5\" font-family=\"monospace\" font-size=\"10.00\" fill=\"#000000\">AccumulateGrad</text>\n</g>\n<!-- 140196087302672&#45;&gt;140196087303760 -->\n<g id=\"edge157\" class=\"edge\">\n<title>140196087302672&#45;&gt;140196087303760</title>\n<path fill=\"none\" stroke=\"#000000\" d=\"M1518.6595,-2382.4803C1569.1863,-2371.8292 1651.0542,-2354.5713 1705.3307,-2343.1298\"/>\n<polygon fill=\"#000000\" stroke=\"#000000\" points=\"1706.0674,-2346.5515 1715.1304,-2341.064 1704.6235,-2339.702 1706.0674,-2346.5515\"/>\n</g>\n<!-- 140196087674272 -->\n<g id=\"node156\" class=\"node\">\n<title>140196087674272</title>\n<polygon fill=\"#add8e6\" stroke=\"#000000\" points=\"1527,-2473 1324,-2473 1324,-2443 1527,-2443 1527,-2473\"/>\n<text text-anchor=\"middle\" x=\"1425.5\" y=\"-2461\" font-family=\"monospace\" font-size=\"10.00\" fill=\"#000000\">2.1.Convolutional_layer3.weight</text>\n<text text-anchor=\"middle\" x=\"1425.5\" y=\"-2450\" font-family=\"monospace\" font-size=\"10.00\" fill=\"#000000\"> (128, 128, 1, 1)</text>\n</g>\n<!-- 140196087674272&#45;&gt;140196087302672 -->\n<g id=\"edge158\" class=\"edge\">\n<title>140196087674272&#45;&gt;140196087302672</title>\n<path fill=\"none\" stroke=\"#000000\" d=\"M1436.6328,-2442.6924C1443.7443,-2432.9141 1452.9957,-2420.1934 1460.4519,-2409.9411\"/>\n<polygon fill=\"#000000\" stroke=\"#000000\" points=\"1463.3921,-2411.8491 1466.4432,-2401.7031 1457.7309,-2407.7318 1463.3921,-2411.8491\"/>\n</g>\n<!-- 140196087302864 -->\n<g id=\"node157\" class=\"node\">\n<title>140196087302864</title>\n<polygon fill=\"#d3d3d3\" stroke=\"#000000\" points=\"1712,-2401.5 1611,-2401.5 1611,-2382.5 1712,-2382.5 1712,-2401.5\"/>\n<text text-anchor=\"middle\" x=\"1661.5\" y=\"-2389.5\" font-family=\"monospace\" font-size=\"10.00\" fill=\"#000000\">AccumulateGrad</text>\n</g>\n<!-- 140196087302864&#45;&gt;140196087303760 -->\n<g id=\"edge159\" class=\"edge\">\n<title>140196087302864&#45;&gt;140196087303760</title>\n<path fill=\"none\" stroke=\"#000000\" d=\"M1677.4061,-2382.2796C1693.2104,-2372.6214 1717.6655,-2357.6766 1735.9599,-2346.4967\"/>\n<polygon fill=\"#000000\" stroke=\"#000000\" points=\"1737.9257,-2349.3973 1744.6334,-2341.1962 1734.2755,-2343.4243 1737.9257,-2349.3973\"/>\n</g>\n<!-- 140196087674352 -->\n<g id=\"node158\" class=\"node\">\n<title>140196087674352</title>\n<polygon fill=\"#add8e6\" stroke=\"#000000\" points=\"1736,-2473 1545,-2473 1545,-2443 1736,-2443 1736,-2473\"/>\n<text text-anchor=\"middle\" x=\"1640.5\" y=\"-2461\" font-family=\"monospace\" font-size=\"10.00\" fill=\"#000000\">2.1.Convolutional_layer3.bias</text>\n<text text-anchor=\"middle\" x=\"1640.5\" y=\"-2450\" font-family=\"monospace\" font-size=\"10.00\" fill=\"#000000\"> (128)</text>\n</g>\n<!-- 140196087674352&#45;&gt;140196087302864 -->\n<g id=\"edge160\" class=\"edge\">\n<title>140196087674352&#45;&gt;140196087302864</title>\n<path fill=\"none\" stroke=\"#000000\" d=\"M1645.3706,-2442.6924C1648.3247,-2433.408 1652.1229,-2421.4708 1655.2914,-2411.5127\"/>\n<polygon fill=\"#000000\" stroke=\"#000000\" points=\"1658.7158,-2412.2936 1658.4127,-2401.7031 1652.0453,-2410.1711 1658.7158,-2412.2936\"/>\n</g>\n<!-- 140196087303120 -->\n<g id=\"node159\" class=\"node\">\n<title>140196087303120</title>\n<polygon fill=\"#d3d3d3\" stroke=\"#000000\" points=\"2357,-1972.5 2256,-1972.5 2256,-1953.5 2357,-1953.5 2357,-1972.5\"/>\n<text text-anchor=\"middle\" x=\"2306.5\" y=\"-1960.5\" font-family=\"monospace\" font-size=\"10.00\" fill=\"#000000\">AccumulateGrad</text>\n</g>\n<!-- 140196087303120&#45;&gt;140196087302352 -->\n<g id=\"edge161\" class=\"edge\">\n<title>140196087303120&#45;&gt;140196087302352</title>\n<path fill=\"none\" stroke=\"#000000\" d=\"M2312.4447,-1953.2796C2317.7534,-1944.5992 2325.6737,-1931.6485 2332.1868,-1920.9987\"/>\n<polygon fill=\"#000000\" stroke=\"#000000\" points=\"2335.2156,-1922.7544 2337.4471,-1912.3972 2329.2439,-1919.1022 2335.2156,-1922.7544\"/>\n</g>\n<!-- 140196087675312 -->\n<g id=\"node160\" class=\"node\">\n<title>140196087675312</title>\n<polygon fill=\"#add8e6\" stroke=\"#000000\" points=\"2443,-2044 2240,-2044 2240,-2014 2443,-2014 2443,-2044\"/>\n<text text-anchor=\"middle\" x=\"2341.5\" y=\"-2032\" font-family=\"monospace\" font-size=\"10.00\" fill=\"#000000\">3.0.Convolutional_layer1.weight</text>\n<text text-anchor=\"middle\" x=\"2341.5\" y=\"-2021\" font-family=\"monospace\" font-size=\"10.00\" fill=\"#000000\"> (256, 128, 3, 3)</text>\n</g>\n<!-- 140196087675312&#45;&gt;140196087303120 -->\n<g id=\"edge162\" class=\"edge\">\n<title>140196087675312&#45;&gt;140196087303120</title>\n<path fill=\"none\" stroke=\"#000000\" d=\"M2333.3823,-2013.6924C2328.3016,-2004.1116 2321.723,-1991.7061 2316.3453,-1981.5655\"/>\n<polygon fill=\"#000000\" stroke=\"#000000\" points=\"2319.4228,-1979.8979 2311.6456,-1972.7031 2313.2385,-1983.1775 2319.4228,-1979.8979\"/>\n</g>\n<!-- 140196087303248 -->\n<g id=\"node161\" class=\"node\">\n<title>140196087303248</title>\n<polygon fill=\"#d3d3d3\" stroke=\"#000000\" points=\"2476,-1972.5 2375,-1972.5 2375,-1953.5 2476,-1953.5 2476,-1972.5\"/>\n<text text-anchor=\"middle\" x=\"2425.5\" y=\"-1960.5\" font-family=\"monospace\" font-size=\"10.00\" fill=\"#000000\">AccumulateGrad</text>\n</g>\n<!-- 140196087303248&#45;&gt;140196087302352 -->\n<g id=\"edge163\" class=\"edge\">\n<title>140196087303248&#45;&gt;140196087302352</title>\n<path fill=\"none\" stroke=\"#000000\" d=\"M2412.3253,-1953.2796C2399.5337,-1943.8419 2379.9003,-1929.3563 2364.8719,-1918.2683\"/>\n<polygon fill=\"#000000\" stroke=\"#000000\" points=\"2366.7669,-1915.3169 2356.642,-1912.1962 2362.6109,-1920.9497 2366.7669,-1915.3169\"/>\n</g>\n<!-- 140196087675392 -->\n<g id=\"node162\" class=\"node\">\n<title>140196087675392</title>\n<polygon fill=\"#add8e6\" stroke=\"#000000\" points=\"2652,-2044 2461,-2044 2461,-2014 2652,-2014 2652,-2044\"/>\n<text text-anchor=\"middle\" x=\"2556.5\" y=\"-2032\" font-family=\"monospace\" font-size=\"10.00\" fill=\"#000000\">3.0.Convolutional_layer1.bias</text>\n<text text-anchor=\"middle\" x=\"2556.5\" y=\"-2021\" font-family=\"monospace\" font-size=\"10.00\" fill=\"#000000\"> (256)</text>\n</g>\n<!-- 140196087675392&#45;&gt;140196087303248 -->\n<g id=\"edge164\" class=\"edge\">\n<title>140196087675392&#45;&gt;140196087303248</title>\n<path fill=\"none\" stroke=\"#000000\" d=\"M2526.446,-2013.8583C2504.4684,-2002.7856 2474.8719,-1987.8744 2453.4122,-1977.0626\"/>\n<polygon fill=\"#000000\" stroke=\"#000000\" points=\"2454.9763,-1973.9316 2444.4709,-1972.5578 2451.8267,-1980.183 2454.9763,-1973.9316\"/>\n</g>\n<!-- 140196087302032 -->\n<g id=\"node163\" class=\"node\">\n<title>140196087302032</title>\n<polygon fill=\"#d3d3d3\" stroke=\"#000000\" points=\"2604,-1912 2503,-1912 2503,-1893 2604,-1893 2604,-1912\"/>\n<text text-anchor=\"middle\" x=\"2553.5\" y=\"-1900\" font-family=\"monospace\" font-size=\"10.00\" fill=\"#000000\">AccumulateGrad</text>\n</g>\n<!-- 140196087302032&#45;&gt;140196087302608 -->\n<g id=\"edge165\" class=\"edge\">\n<title>140196087302032&#45;&gt;140196087302608</title>\n<path fill=\"none\" stroke=\"#000000\" d=\"M2536.6299,-1892.7796C2519.7147,-1883.0332 2493.456,-1867.9032 2473.9974,-1856.6914\"/>\n<polygon fill=\"#000000\" stroke=\"#000000\" points=\"2475.7402,-1853.6561 2465.3282,-1851.6962 2472.2454,-1859.7214 2475.7402,-1853.6561\"/>\n</g>\n<!-- 140196087675632 -->\n<g id=\"node164\" class=\"node\">\n<title>140196087675632</title>\n<polygon fill=\"#add8e6\" stroke=\"#000000\" points=\"2697,-1978 2494,-1978 2494,-1948 2697,-1948 2697,-1978\"/>\n<text text-anchor=\"middle\" x=\"2595.5\" y=\"-1966\" font-family=\"monospace\" font-size=\"10.00\" fill=\"#000000\">3.0.Res_BatchNorm_layer1.weight</text>\n<text text-anchor=\"middle\" x=\"2595.5\" y=\"-1955\" font-family=\"monospace\" font-size=\"10.00\" fill=\"#000000\"> (256)</text>\n</g>\n<!-- 140196087675632&#45;&gt;140196087302032 -->\n<g id=\"edge166\" class=\"edge\">\n<title>140196087675632&#45;&gt;140196087302032</title>\n<path fill=\"none\" stroke=\"#000000\" d=\"M2584.9016,-1947.7333C2579.1301,-1939.4196 2571.9563,-1929.0858 2565.9229,-1920.3949\"/>\n<polygon fill=\"#000000\" stroke=\"#000000\" points=\"2568.7329,-1918.3051 2560.155,-1912.0864 2562.9826,-1922.297 2568.7329,-1918.3051\"/>\n</g>\n<!-- 140196087300240 -->\n<g id=\"node165\" class=\"node\">\n<title>140196087300240</title>\n<polygon fill=\"#d3d3d3\" stroke=\"#000000\" points=\"2810,-1912 2709,-1912 2709,-1893 2810,-1893 2810,-1912\"/>\n<text text-anchor=\"middle\" x=\"2759.5\" y=\"-1900\" font-family=\"monospace\" font-size=\"10.00\" fill=\"#000000\">AccumulateGrad</text>\n</g>\n<!-- 140196087300240&#45;&gt;140196087302608 -->\n<g id=\"edge167\" class=\"edge\">\n<title>140196087300240&#45;&gt;140196087302608</title>\n<path fill=\"none\" stroke=\"#000000\" d=\"M2710.5641,-1892.9803C2655.504,-1882.2693 2566.0987,-1864.8769 2507.2929,-1853.4372\"/>\n<polygon fill=\"#000000\" stroke=\"#000000\" points=\"2507.8911,-1849.988 2497.4068,-1851.514 2506.5544,-1856.8592 2507.8911,-1849.988\"/>\n</g>\n<!-- 140196087675952 -->\n<g id=\"node166\" class=\"node\">\n<title>140196087675952</title>\n<polygon fill=\"#add8e6\" stroke=\"#000000\" points=\"2906,-1978 2715,-1978 2715,-1948 2906,-1948 2906,-1978\"/>\n<text text-anchor=\"middle\" x=\"2810.5\" y=\"-1966\" font-family=\"monospace\" font-size=\"10.00\" fill=\"#000000\">3.0.Res_BatchNorm_layer1.bias</text>\n<text text-anchor=\"middle\" x=\"2810.5\" y=\"-1955\" font-family=\"monospace\" font-size=\"10.00\" fill=\"#000000\"> (256)</text>\n</g>\n<!-- 140196087675952&#45;&gt;140196087300240 -->\n<g id=\"edge168\" class=\"edge\">\n<title>140196087675952&#45;&gt;140196087300240</title>\n<path fill=\"none\" stroke=\"#000000\" d=\"M2797.6305,-1947.7333C2790.4747,-1939.2446 2781.5436,-1928.6498 2774.1242,-1919.8483\"/>\n<polygon fill=\"#000000\" stroke=\"#000000\" points=\"2776.7024,-1917.4764 2767.5811,-1912.0864 2771.3503,-1921.9881 2776.7024,-1917.4764\"/>\n</g>\n<!-- 140196087301456 -->\n<g id=\"node167\" class=\"node\">\n<title>140196087301456</title>\n<polygon fill=\"#d3d3d3\" stroke=\"#000000\" points=\"2675,-1785.5 2574,-1785.5 2574,-1766.5 2675,-1766.5 2675,-1785.5\"/>\n<text text-anchor=\"middle\" x=\"2624.5\" y=\"-1773.5\" font-family=\"monospace\" font-size=\"10.00\" fill=\"#000000\">AccumulateGrad</text>\n</g>\n<!-- 140196087301456&#45;&gt;140196087644112 -->\n<g id=\"edge169\" class=\"edge\">\n<title>140196087301456&#45;&gt;140196087644112</title>\n<path fill=\"none\" stroke=\"#000000\" d=\"M2630.766,-1766.2796C2636.3617,-1757.5992 2644.7101,-1744.6485 2651.5752,-1733.9987\"/>\n<polygon fill=\"#000000\" stroke=\"#000000\" points=\"2654.6436,-1735.6986 2657.12,-1725.3972 2648.7601,-1731.9059 2654.6436,-1735.6986\"/>\n</g>\n<!-- 140196087675472 -->\n<g id=\"node168\" class=\"node\">\n<title>140196087675472</title>\n<polygon fill=\"#add8e6\" stroke=\"#000000\" points=\"2747,-1857 2544,-1857 2544,-1827 2747,-1827 2747,-1857\"/>\n<text text-anchor=\"middle\" x=\"2645.5\" y=\"-1845\" font-family=\"monospace\" font-size=\"10.00\" fill=\"#000000\">3.0.Convolutional_layer2.weight</text>\n<text text-anchor=\"middle\" x=\"2645.5\" y=\"-1834\" font-family=\"monospace\" font-size=\"10.00\" fill=\"#000000\"> (256, 256, 3, 3)</text>\n</g>\n<!-- 140196087675472&#45;&gt;140196087301456 -->\n<g id=\"edge170\" class=\"edge\">\n<title>140196087675472&#45;&gt;140196087301456</title>\n<path fill=\"none\" stroke=\"#000000\" d=\"M2640.6294,-1826.6924C2637.6753,-1817.408 2633.8771,-1805.4708 2630.7086,-1795.5127\"/>\n<polygon fill=\"#000000\" stroke=\"#000000\" points=\"2633.9547,-1794.1711 2627.5873,-1785.7031 2627.2842,-1796.2936 2633.9547,-1794.1711\"/>\n</g>\n<!-- 140196087302224 -->\n<g id=\"node169\" class=\"node\">\n<title>140196087302224</title>\n<polygon fill=\"#d3d3d3\" stroke=\"#000000\" points=\"2794,-1785.5 2693,-1785.5 2693,-1766.5 2794,-1766.5 2794,-1785.5\"/>\n<text text-anchor=\"middle\" x=\"2743.5\" y=\"-1773.5\" font-family=\"monospace\" font-size=\"10.00\" fill=\"#000000\">AccumulateGrad</text>\n</g>\n<!-- 140196087302224&#45;&gt;140196087644112 -->\n<g id=\"edge171\" class=\"edge\">\n<title>140196087302224&#45;&gt;140196087644112</title>\n<path fill=\"none\" stroke=\"#000000\" d=\"M2730.6466,-1766.2796C2718.167,-1756.8419 2699.0125,-1742.3563 2684.3506,-1731.2683\"/>\n<polygon fill=\"#000000\" stroke=\"#000000\" points=\"2686.4087,-1728.4365 2676.3215,-1725.1962 2682.1864,-1734.0198 2686.4087,-1728.4365\"/>\n</g>\n<!-- 140196087675552 -->\n<g id=\"node170\" class=\"node\">\n<title>140196087675552</title>\n<polygon fill=\"#add8e6\" stroke=\"#000000\" points=\"2956,-1857 2765,-1857 2765,-1827 2956,-1827 2956,-1857\"/>\n<text text-anchor=\"middle\" x=\"2860.5\" y=\"-1845\" font-family=\"monospace\" font-size=\"10.00\" fill=\"#000000\">3.0.Convolutional_layer2.bias</text>\n<text text-anchor=\"middle\" x=\"2860.5\" y=\"-1834\" font-family=\"monospace\" font-size=\"10.00\" fill=\"#000000\"> (256)</text>\n</g>\n<!-- 140196087675552&#45;&gt;140196087302224 -->\n<g id=\"edge172\" class=\"edge\">\n<title>140196087675552&#45;&gt;140196087302224</title>\n<path fill=\"none\" stroke=\"#000000\" d=\"M2833.6578,-1826.8583C2814.2931,-1815.9346 2788.3055,-1801.2749 2769.2067,-1790.5012\"/>\n<polygon fill=\"#000000\" stroke=\"#000000\" points=\"2770.8729,-1787.4227 2760.4435,-1785.5578 2767.4336,-1793.5195 2770.8729,-1787.4227\"/>\n</g>\n<!-- 140196087303056 -->\n<g id=\"node171\" class=\"node\">\n<title>140196087303056</title>\n<polygon fill=\"#d3d3d3\" stroke=\"#000000\" points=\"2924,-1725 2823,-1725 2823,-1706 2924,-1706 2924,-1725\"/>\n<text text-anchor=\"middle\" x=\"2873.5\" y=\"-1713\" font-family=\"monospace\" font-size=\"10.00\" fill=\"#000000\">AccumulateGrad</text>\n</g>\n<!-- 140196087303056&#45;&gt;140196087730256 -->\n<g id=\"edge173\" class=\"edge\">\n<title>140196087303056&#45;&gt;140196087730256</title>\n<path fill=\"none\" stroke=\"#000000\" d=\"M2848.2429,-1705.9197C2824.7879,-1697.023 2789.6483,-1683.6942 2763.4947,-1673.7739\"/>\n<polygon fill=\"#000000\" stroke=\"#000000\" points=\"2764.5454,-1670.4291 2753.9542,-1670.155 2762.0628,-1676.9741 2764.5454,-1670.4291\"/>\n</g>\n<!-- 140196087676272 -->\n<g id=\"node172\" class=\"node\">\n<title>140196087676272</title>\n<polygon fill=\"#add8e6\" stroke=\"#000000\" points=\"3015,-1791 2812,-1791 2812,-1761 3015,-1761 3015,-1791\"/>\n<text text-anchor=\"middle\" x=\"2913.5\" y=\"-1779\" font-family=\"monospace\" font-size=\"10.00\" fill=\"#000000\">3.0.Res_BatchNorm_layer2.weight</text>\n<text text-anchor=\"middle\" x=\"2913.5\" y=\"-1768\" font-family=\"monospace\" font-size=\"10.00\" fill=\"#000000\"> (256)</text>\n</g>\n<!-- 140196087676272&#45;&gt;140196087303056 -->\n<g id=\"edge174\" class=\"edge\">\n<title>140196087676272&#45;&gt;140196087303056</title>\n<path fill=\"none\" stroke=\"#000000\" d=\"M2903.4063,-1760.7333C2897.9675,-1752.5071 2891.2211,-1742.3031 2885.5132,-1733.6699\"/>\n<polygon fill=\"#000000\" stroke=\"#000000\" points=\"2888.2729,-1731.4978 2879.8381,-1725.0864 2882.4337,-1735.3584 2888.2729,-1731.4978\"/>\n</g>\n<!-- 140196087303504 -->\n<g id=\"node173\" class=\"node\">\n<title>140196087303504</title>\n<polygon fill=\"#d3d3d3\" stroke=\"#000000\" points=\"3130,-1725 3029,-1725 3029,-1706 3130,-1706 3130,-1725\"/>\n<text text-anchor=\"middle\" x=\"3079.5\" y=\"-1713\" font-family=\"monospace\" font-size=\"10.00\" fill=\"#000000\">AccumulateGrad</text>\n</g>\n<!-- 140196087303504&#45;&gt;140196087730256 -->\n<g id=\"edge175\" class=\"edge\">\n<title>140196087303504&#45;&gt;140196087730256</title>\n<path fill=\"none\" stroke=\"#000000\" d=\"M3028.8364,-1707.5613C2968.5231,-1698.1105 2867.4252,-1682.2689 2799.3769,-1671.6061\"/>\n<polygon fill=\"#000000\" stroke=\"#000000\" points=\"2799.5898,-1668.0968 2789.1685,-1670.0065 2798.5061,-1675.0124 2799.5898,-1668.0968\"/>\n</g>\n<!-- 140196087676352 -->\n<g id=\"node174\" class=\"node\">\n<title>140196087676352</title>\n<polygon fill=\"#add8e6\" stroke=\"#000000\" points=\"3224,-1791 3033,-1791 3033,-1761 3224,-1761 3224,-1791\"/>\n<text text-anchor=\"middle\" x=\"3128.5\" y=\"-1779\" font-family=\"monospace\" font-size=\"10.00\" fill=\"#000000\">3.0.Res_BatchNorm_layer2.bias</text>\n<text text-anchor=\"middle\" x=\"3128.5\" y=\"-1768\" font-family=\"monospace\" font-size=\"10.00\" fill=\"#000000\"> (256)</text>\n</g>\n<!-- 140196087676352&#45;&gt;140196087303504 -->\n<g id=\"edge176\" class=\"edge\">\n<title>140196087676352&#45;&gt;140196087303504</title>\n<path fill=\"none\" stroke=\"#000000\" d=\"M3116.1352,-1760.7333C3109.3309,-1752.3321 3100.8559,-1741.868 3093.7716,-1733.121\"/>\n<polygon fill=\"#000000\" stroke=\"#000000\" points=\"3096.2779,-1730.6545 3087.2642,-1725.0864 3090.8382,-1735.0602 3096.2779,-1730.6545\"/>\n</g>\n<!-- 140196087730512&#45;&gt;140196087643920 -->\n<g id=\"edge177\" class=\"edge\">\n<title>140196087730512&#45;&gt;140196087643920</title>\n<path fill=\"none\" stroke=\"#000000\" d=\"M2183.3424,-1892.9714C2238.0494,-1878.2019 2324.5,-1844.0903 2324.5,-1776 2324.5,-1776 2324.5,-1776 2324.5,-1715.5 2324.5,-1674.0946 2444.419,-1632.5252 2511.8249,-1612.4297\"/>\n<polygon fill=\"#000000\" stroke=\"#000000\" points=\"2513.16,-1615.6854 2521.7673,-1609.5076 2511.1861,-1608.9695 2513.16,-1615.6854\"/>\n</g>\n<!-- 140196087302096 -->\n<g id=\"node176\" class=\"node\">\n<title>140196087302096</title>\n<polygon fill=\"#d3d3d3\" stroke=\"#000000\" points=\"1903,-1972.5 1802,-1972.5 1802,-1953.5 1903,-1953.5 1903,-1972.5\"/>\n<text text-anchor=\"middle\" x=\"1852.5\" y=\"-1960.5\" font-family=\"monospace\" font-size=\"10.00\" fill=\"#000000\">AccumulateGrad</text>\n</g>\n<!-- 140196087302096&#45;&gt;140196087730512 -->\n<g id=\"edge179\" class=\"edge\">\n<title>140196087302096&#45;&gt;140196087730512</title>\n<path fill=\"none\" stroke=\"#000000\" d=\"M1897.6595,-1953.4803C1948.1863,-1942.8292 2030.0542,-1925.5713 2084.3307,-1914.1298\"/>\n<polygon fill=\"#000000\" stroke=\"#000000\" points=\"2085.0674,-1917.5515 2094.1304,-1912.064 2083.6235,-1910.702 2085.0674,-1917.5515\"/>\n</g>\n<!-- 140196087675152 -->\n<g id=\"node177\" class=\"node\">\n<title>140196087675152</title>\n<polygon fill=\"#add8e6\" stroke=\"#000000\" points=\"1906,-2044 1703,-2044 1703,-2014 1906,-2014 1906,-2044\"/>\n<text text-anchor=\"middle\" x=\"1804.5\" y=\"-2032\" font-family=\"monospace\" font-size=\"10.00\" fill=\"#000000\">3.0.Convolutional_layer3.weight</text>\n<text text-anchor=\"middle\" x=\"1804.5\" y=\"-2021\" font-family=\"monospace\" font-size=\"10.00\" fill=\"#000000\"> (256, 128, 1, 1)</text>\n</g>\n<!-- 140196087675152&#45;&gt;140196087302096 -->\n<g id=\"edge180\" class=\"edge\">\n<title>140196087675152&#45;&gt;140196087302096</title>\n<path fill=\"none\" stroke=\"#000000\" d=\"M1815.6328,-2013.6924C1822.7443,-2003.9141 1831.9957,-1991.1934 1839.4519,-1980.9411\"/>\n<polygon fill=\"#000000\" stroke=\"#000000\" points=\"1842.3921,-1982.8491 1845.4432,-1972.7031 1836.7309,-1978.7318 1842.3921,-1982.8491\"/>\n</g>\n<!-- 140196087302288 -->\n<g id=\"node178\" class=\"node\">\n<title>140196087302288</title>\n<polygon fill=\"#d3d3d3\" stroke=\"#000000\" points=\"2091,-1972.5 1990,-1972.5 1990,-1953.5 2091,-1953.5 2091,-1972.5\"/>\n<text text-anchor=\"middle\" x=\"2040.5\" y=\"-1960.5\" font-family=\"monospace\" font-size=\"10.00\" fill=\"#000000\">AccumulateGrad</text>\n</g>\n<!-- 140196087302288&#45;&gt;140196087730512 -->\n<g id=\"edge181\" class=\"edge\">\n<title>140196087302288&#45;&gt;140196087730512</title>\n<path fill=\"none\" stroke=\"#000000\" d=\"M2056.4061,-1953.2796C2072.2104,-1943.6214 2096.6655,-1928.6766 2114.9599,-1917.4967\"/>\n<polygon fill=\"#000000\" stroke=\"#000000\" points=\"2116.9257,-1920.3973 2123.6334,-1912.1962 2113.2755,-1914.4243 2116.9257,-1920.3973\"/>\n</g>\n<!-- 140196087675712 -->\n<g id=\"node179\" class=\"node\">\n<title>140196087675712</title>\n<polygon fill=\"#add8e6\" stroke=\"#000000\" points=\"2115,-2044 1924,-2044 1924,-2014 2115,-2014 2115,-2044\"/>\n<text text-anchor=\"middle\" x=\"2019.5\" y=\"-2032\" font-family=\"monospace\" font-size=\"10.00\" fill=\"#000000\">3.0.Convolutional_layer3.bias</text>\n<text text-anchor=\"middle\" x=\"2019.5\" y=\"-2021\" font-family=\"monospace\" font-size=\"10.00\" fill=\"#000000\"> (256)</text>\n</g>\n<!-- 140196087675712&#45;&gt;140196087302288 -->\n<g id=\"edge182\" class=\"edge\">\n<title>140196087675712&#45;&gt;140196087302288</title>\n<path fill=\"none\" stroke=\"#000000\" d=\"M2024.3706,-2013.6924C2027.3247,-2004.408 2031.1229,-1992.4708 2034.2914,-1982.5127\"/>\n<polygon fill=\"#000000\" stroke=\"#000000\" points=\"2037.7158,-1983.2936 2037.4127,-1972.7031 2031.0453,-1981.1711 2037.7158,-1983.2936\"/>\n</g>\n<!-- 140196087643856 -->\n<g id=\"node180\" class=\"node\">\n<title>140196087643856</title>\n<polygon fill=\"#d3d3d3\" stroke=\"#000000\" points=\"2736,-1543.5 2635,-1543.5 2635,-1524.5 2736,-1524.5 2736,-1543.5\"/>\n<text text-anchor=\"middle\" x=\"2685.5\" y=\"-1531.5\" font-family=\"monospace\" font-size=\"10.00\" fill=\"#000000\">AccumulateGrad</text>\n</g>\n<!-- 140196087643856&#45;&gt;140196087643280 -->\n<g id=\"edge183\" class=\"edge\">\n<title>140196087643856&#45;&gt;140196087643280</title>\n<path fill=\"none\" stroke=\"#000000\" d=\"M2691.766,-1524.2796C2697.3617,-1515.5992 2705.7101,-1502.6485 2712.5752,-1491.9987\"/>\n<polygon fill=\"#000000\" stroke=\"#000000\" points=\"2715.6436,-1493.6986 2718.12,-1483.3972 2709.7601,-1489.9059 2715.6436,-1493.6986\"/>\n</g>\n<!-- 140196087676832 -->\n<g id=\"node181\" class=\"node\">\n<title>140196087676832</title>\n<polygon fill=\"#add8e6\" stroke=\"#000000\" points=\"2822,-1615 2619,-1615 2619,-1585 2822,-1585 2822,-1615\"/>\n<text text-anchor=\"middle\" x=\"2720.5\" y=\"-1603\" font-family=\"monospace\" font-size=\"10.00\" fill=\"#000000\">3.1.Convolutional_layer1.weight</text>\n<text text-anchor=\"middle\" x=\"2720.5\" y=\"-1592\" font-family=\"monospace\" font-size=\"10.00\" fill=\"#000000\"> (256, 256, 3, 3)</text>\n</g>\n<!-- 140196087676832&#45;&gt;140196087643856 -->\n<g id=\"edge184\" class=\"edge\">\n<title>140196087676832&#45;&gt;140196087643856</title>\n<path fill=\"none\" stroke=\"#000000\" d=\"M2712.3823,-1584.6924C2707.3016,-1575.1116 2700.723,-1562.7061 2695.3453,-1552.5655\"/>\n<polygon fill=\"#000000\" stroke=\"#000000\" points=\"2698.4228,-1550.8979 2690.6456,-1543.7031 2692.2385,-1554.1775 2698.4228,-1550.8979\"/>\n</g>\n<!-- 140196087642768 -->\n<g id=\"node182\" class=\"node\">\n<title>140196087642768</title>\n<polygon fill=\"#d3d3d3\" stroke=\"#000000\" points=\"2855,-1543.5 2754,-1543.5 2754,-1524.5 2855,-1524.5 2855,-1543.5\"/>\n<text text-anchor=\"middle\" x=\"2804.5\" y=\"-1531.5\" font-family=\"monospace\" font-size=\"10.00\" fill=\"#000000\">AccumulateGrad</text>\n</g>\n<!-- 140196087642768&#45;&gt;140196087643280 -->\n<g id=\"edge185\" class=\"edge\">\n<title>140196087642768&#45;&gt;140196087643280</title>\n<path fill=\"none\" stroke=\"#000000\" d=\"M2791.6466,-1524.2796C2779.167,-1514.8419 2760.0125,-1500.3563 2745.3506,-1489.2683\"/>\n<polygon fill=\"#000000\" stroke=\"#000000\" points=\"2747.4087,-1486.4365 2737.3215,-1483.1962 2743.1864,-1492.0198 2747.4087,-1486.4365\"/>\n</g>\n<!-- 140196087775312 -->\n<g id=\"node183\" class=\"node\">\n<title>140196087775312</title>\n<polygon fill=\"#add8e6\" stroke=\"#000000\" points=\"3031,-1615 2840,-1615 2840,-1585 3031,-1585 3031,-1615\"/>\n<text text-anchor=\"middle\" x=\"2935.5\" y=\"-1603\" font-family=\"monospace\" font-size=\"10.00\" fill=\"#000000\">3.1.Convolutional_layer1.bias</text>\n<text text-anchor=\"middle\" x=\"2935.5\" y=\"-1592\" font-family=\"monospace\" font-size=\"10.00\" fill=\"#000000\"> (256)</text>\n</g>\n<!-- 140196087775312&#45;&gt;140196087642768 -->\n<g id=\"edge186\" class=\"edge\">\n<title>140196087775312&#45;&gt;140196087642768</title>\n<path fill=\"none\" stroke=\"#000000\" d=\"M2905.446,-1584.8583C2883.4684,-1573.7856 2853.8719,-1558.8744 2832.4122,-1548.0626\"/>\n<polygon fill=\"#000000\" stroke=\"#000000\" points=\"2833.9763,-1544.9316 2823.4709,-1543.5578 2830.8267,-1551.183 2833.9763,-1544.9316\"/>\n</g>\n<!-- 140196087643088 -->\n<g id=\"node184\" class=\"node\">\n<title>140196087643088</title>\n<polygon fill=\"#d3d3d3\" stroke=\"#000000\" points=\"2985,-1483 2884,-1483 2884,-1464 2985,-1464 2985,-1483\"/>\n<text text-anchor=\"middle\" x=\"2934.5\" y=\"-1471\" font-family=\"monospace\" font-size=\"10.00\" fill=\"#000000\">AccumulateGrad</text>\n</g>\n<!-- 140196087643088&#45;&gt;140196087642896 -->\n<g id=\"edge187\" class=\"edge\">\n<title>140196087643088&#45;&gt;140196087642896</title>\n<path fill=\"none\" stroke=\"#000000\" d=\"M2917.6299,-1463.7796C2900.7147,-1454.0332 2874.456,-1438.9032 2854.9974,-1427.6914\"/>\n<polygon fill=\"#000000\" stroke=\"#000000\" points=\"2856.7402,-1424.6561 2846.3282,-1422.6962 2853.2454,-1430.7214 2856.7402,-1424.6561\"/>\n</g>\n<!-- 140196087775792 -->\n<g id=\"node185\" class=\"node\">\n<title>140196087775792</title>\n<polygon fill=\"#add8e6\" stroke=\"#000000\" points=\"3076,-1549 2873,-1549 2873,-1519 3076,-1519 3076,-1549\"/>\n<text text-anchor=\"middle\" x=\"2974.5\" y=\"-1537\" font-family=\"monospace\" font-size=\"10.00\" fill=\"#000000\">3.1.Res_BatchNorm_layer1.weight</text>\n<text text-anchor=\"middle\" x=\"2974.5\" y=\"-1526\" font-family=\"monospace\" font-size=\"10.00\" fill=\"#000000\"> (256)</text>\n</g>\n<!-- 140196087775792&#45;&gt;140196087643088 -->\n<g id=\"edge188\" class=\"edge\">\n<title>140196087775792&#45;&gt;140196087643088</title>\n<path fill=\"none\" stroke=\"#000000\" d=\"M2964.4063,-1518.7333C2958.9675,-1510.5071 2952.2211,-1500.3031 2946.5132,-1491.6699\"/>\n<polygon fill=\"#000000\" stroke=\"#000000\" points=\"2949.2729,-1489.4978 2940.8381,-1483.0864 2943.4337,-1493.3584 2949.2729,-1489.4978\"/>\n</g>\n<!-- 140196087643152 -->\n<g id=\"node186\" class=\"node\">\n<title>140196087643152</title>\n<polygon fill=\"#d3d3d3\" stroke=\"#000000\" points=\"3191,-1483 3090,-1483 3090,-1464 3191,-1464 3191,-1483\"/>\n<text text-anchor=\"middle\" x=\"3140.5\" y=\"-1471\" font-family=\"monospace\" font-size=\"10.00\" fill=\"#000000\">AccumulateGrad</text>\n</g>\n<!-- 140196087643152&#45;&gt;140196087642896 -->\n<g id=\"edge189\" class=\"edge\">\n<title>140196087643152&#45;&gt;140196087642896</title>\n<path fill=\"none\" stroke=\"#000000\" d=\"M3091.5641,-1463.9803C3036.504,-1453.2693 2947.0987,-1435.8769 2888.2929,-1424.4372\"/>\n<polygon fill=\"#000000\" stroke=\"#000000\" points=\"2888.8911,-1420.988 2878.4068,-1422.514 2887.5544,-1427.8592 2888.8911,-1420.988\"/>\n</g>\n<!-- 140196087776112 -->\n<g id=\"node187\" class=\"node\">\n<title>140196087776112</title>\n<polygon fill=\"#add8e6\" stroke=\"#000000\" points=\"3285,-1549 3094,-1549 3094,-1519 3285,-1519 3285,-1549\"/>\n<text text-anchor=\"middle\" x=\"3189.5\" y=\"-1537\" font-family=\"monospace\" font-size=\"10.00\" fill=\"#000000\">3.1.Res_BatchNorm_layer1.bias</text>\n<text text-anchor=\"middle\" x=\"3189.5\" y=\"-1526\" font-family=\"monospace\" font-size=\"10.00\" fill=\"#000000\"> (256)</text>\n</g>\n<!-- 140196087776112&#45;&gt;140196087643152 -->\n<g id=\"edge190\" class=\"edge\">\n<title>140196087776112&#45;&gt;140196087643152</title>\n<path fill=\"none\" stroke=\"#000000\" d=\"M3177.1352,-1518.7333C3170.3309,-1510.3321 3161.8559,-1499.868 3154.7716,-1491.121\"/>\n<polygon fill=\"#000000\" stroke=\"#000000\" points=\"3157.2779,-1488.6545 3148.2642,-1483.0864 3151.8382,-1493.0602 3157.2779,-1488.6545\"/>\n</g>\n<!-- 140196087643664 -->\n<g id=\"node188\" class=\"node\">\n<title>140196087643664</title>\n<polygon fill=\"#d3d3d3\" stroke=\"#000000\" points=\"3056,-1356.5 2955,-1356.5 2955,-1337.5 3056,-1337.5 3056,-1356.5\"/>\n<text text-anchor=\"middle\" x=\"3005.5\" y=\"-1344.5\" font-family=\"monospace\" font-size=\"10.00\" fill=\"#000000\">AccumulateGrad</text>\n</g>\n<!-- 140196087643664&#45;&gt;140196087641808 -->\n<g id=\"edge191\" class=\"edge\">\n<title>140196087643664&#45;&gt;140196087641808</title>\n<path fill=\"none\" stroke=\"#000000\" d=\"M3011.766,-1337.2796C3017.3617,-1328.5992 3025.7101,-1315.6485 3032.5752,-1304.9987\"/>\n<polygon fill=\"#000000\" stroke=\"#000000\" points=\"3035.6436,-1306.6986 3038.12,-1296.3972 3029.7601,-1302.9059 3035.6436,-1306.6986\"/>\n</g>\n<!-- 140196087775472 -->\n<g id=\"node189\" class=\"node\">\n<title>140196087775472</title>\n<polygon fill=\"#add8e6\" stroke=\"#000000\" points=\"3128,-1428 2925,-1428 2925,-1398 3128,-1398 3128,-1428\"/>\n<text text-anchor=\"middle\" x=\"3026.5\" y=\"-1416\" font-family=\"monospace\" font-size=\"10.00\" fill=\"#000000\">3.1.Convolutional_layer2.weight</text>\n<text text-anchor=\"middle\" x=\"3026.5\" y=\"-1405\" font-family=\"monospace\" font-size=\"10.00\" fill=\"#000000\"> (256, 256, 3, 3)</text>\n</g>\n<!-- 140196087775472&#45;&gt;140196087643664 -->\n<g id=\"edge192\" class=\"edge\">\n<title>140196087775472&#45;&gt;140196087643664</title>\n<path fill=\"none\" stroke=\"#000000\" d=\"M3021.6294,-1397.6924C3018.6753,-1388.408 3014.8771,-1376.4708 3011.7086,-1366.5127\"/>\n<polygon fill=\"#000000\" stroke=\"#000000\" points=\"3014.9547,-1365.1711 3008.5873,-1356.7031 3008.2842,-1367.2936 3014.9547,-1365.1711\"/>\n</g>\n<!-- 140196087643600 -->\n<g id=\"node190\" class=\"node\">\n<title>140196087643600</title>\n<polygon fill=\"#d3d3d3\" stroke=\"#000000\" points=\"3175,-1356.5 3074,-1356.5 3074,-1337.5 3175,-1337.5 3175,-1356.5\"/>\n<text text-anchor=\"middle\" x=\"3124.5\" y=\"-1344.5\" font-family=\"monospace\" font-size=\"10.00\" fill=\"#000000\">AccumulateGrad</text>\n</g>\n<!-- 140196087643600&#45;&gt;140196087641808 -->\n<g id=\"edge193\" class=\"edge\">\n<title>140196087643600&#45;&gt;140196087641808</title>\n<path fill=\"none\" stroke=\"#000000\" d=\"M3111.6466,-1337.2796C3099.167,-1327.8419 3080.0125,-1313.3563 3065.3506,-1302.2683\"/>\n<polygon fill=\"#000000\" stroke=\"#000000\" points=\"3067.4087,-1299.4365 3057.3215,-1296.1962 3063.1864,-1305.0198 3067.4087,-1299.4365\"/>\n</g>\n<!-- 140196087775632 -->\n<g id=\"node191\" class=\"node\">\n<title>140196087775632</title>\n<polygon fill=\"#add8e6\" stroke=\"#000000\" points=\"3337,-1428 3146,-1428 3146,-1398 3337,-1398 3337,-1428\"/>\n<text text-anchor=\"middle\" x=\"3241.5\" y=\"-1416\" font-family=\"monospace\" font-size=\"10.00\" fill=\"#000000\">3.1.Convolutional_layer2.bias</text>\n<text text-anchor=\"middle\" x=\"3241.5\" y=\"-1405\" font-family=\"monospace\" font-size=\"10.00\" fill=\"#000000\"> (256)</text>\n</g>\n<!-- 140196087775632&#45;&gt;140196087643600 -->\n<g id=\"edge194\" class=\"edge\">\n<title>140196087775632&#45;&gt;140196087643600</title>\n<path fill=\"none\" stroke=\"#000000\" d=\"M3214.6578,-1397.8583C3195.2931,-1386.9346 3169.3055,-1372.2749 3150.2067,-1361.5012\"/>\n<polygon fill=\"#000000\" stroke=\"#000000\" points=\"3151.8729,-1358.4227 3141.4435,-1356.5578 3148.4336,-1364.5195 3151.8729,-1358.4227\"/>\n</g>\n<!-- 140196087643792 -->\n<g id=\"node192\" class=\"node\">\n<title>140196087643792</title>\n<polygon fill=\"#d3d3d3\" stroke=\"#000000\" points=\"3305,-1296 3204,-1296 3204,-1277 3305,-1277 3305,-1296\"/>\n<text text-anchor=\"middle\" x=\"3254.5\" y=\"-1284\" font-family=\"monospace\" font-size=\"10.00\" fill=\"#000000\">AccumulateGrad</text>\n</g>\n<!-- 140196087643792&#45;&gt;140196087642640 -->\n<g id=\"edge195\" class=\"edge\">\n<title>140196087643792&#45;&gt;140196087642640</title>\n<path fill=\"none\" stroke=\"#000000\" d=\"M3229.2429,-1276.9197C3205.7879,-1268.023 3170.6483,-1254.6942 3144.4947,-1244.7739\"/>\n<polygon fill=\"#000000\" stroke=\"#000000\" points=\"3145.5454,-1241.4291 3134.9542,-1241.155 3143.0628,-1247.9741 3145.5454,-1241.4291\"/>\n</g>\n<!-- 140196087776432 -->\n<g id=\"node193\" class=\"node\">\n<title>140196087776432</title>\n<polygon fill=\"#add8e6\" stroke=\"#000000\" points=\"3396,-1362 3193,-1362 3193,-1332 3396,-1332 3396,-1362\"/>\n<text text-anchor=\"middle\" x=\"3294.5\" y=\"-1350\" font-family=\"monospace\" font-size=\"10.00\" fill=\"#000000\">3.1.Res_BatchNorm_layer2.weight</text>\n<text text-anchor=\"middle\" x=\"3294.5\" y=\"-1339\" font-family=\"monospace\" font-size=\"10.00\" fill=\"#000000\"> (256)</text>\n</g>\n<!-- 140196087776432&#45;&gt;140196087643792 -->\n<g id=\"edge196\" class=\"edge\">\n<title>140196087776432&#45;&gt;140196087643792</title>\n<path fill=\"none\" stroke=\"#000000\" d=\"M3284.4063,-1331.7333C3278.9675,-1323.5071 3272.2211,-1313.3031 3266.5132,-1304.6699\"/>\n<polygon fill=\"#000000\" stroke=\"#000000\" points=\"3269.2729,-1302.4978 3260.8381,-1296.0864 3263.4337,-1306.3584 3269.2729,-1302.4978\"/>\n</g>\n<!-- 140196087643728 -->\n<g id=\"node194\" class=\"node\">\n<title>140196087643728</title>\n<polygon fill=\"#d3d3d3\" stroke=\"#000000\" points=\"3511,-1296 3410,-1296 3410,-1277 3511,-1277 3511,-1296\"/>\n<text text-anchor=\"middle\" x=\"3460.5\" y=\"-1284\" font-family=\"monospace\" font-size=\"10.00\" fill=\"#000000\">AccumulateGrad</text>\n</g>\n<!-- 140196087643728&#45;&gt;140196087642640 -->\n<g id=\"edge197\" class=\"edge\">\n<title>140196087643728&#45;&gt;140196087642640</title>\n<path fill=\"none\" stroke=\"#000000\" d=\"M3409.8364,-1278.5613C3349.5231,-1269.1105 3248.4252,-1253.2689 3180.3769,-1242.6061\"/>\n<polygon fill=\"#000000\" stroke=\"#000000\" points=\"3180.5898,-1239.0968 3170.1685,-1241.0065 3179.5061,-1246.0124 3180.5898,-1239.0968\"/>\n</g>\n<!-- 140196087776512 -->\n<g id=\"node195\" class=\"node\">\n<title>140196087776512</title>\n<polygon fill=\"#add8e6\" stroke=\"#000000\" points=\"3605,-1362 3414,-1362 3414,-1332 3605,-1332 3605,-1362\"/>\n<text text-anchor=\"middle\" x=\"3509.5\" y=\"-1350\" font-family=\"monospace\" font-size=\"10.00\" fill=\"#000000\">3.1.Res_BatchNorm_layer2.bias</text>\n<text text-anchor=\"middle\" x=\"3509.5\" y=\"-1339\" font-family=\"monospace\" font-size=\"10.00\" fill=\"#000000\"> (256)</text>\n</g>\n<!-- 140196087776512&#45;&gt;140196087643728 -->\n<g id=\"edge198\" class=\"edge\">\n<title>140196087776512&#45;&gt;140196087643728</title>\n<path fill=\"none\" stroke=\"#000000\" d=\"M3497.1352,-1331.7333C3490.3309,-1323.3321 3481.8559,-1312.868 3474.7716,-1304.121\"/>\n<polygon fill=\"#000000\" stroke=\"#000000\" points=\"3477.2779,-1301.6545 3468.2642,-1296.0864 3471.8382,-1306.0602 3477.2779,-1301.6545\"/>\n</g>\n<!-- 140196087643408&#45;&gt;140196087641552 -->\n<g id=\"edge199\" class=\"edge\">\n<title>140196087643408&#45;&gt;140196087641552</title>\n<path fill=\"none\" stroke=\"#000000\" d=\"M2559.4662,-1463.9536C2617.5361,-1449.6249 2705.5,-1416.4567 2705.5,-1347 2705.5,-1347 2705.5,-1347 2705.5,-1286.5 2705.5,-1245.0946 2825.419,-1203.5252 2892.8249,-1183.4297\"/>\n<polygon fill=\"#000000\" stroke=\"#000000\" points=\"2894.16,-1186.6854 2902.7673,-1180.5076 2892.1861,-1179.9695 2894.16,-1186.6854\"/>\n</g>\n<!-- 140196087641872 -->\n<g id=\"node197\" class=\"node\">\n<title>140196087641872</title>\n<polygon fill=\"#d3d3d3\" stroke=\"#000000\" points=\"2282,-1543.5 2181,-1543.5 2181,-1524.5 2282,-1524.5 2282,-1543.5\"/>\n<text text-anchor=\"middle\" x=\"2231.5\" y=\"-1531.5\" font-family=\"monospace\" font-size=\"10.00\" fill=\"#000000\">AccumulateGrad</text>\n</g>\n<!-- 140196087641872&#45;&gt;140196087643408 -->\n<g id=\"edge201\" class=\"edge\">\n<title>140196087641872&#45;&gt;140196087643408</title>\n<path fill=\"none\" stroke=\"#000000\" d=\"M2275.2433,-1524.4803C2324.0841,-1513.8513 2403.1574,-1496.6429 2455.7332,-1485.2011\"/>\n<polygon fill=\"#000000\" stroke=\"#000000\" points=\"2456.5262,-1488.6105 2465.5532,-1483.064 2455.0376,-1481.7706 2456.5262,-1488.6105\"/>\n</g>\n<!-- 140196087775552 -->\n<g id=\"node198\" class=\"node\">\n<title>140196087775552</title>\n<polygon fill=\"#add8e6\" stroke=\"#000000\" points=\"2285,-1615 2082,-1615 2082,-1585 2285,-1585 2285,-1615\"/>\n<text text-anchor=\"middle\" x=\"2183.5\" y=\"-1603\" font-family=\"monospace\" font-size=\"10.00\" fill=\"#000000\">3.1.Convolutional_layer3.weight</text>\n<text text-anchor=\"middle\" x=\"2183.5\" y=\"-1592\" font-family=\"monospace\" font-size=\"10.00\" fill=\"#000000\"> (256, 256, 1, 1)</text>\n</g>\n<!-- 140196087775552&#45;&gt;140196087641872 -->\n<g id=\"edge202\" class=\"edge\">\n<title>140196087775552&#45;&gt;140196087641872</title>\n<path fill=\"none\" stroke=\"#000000\" d=\"M2194.6328,-1584.6924C2201.7443,-1574.9141 2210.9957,-1562.1934 2218.4519,-1551.9411\"/>\n<polygon fill=\"#000000\" stroke=\"#000000\" points=\"2221.3921,-1553.8491 2224.4432,-1543.7031 2215.7309,-1549.7318 2221.3921,-1553.8491\"/>\n</g>\n<!-- 140196087642704 -->\n<g id=\"node199\" class=\"node\">\n<title>140196087642704</title>\n<polygon fill=\"#d3d3d3\" stroke=\"#000000\" points=\"2470,-1543.5 2369,-1543.5 2369,-1524.5 2470,-1524.5 2470,-1543.5\"/>\n<text text-anchor=\"middle\" x=\"2419.5\" y=\"-1531.5\" font-family=\"monospace\" font-size=\"10.00\" fill=\"#000000\">AccumulateGrad</text>\n</g>\n<!-- 140196087642704&#45;&gt;140196087643408 -->\n<g id=\"edge203\" class=\"edge\">\n<title>140196087642704&#45;&gt;140196087643408</title>\n<path fill=\"none\" stroke=\"#000000\" d=\"M2433.9601,-1524.2796C2448.1308,-1514.7537 2469.9519,-1500.0851 2486.5042,-1488.9583\"/>\n<polygon fill=\"#000000\" stroke=\"#000000\" points=\"2488.7293,-1491.6799 2495.0758,-1483.1962 2484.824,-1485.8705 2488.7293,-1491.6799\"/>\n</g>\n<!-- 140196087775872 -->\n<g id=\"node200\" class=\"node\">\n<title>140196087775872</title>\n<polygon fill=\"#add8e6\" stroke=\"#000000\" points=\"2494,-1615 2303,-1615 2303,-1585 2494,-1585 2494,-1615\"/>\n<text text-anchor=\"middle\" x=\"2398.5\" y=\"-1603\" font-family=\"monospace\" font-size=\"10.00\" fill=\"#000000\">3.1.Convolutional_layer3.bias</text>\n<text text-anchor=\"middle\" x=\"2398.5\" y=\"-1592\" font-family=\"monospace\" font-size=\"10.00\" fill=\"#000000\"> (256)</text>\n</g>\n<!-- 140196087775872&#45;&gt;140196087642704 -->\n<g id=\"edge204\" class=\"edge\">\n<title>140196087775872&#45;&gt;140196087642704</title>\n<path fill=\"none\" stroke=\"#000000\" d=\"M2403.3706,-1584.6924C2406.3247,-1575.408 2410.1229,-1563.4708 2413.2914,-1553.5127\"/>\n<polygon fill=\"#000000\" stroke=\"#000000\" points=\"2416.7158,-1554.2936 2416.4127,-1543.7031 2410.0453,-1552.1711 2416.7158,-1554.2936\"/>\n</g>\n<!-- 140196087641680 -->\n<g id=\"node201\" class=\"node\">\n<title>140196087641680</title>\n<polygon fill=\"#d3d3d3\" stroke=\"#000000\" points=\"3117,-1114.5 3016,-1114.5 3016,-1095.5 3117,-1095.5 3117,-1114.5\"/>\n<text text-anchor=\"middle\" x=\"3066.5\" y=\"-1102.5\" font-family=\"monospace\" font-size=\"10.00\" fill=\"#000000\">AccumulateGrad</text>\n</g>\n<!-- 140196087641680&#45;&gt;140196087642256 -->\n<g id=\"edge205\" class=\"edge\">\n<title>140196087641680&#45;&gt;140196087642256</title>\n<path fill=\"none\" stroke=\"#000000\" d=\"M3072.766,-1095.2796C3078.3617,-1086.5992 3086.7101,-1073.6485 3093.5752,-1062.9987\"/>\n<polygon fill=\"#000000\" stroke=\"#000000\" points=\"3096.6436,-1064.6986 3099.12,-1054.3972 3090.7601,-1060.9059 3096.6436,-1064.6986\"/>\n</g>\n<!-- 140196087777472 -->\n<g id=\"node202\" class=\"node\">\n<title>140196087777472</title>\n<polygon fill=\"#add8e6\" stroke=\"#000000\" points=\"3203,-1186 3000,-1186 3000,-1156 3203,-1156 3203,-1186\"/>\n<text text-anchor=\"middle\" x=\"3101.5\" y=\"-1174\" font-family=\"monospace\" font-size=\"10.00\" fill=\"#000000\">4.0.Convolutional_layer1.weight</text>\n<text text-anchor=\"middle\" x=\"3101.5\" y=\"-1163\" font-family=\"monospace\" font-size=\"10.00\" fill=\"#000000\"> (512, 256, 3, 3)</text>\n</g>\n<!-- 140196087777472&#45;&gt;140196087641680 -->\n<g id=\"edge206\" class=\"edge\">\n<title>140196087777472&#45;&gt;140196087641680</title>\n<path fill=\"none\" stroke=\"#000000\" d=\"M3093.3823,-1155.6924C3088.3016,-1146.1116 3081.723,-1133.7061 3076.3453,-1123.5655\"/>\n<polygon fill=\"#000000\" stroke=\"#000000\" points=\"3079.4228,-1121.8979 3071.6456,-1114.7031 3073.2385,-1125.1775 3079.4228,-1121.8979\"/>\n</g>\n<!-- 140196087642576 -->\n<g id=\"node203\" class=\"node\">\n<title>140196087642576</title>\n<polygon fill=\"#d3d3d3\" stroke=\"#000000\" points=\"3236,-1114.5 3135,-1114.5 3135,-1095.5 3236,-1095.5 3236,-1114.5\"/>\n<text text-anchor=\"middle\" x=\"3185.5\" y=\"-1102.5\" font-family=\"monospace\" font-size=\"10.00\" fill=\"#000000\">AccumulateGrad</text>\n</g>\n<!-- 140196087642576&#45;&gt;140196087642256 -->\n<g id=\"edge207\" class=\"edge\">\n<title>140196087642576&#45;&gt;140196087642256</title>\n<path fill=\"none\" stroke=\"#000000\" d=\"M3172.6466,-1095.2796C3160.167,-1085.8419 3141.0125,-1071.3563 3126.3506,-1060.2683\"/>\n<polygon fill=\"#000000\" stroke=\"#000000\" points=\"3128.4087,-1057.4365 3118.3215,-1054.1962 3124.1864,-1063.0198 3128.4087,-1057.4365\"/>\n</g>\n<!-- 140196087777552 -->\n<g id=\"node204\" class=\"node\">\n<title>140196087777552</title>\n<polygon fill=\"#add8e6\" stroke=\"#000000\" points=\"3412,-1186 3221,-1186 3221,-1156 3412,-1156 3412,-1186\"/>\n<text text-anchor=\"middle\" x=\"3316.5\" y=\"-1174\" font-family=\"monospace\" font-size=\"10.00\" fill=\"#000000\">4.0.Convolutional_layer1.bias</text>\n<text text-anchor=\"middle\" x=\"3316.5\" y=\"-1163\" font-family=\"monospace\" font-size=\"10.00\" fill=\"#000000\"> (512)</text>\n</g>\n<!-- 140196087777552&#45;&gt;140196087642576 -->\n<g id=\"edge208\" class=\"edge\">\n<title>140196087777552&#45;&gt;140196087642576</title>\n<path fill=\"none\" stroke=\"#000000\" d=\"M3286.446,-1155.8583C3264.4684,-1144.7856 3234.8719,-1129.8744 3213.4122,-1119.0626\"/>\n<polygon fill=\"#000000\" stroke=\"#000000\" points=\"3214.9763,-1115.9316 3204.4709,-1114.5578 3211.8267,-1122.183 3214.9763,-1115.9316\"/>\n</g>\n<!-- 140196087642384 -->\n<g id=\"node205\" class=\"node\">\n<title>140196087642384</title>\n<polygon fill=\"#d3d3d3\" stroke=\"#000000\" points=\"3366,-1054 3265,-1054 3265,-1035 3366,-1035 3366,-1054\"/>\n<text text-anchor=\"middle\" x=\"3315.5\" y=\"-1042\" font-family=\"monospace\" font-size=\"10.00\" fill=\"#000000\">AccumulateGrad</text>\n</g>\n<!-- 140196087642384&#45;&gt;140196087642128 -->\n<g id=\"edge209\" class=\"edge\">\n<title>140196087642384&#45;&gt;140196087642128</title>\n<path fill=\"none\" stroke=\"#000000\" d=\"M3298.6299,-1034.7796C3281.7147,-1025.0332 3255.456,-1009.9032 3235.9974,-998.6914\"/>\n<polygon fill=\"#000000\" stroke=\"#000000\" points=\"3237.7402,-995.6561 3227.3282,-993.6962 3234.2454,-1001.7214 3237.7402,-995.6561\"/>\n</g>\n<!-- 140196087776912 -->\n<g id=\"node206\" class=\"node\">\n<title>140196087776912</title>\n<polygon fill=\"#add8e6\" stroke=\"#000000\" points=\"3457,-1120 3254,-1120 3254,-1090 3457,-1090 3457,-1120\"/>\n<text text-anchor=\"middle\" x=\"3355.5\" y=\"-1108\" font-family=\"monospace\" font-size=\"10.00\" fill=\"#000000\">4.0.Res_BatchNorm_layer1.weight</text>\n<text text-anchor=\"middle\" x=\"3355.5\" y=\"-1097\" font-family=\"monospace\" font-size=\"10.00\" fill=\"#000000\"> (512)</text>\n</g>\n<!-- 140196087776912&#45;&gt;140196087642384 -->\n<g id=\"edge210\" class=\"edge\">\n<title>140196087776912&#45;&gt;140196087642384</title>\n<path fill=\"none\" stroke=\"#000000\" d=\"M3345.4063,-1089.7333C3339.9675,-1081.5071 3333.2211,-1071.3031 3327.5132,-1062.6699\"/>\n<polygon fill=\"#000000\" stroke=\"#000000\" points=\"3330.2729,-1060.4978 3321.8381,-1054.0864 3324.4337,-1064.3584 3330.2729,-1060.4978\"/>\n</g>\n<!-- 140196087641744 -->\n<g id=\"node207\" class=\"node\">\n<title>140196087641744</title>\n<polygon fill=\"#d3d3d3\" stroke=\"#000000\" points=\"3572,-1054 3471,-1054 3471,-1035 3572,-1035 3572,-1054\"/>\n<text text-anchor=\"middle\" x=\"3521.5\" y=\"-1042\" font-family=\"monospace\" font-size=\"10.00\" fill=\"#000000\">AccumulateGrad</text>\n</g>\n<!-- 140196087641744&#45;&gt;140196087642128 -->\n<g id=\"edge211\" class=\"edge\">\n<title>140196087641744&#45;&gt;140196087642128</title>\n<path fill=\"none\" stroke=\"#000000\" d=\"M3472.5641,-1034.9803C3417.504,-1024.2693 3328.0987,-1006.8769 3269.2929,-995.4372\"/>\n<polygon fill=\"#000000\" stroke=\"#000000\" points=\"3269.8911,-991.988 3259.4068,-993.514 3268.5544,-998.8592 3269.8911,-991.988\"/>\n</g>\n<!-- 140196087778112 -->\n<g id=\"node208\" class=\"node\">\n<title>140196087778112</title>\n<polygon fill=\"#add8e6\" stroke=\"#000000\" points=\"3666,-1120 3475,-1120 3475,-1090 3666,-1090 3666,-1120\"/>\n<text text-anchor=\"middle\" x=\"3570.5\" y=\"-1108\" font-family=\"monospace\" font-size=\"10.00\" fill=\"#000000\">4.0.Res_BatchNorm_layer1.bias</text>\n<text text-anchor=\"middle\" x=\"3570.5\" y=\"-1097\" font-family=\"monospace\" font-size=\"10.00\" fill=\"#000000\"> (512)</text>\n</g>\n<!-- 140196087778112&#45;&gt;140196087641744 -->\n<g id=\"edge212\" class=\"edge\">\n<title>140196087778112&#45;&gt;140196087641744</title>\n<path fill=\"none\" stroke=\"#000000\" d=\"M3558.1352,-1089.7333C3551.3309,-1081.3321 3542.8559,-1070.868 3535.7716,-1062.121\"/>\n<polygon fill=\"#000000\" stroke=\"#000000\" points=\"3538.2779,-1059.6545 3529.2642,-1054.0864 3532.8382,-1064.0602 3538.2779,-1059.6545\"/>\n</g>\n<!-- 140196087642000 -->\n<g id=\"node209\" class=\"node\">\n<title>140196087642000</title>\n<polygon fill=\"#d3d3d3\" stroke=\"#000000\" points=\"3437,-927.5 3336,-927.5 3336,-908.5 3437,-908.5 3437,-927.5\"/>\n<text text-anchor=\"middle\" x=\"3386.5\" y=\"-915.5\" font-family=\"monospace\" font-size=\"10.00\" fill=\"#000000\">AccumulateGrad</text>\n</g>\n<!-- 140196087642000&#45;&gt;140196087640208 -->\n<g id=\"edge213\" class=\"edge\">\n<title>140196087642000&#45;&gt;140196087640208</title>\n<path fill=\"none\" stroke=\"#000000\" d=\"M3392.766,-908.2796C3398.3617,-899.5992 3406.7101,-886.6485 3413.5752,-875.9987\"/>\n<polygon fill=\"#000000\" stroke=\"#000000\" points=\"3416.6436,-877.6986 3419.12,-867.3972 3410.7601,-873.9059 3416.6436,-877.6986\"/>\n</g>\n<!-- 140196087777632 -->\n<g id=\"node210\" class=\"node\">\n<title>140196087777632</title>\n<polygon fill=\"#add8e6\" stroke=\"#000000\" points=\"3509,-999 3306,-999 3306,-969 3509,-969 3509,-999\"/>\n<text text-anchor=\"middle\" x=\"3407.5\" y=\"-987\" font-family=\"monospace\" font-size=\"10.00\" fill=\"#000000\">4.0.Convolutional_layer2.weight</text>\n<text text-anchor=\"middle\" x=\"3407.5\" y=\"-976\" font-family=\"monospace\" font-size=\"10.00\" fill=\"#000000\"> (512, 512, 3, 3)</text>\n</g>\n<!-- 140196087777632&#45;&gt;140196087642000 -->\n<g id=\"edge214\" class=\"edge\">\n<title>140196087777632&#45;&gt;140196087642000</title>\n<path fill=\"none\" stroke=\"#000000\" d=\"M3402.6294,-968.6924C3399.6753,-959.408 3395.8771,-947.4708 3392.7086,-937.5127\"/>\n<polygon fill=\"#000000\" stroke=\"#000000\" points=\"3395.9547,-936.1711 3389.5873,-927.7031 3389.2842,-938.2936 3395.9547,-936.1711\"/>\n</g>\n<!-- 140196087641936 -->\n<g id=\"node211\" class=\"node\">\n<title>140196087641936</title>\n<polygon fill=\"#d3d3d3\" stroke=\"#000000\" points=\"3556,-927.5 3455,-927.5 3455,-908.5 3556,-908.5 3556,-927.5\"/>\n<text text-anchor=\"middle\" x=\"3505.5\" y=\"-915.5\" font-family=\"monospace\" font-size=\"10.00\" fill=\"#000000\">AccumulateGrad</text>\n</g>\n<!-- 140196087641936&#45;&gt;140196087640208 -->\n<g id=\"edge215\" class=\"edge\">\n<title>140196087641936&#45;&gt;140196087640208</title>\n<path fill=\"none\" stroke=\"#000000\" d=\"M3492.6466,-908.2796C3480.167,-898.8419 3461.0125,-884.3563 3446.3506,-873.2683\"/>\n<polygon fill=\"#000000\" stroke=\"#000000\" points=\"3448.4087,-870.4365 3438.3215,-867.1962 3444.1864,-876.0198 3448.4087,-870.4365\"/>\n</g>\n<!-- 140196087777712 -->\n<g id=\"node212\" class=\"node\">\n<title>140196087777712</title>\n<polygon fill=\"#add8e6\" stroke=\"#000000\" points=\"3718,-999 3527,-999 3527,-969 3718,-969 3718,-999\"/>\n<text text-anchor=\"middle\" x=\"3622.5\" y=\"-987\" font-family=\"monospace\" font-size=\"10.00\" fill=\"#000000\">4.0.Convolutional_layer2.bias</text>\n<text text-anchor=\"middle\" x=\"3622.5\" y=\"-976\" font-family=\"monospace\" font-size=\"10.00\" fill=\"#000000\"> (512)</text>\n</g>\n<!-- 140196087777712&#45;&gt;140196087641936 -->\n<g id=\"edge216\" class=\"edge\">\n<title>140196087777712&#45;&gt;140196087641936</title>\n<path fill=\"none\" stroke=\"#000000\" d=\"M3595.6578,-968.8583C3576.2931,-957.9346 3550.3055,-943.2749 3531.2067,-932.5012\"/>\n<polygon fill=\"#000000\" stroke=\"#000000\" points=\"3532.8729,-929.4227 3522.4435,-927.5578 3529.4336,-935.5195 3532.8729,-929.4227\"/>\n</g>\n<!-- 140196087641168 -->\n<g id=\"node213\" class=\"node\">\n<title>140196087641168</title>\n<polygon fill=\"#d3d3d3\" stroke=\"#000000\" points=\"3686,-867 3585,-867 3585,-848 3686,-848 3686,-867\"/>\n<text text-anchor=\"middle\" x=\"3635.5\" y=\"-855\" font-family=\"monospace\" font-size=\"10.00\" fill=\"#000000\">AccumulateGrad</text>\n</g>\n<!-- 140196087641168&#45;&gt;140196087641040 -->\n<g id=\"edge217\" class=\"edge\">\n<title>140196087641168&#45;&gt;140196087641040</title>\n<path fill=\"none\" stroke=\"#000000\" d=\"M3610.2429,-847.9197C3586.7879,-839.023 3551.6483,-825.6942 3525.4947,-815.7739\"/>\n<polygon fill=\"#000000\" stroke=\"#000000\" points=\"3526.5454,-812.4291 3515.9542,-812.155 3524.0628,-818.9741 3526.5454,-812.4291\"/>\n</g>\n<!-- 140196087778432 -->\n<g id=\"node214\" class=\"node\">\n<title>140196087778432</title>\n<polygon fill=\"#add8e6\" stroke=\"#000000\" points=\"3777,-933 3574,-933 3574,-903 3777,-903 3777,-933\"/>\n<text text-anchor=\"middle\" x=\"3675.5\" y=\"-921\" font-family=\"monospace\" font-size=\"10.00\" fill=\"#000000\">4.0.Res_BatchNorm_layer2.weight</text>\n<text text-anchor=\"middle\" x=\"3675.5\" y=\"-910\" font-family=\"monospace\" font-size=\"10.00\" fill=\"#000000\"> (512)</text>\n</g>\n<!-- 140196087778432&#45;&gt;140196087641168 -->\n<g id=\"edge218\" class=\"edge\">\n<title>140196087778432&#45;&gt;140196087641168</title>\n<path fill=\"none\" stroke=\"#000000\" d=\"M3665.4063,-902.7333C3659.9675,-894.5071 3653.2211,-884.3031 3647.5132,-875.6699\"/>\n<polygon fill=\"#000000\" stroke=\"#000000\" points=\"3650.2729,-873.4978 3641.8381,-867.0864 3644.4337,-877.3584 3650.2729,-873.4978\"/>\n</g>\n<!-- 140196087641104 -->\n<g id=\"node215\" class=\"node\">\n<title>140196087641104</title>\n<polygon fill=\"#d3d3d3\" stroke=\"#000000\" points=\"3892,-867 3791,-867 3791,-848 3892,-848 3892,-867\"/>\n<text text-anchor=\"middle\" x=\"3841.5\" y=\"-855\" font-family=\"monospace\" font-size=\"10.00\" fill=\"#000000\">AccumulateGrad</text>\n</g>\n<!-- 140196087641104&#45;&gt;140196087641040 -->\n<g id=\"edge219\" class=\"edge\">\n<title>140196087641104&#45;&gt;140196087641040</title>\n<path fill=\"none\" stroke=\"#000000\" d=\"M3790.8364,-849.5613C3730.5231,-840.1105 3629.4252,-824.2689 3561.3769,-813.6061\"/>\n<polygon fill=\"#000000\" stroke=\"#000000\" points=\"3561.5898,-810.0968 3551.1685,-812.0065 3560.5061,-817.0124 3561.5898,-810.0968\"/>\n</g>\n<!-- 140196087778512 -->\n<g id=\"node216\" class=\"node\">\n<title>140196087778512</title>\n<polygon fill=\"#add8e6\" stroke=\"#000000\" points=\"3986,-933 3795,-933 3795,-903 3986,-903 3986,-933\"/>\n<text text-anchor=\"middle\" x=\"3890.5\" y=\"-921\" font-family=\"monospace\" font-size=\"10.00\" fill=\"#000000\">4.0.Res_BatchNorm_layer2.bias</text>\n<text text-anchor=\"middle\" x=\"3890.5\" y=\"-910\" font-family=\"monospace\" font-size=\"10.00\" fill=\"#000000\"> (512)</text>\n</g>\n<!-- 140196087778512&#45;&gt;140196087641104 -->\n<g id=\"edge220\" class=\"edge\">\n<title>140196087778512&#45;&gt;140196087641104</title>\n<path fill=\"none\" stroke=\"#000000\" d=\"M3878.1352,-902.7333C3871.3309,-894.3321 3862.8559,-883.868 3855.7716,-875.121\"/>\n<polygon fill=\"#000000\" stroke=\"#000000\" points=\"3858.2779,-872.6545 3849.2642,-867.0864 3852.8382,-877.0602 3858.2779,-872.6545\"/>\n</g>\n<!-- 140196087641424&#45;&gt;140196087640464 -->\n<g id=\"edge221\" class=\"edge\">\n<title>140196087641424&#45;&gt;140196087640464</title>\n<path fill=\"none\" stroke=\"#000000\" d=\"M2940.4662,-1034.9536C2998.5361,-1020.6249 3086.5,-987.4567 3086.5,-918 3086.5,-918 3086.5,-918 3086.5,-857.5 3086.5,-816.0946 3206.419,-774.5252 3273.8249,-754.4297\"/>\n<polygon fill=\"#000000\" stroke=\"#000000\" points=\"3275.16,-757.6854 3283.7673,-751.5076 3273.1861,-750.9695 3275.16,-757.6854\"/>\n</g>\n<!-- 140196087640912 -->\n<g id=\"node218\" class=\"node\">\n<title>140196087640912</title>\n<polygon fill=\"#d3d3d3\" stroke=\"#000000\" points=\"2684,-1114.5 2583,-1114.5 2583,-1095.5 2684,-1095.5 2684,-1114.5\"/>\n<text text-anchor=\"middle\" x=\"2633.5\" y=\"-1102.5\" font-family=\"monospace\" font-size=\"10.00\" fill=\"#000000\">AccumulateGrad</text>\n</g>\n<!-- 140196087640912&#45;&gt;140196087641424 -->\n<g id=\"edge223\" class=\"edge\">\n<title>140196087640912&#45;&gt;140196087641424</title>\n<path fill=\"none\" stroke=\"#000000\" d=\"M2673.939,-1095.4803C2718.8088,-1084.9176 2791.2797,-1067.8573 2839.8824,-1056.4158\"/>\n<polygon fill=\"#000000\" stroke=\"#000000\" points=\"2840.941,-1059.7624 2849.8729,-1054.064 2839.3369,-1052.9486 2840.941,-1059.7624\"/>\n</g>\n<!-- 140196087777792 -->\n<g id=\"node219\" class=\"node\">\n<title>140196087777792</title>\n<polygon fill=\"#add8e6\" stroke=\"#000000\" points=\"2666,-1186 2463,-1186 2463,-1156 2666,-1156 2666,-1186\"/>\n<text text-anchor=\"middle\" x=\"2564.5\" y=\"-1174\" font-family=\"monospace\" font-size=\"10.00\" fill=\"#000000\">4.0.Convolutional_layer3.weight</text>\n<text text-anchor=\"middle\" x=\"2564.5\" y=\"-1163\" font-family=\"monospace\" font-size=\"10.00\" fill=\"#000000\"> (512, 256, 1, 1)</text>\n</g>\n<!-- 140196087777792&#45;&gt;140196087640912 -->\n<g id=\"edge224\" class=\"edge\">\n<title>140196087777792&#45;&gt;140196087640912</title>\n<path fill=\"none\" stroke=\"#000000\" d=\"M2580.5034,-1155.6924C2591.1392,-1145.519 2605.1048,-1132.1606 2616.0295,-1121.7109\"/>\n<polygon fill=\"#000000\" stroke=\"#000000\" points=\"2618.5487,-1124.1446 2623.3559,-1114.7031 2613.7102,-1119.0861 2618.5487,-1124.1446\"/>\n</g>\n<!-- 140196087642512 -->\n<g id=\"node220\" class=\"node\">\n<title>140196087642512</title>\n<polygon fill=\"#d3d3d3\" stroke=\"#000000\" points=\"2851,-1114.5 2750,-1114.5 2750,-1095.5 2851,-1095.5 2851,-1114.5\"/>\n<text text-anchor=\"middle\" x=\"2800.5\" y=\"-1102.5\" font-family=\"monospace\" font-size=\"10.00\" fill=\"#000000\">AccumulateGrad</text>\n</g>\n<!-- 140196087642512&#45;&gt;140196087641424 -->\n<g id=\"edge225\" class=\"edge\">\n<title>140196087642512&#45;&gt;140196087641424</title>\n<path fill=\"none\" stroke=\"#000000\" d=\"M2814.9601,-1095.2796C2829.1308,-1085.7537 2850.9519,-1071.0851 2867.5042,-1059.9583\"/>\n<polygon fill=\"#000000\" stroke=\"#000000\" points=\"2869.7293,-1062.6799 2876.0758,-1054.1962 2865.824,-1056.8705 2869.7293,-1062.6799\"/>\n</g>\n<!-- 140196087777872 -->\n<g id=\"node221\" class=\"node\">\n<title>140196087777872</title>\n<polygon fill=\"#add8e6\" stroke=\"#000000\" points=\"2875,-1186 2684,-1186 2684,-1156 2875,-1156 2875,-1186\"/>\n<text text-anchor=\"middle\" x=\"2779.5\" y=\"-1174\" font-family=\"monospace\" font-size=\"10.00\" fill=\"#000000\">4.0.Convolutional_layer3.bias</text>\n<text text-anchor=\"middle\" x=\"2779.5\" y=\"-1163\" font-family=\"monospace\" font-size=\"10.00\" fill=\"#000000\"> (512)</text>\n</g>\n<!-- 140196087777872&#45;&gt;140196087642512 -->\n<g id=\"edge226\" class=\"edge\">\n<title>140196087777872&#45;&gt;140196087642512</title>\n<path fill=\"none\" stroke=\"#000000\" d=\"M2784.3706,-1155.6924C2787.3247,-1146.408 2791.1229,-1134.4708 2794.2914,-1124.5127\"/>\n<polygon fill=\"#000000\" stroke=\"#000000\" points=\"2797.7158,-1125.2936 2797.4127,-1114.7031 2791.0453,-1123.1711 2797.7158,-1125.2936\"/>\n</g>\n<!-- 140196087640400 -->\n<g id=\"node222\" class=\"node\">\n<title>140196087640400</title>\n<polygon fill=\"#d3d3d3\" stroke=\"#000000\" points=\"3498,-685.5 3397,-685.5 3397,-666.5 3498,-666.5 3498,-685.5\"/>\n<text text-anchor=\"middle\" x=\"3447.5\" y=\"-673.5\" font-family=\"monospace\" font-size=\"10.00\" fill=\"#000000\">AccumulateGrad</text>\n</g>\n<!-- 140196087640400&#45;&gt;140196087640592 -->\n<g id=\"edge227\" class=\"edge\">\n<title>140196087640400&#45;&gt;140196087640592</title>\n<path fill=\"none\" stroke=\"#000000\" d=\"M3453.766,-666.2796C3459.3617,-657.5992 3467.7101,-644.6485 3474.5752,-633.9987\"/>\n<polygon fill=\"#000000\" stroke=\"#000000\" points=\"3477.6436,-635.6986 3480.12,-625.3972 3471.7601,-631.9059 3477.6436,-635.6986\"/>\n</g>\n<!-- 140196087778992 -->\n<g id=\"node223\" class=\"node\">\n<title>140196087778992</title>\n<polygon fill=\"#add8e6\" stroke=\"#000000\" points=\"3584,-757 3381,-757 3381,-727 3584,-727 3584,-757\"/>\n<text text-anchor=\"middle\" x=\"3482.5\" y=\"-745\" font-family=\"monospace\" font-size=\"10.00\" fill=\"#000000\">4.1.Convolutional_layer1.weight</text>\n<text text-anchor=\"middle\" x=\"3482.5\" y=\"-734\" font-family=\"monospace\" font-size=\"10.00\" fill=\"#000000\"> (512, 512, 3, 3)</text>\n</g>\n<!-- 140196087778992&#45;&gt;140196087640400 -->\n<g id=\"edge228\" class=\"edge\">\n<title>140196087778992&#45;&gt;140196087640400</title>\n<path fill=\"none\" stroke=\"#000000\" d=\"M3474.3823,-726.6924C3469.3016,-717.1116 3462.723,-704.7061 3457.3453,-694.5655\"/>\n<polygon fill=\"#000000\" stroke=\"#000000\" points=\"3460.4228,-692.8979 3452.6456,-685.7031 3454.2385,-696.1775 3460.4228,-692.8979\"/>\n</g>\n<!-- 140196087640336 -->\n<g id=\"node224\" class=\"node\">\n<title>140196087640336</title>\n<polygon fill=\"#d3d3d3\" stroke=\"#000000\" points=\"3617,-685.5 3516,-685.5 3516,-666.5 3617,-666.5 3617,-685.5\"/>\n<text text-anchor=\"middle\" x=\"3566.5\" y=\"-673.5\" font-family=\"monospace\" font-size=\"10.00\" fill=\"#000000\">AccumulateGrad</text>\n</g>\n<!-- 140196087640336&#45;&gt;140196087640592 -->\n<g id=\"edge229\" class=\"edge\">\n<title>140196087640336&#45;&gt;140196087640592</title>\n<path fill=\"none\" stroke=\"#000000\" d=\"M3553.6466,-666.2796C3541.167,-656.8419 3522.0125,-642.3563 3507.3506,-631.2683\"/>\n<polygon fill=\"#000000\" stroke=\"#000000\" points=\"3509.4087,-628.4365 3499.3215,-625.1962 3505.1864,-634.0198 3509.4087,-628.4365\"/>\n</g>\n<!-- 140196087779072 -->\n<g id=\"node225\" class=\"node\">\n<title>140196087779072</title>\n<polygon fill=\"#add8e6\" stroke=\"#000000\" points=\"3793,-757 3602,-757 3602,-727 3793,-727 3793,-757\"/>\n<text text-anchor=\"middle\" x=\"3697.5\" y=\"-745\" font-family=\"monospace\" font-size=\"10.00\" fill=\"#000000\">4.1.Convolutional_layer1.bias</text>\n<text text-anchor=\"middle\" x=\"3697.5\" y=\"-734\" font-family=\"monospace\" font-size=\"10.00\" fill=\"#000000\"> (512)</text>\n</g>\n<!-- 140196087779072&#45;&gt;140196087640336 -->\n<g id=\"edge230\" class=\"edge\">\n<title>140196087779072&#45;&gt;140196087640336</title>\n<path fill=\"none\" stroke=\"#000000\" d=\"M3667.446,-726.8583C3645.4684,-715.7856 3615.8719,-700.8744 3594.4122,-690.0626\"/>\n<polygon fill=\"#000000\" stroke=\"#000000\" points=\"3595.9763,-686.9316 3585.4709,-685.5578 3592.8267,-693.183 3595.9763,-686.9316\"/>\n</g>\n<!-- 140196087640784 -->\n<g id=\"node226\" class=\"node\">\n<title>140196087640784</title>\n<polygon fill=\"#d3d3d3\" stroke=\"#000000\" points=\"3747,-625 3646,-625 3646,-606 3747,-606 3747,-625\"/>\n<text text-anchor=\"middle\" x=\"3696.5\" y=\"-613\" font-family=\"monospace\" font-size=\"10.00\" fill=\"#000000\">AccumulateGrad</text>\n</g>\n<!-- 140196087640784&#45;&gt;140196087640144 -->\n<g id=\"edge231\" class=\"edge\">\n<title>140196087640784&#45;&gt;140196087640144</title>\n<path fill=\"none\" stroke=\"#000000\" d=\"M3679.6299,-605.7796C3662.7147,-596.0332 3636.456,-580.9032 3616.9974,-569.6914\"/>\n<polygon fill=\"#000000\" stroke=\"#000000\" points=\"3618.7402,-566.6561 3608.3282,-564.6962 3615.2454,-572.7214 3618.7402,-566.6561\"/>\n</g>\n<!-- 140196087312704 -->\n<g id=\"node227\" class=\"node\">\n<title>140196087312704</title>\n<polygon fill=\"#add8e6\" stroke=\"#000000\" points=\"3838,-691 3635,-691 3635,-661 3838,-661 3838,-691\"/>\n<text text-anchor=\"middle\" x=\"3736.5\" y=\"-679\" font-family=\"monospace\" font-size=\"10.00\" fill=\"#000000\">4.1.Res_BatchNorm_layer1.weight</text>\n<text text-anchor=\"middle\" x=\"3736.5\" y=\"-668\" font-family=\"monospace\" font-size=\"10.00\" fill=\"#000000\"> (512)</text>\n</g>\n<!-- 140196087312704&#45;&gt;140196087640784 -->\n<g id=\"edge232\" class=\"edge\">\n<title>140196087312704&#45;&gt;140196087640784</title>\n<path fill=\"none\" stroke=\"#000000\" d=\"M3726.4063,-660.7333C3720.9675,-652.5071 3714.2211,-642.3031 3708.5132,-633.6699\"/>\n<polygon fill=\"#000000\" stroke=\"#000000\" points=\"3711.2729,-631.4978 3702.8381,-625.0864 3705.4337,-635.3584 3711.2729,-631.4978\"/>\n</g>\n<!-- 140196087640272 -->\n<g id=\"node228\" class=\"node\">\n<title>140196087640272</title>\n<polygon fill=\"#d3d3d3\" stroke=\"#000000\" points=\"3953,-625 3852,-625 3852,-606 3953,-606 3953,-625\"/>\n<text text-anchor=\"middle\" x=\"3902.5\" y=\"-613\" font-family=\"monospace\" font-size=\"10.00\" fill=\"#000000\">AccumulateGrad</text>\n</g>\n<!-- 140196087640272&#45;&gt;140196087640144 -->\n<g id=\"edge233\" class=\"edge\">\n<title>140196087640272&#45;&gt;140196087640144</title>\n<path fill=\"none\" stroke=\"#000000\" d=\"M3853.5641,-605.9803C3798.504,-595.2693 3709.0987,-577.8769 3650.2929,-566.4372\"/>\n<polygon fill=\"#000000\" stroke=\"#000000\" points=\"3650.8911,-562.988 3640.4068,-564.514 3649.5544,-569.8592 3650.8911,-562.988\"/>\n</g>\n<!-- 140196087313024 -->\n<g id=\"node229\" class=\"node\">\n<title>140196087313024</title>\n<polygon fill=\"#add8e6\" stroke=\"#000000\" points=\"4047,-691 3856,-691 3856,-661 4047,-661 4047,-691\"/>\n<text text-anchor=\"middle\" x=\"3951.5\" y=\"-679\" font-family=\"monospace\" font-size=\"10.00\" fill=\"#000000\">4.1.Res_BatchNorm_layer1.bias</text>\n<text text-anchor=\"middle\" x=\"3951.5\" y=\"-668\" font-family=\"monospace\" font-size=\"10.00\" fill=\"#000000\"> (512)</text>\n</g>\n<!-- 140196087313024&#45;&gt;140196087640272 -->\n<g id=\"edge234\" class=\"edge\">\n<title>140196087313024&#45;&gt;140196087640272</title>\n<path fill=\"none\" stroke=\"#000000\" d=\"M3939.1352,-660.7333C3932.3309,-652.3321 3923.8559,-641.868 3916.7716,-633.121\"/>\n<polygon fill=\"#000000\" stroke=\"#000000\" points=\"3919.2779,-630.6545 3910.2642,-625.0864 3913.8382,-635.0602 3919.2779,-630.6545\"/>\n</g>\n<!-- 140196092879760 -->\n<g id=\"node230\" class=\"node\">\n<title>140196092879760</title>\n<polygon fill=\"#d3d3d3\" stroke=\"#000000\" points=\"3818,-498.5 3717,-498.5 3717,-479.5 3818,-479.5 3818,-498.5\"/>\n<text text-anchor=\"middle\" x=\"3767.5\" y=\"-486.5\" font-family=\"monospace\" font-size=\"10.00\" fill=\"#000000\">AccumulateGrad</text>\n</g>\n<!-- 140196092879760&#45;&gt;140197882847184 -->\n<g id=\"edge235\" class=\"edge\">\n<title>140196092879760&#45;&gt;140197882847184</title>\n<path fill=\"none\" stroke=\"#000000\" d=\"M3773.766,-479.2796C3779.3617,-470.5992 3787.7101,-457.6485 3794.5752,-446.9987\"/>\n<polygon fill=\"#000000\" stroke=\"#000000\" points=\"3797.6436,-448.6986 3800.12,-438.3972 3791.7601,-444.9059 3797.6436,-448.6986\"/>\n</g>\n<!-- 140196087312464 -->\n<g id=\"node231\" class=\"node\">\n<title>140196087312464</title>\n<polygon fill=\"#add8e6\" stroke=\"#000000\" points=\"3890,-570 3687,-570 3687,-540 3890,-540 3890,-570\"/>\n<text text-anchor=\"middle\" x=\"3788.5\" y=\"-558\" font-family=\"monospace\" font-size=\"10.00\" fill=\"#000000\">4.1.Convolutional_layer2.weight</text>\n<text text-anchor=\"middle\" x=\"3788.5\" y=\"-547\" font-family=\"monospace\" font-size=\"10.00\" fill=\"#000000\"> (512, 512, 3, 3)</text>\n</g>\n<!-- 140196087312464&#45;&gt;140196092879760 -->\n<g id=\"edge236\" class=\"edge\">\n<title>140196087312464&#45;&gt;140196092879760</title>\n<path fill=\"none\" stroke=\"#000000\" d=\"M3783.6294,-539.6924C3780.6753,-530.408 3776.8771,-518.4708 3773.7086,-508.5127\"/>\n<polygon fill=\"#000000\" stroke=\"#000000\" points=\"3776.9547,-507.1711 3770.5873,-498.7031 3770.2842,-509.2936 3776.9547,-507.1711\"/>\n</g>\n<!-- 140196092880784 -->\n<g id=\"node232\" class=\"node\">\n<title>140196092880784</title>\n<polygon fill=\"#d3d3d3\" stroke=\"#000000\" points=\"3937,-498.5 3836,-498.5 3836,-479.5 3937,-479.5 3937,-498.5\"/>\n<text text-anchor=\"middle\" x=\"3886.5\" y=\"-486.5\" font-family=\"monospace\" font-size=\"10.00\" fill=\"#000000\">AccumulateGrad</text>\n</g>\n<!-- 140196092880784&#45;&gt;140197882847184 -->\n<g id=\"edge237\" class=\"edge\">\n<title>140196092880784&#45;&gt;140197882847184</title>\n<path fill=\"none\" stroke=\"#000000\" d=\"M3873.6466,-479.2796C3861.167,-469.8419 3842.0125,-455.3563 3827.3506,-444.2683\"/>\n<polygon fill=\"#000000\" stroke=\"#000000\" points=\"3829.4087,-441.4365 3819.3215,-438.1962 3825.1864,-447.0198 3829.4087,-441.4365\"/>\n</g>\n<!-- 140196087312544 -->\n<g id=\"node233\" class=\"node\">\n<title>140196087312544</title>\n<polygon fill=\"#add8e6\" stroke=\"#000000\" points=\"4099,-570 3908,-570 3908,-540 4099,-540 4099,-570\"/>\n<text text-anchor=\"middle\" x=\"4003.5\" y=\"-558\" font-family=\"monospace\" font-size=\"10.00\" fill=\"#000000\">4.1.Convolutional_layer2.bias</text>\n<text text-anchor=\"middle\" x=\"4003.5\" y=\"-547\" font-family=\"monospace\" font-size=\"10.00\" fill=\"#000000\"> (512)</text>\n</g>\n<!-- 140196087312544&#45;&gt;140196092880784 -->\n<g id=\"edge238\" class=\"edge\">\n<title>140196087312544&#45;&gt;140196092880784</title>\n<path fill=\"none\" stroke=\"#000000\" d=\"M3976.6578,-539.8583C3957.2931,-528.9346 3931.3055,-514.2749 3912.2067,-503.5012\"/>\n<polygon fill=\"#000000\" stroke=\"#000000\" points=\"3913.8729,-500.4227 3903.4435,-498.5578 3910.4336,-506.5195 3913.8729,-500.4227\"/>\n</g>\n<!-- 140197882845200 -->\n<g id=\"node234\" class=\"node\">\n<title>140197882845200</title>\n<polygon fill=\"#d3d3d3\" stroke=\"#000000\" points=\"4067,-438 3966,-438 3966,-419 4067,-419 4067,-438\"/>\n<text text-anchor=\"middle\" x=\"4016.5\" y=\"-426\" font-family=\"monospace\" font-size=\"10.00\" fill=\"#000000\">AccumulateGrad</text>\n</g>\n<!-- 140197882845200&#45;&gt;140197882844880 -->\n<g id=\"edge239\" class=\"edge\">\n<title>140197882845200&#45;&gt;140197882844880</title>\n<path fill=\"none\" stroke=\"#000000\" d=\"M3991.2429,-418.9197C3967.7879,-410.023 3932.6483,-396.6942 3906.4947,-386.7739\"/>\n<polygon fill=\"#000000\" stroke=\"#000000\" points=\"3907.5454,-383.4291 3896.9542,-383.155 3905.0628,-389.9741 3907.5454,-383.4291\"/>\n</g>\n<!-- 140196087313344 -->\n<g id=\"node235\" class=\"node\">\n<title>140196087313344</title>\n<polygon fill=\"#add8e6\" stroke=\"#000000\" points=\"4158,-504 3955,-504 3955,-474 4158,-474 4158,-504\"/>\n<text text-anchor=\"middle\" x=\"4056.5\" y=\"-492\" font-family=\"monospace\" font-size=\"10.00\" fill=\"#000000\">4.1.Res_BatchNorm_layer2.weight</text>\n<text text-anchor=\"middle\" x=\"4056.5\" y=\"-481\" font-family=\"monospace\" font-size=\"10.00\" fill=\"#000000\"> (512)</text>\n</g>\n<!-- 140196087313344&#45;&gt;140197882845200 -->\n<g id=\"edge240\" class=\"edge\">\n<title>140196087313344&#45;&gt;140197882845200</title>\n<path fill=\"none\" stroke=\"#000000\" d=\"M4046.4063,-473.7333C4040.9675,-465.5071 4034.2211,-455.3031 4028.5132,-446.6699\"/>\n<polygon fill=\"#000000\" stroke=\"#000000\" points=\"4031.2729,-444.4978 4022.8381,-438.0864 4025.4337,-448.3584 4031.2729,-444.4978\"/>\n</g>\n<!-- 140197882846864 -->\n<g id=\"node236\" class=\"node\">\n<title>140197882846864</title>\n<polygon fill=\"#d3d3d3\" stroke=\"#000000\" points=\"4273,-438 4172,-438 4172,-419 4273,-419 4273,-438\"/>\n<text text-anchor=\"middle\" x=\"4222.5\" y=\"-426\" font-family=\"monospace\" font-size=\"10.00\" fill=\"#000000\">AccumulateGrad</text>\n</g>\n<!-- 140197882846864&#45;&gt;140197882844880 -->\n<g id=\"edge241\" class=\"edge\">\n<title>140197882846864&#45;&gt;140197882844880</title>\n<path fill=\"none\" stroke=\"#000000\" d=\"M4171.8364,-420.5613C4111.5231,-411.1105 4010.4252,-395.2689 3942.3769,-384.6061\"/>\n<polygon fill=\"#000000\" stroke=\"#000000\" points=\"3942.5898,-381.0968 3932.1685,-383.0065 3941.5061,-388.0124 3942.5898,-381.0968\"/>\n</g>\n<!-- 140196087313424 -->\n<g id=\"node237\" class=\"node\">\n<title>140196087313424</title>\n<polygon fill=\"#add8e6\" stroke=\"#000000\" points=\"4367,-504 4176,-504 4176,-474 4367,-474 4367,-504\"/>\n<text text-anchor=\"middle\" x=\"4271.5\" y=\"-492\" font-family=\"monospace\" font-size=\"10.00\" fill=\"#000000\">4.1.Res_BatchNorm_layer2.bias</text>\n<text text-anchor=\"middle\" x=\"4271.5\" y=\"-481\" font-family=\"monospace\" font-size=\"10.00\" fill=\"#000000\"> (512)</text>\n</g>\n<!-- 140196087313424&#45;&gt;140197882846864 -->\n<g id=\"edge242\" class=\"edge\">\n<title>140196087313424&#45;&gt;140197882846864</title>\n<path fill=\"none\" stroke=\"#000000\" d=\"M4259.1352,-473.7333C4252.3309,-465.3321 4243.8559,-454.868 4236.7716,-446.121\"/>\n<polygon fill=\"#000000\" stroke=\"#000000\" points=\"4239.2779,-443.6545 4230.2642,-438.0864 4233.8382,-448.0602 4239.2779,-443.6545\"/>\n</g>\n<!-- 140197882846800&#45;&gt;140197882844560 -->\n<g id=\"edge243\" class=\"edge\">\n<title>140197882846800&#45;&gt;140197882844560</title>\n<path fill=\"none\" stroke=\"#000000\" d=\"M3321.4662,-605.9536C3379.5361,-591.6249 3467.5,-558.4567 3467.5,-489 3467.5,-489 3467.5,-489 3467.5,-428.5 3467.5,-383.3117 3514.4869,-350.3605 3547.3196,-332.8515\"/>\n<polygon fill=\"#000000\" stroke=\"#000000\" points=\"3549.2602,-335.7903 3556.57,-328.121 3546.073,-329.5579 3549.2602,-335.7903\"/>\n</g>\n<!-- 140197882843984 -->\n<g id=\"node239\" class=\"node\">\n<title>140197882843984</title>\n<polygon fill=\"#d3d3d3\" stroke=\"#000000\" points=\"3065,-685.5 2964,-685.5 2964,-666.5 3065,-666.5 3065,-685.5\"/>\n<text text-anchor=\"middle\" x=\"3014.5\" y=\"-673.5\" font-family=\"monospace\" font-size=\"10.00\" fill=\"#000000\">AccumulateGrad</text>\n</g>\n<!-- 140197882843984&#45;&gt;140197882846800 -->\n<g id=\"edge245\" class=\"edge\">\n<title>140197882843984&#45;&gt;140197882846800</title>\n<path fill=\"none\" stroke=\"#000000\" d=\"M3054.939,-666.4803C3099.8088,-655.9176 3172.2797,-638.8573 3220.8824,-627.4158\"/>\n<polygon fill=\"#000000\" stroke=\"#000000\" points=\"3221.941,-630.7624 3230.8729,-625.064 3220.3369,-623.9486 3221.941,-630.7624\"/>\n</g>\n<!-- 140196087312624 -->\n<g id=\"node240\" class=\"node\">\n<title>140196087312624</title>\n<polygon fill=\"#add8e6\" stroke=\"#000000\" points=\"3047,-757 2844,-757 2844,-727 3047,-727 3047,-757\"/>\n<text text-anchor=\"middle\" x=\"2945.5\" y=\"-745\" font-family=\"monospace\" font-size=\"10.00\" fill=\"#000000\">4.1.Convolutional_layer3.weight</text>\n<text text-anchor=\"middle\" x=\"2945.5\" y=\"-734\" font-family=\"monospace\" font-size=\"10.00\" fill=\"#000000\"> (512, 512, 1, 1)</text>\n</g>\n<!-- 140196087312624&#45;&gt;140197882843984 -->\n<g id=\"edge246\" class=\"edge\">\n<title>140196087312624&#45;&gt;140197882843984</title>\n<path fill=\"none\" stroke=\"#000000\" d=\"M2961.5034,-726.6924C2972.1392,-716.519 2986.1048,-703.1606 2997.0295,-692.7109\"/>\n<polygon fill=\"#000000\" stroke=\"#000000\" points=\"2999.5487,-695.1446 3004.3559,-685.7031 2994.7102,-690.0861 2999.5487,-695.1446\"/>\n</g>\n<!-- 140196087640656 -->\n<g id=\"node241\" class=\"node\">\n<title>140196087640656</title>\n<polygon fill=\"#d3d3d3\" stroke=\"#000000\" points=\"3232,-685.5 3131,-685.5 3131,-666.5 3232,-666.5 3232,-685.5\"/>\n<text text-anchor=\"middle\" x=\"3181.5\" y=\"-673.5\" font-family=\"monospace\" font-size=\"10.00\" fill=\"#000000\">AccumulateGrad</text>\n</g>\n<!-- 140196087640656&#45;&gt;140197882846800 -->\n<g id=\"edge247\" class=\"edge\">\n<title>140196087640656&#45;&gt;140197882846800</title>\n<path fill=\"none\" stroke=\"#000000\" d=\"M3195.9601,-666.2796C3210.1308,-656.7537 3231.9519,-642.0851 3248.5042,-630.9583\"/>\n<polygon fill=\"#000000\" stroke=\"#000000\" points=\"3250.7293,-633.6799 3257.0758,-625.1962 3246.824,-627.8705 3250.7293,-633.6799\"/>\n</g>\n<!-- 140196087312784 -->\n<g id=\"node242\" class=\"node\">\n<title>140196087312784</title>\n<polygon fill=\"#add8e6\" stroke=\"#000000\" points=\"3256,-757 3065,-757 3065,-727 3256,-727 3256,-757\"/>\n<text text-anchor=\"middle\" x=\"3160.5\" y=\"-745\" font-family=\"monospace\" font-size=\"10.00\" fill=\"#000000\">4.1.Convolutional_layer3.bias</text>\n<text text-anchor=\"middle\" x=\"3160.5\" y=\"-734\" font-family=\"monospace\" font-size=\"10.00\" fill=\"#000000\"> (512)</text>\n</g>\n<!-- 140196087312784&#45;&gt;140196087640656 -->\n<g id=\"edge248\" class=\"edge\">\n<title>140196087312784&#45;&gt;140196087640656</title>\n<path fill=\"none\" stroke=\"#000000\" d=\"M3165.3706,-726.6924C3168.3247,-717.408 3172.1229,-705.4708 3175.2914,-695.5127\"/>\n<polygon fill=\"#000000\" stroke=\"#000000\" points=\"3178.7158,-696.2936 3178.4127,-685.7031 3172.0453,-694.1711 3178.7158,-696.2936\"/>\n</g>\n<!-- 140197882847120 -->\n<g id=\"node243\" class=\"node\">\n<title>140197882847120</title>\n<polygon fill=\"#d3d3d3\" stroke=\"#000000\" points=\"3739,-141 3668,-141 3668,-122 3739,-122 3739,-141\"/>\n<text text-anchor=\"middle\" x=\"3703.5\" y=\"-129\" font-family=\"monospace\" font-size=\"10.00\" fill=\"#000000\">TBackward</text>\n</g>\n<!-- 140197882847120&#45;&gt;140196088015376 -->\n<g id=\"edge249\" class=\"edge\">\n<title>140197882847120&#45;&gt;140196088015376</title>\n<path fill=\"none\" stroke=\"#000000\" d=\"M3681.7267,-121.9197C3661.8631,-113.1798 3632.2785,-100.1625 3609.8668,-90.3014\"/>\n<polygon fill=\"#000000\" stroke=\"#000000\" points=\"3611.006,-86.9789 3600.4432,-86.155 3608.1868,-93.3861 3611.006,-86.9789\"/>\n</g>\n<!-- 140197882845328 -->\n<g id=\"node244\" class=\"node\">\n<title>140197882845328</title>\n<polygon fill=\"#d3d3d3\" stroke=\"#000000\" points=\"3781,-201.5 3680,-201.5 3680,-182.5 3781,-182.5 3781,-201.5\"/>\n<text text-anchor=\"middle\" x=\"3730.5\" y=\"-189.5\" font-family=\"monospace\" font-size=\"10.00\" fill=\"#000000\">AccumulateGrad</text>\n</g>\n<!-- 140197882845328&#45;&gt;140197882847120 -->\n<g id=\"edge250\" class=\"edge\">\n<title>140197882845328&#45;&gt;140197882847120</title>\n<path fill=\"none\" stroke=\"#000000\" d=\"M3726.162,-182.2796C3722.3663,-173.7746 3716.7412,-161.17 3712.0449,-150.6469\"/>\n<polygon fill=\"#000000\" stroke=\"#000000\" points=\"3715.1886,-149.1027 3707.9169,-141.3972 3708.7962,-151.9555 3715.1886,-149.1027\"/>\n</g>\n<!-- 140196087314544 -->\n<g id=\"node245\" class=\"node\">\n<title>140196087314544</title>\n<polygon fill=\"#add8e6\" stroke=\"#000000\" points=\"3772,-273 3689,-273 3689,-243 3772,-243 3772,-273\"/>\n<text text-anchor=\"middle\" x=\"3730.5\" y=\"-261\" font-family=\"monospace\" font-size=\"10.00\" fill=\"#000000\">7.weight</text>\n<text text-anchor=\"middle\" x=\"3730.5\" y=\"-250\" font-family=\"monospace\" font-size=\"10.00\" fill=\"#000000\"> (100, 512)</text>\n</g>\n<!-- 140196087314544&#45;&gt;140197882845328 -->\n<g id=\"edge251\" class=\"edge\">\n<title>140196087314544&#45;&gt;140197882845328</title>\n<path fill=\"none\" stroke=\"#000000\" d=\"M3730.5,-242.6924C3730.5,-233.5067 3730.5,-221.7245 3730.5,-211.8312\"/>\n<polygon fill=\"#000000\" stroke=\"#000000\" points=\"3734.0001,-211.703 3730.5,-201.7031 3727.0001,-211.7031 3734.0001,-211.703\"/>\n</g>\n</g>\n</svg>\n"
          },
          "metadata": {
            "tags": []
          }
        }
      ]
    },
    {
      "cell_type": "code",
      "metadata": {
        "colab": {
          "base_uri": "https://localhost:8080/"
        },
        "id": "--delmYHz9A1",
        "outputId": "7a71cda5-d1c7-4b3b-b6d1-6615734bdcc6"
      },
      "source": [
        "#enumerating testdata with batch index of source and the target\n",
        "testdata_ex = enumerate(Testdata_Loader)\n",
        "batch_idx, (Val_ex_data, Val_ex_targets) = next(testdata_ex)\n",
        "#printing the shape of the indexed data\n",
        "print(Val_ex_data.shape)"
      ],
      "execution_count": 5,
      "outputs": [
        {
          "output_type": "stream",
          "text": [
            "torch.Size([32, 1, 96, 96])\n"
          ],
          "name": "stdout"
        }
      ]
    },
    {
      "cell_type": "markdown",
      "metadata": {
        "id": "Nd_aoypnLcSY"
      },
      "source": [
        "##**Setting Hyperparameters**"
      ]
    },
    {
      "cell_type": "code",
      "metadata": {
        "id": "j4l9WyqDwVoS"
      },
      "source": [
        "#Initialization of Hyperparameters\n",
        "#Number of epochs\n",
        "EPOCHS = 10\n",
        "#Batch size and the learning rate\n",
        "batch_size= 32\n",
        "Learning_rate= 0.1\n",
        "#Loss Function\n",
        "Loss_criterion_function = torch.nn.CrossEntropyLoss()\n",
        "device =torch.device('cuda' if torch.cuda.is_available() else 'cpu')"
      ],
      "execution_count": 6,
      "outputs": []
    },
    {
      "cell_type": "code",
      "metadata": {
        "id": "O2jUHHdoa4Qg"
      },
      "source": [
        "#For storing the generated train and test accuracy and plotting\n",
        "def show_train_hist(hist, show=False, save=False, path='Train_hist.png'):\n",
        "    x = range(len(hist['train_accuracy']))\n",
        "    y1 = hist['train_accuracy']\n",
        "    y2 = hist['test_accuracy']\n",
        "    #plotting\n",
        "    plt.plot(x, y1, label='train_accuracy')\n",
        "    plt.plot(x, y2, label='test_accuracy')\n",
        "    plt.xlabel('Epoch')\n",
        "    plt.ylabel('Accuracy')\n",
        "    plt.legend(loc=4)\n",
        "    plt.grid(True)\n",
        "    plt.tight_layout()\n",
        "    #saving the generated outputs\n",
        "    if save:\n",
        "        plt.savefig(path)\n",
        "    if show:\n",
        "        plt.show()\n",
        "    else:\n",
        "        plt.close()"
      ],
      "execution_count": 7,
      "outputs": []
    },
    {
      "cell_type": "markdown",
      "metadata": {
        "id": "hbl7IzpXL0oK"
      },
      "source": [
        "##**Evaluation --> Training and Testing**"
      ]
    },
    {
      "cell_type": "code",
      "metadata": {
        "id": "gbaFZ8fJbCnc"
      },
      "source": [
        "#Test Accuracy and loss Evaluation\n",
        "def Evaluate_Accuracy(dataset_eval_iteration, Network_arch, Loss_criterion_function, device=device): \n",
        "  #Evaluate accuracy of a model on the testset\n",
        "  #In evaluation mode, we will be using the dropout and normalization layers\n",
        "  testset_initial=len(dataset_eval_iteration.dataset)\n",
        "  test_loss=0\n",
        "  test_accuracy=0\n",
        "  Network_arch.eval()\n",
        "  with torch.no_grad():\n",
        "    for X, y in dataset_eval_iteration:\n",
        "        #transfer the produced data to the device\n",
        "        X = X.to(device)\n",
        "        y = y.to(device)   \n",
        "        outputs = Network_arch(X)\n",
        "        #calculating the test accuracy and loss and appending it                                                   \n",
        "        test_loss += Loss_criterion_function(outputs,y).item()                 \n",
        "        test_accuracy += (outputs.argmax(1) == y).type(torch.float).sum().item()  \n",
        "  test_accuracy = test_accuracy/testset_initial  \n",
        "  test_loss /= testset_initial\n",
        "  return test_accuracy, test_loss"
      ],
      "execution_count": 8,
      "outputs": []
    },
    {
      "cell_type": "code",
      "metadata": {
        "id": "qRWydXdg1C03"
      },
      "source": [
        "#Cross validating the predicted values for plotting the confusion matrix and predict the correct and incorrect samples\n",
        "def Cross_validate_predicted_data(Network_arch, dataset_eval_iteration):\n",
        "    Data_pics_label = []\n",
        "    Data_pics_val = []\n",
        "    Network_arch.eval()\n",
        "    for X, y in dataset_eval_iteration:\n",
        "      X = X.to(device)\n",
        "      y = y.to(device)\n",
        "      prediction = Network_arch(X)\n",
        "      with torch.no_grad():\n",
        "            Final_predict = F.softmax(prediction, dim = -1)\n",
        "            Data_pics_label.append(y.cpu())\n",
        "            Data_pics_val.append(Final_predict.cpu())\n",
        "    out1 = torch.cat(Data_pics_label)\n",
        "    out2 = torch.cat(Data_pics_val)\n",
        "    return out1, out2"
      ],
      "execution_count": 9,
      "outputs": []
    },
    {
      "cell_type": "code",
      "metadata": {
        "id": "vlxliRglwkbt",
        "colab": {
          "base_uri": "https://localhost:8080/"
        },
        "outputId": "a7570329-25e4-4adf-92f6-99210da05e9d"
      },
      "source": [
        "#Training and Evaluating the model \n",
        "#Training is performed on the train dataset\n",
        "#Testing (Evaluation) is performed in the test dataset\n",
        "#Train and evaluate the model using the device GPU or else with CPU\n",
        "def training(Network_arch, Load_MNIST_traindata, Load_MNIST_testdata, Loss_criterion_function, EPOCHS, batch_size, device, Learning_rate=None):    \n",
        "    print(\"---------------------------------------------------\")\n",
        "    print(\"Model Training and Testing Start date:\", date)\n",
        "    print(\"Model Training and Testing starting time:\", Time)\n",
        "    print(\"---------------------------------------------------\")\n",
        "    print('ResNet Architecture Training and Testing Begins!')\n",
        "    Network_arch.to(device)\n",
        "    #Initialization of the optimizer\n",
        "    optimizer = optim.SGD(Network_arch.parameters(), lr=Learning_rate)\n",
        "    #FOR CALCULATING THE EPOCHS\n",
        "    for Epoch in range(EPOCHS):\n",
        "        #Network is trained on the training mode\n",
        "        Network_arch.train()\n",
        "        cv = 0\n",
        "        ep_start = time.time()\n",
        "        Sum_training_Loss = torch.tensor([0.0], device=device)\n",
        "        Sum_training_Accuracy = torch.tensor([0.0], device=device)\n",
        "        #FOR CALCULATING THE TRAIN LOSS AND TRAIN ACCURACY\n",
        "        for X, y in Load_MNIST_traindata:\n",
        "            optimizer.zero_grad()\n",
        "            X = X.to(device) \n",
        "            y = y.to(device)\n",
        "            conv_y = Network_arch(X)\n",
        "            final_end_loss = Loss_criterion_function(conv_y, y)\n",
        "            final_end_loss.backward()\n",
        "            optimizer.step()\n",
        "            with torch.no_grad():\n",
        "                y = y.long()\n",
        "                Sum_training_Loss += final_end_loss.float()\n",
        "                Sum_training_Accuracy += (torch.sum((torch.argmax(conv_y, dim=1) == y))).float()\n",
        "                cv += y.shape[0]\n",
        "                final_loss = Sum_training_Loss/cv\n",
        "                final_train_accuracy = Sum_training_Accuracy/cv\n",
        "                #final_train_accuracy_out =final_train_accuracy.to('cpu').numpy()\n",
        "        #FOR CALCULATING THE TEST ACCURACY and loss\n",
        "        final_test_accuracy, final_test_loss = Evaluate_Accuracy(Load_MNIST_testdata, Network_arch, Loss_criterion_function, device) \n",
        "        Start_Time=datetime.now()\n",
        "        train_test_Start_Time = Start_Time.strftime(\"%H:%M:%S\")\n",
        "        print(\"-------------------------------------------------------------------------------------------------------------------------------------------\")\n",
        "        #print(f'Epoch_start_time: {train_test_Start_Time}')\n",
        "        print('Epoch--> %d\\t Train_Loss: %.4f\\t Train_Accuracy: %.2f\\t    Test_Loss: %.4f\\t  Test_Accuracy: %.2f\\t  Time_Duration: %.1f sec\\t' % (Epoch + 1, final_loss, final_train_accuracy*100, final_test_loss, final_test_accuracy*100, time.time() - ep_start))\n",
        "        print(\"-------------------------------------------------------------------------------------------------------------------------------------------\")\n",
        "        save_dir = './CV_miniproject_results/'\n",
        "        #Creating a folder to store the results\n",
        "        if not os.path.exists(save_dir):\n",
        "          os.mkdir(save_dir)\n",
        "        #Storing and tracking the outputs and plotting\n",
        "        train_hist = {}\n",
        "        train_hist['train_accuracy'] = []\n",
        "        train_hist['test_accuracy'] = []\n",
        "        train_hist['train_accuracy'].append(final_train_accuracy)\n",
        "        train_hist['test_accuracy'].append(final_test_accuracy)\n",
        "        #saving outputs to the created directory\n",
        "        with open(save_dir + '/train_hist.pkl', 'wb') as f:\n",
        "          pickle.dump(train_hist, f)\n",
        "        show_train_hist(train_hist, save=True, path=save_dir + '/CV_miniproject_Train_hist.png')\n",
        "\n",
        "#Training and evaluating the Network model \n",
        "ResNet_History = training(Network_arch, Traindata_Loader, Testdata_Loader, Loss_criterion_function, EPOCHS, batch_size, device, Learning_rate)\n",
        "End_Time=datetime.now()\n",
        "end_date = End_Time.strftime(\"%d/%m/%Y\")\n",
        "end_time = End_Time.strftime(\"%H:%M:%S\")\n",
        "print('ResNet Architecture Training and Testing Completed!')\n",
        "print(\"--------------------------------------------------\")\n",
        "print(\"Model Training and Testing End date:\", end_date)\n",
        "print(\"Model Training and Testing End time:\", end_time)\n",
        "print(\"--------------------------------------------------\")"
      ],
      "execution_count": 10,
      "outputs": [
        {
          "output_type": "stream",
          "text": [
            "---------------------------------------------------\n",
            "Model Training and Testing Start date: 17/05/2021\n",
            "Model Training and Testing starting time: 07:39:36\n",
            "---------------------------------------------------\n",
            "ResNet Architecture Training and Testing Begins!\n",
            "-------------------------------------------------------------------------------------------------------------------------------------------\n",
            "Epoch--> 1\t Train_Loss: 0.0067\t Train_Accuracy: 94.66\t    Test_Loss: 0.0019\t  Test_Accuracy: 98.18\t  Time_Duration: 42.9 sec\t\n",
            "-------------------------------------------------------------------------------------------------------------------------------------------\n",
            "-------------------------------------------------------------------------------------------------------------------------------------------\n",
            "Epoch--> 2\t Train_Loss: 0.0012\t Train_Accuracy: 98.82\t    Test_Loss: 0.0010\t  Test_Accuracy: 99.07\t  Time_Duration: 43.0 sec\t\n",
            "-------------------------------------------------------------------------------------------------------------------------------------------\n",
            "-------------------------------------------------------------------------------------------------------------------------------------------\n",
            "Epoch--> 3\t Train_Loss: 0.0008\t Train_Accuracy: 99.24\t    Test_Loss: 0.0009\t  Test_Accuracy: 99.19\t  Time_Duration: 42.9 sec\t\n",
            "-------------------------------------------------------------------------------------------------------------------------------------------\n",
            "-------------------------------------------------------------------------------------------------------------------------------------------\n",
            "Epoch--> 4\t Train_Loss: 0.0005\t Train_Accuracy: 99.47\t    Test_Loss: 0.0008\t  Test_Accuracy: 99.19\t  Time_Duration: 42.9 sec\t\n",
            "-------------------------------------------------------------------------------------------------------------------------------------------\n",
            "-------------------------------------------------------------------------------------------------------------------------------------------\n",
            "Epoch--> 5\t Train_Loss: 0.0003\t Train_Accuracy: 99.68\t    Test_Loss: 0.0006\t  Test_Accuracy: 99.38\t  Time_Duration: 43.0 sec\t\n",
            "-------------------------------------------------------------------------------------------------------------------------------------------\n",
            "-------------------------------------------------------------------------------------------------------------------------------------------\n",
            "Epoch--> 6\t Train_Loss: 0.0002\t Train_Accuracy: 99.81\t    Test_Loss: 0.0007\t  Test_Accuracy: 99.33\t  Time_Duration: 42.8 sec\t\n",
            "-------------------------------------------------------------------------------------------------------------------------------------------\n",
            "-------------------------------------------------------------------------------------------------------------------------------------------\n",
            "Epoch--> 7\t Train_Loss: 0.0002\t Train_Accuracy: 99.79\t    Test_Loss: 0.0007\t  Test_Accuracy: 99.39\t  Time_Duration: 42.9 sec\t\n",
            "-------------------------------------------------------------------------------------------------------------------------------------------\n",
            "-------------------------------------------------------------------------------------------------------------------------------------------\n",
            "Epoch--> 8\t Train_Loss: 0.0001\t Train_Accuracy: 99.87\t    Test_Loss: 0.0008\t  Test_Accuracy: 99.36\t  Time_Duration: 42.9 sec\t\n",
            "-------------------------------------------------------------------------------------------------------------------------------------------\n",
            "-------------------------------------------------------------------------------------------------------------------------------------------\n",
            "Epoch--> 9\t Train_Loss: 0.0001\t Train_Accuracy: 99.88\t    Test_Loss: 0.0007\t  Test_Accuracy: 99.44\t  Time_Duration: 42.8 sec\t\n",
            "-------------------------------------------------------------------------------------------------------------------------------------------\n",
            "-------------------------------------------------------------------------------------------------------------------------------------------\n",
            "Epoch--> 10\t Train_Loss: 0.0001\t Train_Accuracy: 99.95\t    Test_Loss: 0.0006\t  Test_Accuracy: 99.50\t  Time_Duration: 42.8 sec\t\n",
            "-------------------------------------------------------------------------------------------------------------------------------------------\n",
            "ResNet Architecture Training and Testing Completed!\n",
            "--------------------------------------------------\n",
            "Model Training and Testing End date: 17/05/2021\n",
            "Model Training and Testing End time: 07:52:51\n",
            "--------------------------------------------------\n"
          ],
          "name": "stdout"
        }
      ]
    },
    {
      "cell_type": "code",
      "metadata": {
        "id": "QI34R54P93QY",
        "colab": {
          "base_uri": "https://localhost:8080/"
        },
        "outputId": "ad12ae4f-da03-4694-bbc1-d1a380d3c420"
      },
      "source": [
        "#getting the output of the tensor(weights)\n",
        "with torch.no_grad():\n",
        "  Network_arch.to('cpu')\n",
        "  final_tensor_output = Network_arch(Val_ex_data)\n",
        "#printing the output\n",
        "print(final_tensor_output)"
      ],
      "execution_count": 11,
      "outputs": [
        {
          "output_type": "stream",
          "text": [
            "tensor([[ 5.2438, 10.1167,  7.6870,  ..., -1.4572, -0.9949, -0.4170],\n",
            "        [12.9855, 10.9116, 38.1298,  ..., -1.1272, -1.9866, -1.4694],\n",
            "        [ 7.5217, 28.5030,  7.9861,  ..., -1.4523,  0.1077, -0.7000],\n",
            "        ...,\n",
            "        [ 5.9655, 23.0225,  5.1565,  ..., -1.1178, -0.0981, -0.6078],\n",
            "        [ 6.7317,  8.6926,  5.3380,  ..., -0.4530, -0.9950, -0.3687],\n",
            "        [ 5.4859, 23.0430,  4.4189,  ..., -1.0838,  0.0801, -0.4567]])\n"
          ],
          "name": "stdout"
        }
      ]
    },
    {
      "cell_type": "code",
      "metadata": {
        "id": "FpD3P8EPJjQy",
        "colab": {
          "base_uri": "https://localhost:8080/",
          "height": 336
        },
        "outputId": "625cbd46-e370-42c9-95bf-79270f54ad4e"
      },
      "source": [
        "#histogram for the tensor values\n",
        "sns.distplot(final_tensor_output)"
      ],
      "execution_count": 12,
      "outputs": [
        {
          "output_type": "stream",
          "text": [
            "/usr/local/lib/python3.7/dist-packages/seaborn/distributions.py:2557: FutureWarning: `distplot` is a deprecated function and will be removed in a future version. Please adapt your code to use either `displot` (a figure-level function with similar flexibility) or `histplot` (an axes-level function for histograms).\n",
            "  warnings.warn(msg, FutureWarning)\n"
          ],
          "name": "stderr"
        },
        {
          "output_type": "execute_result",
          "data": {
            "text/plain": [
              "<matplotlib.axes._subplots.AxesSubplot at 0x7f81a14141d0>"
            ]
          },
          "metadata": {
            "tags": []
          },
          "execution_count": 12
        },
        {
          "output_type": "display_data",
          "data": {
            "image/png": "[encoded data removed]",
            "text/plain": [
              "<Figure size 432x288 with 1 Axes>"
            ]
          },
          "metadata": {
            "tags": [],
            "needs_background": "light"
          }
        }
      ]
    },
    {
      "cell_type": "markdown",
      "metadata": {
        "id": "5MWL0W9cMzpS"
      },
      "source": [
        "##**Verification --> How well our Network predicts the data accurately**"
      ]
    },
    {
      "cell_type": "code",
      "metadata": {
        "id": "lVnNW92kPFE5",
        "colab": {
          "base_uri": "https://localhost:8080/",
          "height": 117
        },
        "outputId": "698f9221-6072-4fcf-ba89-a14bee13b4f1"
      },
      "source": [
        "#for testing our model after training, we have printed the classes of MNIST data for the groundtruth image \n",
        "#In the evaluation phase we printed the classes of MNIST data with their predicted class\n",
        "#we compare how correctly it predicted the classes between orginal and the predicted data\n",
        "MNIST_Class = ('0', '1', '2', '3', '4','5', '6', '7', '8', '9')\n",
        "device =torch.device('cpu')\n",
        "for X, y in Testdata_Loader:\n",
        "  X = X[:6]\n",
        "  y = y[:6] \n",
        "  def imshow(figure):\n",
        "    figure = figure\n",
        "    plt.xticks([])\n",
        "    plt.yticks([])\n",
        "    plt.tight_layout()\n",
        "    plt.imshow(np.transpose(figure.numpy(), (1,2,0)))\n",
        "    plt.show()\n",
        "#Plotting the Groundtruth image\n",
        "center = \"GROUNDTRUTH IMAGE\"\n",
        "print(\"{center:^10}\".format(center=center))\n",
        "imshow(make_grid(X))"
      ],
      "execution_count": 13,
      "outputs": [
        {
          "output_type": "stream",
          "text": [
            "GROUNDTRUTH IMAGE\n"
          ],
          "name": "stdout"
        },
        {
          "output_type": "display_data",
          "data": {
            "image/png": "[encoded data removed]",
            "text/plain": [
              "<Figure size 432x288 with 1 Axes>"
            ]
          },
          "metadata": {
            "tags": []
          }
        }
      ]
    },
    {
      "cell_type": "code",
      "metadata": {
        "colab": {
          "base_uri": "https://localhost:8080/"
        },
        "id": "ajYTUwIiJXbz",
        "outputId": "55188d29-c0c1-4cf0-af5c-bba32bca1264"
      },
      "source": [
        "#Getting the predicted classes\n",
        "Final_Out = Network_arch(X)\n",
        "_, prediction = torch.max(Final_Out, 1)\n",
        "#printing the classes of groundtruth data\n",
        "print(\"----------------------------------------\")\n",
        "print('Orginal images classes: ',' '.join(MNIST_Class[y[GT_data_out]] for GT_data_out in range(6)))\n",
        "print(\"----------------------------------------\")\n",
        "#printing the classes of prediction data\n",
        "print('Predicted images classes: ',' '.join(MNIST_Class[prediction[Pred_data_out]] for Pred_data_out in range(6)))\n",
        "print(\"----------------------------------------\")"
      ],
      "execution_count": 14,
      "outputs": [
        {
          "output_type": "stream",
          "text": [
            "----------------------------------------\n",
            "Orginal images classes:  1 2 3 4 5 6\n",
            "----------------------------------------\n",
            "Predicted images classes:  1 2 3 4 5 6\n",
            "----------------------------------------\n"
          ],
          "name": "stdout"
        }
      ]
    },
    {
      "cell_type": "code",
      "metadata": {
        "colab": {
          "base_uri": "https://localhost:8080/"
        },
        "id": "rBmHcFn4bEI2",
        "outputId": "073880bc-eb83-479c-932f-ada92ae34776"
      },
      "source": [
        "#Calculating the induvidual accuracy of Each classes defined\n",
        "accurate_class_pred = list(range(10))\n",
        "Combined_class_accurate = list(range(10))\n",
        "with torch.no_grad():\n",
        "    for X, y in Testdata_Loader:\n",
        "      X = X.to(device) \n",
        "      y = y.to(device)\n",
        "      Final_Out = Network_arch(X)\n",
        "      _, Induvidual_class_prediction = torch.max(Final_Out, 1)\n",
        "      CIF_out = (Induvidual_class_prediction == y)\n",
        "      for Induvidual_out in range(6):\n",
        "        accurate_class_pred[y[Induvidual_out]] += CIF_out[Induvidual_out].item()\n",
        "        Combined_class_accurate[y[Induvidual_out]] += 1 \n",
        "#Printing the accuracy of Each classes       \n",
        "for Induvidual_class_accuracy in range(10):\n",
        "  print(\"---------------------------\")\n",
        "  print('Accuracy of %5s : %d %%' % (MNIST_Class[Induvidual_class_accuracy], accurate_class_pred[Induvidual_class_accuracy] / Combined_class_accurate[Induvidual_class_accuracy] *100))\n",
        "  print(\"---------------------------\")"
      ],
      "execution_count": 15,
      "outputs": [
        {
          "output_type": "stream",
          "text": [
            "---------------------------\n",
            "Accuracy of     0 : 99 %\n",
            "---------------------------\n",
            "---------------------------\n",
            "Accuracy of     1 : 99 %\n",
            "---------------------------\n",
            "---------------------------\n",
            "Accuracy of     2 : 99 %\n",
            "---------------------------\n",
            "---------------------------\n",
            "Accuracy of     3 : 98 %\n",
            "---------------------------\n",
            "---------------------------\n",
            "Accuracy of     4 : 100 %\n",
            "---------------------------\n",
            "---------------------------\n",
            "Accuracy of     5 : 97 %\n",
            "---------------------------\n",
            "---------------------------\n",
            "Accuracy of     6 : 100 %\n",
            "---------------------------\n",
            "---------------------------\n",
            "Accuracy of     7 : 100 %\n",
            "---------------------------\n",
            "---------------------------\n",
            "Accuracy of     8 : 100 %\n",
            "---------------------------\n",
            "---------------------------\n",
            "Accuracy of     9 : 100 %\n",
            "---------------------------\n"
          ],
          "name": "stdout"
        }
      ]
    },
    {
      "cell_type": "code",
      "metadata": {
        "id": "_pd_9Yq01NIR"
      },
      "source": [
        "#Seperating the correct and incorrect predictions and appending it to a seperate list\n",
        "Correct_Data = []\n",
        "Incorrect_Data = []\n",
        "Label_for_pic, Prediction = Cross_validate_predicted_data(Network_arch, Testdata_Loader)\n",
        "Predicted_label = torch.argmax(Prediction, 1)\n",
        "MNIST_Classes = MNIST_testdata.classes\n",
        "Accurate_prediction = torch.eq(Label_for_pic, Predicted_label)\n",
        "for i, j, Correct_data_prediction in zip(Label_for_pic, Prediction, Accurate_prediction):\n",
        "    if Correct_data_prediction:\n",
        "      Correct_Data.append((i, j))\n",
        "    else:\n",
        "      Incorrect_Data.append((i, j))\n",
        "#Randomly sorting the samples\n",
        "Correct_Data.sort(key = lambda Correct_samples: torch.max(Correct_samples[1], -1).values)\n",
        "Incorrect_Data.sort(key = lambda Incorrect_samples: torch.max(Incorrect_samples[1], -1).values)"
      ],
      "execution_count": 16,
      "outputs": []
    },
    {
      "cell_type": "markdown",
      "metadata": {
        "id": "Am-kL9u_15Ju"
      },
      "source": [
        "**Examples of Correct Predictions**"
      ]
    },
    {
      "cell_type": "code",
      "metadata": {
        "colab": {
          "base_uri": "https://localhost:8080/"
        },
        "id": "o5r139JV1NAY",
        "outputId": "0770ab40-a763-414a-d5f7-858e57a1da09"
      },
      "source": [
        "#Examples of Correct Prediction\n",
        "def Correct_Prediction(Correct_label_predict, MNIST_Classes):\n",
        "    for Sample in range(1*5):\n",
        "        Correct_Label, Prediction = Correct_label_predict[Sample]\n",
        "        Correct_pred, Correctly_predicted_label = torch.max(Prediction, -1)\n",
        "        Original_class = MNIST_Classes[Correct_Label]\n",
        "        Correctly_Predicted_class = MNIST_Classes[Correctly_predicted_label ]\n",
        "        print(\"------------------------------------\")\n",
        "        print(f'Orginal images class   :  {Original_class}')\n",
        "        print(\"------------------------------------\")\n",
        "        print(f'Predicted images class :  {Correctly_Predicted_class}')\n",
        "        print(\"------------------------------------\")\n",
        "Correct_Prediction(Correct_Data, MNIST_Classes)"
      ],
      "execution_count": 21,
      "outputs": [
        {
          "output_type": "stream",
          "text": [
            "------------------------------------\n",
            "Orginal images class   :  7 - seven\n",
            "------------------------------------\n",
            "Predicted images class :  7 - seven\n",
            "------------------------------------\n",
            "------------------------------------\n",
            "Orginal images class   :  0 - zero\n",
            "------------------------------------\n",
            "Predicted images class :  0 - zero\n",
            "------------------------------------\n",
            "------------------------------------\n",
            "Orginal images class   :  6 - six\n",
            "------------------------------------\n",
            "Predicted images class :  6 - six\n",
            "------------------------------------\n",
            "------------------------------------\n",
            "Orginal images class   :  5 - five\n",
            "------------------------------------\n",
            "Predicted images class :  5 - five\n",
            "------------------------------------\n",
            "------------------------------------\n",
            "Orginal images class   :  5 - five\n",
            "------------------------------------\n",
            "Predicted images class :  5 - five\n",
            "------------------------------------\n"
          ],
          "name": "stdout"
        }
      ]
    },
    {
      "cell_type": "markdown",
      "metadata": {
        "id": "5EDYTezP1xph"
      },
      "source": [
        "**Examples of Incorrect Predictions**"
      ]
    },
    {
      "cell_type": "code",
      "metadata": {
        "colab": {
          "base_uri": "https://localhost:8080/"
        },
        "id": "8Xo_1wtm1M4J",
        "outputId": "c64d71c8-9948-4e34-acd7-3a8d55d1524a"
      },
      "source": [
        "#Examples of Incorrect Prediction\n",
        "def Incorrect_Prediction(Incorrect_label_predict, MNIST_Classes):\n",
        "    for Sample in range(1*5):\n",
        "        Incorrect_Label, Prediction = Incorrect_label_predict[Sample]\n",
        "        Incorrect_pred, Incorrectly_predicted_label = torch.max(Prediction, -1)\n",
        "        Original_class = MNIST_Classes[Incorrect_Label]\n",
        "        Incorrectly_Predicted_class = MNIST_Classes[Incorrectly_predicted_label ]\n",
        "        print(\"------------------------------------\")\n",
        "        print(f'Orginal images class   :  {Original_class}')\n",
        "        print(\"------------------------------------\")\n",
        "        print(f'Predicted images class :  {Incorrectly_Predicted_class}')\n",
        "        print(\"------------------------------------\")\n",
        "Correct_Prediction(Incorrect_Data, MNIST_Classes)"
      ],
      "execution_count": 22,
      "outputs": [
        {
          "output_type": "stream",
          "text": [
            "------------------------------------\n",
            "Orginal images class   :  2 - two\n",
            "------------------------------------\n",
            "Predicted images class :  1 - one\n",
            "------------------------------------\n",
            "------------------------------------\n",
            "Orginal images class   :  9 - nine\n",
            "------------------------------------\n",
            "Predicted images class :  7 - seven\n",
            "------------------------------------\n",
            "------------------------------------\n",
            "Orginal images class   :  6 - six\n",
            "------------------------------------\n",
            "Predicted images class :  5 - five\n",
            "------------------------------------\n",
            "------------------------------------\n",
            "Orginal images class   :  4 - four\n",
            "------------------------------------\n",
            "Predicted images class :  8 - eight\n",
            "------------------------------------\n",
            "------------------------------------\n",
            "Orginal images class   :  1 - one\n",
            "------------------------------------\n",
            "Predicted images class :  3 - three\n",
            "------------------------------------\n"
          ],
          "name": "stdout"
        }
      ]
    },
    {
      "cell_type": "markdown",
      "metadata": {
        "id": "1TRXiPuU1oZL"
      },
      "source": [
        "**Confusion Matrix**"
      ]
    },
    {
      "cell_type": "code",
      "metadata": {
        "colab": {
          "base_uri": "https://localhost:8080/",
          "height": 689
        },
        "id": "BmUskdo51Mwb",
        "outputId": "cd5393f6-811e-4368-b2d3-a4a8609bcfc9"
      },
      "source": [
        "#Plotting the confusion matrix\n",
        "Figure = plt.figure(figsize=(12, 12))\n",
        "Axis = Figure.add_subplot(1, 1, 1)\n",
        "Confusion_Matrix = confusion_matrix(Label_for_pic, Predicted_label)\n",
        "Confusion_Heatmap_display = ConfusionMatrixDisplay(Confusion_Matrix, MNIST_Classes)\n",
        "Final_Heatmap_for_Predicted_data = Confusion_Heatmap_display.plot(ax=Axis, values_format='d', cmap = 'Greens')"
      ],
      "execution_count": 19,
      "outputs": [
        {
          "output_type": "display_data",
          "data": {
            "image/png": "[encoded data removed]",
            "text/plain": [
              "<Figure size 864x864 with 2 Axes>"
            ]
          },
          "metadata": {
            "tags": [],
            "needs_background": "light"
          }
        }
      ]
    },
    {
      "cell_type": "code",
      "metadata": {
        "colab": {
          "base_uri": "https://localhost:8080/"
        },
        "id": "wm_FmJ3CivdV",
        "outputId": "01a20b39-5e13-49f6-f20f-9b464dbc8575"
      },
      "source": [
        "#I have Executed the code in Google Colab pro. so that, I have printed the usage of gpu provided\n",
        "GPU_Usage_data = !nvidia-smi\n",
        "GPU_Usage_data  = '\\n'.join(GPU_Usage_data )\n",
        "if GPU_Usage_data .find('failed') >= 0:\n",
        "  print('Select the Runtime > \"Change runtime type\" menu to enable a GPU accelerator, ')\n",
        "  print('and then re-execute this cell.')\n",
        "else:\n",
        "  print(GPU_Usage_data )"
      ],
      "execution_count": 20,
      "outputs": [
        {
          "output_type": "stream",
          "text": [
            "Mon May 17 07:55:41 2021       \n",
            "+-----------------------------------------------------------------------------+\n",
            "| NVIDIA-SMI 465.19.01    Driver Version: 460.32.03    CUDA Version: 11.2     |\n",
            "|-------------------------------+----------------------+----------------------+\n",
            "| GPU  Name        Persistence-M| Bus-Id        Disp.A | Volatile Uncorr. ECC |\n",
            "| Fan  Temp  Perf  Pwr:Usage/Cap|         Memory-Usage | GPU-Util  Compute M. |\n",
            "|                               |                      |               MIG M. |\n",
            "|===============================+======================+======================|\n",
            "|   0  Tesla P100-PCIE...  Off  | 00000000:00:04.0 Off |                    0 |\n",
            "| N/A   57C    P0    42W / 250W |   1213MiB / 16280MiB |      0%      Default |\n",
            "|                               |                      |                  N/A |\n",
            "+-------------------------------+----------------------+----------------------+\n",
            "                                                                               \n",
            "+-----------------------------------------------------------------------------+\n",
            "| Processes:                                                                  |\n",
            "|  GPU   GI   CI        PID   Type   Process name                  GPU Memory |\n",
            "|        ID   ID                                                   Usage      |\n",
            "|=============================================================================|\n",
            "+-----------------------------------------------------------------------------+\n"
          ],
          "name": "stdout"
        }
      ]
    }
  ]
}