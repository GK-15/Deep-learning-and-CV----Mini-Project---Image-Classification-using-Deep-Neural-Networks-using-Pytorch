{
  "nbformat": 4,
  "nbformat_minor": 0,
  "metadata": {
    "colab": {
      "name": "MiniProject_AlexNet_MNIST_model_200434339_Ganesh_Kumaran_Masilamani.ipynb",
      "provenance": [],
      "collapsed_sections": [],
      "machine_shape": "hm"
    },
    "kernelspec": {
      "display_name": "Python 3",
      "name": "python3"
    },
    "accelerator": "GPU",
    "widgets": {
      "application/vnd.jupyter.widget-state+json": {
        "1a6b1b3bfe3344d1800332f78ef11517": {
          "model_module": "@jupyter-widgets/controls",
          "model_name": "HBoxModel",
          "state": {
            "_view_name": "HBoxView",
            "_dom_classes": [],
            "_model_name": "HBoxModel",
            "_view_module": "@jupyter-widgets/controls",
            "_model_module_version": "1.5.0",
            "_view_count": null,
            "_view_module_version": "1.5.0",
            "box_style": "",
            "layout": "IPY_MODEL_5870e4efd4b64e34b86342de509456ac",
            "_model_module": "@jupyter-widgets/controls",
            "children": [
              "IPY_MODEL_b657e55cfc864961aea9a3585b68c7f7",
              "IPY_MODEL_17d2ffb7e73940a2ac7b0b2dcab3e191"
            ]
          }
        },
        "5870e4efd4b64e34b86342de509456ac": {
          "model_module": "@jupyter-widgets/base",
          "model_name": "LayoutModel",
          "state": {
            "_view_name": "LayoutView",
            "grid_template_rows": null,
            "right": null,
            "justify_content": null,
            "_view_module": "@jupyter-widgets/base",
            "overflow": null,
            "_model_module_version": "1.2.0",
            "_view_count": null,
            "flex_flow": null,
            "width": null,
            "min_width": null,
            "border": null,
            "align_items": null,
            "bottom": null,
            "_model_module": "@jupyter-widgets/base",
            "top": null,
            "grid_column": null,
            "overflow_y": null,
            "overflow_x": null,
            "grid_auto_flow": null,
            "grid_area": null,
            "grid_template_columns": null,
            "flex": null,
            "_model_name": "LayoutModel",
            "justify_items": null,
            "grid_row": null,
            "max_height": null,
            "align_content": null,
            "visibility": null,
            "align_self": null,
            "height": null,
            "min_height": null,
            "padding": null,
            "grid_auto_rows": null,
            "grid_gap": null,
            "max_width": null,
            "order": null,
            "_view_module_version": "1.2.0",
            "grid_template_areas": null,
            "object_position": null,
            "object_fit": null,
            "grid_auto_columns": null,
            "margin": null,
            "display": null,
            "left": null
          }
        },
        "b657e55cfc864961aea9a3585b68c7f7": {
          "model_module": "@jupyter-widgets/controls",
          "model_name": "FloatProgressModel",
          "state": {
            "_view_name": "ProgressView",
            "style": "IPY_MODEL_fbda285998e1436ab328612d53c0ca57",
            "_dom_classes": [],
            "description": "",
            "_model_name": "FloatProgressModel",
            "bar_style": "success",
            "max": 9912422,
            "_view_module": "@jupyter-widgets/controls",
            "_model_module_version": "1.5.0",
            "value": 9912422,
            "_view_count": null,
            "_view_module_version": "1.5.0",
            "orientation": "horizontal",
            "min": 0,
            "description_tooltip": null,
            "_model_module": "@jupyter-widgets/controls",
            "layout": "IPY_MODEL_d2b7e317e54643fb8b1276c909d81fe1"
          }
        },
        "17d2ffb7e73940a2ac7b0b2dcab3e191": {
          "model_module": "@jupyter-widgets/controls",
          "model_name": "HTMLModel",
          "state": {
            "_view_name": "HTMLView",
            "style": "IPY_MODEL_97445677aa8e41939a5505867d9060eb",
            "_dom_classes": [],
            "description": "",
            "_model_name": "HTMLModel",
            "placeholder": "​",
            "_view_module": "@jupyter-widgets/controls",
            "_model_module_version": "1.5.0",
            "value": " 9913344/? [00:01&lt;00:00, 6848567.61it/s]",
            "_view_count": null,
            "_view_module_version": "1.5.0",
            "description_tooltip": null,
            "_model_module": "@jupyter-widgets/controls",
            "layout": "IPY_MODEL_cf533f4ac6e540e09e414708ea7f1368"
          }
        },
        "fbda285998e1436ab328612d53c0ca57": {
          "model_module": "@jupyter-widgets/controls",
          "model_name": "ProgressStyleModel",
          "state": {
            "_view_name": "StyleView",
            "_model_name": "ProgressStyleModel",
            "description_width": "initial",
            "_view_module": "@jupyter-widgets/base",
            "_model_module_version": "1.5.0",
            "_view_count": null,
            "_view_module_version": "1.2.0",
            "bar_color": null,
            "_model_module": "@jupyter-widgets/controls"
          }
        },
        "d2b7e317e54643fb8b1276c909d81fe1": {
          "model_module": "@jupyter-widgets/base",
          "model_name": "LayoutModel",
          "state": {
            "_view_name": "LayoutView",
            "grid_template_rows": null,
            "right": null,
            "justify_content": null,
            "_view_module": "@jupyter-widgets/base",
            "overflow": null,
            "_model_module_version": "1.2.0",
            "_view_count": null,
            "flex_flow": null,
            "width": null,
            "min_width": null,
            "border": null,
            "align_items": null,
            "bottom": null,
            "_model_module": "@jupyter-widgets/base",
            "top": null,
            "grid_column": null,
            "overflow_y": null,
            "overflow_x": null,
            "grid_auto_flow": null,
            "grid_area": null,
            "grid_template_columns": null,
            "flex": null,
            "_model_name": "LayoutModel",
            "justify_items": null,
            "grid_row": null,
            "max_height": null,
            "align_content": null,
            "visibility": null,
            "align_self": null,
            "height": null,
            "min_height": null,
            "padding": null,
            "grid_auto_rows": null,
            "grid_gap": null,
            "max_width": null,
            "order": null,
            "_view_module_version": "1.2.0",
            "grid_template_areas": null,
            "object_position": null,
            "object_fit": null,
            "grid_auto_columns": null,
            "margin": null,
            "display": null,
            "left": null
          }
        },
        "97445677aa8e41939a5505867d9060eb": {
          "model_module": "@jupyter-widgets/controls",
          "model_name": "DescriptionStyleModel",
          "state": {
            "_view_name": "StyleView",
            "_model_name": "DescriptionStyleModel",
            "description_width": "",
            "_view_module": "@jupyter-widgets/base",
            "_model_module_version": "1.5.0",
            "_view_count": null,
            "_view_module_version": "1.2.0",
            "_model_module": "@jupyter-widgets/controls"
          }
        },
        "cf533f4ac6e540e09e414708ea7f1368": {
          "model_module": "@jupyter-widgets/base",
          "model_name": "LayoutModel",
          "state": {
            "_view_name": "LayoutView",
            "grid_template_rows": null,
            "right": null,
            "justify_content": null,
            "_view_module": "@jupyter-widgets/base",
            "overflow": null,
            "_model_module_version": "1.2.0",
            "_view_count": null,
            "flex_flow": null,
            "width": null,
            "min_width": null,
            "border": null,
            "align_items": null,
            "bottom": null,
            "_model_module": "@jupyter-widgets/base",
            "top": null,
            "grid_column": null,
            "overflow_y": null,
            "overflow_x": null,
            "grid_auto_flow": null,
            "grid_area": null,
            "grid_template_columns": null,
            "flex": null,
            "_model_name": "LayoutModel",
            "justify_items": null,
            "grid_row": null,
            "max_height": null,
            "align_content": null,
            "visibility": null,
            "align_self": null,
            "height": null,
            "min_height": null,
            "padding": null,
            "grid_auto_rows": null,
            "grid_gap": null,
            "max_width": null,
            "order": null,
            "_view_module_version": "1.2.0",
            "grid_template_areas": null,
            "object_position": null,
            "object_fit": null,
            "grid_auto_columns": null,
            "margin": null,
            "display": null,
            "left": null
          }
        },
        "fd771a959c8b4395851a9d54e6a62fcf": {
          "model_module": "@jupyter-widgets/controls",
          "model_name": "HBoxModel",
          "state": {
            "_view_name": "HBoxView",
            "_dom_classes": [],
            "_model_name": "HBoxModel",
            "_view_module": "@jupyter-widgets/controls",
            "_model_module_version": "1.5.0",
            "_view_count": null,
            "_view_module_version": "1.5.0",
            "box_style": "",
            "layout": "IPY_MODEL_7a886fd74fd240298b8a5a96dd6bb36e",
            "_model_module": "@jupyter-widgets/controls",
            "children": [
              "IPY_MODEL_450f39275da044fb82a4aacecf7bbcd1",
              "IPY_MODEL_8769b49b74e14d209919ba95756dc13d"
            ]
          }
        },
        "7a886fd74fd240298b8a5a96dd6bb36e": {
          "model_module": "@jupyter-widgets/base",
          "model_name": "LayoutModel",
          "state": {
            "_view_name": "LayoutView",
            "grid_template_rows": null,
            "right": null,
            "justify_content": null,
            "_view_module": "@jupyter-widgets/base",
            "overflow": null,
            "_model_module_version": "1.2.0",
            "_view_count": null,
            "flex_flow": null,
            "width": null,
            "min_width": null,
            "border": null,
            "align_items": null,
            "bottom": null,
            "_model_module": "@jupyter-widgets/base",
            "top": null,
            "grid_column": null,
            "overflow_y": null,
            "overflow_x": null,
            "grid_auto_flow": null,
            "grid_area": null,
            "grid_template_columns": null,
            "flex": null,
            "_model_name": "LayoutModel",
            "justify_items": null,
            "grid_row": null,
            "max_height": null,
            "align_content": null,
            "visibility": null,
            "align_self": null,
            "height": null,
            "min_height": null,
            "padding": null,
            "grid_auto_rows": null,
            "grid_gap": null,
            "max_width": null,
            "order": null,
            "_view_module_version": "1.2.0",
            "grid_template_areas": null,
            "object_position": null,
            "object_fit": null,
            "grid_auto_columns": null,
            "margin": null,
            "display": null,
            "left": null
          }
        },
        "450f39275da044fb82a4aacecf7bbcd1": {
          "model_module": "@jupyter-widgets/controls",
          "model_name": "FloatProgressModel",
          "state": {
            "_view_name": "ProgressView",
            "style": "IPY_MODEL_5e5cf9e58355465597c37b82ea99deac",
            "_dom_classes": [],
            "description": "",
            "_model_name": "FloatProgressModel",
            "bar_style": "success",
            "max": 28881,
            "_view_module": "@jupyter-widgets/controls",
            "_model_module_version": "1.5.0",
            "value": 28881,
            "_view_count": null,
            "_view_module_version": "1.5.0",
            "orientation": "horizontal",
            "min": 0,
            "description_tooltip": null,
            "_model_module": "@jupyter-widgets/controls",
            "layout": "IPY_MODEL_db9bf1c74f2f4a119b7b574329879c52"
          }
        },
        "8769b49b74e14d209919ba95756dc13d": {
          "model_module": "@jupyter-widgets/controls",
          "model_name": "HTMLModel",
          "state": {
            "_view_name": "HTMLView",
            "style": "IPY_MODEL_d4d8b460f6004b6eb7abcaf71aba2382",
            "_dom_classes": [],
            "description": "",
            "_model_name": "HTMLModel",
            "placeholder": "​",
            "_view_module": "@jupyter-widgets/controls",
            "_model_module_version": "1.5.0",
            "value": " 29696/? [00:01&lt;00:00, 28411.61it/s]",
            "_view_count": null,
            "_view_module_version": "1.5.0",
            "description_tooltip": null,
            "_model_module": "@jupyter-widgets/controls",
            "layout": "IPY_MODEL_ee22960bdfe9448ead83914312ce7ad2"
          }
        },
        "5e5cf9e58355465597c37b82ea99deac": {
          "model_module": "@jupyter-widgets/controls",
          "model_name": "ProgressStyleModel",
          "state": {
            "_view_name": "StyleView",
            "_model_name": "ProgressStyleModel",
            "description_width": "initial",
            "_view_module": "@jupyter-widgets/base",
            "_model_module_version": "1.5.0",
            "_view_count": null,
            "_view_module_version": "1.2.0",
            "bar_color": null,
            "_model_module": "@jupyter-widgets/controls"
          }
        },
        "db9bf1c74f2f4a119b7b574329879c52": {
          "model_module": "@jupyter-widgets/base",
          "model_name": "LayoutModel",
          "state": {
            "_view_name": "LayoutView",
            "grid_template_rows": null,
            "right": null,
            "justify_content": null,
            "_view_module": "@jupyter-widgets/base",
            "overflow": null,
            "_model_module_version": "1.2.0",
            "_view_count": null,
            "flex_flow": null,
            "width": null,
            "min_width": null,
            "border": null,
            "align_items": null,
            "bottom": null,
            "_model_module": "@jupyter-widgets/base",
            "top": null,
            "grid_column": null,
            "overflow_y": null,
            "overflow_x": null,
            "grid_auto_flow": null,
            "grid_area": null,
            "grid_template_columns": null,
            "flex": null,
            "_model_name": "LayoutModel",
            "justify_items": null,
            "grid_row": null,
            "max_height": null,
            "align_content": null,
            "visibility": null,
            "align_self": null,
            "height": null,
            "min_height": null,
            "padding": null,
            "grid_auto_rows": null,
            "grid_gap": null,
            "max_width": null,
            "order": null,
            "_view_module_version": "1.2.0",
            "grid_template_areas": null,
            "object_position": null,
            "object_fit": null,
            "grid_auto_columns": null,
            "margin": null,
            "display": null,
            "left": null
          }
        },
        "d4d8b460f6004b6eb7abcaf71aba2382": {
          "model_module": "@jupyter-widgets/controls",
          "model_name": "DescriptionStyleModel",
          "state": {
            "_view_name": "StyleView",
            "_model_name": "DescriptionStyleModel",
            "description_width": "",
            "_view_module": "@jupyter-widgets/base",
            "_model_module_version": "1.5.0",
            "_view_count": null,
            "_view_module_version": "1.2.0",
            "_model_module": "@jupyter-widgets/controls"
          }
        },
        "ee22960bdfe9448ead83914312ce7ad2": {
          "model_module": "@jupyter-widgets/base",
          "model_name": "LayoutModel",
          "state": {
            "_view_name": "LayoutView",
            "grid_template_rows": null,
            "right": null,
            "justify_content": null,
            "_view_module": "@jupyter-widgets/base",
            "overflow": null,
            "_model_module_version": "1.2.0",
            "_view_count": null,
            "flex_flow": null,
            "width": null,
            "min_width": null,
            "border": null,
            "align_items": null,
            "bottom": null,
            "_model_module": "@jupyter-widgets/base",
            "top": null,
            "grid_column": null,
            "overflow_y": null,
            "overflow_x": null,
            "grid_auto_flow": null,
            "grid_area": null,
            "grid_template_columns": null,
            "flex": null,
            "_model_name": "LayoutModel",
            "justify_items": null,
            "grid_row": null,
            "max_height": null,
            "align_content": null,
            "visibility": null,
            "align_self": null,
            "height": null,
            "min_height": null,
            "padding": null,
            "grid_auto_rows": null,
            "grid_gap": null,
            "max_width": null,
            "order": null,
            "_view_module_version": "1.2.0",
            "grid_template_areas": null,
            "object_position": null,
            "object_fit": null,
            "grid_auto_columns": null,
            "margin": null,
            "display": null,
            "left": null
          }
        },
        "b164a8d276444725a9d7b27ddce370c0": {
          "model_module": "@jupyter-widgets/controls",
          "model_name": "HBoxModel",
          "state": {
            "_view_name": "HBoxView",
            "_dom_classes": [],
            "_model_name": "HBoxModel",
            "_view_module": "@jupyter-widgets/controls",
            "_model_module_version": "1.5.0",
            "_view_count": null,
            "_view_module_version": "1.5.0",
            "box_style": "",
            "layout": "IPY_MODEL_3ad6034d0c1f4b918104f91bffdbdc89",
            "_model_module": "@jupyter-widgets/controls",
            "children": [
              "IPY_MODEL_c971ae396c524a9a9b88423c42b71047",
              "IPY_MODEL_02d1f1a6754544fba66ccecb3cf797a2"
            ]
          }
        },
        "3ad6034d0c1f4b918104f91bffdbdc89": {
          "model_module": "@jupyter-widgets/base",
          "model_name": "LayoutModel",
          "state": {
            "_view_name": "LayoutView",
            "grid_template_rows": null,
            "right": null,
            "justify_content": null,
            "_view_module": "@jupyter-widgets/base",
            "overflow": null,
            "_model_module_version": "1.2.0",
            "_view_count": null,
            "flex_flow": null,
            "width": null,
            "min_width": null,
            "border": null,
            "align_items": null,
            "bottom": null,
            "_model_module": "@jupyter-widgets/base",
            "top": null,
            "grid_column": null,
            "overflow_y": null,
            "overflow_x": null,
            "grid_auto_flow": null,
            "grid_area": null,
            "grid_template_columns": null,
            "flex": null,
            "_model_name": "LayoutModel",
            "justify_items": null,
            "grid_row": null,
            "max_height": null,
            "align_content": null,
            "visibility": null,
            "align_self": null,
            "height": null,
            "min_height": null,
            "padding": null,
            "grid_auto_rows": null,
            "grid_gap": null,
            "max_width": null,
            "order": null,
            "_view_module_version": "1.2.0",
            "grid_template_areas": null,
            "object_position": null,
            "object_fit": null,
            "grid_auto_columns": null,
            "margin": null,
            "display": null,
            "left": null
          }
        },
        "c971ae396c524a9a9b88423c42b71047": {
          "model_module": "@jupyter-widgets/controls",
          "model_name": "FloatProgressModel",
          "state": {
            "_view_name": "ProgressView",
            "style": "IPY_MODEL_72122d97a80c4607ba1527f011a9760c",
            "_dom_classes": [],
            "description": "",
            "_model_name": "FloatProgressModel",
            "bar_style": "success",
            "max": 1648877,
            "_view_module": "@jupyter-widgets/controls",
            "_model_module_version": "1.5.0",
            "value": 1648877,
            "_view_count": null,
            "_view_module_version": "1.5.0",
            "orientation": "horizontal",
            "min": 0,
            "description_tooltip": null,
            "_model_module": "@jupyter-widgets/controls",
            "layout": "IPY_MODEL_f140abe7cb0044dd8143cf5f6ccf04e0"
          }
        },
        "02d1f1a6754544fba66ccecb3cf797a2": {
          "model_module": "@jupyter-widgets/controls",
          "model_name": "HTMLModel",
          "state": {
            "_view_name": "HTMLView",
            "style": "IPY_MODEL_eca8525dd0fe41059af782b0725b1df3",
            "_dom_classes": [],
            "description": "",
            "_model_name": "HTMLModel",
            "placeholder": "​",
            "_view_module": "@jupyter-widgets/controls",
            "_model_module_version": "1.5.0",
            "value": " 1649664/? [00:49&lt;00:00, 33055.53it/s]",
            "_view_count": null,
            "_view_module_version": "1.5.0",
            "description_tooltip": null,
            "_model_module": "@jupyter-widgets/controls",
            "layout": "IPY_MODEL_2cee928d4f39480bacfcabea9733176b"
          }
        },
        "72122d97a80c4607ba1527f011a9760c": {
          "model_module": "@jupyter-widgets/controls",
          "model_name": "ProgressStyleModel",
          "state": {
            "_view_name": "StyleView",
            "_model_name": "ProgressStyleModel",
            "description_width": "initial",
            "_view_module": "@jupyter-widgets/base",
            "_model_module_version": "1.5.0",
            "_view_count": null,
            "_view_module_version": "1.2.0",
            "bar_color": null,
            "_model_module": "@jupyter-widgets/controls"
          }
        },
        "f140abe7cb0044dd8143cf5f6ccf04e0": {
          "model_module": "@jupyter-widgets/base",
          "model_name": "LayoutModel",
          "state": {
            "_view_name": "LayoutView",
            "grid_template_rows": null,
            "right": null,
            "justify_content": null,
            "_view_module": "@jupyter-widgets/base",
            "overflow": null,
            "_model_module_version": "1.2.0",
            "_view_count": null,
            "flex_flow": null,
            "width": null,
            "min_width": null,
            "border": null,
            "align_items": null,
            "bottom": null,
            "_model_module": "@jupyter-widgets/base",
            "top": null,
            "grid_column": null,
            "overflow_y": null,
            "overflow_x": null,
            "grid_auto_flow": null,
            "grid_area": null,
            "grid_template_columns": null,
            "flex": null,
            "_model_name": "LayoutModel",
            "justify_items": null,
            "grid_row": null,
            "max_height": null,
            "align_content": null,
            "visibility": null,
            "align_self": null,
            "height": null,
            "min_height": null,
            "padding": null,
            "grid_auto_rows": null,
            "grid_gap": null,
            "max_width": null,
            "order": null,
            "_view_module_version": "1.2.0",
            "grid_template_areas": null,
            "object_position": null,
            "object_fit": null,
            "grid_auto_columns": null,
            "margin": null,
            "display": null,
            "left": null
          }
        },
        "eca8525dd0fe41059af782b0725b1df3": {
          "model_module": "@jupyter-widgets/controls",
          "model_name": "DescriptionStyleModel",
          "state": {
            "_view_name": "StyleView",
            "_model_name": "DescriptionStyleModel",
            "description_width": "",
            "_view_module": "@jupyter-widgets/base",
            "_model_module_version": "1.5.0",
            "_view_count": null,
            "_view_module_version": "1.2.0",
            "_model_module": "@jupyter-widgets/controls"
          }
        },
        "2cee928d4f39480bacfcabea9733176b": {
          "model_module": "@jupyter-widgets/base",
          "model_name": "LayoutModel",
          "state": {
            "_view_name": "LayoutView",
            "grid_template_rows": null,
            "right": null,
            "justify_content": null,
            "_view_module": "@jupyter-widgets/base",
            "overflow": null,
            "_model_module_version": "1.2.0",
            "_view_count": null,
            "flex_flow": null,
            "width": null,
            "min_width": null,
            "border": null,
            "align_items": null,
            "bottom": null,
            "_model_module": "@jupyter-widgets/base",
            "top": null,
            "grid_column": null,
            "overflow_y": null,
            "overflow_x": null,
            "grid_auto_flow": null,
            "grid_area": null,
            "grid_template_columns": null,
            "flex": null,
            "_model_name": "LayoutModel",
            "justify_items": null,
            "grid_row": null,
            "max_height": null,
            "align_content": null,
            "visibility": null,
            "align_self": null,
            "height": null,
            "min_height": null,
            "padding": null,
            "grid_auto_rows": null,
            "grid_gap": null,
            "max_width": null,
            "order": null,
            "_view_module_version": "1.2.0",
            "grid_template_areas": null,
            "object_position": null,
            "object_fit": null,
            "grid_auto_columns": null,
            "margin": null,
            "display": null,
            "left": null
          }
        },
        "034d806b858b407992c12eaa5df65c01": {
          "model_module": "@jupyter-widgets/controls",
          "model_name": "HBoxModel",
          "state": {
            "_view_name": "HBoxView",
            "_dom_classes": [],
            "_model_name": "HBoxModel",
            "_view_module": "@jupyter-widgets/controls",
            "_model_module_version": "1.5.0",
            "_view_count": null,
            "_view_module_version": "1.5.0",
            "box_style": "",
            "layout": "IPY_MODEL_37af87b9c3ae47f1a75af2699ccd12e4",
            "_model_module": "@jupyter-widgets/controls",
            "children": [
              "IPY_MODEL_7f76f3b9faca45e6a9fe3e5784002e35",
              "IPY_MODEL_470abb7c288b40749650ecb012aaa2c1"
            ]
          }
        },
        "37af87b9c3ae47f1a75af2699ccd12e4": {
          "model_module": "@jupyter-widgets/base",
          "model_name": "LayoutModel",
          "state": {
            "_view_name": "LayoutView",
            "grid_template_rows": null,
            "right": null,
            "justify_content": null,
            "_view_module": "@jupyter-widgets/base",
            "overflow": null,
            "_model_module_version": "1.2.0",
            "_view_count": null,
            "flex_flow": null,
            "width": null,
            "min_width": null,
            "border": null,
            "align_items": null,
            "bottom": null,
            "_model_module": "@jupyter-widgets/base",
            "top": null,
            "grid_column": null,
            "overflow_y": null,
            "overflow_x": null,
            "grid_auto_flow": null,
            "grid_area": null,
            "grid_template_columns": null,
            "flex": null,
            "_model_name": "LayoutModel",
            "justify_items": null,
            "grid_row": null,
            "max_height": null,
            "align_content": null,
            "visibility": null,
            "align_self": null,
            "height": null,
            "min_height": null,
            "padding": null,
            "grid_auto_rows": null,
            "grid_gap": null,
            "max_width": null,
            "order": null,
            "_view_module_version": "1.2.0",
            "grid_template_areas": null,
            "object_position": null,
            "object_fit": null,
            "grid_auto_columns": null,
            "margin": null,
            "display": null,
            "left": null
          }
        },
        "7f76f3b9faca45e6a9fe3e5784002e35": {
          "model_module": "@jupyter-widgets/controls",
          "model_name": "FloatProgressModel",
          "state": {
            "_view_name": "ProgressView",
            "style": "IPY_MODEL_eb3d5d8a1d2b4867809515be5cac1f24",
            "_dom_classes": [],
            "description": "",
            "_model_name": "FloatProgressModel",
            "bar_style": "success",
            "max": 4542,
            "_view_module": "@jupyter-widgets/controls",
            "_model_module_version": "1.5.0",
            "value": 4542,
            "_view_count": null,
            "_view_module_version": "1.5.0",
            "orientation": "horizontal",
            "min": 0,
            "description_tooltip": null,
            "_model_module": "@jupyter-widgets/controls",
            "layout": "IPY_MODEL_52791f07f6504b658bdcc7ee7febb12c"
          }
        },
        "470abb7c288b40749650ecb012aaa2c1": {
          "model_module": "@jupyter-widgets/controls",
          "model_name": "HTMLModel",
          "state": {
            "_view_name": "HTMLView",
            "style": "IPY_MODEL_395ec993471f4b4da32762d227368875",
            "_dom_classes": [],
            "description": "",
            "_model_name": "HTMLModel",
            "placeholder": "​",
            "_view_module": "@jupyter-widgets/controls",
            "_model_module_version": "1.5.0",
            "value": " 5120/? [00:03&lt;00:00, 1605.28it/s]",
            "_view_count": null,
            "_view_module_version": "1.5.0",
            "description_tooltip": null,
            "_model_module": "@jupyter-widgets/controls",
            "layout": "IPY_MODEL_8a35ed057599439abe409f5fb6a3dedb"
          }
        },
        "eb3d5d8a1d2b4867809515be5cac1f24": {
          "model_module": "@jupyter-widgets/controls",
          "model_name": "ProgressStyleModel",
          "state": {
            "_view_name": "StyleView",
            "_model_name": "ProgressStyleModel",
            "description_width": "initial",
            "_view_module": "@jupyter-widgets/base",
            "_model_module_version": "1.5.0",
            "_view_count": null,
            "_view_module_version": "1.2.0",
            "bar_color": null,
            "_model_module": "@jupyter-widgets/controls"
          }
        },
        "52791f07f6504b658bdcc7ee7febb12c": {
          "model_module": "@jupyter-widgets/base",
          "model_name": "LayoutModel",
          "state": {
            "_view_name": "LayoutView",
            "grid_template_rows": null,
            "right": null,
            "justify_content": null,
            "_view_module": "@jupyter-widgets/base",
            "overflow": null,
            "_model_module_version": "1.2.0",
            "_view_count": null,
            "flex_flow": null,
            "width": null,
            "min_width": null,
            "border": null,
            "align_items": null,
            "bottom": null,
            "_model_module": "@jupyter-widgets/base",
            "top": null,
            "grid_column": null,
            "overflow_y": null,
            "overflow_x": null,
            "grid_auto_flow": null,
            "grid_area": null,
            "grid_template_columns": null,
            "flex": null,
            "_model_name": "LayoutModel",
            "justify_items": null,
            "grid_row": null,
            "max_height": null,
            "align_content": null,
            "visibility": null,
            "align_self": null,
            "height": null,
            "min_height": null,
            "padding": null,
            "grid_auto_rows": null,
            "grid_gap": null,
            "max_width": null,
            "order": null,
            "_view_module_version": "1.2.0",
            "grid_template_areas": null,
            "object_position": null,
            "object_fit": null,
            "grid_auto_columns": null,
            "margin": null,
            "display": null,
            "left": null
          }
        },
        "395ec993471f4b4da32762d227368875": {
          "model_module": "@jupyter-widgets/controls",
          "model_name": "DescriptionStyleModel",
          "state": {
            "_view_name": "StyleView",
            "_model_name": "DescriptionStyleModel",
            "description_width": "",
            "_view_module": "@jupyter-widgets/base",
            "_model_module_version": "1.5.0",
            "_view_count": null,
            "_view_module_version": "1.2.0",
            "_model_module": "@jupyter-widgets/controls"
          }
        },
        "8a35ed057599439abe409f5fb6a3dedb": {
          "model_module": "@jupyter-widgets/base",
          "model_name": "LayoutModel",
          "state": {
            "_view_name": "LayoutView",
            "grid_template_rows": null,
            "right": null,
            "justify_content": null,
            "_view_module": "@jupyter-widgets/base",
            "overflow": null,
            "_model_module_version": "1.2.0",
            "_view_count": null,
            "flex_flow": null,
            "width": null,
            "min_width": null,
            "border": null,
            "align_items": null,
            "bottom": null,
            "_model_module": "@jupyter-widgets/base",
            "top": null,
            "grid_column": null,
            "overflow_y": null,
            "overflow_x": null,
            "grid_auto_flow": null,
            "grid_area": null,
            "grid_template_columns": null,
            "flex": null,
            "_model_name": "LayoutModel",
            "justify_items": null,
            "grid_row": null,
            "max_height": null,
            "align_content": null,
            "visibility": null,
            "align_self": null,
            "height": null,
            "min_height": null,
            "padding": null,
            "grid_auto_rows": null,
            "grid_gap": null,
            "max_width": null,
            "order": null,
            "_view_module_version": "1.2.0",
            "grid_template_areas": null,
            "object_position": null,
            "object_fit": null,
            "grid_auto_columns": null,
            "margin": null,
            "display": null,
            "left": null
          }
        },
        "d81519b664de4117a8f5bdafed1e6582": {
          "model_module": "@jupyter-widgets/controls",
          "model_name": "HBoxModel",
          "state": {
            "_view_name": "HBoxView",
            "_dom_classes": [],
            "_model_name": "HBoxModel",
            "_view_module": "@jupyter-widgets/controls",
            "_model_module_version": "1.5.0",
            "_view_count": null,
            "_view_module_version": "1.5.0",
            "box_style": "",
            "layout": "IPY_MODEL_d842200f4d064c7589d20fb06e542494",
            "_model_module": "@jupyter-widgets/controls",
            "children": [
              "IPY_MODEL_17f93a5ccdbc4fd184779e616fd974ee",
              "IPY_MODEL_21886e8d31da480ba9bc4b5fd0144a5b"
            ]
          }
        },
        "d842200f4d064c7589d20fb06e542494": {
          "model_module": "@jupyter-widgets/base",
          "model_name": "LayoutModel",
          "state": {
            "_view_name": "LayoutView",
            "grid_template_rows": null,
            "right": null,
            "justify_content": null,
            "_view_module": "@jupyter-widgets/base",
            "overflow": null,
            "_model_module_version": "1.2.0",
            "_view_count": null,
            "flex_flow": null,
            "width": null,
            "min_width": null,
            "border": null,
            "align_items": null,
            "bottom": null,
            "_model_module": "@jupyter-widgets/base",
            "top": null,
            "grid_column": null,
            "overflow_y": null,
            "overflow_x": null,
            "grid_auto_flow": null,
            "grid_area": null,
            "grid_template_columns": null,
            "flex": null,
            "_model_name": "LayoutModel",
            "justify_items": null,
            "grid_row": null,
            "max_height": null,
            "align_content": null,
            "visibility": null,
            "align_self": null,
            "height": null,
            "min_height": null,
            "padding": null,
            "grid_auto_rows": null,
            "grid_gap": null,
            "max_width": null,
            "order": null,
            "_view_module_version": "1.2.0",
            "grid_template_areas": null,
            "object_position": null,
            "object_fit": null,
            "grid_auto_columns": null,
            "margin": null,
            "display": null,
            "left": null
          }
        },
        "17f93a5ccdbc4fd184779e616fd974ee": {
          "model_module": "@jupyter-widgets/controls",
          "model_name": "FloatProgressModel",
          "state": {
            "_view_name": "ProgressView",
            "style": "IPY_MODEL_7dd5a5d4c28d4af39ee3dbd7e178bf3f",
            "_dom_classes": [],
            "description": "",
            "_model_name": "FloatProgressModel",
            "bar_style": "success",
            "max": 9912422,
            "_view_module": "@jupyter-widgets/controls",
            "_model_module_version": "1.5.0",
            "value": 9912422,
            "_view_count": null,
            "_view_module_version": "1.5.0",
            "orientation": "horizontal",
            "min": 0,
            "description_tooltip": null,
            "_model_module": "@jupyter-widgets/controls",
            "layout": "IPY_MODEL_601a0a06d4e043f28e6b52060b6a9cc4"
          }
        },
        "21886e8d31da480ba9bc4b5fd0144a5b": {
          "model_module": "@jupyter-widgets/controls",
          "model_name": "HTMLModel",
          "state": {
            "_view_name": "HTMLView",
            "style": "IPY_MODEL_c41f1983a13145aa87fcdaeec2d69f04",
            "_dom_classes": [],
            "description": "",
            "_model_name": "HTMLModel",
            "placeholder": "​",
            "_view_module": "@jupyter-widgets/controls",
            "_model_module_version": "1.5.0",
            "value": " 9913344/? [00:02&lt;00:00, 4671211.40it/s]",
            "_view_count": null,
            "_view_module_version": "1.5.0",
            "description_tooltip": null,
            "_model_module": "@jupyter-widgets/controls",
            "layout": "IPY_MODEL_3c60e4f2954a4711b026eb08641c721c"
          }
        },
        "7dd5a5d4c28d4af39ee3dbd7e178bf3f": {
          "model_module": "@jupyter-widgets/controls",
          "model_name": "ProgressStyleModel",
          "state": {
            "_view_name": "StyleView",
            "_model_name": "ProgressStyleModel",
            "description_width": "initial",
            "_view_module": "@jupyter-widgets/base",
            "_model_module_version": "1.5.0",
            "_view_count": null,
            "_view_module_version": "1.2.0",
            "bar_color": null,
            "_model_module": "@jupyter-widgets/controls"
          }
        },
        "601a0a06d4e043f28e6b52060b6a9cc4": {
          "model_module": "@jupyter-widgets/base",
          "model_name": "LayoutModel",
          "state": {
            "_view_name": "LayoutView",
            "grid_template_rows": null,
            "right": null,
            "justify_content": null,
            "_view_module": "@jupyter-widgets/base",
            "overflow": null,
            "_model_module_version": "1.2.0",
            "_view_count": null,
            "flex_flow": null,
            "width": null,
            "min_width": null,
            "border": null,
            "align_items": null,
            "bottom": null,
            "_model_module": "@jupyter-widgets/base",
            "top": null,
            "grid_column": null,
            "overflow_y": null,
            "overflow_x": null,
            "grid_auto_flow": null,
            "grid_area": null,
            "grid_template_columns": null,
            "flex": null,
            "_model_name": "LayoutModel",
            "justify_items": null,
            "grid_row": null,
            "max_height": null,
            "align_content": null,
            "visibility": null,
            "align_self": null,
            "height": null,
            "min_height": null,
            "padding": null,
            "grid_auto_rows": null,
            "grid_gap": null,
            "max_width": null,
            "order": null,
            "_view_module_version": "1.2.0",
            "grid_template_areas": null,
            "object_position": null,
            "object_fit": null,
            "grid_auto_columns": null,
            "margin": null,
            "display": null,
            "left": null
          }
        },
        "c41f1983a13145aa87fcdaeec2d69f04": {
          "model_module": "@jupyter-widgets/controls",
          "model_name": "DescriptionStyleModel",
          "state": {
            "_view_name": "StyleView",
            "_model_name": "DescriptionStyleModel",
            "description_width": "",
            "_view_module": "@jupyter-widgets/base",
            "_model_module_version": "1.5.0",
            "_view_count": null,
            "_view_module_version": "1.2.0",
            "_model_module": "@jupyter-widgets/controls"
          }
        },
        "3c60e4f2954a4711b026eb08641c721c": {
          "model_module": "@jupyter-widgets/base",
          "model_name": "LayoutModel",
          "state": {
            "_view_name": "LayoutView",
            "grid_template_rows": null,
            "right": null,
            "justify_content": null,
            "_view_module": "@jupyter-widgets/base",
            "overflow": null,
            "_model_module_version": "1.2.0",
            "_view_count": null,
            "flex_flow": null,
            "width": null,
            "min_width": null,
            "border": null,
            "align_items": null,
            "bottom": null,
            "_model_module": "@jupyter-widgets/base",
            "top": null,
            "grid_column": null,
            "overflow_y": null,
            "overflow_x": null,
            "grid_auto_flow": null,
            "grid_area": null,
            "grid_template_columns": null,
            "flex": null,
            "_model_name": "LayoutModel",
            "justify_items": null,
            "grid_row": null,
            "max_height": null,
            "align_content": null,
            "visibility": null,
            "align_self": null,
            "height": null,
            "min_height": null,
            "padding": null,
            "grid_auto_rows": null,
            "grid_gap": null,
            "max_width": null,
            "order": null,
            "_view_module_version": "1.2.0",
            "grid_template_areas": null,
            "object_position": null,
            "object_fit": null,
            "grid_auto_columns": null,
            "margin": null,
            "display": null,
            "left": null
          }
        },
        "7ea140ade80e49f1a1cdf979c8dd6dcf": {
          "model_module": "@jupyter-widgets/controls",
          "model_name": "HBoxModel",
          "state": {
            "_view_name": "HBoxView",
            "_dom_classes": [],
            "_model_name": "HBoxModel",
            "_view_module": "@jupyter-widgets/controls",
            "_model_module_version": "1.5.0",
            "_view_count": null,
            "_view_module_version": "1.5.0",
            "box_style": "",
            "layout": "IPY_MODEL_0ff8e6da15534ee39e0531d790fdc75c",
            "_model_module": "@jupyter-widgets/controls",
            "children": [
              "IPY_MODEL_1a43ab29d5274717a4827033d8d04a2b",
              "IPY_MODEL_1154b4841f094bec819d79c5c433749e"
            ]
          }
        },
        "0ff8e6da15534ee39e0531d790fdc75c": {
          "model_module": "@jupyter-widgets/base",
          "model_name": "LayoutModel",
          "state": {
            "_view_name": "LayoutView",
            "grid_template_rows": null,
            "right": null,
            "justify_content": null,
            "_view_module": "@jupyter-widgets/base",
            "overflow": null,
            "_model_module_version": "1.2.0",
            "_view_count": null,
            "flex_flow": null,
            "width": null,
            "min_width": null,
            "border": null,
            "align_items": null,
            "bottom": null,
            "_model_module": "@jupyter-widgets/base",
            "top": null,
            "grid_column": null,
            "overflow_y": null,
            "overflow_x": null,
            "grid_auto_flow": null,
            "grid_area": null,
            "grid_template_columns": null,
            "flex": null,
            "_model_name": "LayoutModel",
            "justify_items": null,
            "grid_row": null,
            "max_height": null,
            "align_content": null,
            "visibility": null,
            "align_self": null,
            "height": null,
            "min_height": null,
            "padding": null,
            "grid_auto_rows": null,
            "grid_gap": null,
            "max_width": null,
            "order": null,
            "_view_module_version": "1.2.0",
            "grid_template_areas": null,
            "object_position": null,
            "object_fit": null,
            "grid_auto_columns": null,
            "margin": null,
            "display": null,
            "left": null
          }
        },
        "1a43ab29d5274717a4827033d8d04a2b": {
          "model_module": "@jupyter-widgets/controls",
          "model_name": "FloatProgressModel",
          "state": {
            "_view_name": "ProgressView",
            "style": "IPY_MODEL_fc76090a7d1e49fdb7dea5c8e036d795",
            "_dom_classes": [],
            "description": "",
            "_model_name": "FloatProgressModel",
            "bar_style": "success",
            "max": 28881,
            "_view_module": "@jupyter-widgets/controls",
            "_model_module_version": "1.5.0",
            "value": 28881,
            "_view_count": null,
            "_view_module_version": "1.5.0",
            "orientation": "horizontal",
            "min": 0,
            "description_tooltip": null,
            "_model_module": "@jupyter-widgets/controls",
            "layout": "IPY_MODEL_7fd22e13095d479b9993fb8b9aa2720b"
          }
        },
        "1154b4841f094bec819d79c5c433749e": {
          "model_module": "@jupyter-widgets/controls",
          "model_name": "HTMLModel",
          "state": {
            "_view_name": "HTMLView",
            "style": "IPY_MODEL_67ea3740cd69444bb1ab6b76b640d676",
            "_dom_classes": [],
            "description": "",
            "_model_name": "HTMLModel",
            "placeholder": "​",
            "_view_module": "@jupyter-widgets/controls",
            "_model_module_version": "1.5.0",
            "value": " 29696/? [00:45&lt;00:00, 657.62it/s]",
            "_view_count": null,
            "_view_module_version": "1.5.0",
            "description_tooltip": null,
            "_model_module": "@jupyter-widgets/controls",
            "layout": "IPY_MODEL_fb69a4972038467fa51849e493095bcd"
          }
        },
        "fc76090a7d1e49fdb7dea5c8e036d795": {
          "model_module": "@jupyter-widgets/controls",
          "model_name": "ProgressStyleModel",
          "state": {
            "_view_name": "StyleView",
            "_model_name": "ProgressStyleModel",
            "description_width": "initial",
            "_view_module": "@jupyter-widgets/base",
            "_model_module_version": "1.5.0",
            "_view_count": null,
            "_view_module_version": "1.2.0",
            "bar_color": null,
            "_model_module": "@jupyter-widgets/controls"
          }
        },
        "7fd22e13095d479b9993fb8b9aa2720b": {
          "model_module": "@jupyter-widgets/base",
          "model_name": "LayoutModel",
          "state": {
            "_view_name": "LayoutView",
            "grid_template_rows": null,
            "right": null,
            "justify_content": null,
            "_view_module": "@jupyter-widgets/base",
            "overflow": null,
            "_model_module_version": "1.2.0",
            "_view_count": null,
            "flex_flow": null,
            "width": null,
            "min_width": null,
            "border": null,
            "align_items": null,
            "bottom": null,
            "_model_module": "@jupyter-widgets/base",
            "top": null,
            "grid_column": null,
            "overflow_y": null,
            "overflow_x": null,
            "grid_auto_flow": null,
            "grid_area": null,
            "grid_template_columns": null,
            "flex": null,
            "_model_name": "LayoutModel",
            "justify_items": null,
            "grid_row": null,
            "max_height": null,
            "align_content": null,
            "visibility": null,
            "align_self": null,
            "height": null,
            "min_height": null,
            "padding": null,
            "grid_auto_rows": null,
            "grid_gap": null,
            "max_width": null,
            "order": null,
            "_view_module_version": "1.2.0",
            "grid_template_areas": null,
            "object_position": null,
            "object_fit": null,
            "grid_auto_columns": null,
            "margin": null,
            "display": null,
            "left": null
          }
        },
        "67ea3740cd69444bb1ab6b76b640d676": {
          "model_module": "@jupyter-widgets/controls",
          "model_name": "DescriptionStyleModel",
          "state": {
            "_view_name": "StyleView",
            "_model_name": "DescriptionStyleModel",
            "description_width": "",
            "_view_module": "@jupyter-widgets/base",
            "_model_module_version": "1.5.0",
            "_view_count": null,
            "_view_module_version": "1.2.0",
            "_model_module": "@jupyter-widgets/controls"
          }
        },
        "fb69a4972038467fa51849e493095bcd": {
          "model_module": "@jupyter-widgets/base",
          "model_name": "LayoutModel",
          "state": {
            "_view_name": "LayoutView",
            "grid_template_rows": null,
            "right": null,
            "justify_content": null,
            "_view_module": "@jupyter-widgets/base",
            "overflow": null,
            "_model_module_version": "1.2.0",
            "_view_count": null,
            "flex_flow": null,
            "width": null,
            "min_width": null,
            "border": null,
            "align_items": null,
            "bottom": null,
            "_model_module": "@jupyter-widgets/base",
            "top": null,
            "grid_column": null,
            "overflow_y": null,
            "overflow_x": null,
            "grid_auto_flow": null,
            "grid_area": null,
            "grid_template_columns": null,
            "flex": null,
            "_model_name": "LayoutModel",
            "justify_items": null,
            "grid_row": null,
            "max_height": null,
            "align_content": null,
            "visibility": null,
            "align_self": null,
            "height": null,
            "min_height": null,
            "padding": null,
            "grid_auto_rows": null,
            "grid_gap": null,
            "max_width": null,
            "order": null,
            "_view_module_version": "1.2.0",
            "grid_template_areas": null,
            "object_position": null,
            "object_fit": null,
            "grid_auto_columns": null,
            "margin": null,
            "display": null,
            "left": null
          }
        },
        "7236e5acc2f540ff9a0d45e8aa5f70da": {
          "model_module": "@jupyter-widgets/controls",
          "model_name": "HBoxModel",
          "state": {
            "_view_name": "HBoxView",
            "_dom_classes": [],
            "_model_name": "HBoxModel",
            "_view_module": "@jupyter-widgets/controls",
            "_model_module_version": "1.5.0",
            "_view_count": null,
            "_view_module_version": "1.5.0",
            "box_style": "",
            "layout": "IPY_MODEL_890aa33f11104282a5a9b9bfb451d42b",
            "_model_module": "@jupyter-widgets/controls",
            "children": [
              "IPY_MODEL_8bb9a3c366ed4a7da5a960c5a33cc901",
              "IPY_MODEL_a582576440ef4314b01f43c2177354e6"
            ]
          }
        },
        "890aa33f11104282a5a9b9bfb451d42b": {
          "model_module": "@jupyter-widgets/base",
          "model_name": "LayoutModel",
          "state": {
            "_view_name": "LayoutView",
            "grid_template_rows": null,
            "right": null,
            "justify_content": null,
            "_view_module": "@jupyter-widgets/base",
            "overflow": null,
            "_model_module_version": "1.2.0",
            "_view_count": null,
            "flex_flow": null,
            "width": null,
            "min_width": null,
            "border": null,
            "align_items": null,
            "bottom": null,
            "_model_module": "@jupyter-widgets/base",
            "top": null,
            "grid_column": null,
            "overflow_y": null,
            "overflow_x": null,
            "grid_auto_flow": null,
            "grid_area": null,
            "grid_template_columns": null,
            "flex": null,
            "_model_name": "LayoutModel",
            "justify_items": null,
            "grid_row": null,
            "max_height": null,
            "align_content": null,
            "visibility": null,
            "align_self": null,
            "height": null,
            "min_height": null,
            "padding": null,
            "grid_auto_rows": null,
            "grid_gap": null,
            "max_width": null,
            "order": null,
            "_view_module_version": "1.2.0",
            "grid_template_areas": null,
            "object_position": null,
            "object_fit": null,
            "grid_auto_columns": null,
            "margin": null,
            "display": null,
            "left": null
          }
        },
        "8bb9a3c366ed4a7da5a960c5a33cc901": {
          "model_module": "@jupyter-widgets/controls",
          "model_name": "FloatProgressModel",
          "state": {
            "_view_name": "ProgressView",
            "style": "IPY_MODEL_f545fa9757c941a0b2de269b7b7fe3b5",
            "_dom_classes": [],
            "description": "",
            "_model_name": "FloatProgressModel",
            "bar_style": "success",
            "max": 1648877,
            "_view_module": "@jupyter-widgets/controls",
            "_model_module_version": "1.5.0",
            "value": 1648877,
            "_view_count": null,
            "_view_module_version": "1.5.0",
            "orientation": "horizontal",
            "min": 0,
            "description_tooltip": null,
            "_model_module": "@jupyter-widgets/controls",
            "layout": "IPY_MODEL_fd123dfe4fa04d6ea629aad08af23d2a"
          }
        },
        "a582576440ef4314b01f43c2177354e6": {
          "model_module": "@jupyter-widgets/controls",
          "model_name": "HTMLModel",
          "state": {
            "_view_name": "HTMLView",
            "style": "IPY_MODEL_5e608ff4ebf243c4a6d45e16aa3b8b19",
            "_dom_classes": [],
            "description": "",
            "_model_name": "HTMLModel",
            "placeholder": "​",
            "_view_module": "@jupyter-widgets/controls",
            "_model_module_version": "1.5.0",
            "value": " 1649664/? [00:01&lt;00:00, 949586.88it/s]",
            "_view_count": null,
            "_view_module_version": "1.5.0",
            "description_tooltip": null,
            "_model_module": "@jupyter-widgets/controls",
            "layout": "IPY_MODEL_a049ca47ced143e6976453eaaf4b6acc"
          }
        },
        "f545fa9757c941a0b2de269b7b7fe3b5": {
          "model_module": "@jupyter-widgets/controls",
          "model_name": "ProgressStyleModel",
          "state": {
            "_view_name": "StyleView",
            "_model_name": "ProgressStyleModel",
            "description_width": "initial",
            "_view_module": "@jupyter-widgets/base",
            "_model_module_version": "1.5.0",
            "_view_count": null,
            "_view_module_version": "1.2.0",
            "bar_color": null,
            "_model_module": "@jupyter-widgets/controls"
          }
        },
        "fd123dfe4fa04d6ea629aad08af23d2a": {
          "model_module": "@jupyter-widgets/base",
          "model_name": "LayoutModel",
          "state": {
            "_view_name": "LayoutView",
            "grid_template_rows": null,
            "right": null,
            "justify_content": null,
            "_view_module": "@jupyter-widgets/base",
            "overflow": null,
            "_model_module_version": "1.2.0",
            "_view_count": null,
            "flex_flow": null,
            "width": null,
            "min_width": null,
            "border": null,
            "align_items": null,
            "bottom": null,
            "_model_module": "@jupyter-widgets/base",
            "top": null,
            "grid_column": null,
            "overflow_y": null,
            "overflow_x": null,
            "grid_auto_flow": null,
            "grid_area": null,
            "grid_template_columns": null,
            "flex": null,
            "_model_name": "LayoutModel",
            "justify_items": null,
            "grid_row": null,
            "max_height": null,
            "align_content": null,
            "visibility": null,
            "align_self": null,
            "height": null,
            "min_height": null,
            "padding": null,
            "grid_auto_rows": null,
            "grid_gap": null,
            "max_width": null,
            "order": null,
            "_view_module_version": "1.2.0",
            "grid_template_areas": null,
            "object_position": null,
            "object_fit": null,
            "grid_auto_columns": null,
            "margin": null,
            "display": null,
            "left": null
          }
        },
        "5e608ff4ebf243c4a6d45e16aa3b8b19": {
          "model_module": "@jupyter-widgets/controls",
          "model_name": "DescriptionStyleModel",
          "state": {
            "_view_name": "StyleView",
            "_model_name": "DescriptionStyleModel",
            "description_width": "",
            "_view_module": "@jupyter-widgets/base",
            "_model_module_version": "1.5.0",
            "_view_count": null,
            "_view_module_version": "1.2.0",
            "_model_module": "@jupyter-widgets/controls"
          }
        },
        "a049ca47ced143e6976453eaaf4b6acc": {
          "model_module": "@jupyter-widgets/base",
          "model_name": "LayoutModel",
          "state": {
            "_view_name": "LayoutView",
            "grid_template_rows": null,
            "right": null,
            "justify_content": null,
            "_view_module": "@jupyter-widgets/base",
            "overflow": null,
            "_model_module_version": "1.2.0",
            "_view_count": null,
            "flex_flow": null,
            "width": null,
            "min_width": null,
            "border": null,
            "align_items": null,
            "bottom": null,
            "_model_module": "@jupyter-widgets/base",
            "top": null,
            "grid_column": null,
            "overflow_y": null,
            "overflow_x": null,
            "grid_auto_flow": null,
            "grid_area": null,
            "grid_template_columns": null,
            "flex": null,
            "_model_name": "LayoutModel",
            "justify_items": null,
            "grid_row": null,
            "max_height": null,
            "align_content": null,
            "visibility": null,
            "align_self": null,
            "height": null,
            "min_height": null,
            "padding": null,
            "grid_auto_rows": null,
            "grid_gap": null,
            "max_width": null,
            "order": null,
            "_view_module_version": "1.2.0",
            "grid_template_areas": null,
            "object_position": null,
            "object_fit": null,
            "grid_auto_columns": null,
            "margin": null,
            "display": null,
            "left": null
          }
        },
        "3049ee79125546618d140ea8038b8d8f": {
          "model_module": "@jupyter-widgets/controls",
          "model_name": "HBoxModel",
          "state": {
            "_view_name": "HBoxView",
            "_dom_classes": [],
            "_model_name": "HBoxModel",
            "_view_module": "@jupyter-widgets/controls",
            "_model_module_version": "1.5.0",
            "_view_count": null,
            "_view_module_version": "1.5.0",
            "box_style": "",
            "layout": "IPY_MODEL_c9fa73419ab14fa2b99cc1703f96df17",
            "_model_module": "@jupyter-widgets/controls",
            "children": [
              "IPY_MODEL_8e40c95e7071423abf2da86fbd777e45",
              "IPY_MODEL_9f64c7495734411ba48076629c8a96df"
            ]
          }
        },
        "c9fa73419ab14fa2b99cc1703f96df17": {
          "model_module": "@jupyter-widgets/base",
          "model_name": "LayoutModel",
          "state": {
            "_view_name": "LayoutView",
            "grid_template_rows": null,
            "right": null,
            "justify_content": null,
            "_view_module": "@jupyter-widgets/base",
            "overflow": null,
            "_model_module_version": "1.2.0",
            "_view_count": null,
            "flex_flow": null,
            "width": null,
            "min_width": null,
            "border": null,
            "align_items": null,
            "bottom": null,
            "_model_module": "@jupyter-widgets/base",
            "top": null,
            "grid_column": null,
            "overflow_y": null,
            "overflow_x": null,
            "grid_auto_flow": null,
            "grid_area": null,
            "grid_template_columns": null,
            "flex": null,
            "_model_name": "LayoutModel",
            "justify_items": null,
            "grid_row": null,
            "max_height": null,
            "align_content": null,
            "visibility": null,
            "align_self": null,
            "height": null,
            "min_height": null,
            "padding": null,
            "grid_auto_rows": null,
            "grid_gap": null,
            "max_width": null,
            "order": null,
            "_view_module_version": "1.2.0",
            "grid_template_areas": null,
            "object_position": null,
            "object_fit": null,
            "grid_auto_columns": null,
            "margin": null,
            "display": null,
            "left": null
          }
        },
        "8e40c95e7071423abf2da86fbd777e45": {
          "model_module": "@jupyter-widgets/controls",
          "model_name": "FloatProgressModel",
          "state": {
            "_view_name": "ProgressView",
            "style": "IPY_MODEL_b4c81f6bcab043e497516b706c5e2a83",
            "_dom_classes": [],
            "description": "",
            "_model_name": "FloatProgressModel",
            "bar_style": "success",
            "max": 4542,
            "_view_module": "@jupyter-widgets/controls",
            "_model_module_version": "1.5.0",
            "value": 4542,
            "_view_count": null,
            "_view_module_version": "1.5.0",
            "orientation": "horizontal",
            "min": 0,
            "description_tooltip": null,
            "_model_module": "@jupyter-widgets/controls",
            "layout": "IPY_MODEL_7aff8c6671b5499386982d23a24e0ba6"
          }
        },
        "9f64c7495734411ba48076629c8a96df": {
          "model_module": "@jupyter-widgets/controls",
          "model_name": "HTMLModel",
          "state": {
            "_view_name": "HTMLView",
            "style": "IPY_MODEL_1e86ec9bf04946d2bdf8818de4435892",
            "_dom_classes": [],
            "description": "",
            "_model_name": "HTMLModel",
            "placeholder": "​",
            "_view_module": "@jupyter-widgets/controls",
            "_model_module_version": "1.5.0",
            "value": " 5120/? [00:00&lt;00:00, 29938.51it/s]",
            "_view_count": null,
            "_view_module_version": "1.5.0",
            "description_tooltip": null,
            "_model_module": "@jupyter-widgets/controls",
            "layout": "IPY_MODEL_3b80fc5c306740829b9c3f2cdecd5243"
          }
        },
        "b4c81f6bcab043e497516b706c5e2a83": {
          "model_module": "@jupyter-widgets/controls",
          "model_name": "ProgressStyleModel",
          "state": {
            "_view_name": "StyleView",
            "_model_name": "ProgressStyleModel",
            "description_width": "initial",
            "_view_module": "@jupyter-widgets/base",
            "_model_module_version": "1.5.0",
            "_view_count": null,
            "_view_module_version": "1.2.0",
            "bar_color": null,
            "_model_module": "@jupyter-widgets/controls"
          }
        },
        "7aff8c6671b5499386982d23a24e0ba6": {
          "model_module": "@jupyter-widgets/base",
          "model_name": "LayoutModel",
          "state": {
            "_view_name": "LayoutView",
            "grid_template_rows": null,
            "right": null,
            "justify_content": null,
            "_view_module": "@jupyter-widgets/base",
            "overflow": null,
            "_model_module_version": "1.2.0",
            "_view_count": null,
            "flex_flow": null,
            "width": null,
            "min_width": null,
            "border": null,
            "align_items": null,
            "bottom": null,
            "_model_module": "@jupyter-widgets/base",
            "top": null,
            "grid_column": null,
            "overflow_y": null,
            "overflow_x": null,
            "grid_auto_flow": null,
            "grid_area": null,
            "grid_template_columns": null,
            "flex": null,
            "_model_name": "LayoutModel",
            "justify_items": null,
            "grid_row": null,
            "max_height": null,
            "align_content": null,
            "visibility": null,
            "align_self": null,
            "height": null,
            "min_height": null,
            "padding": null,
            "grid_auto_rows": null,
            "grid_gap": null,
            "max_width": null,
            "order": null,
            "_view_module_version": "1.2.0",
            "grid_template_areas": null,
            "object_position": null,
            "object_fit": null,
            "grid_auto_columns": null,
            "margin": null,
            "display": null,
            "left": null
          }
        },
        "1e86ec9bf04946d2bdf8818de4435892": {
          "model_module": "@jupyter-widgets/controls",
          "model_name": "DescriptionStyleModel",
          "state": {
            "_view_name": "StyleView",
            "_model_name": "DescriptionStyleModel",
            "description_width": "",
            "_view_module": "@jupyter-widgets/base",
            "_model_module_version": "1.5.0",
            "_view_count": null,
            "_view_module_version": "1.2.0",
            "_model_module": "@jupyter-widgets/controls"
          }
        },
        "3b80fc5c306740829b9c3f2cdecd5243": {
          "model_module": "@jupyter-widgets/base",
          "model_name": "LayoutModel",
          "state": {
            "_view_name": "LayoutView",
            "grid_template_rows": null,
            "right": null,
            "justify_content": null,
            "_view_module": "@jupyter-widgets/base",
            "overflow": null,
            "_model_module_version": "1.2.0",
            "_view_count": null,
            "flex_flow": null,
            "width": null,
            "min_width": null,
            "border": null,
            "align_items": null,
            "bottom": null,
            "_model_module": "@jupyter-widgets/base",
            "top": null,
            "grid_column": null,
            "overflow_y": null,
            "overflow_x": null,
            "grid_auto_flow": null,
            "grid_area": null,
            "grid_template_columns": null,
            "flex": null,
            "_model_name": "LayoutModel",
            "justify_items": null,
            "grid_row": null,
            "max_height": null,
            "align_content": null,
            "visibility": null,
            "align_self": null,
            "height": null,
            "min_height": null,
            "padding": null,
            "grid_auto_rows": null,
            "grid_gap": null,
            "max_width": null,
            "order": null,
            "_view_module_version": "1.2.0",
            "grid_template_areas": null,
            "object_position": null,
            "object_fit": null,
            "grid_auto_columns": null,
            "margin": null,
            "display": null,
            "left": null
          }
        }
      }
    }
  },
  "cells": [
    {
      "cell_type": "markdown",
      "metadata": {
        "id": "61oYPIeatBzI"
      },
      "source": [
        "#**Deep Learning and Computer Vision - Mini Project**"
      ]
    },
    {
      "cell_type": "markdown",
      "metadata": {
        "id": "6PgFwKaQtBpZ"
      },
      "source": [
        "**NAME** - Ganesh Kumaran Masilamani\n",
        "\n",
        "**STUDENT NUMBER** - 200434339\n",
        "\n",
        "**PROJECT TITLE** - Deep Neural Networks for Image Classification"
      ]
    },
    {
      "cell_type": "markdown",
      "metadata": {
        "id": "44ogSAwotBnY"
      },
      "source": [
        "###**In this Notebook we will be using AlexNet Architecture as our deep Network to do image classification in MNIST dataset.**\n",
        "\n",
        "#**DEEP NETWORK MODEL-4 --> ALEXNET**"
      ]
    },
    {
      "cell_type": "code",
      "metadata": {
        "id": "fMcruYVWuPXa",
        "colab": {
          "base_uri": "https://localhost:8080/"
        },
        "outputId": "9f579a90-ca37-4048-cf0c-65b71cae755f"
      },
      "source": [
        "#Libraries Imported\n",
        "import time\n",
        "import os\n",
        "import numpy as np\n",
        "import torch\n",
        "import torch.nn as nn\n",
        "import torch.optim as optim\n",
        "import torch.nn.functional as F\n",
        "from torchvision.utils import make_grid\n",
        "import torchvision\n",
        "from torchvision import datasets\n",
        "from torchvision import transforms\n",
        "import matplotlib.pyplot as plt\n",
        "import seaborn as sns\n",
        "sns.set_style('darkgrid')\n",
        "import pickle\n",
        "%pip install torchviz\n",
        "from sklearn.metrics import confusion_matrix\n",
        "from sklearn.metrics import ConfusionMatrixDisplay\n",
        "from torchviz import make_dot\n",
        "from datetime import datetime\n",
        "Date_time = datetime.now()\n",
        "date = Date_time.strftime(\"%d/%m/%Y\")\n",
        "Time = Date_time.strftime(\"%H:%M:%S\")"
      ],
      "execution_count": 1,
      "outputs": [
        {
          "output_type": "stream",
          "text": [
            "Collecting torchviz\n",
            "  Downloading https://files.pythonhosted.org/packages/79/e7/643808913211d6c1fc96a3a4333bf4c9276858fab00bcafaf98ea58a97be/torchviz-0.0.2.tar.gz\n",
            "Requirement already satisfied: torch in /usr/local/lib/python3.7/dist-packages (from torchviz) (1.8.1+cu101)\n",
            "Requirement already satisfied: graphviz in /usr/local/lib/python3.7/dist-packages (from torchviz) (0.10.1)\n",
            "Requirement already satisfied: numpy in /usr/local/lib/python3.7/dist-packages (from torch->torchviz) (1.19.5)\n",
            "Requirement already satisfied: typing-extensions in /usr/local/lib/python3.7/dist-packages (from torch->torchviz) (3.7.4.3)\n",
            "Building wheels for collected packages: torchviz\n",
            "  Building wheel for torchviz (setup.py) ... \u001b[?25l\u001b[?25hdone\n",
            "  Created wheel for torchviz: filename=torchviz-0.0.2-cp37-none-any.whl size=4152 sha256=293329e3b0ea7663b8923614862588bd6de2a99c7043be6c2ea6de2a28a91dea\n",
            "  Stored in directory: /root/.cache/pip/wheels/01/26/58/026ffd533dbe8b3972eb423da9c7949beca68d1c98ed9e8624\n",
            "Successfully built torchviz\n",
            "Installing collected packages: torchviz\n",
            "Successfully installed torchviz-0.0.2\n"
          ],
          "name": "stdout"
        }
      ]
    },
    {
      "cell_type": "markdown",
      "metadata": {
        "id": "xpcn0clbI8an"
      },
      "source": [
        "##**Loading the MNIST Dataset**"
      ]
    },
    {
      "cell_type": "code",
      "metadata": {
        "id": "wSWJZvrsmDKD",
        "colab": {
          "base_uri": "https://localhost:8080/",
          "height": 1000,
          "referenced_widgets": [
            "1a6b1b3bfe3344d1800332f78ef11517",
            "5870e4efd4b64e34b86342de509456ac",
            "b657e55cfc864961aea9a3585b68c7f7",
            "17d2ffb7e73940a2ac7b0b2dcab3e191",
            "fbda285998e1436ab328612d53c0ca57",
            "d2b7e317e54643fb8b1276c909d81fe1",
            "97445677aa8e41939a5505867d9060eb",
            "cf533f4ac6e540e09e414708ea7f1368",
            "fd771a959c8b4395851a9d54e6a62fcf",
            "7a886fd74fd240298b8a5a96dd6bb36e",
            "450f39275da044fb82a4aacecf7bbcd1",
            "8769b49b74e14d209919ba95756dc13d",
            "5e5cf9e58355465597c37b82ea99deac",
            "db9bf1c74f2f4a119b7b574329879c52",
            "d4d8b460f6004b6eb7abcaf71aba2382",
            "ee22960bdfe9448ead83914312ce7ad2",
            "b164a8d276444725a9d7b27ddce370c0",
            "3ad6034d0c1f4b918104f91bffdbdc89",
            "c971ae396c524a9a9b88423c42b71047",
            "02d1f1a6754544fba66ccecb3cf797a2",
            "72122d97a80c4607ba1527f011a9760c",
            "f140abe7cb0044dd8143cf5f6ccf04e0",
            "eca8525dd0fe41059af782b0725b1df3",
            "2cee928d4f39480bacfcabea9733176b",
            "034d806b858b407992c12eaa5df65c01",
            "37af87b9c3ae47f1a75af2699ccd12e4",
            "7f76f3b9faca45e6a9fe3e5784002e35",
            "470abb7c288b40749650ecb012aaa2c1",
            "eb3d5d8a1d2b4867809515be5cac1f24",
            "52791f07f6504b658bdcc7ee7febb12c",
            "395ec993471f4b4da32762d227368875",
            "8a35ed057599439abe409f5fb6a3dedb",
            "d81519b664de4117a8f5bdafed1e6582",
            "d842200f4d064c7589d20fb06e542494",
            "17f93a5ccdbc4fd184779e616fd974ee",
            "21886e8d31da480ba9bc4b5fd0144a5b",
            "7dd5a5d4c28d4af39ee3dbd7e178bf3f",
            "601a0a06d4e043f28e6b52060b6a9cc4",
            "c41f1983a13145aa87fcdaeec2d69f04",
            "3c60e4f2954a4711b026eb08641c721c",
            "7ea140ade80e49f1a1cdf979c8dd6dcf",
            "0ff8e6da15534ee39e0531d790fdc75c",
            "1a43ab29d5274717a4827033d8d04a2b",
            "1154b4841f094bec819d79c5c433749e",
            "fc76090a7d1e49fdb7dea5c8e036d795",
            "7fd22e13095d479b9993fb8b9aa2720b",
            "67ea3740cd69444bb1ab6b76b640d676",
            "fb69a4972038467fa51849e493095bcd",
            "7236e5acc2f540ff9a0d45e8aa5f70da",
            "890aa33f11104282a5a9b9bfb451d42b",
            "8bb9a3c366ed4a7da5a960c5a33cc901",
            "a582576440ef4314b01f43c2177354e6",
            "f545fa9757c941a0b2de269b7b7fe3b5",
            "fd123dfe4fa04d6ea629aad08af23d2a",
            "5e608ff4ebf243c4a6d45e16aa3b8b19",
            "a049ca47ced143e6976453eaaf4b6acc",
            "3049ee79125546618d140ea8038b8d8f",
            "c9fa73419ab14fa2b99cc1703f96df17",
            "8e40c95e7071423abf2da86fbd777e45",
            "9f64c7495734411ba48076629c8a96df",
            "b4c81f6bcab043e497516b706c5e2a83",
            "7aff8c6671b5499386982d23a24e0ba6",
            "1e86ec9bf04946d2bdf8818de4435892",
            "3b80fc5c306740829b9c3f2cdecd5243"
          ]
        },
        "outputId": "cfb38dc4-31b6-47b7-ac01-5d6d3e31a40f"
      },
      "source": [
        "#Downloading and Loading the MNIST dataset \n",
        "def Load_mnist_data(batch_size, resize=None, root=os.path.join('MNIST_DATASET')):\n",
        "    final_root = os.path.expanduser(root)\n",
        "    Convolutional_Transformer = []\n",
        "\n",
        "    #resizing the dataset to fit the Network architecture\n",
        "    if resize:\n",
        "        Convolutional_Transformer += [transforms.Resize(resize)]\n",
        "    Convolutional_Transformer += [transforms.ToTensor()]\n",
        "    Convolutional_Transformer = transforms.Compose(Convolutional_Transformer)\n",
        "\n",
        "    #Downloading the MNIST dataset\n",
        "    MNIST_traindata = torchvision.datasets.MNIST(root=final_root, train=True, transform=Convolutional_Transformer, download=True)\n",
        "    MNIST_testdata = torchvision.datasets.MNIST(root=final_root, train=False, transform=Convolutional_Transformer, download=True)\n",
        "\n",
        "    #loading the dataset and assign it to a variable\n",
        "    Load_MNIST_traindata =torch.utils.data.DataLoader(MNIST_traindata, batch_size, shuffle=True)\n",
        "    Load_MNIST_testdata =torch.utils.data.DataLoader(MNIST_testdata, batch_size, shuffle=False)\n",
        "    return Load_MNIST_traindata, Load_MNIST_testdata\n",
        "\n",
        "Convolutional_Transformer = transforms.Compose([transforms.Resize((32,32)), transforms.RandomHorizontalFlip(), transforms.ToTensor()])\n",
        "MNIST_testdata = torchvision.datasets.MNIST(root='Mnist', train=False, transform=Convolutional_Transformer, download=True)\n",
        "\n",
        "#load the function of the MNIST dataset to the train and test variable loader\n",
        "Traindata_Loader, Testdata_Loader = Load_mnist_data(batch_size=32, resize=224, root=os.path.join('MNIST_DATASET'))"
      ],
      "execution_count": 2,
      "outputs": [
        {
          "output_type": "stream",
          "text": [
            "Downloading http://yann.lecun.com/exdb/mnist/train-images-idx3-ubyte.gz\n",
            "Failed to download (trying next):\n",
            "HTTP Error 503: Service Unavailable\n",
            "\n",
            "Downloading https://ossci-datasets.s3.amazonaws.com/mnist/train-images-idx3-ubyte.gz\n",
            "Downloading https://ossci-datasets.s3.amazonaws.com/mnist/train-images-idx3-ubyte.gz to Mnist/MNIST/raw/train-images-idx3-ubyte.gz\n"
          ],
          "name": "stdout"
        },
        {
          "output_type": "display_data",
          "data": {
            "application/vnd.jupyter.widget-view+json": {
              "model_id": "1a6b1b3bfe3344d1800332f78ef11517",
              "version_minor": 0,
              "version_major": 2
            },
            "text/plain": [
              "HBox(children=(FloatProgress(value=0.0, max=9912422.0), HTML(value='')))"
            ]
          },
          "metadata": {
            "tags": []
          }
        },
        {
          "output_type": "stream",
          "text": [
            "\n",
            "Extracting Mnist/MNIST/raw/train-images-idx3-ubyte.gz to Mnist/MNIST/raw\n",
            "\n",
            "Downloading http://yann.lecun.com/exdb/mnist/train-labels-idx1-ubyte.gz\n",
            "Failed to download (trying next):\n",
            "HTTP Error 503: Service Unavailable\n",
            "\n",
            "Downloading https://ossci-datasets.s3.amazonaws.com/mnist/train-labels-idx1-ubyte.gz\n",
            "Downloading https://ossci-datasets.s3.amazonaws.com/mnist/train-labels-idx1-ubyte.gz to Mnist/MNIST/raw/train-labels-idx1-ubyte.gz\n"
          ],
          "name": "stdout"
        },
        {
          "output_type": "display_data",
          "data": {
            "application/vnd.jupyter.widget-view+json": {
              "model_id": "fd771a959c8b4395851a9d54e6a62fcf",
              "version_minor": 0,
              "version_major": 2
            },
            "text/plain": [
              "HBox(children=(FloatProgress(value=0.0, max=28881.0), HTML(value='')))"
            ]
          },
          "metadata": {
            "tags": []
          }
        },
        {
          "output_type": "stream",
          "text": [
            "\n",
            "Extracting Mnist/MNIST/raw/train-labels-idx1-ubyte.gz to Mnist/MNIST/raw\n",
            "\n",
            "Downloading http://yann.lecun.com/exdb/mnist/t10k-images-idx3-ubyte.gz\n",
            "Failed to download (trying next):\n",
            "HTTP Error 503: Service Unavailable\n",
            "\n",
            "Downloading https://ossci-datasets.s3.amazonaws.com/mnist/t10k-images-idx3-ubyte.gz\n",
            "Downloading https://ossci-datasets.s3.amazonaws.com/mnist/t10k-images-idx3-ubyte.gz to Mnist/MNIST/raw/t10k-images-idx3-ubyte.gz\n"
          ],
          "name": "stdout"
        },
        {
          "output_type": "display_data",
          "data": {
            "application/vnd.jupyter.widget-view+json": {
              "model_id": "b164a8d276444725a9d7b27ddce370c0",
              "version_minor": 0,
              "version_major": 2
            },
            "text/plain": [
              "HBox(children=(FloatProgress(value=0.0, max=1648877.0), HTML(value='')))"
            ]
          },
          "metadata": {
            "tags": []
          }
        },
        {
          "output_type": "stream",
          "text": [
            "\n",
            "Extracting Mnist/MNIST/raw/t10k-images-idx3-ubyte.gz to Mnist/MNIST/raw\n",
            "\n",
            "Downloading http://yann.lecun.com/exdb/mnist/t10k-labels-idx1-ubyte.gz\n",
            "Failed to download (trying next):\n",
            "HTTP Error 503: Service Unavailable\n",
            "\n",
            "Downloading https://ossci-datasets.s3.amazonaws.com/mnist/t10k-labels-idx1-ubyte.gz\n",
            "Downloading https://ossci-datasets.s3.amazonaws.com/mnist/t10k-labels-idx1-ubyte.gz to Mnist/MNIST/raw/t10k-labels-idx1-ubyte.gz\n"
          ],
          "name": "stdout"
        },
        {
          "output_type": "display_data",
          "data": {
            "application/vnd.jupyter.widget-view+json": {
              "model_id": "034d806b858b407992c12eaa5df65c01",
              "version_minor": 0,
              "version_major": 2
            },
            "text/plain": [
              "HBox(children=(FloatProgress(value=0.0, max=4542.0), HTML(value='')))"
            ]
          },
          "metadata": {
            "tags": []
          }
        },
        {
          "output_type": "stream",
          "text": [
            "\n",
            "Extracting Mnist/MNIST/raw/t10k-labels-idx1-ubyte.gz to Mnist/MNIST/raw\n",
            "\n",
            "Processing...\n",
            "Done!\n",
            "Downloading http://yann.lecun.com/exdb/mnist/train-images-idx3-ubyte.gz\n"
          ],
          "name": "stdout"
        },
        {
          "output_type": "stream",
          "text": [
            "/usr/local/lib/python3.7/dist-packages/torchvision/datasets/mnist.py:502: UserWarning: The given NumPy array is not writeable, and PyTorch does not support non-writeable tensors. This means you can write to the underlying (supposedly non-writeable) NumPy array using the tensor. You may want to copy the array to protect its data or make it writeable before converting it to a tensor. This type of warning will be suppressed for the rest of this program. (Triggered internally at  /pytorch/torch/csrc/utils/tensor_numpy.cpp:143.)\n",
            "  return torch.from_numpy(parsed.astype(m[2], copy=False)).view(*s)\n"
          ],
          "name": "stderr"
        },
        {
          "output_type": "stream",
          "text": [
            "Failed to download (trying next):\n",
            "HTTP Error 503: Service Unavailable\n",
            "\n",
            "Downloading https://ossci-datasets.s3.amazonaws.com/mnist/train-images-idx3-ubyte.gz\n",
            "Downloading https://ossci-datasets.s3.amazonaws.com/mnist/train-images-idx3-ubyte.gz to MNIST_DATASET/MNIST/raw/train-images-idx3-ubyte.gz\n"
          ],
          "name": "stdout"
        },
        {
          "output_type": "display_data",
          "data": {
            "application/vnd.jupyter.widget-view+json": {
              "model_id": "d81519b664de4117a8f5bdafed1e6582",
              "version_minor": 0,
              "version_major": 2
            },
            "text/plain": [
              "HBox(children=(FloatProgress(value=0.0, max=9912422.0), HTML(value='')))"
            ]
          },
          "metadata": {
            "tags": []
          }
        },
        {
          "output_type": "stream",
          "text": [
            "\n",
            "Extracting MNIST_DATASET/MNIST/raw/train-images-idx3-ubyte.gz to MNIST_DATASET/MNIST/raw\n",
            "\n",
            "Downloading http://yann.lecun.com/exdb/mnist/train-labels-idx1-ubyte.gz\n",
            "Failed to download (trying next):\n",
            "HTTP Error 503: Service Unavailable\n",
            "\n",
            "Downloading https://ossci-datasets.s3.amazonaws.com/mnist/train-labels-idx1-ubyte.gz\n",
            "Downloading https://ossci-datasets.s3.amazonaws.com/mnist/train-labels-idx1-ubyte.gz to MNIST_DATASET/MNIST/raw/train-labels-idx1-ubyte.gz\n"
          ],
          "name": "stdout"
        },
        {
          "output_type": "display_data",
          "data": {
            "application/vnd.jupyter.widget-view+json": {
              "model_id": "7ea140ade80e49f1a1cdf979c8dd6dcf",
              "version_minor": 0,
              "version_major": 2
            },
            "text/plain": [
              "HBox(children=(FloatProgress(value=0.0, max=28881.0), HTML(value='')))"
            ]
          },
          "metadata": {
            "tags": []
          }
        },
        {
          "output_type": "stream",
          "text": [
            "\n",
            "Extracting MNIST_DATASET/MNIST/raw/train-labels-idx1-ubyte.gz to MNIST_DATASET/MNIST/raw\n",
            "\n",
            "Downloading http://yann.lecun.com/exdb/mnist/t10k-images-idx3-ubyte.gz\n",
            "Failed to download (trying next):\n",
            "HTTP Error 503: Service Unavailable\n",
            "\n",
            "Downloading https://ossci-datasets.s3.amazonaws.com/mnist/t10k-images-idx3-ubyte.gz\n",
            "Downloading https://ossci-datasets.s3.amazonaws.com/mnist/t10k-images-idx3-ubyte.gz to MNIST_DATASET/MNIST/raw/t10k-images-idx3-ubyte.gz\n"
          ],
          "name": "stdout"
        },
        {
          "output_type": "display_data",
          "data": {
            "application/vnd.jupyter.widget-view+json": {
              "model_id": "7236e5acc2f540ff9a0d45e8aa5f70da",
              "version_minor": 0,
              "version_major": 2
            },
            "text/plain": [
              "HBox(children=(FloatProgress(value=0.0, max=1648877.0), HTML(value='')))"
            ]
          },
          "metadata": {
            "tags": []
          }
        },
        {
          "output_type": "stream",
          "text": [
            "\n",
            "Extracting MNIST_DATASET/MNIST/raw/t10k-images-idx3-ubyte.gz to MNIST_DATASET/MNIST/raw\n",
            "\n",
            "Downloading http://yann.lecun.com/exdb/mnist/t10k-labels-idx1-ubyte.gz\n",
            "Failed to download (trying next):\n",
            "HTTP Error 503: Service Unavailable\n",
            "\n",
            "Downloading https://ossci-datasets.s3.amazonaws.com/mnist/t10k-labels-idx1-ubyte.gz\n",
            "Downloading https://ossci-datasets.s3.amazonaws.com/mnist/t10k-labels-idx1-ubyte.gz to MNIST_DATASET/MNIST/raw/t10k-labels-idx1-ubyte.gz\n"
          ],
          "name": "stdout"
        },
        {
          "output_type": "display_data",
          "data": {
            "application/vnd.jupyter.widget-view+json": {
              "model_id": "3049ee79125546618d140ea8038b8d8f",
              "version_minor": 0,
              "version_major": 2
            },
            "text/plain": [
              "HBox(children=(FloatProgress(value=0.0, max=4542.0), HTML(value='')))"
            ]
          },
          "metadata": {
            "tags": []
          }
        },
        {
          "output_type": "stream",
          "text": [
            "\n",
            "Extracting MNIST_DATASET/MNIST/raw/t10k-labels-idx1-ubyte.gz to MNIST_DATASET/MNIST/raw\n",
            "\n",
            "Processing...\n",
            "Done!\n"
          ],
          "name": "stdout"
        }
      ]
    },
    {
      "cell_type": "markdown",
      "metadata": {
        "id": "PQZuTkEgJiQ8"
      },
      "source": [
        "##**Developing AlexNet Architecture**"
      ]
    },
    {
      "cell_type": "code",
      "metadata": {
        "id": "ROpbL15lvYJQ",
        "colab": {
          "base_uri": "https://localhost:8080/"
        },
        "outputId": "575adc13-9aba-41cc-bb13-5e4658bd410b"
      },
      "source": [
        "#########################################################ALEXNET ARCHITECTURE####################################################################\n",
        "#Flattening the layer and resizing it\n",
        "class Flatten(torch.nn.Module):\n",
        "    def forward(self, input):\n",
        "        return input.view(input.size(0), -1)\n",
        "\n",
        "#forming the alexnet architecture\n",
        "AlexNet_layers = []\n",
        "AlexNet_layers.append(torch.nn.Conv2d(1, 64, kernel_size=11, stride=4, padding=1))\n",
        "AlexNet_layers.append(torch.nn.ReLU(inplace=True))\n",
        "AlexNet_layers.append(torch.nn.MaxPool2d(kernel_size=3, stride=2))\n",
        "AlexNet_layers.append(torch.nn.Conv2d(64, 256, kernel_size=5, padding=2))\n",
        "AlexNet_layers.append(torch.nn.ReLU(inplace=True))\n",
        "AlexNet_layers.append(torch.nn.MaxPool2d(kernel_size=3, stride=2))\n",
        "AlexNet_layers.append(torch.nn.Conv2d(256, 350, kernel_size=3, padding=1))\n",
        "AlexNet_layers.append(torch.nn.ReLU(inplace=True))\n",
        "AlexNet_layers.append(torch.nn.Conv2d(350, 384, kernel_size=3, padding=1))\n",
        "AlexNet_layers.append(torch.nn.ReLU(inplace=True))\n",
        "AlexNet_layers.append(torch.nn.Conv2d(384, 256, kernel_size=3, padding=1))\n",
        "AlexNet_layers.append(torch.nn.ReLU(inplace=True))\n",
        "AlexNet_layers.append(torch.nn.MaxPool2d(kernel_size=3, stride=2))\n",
        "AlexNet_layers.append(Flatten())\n",
        "AlexNet_layers.append(torch.nn.Dropout(0.2,inplace=True))\n",
        "AlexNet_layers.append(torch.nn.Linear(6400, 4096))\n",
        "AlexNet_layers.append(torch.nn.ReLU())\n",
        "AlexNet_layers.append(torch.nn.Dropout(0.2,inplace=True))\n",
        "AlexNet_layers.append(torch.nn.Linear(4096, 4096))\n",
        "AlexNet_layers.append(torch.nn.ReLU())\n",
        "AlexNet_layers.append(torch.nn.Linear(4096, 10))\n",
        "\n",
        "#Updating the weights of the network\n",
        "Network_arch = torch.nn.Sequential(*AlexNet_layers)\n",
        "#Initialize the Weights and display the Network architecture\n",
        "def Initialise_weights(layer_weight):\n",
        "    if type(layer_weight) == torch.nn.Conv2d:\n",
        "        torch.nn.init.xavier_uniform_(layer_weight.weight)\n",
        "Network_arch.apply(Initialise_weights)"
      ],
      "execution_count": 3,
      "outputs": [
        {
          "output_type": "execute_result",
          "data": {
            "text/plain": [
              "Sequential(\n",
              "  (0): Conv2d(1, 64, kernel_size=(11, 11), stride=(4, 4), padding=(1, 1))\n",
              "  (1): ReLU(inplace=True)\n",
              "  (2): MaxPool2d(kernel_size=3, stride=2, padding=0, dilation=1, ceil_mode=False)\n",
              "  (3): Conv2d(64, 256, kernel_size=(5, 5), stride=(1, 1), padding=(2, 2))\n",
              "  (4): ReLU(inplace=True)\n",
              "  (5): MaxPool2d(kernel_size=3, stride=2, padding=0, dilation=1, ceil_mode=False)\n",
              "  (6): Conv2d(256, 350, kernel_size=(3, 3), stride=(1, 1), padding=(1, 1))\n",
              "  (7): ReLU(inplace=True)\n",
              "  (8): Conv2d(350, 384, kernel_size=(3, 3), stride=(1, 1), padding=(1, 1))\n",
              "  (9): ReLU(inplace=True)\n",
              "  (10): Conv2d(384, 256, kernel_size=(3, 3), stride=(1, 1), padding=(1, 1))\n",
              "  (11): ReLU(inplace=True)\n",
              "  (12): MaxPool2d(kernel_size=3, stride=2, padding=0, dilation=1, ceil_mode=False)\n",
              "  (13): Flatten()\n",
              "  (14): Dropout(p=0.2, inplace=True)\n",
              "  (15): Linear(in_features=6400, out_features=4096, bias=True)\n",
              "  (16): ReLU()\n",
              "  (17): Dropout(p=0.2, inplace=True)\n",
              "  (18): Linear(in_features=4096, out_features=4096, bias=True)\n",
              "  (19): ReLU()\n",
              "  (20): Linear(in_features=4096, out_features=10, bias=True)\n",
              ")"
            ]
          },
          "metadata": {
            "tags": []
          },
          "execution_count": 3
        }
      ]
    },
    {
      "cell_type": "markdown",
      "metadata": {
        "id": "SiZLshAbKlAL"
      },
      "source": [
        "##**Plotting Architecture flow-diagram of our AlexNet Network**"
      ]
    },
    {
      "cell_type": "code",
      "metadata": {
        "colab": {
          "base_uri": "https://localhost:8080/",
          "height": 1000
        },
        "id": "Y4wyQzM9DaO-",
        "outputId": "f40fbc0a-cc91-4b38-a3a7-0d8bc1ddebee"
      },
      "source": [
        "#Plotting the AlexNet Architecture flowchart which was developed above.\n",
        "Sample = torch.rand(1, 1, 224,224)\n",
        "Alexnet_Architecture_plot = make_dot(Network_arch(Sample), params=dict(Network_arch.named_parameters()))\n",
        "#displaying the AlexNet flow diagram\n",
        "display(Alexnet_Architecture_plot)"
      ],
      "execution_count": 4,
      "outputs": [
        {
          "output_type": "display_data",
          "data": {
            "text/plain": [
              "<graphviz.dot.Digraph at 0x7fcc12574910>"
            ],
            "image/svg+xml": "<?xml version=\"1.0\" encoding=\"UTF-8\" standalone=\"no\"?>\n<!DOCTYPE svg PUBLIC \"-//W3C//DTD SVG 1.1//EN\"\n \"http://www.w3.org/Graphics/SVG/1.1/DTD/svg11.dtd\">\n<!-- Generated by graphviz version 2.40.1 (20161225.0304)\n -->\n<!-- Title: %3 Pages: 1 -->\n<svg width=\"878pt\" height=\"1220pt\"\n viewBox=\"0.00 0.00 877.54 1220.00\" xmlns=\"http://www.w3.org/2000/svg\" xmlns:xlink=\"http://www.w3.org/1999/xlink\">\n<g id=\"graph0\" class=\"graph\" transform=\"scale(.8561 .8561) rotate(0) translate(4 1421)\">\n<title>%3</title>\n<polygon fill=\"#ffffff\" stroke=\"transparent\" points=\"-4,4 -4,-1421 1021,-1421 1021,4 -4,4\"/>\n<!-- 140514462710032 -->\n<g id=\"node1\" class=\"node\">\n<title>140514462710032</title>\n<polygon fill=\"#caff70\" stroke=\"#000000\" points=\"857,-31 792,-31 792,0 857,0 857,-31\"/>\n<text text-anchor=\"middle\" x=\"824.5\" y=\"-7\" font-family=\"monospace\" font-size=\"10.00\" fill=\"#000000\"> (1, 10)</text>\n</g>\n<!-- 140514457765456 -->\n<g id=\"node2\" class=\"node\">\n<title>140514457765456</title>\n<polygon fill=\"#d3d3d3\" stroke=\"#000000\" points=\"872,-86 777,-86 777,-67 872,-67 872,-86\"/>\n<text text-anchor=\"middle\" x=\"824.5\" y=\"-74\" font-family=\"monospace\" font-size=\"10.00\" fill=\"#000000\">AddmmBackward</text>\n</g>\n<!-- 140514457765456&#45;&gt;140514462710032 -->\n<g id=\"edge56\" class=\"edge\">\n<title>140514457765456&#45;&gt;140514462710032</title>\n<path fill=\"none\" stroke=\"#000000\" d=\"M824.5,-66.9688C824.5,-60.1289 824.5,-50.5621 824.5,-41.5298\"/>\n<polygon fill=\"#000000\" stroke=\"#000000\" points=\"828.0001,-41.3678 824.5,-31.3678 821.0001,-41.3678 828.0001,-41.3678\"/>\n</g>\n<!-- 140514457763920 -->\n<g id=\"node3\" class=\"node\">\n<title>140514457763920</title>\n<polygon fill=\"#d3d3d3\" stroke=\"#000000\" points=\"759,-141 658,-141 658,-122 759,-122 759,-141\"/>\n<text text-anchor=\"middle\" x=\"708.5\" y=\"-129\" font-family=\"monospace\" font-size=\"10.00\" fill=\"#000000\">AccumulateGrad</text>\n</g>\n<!-- 140514457763920&#45;&gt;140514457765456 -->\n<g id=\"edge1\" class=\"edge\">\n<title>140514457763920&#45;&gt;140514457765456</title>\n<path fill=\"none\" stroke=\"#000000\" d=\"M728.7057,-121.9197C746.9737,-113.2581 774.1018,-100.3957 794.8304,-90.5675\"/>\n<polygon fill=\"#000000\" stroke=\"#000000\" points=\"796.6004,-93.6018 804.1367,-86.155 793.6014,-87.2768 796.6004,-93.6018\"/>\n</g>\n<!-- 140514457704320 -->\n<g id=\"node4\" class=\"node\">\n<title>140514457704320</title>\n<polygon fill=\"#add8e6\" stroke=\"#000000\" points=\"738,-207 679,-207 679,-177 738,-177 738,-207\"/>\n<text text-anchor=\"middle\" x=\"708.5\" y=\"-195\" font-family=\"monospace\" font-size=\"10.00\" fill=\"#000000\">20.bias</text>\n<text text-anchor=\"middle\" x=\"708.5\" y=\"-184\" font-family=\"monospace\" font-size=\"10.00\" fill=\"#000000\"> (10)</text>\n</g>\n<!-- 140514457704320&#45;&gt;140514457763920 -->\n<g id=\"edge2\" class=\"edge\">\n<title>140514457704320&#45;&gt;140514457763920</title>\n<path fill=\"none\" stroke=\"#000000\" d=\"M708.5,-176.7333C708.5,-169.0322 708.5,-159.5977 708.5,-151.3414\"/>\n<polygon fill=\"#000000\" stroke=\"#000000\" points=\"712.0001,-151.0864 708.5,-141.0864 705.0001,-151.0864 712.0001,-151.0864\"/>\n</g>\n<!-- 140514457765648 -->\n<g id=\"node5\" class=\"node\">\n<title>140514457765648</title>\n<polygon fill=\"#d3d3d3\" stroke=\"#000000\" points=\"872,-141 777,-141 777,-122 872,-122 872,-141\"/>\n<text text-anchor=\"middle\" x=\"824.5\" y=\"-129\" font-family=\"monospace\" font-size=\"10.00\" fill=\"#000000\">ReluBackward0</text>\n</g>\n<!-- 140514457765648&#45;&gt;140514457765456 -->\n<g id=\"edge3\" class=\"edge\">\n<title>140514457765648&#45;&gt;140514457765456</title>\n<path fill=\"none\" stroke=\"#000000\" d=\"M824.5,-121.9197C824.5,-114.9083 824.5,-105.1442 824.5,-96.4652\"/>\n<polygon fill=\"#000000\" stroke=\"#000000\" points=\"828.0001,-96.3408 824.5,-86.3408 821.0001,-96.3409 828.0001,-96.3408\"/>\n</g>\n<!-- 140514457765776 -->\n<g id=\"node6\" class=\"node\">\n<title>140514457765776</title>\n<polygon fill=\"#d3d3d3\" stroke=\"#000000\" points=\"867,-201.5 772,-201.5 772,-182.5 867,-182.5 867,-201.5\"/>\n<text text-anchor=\"middle\" x=\"819.5\" y=\"-189.5\" font-family=\"monospace\" font-size=\"10.00\" fill=\"#000000\">AddmmBackward</text>\n</g>\n<!-- 140514457765776&#45;&gt;140514457765648 -->\n<g id=\"edge4\" class=\"edge\">\n<title>140514457765776&#45;&gt;140514457765648</title>\n<path fill=\"none\" stroke=\"#000000\" d=\"M820.3033,-182.2796C820.9845,-174.0376 821.9838,-161.9457 822.8364,-151.629\"/>\n<polygon fill=\"#000000\" stroke=\"#000000\" points=\"826.3464,-151.6516 823.682,-141.3972 819.3702,-151.075 826.3464,-151.6516\"/>\n</g>\n<!-- 140514457764880 -->\n<g id=\"node7\" class=\"node\">\n<title>140514457764880</title>\n<polygon fill=\"#d3d3d3\" stroke=\"#000000\" points=\"720,-267.5 619,-267.5 619,-248.5 720,-248.5 720,-267.5\"/>\n<text text-anchor=\"middle\" x=\"669.5\" y=\"-255.5\" font-family=\"monospace\" font-size=\"10.00\" fill=\"#000000\">AccumulateGrad</text>\n</g>\n<!-- 140514457764880&#45;&gt;140514457765776 -->\n<g id=\"edge5\" class=\"edge\">\n<title>140514457764880&#45;&gt;140514457765776</title>\n<path fill=\"none\" stroke=\"#000000\" d=\"M691.3113,-248.403C716.8619,-237.1608 759.3807,-218.4525 788.3874,-205.6896\"/>\n<polygon fill=\"#000000\" stroke=\"#000000\" points=\"789.9188,-208.8396 797.6624,-201.6085 787.0996,-202.4324 789.9188,-208.8396\"/>\n</g>\n<!-- 140514457354400 -->\n<g id=\"node8\" class=\"node\">\n<title>140514457354400</title>\n<polygon fill=\"#add8e6\" stroke=\"#000000\" points=\"699,-339 640,-339 640,-309 699,-309 699,-339\"/>\n<text text-anchor=\"middle\" x=\"669.5\" y=\"-327\" font-family=\"monospace\" font-size=\"10.00\" fill=\"#000000\">18.bias</text>\n<text text-anchor=\"middle\" x=\"669.5\" y=\"-316\" font-family=\"monospace\" font-size=\"10.00\" fill=\"#000000\"> (4096)</text>\n</g>\n<!-- 140514457354400&#45;&gt;140514457764880 -->\n<g id=\"edge6\" class=\"edge\">\n<title>140514457354400&#45;&gt;140514457764880</title>\n<path fill=\"none\" stroke=\"#000000\" d=\"M669.5,-308.6924C669.5,-299.5067 669.5,-287.7245 669.5,-277.8312\"/>\n<polygon fill=\"#000000\" stroke=\"#000000\" points=\"673.0001,-277.703 669.5,-267.7031 666.0001,-277.7031 673.0001,-277.703\"/>\n</g>\n<!-- 140514457766096 -->\n<g id=\"node9\" class=\"node\">\n<title>140514457766096</title>\n<polygon fill=\"#d3d3d3\" stroke=\"#000000\" points=\"827,-267.5 738,-267.5 738,-248.5 827,-248.5 827,-267.5\"/>\n<text text-anchor=\"middle\" x=\"782.5\" y=\"-255.5\" font-family=\"monospace\" font-size=\"10.00\" fill=\"#000000\">MulBackward0</text>\n</g>\n<!-- 140514457766096&#45;&gt;140514457765776 -->\n<g id=\"edge7\" class=\"edge\">\n<title>140514457766096&#45;&gt;140514457765776</title>\n<path fill=\"none\" stroke=\"#000000\" d=\"M787.9595,-248.2615C793.4793,-238.4152 802.1506,-222.9476 809.0052,-210.7204\"/>\n<polygon fill=\"#000000\" stroke=\"#000000\" points=\"812.181,-212.2128 814.0181,-201.7785 806.075,-208.7898 812.181,-212.2128\"/>\n</g>\n<!-- 140514457765904 -->\n<g id=\"node10\" class=\"node\">\n<title>140514457765904</title>\n<polygon fill=\"#d3d3d3\" stroke=\"#000000\" points=\"821,-333.5 726,-333.5 726,-314.5 821,-314.5 821,-333.5\"/>\n<text text-anchor=\"middle\" x=\"773.5\" y=\"-321.5\" font-family=\"monospace\" font-size=\"10.00\" fill=\"#000000\">ReluBackward0</text>\n</g>\n<!-- 140514457765904&#45;&gt;140514457766096 -->\n<g id=\"edge8\" class=\"edge\">\n<title>140514457765904&#45;&gt;140514457766096</title>\n<path fill=\"none\" stroke=\"#000000\" d=\"M774.828,-314.2615C776.1308,-304.7077 778.1552,-289.8615 779.7975,-277.8183\"/>\n<polygon fill=\"#000000\" stroke=\"#000000\" points=\"783.2833,-278.1597 781.1666,-267.7785 776.3474,-277.2139 783.2833,-278.1597\"/>\n</g>\n<!-- 140514457766352 -->\n<g id=\"node11\" class=\"node\">\n<title>140514457766352</title>\n<polygon fill=\"#d3d3d3\" stroke=\"#000000\" points=\"821,-399.5 726,-399.5 726,-380.5 821,-380.5 821,-399.5\"/>\n<text text-anchor=\"middle\" x=\"773.5\" y=\"-387.5\" font-family=\"monospace\" font-size=\"10.00\" fill=\"#000000\">AddmmBackward</text>\n</g>\n<!-- 140514457766352&#45;&gt;140514457765904 -->\n<g id=\"edge9\" class=\"edge\">\n<title>140514457766352&#45;&gt;140514457765904</title>\n<path fill=\"none\" stroke=\"#000000\" d=\"M773.5,-380.2615C773.5,-370.7077 773.5,-355.8615 773.5,-343.8183\"/>\n<polygon fill=\"#000000\" stroke=\"#000000\" points=\"777.0001,-343.7784 773.5,-333.7785 770.0001,-343.7785 777.0001,-343.7784\"/>\n</g>\n<!-- 140514457766288 -->\n<g id=\"node12\" class=\"node\">\n<title>140514457766288</title>\n<polygon fill=\"#d3d3d3\" stroke=\"#000000\" points=\"696,-460 595,-460 595,-441 696,-441 696,-460\"/>\n<text text-anchor=\"middle\" x=\"645.5\" y=\"-448\" font-family=\"monospace\" font-size=\"10.00\" fill=\"#000000\">AccumulateGrad</text>\n</g>\n<!-- 140514457766288&#45;&gt;140514457766352 -->\n<g id=\"edge10\" class=\"edge\">\n<title>140514457766288&#45;&gt;140514457766352</title>\n<path fill=\"none\" stroke=\"#000000\" d=\"M665.782,-440.9136C686.8473,-430.9569 720.0168,-415.2791 743.9855,-403.9502\"/>\n<polygon fill=\"#000000\" stroke=\"#000000\" points=\"745.7676,-406.9792 753.3129,-399.5416 742.7763,-400.6505 745.7676,-406.9792\"/>\n</g>\n<!-- 140514457828960 -->\n<g id=\"node13\" class=\"node\">\n<title>140514457828960</title>\n<polygon fill=\"#add8e6\" stroke=\"#000000\" points=\"675,-526 616,-526 616,-496 675,-496 675,-526\"/>\n<text text-anchor=\"middle\" x=\"645.5\" y=\"-514\" font-family=\"monospace\" font-size=\"10.00\" fill=\"#000000\">15.bias</text>\n<text text-anchor=\"middle\" x=\"645.5\" y=\"-503\" font-family=\"monospace\" font-size=\"10.00\" fill=\"#000000\"> (4096)</text>\n</g>\n<!-- 140514457828960&#45;&gt;140514457766288 -->\n<g id=\"edge11\" class=\"edge\">\n<title>140514457828960&#45;&gt;140514457766288</title>\n<path fill=\"none\" stroke=\"#000000\" d=\"M645.5,-495.7333C645.5,-488.0322 645.5,-478.5977 645.5,-470.3414\"/>\n<polygon fill=\"#000000\" stroke=\"#000000\" points=\"649.0001,-470.0864 645.5,-460.0864 642.0001,-470.0864 649.0001,-470.0864\"/>\n</g>\n<!-- 140514457764496 -->\n<g id=\"node14\" class=\"node\">\n<title>140514457764496</title>\n<polygon fill=\"#d3d3d3\" stroke=\"#000000\" points=\"833,-460 714,-460 714,-441 833,-441 833,-460\"/>\n<text text-anchor=\"middle\" x=\"773.5\" y=\"-448\" font-family=\"monospace\" font-size=\"10.00\" fill=\"#000000\">AsStridedBackward</text>\n</g>\n<!-- 140514457764496&#45;&gt;140514457766352 -->\n<g id=\"edge12\" class=\"edge\">\n<title>140514457764496&#45;&gt;140514457766352</title>\n<path fill=\"none\" stroke=\"#000000\" d=\"M773.5,-440.7796C773.5,-432.5376 773.5,-420.4457 773.5,-410.129\"/>\n<polygon fill=\"#000000\" stroke=\"#000000\" points=\"777.0001,-409.8972 773.5,-399.8972 770.0001,-409.8973 777.0001,-409.8972\"/>\n</g>\n<!-- 140514457766544 -->\n<g id=\"node15\" class=\"node\">\n<title>140514457766544</title>\n<polygon fill=\"#d3d3d3\" stroke=\"#000000\" points=\"791,-520.5 714,-520.5 714,-501.5 791,-501.5 791,-520.5\"/>\n<text text-anchor=\"middle\" x=\"752.5\" y=\"-508.5\" font-family=\"monospace\" font-size=\"10.00\" fill=\"#000000\">CopySlices</text>\n</g>\n<!-- 140514457766544&#45;&gt;140514457764496 -->\n<g id=\"edge13\" class=\"edge\">\n<title>140514457766544&#45;&gt;140514457764496</title>\n<path fill=\"none\" stroke=\"#000000\" d=\"M755.874,-501.2796C758.7957,-492.8623 763.1113,-480.4295 766.7408,-469.973\"/>\n<polygon fill=\"#000000\" stroke=\"#000000\" points=\"770.0919,-470.992 770.0646,-460.3972 763.4789,-468.6966 770.0919,-470.992\"/>\n</g>\n<!-- 140514457764624 -->\n<g id=\"node16\" class=\"node\">\n<title>140514457764624</title>\n<polygon fill=\"#d3d3d3\" stroke=\"#000000\" points=\"839,-586.5 654,-586.5 654,-567.5 839,-567.5 839,-586.5\"/>\n<text text-anchor=\"middle\" x=\"746.5\" y=\"-574.5\" font-family=\"monospace\" font-size=\"10.00\" fill=\"#000000\">MaxPool2DWithIndicesBackward</text>\n</g>\n<!-- 140514457764624&#45;&gt;140514457766544 -->\n<g id=\"edge14\" class=\"edge\">\n<title>140514457764624&#45;&gt;140514457766544</title>\n<path fill=\"none\" stroke=\"#000000\" d=\"M747.3853,-567.2615C748.2538,-557.7077 749.6035,-542.8615 750.6983,-530.8183\"/>\n<polygon fill=\"#000000\" stroke=\"#000000\" points=\"754.1912,-531.0543 751.611,-520.7785 747.22,-530.4205 754.1912,-531.0543\"/>\n</g>\n<!-- 140514457766672 -->\n<g id=\"node17\" class=\"node\">\n<title>140514457766672</title>\n<polygon fill=\"#d3d3d3\" stroke=\"#000000\" points=\"794,-647 699,-647 699,-628 794,-628 794,-647\"/>\n<text text-anchor=\"middle\" x=\"746.5\" y=\"-635\" font-family=\"monospace\" font-size=\"10.00\" fill=\"#000000\">ReluBackward1</text>\n</g>\n<!-- 140514457766672&#45;&gt;140514457764624 -->\n<g id=\"edge15\" class=\"edge\">\n<title>140514457766672&#45;&gt;140514457764624</title>\n<path fill=\"none\" stroke=\"#000000\" d=\"M746.5,-627.7796C746.5,-619.5376 746.5,-607.4457 746.5,-597.129\"/>\n<polygon fill=\"#000000\" stroke=\"#000000\" points=\"750.0001,-596.8972 746.5,-586.8972 743.0001,-596.8973 750.0001,-596.8972\"/>\n</g>\n<!-- 140514457766608 -->\n<g id=\"node18\" class=\"node\">\n<title>140514457766608</title>\n<polygon fill=\"#d3d3d3\" stroke=\"#000000\" points=\"830,-702 663,-702 663,-683 830,-683 830,-702\"/>\n<text text-anchor=\"middle\" x=\"746.5\" y=\"-690\" font-family=\"monospace\" font-size=\"10.00\" fill=\"#000000\">MkldnnConvolutionBackward</text>\n</g>\n<!-- 140514457766608&#45;&gt;140514457766672 -->\n<g id=\"edge16\" class=\"edge\">\n<title>140514457766608&#45;&gt;140514457766672</title>\n<path fill=\"none\" stroke=\"#000000\" d=\"M746.5,-682.9197C746.5,-675.9083 746.5,-666.1442 746.5,-657.4652\"/>\n<polygon fill=\"#000000\" stroke=\"#000000\" points=\"750.0001,-657.3408 746.5,-647.3408 743.0001,-657.3409 750.0001,-657.3408\"/>\n</g>\n<!-- 140514457766928 -->\n<g id=\"node19\" class=\"node\">\n<title>140514457766928</title>\n<polygon fill=\"#d3d3d3\" stroke=\"#000000\" points=\"659,-757 564,-757 564,-738 659,-738 659,-757\"/>\n<text text-anchor=\"middle\" x=\"611.5\" y=\"-745\" font-family=\"monospace\" font-size=\"10.00\" fill=\"#000000\">ReluBackward1</text>\n</g>\n<!-- 140514457766928&#45;&gt;140514457766608 -->\n<g id=\"edge17\" class=\"edge\">\n<title>140514457766928&#45;&gt;140514457766608</title>\n<path fill=\"none\" stroke=\"#000000\" d=\"M635.0152,-737.9197C656.6603,-729.1014 688.9932,-715.9287 713.2732,-706.0369\"/>\n<polygon fill=\"#000000\" stroke=\"#000000\" points=\"714.8609,-709.1694 722.8013,-702.155 712.2198,-702.6867 714.8609,-709.1694\"/>\n</g>\n<!-- 140514457766736 -->\n<g id=\"node20\" class=\"node\">\n<title>140514457766736</title>\n<polygon fill=\"#d3d3d3\" stroke=\"#000000\" points=\"675,-817.5 508,-817.5 508,-798.5 675,-798.5 675,-817.5\"/>\n<text text-anchor=\"middle\" x=\"591.5\" y=\"-805.5\" font-family=\"monospace\" font-size=\"10.00\" fill=\"#000000\">MkldnnConvolutionBackward</text>\n</g>\n<!-- 140514457766736&#45;&gt;140514457766928 -->\n<g id=\"edge18\" class=\"edge\">\n<title>140514457766736&#45;&gt;140514457766928</title>\n<path fill=\"none\" stroke=\"#000000\" d=\"M594.7133,-798.2796C597.4959,-789.8623 601.606,-777.4295 605.0626,-766.973\"/>\n<polygon fill=\"#000000\" stroke=\"#000000\" points=\"608.4125,-767.9905 608.2282,-757.3972 601.7663,-765.7933 608.4125,-767.9905\"/>\n</g>\n<!-- 140514457765008 -->\n<g id=\"node21\" class=\"node\">\n<title>140514457765008</title>\n<polygon fill=\"#d3d3d3\" stroke=\"#000000\" points=\"504,-878 409,-878 409,-859 504,-859 504,-878\"/>\n<text text-anchor=\"middle\" x=\"456.5\" y=\"-866\" font-family=\"monospace\" font-size=\"10.00\" fill=\"#000000\">ReluBackward1</text>\n</g>\n<!-- 140514457765008&#45;&gt;140514457766736 -->\n<g id=\"edge19\" class=\"edge\">\n<title>140514457765008&#45;&gt;140514457766736</title>\n<path fill=\"none\" stroke=\"#000000\" d=\"M477.8912,-858.9136C500.306,-848.8684 535.7149,-833 561.0433,-821.6491\"/>\n<polygon fill=\"#000000\" stroke=\"#000000\" points=\"562.5148,-824.8251 570.2089,-817.5416 559.652,-818.4373 562.5148,-824.8251\"/>\n</g>\n<!-- 140514457767760 -->\n<g id=\"node22\" class=\"node\">\n<title>140514457767760</title>\n<polygon fill=\"#d3d3d3\" stroke=\"#000000\" points=\"521,-938.5 354,-938.5 354,-919.5 521,-919.5 521,-938.5\"/>\n<text text-anchor=\"middle\" x=\"437.5\" y=\"-926.5\" font-family=\"monospace\" font-size=\"10.00\" fill=\"#000000\">MkldnnConvolutionBackward</text>\n</g>\n<!-- 140514457767760&#45;&gt;140514457765008 -->\n<g id=\"edge20\" class=\"edge\">\n<title>140514457767760&#45;&gt;140514457765008</title>\n<path fill=\"none\" stroke=\"#000000\" d=\"M440.5527,-919.2796C443.1961,-910.8623 447.1007,-898.4295 450.3845,-887.973\"/>\n<polygon fill=\"#000000\" stroke=\"#000000\" points=\"453.7347,-888.9865 453.3918,-878.3972 447.0563,-886.8891 453.7347,-888.9865\"/>\n</g>\n<!-- 140514457767568 -->\n<g id=\"node23\" class=\"node\">\n<title>140514457767568</title>\n<polygon fill=\"#d3d3d3\" stroke=\"#000000\" points=\"369,-999 184,-999 184,-980 369,-980 369,-999\"/>\n<text text-anchor=\"middle\" x=\"276.5\" y=\"-987\" font-family=\"monospace\" font-size=\"10.00\" fill=\"#000000\">MaxPool2DWithIndicesBackward</text>\n</g>\n<!-- 140514457767568&#45;&gt;140514457767760 -->\n<g id=\"edge21\" class=\"edge\">\n<title>140514457767568&#45;&gt;140514457767760</title>\n<path fill=\"none\" stroke=\"#000000\" d=\"M302.0109,-979.9136C329.096,-969.7357 372.09,-953.5795 402.3688,-942.2015\"/>\n<polygon fill=\"#000000\" stroke=\"#000000\" points=\"403.9787,-945.3355 412.1084,-938.5416 401.5163,-938.7829 403.9787,-945.3355\"/>\n</g>\n<!-- 140514457767440 -->\n<g id=\"node24\" class=\"node\">\n<title>140514457767440</title>\n<polygon fill=\"#d3d3d3\" stroke=\"#000000\" points=\"324,-1059.5 229,-1059.5 229,-1040.5 324,-1040.5 324,-1059.5\"/>\n<text text-anchor=\"middle\" x=\"276.5\" y=\"-1047.5\" font-family=\"monospace\" font-size=\"10.00\" fill=\"#000000\">ReluBackward1</text>\n</g>\n<!-- 140514457767440&#45;&gt;140514457767568 -->\n<g id=\"edge22\" class=\"edge\">\n<title>140514457767440&#45;&gt;140514457767568</title>\n<path fill=\"none\" stroke=\"#000000\" d=\"M276.5,-1040.2796C276.5,-1032.0376 276.5,-1019.9457 276.5,-1009.629\"/>\n<polygon fill=\"#000000\" stroke=\"#000000\" points=\"280.0001,-1009.3972 276.5,-999.3972 273.0001,-1009.3973 280.0001,-1009.3972\"/>\n</g>\n<!-- 140516287263824 -->\n<g id=\"node25\" class=\"node\">\n<title>140516287263824</title>\n<polygon fill=\"#d3d3d3\" stroke=\"#000000\" points=\"360,-1120 193,-1120 193,-1101 360,-1101 360,-1120\"/>\n<text text-anchor=\"middle\" x=\"276.5\" y=\"-1108\" font-family=\"monospace\" font-size=\"10.00\" fill=\"#000000\">MkldnnConvolutionBackward</text>\n</g>\n<!-- 140516287263824&#45;&gt;140514457767440 -->\n<g id=\"edge23\" class=\"edge\">\n<title>140516287263824&#45;&gt;140514457767440</title>\n<path fill=\"none\" stroke=\"#000000\" d=\"M276.5,-1100.7796C276.5,-1092.5376 276.5,-1080.4457 276.5,-1070.129\"/>\n<polygon fill=\"#000000\" stroke=\"#000000\" points=\"280.0001,-1069.8972 276.5,-1059.8972 273.0001,-1069.8973 280.0001,-1069.8972\"/>\n</g>\n<!-- 140514457767504 -->\n<g id=\"node26\" class=\"node\">\n<title>140514457767504</title>\n<polygon fill=\"#d3d3d3\" stroke=\"#000000\" points=\"208,-1175 23,-1175 23,-1156 208,-1156 208,-1175\"/>\n<text text-anchor=\"middle\" x=\"115.5\" y=\"-1163\" font-family=\"monospace\" font-size=\"10.00\" fill=\"#000000\">MaxPool2DWithIndicesBackward</text>\n</g>\n<!-- 140514457767504&#45;&gt;140516287263824 -->\n<g id=\"edge24\" class=\"edge\">\n<title>140514457767504&#45;&gt;140516287263824</title>\n<path fill=\"none\" stroke=\"#000000\" d=\"M143.5441,-1155.9197C169.8973,-1146.9171 209.5352,-1133.3762 238.6767,-1123.421\"/>\n<polygon fill=\"#000000\" stroke=\"#000000\" points=\"240.1761,-1126.6075 248.5077,-1120.0626 237.9131,-1119.9833 240.1761,-1126.6075\"/>\n</g>\n<!-- 140516191330768 -->\n<g id=\"node27\" class=\"node\">\n<title>140516191330768</title>\n<polygon fill=\"#d3d3d3\" stroke=\"#000000\" points=\"163,-1235.5 68,-1235.5 68,-1216.5 163,-1216.5 163,-1235.5\"/>\n<text text-anchor=\"middle\" x=\"115.5\" y=\"-1223.5\" font-family=\"monospace\" font-size=\"10.00\" fill=\"#000000\">ReluBackward1</text>\n</g>\n<!-- 140516191330768&#45;&gt;140514457767504 -->\n<g id=\"edge25\" class=\"edge\">\n<title>140516191330768&#45;&gt;140514457767504</title>\n<path fill=\"none\" stroke=\"#000000\" d=\"M115.5,-1216.2796C115.5,-1208.0376 115.5,-1195.9457 115.5,-1185.629\"/>\n<polygon fill=\"#000000\" stroke=\"#000000\" points=\"119.0001,-1185.3972 115.5,-1175.3972 112.0001,-1185.3973 119.0001,-1185.3972\"/>\n</g>\n<!-- 140516292600720 -->\n<g id=\"node28\" class=\"node\">\n<title>140516292600720</title>\n<polygon fill=\"#d3d3d3\" stroke=\"#000000\" points=\"199,-1296 32,-1296 32,-1277 199,-1277 199,-1296\"/>\n<text text-anchor=\"middle\" x=\"115.5\" y=\"-1284\" font-family=\"monospace\" font-size=\"10.00\" fill=\"#000000\">MkldnnConvolutionBackward</text>\n</g>\n<!-- 140516292600720&#45;&gt;140516191330768 -->\n<g id=\"edge26\" class=\"edge\">\n<title>140516292600720&#45;&gt;140516191330768</title>\n<path fill=\"none\" stroke=\"#000000\" d=\"M115.5,-1276.7796C115.5,-1268.5376 115.5,-1256.4457 115.5,-1246.129\"/>\n<polygon fill=\"#000000\" stroke=\"#000000\" points=\"119.0001,-1245.8972 115.5,-1235.8972 112.0001,-1245.8973 119.0001,-1245.8972\"/>\n</g>\n<!-- 140516191330896 -->\n<g id=\"node29\" class=\"node\">\n<title>140516191330896</title>\n<polygon fill=\"#d3d3d3\" stroke=\"#000000\" points=\"107,-1351 6,-1351 6,-1332 107,-1332 107,-1351\"/>\n<text text-anchor=\"middle\" x=\"56.5\" y=\"-1339\" font-family=\"monospace\" font-size=\"10.00\" fill=\"#000000\">AccumulateGrad</text>\n</g>\n<!-- 140516191330896&#45;&gt;140516292600720 -->\n<g id=\"edge27\" class=\"edge\">\n<title>140516191330896&#45;&gt;140516292600720</title>\n<path fill=\"none\" stroke=\"#000000\" d=\"M66.777,-1331.9197C75.2176,-1324.0514 87.377,-1312.7164 97.4369,-1303.3385\"/>\n<polygon fill=\"#000000\" stroke=\"#000000\" points=\"100.0154,-1305.7198 104.9435,-1296.3408 95.2422,-1300.5995 100.0154,-1305.7198\"/>\n</g>\n<!-- 140514457828240 -->\n<g id=\"node30\" class=\"node\">\n<title>140514457828240</title>\n<polygon fill=\"#add8e6\" stroke=\"#000000\" points=\"113,-1417 0,-1417 0,-1387 113,-1387 113,-1417\"/>\n<text text-anchor=\"middle\" x=\"56.5\" y=\"-1405\" font-family=\"monospace\" font-size=\"10.00\" fill=\"#000000\">0.weight</text>\n<text text-anchor=\"middle\" x=\"56.5\" y=\"-1394\" font-family=\"monospace\" font-size=\"10.00\" fill=\"#000000\"> (64, 1, 11, 11)</text>\n</g>\n<!-- 140514457828240&#45;&gt;140516191330896 -->\n<g id=\"edge28\" class=\"edge\">\n<title>140514457828240&#45;&gt;140516191330896</title>\n<path fill=\"none\" stroke=\"#000000\" d=\"M56.5,-1386.7333C56.5,-1379.0322 56.5,-1369.5977 56.5,-1361.3414\"/>\n<polygon fill=\"#000000\" stroke=\"#000000\" points=\"60.0001,-1361.0864 56.5,-1351.0864 53.0001,-1361.0864 60.0001,-1361.0864\"/>\n</g>\n<!-- 140516252589968 -->\n<g id=\"node31\" class=\"node\">\n<title>140516252589968</title>\n<polygon fill=\"#d3d3d3\" stroke=\"#000000\" points=\"226,-1351 125,-1351 125,-1332 226,-1332 226,-1351\"/>\n<text text-anchor=\"middle\" x=\"175.5\" y=\"-1339\" font-family=\"monospace\" font-size=\"10.00\" fill=\"#000000\">AccumulateGrad</text>\n</g>\n<!-- 140516252589968&#45;&gt;140516292600720 -->\n<g id=\"edge29\" class=\"edge\">\n<title>140516252589968&#45;&gt;140516292600720</title>\n<path fill=\"none\" stroke=\"#000000\" d=\"M165.0488,-1331.9197C156.4651,-1324.0514 144.0997,-1312.7164 133.8693,-1303.3385\"/>\n<polygon fill=\"#000000\" stroke=\"#000000\" points=\"135.9721,-1300.5181 126.2355,-1296.3408 131.242,-1305.6782 135.9721,-1300.5181\"/>\n</g>\n<!-- 140514457828320 -->\n<g id=\"node32\" class=\"node\">\n<title>140514457828320</title>\n<polygon fill=\"#add8e6\" stroke=\"#000000\" points=\"202.5,-1417 148.5,-1417 148.5,-1387 202.5,-1387 202.5,-1417\"/>\n<text text-anchor=\"middle\" x=\"175.5\" y=\"-1405\" font-family=\"monospace\" font-size=\"10.00\" fill=\"#000000\">0.bias</text>\n<text text-anchor=\"middle\" x=\"175.5\" y=\"-1394\" font-family=\"monospace\" font-size=\"10.00\" fill=\"#000000\"> (64)</text>\n</g>\n<!-- 140514457828320&#45;&gt;140516252589968 -->\n<g id=\"edge30\" class=\"edge\">\n<title>140514457828320&#45;&gt;140516252589968</title>\n<path fill=\"none\" stroke=\"#000000\" d=\"M175.5,-1386.7333C175.5,-1379.0322 175.5,-1369.5977 175.5,-1361.3414\"/>\n<polygon fill=\"#000000\" stroke=\"#000000\" points=\"179.0001,-1361.0864 175.5,-1351.0864 172.0001,-1361.0864 179.0001,-1361.0864\"/>\n</g>\n<!-- 140516191330576 -->\n<g id=\"node33\" class=\"node\">\n<title>140516191330576</title>\n<polygon fill=\"#d3d3d3\" stroke=\"#000000\" points=\"327,-1175 226,-1175 226,-1156 327,-1156 327,-1175\"/>\n<text text-anchor=\"middle\" x=\"276.5\" y=\"-1163\" font-family=\"monospace\" font-size=\"10.00\" fill=\"#000000\">AccumulateGrad</text>\n</g>\n<!-- 140516191330576&#45;&gt;140516287263824 -->\n<g id=\"edge31\" class=\"edge\">\n<title>140516191330576&#45;&gt;140516287263824</title>\n<path fill=\"none\" stroke=\"#000000\" d=\"M276.5,-1155.9197C276.5,-1148.9083 276.5,-1139.1442 276.5,-1130.4652\"/>\n<polygon fill=\"#000000\" stroke=\"#000000\" points=\"280.0001,-1130.3408 276.5,-1120.3408 273.0001,-1130.3409 280.0001,-1130.3408\"/>\n</g>\n<!-- 140514457826000 -->\n<g id=\"node34\" class=\"node\">\n<title>140514457826000</title>\n<polygon fill=\"#add8e6\" stroke=\"#000000\" points=\"333,-1241 220,-1241 220,-1211 333,-1211 333,-1241\"/>\n<text text-anchor=\"middle\" x=\"276.5\" y=\"-1229\" font-family=\"monospace\" font-size=\"10.00\" fill=\"#000000\">3.weight</text>\n<text text-anchor=\"middle\" x=\"276.5\" y=\"-1218\" font-family=\"monospace\" font-size=\"10.00\" fill=\"#000000\"> (256, 64, 5, 5)</text>\n</g>\n<!-- 140514457826000&#45;&gt;140516191330576 -->\n<g id=\"edge32\" class=\"edge\">\n<title>140514457826000&#45;&gt;140516191330576</title>\n<path fill=\"none\" stroke=\"#000000\" d=\"M276.5,-1210.7333C276.5,-1203.0322 276.5,-1193.5977 276.5,-1185.3414\"/>\n<polygon fill=\"#000000\" stroke=\"#000000\" points=\"280.0001,-1185.0864 276.5,-1175.0864 273.0001,-1185.0864 280.0001,-1185.0864\"/>\n</g>\n<!-- 140516191330704 -->\n<g id=\"node35\" class=\"node\">\n<title>140516191330704</title>\n<polygon fill=\"#d3d3d3\" stroke=\"#000000\" points=\"446,-1175 345,-1175 345,-1156 446,-1156 446,-1175\"/>\n<text text-anchor=\"middle\" x=\"395.5\" y=\"-1163\" font-family=\"monospace\" font-size=\"10.00\" fill=\"#000000\">AccumulateGrad</text>\n</g>\n<!-- 140516191330704&#45;&gt;140516287263824 -->\n<g id=\"edge33\" class=\"edge\">\n<title>140516191330704&#45;&gt;140516287263824</title>\n<path fill=\"none\" stroke=\"#000000\" d=\"M374.7718,-1155.9197C355.9465,-1147.219 327.9495,-1134.2792 306.6487,-1124.4343\"/>\n<polygon fill=\"#000000\" stroke=\"#000000\" points=\"307.9357,-1121.1734 297.39,-1120.155 304.9989,-1127.5276 307.9357,-1121.1734\"/>\n</g>\n<!-- 140514457828400 -->\n<g id=\"node36\" class=\"node\">\n<title>140514457828400</title>\n<polygon fill=\"#add8e6\" stroke=\"#000000\" points=\"422.5,-1241 368.5,-1241 368.5,-1211 422.5,-1211 422.5,-1241\"/>\n<text text-anchor=\"middle\" x=\"395.5\" y=\"-1229\" font-family=\"monospace\" font-size=\"10.00\" fill=\"#000000\">3.bias</text>\n<text text-anchor=\"middle\" x=\"395.5\" y=\"-1218\" font-family=\"monospace\" font-size=\"10.00\" fill=\"#000000\"> (256)</text>\n</g>\n<!-- 140514457828400&#45;&gt;140516191330704 -->\n<g id=\"edge34\" class=\"edge\">\n<title>140514457828400&#45;&gt;140516191330704</title>\n<path fill=\"none\" stroke=\"#000000\" d=\"M395.5,-1210.7333C395.5,-1203.0322 395.5,-1193.5977 395.5,-1185.3414\"/>\n<polygon fill=\"#000000\" stroke=\"#000000\" points=\"399.0001,-1185.0864 395.5,-1175.0864 392.0001,-1185.0864 399.0001,-1185.0864\"/>\n</g>\n<!-- 140514457764816 -->\n<g id=\"node37\" class=\"node\">\n<title>140514457764816</title>\n<polygon fill=\"#d3d3d3\" stroke=\"#000000\" points=\"488,-999 387,-999 387,-980 488,-980 488,-999\"/>\n<text text-anchor=\"middle\" x=\"437.5\" y=\"-987\" font-family=\"monospace\" font-size=\"10.00\" fill=\"#000000\">AccumulateGrad</text>\n</g>\n<!-- 140514457764816&#45;&gt;140514457767760 -->\n<g id=\"edge35\" class=\"edge\">\n<title>140514457764816&#45;&gt;140514457767760</title>\n<path fill=\"none\" stroke=\"#000000\" d=\"M437.5,-979.7796C437.5,-971.5376 437.5,-959.4457 437.5,-949.129\"/>\n<polygon fill=\"#000000\" stroke=\"#000000\" points=\"441.0001,-948.8972 437.5,-938.8972 434.0001,-948.8973 441.0001,-948.8972\"/>\n</g>\n<!-- 140514457828160 -->\n<g id=\"node38\" class=\"node\">\n<title>140514457828160</title>\n<polygon fill=\"#add8e6\" stroke=\"#000000\" points=\"497,-1065 378,-1065 378,-1035 497,-1035 497,-1065\"/>\n<text text-anchor=\"middle\" x=\"437.5\" y=\"-1053\" font-family=\"monospace\" font-size=\"10.00\" fill=\"#000000\">6.weight</text>\n<text text-anchor=\"middle\" x=\"437.5\" y=\"-1042\" font-family=\"monospace\" font-size=\"10.00\" fill=\"#000000\"> (350, 256, 3, 3)</text>\n</g>\n<!-- 140514457828160&#45;&gt;140514457764816 -->\n<g id=\"edge36\" class=\"edge\">\n<title>140514457828160&#45;&gt;140514457764816</title>\n<path fill=\"none\" stroke=\"#000000\" d=\"M437.5,-1034.7333C437.5,-1027.0322 437.5,-1017.5977 437.5,-1009.3414\"/>\n<polygon fill=\"#000000\" stroke=\"#000000\" points=\"441.0001,-1009.0864 437.5,-999.0864 434.0001,-1009.0864 441.0001,-1009.0864\"/>\n</g>\n<!-- 140514457767824 -->\n<g id=\"node39\" class=\"node\">\n<title>140514457767824</title>\n<polygon fill=\"#d3d3d3\" stroke=\"#000000\" points=\"607,-999 506,-999 506,-980 607,-980 607,-999\"/>\n<text text-anchor=\"middle\" x=\"556.5\" y=\"-987\" font-family=\"monospace\" font-size=\"10.00\" fill=\"#000000\">AccumulateGrad</text>\n</g>\n<!-- 140514457767824&#45;&gt;140514457767760 -->\n<g id=\"edge37\" class=\"edge\">\n<title>140514457767824&#45;&gt;140514457767760</title>\n<path fill=\"none\" stroke=\"#000000\" d=\"M537.6441,-979.9136C518.1469,-970.0012 487.4965,-954.4184 465.2368,-943.1015\"/>\n<polygon fill=\"#000000\" stroke=\"#000000\" points=\"466.768,-939.9536 456.2677,-938.5416 463.5956,-946.1935 466.768,-939.9536\"/>\n</g>\n<!-- 140514457828480 -->\n<g id=\"node40\" class=\"node\">\n<title>140514457828480</title>\n<polygon fill=\"#add8e6\" stroke=\"#000000\" points=\"583.5,-1065 529.5,-1065 529.5,-1035 583.5,-1035 583.5,-1065\"/>\n<text text-anchor=\"middle\" x=\"556.5\" y=\"-1053\" font-family=\"monospace\" font-size=\"10.00\" fill=\"#000000\">6.bias</text>\n<text text-anchor=\"middle\" x=\"556.5\" y=\"-1042\" font-family=\"monospace\" font-size=\"10.00\" fill=\"#000000\"> (350)</text>\n</g>\n<!-- 140514457828480&#45;&gt;140514457767824 -->\n<g id=\"edge38\" class=\"edge\">\n<title>140514457828480&#45;&gt;140514457767824</title>\n<path fill=\"none\" stroke=\"#000000\" d=\"M556.5,-1034.7333C556.5,-1027.0322 556.5,-1017.5977 556.5,-1009.3414\"/>\n<polygon fill=\"#000000\" stroke=\"#000000\" points=\"560.0001,-1009.0864 556.5,-999.0864 553.0001,-1009.0864 560.0001,-1009.0864\"/>\n</g>\n<!-- 140514457767696 -->\n<g id=\"node41\" class=\"node\">\n<title>140514457767696</title>\n<polygon fill=\"#d3d3d3\" stroke=\"#000000\" points=\"642,-878 541,-878 541,-859 642,-859 642,-878\"/>\n<text text-anchor=\"middle\" x=\"591.5\" y=\"-866\" font-family=\"monospace\" font-size=\"10.00\" fill=\"#000000\">AccumulateGrad</text>\n</g>\n<!-- 140514457767696&#45;&gt;140514457766736 -->\n<g id=\"edge39\" class=\"edge\">\n<title>140514457767696&#45;&gt;140514457766736</title>\n<path fill=\"none\" stroke=\"#000000\" d=\"M591.5,-858.7796C591.5,-850.5376 591.5,-838.4457 591.5,-828.129\"/>\n<polygon fill=\"#000000\" stroke=\"#000000\" points=\"595.0001,-827.8972 591.5,-817.8972 588.0001,-827.8973 595.0001,-827.8972\"/>\n</g>\n<!-- 140514457828560 -->\n<g id=\"node42\" class=\"node\">\n<title>140514457828560</title>\n<polygon fill=\"#add8e6\" stroke=\"#000000\" points=\"658,-944 539,-944 539,-914 658,-914 658,-944\"/>\n<text text-anchor=\"middle\" x=\"598.5\" y=\"-932\" font-family=\"monospace\" font-size=\"10.00\" fill=\"#000000\">8.weight</text>\n<text text-anchor=\"middle\" x=\"598.5\" y=\"-921\" font-family=\"monospace\" font-size=\"10.00\" fill=\"#000000\"> (384, 350, 3, 3)</text>\n</g>\n<!-- 140514457828560&#45;&gt;140514457767696 -->\n<g id=\"edge40\" class=\"edge\">\n<title>140514457828560&#45;&gt;140514457767696</title>\n<path fill=\"none\" stroke=\"#000000\" d=\"M596.7336,-913.7333C595.8324,-905.9447 594.7261,-896.3831 593.7632,-888.0604\"/>\n<polygon fill=\"#000000\" stroke=\"#000000\" points=\"597.2354,-887.6178 592.6092,-878.0864 590.2818,-888.4224 597.2354,-887.6178\"/>\n</g>\n<!-- 140514457766800 -->\n<g id=\"node43\" class=\"node\">\n<title>140514457766800</title>\n<polygon fill=\"#d3d3d3\" stroke=\"#000000\" points=\"761,-878 660,-878 660,-859 761,-859 761,-878\"/>\n<text text-anchor=\"middle\" x=\"710.5\" y=\"-866\" font-family=\"monospace\" font-size=\"10.00\" fill=\"#000000\">AccumulateGrad</text>\n</g>\n<!-- 140514457766800&#45;&gt;140514457766736 -->\n<g id=\"edge41\" class=\"edge\">\n<title>140514457766800&#45;&gt;140514457766736</title>\n<path fill=\"none\" stroke=\"#000000\" d=\"M691.6441,-858.9136C672.1469,-849.0012 641.4965,-833.4184 619.2368,-822.1015\"/>\n<polygon fill=\"#000000\" stroke=\"#000000\" points=\"620.768,-818.9536 610.2677,-817.5416 617.5956,-825.1935 620.768,-818.9536\"/>\n</g>\n<!-- 140514457828640 -->\n<g id=\"node44\" class=\"node\">\n<title>140514457828640</title>\n<polygon fill=\"#add8e6\" stroke=\"#000000\" points=\"737.5,-944 683.5,-944 683.5,-914 737.5,-914 737.5,-944\"/>\n<text text-anchor=\"middle\" x=\"710.5\" y=\"-932\" font-family=\"monospace\" font-size=\"10.00\" fill=\"#000000\">8.bias</text>\n<text text-anchor=\"middle\" x=\"710.5\" y=\"-921\" font-family=\"monospace\" font-size=\"10.00\" fill=\"#000000\"> (384)</text>\n</g>\n<!-- 140514457828640&#45;&gt;140514457766800 -->\n<g id=\"edge42\" class=\"edge\">\n<title>140514457828640&#45;&gt;140514457766800</title>\n<path fill=\"none\" stroke=\"#000000\" d=\"M710.5,-913.7333C710.5,-906.0322 710.5,-896.5977 710.5,-888.3414\"/>\n<polygon fill=\"#000000\" stroke=\"#000000\" points=\"714.0001,-888.0864 710.5,-878.0864 707.0001,-888.0864 714.0001,-888.0864\"/>\n</g>\n<!-- 140514457767056 -->\n<g id=\"node45\" class=\"node\">\n<title>140514457767056</title>\n<polygon fill=\"#d3d3d3\" stroke=\"#000000\" points=\"797,-757 696,-757 696,-738 797,-738 797,-757\"/>\n<text text-anchor=\"middle\" x=\"746.5\" y=\"-745\" font-family=\"monospace\" font-size=\"10.00\" fill=\"#000000\">AccumulateGrad</text>\n</g>\n<!-- 140514457767056&#45;&gt;140514457766608 -->\n<g id=\"edge43\" class=\"edge\">\n<title>140514457767056&#45;&gt;140514457766608</title>\n<path fill=\"none\" stroke=\"#000000\" d=\"M746.5,-737.9197C746.5,-730.9083 746.5,-721.1442 746.5,-712.4652\"/>\n<polygon fill=\"#000000\" stroke=\"#000000\" points=\"750.0001,-712.3408 746.5,-702.3408 743.0001,-712.3409 750.0001,-712.3408\"/>\n</g>\n<!-- 140514457828720 -->\n<g id=\"node46\" class=\"node\">\n<title>140514457828720</title>\n<polygon fill=\"#add8e6\" stroke=\"#000000\" points=\"812,-823 693,-823 693,-793 812,-793 812,-823\"/>\n<text text-anchor=\"middle\" x=\"752.5\" y=\"-811\" font-family=\"monospace\" font-size=\"10.00\" fill=\"#000000\">10.weight</text>\n<text text-anchor=\"middle\" x=\"752.5\" y=\"-800\" font-family=\"monospace\" font-size=\"10.00\" fill=\"#000000\"> (256, 384, 3, 3)</text>\n</g>\n<!-- 140514457828720&#45;&gt;140514457767056 -->\n<g id=\"edge44\" class=\"edge\">\n<title>140514457828720&#45;&gt;140514457767056</title>\n<path fill=\"none\" stroke=\"#000000\" d=\"M750.9859,-792.7333C750.2135,-784.9447 749.2653,-775.3831 748.4399,-767.0604\"/>\n<polygon fill=\"#000000\" stroke=\"#000000\" points=\"751.9206,-766.6921 747.4507,-757.0864 744.9548,-767.383 751.9206,-766.6921\"/>\n</g>\n<!-- 140514457765200 -->\n<g id=\"node47\" class=\"node\">\n<title>140514457765200</title>\n<polygon fill=\"#d3d3d3\" stroke=\"#000000\" points=\"916,-757 815,-757 815,-738 916,-738 916,-757\"/>\n<text text-anchor=\"middle\" x=\"865.5\" y=\"-745\" font-family=\"monospace\" font-size=\"10.00\" fill=\"#000000\">AccumulateGrad</text>\n</g>\n<!-- 140514457765200&#45;&gt;140514457766608 -->\n<g id=\"edge45\" class=\"edge\">\n<title>140514457765200&#45;&gt;140514457766608</title>\n<path fill=\"none\" stroke=\"#000000\" d=\"M844.7718,-737.9197C825.9465,-729.219 797.9495,-716.2792 776.6487,-706.4343\"/>\n<polygon fill=\"#000000\" stroke=\"#000000\" points=\"777.9357,-703.1734 767.39,-702.155 774.9989,-709.5276 777.9357,-703.1734\"/>\n</g>\n<!-- 140514457828800 -->\n<g id=\"node48\" class=\"node\">\n<title>140514457828800</title>\n<polygon fill=\"#add8e6\" stroke=\"#000000\" points=\"895,-823 836,-823 836,-793 895,-793 895,-823\"/>\n<text text-anchor=\"middle\" x=\"865.5\" y=\"-811\" font-family=\"monospace\" font-size=\"10.00\" fill=\"#000000\">10.bias</text>\n<text text-anchor=\"middle\" x=\"865.5\" y=\"-800\" font-family=\"monospace\" font-size=\"10.00\" fill=\"#000000\"> (256)</text>\n</g>\n<!-- 140514457828800&#45;&gt;140514457765200 -->\n<g id=\"edge46\" class=\"edge\">\n<title>140514457828800&#45;&gt;140514457765200</title>\n<path fill=\"none\" stroke=\"#000000\" d=\"M865.5,-792.7333C865.5,-785.0322 865.5,-775.5977 865.5,-767.3414\"/>\n<polygon fill=\"#000000\" stroke=\"#000000\" points=\"869.0001,-767.0864 865.5,-757.0864 862.0001,-767.0864 869.0001,-767.0864\"/>\n</g>\n<!-- 140514457763984 -->\n<g id=\"node49\" class=\"node\">\n<title>140514457763984</title>\n<polygon fill=\"#d3d3d3\" stroke=\"#000000\" points=\"934,-460 863,-460 863,-441 934,-441 934,-460\"/>\n<text text-anchor=\"middle\" x=\"898.5\" y=\"-448\" font-family=\"monospace\" font-size=\"10.00\" fill=\"#000000\">TBackward</text>\n</g>\n<!-- 140514457763984&#45;&gt;140514457766352 -->\n<g id=\"edge47\" class=\"edge\">\n<title>140514457763984&#45;&gt;140514457766352</title>\n<path fill=\"none\" stroke=\"#000000\" d=\"M878.6934,-440.9136C858.1217,-430.9569 825.7296,-415.2791 802.3227,-403.9502\"/>\n<polygon fill=\"#000000\" stroke=\"#000000\" points=\"803.7399,-400.7478 793.214,-399.5416 800.6903,-407.0486 803.7399,-400.7478\"/>\n</g>\n<!-- 140514844659280 -->\n<g id=\"node50\" class=\"node\">\n<title>140514844659280</title>\n<polygon fill=\"#d3d3d3\" stroke=\"#000000\" points=\"952,-520.5 851,-520.5 851,-501.5 952,-501.5 952,-520.5\"/>\n<text text-anchor=\"middle\" x=\"901.5\" y=\"-508.5\" font-family=\"monospace\" font-size=\"10.00\" fill=\"#000000\">AccumulateGrad</text>\n</g>\n<!-- 140514844659280&#45;&gt;140514457763984 -->\n<g id=\"edge48\" class=\"edge\">\n<title>140514844659280&#45;&gt;140514457763984</title>\n<path fill=\"none\" stroke=\"#000000\" d=\"M901.018,-501.2796C900.6093,-493.0376 900.0097,-480.9457 899.4981,-470.629\"/>\n<polygon fill=\"#000000\" stroke=\"#000000\" points=\"902.9818,-470.2116 898.9908,-460.3972 895.9904,-470.5583 902.9818,-470.2116\"/>\n</g>\n<!-- 140514457828880 -->\n<g id=\"node51\" class=\"node\">\n<title>140514457828880</title>\n<polygon fill=\"#add8e6\" stroke=\"#000000\" points=\"952,-592 857,-592 857,-562 952,-562 952,-592\"/>\n<text text-anchor=\"middle\" x=\"904.5\" y=\"-580\" font-family=\"monospace\" font-size=\"10.00\" fill=\"#000000\">15.weight</text>\n<text text-anchor=\"middle\" x=\"904.5\" y=\"-569\" font-family=\"monospace\" font-size=\"10.00\" fill=\"#000000\"> (4096, 6400)</text>\n</g>\n<!-- 140514457828880&#45;&gt;140514844659280 -->\n<g id=\"edge49\" class=\"edge\">\n<title>140514457828880&#45;&gt;140514844659280</title>\n<path fill=\"none\" stroke=\"#000000\" d=\"M903.8042,-561.6924C903.3867,-552.5067 902.8511,-540.7245 902.4014,-530.8312\"/>\n<polygon fill=\"#000000\" stroke=\"#000000\" points=\"905.8916,-530.5338 901.941,-520.7031 898.8988,-530.8517 905.8916,-530.5338\"/>\n</g>\n<!-- 140514457765968 -->\n<g id=\"node52\" class=\"node\">\n<title>140514457765968</title>\n<polygon fill=\"#d3d3d3\" stroke=\"#000000\" points=\"916,-267.5 845,-267.5 845,-248.5 916,-248.5 916,-267.5\"/>\n<text text-anchor=\"middle\" x=\"880.5\" y=\"-255.5\" font-family=\"monospace\" font-size=\"10.00\" fill=\"#000000\">TBackward</text>\n</g>\n<!-- 140514457765968&#45;&gt;140514457765776 -->\n<g id=\"edge50\" class=\"edge\">\n<title>140514457765968&#45;&gt;140514457765776</title>\n<path fill=\"none\" stroke=\"#000000\" d=\"M871.4992,-248.2615C862.0385,-238.0253 846.9626,-221.7137 835.4741,-209.2835\"/>\n<polygon fill=\"#000000\" stroke=\"#000000\" points=\"837.8955,-206.7467 828.5377,-201.7785 832.7548,-211.4979 837.8955,-206.7467\"/>\n</g>\n<!-- 140514457766416 -->\n<g id=\"node53\" class=\"node\">\n<title>140514457766416</title>\n<polygon fill=\"#d3d3d3\" stroke=\"#000000\" points=\"940,-333.5 839,-333.5 839,-314.5 940,-314.5 940,-333.5\"/>\n<text text-anchor=\"middle\" x=\"889.5\" y=\"-321.5\" font-family=\"monospace\" font-size=\"10.00\" fill=\"#000000\">AccumulateGrad</text>\n</g>\n<!-- 140514457766416&#45;&gt;140514457765968 -->\n<g id=\"edge51\" class=\"edge\">\n<title>140514457766416&#45;&gt;140514457765968</title>\n<path fill=\"none\" stroke=\"#000000\" d=\"M888.172,-314.2615C886.8692,-304.7077 884.8448,-289.8615 883.2025,-277.8183\"/>\n<polygon fill=\"#000000\" stroke=\"#000000\" points=\"886.6526,-277.2139 881.8334,-267.7785 879.7167,-278.1597 886.6526,-277.2139\"/>\n</g>\n<!-- 140514457354320 -->\n<g id=\"node54\" class=\"node\">\n<title>140514457354320</title>\n<polygon fill=\"#add8e6\" stroke=\"#000000\" points=\"937,-405 842,-405 842,-375 937,-375 937,-405\"/>\n<text text-anchor=\"middle\" x=\"889.5\" y=\"-393\" font-family=\"monospace\" font-size=\"10.00\" fill=\"#000000\">18.weight</text>\n<text text-anchor=\"middle\" x=\"889.5\" y=\"-382\" font-family=\"monospace\" font-size=\"10.00\" fill=\"#000000\"> (4096, 4096)</text>\n</g>\n<!-- 140514457354320&#45;&gt;140514457766416 -->\n<g id=\"edge52\" class=\"edge\">\n<title>140514457354320&#45;&gt;140514457766416</title>\n<path fill=\"none\" stroke=\"#000000\" d=\"M889.5,-374.6924C889.5,-365.5067 889.5,-353.7245 889.5,-343.8312\"/>\n<polygon fill=\"#000000\" stroke=\"#000000\" points=\"893.0001,-343.703 889.5,-333.7031 886.0001,-343.7031 893.0001,-343.703\"/>\n</g>\n<!-- 140514457765392 -->\n<g id=\"node55\" class=\"node\">\n<title>140514457765392</title>\n<polygon fill=\"#d3d3d3\" stroke=\"#000000\" points=\"970,-141 899,-141 899,-122 970,-122 970,-141\"/>\n<text text-anchor=\"middle\" x=\"934.5\" y=\"-129\" font-family=\"monospace\" font-size=\"10.00\" fill=\"#000000\">TBackward</text>\n</g>\n<!-- 140514457765392&#45;&gt;140514457765456 -->\n<g id=\"edge53\" class=\"edge\">\n<title>140514457765392&#45;&gt;140514457765456</title>\n<path fill=\"none\" stroke=\"#000000\" d=\"M915.3395,-121.9197C898.0947,-113.2973 872.524,-100.512 852.9022,-90.7011\"/>\n<polygon fill=\"#000000\" stroke=\"#000000\" points=\"854.3196,-87.4967 843.81,-86.155 851.1891,-93.7577 854.3196,-87.4967\"/>\n</g>\n<!-- 140514457764176 -->\n<g id=\"node56\" class=\"node\">\n<title>140514457764176</title>\n<polygon fill=\"#d3d3d3\" stroke=\"#000000\" points=\"989,-201.5 888,-201.5 888,-182.5 989,-182.5 989,-201.5\"/>\n<text text-anchor=\"middle\" x=\"938.5\" y=\"-189.5\" font-family=\"monospace\" font-size=\"10.00\" fill=\"#000000\">AccumulateGrad</text>\n</g>\n<!-- 140514457764176&#45;&gt;140514457765392 -->\n<g id=\"edge54\" class=\"edge\">\n<title>140514457764176&#45;&gt;140514457765392</title>\n<path fill=\"none\" stroke=\"#000000\" d=\"M937.8573,-182.2796C937.3124,-174.0376 936.5129,-161.9457 935.8308,-151.629\"/>\n<polygon fill=\"#000000\" stroke=\"#000000\" points=\"939.3065,-151.1445 935.1544,-141.3972 932.3218,-151.6064 939.3065,-151.1445\"/>\n</g>\n<!-- 140514457616288 -->\n<g id=\"node57\" class=\"node\">\n<title>140514457616288</title>\n<polygon fill=\"#add8e6\" stroke=\"#000000\" points=\"1017,-273 934,-273 934,-243 1017,-243 1017,-273\"/>\n<text text-anchor=\"middle\" x=\"975.5\" y=\"-261\" font-family=\"monospace\" font-size=\"10.00\" fill=\"#000000\">20.weight</text>\n<text text-anchor=\"middle\" x=\"975.5\" y=\"-250\" font-family=\"monospace\" font-size=\"10.00\" fill=\"#000000\"> (10, 4096)</text>\n</g>\n<!-- 140514457616288&#45;&gt;140514457764176 -->\n<g id=\"edge55\" class=\"edge\">\n<title>140514457616288&#45;&gt;140514457764176</title>\n<path fill=\"none\" stroke=\"#000000\" d=\"M966.9185,-242.6924C961.5474,-233.1116 954.5928,-220.7061 948.9079,-210.5655\"/>\n<polygon fill=\"#000000\" stroke=\"#000000\" points=\"951.8827,-208.7143 943.9396,-201.7031 945.7767,-212.1374 951.8827,-208.7143\"/>\n</g>\n</g>\n</svg>\n"
          },
          "metadata": {
            "tags": []
          }
        }
      ]
    },
    {
      "cell_type": "code",
      "metadata": {
        "colab": {
          "base_uri": "https://localhost:8080/"
        },
        "id": "--delmYHz9A1",
        "outputId": "9fe49dfb-a6aa-4257-cfeb-e4071dc3aba1"
      },
      "source": [
        "#enumerating testdata with batch index of source and the target\n",
        "testdata_ex = enumerate(Testdata_Loader)\n",
        "batch_idx, (Val_ex_data, Val_ex_targets) = next(testdata_ex)\n",
        "#printing the shape of the indexed data\n",
        "print(Val_ex_data.shape)"
      ],
      "execution_count": 5,
      "outputs": [
        {
          "output_type": "stream",
          "text": [
            "torch.Size([32, 1, 224, 224])\n"
          ],
          "name": "stdout"
        }
      ]
    },
    {
      "cell_type": "markdown",
      "metadata": {
        "id": "gMNTIPrRLhRz"
      },
      "source": [
        "##**Setting Hyperparameters**"
      ]
    },
    {
      "cell_type": "code",
      "metadata": {
        "id": "j4l9WyqDwVoS"
      },
      "source": [
        "#Initialization of Hyperparameters\n",
        "#Number of epochs\n",
        "EPOCHS = 10\n",
        "#Batch size and the learning rate\n",
        "batch_size= 32\n",
        "Learning_rate= 0.1\n",
        "#Loss Function\n",
        "Loss_criterion_function = torch.nn.CrossEntropyLoss()\n",
        "device =torch.device('cuda' if torch.cuda.is_available() else 'cpu')"
      ],
      "execution_count": 6,
      "outputs": []
    },
    {
      "cell_type": "code",
      "metadata": {
        "id": "Y22TMbheV4xV"
      },
      "source": [
        "#For storing the generated train and test accuracy and plotting\n",
        "def show_train_hist(hist, show=False, save=False, path='Train_hist.png'):\n",
        "    x = range(len(hist['train_accuracy']))\n",
        "    y1 = hist['train_accuracy']\n",
        "    y2 = hist['test_accuracy']\n",
        "    #plotting\n",
        "    plt.plot(x, y1, label='train_accuracy')\n",
        "    plt.plot(x, y2, label='test_accuracy')\n",
        "    plt.xlabel('Epoch')\n",
        "    plt.ylabel('Accuracy')\n",
        "    plt.legend(loc=4)\n",
        "    plt.grid(True)\n",
        "    plt.tight_layout()\n",
        "    #saving the generated outputs\n",
        "    if save:\n",
        "        plt.savefig(path)\n",
        "    if show:\n",
        "        plt.show()\n",
        "    else:\n",
        "        plt.close()"
      ],
      "execution_count": 7,
      "outputs": []
    },
    {
      "cell_type": "markdown",
      "metadata": {
        "id": "bIdS162yL3zX"
      },
      "source": [
        "##**Evaluation --> Training and Testing**"
      ]
    },
    {
      "cell_type": "code",
      "metadata": {
        "id": "dn0vWKVBW7wA"
      },
      "source": [
        "#Test Accuracy and loss Evaluation\n",
        "def Evaluate_Accuracy(dataset_eval_iteration, Network_arch, Loss_criterion_function, device=device): \n",
        "  #Evaluate accuracy of a model on the testset\n",
        "  #In evaluation mode, we will be using the dropout and normalization layers\n",
        "  testset_initial=len(dataset_eval_iteration.dataset)\n",
        "  test_loss=0\n",
        "  test_accuracy=0\n",
        "  Network_arch.eval()\n",
        "  with torch.no_grad():\n",
        "    for X, y in dataset_eval_iteration:\n",
        "        #transfer the produced data to the device\n",
        "        X = X.to(device)\n",
        "        y = y.to(device)   \n",
        "        outputs = Network_arch(X)\n",
        "        #calculating the test accuracy and loss and appending it                                                   \n",
        "        test_loss += Loss_criterion_function(outputs,y).item()                 \n",
        "        test_accuracy += (outputs.argmax(1) == y).type(torch.float).sum().item()  \n",
        "  test_accuracy = test_accuracy/testset_initial  \n",
        "  test_loss /= testset_initial\n",
        "  return test_accuracy, test_loss"
      ],
      "execution_count": 8,
      "outputs": []
    },
    {
      "cell_type": "code",
      "metadata": {
        "id": "mCOgT9HN09iS"
      },
      "source": [
        "#Cross validating the predicted values for plotting the confusion matrix and predict the correct and incorrect samples\n",
        "def Cross_validate_predicted_data(Network_arch, dataset_eval_iteration):\n",
        "    Data_pics_label = []\n",
        "    Data_pics_val = []\n",
        "    Network_arch.eval()\n",
        "    for X, y in dataset_eval_iteration:\n",
        "      X = X.to(device)\n",
        "      y = y.to(device)\n",
        "      prediction = Network_arch(X)\n",
        "      with torch.no_grad():\n",
        "            Final_predict = F.softmax(prediction, dim = -1)\n",
        "            Data_pics_label.append(y.cpu())\n",
        "            Data_pics_val.append(Final_predict.cpu())\n",
        "    out1 = torch.cat(Data_pics_label)\n",
        "    out2 = torch.cat(Data_pics_val)\n",
        "    return out1, out2"
      ],
      "execution_count": 9,
      "outputs": []
    },
    {
      "cell_type": "code",
      "metadata": {
        "colab": {
          "base_uri": "https://localhost:8080/"
        },
        "id": "vlxliRglwkbt",
        "outputId": "fd6c1715-16ca-4cec-c2fe-e87285eb04aa"
      },
      "source": [
        "#Training and Evaluating the model \n",
        "#Training is performed on the train dataset\n",
        "#Testing (Evaluation) is performed in the test dataset\n",
        "#Train and evaluate the model using the device GPU or else with CPU\n",
        "def training(Network_arch, Load_MNIST_traindata, Load_MNIST_testdata, Loss_criterion_function, EPOCHS, batch_size, device, Learning_rate=None):    \n",
        "    print(\"---------------------------------------------------\")\n",
        "    print(\"Model Training and Testing Start date:\", date)\n",
        "    print(\"Model Training and Testing starting time:\", Time)\n",
        "    print(\"---------------------------------------------------\")\n",
        "    print('AlexNet Architecture Training and Testing Begins!')\n",
        "    Network_arch.to(device)\n",
        "    #Initialization of the optimizer\n",
        "    optimizer = optim.SGD(Network_arch.parameters(), lr=Learning_rate)\n",
        "    #FOR CALCULATING THE EPOCHS\n",
        "    for Epoch in range(EPOCHS):\n",
        "        #Network is trained on the training mode\n",
        "        Network_arch.train()\n",
        "        cv = 0\n",
        "        ep_start = time.time()\n",
        "        Sum_training_Loss = torch.tensor([0.0], device=device)\n",
        "        Sum_training_Accuracy = torch.tensor([0.0], device=device)\n",
        "        #FOR CALCULATING THE TRAIN LOSS AND TRAIN ACCURACY\n",
        "        for X, y in Load_MNIST_traindata:\n",
        "            optimizer.zero_grad()\n",
        "            X = X.to(device) \n",
        "            y = y.to(device)\n",
        "            conv_y = Network_arch(X)\n",
        "            final_end_loss = Loss_criterion_function(conv_y, y)\n",
        "            final_end_loss.backward()\n",
        "            optimizer.step()\n",
        "            with torch.no_grad():\n",
        "                y = y.long()\n",
        "                Sum_training_Loss += final_end_loss.float()\n",
        "                Sum_training_Accuracy += (torch.sum((torch.argmax(conv_y, dim=1) == y))).float()\n",
        "                cv += y.shape[0]\n",
        "                final_loss = Sum_training_Loss/cv\n",
        "                final_train_accuracy = Sum_training_Accuracy/cv\n",
        "                #final_train_accuracy_out =final_train_accuracy.to('cpu').numpy()\n",
        "        #FOR CALCULATING THE TEST ACCURACY and loss\n",
        "        final_test_accuracy, final_test_loss = Evaluate_Accuracy(Load_MNIST_testdata, Network_arch, Loss_criterion_function, device) \n",
        "        Start_Time=datetime.now()\n",
        "        train_test_Start_Time = Start_Time.strftime(\"%H:%M:%S\")\n",
        "        print(\"-------------------------------------------------------------------------------------------------------------------------------------------\")\n",
        "        #print(f'Epoch_start_time: {train_test_Start_Time}')\n",
        "        print('Epoch--> %d\\t Train_Loss: %.4f\\t Train_Accuracy: %.2f\\t    Test_Loss: %.4f\\t  Test_Accuracy: %.2f\\t  Time_Duration: %.1f sec\\t' % (Epoch + 1, final_loss, final_train_accuracy*100, final_test_loss, final_test_accuracy*100, time.time() - ep_start))\n",
        "        print(\"-------------------------------------------------------------------------------------------------------------------------------------------\")\n",
        "        save_dir = './CV_miniproject_results/'\n",
        "        #Creating a folder to store the results\n",
        "        if not os.path.exists(save_dir):\n",
        "          os.mkdir(save_dir)\n",
        "        #Storing and tracking the outputs and plotting\n",
        "        train_hist = {}\n",
        "        train_hist['train_accuracy'] = []\n",
        "        train_hist['test_accuracy'] = []\n",
        "        train_hist['train_accuracy'].append(final_train_accuracy)\n",
        "        train_hist['test_accuracy'].append(final_test_accuracy)\n",
        "        #saving outputs to the created directory\n",
        "        with open(save_dir + '/train_hist.pkl', 'wb') as f:\n",
        "          pickle.dump(train_hist, f)\n",
        "        show_train_hist(train_hist, save=True, path=save_dir + '/CV_miniproject_Train_hist.png')\n",
        "\n",
        "#Training and evaluating the Network model \n",
        "AlexNet_History = training(Network_arch, Traindata_Loader, Testdata_Loader, Loss_criterion_function, EPOCHS, batch_size, device, Learning_rate)\n",
        "End_Time=datetime.now()\n",
        "end_date = End_Time.strftime(\"%d/%m/%Y\")\n",
        "end_time = End_Time.strftime(\"%H:%M:%S\")\n",
        "print('AlexNet Architecture Training and Testing Completed!')\n",
        "print(\"--------------------------------------------------\")\n",
        "print(\"Model Training and Testing End date:\", end_date)\n",
        "print(\"Model Training and Testing End time:\", end_time)\n",
        "print(\"--------------------------------------------------\")"
      ],
      "execution_count": 10,
      "outputs": [
        {
          "output_type": "stream",
          "text": [
            "---------------------------------------------------\n",
            "Model Training and Testing Start date: 17/05/2021\n",
            "Model Training and Testing starting time: 07:56:42\n",
            "---------------------------------------------------\n",
            "AlexNet Architecture Training and Testing Begins!\n",
            "-------------------------------------------------------------------------------------------------------------------------------------------\n",
            "Epoch--> 1\t Train_Loss: 0.0098\t Train_Accuracy: 89.50\t    Test_Loss: 0.0010\t  Test_Accuracy: 98.91\t  Time_Duration: 36.1 sec\t\n",
            "-------------------------------------------------------------------------------------------------------------------------------------------\n",
            "-------------------------------------------------------------------------------------------------------------------------------------------\n",
            "Epoch--> 2\t Train_Loss: 0.0014\t Train_Accuracy: 98.66\t    Test_Loss: 0.0008\t  Test_Accuracy: 99.14\t  Time_Duration: 35.9 sec\t\n",
            "-------------------------------------------------------------------------------------------------------------------------------------------\n",
            "-------------------------------------------------------------------------------------------------------------------------------------------\n",
            "Epoch--> 3\t Train_Loss: 0.0009\t Train_Accuracy: 99.10\t    Test_Loss: 0.0009\t  Test_Accuracy: 99.04\t  Time_Duration: 35.9 sec\t\n",
            "-------------------------------------------------------------------------------------------------------------------------------------------\n",
            "-------------------------------------------------------------------------------------------------------------------------------------------\n",
            "Epoch--> 4\t Train_Loss: 0.0007\t Train_Accuracy: 99.32\t    Test_Loss: 0.0007\t  Test_Accuracy: 99.26\t  Time_Duration: 35.9 sec\t\n",
            "-------------------------------------------------------------------------------------------------------------------------------------------\n",
            "-------------------------------------------------------------------------------------------------------------------------------------------\n",
            "Epoch--> 5\t Train_Loss: 0.0006\t Train_Accuracy: 99.40\t    Test_Loss: 0.0008\t  Test_Accuracy: 99.27\t  Time_Duration: 36.0 sec\t\n",
            "-------------------------------------------------------------------------------------------------------------------------------------------\n",
            "-------------------------------------------------------------------------------------------------------------------------------------------\n",
            "Epoch--> 6\t Train_Loss: 0.0004\t Train_Accuracy: 99.58\t    Test_Loss: 0.0006\t  Test_Accuracy: 99.41\t  Time_Duration: 36.0 sec\t\n",
            "-------------------------------------------------------------------------------------------------------------------------------------------\n",
            "-------------------------------------------------------------------------------------------------------------------------------------------\n",
            "Epoch--> 7\t Train_Loss: 0.0004\t Train_Accuracy: 99.64\t    Test_Loss: 0.0007\t  Test_Accuracy: 99.40\t  Time_Duration: 36.0 sec\t\n",
            "-------------------------------------------------------------------------------------------------------------------------------------------\n",
            "-------------------------------------------------------------------------------------------------------------------------------------------\n",
            "Epoch--> 8\t Train_Loss: 0.0003\t Train_Accuracy: 99.66\t    Test_Loss: 0.0006\t  Test_Accuracy: 99.42\t  Time_Duration: 35.9 sec\t\n",
            "-------------------------------------------------------------------------------------------------------------------------------------------\n",
            "-------------------------------------------------------------------------------------------------------------------------------------------\n",
            "Epoch--> 9\t Train_Loss: 0.0003\t Train_Accuracy: 99.74\t    Test_Loss: 0.0008\t  Test_Accuracy: 99.25\t  Time_Duration: 35.9 sec\t\n",
            "-------------------------------------------------------------------------------------------------------------------------------------------\n",
            "-------------------------------------------------------------------------------------------------------------------------------------------\n",
            "Epoch--> 10\t Train_Loss: 0.0002\t Train_Accuracy: 99.76\t    Test_Loss: 0.0006\t  Test_Accuracy: 99.43\t  Time_Duration: 35.9 sec\t\n",
            "-------------------------------------------------------------------------------------------------------------------------------------------\n",
            "AlexNet Architecture Training and Testing Completed!\n",
            "--------------------------------------------------\n",
            "Model Training and Testing End date: 17/05/2021\n",
            "Model Training and Testing End time: 08:03:01\n",
            "--------------------------------------------------\n"
          ],
          "name": "stdout"
        }
      ]
    },
    {
      "cell_type": "code",
      "metadata": {
        "id": "QI34R54P93QY",
        "colab": {
          "base_uri": "https://localhost:8080/"
        },
        "outputId": "616eaf4d-4709-40b2-b564-f3fe3fb1b52c"
      },
      "source": [
        "#getting the output of the tensor(weights)\n",
        "with torch.no_grad():\n",
        "  Network_arch.to('cpu')\n",
        "  final_tensor_output = Network_arch(Val_ex_data)\n",
        "#printing the output\n",
        "print(final_tensor_output)"
      ],
      "execution_count": 11,
      "outputs": [
        {
          "output_type": "stream",
          "text": [
            "tensor([[-7.6249e+00,  1.0059e+00,  1.1973e+00, -2.6754e+00,  3.9763e+00,\n",
            "         -3.6953e+00, -7.8596e+00,  1.8924e+01, -6.5516e+00,  3.4649e+00],\n",
            "        [ 1.3807e-01, -5.3370e-02,  2.1987e+01, -1.1629e+00, -2.3096e+00,\n",
            "         -7.7759e+00, -2.6024e+00, -1.5471e+00, -1.7830e+00, -4.9020e+00],\n",
            "        [-2.6152e+00,  1.3773e+01, -8.1670e-01, -5.5287e+00,  4.1442e-01,\n",
            "         -2.2520e+00, -1.2684e+00,  6.8733e-01,  1.2432e-01, -2.0837e+00],\n",
            "        [ 1.6454e+01, -5.6985e+00, -9.0923e-01, -3.1379e+00, -3.3360e+00,\n",
            "         -1.8428e+00,  7.2593e-01, -2.8564e+00,  2.3262e-01, -5.1966e-01],\n",
            "        [-3.8643e+00, -1.4508e+00, -2.9244e+00, -6.2608e+00,  1.5987e+01,\n",
            "         -2.3011e+00, -2.2629e-02, -2.3354e+00, -1.7772e+00,  5.2068e+00],\n",
            "        [-2.5098e+00,  1.5261e+01, -1.8034e+00, -6.3794e+00,  6.3427e-01,\n",
            "         -2.9012e+00, -2.4122e+00,  1.2867e+00,  1.1796e+00, -1.9409e+00],\n",
            "        [-5.9531e+00, -1.3547e+00, -2.9002e+00, -6.4903e+00,  1.5459e+01,\n",
            "         -1.8656e+00, -2.1234e+00, -1.0544e-01,  1.2193e+00,  4.6302e+00],\n",
            "        [-2.6426e+00, -3.4566e+00, -4.7252e+00,  2.0981e+00,  2.8242e+00,\n",
            "         -7.3180e-01, -7.7630e+00, -1.2848e+00, -1.9305e+00,  1.7996e+01],\n",
            "        [-2.7159e+00, -3.9522e+00, -5.8429e+00, -1.6255e+00, -3.1551e+00,\n",
            "          1.2783e+01,  3.8703e+00, -5.7351e+00,  5.7335e+00,  7.3148e-02],\n",
            "        [-4.2392e+00, -4.5977e+00, -6.8230e+00, -2.2189e+00,  7.3528e+00,\n",
            "         -2.3405e+00, -9.0989e+00,  2.3040e+00, -1.8965e+00,  2.2229e+01],\n",
            "        [ 2.2240e+01, -7.9011e+00,  1.2655e+00, -4.9400e+00, -4.1091e+00,\n",
            "         -3.0004e+00, -9.5487e-01, -3.6767e+00, -2.0918e-01, -1.6059e-01],\n",
            "        [ 6.1182e+00, -3.8122e+00, -4.3159e+00, -7.1943e+00, -2.0473e-01,\n",
            "          4.0351e+00,  2.0754e+01, -1.1096e+01,  9.5486e-01, -6.3889e+00],\n",
            "        [-3.3865e+00, -3.4546e+00, -5.0010e+00, -8.6693e-01,  5.3761e+00,\n",
            "         -2.2056e+00, -6.7885e+00,  1.0222e+00, -1.2165e+00,  1.6918e+01],\n",
            "        [ 2.0517e+01, -6.3603e+00, -5.3635e-01, -4.3456e+00, -4.2038e+00,\n",
            "         -1.7886e+00, -4.8533e-01, -2.7842e+00, -5.0203e-01, -6.1687e-01],\n",
            "        [-4.2496e+00,  1.6140e+01, -2.0999e+00, -5.1044e+00,  3.8366e-01,\n",
            "         -1.7415e+00, -2.2171e+00,  1.6844e+00, -1.2637e+00, -1.1015e+00],\n",
            "        [-4.2069e+00, -2.7640e+00, -6.1905e+00,  6.1056e+00, -5.5341e+00,\n",
            "          1.7339e+01, -6.7338e-01, -3.5374e+00, -1.0681e+00,  6.2007e-01],\n",
            "        [-2.7543e+00, -4.8520e+00, -5.0233e+00, -1.0628e+00,  5.1012e+00,\n",
            "         -3.7165e+00, -7.8727e+00,  1.9313e+00, -1.7490e+00,  2.0300e+01],\n",
            "        [-7.3275e+00,  6.4197e-02,  1.2984e+00, -2.0575e+00,  3.2304e+00,\n",
            "         -3.5463e+00, -8.1572e+00,  1.9329e+01, -6.8029e+00,  4.3178e+00],\n",
            "        [-4.5913e+00,  5.8726e-02, -2.1943e-01,  1.1242e+01, -4.4285e+00,\n",
            "          2.7422e+00, -2.5312e+00, -9.7679e-01, -4.7696e-01, -4.2071e-01],\n",
            "        [-7.3428e+00, -1.4564e+00, -2.1476e+00, -9.1407e+00,  2.3909e+01,\n",
            "         -2.9583e+00, -1.4399e+00, -6.7107e-01, -3.2467e+00,  4.7834e+00],\n",
            "        [-3.7791e+00, -2.4693e+00, -5.6930e+00, -1.3207e+00,  5.9536e+00,\n",
            "         -1.4600e+00, -7.0273e+00,  1.2967e+00, -2.1940e+00,  1.7256e+01],\n",
            "        [ 2.0623e+00, -3.3032e+00, -4.7134e+00, -5.8753e+00, -1.4995e+00,\n",
            "          7.3089e+00,  1.8793e+01, -9.9944e+00,  1.6800e+00, -5.6169e+00],\n",
            "        [ 3.8806e+00, -3.9645e+00, -4.8785e+00, -8.5245e+00,  2.3480e+00,\n",
            "          4.7541e+00,  2.2215e+01, -1.1591e+01,  5.5851e-01, -5.9037e+00],\n",
            "        [-4.7301e+00, -5.1580e+00, -9.5063e+00,  3.1170e+00, -5.7893e+00,\n",
            "          2.4371e+01,  1.4975e-01, -6.6693e+00,  2.3469e-01,  3.7297e+00],\n",
            "        [-4.1073e+00, -2.1545e+00, -2.3930e+00, -5.6247e+00,  1.4340e+01,\n",
            "         -2.3252e+00, -6.5592e-01, -8.0248e-01, -1.4164e+00,  5.4285e+00],\n",
            "        [ 1.4064e+01, -4.5296e+00,  1.3111e-01, -3.1075e+00, -1.5540e+00,\n",
            "         -1.8661e+00, -2.7574e-01, -2.5736e+00, -6.5835e-01, -4.4755e-01],\n",
            "        [-6.1726e+00, -8.0906e-03,  9.0602e-01, -1.4298e+00,  2.0231e+00,\n",
            "         -2.2427e+00, -7.3163e+00,  1.6821e+01, -6.3706e+00,  4.2786e+00],\n",
            "        [-7.2630e+00, -2.4423e+00, -2.4033e+00, -9.9328e+00,  2.6875e+01,\n",
            "         -3.0767e+00, -1.0461e+00, -2.2876e+00, -3.6142e+00,  5.7210e+00],\n",
            "        [ 1.7139e+01, -5.4250e+00,  1.1780e+00, -2.8936e+00, -3.2569e+00,\n",
            "         -1.5997e+00, -1.2547e+00, -3.0600e+00, -3.8367e-01, -1.5284e+00],\n",
            "        [-3.2778e+00,  1.2806e+01, -4.4570e-01, -4.1229e+00,  5.6781e-01,\n",
            "         -2.8774e+00, -2.6711e+00,  2.0072e+00, -1.0477e+00, -5.5267e-01],\n",
            "        [-1.1814e+01,  1.7730e+00, -4.8726e+00,  2.6148e+01, -8.7941e+00,\n",
            "          8.2489e+00, -6.2381e+00, -9.4377e-01, -4.4407e+00,  1.8864e+00],\n",
            "        [-3.4353e+00,  1.3130e+01, -1.6531e+00, -5.3593e+00,  1.6600e+00,\n",
            "         -2.6189e+00, -3.4535e+00,  2.7006e+00, -8.4351e-01,  3.3242e-01]])\n"
          ],
          "name": "stdout"
        }
      ]
    },
    {
      "cell_type": "code",
      "metadata": {
        "colab": {
          "base_uri": "https://localhost:8080/",
          "height": 336
        },
        "id": "FpD3P8EPJjQy",
        "outputId": "4b2f3115-9694-4c92-ff1a-3cc25cc01459"
      },
      "source": [
        "#histogram for the tensor values\n",
        "sns.distplot(final_tensor_output)"
      ],
      "execution_count": 12,
      "outputs": [
        {
          "output_type": "stream",
          "text": [
            "/usr/local/lib/python3.7/dist-packages/seaborn/distributions.py:2557: FutureWarning: `distplot` is a deprecated function and will be removed in a future version. Please adapt your code to use either `displot` (a figure-level function with similar flexibility) or `histplot` (an axes-level function for histograms).\n",
            "  warnings.warn(msg, FutureWarning)\n"
          ],
          "name": "stderr"
        },
        {
          "output_type": "execute_result",
          "data": {
            "text/plain": [
              "<matplotlib.axes._subplots.AxesSubplot at 0x7fcc0a0da490>"
            ]
          },
          "metadata": {
            "tags": []
          },
          "execution_count": 12
        },
        {
          "output_type": "display_data",
          "data": {
            "image/png": "[encoded data removed]",
            "text/plain": [
              "<Figure size 432x288 with 1 Axes>"
            ]
          },
          "metadata": {
            "tags": [],
            "needs_background": "light"
          }
        }
      ]
    },
    {
      "cell_type": "markdown",
      "metadata": {
        "id": "rI6hh9aRM3Yj"
      },
      "source": [
        "##**Verification --> How well our Network predicts the data accurately**"
      ]
    },
    {
      "cell_type": "code",
      "metadata": {
        "colab": {
          "base_uri": "https://localhost:8080/",
          "height": 117
        },
        "id": "s3G9PJiocgsO",
        "outputId": "7153675a-fc5f-4de0-f095-3d038299624c"
      },
      "source": [
        "#for testing our model after training, we have printed the classes of MNIST data for the groundtruth image \n",
        "#In the evaluation phase we printed the classes of MNIST data with their predicted class\n",
        "#we compare how correctly it predicted the classes between orginal and the predicted data\n",
        "MNIST_Class = ('0', '1', '2', '3', '4','5', '6', '7', '8', '9')\n",
        "device =torch.device('cpu')\n",
        "for X, y in Testdata_Loader:\n",
        "  X = X[:6]\n",
        "  y = y[:6] \n",
        "  def imshow(figure):\n",
        "    figure = figure\n",
        "    plt.xticks([])\n",
        "    plt.yticks([])\n",
        "    plt.tight_layout()\n",
        "    plt.imshow(np.transpose(figure.numpy(), (1,2,0)))\n",
        "    plt.show()\n",
        "#Plotting the Groundtruth image\n",
        "center = \"GROUNDTRUTH IMAGE\"\n",
        "print(\"{center:^10}\".format(center=center))\n",
        "imshow(make_grid(X))"
      ],
      "execution_count": 13,
      "outputs": [
        {
          "output_type": "stream",
          "text": [
            "GROUNDTRUTH IMAGE\n"
          ],
          "name": "stdout"
        },
        {
          "output_type": "display_data",
          "data": {
            "image/png": "[encoded data removed]",
            "text/plain": [
              "<Figure size 432x288 with 1 Axes>"
            ]
          },
          "metadata": {
            "tags": []
          }
        }
      ]
    },
    {
      "cell_type": "code",
      "metadata": {
        "colab": {
          "base_uri": "https://localhost:8080/"
        },
        "id": "pvHTogS_Jaky",
        "outputId": "5053a97c-315e-4305-f50f-7aa5c804822b"
      },
      "source": [
        "#Getting the predicted classes\n",
        "Final_Out = Network_arch(X)\n",
        "_, prediction = torch.max(Final_Out, 1)\n",
        "#printing the classes of groundtruth data\n",
        "print(\"----------------------------------------\")\n",
        "print('Orginal images classes: ',' '.join(MNIST_Class[y[GT_data_out]] for GT_data_out in range(6)))\n",
        "print(\"----------------------------------------\")\n",
        "#printing the classes of prediction data\n",
        "print('Predicted images classes: ',' '.join(MNIST_Class[prediction[Pred_data_out]] for Pred_data_out in range(6)))\n",
        "print(\"----------------------------------------\")"
      ],
      "execution_count": 14,
      "outputs": [
        {
          "output_type": "stream",
          "text": [
            "----------------------------------------\n",
            "Orginal images classes:  1 2 3 4 5 6\n",
            "----------------------------------------\n",
            "Predicted images classes:  1 2 3 4 5 6\n",
            "----------------------------------------\n"
          ],
          "name": "stdout"
        }
      ]
    },
    {
      "cell_type": "code",
      "metadata": {
        "colab": {
          "base_uri": "https://localhost:8080/"
        },
        "id": "C2s3QDyMcgpw",
        "outputId": "5f6d3e85-8d01-4b66-826c-a289f87c5496"
      },
      "source": [
        "#Calculating the induvidual accuracy of Each classes defined\n",
        "accurate_class_pred = list(range(10))\n",
        "Combined_class_accurate = list(range(10))\n",
        "with torch.no_grad():\n",
        "    for X, y in Testdata_Loader:\n",
        "      X = X.to(device) \n",
        "      y = y.to(device)\n",
        "      Final_Out = Network_arch(X)\n",
        "      _, Induvidual_class_prediction = torch.max(Final_Out, 1)\n",
        "      CIF_out = (Induvidual_class_prediction == y)\n",
        "      for Induvidual_out in range(6):\n",
        "        accurate_class_pred[y[Induvidual_out]] += CIF_out[Induvidual_out].item()\n",
        "        Combined_class_accurate[y[Induvidual_out]] += 1 \n",
        "#Printing the accuracy of Each classes       \n",
        "for Induvidual_class_accuracy in range(10):\n",
        "  print(\"---------------------------\")\n",
        "  print('Accuracy of %5s : %d %%' % (MNIST_Class[Induvidual_class_accuracy], accurate_class_pred[Induvidual_class_accuracy] / Combined_class_accurate[Induvidual_class_accuracy] *100))\n",
        "  print(\"---------------------------\")"
      ],
      "execution_count": 15,
      "outputs": [
        {
          "output_type": "stream",
          "text": [
            "---------------------------\n",
            "Accuracy of     0 : 99 %\n",
            "---------------------------\n",
            "---------------------------\n",
            "Accuracy of     1 : 99 %\n",
            "---------------------------\n",
            "---------------------------\n",
            "Accuracy of     2 : 99 %\n",
            "---------------------------\n",
            "---------------------------\n",
            "Accuracy of     3 : 99 %\n",
            "---------------------------\n",
            "---------------------------\n",
            "Accuracy of     4 : 100 %\n",
            "---------------------------\n",
            "---------------------------\n",
            "Accuracy of     5 : 97 %\n",
            "---------------------------\n",
            "---------------------------\n",
            "Accuracy of     6 : 98 %\n",
            "---------------------------\n",
            "---------------------------\n",
            "Accuracy of     7 : 99 %\n",
            "---------------------------\n",
            "---------------------------\n",
            "Accuracy of     8 : 100 %\n",
            "---------------------------\n",
            "---------------------------\n",
            "Accuracy of     9 : 99 %\n",
            "---------------------------\n"
          ],
          "name": "stdout"
        }
      ]
    },
    {
      "cell_type": "code",
      "metadata": {
        "id": "nOpEhbi01R7F"
      },
      "source": [
        "#Seperating the correct and incorrect predictions and appending it to a seperate list\n",
        "Correct_Data = []\n",
        "Incorrect_Data = []\n",
        "Label_for_pic, Prediction = Cross_validate_predicted_data(Network_arch, Testdata_Loader)\n",
        "Predicted_label = torch.argmax(Prediction, 1)\n",
        "MNIST_Classes = MNIST_testdata.classes\n",
        "Accurate_prediction = torch.eq(Label_for_pic, Predicted_label)\n",
        "for i, j, Correct_data_prediction in zip(Label_for_pic, Prediction, Accurate_prediction):\n",
        "    if Correct_data_prediction:\n",
        "      Correct_Data.append((i, j))\n",
        "    else:\n",
        "      Incorrect_Data.append((i, j))\n",
        "#Randomly sorting the samples\n",
        "Correct_Data.sort(key = lambda Correct_samples: torch.max(Correct_samples[1], -1).values)\n",
        "Incorrect_Data.sort(key = lambda Incorrect_samples: torch.max(Incorrect_samples[1], -1).values)"
      ],
      "execution_count": 16,
      "outputs": []
    },
    {
      "cell_type": "markdown",
      "metadata": {
        "id": "WJLC-G-617nb"
      },
      "source": [
        "**Examples of Correct Predictions**"
      ]
    },
    {
      "cell_type": "code",
      "metadata": {
        "colab": {
          "base_uri": "https://localhost:8080/"
        },
        "id": "LLKKgZRi1RzZ",
        "outputId": "545e43c4-35e6-45be-81cc-8f752a242597"
      },
      "source": [
        "#Examples of Correct Prediction\n",
        "def Correct_Prediction(Correct_label_predict, MNIST_Classes):\n",
        "    for Sample in range(1*5):\n",
        "        Correct_Label, Prediction = Correct_label_predict[Sample]\n",
        "        Correct_pred, Correctly_predicted_label = torch.max(Prediction, -1)\n",
        "        Original_class = MNIST_Classes[Correct_Label]\n",
        "        Correctly_Predicted_class = MNIST_Classes[Correctly_predicted_label ]\n",
        "        print(\"------------------------------------\")\n",
        "        print(f'Orginal images class   :  {Original_class}')\n",
        "        print(\"------------------------------------\")\n",
        "        print(f'Predicted images class :  {Correctly_Predicted_class}')\n",
        "        print(\"------------------------------------\")\n",
        "Correct_Prediction(Correct_Data, MNIST_Classes)"
      ],
      "execution_count": 17,
      "outputs": [
        {
          "output_type": "stream",
          "text": [
            "------------------------------------\n",
            "Orginal images class   :  6 - six\n",
            "------------------------------------\n",
            "Predicted images class :  6 - six\n",
            "------------------------------------\n",
            "------------------------------------\n",
            "Orginal images class   :  9 - nine\n",
            "------------------------------------\n",
            "Predicted images class :  9 - nine\n",
            "------------------------------------\n",
            "------------------------------------\n",
            "Orginal images class   :  6 - six\n",
            "------------------------------------\n",
            "Predicted images class :  6 - six\n",
            "------------------------------------\n",
            "------------------------------------\n",
            "Orginal images class   :  7 - seven\n",
            "------------------------------------\n",
            "Predicted images class :  7 - seven\n",
            "------------------------------------\n",
            "------------------------------------\n",
            "Orginal images class   :  7 - seven\n",
            "------------------------------------\n",
            "Predicted images class :  7 - seven\n",
            "------------------------------------\n"
          ],
          "name": "stdout"
        }
      ]
    },
    {
      "cell_type": "markdown",
      "metadata": {
        "id": "4yCzbKca1z6j"
      },
      "source": [
        "**Examples of Incorrect Predictions**"
      ]
    },
    {
      "cell_type": "code",
      "metadata": {
        "colab": {
          "base_uri": "https://localhost:8080/"
        },
        "id": "SgTJ8DRE1Rsk",
        "outputId": "ed3bb8ce-66d2-4ba0-c2de-56b9898af097"
      },
      "source": [
        "#Examples of Incorrect Prediction\n",
        "def Incorrect_Prediction(Incorrect_label_predict, MNIST_Classes):\n",
        "    for Sample in range(1*5):\n",
        "        Incorrect_Label, Prediction = Incorrect_label_predict[Sample]\n",
        "        Incorrect_pred, Incorrectly_predicted_label = torch.max(Prediction, -1)\n",
        "        Original_class = MNIST_Classes[Incorrect_Label]\n",
        "        Incorrectly_Predicted_class = MNIST_Classes[Incorrectly_predicted_label ]\n",
        "        print(\"------------------------------------\")\n",
        "        print(f'Orginal images class   :  {Original_class}')\n",
        "        print(\"------------------------------------\")\n",
        "        print(f'Predicted images class :  {Incorrectly_Predicted_class}')\n",
        "        print(\"------------------------------------\")\n",
        "Correct_Prediction(Incorrect_Data, MNIST_Classes)"
      ],
      "execution_count": 18,
      "outputs": [
        {
          "output_type": "stream",
          "text": [
            "------------------------------------\n",
            "Orginal images class   :  6 - six\n",
            "------------------------------------\n",
            "Predicted images class :  0 - zero\n",
            "------------------------------------\n",
            "------------------------------------\n",
            "Orginal images class   :  3 - three\n",
            "------------------------------------\n",
            "Predicted images class :  2 - two\n",
            "------------------------------------\n",
            "------------------------------------\n",
            "Orginal images class   :  7 - seven\n",
            "------------------------------------\n",
            "Predicted images class :  8 - eight\n",
            "------------------------------------\n",
            "------------------------------------\n",
            "Orginal images class   :  1 - one\n",
            "------------------------------------\n",
            "Predicted images class :  2 - two\n",
            "------------------------------------\n",
            "------------------------------------\n",
            "Orginal images class   :  9 - nine\n",
            "------------------------------------\n",
            "Predicted images class :  5 - five\n",
            "------------------------------------\n"
          ],
          "name": "stdout"
        }
      ]
    },
    {
      "cell_type": "markdown",
      "metadata": {
        "id": "rl_Qw7U-1r9J"
      },
      "source": [
        "**Confusion Matrix**"
      ]
    },
    {
      "cell_type": "code",
      "metadata": {
        "colab": {
          "base_uri": "https://localhost:8080/",
          "height": 689
        },
        "id": "aNYpSrhc1Rns",
        "outputId": "fe059d7d-d04a-442f-ee0f-05b3928c6375"
      },
      "source": [
        "#Plotting the confusion matrix\n",
        "Figure = plt.figure(figsize=(12, 12))\n",
        "Axis = Figure.add_subplot(1, 1, 1)\n",
        "Confusion_Matrix = confusion_matrix(Label_for_pic, Predicted_label)\n",
        "Confusion_Heatmap_display = ConfusionMatrixDisplay(Confusion_Matrix, MNIST_Classes)\n",
        "Final_Heatmap_for_Predicted_data = Confusion_Heatmap_display.plot(ax=Axis, values_format='d', cmap = 'Greens')"
      ],
      "execution_count": 19,
      "outputs": [
        {
          "output_type": "display_data",
          "data": {
            "image/png": "[encoded data removed]",
            "text/plain": [
              "<Figure size 864x864 with 2 Axes>"
            ]
          },
          "metadata": {
            "tags": [],
            "needs_background": "light"
          }
        }
      ]
    },
    {
      "cell_type": "code",
      "metadata": {
        "colab": {
          "base_uri": "https://localhost:8080/"
        },
        "id": "5GjBHdrRCh27",
        "outputId": "e1c19b8a-7246-4e41-f778-4c83a3e8e5d9"
      },
      "source": [
        "#I have Executed the code in Google Colab pro. so that, I have printed the usage of gpu provided\n",
        "GPU_Usage_data = !nvidia-smi\n",
        "GPU_Usage_data  = '\\n'.join(GPU_Usage_data )\n",
        "if GPU_Usage_data .find('failed') >= 0:\n",
        "  print('Select the Runtime > \"Change runtime type\" menu to enable a GPU accelerator, ')\n",
        "  print('and then re-execute this cell.')\n",
        "else:\n",
        "  print(GPU_Usage_data )"
      ],
      "execution_count": 20,
      "outputs": [
        {
          "output_type": "stream",
          "text": [
            "Mon May 17 08:05:40 2021       \n",
            "+-----------------------------------------------------------------------------+\n",
            "| NVIDIA-SMI 465.19.01    Driver Version: 460.32.03    CUDA Version: 11.2     |\n",
            "|-------------------------------+----------------------+----------------------+\n",
            "| GPU  Name        Persistence-M| Bus-Id        Disp.A | Volatile Uncorr. ECC |\n",
            "| Fan  Temp  Perf  Pwr:Usage/Cap|         Memory-Usage | GPU-Util  Compute M. |\n",
            "|                               |                      |               MIG M. |\n",
            "|===============================+======================+======================|\n",
            "|   0  Tesla P100-PCIE...  Off  | 00000000:00:04.0 Off |                    0 |\n",
            "| N/A   46C    P0    35W / 250W |   1639MiB / 16280MiB |      0%      Default |\n",
            "|                               |                      |                  N/A |\n",
            "+-------------------------------+----------------------+----------------------+\n",
            "                                                                               \n",
            "+-----------------------------------------------------------------------------+\n",
            "| Processes:                                                                  |\n",
            "|  GPU   GI   CI        PID   Type   Process name                  GPU Memory |\n",
            "|        ID   ID                                                   Usage      |\n",
            "|=============================================================================|\n",
            "+-----------------------------------------------------------------------------+\n"
          ],
          "name": "stdout"
        }
      ]
    }
  ]
}